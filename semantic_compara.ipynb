{
  "metadata" : {
    "config" : {
      "dependencies" : {
        "scala" : [
          "group.research.aging:spark-extensions_2.12:0.0.8"
        ]
      },
      "exclusions" : [
      ],
      "repositories" : [
        {
          "maven" : {
            "base" : "http://central.maven.org/maven2/"
          }
        },
        {
          "maven" : {
            "base" : "http://oss.sonatype.org/content/repositories/snapshots"
          }
        },
        {
          "maven" : {
            "base" : "https://dl.bintray.com/comp-bio-aging/main/"
          }
        }
      ],
      "sparkConfig" : {
        "master" : "http://spark:7070[16]"
      }
    }
  },
  "nbformat" : 4,
  "nbformat_minor" : 0,
  "cells" : [
    {
      "cell_type" : "code",
      "execution_count" : 0,
      "metadata" : {
        "cell.metadata.exec_info" : {
          "startTs" : 1580490853519,
          "endTs" : 1580490854035
        },
        "language" : "scala"
      },
      "language" : "scala",
      "source" : [
        "import org.apache.spark.rdd._\n",
        "import org.apache.spark.sql._\n",
        "import org.apache.spark.sql.types.StructType\n",
        "import org.apache.spark.sql.functions._\n",
        "import group.research.aging.spark.extensions._"
      ],
      "outputs" : [
      ]
    },
    {
      "cell_type" : "code",
      "execution_count" : 1,
      "metadata" : {
        "language" : "scala"
      },
      "language" : "scala",
      "source" : [
        "val homology_to_gene = spark.readTSV(\"/data/ensembl/99/website/intermediates/homology_to_gene.tsv\", false).toDF(\"homology_id\",\"gene_member_id\")\n",
        "val gene_members = spark.readTSV(\"/data/ensembl/99/compara/dump/homology.txt\", false)"
      ],
      "outputs" : [
      ]
    },
    {
      "cell_type" : "code",
      "execution_count" : 2,
      "metadata" : {
        "cell.metadata.exec_info" : {
          "startTs" : 1580315645847,
          "endTs" : 1580315945232
        },
        "language" : "scala"
      },
      "language" : "scala",
      "source" : [
        "val homologies_ortho = spark.readTSV(\"/data/ensembl/99/compara/dump/homology.txt\", false).toDF(\n",
        "    \"homology_id\",\"method_link_species_set_id\",\t\"description\",\t\"is_tree_compliant\",\"dn\",\t\"ds\",\t\"n\",\t\"s\",\t\"lnl\",\t\n",
        "    \"species_tree_node_id\",\t\"gene_tree_node_id\",\t\"gene_tree_root_id\",\t\"goc_score\",\t\"wga_coverage\", \"is_high_confidence\"\n",
        ").where($\"description\" === \"ortholog_one2one\").select(\"homology_id\", \"method_link_species_set_id\",\t\"description\", \"goc_score\",\t \"is_high_confidence\")\n",
        "homologies_one_to_one.show(30)"
      ],
      "outputs" : [
        {
          "name" : "stdout",
          "text" : [
            "+-----------+--------------------------+----------------+---------+------------------+\n",
            "|homology_id|method_link_species_set_id|     description|goc_score|is_high_confidence|\n",
            "+-----------+--------------------------+----------------+---------+------------------+\n",
            "|    3675413|                    123434|ortholog_one2one|       \\N|                 1|\n",
            "|    3675414|                    121789|ortholog_one2one|      100|                 1|\n",
            "|    3675415|                    127055|ortholog_one2one|      100|                 1|\n",
            "|    3675416|                    125877|ortholog_one2one|      100|                 1|\n",
            "|    3675417|                    125818|ortholog_one2one|      100|                 1|\n",
            "|    3675418|                    122784|ortholog_one2one|       75|                 1|\n",
            "|    3675419|                    122777|ortholog_one2one|      100|                 1|\n",
            "|    3675420|                    124957|ortholog_one2one|      100|                 1|\n",
            "|    3675421|                    122861|ortholog_one2one|       75|                 1|\n",
            "|    3675422|                    122786|ortholog_one2one|      100|                 1|\n",
            "|    3675423|                    122802|ortholog_one2one|      100|                 1|\n",
            "|    3675424|                    125637|ortholog_one2one|       75|                 1|\n",
            "|    3675425|                    125562|ortholog_one2one|      100|                 1|\n",
            "|    3675426|                    125578|ortholog_one2one|      100|                 1|\n",
            "|    3675427|                    125034|ortholog_one2one|      100|                 1|\n",
            "|    3675428|                    124959|ortholog_one2one|      100|                 1|\n",
            "|    3675429|                    124975|ortholog_one2one|       50|                 1|\n",
            "|    3675430|                    122777|ortholog_one2one|      100|                 1|\n",
            "|    3675431|                    122784|ortholog_one2one|      100|                 1|\n",
            "|    3675432|                    124957|ortholog_one2one|      100|                 1|\n",
            "|    3675433|                    125818|ortholog_one2one|      100|                 1|\n",
            "|    3675434|                    127055|ortholog_one2one|      100|                 1|\n",
            "|    3675435|                    125877|ortholog_one2one|      100|                 1|\n",
            "|    3675436|                    125637|ortholog_one2one|      100|                 1|\n",
            "|    3675437|                    122861|ortholog_one2one|      100|                 1|\n",
            "|    3675438|                    125034|ortholog_one2one|      100|                 1|\n",
            "|    3675439|                    125578|ortholog_one2one|      100|                 1|\n",
            "|    3675440|                    122802|ortholog_one2one|      100|                 1|\n",
            "|    3675441|                    124975|ortholog_one2one|      100|                 1|\n",
            "|    3675442|                    125562|ortholog_one2one|      100|                 1|\n",
            "+-----------+--------------------------+----------------+---------+------------------+\n",
            "only showing top 30 rows\n",
            "\n"
          ],
          "output_type" : "stream"
        }
      ]
    },
    {
      "cell_type" : "code",
      "execution_count" : 3,
      "metadata" : {
        "cell.metadata.exec_info" : {
          "startTs" : 1580316070924,
          "endTs" : 1580320193070
        },
        "language" : "scala"
      },
      "language" : "scala",
      "source" : [
        "homologies_one_to_one.writeTSV(\"/data/ensembl/99/website/intermediates/homologies_one_to_one.tsv\")"
      ],
      "outputs" : [
        {
          "name" : "stdout",
          "text" : [
            "parts of /data/ensembl/99/website/intermediates/homologies_one_to_one.tsv merged!\n"
          ],
          "output_type" : "stream"
        },
        {
          "execution_count" : 3,
          "data" : {
            "text/plain" : [
              "/data/ensembl/99/website/intermediates/homologies_one_to_one.tsv"
            ]
          },
          "metadata" : {
            "name" : "Out",
            "type" : "String"
          },
          "output_type" : "execute_result"
        }
      ]
    },
    {
      "cell_type" : "code",
      "execution_count" : 4,
      "metadata" : {
        "cell.metadata.exec_info" : {
          "startTs" : 1580320193072,
          "endTs" : 1580320476669
        },
        "language" : "scala"
      },
      "language" : "scala",
      "source" : [
        "homologies_one_to_one.write.parquet(\"/data/ensembl/99/website/intermediates/homologies_one_to_one.parquet\")"
      ],
      "outputs" : [
      ]
    },
    {
      "cell_type" : "code",
      "execution_count" : 5,
      "metadata" : {
        "language" : "scala"
      },
      "language" : "scala",
      "source" : [
        "val homologies.one_to_one = homologies.where($\"description\" === \"ortholog_one2one\").select(\n",
        "    \"homology_id\",\n",
        "\"method_link_species_set_id\",\t\n",
        "\"description\",\t\n",
        "\"homology_description\",\t\n",
        "\"is_tree_compliant\",\n",
        "\"dn\tdouble precision\",\t\n",
        "\"ds\tdouble precision\",\t\n",
        "\"n\tdouble precision\",\t\n",
        "\"s\tdouble precision\",\t\n",
        "\"lnl\tdouble precision\",\t\n",
        "\"goc_score\",\t\n",
        "\"wga_coverage\",\n",
        "\"is_high_confidence\")"
      ],
      "outputs" : [
      ]
    },
    {
      "cell_type" : "code",
      "execution_count" : 6,
      "metadata" : {
        "cell.metadata.exec_info" : {
          "startTs" : 1580420579527,
          "endTs" : 1580433204527
        },
        "language" : "scala"
      },
      "language" : "scala",
      "source" : [
        "val homology_to_gene = spark.readTSV(\"/data/ensembl/99/compara/dump/homology_member.txt\", false).toDF(\"homology_id\",\"gene_member_id\",\t\n",
        "\"seq_member_id\",\t\n",
        "\"cigar_line\",\t\n",
        "\"perc_cov\",\t\n",
        "\"perc_id\",\n",
        "\"perc_pos\").select(\"homology_id\",\"gene_member_id\").writeTSV(\"/data/ensembl/99/website/intermediates/homology_to_gene.tsv\", false)"
      ],
      "outputs" : [
        {
          "name" : "stdout",
          "text" : [
            "parts of /data/ensembl/99/website/intermediates/homology_to_gene.tsv merged!\n"
          ],
          "output_type" : "stream"
        }
      ]
    },
    {
      "cell_type" : "code",
      "execution_count" : 7,
      "metadata" : {
        "cell.metadata.exec_info" : {
          "startTs" : 1580490844554,
          "endTs" : 1580490844593
        },
        "language" : "scala"
      },
      "language" : "scala",
      "source" : [
        "homology_to_gene"
      ],
      "outputs" : [
        {
          "execution_count" : 7,
          "data" : {
            "application/json" : [
              {
                "pos" : {
                  "sourceId" : "Cell6",
                  "start" : 0,
                  "end" : 16,
                  "point" : 0
                },
                "msg" : "not found: value homology_to_gene",
                "severity" : 2
              }
            ],
            "text/plain" : [
              "Error: not found: value homology_to_gene (0)"
            ]
          },
          "metadata" : {
            "rel" : "compiler_errors"
          },
          "output_type" : "execute_result"
        }
      ]
    },
    {
      "cell_type" : "code",
      "execution_count" : 8,
      "metadata" : {
        "language" : "scala"
      },
      "language" : "scala",
      "source" : [
      ],
      "outputs" : [
      ]
    }
  ]
}