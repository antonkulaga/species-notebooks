{
  "metadata" : {
    "config" : {
      "dependencies" : {
        "scala" : [
          "group.research.aging:spark-extensions_2.12:0.0.8.1"
        ]
      },
      "exclusions" : [
      ],
      "repositories" : [
        {
          "maven" : {
            "base" : "http://central.maven.org/maven2/"
          }
        },
        {
          "maven" : {
            "base" : "http://oss.sonatype.org/content/repositories/snapshots"
          }
        },
        {
          "maven" : {
            "base" : "https://dl.bintray.com/comp-bio-aging/main/"
          }
        }
      ],
      "sparkConfig" : {
        "master" : "http://spark:7070[16]"
      }
    },
    "language_info" : {
      "name" : "scala"
    }
  },
  "nbformat" : 4,
  "nbformat_minor" : 0,
  "cells" : [
    {
      "cell_type" : "code",
      "execution_count" : 0,
      "metadata" : {
        "cell.metadata.exec_info" : {
          "startTs" : 1581784134441,
          "endTs" : 1581784135075
        },
        "language" : "scala"
      },
      "language" : "scala",
      "source" : [
        "import org.apache.spark.rdd._\n",
        "import org.apache.spark.sql._\n",
        "import org.apache.spark.sql.types.StructType\n",
        "import org.apache.spark.sql.functions._\n",
        "import group.research.aging.spark.extensions._"
      ],
      "outputs" : [
      ]
    },
    {
      "cell_type" : "code",
      "execution_count" : 1,
      "metadata" : {
        "cell.metadata.exec_info" : {
          "startTs" : 1580533491741,
          "endTs" : 1580533744601
        },
        "language" : "scala"
      },
      "language" : "scala",
      "source" : [
        "//val homology_to_gene = spark.readTSV(\"/data/ensembl/99/website/intermediates/homology_to_gene.tsv\", false).toDF(\"homology_id\",\"gene_member_id\")\n",
        "//val gene_members = spark.readTSV(\"/data/ensembl/99/compara/dump/homology.txt\", false)"
      ],
      "outputs" : [
      ]
    },
    {
      "cell_type" : "code",
      "execution_count" : 2,
      "metadata" : {
        "cell.metadata.exec_info" : {
          "startTs" : 1580533744684,
          "endTs" : 1580534086541
        },
        "language" : "scala"
      },
      "language" : "scala",
      "source" : [
        "val homologies_ortho = spark.readTSV(\"/data/ensembl/99/compara/dump/homology.txt\", false).toDF(\n",
        "    \"homology_id\",\"method_link_species_set_id\",\t\"description\",\t\"is_tree_compliant\",\"dn\",\t\"ds\",\t\"n\",\t\"s\",\t\"lnl\",\t\n",
        "    \"species_tree_node_id\",\t\"gene_tree_node_id\",\t\"gene_tree_root_id\",\t\"goc_score\",\t\"wga_coverage\", \"is_high_confidence\"\n",
        ").select(\"homology_id\", \"method_link_species_set_id\",\t\"description\", \"goc_score\",\t \"is_high_confidence\")\n",
        "homologies_ortho.columns.toList"
      ],
      "outputs" : [
        {
          "execution_count" : 2,
          "data" : {
            "text/plain" : [
              "List(homology_id, method_link_species_set_id, description, goc_score, is_high_confidence)"
            ]
          },
          "metadata" : {
            "name" : "Out",
            "type" : "List[String]"
          },
          "output_type" : "execute_result"
        }
      ]
    },
    {
      "cell_type" : "code",
      "execution_count" : 3,
      "metadata" : {
        "cell.metadata.exec_info" : {
          "startTs" : 1580534086600,
          "endTs" : 1580537328323
        },
        "language" : "scala"
      },
      "language" : "scala",
      "source" : [
        "homologies_ortho.writeTSV(\"/data/ensembl/99/website/intermediates/homologies_ortho.tsv\")\n",
        "//homologies_one_to_one.writeTSV(\"/data/ensembl/99/website/intermediates/homologies_one_to_one.tsv\")"
      ],
      "outputs" : [
        {
          "name" : "stdout",
          "text" : [
            "parts of /data/ensembl/99/website/intermediates/homologies_ortho.tsv merged!\n"
          ],
          "output_type" : "stream"
        },
        {
          "execution_count" : 3,
          "data" : {
            "text/plain" : [
              "/data/ensembl/99/website/intermediates/homologies_ortho.tsv"
            ]
          },
          "metadata" : {
            "name" : "Out",
            "type" : "String"
          },
          "output_type" : "execute_result"
        }
      ]
    },
    {
      "cell_type" : "code",
      "execution_count" : 4,
      "metadata" : {
        "cell.metadata.exec_info" : {
          "startTs" : 1580574637076,
          "endTs" : 1580578996728
        },
        "language" : "scala"
      },
      "language" : "scala",
      "source" : [
        "homologies_ortho.writeParquet(\"/data/ensembl/99/website/intermediates/homologies_ortho.parquet\", true)"
      ],
      "outputs" : [
        {
          "name" : "stdout",
          "text" : [
            "parts of /data/ensembl/99/website/intermediates/homologies_ortho.parquet merged!\n"
          ],
          "output_type" : "stream"
        },
        {
          "execution_count" : 4,
          "data" : {
            "text/plain" : [
              "/data/ensembl/99/website/intermediates/homologies_ortho.parquet"
            ]
          },
          "metadata" : {
            "name" : "Out",
            "type" : "String"
          },
          "output_type" : "execute_result"
        }
      ]
    },
    {
      "cell_type" : "code",
      "execution_count" : 5,
      "metadata" : {
        "cell.metadata.exec_info" : {
          "startTs" : 1580584167541,
          "endTs" : 1580584436501
        },
        "language" : "scala"
      },
      "language" : "scala",
      "source" : [
        "val ortho_table = spark.readTSV(\"/data/ensembl/99/website/intermediates/ortho_table.tsv\").toDF(\"gene_member_id\",\t\"homology_id\",\t\"stable_id\",\t\"taxon_id\")\n",
        "ortho_table.columns.toList"
      ],
      "outputs" : [
        {
          "execution_count" : 5,
          "data" : {
            "text/plain" : [
              "List(gene_member_id, homology_id, stable_id, taxon_id)"
            ]
          },
          "metadata" : {
            "name" : "Out",
            "type" : "List[String]"
          },
          "output_type" : "execute_result"
        }
      ]
    },
    {
      "cell_type" : "code",
      "execution_count" : 6,
      "metadata" : {
        "cell.metadata.exec_info" : {
          "startTs" : 1580584436503,
          "endTs" : 1580596847319
        },
        "language" : "scala"
      },
      "language" : "scala",
      "source" : [
        "val ortho_table2 = ortho_table.join(homologies_ortho.select(\t\"homology_id\", \"description\", \"is_high_confidence\"), \"homology_id\")\n",
        "ortho_table2.writeParquet(\"/data/ensembl/99/website/intermediates/ortho_table2.parquet\", true)\n",
        "ortho_table2.writeTSV(\"/data/ensembl/99/website/intermediates/ortho_table2.tsv\")"
      ],
      "outputs" : [
        {
          "name" : "stdout",
          "text" : [
            "parts of /data/ensembl/99/website/intermediates/ortho_table2.parquet merged!\n",
            "parts of /data/ensembl/99/website/intermediates/ortho_table2.tsv merged!\n"
          ],
          "output_type" : "stream"
        },
        {
          "execution_count" : 6,
          "data" : {
            "text/plain" : [
              "/data/ensembl/99/website/intermediates/ortho_table2.tsv"
            ]
          },
          "metadata" : {
            "name" : "Out",
            "type" : "String"
          },
          "output_type" : "execute_result"
        }
      ]
    },
    {
      "cell_type" : "code",
      "execution_count" : 7,
      "metadata" : {
        "language" : "scala"
      },
      "language" : "scala",
      "source" : [
        "val homologies.one_to_one = homologies.where($\"description\" === \"ortholog_one2one\").select(\n",
        "    \"homology_id\",\n",
        "\"method_link_species_set_id\",\t\n",
        "\"description\",\t\n",
        "\"homology_description\",\t\n",
        "\"is_tree_compliant\",\n",
        "\"dn\tdouble precision\",\t\n",
        "\"ds\tdouble precision\",\t\n",
        "\"n\tdouble precision\",\t\n",
        "\"s\tdouble precision\",\t\n",
        "\"lnl\tdouble precision\",\t\n",
        "\"goc_score\",\t\n",
        "\"wga_coverage\",\n",
        "\"is_high_confidence\")"
      ],
      "outputs" : [
      ]
    },
    {
      "cell_type" : "code",
      "execution_count" : 8,
      "metadata" : {
        "cell.metadata.exec_info" : {
          "startTs" : 1580420579527,
          "endTs" : 1580433204527
        },
        "language" : "scala"
      },
      "language" : "scala",
      "source" : [
        "val homology_to_gene = spark.readTSV(\"/data/ensembl/99/compara/dump/homology_member.txt\", false).toDF(\"homology_id\",\"gene_member_id\",\t\n",
        "\"seq_member_id\",\t\n",
        "\"cigar_line\",\t\n",
        "\"perc_cov\",\t\n",
        "\"perc_id\",\n",
        "\"perc_pos\").select(\"homology_id\",\"gene_member_id\").writeTSV(\"/data/ensembl/99/website/intermediates/homology_to_gene.tsv\", false)"
      ],
      "outputs" : [
        {
          "name" : "stdout",
          "text" : [
            "parts of /data/ensembl/99/website/intermediates/homology_to_gene.tsv merged!\n"
          ],
          "output_type" : "stream"
        }
      ]
    }
  ]
}