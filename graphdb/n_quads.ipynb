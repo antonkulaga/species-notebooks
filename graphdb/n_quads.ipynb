{
  "metadata" : {
    "config" : {
      "dependencies" : {
        "scala" : [
          "group.research.aging:spark-extensions_2.12:0.0.8.2"
        ]
      },
      "exclusions" : [
      ],
      "repositories" : [
        {
          "maven" : {
            "base" : "http://central.maven.org/maven2/"
          }
        },
        {
          "maven" : {
            "base" : "http://oss.sonatype.org/content/repositories/snapshots"
          }
        },
        {
          "maven" : {
            "base" : "https://dl.bintray.com/comp-bio-aging/main/"
          }
        }
      ],
      "sparkConfig" : {
        "master" : "http://spark:7070[28]"
      },
      "env" : {
        
      }
    },
    "language_info" : {
      "name" : "scala"
    }
  },
  "nbformat" : 4,
  "nbformat_minor" : 0,
  "cells" : [
    {
      "cell_type" : "markdown",
      "execution_count" : 0,
      "metadata" : {
        "language" : "text"
      },
      "language" : "text",
      "source" : [
        "# **n-quads**\n",
        "\n",
        "\n",
        "Saving data to graphdb<br>\n",
        "\n",
        "\n"
      ],
      "outputs" : [
      ]
    },
    {
      "cell_type" : "code",
      "execution_count" : 1,
      "metadata" : {
        "jupyter.outputs_hidden" : true,
        "cell.metadata.exec_info" : {
          "startTs" : 1586010879323,
          "endTs" : 1586010879450
        },
        "language" : "scala"
      },
      "language" : "scala",
      "source" : [
        "import org.apache.spark.rdd._\n",
        "import org.apache.spark.sql._\n",
        "import org.apache.spark.sql.types.StructType\n",
        "import org.apache.spark.sql.functions._\n",
        "import group.research.aging.spark.extensions._\n",
        "import group.research.aging.spark.extensions.functions._\n",
        "import group.research.aging.spark.extensions.functions.ConcatenateString\n",
        "import group.research.aging.spark.extensions.functions.Concatenate\n",
        "import ammonite.ops._\n",
        "import ammonite.ops.ImplicitWd._"
      ],
      "outputs" : [
      ]
    },
    {
      "cell_type" : "markdown",
      "execution_count" : 2,
      "metadata" : {
        "language" : "text"
      },
      "language" : "text",
      "source" : [
        "## Species loading\n",
        "\n"
      ],
      "outputs" : [
      ]
    },
    {
      "cell_type" : "code",
      "execution_count" : 3,
      "metadata" : {
        "cell.metadata.exec_info" : {
          "startTs" : 1586007993743,
          "endTs" : 1586008003827
        },
        "language" : "scala"
      },
      "language" : "scala",
      "source" : [
        "val species_n = spark.read.pa samples.columnssa_lookup.parquet\").na.fill(\"\")\n",
        ".as[(java.lang.Integer, String, String, String, String, java.lang.Double, java.lang.Double,java.lang.Double, java.lang.Double,String,String,String)]\n",
        "species_n.show(10,10000)"
      ],
      "outputs" : [
        {
          "name" : "stdout",
          "text" : [
            "+--------+------------------------+--------------------+------------------------------------------------+-----+--------+------+--------------+-------------+---------------+-----------+------------+\n",
            "|taxon_id|         scientific_name|         common_name|                                             url|class|lifespan|mass_g|metabolic_rate|temperature_k|specimen_origin|sample_size|data_quality|\n",
            "+--------+------------------------+--------------------+------------------------------------------------+-----+--------+------+--------------+-------------+---------------+-----------+------------+\n",
            "| 2489341|     Strigops habroptila|              Kakapo|     https://www.ensembl.org/Strigops_habroptila| Aves|    60.0|  null|          null|         null|      captivity|      small|  acceptable|\n",
            "|  132585|    Anser brachyrhynchus|   Pink-footed goose|    https://www.ensembl.org/Anser_brachyrhynchus| Aves|    40.9|  null|          null|         null|           wild|     medium|  acceptable|\n",
            "|    9031|           Gallus gallus|      Red junglefowl|           https://www.ensembl.org/Gallus_gallus| Aves|    30.0|2710.0|         6.005|         null|      captivity|      large|  acceptable|\n",
            "|    9054|     Phasianus colchicus|     Common pheasant|     https://www.ensembl.org/Phasianus_colchicus| Aves|    27.0|  null|          null|         null|      captivity|      large|        high|\n",
            "|    9135|         Serinus canaria|        House canary|         https://www.ensembl.org/Serinus_canaria| Aves|    24.0|  13.3|      0.230065|       314.15|      captivity|     medium|  acceptable|\n",
            "|    9049|          Pavo cristatus|      Indian peafowl|          https://www.ensembl.org/Pavo_cristatus| Aves|    23.2|  null|          null|         null|      captivity|      large|  acceptable|\n",
            "|   13146| Melopsittacus undulatus|          Budgerigar| https://www.ensembl.org/Melopsittacus_undulatus| Aves|    21.0|  25.2|        0.3035|       314.15|      captivity|      large|        high|\n",
            "|  211598|         Accipiter nisus|Eurasian sparrowhawk|         https://www.ensembl.org/Accipiter_nisus| Aves|    20.2| 135.0|        0.9516|         null|           wild|     medium|  acceptable|\n",
            "|    8790|Dromaius novaehollandiae|                 Emu|https://www.ensembl.org/Dromaius_novaehollandiae| Aves|    16.6|  null|          null|         null|      captivity|      large|  acceptable|\n",
            "|    9157|             Parus major|           Great tit|             https://www.ensembl.org/Parus_major| Aves|    15.4|  null|          null|         null|           wild|      large|  acceptable|\n",
            "+--------+------------------------+--------------------+------------------------------------------------+-----+--------+------+--------------+-------------+---------------+-----------+------------+\n",
            "only showing top 10 rows\n",
            "\n"
          ],
          "output_type" : "stream"
        }
      ]
    },
    {
      "cell_type" : "code",
      "execution_count" : 4,
      "metadata" : {
        "cell.metadata.exec_info" : {
          "startTs" : 1586008003887,
          "endTs" : 1586008004203
        },
        "language" : "scala"
      },
      "language" : "scala",
      "source" : [
        "val prefix = \"http://aging-research.group/resource/\"\n",
        "val prefix_ensembl = \"http://rdf.ebi.ac.uk/resource/ensembl/\"\n",
        "val prefix_samples = \"http://aging-research.group/samples/\"\n",
        "def samp(str: String) = \"<\" +prefix_samples +str.replace(\" \", \"_\")+\">\"\n",
        "def pref(str: String) = \"<\" +prefix +str.replace(\" \", \"_\")+\">\" \n",
        "def ens(str: String) =  \"<\" +prefix_ensembl +str.replace(\" \", \"_\")+\">\"\n",
        "def tax(str: String) = ens(\"taxon#\"+str)\n",
        "def str(s: String) = if(s==null) \"\" else s\"\"\"\"${s.replace(\"\\\"\", \"\\\\\\\"\")}\"\"\"\""
      ],
      "outputs" : [
      ]
    },
    {
      "cell_type" : "code",
      "execution_count" : 5,
      "metadata" : {
        "cell.metadata.exec_info" : {
          "startTs" : 1586008004211,
          "endTs" : 1586008004586
        },
        "language" : "scala"
      },
      "language" : "scala",
      "source" : [
        "def trip(s: String, p: String, o: String):List[(String, String, String, String)] = if(s==null || p == null || o == null ||\n",
        " s == \"\" ||  p == \"\" || o == \"\" || o==\"\\\\N\" || o.startsWith(\"\\\"\\\\N\\\"\") || s == \"\\\\N\" || s == \"\\\"\\\\N\\\"\") Nil else List((s,p,o, \"<\" + \"http://rdf.ebi.ac.uk/resource/ensembl/confidence/high\" + \"> .\"))\n",
        "\n",
        "def sp(taxon_id: java.lang.Integer, scientific_name: String)(p: String, o: Any) = if(taxon_id==null || o == null) Nil else {\n",
        "      trip(tax(taxon_id.toString), pref(p), o.toString)++\n",
        "        trip(pref(scientific_name),pref(p), o.toString) \n",
        "}"
      ],
      "outputs" : [
      ]
    },
    {
      "cell_type" : "code",
      "execution_count" : 6,
      "metadata" : {
        "cell.metadata.exec_info" : {
          "startTs" : 1586008004592,
          "endTs" : 1586008005876
        },
        "language" : "scala"
      },
      "language" : "scala",
      "source" : [
        "val trs = species_n.flatMap{\n",
        "    case (taxon_id,scientific_name,common_name,url,animal_class,\n",
        "    lifespan,mass_g,metabolic_rate,temperature_k,\n",
        "    specimen_origin,sample_size,data_quality) =>\n",
        "        trip(tax(taxon_id.toString), pref(\"has_scientific_name\"), pref(scientific_name))++\n",
        "        trip(pref(scientific_name),pref(\"has_taxon\"), tax(taxon_id.toString))++\n",
        "        sp(taxon_id, scientific_name)(\"has_common_name\", str(common_name))++\n",
        "        sp(taxon_id, scientific_name)(\"has_lifespan\", lifespan)++\n",
        "        sp(taxon_id, scientific_name)(\"has_temperature_kelvin\", temperature_k)++\n",
        "        sp(taxon_id, scientific_name)(\"has_mass_g\", mass_g) ++\n",
        "        sp(taxon_id, scientific_name)(\"has_metabolic_rate\", metabolic_rate) ++\n",
        "        sp(taxon_id, scientific_name)(\"is_animal_class\", ens(animal_class)) ++\n",
        "        sp(taxon_id, scientific_name)(\"has_ensembl_url\", \"<\"+url+\">\") ++\n",
        "        Nil\n",
        "}.toDF(\"subject\", \"property\", \"object\", \"context\")\n",
        "trs.show(100,1000)"
      ],
      "outputs" : [
        {
          "name" : "stdout",
          "text" : [
            "+--------------------------------------------------------------+-------------------------------------------------------------+--------------------------------------------------------------+---------------------------------------------------------+\n",
            "|                                                       subject|                                                     property|                                                        object|                                                  context|\n",
            "+--------------------------------------------------------------+-------------------------------------------------------------+--------------------------------------------------------------+---------------------------------------------------------+\n",
            "|         <http://rdf.ebi.ac.uk/resource/ensembl/taxon#2489341>|   <http://aging-research.group/resource/has_scientific_name>|    <http://aging-research.group/resource/Strigops_habroptila>|<http://rdf.ebi.ac.uk/resource/ensembl/confidence/high> .|\n",
            "|    <http://aging-research.group/resource/Strigops_habroptila>|             <http://aging-research.group/resource/has_taxon>|         <http://rdf.ebi.ac.uk/resource/ensembl/taxon#2489341>|<http://rdf.ebi.ac.uk/resource/ensembl/confidence/high> .|\n",
            "|         <http://rdf.ebi.ac.uk/resource/ensembl/taxon#2489341>|       <http://aging-research.group/resource/has_common_name>|                                                      \"Kakapo\"|<http://rdf.ebi.ac.uk/resource/ensembl/confidence/high> .|\n",
            "|    <http://aging-research.group/resource/Strigops_habroptila>|       <http://aging-research.group/resource/has_common_name>|                                                      \"Kakapo\"|<http://rdf.ebi.ac.uk/resource/ensembl/confidence/high> .|\n",
            "|         <http://rdf.ebi.ac.uk/resource/ensembl/taxon#2489341>|          <http://aging-research.group/resource/has_lifespan>|                                                          60.0|<http://rdf.ebi.ac.uk/resource/ensembl/confidence/high> .|\n",
            "|    <http://aging-research.group/resource/Strigops_habroptila>|          <http://aging-research.group/resource/has_lifespan>|                                                          60.0|<http://rdf.ebi.ac.uk/resource/ensembl/confidence/high> .|\n",
            "|         <http://rdf.ebi.ac.uk/resource/ensembl/taxon#2489341>|       <http://aging-research.group/resource/is_animal_class>|                  <http://rdf.ebi.ac.uk/resource/ensembl/Aves>|<http://rdf.ebi.ac.uk/resource/ensembl/confidence/high> .|\n",
            "|    <http://aging-research.group/resource/Strigops_habroptila>|       <http://aging-research.group/resource/is_animal_class>|                  <http://rdf.ebi.ac.uk/resource/ensembl/Aves>|<http://rdf.ebi.ac.uk/resource/ensembl/confidence/high> .|\n",
            "|         <http://rdf.ebi.ac.uk/resource/ensembl/taxon#2489341>|       <http://aging-research.group/resource/has_ensembl_url>|                 <https://www.ensembl.org/Strigops_habroptila>|<http://rdf.ebi.ac.uk/resource/ensembl/confidence/high> .|\n",
            "|    <http://aging-research.group/resource/Strigops_habroptila>|       <http://aging-research.group/resource/has_ensembl_url>|                 <https://www.ensembl.org/Strigops_habroptila>|<http://rdf.ebi.ac.uk/resource/ensembl/confidence/high> .|\n",
            "|          <http://rdf.ebi.ac.uk/resource/ensembl/taxon#132585>|   <http://aging-research.group/resource/has_scientific_name>|   <http://aging-research.group/resource/Anser_brachyrhynchus>|<http://rdf.ebi.ac.uk/resource/ensembl/confidence/high> .|\n",
            "|   <http://aging-research.group/resource/Anser_brachyrhynchus>|             <http://aging-research.group/resource/has_taxon>|          <http://rdf.ebi.ac.uk/resource/ensembl/taxon#132585>|<http://rdf.ebi.ac.uk/resource/ensembl/confidence/high> .|\n",
            "|          <http://rdf.ebi.ac.uk/resource/ensembl/taxon#132585>|       <http://aging-research.group/resource/has_common_name>|                                           \"Pink-footed goose\"|<http://rdf.ebi.ac.uk/resource/ensembl/confidence/high> .|\n",
            "|   <http://aging-research.group/resource/Anser_brachyrhynchus>|       <http://aging-research.group/resource/has_common_name>|                                           \"Pink-footed goose\"|<http://rdf.ebi.ac.uk/resource/ensembl/confidence/high> .|\n",
            "|          <http://rdf.ebi.ac.uk/resource/ensembl/taxon#132585>|          <http://aging-research.group/resource/has_lifespan>|                                                          40.9|<http://rdf.ebi.ac.uk/resource/ensembl/confidence/high> .|\n",
            "|   <http://aging-research.group/resource/Anser_brachyrhynchus>|          <http://aging-research.group/resource/has_lifespan>|                                                          40.9|<http://rdf.ebi.ac.uk/resource/ensembl/confidence/high> .|\n",
            "|          <http://rdf.ebi.ac.uk/resource/ensembl/taxon#132585>|       <http://aging-research.group/resource/is_animal_class>|                  <http://rdf.ebi.ac.uk/resource/ensembl/Aves>|<http://rdf.ebi.ac.uk/resource/ensembl/confidence/high> .|\n",
            "|   <http://aging-research.group/resource/Anser_brachyrhynchus>|       <http://aging-research.group/resource/is_animal_class>|                  <http://rdf.ebi.ac.uk/resource/ensembl/Aves>|<http://rdf.ebi.ac.uk/resource/ensembl/confidence/high> .|\n",
            "|          <http://rdf.ebi.ac.uk/resource/ensembl/taxon#132585>|       <http://aging-research.group/resource/has_ensembl_url>|                <https://www.ensembl.org/Anser_brachyrhynchus>|<http://rdf.ebi.ac.uk/resource/ensembl/confidence/high> .|\n",
            "|   <http://aging-research.group/resource/Anser_brachyrhynchus>|       <http://aging-research.group/resource/has_ensembl_url>|                <https://www.ensembl.org/Anser_brachyrhynchus>|<http://rdf.ebi.ac.uk/resource/ensembl/confidence/high> .|\n",
            "|            <http://rdf.ebi.ac.uk/resource/ensembl/taxon#9031>|   <http://aging-research.group/resource/has_scientific_name>|          <http://aging-research.group/resource/Gallus_gallus>|<http://rdf.ebi.ac.uk/resource/ensembl/confidence/high> .|\n",
            "|          <http://aging-research.group/resource/Gallus_gallus>|             <http://aging-research.group/resource/has_taxon>|            <http://rdf.ebi.ac.uk/resource/ensembl/taxon#9031>|<http://rdf.ebi.ac.uk/resource/ensembl/confidence/high> .|\n",
            "|            <http://rdf.ebi.ac.uk/resource/ensembl/taxon#9031>|       <http://aging-research.group/resource/has_common_name>|                                              \"Red junglefowl\"|<http://rdf.ebi.ac.uk/resource/ensembl/confidence/high> .|\n",
            "|          <http://aging-research.group/resource/Gallus_gallus>|       <http://aging-research.group/resource/has_common_name>|                                              \"Red junglefowl\"|<http://rdf.ebi.ac.uk/resource/ensembl/confidence/high> .|\n",
            "|            <http://rdf.ebi.ac.uk/resource/ensembl/taxon#9031>|          <http://aging-research.group/resource/has_lifespan>|                                                          30.0|<http://rdf.ebi.ac.uk/resource/ensembl/confidence/high> .|\n",
            "|          <http://aging-research.group/resource/Gallus_gallus>|          <http://aging-research.group/resource/has_lifespan>|                                                          30.0|<http://rdf.ebi.ac.uk/resource/ensembl/confidence/high> .|\n",
            "|            <http://rdf.ebi.ac.uk/resource/ensembl/taxon#9031>|            <http://aging-research.group/resource/has_mass_g>|                                                        2710.0|<http://rdf.ebi.ac.uk/resource/ensembl/confidence/high> .|\n",
            "|          <http://aging-research.group/resource/Gallus_gallus>|            <http://aging-research.group/resource/has_mass_g>|                                                        2710.0|<http://rdf.ebi.ac.uk/resource/ensembl/confidence/high> .|\n",
            "|            <http://rdf.ebi.ac.uk/resource/ensembl/taxon#9031>|    <http://aging-research.group/resource/has_metabolic_rate>|                                                         6.005|<http://rdf.ebi.ac.uk/resource/ensembl/confidence/high> .|\n",
            "|          <http://aging-research.group/resource/Gallus_gallus>|    <http://aging-research.group/resource/has_metabolic_rate>|                                                         6.005|<http://rdf.ebi.ac.uk/resource/ensembl/confidence/high> .|\n",
            "|            <http://rdf.ebi.ac.uk/resource/ensembl/taxon#9031>|       <http://aging-research.group/resource/is_animal_class>|                  <http://rdf.ebi.ac.uk/resource/ensembl/Aves>|<http://rdf.ebi.ac.uk/resource/ensembl/confidence/high> .|\n",
            "|          <http://aging-research.group/resource/Gallus_gallus>|       <http://aging-research.group/resource/is_animal_class>|                  <http://rdf.ebi.ac.uk/resource/ensembl/Aves>|<http://rdf.ebi.ac.uk/resource/ensembl/confidence/high> .|\n",
            "|            <http://rdf.ebi.ac.uk/resource/ensembl/taxon#9031>|       <http://aging-research.group/resource/has_ensembl_url>|                       <https://www.ensembl.org/Gallus_gallus>|<http://rdf.ebi.ac.uk/resource/ensembl/confidence/high> .|\n",
            "|          <http://aging-research.group/resource/Gallus_gallus>|       <http://aging-research.group/resource/has_ensembl_url>|                       <https://www.ensembl.org/Gallus_gallus>|<http://rdf.ebi.ac.uk/resource/ensembl/confidence/high> .|\n",
            "|            <http://rdf.ebi.ac.uk/resource/ensembl/taxon#9054>|   <http://aging-research.group/resource/has_scientific_name>|    <http://aging-research.group/resource/Phasianus_colchicus>|<http://rdf.ebi.ac.uk/resource/ensembl/confidence/high> .|\n",
            "|    <http://aging-research.group/resource/Phasianus_colchicus>|             <http://aging-research.group/resource/has_taxon>|            <http://rdf.ebi.ac.uk/resource/ensembl/taxon#9054>|<http://rdf.ebi.ac.uk/resource/ensembl/confidence/high> .|\n",
            "|            <http://rdf.ebi.ac.uk/resource/ensembl/taxon#9054>|       <http://aging-research.group/resource/has_common_name>|                                             \"Common pheasant\"|<http://rdf.ebi.ac.uk/resource/ensembl/confidence/high> .|\n",
            "|    <http://aging-research.group/resource/Phasianus_colchicus>|       <http://aging-research.group/resource/has_common_name>|                                             \"Common pheasant\"|<http://rdf.ebi.ac.uk/resource/ensembl/confidence/high> .|\n",
            "|            <http://rdf.ebi.ac.uk/resource/ensembl/taxon#9054>|          <http://aging-research.group/resource/has_lifespan>|                                                          27.0|<http://rdf.ebi.ac.uk/resource/ensembl/confidence/high> .|\n",
            "|    <http://aging-research.group/resource/Phasianus_colchicus>|          <http://aging-research.group/resource/has_lifespan>|                                                          27.0|<http://rdf.ebi.ac.uk/resource/ensembl/confidence/high> .|\n",
            "|            <http://rdf.ebi.ac.uk/resource/ensembl/taxon#9054>|       <http://aging-research.group/resource/is_animal_class>|                  <http://rdf.ebi.ac.uk/resource/ensembl/Aves>|<http://rdf.ebi.ac.uk/resource/ensembl/confidence/high> .|\n",
            "|    <http://aging-research.group/resource/Phasianus_colchicus>|       <http://aging-research.group/resource/is_animal_class>|                  <http://rdf.ebi.ac.uk/resource/ensembl/Aves>|<http://rdf.ebi.ac.uk/resource/ensembl/confidence/high> .|\n",
            "|            <http://rdf.ebi.ac.uk/resource/ensembl/taxon#9054>|       <http://aging-research.group/resource/has_ensembl_url>|                 <https://www.ensembl.org/Phasianus_colchicus>|<http://rdf.ebi.ac.uk/resource/ensembl/confidence/high> .|\n",
            "|    <http://aging-research.group/resource/Phasianus_colchicus>|       <http://aging-research.group/resource/has_ensembl_url>|                 <https://www.ensembl.org/Phasianus_colchicus>|<http://rdf.ebi.ac.uk/resource/ensembl/confidence/high> .|\n",
            "|            <http://rdf.ebi.ac.uk/resource/ensembl/taxon#9135>|   <http://aging-research.group/resource/has_scientific_name>|        <http://aging-research.group/resource/Serinus_canaria>|<http://rdf.ebi.ac.uk/resource/ensembl/confidence/high> .|\n",
            "|        <http://aging-research.group/resource/Serinus_canaria>|             <http://aging-research.group/resource/has_taxon>|            <http://rdf.ebi.ac.uk/resource/ensembl/taxon#9135>|<http://rdf.ebi.ac.uk/resource/ensembl/confidence/high> .|\n",
            "|            <http://rdf.ebi.ac.uk/resource/ensembl/taxon#9135>|       <http://aging-research.group/resource/has_common_name>|                                                \"House canary\"|<http://rdf.ebi.ac.uk/resource/ensembl/confidence/high> .|\n",
            "|        <http://aging-research.group/resource/Serinus_canaria>|       <http://aging-research.group/resource/has_common_name>|                                                \"House canary\"|<http://rdf.ebi.ac.uk/resource/ensembl/confidence/high> .|\n",
            "|            <http://rdf.ebi.ac.uk/resource/ensembl/taxon#9135>|          <http://aging-research.group/resource/has_lifespan>|                                                          24.0|<http://rdf.ebi.ac.uk/resource/ensembl/confidence/high> .|\n",
            "|        <http://aging-research.group/resource/Serinus_canaria>|          <http://aging-research.group/resource/has_lifespan>|                                                          24.0|<http://rdf.ebi.ac.uk/resource/ensembl/confidence/high> .|\n",
            "|            <http://rdf.ebi.ac.uk/resource/ensembl/taxon#9135>|<http://aging-research.group/resource/has_temperature_kelvin>|                                                        314.15|<http://rdf.ebi.ac.uk/resource/ensembl/confidence/high> .|\n",
            "|        <http://aging-research.group/resource/Serinus_canaria>|<http://aging-research.group/resource/has_temperature_kelvin>|                                                        314.15|<http://rdf.ebi.ac.uk/resource/ensembl/confidence/high> .|\n",
            "|            <http://rdf.ebi.ac.uk/resource/ensembl/taxon#9135>|            <http://aging-research.group/resource/has_mass_g>|                                                          13.3|<http://rdf.ebi.ac.uk/resource/ensembl/confidence/high> .|\n",
            "|        <http://aging-research.group/resource/Serinus_canaria>|            <http://aging-research.group/resource/has_mass_g>|                                                          13.3|<http://rdf.ebi.ac.uk/resource/ensembl/confidence/high> .|\n",
            "|            <http://rdf.ebi.ac.uk/resource/ensembl/taxon#9135>|    <http://aging-research.group/resource/has_metabolic_rate>|                                                      0.230065|<http://rdf.ebi.ac.uk/resource/ensembl/confidence/high> .|\n",
            "|        <http://aging-research.group/resource/Serinus_canaria>|    <http://aging-research.group/resource/has_metabolic_rate>|                                                      0.230065|<http://rdf.ebi.ac.uk/resource/ensembl/confidence/high> .|\n",
            "|            <http://rdf.ebi.ac.uk/resource/ensembl/taxon#9135>|       <http://aging-research.group/resource/is_animal_class>|                  <http://rdf.ebi.ac.uk/resource/ensembl/Aves>|<http://rdf.ebi.ac.uk/resource/ensembl/confidence/high> .|\n",
            "|        <http://aging-research.group/resource/Serinus_canaria>|       <http://aging-research.group/resource/is_animal_class>|                  <http://rdf.ebi.ac.uk/resource/ensembl/Aves>|<http://rdf.ebi.ac.uk/resource/ensembl/confidence/high> .|\n",
            "|            <http://rdf.ebi.ac.uk/resource/ensembl/taxon#9135>|       <http://aging-research.group/resource/has_ensembl_url>|                     <https://www.ensembl.org/Serinus_canaria>|<http://rdf.ebi.ac.uk/resource/ensembl/confidence/high> .|\n",
            "|        <http://aging-research.group/resource/Serinus_canaria>|       <http://aging-research.group/resource/has_ensembl_url>|                     <https://www.ensembl.org/Serinus_canaria>|<http://rdf.ebi.ac.uk/resource/ensembl/confidence/high> .|\n",
            "|            <http://rdf.ebi.ac.uk/resource/ensembl/taxon#9049>|   <http://aging-research.group/resource/has_scientific_name>|         <http://aging-research.group/resource/Pavo_cristatus>|<http://rdf.ebi.ac.uk/resource/ensembl/confidence/high> .|\n",
            "|         <http://aging-research.group/resource/Pavo_cristatus>|             <http://aging-research.group/resource/has_taxon>|            <http://rdf.ebi.ac.uk/resource/ensembl/taxon#9049>|<http://rdf.ebi.ac.uk/resource/ensembl/confidence/high> .|\n",
            "|            <http://rdf.ebi.ac.uk/resource/ensembl/taxon#9049>|       <http://aging-research.group/resource/has_common_name>|                                              \"Indian peafowl\"|<http://rdf.ebi.ac.uk/resource/ensembl/confidence/high> .|\n",
            "|         <http://aging-research.group/resource/Pavo_cristatus>|       <http://aging-research.group/resource/has_common_name>|                                              \"Indian peafowl\"|<http://rdf.ebi.ac.uk/resource/ensembl/confidence/high> .|\n",
            "|            <http://rdf.ebi.ac.uk/resource/ensembl/taxon#9049>|          <http://aging-research.group/resource/has_lifespan>|                                                          23.2|<http://rdf.ebi.ac.uk/resource/ensembl/confidence/high> .|\n",
            "|         <http://aging-research.group/resource/Pavo_cristatus>|          <http://aging-research.group/resource/has_lifespan>|                                                          23.2|<http://rdf.ebi.ac.uk/resource/ensembl/confidence/high> .|\n",
            "|            <http://rdf.ebi.ac.uk/resource/ensembl/taxon#9049>|       <http://aging-research.group/resource/is_animal_class>|                  <http://rdf.ebi.ac.uk/resource/ensembl/Aves>|<http://rdf.ebi.ac.uk/resource/ensembl/confidence/high> .|\n",
            "|         <http://aging-research.group/resource/Pavo_cristatus>|       <http://aging-research.group/resource/is_animal_class>|                  <http://rdf.ebi.ac.uk/resource/ensembl/Aves>|<http://rdf.ebi.ac.uk/resource/ensembl/confidence/high> .|\n",
            "|            <http://rdf.ebi.ac.uk/resource/ensembl/taxon#9049>|       <http://aging-research.group/resource/has_ensembl_url>|                      <https://www.ensembl.org/Pavo_cristatus>|<http://rdf.ebi.ac.uk/resource/ensembl/confidence/high> .|\n",
            "|         <http://aging-research.group/resource/Pavo_cristatus>|       <http://aging-research.group/resource/has_ensembl_url>|                      <https://www.ensembl.org/Pavo_cristatus>|<http://rdf.ebi.ac.uk/resource/ensembl/confidence/high> .|\n",
            "|           <http://rdf.ebi.ac.uk/resource/ensembl/taxon#13146>|   <http://aging-research.group/resource/has_scientific_name>|<http://aging-research.group/resource/Melopsittacus_undulatus>|<http://rdf.ebi.ac.uk/resource/ensembl/confidence/high> .|\n",
            "|<http://aging-research.group/resource/Melopsittacus_undulatus>|             <http://aging-research.group/resource/has_taxon>|           <http://rdf.ebi.ac.uk/resource/ensembl/taxon#13146>|<http://rdf.ebi.ac.uk/resource/ensembl/confidence/high> .|\n",
            "|           <http://rdf.ebi.ac.uk/resource/ensembl/taxon#13146>|       <http://aging-research.group/resource/has_common_name>|                                                  \"Budgerigar\"|<http://rdf.ebi.ac.uk/resource/ensembl/confidence/high> .|\n",
            "|<http://aging-research.group/resource/Melopsittacus_undulatus>|       <http://aging-research.group/resource/has_common_name>|                                                  \"Budgerigar\"|<http://rdf.ebi.ac.uk/resource/ensembl/confidence/high> .|\n",
            "|           <http://rdf.ebi.ac.uk/resource/ensembl/taxon#13146>|          <http://aging-research.group/resource/has_lifespan>|                                                          21.0|<http://rdf.ebi.ac.uk/resource/ensembl/confidence/high> .|\n",
            "|<http://aging-research.group/resource/Melopsittacus_undulatus>|          <http://aging-research.group/resource/has_lifespan>|                                                          21.0|<http://rdf.ebi.ac.uk/resource/ensembl/confidence/high> .|\n",
            "|           <http://rdf.ebi.ac.uk/resource/ensembl/taxon#13146>|<http://aging-research.group/resource/has_temperature_kelvin>|                                                        314.15|<http://rdf.ebi.ac.uk/resource/ensembl/confidence/high> .|\n",
            "|<http://aging-research.group/resource/Melopsittacus_undulatus>|<http://aging-research.group/resource/has_temperature_kelvin>|                                                        314.15|<http://rdf.ebi.ac.uk/resource/ensembl/confidence/high> .|\n",
            "|           <http://rdf.ebi.ac.uk/resource/ensembl/taxon#13146>|            <http://aging-research.group/resource/has_mass_g>|                                                          25.2|<http://rdf.ebi.ac.uk/resource/ensembl/confidence/high> .|\n",
            "|<http://aging-research.group/resource/Melopsittacus_undulatus>|            <http://aging-research.group/resource/has_mass_g>|                                                          25.2|<http://rdf.ebi.ac.uk/resource/ensembl/confidence/high> .|\n",
            "|           <http://rdf.ebi.ac.uk/resource/ensembl/taxon#13146>|    <http://aging-research.group/resource/has_metabolic_rate>|                                                        0.3035|<http://rdf.ebi.ac.uk/resource/ensembl/confidence/high> .|\n",
            "|<http://aging-research.group/resource/Melopsittacus_undulatus>|    <http://aging-research.group/resource/has_metabolic_rate>|                                                        0.3035|<http://rdf.ebi.ac.uk/resource/ensembl/confidence/high> .|\n",
            "|           <http://rdf.ebi.ac.uk/resource/ensembl/taxon#13146>|       <http://aging-research.group/resource/is_animal_class>|                  <http://rdf.ebi.ac.uk/resource/ensembl/Aves>|<http://rdf.ebi.ac.uk/resource/ensembl/confidence/high> .|\n",
            "|<http://aging-research.group/resource/Melopsittacus_undulatus>|       <http://aging-research.group/resource/is_animal_class>|                  <http://rdf.ebi.ac.uk/resource/ensembl/Aves>|<http://rdf.ebi.ac.uk/resource/ensembl/confidence/high> .|\n",
            "|           <http://rdf.ebi.ac.uk/resource/ensembl/taxon#13146>|       <http://aging-research.group/resource/has_ensembl_url>|             <https://www.ensembl.org/Melopsittacus_undulatus>|<http://rdf.ebi.ac.uk/resource/ensembl/confidence/high> .|\n",
            "|<http://aging-research.group/resource/Melopsittacus_undulatus>|       <http://aging-research.group/resource/has_ensembl_url>|             <https://www.ensembl.org/Melopsittacus_undulatus>|<http://rdf.ebi.ac.uk/resource/ensembl/confidence/high> .|\n",
            "|          <http://rdf.ebi.ac.uk/resource/ensembl/taxon#211598>|   <http://aging-research.group/resource/has_scientific_name>|        <http://aging-research.group/resource/Accipiter_nisus>|<http://rdf.ebi.ac.uk/resource/ensembl/confidence/high> .|\n",
            "|        <http://aging-research.group/resource/Accipiter_nisus>|             <http://aging-research.group/resource/has_taxon>|          <http://rdf.ebi.ac.uk/resource/ensembl/taxon#211598>|<http://rdf.ebi.ac.uk/resource/ensembl/confidence/high> .|\n",
            "|          <http://rdf.ebi.ac.uk/resource/ensembl/taxon#211598>|       <http://aging-research.group/resource/has_common_name>|                                        \"Eurasian sparrowhawk\"|<http://rdf.ebi.ac.uk/resource/ensembl/confidence/high> .|\n",
            "|        <http://aging-research.group/resource/Accipiter_nisus>|       <http://aging-research.group/resource/has_common_name>|                                        \"Eurasian sparrowhawk\"|<http://rdf.ebi.ac.uk/resource/ensembl/confidence/high> .|\n",
            "|          <http://rdf.ebi.ac.uk/resource/ensembl/taxon#211598>|          <http://aging-research.group/resource/has_lifespan>|                                                          20.2|<http://rdf.ebi.ac.uk/resource/ensembl/confidence/high> .|\n",
            "|        <http://aging-research.group/resource/Accipiter_nisus>|          <http://aging-research.group/resource/has_lifespan>|                                                          20.2|<http://rdf.ebi.ac.uk/resource/ensembl/confidence/high> .|\n",
            "|          <http://rdf.ebi.ac.uk/resource/ensembl/taxon#211598>|            <http://aging-research.group/resource/has_mass_g>|                                                         135.0|<http://rdf.ebi.ac.uk/resource/ensembl/confidence/high> .|\n",
            "|        <http://aging-research.group/resource/Accipiter_nisus>|            <http://aging-research.group/resource/has_mass_g>|                                                         135.0|<http://rdf.ebi.ac.uk/resource/ensembl/confidence/high> .|\n",
            "|          <http://rdf.ebi.ac.uk/resource/ensembl/taxon#211598>|    <http://aging-research.group/resource/has_metabolic_rate>|                                                        0.9516|<http://rdf.ebi.ac.uk/resource/ensembl/confidence/high> .|\n",
            "|        <http://aging-research.group/resource/Accipiter_nisus>|    <http://aging-research.group/resource/has_metabolic_rate>|                                                        0.9516|<http://rdf.ebi.ac.uk/resource/ensembl/confidence/high> .|\n",
            "|          <http://rdf.ebi.ac.uk/resource/ensembl/taxon#211598>|       <http://aging-research.group/resource/is_animal_class>|                  <http://rdf.ebi.ac.uk/resource/ensembl/Aves>|<http://rdf.ebi.ac.uk/resource/ensembl/confidence/high> .|\n",
            "|        <http://aging-research.group/resource/Accipiter_nisus>|       <http://aging-research.group/resource/is_animal_class>|                  <http://rdf.ebi.ac.uk/resource/ensembl/Aves>|<http://rdf.ebi.ac.uk/resource/ensembl/confidence/high> .|\n",
            "|          <http://rdf.ebi.ac.uk/resource/ensembl/taxon#211598>|       <http://aging-research.group/resource/has_ensembl_url>|                     <https://www.ensembl.org/Accipiter_nisus>|<http://rdf.ebi.ac.uk/resource/ensembl/confidence/high> .|\n",
            "|        <http://aging-research.group/resource/Accipiter_nisus>|       <http://aging-research.group/resource/has_ensembl_url>|                     <https://www.ensembl.org/Accipiter_nisus>|<http://rdf.ebi.ac.uk/resource/ensembl/confidence/high> .|\n",
            "+--------------------------------------------------------------+-------------------------------------------------------------+--------------------------------------------------------------+---------------------------------------------------------+\n",
            "only showing top 100 rows\n",
            "\n"
          ],
          "output_type" : "stream"
        }
      ]
    },
    {
      "cell_type" : "code",
      "execution_count" : 7,
      "metadata" : {
        "cell.metadata.exec_info" : {
          "startTs" : 1580843524698,
          "endTs" : 1580843525585
        },
        "language" : "scala"
      },
      "language" : "scala",
      "source" : [
        "trs.writeTSV(\"/data/databases/graphdb/import/species.nq\", false)"
      ],
      "outputs" : [
        {
          "name" : "stdout",
          "text" : [
            "parts of /data/databases/graphdb/import/species.nt merged!\n"
          ],
          "output_type" : "stream"
        },
        {
          "execution_count" : 7,
          "data" : {
            "text/plain" : [
              "/data/databases/graphdb/import/species.nt"
            ]
          },
          "metadata" : {
            "name" : "Out",
            "type" : "String"
          },
          "output_type" : "execute_result"
        }
      ]
    },
    {
      "cell_type" : "markdown",
      "execution_count" : 8,
      "metadata" : {
        "language" : "text"
      },
      "language" : "text",
      "source" : [
        "# Processing samples\n",
        "\n"
      ],
      "outputs" : [
      ]
    },
    {
      "cell_type" : "code",
      "execution_count" : 9,
      "metadata" : {
        "cell.metadata.exec_info" : {
          "startTs" : 1586008092557,
          "endTs" : 1586008093435
        },
        "language" : "scala"
      },
      "language" : "scala",
      "source" : [
        "val samples = spark.readTSV(\"/data/samples/species/samples_index.tsv\", header=true).na.fill(\"N/A\")\n",
        "  .where($\"index\" =!= \"N/A\")\n",
        "  .where($\"library_strategy\" === \"RNA-Seq\")\n",
        "  .sort($\"organism\".desc, $\"library_layout\")\n",
        "samples.show(10, 10000)"
      ],
      "outputs" : [
        {
          "name" : "stdout",
          "text" : [
            "+-----------+-----------+----------+----------------------+-----+-----------+----------------------------+----------------+--------------+-----------------+---------+---------------------------------------------------------------------------------------------------+-----------------------------------------------------------------------------------------------------------------------------------------------------------------------------------------------------------------------------------------------------------------------------------------------------+-------------+----------------+----+-----+--------+--------------+---------------------------------------+-----------------------------------------------------------------------------------------------------------+-----------------------------------------------------------------------------------------------------------------+---------------------------------------------------------------------------------------------+--------------+-------+-------------+-----------------------+\n",
            "| bioproject|     series|       run|              organism|taxid|sample_name|                   sequencer|library_strategy|library_layout|library_selection|    study|                                                                                        study_title|                                                                                                                                                                                                                                                                                      characteristics|       source|             age| sex|tumor|protocol|salmon_version|                                  index|                                                                                                      genes|                                                                                                      transcripts|                                                                                        quant|percent_mapped|libType|numBootstraps|               modified|\n",
            "+-----------+-----------+----------+----------------------+-----+-----------+----------------------------+----------------+--------------+-----------------+---------+---------------------------------------------------------------------------------------------------+-----------------------------------------------------------------------------------------------------------------------------------------------------------------------------------------------------------------------------------------------------------------------------------------------------+-------------+----------------+----+-----+--------+--------------+---------------------------------------+-----------------------------------------------------------------------------------------------------------+-----------------------------------------------------------------------------------------------------------------+---------------------------------------------------------------------------------------------+--------------+-------+-------------+-----------------------+\n",
            "|PRJNA217789|PRJNA217789| SRR960573|Zonotrichia albicollis|44394|     10-124|         Illumina HiSeq 2000|         RNA-Seq|        SINGLE|             cDNA|SRP029385|                                            Zonotrichia albicollis Transcriptome or Gene expression|                                                                                                                                                                                      'Tumor:no;strain:tan;age:adult;sex:male;isolate_label:5;collection_date:29-Apr-2010;tissue_type:brain;'Sex:male|          N/A|           adult|male|   no|     N/A|         1.1.0|Zonotrichia_albicollis-1.0.1_ensembl_99|  /data/samples/species/PRJNA217789/SRX342292/SRR960573/PRJNA217789_SRX342292_SRR960573_genes_abundance.tsv|  /data/samples/species/PRJNA217789/SRX342292/SRR960573/PRJNA217789_SRX342292_SRR960573_transcripts_abundance.tsv|  /data/samples/species/PRJNA217789/SRX342292/SRR960573/quant_PRJNA217789_SRX342292_SRR960573|           N/A|      A|           96|2020-02-29 06:19:31.866|\n",
            "|PRJNA231930|PRJNA231930|SRR1200896|Zonotrichia albicollis|44394|      WS719|         Illumina HiSeq 1000|         RNA-Seq|        SINGLE|            PolyA|SRP040426|The Brain Transcriptome of the White-throated Sparrow, a Vertebrate Model of Inversion Polymorphism| 'Tumor:no;sample_type:tissue;genotype:ZAL2/2m, 3a/3a;geo_loc_name:USA: DeKalb County, GA;capture_date:06-Nov-2006;photostimulation_date:09-Jul-2007;age:adult hatch-year;sex:male;common name:White-throated sparrow;phenotype:white-striped;collection_date:19-Aug-2007;tissue_type:brain;'Sex:male|          N/A|adult hatch-year|male|   no|     N/A|         1.1.0|Zonotrichia_albicollis-1.0.1_ensembl_99|/data/samples/species/PRJNA231930/SRX497634/SRR1200896/PRJNA231930_SRX497634_SRR1200896_genes_abundance.tsv|/data/samples/species/PRJNA231930/SRX497634/SRR1200896/PRJNA231930_SRX497634_SRR1200896_transcripts_abundance.tsv|/data/samples/species/PRJNA231930/SRX497634/SRR1200896/quant_PRJNA231930_SRX497634_SRR1200896|           N/A|      A|           96|2020-02-29 07:37:42.513|\n",
            "|PRJNA217789|PRJNA217789| SRR960571|Zonotrichia albicollis|44394|     10-092|         Illumina HiSeq 2000|         RNA-Seq|        SINGLE|             cDNA|SRP029385|                                            Zonotrichia albicollis Transcriptome or Gene expression|                                                                                                                                                                                    'Tumor:no;strain:white;age:adult;sex:male;isolate_label:3;collection_date:24-Apr-2010;tissue_type:brain;'Sex:male|          N/A|           adult|male|   no|     N/A|         1.1.0|Zonotrichia_albicollis-1.0.1_ensembl_99|  /data/samples/species/PRJNA217789/SRX342290/SRR960571/PRJNA217789_SRX342290_SRR960571_genes_abundance.tsv|  /data/samples/species/PRJNA217789/SRX342290/SRR960571/PRJNA217789_SRX342290_SRR960571_transcripts_abundance.tsv|  /data/samples/species/PRJNA217789/SRX342290/SRR960571/quant_PRJNA217789_SRX342290_SRR960571|           N/A|      A|          128|2020-02-19 19:27:44.064|\n",
            "|PRJNA217789|PRJNA217789| SRR960568|Zonotrichia albicollis|44394|     10-118|         Illumina HiSeq 2000|         RNA-Seq|        SINGLE|             cDNA|SRP029385|                                            Zonotrichia albicollis Transcriptome or Gene expression|                                                                                                                                                                                      'Tumor:no;strain:tan;age:adult;sex:male;isolate_label:6;collection_date:28-Apr-2010;tissue_type:brain;'Sex:male|          N/A|           adult|male|   no|     N/A|         1.1.0|Zonotrichia_albicollis-1.0.1_ensembl_99|  /data/samples/species/PRJNA217789/SRX342293/SRR960568/PRJNA217789_SRX342293_SRR960568_genes_abundance.tsv|  /data/samples/species/PRJNA217789/SRX342293/SRR960568/PRJNA217789_SRX342293_SRR960568_transcripts_abundance.tsv|  /data/samples/species/PRJNA217789/SRX342293/SRR960568/quant_PRJNA217789_SRX342293_SRR960568|           N/A|      A|          128| 2020-02-20 15:06:18.63|\n",
            "|PRJNA217789|PRJNA217789| SRR960570|Zonotrichia albicollis|44394|     10-308|         Illumina HiSeq 2000|         RNA-Seq|        SINGLE|             cDNA|SRP029385|                                            Zonotrichia albicollis Transcriptome or Gene expression|                                                                                                                                                                                      'Tumor:no;strain:tan;age:adult;sex:male;isolate_label:1;collection_date:21-Apr-2010;tissue_type:brain;'Sex:male|          N/A|           adult|male|   no|     N/A|         1.1.0|Zonotrichia_albicollis-1.0.1_ensembl_99|  /data/samples/species/PRJNA217789/SRX342288/SRR960570/PRJNA217789_SRX342288_SRR960570_genes_abundance.tsv|  /data/samples/species/PRJNA217789/SRX342288/SRR960570/PRJNA217789_SRX342288_SRR960570_transcripts_abundance.tsv|  /data/samples/species/PRJNA217789/SRX342288/SRR960570/quant_PRJNA217789_SRX342288_SRR960570|           N/A|      A|           96| 2020-02-29 07:28:04.41|\n",
            "|PRJNA231930|PRJNA231930|SRR1200897|Zonotrichia albicollis|44394|      WS955|         Illumina HiSeq 1000|         RNA-Seq|        SINGLE|            PolyA|SRP040426|The Brain Transcriptome of the White-throated Sparrow, a Vertebrate Model of Inversion Polymorphism|'Tumor:no;sample_type:tissue;genotype:ZAL2/2m, 3a/3a;geo_loc_name:USA: Hancock County, GA;capture_date:07-Dec-2009;photostimulation_date:08-Feb-2010;age:adult hatch-year;sex:male;common name:White-throated sparrow;phenotype:white-striped;collection_date:18-Mar-2010;tissue_type:brain;'Sex:male|          N/A|adult hatch-year|male|   no|     N/A|         1.1.0|Zonotrichia_albicollis-1.0.1_ensembl_99|/data/samples/species/PRJNA231930/SRX497602/SRR1200897/PRJNA231930_SRX497602_SRR1200897_genes_abundance.tsv|/data/samples/species/PRJNA231930/SRX497602/SRR1200897/PRJNA231930_SRX497602_SRR1200897_transcripts_abundance.tsv|/data/samples/species/PRJNA231930/SRX497602/SRR1200897/quant_PRJNA231930_SRX497602_SRR1200897|           N/A|      A|           96|2020-03-18 00:35:55.752|\n",
            "|PRJNA184055|   GSE43013| SRR636888|      Ursus americanus| 9643| GSM1055038|Illumina Genome Analyzer IIx|         RNA-Seq|        PAIRED|             cDNA|SRP017611|                                      Gene Expression Defines Natural Changes in Mammalian Lifespan|                                                                                                                                                                       'Tumor:no;genotype/variation:wild type;age:adult;tissue:normal liver;organ part:whole liver;source_name:Ursus americanus_liver| normal liver|           adult| N/A|   no|     N/A|        0.14.1|                            ASM334442v1|      /data/samples/species/GSE43013/GSM1055038/SRR636888/GSE43013_GSM1055038_SRR636888_genes_abundance.tsv|      /data/samples/species/GSE43013/GSM1055038/SRR636888/GSE43013_GSM1055038_SRR636888_transcripts_abundance.tsv|      /data/samples/species/GSE43013/GSM1055038/SRR636888/quant_GSE43013_GSM1055038_SRR636888|             A|      A|          128|2019-07-25 20:13:58.925|\n",
            "|PRJNA184055|   GSE43013| SRR636932|      Ursus americanus| 9643| GSM1055082|Illumina Genome Analyzer IIx|         RNA-Seq|        PAIRED|             cDNA|SRP017611|                                      Gene Expression Defines Natural Changes in Mammalian Lifespan|                                                                                                                                                                    'Tumor:no;genotype/variation:wild type;age:adult;tissue:normal kidney;organ part:whole kidney;source_name:Ursus americanus_kidney|normal kidney|           adult| N/A|   no|     N/A|        0.14.1|                            ASM334442v1|      /data/samples/species/GSE43013/GSM1055082/SRR636932/GSE43013_GSM1055082_SRR636932_genes_abundance.tsv|      /data/samples/species/GSE43013/GSM1055082/SRR636932/GSE43013_GSM1055082_SRR636932_transcripts_abundance.tsv|      /data/samples/species/GSE43013/GSM1055082/SRR636932/quant_GSE43013_GSM1055082_SRR636932|             A|      A|          128|2019-07-25 20:00:22.073|\n",
            "|PRJNA184055|   GSE43013| SRR636978|      Ursus americanus| 9643| GSM1055128|Illumina Genome Analyzer IIx|         RNA-Seq|        PAIRED|             cDNA|SRP017611|                                      Gene Expression Defines Natural Changes in Mammalian Lifespan|                                                                                                                                                            'Tumor:no;genotype/variation:wild type;age:adult;tissue:normal brain;organ part:frontal parts of brain;source_name:Ursus americanus_brain| normal brain|           adult| N/A|   no|     N/A|        0.14.1|                            ASM334442v1|      /data/samples/species/GSE43013/GSM1055128/SRR636978/GSE43013_GSM1055128_SRR636978_genes_abundance.tsv|      /data/samples/species/GSE43013/GSM1055128/SRR636978/GSE43013_GSM1055128_SRR636978_transcripts_abundance.tsv|      /data/samples/species/GSE43013/GSM1055128/SRR636978/quant_GSE43013_GSM1055128_SRR636978|             A|      A|          128|2019-07-25 20:01:49.104|\n",
            "|PRJNA184055|PRJNA184055| SRR636887|      Ursus americanus| 9643| GSM1055037|Illumina Genome Analyzer IIx|         RNA-Seq|        PAIRED|             cDNA|SRP017611|                                      Gene Expression Defines Natural Changes in Mammalian Lifespan|                                                                                                                                                                       'Tumor:no;genotype/variation:wild type;age:adult;tissue:normal liver;organ part:whole liver;source_name:Ursus americanus_liver| normal liver|           adult| N/A|   no|     N/A|        0.14.1|                            ASM334442v1|  /data/samples/species/PRJNA184055/SRX211627/SRR636887/PRJNA184055_SRX211627_SRR636887_genes_abundance.tsv|  /data/samples/species/PRJNA184055/SRX211627/SRR636887/PRJNA184055_SRX211627_SRR636887_transcripts_abundance.tsv|  /data/samples/species/PRJNA184055/SRX211627/SRR636887/quant_PRJNA184055_SRX211627_SRR636887|             A|      A|          128|2019-09-18 19:40:23.048|\n",
            "+-----------+-----------+----------+----------------------+-----+-----------+----------------------------+----------------+--------------+-----------------+---------+---------------------------------------------------------------------------------------------------+-----------------------------------------------------------------------------------------------------------------------------------------------------------------------------------------------------------------------------------------------------------------------------------------------------+-------------+----------------+----+-----+--------+--------------+---------------------------------------+-----------------------------------------------------------------------------------------------------------+-----------------------------------------------------------------------------------------------------------------+---------------------------------------------------------------------------------------------+--------------+-------+-------------+-----------------------+\n",
            "only showing top 10 rows\n",
            "\n"
          ],
          "output_type" : "stream"
        }
      ]
    },
    {
      "cell_type" : "code",
      "execution_count" : 63,
      "metadata" : {
        "cell.metadata.exec_info" : {
          "startTs" : 1586008247003,
          "endTs" : 1586008247768
        },
        "language" : "scala"
      },
      "language" : "scala",
      "source" : [
        "samples.count()"
      ],
      "outputs" : [
        {
          "execution_count" : 63,
          "data" : {
            "text/plain" : [
              "617"
            ]
          },
          "metadata" : {
            "name" : "Out",
            "type" : "Long"
          },
          "output_type" : "execute_result"
        }
      ]
    },
    {
      "cell_type" : "code",
      "execution_count" : 12,
      "metadata" : {
        "cell.metadata.exec_info" : {
          "startTs" : 1586008140856,
          "endTs" : 1586008141080
        },
        "language" : "scala"
      },
      "language" : "scala",
      "source" : [
        "val bioproject_prefix = \"https://www.ncbi.nlm.nih.gov/bioproject/\"\n",
        "val experiment_prefix = \"https://www.ncbi.nlm.nih.gov/geo/query/acc.cgi?acc=\"\n",
        "val sra_prefix = \"https://www.ncbi.nlm.nih.gov/sra/\"\n",
        "\n",
        "def bioproject(str: String) = s\"<${bioproject_prefix}${str}>\"\n",
        "def experiment(str: String) = if(str.contains(\"GSE\")) s\"<${experiment_prefix}$str>\" else bioproject(str)\n",
        "def run(str: String) = s\"<${experiment_prefix}${str}>\"\n",
        "val has_experiment = pref(\"has_experiment\")\n",
        "val has_run = pref(\"has_run\")\n",
        "val has_sample_name = pref(\"has_sample_name\")\n",
        "val has_experiments = pref(\"has_experiment\")\n"
      ],
      "outputs" : [
      ]
    },
    {
      "cell_type" : "code",
      "execution_count" : 13,
      "metadata" : {
        "cell.metadata.exec_info" : {
          "startTs" : 1586008174085,
          "endTs" : 1586008174241
        },
        "language" : "scala"
      },
      "language" : "scala",
      "source" : [
        "def pre(prefix: String, str: String) = \n",
        "    if(prefix.startsWith(\"xsd:\")) s\"\"\"\"$str\"^^$prefix\"\"\"\" else\n",
        "    if(prefix.contains(\"http\")) \"<\" + prefix + str + \">\" else     \n",
        "    prefix + str//sequence_memberssequence_membersse"
      ],
      "outputs" : [
      ]
    },
    {
      "cell_type" : "code",
      "execution_count" : 14,
      "metadata" : {
        "cell.metadata.exec_info" : {
          "startTs" : 1586008183306,
          "endTs" : 1586008184789
        },
        "language" : "scala"
      },
      "language" : "scala",
      "source" : [
        "def u_uri(pref: String) = udf[String, String]{ str => pref + str.replace(\" \", \"_\")}\n",
        "val u_string = udf[String, String]{ str => \"\\\"\" + str.replace(\"\\n\", \"\\\\n\").replace(\"\\\\\", \"\\\\\\\\\").replace(\"\\\"\", \"\\\\\\\"\") +  \"\\\"\" +\"^^<http://www.w3.org/2001/XMLSchema#string>\" }\n",
        "val u_double = udf[String, String]{ str => \"\\\"\" + str +  \"\\\"\" +\"^^<http://www.w3.org/2001/XMLSchema#double>\" }\n",
        "val u_integer= udf[String, String]{ str => \"\\\"\" + str +  \"\\\"\" +\"^^<http://www.w3.org/2001/XMLSchema#integer>\" }\n",
        "val u_exp = udf[String, String]{ str => if(str.contains(\"GSE\")) s\"<https://www.ncbi.nlm.nih.gov/geo/query/acc.cgi?acc=$str>\" else  s\"<https://www.ncbi.nlm.nih.gov/bioproject/${str}>\"}\n",
        "val u_study = udf[String, String]{  str => s\"<https://trace.ncbi.nlm.nih.gov/Traces/sra/?study=${str.replace(\" \", \"_\")}>\" }\n",
        "val u_ens = udf[String, String] { str => s\"<http://rdf.ebi.ac.uk/resource/ensembl/${str.replace(\" \", \"_\")}>\" }\n",
        "val u_samples = udf[String, String] { str => s\"<http://aging-research.group/samples/${str.replace(\" \", \"_\")}>\" }\n",
        "val u_base = udf[String, String] { str => s\"<http://aging-research.group/resource/${str.replace(\" \", \"_\")}>\" }\n",
        "val u_run = udf[String, String] { str => s\"<https://www.ncbi.nlm.nih.gov/sra/${str.replace(\" \", \"_\")}>\" }"
      ],
      "outputs" : [
      ]
    },
    {
      "cell_type" : "code",
      "execution_count" : 15,
      "metadata" : {
        "cell.metadata.exec_info" : {
          "startTs" : 1586010932646,
          "endTs" : 1586010932826
        },
        "language" : "scala"
      },
      "language" : "scala",
      "source" : [
        "genericArrayOps(samples.columns).toList.map(l=>\"\\\"\" + l + \"\\\"\").mkString(\"[\",\",\", \"]\")"
      ],
      "outputs" : [
        {
          "execution_count" : 15,
          "data" : {
            "text/plain" : [
              "[\"bioproject\",\"series\",\"run\",\"organism\",\"taxid\",\"sample_name\",\"sequencer\",\"library_strategy\",\"library_layout\",\"library_selection\",\"study\",\"study_title\",\"characteristics\",\"source\",\"age\",\"sex\",\"tumor\",\"protocol\",\"salmon_version\",\"index\",\"genes\",\"transcript"
            ]
          },
          "metadata" : {
            "name" : "Out",
            "type" : "String"
          },
          "output_type" : "execute_result"
        }
      ]
    },
    {
      "cell_type" : "code",
      "execution_count" : 80,
      "metadata" : {
        "cell.metadata.exec_info" : {
          "startTs" : 1586015188250,
          "endTs" : 1586015188350
        },
        "language" : "scala"
      },
      "language" : "scala",
      "source" : [
        "def skip(df: DataFrame, n: Int) = df.withColumn(\"Index\",monotonically_increasing_id)\n",
        "  .filter($\"Index\" > n)\n",
        "  .drop(\"Index\")"
      ],
      "outputs" : [
      ]
    },
    {
      "cell_type" : "code",
      "execution_count" : 16,
      "metadata" : {
        "cell.metadata.exec_info" : {
          "startTs" : 1586015846423,
          "endTs" : 1586015846803
        },
        "language" : "scala"
      },
      "language" : "scala",
      "source" : [
        "import org.apache.spark.sql.types.StringType\n",
        "val samples_prefixed = samples.withColumn(\"modified\",$\"modified\".cast(StringType)).na.fill(\"N/A\").na.fill(0)\n",
        "    .withColumn(\"bioproject\",u_exp($\"bioproject\"))\n",
        "    .withColumn(\"series\",u_exp($\"series\"))\n",
        "    .withColumn(\"run\",u_run($\"run\"))\n",
        "    .withColumn(\"organism\",u_base($\"organism\"))\n",
        "    .withColumn(\"sample_name\",u_string($\"sample_name\"))\n",
        "    .withColumn(\"sequencer\",u_samples($\"sequencer\"))\n",
        "    .withColumn(\"library_strategy\",u_samples($\"library_strategy\"))\n",
        "    .withColumn(\"library_layout\",u_samples($\"library_layout\"))    \n",
        "    .withColumn(\"library_selection\",u_samples($\"library_selection\"))\n",
        "    .withColumn(\"study\",u_study($\"study\"))\n",
        "    .withColumn(\"study_title\",u_string($\"study_title\"))      \n",
        "    .withColumn(\"characteristics\",u_string($\"characteristics\"))\n",
        "    .withColumn(\"source\",u_string($\"source\"))\n",
        "    .withColumn(\"age\",u_string($\"age\"))\n",
        "    .withColumn(\"sex\",u_string($\"sex\"))\n",
        "    .withColumn(\"tumor\",u_samples($\"tumor\"))\n",
        "    .withColumn(\"protocol\",u_string($\"protocol\"))\n",
        "    .withColumn(\"salmon_version\",u_string($\"salmon_version\"))\n",
        "    //.withColumn(\"percent_mapped\",u_double($\"percent_mapped\"))\n",
        "    .withColumn(\"libType\",u_string($\"libType\"))\n",
        "    .withColumn(\"numBootstraps\",u_integer($\"numBootstraps\"))\n",
        "    .withColumn(\"modified\",u_string($\"modified\"))        \n",
        "    .select(\n",
        "      \"bioproject\",\"series\",\"run\",\"organism\",\"taxid\",\"sample_name\",\"sequencer\",\"library_strategy\",\"library_layout\",\"library_selection\",\n",
        "      \"study\",\"study_title\",\"characteristics\",\"source\",\"age\",\"sex\",\"tumor\",\"protocol\",\n",
        "      \"salmon_version\", \"libType\",\"numBootstraps\",\"modified\"\n",
        "    )\n",
        "      \n",
        "    \n",
        "samples_prefixed.show(5, 10000)"
      ],
      "outputs" : [
        {
          "name" : "stdout",
          "text" : [
            "+-----------------------------------------------------+-----------------------------------------------------+---------------------------------------------+-------------------------------------------------------------+-----+---------------------------------------------------+---------------------------------------------------------+---------------------------------------------+--------------------------------------------+-------------------------------------------+------------------------------------------------------------+------------------------------------------------------------------------------------------------------------------------------------------------+--------------------------------------------------------------------------------------------------------------------------------------------------------------------------------------------------------------------------------------------------------------------------------------------------------------------------------------------------+------------------------------------------------+-------------------------------------------------------------+-------------------------------------------------+----------------------------------------+------------------------------------------------+--------------------------------------------------+----------------------------------------------+-------------------------------------------------+--------------------------------------------------------------------+\n",
            "|                                           bioproject|                                               series|                                          run|                                                     organism|taxid|                                        sample_name|                                                sequencer|                             library_strategy|                              library_layout|                          library_selection|                                                       study|                                                                                                                                     study_title|                                                                                                                                                                                                                                                                                                                                   characteristics|                                          source|                                                          age|                                              sex|                                   tumor|                                        protocol|                                    salmon_version|                                       libType|                                    numBootstraps|                                                            modified|\n",
            "+-----------------------------------------------------+-----------------------------------------------------+---------------------------------------------+-------------------------------------------------------------+-----+---------------------------------------------------+---------------------------------------------------------+---------------------------------------------+--------------------------------------------+-------------------------------------------+------------------------------------------------------------+------------------------------------------------------------------------------------------------------------------------------------------------+--------------------------------------------------------------------------------------------------------------------------------------------------------------------------------------------------------------------------------------------------------------------------------------------------------------------------------------------------+------------------------------------------------+-------------------------------------------------------------+-------------------------------------------------+----------------------------------------+------------------------------------------------+--------------------------------------------------+----------------------------------------------+-------------------------------------------------+--------------------------------------------------------------------+\n",
            "|<https://www.ncbi.nlm.nih.gov/bioproject/PRJNA217789>|<https://www.ncbi.nlm.nih.gov/bioproject/PRJNA217789>| <https://www.ncbi.nlm.nih.gov/sra/SRR960573>|<http://aging-research.group/resource/Zonotrichia_albicollis>|44394|\"10-124\"^^<http://www.w3.org/2001/XMLSchema#string>|<http://aging-research.group/samples/Illumina_HiSeq_2000>|<http://aging-research.group/samples/RNA-Seq>|<http://aging-research.group/samples/SINGLE>| <http://aging-research.group/samples/cDNA>|<https://trace.ncbi.nlm.nih.gov/Traces/sra/?study=SRP029385>|                                            \"Zonotrichia albicollis Transcriptome or Gene expression\"^^<http://www.w3.org/2001/XMLSchema#string>|                                                                                                                                                                                      \"'Tumor:no;strain:tan;age:adult;sex:male;isolate_label:5;collection_date:29-Apr-2010;tissue_type:brain;'Sex:male\"^^<http://www.w3.org/2001/XMLSchema#string>|\"N/A\"^^<http://www.w3.org/2001/XMLSchema#string>|           \"adult\"^^<http://www.w3.org/2001/XMLSchema#string>|\"male\"^^<http://www.w3.org/2001/XMLSchema#string>|<http://aging-research.group/samples/no>|\"N/A\"^^<http://www.w3.org/2001/XMLSchema#string>|\"1.1.0\"^^<http://www.w3.org/2001/XMLSchema#string>|\"A\"^^<http://www.w3.org/2001/XMLSchema#string>| \"96\"^^<http://www.w3.org/2001/XMLSchema#integer>|\"2020-02-29 06:19:31.866\"^^<http://www.w3.org/2001/XMLSchema#string>|\n",
            "|<https://www.ncbi.nlm.nih.gov/bioproject/PRJNA217789>|<https://www.ncbi.nlm.nih.gov/bioproject/PRJNA217789>| <https://www.ncbi.nlm.nih.gov/sra/SRR960570>|<http://aging-research.group/resource/Zonotrichia_albicollis>|44394|\"10-308\"^^<http://www.w3.org/2001/XMLSchema#string>|<http://aging-research.group/samples/Illumina_HiSeq_2000>|<http://aging-research.group/samples/RNA-Seq>|<http://aging-research.group/samples/SINGLE>| <http://aging-research.group/samples/cDNA>|<https://trace.ncbi.nlm.nih.gov/Traces/sra/?study=SRP029385>|                                            \"Zonotrichia albicollis Transcriptome or Gene expression\"^^<http://www.w3.org/2001/XMLSchema#string>|                                                                                                                                                                                      \"'Tumor:no;strain:tan;age:adult;sex:male;isolate_label:1;collection_date:21-Apr-2010;tissue_type:brain;'Sex:male\"^^<http://www.w3.org/2001/XMLSchema#string>|\"N/A\"^^<http://www.w3.org/2001/XMLSchema#string>|           \"adult\"^^<http://www.w3.org/2001/XMLSchema#string>|\"male\"^^<http://www.w3.org/2001/XMLSchema#string>|<http://aging-research.group/samples/no>|\"N/A\"^^<http://www.w3.org/2001/XMLSchema#string>|\"1.1.0\"^^<http://www.w3.org/2001/XMLSchema#string>|\"A\"^^<http://www.w3.org/2001/XMLSchema#string>| \"96\"^^<http://www.w3.org/2001/XMLSchema#integer>| \"2020-02-29 07:28:04.41\"^^<http://www.w3.org/2001/XMLSchema#string>|\n",
            "|<https://www.ncbi.nlm.nih.gov/bioproject/PRJNA217789>|<https://www.ncbi.nlm.nih.gov/bioproject/PRJNA217789>| <https://www.ncbi.nlm.nih.gov/sra/SRR960571>|<http://aging-research.group/resource/Zonotrichia_albicollis>|44394|\"10-092\"^^<http://www.w3.org/2001/XMLSchema#string>|<http://aging-research.group/samples/Illumina_HiSeq_2000>|<http://aging-research.group/samples/RNA-Seq>|<http://aging-research.group/samples/SINGLE>| <http://aging-research.group/samples/cDNA>|<https://trace.ncbi.nlm.nih.gov/Traces/sra/?study=SRP029385>|                                            \"Zonotrichia albicollis Transcriptome or Gene expression\"^^<http://www.w3.org/2001/XMLSchema#string>|                                                                                                                                                                                    \"'Tumor:no;strain:white;age:adult;sex:male;isolate_label:3;collection_date:24-Apr-2010;tissue_type:brain;'Sex:male\"^^<http://www.w3.org/2001/XMLSchema#string>|\"N/A\"^^<http://www.w3.org/2001/XMLSchema#string>|           \"adult\"^^<http://www.w3.org/2001/XMLSchema#string>|\"male\"^^<http://www.w3.org/2001/XMLSchema#string>|<http://aging-research.group/samples/no>|\"N/A\"^^<http://www.w3.org/2001/XMLSchema#string>|\"1.1.0\"^^<http://www.w3.org/2001/XMLSchema#string>|\"A\"^^<http://www.w3.org/2001/XMLSchema#string>|\"128\"^^<http://www.w3.org/2001/XMLSchema#integer>|\"2020-02-19 19:27:44.064\"^^<http://www.w3.org/2001/XMLSchema#string>|\n",
            "|<https://www.ncbi.nlm.nih.gov/bioproject/PRJNA217789>|<https://www.ncbi.nlm.nih.gov/bioproject/PRJNA217789>| <https://www.ncbi.nlm.nih.gov/sra/SRR960568>|<http://aging-research.group/resource/Zonotrichia_albicollis>|44394|\"10-118\"^^<http://www.w3.org/2001/XMLSchema#string>|<http://aging-research.group/samples/Illumina_HiSeq_2000>|<http://aging-research.group/samples/RNA-Seq>|<http://aging-research.group/samples/SINGLE>| <http://aging-research.group/samples/cDNA>|<https://trace.ncbi.nlm.nih.gov/Traces/sra/?study=SRP029385>|                                            \"Zonotrichia albicollis Transcriptome or Gene expression\"^^<http://www.w3.org/2001/XMLSchema#string>|                                                                                                                                                                                      \"'Tumor:no;strain:tan;age:adult;sex:male;isolate_label:6;collection_date:28-Apr-2010;tissue_type:brain;'Sex:male\"^^<http://www.w3.org/2001/XMLSchema#string>|\"N/A\"^^<http://www.w3.org/2001/XMLSchema#string>|           \"adult\"^^<http://www.w3.org/2001/XMLSchema#string>|\"male\"^^<http://www.w3.org/2001/XMLSchema#string>|<http://aging-research.group/samples/no>|\"N/A\"^^<http://www.w3.org/2001/XMLSchema#string>|\"1.1.0\"^^<http://www.w3.org/2001/XMLSchema#string>|\"A\"^^<http://www.w3.org/2001/XMLSchema#string>|\"128\"^^<http://www.w3.org/2001/XMLSchema#integer>| \"2020-02-20 15:06:18.63\"^^<http://www.w3.org/2001/XMLSchema#string>|\n",
            "|<https://www.ncbi.nlm.nih.gov/bioproject/PRJNA231930>|<https://www.ncbi.nlm.nih.gov/bioproject/PRJNA231930>|<https://www.ncbi.nlm.nih.gov/sra/SRR1200897>|<http://aging-research.group/resource/Zonotrichia_albicollis>|44394| \"WS955\"^^<http://www.w3.org/2001/XMLSchema#string>|<http://aging-research.group/samples/Illumina_HiSeq_1000>|<http://aging-research.group/samples/RNA-Seq>|<http://aging-research.group/samples/SINGLE>|<http://aging-research.group/samples/PolyA>|<https://trace.ncbi.nlm.nih.gov/Traces/sra/?study=SRP040426>|\"The Brain Transcriptome of the White-throated Sparrow, a Vertebrate Model of Inversion Polymorphism\"^^<http://www.w3.org/2001/XMLSchema#string>|\"'Tumor:no;sample_type:tissue;genotype:ZAL2/2m, 3a/3a;geo_loc_name:USA: Hancock County, GA;capture_date:07-Dec-2009;photostimulation_date:08-Feb-2010;age:adult hatch-year;sex:male;common name:White-throated sparrow;phenotype:white-striped;collection_date:18-Mar-2010;tissue_type:brain;'Sex:male\"^^<http://www.w3.org/2001/XMLSchema#string>|\"N/A\"^^<http://www.w3.org/2001/XMLSchema#string>|\"adult hatch-year\"^^<http://www.w3.org/2001/XMLSchema#string>|\"male\"^^<http://www.w3.org/2001/XMLSchema#string>|<http://aging-research.group/samples/no>|\"N/A\"^^<http://www.w3.org/2001/XMLSchema#string>|\"1.1.0\"^^<http://www.w3.org/2001/XMLSchema#string>|\"A\"^^<http://www.w3.org/2001/XMLSchema#string>| \"96\"^^<http://www.w3.org/2001/XMLSchema#integer>|\"2020-03-18 00:35:55.752\"^^<http://www.w3.org/2001/XMLSchema#string>|\n",
            "+-----------------------------------------------------+-----------------------------------------------------+---------------------------------------------+-------------------------------------------------------------+-----+---------------------------------------------------+---------------------------------------------------------+---------------------------------------------+--------------------------------------------+-------------------------------------------+------------------------------------------------------------+------------------------------------------------------------------------------------------------------------------------------------------------+--------------------------------------------------------------------------------------------------------------------------------------------------------------------------------------------------------------------------------------------------------------------------------------------------------------------------------------------------+------------------------------------------------+-------------------------------------------------------------+-------------------------------------------------+----------------------------------------+------------------------------------------------+--------------------------------------------------+----------------------------------------------+-------------------------------------------------+--------------------------------------------------------------------+\n",
            "only showing top 5 rows\n",
            "\n"
          ],
          "output_type" : "stream"
        }
      ]
    },
    {
      "cell_type" : "markdown",
      "execution_count" : 67,
      "metadata" : {
        "language" : "text"
      },
      "language" : "text",
      "source" : [
        "## Quads functions\n",
        "\n"
      ],
      "outputs" : [
      ]
    },
    {
      "cell_type" : "code",
      "execution_count" : 17,
      "metadata" : {
        "cell.metadata.exec_info" : {
          "startTs" : 1586015849954,
          "endTs" : 1586015850142
        },
        "language" : "scala"
      },
      "language" : "scala",
      "source" : [
        "  //note first is subject, others - objects!\n",
        "  def toQuads(dataFrame: DataFrame, subject_prefix: String, subject_column: String,\n",
        "  properties: Seq[String], prefixes: Seq[String], object_columns: Seq[String], context: String = prefix_samples):  \n",
        "  org.apache.spark.sql.Dataset[(String, String, String, String)] = {\n",
        "    require(properties.length == prefixes.length && \n",
        "    prefixes.length == object_columns.length, \n",
        "    s\"not same number of properties(${properties.length}), prefixes(${prefixes.length}) and columns(${object_columns.length})\")\n",
        "    val df = dataFrame.select(subject_column, object_columns:_*)    \n",
        "    df.flatMap{ case row=>       \n",
        "            val sub = pre(subject_prefix, row.getAs[String](subject_column)) \n",
        "            properties.zip(prefixes.zip(object_columns)).map{ \n",
        "                case (prop, (pref, col)) => \n",
        "                    val i = row.fieldIndex(col)\n",
        "                    val value = row.get(i).toString\n",
        "                    val o = pre(pref, value) //pre(pref, row.getAs[String](col))\n",
        "                    (sub, prop, o, \"<\" + context + \">\" + \" .\")\n",
        "            }\n",
        "    }.toDF(\"subject\", \"property\", \"object\", \"context\").as[(String, String, String, String)]   \n",
        "    \n",
        "}"
      ],
      "outputs" : [
      ]
    },
    {
      "cell_type" : "code",
      "execution_count" : 68,
      "metadata" : {
        "cell.metadata.exec_info" : {
          "startTs" : 1586015851453,
          "endTs" : 1586015851547
        },
        "language" : "scala"
      },
      "language" : "scala",
      "source" : [
        "def toHasQuads(dataFrame: DataFrame, subject_prefix: String, subject_column: String,\n",
        "   prefixes: Seq[String], columns: Seq[String], context: String = prefix_samples, property_prefix: String = prefix_samples) = {\n",
        "      val properties = columns.map(c=> pre(property_prefix, \"has_\"+c))\n",
        "      toQuads(dataFrame, subject_prefix, subject_column, properties, prefixes, columns, context)\n",
        "  }"
      ],
      "outputs" : [
      ]
    },
    {
      "cell_type" : "code",
      "execution_count" : 18,
      "metadata" : {
        "cell.metadata.exec_info" : {
          "startTs" : 1586015852832,
          "endTs" : 1586015852947
        },
        "language" : "scala"
      },
      "language" : "scala",
      "source" : [
        "def toHasPrefixedQuads(dataFrame: DataFrame, subject_prefix: String, subject_column: String,\n",
        "columns: Seq[String], context: String = prefix_samples, property_prefix: String = prefix_samples, object_prefix: String = prefix_samples) = {\n",
        "    val properties = columns.map(c=> pre(property_prefix, c))\n",
        "    val prefixes = columns.map(_ => object_prefix)\n",
        "    toQuads(dataFrame, subject_prefix, subject_column, properties, prefixes, columns, context)\n",
        "}\n",
        "\n",
        "def toHasRawQuads(dataFrame: DataFrame, subject_column: String, context: String = prefix_samples, property_prefix: String = prefix_samples) = {\n",
        "    val columns = genericArrayOps(dataFrame.columns).toList.filterNot(_==subject_column)\n",
        "    val properties = columns.map(c=> pre(property_prefix, \"has_\"+c))    \n",
        "    val prefixes = columns.map(_ => \"\")\n",
        "    toQuads(dataFrame, \"\", subject_column, properties, prefixes, columns, context)\n",
        "}"
      ],
      "outputs" : [
      ]
    },
    {
      "cell_type" : "code",
      "execution_count" : 19,
      "metadata" : {
        "cell.metadata.exec_info" : {
          "startTs" : 1586015854136,
          "endTs" : 1586015854365
        },
        "language" : "scala"
      },
      "language" : "scala",
      "source" : [
        "def has_domains(subject: String, columns: Seq[String], context: String = prefix_samples, subject_prefix: String = prefix_samples, property_prefix: String = prefix_samples) = {\n",
        "    val domain = if(subject.contains(subject_prefix)) subject else pre(subject_prefix, subject)\n",
        "    val ts = columns.map(c=>( pre(property_prefix, \"has_\"+c), \"<http://www.w3.org/2000/01/rdf-schema#domain>\", domain, \"<\" + context +\">\" +\" .\")   ) \n",
        "    spark.createDataset[(String, String, String, String)](ts)\n",
        "}\n",
        "def of_class(df:  org.apache.spark.sql.Dataset[_], subject: String, column: String = \"subject\", subject_prefix: String = prefix_samples, context: String = prefix_samples) ={\n",
        "    val v = df.select(column).distinct.as[String]\n",
        "    val cl = if(subject.contains(subject_prefix)) subject else pre(subject_prefix, subject)    \n",
        "    val ts = Seq((cl, \"<http://www.w3.org/2000/01/rdf-schema#subClassOf>\", \"<http://www.w3.org/2002/07/owl#Class>\",  \"<\" + context +\">\" +\" .\"))\n",
        "    spark.createDataset[(String, String, String, String)](ts).union(\n",
        "        v\n",
        "    .withColumn(\"property\", lit(\"<http://www.w3.org/1999/02/22-rdf-syntax-ns#type>\"))\n",
        "    .withColumn(\"object\", lit(cl))\n",
        "    .withColumn(\"context\", lit(\"<\" + context +\">\" +\" .\"))\n",
        "    .as[(String, String, String, String)])\n",
        "}"
      ],
      "outputs" : [
      ]
    },
    {
      "cell_type" : "code",
      "execution_count" : 20,
      "metadata" : {
        "cell.metadata.exec_info" : {
          "startTs" : 1586015855018,
          "endTs" : 1586015856365
        },
        "language" : "scala"
      },
      "language" : "scala",
      "source" : [
        "val biopro_prep = samples_prefixed.select(\"bioproject\", \"series\", \"run\", \"study\")\n",
        "val biopro = toHasRawQuads(biopro_prep, \"bioproject\")\n",
        "val all_biopro = of_class(biopro, \"Bioproject\").union(has_domains(\"Bioproject\", genericArrayOps(biopro_prep.columns).toList)).union(biopro)\n",
        ".toDF(\"subject\", \"property\", \"object\", \"context\")\n",
        "println(all_biopro.count)\n",
        "all_biopro.show(100,10000)"
      ],
      "outputs" : [
        {
          "name" : "stdout",
          "text" : [
            "1982\n",
            "+-----------------------------------------------------+-------------------------------------------------+------------------------------------------------+----------------------------------------+\n",
            "|                                              subject|                                         property|                                          object|                                 context|\n",
            "+-----------------------------------------------------+-------------------------------------------------+------------------------------------------------+----------------------------------------+\n",
            "|     <http://aging-research.group/samples/Bioproject>|<http://www.w3.org/2000/01/rdf-schema#subClassOf>|           <http://www.w3.org/2002/07/owl#Class>|<http://aging-research.group/samples/> .|\n",
            "|<https://www.ncbi.nlm.nih.gov/bioproject/PRJNA200320>|<http://www.w3.org/1999/02/22-rdf-syntax-ns#type>|<http://aging-research.group/samples/Bioproject>|<http://aging-research.group/samples/> .|\n",
            "|<https://www.ncbi.nlm.nih.gov/bioproject/PRJNA184055>|<http://www.w3.org/1999/02/22-rdf-syntax-ns#type>|<http://aging-research.group/samples/Bioproject>|<http://aging-research.group/samples/> .|\n",
            "|<https://www.ncbi.nlm.nih.gov/bioproject/PRJNA312819>|<http://www.w3.org/1999/02/22-rdf-syntax-ns#type>|<http://aging-research.group/samples/Bioproject>|<http://aging-research.group/samples/> .|\n",
            "|<https://www.ncbi.nlm.nih.gov/bioproject/PRJNA160149>|<http://www.w3.org/1999/02/22-rdf-syntax-ns#type>|<http://aging-research.group/samples/Bioproject>|<http://aging-research.group/samples/> .|\n",
            "| <https://www.ncbi.nlm.nih.gov/bioproject/PRJEB20980>|<http://www.w3.org/1999/02/22-rdf-syntax-ns#type>|<http://aging-research.group/samples/Bioproject>|<http://aging-research.group/samples/> .|\n",
            "|<https://www.ncbi.nlm.nih.gov/bioproject/PRJNA182914>|<http://www.w3.org/1999/02/22-rdf-syntax-ns#type>|<http://aging-research.group/samples/Bioproject>|<http://aging-research.group/samples/> .|\n",
            "|<https://www.ncbi.nlm.nih.gov/bioproject/PRJNA438118>|<http://www.w3.org/1999/02/22-rdf-syntax-ns#type>|<http://aging-research.group/samples/Bioproject>|<http://aging-research.group/samples/> .|\n",
            "|<https://www.ncbi.nlm.nih.gov/bioproject/PRJNA218629>|<http://www.w3.org/1999/02/22-rdf-syntax-ns#type>|<http://aging-research.group/samples/Bioproject>|<http://aging-research.group/samples/> .|\n",
            "|<https://www.ncbi.nlm.nih.gov/bioproject/PRJNA357680>|<http://www.w3.org/1999/02/22-rdf-syntax-ns#type>|<http://aging-research.group/samples/Bioproject>|<http://aging-research.group/samples/> .|\n",
            "| <https://www.ncbi.nlm.nih.gov/bioproject/PRJEB31270>|<http://www.w3.org/1999/02/22-rdf-syntax-ns#type>|<http://aging-research.group/samples/Bioproject>|<http://aging-research.group/samples/> .|\n",
            "|  <https://www.ncbi.nlm.nih.gov/bioproject/PRJDB3398>|<http://www.w3.org/1999/02/22-rdf-syntax-ns#type>|<http://aging-research.group/samples/Bioproject>|<http://aging-research.group/samples/> .|\n",
            "|<https://www.ncbi.nlm.nih.gov/bioproject/PRJNA143625>|<http://www.w3.org/1999/02/22-rdf-syntax-ns#type>|<http://aging-research.group/samples/Bioproject>|<http://aging-research.group/samples/> .|\n",
            "| <https://www.ncbi.nlm.nih.gov/bioproject/PRJEB21760>|<http://www.w3.org/1999/02/22-rdf-syntax-ns#type>|<http://aging-research.group/samples/Bioproject>|<http://aging-research.group/samples/> .|\n",
            "|<https://www.ncbi.nlm.nih.gov/bioproject/PRJNA454681>|<http://www.w3.org/1999/02/22-rdf-syntax-ns#type>|<http://aging-research.group/samples/Bioproject>|<http://aging-research.group/samples/> .|\n",
            "|<https://www.ncbi.nlm.nih.gov/bioproject/PRJNA283581>|<http://www.w3.org/1999/02/22-rdf-syntax-ns#type>|<http://aging-research.group/samples/Bioproject>|<http://aging-research.group/samples/> .|\n",
            "|<https://www.ncbi.nlm.nih.gov/bioproject/PRJNA516733>|<http://www.w3.org/1999/02/22-rdf-syntax-ns#type>|<http://aging-research.group/samples/Bioproject>|<http://aging-research.group/samples/> .|\n",
            "|<https://www.ncbi.nlm.nih.gov/bioproject/PRJNA186646>|<http://www.w3.org/1999/02/22-rdf-syntax-ns#type>|<http://aging-research.group/samples/Bioproject>|<http://aging-research.group/samples/> .|\n",
            "|<https://www.ncbi.nlm.nih.gov/bioproject/PRJNA241410>|<http://www.w3.org/1999/02/22-rdf-syntax-ns#type>|<http://aging-research.group/samples/Bioproject>|<http://aging-research.group/samples/> .|\n",
            "|<https://www.ncbi.nlm.nih.gov/bioproject/PRJNA193501>|<http://www.w3.org/1999/02/22-rdf-syntax-ns#type>|<http://aging-research.group/samples/Bioproject>|<http://aging-research.group/samples/> .|\n",
            "|<https://www.ncbi.nlm.nih.gov/bioproject/PRJNA242409>|<http://www.w3.org/1999/02/22-rdf-syntax-ns#type>|<http://aging-research.group/samples/Bioproject>|<http://aging-research.group/samples/> .|\n",
            "|<https://www.ncbi.nlm.nih.gov/bioproject/PRJNA208335>|<http://www.w3.org/1999/02/22-rdf-syntax-ns#type>|<http://aging-research.group/samples/Bioproject>|<http://aging-research.group/samples/> .|\n",
            "|<https://www.ncbi.nlm.nih.gov/bioproject/PRJNA319368>|<http://www.w3.org/1999/02/22-rdf-syntax-ns#type>|<http://aging-research.group/samples/Bioproject>|<http://aging-research.group/samples/> .|\n",
            "|<https://www.ncbi.nlm.nih.gov/bioproject/PRJNA392328>|<http://www.w3.org/1999/02/22-rdf-syntax-ns#type>|<http://aging-research.group/samples/Bioproject>|<http://aging-research.group/samples/> .|\n",
            "|<https://www.ncbi.nlm.nih.gov/bioproject/PRJNA280454>|<http://www.w3.org/1999/02/22-rdf-syntax-ns#type>|<http://aging-research.group/samples/Bioproject>|<http://aging-research.group/samples/> .|\n",
            "| <https://www.ncbi.nlm.nih.gov/bioproject/PRJEB11533>|<http://www.w3.org/1999/02/22-rdf-syntax-ns#type>|<http://aging-research.group/samples/Bioproject>|<http://aging-research.group/samples/> .|\n",
            "|<https://www.ncbi.nlm.nih.gov/bioproject/PRJNA258080>|<http://www.w3.org/1999/02/22-rdf-syntax-ns#type>|<http://aging-research.group/samples/Bioproject>|<http://aging-research.group/samples/> .|\n",
            "|<https://www.ncbi.nlm.nih.gov/bioproject/PRJNA203643>|<http://www.w3.org/1999/02/22-rdf-syntax-ns#type>|<http://aging-research.group/samples/Bioproject>|<http://aging-research.group/samples/> .|\n",
            "|<https://www.ncbi.nlm.nih.gov/bioproject/PRJNA320146>|<http://www.w3.org/1999/02/22-rdf-syntax-ns#type>|<http://aging-research.group/samples/Bioproject>|<http://aging-research.group/samples/> .|\n",
            "|<https://www.ncbi.nlm.nih.gov/bioproject/PRJNA293021>|<http://www.w3.org/1999/02/22-rdf-syntax-ns#type>|<http://aging-research.group/samples/Bioproject>|<http://aging-research.group/samples/> .|\n",
            "|<https://www.ncbi.nlm.nih.gov/bioproject/PRJNA313464>|<http://www.w3.org/1999/02/22-rdf-syntax-ns#type>|<http://aging-research.group/samples/Bioproject>|<http://aging-research.group/samples/> .|\n",
            "|<https://www.ncbi.nlm.nih.gov/bioproject/PRJNA238328>|<http://www.w3.org/1999/02/22-rdf-syntax-ns#type>|<http://aging-research.group/samples/Bioproject>|<http://aging-research.group/samples/> .|\n",
            "|<https://www.ncbi.nlm.nih.gov/bioproject/PRJNA352990>|<http://www.w3.org/1999/02/22-rdf-syntax-ns#type>|<http://aging-research.group/samples/Bioproject>|<http://aging-research.group/samples/> .|\n",
            "|<https://www.ncbi.nlm.nih.gov/bioproject/PRJNA271912>|<http://www.w3.org/1999/02/22-rdf-syntax-ns#type>|<http://aging-research.group/samples/Bioproject>|<http://aging-research.group/samples/> .|\n",
            "|<https://www.ncbi.nlm.nih.gov/bioproject/PRJNA249058>|<http://www.w3.org/1999/02/22-rdf-syntax-ns#type>|<http://aging-research.group/samples/Bioproject>|<http://aging-research.group/samples/> .|\n",
            "|<https://www.ncbi.nlm.nih.gov/bioproject/PRJNA339185>|<http://www.w3.org/1999/02/22-rdf-syntax-ns#type>|<http://aging-research.group/samples/Bioproject>|<http://aging-research.group/samples/> .|\n",
            "|<https://www.ncbi.nlm.nih.gov/bioproject/PRJNA412080>|<http://www.w3.org/1999/02/22-rdf-syntax-ns#type>|<http://aging-research.group/samples/Bioproject>|<http://aging-research.group/samples/> .|\n",
            "|<https://www.ncbi.nlm.nih.gov/bioproject/PRJNA293919>|<http://www.w3.org/1999/02/22-rdf-syntax-ns#type>|<http://aging-research.group/samples/Bioproject>|<http://aging-research.group/samples/> .|\n",
            "|<https://www.ncbi.nlm.nih.gov/bioproject/PRJNA143627>|<http://www.w3.org/1999/02/22-rdf-syntax-ns#type>|<http://aging-research.group/samples/Bioproject>|<http://aging-research.group/samples/> .|\n",
            "|<https://www.ncbi.nlm.nih.gov/bioproject/PRJNA401436>|<http://www.w3.org/1999/02/22-rdf-syntax-ns#type>|<http://aging-research.group/samples/Bioproject>|<http://aging-research.group/samples/> .|\n",
            "|<https://www.ncbi.nlm.nih.gov/bioproject/PRJNA310841>|<http://www.w3.org/1999/02/22-rdf-syntax-ns#type>|<http://aging-research.group/samples/Bioproject>|<http://aging-research.group/samples/> .|\n",
            "|<https://www.ncbi.nlm.nih.gov/bioproject/PRJNA309284>|<http://www.w3.org/1999/02/22-rdf-syntax-ns#type>|<http://aging-research.group/samples/Bioproject>|<http://aging-research.group/samples/> .|\n",
            "|<https://www.ncbi.nlm.nih.gov/bioproject/PRJNA285140>|<http://www.w3.org/1999/02/22-rdf-syntax-ns#type>|<http://aging-research.group/samples/Bioproject>|<http://aging-research.group/samples/> .|\n",
            "|<https://www.ncbi.nlm.nih.gov/bioproject/PRJNA276799>|<http://www.w3.org/1999/02/22-rdf-syntax-ns#type>|<http://aging-research.group/samples/Bioproject>|<http://aging-research.group/samples/> .|\n",
            "|<https://www.ncbi.nlm.nih.gov/bioproject/PRJNA540429>|<http://www.w3.org/1999/02/22-rdf-syntax-ns#type>|<http://aging-research.group/samples/Bioproject>|<http://aging-research.group/samples/> .|\n",
            "|<https://www.ncbi.nlm.nih.gov/bioproject/PRJNA251633>|<http://www.w3.org/1999/02/22-rdf-syntax-ns#type>|<http://aging-research.group/samples/Bioproject>|<http://aging-research.group/samples/> .|\n",
            "|<https://www.ncbi.nlm.nih.gov/bioproject/PRJNA398031>|<http://www.w3.org/1999/02/22-rdf-syntax-ns#type>|<http://aging-research.group/samples/Bioproject>|<http://aging-research.group/samples/> .|\n",
            "|<https://www.ncbi.nlm.nih.gov/bioproject/PRJNA352725>|<http://www.w3.org/1999/02/22-rdf-syntax-ns#type>|<http://aging-research.group/samples/Bioproject>|<http://aging-research.group/samples/> .|\n",
            "|  <https://www.ncbi.nlm.nih.gov/bioproject/PRJEB3197>|<http://www.w3.org/1999/02/22-rdf-syntax-ns#type>|<http://aging-research.group/samples/Bioproject>|<http://aging-research.group/samples/> .|\n",
            "|  <https://www.ncbi.nlm.nih.gov/bioproject/PRJEB4677>|<http://www.w3.org/1999/02/22-rdf-syntax-ns#type>|<http://aging-research.group/samples/Bioproject>|<http://aging-research.group/samples/> .|\n",
            "|<https://www.ncbi.nlm.nih.gov/bioproject/PRJNA313448>|<http://www.w3.org/1999/02/22-rdf-syntax-ns#type>|<http://aging-research.group/samples/Bioproject>|<http://aging-research.group/samples/> .|\n",
            "|<https://www.ncbi.nlm.nih.gov/bioproject/PRJNA400695>|<http://www.w3.org/1999/02/22-rdf-syntax-ns#type>|<http://aging-research.group/samples/Bioproject>|<http://aging-research.group/samples/> .|\n",
            "|<https://www.ncbi.nlm.nih.gov/bioproject/PRJNA354198>|<http://www.w3.org/1999/02/22-rdf-syntax-ns#type>|<http://aging-research.group/samples/Bioproject>|<http://aging-research.group/samples/> .|\n",
            "|<https://www.ncbi.nlm.nih.gov/bioproject/PRJNA386218>|<http://www.w3.org/1999/02/22-rdf-syntax-ns#type>|<http://aging-research.group/samples/Bioproject>|<http://aging-research.group/samples/> .|\n",
            "|<https://www.ncbi.nlm.nih.gov/bioproject/PRJNA284903>|<http://www.w3.org/1999/02/22-rdf-syntax-ns#type>|<http://aging-research.group/samples/Bioproject>|<http://aging-research.group/samples/> .|\n",
            "|<https://www.ncbi.nlm.nih.gov/bioproject/PRJNA183121>|<http://www.w3.org/1999/02/22-rdf-syntax-ns#type>|<http://aging-research.group/samples/Bioproject>|<http://aging-research.group/samples/> .|\n",
            "|<https://www.ncbi.nlm.nih.gov/bioproject/PRJNA264588>|<http://www.w3.org/1999/02/22-rdf-syntax-ns#type>|<http://aging-research.group/samples/Bioproject>|<http://aging-research.group/samples/> .|\n",
            "|<https://www.ncbi.nlm.nih.gov/bioproject/PRJNA168475>|<http://www.w3.org/1999/02/22-rdf-syntax-ns#type>|<http://aging-research.group/samples/Bioproject>|<http://aging-research.group/samples/> .|\n",
            "| <https://www.ncbi.nlm.nih.gov/bioproject/PRJEB13074>|<http://www.w3.org/1999/02/22-rdf-syntax-ns#type>|<http://aging-research.group/samples/Bioproject>|<http://aging-research.group/samples/> .|\n",
            "|<https://www.ncbi.nlm.nih.gov/bioproject/PRJNA545333>|<http://www.w3.org/1999/02/22-rdf-syntax-ns#type>|<http://aging-research.group/samples/Bioproject>|<http://aging-research.group/samples/> .|\n",
            "|<https://www.ncbi.nlm.nih.gov/bioproject/PRJNA217789>|<http://www.w3.org/1999/02/22-rdf-syntax-ns#type>|<http://aging-research.group/samples/Bioproject>|<http://aging-research.group/samples/> .|\n",
            "|<https://www.ncbi.nlm.nih.gov/bioproject/PRJNA141257>|<http://www.w3.org/1999/02/22-rdf-syntax-ns#type>|<http://aging-research.group/samples/Bioproject>|<http://aging-research.group/samples/> .|\n",
            "|<https://www.ncbi.nlm.nih.gov/bioproject/PRJNA246761>|<http://www.w3.org/1999/02/22-rdf-syntax-ns#type>|<http://aging-research.group/samples/Bioproject>|<http://aging-research.group/samples/> .|\n",
            "|<https://www.ncbi.nlm.nih.gov/bioproject/PRJNA285021>|<http://www.w3.org/1999/02/22-rdf-syntax-ns#type>|<http://aging-research.group/samples/Bioproject>|<http://aging-research.group/samples/> .|\n",
            "|  <https://www.ncbi.nlm.nih.gov/bioproject/PRJEB6169>|<http://www.w3.org/1999/02/22-rdf-syntax-ns#type>|<http://aging-research.group/samples/Bioproject>|<http://aging-research.group/samples/> .|\n",
            "|<https://www.ncbi.nlm.nih.gov/bioproject/PRJNA281763>|<http://www.w3.org/1999/02/22-rdf-syntax-ns#type>|<http://aging-research.group/samples/Bioproject>|<http://aging-research.group/samples/> .|\n",
            "|<https://www.ncbi.nlm.nih.gov/bioproject/PRJNA381841>|<http://www.w3.org/1999/02/22-rdf-syntax-ns#type>|<http://aging-research.group/samples/Bioproject>|<http://aging-research.group/samples/> .|\n",
            "|<https://www.ncbi.nlm.nih.gov/bioproject/PRJNA543000>|<http://www.w3.org/1999/02/22-rdf-syntax-ns#type>|<http://aging-research.group/samples/Bioproject>|<http://aging-research.group/samples/> .|\n",
            "|<https://www.ncbi.nlm.nih.gov/bioproject/PRJNA318917>|<http://www.w3.org/1999/02/22-rdf-syntax-ns#type>|<http://aging-research.group/samples/Bioproject>|<http://aging-research.group/samples/> .|\n",
            "|<https://www.ncbi.nlm.nih.gov/bioproject/PRJNA362606>|<http://www.w3.org/1999/02/22-rdf-syntax-ns#type>|<http://aging-research.group/samples/Bioproject>|<http://aging-research.group/samples/> .|\n",
            "|<https://www.ncbi.nlm.nih.gov/bioproject/PRJNA379599>|<http://www.w3.org/1999/02/22-rdf-syntax-ns#type>|<http://aging-research.group/samples/Bioproject>|<http://aging-research.group/samples/> .|\n",
            "|<https://www.ncbi.nlm.nih.gov/bioproject/PRJNA296888>|<http://www.w3.org/1999/02/22-rdf-syntax-ns#type>|<http://aging-research.group/samples/Bioproject>|<http://aging-research.group/samples/> .|\n",
            "|<https://www.ncbi.nlm.nih.gov/bioproject/PRJNA215848>|<http://www.w3.org/1999/02/22-rdf-syntax-ns#type>|<http://aging-research.group/samples/Bioproject>|<http://aging-research.group/samples/> .|\n",
            "|<https://www.ncbi.nlm.nih.gov/bioproject/PRJNA230900>|<http://www.w3.org/1999/02/22-rdf-syntax-ns#type>|<http://aging-research.group/samples/Bioproject>|<http://aging-research.group/samples/> .|\n",
            "|<https://www.ncbi.nlm.nih.gov/bioproject/PRJNA396588>|<http://www.w3.org/1999/02/22-rdf-syntax-ns#type>|<http://aging-research.group/samples/Bioproject>|<http://aging-research.group/samples/> .|\n",
            "|<https://www.ncbi.nlm.nih.gov/bioproject/PRJNA254971>|<http://www.w3.org/1999/02/22-rdf-syntax-ns#type>|<http://aging-research.group/samples/Bioproject>|<http://aging-research.group/samples/> .|\n",
            "|<https://www.ncbi.nlm.nih.gov/bioproject/PRJNA298663>|<http://www.w3.org/1999/02/22-rdf-syntax-ns#type>|<http://aging-research.group/samples/Bioproject>|<http://aging-research.group/samples/> .|\n",
            "|<https://www.ncbi.nlm.nih.gov/bioproject/PRJNA177791>|<http://www.w3.org/1999/02/22-rdf-syntax-ns#type>|<http://aging-research.group/samples/Bioproject>|<http://aging-research.group/samples/> .|\n",
            "|<https://www.ncbi.nlm.nih.gov/bioproject/PRJNA174234>|<http://www.w3.org/1999/02/22-rdf-syntax-ns#type>|<http://aging-research.group/samples/Bioproject>|<http://aging-research.group/samples/> .|\n",
            "|<https://www.ncbi.nlm.nih.gov/bioproject/PRJNA248058>|<http://www.w3.org/1999/02/22-rdf-syntax-ns#type>|<http://aging-research.group/samples/Bioproject>|<http://aging-research.group/samples/> .|\n",
            "|<https://www.ncbi.nlm.nih.gov/bioproject/PRJNA210317>|<http://www.w3.org/1999/02/22-rdf-syntax-ns#type>|<http://aging-research.group/samples/Bioproject>|<http://aging-research.group/samples/> .|\n",
            "|<https://www.ncbi.nlm.nih.gov/bioproject/PRJNA378767>|<http://www.w3.org/1999/02/22-rdf-syntax-ns#type>|<http://aging-research.group/samples/Bioproject>|<http://aging-research.group/samples/> .|\n",
            "| <https://www.ncbi.nlm.nih.gov/bioproject/PRJEB21274>|<http://www.w3.org/1999/02/22-rdf-syntax-ns#type>|<http://aging-research.group/samples/Bioproject>|<http://aging-research.group/samples/> .|\n",
            "|<https://www.ncbi.nlm.nih.gov/bioproject/PRJNA247712>|<http://www.w3.org/1999/02/22-rdf-syntax-ns#type>|<http://aging-research.group/samples/Bioproject>|<http://aging-research.group/samples/> .|\n",
            "|  <https://www.ncbi.nlm.nih.gov/bioproject/PRJDB4373>|<http://www.w3.org/1999/02/22-rdf-syntax-ns#type>|<http://aging-research.group/samples/Bioproject>|<http://aging-research.group/samples/> .|\n",
            "|<https://www.ncbi.nlm.nih.gov/bioproject/PRJNA258238>|<http://www.w3.org/1999/02/22-rdf-syntax-ns#type>|<http://aging-research.group/samples/Bioproject>|<http://aging-research.group/samples/> .|\n",
            "|<https://www.ncbi.nlm.nih.gov/bioproject/PRJNA509196>|<http://www.w3.org/1999/02/22-rdf-syntax-ns#type>|<http://aging-research.group/samples/Bioproject>|<http://aging-research.group/samples/> .|\n",
            "|<https://www.ncbi.nlm.nih.gov/bioproject/PRJNA342653>|<http://www.w3.org/1999/02/22-rdf-syntax-ns#type>|<http://aging-research.group/samples/Bioproject>|<http://aging-research.group/samples/> .|\n",
            "|<https://www.ncbi.nlm.nih.gov/bioproject/PRJNA274427>|<http://www.w3.org/1999/02/22-rdf-syntax-ns#type>|<http://aging-research.group/samples/Bioproject>|<http://aging-research.group/samples/> .|\n",
            "|<https://www.ncbi.nlm.nih.gov/bioproject/PRJNA119135>|<http://www.w3.org/1999/02/22-rdf-syntax-ns#type>|<http://aging-research.group/samples/Bioproject>|<http://aging-research.group/samples/> .|\n",
            "|<https://www.ncbi.nlm.nih.gov/bioproject/PRJNA338488>|<http://www.w3.org/1999/02/22-rdf-syntax-ns#type>|<http://aging-research.group/samples/Bioproject>|<http://aging-research.group/samples/> .|\n",
            "|<https://www.ncbi.nlm.nih.gov/bioproject/PRJNA200354>|<http://www.w3.org/1999/02/22-rdf-syntax-ns#type>|<http://aging-research.group/samples/Bioproject>|<http://aging-research.group/samples/> .|\n",
            "|<https://www.ncbi.nlm.nih.gov/bioproject/PRJNA231930>|<http://www.w3.org/1999/02/22-rdf-syntax-ns#type>|<http://aging-research.group/samples/Bioproject>|<http://aging-research.group/samples/> .|\n",
            "|  <https://www.ncbi.nlm.nih.gov/bioproject/PRJDB1984>|<http://www.w3.org/1999/02/22-rdf-syntax-ns#type>|<http://aging-research.group/samples/Bioproject>|<http://aging-research.group/samples/> .|\n",
            "|<https://www.ncbi.nlm.nih.gov/bioproject/PRJNA314210>|<http://www.w3.org/1999/02/22-rdf-syntax-ns#type>|<http://aging-research.group/samples/Bioproject>|<http://aging-research.group/samples/> .|\n",
            "|<https://www.ncbi.nlm.nih.gov/bioproject/PRJNA271922>|<http://www.w3.org/1999/02/22-rdf-syntax-ns#type>|<http://aging-research.group/samples/Bioproject>|<http://aging-research.group/samples/> .|\n",
            "|<https://www.ncbi.nlm.nih.gov/bioproject/PRJNA221548>|<http://www.w3.org/1999/02/22-rdf-syntax-ns#type>|<http://aging-research.group/samples/Bioproject>|<http://aging-research.group/samples/> .|\n",
            "| <https://www.ncbi.nlm.nih.gov/bioproject/PRJEB19199>|<http://www.w3.org/1999/02/22-rdf-syntax-ns#type>|<http://aging-research.group/samples/Bioproject>|<http://aging-research.group/samples/> .|\n",
            "|<https://www.ncbi.nlm.nih.gov/bioproject/PRJNA321539>|<http://www.w3.org/1999/02/22-rdf-syntax-ns#type>|<http://aging-research.group/samples/Bioproject>|<http://aging-research.group/samples/> .|\n",
            "|<https://www.ncbi.nlm.nih.gov/bioproject/PRJNA149279>|<http://www.w3.org/1999/02/22-rdf-syntax-ns#type>|<http://aging-research.group/samples/Bioproject>|<http://aging-research.group/samples/> .|\n",
            "+-----------------------------------------------------+-------------------------------------------------+------------------------------------------------+----------------------------------------+\n",
            "only showing top 100 rows\n",
            "\n"
          ],
          "output_type" : "stream"
        }
      ]
    },
    {
      "cell_type" : "code",
      "execution_count" : 21,
      "metadata" : {
        "cell.metadata.exec_info" : {
          "startTs" : 1586015858666,
          "endTs" : 1586015859941
        },
        "language" : "scala"
      },
      "language" : "scala",
      "source" : [
        "val bioseries_prep = samples_prefixed.select(\"series\", \"run\", \"study\")\n",
        "val bioseries = toHasRawQuads(bioseries_prep, \"series\")\n",
        "val all_bioseries = of_class(bioseries, \"Experiment_series\")\n",
        "  .union(has_domains(\"Experiment_series\", genericArrayOps(bioseries_prep.columns).toList))\n",
        "  .union(bioseries)\n",
        "  .toDF(\"subject\", \"property\", \"object\", \"context\")\n",
        "println(all_bioseries.count())\n",
        "all_bioseries.show(100,100)"
      ],
      "outputs" : [
        {
          "name" : "stdout",
          "text" : [
            "1368\n",
            "+--------------------------------------------------------------------------------+-------------------------------------------------+-------------------------------------------------------+----------------------------------------+\n",
            "|                                                                         subject|                                         property|                                                 object|                                 context|\n",
            "+--------------------------------------------------------------------------------+-------------------------------------------------+-------------------------------------------------------+----------------------------------------+\n",
            "|                         <http://aging-research.group/samples/Experiment_series>|<http://www.w3.org/2000/01/rdf-schema#subClassOf>|                  <http://www.w3.org/2002/07/owl#Class>|<http://aging-research.group/samples/> .|\n",
            "|                           <https://www.ncbi.nlm.nih.gov/bioproject/PRJNA200320>|<http://www.w3.org/1999/02/22-rdf-syntax-ns#type>|<http://aging-research.group/samples/Experiment_series>|<http://aging-research.group/samples/> .|\n",
            "|                           <https://www.ncbi.nlm.nih.gov/bioproject/PRJNA184055>|<http://www.w3.org/1999/02/22-rdf-syntax-ns#type>|<http://aging-research.group/samples/Experiment_series>|<http://aging-research.group/samples/> .|\n",
            "|                           <https://www.ncbi.nlm.nih.gov/bioproject/PRJNA312819>|<http://www.w3.org/1999/02/22-rdf-syntax-ns#type>|<http://aging-research.group/samples/Experiment_series>|<http://aging-research.group/samples/> .|\n",
            "|                           <https://www.ncbi.nlm.nih.gov/bioproject/PRJNA160149>|<http://www.w3.org/1999/02/22-rdf-syntax-ns#type>|<http://aging-research.group/samples/Experiment_series>|<http://aging-research.group/samples/> .|\n",
            "|                            <https://www.ncbi.nlm.nih.gov/bioproject/PRJEB20980>|<http://www.w3.org/1999/02/22-rdf-syntax-ns#type>|<http://aging-research.group/samples/Experiment_series>|<http://aging-research.group/samples/> .|\n",
            "|                           <https://www.ncbi.nlm.nih.gov/bioproject/PRJNA182914>|<http://www.w3.org/1999/02/22-rdf-syntax-ns#type>|<http://aging-research.group/samples/Experiment_series>|<http://aging-research.group/samples/> .|\n",
            "|                           <https://www.ncbi.nlm.nih.gov/bioproject/PRJNA357680>|<http://www.w3.org/1999/02/22-rdf-syntax-ns#type>|<http://aging-research.group/samples/Experiment_series>|<http://aging-research.group/samples/> .|\n",
            "|                            <https://www.ncbi.nlm.nih.gov/bioproject/PRJEB31270>|<http://www.w3.org/1999/02/22-rdf-syntax-ns#type>|<http://aging-research.group/samples/Experiment_series>|<http://aging-research.group/samples/> .|\n",
            "|                             <https://www.ncbi.nlm.nih.gov/bioproject/PRJDB3398>|<http://www.w3.org/1999/02/22-rdf-syntax-ns#type>|<http://aging-research.group/samples/Experiment_series>|<http://aging-research.group/samples/> .|\n",
            "|                  <https://www.ncbi.nlm.nih.gov/geo/query/acc.cgi?acc=GSE113957>|<http://www.w3.org/1999/02/22-rdf-syntax-ns#type>|<http://aging-research.group/samples/Experiment_series>|<http://aging-research.group/samples/> .|\n",
            "|                   <https://www.ncbi.nlm.nih.gov/geo/query/acc.cgi?acc=GSE77572>|<http://www.w3.org/1999/02/22-rdf-syntax-ns#type>|<http://aging-research.group/samples/Experiment_series>|<http://aging-research.group/samples/> .|\n",
            "|                   <https://www.ncbi.nlm.nih.gov/geo/query/acc.cgi?acc=GSE45326>|<http://www.w3.org/1999/02/22-rdf-syntax-ns#type>|<http://aging-research.group/samples/Experiment_series>|<http://aging-research.group/samples/> .|\n",
            "|                            <https://www.ncbi.nlm.nih.gov/bioproject/PRJEB21760>|<http://www.w3.org/1999/02/22-rdf-syntax-ns#type>|<http://aging-research.group/samples/Experiment_series>|<http://aging-research.group/samples/> .|\n",
            "|                   <https://www.ncbi.nlm.nih.gov/geo/query/acc.cgi?acc=GSE89714>|<http://www.w3.org/1999/02/22-rdf-syntax-ns#type>|<http://aging-research.group/samples/Experiment_series>|<http://aging-research.group/samples/> .|\n",
            "|                           <https://www.ncbi.nlm.nih.gov/bioproject/PRJNA283581>|<http://www.w3.org/1999/02/22-rdf-syntax-ns#type>|<http://aging-research.group/samples/Experiment_series>|<http://aging-research.group/samples/> .|\n",
            "|                           <https://www.ncbi.nlm.nih.gov/bioproject/PRJNA516733>|<http://www.w3.org/1999/02/22-rdf-syntax-ns#type>|<http://aging-research.group/samples/Experiment_series>|<http://aging-research.group/samples/> .|\n",
            "|                   <https://www.ncbi.nlm.nih.gov/geo/query/acc.cgi?acc=GSE57598>|<http://www.w3.org/1999/02/22-rdf-syntax-ns#type>|<http://aging-research.group/samples/Experiment_series>|<http://aging-research.group/samples/> .|\n",
            "|                           <https://www.ncbi.nlm.nih.gov/bioproject/PRJNA186646>|<http://www.w3.org/1999/02/22-rdf-syntax-ns#type>|<http://aging-research.group/samples/Experiment_series>|<http://aging-research.group/samples/> .|\n",
            "|                           <https://www.ncbi.nlm.nih.gov/bioproject/PRJNA241410>|<http://www.w3.org/1999/02/22-rdf-syntax-ns#type>|<http://aging-research.group/samples/Experiment_series>|<http://aging-research.group/samples/> .|\n",
            "|        <https://www.ncbi.nlm.nih.gov/geo/query/acc.cgi?acc=GSE100631_GSE100633>|<http://www.w3.org/1999/02/22-rdf-syntax-ns#type>|<http://aging-research.group/samples/Experiment_series>|<http://aging-research.group/samples/> .|\n",
            "|                   <https://www.ncbi.nlm.nih.gov/geo/query/acc.cgi?acc=GSE66715>|<http://www.w3.org/1999/02/22-rdf-syntax-ns#type>|<http://aging-research.group/samples/Experiment_series>|<http://aging-research.group/samples/> .|\n",
            "|                           <https://www.ncbi.nlm.nih.gov/bioproject/PRJNA242409>|<http://www.w3.org/1999/02/22-rdf-syntax-ns#type>|<http://aging-research.group/samples/Experiment_series>|<http://aging-research.group/samples/> .|\n",
            "|                           <https://www.ncbi.nlm.nih.gov/bioproject/PRJNA208335>|<http://www.w3.org/1999/02/22-rdf-syntax-ns#type>|<http://aging-research.group/samples/Experiment_series>|<http://aging-research.group/samples/> .|\n",
            "|                           <https://www.ncbi.nlm.nih.gov/bioproject/PRJNA319368>|<http://www.w3.org/1999/02/22-rdf-syntax-ns#type>|<http://aging-research.group/samples/Experiment_series>|<http://aging-research.group/samples/> .|\n",
            "|                           <https://www.ncbi.nlm.nih.gov/bioproject/PRJNA280454>|<http://www.w3.org/1999/02/22-rdf-syntax-ns#type>|<http://aging-research.group/samples/Experiment_series>|<http://aging-research.group/samples/> .|\n",
            "|                            <https://www.ncbi.nlm.nih.gov/bioproject/PRJEB11533>|<http://www.w3.org/1999/02/22-rdf-syntax-ns#type>|<http://aging-research.group/samples/Experiment_series>|<http://aging-research.group/samples/> .|\n",
            "|                   <https://www.ncbi.nlm.nih.gov/geo/query/acc.cgi?acc=GSE50747>|<http://www.w3.org/1999/02/22-rdf-syntax-ns#type>|<http://aging-research.group/samples/Experiment_series>|<http://aging-research.group/samples/> .|\n",
            "|                           <https://www.ncbi.nlm.nih.gov/bioproject/PRJNA258080>|<http://www.w3.org/1999/02/22-rdf-syntax-ns#type>|<http://aging-research.group/samples/Experiment_series>|<http://aging-research.group/samples/> .|\n",
            "|                           <https://www.ncbi.nlm.nih.gov/bioproject/PRJNA203643>|<http://www.w3.org/1999/02/22-rdf-syntax-ns#type>|<http://aging-research.group/samples/Experiment_series>|<http://aging-research.group/samples/> .|\n",
            "|                           <https://www.ncbi.nlm.nih.gov/bioproject/PRJNA320146>|<http://www.w3.org/1999/02/22-rdf-syntax-ns#type>|<http://aging-research.group/samples/Experiment_series>|<http://aging-research.group/samples/> .|\n",
            "|                           <https://www.ncbi.nlm.nih.gov/bioproject/PRJNA293021>|<http://www.w3.org/1999/02/22-rdf-syntax-ns#type>|<http://aging-research.group/samples/Experiment_series>|<http://aging-research.group/samples/> .|\n",
            "|                           <https://www.ncbi.nlm.nih.gov/bioproject/PRJNA313464>|<http://www.w3.org/1999/02/22-rdf-syntax-ns#type>|<http://aging-research.group/samples/Experiment_series>|<http://aging-research.group/samples/> .|\n",
            "|                   <https://www.ncbi.nlm.nih.gov/geo/query/acc.cgi?acc=GSE83717>|<http://www.w3.org/1999/02/22-rdf-syntax-ns#type>|<http://aging-research.group/samples/Experiment_series>|<http://aging-research.group/samples/> .|\n",
            "|                           <https://www.ncbi.nlm.nih.gov/bioproject/PRJNA271912>|<http://www.w3.org/1999/02/22-rdf-syntax-ns#type>|<http://aging-research.group/samples/Experiment_series>|<http://aging-research.group/samples/> .|\n",
            "|                   <https://www.ncbi.nlm.nih.gov/geo/query/acc.cgi?acc=GSE17274>|<http://www.w3.org/1999/02/22-rdf-syntax-ns#type>|<http://aging-research.group/samples/Experiment_series>|<http://aging-research.group/samples/> .|\n",
            "|                           <https://www.ncbi.nlm.nih.gov/bioproject/PRJNA249058>|<http://www.w3.org/1999/02/22-rdf-syntax-ns#type>|<http://aging-research.group/samples/Experiment_series>|<http://aging-research.group/samples/> .|\n",
            "|                   <https://www.ncbi.nlm.nih.gov/geo/query/acc.cgi?acc=GSE50027>|<http://www.w3.org/1999/02/22-rdf-syntax-ns#type>|<http://aging-research.group/samples/Experiment_series>|<http://aging-research.group/samples/> .|\n",
            "|                   <https://www.ncbi.nlm.nih.gov/geo/query/acc.cgi?acc=GSE92858>|<http://www.w3.org/1999/02/22-rdf-syntax-ns#type>|<http://aging-research.group/samples/Experiment_series>|<http://aging-research.group/samples/> .|\n",
            "|                           <https://www.ncbi.nlm.nih.gov/bioproject/PRJNA339185>|<http://www.w3.org/1999/02/22-rdf-syntax-ns#type>|<http://aging-research.group/samples/Experiment_series>|<http://aging-research.group/samples/> .|\n",
            "|<https://www.ncbi.nlm.nih.gov/geo/query/acc.cgi?acc=GSE98745_GSE98746_GSE103066>|<http://www.w3.org/1999/02/22-rdf-syntax-ns#type>|<http://aging-research.group/samples/Experiment_series>|<http://aging-research.group/samples/> .|\n",
            "|                           <https://www.ncbi.nlm.nih.gov/bioproject/PRJNA412080>|<http://www.w3.org/1999/02/22-rdf-syntax-ns#type>|<http://aging-research.group/samples/Experiment_series>|<http://aging-research.group/samples/> .|\n",
            "|                   <https://www.ncbi.nlm.nih.gov/geo/query/acc.cgi?acc=GSE95420>|<http://www.w3.org/1999/02/22-rdf-syntax-ns#type>|<http://aging-research.group/samples/Experiment_series>|<http://aging-research.group/samples/> .|\n",
            "|                           <https://www.ncbi.nlm.nih.gov/bioproject/PRJNA293919>|<http://www.w3.org/1999/02/22-rdf-syntax-ns#type>|<http://aging-research.group/samples/Experiment_series>|<http://aging-research.group/samples/> .|\n",
            "|                           <https://www.ncbi.nlm.nih.gov/bioproject/PRJNA143627>|<http://www.w3.org/1999/02/22-rdf-syntax-ns#type>|<http://aging-research.group/samples/Experiment_series>|<http://aging-research.group/samples/> .|\n",
            "|                           <https://www.ncbi.nlm.nih.gov/bioproject/PRJNA401436>|<http://www.w3.org/1999/02/22-rdf-syntax-ns#type>|<http://aging-research.group/samples/Experiment_series>|<http://aging-research.group/samples/> .|\n",
            "|          <https://www.ncbi.nlm.nih.gov/geo/query/acc.cgi?acc=GSE47792_GSE53960>|<http://www.w3.org/1999/02/22-rdf-syntax-ns#type>|<http://aging-research.group/samples/Experiment_series>|<http://aging-research.group/samples/> .|\n",
            "|                           <https://www.ncbi.nlm.nih.gov/bioproject/PRJNA309284>|<http://www.w3.org/1999/02/22-rdf-syntax-ns#type>|<http://aging-research.group/samples/Experiment_series>|<http://aging-research.group/samples/> .|\n",
            "|                           <https://www.ncbi.nlm.nih.gov/bioproject/PRJNA285140>|<http://www.w3.org/1999/02/22-rdf-syntax-ns#type>|<http://aging-research.group/samples/Experiment_series>|<http://aging-research.group/samples/> .|\n",
            "|                   <https://www.ncbi.nlm.nih.gov/geo/query/acc.cgi?acc=GSE96765>|<http://www.w3.org/1999/02/22-rdf-syntax-ns#type>|<http://aging-research.group/samples/Experiment_series>|<http://aging-research.group/samples/> .|\n",
            "|                           <https://www.ncbi.nlm.nih.gov/bioproject/PRJNA276799>|<http://www.w3.org/1999/02/22-rdf-syntax-ns#type>|<http://aging-research.group/samples/Experiment_series>|<http://aging-research.group/samples/> .|\n",
            "|                           <https://www.ncbi.nlm.nih.gov/bioproject/PRJNA540429>|<http://www.w3.org/1999/02/22-rdf-syntax-ns#type>|<http://aging-research.group/samples/Experiment_series>|<http://aging-research.group/samples/> .|\n",
            "|                           <https://www.ncbi.nlm.nih.gov/bioproject/PRJNA251633>|<http://www.w3.org/1999/02/22-rdf-syntax-ns#type>|<http://aging-research.group/samples/Experiment_series>|<http://aging-research.group/samples/> .|\n",
            "|                           <https://www.ncbi.nlm.nih.gov/bioproject/PRJNA398031>|<http://www.w3.org/1999/02/22-rdf-syntax-ns#type>|<http://aging-research.group/samples/Experiment_series>|<http://aging-research.group/samples/> .|\n",
            "|                           <https://www.ncbi.nlm.nih.gov/bioproject/PRJNA352725>|<http://www.w3.org/1999/02/22-rdf-syntax-ns#type>|<http://aging-research.group/samples/Experiment_series>|<http://aging-research.group/samples/> .|\n",
            "|                             <https://www.ncbi.nlm.nih.gov/bioproject/PRJEB3197>|<http://www.w3.org/1999/02/22-rdf-syntax-ns#type>|<http://aging-research.group/samples/Experiment_series>|<http://aging-research.group/samples/> .|\n",
            "|                             <https://www.ncbi.nlm.nih.gov/bioproject/PRJEB4677>|<http://www.w3.org/1999/02/22-rdf-syntax-ns#type>|<http://aging-research.group/samples/Experiment_series>|<http://aging-research.group/samples/> .|\n",
            "|                           <https://www.ncbi.nlm.nih.gov/bioproject/PRJNA313448>|<http://www.w3.org/1999/02/22-rdf-syntax-ns#type>|<http://aging-research.group/samples/Experiment_series>|<http://aging-research.group/samples/> .|\n",
            "|                           <https://www.ncbi.nlm.nih.gov/bioproject/PRJNA400695>|<http://www.w3.org/1999/02/22-rdf-syntax-ns#type>|<http://aging-research.group/samples/Experiment_series>|<http://aging-research.group/samples/> .|\n",
            "|                           <https://www.ncbi.nlm.nih.gov/bioproject/PRJNA354198>|<http://www.w3.org/1999/02/22-rdf-syntax-ns#type>|<http://aging-research.group/samples/Experiment_series>|<http://aging-research.group/samples/> .|\n",
            "|                   <https://www.ncbi.nlm.nih.gov/geo/query/acc.cgi?acc=GSE30337>|<http://www.w3.org/1999/02/22-rdf-syntax-ns#type>|<http://aging-research.group/samples/Experiment_series>|<http://aging-research.group/samples/> .|\n",
            "|                           <https://www.ncbi.nlm.nih.gov/bioproject/PRJNA284903>|<http://www.w3.org/1999/02/22-rdf-syntax-ns#type>|<http://aging-research.group/samples/Experiment_series>|<http://aging-research.group/samples/> .|\n",
            "|                           <https://www.ncbi.nlm.nih.gov/bioproject/PRJNA183121>|<http://www.w3.org/1999/02/22-rdf-syntax-ns#type>|<http://aging-research.group/samples/Experiment_series>|<http://aging-research.group/samples/> .|\n",
            "|                           <https://www.ncbi.nlm.nih.gov/bioproject/PRJNA264588>|<http://www.w3.org/1999/02/22-rdf-syntax-ns#type>|<http://aging-research.group/samples/Experiment_series>|<http://aging-research.group/samples/> .|\n",
            "|                           <https://www.ncbi.nlm.nih.gov/bioproject/PRJNA168475>|<http://www.w3.org/1999/02/22-rdf-syntax-ns#type>|<http://aging-research.group/samples/Experiment_series>|<http://aging-research.group/samples/> .|\n",
            "|                            <https://www.ncbi.nlm.nih.gov/bioproject/PRJEB13074>|<http://www.w3.org/1999/02/22-rdf-syntax-ns#type>|<http://aging-research.group/samples/Experiment_series>|<http://aging-research.group/samples/> .|\n",
            "|                           <https://www.ncbi.nlm.nih.gov/bioproject/PRJNA545333>|<http://www.w3.org/1999/02/22-rdf-syntax-ns#type>|<http://aging-research.group/samples/Experiment_series>|<http://aging-research.group/samples/> .|\n",
            "|                           <https://www.ncbi.nlm.nih.gov/bioproject/PRJNA217789>|<http://www.w3.org/1999/02/22-rdf-syntax-ns#type>|<http://aging-research.group/samples/Experiment_series>|<http://aging-research.group/samples/> .|\n",
            "|                           <https://www.ncbi.nlm.nih.gov/bioproject/PRJNA141257>|<http://www.w3.org/1999/02/22-rdf-syntax-ns#type>|<http://aging-research.group/samples/Experiment_series>|<http://aging-research.group/samples/> .|\n",
            "|                           <https://www.ncbi.nlm.nih.gov/bioproject/PRJNA285021>|<http://www.w3.org/1999/02/22-rdf-syntax-ns#type>|<http://aging-research.group/samples/Experiment_series>|<http://aging-research.group/samples/> .|\n",
            "|                             <https://www.ncbi.nlm.nih.gov/bioproject/PRJEB6169>|<http://www.w3.org/1999/02/22-rdf-syntax-ns#type>|<http://aging-research.group/samples/Experiment_series>|<http://aging-research.group/samples/> .|\n",
            "|                           <https://www.ncbi.nlm.nih.gov/bioproject/PRJNA281763>|<http://www.w3.org/1999/02/22-rdf-syntax-ns#type>|<http://aging-research.group/samples/Experiment_series>|<http://aging-research.group/samples/> .|\n",
            "|                           <https://www.ncbi.nlm.nih.gov/bioproject/PRJNA381841>|<http://www.w3.org/1999/02/22-rdf-syntax-ns#type>|<http://aging-research.group/samples/Experiment_series>|<http://aging-research.group/samples/> .|\n",
            "|                           <https://www.ncbi.nlm.nih.gov/bioproject/PRJNA543000>|<http://www.w3.org/1999/02/22-rdf-syntax-ns#type>|<http://aging-research.group/samples/Experiment_series>|<http://aging-research.group/samples/> .|\n",
            "|                   <https://www.ncbi.nlm.nih.gov/geo/query/acc.cgi?acc=GSE77020>|<http://www.w3.org/1999/02/22-rdf-syntax-ns#type>|<http://aging-research.group/samples/Experiment_series>|<http://aging-research.group/samples/> .|\n",
            "|                           <https://www.ncbi.nlm.nih.gov/bioproject/PRJNA318917>|<http://www.w3.org/1999/02/22-rdf-syntax-ns#type>|<http://aging-research.group/samples/Experiment_series>|<http://aging-research.group/samples/> .|\n",
            "|                           <https://www.ncbi.nlm.nih.gov/bioproject/PRJNA362606>|<http://www.w3.org/1999/02/22-rdf-syntax-ns#type>|<http://aging-research.group/samples/Experiment_series>|<http://aging-research.group/samples/> .|\n",
            "|                   <https://www.ncbi.nlm.nih.gov/geo/query/acc.cgi?acc=GSE43013>|<http://www.w3.org/1999/02/22-rdf-syntax-ns#type>|<http://aging-research.group/samples/Experiment_series>|<http://aging-research.group/samples/> .|\n",
            "|         <https://www.ncbi.nlm.nih.gov/geo/query/acc.cgi?acc=GSE86095_GSE102101>|<http://www.w3.org/1999/02/22-rdf-syntax-ns#type>|<http://aging-research.group/samples/Experiment_series>|<http://aging-research.group/samples/> .|\n",
            "|                           <https://www.ncbi.nlm.nih.gov/bioproject/PRJNA296888>|<http://www.w3.org/1999/02/22-rdf-syntax-ns#type>|<http://aging-research.group/samples/Experiment_series>|<http://aging-research.group/samples/> .|\n",
            "|                           <https://www.ncbi.nlm.nih.gov/bioproject/PRJNA230900>|<http://www.w3.org/1999/02/22-rdf-syntax-ns#type>|<http://aging-research.group/samples/Experiment_series>|<http://aging-research.group/samples/> .|\n",
            "|                           <https://www.ncbi.nlm.nih.gov/bioproject/PRJNA298663>|<http://www.w3.org/1999/02/22-rdf-syntax-ns#type>|<http://aging-research.group/samples/Experiment_series>|<http://aging-research.group/samples/> .|\n",
            "|                           <https://www.ncbi.nlm.nih.gov/bioproject/PRJNA174234>|<http://www.w3.org/1999/02/22-rdf-syntax-ns#type>|<http://aging-research.group/samples/Experiment_series>|<http://aging-research.group/samples/> .|\n",
            "|                           <https://www.ncbi.nlm.nih.gov/bioproject/PRJNA248058>|<http://www.w3.org/1999/02/22-rdf-syntax-ns#type>|<http://aging-research.group/samples/Experiment_series>|<http://aging-research.group/samples/> .|\n",
            "|                           <https://www.ncbi.nlm.nih.gov/bioproject/PRJNA210317>|<http://www.w3.org/1999/02/22-rdf-syntax-ns#type>|<http://aging-research.group/samples/Experiment_series>|<http://aging-research.group/samples/> .|\n",
            "|                            <https://www.ncbi.nlm.nih.gov/bioproject/PRJEB21274>|<http://www.w3.org/1999/02/22-rdf-syntax-ns#type>|<http://aging-research.group/samples/Experiment_series>|<http://aging-research.group/samples/> .|\n",
            "|                           <https://www.ncbi.nlm.nih.gov/bioproject/PRJNA247712>|<http://www.w3.org/1999/02/22-rdf-syntax-ns#type>|<http://aging-research.group/samples/Experiment_series>|<http://aging-research.group/samples/> .|\n",
            "|                             <https://www.ncbi.nlm.nih.gov/bioproject/PRJDB4373>|<http://www.w3.org/1999/02/22-rdf-syntax-ns#type>|<http://aging-research.group/samples/Experiment_series>|<http://aging-research.group/samples/> .|\n",
            "|                           <https://www.ncbi.nlm.nih.gov/bioproject/PRJNA258238>|<http://www.w3.org/1999/02/22-rdf-syntax-ns#type>|<http://aging-research.group/samples/Experiment_series>|<http://aging-research.group/samples/> .|\n",
            "|                           <https://www.ncbi.nlm.nih.gov/bioproject/PRJNA509196>|<http://www.w3.org/1999/02/22-rdf-syntax-ns#type>|<http://aging-research.group/samples/Experiment_series>|<http://aging-research.group/samples/> .|\n",
            "|                           <https://www.ncbi.nlm.nih.gov/bioproject/PRJNA342653>|<http://www.w3.org/1999/02/22-rdf-syntax-ns#type>|<http://aging-research.group/samples/Experiment_series>|<http://aging-research.group/samples/> .|\n",
            "|                   <https://www.ncbi.nlm.nih.gov/geo/query/acc.cgi?acc=GSE93855>|<http://www.w3.org/1999/02/22-rdf-syntax-ns#type>|<http://aging-research.group/samples/Experiment_series>|<http://aging-research.group/samples/> .|\n",
            "|                           <https://www.ncbi.nlm.nih.gov/bioproject/PRJNA274427>|<http://www.w3.org/1999/02/22-rdf-syntax-ns#type>|<http://aging-research.group/samples/Experiment_series>|<http://aging-research.group/samples/> .|\n",
            "|                           <https://www.ncbi.nlm.nih.gov/bioproject/PRJNA338488>|<http://www.w3.org/1999/02/22-rdf-syntax-ns#type>|<http://aging-research.group/samples/Experiment_series>|<http://aging-research.group/samples/> .|\n",
            "|                           <https://www.ncbi.nlm.nih.gov/bioproject/PRJNA200354>|<http://www.w3.org/1999/02/22-rdf-syntax-ns#type>|<http://aging-research.group/samples/Experiment_series>|<http://aging-research.group/samples/> .|\n",
            "|                           <https://www.ncbi.nlm.nih.gov/bioproject/PRJNA231930>|<http://www.w3.org/1999/02/22-rdf-syntax-ns#type>|<http://aging-research.group/samples/Experiment_series>|<http://aging-research.group/samples/> .|\n",
            "|                             <https://www.ncbi.nlm.nih.gov/bioproject/PRJDB1984>|<http://www.w3.org/1999/02/22-rdf-syntax-ns#type>|<http://aging-research.group/samples/Experiment_series>|<http://aging-research.group/samples/> .|\n",
            "|                           <https://www.ncbi.nlm.nih.gov/bioproject/PRJNA314210>|<http://www.w3.org/1999/02/22-rdf-syntax-ns#type>|<http://aging-research.group/samples/Experiment_series>|<http://aging-research.group/samples/> .|\n",
            "|                           <https://www.ncbi.nlm.nih.gov/bioproject/PRJNA271922>|<http://www.w3.org/1999/02/22-rdf-syntax-ns#type>|<http://aging-research.group/samples/Experiment_series>|<http://aging-research.group/samples/> .|\n",
            "|                           <https://www.ncbi.nlm.nih.gov/bioproject/PRJNA221548>|<http://www.w3.org/1999/02/22-rdf-syntax-ns#type>|<http://aging-research.group/samples/Experiment_series>|<http://aging-research.group/samples/> .|\n",
            "+--------------------------------------------------------------------------------+-------------------------------------------------+-------------------------------------------------------+----------------------------------------+\n",
            "only showing top 100 rows\n",
            "\n"
          ],
          "output_type" : "stream"
        }
      ]
    },
    {
      "cell_type" : "code",
      "execution_count" : 22,
      "metadata" : {
        "cell.metadata.exec_info" : {
          "startTs" : 1586015877751,
          "endTs" : 1586015878529
        },
        "language" : "scala"
      },
      "language" : "scala",
      "source" : [
        "val biorun_prep = samples_prefixed.select(\"run\",\"organism\",\"sample_name\",\"sequencer\",\"library_strategy\",\"library_layout\",\"library_selection\",\n",
        "      \"study\",\"study_title\",\"characteristics\",\"source\",\"age\",\"sex\",\"tumor\",\"protocol\",\n",
        "      \"salmon_version\", \"libType\",\"numBootstraps\",\"modified\")\n",
        "val biorun = toHasRawQuads(biorun_prep, \"run\")\n",
        "biorun.count()\n",
        "biorun.show(10,100)"
      ],
      "outputs" : [
        {
          "name" : "stdout",
          "text" : [
            "+--------------------------------------------+-----------------------------------------------------------+----------------------------------------------------------------------------------------------------+----------------------------------------+\n",
            "|                                     subject|                                                   property|                                                                                              object|                                 context|\n",
            "+--------------------------------------------+-----------------------------------------------------------+----------------------------------------------------------------------------------------------------+----------------------------------------+\n",
            "|<https://www.ncbi.nlm.nih.gov/sra/SRR960570>|         <http://aging-research.group/samples/has_organism>|                                       <http://aging-research.group/resource/Zonotrichia_albicollis>|<http://aging-research.group/samples/> .|\n",
            "|<https://www.ncbi.nlm.nih.gov/sra/SRR960570>|      <http://aging-research.group/samples/has_sample_name>|                                                 \"10-308\"^^<http://www.w3.org/2001/XMLSchema#string>|<http://aging-research.group/samples/> .|\n",
            "|<https://www.ncbi.nlm.nih.gov/sra/SRR960570>|        <http://aging-research.group/samples/has_sequencer>|                                           <http://aging-research.group/samples/Illumina_HiSeq_2000>|<http://aging-research.group/samples/> .|\n",
            "|<https://www.ncbi.nlm.nih.gov/sra/SRR960570>| <http://aging-research.group/samples/has_library_strategy>|                                                       <http://aging-research.group/samples/RNA-Seq>|<http://aging-research.group/samples/> .|\n",
            "|<https://www.ncbi.nlm.nih.gov/sra/SRR960570>|   <http://aging-research.group/samples/has_library_layout>|                                                        <http://aging-research.group/samples/SINGLE>|<http://aging-research.group/samples/> .|\n",
            "|<https://www.ncbi.nlm.nih.gov/sra/SRR960570>|<http://aging-research.group/samples/has_library_selection>|                                                          <http://aging-research.group/samples/cDNA>|<http://aging-research.group/samples/> .|\n",
            "|<https://www.ncbi.nlm.nih.gov/sra/SRR960570>|            <http://aging-research.group/samples/has_study>|                                        <https://trace.ncbi.nlm.nih.gov/Traces/sra/?study=SRP029385>|<http://aging-research.group/samples/> .|\n",
            "|<https://www.ncbi.nlm.nih.gov/sra/SRR960570>|      <http://aging-research.group/samples/has_study_title>|\"Zonotrichia albicollis Transcriptome or Gene expression\"^^<http://www.w3.org/2001/XMLSchema#string>|<http://aging-research.group/samples/> .|\n",
            "|<https://www.ncbi.nlm.nih.gov/sra/SRR960570>|  <http://aging-research.group/samples/has_characteristics>|\"'Tumor:no;strain:tan;age:adult;sex:male;isolate_label:1;collection_date:21-Apr-2010;tissue_type:...|<http://aging-research.group/samples/> .|\n",
            "|<https://www.ncbi.nlm.nih.gov/sra/SRR960570>|           <http://aging-research.group/samples/has_source>|                                                    \"N/A\"^^<http://www.w3.org/2001/XMLSchema#string>|<http://aging-research.group/samples/> .|\n",
            "+--------------------------------------------+-----------------------------------------------------------+----------------------------------------------------------------------------------------------------+----------------------------------------+\n",
            "only showing top 10 rows\n",
            "\n"
          ],
          "output_type" : "stream"
        }
      ]
    },
    {
      "cell_type" : "code",
      "execution_count" : 66,
      "metadata" : {
        "cell.metadata.exec_info" : {
          "startTs" : 1586015968028,
          "endTs" : 1586015969548
        },
        "language" : "scala"
      },
      "language" : "scala",
      "source" : [
        "val all_biorun =  of_class(biorun, \"Sequencing_run\")\n",
        "  .union(has_domains(\"Sequencing_run\", genericArrayOps(biorun_prep.columns).toList))\n",
        "  .union(biorun).toDF(\"subject\", \"property\", \"object\", \"context\")\n",
        "print(all_biorun.count)\n",
        "all_biorun.show(10)"
      ],
      "outputs" : [
        {
          "name" : "stdout",
          "text" : [
            "11728+--------------------+--------------------+--------------------+--------------------+\n",
            "|             subject|            property|              object|             context|\n",
            "+--------------------+--------------------+--------------------+--------------------+\n",
            "|<http://aging-res...|<http://www.w3.or...|<http://www.w3.or...|<http://aging-res...|\n",
            "|<https://www.ncbi...|<http://www.w3.or...|<http://aging-res...|<http://aging-res...|\n",
            "|<https://www.ncbi...|<http://www.w3.or...|<http://aging-res...|<http://aging-res...|\n",
            "|<https://www.ncbi...|<http://www.w3.or...|<http://aging-res...|<http://aging-res...|\n",
            "|<https://www.ncbi...|<http://www.w3.or...|<http://aging-res...|<http://aging-res...|\n",
            "|<https://www.ncbi...|<http://www.w3.or...|<http://aging-res...|<http://aging-res...|\n",
            "|<https://www.ncbi...|<http://www.w3.or...|<http://aging-res...|<http://aging-res...|\n",
            "|<https://www.ncbi...|<http://www.w3.or...|<http://aging-res...|<http://aging-res...|\n",
            "|<https://www.ncbi...|<http://www.w3.or...|<http://aging-res...|<http://aging-res...|\n",
            "|<https://www.ncbi...|<http://www.w3.or...|<http://aging-res...|<http://aging-res...|\n",
            "+--------------------+--------------------+--------------------+--------------------+\n",
            "only showing top 10 rows\n",
            "\n"
          ],
          "output_type" : "stream"
        }
      ]
    },
    {
      "cell_type" : "code",
      "execution_count" : 23,
      "metadata" : {
        "jupyter.outputs_hidden" : true,
        "cell.metadata.exec_info" : {
          "startTs" : 1586015981325,
          "endTs" : 1586015984919
        },
        "language" : "scala"
      },
      "language" : "scala",
      "source" : [
        "val all_samples = all_biopro.union(all_bioseries).union(all_biorun).as[(String, String, String, String)].toDF(\"subject\", \"property\", \"object\", \"context\")\n",
        "println(all_samples.count())\n",
        "all_samples.show(10)"
      ],
      "outputs" : [
        {
          "name" : "stdout",
          "text" : [
            "15078\n",
            "+--------------------+--------------------+--------------------+--------------------+\n",
            "|             subject|            property|              object|             context|\n",
            "+--------------------+--------------------+--------------------+--------------------+\n",
            "|<http://aging-res...|<http://www.w3.or...|<http://www.w3.or...|<http://aging-res...|\n",
            "|<https://www.ncbi...|<http://www.w3.or...|<http://aging-res...|<http://aging-res...|\n",
            "|<https://www.ncbi...|<http://www.w3.or...|<http://aging-res...|<http://aging-res...|\n",
            "|<https://www.ncbi...|<http://www.w3.or...|<http://aging-res...|<http://aging-res...|\n",
            "|<https://www.ncbi...|<http://www.w3.or...|<http://aging-res...|<http://aging-res...|\n",
            "|<https://www.ncbi...|<http://www.w3.or...|<http://aging-res...|<http://aging-res...|\n",
            "|<https://www.ncbi...|<http://www.w3.or...|<http://aging-res...|<http://aging-res...|\n",
            "|<https://www.ncbi...|<http://www.w3.or...|<http://aging-res...|<http://aging-res...|\n",
            "|<https://www.ncbi...|<http://www.w3.or...|<http://aging-res...|<http://aging-res...|\n",
            "|<https://www.ncbi...|<http://www.w3.or...|<http://aging-res...|<http://aging-res...|\n",
            "+--------------------+--------------------+--------------------+--------------------+\n",
            "only showing top 10 rows\n",
            "\n"
          ],
          "output_type" : "stream"
        }
      ]
    },
    {
      "cell_type" : "code",
      "execution_count" : 24,
      "metadata" : {
        "cell.metadata.exec_info" : {
          "startTs" : 1586016028501,
          "endTs" : 1586016031155
        },
        "language" : "scala"
      },
      "language" : "scala",
      "source" : [
        "all_samples.toDF.writeTSV(\"/data/databases/graphdb/import/samples.nq\", header = false, rewrite = true)"
      ],
      "outputs" : [
        {
          "name" : "stdout",
          "text" : [
            "parts of /data/databases/graphdb/import/samples.nq merged!\n"
          ],
          "output_type" : "stream"
        },
        {
          "execution_count" : 24,
          "data" : {
            "text/plain" : [
              "/data/databases/graphdb/import/samples.nq"
            ]
          },
          "metadata" : {
            "name" : "Out",
            "type" : "String"
          },
          "output_type" : "execute_result"
        }
      ]
    },
    {
      "cell_type" : "markdown",
      "execution_count" : 25,
      "metadata" : {
        "language" : "text"
      },
      "language" : "text",
      "source" : [
        "# **Gene-expressions to quads<br>**\n",
        "\n"
      ],
      "outputs" : [
      ]
    },
    {
      "cell_type" : "code",
      "execution_count" : 26,
      "metadata" : {
        "cell.metadata.exec_info" : {
          "startTs" : 1586016099917,
          "endTs" : 1586016290719
        },
        "language" : "scala"
      },
      "language" : "scala",
      "source" : [
        "val runMap = genericArrayOps(samples.select(\"run\",\"genes\").as[(String, String)].collect).toMap.mapValues(v=>spark.readTSV(v).toDF(\"gene\", \"TPM\").as[(String, Double)])\n",
        "runMap"
      ],
      "outputs" : [
        {
          "execution_count" : 26,
          "data" : {
            
          },
          "metadata" : {
            "name" : "Out",
            "type" : "Map[String, Dataset[Tuple2[String, Double]]]"
          },
          "output_type" : "execute_result"
        }
      ]
    },
    {
      "cell_type" : "code",
      "execution_count" : 27,
      "metadata" : {
        "cell.metadata.exec_info" : {
          "startTs" : 1586016290725,
          "endTs" : 1586016293545
        },
        "language" : "scala"
      },
      "language" : "scala",
      "source" : [
        "val (r, e) = runMap.head\n",
        "println(r)\n",
        "e.show(10,1000)"
      ],
      "outputs" : [
        {
          "name" : "stdout",
          "text" : [
            "SRR2040645\n",
            "+------------------+-----------+\n",
            "|              gene|        TPM|\n",
            "+------------------+-----------+\n",
            "|ENSCCEG00000000007|  15.003977|\n",
            "|ENSCCEG00000000008|  75.039963|\n",
            "|ENSCCEG00000000009|   0.203121|\n",
            "|ENSCCEG00000000012|  77.176479|\n",
            "|ENSCCEG00000000013|   0.771706|\n",
            "|ENSCCEG00000000014|   0.038792|\n",
            "|ENSCCEG00000000015|  72.543704|\n",
            "|ENSCCEG00000000018|1519.296913|\n",
            "|ENSCCEG00000000019|   3.455105|\n",
            "|ENSCCEG00000000020| 100.753391|\n",
            "+------------------+-----------+\n",
            "only showing top 10 rows\n",
            "\n"
          ],
          "output_type" : "stream"
        }
      ]
    },
    {
      "cell_type" : "code",
      "execution_count" : 28,
      "metadata" : {
        "cell.metadata.exec_info" : {
          "startTs" : 1586016293549,
          "endTs" : 1586016293715
        },
        "language" : "scala"
      },
      "language" : "scala",
      "source" : [
        "import org.apache.spark.sql._\n",
        "\n",
        "val cont = \"<\" + prefix_samples + \"> .\"\n",
        "def sam(str: String) = s\"<${prefix_samples}${str}>\"\n",
        "def num(n: Double) =  \"\\\"\" + n.toString +  \"\\\"\" +\"^^<http://www.w3.org/2001/XMLSchema#double>\"\n",
        "    \n",
        "def expression_quads(run: String, df: Dataset[(String, Double)]): Dataset[(String, String, String, String)] = {\n",
        "    df.flatMap{case (gene, tpm) =>\n",
        "    val exp = sam(s\"has_${gene}_expression\")\n",
        "    Seq(\n",
        "        (ens(gene), \"<http://www.w3.org/1999/02/22-rdf-syntax-ns#type>\", \"<http://aging-research.group/resource/Gene>\", cont) ,\n",
        "        (exp, \"<http://www.w3.org/1999/02/22-rdf-syntax-ns#type>\", \"<http://aging-research.group/resource/Gene_expression>\", cont) ,   \n",
        "        (exp, \"<http://aging-research.group/resource/expression_of>\", ens(gene), cont) ,      \n",
        "        (s\"<https://www.ncbi.nlm.nih.gov/sra/${run}>\", exp, num(tpm), cont )\n",
        "    )\n",
        "    }.toDF(\"subject\", \"property\", \"object\", \"context\").as[(String, String, String, String)]\n",
        "}"
      ],
      "outputs" : [
      ]
    },
    {
      "cell_type" : "code",
      "execution_count" : 29,
      "metadata" : {
        "cell.metadata.exec_info" : {
          "startTs" : 1586016293717,
          "endTs" : 1586016414887
        },
        "language" : "scala"
      },
      "language" : "scala",
      "source" : [
        "val all_expressions = runMap.map{ case (run, df) => expression_quads(run,df)}.reduce(_.union(_))\n",
        "all_expressions.show(100,10000)"
      ],
      "outputs" : [
        {
          "name" : "stdout",
          "text" : [
            "+-----------------------------------------------------------------------+-----------------------------------------------------------------------+----------------------------------------------------------+----------------------------------------+\n",
            "|                                                                subject|                                                               property|                                                    object|                                 context|\n",
            "+-----------------------------------------------------------------------+-----------------------------------------------------------------------+----------------------------------------------------------+----------------------------------------+\n",
            "|             <http://rdf.ebi.ac.uk/resource/ensembl/ENSCCEG00000000007>|                      <http://www.w3.org/1999/02/22-rdf-syntax-ns#type>|               <http://aging-research.group/resource/Gene>|<http://aging-research.group/samples/> .|\n",
            "|<http://aging-research.group/samples/has_ENSCCEG00000000007_expression>|                      <http://www.w3.org/1999/02/22-rdf-syntax-ns#type>|    <http://aging-research.group/resource/Gene_expression>|<http://aging-research.group/samples/> .|\n",
            "|<http://aging-research.group/samples/has_ENSCCEG00000000007_expression>|                   <http://aging-research.group/resource/expression_of>|<http://rdf.ebi.ac.uk/resource/ensembl/ENSCCEG00000000007>|<http://aging-research.group/samples/> .|\n",
            "|                          <https://www.ncbi.nlm.nih.gov/sra/SRR2040645>|<http://aging-research.group/samples/has_ENSCCEG00000000007_expression>|    \"15.003977\"^^<http://www.w3.org/2001/XMLSchema#double>|<http://aging-research.group/samples/> .|\n",
            "|             <http://rdf.ebi.ac.uk/resource/ensembl/ENSCCEG00000000008>|                      <http://www.w3.org/1999/02/22-rdf-syntax-ns#type>|               <http://aging-research.group/resource/Gene>|<http://aging-research.group/samples/> .|\n",
            "|<http://aging-research.group/samples/has_ENSCCEG00000000008_expression>|                      <http://www.w3.org/1999/02/22-rdf-syntax-ns#type>|    <http://aging-research.group/resource/Gene_expression>|<http://aging-research.group/samples/> .|\n",
            "|<http://aging-research.group/samples/has_ENSCCEG00000000008_expression>|                   <http://aging-research.group/resource/expression_of>|<http://rdf.ebi.ac.uk/resource/ensembl/ENSCCEG00000000008>|<http://aging-research.group/samples/> .|\n",
            "|                          <https://www.ncbi.nlm.nih.gov/sra/SRR2040645>|<http://aging-research.group/samples/has_ENSCCEG00000000008_expression>|    \"75.039963\"^^<http://www.w3.org/2001/XMLSchema#double>|<http://aging-research.group/samples/> .|\n",
            "|             <http://rdf.ebi.ac.uk/resource/ensembl/ENSCCEG00000000009>|                      <http://www.w3.org/1999/02/22-rdf-syntax-ns#type>|               <http://aging-research.group/resource/Gene>|<http://aging-research.group/samples/> .|\n",
            "|<http://aging-research.group/samples/has_ENSCCEG00000000009_expression>|                      <http://www.w3.org/1999/02/22-rdf-syntax-ns#type>|    <http://aging-research.group/resource/Gene_expression>|<http://aging-research.group/samples/> .|\n",
            "|<http://aging-research.group/samples/has_ENSCCEG00000000009_expression>|                   <http://aging-research.group/resource/expression_of>|<http://rdf.ebi.ac.uk/resource/ensembl/ENSCCEG00000000009>|<http://aging-research.group/samples/> .|\n",
            "|                          <https://www.ncbi.nlm.nih.gov/sra/SRR2040645>|<http://aging-research.group/samples/has_ENSCCEG00000000009_expression>|     \"0.203121\"^^<http://www.w3.org/2001/XMLSchema#double>|<http://aging-research.group/samples/> .|\n",
            "|             <http://rdf.ebi.ac.uk/resource/ensembl/ENSCCEG00000000012>|                      <http://www.w3.org/1999/02/22-rdf-syntax-ns#type>|               <http://aging-research.group/resource/Gene>|<http://aging-research.group/samples/> .|\n",
            "|<http://aging-research.group/samples/has_ENSCCEG00000000012_expression>|                      <http://www.w3.org/1999/02/22-rdf-syntax-ns#type>|    <http://aging-research.group/resource/Gene_expression>|<http://aging-research.group/samples/> .|\n",
            "|<http://aging-research.group/samples/has_ENSCCEG00000000012_expression>|                   <http://aging-research.group/resource/expression_of>|<http://rdf.ebi.ac.uk/resource/ensembl/ENSCCEG00000000012>|<http://aging-research.group/samples/> .|\n",
            "|                          <https://www.ncbi.nlm.nih.gov/sra/SRR2040645>|<http://aging-research.group/samples/has_ENSCCEG00000000012_expression>|    \"77.176479\"^^<http://www.w3.org/2001/XMLSchema#double>|<http://aging-research.group/samples/> .|\n",
            "|             <http://rdf.ebi.ac.uk/resource/ensembl/ENSCCEG00000000013>|                      <http://www.w3.org/1999/02/22-rdf-syntax-ns#type>|               <http://aging-research.group/resource/Gene>|<http://aging-research.group/samples/> .|\n",
            "|<http://aging-research.group/samples/has_ENSCCEG00000000013_expression>|                      <http://www.w3.org/1999/02/22-rdf-syntax-ns#type>|    <http://aging-research.group/resource/Gene_expression>|<http://aging-research.group/samples/> .|\n",
            "|<http://aging-research.group/samples/has_ENSCCEG00000000013_expression>|                   <http://aging-research.group/resource/expression_of>|<http://rdf.ebi.ac.uk/resource/ensembl/ENSCCEG00000000013>|<http://aging-research.group/samples/> .|\n",
            "|                          <https://www.ncbi.nlm.nih.gov/sra/SRR2040645>|<http://aging-research.group/samples/has_ENSCCEG00000000013_expression>|     \"0.771706\"^^<http://www.w3.org/2001/XMLSchema#double>|<http://aging-research.group/samples/> .|\n",
            "|             <http://rdf.ebi.ac.uk/resource/ensembl/ENSCCEG00000000014>|                      <http://www.w3.org/1999/02/22-rdf-syntax-ns#type>|               <http://aging-research.group/resource/Gene>|<http://aging-research.group/samples/> .|\n",
            "|<http://aging-research.group/samples/has_ENSCCEG00000000014_expression>|                      <http://www.w3.org/1999/02/22-rdf-syntax-ns#type>|    <http://aging-research.group/resource/Gene_expression>|<http://aging-research.group/samples/> .|\n",
            "|<http://aging-research.group/samples/has_ENSCCEG00000000014_expression>|                   <http://aging-research.group/resource/expression_of>|<http://rdf.ebi.ac.uk/resource/ensembl/ENSCCEG00000000014>|<http://aging-research.group/samples/> .|\n",
            "|                          <https://www.ncbi.nlm.nih.gov/sra/SRR2040645>|<http://aging-research.group/samples/has_ENSCCEG00000000014_expression>|     \"0.038792\"^^<http://www.w3.org/2001/XMLSchema#double>|<http://aging-research.group/samples/> .|\n",
            "|             <http://rdf.ebi.ac.uk/resource/ensembl/ENSCCEG00000000015>|                      <http://www.w3.org/1999/02/22-rdf-syntax-ns#type>|               <http://aging-research.group/resource/Gene>|<http://aging-research.group/samples/> .|\n",
            "|<http://aging-research.group/samples/has_ENSCCEG00000000015_expression>|                      <http://www.w3.org/1999/02/22-rdf-syntax-ns#type>|    <http://aging-research.group/resource/Gene_expression>|<http://aging-research.group/samples/> .|\n",
            "|<http://aging-research.group/samples/has_ENSCCEG00000000015_expression>|                   <http://aging-research.group/resource/expression_of>|<http://rdf.ebi.ac.uk/resource/ensembl/ENSCCEG00000000015>|<http://aging-research.group/samples/> .|\n",
            "|                          <https://www.ncbi.nlm.nih.gov/sra/SRR2040645>|<http://aging-research.group/samples/has_ENSCCEG00000000015_expression>|    \"72.543704\"^^<http://www.w3.org/2001/XMLSchema#double>|<http://aging-research.group/samples/> .|\n",
            "|             <http://rdf.ebi.ac.uk/resource/ensembl/ENSCCEG00000000018>|                      <http://www.w3.org/1999/02/22-rdf-syntax-ns#type>|               <http://aging-research.group/resource/Gene>|<http://aging-research.group/samples/> .|\n",
            "|<http://aging-research.group/samples/has_ENSCCEG00000000018_expression>|                      <http://www.w3.org/1999/02/22-rdf-syntax-ns#type>|    <http://aging-research.group/resource/Gene_expression>|<http://aging-research.group/samples/> .|\n",
            "|<http://aging-research.group/samples/has_ENSCCEG00000000018_expression>|                   <http://aging-research.group/resource/expression_of>|<http://rdf.ebi.ac.uk/resource/ensembl/ENSCCEG00000000018>|<http://aging-research.group/samples/> .|\n",
            "|                          <https://www.ncbi.nlm.nih.gov/sra/SRR2040645>|<http://aging-research.group/samples/has_ENSCCEG00000000018_expression>|  \"1519.296913\"^^<http://www.w3.org/2001/XMLSchema#double>|<http://aging-research.group/samples/> .|\n",
            "|             <http://rdf.ebi.ac.uk/resource/ensembl/ENSCCEG00000000019>|                      <http://www.w3.org/1999/02/22-rdf-syntax-ns#type>|               <http://aging-research.group/resource/Gene>|<http://aging-research.group/samples/> .|\n",
            "|<http://aging-research.group/samples/has_ENSCCEG00000000019_expression>|                      <http://www.w3.org/1999/02/22-rdf-syntax-ns#type>|    <http://aging-research.group/resource/Gene_expression>|<http://aging-research.group/samples/> .|\n",
            "|<http://aging-research.group/samples/has_ENSCCEG00000000019_expression>|                   <http://aging-research.group/resource/expression_of>|<http://rdf.ebi.ac.uk/resource/ensembl/ENSCCEG00000000019>|<http://aging-research.group/samples/> .|\n",
            "|                          <https://www.ncbi.nlm.nih.gov/sra/SRR2040645>|<http://aging-research.group/samples/has_ENSCCEG00000000019_expression>|     \"3.455105\"^^<http://www.w3.org/2001/XMLSchema#double>|<http://aging-research.group/samples/> .|\n",
            "|             <http://rdf.ebi.ac.uk/resource/ensembl/ENSCCEG00000000020>|                      <http://www.w3.org/1999/02/22-rdf-syntax-ns#type>|               <http://aging-research.group/resource/Gene>|<http://aging-research.group/samples/> .|\n",
            "|<http://aging-research.group/samples/has_ENSCCEG00000000020_expression>|                      <http://www.w3.org/1999/02/22-rdf-syntax-ns#type>|    <http://aging-research.group/resource/Gene_expression>|<http://aging-research.group/samples/> .|\n",
            "|<http://aging-research.group/samples/has_ENSCCEG00000000020_expression>|                   <http://aging-research.group/resource/expression_of>|<http://rdf.ebi.ac.uk/resource/ensembl/ENSCCEG00000000020>|<http://aging-research.group/samples/> .|\n",
            "|                          <https://www.ncbi.nlm.nih.gov/sra/SRR2040645>|<http://aging-research.group/samples/has_ENSCCEG00000000020_expression>|   \"100.753391\"^^<http://www.w3.org/2001/XMLSchema#double>|<http://aging-research.group/samples/> .|\n",
            "|             <http://rdf.ebi.ac.uk/resource/ensembl/ENSCCEG00000000021>|                      <http://www.w3.org/1999/02/22-rdf-syntax-ns#type>|               <http://aging-research.group/resource/Gene>|<http://aging-research.group/samples/> .|\n",
            "|<http://aging-research.group/samples/has_ENSCCEG00000000021_expression>|                      <http://www.w3.org/1999/02/22-rdf-syntax-ns#type>|    <http://aging-research.group/resource/Gene_expression>|<http://aging-research.group/samples/> .|\n",
            "|<http://aging-research.group/samples/has_ENSCCEG00000000021_expression>|                   <http://aging-research.group/resource/expression_of>|<http://rdf.ebi.ac.uk/resource/ensembl/ENSCCEG00000000021>|<http://aging-research.group/samples/> .|\n",
            "|                          <https://www.ncbi.nlm.nih.gov/sra/SRR2040645>|<http://aging-research.group/samples/has_ENSCCEG00000000021_expression>|   \"158.374044\"^^<http://www.w3.org/2001/XMLSchema#double>|<http://aging-research.group/samples/> .|\n",
            "|             <http://rdf.ebi.ac.uk/resource/ensembl/ENSCCEG00000000022>|                      <http://www.w3.org/1999/02/22-rdf-syntax-ns#type>|               <http://aging-research.group/resource/Gene>|<http://aging-research.group/samples/> .|\n",
            "|<http://aging-research.group/samples/has_ENSCCEG00000000022_expression>|                      <http://www.w3.org/1999/02/22-rdf-syntax-ns#type>|    <http://aging-research.group/resource/Gene_expression>|<http://aging-research.group/samples/> .|\n",
            "|<http://aging-research.group/samples/has_ENSCCEG00000000022_expression>|                   <http://aging-research.group/resource/expression_of>|<http://rdf.ebi.ac.uk/resource/ensembl/ENSCCEG00000000022>|<http://aging-research.group/samples/> .|\n",
            "|                          <https://www.ncbi.nlm.nih.gov/sra/SRR2040645>|<http://aging-research.group/samples/has_ENSCCEG00000000022_expression>|    \"72.047266\"^^<http://www.w3.org/2001/XMLSchema#double>|<http://aging-research.group/samples/> .|\n",
            "|             <http://rdf.ebi.ac.uk/resource/ensembl/ENSCCEG00000000023>|                      <http://www.w3.org/1999/02/22-rdf-syntax-ns#type>|               <http://aging-research.group/resource/Gene>|<http://aging-research.group/samples/> .|\n",
            "|<http://aging-research.group/samples/has_ENSCCEG00000000023_expression>|                      <http://www.w3.org/1999/02/22-rdf-syntax-ns#type>|    <http://aging-research.group/resource/Gene_expression>|<http://aging-research.group/samples/> .|\n",
            "|<http://aging-research.group/samples/has_ENSCCEG00000000023_expression>|                   <http://aging-research.group/resource/expression_of>|<http://rdf.ebi.ac.uk/resource/ensembl/ENSCCEG00000000023>|<http://aging-research.group/samples/> .|\n",
            "|                          <https://www.ncbi.nlm.nih.gov/sra/SRR2040645>|<http://aging-research.group/samples/has_ENSCCEG00000000023_expression>|    \"29.300023\"^^<http://www.w3.org/2001/XMLSchema#double>|<http://aging-research.group/samples/> .|\n",
            "|             <http://rdf.ebi.ac.uk/resource/ensembl/ENSCCEG00000000024>|                      <http://www.w3.org/1999/02/22-rdf-syntax-ns#type>|               <http://aging-research.group/resource/Gene>|<http://aging-research.group/samples/> .|\n",
            "|<http://aging-research.group/samples/has_ENSCCEG00000000024_expression>|                      <http://www.w3.org/1999/02/22-rdf-syntax-ns#type>|    <http://aging-research.group/resource/Gene_expression>|<http://aging-research.group/samples/> .|\n",
            "|<http://aging-research.group/samples/has_ENSCCEG00000000024_expression>|                   <http://aging-research.group/resource/expression_of>|<http://rdf.ebi.ac.uk/resource/ensembl/ENSCCEG00000000024>|<http://aging-research.group/samples/> .|\n",
            "|                          <https://www.ncbi.nlm.nih.gov/sra/SRR2040645>|<http://aging-research.group/samples/has_ENSCCEG00000000024_expression>|     \"3.645592\"^^<http://www.w3.org/2001/XMLSchema#double>|<http://aging-research.group/samples/> .|\n",
            "|             <http://rdf.ebi.ac.uk/resource/ensembl/ENSCCEG00000000026>|                      <http://www.w3.org/1999/02/22-rdf-syntax-ns#type>|               <http://aging-research.group/resource/Gene>|<http://aging-research.group/samples/> .|\n",
            "|<http://aging-research.group/samples/has_ENSCCEG00000000026_expression>|                      <http://www.w3.org/1999/02/22-rdf-syntax-ns#type>|    <http://aging-research.group/resource/Gene_expression>|<http://aging-research.group/samples/> .|\n",
            "|<http://aging-research.group/samples/has_ENSCCEG00000000026_expression>|                   <http://aging-research.group/resource/expression_of>|<http://rdf.ebi.ac.uk/resource/ensembl/ENSCCEG00000000026>|<http://aging-research.group/samples/> .|\n",
            "|                          <https://www.ncbi.nlm.nih.gov/sra/SRR2040645>|<http://aging-research.group/samples/has_ENSCCEG00000000026_expression>|     \"1.017903\"^^<http://www.w3.org/2001/XMLSchema#double>|<http://aging-research.group/samples/> .|\n",
            "|             <http://rdf.ebi.ac.uk/resource/ensembl/ENSCCEG00000000027>|                      <http://www.w3.org/1999/02/22-rdf-syntax-ns#type>|               <http://aging-research.group/resource/Gene>|<http://aging-research.group/samples/> .|\n",
            "|<http://aging-research.group/samples/has_ENSCCEG00000000027_expression>|                      <http://www.w3.org/1999/02/22-rdf-syntax-ns#type>|    <http://aging-research.group/resource/Gene_expression>|<http://aging-research.group/samples/> .|\n",
            "|<http://aging-research.group/samples/has_ENSCCEG00000000027_expression>|                   <http://aging-research.group/resource/expression_of>|<http://rdf.ebi.ac.uk/resource/ensembl/ENSCCEG00000000027>|<http://aging-research.group/samples/> .|\n",
            "|                          <https://www.ncbi.nlm.nih.gov/sra/SRR2040645>|<http://aging-research.group/samples/has_ENSCCEG00000000027_expression>|    \"37.048681\"^^<http://www.w3.org/2001/XMLSchema#double>|<http://aging-research.group/samples/> .|\n",
            "|             <http://rdf.ebi.ac.uk/resource/ensembl/ENSCCEG00000000030>|                      <http://www.w3.org/1999/02/22-rdf-syntax-ns#type>|               <http://aging-research.group/resource/Gene>|<http://aging-research.group/samples/> .|\n",
            "|<http://aging-research.group/samples/has_ENSCCEG00000000030_expression>|                      <http://www.w3.org/1999/02/22-rdf-syntax-ns#type>|    <http://aging-research.group/resource/Gene_expression>|<http://aging-research.group/samples/> .|\n",
            "|<http://aging-research.group/samples/has_ENSCCEG00000000030_expression>|                   <http://aging-research.group/resource/expression_of>|<http://rdf.ebi.ac.uk/resource/ensembl/ENSCCEG00000000030>|<http://aging-research.group/samples/> .|\n",
            "|                          <https://www.ncbi.nlm.nih.gov/sra/SRR2040645>|<http://aging-research.group/samples/has_ENSCCEG00000000030_expression>|    \"92.608544\"^^<http://www.w3.org/2001/XMLSchema#double>|<http://aging-research.group/samples/> .|\n",
            "|             <http://rdf.ebi.ac.uk/resource/ensembl/ENSCCEG00000000031>|                      <http://www.w3.org/1999/02/22-rdf-syntax-ns#type>|               <http://aging-research.group/resource/Gene>|<http://aging-research.group/samples/> .|\n",
            "|<http://aging-research.group/samples/has_ENSCCEG00000000031_expression>|                      <http://www.w3.org/1999/02/22-rdf-syntax-ns#type>|    <http://aging-research.group/resource/Gene_expression>|<http://aging-research.group/samples/> .|\n",
            "|<http://aging-research.group/samples/has_ENSCCEG00000000031_expression>|                   <http://aging-research.group/resource/expression_of>|<http://rdf.ebi.ac.uk/resource/ensembl/ENSCCEG00000000031>|<http://aging-research.group/samples/> .|\n",
            "|                          <https://www.ncbi.nlm.nih.gov/sra/SRR2040645>|<http://aging-research.group/samples/has_ENSCCEG00000000031_expression>|     \"5.824284\"^^<http://www.w3.org/2001/XMLSchema#double>|<http://aging-research.group/samples/> .|\n",
            "|             <http://rdf.ebi.ac.uk/resource/ensembl/ENSCCEG00000000032>|                      <http://www.w3.org/1999/02/22-rdf-syntax-ns#type>|               <http://aging-research.group/resource/Gene>|<http://aging-research.group/samples/> .|\n",
            "|<http://aging-research.group/samples/has_ENSCCEG00000000032_expression>|                      <http://www.w3.org/1999/02/22-rdf-syntax-ns#type>|    <http://aging-research.group/resource/Gene_expression>|<http://aging-research.group/samples/> .|\n",
            "|<http://aging-research.group/samples/has_ENSCCEG00000000032_expression>|                   <http://aging-research.group/resource/expression_of>|<http://rdf.ebi.ac.uk/resource/ensembl/ENSCCEG00000000032>|<http://aging-research.group/samples/> .|\n",
            "|                          <https://www.ncbi.nlm.nih.gov/sra/SRR2040645>|<http://aging-research.group/samples/has_ENSCCEG00000000032_expression>|          \"0.0\"^^<http://www.w3.org/2001/XMLSchema#double>|<http://aging-research.group/samples/> .|\n",
            "|             <http://rdf.ebi.ac.uk/resource/ensembl/ENSCCEG00000000033>|                      <http://www.w3.org/1999/02/22-rdf-syntax-ns#type>|               <http://aging-research.group/resource/Gene>|<http://aging-research.group/samples/> .|\n",
            "|<http://aging-research.group/samples/has_ENSCCEG00000000033_expression>|                      <http://www.w3.org/1999/02/22-rdf-syntax-ns#type>|    <http://aging-research.group/resource/Gene_expression>|<http://aging-research.group/samples/> .|\n",
            "|<http://aging-research.group/samples/has_ENSCCEG00000000033_expression>|                   <http://aging-research.group/resource/expression_of>|<http://rdf.ebi.ac.uk/resource/ensembl/ENSCCEG00000000033>|<http://aging-research.group/samples/> .|\n",
            "|                          <https://www.ncbi.nlm.nih.gov/sra/SRR2040645>|<http://aging-research.group/samples/has_ENSCCEG00000000033_expression>|    \"62.847503\"^^<http://www.w3.org/2001/XMLSchema#double>|<http://aging-research.group/samples/> .|\n",
            "|             <http://rdf.ebi.ac.uk/resource/ensembl/ENSCCEG00000000034>|                      <http://www.w3.org/1999/02/22-rdf-syntax-ns#type>|               <http://aging-research.group/resource/Gene>|<http://aging-research.group/samples/> .|\n",
            "|<http://aging-research.group/samples/has_ENSCCEG00000000034_expression>|                      <http://www.w3.org/1999/02/22-rdf-syntax-ns#type>|    <http://aging-research.group/resource/Gene_expression>|<http://aging-research.group/samples/> .|\n",
            "|<http://aging-research.group/samples/has_ENSCCEG00000000034_expression>|                   <http://aging-research.group/resource/expression_of>|<http://rdf.ebi.ac.uk/resource/ensembl/ENSCCEG00000000034>|<http://aging-research.group/samples/> .|\n",
            "|                          <https://www.ncbi.nlm.nih.gov/sra/SRR2040645>|<http://aging-research.group/samples/has_ENSCCEG00000000034_expression>|     \"1.037235\"^^<http://www.w3.org/2001/XMLSchema#double>|<http://aging-research.group/samples/> .|\n",
            "|             <http://rdf.ebi.ac.uk/resource/ensembl/ENSCCEG00000000036>|                      <http://www.w3.org/1999/02/22-rdf-syntax-ns#type>|               <http://aging-research.group/resource/Gene>|<http://aging-research.group/samples/> .|\n",
            "|<http://aging-research.group/samples/has_ENSCCEG00000000036_expression>|                      <http://www.w3.org/1999/02/22-rdf-syntax-ns#type>|    <http://aging-research.group/resource/Gene_expression>|<http://aging-research.group/samples/> .|\n",
            "|<http://aging-research.group/samples/has_ENSCCEG00000000036_expression>|                   <http://aging-research.group/resource/expression_of>|<http://rdf.ebi.ac.uk/resource/ensembl/ENSCCEG00000000036>|<http://aging-research.group/samples/> .|\n",
            "|                          <https://www.ncbi.nlm.nih.gov/sra/SRR2040645>|<http://aging-research.group/samples/has_ENSCCEG00000000036_expression>|    \"12.408876\"^^<http://www.w3.org/2001/XMLSchema#double>|<http://aging-research.group/samples/> .|\n",
            "|             <http://rdf.ebi.ac.uk/resource/ensembl/ENSCCEG00000000037>|                      <http://www.w3.org/1999/02/22-rdf-syntax-ns#type>|               <http://aging-research.group/resource/Gene>|<http://aging-research.group/samples/> .|\n",
            "|<http://aging-research.group/samples/has_ENSCCEG00000000037_expression>|                      <http://www.w3.org/1999/02/22-rdf-syntax-ns#type>|    <http://aging-research.group/resource/Gene_expression>|<http://aging-research.group/samples/> .|\n",
            "|<http://aging-research.group/samples/has_ENSCCEG00000000037_expression>|                   <http://aging-research.group/resource/expression_of>|<http://rdf.ebi.ac.uk/resource/ensembl/ENSCCEG00000000037>|<http://aging-research.group/samples/> .|\n",
            "|                          <https://www.ncbi.nlm.nih.gov/sra/SRR2040645>|<http://aging-research.group/samples/has_ENSCCEG00000000037_expression>|     \"27.25148\"^^<http://www.w3.org/2001/XMLSchema#double>|<http://aging-research.group/samples/> .|\n",
            "|             <http://rdf.ebi.ac.uk/resource/ensembl/ENSCCEG00000000038>|                      <http://www.w3.org/1999/02/22-rdf-syntax-ns#type>|               <http://aging-research.group/resource/Gene>|<http://aging-research.group/samples/> .|\n",
            "|<http://aging-research.group/samples/has_ENSCCEG00000000038_expression>|                      <http://www.w3.org/1999/02/22-rdf-syntax-ns#type>|    <http://aging-research.group/resource/Gene_expression>|<http://aging-research.group/samples/> .|\n",
            "|<http://aging-research.group/samples/has_ENSCCEG00000000038_expression>|                   <http://aging-research.group/resource/expression_of>|<http://rdf.ebi.ac.uk/resource/ensembl/ENSCCEG00000000038>|<http://aging-research.group/samples/> .|\n",
            "|                          <https://www.ncbi.nlm.nih.gov/sra/SRR2040645>|<http://aging-research.group/samples/has_ENSCCEG00000000038_expression>|    \"22.390847\"^^<http://www.w3.org/2001/XMLSchema#double>|<http://aging-research.group/samples/> .|\n",
            "|             <http://rdf.ebi.ac.uk/resource/ensembl/ENSCCEG00000000039>|                      <http://www.w3.org/1999/02/22-rdf-syntax-ns#type>|               <http://aging-research.group/resource/Gene>|<http://aging-research.group/samples/> .|\n",
            "|<http://aging-research.group/samples/has_ENSCCEG00000000039_expression>|                      <http://www.w3.org/1999/02/22-rdf-syntax-ns#type>|    <http://aging-research.group/resource/Gene_expression>|<http://aging-research.group/samples/> .|\n",
            "|<http://aging-research.group/samples/has_ENSCCEG00000000039_expression>|                   <http://aging-research.group/resource/expression_of>|<http://rdf.ebi.ac.uk/resource/ensembl/ENSCCEG00000000039>|<http://aging-research.group/samples/> .|\n",
            "|                          <https://www.ncbi.nlm.nih.gov/sra/SRR2040645>|<http://aging-research.group/samples/has_ENSCCEG00000000039_expression>|    \"12.799175\"^^<http://www.w3.org/2001/XMLSchema#double>|<http://aging-research.group/samples/> .|\n",
            "+-----------------------------------------------------------------------+-----------------------------------------------------------------------+----------------------------------------------------------+----------------------------------------+\n",
            "only showing top 100 rows\n",
            "\n"
          ],
          "output_type" : "stream"
        }
      ]
    },
    {
      "cell_type" : "code",
      "execution_count" : 30,
      "metadata" : {
        "cell.metadata.exec_info" : {
          "startTs" : 1586016414890,
          "endTs" : 1586016681930
        },
        "language" : "scala"
      },
      "language" : "scala",
      "source" : [
        "all_expressions.toDF.writeTSV(\"/data/databases/graphdb/import/all_expressions.nq\", header = false, rewrite = true)"
      ],
      "outputs" : [
        {
          "name" : "stdout",
          "text" : [
            "parts of /data/databases/graphdb/import/all_expressions.nq merged!\n"
          ],
          "output_type" : "stream"
        },
        {
          "execution_count" : 30,
          "data" : {
            "text/plain" : [
              "/data/databases/graphdb/import/all_expressions.nq"
            ]
          },
          "metadata" : {
            "name" : "Out",
            "type" : "String"
          },
          "output_type" : "execute_result"
        }
      ]
    },
    {
      "cell_type" : "code",
      "execution_count" : 31,
      "metadata" : {
        "cell.metadata.exec_info" : {
          "startTs" : 1581823229339,
          "endTs" : 1581823229588
        },
        "language" : "scala"
      },
      "language" : "scala",
      "source" : [
        "expression_quads(r, e).show(200,1000)"
      ],
      "outputs" : [
        {
          "name" : "stdout",
          "text" : [
            "+-----------------------------------------------------------------------+-----------------------------------------------------------------------+----------------------------------------------------------+----------------------------------------+\n",
            "|                                                                subject|                                                               property|                                                    object|                                 context|\n",
            "+-----------------------------------------------------------------------+-----------------------------------------------------------------------+----------------------------------------------------------+----------------------------------------+\n",
            "|             <http://rdf.ebi.ac.uk/resource/ensembl/ENSBTAG00000000005>|                      <http://www.w3.org/1999/02/22-rdf-syntax-ns#type>|               <http://aging-research.group/resource/Gene>|<http://aging-research.group/samples/> .|\n",
            "|<http://aging-research.group/samples/has_ENSBTAG00000000005_expression>|                      <http://www.w3.org/1999/02/22-rdf-syntax-ns#type>|    <http://aging-research.group/resource/Gene_expression>|<http://aging-research.group/samples/> .|\n",
            "|<http://aging-research.group/samples/has_ENSBTAG00000000005_expression>|                   <http://aging-research.group/resource/expression_of>|<http://rdf.ebi.ac.uk/resource/ensembl/ENSBTAG00000000005>|<http://aging-research.group/samples/> .|\n",
            "|                          <https://www.ncbi.nlm.nih.gov/sra/SRR3109710>|<http://aging-research.group/samples/has_ENSBTAG00000000005_expression>|     \"3.965549\"^^<http://www.w3.org/2001/XMLSchema#double>|<http://aging-research.group/samples/> .|\n",
            "|             <http://rdf.ebi.ac.uk/resource/ensembl/ENSBTAG00000000008>|                      <http://www.w3.org/1999/02/22-rdf-syntax-ns#type>|               <http://aging-research.group/resource/Gene>|<http://aging-research.group/samples/> .|\n",
            "|<http://aging-research.group/samples/has_ENSBTAG00000000008_expression>|                      <http://www.w3.org/1999/02/22-rdf-syntax-ns#type>|    <http://aging-research.group/resource/Gene_expression>|<http://aging-research.group/samples/> .|\n",
            "|<http://aging-research.group/samples/has_ENSBTAG00000000008_expression>|                   <http://aging-research.group/resource/expression_of>|<http://rdf.ebi.ac.uk/resource/ensembl/ENSBTAG00000000008>|<http://aging-research.group/samples/> .|\n",
            "|                          <https://www.ncbi.nlm.nih.gov/sra/SRR3109710>|<http://aging-research.group/samples/has_ENSBTAG00000000008_expression>|     \"53.09942\"^^<http://www.w3.org/2001/XMLSchema#double>|<http://aging-research.group/samples/> .|\n",
            "|             <http://rdf.ebi.ac.uk/resource/ensembl/ENSBTAG00000000009>|                      <http://www.w3.org/1999/02/22-rdf-syntax-ns#type>|               <http://aging-research.group/resource/Gene>|<http://aging-research.group/samples/> .|\n",
            "|<http://aging-research.group/samples/has_ENSBTAG00000000009_expression>|                      <http://www.w3.org/1999/02/22-rdf-syntax-ns#type>|    <http://aging-research.group/resource/Gene_expression>|<http://aging-research.group/samples/> .|\n",
            "|<http://aging-research.group/samples/has_ENSBTAG00000000009_expression>|                   <http://aging-research.group/resource/expression_of>|<http://rdf.ebi.ac.uk/resource/ensembl/ENSBTAG00000000009>|<http://aging-research.group/samples/> .|\n",
            "|                          <https://www.ncbi.nlm.nih.gov/sra/SRR3109710>|<http://aging-research.group/samples/has_ENSBTAG00000000009_expression>|     \"1.520721\"^^<http://www.w3.org/2001/XMLSchema#double>|<http://aging-research.group/samples/> .|\n",
            "|             <http://rdf.ebi.ac.uk/resource/ensembl/ENSBTAG00000000010>|                      <http://www.w3.org/1999/02/22-rdf-syntax-ns#type>|               <http://aging-research.group/resource/Gene>|<http://aging-research.group/samples/> .|\n",
            "|<http://aging-research.group/samples/has_ENSBTAG00000000010_expression>|                      <http://www.w3.org/1999/02/22-rdf-syntax-ns#type>|    <http://aging-research.group/resource/Gene_expression>|<http://aging-research.group/samples/> .|\n",
            "|<http://aging-research.group/samples/has_ENSBTAG00000000010_expression>|                   <http://aging-research.group/resource/expression_of>|<http://rdf.ebi.ac.uk/resource/ensembl/ENSBTAG00000000010>|<http://aging-research.group/samples/> .|\n",
            "|                          <https://www.ncbi.nlm.nih.gov/sra/SRR3109710>|<http://aging-research.group/samples/has_ENSBTAG00000000010_expression>|    \"29.502356\"^^<http://www.w3.org/2001/XMLSchema#double>|<http://aging-research.group/samples/> .|\n",
            "|             <http://rdf.ebi.ac.uk/resource/ensembl/ENSBTAG00000000011>|                      <http://www.w3.org/1999/02/22-rdf-syntax-ns#type>|               <http://aging-research.group/resource/Gene>|<http://aging-research.group/samples/> .|\n",
            "|<http://aging-research.group/samples/has_ENSBTAG00000000011_expression>|                      <http://www.w3.org/1999/02/22-rdf-syntax-ns#type>|    <http://aging-research.group/resource/Gene_expression>|<http://aging-research.group/samples/> .|\n",
            "|<http://aging-research.group/samples/has_ENSBTAG00000000011_expression>|                   <http://aging-research.group/resource/expression_of>|<http://rdf.ebi.ac.uk/resource/ensembl/ENSBTAG00000000011>|<http://aging-research.group/samples/> .|\n",
            "|                          <https://www.ncbi.nlm.nih.gov/sra/SRR3109710>|<http://aging-research.group/samples/has_ENSBTAG00000000011_expression>|     \"0.367381\"^^<http://www.w3.org/2001/XMLSchema#double>|<http://aging-research.group/samples/> .|\n",
            "|             <http://rdf.ebi.ac.uk/resource/ensembl/ENSBTAG00000000012>|                      <http://www.w3.org/1999/02/22-rdf-syntax-ns#type>|               <http://aging-research.group/resource/Gene>|<http://aging-research.group/samples/> .|\n",
            "|<http://aging-research.group/samples/has_ENSBTAG00000000012_expression>|                      <http://www.w3.org/1999/02/22-rdf-syntax-ns#type>|    <http://aging-research.group/resource/Gene_expression>|<http://aging-research.group/samples/> .|\n",
            "|<http://aging-research.group/samples/has_ENSBTAG00000000012_expression>|                   <http://aging-research.group/resource/expression_of>|<http://rdf.ebi.ac.uk/resource/ensembl/ENSBTAG00000000012>|<http://aging-research.group/samples/> .|\n",
            "|                          <https://www.ncbi.nlm.nih.gov/sra/SRR3109710>|<http://aging-research.group/samples/has_ENSBTAG00000000012_expression>|    \"11.924181\"^^<http://www.w3.org/2001/XMLSchema#double>|<http://aging-research.group/samples/> .|\n",
            "|             <http://rdf.ebi.ac.uk/resource/ensembl/ENSBTAG00000000013>|                      <http://www.w3.org/1999/02/22-rdf-syntax-ns#type>|               <http://aging-research.group/resource/Gene>|<http://aging-research.group/samples/> .|\n",
            "|<http://aging-research.group/samples/has_ENSBTAG00000000013_expression>|                      <http://www.w3.org/1999/02/22-rdf-syntax-ns#type>|    <http://aging-research.group/resource/Gene_expression>|<http://aging-research.group/samples/> .|\n",
            "|<http://aging-research.group/samples/has_ENSBTAG00000000013_expression>|                   <http://aging-research.group/resource/expression_of>|<http://rdf.ebi.ac.uk/resource/ensembl/ENSBTAG00000000013>|<http://aging-research.group/samples/> .|\n",
            "|                          <https://www.ncbi.nlm.nih.gov/sra/SRR3109710>|<http://aging-research.group/samples/has_ENSBTAG00000000013_expression>|    \"19.696811\"^^<http://www.w3.org/2001/XMLSchema#double>|<http://aging-research.group/samples/> .|\n",
            "|             <http://rdf.ebi.ac.uk/resource/ensembl/ENSBTAG00000000014>|                      <http://www.w3.org/1999/02/22-rdf-syntax-ns#type>|               <http://aging-research.group/resource/Gene>|<http://aging-research.group/samples/> .|\n",
            "|<http://aging-research.group/samples/has_ENSBTAG00000000014_expression>|                      <http://www.w3.org/1999/02/22-rdf-syntax-ns#type>|    <http://aging-research.group/resource/Gene_expression>|<http://aging-research.group/samples/> .|\n",
            "|<http://aging-research.group/samples/has_ENSBTAG00000000014_expression>|                   <http://aging-research.group/resource/expression_of>|<http://rdf.ebi.ac.uk/resource/ensembl/ENSBTAG00000000014>|<http://aging-research.group/samples/> .|\n",
            "|                          <https://www.ncbi.nlm.nih.gov/sra/SRR3109710>|<http://aging-research.group/samples/has_ENSBTAG00000000014_expression>|   \"112.534523\"^^<http://www.w3.org/2001/XMLSchema#double>|<http://aging-research.group/samples/> .|\n",
            "|             <http://rdf.ebi.ac.uk/resource/ensembl/ENSBTAG00000000015>|                      <http://www.w3.org/1999/02/22-rdf-syntax-ns#type>|               <http://aging-research.group/resource/Gene>|<http://aging-research.group/samples/> .|\n",
            "|<http://aging-research.group/samples/has_ENSBTAG00000000015_expression>|                      <http://www.w3.org/1999/02/22-rdf-syntax-ns#type>|    <http://aging-research.group/resource/Gene_expression>|<http://aging-research.group/samples/> .|\n",
            "|<http://aging-research.group/samples/has_ENSBTAG00000000015_expression>|                   <http://aging-research.group/resource/expression_of>|<http://rdf.ebi.ac.uk/resource/ensembl/ENSBTAG00000000015>|<http://aging-research.group/samples/> .|\n",
            "|                          <https://www.ncbi.nlm.nih.gov/sra/SRR3109710>|<http://aging-research.group/samples/has_ENSBTAG00000000015_expression>|     \"1.715009\"^^<http://www.w3.org/2001/XMLSchema#double>|<http://aging-research.group/samples/> .|\n",
            "|             <http://rdf.ebi.ac.uk/resource/ensembl/ENSBTAG00000000016>|                      <http://www.w3.org/1999/02/22-rdf-syntax-ns#type>|               <http://aging-research.group/resource/Gene>|<http://aging-research.group/samples/> .|\n",
            "|<http://aging-research.group/samples/has_ENSBTAG00000000016_expression>|                      <http://www.w3.org/1999/02/22-rdf-syntax-ns#type>|    <http://aging-research.group/resource/Gene_expression>|<http://aging-research.group/samples/> .|\n",
            "|<http://aging-research.group/samples/has_ENSBTAG00000000016_expression>|                   <http://aging-research.group/resource/expression_of>|<http://rdf.ebi.ac.uk/resource/ensembl/ENSBTAG00000000016>|<http://aging-research.group/samples/> .|\n",
            "|                          <https://www.ncbi.nlm.nih.gov/sra/SRR3109710>|<http://aging-research.group/samples/has_ENSBTAG00000000016_expression>|     \"0.217612\"^^<http://www.w3.org/2001/XMLSchema#double>|<http://aging-research.group/samples/> .|\n",
            "|             <http://rdf.ebi.ac.uk/resource/ensembl/ENSBTAG00000000019>|                      <http://www.w3.org/1999/02/22-rdf-syntax-ns#type>|               <http://aging-research.group/resource/Gene>|<http://aging-research.group/samples/> .|\n",
            "|<http://aging-research.group/samples/has_ENSBTAG00000000019_expression>|                      <http://www.w3.org/1999/02/22-rdf-syntax-ns#type>|    <http://aging-research.group/resource/Gene_expression>|<http://aging-research.group/samples/> .|\n",
            "|<http://aging-research.group/samples/has_ENSBTAG00000000019_expression>|                   <http://aging-research.group/resource/expression_of>|<http://rdf.ebi.ac.uk/resource/ensembl/ENSBTAG00000000019>|<http://aging-research.group/samples/> .|\n",
            "|                          <https://www.ncbi.nlm.nih.gov/sra/SRR3109710>|<http://aging-research.group/samples/has_ENSBTAG00000000019_expression>|   \"265.549443\"^^<http://www.w3.org/2001/XMLSchema#double>|<http://aging-research.group/samples/> .|\n",
            "|             <http://rdf.ebi.ac.uk/resource/ensembl/ENSBTAG00000000020>|                      <http://www.w3.org/1999/02/22-rdf-syntax-ns#type>|               <http://aging-research.group/resource/Gene>|<http://aging-research.group/samples/> .|\n",
            "|<http://aging-research.group/samples/has_ENSBTAG00000000020_expression>|                      <http://www.w3.org/1999/02/22-rdf-syntax-ns#type>|    <http://aging-research.group/resource/Gene_expression>|<http://aging-research.group/samples/> .|\n",
            "|<http://aging-research.group/samples/has_ENSBTAG00000000020_expression>|                   <http://aging-research.group/resource/expression_of>|<http://rdf.ebi.ac.uk/resource/ensembl/ENSBTAG00000000020>|<http://aging-research.group/samples/> .|\n",
            "|                          <https://www.ncbi.nlm.nih.gov/sra/SRR3109710>|<http://aging-research.group/samples/has_ENSBTAG00000000020_expression>|          \"0.0\"^^<http://www.w3.org/2001/XMLSchema#double>|<http://aging-research.group/samples/> .|\n",
            "|             <http://rdf.ebi.ac.uk/resource/ensembl/ENSBTAG00000000021>|                      <http://www.w3.org/1999/02/22-rdf-syntax-ns#type>|               <http://aging-research.group/resource/Gene>|<http://aging-research.group/samples/> .|\n",
            "|<http://aging-research.group/samples/has_ENSBTAG00000000021_expression>|                      <http://www.w3.org/1999/02/22-rdf-syntax-ns#type>|    <http://aging-research.group/resource/Gene_expression>|<http://aging-research.group/samples/> .|\n",
            "|<http://aging-research.group/samples/has_ENSBTAG00000000021_expression>|                   <http://aging-research.group/resource/expression_of>|<http://rdf.ebi.ac.uk/resource/ensembl/ENSBTAG00000000021>|<http://aging-research.group/samples/> .|\n",
            "|                          <https://www.ncbi.nlm.nih.gov/sra/SRR3109710>|<http://aging-research.group/samples/has_ENSBTAG00000000021_expression>|     \"8.300591\"^^<http://www.w3.org/2001/XMLSchema#double>|<http://aging-research.group/samples/> .|\n",
            "|             <http://rdf.ebi.ac.uk/resource/ensembl/ENSBTAG00000000022>|                      <http://www.w3.org/1999/02/22-rdf-syntax-ns#type>|               <http://aging-research.group/resource/Gene>|<http://aging-research.group/samples/> .|\n",
            "|<http://aging-research.group/samples/has_ENSBTAG00000000022_expression>|                      <http://www.w3.org/1999/02/22-rdf-syntax-ns#type>|    <http://aging-research.group/resource/Gene_expression>|<http://aging-research.group/samples/> .|\n",
            "|<http://aging-research.group/samples/has_ENSBTAG00000000022_expression>|                   <http://aging-research.group/resource/expression_of>|<http://rdf.ebi.ac.uk/resource/ensembl/ENSBTAG00000000022>|<http://aging-research.group/samples/> .|\n",
            "|                          <https://www.ncbi.nlm.nih.gov/sra/SRR3109710>|<http://aging-research.group/samples/has_ENSBTAG00000000022_expression>|     \"9.223065\"^^<http://www.w3.org/2001/XMLSchema#double>|<http://aging-research.group/samples/> .|\n",
            "|             <http://rdf.ebi.ac.uk/resource/ensembl/ENSBTAG00000000023>|                      <http://www.w3.org/1999/02/22-rdf-syntax-ns#type>|               <http://aging-research.group/resource/Gene>|<http://aging-research.group/samples/> .|\n",
            "|<http://aging-research.group/samples/has_ENSBTAG00000000023_expression>|                      <http://www.w3.org/1999/02/22-rdf-syntax-ns#type>|    <http://aging-research.group/resource/Gene_expression>|<http://aging-research.group/samples/> .|\n",
            "|<http://aging-research.group/samples/has_ENSBTAG00000000023_expression>|                   <http://aging-research.group/resource/expression_of>|<http://rdf.ebi.ac.uk/resource/ensembl/ENSBTAG00000000023>|<http://aging-research.group/samples/> .|\n",
            "|                          <https://www.ncbi.nlm.nih.gov/sra/SRR3109710>|<http://aging-research.group/samples/has_ENSBTAG00000000023_expression>|    \"16.484136\"^^<http://www.w3.org/2001/XMLSchema#double>|<http://aging-research.group/samples/> .|\n",
            "|             <http://rdf.ebi.ac.uk/resource/ensembl/ENSBTAG00000000024>|                      <http://www.w3.org/1999/02/22-rdf-syntax-ns#type>|               <http://aging-research.group/resource/Gene>|<http://aging-research.group/samples/> .|\n",
            "|<http://aging-research.group/samples/has_ENSBTAG00000000024_expression>|                      <http://www.w3.org/1999/02/22-rdf-syntax-ns#type>|    <http://aging-research.group/resource/Gene_expression>|<http://aging-research.group/samples/> .|\n",
            "|<http://aging-research.group/samples/has_ENSBTAG00000000024_expression>|                   <http://aging-research.group/resource/expression_of>|<http://rdf.ebi.ac.uk/resource/ensembl/ENSBTAG00000000024>|<http://aging-research.group/samples/> .|\n",
            "|                          <https://www.ncbi.nlm.nih.gov/sra/SRR3109710>|<http://aging-research.group/samples/has_ENSBTAG00000000024_expression>|    \"19.216376\"^^<http://www.w3.org/2001/XMLSchema#double>|<http://aging-research.group/samples/> .|\n",
            "|             <http://rdf.ebi.ac.uk/resource/ensembl/ENSBTAG00000000025>|                      <http://www.w3.org/1999/02/22-rdf-syntax-ns#type>|               <http://aging-research.group/resource/Gene>|<http://aging-research.group/samples/> .|\n",
            "|<http://aging-research.group/samples/has_ENSBTAG00000000025_expression>|                      <http://www.w3.org/1999/02/22-rdf-syntax-ns#type>|    <http://aging-research.group/resource/Gene_expression>|<http://aging-research.group/samples/> .|\n",
            "|<http://aging-research.group/samples/has_ENSBTAG00000000025_expression>|                   <http://aging-research.group/resource/expression_of>|<http://rdf.ebi.ac.uk/resource/ensembl/ENSBTAG00000000025>|<http://aging-research.group/samples/> .|\n",
            "|                          <https://www.ncbi.nlm.nih.gov/sra/SRR3109710>|<http://aging-research.group/samples/has_ENSBTAG00000000025_expression>|    \"57.412953\"^^<http://www.w3.org/2001/XMLSchema#double>|<http://aging-research.group/samples/> .|\n",
            "|             <http://rdf.ebi.ac.uk/resource/ensembl/ENSBTAG00000000026>|                      <http://www.w3.org/1999/02/22-rdf-syntax-ns#type>|               <http://aging-research.group/resource/Gene>|<http://aging-research.group/samples/> .|\n",
            "|<http://aging-research.group/samples/has_ENSBTAG00000000026_expression>|                      <http://www.w3.org/1999/02/22-rdf-syntax-ns#type>|    <http://aging-research.group/resource/Gene_expression>|<http://aging-research.group/samples/> .|\n",
            "|<http://aging-research.group/samples/has_ENSBTAG00000000026_expression>|                   <http://aging-research.group/resource/expression_of>|<http://rdf.ebi.ac.uk/resource/ensembl/ENSBTAG00000000026>|<http://aging-research.group/samples/> .|\n",
            "|                          <https://www.ncbi.nlm.nih.gov/sra/SRR3109710>|<http://aging-research.group/samples/has_ENSBTAG00000000026_expression>|    \"14.207972\"^^<http://www.w3.org/2001/XMLSchema#double>|<http://aging-research.group/samples/> .|\n",
            "|             <http://rdf.ebi.ac.uk/resource/ensembl/ENSBTAG00000000027>|                      <http://www.w3.org/1999/02/22-rdf-syntax-ns#type>|               <http://aging-research.group/resource/Gene>|<http://aging-research.group/samples/> .|\n",
            "|<http://aging-research.group/samples/has_ENSBTAG00000000027_expression>|                      <http://www.w3.org/1999/02/22-rdf-syntax-ns#type>|    <http://aging-research.group/resource/Gene_expression>|<http://aging-research.group/samples/> .|\n",
            "|<http://aging-research.group/samples/has_ENSBTAG00000000027_expression>|                   <http://aging-research.group/resource/expression_of>|<http://rdf.ebi.ac.uk/resource/ensembl/ENSBTAG00000000027>|<http://aging-research.group/samples/> .|\n",
            "|                          <https://www.ncbi.nlm.nih.gov/sra/SRR3109710>|<http://aging-research.group/samples/has_ENSBTAG00000000027_expression>|          \"0.0\"^^<http://www.w3.org/2001/XMLSchema#double>|<http://aging-research.group/samples/> .|\n",
            "|             <http://rdf.ebi.ac.uk/resource/ensembl/ENSBTAG00000000029>|                      <http://www.w3.org/1999/02/22-rdf-syntax-ns#type>|               <http://aging-research.group/resource/Gene>|<http://aging-research.group/samples/> .|\n",
            "|<http://aging-research.group/samples/has_ENSBTAG00000000029_expression>|                      <http://www.w3.org/1999/02/22-rdf-syntax-ns#type>|    <http://aging-research.group/resource/Gene_expression>|<http://aging-research.group/samples/> .|\n",
            "|<http://aging-research.group/samples/has_ENSBTAG00000000029_expression>|                   <http://aging-research.group/resource/expression_of>|<http://rdf.ebi.ac.uk/resource/ensembl/ENSBTAG00000000029>|<http://aging-research.group/samples/> .|\n",
            "|                          <https://www.ncbi.nlm.nih.gov/sra/SRR3109710>|<http://aging-research.group/samples/has_ENSBTAG00000000029_expression>|     \"29.71236\"^^<http://www.w3.org/2001/XMLSchema#double>|<http://aging-research.group/samples/> .|\n",
            "|             <http://rdf.ebi.ac.uk/resource/ensembl/ENSBTAG00000000030>|                      <http://www.w3.org/1999/02/22-rdf-syntax-ns#type>|               <http://aging-research.group/resource/Gene>|<http://aging-research.group/samples/> .|\n",
            "|<http://aging-research.group/samples/has_ENSBTAG00000000030_expression>|                      <http://www.w3.org/1999/02/22-rdf-syntax-ns#type>|    <http://aging-research.group/resource/Gene_expression>|<http://aging-research.group/samples/> .|\n",
            "|<http://aging-research.group/samples/has_ENSBTAG00000000030_expression>|                   <http://aging-research.group/resource/expression_of>|<http://rdf.ebi.ac.uk/resource/ensembl/ENSBTAG00000000030>|<http://aging-research.group/samples/> .|\n",
            "|                          <https://www.ncbi.nlm.nih.gov/sra/SRR3109710>|<http://aging-research.group/samples/has_ENSBTAG00000000030_expression>|     \"0.422104\"^^<http://www.w3.org/2001/XMLSchema#double>|<http://aging-research.group/samples/> .|\n",
            "|             <http://rdf.ebi.ac.uk/resource/ensembl/ENSBTAG00000000031>|                      <http://www.w3.org/1999/02/22-rdf-syntax-ns#type>|               <http://aging-research.group/resource/Gene>|<http://aging-research.group/samples/> .|\n",
            "|<http://aging-research.group/samples/has_ENSBTAG00000000031_expression>|                      <http://www.w3.org/1999/02/22-rdf-syntax-ns#type>|    <http://aging-research.group/resource/Gene_expression>|<http://aging-research.group/samples/> .|\n",
            "|<http://aging-research.group/samples/has_ENSBTAG00000000031_expression>|                   <http://aging-research.group/resource/expression_of>|<http://rdf.ebi.ac.uk/resource/ensembl/ENSBTAG00000000031>|<http://aging-research.group/samples/> .|\n",
            "|                          <https://www.ncbi.nlm.nih.gov/sra/SRR3109710>|<http://aging-research.group/samples/has_ENSBTAG00000000031_expression>|     \"35.53829\"^^<http://www.w3.org/2001/XMLSchema#double>|<http://aging-research.group/samples/> .|\n",
            "|             <http://rdf.ebi.ac.uk/resource/ensembl/ENSBTAG00000000032>|                      <http://www.w3.org/1999/02/22-rdf-syntax-ns#type>|               <http://aging-research.group/resource/Gene>|<http://aging-research.group/samples/> .|\n",
            "|<http://aging-research.group/samples/has_ENSBTAG00000000032_expression>|                      <http://www.w3.org/1999/02/22-rdf-syntax-ns#type>|    <http://aging-research.group/resource/Gene_expression>|<http://aging-research.group/samples/> .|\n",
            "|<http://aging-research.group/samples/has_ENSBTAG00000000032_expression>|                   <http://aging-research.group/resource/expression_of>|<http://rdf.ebi.ac.uk/resource/ensembl/ENSBTAG00000000032>|<http://aging-research.group/samples/> .|\n",
            "|                          <https://www.ncbi.nlm.nih.gov/sra/SRR3109710>|<http://aging-research.group/samples/has_ENSBTAG00000000032_expression>|     \"5.062735\"^^<http://www.w3.org/2001/XMLSchema#double>|<http://aging-research.group/samples/> .|\n",
            "|             <http://rdf.ebi.ac.uk/resource/ensembl/ENSBTAG00000000033>|                      <http://www.w3.org/1999/02/22-rdf-syntax-ns#type>|               <http://aging-research.group/resource/Gene>|<http://aging-research.group/samples/> .|\n",
            "|<http://aging-research.group/samples/has_ENSBTAG00000000033_expression>|                      <http://www.w3.org/1999/02/22-rdf-syntax-ns#type>|    <http://aging-research.group/resource/Gene_expression>|<http://aging-research.group/samples/> .|\n",
            "|<http://aging-research.group/samples/has_ENSBTAG00000000033_expression>|                   <http://aging-research.group/resource/expression_of>|<http://rdf.ebi.ac.uk/resource/ensembl/ENSBTAG00000000033>|<http://aging-research.group/samples/> .|\n",
            "|                          <https://www.ncbi.nlm.nih.gov/sra/SRR3109710>|<http://aging-research.group/samples/has_ENSBTAG00000000033_expression>|     \"0.355026\"^^<http://www.w3.org/2001/XMLSchema#double>|<http://aging-research.group/samples/> .|\n",
            "|             <http://rdf.ebi.ac.uk/resource/ensembl/ENSBTAG00000000037>|                      <http://www.w3.org/1999/02/22-rdf-syntax-ns#type>|               <http://aging-research.group/resource/Gene>|<http://aging-research.group/samples/> .|\n",
            "|<http://aging-research.group/samples/has_ENSBTAG00000000037_expression>|                      <http://www.w3.org/1999/02/22-rdf-syntax-ns#type>|    <http://aging-research.group/resource/Gene_expression>|<http://aging-research.group/samples/> .|\n",
            "|<http://aging-research.group/samples/has_ENSBTAG00000000037_expression>|                   <http://aging-research.group/resource/expression_of>|<http://rdf.ebi.ac.uk/resource/ensembl/ENSBTAG00000000037>|<http://aging-research.group/samples/> .|\n",
            "|                          <https://www.ncbi.nlm.nih.gov/sra/SRR3109710>|<http://aging-research.group/samples/has_ENSBTAG00000000037_expression>|    \"10.432139\"^^<http://www.w3.org/2001/XMLSchema#double>|<http://aging-research.group/samples/> .|\n",
            "|             <http://rdf.ebi.ac.uk/resource/ensembl/ENSBTAG00000000039>|                      <http://www.w3.org/1999/02/22-rdf-syntax-ns#type>|               <http://aging-research.group/resource/Gene>|<http://aging-research.group/samples/> .|\n",
            "|<http://aging-research.group/samples/has_ENSBTAG00000000039_expression>|                      <http://www.w3.org/1999/02/22-rdf-syntax-ns#type>|    <http://aging-research.group/resource/Gene_expression>|<http://aging-research.group/samples/> .|\n",
            "|<http://aging-research.group/samples/has_ENSBTAG00000000039_expression>|                   <http://aging-research.group/resource/expression_of>|<http://rdf.ebi.ac.uk/resource/ensembl/ENSBTAG00000000039>|<http://aging-research.group/samples/> .|\n",
            "|                          <https://www.ncbi.nlm.nih.gov/sra/SRR3109710>|<http://aging-research.group/samples/has_ENSBTAG00000000039_expression>|    \"14.711751\"^^<http://www.w3.org/2001/XMLSchema#double>|<http://aging-research.group/samples/> .|\n",
            "|             <http://rdf.ebi.ac.uk/resource/ensembl/ENSBTAG00000000040>|                      <http://www.w3.org/1999/02/22-rdf-syntax-ns#type>|               <http://aging-research.group/resource/Gene>|<http://aging-research.group/samples/> .|\n",
            "|<http://aging-research.group/samples/has_ENSBTAG00000000040_expression>|                      <http://www.w3.org/1999/02/22-rdf-syntax-ns#type>|    <http://aging-research.group/resource/Gene_expression>|<http://aging-research.group/samples/> .|\n",
            "|<http://aging-research.group/samples/has_ENSBTAG00000000040_expression>|                   <http://aging-research.group/resource/expression_of>|<http://rdf.ebi.ac.uk/resource/ensembl/ENSBTAG00000000040>|<http://aging-research.group/samples/> .|\n",
            "|                          <https://www.ncbi.nlm.nih.gov/sra/SRR3109710>|<http://aging-research.group/samples/has_ENSBTAG00000000040_expression>|    \"19.473793\"^^<http://www.w3.org/2001/XMLSchema#double>|<http://aging-research.group/samples/> .|\n",
            "|             <http://rdf.ebi.ac.uk/resource/ensembl/ENSBTAG00000000042>|                      <http://www.w3.org/1999/02/22-rdf-syntax-ns#type>|               <http://aging-research.group/resource/Gene>|<http://aging-research.group/samples/> .|\n",
            "|<http://aging-research.group/samples/has_ENSBTAG00000000042_expression>|                      <http://www.w3.org/1999/02/22-rdf-syntax-ns#type>|    <http://aging-research.group/resource/Gene_expression>|<http://aging-research.group/samples/> .|\n",
            "|<http://aging-research.group/samples/has_ENSBTAG00000000042_expression>|                   <http://aging-research.group/resource/expression_of>|<http://rdf.ebi.ac.uk/resource/ensembl/ENSBTAG00000000042>|<http://aging-research.group/samples/> .|\n",
            "|                          <https://www.ncbi.nlm.nih.gov/sra/SRR3109710>|<http://aging-research.group/samples/has_ENSBTAG00000000042_expression>|     \"3.629958\"^^<http://www.w3.org/2001/XMLSchema#double>|<http://aging-research.group/samples/> .|\n",
            "|             <http://rdf.ebi.ac.uk/resource/ensembl/ENSBTAG00000000044>|                      <http://www.w3.org/1999/02/22-rdf-syntax-ns#type>|               <http://aging-research.group/resource/Gene>|<http://aging-research.group/samples/> .|\n",
            "|<http://aging-research.group/samples/has_ENSBTAG00000000044_expression>|                      <http://www.w3.org/1999/02/22-rdf-syntax-ns#type>|    <http://aging-research.group/resource/Gene_expression>|<http://aging-research.group/samples/> .|\n",
            "|<http://aging-research.group/samples/has_ENSBTAG00000000044_expression>|                   <http://aging-research.group/resource/expression_of>|<http://rdf.ebi.ac.uk/resource/ensembl/ENSBTAG00000000044>|<http://aging-research.group/samples/> .|\n",
            "|                          <https://www.ncbi.nlm.nih.gov/sra/SRR3109710>|<http://aging-research.group/samples/has_ENSBTAG00000000044_expression>|          \"0.0\"^^<http://www.w3.org/2001/XMLSchema#double>|<http://aging-research.group/samples/> .|\n",
            "|             <http://rdf.ebi.ac.uk/resource/ensembl/ENSBTAG00000000046>|                      <http://www.w3.org/1999/02/22-rdf-syntax-ns#type>|               <http://aging-research.group/resource/Gene>|<http://aging-research.group/samples/> .|\n",
            "|<http://aging-research.group/samples/has_ENSBTAG00000000046_expression>|                      <http://www.w3.org/1999/02/22-rdf-syntax-ns#type>|    <http://aging-research.group/resource/Gene_expression>|<http://aging-research.group/samples/> .|\n",
            "|<http://aging-research.group/samples/has_ENSBTAG00000000046_expression>|                   <http://aging-research.group/resource/expression_of>|<http://rdf.ebi.ac.uk/resource/ensembl/ENSBTAG00000000046>|<http://aging-research.group/samples/> .|\n",
            "|                          <https://www.ncbi.nlm.nih.gov/sra/SRR3109710>|<http://aging-research.group/samples/has_ENSBTAG00000000046_expression>|     \"9.736845\"^^<http://www.w3.org/2001/XMLSchema#double>|<http://aging-research.group/samples/> .|\n",
            "|             <http://rdf.ebi.ac.uk/resource/ensembl/ENSBTAG00000000049>|                      <http://www.w3.org/1999/02/22-rdf-syntax-ns#type>|               <http://aging-research.group/resource/Gene>|<http://aging-research.group/samples/> .|\n",
            "|<http://aging-research.group/samples/has_ENSBTAG00000000049_expression>|                      <http://www.w3.org/1999/02/22-rdf-syntax-ns#type>|    <http://aging-research.group/resource/Gene_expression>|<http://aging-research.group/samples/> .|\n",
            "|<http://aging-research.group/samples/has_ENSBTAG00000000049_expression>|                   <http://aging-research.group/resource/expression_of>|<http://rdf.ebi.ac.uk/resource/ensembl/ENSBTAG00000000049>|<http://aging-research.group/samples/> .|\n",
            "|                          <https://www.ncbi.nlm.nih.gov/sra/SRR3109710>|<http://aging-research.group/samples/has_ENSBTAG00000000049_expression>|     \"4.138845\"^^<http://www.w3.org/2001/XMLSchema#double>|<http://aging-research.group/samples/> .|\n",
            "|             <http://rdf.ebi.ac.uk/resource/ensembl/ENSBTAG00000000050>|                      <http://www.w3.org/1999/02/22-rdf-syntax-ns#type>|               <http://aging-research.group/resource/Gene>|<http://aging-research.group/samples/> .|\n",
            "|<http://aging-research.group/samples/has_ENSBTAG00000000050_expression>|                      <http://www.w3.org/1999/02/22-rdf-syntax-ns#type>|    <http://aging-research.group/resource/Gene_expression>|<http://aging-research.group/samples/> .|\n",
            "|<http://aging-research.group/samples/has_ENSBTAG00000000050_expression>|                   <http://aging-research.group/resource/expression_of>|<http://rdf.ebi.ac.uk/resource/ensembl/ENSBTAG00000000050>|<http://aging-research.group/samples/> .|\n",
            "|                          <https://www.ncbi.nlm.nih.gov/sra/SRR3109710>|<http://aging-research.group/samples/has_ENSBTAG00000000050_expression>|     \"49.82951\"^^<http://www.w3.org/2001/XMLSchema#double>|<http://aging-research.group/samples/> .|\n",
            "|             <http://rdf.ebi.ac.uk/resource/ensembl/ENSBTAG00000000052>|                      <http://www.w3.org/1999/02/22-rdf-syntax-ns#type>|               <http://aging-research.group/resource/Gene>|<http://aging-research.group/samples/> .|\n",
            "|<http://aging-research.group/samples/has_ENSBTAG00000000052_expression>|                      <http://www.w3.org/1999/02/22-rdf-syntax-ns#type>|    <http://aging-research.group/resource/Gene_expression>|<http://aging-research.group/samples/> .|\n",
            "|<http://aging-research.group/samples/has_ENSBTAG00000000052_expression>|                   <http://aging-research.group/resource/expression_of>|<http://rdf.ebi.ac.uk/resource/ensembl/ENSBTAG00000000052>|<http://aging-research.group/samples/> .|\n",
            "|                          <https://www.ncbi.nlm.nih.gov/sra/SRR3109710>|<http://aging-research.group/samples/has_ENSBTAG00000000052_expression>|     \"0.699634\"^^<http://www.w3.org/2001/XMLSchema#double>|<http://aging-research.group/samples/> .|\n",
            "|             <http://rdf.ebi.ac.uk/resource/ensembl/ENSBTAG00000000053>|                      <http://www.w3.org/1999/02/22-rdf-syntax-ns#type>|               <http://aging-research.group/resource/Gene>|<http://aging-research.group/samples/> .|\n",
            "|<http://aging-research.group/samples/has_ENSBTAG00000000053_expression>|                      <http://www.w3.org/1999/02/22-rdf-syntax-ns#type>|    <http://aging-research.group/resource/Gene_expression>|<http://aging-research.group/samples/> .|\n",
            "|<http://aging-research.group/samples/has_ENSBTAG00000000053_expression>|                   <http://aging-research.group/resource/expression_of>|<http://rdf.ebi.ac.uk/resource/ensembl/ENSBTAG00000000053>|<http://aging-research.group/samples/> .|\n",
            "|                          <https://www.ncbi.nlm.nih.gov/sra/SRR3109710>|<http://aging-research.group/samples/has_ENSBTAG00000000053_expression>|     \"1.122855\"^^<http://www.w3.org/2001/XMLSchema#double>|<http://aging-research.group/samples/> .|\n",
            "|             <http://rdf.ebi.ac.uk/resource/ensembl/ENSBTAG00000000054>|                      <http://www.w3.org/1999/02/22-rdf-syntax-ns#type>|               <http://aging-research.group/resource/Gene>|<http://aging-research.group/samples/> .|\n",
            "|<http://aging-research.group/samples/has_ENSBTAG00000000054_expression>|                      <http://www.w3.org/1999/02/22-rdf-syntax-ns#type>|    <http://aging-research.group/resource/Gene_expression>|<http://aging-research.group/samples/> .|\n",
            "|<http://aging-research.group/samples/has_ENSBTAG00000000054_expression>|                   <http://aging-research.group/resource/expression_of>|<http://rdf.ebi.ac.uk/resource/ensembl/ENSBTAG00000000054>|<http://aging-research.group/samples/> .|\n",
            "|                          <https://www.ncbi.nlm.nih.gov/sra/SRR3109710>|<http://aging-research.group/samples/has_ENSBTAG00000000054_expression>|     \"5.288612\"^^<http://www.w3.org/2001/XMLSchema#double>|<http://aging-research.group/samples/> .|\n",
            "|             <http://rdf.ebi.ac.uk/resource/ensembl/ENSBTAG00000000056>|                      <http://www.w3.org/1999/02/22-rdf-syntax-ns#type>|               <http://aging-research.group/resource/Gene>|<http://aging-research.group/samples/> .|\n",
            "|<http://aging-research.group/samples/has_ENSBTAG00000000056_expression>|                      <http://www.w3.org/1999/02/22-rdf-syntax-ns#type>|    <http://aging-research.group/resource/Gene_expression>|<http://aging-research.group/samples/> .|\n",
            "|<http://aging-research.group/samples/has_ENSBTAG00000000056_expression>|                   <http://aging-research.group/resource/expression_of>|<http://rdf.ebi.ac.uk/resource/ensembl/ENSBTAG00000000056>|<http://aging-research.group/samples/> .|\n",
            "|                          <https://www.ncbi.nlm.nih.gov/sra/SRR3109710>|<http://aging-research.group/samples/has_ENSBTAG00000000056_expression>|    \"10.764139\"^^<http://www.w3.org/2001/XMLSchema#double>|<http://aging-research.group/samples/> .|\n",
            "|             <http://rdf.ebi.ac.uk/resource/ensembl/ENSBTAG00000000057>|                      <http://www.w3.org/1999/02/22-rdf-syntax-ns#type>|               <http://aging-research.group/resource/Gene>|<http://aging-research.group/samples/> .|\n",
            "|<http://aging-research.group/samples/has_ENSBTAG00000000057_expression>|                      <http://www.w3.org/1999/02/22-rdf-syntax-ns#type>|    <http://aging-research.group/resource/Gene_expression>|<http://aging-research.group/samples/> .|\n",
            "|<http://aging-research.group/samples/has_ENSBTAG00000000057_expression>|                   <http://aging-research.group/resource/expression_of>|<http://rdf.ebi.ac.uk/resource/ensembl/ENSBTAG00000000057>|<http://aging-research.group/samples/> .|\n",
            "|                          <https://www.ncbi.nlm.nih.gov/sra/SRR3109710>|<http://aging-research.group/samples/has_ENSBTAG00000000057_expression>|     \"2.264978\"^^<http://www.w3.org/2001/XMLSchema#double>|<http://aging-research.group/samples/> .|\n",
            "|             <http://rdf.ebi.ac.uk/resource/ensembl/ENSBTAG00000000060>|                      <http://www.w3.org/1999/02/22-rdf-syntax-ns#type>|               <http://aging-research.group/resource/Gene>|<http://aging-research.group/samples/> .|\n",
            "|<http://aging-research.group/samples/has_ENSBTAG00000000060_expression>|                      <http://www.w3.org/1999/02/22-rdf-syntax-ns#type>|    <http://aging-research.group/resource/Gene_expression>|<http://aging-research.group/samples/> .|\n",
            "|<http://aging-research.group/samples/has_ENSBTAG00000000060_expression>|                   <http://aging-research.group/resource/expression_of>|<http://rdf.ebi.ac.uk/resource/ensembl/ENSBTAG00000000060>|<http://aging-research.group/samples/> .|\n",
            "|                          <https://www.ncbi.nlm.nih.gov/sra/SRR3109710>|<http://aging-research.group/samples/has_ENSBTAG00000000060_expression>|          \"0.0\"^^<http://www.w3.org/2001/XMLSchema#double>|<http://aging-research.group/samples/> .|\n",
            "|             <http://rdf.ebi.ac.uk/resource/ensembl/ENSBTAG00000000061>|                      <http://www.w3.org/1999/02/22-rdf-syntax-ns#type>|               <http://aging-research.group/resource/Gene>|<http://aging-research.group/samples/> .|\n",
            "|<http://aging-research.group/samples/has_ENSBTAG00000000061_expression>|                      <http://www.w3.org/1999/02/22-rdf-syntax-ns#type>|    <http://aging-research.group/resource/Gene_expression>|<http://aging-research.group/samples/> .|\n",
            "|<http://aging-research.group/samples/has_ENSBTAG00000000061_expression>|                   <http://aging-research.group/resource/expression_of>|<http://rdf.ebi.ac.uk/resource/ensembl/ENSBTAG00000000061>|<http://aging-research.group/samples/> .|\n",
            "|                          <https://www.ncbi.nlm.nih.gov/sra/SRR3109710>|<http://aging-research.group/samples/has_ENSBTAG00000000061_expression>|     \"6.860071\"^^<http://www.w3.org/2001/XMLSchema#double>|<http://aging-research.group/samples/> .|\n",
            "|             <http://rdf.ebi.ac.uk/resource/ensembl/ENSBTAG00000000062>|                      <http://www.w3.org/1999/02/22-rdf-syntax-ns#type>|               <http://aging-research.group/resource/Gene>|<http://aging-research.group/samples/> .|\n",
            "|<http://aging-research.group/samples/has_ENSBTAG00000000062_expression>|                      <http://www.w3.org/1999/02/22-rdf-syntax-ns#type>|    <http://aging-research.group/resource/Gene_expression>|<http://aging-research.group/samples/> .|\n",
            "|<http://aging-research.group/samples/has_ENSBTAG00000000062_expression>|                   <http://aging-research.group/resource/expression_of>|<http://rdf.ebi.ac.uk/resource/ensembl/ENSBTAG00000000062>|<http://aging-research.group/samples/> .|\n",
            "|                          <https://www.ncbi.nlm.nih.gov/sra/SRR3109710>|<http://aging-research.group/samples/has_ENSBTAG00000000062_expression>|     \"1.000691\"^^<http://www.w3.org/2001/XMLSchema#double>|<http://aging-research.group/samples/> .|\n",
            "|             <http://rdf.ebi.ac.uk/resource/ensembl/ENSBTAG00000000064>|                      <http://www.w3.org/1999/02/22-rdf-syntax-ns#type>|               <http://aging-research.group/resource/Gene>|<http://aging-research.group/samples/> .|\n",
            "|<http://aging-research.group/samples/has_ENSBTAG00000000064_expression>|                      <http://www.w3.org/1999/02/22-rdf-syntax-ns#type>|    <http://aging-research.group/resource/Gene_expression>|<http://aging-research.group/samples/> .|\n",
            "|<http://aging-research.group/samples/has_ENSBTAG00000000064_expression>|                   <http://aging-research.group/resource/expression_of>|<http://rdf.ebi.ac.uk/resource/ensembl/ENSBTAG00000000064>|<http://aging-research.group/samples/> .|\n",
            "|                          <https://www.ncbi.nlm.nih.gov/sra/SRR3109710>|<http://aging-research.group/samples/has_ENSBTAG00000000064_expression>|     \"4.393383\"^^<http://www.w3.org/2001/XMLSchema#double>|<http://aging-research.group/samples/> .|\n",
            "|             <http://rdf.ebi.ac.uk/resource/ensembl/ENSBTAG00000000065>|                      <http://www.w3.org/1999/02/22-rdf-syntax-ns#type>|               <http://aging-research.group/resource/Gene>|<http://aging-research.group/samples/> .|\n",
            "|<http://aging-research.group/samples/has_ENSBTAG00000000065_expression>|                      <http://www.w3.org/1999/02/22-rdf-syntax-ns#type>|    <http://aging-research.group/resource/Gene_expression>|<http://aging-research.group/samples/> .|\n",
            "|<http://aging-research.group/samples/has_ENSBTAG00000000065_expression>|                   <http://aging-research.group/resource/expression_of>|<http://rdf.ebi.ac.uk/resource/ensembl/ENSBTAG00000000065>|<http://aging-research.group/samples/> .|\n",
            "|                          <https://www.ncbi.nlm.nih.gov/sra/SRR3109710>|<http://aging-research.group/samples/has_ENSBTAG00000000065_expression>|    \"21.179033\"^^<http://www.w3.org/2001/XMLSchema#double>|<http://aging-research.group/samples/> .|\n",
            "|             <http://rdf.ebi.ac.uk/resource/ensembl/ENSBTAG00000000066>|                      <http://www.w3.org/1999/02/22-rdf-syntax-ns#type>|               <http://aging-research.group/resource/Gene>|<http://aging-research.group/samples/> .|\n",
            "|<http://aging-research.group/samples/has_ENSBTAG00000000066_expression>|                      <http://www.w3.org/1999/02/22-rdf-syntax-ns#type>|    <http://aging-research.group/resource/Gene_expression>|<http://aging-research.group/samples/> .|\n",
            "|<http://aging-research.group/samples/has_ENSBTAG00000000066_expression>|                   <http://aging-research.group/resource/expression_of>|<http://rdf.ebi.ac.uk/resource/ensembl/ENSBTAG00000000066>|<http://aging-research.group/samples/> .|\n",
            "|                          <https://www.ncbi.nlm.nih.gov/sra/SRR3109710>|<http://aging-research.group/samples/has_ENSBTAG00000000066_expression>|          \"0.0\"^^<http://www.w3.org/2001/XMLSchema#double>|<http://aging-research.group/samples/> .|\n",
            "|             <http://rdf.ebi.ac.uk/resource/ensembl/ENSBTAG00000000067>|                      <http://www.w3.org/1999/02/22-rdf-syntax-ns#type>|               <http://aging-research.group/resource/Gene>|<http://aging-research.group/samples/> .|\n",
            "|<http://aging-research.group/samples/has_ENSBTAG00000000067_expression>|                      <http://www.w3.org/1999/02/22-rdf-syntax-ns#type>|    <http://aging-research.group/resource/Gene_expression>|<http://aging-research.group/samples/> .|\n",
            "|<http://aging-research.group/samples/has_ENSBTAG00000000067_expression>|                   <http://aging-research.group/resource/expression_of>|<http://rdf.ebi.ac.uk/resource/ensembl/ENSBTAG00000000067>|<http://aging-research.group/samples/> .|\n",
            "|                          <https://www.ncbi.nlm.nih.gov/sra/SRR3109710>|<http://aging-research.group/samples/has_ENSBTAG00000000067_expression>|     \"23.43622\"^^<http://www.w3.org/2001/XMLSchema#double>|<http://aging-research.group/samples/> .|\n",
            "|             <http://rdf.ebi.ac.uk/resource/ensembl/ENSBTAG00000000070>|                      <http://www.w3.org/1999/02/22-rdf-syntax-ns#type>|               <http://aging-research.group/resource/Gene>|<http://aging-research.group/samples/> .|\n",
            "|<http://aging-research.group/samples/has_ENSBTAG00000000070_expression>|                      <http://www.w3.org/1999/02/22-rdf-syntax-ns#type>|    <http://aging-research.group/resource/Gene_expression>|<http://aging-research.group/samples/> .|\n",
            "|<http://aging-research.group/samples/has_ENSBTAG00000000070_expression>|                   <http://aging-research.group/resource/expression_of>|<http://rdf.ebi.ac.uk/resource/ensembl/ENSBTAG00000000070>|<http://aging-research.group/samples/> .|\n",
            "|                          <https://www.ncbi.nlm.nih.gov/sra/SRR3109710>|<http://aging-research.group/samples/has_ENSBTAG00000000070_expression>|          \"0.0\"^^<http://www.w3.org/2001/XMLSchema#double>|<http://aging-research.group/samples/> .|\n",
            "|             <http://rdf.ebi.ac.uk/resource/ensembl/ENSBTAG00000000071>|                      <http://www.w3.org/1999/02/22-rdf-syntax-ns#type>|               <http://aging-research.group/resource/Gene>|<http://aging-research.group/samples/> .|\n",
            "|<http://aging-research.group/samples/has_ENSBTAG00000000071_expression>|                      <http://www.w3.org/1999/02/22-rdf-syntax-ns#type>|    <http://aging-research.group/resource/Gene_expression>|<http://aging-research.group/samples/> .|\n",
            "|<http://aging-research.group/samples/has_ENSBTAG00000000071_expression>|                   <http://aging-research.group/resource/expression_of>|<http://rdf.ebi.ac.uk/resource/ensembl/ENSBTAG00000000071>|<http://aging-research.group/samples/> .|\n",
            "|                          <https://www.ncbi.nlm.nih.gov/sra/SRR3109710>|<http://aging-research.group/samples/has_ENSBTAG00000000071_expression>|          \"0.0\"^^<http://www.w3.org/2001/XMLSchema#double>|<http://aging-research.group/samples/> .|\n",
            "|             <http://rdf.ebi.ac.uk/resource/ensembl/ENSBTAG00000000072>|                      <http://www.w3.org/1999/02/22-rdf-syntax-ns#type>|               <http://aging-research.group/resource/Gene>|<http://aging-research.group/samples/> .|\n",
            "|<http://aging-research.group/samples/has_ENSBTAG00000000072_expression>|                      <http://www.w3.org/1999/02/22-rdf-syntax-ns#type>|    <http://aging-research.group/resource/Gene_expression>|<http://aging-research.group/samples/> .|\n",
            "|<http://aging-research.group/samples/has_ENSBTAG00000000072_expression>|                   <http://aging-research.group/resource/expression_of>|<http://rdf.ebi.ac.uk/resource/ensembl/ENSBTAG00000000072>|<http://aging-research.group/samples/> .|\n",
            "|                          <https://www.ncbi.nlm.nih.gov/sra/SRR3109710>|<http://aging-research.group/samples/has_ENSBTAG00000000072_expression>|    \"14.023209\"^^<http://www.w3.org/2001/XMLSchema#double>|<http://aging-research.group/samples/> .|\n",
            "|             <http://rdf.ebi.ac.uk/resource/ensembl/ENSBTAG00000000073>|                      <http://www.w3.org/1999/02/22-rdf-syntax-ns#type>|               <http://aging-research.group/resource/Gene>|<http://aging-research.group/samples/> .|\n",
            "|<http://aging-research.group/samples/has_ENSBTAG00000000073_expression>|                      <http://www.w3.org/1999/02/22-rdf-syntax-ns#type>|    <http://aging-research.group/resource/Gene_expression>|<http://aging-research.group/samples/> .|\n",
            "|<http://aging-research.group/samples/has_ENSBTAG00000000073_expression>|                   <http://aging-research.group/resource/expression_of>|<http://rdf.ebi.ac.uk/resource/ensembl/ENSBTAG00000000073>|<http://aging-research.group/samples/> .|\n",
            "|                          <https://www.ncbi.nlm.nih.gov/sra/SRR3109710>|<http://aging-research.group/samples/has_ENSBTAG00000000073_expression>|    \"64.857119\"^^<http://www.w3.org/2001/XMLSchema#double>|<http://aging-research.group/samples/> .|\n",
            "|             <http://rdf.ebi.ac.uk/resource/ensembl/ENSBTAG00000000074>|                      <http://www.w3.org/1999/02/22-rdf-syntax-ns#type>|               <http://aging-research.group/resource/Gene>|<http://aging-research.group/samples/> .|\n",
            "|<http://aging-research.group/samples/has_ENSBTAG00000000074_expression>|                      <http://www.w3.org/1999/02/22-rdf-syntax-ns#type>|    <http://aging-research.group/resource/Gene_expression>|<http://aging-research.group/samples/> .|\n",
            "|<http://aging-research.group/samples/has_ENSBTAG00000000074_expression>|                   <http://aging-research.group/resource/expression_of>|<http://rdf.ebi.ac.uk/resource/ensembl/ENSBTAG00000000074>|<http://aging-research.group/samples/> .|\n",
            "|                          <https://www.ncbi.nlm.nih.gov/sra/SRR3109710>|<http://aging-research.group/samples/has_ENSBTAG00000000074_expression>|    \"14.755552\"^^<http://www.w3.org/2001/XMLSchema#double>|<http://aging-research.group/samples/> .|\n",
            "|             <http://rdf.ebi.ac.uk/resource/ensembl/ENSBTAG00000000076>|                      <http://www.w3.org/1999/02/22-rdf-syntax-ns#type>|               <http://aging-research.group/resource/Gene>|<http://aging-research.group/samples/> .|\n",
            "|<http://aging-research.group/samples/has_ENSBTAG00000000076_expression>|                      <http://www.w3.org/1999/02/22-rdf-syntax-ns#type>|    <http://aging-research.group/resource/Gene_expression>|<http://aging-research.group/samples/> .|\n",
            "|<http://aging-research.group/samples/has_ENSBTAG00000000076_expression>|                   <http://aging-research.group/resource/expression_of>|<http://rdf.ebi.ac.uk/resource/ensembl/ENSBTAG00000000076>|<http://aging-research.group/samples/> .|\n",
            "|                          <https://www.ncbi.nlm.nih.gov/sra/SRR3109710>|<http://aging-research.group/samples/has_ENSBTAG00000000076_expression>|     \"3.637003\"^^<http://www.w3.org/2001/XMLSchema#double>|<http://aging-research.group/samples/> .|\n",
            "+-----------------------------------------------------------------------+-----------------------------------------------------------------------+----------------------------------------------------------+----------------------------------------+\n",
            "only showing top 200 rows\n",
            "\n"
          ],
          "output_type" : "stream"
        }
      ]
    },
    {
      "cell_type" : "markdown",
      "execution_count" : 32,
      "metadata" : {
        "language" : "text"
      },
      "language" : "text",
      "source" : [
        "# **Genes**<br>\n",
        "\n",
        "\n"
      ],
      "outputs" : [
      ]
    },
    {
      "cell_type" : "code",
      "execution_count" : 33,
      "metadata" : {
        "cell.metadata.exec_info" : {
          "startTs" : 1581987495825,
          "endTs" : 1581987506169
        },
        "language" : "scala"
      },
      "language" : "scala",
      "source" : [
        "val genes = spark.readTSV(\"/data/ensembl/99/compara/dump/gene_member.txt\").toDF(\n",
        "    \"gene_member_id\",\t\"stable_id\",\t\"version\",\t\"source_name\",\t\n",
        "    \"taxon_id\",\t\"genome_db_id\",\t\"biotype_group\",\t\"canonical_member_id\",\t\n",
        "    \"description\",\t\"dnafrag_id\",\t\"dnafrag_start\", \n",
        "\t\"dnafrag_end\",\t\"dnafrag_strand\",\t\"display_label\"\n",
        ")\n",
        "genes.show(50)"
      ],
      "outputs" : [
        {
          "name" : "stdout",
          "text" : [
            "+--------------+------------------+-------+-----------+--------+------------+-------------+-------------------+--------------------+----------+-------------+-----------+--------------+-------------+\n",
            "|gene_member_id|         stable_id|version|source_name|taxon_id|genome_db_id|biotype_group|canonical_member_id|         description|dnafrag_id|dnafrag_start|dnafrag_end|dnafrag_strand|display_label|\n",
            "+--------------+------------------+-------+-----------+--------+------------+-------------+-------------------+--------------------+----------+-------------+-----------+--------------+-------------+\n",
            "|             1|ENSTNIG00000004376|      1|ENSEMBLGENE|   99883|          65|       coding|                  1|NADH-ubiquinone o...|   4514312|         2838|       3812|             1|       mt-nd1|\n",
            "|             2|ENSTNIG00000004377|      1|ENSEMBLGENE|   99883|          65|       coding|                  2|NADH-ubiquinone o...|   4514312|         4025|       5070|             1|       mt-nd2|\n",
            "|             4|ENSTNIG00000000533|      1|ENSEMBLGENE|   99883|          65|       coding|                  4|cytochrome c oxid...|   4514312|         5455|       7000|             1|       mt-co1|\n",
            "|             6|ENSTNIG00000000112|      1|ENSEMBLGENE|   99883|          65|       coding|                  6|Cytochrome c oxid...|   4514312|         7157|       7847|             1|       mt-co2|\n",
            "|             8|ENSTNIG00000001181|      1|ENSEMBLGENE|   99883|          65|       coding|                  9|ATP synthase prot...|   4514312|         7923|       8090|             1|           \\N|\n",
            "|             9|ENSTNIG00000000581|      1|ENSEMBLGENE|   99883|          65|       coding|                 11|ATP synthase subu...|   4514312|         8081|       8764|             1|      mt-atp6|\n",
            "|            10|ENSTNIG00000019783|      1|ENSEMBLGENE|   99883|          65|       coding|                 13|Cytochrome c oxid...|   4514312|         8764|       9549|             1|       mt-co3|\n",
            "|            12|ENSTNIG00000000069|      1|ENSEMBLGENE|   99883|          65|       coding|                 16|NADH-ubiquinone o...|   4514312|         9620|       9971|             1|       mt-nd3|\n",
            "|            13|ENSTNIG00000000603|      1|ENSEMBLGENE|   99883|          65|       coding|                 19|NADH dehydrogenas...|   4514312|        10039|      10335|             1|         ND4L|\n",
            "|            14|ENSTNIG00000001739|      1|ENSEMBLGENE|   99883|          65|       coding|                 22|NADH-ubiquinone o...|   4514312|        10329|      11710|             1|       mt-nd4|\n",
            "|            17|ENSTNIG00000001473|      1|ENSEMBLGENE|   99883|          65|       coding|                 25|NADH-ubiquinone o...|   4514312|        11928|      13766|             1|       mt-nd5|\n",
            "|            19|ENSTNIG00000000217|      1|ENSEMBLGENE|   99883|          65|       coding|                 28|NADH-ubiquinone o...|   4514312|        13762|      14283|            -1|       mt-nd6|\n",
            "|            20|ENSTNIG00000004374|      1|ENSEMBLGENE|   99883|          65|       coding|                 30|Cytochrome b  [So...|   4514312|        14358|      15500|             1|       mt-cyb|\n",
            "|            28|ENSPPYG00000017284|      2|ENSEMBLGENE|    9601|          60|       coding|                 47|                  \\N|   4346060|       214924|     234040|             1|           \\N|\n",
            "|            29|ENSPPYG00000017286|      1|ENSEMBLGENE|    9601|          60|       coding|                 48|                  \\N|   4346060|       326739|     337529|            -1|           \\N|\n",
            "|            30|ENSPPYG00000017287|      2|ENSEMBLGENE|    9601|          60|       coding|                 51|                  \\N|   4346060|       567788|     648559|             1|           \\N|\n",
            "|            31|ENSPPYG00000017288|      2|ENSEMBLGENE|    9601|          60|       coding|                 54|                  \\N|   4346060|       703151|     759969|             1|           \\N|\n",
            "|            33|ENSPPYG00000017289|      1|ENSEMBLGENE|    9601|          60|       coding|                 57|                  \\N|   4346060|       771761|     772305|            -1|           \\N|\n",
            "|            34|ENSPPYG00000017290|      1|ENSEMBLGENE|    9601|          60|       coding|                 59|cytochrome c oxid...|   4346060|       853063|     859095|            -1|        COX19|\n",
            "|            35|ENSPPYG00000017291|      1|ENSEMBLGENE|    9601|          60|       coding|                 61|                  \\N|   4346060|       868670|     873844|             1|           \\N|\n",
            "|            36|ENSPPYG00000017292|      1|ENSEMBLGENE|    9601|          60|       coding|                 62|                  \\N|   4346060|       882985|    1009838|            -1|           \\N|\n",
            "|            37|ENSPPYG00000017293|      1|ENSEMBLGENE|    9601|          60|       coding|                 64|                  \\N|   4346060|       891514|     894842|             1|           \\N|\n",
            "|            38|ENSPPYG00000017294|      1|ENSEMBLGENE|    9601|          60|       coding|                 66|                  \\N|   4346060|       929181|     929561|             1|           \\N|\n",
            "|            39|ENSPPYG00000017295|      1|ENSEMBLGENE|    9601|          60|       coding|                 67|G protein-coupled...|   4346060|       936865|     937866|             1|       GPR146|\n",
            "|            40|ENSPPYG00000017296|      2|ENSEMBLGENE|    9601|          60|       coding|                 69|                  \\N|   4346060|      1035923|    1043272|            -1|           \\N|\n",
            "|            41|ENSPPYG00000029706|      1|ENSEMBLGENE|    9601|          60|       coding|                 72|                  \\N|   4346060|      1117823|    1124467|             1|           \\N|\n",
            "|            42|ENSPPYG00000017297|      2|ENSEMBLGENE|    9601|          60|       coding|                 74|MICAL like 2 [Sou...|   4346060|      1328032|    1356074|            -1|      MICALL2|\n",
            "|            44|ENSPPYG00000017299|      2|ENSEMBLGENE|    9601|          60|       coding|                 77|integrator comple...|   4346060|      1366830|    1408011|            -1|        INTS1|\n",
            "|            45|ENSPPYG00000017301|      1|ENSEMBLGENE|    9601|          60|       coding|                 80|MAF bZIP transcri...|   4346060|      1445091|    1446265|             1|         MAFK|\n",
            "|            46|ENSPPYG00000017302|      1|ENSEMBLGENE|    9601|          60|       coding|                 81|                  \\N|   4346060|      1447562|    1448136|             1|           \\N|\n",
            "|            47|ENSPPYG00000017303|      2|ENSEMBLGENE|    9601|          60|       coding|                 82|                  \\N|   4346060|      1454666|    1462894|            -1|           \\N|\n",
            "|            49|ENSPPYG00000017304|      2|ENSEMBLGENE|    9601|          60|       coding|                 84|proteasome assemb...|   4346060|      1477564|    1480150|            -1|        PSMG3|\n",
            "|            50|ENSPPYG00000017305|      1|ENSEMBLGENE|    9601|          60|       coding|                 87|                  \\N|   4346060|      1617123|    1617713|            -1|           \\N|\n",
            "|            51|ENSPPYG00000017307|      2|ENSEMBLGENE|    9601|          60|       coding|                 92|mitotic arrest de...|   4346060|      1747500|    2154399|            -1|       MAD1L1|\n",
            "|            52|ENSPPYG00000017308|      1|ENSEMBLGENE|    9601|          60|       coding|                 94|                  \\N|   4346060|      1778486|    1779172|             1|           \\N|\n",
            "|            53|ENSPPYG00000017309|      1|ENSEMBLGENE|    9601|          60|       coding|                 95|                  \\N|   4346060|      2070836|    2231410|             1|           \\N|\n",
            "|            55|ENSPPYG00000017310|      2|ENSEMBLGENE|    9601|          60|       coding|                 97|mitochondrial rRN...|   4346060|      2155665|    2163662|            -1|           \\N|\n",
            "|            57|ENSTNIG00000003907|      1|ENSEMBLGENE|   99883|          65|       coding|                 99|hydrogen voltage-...|   4514313|        58552|      60563|             1|        hvcn1|\n",
            "|            58|ENSPPYG00000017311|      1|ENSEMBLGENE|    9601|          60|       coding|                101|nudix hydrolase 1...|   4346060|      2166152|    2172849|             1|        NUDT1|\n",
            "|            59|ENSTNIG00000003908|      1|ENSEMBLGENE|   99883|          65|       coding|                103|tectonic family m...|   4514313|        60789|      65976|            -1|        tctn1|\n",
            "|            60|ENSPPYG00000017312|      2|ENSEMBLGENE|    9601|          60|       coding|                104|sorting nexin 8 [...|   4346060|      2176913|    2231279|            -1|         SNX8|\n",
            "|            62|ENSPPYG00000017313|      2|ENSEMBLGENE|    9601|          60|       coding|                108|eukaryotic transl...|   4346060|      2276409|    2301475|             1|        EIF3B|\n",
            "|            64|ENSPPYG00000017314|      1|ENSEMBLGENE|    9601|          60|       coding|                111|carbohydrate sulf...|   4346060|      2371762|    2373006|             1|       CHST12|\n",
            "|            65|ENSTNIG00000003909|      1|ENSEMBLGENE|   99883|          65|       coding|                112|malate synthase-l...|   4514313|        66489|      71969|             1|         mlsl|\n",
            "|            66|ENSPPYG00000017315|      1|ENSEMBLGENE|    9601|          60|       coding|                113|                  \\N|   4346060|      2385032|    2385433|             1|           \\N|\n",
            "|            67|ENSPPYG00000017316|      1|ENSEMBLGENE|    9601|          60|       coding|                116|galectin-related ...|   4346060|      2414036|    2416188|            -1|       GRIFIN|\n",
            "|            68|ENSTNIG00000003910|      1|ENSEMBLGENE|   99883|          65|       coding|                119|                  \\N|   4514313|        72695|      76578|            -1|           \\N|\n",
            "|            71|ENSPPYG00000017317|      2|ENSEMBLGENE|    9601|          60|       coding|                123|                  \\N|   4346060|      2463145|    2471868|             1|           \\N|\n",
            "|            72|ENSPPYG00000017318|      2|ENSEMBLGENE|    9601|          60|       coding|                126|BRCA1 associated ...|   4346060|      2486252|    2503484|            -1|        BRAT1|\n",
            "|            74|ENSTNIG00000014248|      1|ENSEMBLGENE|   99883|          65|       coding|                128|E74 like ETS tran...|   4514313|        98713|     102029|             1|         ELF2|\n",
            "+--------------+------------------+-------+-----------+--------+------------+-------------+-------------------+--------------------+----------+-------------+-----------+--------------+-------------+\n",
            "only showing top 50 rows\n",
            "\n"
          ],
          "output_type" : "stream"
        }
      ]
    },
    {
      "cell_type" : "markdown",
      "execution_count" : 34,
      "metadata" : {
        "language" : "text"
      },
      "language" : "text",
      "source" : [
        "## tx2gene\n",
        "\n",
        "\n"
      ],
      "outputs" : [
      ]
    },
    {
      "cell_type" : "code",
      "execution_count" : 35,
      "metadata" : {
        "cell.metadata.exec_info" : {
          "startTs" : 1581986765400,
          "endTs" : 1581986779967
        },
        "language" : "scala"
      },
      "language" : "scala",
      "source" : [
        "val sequence_members = spark.readTSV(\"/data/ensembl/99/compara/dump/seq_member.txt\").toDF(\"seq_member_id\", \"stable_id\", \"version\", \"source_name\", \"taxon_id\",\n",
        " \"genome_db_id\", \"sequence_id\", \"gene_member_id\", \"has_transcript_edits\", \"has_translation_edits\", \n",
        "\"description\", \"dnafrag_id\", \"dnafrag_start\", \"dnafrag_end\", \"dnafrag_strand\", \"display_label\")\n",
        "sequence_members.show(50,1000)"
      ],
      "outputs" : [
        {
          "name" : "stdout",
          "text" : [
            "+-------------+------------------+-------+-----------+--------+------------+-----------+--------------+--------------------+---------------------+-----------+----------+-------------+-----------+--------------+-------------+\n",
            "|seq_member_id|         stable_id|version|source_name|taxon_id|genome_db_id|sequence_id|gene_member_id|has_transcript_edits|has_translation_edits|description|dnafrag_id|dnafrag_start|dnafrag_end|dnafrag_strand|display_label|\n",
            "+-------------+------------------+-------+-----------+--------+------------+-----------+--------------+--------------------+---------------------+-----------+----------+-------------+-----------+--------------+-------------+\n",
            "|            1|ENSTNIP00000007010|      1| ENSEMBLPEP|   99883|          65|          1|             1|                   0|                    0|         \\N|   4514312|         2838|       3812|             1|   mt-nd1-201|\n",
            "|            2|ENSTNIP00000007011|      1| ENSEMBLPEP|   99883|          65|          2|             2|                   0|                    0|         \\N|   4514312|         4025|       5070|             1|   mt-nd2-201|\n",
            "|            4|ENSTNIP00000003835|      1| ENSEMBLPEP|   99883|          65|          4|             4|                   0|                    0|         \\N|   4514312|         5455|       7000|             1|   mt-co1-201|\n",
            "|            6|ENSTNIP00000002153|      1| ENSEMBLPEP|   99883|          65|          6|             6|                   0|                    0|         \\N|   4514312|         7157|       7847|             1|   mt-co2-201|\n",
            "|            9|ENSTNIP00000003540|      1| ENSEMBLPEP|   99883|          65|          9|             8|                   0|                    0|         \\N|   4514312|         7923|       8090|             1|           \\N|\n",
            "|           11|ENSTNIP00000000835|      1| ENSEMBLPEP|   99883|          65|         11|             9|                   0|                    0|         \\N|   4514312|         8081|       8764|             1|  mt-atp6-201|\n",
            "|           13|ENSTNIP00000023047|      1| ENSEMBLPEP|   99883|          65|         13|            10|                   0|                    0|         \\N|   4514312|         8764|       9549|             1|   mt-co3-201|\n",
            "|           16|ENSTNIP00000000394|      1| ENSEMBLPEP|   99883|          65|         16|            12|                   0|                    0|         \\N|   4514312|         9620|       9971|             1|   mt-nd3-201|\n",
            "|           19|ENSTNIP00000003869|      1| ENSEMBLPEP|   99883|          65|         19|            13|                   0|                    0|         \\N|   4514312|        10039|      10335|             1|     ND4L-201|\n",
            "|           22|ENSTNIP00000002268|      1| ENSEMBLPEP|   99883|          65|         22|            14|                   0|                    0|         \\N|   4514312|        10329|      11710|             1|   mt-nd4-201|\n",
            "|           25|ENSTNIP00000002665|      1| ENSEMBLPEP|   99883|          65|         25|            17|                   0|                    0|         \\N|   4514312|        11928|      13766|             1|   mt-nd5-201|\n",
            "|           28|ENSTNIP00000000974|      1| ENSEMBLPEP|   99883|          65|         28|            19|                   0|                    0|         \\N|   4514312|        13762|      14283|            -1|   mt-nd6-201|\n",
            "|           30|ENSTNIP00000007009|      1| ENSEMBLPEP|   99883|          65|         30|            20|                   0|                    0|         \\N|   4514312|        14358|      15500|             1|   mt-cyb-201|\n",
            "|           47|ENSPPYP00000019375|      2| ENSEMBLPEP|    9601|          60|         47|            28|                   0|                    0|         \\N|   4346060|       214924|     234040|             1|           \\N|\n",
            "|           48|ENSPPYP00000019376|      1| ENSEMBLPEP|    9601|          60|         48|            29|                   0|                    0|         \\N|   4346060|       326739|     337529|            -1|           \\N|\n",
            "|           51|ENSPPYP00000019377|      2| ENSEMBLPEP|    9601|          60|         51|            30|                   0|                    0|         \\N|   4346060|       567788|     648559|             1|           \\N|\n",
            "|           54|ENSPPYP00000019378|      2| ENSEMBLPEP|    9601|          60|         54|            31|                   0|                    0|         \\N|   4346060|       703151|     759969|             1|           \\N|\n",
            "|           57|ENSPPYP00000019380|      1| ENSEMBLPEP|    9601|          60|         57|            33|                   0|                    0|         \\N|   4346060|       771761|     772305|            -1|           \\N|\n",
            "|           59|ENSPPYP00000019381|      1| ENSEMBLPEP|    9601|          60|         59|            34|                   0|                    0|         \\N|   4346060|       853063|     859095|            -1|    COX19-201|\n",
            "|           61|ENSPPYP00000019382|      1| ENSEMBLPEP|    9601|          60|         61|            35|                   0|                    0|         \\N|   4346060|       868670|     873844|             1|           \\N|\n",
            "|           62|ENSPPYP00000019383|      1| ENSEMBLPEP|    9601|          60|         62|            36|                   0|                    0|         \\N|   4346060|       882985|    1009838|            -1|           \\N|\n",
            "|           64|ENSPPYP00000019384|      1| ENSEMBLPEP|    9601|          60|         64|            37|                   0|                    0|         \\N|   4346060|       891514|     894842|             1|           \\N|\n",
            "|           66|ENSPPYP00000019385|      1| ENSEMBLPEP|    9601|          60|         66|            38|                   0|                    0|         \\N|   4346060|       929181|     929561|             1|           \\N|\n",
            "|           67|ENSPPYP00000019386|      1| ENSEMBLPEP|    9601|          60|         67|            39|                   0|                    0|         \\N|   4346060|       936865|     937866|             1|   GPR146-201|\n",
            "|           69|ENSPPYP00000019387|      2| ENSEMBLPEP|    9601|          60|         69|            40|                   0|                    0|         \\N|   4346060|      1035923|    1043272|            -1|           \\N|\n",
            "|           72|ENSPPYP00000024327|      1| ENSEMBLPEP|    9601|          60|         72|            41|                   0|                    0|         \\N|   4346060|      1117823|    1124467|             1|           \\N|\n",
            "|           74|ENSPPYP00000019388|      2| ENSEMBLPEP|    9601|          60|         74|            42|                   0|                    0|         \\N|   4346060|      1328032|    1356074|            -1|  MICALL2-201|\n",
            "|           77|ENSPPYP00000019389|      2| ENSEMBLPEP|    9601|          60|         77|            44|                   0|                    0|         \\N|   4346060|      1366830|    1408011|            -1|    INTS1-201|\n",
            "|           80|ENSPPYP00000019390|      1| ENSEMBLPEP|    9601|          60|         79|            45|                   0|                    0|         \\N|   4346060|      1445091|    1446265|             1|     MAFK-201|\n",
            "|           81|ENSPPYP00000019391|      1| ENSEMBLPEP|    9601|          60|         81|            46|                   0|                    0|         \\N|   4346060|      1447562|    1448136|             1|           \\N|\n",
            "|           82|ENSPPYP00000019392|      2| ENSEMBLPEP|    9601|          60|         82|            47|                   0|                    0|         \\N|   4346060|      1454666|    1462894|            -1|           \\N|\n",
            "|           84|ENSPPYP00000019393|      2| ENSEMBLPEP|    9601|          60|         84|            49|                   0|                    0|         \\N|   4346060|      1477564|    1480150|            -1|    PSMG3-201|\n",
            "|           87|ENSPPYP00000019394|      1| ENSEMBLPEP|    9601|          60|         87|            50|                   0|                    0|         \\N|   4346060|      1617123|    1617713|            -1|           \\N|\n",
            "|           92|ENSPPYP00000019395|      2| ENSEMBLPEP|    9601|          60|         92|            51|                   0|                    0|         \\N|   4346060|      1747500|    2154399|            -1|   MAD1L1-201|\n",
            "|           94|ENSPPYP00000019396|      1| ENSEMBLPEP|    9601|          60|         94|            52|                   0|                    0|         \\N|   4346060|      1778486|    1779172|             1|           \\N|\n",
            "|           95|ENSPPYP00000019397|      1| ENSEMBLPEP|    9601|          60|         95|            53|                   0|                    0|         \\N|   4346060|      2070836|    2231410|             1|           \\N|\n",
            "|           97|ENSPPYP00000019398|      2| ENSEMBLPEP|    9601|          60|         97|            55|                   0|                    0|         \\N|   4346060|      2155665|    2163662|            -1|           \\N|\n",
            "|           99|ENSTNIP00000006514|      1| ENSEMBLPEP|   99883|          65|         99|            57|                   0|                    0|         \\N|   4514313|        58552|      60563|             1|    hvcn1-201|\n",
            "|          101|ENSPPYP00000019399|      1| ENSEMBLPEP|    9601|          60|        101|            58|                   0|                    0|         \\N|   4346060|      2166152|    2172849|             1|    NUDT1-201|\n",
            "|          103|ENSTNIP00000002180|      1| ENSEMBLPEP|   99883|          65|        103|            59|                   0|                    0|         \\N|   4514313|        60789|      65976|            -1|    tctn1-201|\n",
            "|          104|ENSPPYP00000019400|      2| ENSEMBLPEP|    9601|          60|        104|            60|                   0|                    0|         \\N|   4346060|      2176913|    2231279|            -1|     SNX8-201|\n",
            "|          106|ENSTNIP00000006515|      1| ENSEMBLPEP|   99883|          65|        106|            59|                   0|                    0|         \\N|   4514313|        60789|      65799|            -1|    tctn1-202|\n",
            "|          108|ENSPPYP00000019401|      2| ENSEMBLPEP|    9601|          60|        108|            62|                   0|                    0|         \\N|   4346060|      2276409|    2301475|             1|    EIF3B-201|\n",
            "|          111|ENSPPYP00000019402|      1| ENSEMBLPEP|    9601|          60|        111|            64|                   0|                    0|         \\N|   4346060|      2371762|    2373006|             1|   CHST12-201|\n",
            "|          112|ENSTNIP00000006516|      1| ENSEMBLPEP|   99883|          65|        112|            65|                   0|                    0|         \\N|   4514313|        66489|      71969|             1|     mlsl-201|\n",
            "|          113|ENSPPYP00000019403|      1| ENSEMBLPEP|    9601|          60|        113|            66|                   0|                    0|         \\N|   4346060|      2385032|    2385433|             1|           \\N|\n",
            "|          116|ENSPPYP00000019404|      1| ENSEMBLPEP|    9601|          60|        116|            67|                   0|                    0|         \\N|   4346060|      2414036|    2416188|            -1|   GRIFIN-201|\n",
            "|          119|ENSTNIP00000006517|      1| ENSEMBLPEP|   99883|          65|        119|            68|                   0|                    0|         \\N|   4514313|        72695|      76578|            -1|           \\N|\n",
            "|          123|ENSPPYP00000019405|      2| ENSEMBLPEP|    9601|          60|        123|            71|                   0|                    0|         \\N|   4346060|      2463145|    2471868|             1|           \\N|\n",
            "|          126|ENSPPYP00000019406|      2| ENSEMBLPEP|    9601|          60|        126|            72|                   0|                    0|         \\N|   4346060|      2486252|    2503484|            -1|    BRAT1-201|\n",
            "+-------------+------------------+-------+-----------+--------+------------+-----------+--------------+--------------------+---------------------+-----------+----------+-------------+-----------+--------------+-------------+\n",
            "only showing top 50 rows\n",
            "\n"
          ],
          "output_type" : "stream"
        }
      ]
    },
    {
      "cell_type" : "code",
      "execution_count" : 36,
      "metadata" : {
        "cell.metadata.exec_info" : {
          "startTs" : 1582036363907,
          "endTs" : 1582036389598
        },
        "language" : "scala"
      },
      "language" : "scala",
      "source" : [
        "(sequence_members.select(\"stable_id\", \"version\").distinct.count(),sequence_members.select(\"stable_id\").distinct.count())"
      ],
      "outputs" : [
        {
          "execution_count" : 36,
          "data" : {
            "text/plain" : [
              "(37167718,37167718)"
            ]
          },
          "metadata" : {
            "name" : "Out",
            "type" : "Tuple2[Long, Long]"
          },
          "output_type" : "execute_result"
        }
      ]
    },
    {
      "cell_type" : "code",
      "execution_count" : 37,
      "metadata" : {
        "cell.metadata.exec_info" : {
          "startTs" : 1582036605251,
          "endTs" : 1582036613224
        },
        "language" : "scala"
      },
      "language" : "scala",
      "source" : [
        "sequence_members.select(\"gene\").where($\"taxon_id\" ===9606).distinct.count()"
      ],
      "outputs" : [
        {
          "execution_count" : 37,
          "data" : {
            "text/plain" : [
              "320377"
            ]
          },
          "metadata" : {
            "name" : "Out",
            "type" : "Long"
          },
          "output_type" : "execute_result"
        }
      ]
    },
    {
      "cell_type" : "code",
      "execution_count" : 38,
      "metadata" : {
        "cell.metadata.exec_info" : {
          "startTs" : 1581987641040,
          "endTs" : 1581987660210
        },
        "language" : "scala"
      },
      "language" : "scala",
      "source" : [
        "val seq_mem = sequence_members.select( $\"gene_member_id\", $\"stable_id\", $\"source_name\", $\"has_transcript_edits\", $\"has_translation_edits\", $\"display_label\")\n",
        "val tx2gene = genes.select($\"stable_id\".as(\"gene\"),$\"taxon_id\", $\"gene_member_id\").join(seq_mem, \"gene_member_id\")\n",
        "tx2gene.show(200,1000)\n"
      ],
      "outputs" : [
        {
          "name" : "stdout",
          "text" : [
            "+--------------+-------------------+--------+-------------------+-----------+--------------------+---------------------+--------------------+\n",
            "|gene_member_id|               gene|taxon_id|          stable_id|source_name|has_transcript_edits|has_translation_edits|       display_label|\n",
            "+--------------+-------------------+--------+-------------------+-----------+--------------------+---------------------+--------------------+\n",
            "|           148| ENSTNIG00000005907|   99883| ENSTNIP00000002825| ENSEMBLPEP|                   0|                    0|          ints6l-201|\n",
            "|           148| ENSTNIG00000005907|   99883| ENSTNIP00000008634| ENSEMBLPEP|                   0|                    0|          ints6l-202|\n",
            "|           148| ENSTNIG00000005907|   99883| ENSTNIP00000001015| ENSEMBLPEP|                   0|                    0|          ints6l-203|\n",
            "|           471| ENSPPYG00000017450|    9601| ENSPPYP00000019561| ENSEMBLPEP|                   0|                    0|           MYL10-201|\n",
            "|           496| ENSPPYG00000017459|    9601| ENSPPYP00000019573| ENSEMBLPEP|                   0|                    0|                  \\N|\n",
            "|           833| ENSPPYG00000017571|    9601| ENSPPYP00000019695| ENSEMBLPEP|                   0|                    0|                  \\N|\n",
            "|          1342| ENSPPYG00000017688|    9601| ENSPPYP00000019826| ENSEMBLPEP|                   0|                    0|           CREB5-201|\n",
            "|          1580| ENSTNIG00000006940|   99883| ENSTNIP00000009739| ENSEMBLPEP|                   0|                    0|          mier1b-201|\n",
            "|          1591| ENSTNIG00000006944|   99883| ENSTNIP00000009743| ENSEMBLPEP|                   0|                    0|             IPP-201|\n",
            "|          1645| ENSPPYG00000017760|    9601| ENSPPYP00000019908| ENSEMBLPEP|                   0|                    0|            AGR3-201|\n",
            "|          1829| ENSPPYG00000017801|    9601| ENSPPYP00000019953| ENSEMBLPEP|                   0|                    0|            ASB4-201|\n",
            "|          1959| ENSPPYG00000017834|    9601| ENSPPYP00000019988| ENSEMBLPEP|                   0|                    0|                  \\N|\n",
            "|          2122| ENSPPYG00000017864|    9601| ENSPPYP00000020020| ENSEMBLPEP|                   0|                    0|           GNAI1-201|\n",
            "|          2142| ENSTNIG00000015270|   99883| ENSTNIP00000018329| ENSEMBLPEP|                   0|                    0|           extl2-201|\n",
            "|          2366| ENSOPRG00000015256|    9978| ENSOPRP00000013927| ENSEMBLPEP|                   0|                    0|           DECR2-201|\n",
            "|          2866| ENSPPYG00000018039|    9601| ENSPPYP00000020241| ENSEMBLPEP|                   0|                    0|                  \\N|\n",
            "|          3175| ENSPPYG00000018121|    9601| ENSPPYP00000020329| ENSEMBLPEP|                   0|                    0|         TAS2R60-201|\n",
            "|          3918| ENSPPYG00000000046|    9601| ENSPPYP00000000043| ENSEMBLPEP|                   0|                    0|           TFB2M-201|\n",
            "|          3997| ENSPPYG00000000065|    9601| ENSPPYP00000000062| ENSEMBLPEP|                   0|                    0|                  \\N|\n",
            "|          4519| ENSTNIG00000000005|   99883| ENSTNIP00000000936| ENSEMBLPEP|                   0|                    0|           sdhda-201|\n",
            "|          4818| ENSTNIG00000010150|   99883| ENSTNIP00000013048| ENSEMBLPEP|                   0|                    0|            HMX1-201|\n",
            "|          4900| ENSETEG00000000505|    9371| ENSETEP00000000403| ENSEMBLPEP|                   0|                    0|           HSPB3-201|\n",
            "|          5156| ENSPPYG00000000344|    9601| ENSPPYP00000000381| ENSEMBLPEP|                   0|                    0|           RABIF-201|\n",
            "|          5300| ENSOPRG00000000611|    9978| ENSOPRP00000000550| ENSEMBLPEP|                   0|                    0|        C11orf68-201|\n",
            "|          5518| ENSOANG00000031725|    9258| ENSOANP00000031867| ENSEMBLPEP|                   0|                    0|                  \\N|\n",
            "|          6357| ENSTNIG00000015073|   99883| ENSTNIP00000002479| ENSEMBLPEP|                   0|                    0|                  \\N|\n",
            "|          6357| ENSTNIG00000015073|   99883| ENSTNIP00000018126| ENSEMBLPEP|                   0|                    0|                  \\N|\n",
            "|          6620| ENSOANG00000007040|    9258| ENSOANP00000011207| ENSEMBLPEP|                   0|                    0|                  \\N|\n",
            "|          6658| ENSPPYG00000000693|    9601| ENSPPYP00000000802| ENSEMBLPEP|                   0|                    0|            ETV3-201|\n",
            "|          7340| ENSTNIG00000012589|   99883| ENSTNIP00000015560| ENSEMBLPEP|                   0|                    0|           gls2a-201|\n",
            "|          7554| ENSTNIG00000012542|   99883| ENSTNIP00000002961| ENSEMBLPEP|                   0|                    0|          mxra8b-201|\n",
            "|          7554| ENSTNIG00000012542|   99883| ENSTNIP00000015511| ENSEMBLPEP|                   0|                    0|          mxra8b-202|\n",
            "|          7833| ENSPPYG00000000961|    9601| ENSPPYP00000001119| ENSEMBLPEP|                   0|                    0|          HMGCS2-201|\n",
            "|          7880| ENSTBEG00000001536|   37347| ENSTBEP00000001312| ENSEMBLPEP|                   0|                    0|                  \\N|\n",
            "|          7982| ENSLOCG00000008641|    7918| ENSLOCP00000010506| ENSEMBLPEP|                   0|                    0| si:rp71-84d19.3-201|\n",
            "|          8086| ENSTNIG00000006512|   99883| ENSTNIP00000009282| ENSEMBLPEP|                   0|                    0|                  \\N|\n",
            "|          8389| ENSMLUG00000000226|   59463| ENSMLUP00000000208| ENSEMBLPEP|                   0|                    0|           TRPC4-201|\n",
            "|          8638| ENSTNIG00000004907|   99883| ENSTNIP00000007571| ENSEMBLPEP|                   0|                    0|                  \\N|\n",
            "|          9376| ENSMLUG00000005026|   59463| ENSMLUP00000004585| ENSEMBLPEP|                   0|                    0|          THNSL2-201|\n",
            "|          9427| ENSLACG00000009866|    7897| ENSLACP00000011213| ENSEMBLPEP|                   0|                    0|             UCN-201|\n",
            "|         10206| ENSMLUG00000012131|   59463| ENSMLUP00000011059| ENSEMBLPEP|                   0|                    0|          TBC1D4-201|\n",
            "|         10362| ENSLOCG00000000140|    7918| ENSLOCP00000000151| ENSEMBLPEP|                   0|                    0|                  \\N|\n",
            "|         11033| ENSPMAG00000009066|    7757| ENSPMAP00000009976| ENSEMBLPEP|                   0|                    0|                  \\N|\n",
            "|         11858| ENSLOCG00000000296|    7918| ENSLOCP00000000322| ENSEMBLPEP|                   0|                    0|                  \\N|\n",
            "|         12027| ENSLOCG00000000033|    7918| ENSLOCP00000000037| ENSEMBLPEP|                   0|                    0|                  \\N|\n",
            "|         12940| ENSMLUG00000027921|   59463| ENSMLUP00000016654| ENSEMBLPEP|                   0|                    0|                  \\N|\n",
            "|         13289| ENSMLUG00000001797|   59463| ENSMLUP00000001638| ENSEMBLPEP|                   0|                    0|         PCDHB15-201|\n",
            "|         13832| ENSTNIG00000013085|   99883| ENSTNIP00000016066| ENSEMBLPEP|                   0|                    0|             ret-201|\n",
            "|         13832| ENSTNIG00000013085|   99883| ENSTNIP00000002538| ENSEMBLPEP|                   0|                    0|             ret-202|\n",
            "|         14570| ENSPMAG00000003886|    7757| ENSPMAP00000004251| ENSEMBLPEP|                   0|                    0|            preb-201|\n",
            "|         15447| ENSAMEG00000002580|    9646| ENSAMEP00000002724| ENSEMBLPEP|                   0|                    0|           AURKB-201|\n",
            "|         15619| ENSTNIG00000016597|   99883| ENSTNIP00000019699| ENSEMBLPEP|                   0|                    0|                  \\N|\n",
            "|         15619| ENSTNIG00000016597|   99883| ENSTNIP00000019700| ENSEMBLPEP|                   0|                    0|                  \\N|\n",
            "|         15619| ENSTNIG00000016597|   99883| ENSTNIP00000019701| ENSEMBLPEP|                   0|                    0|                  \\N|\n",
            "|         15790| ENSPPYG00000001348|    9601| ENSPPYP00000001567| ENSEMBLPEP|                   0|                    0|         PRPF38A-201|\n",
            "|         15846| ENSTNIG00000016587|   99883| ENSTNIP00000019689| ENSEMBLPEP|                   0|                    0|           RSPH3-201|\n",
            "|         16339| ENSFALG00000014961|   59894| ENSFALP00000015576| ENSEMBLPEP|                   0|                    0|                  \\N|\n",
            "|         16574| ENSPPYG00000001385|    9601| ENSPPYP00000001605| ENSEMBLPEP|                   0|                    0|         CYP4A11-201|\n",
            "|         17389| ENSPMAG00000007248|    7757| ENSPMAP00000007984| ENSEMBLPEP|                   0|                    0|                  \\N|\n",
            "|         17389| ENSPMAG00000007248|    7757| ENSPMAP00000007988| ENSEMBLPEP|                   0|                    0|                  \\N|\n",
            "|         17679| ENSTNIG00000008673|   99883| ENSTNIP00000011521| ENSEMBLPEP|                   0|                    0|          alox5a-201|\n",
            "|         17753| ENSMLUG00000005220|   59463| ENSMLUP00000004759| ENSEMBLPEP|                   0|                    0|          ALKBH1-201|\n",
            "|         18024| ENSTNIG00000008657|   99883| ENSTNIP00000011505| ENSEMBLPEP|                   0|                    0|          EFEMP1-201|\n",
            "|         18024| ENSTNIG00000008657|   99883| ENSTNIP00000002751| ENSEMBLPEP|                   0|                    0|          EFEMP1-202|\n",
            "|         18051| ENSTNIG00000008656|   99883| ENSTNIP00000011504| ENSEMBLPEP|                   0|                    0|           MARK1-201|\n",
            "|         18654| ENSPVAG00000014769|  132908| ENSPVAP00000013919| ENSEMBLPEP|                   0|                    0|            BMP4-201|\n",
            "|         18866| ENSLACG00000016910|    7897| ENSLACP00000019226| ENSEMBLPEP|                   0|                    0|           FADS1-201|\n",
            "|         18944| ENSPMAG00000000643|    7757| ENSPMAP00000000721| ENSEMBLPEP|                   0|                    0|           ampd1-201|\n",
            "|         18979| ENSMLUG00000026103|   59463| ENSMLUP00000020019| ENSEMBLPEP|                   0|                    0|                  \\N|\n",
            "|         19553| ENSFALG00000009127|   59894| ENSFALP00000009520| ENSEMBLPEP|                   0|                    0|          GASK1A-201|\n",
            "|         19984| ENSAMEG00000019345|    9646| ENSAMEP00000020397| ENSEMBLPEP|                   0|                    0|                  \\N|\n",
            "|         20382| ENSLACG00000001253|    7897| ENSLACP00000001397| ENSEMBLPEP|                   0|                    0|           TECTA-201|\n",
            "|         20497| ENSLACG00000011164|    7897| ENSLACP00000012671| ENSEMBLPEP|                   0|                    0|             OAF-201|\n",
            "|         20924| ENSLOCG00000000201|    7918| ENSLOCP00000000224| ENSEMBLPEP|                   0|                    0|                  \\N|\n",
            "|         21220| ENSPMAG00000003464|    7757| ENSPMAP00000003773| ENSEMBLPEP|                   0|                    0|           ypel5-201|\n",
            "|         22097| ENSAMEG00000014931|    9646| ENSAMEP00000015745| ENSEMBLPEP|                   0|                    0|           TRUB1-201|\n",
            "|         22521| ENSMLUG00000029860|   59463| ENSMLUP00000018937| ENSEMBLPEP|                   0|                    0|           OR4N5-201|\n",
            "|         23336| ENSTNIG00000017022|   99883| ENSTNIP00000020148| ENSEMBLPEP|                   0|                    0|          actn2b-201|\n",
            "|         23571| ENSFALG00000006934|   59894| ENSFALP00000007235| ENSEMBLPEP|                   0|                    0|           ESYT2-201|\n",
            "|         24663| ENSAMEG00000017047|    9646| ENSAMEP00000018009| ENSEMBLPEP|                   0|                    0|           PSMB1-201|\n",
            "|         25462| ENSFALG00000007808|   59894| ENSFALP00000008144| ENSEMBLPEP|                   0|                    0|        SLC25A40-201|\n",
            "|         26087| ENSMLUG00000006010|   59463| ENSMLUP00000005491| ENSEMBLPEP|                   0|                    0|        C15orf39-201|\n",
            "|         26623| ENSTNIG00000009121|   99883| ENSTNIP00000011981| ENSEMBLPEP|                   0|                    0|            drg1-201|\n",
            "|         27484|ENSCSAVG00000010321|   51511|ENSCSAVP00000017527| ENSEMBLPEP|                   0|                    0|                  \\N|\n",
            "|         27974| ENSFALG00000004182|   59894| ENSFALP00000004356| ENSEMBLPEP|                   0|                    0|           DHRSX-201|\n",
            "|         28124| ENSAMEG00000018257|    9646| ENSAMEP00000019305| ENSEMBLPEP|                   0|                    0|         ALDH6A1-201|\n",
            "|         28577| ENSPPYG00000020080|    9601| ENSPPYP00000022456| ENSEMBLPEP|                   0|                    0|                  \\N|\n",
            "|         28759| ENSTNIG00000013600|   99883| ENSTNIP00000016599| ENSEMBLPEP|                   0|                    0|           actr1-201|\n",
            "|         29228| ENSMLUG00000012217|   59463| ENSMLUP00000011129| ENSEMBLPEP|                   0|                    0|            CRCP-201|\n",
            "|         29744| ENSLOCG00000000045|    7918| ENSLOCP00000000053| ENSEMBLPEP|                   0|                    0|          NDUFV1-201|\n",
            "|         29894| ENSPPYG00000020150|    9601| ENSPPYP00000022540| ENSEMBLPEP|                   0|                    0|           ZRSR2-201|\n",
            "|         30361| ENSFALG00000006960|   59894| ENSFALP00000007264| ENSEMBLPEP|                   0|                    0|           DUPD1-201|\n",
            "|         30654| ENSPPYG00000020183|    9601| ENSPPYP00000022585| ENSEMBLPEP|                   0|                    0|            PHEX-201|\n",
            "|         31261| ENSTNIG00000001408|   99883| ENSTNIP00000002430| ENSEMBLPEP|                   0|                    0|                  \\N|\n",
            "|         31367| ENSFALG00000007413|   59894| ENSFALP00000007737| ENSEMBLPEP|                   0|                    0|                  \\N|\n",
            "|         31912| ENSFALG00000007736|   59894| ENSFALP00000008068| ENSEMBLPEP|                   0|                    0|           PCGF5-201|\n",
            "|         31951| ENSTTRG00000015955|    9739| ENSTTRP00000015117| ENSEMBLPEP|                   0|                    0|            PHC1-201|\n",
            "|         32460| ENSAMEG00000004707|    9646| ENSAMEP00000004961| ENSEMBLPEP|                   0|                    0|         SH3BGRL-201|\n",
            "|         32460| ENSAMEG00000004707|    9646| ENSAMEP00000004962| ENSEMBLPEP|                   0|                    0|         SH3BGRL-202|\n",
            "|         33375| ENSAMEG00000006094|    9646| ENSAMEP00000006413| ENSEMBLPEP|                   0|                    0|            PIGF-201|\n",
            "|         33412| ENSETEG00000005228|    9371| ENSETEP00000004252| ENSEMBLPEP|                   0|                    0|            SS18-201|\n",
            "|         33717| ENSPPYG00000020350|    9601| ENSPPYP00000022780| ENSEMBLPEP|                   0|                    0|                  \\N|\n",
            "|         34061| ENSPPYG00000020371|    9601| ENSPPYP00000022802| ENSEMBLPEP|                   0|                    0|          GPR173-201|\n",
            "|         34239| ENSLACG00000013118|    7897| ENSLACP00000014907| ENSEMBLPEP|                   0|                    0|            MMP2-201|\n",
            "|         35820| ENSPMAG00000010329|    7757| ENSPMAP00000011310| ENSEMBLPEP|                   0|                    0|                  \\N|\n",
            "|         36131| ENSAMEG00000011420|    9646| ENSAMEP00000012036| ENSEMBLPEP|                   0|                    0|           SETD3-201|\n",
            "|         36525| ENSFALG00000007743|   59894| ENSFALP00000008077| ENSEMBLPEP|                   0|                    0|           CHRNG-201|\n",
            "|         37111| ENSAMEG00000012092|    9646| ENSAMEP00000012721| ENSEMBLPEP|                   0|                    0|                  \\N|\n",
            "|         37146| ENSMLUG00000011119|   59463| ENSMLUP00000020167| ENSEMBLPEP|                   0|                    0|            RGS8-201|\n",
            "|         37146| ENSMLUG00000011119|   59463| ENSMLUP00000010135| ENSEMBLPEP|                   0|                    0|            RGS8-202|\n",
            "|         37251| ENSFALG00000008275|   59894| ENSFALP00000008628| ENSEMBLPEP|                   0|                    0|         DCUN1D1-201|\n",
            "|         37307| ENSPMAG00000005706|    7757| ENSPMAP00000006290| ENSEMBLPEP|                   0|                    0|          cnot6l-201|\n",
            "|         38220| ENSMLUG00000002623|   59463| ENSMLUP00000019736| ENSEMBLPEP|                   0|                    0|          FAXDC2-201|\n",
            "|         38220| ENSMLUG00000002623|   59463| ENSMLUP00000002385| ENSEMBLPEP|                   0|                    0|          FAXDC2-202|\n",
            "|         38395| ENSAMEG00000013828|    9646| ENSAMEP00000014619| ENSEMBLPEP|                   0|                    0|            NPC1-201|\n",
            "|         38422| ENSMLUG00000003614|   59463| ENSMLUP00000003289| ENSEMBLPEP|                   0|                    0|         SLC36A1-201|\n",
            "|         38723|ENSCSAVG00000009306|   51511|ENSCSAVP00000015834| ENSEMBLPEP|                   0|                    0|                  \\N|\n",
            "|         39432| ENSAMEG00000014808|    9646| ENSAMEP00000015670| ENSEMBLPEP|                   0|                    0|            UBR5-201|\n",
            "|         40335| ENSLACG00000012118|    7897| ENSLACP00000013764| ENSEMBLPEP|                   0|                    0|           TTYH1-201|\n",
            "|         40386| ENSTNIG00000015919|   99883| ENSTNIP00000019005| ENSEMBLPEP|                   0|                    0|            polb-201|\n",
            "|         40515| ENSPPYG00000020695|    9601| ENSPPYP00000023166| ENSEMBLPEP|                   0|                    0|           THOC2-201|\n",
            "|         41890| ENSTNIG00000015832|   99883| ENSTNIP00000018916| ENSEMBLPEP|                   0|                    0|si:ch211-275j6.5-201|\n",
            "|         41946| ENSLOCG00000004460|    7918| ENSLOCP00000005328| ENSEMBLPEP|                   0|                    0|                  \\N|\n",
            "|         42468| ENSMLUG00000015371|   59463| ENSMLUP00000014006| ENSEMBLPEP|                   0|                    0|            E2F1-201|\n",
            "|         42635| ENSLACG00000012593|    7897| ENSLACP00000014308| ENSEMBLPEP|                   0|                    0|                  \\N|\n",
            "|         42834| ENSLACG00000013715|    7897| ENSLACP00000015578| ENSEMBLPEP|                   0|                    0|         BHLHA15-201|\n",
            "|         43103| ENSLACG00000007200|    7897| ENSLACP00000008131| ENSEMBLPEP|                   0|                    0|          ANXA13-201|\n",
            "|         43302| ENSMLUG00000002255|   59463| ENSMLUP00000002058| ENSEMBLPEP|                   0|                    0|           MROH8-201|\n",
            "|         43714| ENSFALG00000009105|   59894| ENSFALP00000009499| ENSEMBLPEP|                   0|                    0|                  \\N|\n",
            "|         44437|ENSCSAVG00000003753|   51511|ENSCSAVP00000006272| ENSEMBLPEP|                   0|                    0|                  \\N|\n",
            "|         44906| ENSFALG00000009585|   59894| ENSFALP00000009993| ENSEMBLPEP|                   0|                    0|           MMP17-201|\n",
            "|         45011| ENSETEG00000014577|    9371| ENSETEP00000011821| ENSEMBLPEP|                   0|                    0|                  \\N|\n",
            "|         46952| ENSTNIG00000011484|   99883| ENSTNIP00000008097| ENSEMBLPEP|                   0|                    0|           dock5-201|\n",
            "|         46952| ENSTNIG00000011484|   99883| ENSTNIP00000014431| ENSEMBLPEP|                   0|                    0|           dock5-202|\n",
            "|         47084| ENSPPYG00000010802|    9601| ENSPPYP00000012066| ENSEMBLPEP|                   0|                    0|            SMOX-201|\n",
            "|         47084| ENSPPYG00000010802|    9601| ENSPPYP00000012067| ENSEMBLPEP|                   0|                    0|            SMOX-202|\n",
            "|         47501| ENSPPYG00000010828|    9601| ENSPPYP00000012094| ENSEMBLPEP|                   0|                    0|             OXT-201|\n",
            "|         47711| ENSLOCG00000009133|    7918| ENSLOCP00000011133| ENSEMBLPEP|                   0|                    0|                  \\N|\n",
            "|         48398| ENSPPYG00000029465|    9601| ENSPPYP00000024749| ENSEMBLPEP|                   0|                    0|          COX4I2-201|\n",
            "|         49308| ENSMLUG00000023460|   59463| ENSMLUP00000019591| ENSEMBLPEP|                   0|                    0|                  \\N|\n",
            "|         49331| ENSMLUG00000014560|   59463| ENSMLUP00000013246| ENSEMBLPEP|                   0|                    0|          ARPP19-201|\n",
            "|         50348| ENSPPYG00000010995|    9601| ENSPPYP00000012280| ENSEMBLPEP|                   0|                    0|                  \\N|\n",
            "|         50348| ENSPPYG00000010995|    9601| ENSPPYP00000012281| ENSEMBLPEP|                   0|                    0|                  \\N|\n",
            "|         51123| ENSFALG00000006404|   59894| ENSFALP00000006684| ENSEMBLPEP|                   0|                    0|          APCDD1-201|\n",
            "|         51415|ENSCSAVG00000006871|   51511|ENSCSAVP00000011719| ENSEMBLPEP|                   0|                    0|                  \\N|\n",
            "|         51595|ENSCSAVG00000007018|   51511|ENSCSAVP00000011950| ENSEMBLPEP|                   0|                    0|                  \\N|\n",
            "|         53634| ENSFALG00000012450|   59894| ENSFALP00000012995| ENSEMBLPEP|                   0|                    0|           INTS7-201|\n",
            "|         53963| ENSPPYG00000011173|    9601| ENSPPYP00000012481| ENSEMBLPEP|                   0|                    0|         APCDD1L-201|\n",
            "|         54264| ENSFALG00000012870|   59894| ENSFALP00000013431| ENSEMBLPEP|                   0|                    0|           MCFD2-201|\n",
            "|         55155| ENSAMEG00000009464|    9646| ENSAMEP00000009946| ENSEMBLPEP|                   0|                    0|                  \\N|\n",
            "|         56680| ENSAMEG00000010878|    9646| ENSAMEP00000011439| ENSEMBLPEP|                   0|                    0|          RPL18A-201|\n",
            "|         57020| ENSPMAG00000009226|    7757| ENSPMAP00000010157| ENSEMBLPEP|                   0|                    0|          man2b1-201|\n",
            "|         57039| ENSPMAG00000009235|    7757| ENSPMAP00000010161| ENSEMBLPEP|                   0|                    0|          enoph1-201|\n",
            "|         57201| ENSLOCG00000013554|    7918| ENSLOCP00000016721| ENSEMBLPEP|                   0|                    0|          smurf2-201|\n",
            "|         57370| ENSPPYG00000019098|    9601| ENSPPYP00000021400| ENSEMBLPEP|                   0|                    0|                  \\N|\n",
            "|         57380|ENSCSAVG00000004377|   51511|ENSCSAVP00000007330| ENSEMBLPEP|                   0|                    0|                  \\N|\n",
            "|         57693| ENSPPYG00000019119|    9601| ENSPPYP00000021424| ENSEMBLPEP|                   0|                    0|            ENHO-201|\n",
            "|         57984| ENSPMAG00000007109|    7757| ENSPMAP00000007825| ENSEMBLPEP|                   0|                    0|                  \\N|\n",
            "|         58305|ENSCSAVG00000007146|   51511|ENSCSAVP00000012150| ENSEMBLPEP|                   0|                    0|                  \\N|\n",
            "|         59355| ENSLACG00000013379|    7897| ENSLACP00000015197| ENSEMBLPEP|                   0|                    0|                  \\N|\n",
            "|         59384| ENSMLUG00000012813|   59463| ENSMLUP00000019973| ENSEMBLPEP|                   0|                    0|            TLR2-201|\n",
            "|         62680| ENSPPYG00000019357|    9601| ENSPPYP00000021690| ENSEMBLPEP|                   0|                    0|                  \\N|\n",
            "|         63271| ENSMLUG00000004283|   59463| ENSMLUP00000003897| ENSEMBLPEP|                   0|                    0|           AGTR2-201|\n",
            "|         63964| ENSPPYG00000019415|    9601| ENSPPYP00000021755| ENSEMBLPEP|                   0|                    0|                  \\N|\n",
            "|         64590| ENSLOCG00000005406|    7918| ENSLOCP00000006520| ENSEMBLPEP|                   0|                    0|         bcdin3d-201|\n",
            "|         65220| ENSPMAG00000009496|    7757| ENSPMAP00000010438| ENSEMBLPEP|                   0|                    0|                  \\N|\n",
            "|         65220| ENSPMAG00000009496|    7757| ENSPMAP00000010439| ENSEMBLPEP|                   0|                    0|                  \\N|\n",
            "|         65408|ENSCSAVG00000001768|   51511|ENSCSAVP00000002962| ENSEMBLPEP|                   0|                    0|                  \\N|\n",
            "|         65478| ENSTNIG00000012252|   99883| ENSTNIP00000015218| ENSEMBLPEP|                   0|                    0|         stxbp5a-201|\n",
            "|         65867| ENSTNIG00000012267|   99883| ENSTNIP00000015234| ENSEMBLPEP|                   0|                    0|          gtf2h5-201|\n",
            "|         66176| ENSLACG00000007612|    7897| ENSLACP00000008611| ENSEMBLPEP|                   0|                    0|           RNF32-201|\n",
            "|         67089| ENSTNIG00000000925|   99883| ENSTNIP00000002449| ENSEMBLPEP|                   0|                    0|           opn8c-201|\n",
            "|         67294| ENSFALG00000004743|   59894| ENSFALP00000004934| ENSEMBLPEP|                   0|                    0|            SCGN-201|\n",
            "|         67492| ENSLOCG00000007989|    7918| ENSLOCP00000009699| ENSEMBLPEP|                   0|                    0|            NAF1-201|\n",
            "|         67753| ENSTNIG00000016390|   99883| ENSTNIP00000019487| ENSEMBLPEP|                   0|                    0|           ACOT2-201|\n",
            "|         67861|ENSCSAVG00000005693|   51511|ENSCSAVP00000009700| ENSEMBLPEP|                   0|                    0|                  \\N|\n",
            "|         67861|ENSCSAVG00000005693|   51511|ENSCSAVP00000009701| ENSEMBLPEP|                   0|                    0|                  \\N|\n",
            "|         67861|ENSCSAVG00000005693|   51511|ENSCSAVP00000009702| ENSEMBLPEP|                   0|                    0|                  \\N|\n",
            "|         68098| ENSPPYG00000019618|    9601| ENSPPYP00000021984| ENSEMBLPEP|                   0|                    0|         ANGPTL2-201|\n",
            "|         68202| ENSTNIG00000016364|   99883| ENSTNIP00000019461| ENSEMBLPEP|                   0|                    0|                  \\N|\n",
            "|         68579| ENSPMAG00000004188|    7757| ENSPMAP00000004579| ENSEMBLPEP|                   0|                    0|                  \\N|\n",
            "|         68610| ENSLOCG00000018024|    7918| ENSLOCP00000022125| ENSEMBLPEP|                   0|                    0|         mab21l2-201|\n",
            "|         69042| ENSPMAG00000000960|    7757| ENSPMAP00000001068| ENSEMBLPEP|                   0|                    0|           tex10-201|\n",
            "|         69454| ENSOPRG00000006089|    9978| ENSOPRP00000005590| ENSEMBLPEP|                   0|                    0|                  \\N|\n",
            "|         69637| ENSPMAG00000002868|    7757| ENSPMAP00000003153| ENSEMBLPEP|                   0|                    0|                  \\N|\n",
            "|         70097| ENSAMEG00000010159|    9646| ENSAMEP00000010671| ENSEMBLPEP|                   0|                    0|           NR3C1-201|\n",
            "|         70097| ENSAMEG00000010159|    9646| ENSAMEP00000010673| ENSEMBLPEP|                   0|                    0|           NR3C1-202|\n",
            "|         70863| ENSPPYG00000019752|    9601| ENSPPYP00000022153| ENSEMBLPEP|                   0|                    0|                  \\N|\n",
            "|         71510| ENSAMEG00000011777|    9646| ENSAMEP00000012378| ENSEMBLPEP|                   0|                    0|                  \\N|\n",
            "|         72578| ENSOANG00000028951|    9258| ENSOANP00000030662| ENSEMBLPEP|                   0|                    0|                  \\N|\n",
            "|         72820| ENSFALG00000009915|   59894| ENSFALP00000010340| ENSEMBLPEP|                   0|                    0|          CADPS2-201|\n",
            "|         73048| ENSFALG00000010054|   59894| ENSFALP00000010485| ENSEMBLPEP|                   0|                    0|            ASZ1-201|\n",
            "|         73305| ENSTNIG00000000136|   99883| ENSTNIP00000002340| ENSEMBLPEP|                   0|                    0|                  \\N|\n",
            "|         73933| ENSMLUG00000022808|   59463| ENSMLUP00000021193| ENSEMBLPEP|                   0|                    0|          KLHL23-201|\n",
            "|         74757|ENSCSAVG00000009639|   51511|ENSCSAVP00000016378| ENSEMBLPEP|                   0|                    0|                  \\N|\n",
            "|         74757|ENSCSAVG00000009639|   51511|ENSCSAVP00000016379| ENSEMBLPEP|                   0|                    0|                  \\N|\n",
            "|         74836| ENSPMAG00000008238|    7757| ENSPMAP00000009068| ENSEMBLPEP|                   0|                    0|        specc1lb-202|\n",
            "|         74836| ENSPMAG00000008238|    7757| ENSPMAP00000009078| ENSEMBLPEP|                   0|                    0|        specc1lb-201|\n",
            "|         74904| ENSMLUG00000005358|   59463| ENSMLUP00000004902| ENSEMBLPEP|                   0|                    0|           TANC1-201|\n",
            "|         75149| ENSFALG00000004089|   59894| ENSFALP00000004273| ENSEMBLPEP|                   0|                    0|            MPP4-201|\n",
            "+--------------+-------------------+--------+-------------------+-----------+--------------------+---------------------+--------------------+\n",
            "only showing top 200 rows\n",
            "\n"
          ],
          "output_type" : "stream"
        }
      ]
    },
    {
      "cell_type" : "code",
      "execution_count" : 39,
      "metadata" : {
        "cell.metadata.exec_info" : {
          "startTs" : 1582037390950,
          "endTs" : 1582037409379
        },
        "language" : "scala"
      },
      "language" : "scala",
      "source" : [
        "tx2gene.where($\"taxon_id\" ===9606).select(\"gene\").distinct.count()"
      ],
      "outputs" : [
        {
          "execution_count" : 39,
          "data" : {
            "text/plain" : [
              "67996"
            ]
          },
          "metadata" : {
            "name" : "Out",
            "type" : "Long"
          },
          "output_type" : "execute_result"
        }
      ]
    },
    {
      "cell_type" : "code",
      "execution_count" : 40,
      "metadata" : {
        "cell.metadata.exec_info" : {
          "startTs" : 1582036428375,
          "endTs" : 1582036450345
        },
        "language" : "scala"
      },
      "language" : "scala",
      "source" : [
        "tx2gene.select(\"stable_id\").distinct.count()"
      ],
      "outputs" : [
        {
          "execution_count" : 40,
          "data" : {
            "text/plain" : [
              "12159873"
            ]
          },
          "metadata" : {
            "name" : "Out",
            "type" : "Long"
          },
          "output_type" : "execute_result"
        }
      ]
    },
    {
      "cell_type" : "code",
      "execution_count" : 41,
      "metadata" : {
        "cell.metadata.exec_info" : {
          "startTs" : 1581987864766,
          "endTs" : 1581987889260
        },
        "language" : "scala"
      },
      "language" : "scala",
      "source" : [
        "tx2gene.select(\"source_name\").distinct()show(1000)"
      ],
      "outputs" : [
        {
          "name" : "stdout",
          "text" : [
            "+------------+\n",
            "| source_name|\n",
            "+------------+\n",
            "|ENSEMBLTRANS|\n",
            "|  ENSEMBLPEP|\n",
            "+------------+\n",
            "\n"
          ],
          "output_type" : "stream"
        }
      ]
    },
    {
      "cell_type" : "code",
      "execution_count" : 42,
      "metadata" : {
        "language" : "scala"
      },
      "language" : "scala",
      "source" : [
      ],
      "outputs" : [
      ]
    },
    {
      "cell_type" : "code",
      "execution_count" : 43,
      "metadata" : {
        "cell.metadata.exec_info" : {
          "startTs" : 1581987779868,
          "endTs" : 1581987781696
        },
        "language" : "scala"
      },
      "language" : "scala",
      "source" : [
        "val genes_n = spark.read.parquet(\"/data/ensembl/99/website/genes_lookup.parquet\").as[(java.lang.Integer,String, String, String, String, String, String, String)]\n",
        "genes_n.show(20,1000)"
      ],
      "outputs" : [
        {
          "name" : "stdout",
          "text" : [
            "+--------+------------------+-------------+-------------+------------------------------------------------------------------------------------+---------------+--------------------+-----+\n",
            "|taxon_id|         stable_id|display_label|biotype_group|                                                                         description|scientific_name|         common_name|class|\n",
            "+--------+------------------+-------------+-------------+------------------------------------------------------------------------------------+---------------+--------------------+-----+\n",
            "|  211598|ENSANIG00000000002|        SSTR4|       coding|                         somatostatin receptor 4 [Source:HGNC Symbol;Acc:HGNC:11333]|Accipiter nisus|Eurasian sparrowhawk| Aves|\n",
            "|  211598|ENSANIG00000000003|           \\N|       coding|                                                                                  \\N|Accipiter nisus|Eurasian sparrowhawk| Aves|\n",
            "|  211598|ENSANIG00000000004|         CD93|       coding|                                   CD93 molecule [Source:HGNC Symbol;Acc:HGNC:15855]|Accipiter nisus|Eurasian sparrowhawk| Aves|\n",
            "|  211598|ENSANIG00000000005|           \\N|       coding|                                                                                  \\N|Accipiter nisus|Eurasian sparrowhawk| Aves|\n",
            "|  211598|ENSANIG00000000006|         GZF1|       coding|            GDNF inducible zinc finger protein 1 [Source:HGNC Symbol;Acc:HGNC:15808]|Accipiter nisus|Eurasian sparrowhawk| Aves|\n",
            "|  211598|ENSANIG00000000007|           \\N|       coding|                                                                                  \\N|Accipiter nisus|Eurasian sparrowhawk| Aves|\n",
            "|  211598|ENSANIG00000000008|           \\N|       coding|                                                                                  \\N|Accipiter nisus|Eurasian sparrowhawk| Aves|\n",
            "|  211598|ENSANIG00000000009|        ATP9A|       coding|  ATPase phospholipid transporting 9A (putative) [Source:HGNC Symbol;Acc:HGNC:13540]|Accipiter nisus|Eurasian sparrowhawk| Aves|\n",
            "|  211598|ENSANIG00000000010|           \\N|       coding|                                                                                  \\N|Accipiter nisus|Eurasian sparrowhawk| Aves|\n",
            "|  211598|ENSANIG00000000011|        ACER1|       coding|                           alkaline ceramidase 1 [Source:HGNC Symbol;Acc:HGNC:18356]|Accipiter nisus|Eurasian sparrowhawk| Aves|\n",
            "|  211598|ENSANIG00000000012|        MLLT1|       coding|           MLLT1 super elongation complex subunit [Source:HGNC Symbol;Acc:HGNC:7134]|Accipiter nisus|Eurasian sparrowhawk| Aves|\n",
            "|  211598|ENSANIG00000000013|       ACSBG2|       coding|   acyl-CoA synthetase bubblegum family member 2 [Source:HGNC Symbol;Acc:HGNC:24174]|Accipiter nisus|Eurasian sparrowhawk| Aves|\n",
            "|  211598|ENSANIG00000000014|         RFX2|       coding|                             regulatory factor X2 [Source:HGNC Symbol;Acc:HGNC:9983]|Accipiter nisus|Eurasian sparrowhawk| Aves|\n",
            "|  211598|ENSANIG00000000015|      CREB3L1|       coding|cAMP responsive element binding protein 3 like 1 [Source:HGNC Symbol;Acc:HGNC:18856]|Accipiter nisus|Eurasian sparrowhawk| Aves|\n",
            "|  211598|ENSANIG00000000016|         DGKZ|       coding|                       diacylglycerol kinase zeta [Source:HGNC Symbol;Acc:HGNC:2857]|Accipiter nisus|Eurasian sparrowhawk| Aves|\n",
            "|  211598|ENSANIG00000000017|          MDK|       coding|                                          midkine [Source:HGNC Symbol;Acc:HGNC:6972]|Accipiter nisus|Eurasian sparrowhawk| Aves|\n",
            "|  211598|ENSANIG00000000018|        CHRM4|       coding|                cholinergic receptor muscarinic 4 [Source:HGNC Symbol;Acc:HGNC:1953]|Accipiter nisus|Eurasian sparrowhawk| Aves|\n",
            "|  211598|ENSANIG00000000019|         EYA4|       coding|EYA transcriptional coactivator and phosphatase 4 [Source:HGNC Symbol;Acc:HGNC:3522]|Accipiter nisus|Eurasian sparrowhawk| Aves|\n",
            "|  211598|ENSANIG00000000020|           \\N|       coding|                                                                                  \\N|Accipiter nisus|Eurasian sparrowhawk| Aves|\n",
            "|  211598|ENSANIG00000000021|       VPREB3|       coding|        V-set pre-B cell surrogate light chain 3 [Source:HGNC Symbol;Acc:HGNC:12710]|Accipiter nisus|Eurasian sparrowhawk| Aves|\n",
            "+--------+------------------+-------------+-------------+------------------------------------------------------------------------------------+---------------+--------------------+-----+\n",
            "only showing top 20 rows\n",
            "\n"
          ],
          "output_type" : "stream"
        }
      ]
    },
    {
      "cell_type" : "code",
      "execution_count" : 44,
      "metadata" : {
        "cell.metadata.exec_info" : {
          "startTs" : 1582028955108,
          "endTs" : 1582028955368
        },
        "language" : "scala"
      },
      "language" : "scala",
      "source" : [
        "val not_null = udf[String, String](str=> if(str==null || str==\"\\\\N\") \"\" else str)\n",
        "val underscored =udf[String, String](str=> str.replace(\" \", \"_\"))"
      ],
      "outputs" : [
      ]
    },
    {
      "cell_type" : "code",
      "execution_count" : 45,
      "metadata" : {
        "cell.metadata.exec_info" : {
          "startTs" : 1582028980080,
          "endTs" : 1582029003238
        },
        "language" : "scala"
      },
      "language" : "scala",
      "source" : [
        "val tx2gene_n = tx2gene/*.where($\"source_name\" === \"ENSEMBLTRANS\")*/.select($\"gene\", $\"stable_id\".as(\"transcript\"), $\"display_label\")\n",
        ".join(genes_n.select($\"stable_id\".as(\"gene\"), $\"scientific_name\"), \"gene\")\n",
        ".withColumn(\"scientific_name\", underscored($\"scientific_name\"))\n",
        "    .withColumn(\"display_label\", not_null($\"display_label\"))\n",
        "    .withColumnRenamed(\"label\", \"display_label\")\n",
        "tx2gene_n.show(100,10000)"
      ],
      "outputs" : [
        {
          "name" : "stdout",
          "text" : [
            "+------------------+------------------+-------------+--------------------+\n",
            "|              gene|        transcript|display_label|     scientific_name|\n",
            "+------------------+------------------+-------------+--------------------+\n",
            "|ENSABRG00000000073|ENSABRP00000000057|     SPG7-201|Anser_brachyrhynchus|\n",
            "|ENSABRG00000000092|ENSABRP00000000085|    CPNE7-201|Anser_brachyrhynchus|\n",
            "|ENSABRG00000000381|ENSABRP00000000341|             |Anser_brachyrhynchus|\n",
            "|ENSABRG00000000571|ENSABRT00000000770|             |Anser_brachyrhynchus|\n",
            "|ENSABRG00000000980|ENSABRP00000000919|             |Anser_brachyrhynchus|\n",
            "|ENSABRG00000001204|ENSABRP00000001162|   RNF121-201|Anser_brachyrhynchus|\n",
            "|ENSABRG00000001692|ENSABRT00000002456|             |Anser_brachyrhynchus|\n",
            "|ENSABRG00000002062|ENSABRP00000002057|             |Anser_brachyrhynchus|\n",
            "|ENSABRG00000002368|ENSABRP00000002427|     GLG1-201|Anser_brachyrhynchus|\n",
            "|ENSABRG00000002482|ENSABRT00000003692|             |Anser_brachyrhynchus|\n",
            "|ENSABRG00000002512|ENSABRP00000002563|             |Anser_brachyrhynchus|\n",
            "|ENSABRG00000002735|ENSABRP00000002845|    FBXL4-201|Anser_brachyrhynchus|\n",
            "|ENSABRG00000002880|ENSABRP00000002981|             |Anser_brachyrhynchus|\n",
            "|ENSABRG00000002880|ENSABRP00000002990|             |Anser_brachyrhynchus|\n",
            "|ENSABRG00000003472|ENSABRT00000005320|             |Anser_brachyrhynchus|\n",
            "|ENSABRG00000003472|ENSABRT00000005327|             |Anser_brachyrhynchus|\n",
            "|ENSABRG00000003472|ENSABRT00000005333|             |Anser_brachyrhynchus|\n",
            "|ENSABRG00000003726|ENSABRP00000003950| TMEM178B-201|Anser_brachyrhynchus|\n",
            "|ENSABRG00000003742|ENSABRP00000003987|      MT4-201|Anser_brachyrhynchus|\n",
            "|ENSABRG00000003866|ENSABRT00000005951|             |Anser_brachyrhynchus|\n",
            "|ENSABRG00000003907|ENSABRT00000006027|             |Anser_brachyrhynchus|\n",
            "|ENSABRG00000004239|ENSABRT00000006534|             |Anser_brachyrhynchus|\n",
            "|ENSABRG00000004239|ENSABRT00000006535|             |Anser_brachyrhynchus|\n",
            "|ENSABRG00000004312|ENSABRP00000004675|  TMEM208-201|Anser_brachyrhynchus|\n",
            "|ENSABRG00000004312|ENSABRP00000004686|  TMEM208-202|Anser_brachyrhynchus|\n",
            "|ENSABRG00000004403|ENSABRT00000006801|             |Anser_brachyrhynchus|\n",
            "|ENSABRG00000004466|ENSABRT00000006907|             |Anser_brachyrhynchus|\n",
            "|ENSABRG00000005175|ENSABRP00000005519|     E2F2-201|Anser_brachyrhynchus|\n",
            "|ENSABRG00000005213|ENSABRT00000008074|             |Anser_brachyrhynchus|\n",
            "|ENSABRG00000005361|ENSABRT00000008289|             |Anser_brachyrhynchus|\n",
            "|ENSABRG00000005378|ENSABRP00000005750|   GABRA4-201|Anser_brachyrhynchus|\n",
            "|ENSABRG00000005530|ENSABRP00000005952|             |Anser_brachyrhynchus|\n",
            "|ENSABRG00000005673|ENSABRT00000008802|             |Anser_brachyrhynchus|\n",
            "|ENSABRG00000005760|ENSABRP00000007533|    DOP1B-201|Anser_brachyrhynchus|\n",
            "|ENSABRG00000005760|ENSABRP00000007580|    DOP1B-202|Anser_brachyrhynchus|\n",
            "|ENSABRG00000005760|ENSABRP00000007598|    DOP1B-203|Anser_brachyrhynchus|\n",
            "|ENSABRG00000005898|ENSABRP00000006399|    GNA12-201|Anser_brachyrhynchus|\n",
            "|ENSABRG00000006081|ENSABRT00000009507|             |Anser_brachyrhynchus|\n",
            "|ENSABRG00000006081|ENSABRT00000009509|             |Anser_brachyrhynchus|\n",
            "|ENSABRG00000006081|ENSABRT00000009512|             |Anser_brachyrhynchus|\n",
            "|ENSABRG00000006081|ENSABRT00000009513|             |Anser_brachyrhynchus|\n",
            "|ENSABRG00000006081|ENSABRT00000009515|             |Anser_brachyrhynchus|\n",
            "|ENSABRG00000006081|ENSABRT00000009516|             |Anser_brachyrhynchus|\n",
            "|ENSABRG00000006081|ENSABRT00000009517|             |Anser_brachyrhynchus|\n",
            "|ENSABRG00000006307|ENSABRP00000006859|    KCNQ2-201|Anser_brachyrhynchus|\n",
            "|ENSABRG00000006307|ENSABRP00000006865|    KCNQ2-202|Anser_brachyrhynchus|\n",
            "|ENSABRG00000006307|ENSABRP00000006878|    KCNQ2-203|Anser_brachyrhynchus|\n",
            "|ENSABRG00000006371|ENSABRP00000006913|    RBM20-201|Anser_brachyrhynchus|\n",
            "|ENSABRG00000006371|ENSABRP00000006918|    RBM20-202|Anser_brachyrhynchus|\n",
            "|ENSABRG00000006371|ENSABRP00000006925|    RBM20-203|Anser_brachyrhynchus|\n",
            "|ENSABRG00000006371|ENSABRP00000006942|    RBM20-204|Anser_brachyrhynchus|\n",
            "|ENSABRG00000006371|ENSABRP00000006959|    RBM20-205|Anser_brachyrhynchus|\n",
            "|ENSABRG00000006493|ENSABRP00000007050|   FAM53B-201|Anser_brachyrhynchus|\n",
            "|ENSABRG00000006493|ENSABRP00000007055|   FAM53B-202|Anser_brachyrhynchus|\n",
            "|ENSABRG00000006629|ENSABRP00000007198|    ROBO2-201|Anser_brachyrhynchus|\n",
            "|ENSABRG00000006629|ENSABRP00000007210|    ROBO2-202|Anser_brachyrhynchus|\n",
            "|ENSABRG00000006749|ENSABRP00000007327|             |Anser_brachyrhynchus|\n",
            "|ENSABRG00000007235|ENSABRP00000007960|    TCF24-201|Anser_brachyrhynchus|\n",
            "|ENSABRG00000007311|ENSABRP00000008082|      INA-201|Anser_brachyrhynchus|\n",
            "|ENSABRG00000007380|ENSABRT00000011627|             |Anser_brachyrhynchus|\n",
            "|ENSABRG00000007389|ENSABRP00000008172|             |Anser_brachyrhynchus|\n",
            "|ENSABRG00000007438|ENSABRP00000008254|   COMMD1-201|Anser_brachyrhynchus|\n",
            "|ENSABRG00000007438|ENSABRP00000008256|   COMMD1-202|Anser_brachyrhynchus|\n",
            "|ENSABRG00000007438|ENSABRP00000008260|   COMMD1-203|Anser_brachyrhynchus|\n",
            "|ENSABRG00000007511|ENSABRT00000011879|             |Anser_brachyrhynchus|\n",
            "|ENSABRG00000007511|ENSABRT00000011880|             |Anser_brachyrhynchus|\n",
            "|ENSABRG00000007511|ENSABRT00000011882|             |Anser_brachyrhynchus|\n",
            "|ENSABRG00000007511|ENSABRT00000011883|             |Anser_brachyrhynchus|\n",
            "|ENSABRG00000007511|ENSABRT00000011884|             |Anser_brachyrhynchus|\n",
            "|ENSABRG00000007511|ENSABRT00000011885|             |Anser_brachyrhynchus|\n",
            "|ENSABRG00000007511|ENSABRT00000011886|             |Anser_brachyrhynchus|\n",
            "|ENSABRG00000007511|ENSABRT00000011887|             |Anser_brachyrhynchus|\n",
            "|ENSABRG00000007511|ENSABRT00000011889|             |Anser_brachyrhynchus|\n",
            "|ENSABRG00000007511|ENSABRT00000011890|             |Anser_brachyrhynchus|\n",
            "|ENSABRG00000007554|ENSABRP00000008375|     OSTC-201|Anser_brachyrhynchus|\n",
            "|ENSABRG00000007611|ENSABRT00000012055|             |Anser_brachyrhynchus|\n",
            "|ENSABRG00000007611|ENSABRT00000012057|             |Anser_brachyrhynchus|\n",
            "|ENSABRG00000007611|ENSABRT00000012058|             |Anser_brachyrhynchus|\n",
            "|ENSABRG00000007611|ENSABRT00000012059|             |Anser_brachyrhynchus|\n",
            "|ENSABRG00000007611|ENSABRT00000012061|             |Anser_brachyrhynchus|\n",
            "|ENSABRG00000007611|ENSABRT00000012062|             |Anser_brachyrhynchus|\n",
            "|ENSABRG00000007611|ENSABRT00000012065|             |Anser_brachyrhynchus|\n",
            "|ENSABRG00000007630|ENSABRT00000012089|             |Anser_brachyrhynchus|\n",
            "|ENSABRG00000007955|ENSABRP00000008850|    IGSF5-201|Anser_brachyrhynchus|\n",
            "|ENSABRG00000008284|ENSABRP00000009255|   ADGRL3-201|Anser_brachyrhynchus|\n",
            "|ENSABRG00000008486|ENSABRP00000009494|    SMAD3-201|Anser_brachyrhynchus|\n",
            "|ENSABRG00000008604|ENSABRP00000009595|    INKA2-201|Anser_brachyrhynchus|\n",
            "|ENSABRG00000009384|ENSABRP00000010420|    PTPRU-201|Anser_brachyrhynchus|\n",
            "|ENSABRG00000009384|ENSABRP00000010433|    PTPRU-202|Anser_brachyrhynchus|\n",
            "|ENSABRG00000009401|ENSABRP00000010435|   GTPBP8-201|Anser_brachyrhynchus|\n",
            "|ENSABRG00000009695|ENSABRP00000010777|     RAF1-201|Anser_brachyrhynchus|\n",
            "|ENSABRG00000009879|ENSABRT00000015704|             |Anser_brachyrhynchus|\n",
            "|ENSABRG00000009914|ENSABRT00000015800|             |Anser_brachyrhynchus|\n",
            "|ENSABRG00000009914|ENSABRT00000015802|             |Anser_brachyrhynchus|\n",
            "|ENSABRG00000010114|ENSABRT00000016140|  RF02275-201|Anser_brachyrhynchus|\n",
            "|ENSABRG00000010167|ENSABRP00000011331|   DUSP13-201|Anser_brachyrhynchus|\n",
            "|ENSABRG00000010373|ENSABRP00000011578|  COL26A1-201|Anser_brachyrhynchus|\n",
            "|ENSABRG00000010476|ENSABRT00000016691|             |Anser_brachyrhynchus|\n",
            "|ENSABRG00000010476|ENSABRT00000016693|             |Anser_brachyrhynchus|\n",
            "|ENSABRG00000010476|ENSABRT00000016700|             |Anser_brachyrhynchus|\n",
            "+------------------+------------------+-------------+--------------------+\n",
            "only showing top 100 rows\n",
            "\n"
          ],
          "output_type" : "stream"
        }
      ]
    },
    {
      "cell_type" : "code",
      "execution_count" : 46,
      "metadata" : {
        "cell.metadata.exec_info" : {
          "startTs" : 1582029021969,
          "endTs" : 1582029072991
        },
        "language" : "scala"
      },
      "language" : "scala",
      "source" : [
        "tx2gene_n.writeParquet(\"/data/ensembl/99/website/transcripts.parquet\", true)"
      ],
      "outputs" : [
        {
          "name" : "stdout",
          "text" : [
            "parts of /data/ensembl/99/website/transcripts.parquet merged!\n"
          ],
          "output_type" : "stream"
        },
        {
          "execution_count" : 46,
          "data" : {
            "text/plain" : [
              "/data/ensembl/99/website/transcripts.parquet"
            ]
          },
          "metadata" : {
            "name" : "Out",
            "type" : "String"
          },
          "output_type" : "execute_result"
        }
      ]
    },
    {
      "cell_type" : "code",
      "execution_count" : 47,
      "metadata" : {
        "cell.metadata.exec_info" : {
          "startTs" : 1582029072994,
          "endTs" : 1582029073364
        },
        "language" : "scala"
      },
      "language" : "scala",
      "source" : [
        "val tx2gene_n = spark.read.parquet(\"/data/ensembl/99/website/transcripts.parquet\")\n",
        "tx2gene_n.show(100,1000)"
      ],
      "outputs" : [
        {
          "name" : "stdout",
          "text" : [
            "+------------------+------------------+-------------+--------------------+\n",
            "|              gene|        transcript|display_label|     scientific_name|\n",
            "+------------------+------------------+-------------+--------------------+\n",
            "|ENSABRG00000000073|ENSABRP00000000057|     SPG7-201|Anser_brachyrhynchus|\n",
            "|ENSABRG00000000092|ENSABRP00000000085|    CPNE7-201|Anser_brachyrhynchus|\n",
            "|ENSABRG00000000381|ENSABRP00000000341|             |Anser_brachyrhynchus|\n",
            "|ENSABRG00000000571|ENSABRT00000000770|             |Anser_brachyrhynchus|\n",
            "|ENSABRG00000000980|ENSABRP00000000919|             |Anser_brachyrhynchus|\n",
            "|ENSABRG00000001204|ENSABRP00000001162|   RNF121-201|Anser_brachyrhynchus|\n",
            "|ENSABRG00000001692|ENSABRT00000002456|             |Anser_brachyrhynchus|\n",
            "|ENSABRG00000002062|ENSABRP00000002057|             |Anser_brachyrhynchus|\n",
            "|ENSABRG00000002368|ENSABRP00000002427|     GLG1-201|Anser_brachyrhynchus|\n",
            "|ENSABRG00000002482|ENSABRT00000003692|             |Anser_brachyrhynchus|\n",
            "|ENSABRG00000002512|ENSABRP00000002563|             |Anser_brachyrhynchus|\n",
            "|ENSABRG00000002735|ENSABRP00000002845|    FBXL4-201|Anser_brachyrhynchus|\n",
            "|ENSABRG00000002880|ENSABRP00000002981|             |Anser_brachyrhynchus|\n",
            "|ENSABRG00000002880|ENSABRP00000002990|             |Anser_brachyrhynchus|\n",
            "|ENSABRG00000003472|ENSABRT00000005320|             |Anser_brachyrhynchus|\n",
            "|ENSABRG00000003472|ENSABRT00000005327|             |Anser_brachyrhynchus|\n",
            "|ENSABRG00000003472|ENSABRT00000005333|             |Anser_brachyrhynchus|\n",
            "|ENSABRG00000003726|ENSABRP00000003950| TMEM178B-201|Anser_brachyrhynchus|\n",
            "|ENSABRG00000003742|ENSABRP00000003987|      MT4-201|Anser_brachyrhynchus|\n",
            "|ENSABRG00000003866|ENSABRT00000005951|             |Anser_brachyrhynchus|\n",
            "|ENSABRG00000003907|ENSABRT00000006027|             |Anser_brachyrhynchus|\n",
            "|ENSABRG00000004239|ENSABRT00000006534|             |Anser_brachyrhynchus|\n",
            "|ENSABRG00000004239|ENSABRT00000006535|             |Anser_brachyrhynchus|\n",
            "|ENSABRG00000004312|ENSABRP00000004675|  TMEM208-201|Anser_brachyrhynchus|\n",
            "|ENSABRG00000004312|ENSABRP00000004686|  TMEM208-202|Anser_brachyrhynchus|\n",
            "|ENSABRG00000004403|ENSABRT00000006801|             |Anser_brachyrhynchus|\n",
            "|ENSABRG00000004466|ENSABRT00000006907|             |Anser_brachyrhynchus|\n",
            "|ENSABRG00000005175|ENSABRP00000005519|     E2F2-201|Anser_brachyrhynchus|\n",
            "|ENSABRG00000005213|ENSABRT00000008074|             |Anser_brachyrhynchus|\n",
            "|ENSABRG00000005361|ENSABRT00000008289|             |Anser_brachyrhynchus|\n",
            "|ENSABRG00000005378|ENSABRP00000005750|   GABRA4-201|Anser_brachyrhynchus|\n",
            "|ENSABRG00000005530|ENSABRP00000005952|             |Anser_brachyrhynchus|\n",
            "|ENSABRG00000005673|ENSABRT00000008802|             |Anser_brachyrhynchus|\n",
            "|ENSABRG00000005760|ENSABRP00000007533|    DOP1B-201|Anser_brachyrhynchus|\n",
            "|ENSABRG00000005760|ENSABRP00000007580|    DOP1B-202|Anser_brachyrhynchus|\n",
            "|ENSABRG00000005760|ENSABRP00000007598|    DOP1B-203|Anser_brachyrhynchus|\n",
            "|ENSABRG00000005898|ENSABRP00000006399|    GNA12-201|Anser_brachyrhynchus|\n",
            "|ENSABRG00000006081|ENSABRT00000009507|             |Anser_brachyrhynchus|\n",
            "|ENSABRG00000006081|ENSABRT00000009509|             |Anser_brachyrhynchus|\n",
            "|ENSABRG00000006081|ENSABRT00000009512|             |Anser_brachyrhynchus|\n",
            "|ENSABRG00000006081|ENSABRT00000009513|             |Anser_brachyrhynchus|\n",
            "|ENSABRG00000006081|ENSABRT00000009515|             |Anser_brachyrhynchus|\n",
            "|ENSABRG00000006081|ENSABRT00000009516|             |Anser_brachyrhynchus|\n",
            "|ENSABRG00000006081|ENSABRT00000009517|             |Anser_brachyrhynchus|\n",
            "|ENSABRG00000006307|ENSABRP00000006859|    KCNQ2-201|Anser_brachyrhynchus|\n",
            "|ENSABRG00000006307|ENSABRP00000006865|    KCNQ2-202|Anser_brachyrhynchus|\n",
            "|ENSABRG00000006307|ENSABRP00000006878|    KCNQ2-203|Anser_brachyrhynchus|\n",
            "|ENSABRG00000006371|ENSABRP00000006913|    RBM20-201|Anser_brachyrhynchus|\n",
            "|ENSABRG00000006371|ENSABRP00000006918|    RBM20-202|Anser_brachyrhynchus|\n",
            "|ENSABRG00000006371|ENSABRP00000006925|    RBM20-203|Anser_brachyrhynchus|\n",
            "|ENSABRG00000006371|ENSABRP00000006942|    RBM20-204|Anser_brachyrhynchus|\n",
            "|ENSABRG00000006371|ENSABRP00000006959|    RBM20-205|Anser_brachyrhynchus|\n",
            "|ENSABRG00000006493|ENSABRP00000007050|   FAM53B-201|Anser_brachyrhynchus|\n",
            "|ENSABRG00000006493|ENSABRP00000007055|   FAM53B-202|Anser_brachyrhynchus|\n",
            "|ENSABRG00000006629|ENSABRP00000007198|    ROBO2-201|Anser_brachyrhynchus|\n",
            "|ENSABRG00000006629|ENSABRP00000007210|    ROBO2-202|Anser_brachyrhynchus|\n",
            "|ENSABRG00000006749|ENSABRP00000007327|             |Anser_brachyrhynchus|\n",
            "|ENSABRG00000007235|ENSABRP00000007960|    TCF24-201|Anser_brachyrhynchus|\n",
            "|ENSABRG00000007311|ENSABRP00000008082|      INA-201|Anser_brachyrhynchus|\n",
            "|ENSABRG00000007380|ENSABRT00000011627|             |Anser_brachyrhynchus|\n",
            "|ENSABRG00000007389|ENSABRP00000008172|             |Anser_brachyrhynchus|\n",
            "|ENSABRG00000007438|ENSABRP00000008254|   COMMD1-201|Anser_brachyrhynchus|\n",
            "|ENSABRG00000007438|ENSABRP00000008256|   COMMD1-202|Anser_brachyrhynchus|\n",
            "|ENSABRG00000007438|ENSABRP00000008260|   COMMD1-203|Anser_brachyrhynchus|\n",
            "|ENSABRG00000007511|ENSABRT00000011879|             |Anser_brachyrhynchus|\n",
            "|ENSABRG00000007511|ENSABRT00000011880|             |Anser_brachyrhynchus|\n",
            "|ENSABRG00000007511|ENSABRT00000011882|             |Anser_brachyrhynchus|\n",
            "|ENSABRG00000007511|ENSABRT00000011883|             |Anser_brachyrhynchus|\n",
            "|ENSABRG00000007511|ENSABRT00000011884|             |Anser_brachyrhynchus|\n",
            "|ENSABRG00000007511|ENSABRT00000011885|             |Anser_brachyrhynchus|\n",
            "|ENSABRG00000007511|ENSABRT00000011886|             |Anser_brachyrhynchus|\n",
            "|ENSABRG00000007511|ENSABRT00000011887|             |Anser_brachyrhynchus|\n",
            "|ENSABRG00000007511|ENSABRT00000011889|             |Anser_brachyrhynchus|\n",
            "|ENSABRG00000007511|ENSABRT00000011890|             |Anser_brachyrhynchus|\n",
            "|ENSABRG00000007554|ENSABRP00000008375|     OSTC-201|Anser_brachyrhynchus|\n",
            "|ENSABRG00000007611|ENSABRT00000012055|             |Anser_brachyrhynchus|\n",
            "|ENSABRG00000007611|ENSABRT00000012057|             |Anser_brachyrhynchus|\n",
            "|ENSABRG00000007611|ENSABRT00000012058|             |Anser_brachyrhynchus|\n",
            "|ENSABRG00000007611|ENSABRT00000012059|             |Anser_brachyrhynchus|\n",
            "|ENSABRG00000007611|ENSABRT00000012061|             |Anser_brachyrhynchus|\n",
            "|ENSABRG00000007611|ENSABRT00000012062|             |Anser_brachyrhynchus|\n",
            "|ENSABRG00000007611|ENSABRT00000012065|             |Anser_brachyrhynchus|\n",
            "|ENSABRG00000007630|ENSABRT00000012089|             |Anser_brachyrhynchus|\n",
            "|ENSABRG00000007955|ENSABRP00000008850|    IGSF5-201|Anser_brachyrhynchus|\n",
            "|ENSABRG00000008284|ENSABRP00000009255|   ADGRL3-201|Anser_brachyrhynchus|\n",
            "|ENSABRG00000008486|ENSABRP00000009494|    SMAD3-201|Anser_brachyrhynchus|\n",
            "|ENSABRG00000008604|ENSABRP00000009595|    INKA2-201|Anser_brachyrhynchus|\n",
            "|ENSABRG00000009384|ENSABRP00000010420|    PTPRU-201|Anser_brachyrhynchus|\n",
            "|ENSABRG00000009384|ENSABRP00000010433|    PTPRU-202|Anser_brachyrhynchus|\n",
            "|ENSABRG00000009401|ENSABRP00000010435|   GTPBP8-201|Anser_brachyrhynchus|\n",
            "|ENSABRG00000009695|ENSABRP00000010777|     RAF1-201|Anser_brachyrhynchus|\n",
            "|ENSABRG00000009879|ENSABRT00000015704|             |Anser_brachyrhynchus|\n",
            "|ENSABRG00000009914|ENSABRT00000015800|             |Anser_brachyrhynchus|\n",
            "|ENSABRG00000009914|ENSABRT00000015802|             |Anser_brachyrhynchus|\n",
            "|ENSABRG00000010114|ENSABRT00000016140|  RF02275-201|Anser_brachyrhynchus|\n",
            "|ENSABRG00000010167|ENSABRP00000011331|   DUSP13-201|Anser_brachyrhynchus|\n",
            "|ENSABRG00000010373|ENSABRP00000011578|  COL26A1-201|Anser_brachyrhynchus|\n",
            "|ENSABRG00000010476|ENSABRT00000016691|             |Anser_brachyrhynchus|\n",
            "|ENSABRG00000010476|ENSABRT00000016693|             |Anser_brachyrhynchus|\n",
            "|ENSABRG00000010476|ENSABRT00000016700|             |Anser_brachyrhynchus|\n",
            "+------------------+------------------+-------------+--------------------+\n",
            "only showing top 100 rows\n",
            "\n"
          ],
          "output_type" : "stream"
        }
      ]
    },
    {
      "cell_type" : "code",
      "execution_count" : 48,
      "metadata" : {
        "cell.metadata.exec_info" : {
          "startTs" : 1582029124156,
          "endTs" : 1582029128865
        },
        "language" : "scala"
      },
      "language" : "scala",
      "source" : [
        "val human_count = genes.select(\"stable_id\").where($\"taxon_id\" === \t9606).distinct.count()\n",
        "val human_count_n = genes_n.select(\"stable_id\").where($\"taxon_id\" === \t9606).distinct.count()\n",
        "val human_count_tx2gene_n = tx2gene_n.select(\"gene\").where($\"scientific_name\" === \"Homo_sapiens\").distinct.count()\n",
        "(human_count, human_count_n, human_count_tx2gene_n)"
      ],
      "outputs" : [
        {
          "execution_count" : 48,
          "data" : {
            "text/plain" : [
              "(67996,67996,67996)"
            ]
          },
          "metadata" : {
            "name" : "Out",
            "type" : "Tuple3[Long, Long, Long]"
          },
          "output_type" : "execute_result"
        }
      ]
    },
    {
      "cell_type" : "code",
      "execution_count" : 49,
      "metadata" : {
        "language" : "scala"
      },
      "language" : "scala",
      "source" : [
      ],
      "outputs" : [
      ]
    },
    {
      "cell_type" : "code",
      "execution_count" : 50,
      "metadata" : {
        "cell.metadata.exec_info" : {
          "startTs" : 1582035722765,
          "endTs" : 1582035723387
        },
        "language" : "scala"
      },
      "language" : "scala",
      "source" : [
        "val human_old = spark.readTSV(\"/data/ensembl/97/tx2gene/Homo_sapiens.tsv\").toDF(\"transcript\", \"gene\")\n",
        "human_old.show()"
      ],
      "outputs" : [
        {
          "name" : "stdout",
          "text" : [
            "+---------------+---------------+\n",
            "|     transcript|           gene|\n",
            "+---------------+---------------+\n",
            "|ENST00000387314|ENSG00000210049|\n",
            "|ENST00000389680|ENSG00000211459|\n",
            "|ENST00000387342|ENSG00000210077|\n",
            "|ENST00000387347|ENSG00000210082|\n",
            "|ENST00000386347|ENSG00000209082|\n",
            "|ENST00000361390|ENSG00000198888|\n",
            "|ENST00000387365|ENSG00000210100|\n",
            "|ENST00000387372|ENSG00000210107|\n",
            "|ENST00000387377|ENSG00000210112|\n",
            "|ENST00000361453|ENSG00000198763|\n",
            "|ENST00000387382|ENSG00000210117|\n",
            "|ENST00000387392|ENSG00000210127|\n",
            "|ENST00000387400|ENSG00000210135|\n",
            "|ENST00000387405|ENSG00000210140|\n",
            "|ENST00000387409|ENSG00000210144|\n",
            "|ENST00000361624|ENSG00000198804|\n",
            "|ENST00000387416|ENSG00000210151|\n",
            "|ENST00000387419|ENSG00000210154|\n",
            "|ENST00000361739|ENSG00000198712|\n",
            "|ENST00000387421|ENSG00000210156|\n",
            "+---------------+---------------+\n",
            "only showing top 20 rows\n",
            "\n"
          ],
          "output_type" : "stream"
        }
      ]
    },
    {
      "cell_type" : "code",
      "execution_count" : 51,
      "metadata" : {
        "cell.metadata.exec_info" : {
          "startTs" : 1582036821903,
          "endTs" : 1582036842412
        },
        "language" : "scala"
      },
      "language" : "scala",
      "source" : [
        "val tx = human_old.select(\"transcript\").join(tx2gene.select($\"stable_id\".as(\"transcript\")).distinct, Seq(\"transcript\"), \"leftanti\")\n",
        "tx.show(200,1000)"
      ],
      "outputs" : [
        {
          "name" : "stdout",
          "text" : [
            "+---------------+\n",
            "|     transcript|\n",
            "+---------------+\n",
            "|ENST00000057513|\n",
            "|ENST00000201647|\n",
            "|ENST00000216039|\n",
            "|ENST00000216489|\n",
            "|ENST00000230381|\n",
            "|ENST00000245618|\n",
            "|ENST00000255613|\n",
            "|ENST00000257264|\n",
            "|ENST00000257857|\n",
            "|ENST00000257863|\n",
            "|ENST00000262817|\n",
            "|ENST00000268042|\n",
            "|ENST00000272223|\n",
            "|ENST00000279249|\n",
            "|ENST00000279804|\n",
            "|ENST00000280467|\n",
            "|ENST00000283122|\n",
            "|ENST00000283243|\n",
            "|ENST00000283635|\n",
            "|ENST00000285599|\n",
            "|ENST00000290015|\n",
            "|ENST00000291503|\n",
            "|ENST00000293502|\n",
            "|ENST00000295899|\n",
            "|ENST00000295962|\n",
            "|ENST00000296277|\n",
            "|ENST00000297504|\n",
            "|ENST00000298492|\n",
            "|ENST00000299106|\n",
            "|ENST00000300134|\n",
            "|ENST00000300458|\n",
            "|ENST00000300658|\n",
            "|ENST00000301295|\n",
            "|ENST00000302548|\n",
            "|ENST00000302622|\n",
            "|ENST00000304081|\n",
            "|ENST00000305476|\n",
            "|ENST00000308167|\n",
            "|ENST00000308987|\n",
            "|ENST00000309519|\n",
            "|ENST00000311170|\n",
            "|ENST00000311575|\n",
            "|ENST00000311875|\n",
            "|ENST00000313050|\n",
            "|ENST00000314340|\n",
            "|ENST00000315170|\n",
            "|ENST00000316853|\n",
            "|ENST00000317296|\n",
            "|ENST00000317538|\n",
            "|ENST00000317615|\n",
            "|ENST00000317749|\n",
            "|ENST00000319555|\n",
            "|ENST00000326587|\n",
            "|ENST00000327720|\n",
            "|ENST00000327939|\n",
            "|ENST00000329251|\n",
            "|ENST00000329286|\n",
            "|ENST00000330847|\n",
            "|ENST00000331335|\n",
            "|ENST00000334586|\n",
            "|ENST00000336648|\n",
            "|ENST00000337836|\n",
            "|ENST00000341773|\n",
            "|ENST00000342833|\n",
            "|ENST00000343002|\n",
            "|ENST00000343600|\n",
            "|ENST00000344302|\n",
            "|ENST00000347162|\n",
            "|ENST00000348264|\n",
            "|ENST00000348800|\n",
            "|ENST00000350375|\n",
            "|ENST00000355848|\n",
            "|ENST00000356142|\n",
            "|ENST00000356736|\n",
            "|ENST00000356889|\n",
            "|ENST00000357639|\n",
            "|ENST00000357796|\n",
            "|ENST00000358102|\n",
            "|ENST00000358130|\n",
            "|ENST00000359373|\n",
            "|ENST00000359704|\n",
            "|ENST00000359995|\n",
            "|ENST00000360009|\n",
            "|ENST00000360872|\n",
            "|ENST00000361059|\n",
            "|ENST00000361599|\n",
            "|ENST00000366286|\n",
            "|ENST00000366739|\n",
            "|ENST00000366815|\n",
            "|ENST00000368024|\n",
            "|ENST00000368058|\n",
            "|ENST00000368251|\n",
            "|ENST00000368601|\n",
            "|ENST00000369178|\n",
            "|ENST00000369529|\n",
            "|ENST00000369815|\n",
            "|ENST00000370688|\n",
            "|ENST00000371099|\n",
            "|ENST00000371210|\n",
            "|ENST00000371244|\n",
            "|ENST00000371504|\n",
            "|ENST00000371970|\n",
            "|ENST00000372062|\n",
            "|ENST00000372741|\n",
            "|ENST00000373201|\n",
            "|ENST00000373614|\n",
            "|ENST00000374078|\n",
            "|ENST00000374282|\n",
            "|ENST00000374287|\n",
            "|ENST00000374721|\n",
            "|ENST00000375706|\n",
            "|ENST00000375710|\n",
            "|ENST00000376071|\n",
            "|ENST00000376410|\n",
            "|ENST00000377167|\n",
            "|ENST00000377654|\n",
            "|ENST00000377882|\n",
            "|ENST00000377911|\n",
            "|ENST00000378052|\n",
            "|ENST00000378511|\n",
            "|ENST00000378653|\n",
            "|ENST00000379440|\n",
            "|ENST00000380110|\n",
            "|ENST00000380466|\n",
            "|ENST00000380956|\n",
            "|ENST00000381222|\n",
            "|ENST00000381683|\n",
            "|ENST00000381750|\n",
            "|ENST00000382438|\n",
            "|ENST00000382450|\n",
            "|ENST00000383207|\n",
            "|ENST00000383516|\n",
            "|ENST00000383531|\n",
            "|ENST00000390323|\n",
            "|ENST00000391496|\n",
            "|ENST00000393103|\n",
            "|ENST00000393400|\n",
            "|ENST00000393522|\n",
            "|ENST00000395131|\n",
            "|ENST00000395650|\n",
            "|ENST00000395784|\n",
            "|ENST00000395881|\n",
            "|ENST00000395914|\n",
            "|ENST00000396124|\n",
            "|ENST00000396547|\n",
            "|ENST00000397280|\n",
            "|ENST00000397367|\n",
            "|ENST00000397717|\n",
            "|ENST00000398117|\n",
            "|ENST00000398530|\n",
            "|ENST00000399829|\n",
            "|ENST00000400053|\n",
            "|ENST00000400264|\n",
            "|ENST00000402157|\n",
            "|ENST00000402414|\n",
            "|ENST00000403231|\n",
            "|ENST00000404251|\n",
            "|ENST00000404530|\n",
            "|ENST00000405008|\n",
            "|ENST00000405413|\n",
            "|ENST00000405731|\n",
            "|ENST00000406470|\n",
            "|ENST00000407257|\n",
            "|ENST00000407573|\n",
            "|ENST00000407817|\n",
            "|ENST00000408939|\n",
            "|ENST00000409024|\n",
            "|ENST00000409275|\n",
            "|ENST00000409351|\n",
            "|ENST00000409367|\n",
            "|ENST00000409451|\n",
            "|ENST00000410105|\n",
            "|ENST00000411809|\n",
            "|ENST00000411812|\n",
            "|ENST00000412249|\n",
            "|ENST00000412290|\n",
            "|ENST00000412794|\n",
            "|ENST00000412992|\n",
            "|ENST00000413099|\n",
            "|ENST00000414264|\n",
            "|ENST00000414871|\n",
            "|ENST00000415325|\n",
            "|ENST00000416194|\n",
            "|ENST00000416755|\n",
            "|ENST00000417226|\n",
            "|ENST00000417256|\n",
            "|ENST00000417689|\n",
            "|ENST00000418354|\n",
            "|ENST00000418800|\n",
            "|ENST00000419409|\n",
            "|ENST00000419855|\n",
            "|ENST00000419913|\n",
            "|ENST00000422031|\n",
            "|ENST00000422390|\n",
            "|ENST00000422444|\n",
            "|ENST00000422731|\n",
            "|ENST00000423520|\n",
            "|ENST00000423932|\n",
            "|ENST00000423939|\n",
            "|ENST00000424843|\n",
            "+---------------+\n",
            "only showing top 200 rows\n",
            "\n"
          ],
          "output_type" : "stream"
        }
      ]
    },
    {
      "cell_type" : "code",
      "execution_count" : 52,
      "metadata" : {
        "cell.metadata.exec_info" : {
          "startTs" : 1582036877727,
          "endTs" : 1582036899592
        },
        "language" : "scala"
      },
      "language" : "scala",
      "source" : [
        "val tx2 = tx2gene.select($\"stable_id\".as(\"transcript\"), $\"gene\").distinct.join(human_old.select(\"transcript\", \"gene\"), Seq(\"transcript\"), \"leftanti\")\n",
        "tx2.show()"
      ],
      "outputs" : [
        {
          "name" : "stdout",
          "text" : [
            "+-------------------+-------------------+\n",
            "|         transcript|               gene|\n",
            "+-------------------+-------------------+\n",
            "|ENSCSAVP00000011994|ENSCSAVG00000007046|\n",
            "| ENSLACP00000009729| ENSLACG00000008578|\n",
            "| ENSPMAP00000007844| ENSPMAG00000007123|\n",
            "| ENSPFOP00000030165| ENSPFOG00000014066|\n",
            "| ENSLACP00000022658| ENSLACG00000013531|\n",
            "| ENSOGAP00000003412| ENSOGAG00000003835|\n",
            "| ENSGACP00000014131| ENSGACG00000010673|\n",
            "| ENSCSAP00000014597| ENSCSAG00000003454|\n",
            "| ENSACAP00000022078| ENSACAG00000028460|\n",
            "| ENSPSIP00000014553| ENSPSIG00000012901|\n",
            "| ENSACAP00000023323| ENSACAG00000028473|\n",
            "| ENSOPRP00000013334| ENSOPRG00000014613|\n",
            "| ENSOARP00000018461| ENSOARG00000017189|\n",
            "| ENSOANP00000014034| ENSOANG00000008805|\n",
            "| ENSEEUP00000010269| ENSEEUG00000011243|\n",
            "| ENSEEUP00000009234| ENSEEUG00000010098|\n",
            "| ENSMEUP00000013073| ENSMEUG00000014319|\n",
            "| ENSSART00000016069| ENSSARG00000016064|\n",
            "| ENSHGLT00100039399| ENSHGLG00100030806|\n",
            "| ENSCAPT00000004486| ENSCAPG00000004065|\n",
            "+-------------------+-------------------+\n",
            "only showing top 20 rows\n",
            "\n"
          ],
          "output_type" : "stream"
        }
      ]
    },
    {
      "cell_type" : "code",
      "execution_count" : 53,
      "metadata" : {
        "cell.metadata.exec_info" : {
          "startTs" : 1582037036336,
          "endTs" : 1582037062651
        },
        "language" : "scala"
      },
      "language" : "scala",
      "source" : [
        "val j = tx2gene.select($\"stable_id\".as(\"transcript\"), $\"gene\").distinct.join(human_old.select(\"transcript\", \"gene\"), Seq(\"gene\"))\n",
        "println(human_old.select(\"gene\").distinct.count())\n",
        "println(j.select(\"gene\").distinct.count())\n",
        "j"
      ],
      "outputs" : [
        {
          "name" : "stdout",
          "text" : [
            "66832\n",
            "66663\n"
          ],
          "output_type" : "stream"
        },
        {
          "execution_count" : 53,
          "data" : {
            "text/plain" : [
              "[gene: string, transcript: string ... 1 more field]"
            ]
          },
          "metadata" : {
            "name" : "Out",
            "type" : "DataFrame"
          },
          "output_type" : "execute_result"
        }
      ]
    },
    {
      "cell_type" : "code",
      "execution_count" : 54,
      "metadata" : {
        "language" : "scala"
      },
      "language" : "scala",
      "source" : [
        "(human_old.select(\"gene\").distinct().count(), tx2gene."
      ],
      "outputs" : [
      ]
    },
    {
      "cell_type" : "code",
      "execution_count" : 55,
      "metadata" : {
        "cell.metadata.exec_info" : {
          "startTs" : 1581992578520,
          "endTs" : 1581992578939
        },
        "language" : "scala"
      },
      "language" : "scala",
      "source" : [
        "species_n.orderBy(\"scientific_name\").show(200,1000)"
      ],
      "outputs" : [
        {
          "name" : "stdout",
          "text" : [
            "+--------+--------------------------+------------------------------+--------------------------------------------------+------------------+--------+--------+--------------+-------------+---------------+-----------+------------+\n",
            "|taxon_id|           scientific_name|                   common_name|                                               url|             class|lifespan|  mass_g|metabolic_rate|temperature_k|specimen_origin|sample_size|data_quality|\n",
            "+--------+--------------------------+------------------------------+--------------------------------------------------+------------------+--------+--------+--------------+-------------+---------------+-----------+------------+\n",
            "|  211598|           Accipiter nisus|          Eurasian sparrowhawk|           https://www.ensembl.org/Accipiter_nisus|              Aves|    20.2|   135.0|        0.9516|         null|           wild|     medium|  acceptable|\n",
            "|    9646|    Ailuropoda melanoleuca|                   Giant panda|    https://www.ensembl.org/Ailuropoda_melanoleuca|          Mammalia|    36.8|    null|          null|         null|      captivity|      small|  acceptable|\n",
            "|   64144|        Anabas testudineus|                Climbing perch|        https://www.ensembl.org/Anabas_testudineus|         Teleostei|     8.0|    null|          null|         null|      captivity|      small|  acceptable|\n",
            "|   28377|       Anolis carolinensis|                   Green anole|       https://www.ensembl.org/Anolis_carolinensis|          Reptilia|     7.2|    null|          null|         null|      captivity|     medium|  acceptable|\n",
            "|  132585|      Anser brachyrhynchus|             Pink-footed goose|      https://www.ensembl.org/Anser_brachyrhynchus|              Aves|    40.9|    null|          null|         null|           wild|     medium|  acceptable|\n",
            "|  194338|        Athene cunicularia|                 Burrowing owl|        https://www.ensembl.org/Athene_cunicularia|              Aves|    11.0|    null|          null|         null|           wild|     medium|  acceptable|\n",
            "|  158456|           Betta splendens|         Siamese fighting fish|           https://www.ensembl.org/Betta_splendens|         Teleostei|     2.0|    null|          null|         null|        unknown|     medium|  acceptable|\n",
            "|   30521|             Bos grunniens|                           Yak|             https://www.ensembl.org/Bos_grunniens|          Mammalia|    26.3|    null|          null|       311.15|      captivity|      large|        high|\n",
            "|    9913|                Bos taurus|               Domestic cattle|                https://www.ensembl.org/Bos_taurus|          Mammalia|    20.0|347000.0|        306.77|       311.15|      captivity|      large|questionable|\n",
            "|    6239|    Caenorhabditis elegans|                     Roundworm|    https://www.ensembl.org/Caenorhabditis_elegans|       Chromadorea|    0.16|    null|          null|         null|      captivity|      large|  acceptable|\n",
            "|    9483|        Callithrix jacchus|     White-tufted-ear marmoset|        https://www.ensembl.org/Callithrix_jacchus|          Mammalia|    22.8|   190.0|         0.848|       309.15|      captivity|      large|        high|\n",
            "|    7868|       Callorhinchus milii|                 Elephant fish|       https://www.ensembl.org/Callorhinchus_milii|    Chondrichthyes|     6.0|    null|          null|         null|           wild|     medium|  acceptable|\n",
            "|    9838|       Camelus dromedarius|                     Dromedary|       https://www.ensembl.org/Camelus_dromedarius|          Mammalia|    28.4|407000.0|       224.779|       310.65|      captivity|     medium|  acceptable|\n",
            "|    9925|              Capra hircus|                 Domestic goat|              https://www.ensembl.org/Capra_hircus|          Mammalia|    20.8|    null|          null|       312.45|      captivity|      large|        high|\n",
            "| 1868482|          Carlito syrichta|            Philippine tarsier|          https://www.ensembl.org/Carlito_syrichta|          Mammalia|    16.0|   113.0|          0.43|       306.95|      captivity|       tiny|  acceptable|\n",
            "|   51338|         Castor canadensis|               American beaver|         https://www.ensembl.org/Castor_canadensis|          Mammalia|    23.4|    null|          null|         null|      captivity|      small|  acceptable|\n",
            "|   51154|         Catagonus wagneri|               Chacoan peccary|         https://www.ensembl.org/Catagonus_wagneri|          Mammalia|    null|    null|          null|         null|        unknown|      small|         low|\n",
            "|   37548|              Cavia aperea|          Brazilian guinea pig|              https://www.ensembl.org/Cavia_aperea|          Mammalia|     6.0|    null|          null|         null|      captivity|      large|        high|\n",
            "|   10141|           Cavia porcellus|                    Guinea pig|           https://www.ensembl.org/Cavia_porcellus|          Mammalia|    12.0|   639.1|          2.13|       312.15|      captivity|      large|        high|\n",
            "|   34839|       Chinchilla lanigera|        Long-tailed chinchilla|       https://www.ensembl.org/Chinchilla_lanigera|          Mammalia|    17.2|   436.7|          1.31|       307.85|      captivity|      large|  acceptable|\n",
            "|    9358|       Choloepus hoffmanni|     Hoffmann's two-toed sloth|       https://www.ensembl.org/Choloepus_hoffmanni|          Mammalia|    41.0|  4005.2|         3.891|       307.55|      captivity|     medium|  acceptable|\n",
            "|    9089|       Chrysolophus pictus|               Golden pheasant|       https://www.ensembl.org/Chrysolophus_pictus|              Aves|    13.4|    null|          null|         null|      captivity|      large|questionable|\n",
            "|    7950|           Clupea harengus|              Atlantic herring|           https://www.ensembl.org/Clupea_harengus|         Teleostei|    22.0|    null|          null|         null|           wild|     medium|  acceptable|\n",
            "|   93934|         Coturnix japonica|                Japanese quail|         https://www.ensembl.org/Coturnix_japonica|              Aves|     6.0|    null|          null|         null|        unknown|     medium|  acceptable|\n",
            "|    8502|        Crocodylus porosus|           Saltwater crocodile|        https://www.ensembl.org/Crocodylus_porosus|          Reptilia|    57.0|    null|          null|         null|      captivity|     medium|questionable|\n",
            "|  156563|       Cyanistes caeruleus|                      Blue tit|       https://www.ensembl.org/Cyanistes_caeruleus|              Aves|    14.6|    null|          null|         null|           wild|     medium|  acceptable|\n",
            "|    7962|           Cyprinus carpio|                   Common carp|           https://www.ensembl.org/Cyprinus_carpio|         Teleostei|    47.0|    null|          null|         null|      captivity|      large|  acceptable|\n",
            "|    7955|               Danio rerio|      Zebra danio or zebrafish|               https://www.ensembl.org/Danio_rerio|         Teleostei|     5.5|    null|          null|         null|      captivity|      large|        high|\n",
            "|    9361|      Dasypus novemcinctus|         Nine-banded armadillo|      https://www.ensembl.org/Dasypus_novemcinctus|          Mammalia|    22.3|  3413.7|         4.655|       307.65|      captivity|     medium|  acceptable|\n",
            "|   10020|           Dipodomys ordii|            Ord's kangaroo rat|           https://www.ensembl.org/Dipodomys_ordii|          Mammalia|     9.9|    47.8|         0.339|       307.75|      captivity|      small|  acceptable|\n",
            "|    8790|  Dromaius novaehollandiae|                           Emu|  https://www.ensembl.org/Dromaius_novaehollandiae|              Aves|    16.6|    null|          null|         null|      captivity|      large|  acceptable|\n",
            "|    7227|   Drosophila melanogaster|                     Fruit fly|   https://www.ensembl.org/Drosophila_melanogaster|           Insecta|     0.3|    null|          null|         null|      captivity|      large|  acceptable|\n",
            "|    9371|         Echinops telfairi|        Lesser hedgehog tenrec|         https://www.ensembl.org/Echinops_telfairi|          Mammalia|    19.0|   116.4|          0.75|       307.85|      captivity|     medium|  acceptable|\n",
            "|    8005|  Electrophorus electricus|                  Electric eel|  https://www.ensembl.org/Electrophorus_electricus|         Teleostei|    12.6|    null|          null|         null|      captivity|      small|  acceptable|\n",
            "|    9796|            Equus caballus|                         Horse|            https://www.ensembl.org/Equus_caballus|          Mammalia|    57.0|    null|          null|       311.45|      captivity|      large|        high|\n",
            "|    9365|       Erinaceus europaeus|     Western European hedgehog|       https://www.ensembl.org/Erinaceus_europaeus|          Mammalia|    11.7|  1213.5|         2.434|       307.15|      captivity|     medium|  acceptable|\n",
            "|   44316|        Erythrura gouldiae|                Gouldian finch|        https://www.ensembl.org/Erythrura_gouldiae|              Aves|     6.0|    null|          null|         null|      captivity|      large|  acceptable|\n",
            "|    8010|               Esox lucius|                 Northern pike|               https://www.ensembl.org/Esox_lucius|         Teleostei|    30.0|    null|          null|         null|           wild|     medium|  acceptable|\n",
            "|    9685|               Felis catus|                  Domestic cat|               https://www.ensembl.org/Felis_catus|          Mammalia|    30.0|    null|          null|       311.25|      captivity|      large|questionable|\n",
            "|   59894|       Ficedula albicollis|           Collared flycatcher|       https://www.ensembl.org/Ficedula_albicollis|              Aves|     9.8|    null|          null|         null|           wild|     medium|  acceptable|\n",
            "|    8049|              Gadus morhua|                  Atlantic cod|              https://www.ensembl.org/Gadus_morhua|         Teleostei|    25.0|    null|          null|         null|           wild|     medium|  acceptable|\n",
            "|    9031|             Gallus gallus|                Red junglefowl|             https://www.ensembl.org/Gallus_gallus|              Aves|    30.0|  2710.0|         6.005|         null|      captivity|      large|  acceptable|\n",
            "|   33528|          Gambusia affinis|                  Mosquitofish|          https://www.ensembl.org/Gambusia_affinis|         Teleostei|     3.0|    null|          null|         null|        unknown|     medium|  acceptable|\n",
            "|   69293|    Gasterosteus aculeatus|           Alaskan stickleback|    https://www.ensembl.org/Gasterosteus_aculeatus|         Teleostei|     8.0|    null|          null|         null|           wild|     medium|  acceptable|\n",
            "|   38772|        Gopherus agassizii|               Desert tortoise|        https://www.ensembl.org/Gopherus_agassizii|          Reptilia|    62.8|    null|          null|         null|      captivity|     medium|  acceptable|\n",
            "|   10181|     Heterocephalus glaber|                Naked mole-rat|     https://www.ensembl.org/Heterocephalus_glaber|          Mammalia|    31.0|    35.3|         0.128|       305.25|      captivity|      large|        high|\n",
            "|    9606|              Homo sapiens|                         Human|              https://www.ensembl.org/Homo_sapiens|          Mammalia|   122.5| 70000.0|         82.78|       310.15|      captivity|       huge|        high|\n",
            "|   62062|               Hucho hucho|                 Danube salmon|               https://www.ensembl.org/Hucho_hucho|         Teleostei|    15.0|    null|          null|         null|           wild|     medium|  acceptable|\n",
            "|    7998|       Ictalurus punctatus|               Channel catfish|       https://www.ensembl.org/Ictalurus_punctatus|         Teleostei|    16.0|    null|          null|         null|           wild|     medium|  acceptable|\n",
            "|   43179|Ictidomys tridecemlineatus|Thirteen-lined ground squirrel|https://www.ensembl.org/Ictidomys_tridecemlineatus|          Mammalia|     7.9|   198.4|         0.983|       308.85|      captivity|      small|  acceptable|\n",
            "|   51337|           Jaculus jaculus|        Lesser Egyptian jerboa|           https://www.ensembl.org/Jaculus_jaculus|          Mammalia|     7.3|    75.0|         0.515|       310.65|      captivity|     medium|  acceptable|\n",
            "|   40217|            Junco hyemalis|               Dark-eyed junco|            https://www.ensembl.org/Junco_hyemalis|              Aves|    11.3|    18.0|        0.2959|         null|           wild|      large|  acceptable|\n",
            "|   56723|           Labrus bergylta|                 Ballan wrasse|           https://www.ensembl.org/Labrus_bergylta|         Teleostei|    29.0|    null|          null|         null|        unknown|     medium|  acceptable|\n",
            "|    7897|       Latimeria chalumnae|                    Coelacanth|       https://www.ensembl.org/Latimeria_chalumnae|       Coelacanthi|    48.0|    null|          null|         null|           wild|     medium|  acceptable|\n",
            "|    7918|      Lepisosteus oculatus|                   Spotted gar|      https://www.ensembl.org/Lepisosteus_oculatus|          Holostei|    18.0|    null|          null|         null|           wild|     medium|  acceptable|\n",
            "|    9785|        Loxodonta africana|         African bush elephant|        https://www.ensembl.org/Loxodonta_africana|          Mammalia|    65.0|    null|          null|       309.35|      captivity|      large|  acceptable|\n",
            "|   61383|           Lynx canadensis|                   Canada lynx|           https://www.ensembl.org/Lynx_canadensis|          Mammalia|    26.8|    null|          null|         null|      captivity|     medium|  acceptable|\n",
            "|    9541|       Macaca fascicularis|           Long-tailed macaque|       https://www.ensembl.org/Macaca_fascicularis|          Mammalia|    39.0|    null|          null|       310.75|      captivity|      large|  acceptable|\n",
            "|    9544|            Macaca mulatta|                 Rhesus monkey|            https://www.ensembl.org/Macaca_mulatta|          Mammalia|    40.0|    null|          null|       310.45|      captivity|      large|        high|\n",
            "|    9545|         Macaca nemestrina|               Pigtail macaque|         https://www.ensembl.org/Macaca_nemestrina|          Mammalia|    37.6|    null|          null|         null|      captivity|      large|  acceptable|\n",
            "|    9568|    Mandrillus leucophaeus|                         Drill|    https://www.ensembl.org/Mandrillus_leucophaeus|          Mammalia|    39.0|    null|          null|         null|      captivity|     medium|  acceptable|\n",
            "|    9103|       Meleagris gallopavo|                   Wild turkey|       https://www.ensembl.org/Meleagris_gallopavo|              Aves|    13.0|    null|          null|         null|           wild|     medium|  acceptable|\n",
            "|   13146|   Melopsittacus undulatus|                    Budgerigar|   https://www.ensembl.org/Melopsittacus_undulatus|              Aves|    21.0|    25.2|        0.3035|       314.15|      captivity|      large|        high|\n",
            "|   10047|     Meriones unguiculatus|                Mongolian jird|     https://www.ensembl.org/Meriones_unguiculatus|          Mammalia|     6.3|    64.8|         0.546|       311.35|      captivity|     medium|  acceptable|\n",
            "|   10036|      Mesocricetus auratus|                Golden hamster|      https://www.ensembl.org/Mesocricetus_auratus|          Mammalia|     3.9|   108.2|          0.69|       311.25|      captivity|     medium|  acceptable|\n",
            "|   30608|        Microcebus murinus|              Gray mouse lemur|        https://www.ensembl.org/Microcebus_murinus|          Mammalia|    18.2|    null|          null|         null|      captivity|     medium|  acceptable|\n",
            "|   79684|      Microtus ochrogaster|                  Prairie vole|      https://www.ensembl.org/Microtus_ochrogaster|          Mammalia|     5.3|    48.2|          0.41|       311.05|      captivity|      small|  acceptable|\n",
            "|   94237|                 Mola mola|                 Ocean sunfish|                 https://www.ensembl.org/Mola_mola|         Teleostei|    null|    null|          null|         null|        unknown|      small|         low|\n",
            "|   13616|     Monodelphis domestica|     Gray short-tailed opossum|     https://www.ensembl.org/Monodelphis_domestica|          Mammalia|     5.1|   104.0|         0.335|       305.75|      captivity|     medium|  acceptable|\n",
            "|   68415|       Moschus moschiferus|            Siberian musk deer|       https://www.ensembl.org/Moschus_moschiferus|          Mammalia|    null|    null|          null|         null|        unknown|      small|         low|\n",
            "|   10089|                Mus caroli|                  Ryukyu mouse|                https://www.ensembl.org/Mus_caroli|          Mammalia|    null|    null|          null|         null|        unknown|      small|         low|\n",
            "|   10090|              Mus musculus|                   House mouse|              https://www.ensembl.org/Mus_musculus|          Mammalia|     4.0|    18.0|         0.271|       310.05|      captivity|      large|        high|\n",
            "|   10103|            Mus spicilegus|          Mound-building mouse|            https://www.ensembl.org/Mus_spicilegus|          Mammalia|     3.5|    null|          null|         null|      captivity|     medium|  acceptable|\n",
            "|   59463|          Myotis lucifugus|              Little brown bat|          https://www.ensembl.org/Myotis_lucifugus|          Mammalia|    34.0|     5.8|         0.051|       305.15|           wild|     medium|  acceptable|\n",
            "|   47308|    Neogobius melanostomus|                    Round goby|    https://www.ensembl.org/Neogobius_melanostomus|         Teleostei|     4.0|    null|          null|         null|           wild|     medium|  acceptable|\n",
            "|  452646|            Neovison vison|                 American mink|            https://www.ensembl.org/Neovison_vison|          Mammalia|    11.4|   660.0|         2.722|       312.15|      captivity|      small|  acceptable|\n",
            "|   61853|       Nomascus leucogenys|          White-cheeked gibbon|       https://www.ensembl.org/Nomascus_leucogenys|          Mammalia|    44.1|    null|          null|         null|      captivity|      small|  acceptable|\n",
            "|    8663|         Notechis scutatus|           Mainland tigersnake|         https://www.ensembl.org/Notechis_scutatus|          Reptilia|    14.1|    null|          null|         null|      captivity|      small|  acceptable|\n",
            "|    8996|          Numida meleagris|           Helmeted guineafowl|          https://www.ensembl.org/Numida_meleagris|              Aves|    null|    null|          null|         null|        unknown|     medium|         low|\n",
            "|    9978|         Ochotona princeps|                 American pika|         https://www.ensembl.org/Ochotona_princeps|          Mammalia|     7.0|   109.0|         0.932|       313.25|      captivity|      small|  acceptable|\n",
            "|   10160|             Octodon degus|                          Degu|             https://www.ensembl.org/Octodon_degus|          Mammalia|    14.0|   199.6|         0.958|       310.75|      captivity|      large|  acceptable|\n",
            "|    8128|     Oreochromis niloticus|                  Nile tilapia|     https://www.ensembl.org/Oreochromis_niloticus|         Teleostei|     9.0|    null|          null|         null|           wild|     medium|  acceptable|\n",
            "|    9258|  Ornithorhynchus anatinus|          Duck-billed platypus|  https://www.ensembl.org/Ornithorhynchus_anatinus|          Mammalia|    22.6|  1030.3|         1.931|       307.15|      captivity|      small|  acceptable|\n",
            "|    9986|     Oryctolagus cuniculus|               European rabbit|     https://www.ensembl.org/Oryctolagus_cuniculus|          Mammalia|     9.0|  2167.9|         7.395|       312.15|        unknown|      large|questionable|\n",
            "|    8090|           Oryzias latipes|               Japanese medaka|           https://www.ensembl.org/Oryzias_latipes|         Teleostei|     5.0|    null|          null|         null|      captivity|     medium|  acceptable|\n",
            "|   30611|        Otolemur garnettii|            Small-eared galago|        https://www.ensembl.org/Otolemur_garnettii|          Mammalia|    20.0|  1314.0|         3.927|       309.15|      captivity|     medium|  acceptable|\n",
            "|    9940|                Ovis aries|     Domestic sheep or mouflon|                https://www.ensembl.org/Ovis_aries|          Mammalia|    22.8|    null|          null|       311.95|      captivity|      large|        high|\n",
            "|    9597|              Pan paniscus|    Pygmy chimpanzee or bonobo|              https://www.ensembl.org/Pan_paniscus|          Mammalia|    55.0|    null|          null|         null|      captivity|       tiny|  acceptable|\n",
            "|    9598|           Pan troglodytes|                    Chimpanzee|           https://www.ensembl.org/Pan_troglodytes|          Mammalia|    59.4|    null|          null|       308.85|      captivity|      large|  acceptable|\n",
            "|    9691|           Panthera pardus|                       Leopard|           https://www.ensembl.org/Panthera_pardus|          Mammalia|    27.3|    null|          null|         null|      captivity|      large|        high|\n",
            "|    9557|           Papio hamadryas|              Hamadryas baboon|           https://www.ensembl.org/Papio_hamadryas|          Mammalia|    37.5| 12670.8|        21.095|       311.15|      captivity|      large|        high|\n",
            "|    9157|               Parus major|                     Great tit|               https://www.ensembl.org/Parus_major|              Aves|    15.4|    null|          null|         null|           wild|      large|  acceptable|\n",
            "|    9049|            Pavo cristatus|                Indian peafowl|            https://www.ensembl.org/Pavo_cristatus|              Aves|    23.2|    null|          null|         null|      captivity|      large|  acceptable|\n",
            "|    7757|        Petromyzon marinus|                   Sea lamprey|        https://www.ensembl.org/Petromyzon_marinus|Cephalaspidomorphi|     9.0|    null|          null|         null|           wild|     medium|  acceptable|\n",
            "|   38626|    Phascolarctos cinereus|                         Koala|    https://www.ensembl.org/Phascolarctos_cinereus|          Mammalia|    22.1|  4732.4|         5.744|       308.95|      captivity|      large|        high|\n",
            "|    9054|       Phasianus colchicus|               Common pheasant|       https://www.ensembl.org/Phasianus_colchicus|              Aves|    27.0|    null|          null|         null|      captivity|      large|        high|\n",
            "|   64176|          Podarcis muralis|            Common wall lizard|          https://www.ensembl.org/Podarcis_muralis|          Reptilia|    10.0|    null|          null|         null|        unknown|     medium|  acceptable|\n",
            "|    8081|       Poecilia reticulata|                         Guppy|       https://www.ensembl.org/Poecilia_reticulata|         Teleostei|     5.0|    null|          null|         null|           wild|     medium|  acceptable|\n",
            "|  103695|          Pogona vitticeps|        Central bearded dragon|          https://www.ensembl.org/Pogona_vitticeps|          Reptilia|    12.0|    null|          null|         null|        unknown|     medium|questionable|\n",
            "|    9813|         Procavia capensis|                    Rock hyrax|         https://www.ensembl.org/Procavia_capensis|          Mammalia|    14.8|  2458.0|         4.954|       310.15|      captivity|     medium|  acceptable|\n",
            "| 1328070|            Prolemur simus|          Greater bamboo lemur|            https://www.ensembl.org/Prolemur_simus|          Mammalia|    17.6|    null|          null|         null|      captivity|      small|  acceptable|\n",
            "|  132908|         Pteropus vampyrus|              Large flying fox|         https://www.ensembl.org/Pteropus_vampyrus|          Mammalia|    20.9|  1024.3|         4.486|       310.05|      captivity|     medium|  acceptable|\n",
            "|   10116|         Rattus norvegicus|                    Norway rat|         https://www.ensembl.org/Rattus_norvegicus|          Mammalia|     3.8|   206.9|         1.404|       310.25|      captivity|      large|  acceptable|\n",
            "|   59479| Rhinolophus ferrumequinum|         Greater horseshoe bat| https://www.ensembl.org/Rhinolophus_ferrumequinum|          Mammalia|    30.5|    null|          null|         null|           wild|     medium|  acceptable|\n",
            "|   61621|       Rhinopithecus bieti|       Black snub-nosed monkey|       https://www.ensembl.org/Rhinopithecus_bieti|          Mammalia|    null|    null|          null|         null|        unknown|      small|         low|\n",
            "|   61622|   Rhinopithecus roxellana|      Golden snub-nosed monkey|   https://www.ensembl.org/Rhinopithecus_roxellana|          Mammalia|    29.5|    null|          null|         null|      captivity|      small|  acceptable|\n",
            "|    4932|  Saccharomyces cerevisiae|                 Baker's yeast|  https://www.ensembl.org/Saccharomyces_cerevisiae|   Saccharomycetes|    0.04|    null|          null|         null|      captivity|      large|  acceptable|\n",
            "|    8030|               Salmo salar|               Atlantic salmon|               https://www.ensembl.org/Salmo_salar|         Teleostei|    13.0|    null|          null|         null|           wild|     medium|  acceptable|\n",
            "|    8032|              Salmo trutta|                   Brown trout|              https://www.ensembl.org/Salmo_trutta|         Teleostei|    38.0|    null|          null|         null|        unknown|     medium|  acceptable|\n",
            "|    9305|      Sarcophilus harrisii|               Tasmanian devil|      https://www.ensembl.org/Sarcophilus_harrisii|          Mammalia|    13.0|  6126.8|         8.664|       308.95|      captivity|     medium|  acceptable|\n",
            "|   52904|      Scophthalmus maximus|                        Turbot|      https://www.ensembl.org/Scophthalmus_maximus|         Teleostei|    26.0|    null|          null|         null|           wild|     medium|  acceptable|\n",
            "|    9135|           Serinus canaria|                  House canary|           https://www.ensembl.org/Serinus_canaria|              Aves|    24.0|    13.3|      0.230065|       314.15|      captivity|     medium|  acceptable|\n",
            "|   42254|             Sorex araneus|                Eurasian shrew|             https://www.ensembl.org/Sorex_araneus|          Mammalia|     3.2|     8.4|         0.348|       308.15|      captivity|      small|  acceptable|\n",
            "|    8175|             Sparus aurata|             Gilthead seabream|             https://www.ensembl.org/Sparus_aurata|         Teleostei|    11.0|    null|          null|         null|           wild|     medium|  acceptable|\n",
            "|    8508|       Sphenodon punctatus|                       Tuatara|       https://www.ensembl.org/Sphenodon_punctatus|          Reptilia|    90.0|   430.0|        0.0605|        295.5|      captivity|     medium|  acceptable|\n",
            "| 2489341|       Strigops habroptila|                        Kakapo|       https://www.ensembl.org/Strigops_habroptila|              Aves|    60.0|    null|          null|         null|      captivity|      small|  acceptable|\n",
            "|   37032|        Suricata suricatta|                       Meerkat|        https://www.ensembl.org/Suricata_suricatta|          Mammalia|    20.6|   850.0|         1.729|       309.45|      captivity|      large|        high|\n",
            "|    9823|                Sus scrofa|                     Wild boar|                https://www.ensembl.org/Sus_scrofa|          Mammalia|    27.0|135000.0|        104.15|       312.15|      captivity|      large|        high|\n",
            "|   59729|       Taeniopygia guttata|                   Zebra finch|       https://www.ensembl.org/Taeniopygia_guttata|              Aves|    12.0|    null|          null|       314.15|        unknown|      large|  acceptable|\n",
            "|    9565|      Theropithecus gelada|                 Gelada baboon|      https://www.ensembl.org/Theropithecus_gelada|          Mammalia|    36.0|    null|          null|         null|      captivity|     medium|  acceptable|\n",
            "|   37347|          Tupaia belangeri|           Northern tree shrew|          https://www.ensembl.org/Tupaia_belangeri|          Mammalia|    11.1|    null|          null|       311.95|      captivity|     medium|  acceptable|\n",
            "|    9739|        Tursiops truncatus|           Bottlenosed dolphin|        https://www.ensembl.org/Tursiops_truncatus|          Mammalia|    51.6|    null|          null|         null|      captivity|     medium|  acceptable|\n",
            "|    9643|          Ursus americanus|           American black bear|          https://www.ensembl.org/Ursus_americanus|          Mammalia|    34.0|    null|          null|         null|      captivity|      large|  acceptable|\n",
            "|   29073|           Ursus maritimus|                    Polar bear|           https://www.ensembl.org/Ursus_maritimus|          Mammalia|    43.8|    null|          null|       309.95|      captivity|     medium|  acceptable|\n",
            "|   61221|       Varanus komodoensis|                 Komodo dragon|       https://www.ensembl.org/Varanus_komodoensis|          Reptilia|    62.0|    null|          null|         null|           wild|     medium|questionable|\n",
            "|   30538|             Vicugna pacos|                        Alpaca|             https://www.ensembl.org/Vicugna_pacos|          Mammalia|    25.8|    null|          null|       312.25|      captivity|      large|        high|\n",
            "|   29139|          Vombatus ursinus|          Coarse-haired wombat|          https://www.ensembl.org/Vombatus_ursinus|          Mammalia|    30.0|    null|          null|         null|      captivity|      small|  acceptable|\n",
            "|    9627|             Vulpes vulpes|                       Red fox|             https://www.ensembl.org/Vulpes_vulpes|          Mammalia|    21.3|  4580.3|        13.731|       311.85|      captivity|     medium|  acceptable|\n",
            "|   44394|    Zonotrichia albicollis|        White-throated sparrow|    https://www.ensembl.org/Zonotrichia_albicollis|              Aves|    14.9|    20.2|         0.278|         null|           wild|     medium|  acceptable|\n",
            "+--------+--------------------------+------------------------------+--------------------------------------------------+------------------+--------+--------+--------------+-------------+---------------+-----------+------------+\n",
            "\n"
          ],
          "output_type" : "stream"
        }
      ]
    },
    {
      "cell_type" : "code",
      "execution_count" : 56,
      "metadata" : {
        "cell.metadata.exec_info" : {
          "startTs" : 1581991396309,
          "endTs" : 1581991396660
        },
        "language" : "scala"
      },
      "language" : "scala",
      "source" : [
        "import ammonite.ops._\n",
        "val t = Path(\"/data/ensembl/99/tx2gene\")\n",
        "val dirs = t.toIO.listFiles().toList.filter(_.getName.contains(\"scientific_name=\"))\n",
        "dirs.foreach(f=> ammonite.ops.rm(Path(f.getAbsolutePath)))\n",
        "//.map(f=>f.listFiles().toList.filter(_.getName.endsWith(\".csv\")).foreach(ff=>ff.renameTo(Path(f.getAbsolutePath.replace(\"scientific_name=\",\"\")+\".tsv\").toIO)))"
      ],
      "outputs" : [
      ]
    },
    {
      "cell_type" : "markdown",
      "execution_count" : 57,
      "metadata" : {
        "language" : "text"
      },
      "language" : "text",
      "source" : [
        "## |Producing genes n-quads\n",
        "\n",
        "\n"
      ],
      "outputs" : [
      ]
    },
    {
      "cell_type" : "code",
      "execution_count" : 58,
      "metadata" : {
        "language" : "scala"
      },
      "language" : "scala",
      "source" : [
        "val genes_n = spark.read.parquet(\"/data/ensembl/99/website/genes_lookup.parquet\").as[(java.lang.Integer,String, String, String, String, String, String, String)]\n",
        "genes_n.show(20,1000)"
      ],
      "outputs" : [
      ]
    },
    {
      "cell_type" : "code",
      "execution_count" : 59,
      "metadata" : {
        "cell.metadata.exec_info" : {
          "startTs" : 1580844031125,
          "endTs" : 1580844031257
        },
        "language" : "scala"
      },
      "language" : "scala",
      "source" : [
        "def str2(s: String) = if(s==null) \"\" else s\"\"\"\"${s.replace(\"\\\"\", \"\\\\\\\"\")}\"\"\"\""
      ],
      "outputs" : [
      ]
    },
    {
      "cell_type" : "code",
      "execution_count" : 60,
      "metadata" : {
        "cell.metadata.exec_info" : {
          "startTs" : 1580844037012,
          "endTs" : 1580844037876
        },
        "language" : "scala"
      },
      "language" : "scala",
      "source" : [
        "val genes_trs = genes_n.flatMap{\n",
        "    case (taxon_id,stable_id,display_label,biotype_group,description,scientific_name,common_name,cl) =>\n",
        "    sp(taxon_id, scientific_name)(\"has_gene\", ens(stable_id)) ++\n",
        "    trip(ens(stable_id), \"<\"+\"http://www.w3.org/2000/01/rdf-schema#label\" +\">\", str2(display_label))++\n",
        "    trip(ens(stable_id), \"<\"+\"http://www.w3.org/2000/01/rdf-schema#description\" +\">\",  str2(description))++\n",
        "    trip(ens(stable_id), ens(\"has_biotype\"), ens(\"biotype/\"+biotype_group))++\n",
        "    Nil\n",
        "}.toDF(\"subject\", \"property\", \"object\", \"context\")\n",
        "genes_trs.show(40, 1000)"
      ],
      "outputs" : [
        {
          "name" : "stdout",
          "text" : [
            "+----------------------------------------------------------+---------------------------------------------------+------------------------------------------------------------------------------------+---------------------------------------------------------+\n",
            "|                                                   subject|                                           property|                                                                              object|                                                  context|\n",
            "+----------------------------------------------------------+---------------------------------------------------+------------------------------------------------------------------------------------+---------------------------------------------------------+\n",
            "|      <http://rdf.ebi.ac.uk/resource/ensembl/taxon#211598>|    <http://aging-research.group/resource/has_gene>|                          <http://rdf.ebi.ac.uk/resource/ensembl/ENSANIG00000000002>|<http://rdf.ebi.ac.uk/resource/ensembl/confidence/high> .|\n",
            "|    <http://aging-research.group/resource/Accipiter_nisus>|    <http://aging-research.group/resource/has_gene>|                          <http://rdf.ebi.ac.uk/resource/ensembl/ENSANIG00000000002>|<http://rdf.ebi.ac.uk/resource/ensembl/confidence/high> .|\n",
            "|<http://rdf.ebi.ac.uk/resource/ensembl/ENSANIG00000000002>|       <http://www.w3.org/2000/01/rdf-schema#label>|                                                                             \"SSTR4\"|<http://rdf.ebi.ac.uk/resource/ensembl/confidence/high> .|\n",
            "|<http://rdf.ebi.ac.uk/resource/ensembl/ENSANIG00000000002>| <http://www.w3.org/2000/01/rdf-schema#description>|                       \"somatostatin receptor 4 [Source:HGNC Symbol;Acc:HGNC:11333]\"|<http://rdf.ebi.ac.uk/resource/ensembl/confidence/high> .|\n",
            "|<http://rdf.ebi.ac.uk/resource/ensembl/ENSANIG00000000002>|<http://rdf.ebi.ac.uk/resource/ensembl/has_biotype>|                              <http://rdf.ebi.ac.uk/resource/ensembl/biotype/coding>|<http://rdf.ebi.ac.uk/resource/ensembl/confidence/high> .|\n",
            "|      <http://rdf.ebi.ac.uk/resource/ensembl/taxon#211598>|    <http://aging-research.group/resource/has_gene>|                          <http://rdf.ebi.ac.uk/resource/ensembl/ENSANIG00000000003>|<http://rdf.ebi.ac.uk/resource/ensembl/confidence/high> .|\n",
            "|    <http://aging-research.group/resource/Accipiter_nisus>|    <http://aging-research.group/resource/has_gene>|                          <http://rdf.ebi.ac.uk/resource/ensembl/ENSANIG00000000003>|<http://rdf.ebi.ac.uk/resource/ensembl/confidence/high> .|\n",
            "|<http://rdf.ebi.ac.uk/resource/ensembl/ENSANIG00000000003>|<http://rdf.ebi.ac.uk/resource/ensembl/has_biotype>|                              <http://rdf.ebi.ac.uk/resource/ensembl/biotype/coding>|<http://rdf.ebi.ac.uk/resource/ensembl/confidence/high> .|\n",
            "|      <http://rdf.ebi.ac.uk/resource/ensembl/taxon#211598>|    <http://aging-research.group/resource/has_gene>|                          <http://rdf.ebi.ac.uk/resource/ensembl/ENSANIG00000000004>|<http://rdf.ebi.ac.uk/resource/ensembl/confidence/high> .|\n",
            "|    <http://aging-research.group/resource/Accipiter_nisus>|    <http://aging-research.group/resource/has_gene>|                          <http://rdf.ebi.ac.uk/resource/ensembl/ENSANIG00000000004>|<http://rdf.ebi.ac.uk/resource/ensembl/confidence/high> .|\n",
            "|<http://rdf.ebi.ac.uk/resource/ensembl/ENSANIG00000000004>|       <http://www.w3.org/2000/01/rdf-schema#label>|                                                                              \"CD93\"|<http://rdf.ebi.ac.uk/resource/ensembl/confidence/high> .|\n",
            "|<http://rdf.ebi.ac.uk/resource/ensembl/ENSANIG00000000004>| <http://www.w3.org/2000/01/rdf-schema#description>|                                 \"CD93 molecule [Source:HGNC Symbol;Acc:HGNC:15855]\"|<http://rdf.ebi.ac.uk/resource/ensembl/confidence/high> .|\n",
            "|<http://rdf.ebi.ac.uk/resource/ensembl/ENSANIG00000000004>|<http://rdf.ebi.ac.uk/resource/ensembl/has_biotype>|                              <http://rdf.ebi.ac.uk/resource/ensembl/biotype/coding>|<http://rdf.ebi.ac.uk/resource/ensembl/confidence/high> .|\n",
            "|      <http://rdf.ebi.ac.uk/resource/ensembl/taxon#211598>|    <http://aging-research.group/resource/has_gene>|                          <http://rdf.ebi.ac.uk/resource/ensembl/ENSANIG00000000005>|<http://rdf.ebi.ac.uk/resource/ensembl/confidence/high> .|\n",
            "|    <http://aging-research.group/resource/Accipiter_nisus>|    <http://aging-research.group/resource/has_gene>|                          <http://rdf.ebi.ac.uk/resource/ensembl/ENSANIG00000000005>|<http://rdf.ebi.ac.uk/resource/ensembl/confidence/high> .|\n",
            "|<http://rdf.ebi.ac.uk/resource/ensembl/ENSANIG00000000005>|<http://rdf.ebi.ac.uk/resource/ensembl/has_biotype>|                              <http://rdf.ebi.ac.uk/resource/ensembl/biotype/coding>|<http://rdf.ebi.ac.uk/resource/ensembl/confidence/high> .|\n",
            "|      <http://rdf.ebi.ac.uk/resource/ensembl/taxon#211598>|    <http://aging-research.group/resource/has_gene>|                          <http://rdf.ebi.ac.uk/resource/ensembl/ENSANIG00000000006>|<http://rdf.ebi.ac.uk/resource/ensembl/confidence/high> .|\n",
            "|    <http://aging-research.group/resource/Accipiter_nisus>|    <http://aging-research.group/resource/has_gene>|                          <http://rdf.ebi.ac.uk/resource/ensembl/ENSANIG00000000006>|<http://rdf.ebi.ac.uk/resource/ensembl/confidence/high> .|\n",
            "|<http://rdf.ebi.ac.uk/resource/ensembl/ENSANIG00000000006>|       <http://www.w3.org/2000/01/rdf-schema#label>|                                                                              \"GZF1\"|<http://rdf.ebi.ac.uk/resource/ensembl/confidence/high> .|\n",
            "|<http://rdf.ebi.ac.uk/resource/ensembl/ENSANIG00000000006>| <http://www.w3.org/2000/01/rdf-schema#description>|          \"GDNF inducible zinc finger protein 1 [Source:HGNC Symbol;Acc:HGNC:15808]\"|<http://rdf.ebi.ac.uk/resource/ensembl/confidence/high> .|\n",
            "|<http://rdf.ebi.ac.uk/resource/ensembl/ENSANIG00000000006>|<http://rdf.ebi.ac.uk/resource/ensembl/has_biotype>|                              <http://rdf.ebi.ac.uk/resource/ensembl/biotype/coding>|<http://rdf.ebi.ac.uk/resource/ensembl/confidence/high> .|\n",
            "|      <http://rdf.ebi.ac.uk/resource/ensembl/taxon#211598>|    <http://aging-research.group/resource/has_gene>|                          <http://rdf.ebi.ac.uk/resource/ensembl/ENSANIG00000000007>|<http://rdf.ebi.ac.uk/resource/ensembl/confidence/high> .|\n",
            "|    <http://aging-research.group/resource/Accipiter_nisus>|    <http://aging-research.group/resource/has_gene>|                          <http://rdf.ebi.ac.uk/resource/ensembl/ENSANIG00000000007>|<http://rdf.ebi.ac.uk/resource/ensembl/confidence/high> .|\n",
            "|<http://rdf.ebi.ac.uk/resource/ensembl/ENSANIG00000000007>|<http://rdf.ebi.ac.uk/resource/ensembl/has_biotype>|                              <http://rdf.ebi.ac.uk/resource/ensembl/biotype/coding>|<http://rdf.ebi.ac.uk/resource/ensembl/confidence/high> .|\n",
            "|      <http://rdf.ebi.ac.uk/resource/ensembl/taxon#211598>|    <http://aging-research.group/resource/has_gene>|                          <http://rdf.ebi.ac.uk/resource/ensembl/ENSANIG00000000008>|<http://rdf.ebi.ac.uk/resource/ensembl/confidence/high> .|\n",
            "|    <http://aging-research.group/resource/Accipiter_nisus>|    <http://aging-research.group/resource/has_gene>|                          <http://rdf.ebi.ac.uk/resource/ensembl/ENSANIG00000000008>|<http://rdf.ebi.ac.uk/resource/ensembl/confidence/high> .|\n",
            "|<http://rdf.ebi.ac.uk/resource/ensembl/ENSANIG00000000008>|<http://rdf.ebi.ac.uk/resource/ensembl/has_biotype>|                              <http://rdf.ebi.ac.uk/resource/ensembl/biotype/coding>|<http://rdf.ebi.ac.uk/resource/ensembl/confidence/high> .|\n",
            "|      <http://rdf.ebi.ac.uk/resource/ensembl/taxon#211598>|    <http://aging-research.group/resource/has_gene>|                          <http://rdf.ebi.ac.uk/resource/ensembl/ENSANIG00000000009>|<http://rdf.ebi.ac.uk/resource/ensembl/confidence/high> .|\n",
            "|    <http://aging-research.group/resource/Accipiter_nisus>|    <http://aging-research.group/resource/has_gene>|                          <http://rdf.ebi.ac.uk/resource/ensembl/ENSANIG00000000009>|<http://rdf.ebi.ac.uk/resource/ensembl/confidence/high> .|\n",
            "|<http://rdf.ebi.ac.uk/resource/ensembl/ENSANIG00000000009>|       <http://www.w3.org/2000/01/rdf-schema#label>|                                                                             \"ATP9A\"|<http://rdf.ebi.ac.uk/resource/ensembl/confidence/high> .|\n",
            "|<http://rdf.ebi.ac.uk/resource/ensembl/ENSANIG00000000009>| <http://www.w3.org/2000/01/rdf-schema#description>|\"ATPase phospholipid transporting 9A (putative) [Source:HGNC Symbol;Acc:HGNC:13540]\"|<http://rdf.ebi.ac.uk/resource/ensembl/confidence/high> .|\n",
            "|<http://rdf.ebi.ac.uk/resource/ensembl/ENSANIG00000000009>|<http://rdf.ebi.ac.uk/resource/ensembl/has_biotype>|                              <http://rdf.ebi.ac.uk/resource/ensembl/biotype/coding>|<http://rdf.ebi.ac.uk/resource/ensembl/confidence/high> .|\n",
            "|      <http://rdf.ebi.ac.uk/resource/ensembl/taxon#211598>|    <http://aging-research.group/resource/has_gene>|                          <http://rdf.ebi.ac.uk/resource/ensembl/ENSANIG00000000010>|<http://rdf.ebi.ac.uk/resource/ensembl/confidence/high> .|\n",
            "|    <http://aging-research.group/resource/Accipiter_nisus>|    <http://aging-research.group/resource/has_gene>|                          <http://rdf.ebi.ac.uk/resource/ensembl/ENSANIG00000000010>|<http://rdf.ebi.ac.uk/resource/ensembl/confidence/high> .|\n",
            "|<http://rdf.ebi.ac.uk/resource/ensembl/ENSANIG00000000010>|<http://rdf.ebi.ac.uk/resource/ensembl/has_biotype>|                              <http://rdf.ebi.ac.uk/resource/ensembl/biotype/coding>|<http://rdf.ebi.ac.uk/resource/ensembl/confidence/high> .|\n",
            "|      <http://rdf.ebi.ac.uk/resource/ensembl/taxon#211598>|    <http://aging-research.group/resource/has_gene>|                          <http://rdf.ebi.ac.uk/resource/ensembl/ENSANIG00000000011>|<http://rdf.ebi.ac.uk/resource/ensembl/confidence/high> .|\n",
            "|    <http://aging-research.group/resource/Accipiter_nisus>|    <http://aging-research.group/resource/has_gene>|                          <http://rdf.ebi.ac.uk/resource/ensembl/ENSANIG00000000011>|<http://rdf.ebi.ac.uk/resource/ensembl/confidence/high> .|\n",
            "|<http://rdf.ebi.ac.uk/resource/ensembl/ENSANIG00000000011>|       <http://www.w3.org/2000/01/rdf-schema#label>|                                                                             \"ACER1\"|<http://rdf.ebi.ac.uk/resource/ensembl/confidence/high> .|\n",
            "|<http://rdf.ebi.ac.uk/resource/ensembl/ENSANIG00000000011>| <http://www.w3.org/2000/01/rdf-schema#description>|                         \"alkaline ceramidase 1 [Source:HGNC Symbol;Acc:HGNC:18356]\"|<http://rdf.ebi.ac.uk/resource/ensembl/confidence/high> .|\n",
            "|<http://rdf.ebi.ac.uk/resource/ensembl/ENSANIG00000000011>|<http://rdf.ebi.ac.uk/resource/ensembl/has_biotype>|                              <http://rdf.ebi.ac.uk/resource/ensembl/biotype/coding>|<http://rdf.ebi.ac.uk/resource/ensembl/confidence/high> .|\n",
            "+----------------------------------------------------------+---------------------------------------------------+------------------------------------------------------------------------------------+---------------------------------------------------------+\n",
            "only showing top 40 rows\n",
            "\n"
          ],
          "output_type" : "stream"
        }
      ]
    },
    {
      "cell_type" : "code",
      "execution_count" : 61,
      "metadata" : {
        "cell.metadata.exec_info" : {
          "startTs" : 1580844045362,
          "endTs" : 1580844120876
        },
        "language" : "scala"
      },
      "language" : "scala",
      "source" : [
        "\n",
        "genes_trs.writeTSV(\"/data/databases/graphdb/import/genes_lookup.nq\", header = false)"
      ],
      "outputs" : [
        {
          "name" : "stdout",
          "text" : [
            "parts of /data/databases/graphdb/import/genes_lookup.nt merged!\n"
          ],
          "output_type" : "stream"
        },
        {
          "execution_count" : 61,
          "data" : {
            "text/plain" : [
              "/data/databases/graphdb/import/genes_lookup.nt"
            ]
          },
          "metadata" : {
            "name" : "Out",
            "type" : "String"
          },
          "output_type" : "execute_result"
        }
      ]
    },
    {
      "cell_type" : "code",
      "execution_count" : 62,
      "metadata" : {
        "language" : "scala"
      },
      "language" : "scala",
      "source" : [
      ],
      "outputs" : [
      ]
    }
  ]
}