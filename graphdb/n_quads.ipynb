{
  "metadata" : {
    "config" : {
      "dependencies" : {
        "scala" : [
          "group.research.aging:spark-extensions_2.12:0.0.8.2"
        ]
      },
      "exclusions" : [
      ],
      "repositories" : [
        {
          "maven" : {
            "base" : "http://central.maven.org/maven2/"
          }
        },
        {
          "maven" : {
            "base" : "http://oss.sonatype.org/content/repositories/snapshots"
          }
        },
        {
          "maven" : {
            "base" : "https://dl.bintray.com/comp-bio-aging/main/"
          }
        }
      ],
      "sparkConfig" : {
        "master" : "http://spark:7070[28]"
      },
      "env" : {
        
      }
    },
    "language_info" : {
      "name" : "scala"
    }
  },
  "nbformat" : 4,
  "nbformat_minor" : 0,
  "cells" : [
    {
      "cell_type" : "markdown",
      "execution_count" : 0,
      "metadata" : {
        "language" : "text"
      },
      "language" : "text",
      "source" : [
        "# **n-quads**\n",
        "\n",
        "\n",
        "Saving data to graphdb<br>\n",
        "\n",
        "\n"
      ],
      "outputs" : [
      ]
    },
    {
      "cell_type" : "code",
      "execution_count" : 1,
      "metadata" : {
        "jupyter.outputs_hidden" : true,
        "cell.metadata.exec_info" : {
          "startTs" : 1591632698569,
          "endTs" : 1591632699104
        },
        "language" : "scala"
      },
      "language" : "scala",
      "source" : [
        "import org.apache.spark.rdd._\n",
        "import org.apache.spark.sql._\n",
        "import org.apache.spark.sql.types.StructType\n",
        "import org.apache.spark.sql.functions._\n",
        "import group.research.aging.spark.extensions._\n",
        "import group.research.aging.spark.extensions.functions._\n",
        "import group.research.aging.spark.extensions.functions.ConcatenateString\n",
        "import group.research.aging.spark.extensions.functions.Concatenate\n",
        "import ammonite.ops._\n",
        "import ammonite.ops.ImplicitWd._"
      ],
      "outputs" : [
      ]
    },
    {
      "cell_type" : "markdown",
      "execution_count" : 2,
      "metadata" : {
        "language" : "text"
      },
      "language" : "text",
      "source" : [
        "## Species loading\n",
        "\n"
      ],
      "outputs" : [
      ]
    },
    {
      "cell_type" : "code",
      "execution_count" : 3,
      "metadata" : {
        "cell.metadata.exec_info" : {
          "startTs" : 1591107816477,
          "endTs" : 1591107828905
        },
        "language" : "scala"
      },
      "language" : "scala",
      "source" : [
        "val species = spark.read.parquet(\"/data/ensembl/99/website/species_lookup.parquet\").na.fill(\"\")\n",
        "val species_n = species.select(species.columns.head,species.columns.tail.toList.dropRight(9):_*).as[(String, String, String, String, String, String, String, String, \n",
        "java.lang.Double, java.lang.Double,java.lang.Double, java.lang.Double, java.lang.Double, java.lang.Double, java.lang.Double, java.lang.Double, \n",
        "java.lang.Double, java.lang.Double,java.lang.Double, java.lang.Double, java.lang.Double, java.lang.Double)]\n",
        "\n",
        "species_n.show(10,10000)"
      ],
      "outputs" : [
        {
          "name" : "stdout",
          "text" : [
            "+----------+------------+-----------+--------------+-------------+------------+-----------------------+-----------------------+----------------+-----------+--------------+-----------+------------------+--------------+--------------------+------------------+-------+-----------+----------------+--------------------+--------------+----------------+\n",
            "|    phylum|       class|      order|        family|        genus|     species|        scientific_name|            common_name|maximum_lifespan|body_mass_g|metabolic_rate|temperature|temperature_kelvin|gestation_days|female_maturity_days|male_maturity_days|weaning|litter_size|litters_per_year|inter_birth_interval|birth_weight_g|weaning_weight_g|\n",
            "+----------+------------+-----------+--------------+-------------+------------+-----------------------+-----------------------+----------------+-----------+--------------+-----------+------------------+--------------+--------------------+------------------+-------+-----------+----------------+--------------------+--------------+----------------+\n",
            "|Arthropoda|Branchiopoda|Diplostraca|    Daphniidae|      Daphnia|   pulicaria|      Daphnia_pulicaria|                Daphnia|            0.19|       null|          null|       null|              null|          null|                null|              null|   null|       null|            null|                null|          null|            null|\n",
            "|Arthropoda|     Insecta|    Diptera| Drosophilidae|   Drosophila|melanogaster|Drosophila_melanogaster|              Fruit fly|             0.3|       null|          null|       null|              null|          null|                   7|                 7|   null|       null|            null|                null|          null|            null|\n",
            "|Arthropoda|     Insecta|Hymenoptera|        Apidae|         Apis|   mellifera|         Apis_mellifera|              Honey bee|             8.0|       null|          null|       null|              null|          null|                null|              null|   null|       null|            null|                null|          null|            null|\n",
            "|Arthropoda|     Insecta|Hymenoptera|    Formicidae|Cardiocondyla|   obscurior|Cardiocondyla_obscurior|Cardiocondyla obscurior|             0.5|       null|          null|       null|              null|          null|                null|              null|   null|       null|            null|                null|          null|            null|\n",
            "|Arthropoda|     Insecta|Hymenoptera|    Formicidae|       Lasius|       niger|           Lasius_niger|       Black garden ant|            28.0|       null|          null|       null|              null|          null|                null|              null|   null|       null|            null|                null|          null|            null|\n",
            "|Arthropoda|     Insecta|Hymenoptera|    Formicidae|     Pheidole|     dentata|       Pheidole_dentata|       Pheidole dentata|             0.4|       null|          null|       null|              null|          null|                null|              null|   null|       null|            null|                null|          null|            null|\n",
            "|Arthropoda|     Insecta|Lepidoptera|   Nymphalidae|     Bicyclus|     anynana|       Bicyclus_anynana|   Squinting bush brown|             0.5|       null|          null|       null|              null|          null|                  15|                15|   null|       null|            null|                null|          null|            null|\n",
            "|Arthropoda|Malacostraca|   Decapoda|   Nephropidae|      Homarus|  americanus|     Homarus_americanus|       American lobster|           100.0|       null|          null|       null|              null|          null|                null|              null|   null|       null|            null|                null|          null|            null|\n",
            "|  Chordata|    Amphibia|      Anura|Bombinatoridae|      Bombina|     bombina|        Bombina_bombina|         Firebelly toad|            20.0|       null|          null|       null|              null|          null|                1095|              1095|   null|      190.0|            null|                null|          null|            null|\n",
            "|  Chordata|    Amphibia|      Anura|Bombinatoridae|      Bombina|  orientalis|     Bombina_orientalis|Oriental firebelly toad|            15.8|       null|          null|       null|              null|          null|                null|              null|   null|      148.0|            null|                null|          null|            null|\n",
            "+----------+------------+-----------+--------------+-------------+------------+-----------------------+-----------------------+----------------+-----------+--------------+-----------+------------------+--------------+--------------------+------------------+-------+-----------+----------------+--------------------+--------------+----------------+\n",
            "only showing top 10 rows\n",
            "\n"
          ],
          "output_type" : "stream"
        }
      ]
    },
    {
      "cell_type" : "markdown",
      "execution_count" : 4,
      "metadata" : {
        "language" : "text"
      },
      "language" : "text",
      "source" : [
        "### Quads/triples functions\n",
        "\n",
        "\n"
      ],
      "outputs" : [
      ]
    },
    {
      "cell_type" : "code",
      "execution_count" : 5,
      "metadata" : {
        "cell.metadata.exec_info" : {
          "startTs" : 1591632699132,
          "endTs" : 1591632699654
        },
        "language" : "scala"
      },
      "language" : "scala",
      "source" : [
        "val prefix = \"http://aging-research.group/resource/\"\n",
        "val prefix_ensembl = \"http://rdf.ebi.ac.uk/resource/ensembl/\"\n",
        "val prefix_samples = \"http://aging-research.group/samples/\"\n",
        "def samp(str: String) = \"<\" +prefix_samples +str.replace(\" \", \"_\")+\">\"\n",
        "def pref(str: String) = \"<\" +prefix +str.replace(\" \", \"_\")+\">\" \n",
        "def ens(str: String) =  \"<\" +prefix_ensembl +str.replace(\" \", \"_\")+\">\"\n",
        "def tax(str: String) = ens(\"taxon#\"+str)\n",
        "def str(s: String) = if(s==null) \"\" else s\"\"\"\"${s.replace(\"\\\"\", \"\\\\\\\"\")}\"\"\"\""
      ],
      "outputs" : [
      ]
    },
    {
      "cell_type" : "code",
      "execution_count" : 6,
      "metadata" : {
        "cell.metadata.exec_info" : {
          "startTs" : 1591632699720,
          "endTs" : 1591632700082
        },
        "language" : "scala"
      },
      "language" : "scala",
      "source" : [
        "def trip(s: String, p: String, o: String):List[(String, String, String, String)] = if(s==null || p == null || o == null ||\n",
        " s == \"\" ||  p == \"\" || o == \"\" || o==\"\\\\N\" || o.startsWith(\"\\\"\\\\N\\\"\") || s == \"\\\\N\" || s == \"\\\"\\\\N\\\"\") Nil else List((s,p,o, \"<\" + \"http://rdf.ebi.ac.uk/resource/ensembl/confidence/high\" + \"> .\"))\n",
        "def trip_sp(s: String, p: String, o: Any):List[(String, String, String, String)] = {\n",
        "  if(o == null) Nil else  trip(pref(s),pref(p), o.toString) \n",
        "}\n",
        "/*\n",
        "def sp(taxon_id: java.lang.Integer, scientific_name: String)(p: String, o: Any) = if(taxon_id==null || o == null) Nil else {\n",
        "      trip(tax(taxon_id.toString), pref(p), o.toString)++\n",
        "        trip(pref(scientific_name),pref(p), o.toString) \n",
        "}*/"
      ],
      "outputs" : [
      ]
    },
    {
      "cell_type" : "code",
      "execution_count" : 7,
      "metadata" : {
        "cell.metadata.exec_info" : {
          "startTs" : 1591374703730,
          "endTs" : 1591374703991
        },
        "language" : "scala"
      },
      "language" : "scala",
      "source" : [
        "val trs = species_n.flatMap{\n",
        "    case (phylum, animal_class, order, family, genus, species, scientific_name, common_name, maximum_lifespan, \n",
        "    body_mass_g, metabolic_rate, temperature, temperature_kelvin, \n",
        "    gestation_days, female_maturity_days, male_maturity_days, weaning, litter_size, litters_per_year, \n",
        "    inter_birth_interval, birth_weight_g, weaning_weight_g) =>\n",
        "        //trip(pref(scientific_name),pref(\"has_taxon\"), tax(taxon_id.toString))++\n",
        "        trip_sp(scientific_name,\"has_common_name\", str(common_name))++\n",
        "        trip_sp(scientific_name,\"has_lifespan\", maximum_lifespan)++\n",
        "        trip_sp(scientific_name,\"has_temperature\", temperature)++        \n",
        "        trip_sp(scientific_name,\"has_temperature_kelvin\", temperature_kelvin)++\n",
        "        trip_sp(scientific_name,\"has_mass_g\", body_mass_g) ++\n",
        "        trip_sp(scientific_name,\"has_metabolic_rate\", metabolic_rate) ++\n",
        "        trip_sp(scientific_name,\"is_animal_class\", ens(animal_class)) ++\n",
        "        //trip_sp(scientific_name,\"has_ensembl_url\", \"<\"+url+\">\") ++\n",
        "        trip_sp(scientific_name,\"has_gestation_days\", gestation_days)++\n",
        "        trip_sp(scientific_name,\"has_female_maturity_days\", female_maturity_days)++ \n",
        "        trip_sp(scientific_name,\"has_male_maturity_days\", male_maturity_days)++\n",
        "        trip_sp(scientific_name,\"has_weaning\", weaning)++\n",
        "        trip_sp(scientific_name,\"has_litter_size\", litter_size)++ \n",
        "        trip_sp(scientific_name,\"has_litters_per_year\", litters_per_year)++ \n",
        "        trip_sp(scientific_name,\"has_inter_birth_interval\", inter_birth_interval)++ \n",
        "        trip_sp(scientific_name,\"has_birth_weight_g\", birth_weight_g)++\n",
        "        trip_sp(scientific_name,\"weaning_weight_g\", weaning_weight_g)++\n",
        "        Nil\n",
        "}.toDF(\"subject\", \"property\", \"object\", \"context\")\n",
        "trs.show(100,1000)"
      ],
      "outputs" : [
        {
          "execution_count" : 7,
          "data" : {
            "application/json" : [
              {
                "pos" : {
                  "sourceId" : "Cell7",
                  "start" : 10,
                  "end" : 19,
                  "point" : 10
                },
                "msg" : "not found: value species_n",
                "severity" : 2
              },
              {
                "pos" : {
                  "sourceId" : "Cell7",
                  "start" : 472,
                  "end" : 487,
                  "point" : 472
                },
                "msg" : "type mismatch;\n found   : Any\n required: String",
                "severity" : 2
              },
              {
                "pos" : {
                  "sourceId" : "Cell7",
                  "start" : 511,
                  "end" : 522,
                  "point" : 511
                },
                "msg" : "type mismatch;\n found   : Any\n required: String",
                "severity" : 2
              },
              {
                "pos" : {
                  "sourceId" : "Cell7",
                  "start" : 543,
                  "end" : 558,
                  "point" : 543
                },
                "msg" : "type mismatch;\n found   : Any\n required: String",
                "severity" : 2
              },
              {
                "pos" : {
                  "sourceId" : "Cell7",
                  "start" : 611,
                  "end" : 626,
                  "point" : 611
                },
                "msg" : "type mismatch;\n found   : Any\n required: String",
                "severity" : 2
              },
              {
                "pos" : {
                  "sourceId" : "Cell7",
                  "start" : 685,
                  "end" : 700,
                  "point" : 685
                },
                "msg" : "type mismatch;\n found   : Any\n required: String",
                "severity" : 2
              },
              {
                "pos" : {
                  "sourceId" : "Cell7",
                  "start" : 765,
                  "end" : 780,
                  "point" : 765
                },
                "msg" : "type mismatch;\n found   : Any\n required: String",
                "severity" : 2
              },
              {
                "pos" : {
                  "sourceId" : "Cell7",
                  "start" : 827,
                  "end" : 842,
                  "point" : 827
                },
                "msg" : "type mismatch;\n found   : Any\n required: String",
                "severity" : 2
              },
              {
                "pos" : {
                  "sourceId" : "Cell7",
                  "start" : 900,
                  "end" : 915,
                  "point" : 900
                },
                "msg" : "type mismatch;\n found   : Any\n required: String",
                "severity" : 2
              },
              {
                "pos" : {
                  "sourceId" : "Cell7",
                  "start" : 939,
                  "end" : 951,
                  "point" : 939
                },
                "msg" : "type mismatch;\n found   : Any\n required: String",
                "severity" : 2
              },
              {
                "pos" : {
                  "sourceId" : "Cell7",
                  "start" : 1042,
                  "end" : 1057,
                  "point" : 1042
                },
                "msg" : "type mismatch;\n found   : Any\n required: String",
                "severity" : 2
              },
              {
                "pos" : {
                  "sourceId" : "Cell7",
                  "start" : 1114,
                  "end" : 1129,
                  "point" : 1114
                },
                "msg" : "type mismatch;\n found   : Any\n required: String",
                "severity" : 2
              },
              {
                "pos" : {
                  "sourceId" : "Cell7",
                  "start" : 1199,
                  "end" : 1214,
                  "point" : 1199
                },
                "msg" : "type mismatch;\n found   : Any\n required: String",
                "severity" : 2
              },
              {
                "pos" : {
                  "sourceId" : "Cell7",
                  "start" : 1279,
                  "end" : 1294,
                  "point" : 1279
                },
                "msg" : "type mismatch;\n found   : Any\n required: String",
                "severity" : 2
              },
              {
                "pos" : {
                  "sourceId" : "Cell7",
                  "start" : 1337,
                  "end" : 1352,
                  "point" : 1337
                },
                "msg" : "type mismatch;\n found   : Any\n required: String",
                "severity" : 2
              },
              {
                "pos" : {
                  "sourceId" : "Cell7",
                  "start" : 1404,
                  "end" : 1419,
                  "point" : 1404
                },
                "msg" : "type mismatch;\n found   : Any\n required: String",
                "severity" : 2
              },
              {
                "pos" : {
                  "sourceId" : "Cell7",
                  "start" : 1481,
                  "end" : 1496,
                  "point" : 1481
                },
                "msg" : "type mismatch;\n found   : Any\n required: String",
                "severity" : 2
              },
              {
                "pos" : {
                  "sourceId" : "Cell7",
                  "start" : 1566,
                  "end" : 1581,
                  "point" : 1566
                },
                "msg" : "type mismatch;\n found   : Any\n required: String",
                "severity" : 2
              },
              {
                "pos" : {
                  "sourceId" : "Cell7",
                  "start" : 1638,
                  "end" : 1653,
                  "point" : 1638
                },
                "msg" : "type mismatch;\n found   : Any\n required: String",
                "severity" : 2
              }
            ],
            "text/plain" : [
              "Error: not found: value species_n (10)",
              "Error: type mismatch;\n found   : Any\n required: String (472)",
              "Error: type mismatch;\n found   : Any\n required: String (511)",
              "Error: type mismatch;\n found   : Any\n required: String (543)",
              "Error: type mismatch;\n found   : Any\n required: String (611)",
              "Error: type mismatch;\n found   : Any\n required: String (685)",
              "Error: type mismatch;\n found   : Any\n required: String (765)",
              "Error: type mismatch;\n found   : Any\n required: String (827)",
              "Error: type mismatch;\n found   : Any\n required: String (900)",
              "Error: type mismatch;\n found   : Any\n required: String (939)",
              "Error: type mismatch;\n found   : Any\n required: String (1042)",
              "Error: type mismatch;\n found   : Any\n required: String (1114)",
              "Error: type mismatch;\n found   : Any\n required: String (1199)",
              "Error: type mismatch;\n found   : Any\n required: String (1279)",
              "Error: type mismatch;\n found   : Any\n required: String (1337)",
              "Error: type mismatch;\n found   : Any\n required: String (1404)",
              "Error: type mismatch;\n found   : Any\n required: String (1481)",
              "Error: type mismatch;\n found   : Any\n required: String (1566)",
              "Error: type mismatch;\n found   : Any\n required: String (1638)"
            ]
          },
          "metadata" : {
            "rel" : "compiler_errors"
          },
          "output_type" : "execute_result"
        }
      ]
    },
    {
      "cell_type" : "code",
      "execution_count" : 8,
      "metadata" : {
        "cell.metadata.exec_info" : {
          "startTs" : 1591103803810,
          "endTs" : 1591103804683
        },
        "language" : "scala"
      },
      "language" : "scala",
      "source" : [
        "trs.writeTSV(\"/data/databases/graphdb/import/species_up.nq\", false)"
      ],
      "outputs" : [
        {
          "name" : "stdout",
          "text" : [
            "parts of /data/databases/graphdb/import/species_up.nq merged!\n"
          ],
          "output_type" : "stream"
        },
        {
          "execution_count" : 8,
          "data" : {
            "text/plain" : [
              "/data/databases/graphdb/import/species_up.nq"
            ]
          },
          "metadata" : {
            "name" : "Out",
            "type" : "String"
          },
          "output_type" : "execute_result"
        }
      ]
    },
    {
      "cell_type" : "markdown",
      "execution_count" : 9,
      "metadata" : {
        "language" : "text"
      },
      "language" : "text",
      "source" : [
        "# Writing samples<br>\n",
        "\n",
        "\n"
      ],
      "outputs" : [
      ]
    },
    {
      "cell_type" : "code",
      "execution_count" : 10,
      "metadata" : {
        "cell.metadata.exec_info" : {
          "startTs" : 1591376232579,
          "endTs" : 1591376233345
        },
        "language" : "scala"
      },
      "language" : "scala",
      "source" : [
        "val samples = spark.readTSV(\"/data/samples/species/samples_index.tsv\", header=true).na.fill(\"N/A\")\n",
        "  .where($\"index\" =!= \"N/A\")\n",
        "  .where($\"library_strategy\" === \"RNA-Seq\")\n",
        "  .sort($\"organism\".desc, $\"library_layout\")\n",
        "samples.show(10, 10000)"
      ],
      "outputs" : [
        {
          "name" : "stdout",
          "text" : [
            "+-----------+-----------+----------+----------------------+-----+------------+-------------------+----------------+--------------+-----------------+---------+---------------------------------------------------------------------------------------------------+----------------------------------------------------------------------------------------------------------------------------------------------------------------------------------------------------------------------------------------------------------------------------------------------------------------------------------------------------------------------------------------------------------------------------------------------------------------------------------------------------------------------------------------------------------------------------------------------------+------+----------------+----+-----+--------+--------------+--------------------------------------------+-----------------------------------------------------------------------------------------------------------+-----------------------------------------------------------------------------------------------------------------+---------------------------------------------------------------------------------------------+--------------+-------+-------------+-----------------------+\n",
            "| bioproject|     series|       run|              organism|taxid| sample_name|          sequencer|library_strategy|library_layout|library_selection|    study|                                                                                        study_title|                                                                                                                                                                                                                                                                                                                                                                                                                                                                                                                                                                                     characteristics|source|             age| sex|tumor|protocol|salmon_version|                                       index|                                                                                                      genes|                                                                                                      transcripts|                                                                                        quant|percent_mapped|libType|numBootstraps|               modified|\n",
            "+-----------+-----------+----------+----------------------+-----+------------+-------------------+----------------+--------------+-----------------+---------+---------------------------------------------------------------------------------------------------+----------------------------------------------------------------------------------------------------------------------------------------------------------------------------------------------------------------------------------------------------------------------------------------------------------------------------------------------------------------------------------------------------------------------------------------------------------------------------------------------------------------------------------------------------------------------------------------------------+------+----------------+----+-----+--------+--------------+--------------------------------------------+-----------------------------------------------------------------------------------------------------------+-----------------------------------------------------------------------------------------------------------------+---------------------------------------------------------------------------------------------+--------------+-------+-------------+-----------------------+\n",
            "|PRJNA217789|PRJNA217789| SRR960570|Zonotrichia albicollis|44394|      10-308|Illumina HiSeq 2000|         RNA-Seq|        SINGLE|             cDNA|SRP029385|                                            Zonotrichia albicollis Transcriptome or Gene expression|                                                                                                                                                                                                                                                                                                                                                                                                                                                                                     'Tumor:no;strain:tan;age:adult;sex:male;isolate_label:1;collection_date:21-Apr-2010;tissue_type:brain;'Sex:male|   N/A|           adult|male|   no|     N/A|         1.1.0|     Zonotrichia_albicollis-1.0.1_ensembl_99|  /data/samples/species/PRJNA217789/SRX342288/SRR960570/PRJNA217789_SRX342288_SRR960570_genes_abundance.tsv|  /data/samples/species/PRJNA217789/SRX342288/SRR960570/PRJNA217789_SRX342288_SRR960570_transcripts_abundance.tsv|  /data/samples/species/PRJNA217789/SRX342288/SRR960570/quant_PRJNA217789_SRX342288_SRR960570|           N/A|      A|           96| 2020-02-29 07:28:04.41|\n",
            "|PRJNA231930|PRJNA231930|SRR1200896|Zonotrichia albicollis|44394|       WS719|Illumina HiSeq 1000|         RNA-Seq|        SINGLE|            PolyA|SRP040426|The Brain Transcriptome of the White-throated Sparrow, a Vertebrate Model of Inversion Polymorphism|                                                                                                                                                                                                                                                                                                'Tumor:no;sample_type:tissue;genotype:ZAL2/2m, 3a/3a;geo_loc_name:USA: DeKalb County, GA;capture_date:06-Nov-2006;photostimulation_date:09-Jul-2007;age:adult hatch-year;sex:male;common name:White-throated sparrow;phenotype:white-striped;collection_date:19-Aug-2007;tissue_type:brain;'Sex:male|   N/A|adult hatch-year|male|   no|     N/A|         1.1.0|     Zonotrichia_albicollis-1.0.1_ensembl_99|/data/samples/species/PRJNA231930/SRX497634/SRR1200896/PRJNA231930_SRX497634_SRR1200896_genes_abundance.tsv|/data/samples/species/PRJNA231930/SRX497634/SRR1200896/PRJNA231930_SRX497634_SRR1200896_transcripts_abundance.tsv|/data/samples/species/PRJNA231930/SRX497634/SRR1200896/quant_PRJNA231930_SRX497634_SRR1200896|           N/A|      A|           96|2020-02-29 07:37:42.513|\n",
            "|PRJNA217789|PRJNA217789| SRR960573|Zonotrichia albicollis|44394|      10-124|Illumina HiSeq 2000|         RNA-Seq|        SINGLE|             cDNA|SRP029385|                                            Zonotrichia albicollis Transcriptome or Gene expression|                                                                                                                                                                                                                                                                                                                                                                                                                                                                                     'Tumor:no;strain:tan;age:adult;sex:male;isolate_label:5;collection_date:29-Apr-2010;tissue_type:brain;'Sex:male|   N/A|           adult|male|   no|     N/A|         1.1.0|     Zonotrichia_albicollis-1.0.1_ensembl_99|  /data/samples/species/PRJNA217789/SRX342292/SRR960573/PRJNA217789_SRX342292_SRR960573_genes_abundance.tsv|  /data/samples/species/PRJNA217789/SRX342292/SRR960573/PRJNA217789_SRX342292_SRR960573_transcripts_abundance.tsv|  /data/samples/species/PRJNA217789/SRX342292/SRR960573/quant_PRJNA217789_SRX342292_SRR960573|           N/A|      A|           96|2020-02-29 06:19:31.866|\n",
            "|PRJNA217789|PRJNA217789| SRR960568|Zonotrichia albicollis|44394|      10-118|Illumina HiSeq 2000|         RNA-Seq|        SINGLE|             cDNA|SRP029385|                                            Zonotrichia albicollis Transcriptome or Gene expression|                                                                                                                                                                                                                                                                                                                                                                                                                                                                                     'Tumor:no;strain:tan;age:adult;sex:male;isolate_label:6;collection_date:28-Apr-2010;tissue_type:brain;'Sex:male|   N/A|           adult|male|   no|     N/A|         1.1.0|     Zonotrichia_albicollis-1.0.1_ensembl_99|  /data/samples/species/PRJNA217789/SRX342293/SRR960568/PRJNA217789_SRX342293_SRR960568_genes_abundance.tsv|  /data/samples/species/PRJNA217789/SRX342293/SRR960568/PRJNA217789_SRX342293_SRR960568_transcripts_abundance.tsv|  /data/samples/species/PRJNA217789/SRX342293/SRR960568/quant_PRJNA217789_SRX342293_SRR960568|           N/A|      A|          128| 2020-02-20 15:06:18.63|\n",
            "|PRJNA217789|PRJNA217789| SRR960571|Zonotrichia albicollis|44394|      10-092|Illumina HiSeq 2000|         RNA-Seq|        SINGLE|             cDNA|SRP029385|                                            Zonotrichia albicollis Transcriptome or Gene expression|                                                                                                                                                                                                                                                                                                                                                                                                                                                                                   'Tumor:no;strain:white;age:adult;sex:male;isolate_label:3;collection_date:24-Apr-2010;tissue_type:brain;'Sex:male|   N/A|           adult|male|   no|     N/A|         1.1.0|     Zonotrichia_albicollis-1.0.1_ensembl_99|  /data/samples/species/PRJNA217789/SRX342290/SRR960571/PRJNA217789_SRX342290_SRR960571_genes_abundance.tsv|  /data/samples/species/PRJNA217789/SRX342290/SRR960571/PRJNA217789_SRX342290_SRR960571_transcripts_abundance.tsv|  /data/samples/species/PRJNA217789/SRX342290/SRR960571/quant_PRJNA217789_SRX342290_SRR960571|           N/A|      A|          128|2020-02-19 19:27:44.064|\n",
            "|PRJNA231930|PRJNA231930|SRR1200897|Zonotrichia albicollis|44394|       WS955|Illumina HiSeq 1000|         RNA-Seq|        SINGLE|            PolyA|SRP040426|The Brain Transcriptome of the White-throated Sparrow, a Vertebrate Model of Inversion Polymorphism|                                                                                                                                                                                                                                                                                               'Tumor:no;sample_type:tissue;genotype:ZAL2/2m, 3a/3a;geo_loc_name:USA: Hancock County, GA;capture_date:07-Dec-2009;photostimulation_date:08-Feb-2010;age:adult hatch-year;sex:male;common name:White-throated sparrow;phenotype:white-striped;collection_date:18-Mar-2010;tissue_type:brain;'Sex:male|   N/A|adult hatch-year|male|   no|     N/A|         1.1.0|     Zonotrichia_albicollis-1.0.1_ensembl_99|/data/samples/species/PRJNA231930/SRX497602/SRR1200897/PRJNA231930_SRX497602_SRR1200897_genes_abundance.tsv|/data/samples/species/PRJNA231930/SRX497602/SRR1200897/PRJNA231930_SRX497602_SRR1200897_transcripts_abundance.tsv|/data/samples/species/PRJNA231930/SRX497602/SRR1200897/quant_PRJNA231930_SRX497602_SRR1200897|           N/A|      A|           96|2020-03-18 00:35:55.752|\n",
            "| PRJEB27887| PRJEB27887|ERR2716205|      Vombatus ursinus|29139|SAMEA4802532|Illumina HiSeq 4000|         RNA-Seq|        PAIRED|             cDNA|ERP110024|                                                        Transcriptome assembly of bare-nosed wombat|Alias:WM1_liver;INSDC center alias:MRC Institute of Genetics and Molecular Medicine, University of Edinburgh;Title:WM1_liver;identified_by:Scott Carver;geographic location (region and locality):Tasmania;collected_by:University of Tasmania;INSDC last update:2018-07-24T14:43:43Z;INSDC center name:MRC Institute of Genetics and Molecular Medicine, University of Edinburgh;INSDC first public:2018-08-03T17:03:05Z;ENA checklist:ERC000011;Sample Name:ERS2622447;SRA accession:ERS2622447;INSDC status:public;geographic location (country and/or sea):Australia;tissue_type:liver;'Tumor:no|   N/A|             N/A| N/A|   no|     N/A|         1.2.1|bare-nosed_wombat_genome_assembly_ensembl_99|/data/samples/species/PRJEB27887/ERX2730368/ERR2716205/PRJEB27887_ERX2730368_ERR2716205_genes_abundance.tsv|/data/samples/species/PRJEB27887/ERX2730368/ERR2716205/PRJEB27887_ERX2730368_ERR2716205_transcripts_abundance.tsv|/data/samples/species/PRJEB27887/ERX2730368/ERR2716205/quant_PRJEB27887_ERX2730368_ERR2716205|           N/A|      A|           96|2020-06-01 19:27:48.204|\n",
            "| PRJEB27887| PRJEB27887|ERR2716206|      Vombatus ursinus|29139|SAMEA4802532|Illumina HiSeq 4000|         RNA-Seq|        PAIRED|             cDNA|ERP110024|                                                        Transcriptome assembly of bare-nosed wombat|Alias:WM1_liver;INSDC center alias:MRC Institute of Genetics and Molecular Medicine, University of Edinburgh;Title:WM1_liver;identified_by:Scott Carver;geographic location (region and locality):Tasmania;collected_by:University of Tasmania;INSDC last update:2018-07-24T14:43:43Z;INSDC center name:MRC Institute of Genetics and Molecular Medicine, University of Edinburgh;INSDC first public:2018-08-03T17:03:05Z;ENA checklist:ERC000011;Sample Name:ERS2622447;SRA accession:ERS2622447;INSDC status:public;geographic location (country and/or sea):Australia;tissue_type:liver;'Tumor:no|   N/A|             N/A| N/A|   no|     N/A|         1.2.1|bare-nosed_wombat_genome_assembly_ensembl_99|/data/samples/species/PRJEB27887/ERX2730369/ERR2716206/PRJEB27887_ERX2730369_ERR2716206_genes_abundance.tsv|/data/samples/species/PRJEB27887/ERX2730369/ERR2716206/PRJEB27887_ERX2730369_ERR2716206_transcripts_abundance.tsv|/data/samples/species/PRJEB27887/ERX2730369/ERR2716206/quant_PRJEB27887_ERX2730369_ERR2716206|           N/A|      A|           96|2020-06-01 18:00:32.582|\n",
            "| PRJEB27887| PRJEB27887|ERR2716207|      Vombatus ursinus|29139|SAMEA4802527|Illumina HiSeq 4000|         RNA-Seq|        PAIRED|             cDNA|ERP110024|                                                        Transcriptome assembly of bare-nosed wombat|   Alias:WM1_lung;INSDC center alias:MRC Institute of Genetics and Molecular Medicine, University of Edinburgh;Title:WM1_lung;identified_by:Scott Carver;geographic location (region and locality):Tasmania;collected_by:University of Tasmania;INSDC last update:2018-07-24T14:33:22Z;INSDC center name:MRC Institute of Genetics and Molecular Medicine, University of Edinburgh;INSDC first public:2018-08-03T17:03:05Z;ENA checklist:ERC000011;Sample Name:ERS2622442;SRA accession:ERS2622442;INSDC status:public;geographic location (country and/or sea):Australia;tissue_type:lung;'Tumor:no|   N/A|             N/A| N/A|   no|     N/A|         1.2.1|bare-nosed_wombat_genome_assembly_ensembl_99|/data/samples/species/PRJEB27887/ERX2730370/ERR2716207/PRJEB27887_ERX2730370_ERR2716207_genes_abundance.tsv|/data/samples/species/PRJEB27887/ERX2730370/ERR2716207/PRJEB27887_ERX2730370_ERR2716207_transcripts_abundance.tsv|/data/samples/species/PRJEB27887/ERX2730370/ERR2716207/quant_PRJEB27887_ERX2730370_ERR2716207|           N/A|      A|           96|2020-06-01 18:35:42.891|\n",
            "| PRJEB27887| PRJEB27887|ERR2716208|      Vombatus ursinus|29139|SAMEA4802527|Illumina HiSeq 4000|         RNA-Seq|        PAIRED|             cDNA|ERP110024|                                                        Transcriptome assembly of bare-nosed wombat|   Alias:WM1_lung;INSDC center alias:MRC Institute of Genetics and Molecular Medicine, University of Edinburgh;Title:WM1_lung;identified_by:Scott Carver;geographic location (region and locality):Tasmania;collected_by:University of Tasmania;INSDC last update:2018-07-24T14:33:22Z;INSDC center name:MRC Institute of Genetics and Molecular Medicine, University of Edinburgh;INSDC first public:2018-08-03T17:03:05Z;ENA checklist:ERC000011;Sample Name:ERS2622442;SRA accession:ERS2622442;INSDC status:public;geographic location (country and/or sea):Australia;tissue_type:lung;'Tumor:no|   N/A|             N/A| N/A|   no|     N/A|         1.2.1|bare-nosed_wombat_genome_assembly_ensembl_99|/data/samples/species/PRJEB27887/ERX2730371/ERR2716208/PRJEB27887_ERX2730371_ERR2716208_genes_abundance.tsv|/data/samples/species/PRJEB27887/ERX2730371/ERR2716208/PRJEB27887_ERX2730371_ERR2716208_transcripts_abundance.tsv|/data/samples/species/PRJEB27887/ERX2730371/ERR2716208/quant_PRJEB27887_ERX2730371_ERR2716208|           N/A|      A|           96|2020-06-01 19:58:18.604|\n",
            "+-----------+-----------+----------+----------------------+-----+------------+-------------------+----------------+--------------+-----------------+---------+---------------------------------------------------------------------------------------------------+----------------------------------------------------------------------------------------------------------------------------------------------------------------------------------------------------------------------------------------------------------------------------------------------------------------------------------------------------------------------------------------------------------------------------------------------------------------------------------------------------------------------------------------------------------------------------------------------------+------+----------------+----+-----+--------+--------------+--------------------------------------------+-----------------------------------------------------------------------------------------------------------+-----------------------------------------------------------------------------------------------------------------+---------------------------------------------------------------------------------------------+--------------+-------+-------------+-----------------------+\n",
            "only showing top 10 rows\n",
            "\n"
          ],
          "output_type" : "stream"
        }
      ]
    },
    {
      "cell_type" : "code",
      "execution_count" : 11,
      "metadata" : {
        "cell.metadata.exec_info" : {
          "startTs" : 1591376234546,
          "endTs" : 1591376235406
        },
        "language" : "scala"
      },
      "language" : "scala",
      "source" : [
        "samples.count() //727"
      ],
      "outputs" : [
        {
          "execution_count" : 11,
          "data" : {
            "text/plain" : [
              "797"
            ]
          },
          "metadata" : {
            "name" : "Out",
            "type" : "Long"
          },
          "output_type" : "execute_result"
        }
      ]
    },
    {
      "cell_type" : "code",
      "execution_count" : 12,
      "metadata" : {
        "cell.metadata.exec_info" : {
          "startTs" : 1591376353515,
          "endTs" : 1591376355344
        },
        "language" : "scala"
      },
      "language" : "scala",
      "source" : [
        "val old = spark.readTSV(\"/data/samples/species/samples_index_old.tsv\", header=true).na.fill(\"N/A\")\n",
        "  .where($\"index\" =!= \"N/A\")\n",
        "  .where($\"library_strategy\" === \"RNA-Seq\")\n",
        "  .sort($\"organism\".desc, $\"library_layout\")\n",
        "val diff = samples.join(old.select(\"run\"), Seq(\"run\"), \"left_anti\")\n",
        "diff.count()"
      ],
      "outputs" : [
        {
          "execution_count" : 12,
          "data" : {
            "text/plain" : [
              "69"
            ]
          },
          "metadata" : {
            "name" : "Out",
            "type" : "Long"
          },
          "output_type" : "execute_result"
        }
      ]
    },
    {
      "cell_type" : "code",
      "execution_count" : 13,
      "metadata" : {
        "cell.metadata.exec_info" : {
          "startTs" : 1591633220346,
          "endTs" : 1591633220550
        },
        "language" : "scala"
      },
      "language" : "scala",
      "source" : [
        "val bioproject_prefix = \"https://www.ncbi.nlm.nih.gov/bioproject/\"\n",
        "val experiment_prefix = \"https://www.ncbi.nlm.nih.gov/geo/query/acc.cgi?acc=\"\n",
        "val sra_prefix = \"https://www.ncbi.nlm.nih.gov/sra/\"\n",
        "\n",
        "def bioproject(str: String) = s\"<${bioproject_prefix}${str}>\"\n",
        "def experiment(str: String) = if(str.contains(\"GSE\")) s\"<${experiment_prefix}$str>\" else bioproject(str)\n",
        "def run(str: String) = s\"<${experiment_prefix}${str}>\"\n",
        "val has_experiment = pref(\"has_experiment\")\n",
        "val has_run = pref(\"has_run\")\n",
        "val has_sample_name = pref(\"has_sample_name\")\n",
        "val has_experiments = pref(\"has_experiment\")\n"
      ],
      "outputs" : [
      ]
    },
    {
      "cell_type" : "code",
      "execution_count" : 14,
      "metadata" : {
        "cell.metadata.exec_info" : {
          "startTs" : 1591633217710,
          "endTs" : 1591633217819
        },
        "language" : "scala"
      },
      "language" : "scala",
      "source" : [
        "def pre(prefix: String, str: String) = \n",
        "    if(prefix.startsWith(\"xsd:\")) s\"\"\"\"$str\"^^$prefix\"\"\"\" else\n",
        "    if(prefix.contains(\"http\")) \"<\" + prefix + str + \">\" else     \n",
        "    prefix + str//sequence_memberssequence_membersse"
      ],
      "outputs" : [
      ]
    },
    {
      "cell_type" : "code",
      "execution_count" : 15,
      "metadata" : {
        "cell.metadata.exec_info" : {
          "startTs" : 1591633216332,
          "endTs" : 1591633217617
        },
        "language" : "scala"
      },
      "language" : "scala",
      "source" : [
        "def u_uri(pref: String) = udf[String, String]{ str => pref + str.replace(\" \", \"_\")}\n",
        "val u_string = udf[String, String]{ str => \"\\\"\" + str.replace(\"\\n\", \"\\\\n\").replace(\"\\\\\", \"\\\\\\\\\").replace(\"\\\"\", \"\\\\\\\"\") +  \"\\\"\" +\"^^<http://www.w3.org/2001/XMLSchema#string>\" }\n",
        "val u_double = udf[String, String]{ str => \"\\\"\" + str +  \"\\\"\" +\"^^<http://www.w3.org/2001/XMLSchema#double>\" }\n",
        "val u_integer= udf[String, String]{ str => \"\\\"\" + str +  \"\\\"\" +\"^^<http://www.w3.org/2001/XMLSchema#integer>\" }\n",
        "val u_exp = udf[String, String]{ str => if(str.contains(\"GSE\")) s\"<https://www.ncbi.nlm.nih.gov/geo/query/acc.cgi?acc=$str>\" else  s\"<https://www.ncbi.nlm.nih.gov/bioproject/${str}>\"}\n",
        "val u_study = udf[String, String]{  str => s\"<https://trace.ncbi.nlm.nih.gov/Traces/sra/?study=${str.replace(\" \", \"_\")}>\" }\n",
        "val u_ens = udf[String, String] { str => s\"<http://rdf.ebi.ac.uk/resource/ensembl/${str.replace(\" \", \"_\")}>\" }\n",
        "val u_samples = udf[String, String] { str => s\"<http://aging-research.group/samples/${str.replace(\" \", \"_\")}>\" }\n",
        "val u_base = udf[String, String] { str => s\"<http://aging-research.group/resource/${str.replace(\" \", \"_\")}>\" }\n",
        "val u_run = udf[String, String] { str => s\"<https://www.ncbi.nlm.nih.gov/sra/${str.replace(\" \", \"_\")}>\" }"
      ],
      "outputs" : [
      ]
    },
    {
      "cell_type" : "code",
      "execution_count" : 16,
      "metadata" : {
        "cell.metadata.exec_info" : {
          "startTs" : 1591376372919,
          "endTs" : 1591376373191
        },
        "language" : "scala"
      },
      "language" : "scala",
      "source" : [
        "genericArrayOps(samples.columns).toList.map(l=>\"\\\"\" + l + \"\\\"\").mkString(\"[\",\",\", \"]\")"
      ],
      "outputs" : [
        {
          "execution_count" : 16,
          "data" : {
            "text/plain" : [
              "[\"bioproject\",\"series\",\"run\",\"organism\",\"taxid\",\"sample_name\",\"sequencer\",\"library_strategy\",\"library_layout\",\"library_selection\",\"study\",\"study_title\",\"characteristics\",\"source\",\"age\",\"sex\",\"tumor\",\"protocol\",\"salmon_version\",\"index\",\"genes\",\"transcript"
            ]
          },
          "metadata" : {
            "name" : "Out",
            "type" : "String"
          },
          "output_type" : "execute_result"
        }
      ]
    },
    {
      "cell_type" : "code",
      "execution_count" : 17,
      "metadata" : {
        "cell.metadata.exec_info" : {
          "startTs" : 1591376373195,
          "endTs" : 1591376373350
        },
        "language" : "scala"
      },
      "language" : "scala",
      "source" : [
        "def skip(df: DataFrame, n: Int) = df.withColumn(\"Index\",monotonically_increasing_id)\n",
        "  .filter($\"Index\" > n)\n",
        "  .drop(\"Index\")"
      ],
      "outputs" : [
      ]
    },
    {
      "cell_type" : "code",
      "execution_count" : 18,
      "metadata" : {
        "cell.metadata.exec_info" : {
          "startTs" : 1591376393929,
          "endTs" : 1591376395493
        },
        "language" : "scala"
      },
      "language" : "scala",
      "source" : [
        "import org.apache.spark.sql.types.String // //Type\n",
        "val selected_samples = diff\n",
        "val samples_prefixed = selected_samples.withColumn(\"modified\",$\"modified\".cast(StringType)).na.fill(\"N/A\").na.fill(0)\n",
        "    .withColumn(\"bioproject\",u_exp($\"bioproject\"))\n",
        "    .withColumn(\"series\",u_exp($\"series\"))\n",
        "    .withColumn(\"run\",u_run($\"run\"))\n",
        "    .withColumn(\"organism\",u_base($\"organism\"))\n",
        "    .withColumn(\"sample_name\",u_string($\"sample_name\"))\n",
        "    .withColumn(\"sequencer\",u_samples($\"sequencer\"))\n",
        "    .withColumn(\"library_strategy\",u_samples($\"library_strategy\"))\n",
        "    .withColumn(\"library_layout\",u_samples($\"library_layout\"))    \n",
        "    .withColumn(\"library_selection\",u_samples($\"library_selection\"))\n",
        "    .withColumn(\"study\",u_study($\"study\"))\n",
        "    .withColumn(\"study_title\",u_string($\"study_title\"))      \n",
        "    .withColumn(\"characteristics\",u_string($\"characteristics\"))\n",
        "    .withColumn(\"source\",u_string($\"source\"))\n",
        "    .withColumn(\"age\",u_string($\"age\"))\n",
        "    .withColumn(\"sex\",u_string($\"sex\"))\n",
        "    .withColumn(\"tumor\",u_samples($\"tumor\"))\n",
        "    .withColumn(\"protocol\",u_string($\"protocol\"))\n",
        "    .withColumn(\"salmon_version\",u_string($\"salmon_version\"))\n",
        "    //.withColumn(\"percent_mapped\",u_double($\"percent_mapped\"))\n",
        "    .withColumn(\"libType\",u_string($\"libType\"))\n",
        "    .withColumn(\"numBootstraps\",u_integer($\"numBootstraps\"))\n",
        "    .withColumn(\"modified\",u_string($\"modified\"))        \n",
        "    .select(\n",
        "      \"bioproject\",\"series\",\"run\",\"organism\",\"taxid\",\"sample_name\",\"sequencer\",\"library_strategy\",\"library_layout\",\"library_selection\",\n",
        "      \"study\",\"study_title\",\"characteristics\",\"source\",\"age\",\"sex\",\"tumor\",\"protocol\",\n",
        "      \"salmon_version\", \"libType\",\"numBootstraps\",\"modified\"\n",
        "    )\n",
        "      \n",
        "    \n",
        "samples_prefixed.show(5, 10000)"
      ],
      "outputs" : [
        {
          "name" : "stdout",
          "text" : [
            "+-----------------------------------------------------+-----------------------------------------------------+---------------------------------------------+-------------------------------------------------------+-----+---------------------------------------------------------+---------------------------------------------------------+---------------------------------------------+--------------------------------------------+------------------------------------------+------------------------------------------------------------+------------------------------------------------------------------------------------------------+-------------------------------------------------------------------------------------------------------------------------------------------------------------------------------------------------------------------------------------------------------------------------------------------------------------------------------------------------------------------------------------------------------------------------------------------------------------------------------------------------------------------------------------------------------------------------------------------------------------------------------------------------------------------------------+---------------------------------------------------+------------------------------------------------+-------------------------------------------------+----------------------------------------+-------------------------------------------------------------------------------------------------------------------------------------------------------------------------------------------------------------------------------------------------------------------------------------+--------------------------------------------------+----------------------------------------------+------------------------------------------------+--------------------------------------------------------------------+\n",
            "|                                           bioproject|                                               series|                                          run|                                               organism|taxid|                                              sample_name|                                                sequencer|                             library_strategy|                              library_layout|                         library_selection|                                                       study|                                                                                     study_title|                                                                                                                                                                                                                                                                                                                                                                                                                                                                                                                                                                                                                                                                characteristics|                                             source|                                             age|                                              sex|                                   tumor|                                                                                                                                                                                                                                                                             protocol|                                    salmon_version|                                       libType|                                   numBootstraps|                                                            modified|\n",
            "+-----------------------------------------------------+-----------------------------------------------------+---------------------------------------------+-------------------------------------------------------+-----+---------------------------------------------------------+---------------------------------------------------------+---------------------------------------------+--------------------------------------------+------------------------------------------+------------------------------------------------------------+------------------------------------------------------------------------------------------------+-------------------------------------------------------------------------------------------------------------------------------------------------------------------------------------------------------------------------------------------------------------------------------------------------------------------------------------------------------------------------------------------------------------------------------------------------------------------------------------------------------------------------------------------------------------------------------------------------------------------------------------------------------------------------------+---------------------------------------------------+------------------------------------------------+-------------------------------------------------+----------------------------------------+-------------------------------------------------------------------------------------------------------------------------------------------------------------------------------------------------------------------------------------------------------------------------------------+--------------------------------------------------+----------------------------------------------+------------------------------------------------+--------------------------------------------------------------------+\n",
            "| <https://www.ncbi.nlm.nih.gov/bioproject/PRJEB27887>| <https://www.ncbi.nlm.nih.gov/bioproject/PRJEB27887>|<https://www.ncbi.nlm.nih.gov/sra/ERR2716211>|<http://aging-research.group/resource/Vombatus_ursinus>|29139|\"SAMEA4802530\"^^<http://www.w3.org/2001/XMLSchema#string>|<http://aging-research.group/samples/Illumina_HiSeq_4000>|<http://aging-research.group/samples/RNA-Seq>|<http://aging-research.group/samples/PAIRED>|<http://aging-research.group/samples/cDNA>|<https://trace.ncbi.nlm.nih.gov/Traces/sra/?study=ERP110024>|        \"Transcriptome assembly of bare-nosed wombat\"^^<http://www.w3.org/2001/XMLSchema#string>|\"Alias:WM1_skeletal_muscle;INSDC center alias:MRC Institute of Genetics and Molecular Medicine, University of Edinburgh;Title:WM1_skeletal_muscle;identified_by:Scott Carver;geographic location (region and locality):Tasmania;collected_by:University of Tasmania;INSDC last update:2018-07-24T14:39:50Z;INSDC center name:MRC Institute of Genetics and Molecular Medicine, University of Edinburgh;INSDC first public:2018-08-03T17:03:05Z;ENA checklist:ERC000011;Sample Name:ERS2622445;SRA accession:ERS2622445;INSDC status:public;geographic location (country and/or sea):Australia;tissue_type:skeletal muscle;'Tumor:no\"^^<http://www.w3.org/2001/XMLSchema#string>|   \"N/A\"^^<http://www.w3.org/2001/XMLSchema#string>|\"N/A\"^^<http://www.w3.org/2001/XMLSchema#string>| \"N/A\"^^<http://www.w3.org/2001/XMLSchema#string>|<http://aging-research.group/samples/no>|                                                                                                                                                                                                                                     \"N/A\"^^<http://www.w3.org/2001/XMLSchema#string>|\"1.2.1\"^^<http://www.w3.org/2001/XMLSchema#string>|\"A\"^^<http://www.w3.org/2001/XMLSchema#string>|\"96\"^^<http://www.w3.org/2001/XMLSchema#integer>|\"2020-06-03 14:45:25.004\"^^<http://www.w3.org/2001/XMLSchema#string>|\n",
            "|<https://www.ncbi.nlm.nih.gov/bioproject/PRJNA417274>|<https://www.ncbi.nlm.nih.gov/bioproject/PRJNA417274>|<https://www.ncbi.nlm.nih.gov/sra/SRR6261040>|<http://aging-research.group/resource/Tupaia_belangeri>|37347|  \"GSM2842953\"^^<http://www.w3.org/2001/XMLSchema#string>|<http://aging-research.group/samples/Illumina_HiSeq_2500>|<http://aging-research.group/samples/RNA-Seq>|<http://aging-research.group/samples/PAIRED>|<http://aging-research.group/samples/cDNA>|<https://trace.ncbi.nlm.nih.gov/Traces/sra/?study=SRP124265>|\"Nucleosome profiles for mammalian tissues [RNA-Seq]\"^^<http://www.w3.org/2001/XMLSchema#string>|                                                                                                                                                                                                                                                                                                                                                                                                                                                                                                                                 \"genotype:wild type;developmental stage:adult;tissue:brain;source_name:brain;gender:male;'Tumor:no\"^^<http://www.w3.org/2001/XMLSchema#string>| \"brain\"^^<http://www.w3.org/2001/XMLSchema#string>|\"N/A\"^^<http://www.w3.org/2001/XMLSchema#string>|\"male\"^^<http://www.w3.org/2001/XMLSchema#string>|<http://aging-research.group/samples/no>|\"Total RNA of the tissues was extracted using the Trizol method and analyzed by an Agilent 2100 bio-analyzer (Agilent Technologies). Strand-specific polyA+ RNA libraries were prepared for sequencing using standard Illumina protocols.\"^^<http://www.w3.org/2001/XMLSchema#string>|\"1.2.1\"^^<http://www.w3.org/2001/XMLSchema#string>|\"A\"^^<http://www.w3.org/2001/XMLSchema#string>|\"96\"^^<http://www.w3.org/2001/XMLSchema#integer>|\"2020-06-03 16:56:04.128\"^^<http://www.w3.org/2001/XMLSchema#string>|\n",
            "|<https://www.ncbi.nlm.nih.gov/bioproject/PRJNA417274>|<https://www.ncbi.nlm.nih.gov/bioproject/PRJNA417274>|<https://www.ncbi.nlm.nih.gov/sra/SRR6261041>|<http://aging-research.group/resource/Tupaia_belangeri>|37347|  \"GSM2842954\"^^<http://www.w3.org/2001/XMLSchema#string>|<http://aging-research.group/samples/Illumina_HiSeq_2500>|<http://aging-research.group/samples/RNA-Seq>|<http://aging-research.group/samples/PAIRED>|<http://aging-research.group/samples/cDNA>|<https://trace.ncbi.nlm.nih.gov/Traces/sra/?study=SRP124265>|\"Nucleosome profiles for mammalian tissues [RNA-Seq]\"^^<http://www.w3.org/2001/XMLSchema#string>|                                                                                                                                                                                                                                                                                                                                                                                                                                                                                                                                 \"genotype:wild type;developmental stage:adult;tissue:heart;source_name:heart;gender:male;'Tumor:no\"^^<http://www.w3.org/2001/XMLSchema#string>| \"heart\"^^<http://www.w3.org/2001/XMLSchema#string>|\"N/A\"^^<http://www.w3.org/2001/XMLSchema#string>|\"male\"^^<http://www.w3.org/2001/XMLSchema#string>|<http://aging-research.group/samples/no>|\"Total RNA of the tissues was extracted using the Trizol method and analyzed by an Agilent 2100 bio-analyzer (Agilent Technologies). Strand-specific polyA+ RNA libraries were prepared for sequencing using standard Illumina protocols.\"^^<http://www.w3.org/2001/XMLSchema#string>|\"1.2.1\"^^<http://www.w3.org/2001/XMLSchema#string>|\"A\"^^<http://www.w3.org/2001/XMLSchema#string>|\"96\"^^<http://www.w3.org/2001/XMLSchema#integer>|\"2020-06-03 15:18:49.565\"^^<http://www.w3.org/2001/XMLSchema#string>|\n",
            "|<https://www.ncbi.nlm.nih.gov/bioproject/PRJNA417274>|<https://www.ncbi.nlm.nih.gov/bioproject/PRJNA417274>|<https://www.ncbi.nlm.nih.gov/sra/SRR6261042>|<http://aging-research.group/resource/Tupaia_belangeri>|37347|  \"GSM2842955\"^^<http://www.w3.org/2001/XMLSchema#string>|<http://aging-research.group/samples/Illumina_HiSeq_2500>|<http://aging-research.group/samples/RNA-Seq>|<http://aging-research.group/samples/PAIRED>|<http://aging-research.group/samples/cDNA>|<https://trace.ncbi.nlm.nih.gov/Traces/sra/?study=SRP124265>|\"Nucleosome profiles for mammalian tissues [RNA-Seq]\"^^<http://www.w3.org/2001/XMLSchema#string>|                                                                                                                                                                                                                                                                                                                                                                                                                                                                                                                               \"genotype:wild type;developmental stage:adult;tissue:kidney;source_name:kidney;gender:male;'Tumor:no\"^^<http://www.w3.org/2001/XMLSchema#string>|\"kidney\"^^<http://www.w3.org/2001/XMLSchema#string>|\"N/A\"^^<http://www.w3.org/2001/XMLSchema#string>|\"male\"^^<http://www.w3.org/2001/XMLSchema#string>|<http://aging-research.group/samples/no>|\"Total RNA of the tissues was extracted using the Trizol method and analyzed by an Agilent 2100 bio-analyzer (Agilent Technologies). Strand-specific polyA+ RNA libraries were prepared for sequencing using standard Illumina protocols.\"^^<http://www.w3.org/2001/XMLSchema#string>|\"1.2.1\"^^<http://www.w3.org/2001/XMLSchema#string>|\"A\"^^<http://www.w3.org/2001/XMLSchema#string>|\"96\"^^<http://www.w3.org/2001/XMLSchema#integer>|\"2020-06-03 16:45:20.884\"^^<http://www.w3.org/2001/XMLSchema#string>|\n",
            "|<https://www.ncbi.nlm.nih.gov/bioproject/PRJNA417274>|<https://www.ncbi.nlm.nih.gov/bioproject/PRJNA417274>|<https://www.ncbi.nlm.nih.gov/sra/SRR6261043>|<http://aging-research.group/resource/Tupaia_belangeri>|37347|  \"GSM2842956\"^^<http://www.w3.org/2001/XMLSchema#string>|<http://aging-research.group/samples/Illumina_HiSeq_2500>|<http://aging-research.group/samples/RNA-Seq>|<http://aging-research.group/samples/PAIRED>|<http://aging-research.group/samples/cDNA>|<https://trace.ncbi.nlm.nih.gov/Traces/sra/?study=SRP124265>|\"Nucleosome profiles for mammalian tissues [RNA-Seq]\"^^<http://www.w3.org/2001/XMLSchema#string>|                                                                                                                                                                                                                                                                                                                                                                                                                                                                                                                               \"genotype:wild type;developmental stage:adult;tissue:muscle;source_name:muscle;gender:male;'Tumor:no\"^^<http://www.w3.org/2001/XMLSchema#string>|\"muscle\"^^<http://www.w3.org/2001/XMLSchema#string>|\"N/A\"^^<http://www.w3.org/2001/XMLSchema#string>|\"male\"^^<http://www.w3.org/2001/XMLSchema#string>|<http://aging-research.group/samples/no>|\"Total RNA of the tissues was extracted using the Trizol method and analyzed by an Agilent 2100 bio-analyzer (Agilent Technologies). Strand-specific polyA+ RNA libraries were prepared for sequencing using standard Illumina protocols.\"^^<http://www.w3.org/2001/XMLSchema#string>|\"1.2.1\"^^<http://www.w3.org/2001/XMLSchema#string>|\"A\"^^<http://www.w3.org/2001/XMLSchema#string>|\"96\"^^<http://www.w3.org/2001/XMLSchema#integer>|\"2020-06-03 18:23:29.212\"^^<http://www.w3.org/2001/XMLSchema#string>|\n",
            "+-----------------------------------------------------+-----------------------------------------------------+---------------------------------------------+-------------------------------------------------------+-----+---------------------------------------------------------+---------------------------------------------------------+---------------------------------------------+--------------------------------------------+------------------------------------------+------------------------------------------------------------+------------------------------------------------------------------------------------------------+-------------------------------------------------------------------------------------------------------------------------------------------------------------------------------------------------------------------------------------------------------------------------------------------------------------------------------------------------------------------------------------------------------------------------------------------------------------------------------------------------------------------------------------------------------------------------------------------------------------------------------------------------------------------------------+---------------------------------------------------+------------------------------------------------+-------------------------------------------------+----------------------------------------+-------------------------------------------------------------------------------------------------------------------------------------------------------------------------------------------------------------------------------------------------------------------------------------+--------------------------------------------------+----------------------------------------------+------------------------------------------------+--------------------------------------------------------------------+\n",
            "only showing top 5 rows\n",
            "\n"
          ],
          "output_type" : "stream"
        }
      ]
    },
    {
      "cell_type" : "markdown",
      "execution_count" : 19,
      "metadata" : {
        "language" : "text"
      },
      "language" : "text",
      "source" : [
        "## Quads functions\n",
        "\n"
      ],
      "outputs" : [
      ]
    },
    {
      "cell_type" : "code",
      "execution_count" : 20,
      "metadata" : {
        "cell.metadata.exec_info" : {
          "startTs" : 1591633228864,
          "endTs" : 1591633229452
        },
        "language" : "scala"
      },
      "language" : "scala",
      "source" : [
        "  //note first is subject, others - objects!\n",
        "  def toQuads(dataFrame: DataFrame, subject_prefix: String, subject_column: String,\n",
        "  properties: Seq[String], prefixes: Seq[String], object_columns: Seq[String], context: String = prefix_samples):  \n",
        "  org.apache.spark.sql.Dataset[(String, String, String, String)] = {\n",
        "    require(properties.length == prefixes.length && \n",
        "    prefixes.length == object_columns.length, \n",
        "    s\"not same number of properties(${properties.length}), prefixes(${prefixes.length}) and columns(${object_columns.length})\")\n",
        "    val df = dataFrame.select(subject_column, object_columns:_*)    \n",
        "    df.flatMap{ case row=>       \n",
        "            val sub = pre(subject_prefix, row.getAs[String](subject_column)) \n",
        "            properties.zip(prefixes.zip(object_columns)).map{ \n",
        "                case (prop, (pref, col)) => \n",
        "                    val i = row.fieldIndex(col)\n",
        "                    val value = row.get(i).toString\n",
        "                    val o = pre(pref, value) //pre(pref, row.getAs[String](col))\n",
        "                    (sub, prop, o, \"<\" + context + \">\" + \" .\")\n",
        "            }\n",
        "    }.toDF(\"subject\", \"property\", \"object\", \"context\").as[(String, String, String, String)]   \n",
        "    \n",
        "}"
      ],
      "outputs" : [
      ]
    },
    {
      "cell_type" : "code",
      "execution_count" : 21,
      "metadata" : {
        "cell.metadata.exec_info" : {
          "startTs" : 1591633232026,
          "endTs" : 1591633232182
        },
        "language" : "scala"
      },
      "language" : "scala",
      "source" : [
        "def toHasQuads(dataFrame: DataFrame, subject_prefix: String, subject_column: String,\n",
        "   prefixes: Seq[String], columns: Seq[String], context: String = prefix_samples, property_prefix: String = prefix_samples) = {\n",
        "      val properties = columns.map(c=> pre(property_prefix, \"has_\"+c))\n",
        "      toQuads(dataFrame, subject_prefix, subject_column, properties, prefixes, columns, context)\n",
        "  }"
      ],
      "outputs" : [
      ]
    },
    {
      "cell_type" : "code",
      "execution_count" : 22,
      "metadata" : {
        "cell.metadata.exec_info" : {
          "startTs" : 1591633233806,
          "endTs" : 1591633234026
        },
        "language" : "scala"
      },
      "language" : "scala",
      "source" : [
        "def toHasPrefixedQuads(dataFrame: DataFrame, subject_prefix: String, subject_column: String,\n",
        "columns: Seq[String], context: String = prefix_samples, property_prefix: String = prefix_samples, object_prefix: String = prefix_samples) = {\n",
        "    val properties = columns.map(c=> pre(property_prefix, c))\n",
        "    val prefixes = columns.map(_ => object_prefix)\n",
        "    toQuads(dataFrame, subject_prefix, subject_column, properties, prefixes, columns, context)\n",
        "}\n",
        "\n",
        "def toHasRawQuads(dataFrame: DataFrame, subject_column: String, context: String = prefix_samples, property_prefix: String = prefix_samples) = {\n",
        "    val columns = genericArrayOps(dataFrame.columns).toList.filterNot(_==subject_column)\n",
        "    val properties = columns.map(c=> pre(property_prefix, \"has_\"+c))    \n",
        "    val prefixes = columns.map(_ => \"\")\n",
        "    toQuads(dataFrame, \"\", subject_column, properties, prefixes, columns, context)\n",
        "}"
      ],
      "outputs" : [
      ]
    },
    {
      "cell_type" : "code",
      "execution_count" : 23,
      "metadata" : {
        "cell.metadata.exec_info" : {
          "startTs" : 1591633236114,
          "endTs" : 1591633236576
        },
        "language" : "scala"
      },
      "language" : "scala",
      "source" : [
        "def has_domains(subject: String, columns: Seq[String], context: String = prefix_samples, subject_prefix: String = prefix_samples, property_prefix: String = prefix_samples) = {\n",
        "    val domain = if(subject.contains(subject_prefix)) subject else pre(subject_prefix, subject)\n",
        "    val ts = columns.map(c=>( pre(property_prefix, \"has_\"+c), \"<http://www.w3.org/2000/01/rdf-schema#domain>\", domain, \"<\" + context +\">\" +\" .\")   ) \n",
        "    spark.createDataset[(String, String, String, String)](ts)\n",
        "}\n",
        "def of_class(df:  org.apache.spark.sql.Dataset[_], subject: String, column: String = \"subject\", subject_prefix: String = prefix_samples, context: String = prefix_samples) ={\n",
        "    val v = df.select(column).distinct.as[String]\n",
        "    val cl = if(subject.contains(subject_prefix)) subject else pre(subject_prefix, subject)    \n",
        "    val ts = Seq((cl, \"<http://www.w3.org/2000/01/rdf-schema#subClassOf>\", \"<http://www.w3.org/2002/07/owl#Class>\",  \"<\" + context +\">\" +\" .\"))\n",
        "    spark.createDataset[(String, String, String, String)](ts).union(\n",
        "        v\n",
        "    .withColumn(\"property\", lit(\"<http://www.w3.org/1999/02/22-rdf-syntax-ns#type>\"))\n",
        "    .withColumn(\"object\", lit(cl))\n",
        "    .withColumn(\"context\", lit(\"<\" + context +\">\" +\" .\"))\n",
        "    .as[(String, String, String, String)])\n",
        "}"
      ],
      "outputs" : [
      ]
    },
    {
      "cell_type" : "markdown",
      "execution_count" : 24,
      "metadata" : {
        "language" : "text"
      },
      "language" : "text",
      "source" : [
        "Preparing bioprojects\n",
        "\n",
        "\n"
      ],
      "outputs" : [
      ]
    },
    {
      "cell_type" : "code",
      "execution_count" : 25,
      "metadata" : {
        "cell.metadata.exec_info" : {
          "startTs" : 1591633238338,
          "endTs" : 1591633238367
        },
        "language" : "scala"
      },
      "language" : "scala",
      "source" : [
        "val biopro_prep = samples_prefixed.select(\"bioproject\", \"series\", \"run\", \"study\")\n",
        "val biopro = toHasRawQuads(biopro_prep, \"bioproject\")\n",
        "val all_biopro = of_class(biopro, \"Bioproject\").union(has_domains(\"Bioproject\", genericArrayOps(biopro_prep.columns).toList)).union(biopro)\n",
        ".toDF(\"subject\", \"property\", \"object\", \"context\")\n",
        "println(all_biopro.count)\n",
        "all_biopro.show(100,10000)"
      ],
      "outputs" : [
        {
          "execution_count" : 25,
          "data" : {
            "application/json" : [
              {
                "pos" : {
                  "sourceId" : "Cell25",
                  "start" : 18,
                  "end" : 34,
                  "point" : 18
                },
                "msg" : "not found: value samples_prefixed",
                "severity" : 2
              }
            ],
            "text/plain" : [
              "Error: not found: value samples_prefixed (18)"
            ]
          },
          "metadata" : {
            "rel" : "compiler_errors"
          },
          "output_type" : "execute_result"
        }
      ]
    },
    {
      "cell_type" : "markdown",
      "execution_count" : 26,
      "metadata" : {
        "language" : "text"
      },
      "language" : "text",
      "source" : [
        "**Preparing bioseries**\n",
        "\n",
        "\n"
      ],
      "outputs" : [
      ]
    },
    {
      "cell_type" : "code",
      "execution_count" : 27,
      "metadata" : {
        "cell.metadata.exec_info" : {
          "startTs" : 1591376411416,
          "endTs" : 1591376413930
        },
        "language" : "scala"
      },
      "language" : "scala",
      "source" : [
        "val bioseries_prep = samples_prefixed.select(\"series\", \"run\", \"study\")\n",
        "val bioseries = toHasRawQuads(bioseries_prep, \"series\")\n",
        "val all_bioseries = of_class(bioseries, \"Experiment_series\")\n",
        "  .union(has_domains(\"Experiment_series\", genericArrayOps(bioseries_prep.columns).toList))\n",
        "  .union(bioseries)\n",
        "  .toDF(\"subject\", \"property\", \"object\", \"context\")\n",
        "println(all_bioseries.count())\n",
        "all_bioseries.show(100,100)"
      ],
      "outputs" : [
        {
          "name" : "stdout",
          "text" : [
            "157\n",
            "+-------------------------------------------------------+-------------------------------------------------+------------------------------------------------------------+----------------------------------------+\n",
            "|                                                subject|                                         property|                                                      object|                                 context|\n",
            "+-------------------------------------------------------+-------------------------------------------------+------------------------------------------------------------+----------------------------------------+\n",
            "|<http://aging-research.group/samples/Experiment_series>|<http://www.w3.org/2000/01/rdf-schema#subClassOf>|                       <http://www.w3.org/2002/07/owl#Class>|<http://aging-research.group/samples/> .|\n",
            "|  <https://www.ncbi.nlm.nih.gov/bioproject/PRJNA184055>|<http://www.w3.org/1999/02/22-rdf-syntax-ns#type>|     <http://aging-research.group/samples/Experiment_series>|<http://aging-research.group/samples/> .|\n",
            "|  <https://www.ncbi.nlm.nih.gov/bioproject/PRJNA417274>|<http://www.w3.org/1999/02/22-rdf-syntax-ns#type>|     <http://aging-research.group/samples/Experiment_series>|<http://aging-research.group/samples/> .|\n",
            "|  <https://www.ncbi.nlm.nih.gov/bioproject/PRJNA516733>|<http://www.w3.org/1999/02/22-rdf-syntax-ns#type>|     <http://aging-research.group/samples/Experiment_series>|<http://aging-research.group/samples/> .|\n",
            "|   <https://www.ncbi.nlm.nih.gov/bioproject/PRJEB27887>|<http://www.w3.org/1999/02/22-rdf-syntax-ns#type>|     <http://aging-research.group/samples/Experiment_series>|<http://aging-research.group/samples/> .|\n",
            "|  <https://www.ncbi.nlm.nih.gov/bioproject/PRJNA399138>|<http://www.w3.org/1999/02/22-rdf-syntax-ns#type>|     <http://aging-research.group/samples/Experiment_series>|<http://aging-research.group/samples/> .|\n",
            "|  <https://www.ncbi.nlm.nih.gov/bioproject/PRJNA143627>|<http://www.w3.org/1999/02/22-rdf-syntax-ns#type>|     <http://aging-research.group/samples/Experiment_series>|<http://aging-research.group/samples/> .|\n",
            "|  <https://www.ncbi.nlm.nih.gov/bioproject/PRJNA526502>|<http://www.w3.org/1999/02/22-rdf-syntax-ns#type>|     <http://aging-research.group/samples/Experiment_series>|<http://aging-research.group/samples/> .|\n",
            "|   <https://www.ncbi.nlm.nih.gov/bioproject/PRJEB13074>|<http://www.w3.org/1999/02/22-rdf-syntax-ns#type>|     <http://aging-research.group/samples/Experiment_series>|<http://aging-research.group/samples/> .|\n",
            "|  <https://www.ncbi.nlm.nih.gov/bioproject/PRJNA157033>|<http://www.w3.org/1999/02/22-rdf-syntax-ns#type>|     <http://aging-research.group/samples/Experiment_series>|<http://aging-research.group/samples/> .|\n",
            "|  <https://www.ncbi.nlm.nih.gov/bioproject/PRJNA527986>|<http://www.w3.org/1999/02/22-rdf-syntax-ns#type>|     <http://aging-research.group/samples/Experiment_series>|<http://aging-research.group/samples/> .|\n",
            "|  <https://www.ncbi.nlm.nih.gov/bioproject/PRJNA381064>|<http://www.w3.org/1999/02/22-rdf-syntax-ns#type>|     <http://aging-research.group/samples/Experiment_series>|<http://aging-research.group/samples/> .|\n",
            "|   <https://www.ncbi.nlm.nih.gov/bioproject/PRJEB32866>|<http://www.w3.org/1999/02/22-rdf-syntax-ns#type>|     <http://aging-research.group/samples/Experiment_series>|<http://aging-research.group/samples/> .|\n",
            "|  <https://www.ncbi.nlm.nih.gov/bioproject/PRJNA526249>|<http://www.w3.org/1999/02/22-rdf-syntax-ns#type>|     <http://aging-research.group/samples/Experiment_series>|<http://aging-research.group/samples/> .|\n",
            "|  <https://www.ncbi.nlm.nih.gov/bioproject/PRJNA349047>|<http://www.w3.org/1999/02/22-rdf-syntax-ns#type>|     <http://aging-research.group/samples/Experiment_series>|<http://aging-research.group/samples/> .|\n",
            "|  <https://www.ncbi.nlm.nih.gov/bioproject/PRJNA415552>|<http://www.w3.org/1999/02/22-rdf-syntax-ns#type>|     <http://aging-research.group/samples/Experiment_series>|<http://aging-research.group/samples/> .|\n",
            "|       <http://aging-research.group/samples/has_series>|    <http://www.w3.org/2000/01/rdf-schema#domain>|     <http://aging-research.group/samples/Experiment_series>|<http://aging-research.group/samples/> .|\n",
            "|          <http://aging-research.group/samples/has_run>|    <http://www.w3.org/2000/01/rdf-schema#domain>|     <http://aging-research.group/samples/Experiment_series>|<http://aging-research.group/samples/> .|\n",
            "|        <http://aging-research.group/samples/has_study>|    <http://www.w3.org/2000/01/rdf-schema#domain>|     <http://aging-research.group/samples/Experiment_series>|<http://aging-research.group/samples/> .|\n",
            "|   <https://www.ncbi.nlm.nih.gov/bioproject/PRJEB27887>|    <http://aging-research.group/samples/has_run>|               <https://www.ncbi.nlm.nih.gov/sra/ERR2716211>|<http://aging-research.group/samples/> .|\n",
            "|   <https://www.ncbi.nlm.nih.gov/bioproject/PRJEB27887>|  <http://aging-research.group/samples/has_study>|<https://trace.ncbi.nlm.nih.gov/Traces/sra/?study=ERP110024>|<http://aging-research.group/samples/> .|\n",
            "|  <https://www.ncbi.nlm.nih.gov/bioproject/PRJNA417274>|    <http://aging-research.group/samples/has_run>|               <https://www.ncbi.nlm.nih.gov/sra/SRR6261040>|<http://aging-research.group/samples/> .|\n",
            "|  <https://www.ncbi.nlm.nih.gov/bioproject/PRJNA417274>|  <http://aging-research.group/samples/has_study>|<https://trace.ncbi.nlm.nih.gov/Traces/sra/?study=SRP124265>|<http://aging-research.group/samples/> .|\n",
            "|  <https://www.ncbi.nlm.nih.gov/bioproject/PRJNA417274>|    <http://aging-research.group/samples/has_run>|               <https://www.ncbi.nlm.nih.gov/sra/SRR6261041>|<http://aging-research.group/samples/> .|\n",
            "|  <https://www.ncbi.nlm.nih.gov/bioproject/PRJNA417274>|  <http://aging-research.group/samples/has_study>|<https://trace.ncbi.nlm.nih.gov/Traces/sra/?study=SRP124265>|<http://aging-research.group/samples/> .|\n",
            "|  <https://www.ncbi.nlm.nih.gov/bioproject/PRJNA417274>|    <http://aging-research.group/samples/has_run>|               <https://www.ncbi.nlm.nih.gov/sra/SRR6261042>|<http://aging-research.group/samples/> .|\n",
            "|  <https://www.ncbi.nlm.nih.gov/bioproject/PRJNA417274>|  <http://aging-research.group/samples/has_study>|<https://trace.ncbi.nlm.nih.gov/Traces/sra/?study=SRP124265>|<http://aging-research.group/samples/> .|\n",
            "|  <https://www.ncbi.nlm.nih.gov/bioproject/PRJNA417274>|    <http://aging-research.group/samples/has_run>|               <https://www.ncbi.nlm.nih.gov/sra/SRR6261043>|<http://aging-research.group/samples/> .|\n",
            "|  <https://www.ncbi.nlm.nih.gov/bioproject/PRJNA417274>|  <http://aging-research.group/samples/has_study>|<https://trace.ncbi.nlm.nih.gov/Traces/sra/?study=SRP124265>|<http://aging-research.group/samples/> .|\n",
            "|  <https://www.ncbi.nlm.nih.gov/bioproject/PRJNA526502>|    <http://aging-research.group/samples/has_run>|               <https://www.ncbi.nlm.nih.gov/sra/SRR8708135>|<http://aging-research.group/samples/> .|\n",
            "|  <https://www.ncbi.nlm.nih.gov/bioproject/PRJNA526502>|  <http://aging-research.group/samples/has_study>|<https://trace.ncbi.nlm.nih.gov/Traces/sra/?study=SRP188109>|<http://aging-research.group/samples/> .|\n",
            "|  <https://www.ncbi.nlm.nih.gov/bioproject/PRJNA527986>|    <http://aging-research.group/samples/has_run>|               <https://www.ncbi.nlm.nih.gov/sra/SRR8750397>|<http://aging-research.group/samples/> .|\n",
            "|  <https://www.ncbi.nlm.nih.gov/bioproject/PRJNA527986>|  <http://aging-research.group/samples/has_study>|<https://trace.ncbi.nlm.nih.gov/Traces/sra/?study=SRP188822>|<http://aging-research.group/samples/> .|\n",
            "|  <https://www.ncbi.nlm.nih.gov/bioproject/PRJNA527986>|    <http://aging-research.group/samples/has_run>|               <https://www.ncbi.nlm.nih.gov/sra/SRR8750398>|<http://aging-research.group/samples/> .|\n",
            "|  <https://www.ncbi.nlm.nih.gov/bioproject/PRJNA527986>|  <http://aging-research.group/samples/has_study>|<https://trace.ncbi.nlm.nih.gov/Traces/sra/?study=SRP188822>|<http://aging-research.group/samples/> .|\n",
            "|  <https://www.ncbi.nlm.nih.gov/bioproject/PRJNA527986>|    <http://aging-research.group/samples/has_run>|               <https://www.ncbi.nlm.nih.gov/sra/SRR8750399>|<http://aging-research.group/samples/> .|\n",
            "|  <https://www.ncbi.nlm.nih.gov/bioproject/PRJNA527986>|  <http://aging-research.group/samples/has_study>|<https://trace.ncbi.nlm.nih.gov/Traces/sra/?study=SRP188822>|<http://aging-research.group/samples/> .|\n",
            "|  <https://www.ncbi.nlm.nih.gov/bioproject/PRJNA349047>|    <http://aging-research.group/samples/has_run>|               <https://www.ncbi.nlm.nih.gov/sra/SRR4444968>|<http://aging-research.group/samples/> .|\n",
            "|  <https://www.ncbi.nlm.nih.gov/bioproject/PRJNA349047>|  <http://aging-research.group/samples/has_study>|<https://trace.ncbi.nlm.nih.gov/Traces/sra/?study=SRP091944>|<http://aging-research.group/samples/> .|\n",
            "|  <https://www.ncbi.nlm.nih.gov/bioproject/PRJNA143627>|    <http://aging-research.group/samples/has_run>|                <https://www.ncbi.nlm.nih.gov/sra/SRR306728>|<http://aging-research.group/samples/> .|\n",
            "|  <https://www.ncbi.nlm.nih.gov/bioproject/PRJNA143627>|  <http://aging-research.group/samples/has_study>|<https://trace.ncbi.nlm.nih.gov/Traces/sra/?study=SRP007412>|<http://aging-research.group/samples/> .|\n",
            "|  <https://www.ncbi.nlm.nih.gov/bioproject/PRJNA143627>|    <http://aging-research.group/samples/has_run>|                <https://www.ncbi.nlm.nih.gov/sra/SRR306729>|<http://aging-research.group/samples/> .|\n",
            "|  <https://www.ncbi.nlm.nih.gov/bioproject/PRJNA143627>|  <http://aging-research.group/samples/has_study>|<https://trace.ncbi.nlm.nih.gov/Traces/sra/?study=SRP007412>|<http://aging-research.group/samples/> .|\n",
            "|  <https://www.ncbi.nlm.nih.gov/bioproject/PRJNA143627>|    <http://aging-research.group/samples/has_run>|                <https://www.ncbi.nlm.nih.gov/sra/SRR306730>|<http://aging-research.group/samples/> .|\n",
            "|  <https://www.ncbi.nlm.nih.gov/bioproject/PRJNA143627>|  <http://aging-research.group/samples/has_study>|<https://trace.ncbi.nlm.nih.gov/Traces/sra/?study=SRP007412>|<http://aging-research.group/samples/> .|\n",
            "|  <https://www.ncbi.nlm.nih.gov/bioproject/PRJNA381064>|    <http://aging-research.group/samples/has_run>|               <https://www.ncbi.nlm.nih.gov/sra/SRR5412224>|<http://aging-research.group/samples/> .|\n",
            "|  <https://www.ncbi.nlm.nih.gov/bioproject/PRJNA381064>|  <http://aging-research.group/samples/has_study>|<https://trace.ncbi.nlm.nih.gov/Traces/sra/?study=SRP102989>|<http://aging-research.group/samples/> .|\n",
            "|  <https://www.ncbi.nlm.nih.gov/bioproject/PRJNA381064>|    <http://aging-research.group/samples/has_run>|               <https://www.ncbi.nlm.nih.gov/sra/SRR5412225>|<http://aging-research.group/samples/> .|\n",
            "|  <https://www.ncbi.nlm.nih.gov/bioproject/PRJNA381064>|  <http://aging-research.group/samples/has_study>|<https://trace.ncbi.nlm.nih.gov/Traces/sra/?study=SRP102989>|<http://aging-research.group/samples/> .|\n",
            "|  <https://www.ncbi.nlm.nih.gov/bioproject/PRJNA381064>|    <http://aging-research.group/samples/has_run>|               <https://www.ncbi.nlm.nih.gov/sra/SRR5412226>|<http://aging-research.group/samples/> .|\n",
            "|  <https://www.ncbi.nlm.nih.gov/bioproject/PRJNA381064>|  <http://aging-research.group/samples/has_study>|<https://trace.ncbi.nlm.nih.gov/Traces/sra/?study=SRP102989>|<http://aging-research.group/samples/> .|\n",
            "|  <https://www.ncbi.nlm.nih.gov/bioproject/PRJNA381064>|    <http://aging-research.group/samples/has_run>|               <https://www.ncbi.nlm.nih.gov/sra/SRR5412227>|<http://aging-research.group/samples/> .|\n",
            "|  <https://www.ncbi.nlm.nih.gov/bioproject/PRJNA381064>|  <http://aging-research.group/samples/has_study>|<https://trace.ncbi.nlm.nih.gov/Traces/sra/?study=SRP102989>|<http://aging-research.group/samples/> .|\n",
            "|  <https://www.ncbi.nlm.nih.gov/bioproject/PRJNA381064>|    <http://aging-research.group/samples/has_run>|               <https://www.ncbi.nlm.nih.gov/sra/SRR5412228>|<http://aging-research.group/samples/> .|\n",
            "|  <https://www.ncbi.nlm.nih.gov/bioproject/PRJNA381064>|  <http://aging-research.group/samples/has_study>|<https://trace.ncbi.nlm.nih.gov/Traces/sra/?study=SRP102989>|<http://aging-research.group/samples/> .|\n",
            "|  <https://www.ncbi.nlm.nih.gov/bioproject/PRJNA381064>|    <http://aging-research.group/samples/has_run>|               <https://www.ncbi.nlm.nih.gov/sra/SRR5412229>|<http://aging-research.group/samples/> .|\n",
            "|  <https://www.ncbi.nlm.nih.gov/bioproject/PRJNA381064>|  <http://aging-research.group/samples/has_study>|<https://trace.ncbi.nlm.nih.gov/Traces/sra/?study=SRP102989>|<http://aging-research.group/samples/> .|\n",
            "|  <https://www.ncbi.nlm.nih.gov/bioproject/PRJNA381064>|    <http://aging-research.group/samples/has_run>|               <https://www.ncbi.nlm.nih.gov/sra/SRR5412230>|<http://aging-research.group/samples/> .|\n",
            "|  <https://www.ncbi.nlm.nih.gov/bioproject/PRJNA381064>|  <http://aging-research.group/samples/has_study>|<https://trace.ncbi.nlm.nih.gov/Traces/sra/?study=SRP102989>|<http://aging-research.group/samples/> .|\n",
            "|  <https://www.ncbi.nlm.nih.gov/bioproject/PRJNA381064>|    <http://aging-research.group/samples/has_run>|               <https://www.ncbi.nlm.nih.gov/sra/SRR5412231>|<http://aging-research.group/samples/> .|\n",
            "|  <https://www.ncbi.nlm.nih.gov/bioproject/PRJNA381064>|  <http://aging-research.group/samples/has_study>|<https://trace.ncbi.nlm.nih.gov/Traces/sra/?study=SRP102989>|<http://aging-research.group/samples/> .|\n",
            "|  <https://www.ncbi.nlm.nih.gov/bioproject/PRJNA381064>|    <http://aging-research.group/samples/has_run>|               <https://www.ncbi.nlm.nih.gov/sra/SRR5412232>|<http://aging-research.group/samples/> .|\n",
            "|  <https://www.ncbi.nlm.nih.gov/bioproject/PRJNA381064>|  <http://aging-research.group/samples/has_study>|<https://trace.ncbi.nlm.nih.gov/Traces/sra/?study=SRP102989>|<http://aging-research.group/samples/> .|\n",
            "|  <https://www.ncbi.nlm.nih.gov/bioproject/PRJNA381064>|    <http://aging-research.group/samples/has_run>|               <https://www.ncbi.nlm.nih.gov/sra/SRR5412233>|<http://aging-research.group/samples/> .|\n",
            "|  <https://www.ncbi.nlm.nih.gov/bioproject/PRJNA381064>|  <http://aging-research.group/samples/has_study>|<https://trace.ncbi.nlm.nih.gov/Traces/sra/?study=SRP102989>|<http://aging-research.group/samples/> .|\n",
            "|  <https://www.ncbi.nlm.nih.gov/bioproject/PRJNA381064>|    <http://aging-research.group/samples/has_run>|               <https://www.ncbi.nlm.nih.gov/sra/SRR5412234>|<http://aging-research.group/samples/> .|\n",
            "|  <https://www.ncbi.nlm.nih.gov/bioproject/PRJNA381064>|  <http://aging-research.group/samples/has_study>|<https://trace.ncbi.nlm.nih.gov/Traces/sra/?study=SRP102989>|<http://aging-research.group/samples/> .|\n",
            "|  <https://www.ncbi.nlm.nih.gov/bioproject/PRJNA381064>|    <http://aging-research.group/samples/has_run>|               <https://www.ncbi.nlm.nih.gov/sra/SRR5412235>|<http://aging-research.group/samples/> .|\n",
            "|  <https://www.ncbi.nlm.nih.gov/bioproject/PRJNA381064>|  <http://aging-research.group/samples/has_study>|<https://trace.ncbi.nlm.nih.gov/Traces/sra/?study=SRP102989>|<http://aging-research.group/samples/> .|\n",
            "|  <https://www.ncbi.nlm.nih.gov/bioproject/PRJNA381064>|    <http://aging-research.group/samples/has_run>|               <https://www.ncbi.nlm.nih.gov/sra/SRR5412236>|<http://aging-research.group/samples/> .|\n",
            "|  <https://www.ncbi.nlm.nih.gov/bioproject/PRJNA381064>|  <http://aging-research.group/samples/has_study>|<https://trace.ncbi.nlm.nih.gov/Traces/sra/?study=SRP102989>|<http://aging-research.group/samples/> .|\n",
            "|   <https://www.ncbi.nlm.nih.gov/bioproject/PRJEB32866>|    <http://aging-research.group/samples/has_run>|               <https://www.ncbi.nlm.nih.gov/sra/ERR3350029>|<http://aging-research.group/samples/> .|\n",
            "|   <https://www.ncbi.nlm.nih.gov/bioproject/PRJEB32866>|  <http://aging-research.group/samples/has_study>|<https://trace.ncbi.nlm.nih.gov/Traces/sra/?study=ERP115598>|<http://aging-research.group/samples/> .|\n",
            "|   <https://www.ncbi.nlm.nih.gov/bioproject/PRJEB32866>|    <http://aging-research.group/samples/has_run>|               <https://www.ncbi.nlm.nih.gov/sra/ERR3350030>|<http://aging-research.group/samples/> .|\n",
            "|   <https://www.ncbi.nlm.nih.gov/bioproject/PRJEB32866>|  <http://aging-research.group/samples/has_study>|<https://trace.ncbi.nlm.nih.gov/Traces/sra/?study=ERP115598>|<http://aging-research.group/samples/> .|\n",
            "|   <https://www.ncbi.nlm.nih.gov/bioproject/PRJEB13074>|    <http://aging-research.group/samples/has_run>|               <https://www.ncbi.nlm.nih.gov/sra/ERR1331668>|<http://aging-research.group/samples/> .|\n",
            "|   <https://www.ncbi.nlm.nih.gov/bioproject/PRJEB13074>|  <http://aging-research.group/samples/has_study>|<https://trace.ncbi.nlm.nih.gov/Traces/sra/?study=ERP014610>|<http://aging-research.group/samples/> .|\n",
            "|   <https://www.ncbi.nlm.nih.gov/bioproject/PRJEB13074>|    <http://aging-research.group/samples/has_run>|               <https://www.ncbi.nlm.nih.gov/sra/ERR1331710>|<http://aging-research.group/samples/> .|\n",
            "|   <https://www.ncbi.nlm.nih.gov/bioproject/PRJEB13074>|  <http://aging-research.group/samples/has_study>|<https://trace.ncbi.nlm.nih.gov/Traces/sra/?study=ERP014610>|<http://aging-research.group/samples/> .|\n",
            "|   <https://www.ncbi.nlm.nih.gov/bioproject/PRJEB13074>|    <http://aging-research.group/samples/has_run>|               <https://www.ncbi.nlm.nih.gov/sra/ERR1331725>|<http://aging-research.group/samples/> .|\n",
            "|   <https://www.ncbi.nlm.nih.gov/bioproject/PRJEB13074>|  <http://aging-research.group/samples/has_study>|<https://trace.ncbi.nlm.nih.gov/Traces/sra/?study=ERP014610>|<http://aging-research.group/samples/> .|\n",
            "|  <https://www.ncbi.nlm.nih.gov/bioproject/PRJNA157033>|    <http://aging-research.group/samples/has_run>|                <https://www.ncbi.nlm.nih.gov/sra/SRR449433>|<http://aging-research.group/samples/> .|\n",
            "|  <https://www.ncbi.nlm.nih.gov/bioproject/PRJNA157033>|  <http://aging-research.group/samples/has_study>|<https://trace.ncbi.nlm.nih.gov/Traces/sra/?study=SRP011985>|<http://aging-research.group/samples/> .|\n",
            "|  <https://www.ncbi.nlm.nih.gov/bioproject/PRJNA157033>|    <http://aging-research.group/samples/has_run>|                <https://www.ncbi.nlm.nih.gov/sra/SRR449434>|<http://aging-research.group/samples/> .|\n",
            "|  <https://www.ncbi.nlm.nih.gov/bioproject/PRJNA157033>|  <http://aging-research.group/samples/has_study>|<https://trace.ncbi.nlm.nih.gov/Traces/sra/?study=SRP011985>|<http://aging-research.group/samples/> .|\n",
            "|  <https://www.ncbi.nlm.nih.gov/bioproject/PRJNA157033>|    <http://aging-research.group/samples/has_run>|                <https://www.ncbi.nlm.nih.gov/sra/SRR449435>|<http://aging-research.group/samples/> .|\n",
            "|  <https://www.ncbi.nlm.nih.gov/bioproject/PRJNA157033>|  <http://aging-research.group/samples/has_study>|<https://trace.ncbi.nlm.nih.gov/Traces/sra/?study=SRP011985>|<http://aging-research.group/samples/> .|\n",
            "|  <https://www.ncbi.nlm.nih.gov/bioproject/PRJNA157033>|    <http://aging-research.group/samples/has_run>|                <https://www.ncbi.nlm.nih.gov/sra/SRR449436>|<http://aging-research.group/samples/> .|\n",
            "|  <https://www.ncbi.nlm.nih.gov/bioproject/PRJNA157033>|  <http://aging-research.group/samples/has_study>|<https://trace.ncbi.nlm.nih.gov/Traces/sra/?study=SRP011985>|<http://aging-research.group/samples/> .|\n",
            "|  <https://www.ncbi.nlm.nih.gov/bioproject/PRJNA399138>|    <http://aging-research.group/samples/has_run>|               <https://www.ncbi.nlm.nih.gov/sra/SRR5952126>|<http://aging-research.group/samples/> .|\n",
            "|  <https://www.ncbi.nlm.nih.gov/bioproject/PRJNA399138>|  <http://aging-research.group/samples/has_study>|<https://trace.ncbi.nlm.nih.gov/Traces/sra/?study=SRP115905>|<http://aging-research.group/samples/> .|\n",
            "|  <https://www.ncbi.nlm.nih.gov/bioproject/PRJNA399138>|    <http://aging-research.group/samples/has_run>|               <https://www.ncbi.nlm.nih.gov/sra/SRR5952127>|<http://aging-research.group/samples/> .|\n",
            "|  <https://www.ncbi.nlm.nih.gov/bioproject/PRJNA399138>|  <http://aging-research.group/samples/has_study>|<https://trace.ncbi.nlm.nih.gov/Traces/sra/?study=SRP115905>|<http://aging-research.group/samples/> .|\n",
            "|  <https://www.ncbi.nlm.nih.gov/bioproject/PRJNA399138>|    <http://aging-research.group/samples/has_run>|               <https://www.ncbi.nlm.nih.gov/sra/SRR5952128>|<http://aging-research.group/samples/> .|\n",
            "|  <https://www.ncbi.nlm.nih.gov/bioproject/PRJNA399138>|  <http://aging-research.group/samples/has_study>|<https://trace.ncbi.nlm.nih.gov/Traces/sra/?study=SRP115905>|<http://aging-research.group/samples/> .|\n",
            "|  <https://www.ncbi.nlm.nih.gov/bioproject/PRJNA399138>|    <http://aging-research.group/samples/has_run>|               <https://www.ncbi.nlm.nih.gov/sra/SRR5952129>|<http://aging-research.group/samples/> .|\n",
            "|  <https://www.ncbi.nlm.nih.gov/bioproject/PRJNA399138>|  <http://aging-research.group/samples/has_study>|<https://trace.ncbi.nlm.nih.gov/Traces/sra/?study=SRP115905>|<http://aging-research.group/samples/> .|\n",
            "|  <https://www.ncbi.nlm.nih.gov/bioproject/PRJNA399138>|    <http://aging-research.group/samples/has_run>|               <https://www.ncbi.nlm.nih.gov/sra/SRR5952130>|<http://aging-research.group/samples/> .|\n",
            "|  <https://www.ncbi.nlm.nih.gov/bioproject/PRJNA399138>|  <http://aging-research.group/samples/has_study>|<https://trace.ncbi.nlm.nih.gov/Traces/sra/?study=SRP115905>|<http://aging-research.group/samples/> .|\n",
            "|  <https://www.ncbi.nlm.nih.gov/bioproject/PRJNA415552>|    <http://aging-research.group/samples/has_run>|               <https://www.ncbi.nlm.nih.gov/sra/SRR6206899>|<http://aging-research.group/samples/> .|\n",
            "+-------------------------------------------------------+-------------------------------------------------+------------------------------------------------------------+----------------------------------------+\n",
            "only showing top 100 rows\n",
            "\n"
          ],
          "output_type" : "stream"
        }
      ]
    },
    {
      "cell_type" : "markdown",
      "execution_count" : 28,
      "metadata" : {
        "language" : "text"
      },
      "language" : "text",
      "source" : [
        "**Preparing runs**\n",
        "\n",
        "\n"
      ],
      "outputs" : [
      ]
    },
    {
      "cell_type" : "code",
      "execution_count" : 29,
      "metadata" : {
        "cell.metadata.exec_info" : {
          "startTs" : 1591376443245,
          "endTs" : 1591376444861
        },
        "language" : "scala"
      },
      "language" : "scala",
      "source" : [
        "val biorun_prep = samples_prefixed.select(\"run\",\"organism\",\"sample_name\",\"sequencer\",\"library_strategy\",\"library_layout\",\"library_selection\",\n",
        "      \"study\",\"study_title\",\"characteristics\",\"source\",\"age\",\"sex\",\"tumor\",\"protocol\",\n",
        "      \"salmon_version\", \"libType\",\"numBootstraps\",\"modified\")\n",
        "val biorun = toHasRawQuads(biorun_prep, \"run\")\n",
        "biorun.count()\n",
        "biorun.show(10,100)"
      ],
      "outputs" : [
        {
          "name" : "stdout",
          "text" : [
            "+---------------------------------------------+-----------------------------------------------------------+----------------------------------------------------------------------------------------------------+----------------------------------------+\n",
            "|                                      subject|                                                   property|                                                                                              object|                                 context|\n",
            "+---------------------------------------------+-----------------------------------------------------------+----------------------------------------------------------------------------------------------------+----------------------------------------+\n",
            "|<https://www.ncbi.nlm.nih.gov/sra/ERR2716211>|         <http://aging-research.group/samples/has_organism>|                                             <http://aging-research.group/resource/Vombatus_ursinus>|<http://aging-research.group/samples/> .|\n",
            "|<https://www.ncbi.nlm.nih.gov/sra/ERR2716211>|      <http://aging-research.group/samples/has_sample_name>|                                           \"SAMEA4802530\"^^<http://www.w3.org/2001/XMLSchema#string>|<http://aging-research.group/samples/> .|\n",
            "|<https://www.ncbi.nlm.nih.gov/sra/ERR2716211>|        <http://aging-research.group/samples/has_sequencer>|                                           <http://aging-research.group/samples/Illumina_HiSeq_4000>|<http://aging-research.group/samples/> .|\n",
            "|<https://www.ncbi.nlm.nih.gov/sra/ERR2716211>| <http://aging-research.group/samples/has_library_strategy>|                                                       <http://aging-research.group/samples/RNA-Seq>|<http://aging-research.group/samples/> .|\n",
            "|<https://www.ncbi.nlm.nih.gov/sra/ERR2716211>|   <http://aging-research.group/samples/has_library_layout>|                                                        <http://aging-research.group/samples/PAIRED>|<http://aging-research.group/samples/> .|\n",
            "|<https://www.ncbi.nlm.nih.gov/sra/ERR2716211>|<http://aging-research.group/samples/has_library_selection>|                                                          <http://aging-research.group/samples/cDNA>|<http://aging-research.group/samples/> .|\n",
            "|<https://www.ncbi.nlm.nih.gov/sra/ERR2716211>|            <http://aging-research.group/samples/has_study>|                                        <https://trace.ncbi.nlm.nih.gov/Traces/sra/?study=ERP110024>|<http://aging-research.group/samples/> .|\n",
            "|<https://www.ncbi.nlm.nih.gov/sra/ERR2716211>|      <http://aging-research.group/samples/has_study_title>|            \"Transcriptome assembly of bare-nosed wombat\"^^<http://www.w3.org/2001/XMLSchema#string>|<http://aging-research.group/samples/> .|\n",
            "|<https://www.ncbi.nlm.nih.gov/sra/ERR2716211>|  <http://aging-research.group/samples/has_characteristics>|\"Alias:WM1_skeletal_muscle;INSDC center alias:MRC Institute of Genetics and Molecular Medicine, U...|<http://aging-research.group/samples/> .|\n",
            "|<https://www.ncbi.nlm.nih.gov/sra/ERR2716211>|           <http://aging-research.group/samples/has_source>|                                                    \"N/A\"^^<http://www.w3.org/2001/XMLSchema#string>|<http://aging-research.group/samples/> .|\n",
            "+---------------------------------------------+-----------------------------------------------------------+----------------------------------------------------------------------------------------------------+----------------------------------------+\n",
            "only showing top 10 rows\n",
            "\n"
          ],
          "output_type" : "stream"
        }
      ]
    },
    {
      "cell_type" : "code",
      "execution_count" : 30,
      "metadata" : {
        "cell.metadata.exec_info" : {
          "startTs" : 1591376454113,
          "endTs" : 1591376456249
        },
        "language" : "scala"
      },
      "language" : "scala",
      "source" : [
        "val all_biorun =  of_class(biorun, \"Sequencing_run\")\n",
        "  .union(has_domains(\"Sequencing_run\", genericArrayOps(biorun_prep.columns).toList))\n",
        "  .union(biorun).toDF(\"subject\", \"property\", \"object\", \"context\")\n",
        "print(all_biorun.count)\n",
        "all_biorun.show(10)"
      ],
      "outputs" : [
        {
          "name" : "stdout",
          "text" : [
            "1329+--------------------+--------------------+--------------------+--------------------+\n",
            "|             subject|            property|              object|             context|\n",
            "+--------------------+--------------------+--------------------+--------------------+\n",
            "|<http://aging-res...|<http://www.w3.or...|<http://www.w3.or...|<http://aging-res...|\n",
            "|<https://www.ncbi...|<http://www.w3.or...|<http://aging-res...|<http://aging-res...|\n",
            "|<https://www.ncbi...|<http://www.w3.or...|<http://aging-res...|<http://aging-res...|\n",
            "|<https://www.ncbi...|<http://www.w3.or...|<http://aging-res...|<http://aging-res...|\n",
            "|<https://www.ncbi...|<http://www.w3.or...|<http://aging-res...|<http://aging-res...|\n",
            "|<https://www.ncbi...|<http://www.w3.or...|<http://aging-res...|<http://aging-res...|\n",
            "|<https://www.ncbi...|<http://www.w3.or...|<http://aging-res...|<http://aging-res...|\n",
            "|<https://www.ncbi...|<http://www.w3.or...|<http://aging-res...|<http://aging-res...|\n",
            "|<https://www.ncbi...|<http://www.w3.or...|<http://aging-res...|<http://aging-res...|\n",
            "|<https://www.ncbi...|<http://www.w3.or...|<http://aging-res...|<http://aging-res...|\n",
            "+--------------------+--------------------+--------------------+--------------------+\n",
            "only showing top 10 rows\n",
            "\n"
          ],
          "output_type" : "stream"
        }
      ]
    },
    {
      "cell_type" : "markdown",
      "execution_count" : 31,
      "metadata" : {
        "language" : "text"
      },
      "language" : "text",
      "source" : [
        "**Writing samples<br>**"
      ],
      "outputs" : [
      ]
    },
    {
      "cell_type" : "code",
      "execution_count" : 32,
      "metadata" : {
        "jupyter.outputs_hidden" : true,
        "cell.metadata.exec_info" : {
          "startTs" : 1591376458598,
          "endTs" : 1591376463009
        },
        "language" : "scala"
      },
      "language" : "scala",
      "source" : [
        "val all_samples = all_biopro.union(all_bioseries).union(all_biorun).as[(String, String, String, String)].toDF(\"subject\", \"property\", \"object\", \"context\")\n",
        "println(all_samples.count())\n",
        "all_samples.show(10)"
      ],
      "outputs" : [
        {
          "name" : "stdout",
          "text" : [
            "1713\n",
            "+--------------------+--------------------+--------------------+--------------------+\n",
            "|             subject|            property|              object|             context|\n",
            "+--------------------+--------------------+--------------------+--------------------+\n",
            "|<http://aging-res...|<http://www.w3.or...|<http://www.w3.or...|<http://aging-res...|\n",
            "|<https://www.ncbi...|<http://www.w3.or...|<http://aging-res...|<http://aging-res...|\n",
            "|<https://www.ncbi...|<http://www.w3.or...|<http://aging-res...|<http://aging-res...|\n",
            "|<https://www.ncbi...|<http://www.w3.or...|<http://aging-res...|<http://aging-res...|\n",
            "|<https://www.ncbi...|<http://www.w3.or...|<http://aging-res...|<http://aging-res...|\n",
            "|<https://www.ncbi...|<http://www.w3.or...|<http://aging-res...|<http://aging-res...|\n",
            "|<https://www.ncbi...|<http://www.w3.or...|<http://aging-res...|<http://aging-res...|\n",
            "|<https://www.ncbi...|<http://www.w3.or...|<http://aging-res...|<http://aging-res...|\n",
            "|<https://www.ncbi...|<http://www.w3.or...|<http://aging-res...|<http://aging-res...|\n",
            "|<https://www.ncbi...|<http://www.w3.or...|<http://aging-res...|<http://aging-res...|\n",
            "+--------------------+--------------------+--------------------+--------------------+\n",
            "only showing top 10 rows\n",
            "\n"
          ],
          "output_type" : "stream"
        }
      ]
    },
    {
      "cell_type" : "code",
      "execution_count" : 33,
      "metadata" : {
        "cell.metadata.exec_info" : {
          "startTs" : 1591376474618,
          "endTs" : 1591376477215
        },
        "language" : "scala"
      },
      "language" : "scala",
      "source" : [
        "all_samples.toDF.writeTSV(\"/data/databases/graphdb/import/samples.nq\", header = false, rewrite = true)"
      ],
      "outputs" : [
        {
          "name" : "stdout",
          "text" : [
            "parts of /data/databases/graphdb/import/samples.nq merged!\n"
          ],
          "output_type" : "stream"
        },
        {
          "execution_count" : 33,
          "data" : {
            "text/plain" : [
              "/data/databases/graphdb/import/samples.nq"
            ]
          },
          "metadata" : {
            "name" : "Out",
            "type" : "String"
          },
          "output_type" : "execute_result"
        }
      ]
    },
    {
      "cell_type" : "markdown",
      "execution_count" : 34,
      "metadata" : {
        "language" : "text"
      },
      "language" : "text",
      "source" : [
        "# **Gene-expressions to quads<br>**\n",
        "\n"
      ],
      "outputs" : [
      ]
    },
    {
      "cell_type" : "code",
      "execution_count" : 35,
      "metadata" : {
        "cell.metadata.exec_info" : {
          "startTs" : 1591376972276,
          "endTs" : 1591376994433
        },
        "language" : "scala"
      },
      "language" : "scala",
      "source" : [
        "val runMap = genericArrayOps(selected_samples.select(\"run\",\"genes\").as[(String, String)].collect).toMap.mapValues(v=>spark.readTSV(v).toDF(\"gene\", \"TPM\").as[(String, Double)])\n",
        "runMap"
      ],
      "outputs" : [
        {
          "execution_count" : 35,
          "data" : {
            
          },
          "metadata" : {
            "name" : "Out",
            "type" : "Map[String, Dataset[Tuple2[String, Double]]]"
          },
          "output_type" : "execute_result"
        }
      ]
    },
    {
      "cell_type" : "code",
      "execution_count" : 36,
      "metadata" : {
        "cell.metadata.exec_info" : {
          "startTs" : 1591376994438,
          "endTs" : 1591376997355
        },
        "language" : "scala"
      },
      "language" : "scala",
      "source" : [
        "val (r, e) = runMap.head\n",
        "println(r)\n",
        "e.show(10,1000)"
      ],
      "outputs" : [
        {
          "name" : "stdout",
          "text" : [
            "SRR636950\n",
            "+------------------+---------+\n",
            "|              gene|      TPM|\n",
            "+------------------+---------+\n",
            "|ENSFCAG00000000001|  6.20273|\n",
            "|ENSFCAG00000000007| 62.58021|\n",
            "|ENSFCAG00000000015| 2.896679|\n",
            "|ENSFCAG00000000022|96.821404|\n",
            "|ENSFCAG00000000023| 0.441084|\n",
            "|ENSFCAG00000000024| 44.85023|\n",
            "|ENSFCAG00000000028| 23.46776|\n",
            "|ENSFCAG00000000029|26.309989|\n",
            "|ENSFCAG00000000030| 0.219659|\n",
            "|ENSFCAG00000000031| 6.676653|\n",
            "+------------------+---------+\n",
            "only showing top 10 rows\n",
            "\n"
          ],
          "output_type" : "stream"
        }
      ]
    },
    {
      "cell_type" : "code",
      "execution_count" : 37,
      "metadata" : {
        "cell.metadata.exec_info" : {
          "startTs" : 1591376997359,
          "endTs" : 1591376997569
        },
        "language" : "scala"
      },
      "language" : "scala",
      "source" : [
        "import org.apache.spark.sql._\n",
        "\n",
        "val cont = \"<\" + prefix_samples + \"> .\"\n",
        "def sam(str: String) = s\"<${prefix_samples}${str}>\"\n",
        "def num(n: Double) =  \"\\\"\" + n.toString +  \"\\\"\" +\"^^<http://www.w3.org/2001/XMLSchema#double>\"\n",
        "    \n",
        "def expression_quads(run: String, df: Dataset[(String, Double)]): Dataset[(String, String, String, String)] = {\n",
        "    df.flatMap{case (gene, tpm) =>\n",
        "    val exp = sam(s\"has_${gene}_expression\")\n",
        "    Seq(\n",
        "        (ens(gene), \"<http://www.w3.org/1999/02/22-rdf-syntax-ns#type>\", \"<http://aging-research.group/resource/Gene>\", cont) ,\n",
        "        (exp, \"<http://www.w3.org/1999/02/22-rdf-syntax-ns#type>\", \"<http://aging-research.group/resource/Gene_expression>\", cont) ,   \n",
        "        (exp, \"<http://aging-research.group/resource/expression_of>\", ens(gene), cont) ,      \n",
        "        (s\"<https://www.ncbi.nlm.nih.gov/sra/${run}>\", exp, num(tpm), cont )\n",
        "    )\n",
        "    }.toDF(\"subject\", \"property\", \"object\", \"context\").as[(String, String, String, String)]\n",
        "}"
      ],
      "outputs" : [
      ]
    },
    {
      "cell_type" : "code",
      "execution_count" : 38,
      "metadata" : {
        "cell.metadata.exec_info" : {
          "startTs" : 1591376997572,
          "endTs" : 1591377009584
        },
        "language" : "scala"
      },
      "language" : "scala",
      "source" : [
        "val all_expressions = runMap.map{ case (run, df) => expression_quads(run,df)}.reduce(_.union(_))\n",
        "all_expressions.show(100,10000)"
      ],
      "outputs" : [
        {
          "name" : "stdout",
          "text" : [
            "+-----------------------------------------------------------------------+-----------------------------------------------------------------------+----------------------------------------------------------+----------------------------------------+\n",
            "|                                                                subject|                                                               property|                                                    object|                                 context|\n",
            "+-----------------------------------------------------------------------+-----------------------------------------------------------------------+----------------------------------------------------------+----------------------------------------+\n",
            "|             <http://rdf.ebi.ac.uk/resource/ensembl/ENSFCAG00000000001>|                      <http://www.w3.org/1999/02/22-rdf-syntax-ns#type>|               <http://aging-research.group/resource/Gene>|<http://aging-research.group/samples/> .|\n",
            "|<http://aging-research.group/samples/has_ENSFCAG00000000001_expression>|                      <http://www.w3.org/1999/02/22-rdf-syntax-ns#type>|    <http://aging-research.group/resource/Gene_expression>|<http://aging-research.group/samples/> .|\n",
            "|<http://aging-research.group/samples/has_ENSFCAG00000000001_expression>|                   <http://aging-research.group/resource/expression_of>|<http://rdf.ebi.ac.uk/resource/ensembl/ENSFCAG00000000001>|<http://aging-research.group/samples/> .|\n",
            "|                           <https://www.ncbi.nlm.nih.gov/sra/SRR636950>|<http://aging-research.group/samples/has_ENSFCAG00000000001_expression>|      \"6.20273\"^^<http://www.w3.org/2001/XMLSchema#double>|<http://aging-research.group/samples/> .|\n",
            "|             <http://rdf.ebi.ac.uk/resource/ensembl/ENSFCAG00000000007>|                      <http://www.w3.org/1999/02/22-rdf-syntax-ns#type>|               <http://aging-research.group/resource/Gene>|<http://aging-research.group/samples/> .|\n",
            "|<http://aging-research.group/samples/has_ENSFCAG00000000007_expression>|                      <http://www.w3.org/1999/02/22-rdf-syntax-ns#type>|    <http://aging-research.group/resource/Gene_expression>|<http://aging-research.group/samples/> .|\n",
            "|<http://aging-research.group/samples/has_ENSFCAG00000000007_expression>|                   <http://aging-research.group/resource/expression_of>|<http://rdf.ebi.ac.uk/resource/ensembl/ENSFCAG00000000007>|<http://aging-research.group/samples/> .|\n",
            "|                           <https://www.ncbi.nlm.nih.gov/sra/SRR636950>|<http://aging-research.group/samples/has_ENSFCAG00000000007_expression>|     \"62.58021\"^^<http://www.w3.org/2001/XMLSchema#double>|<http://aging-research.group/samples/> .|\n",
            "|             <http://rdf.ebi.ac.uk/resource/ensembl/ENSFCAG00000000015>|                      <http://www.w3.org/1999/02/22-rdf-syntax-ns#type>|               <http://aging-research.group/resource/Gene>|<http://aging-research.group/samples/> .|\n",
            "|<http://aging-research.group/samples/has_ENSFCAG00000000015_expression>|                      <http://www.w3.org/1999/02/22-rdf-syntax-ns#type>|    <http://aging-research.group/resource/Gene_expression>|<http://aging-research.group/samples/> .|\n",
            "|<http://aging-research.group/samples/has_ENSFCAG00000000015_expression>|                   <http://aging-research.group/resource/expression_of>|<http://rdf.ebi.ac.uk/resource/ensembl/ENSFCAG00000000015>|<http://aging-research.group/samples/> .|\n",
            "|                           <https://www.ncbi.nlm.nih.gov/sra/SRR636950>|<http://aging-research.group/samples/has_ENSFCAG00000000015_expression>|     \"2.896679\"^^<http://www.w3.org/2001/XMLSchema#double>|<http://aging-research.group/samples/> .|\n",
            "|             <http://rdf.ebi.ac.uk/resource/ensembl/ENSFCAG00000000022>|                      <http://www.w3.org/1999/02/22-rdf-syntax-ns#type>|               <http://aging-research.group/resource/Gene>|<http://aging-research.group/samples/> .|\n",
            "|<http://aging-research.group/samples/has_ENSFCAG00000000022_expression>|                      <http://www.w3.org/1999/02/22-rdf-syntax-ns#type>|    <http://aging-research.group/resource/Gene_expression>|<http://aging-research.group/samples/> .|\n",
            "|<http://aging-research.group/samples/has_ENSFCAG00000000022_expression>|                   <http://aging-research.group/resource/expression_of>|<http://rdf.ebi.ac.uk/resource/ensembl/ENSFCAG00000000022>|<http://aging-research.group/samples/> .|\n",
            "|                           <https://www.ncbi.nlm.nih.gov/sra/SRR636950>|<http://aging-research.group/samples/has_ENSFCAG00000000022_expression>|    \"96.821404\"^^<http://www.w3.org/2001/XMLSchema#double>|<http://aging-research.group/samples/> .|\n",
            "|             <http://rdf.ebi.ac.uk/resource/ensembl/ENSFCAG00000000023>|                      <http://www.w3.org/1999/02/22-rdf-syntax-ns#type>|               <http://aging-research.group/resource/Gene>|<http://aging-research.group/samples/> .|\n",
            "|<http://aging-research.group/samples/has_ENSFCAG00000000023_expression>|                      <http://www.w3.org/1999/02/22-rdf-syntax-ns#type>|    <http://aging-research.group/resource/Gene_expression>|<http://aging-research.group/samples/> .|\n",
            "|<http://aging-research.group/samples/has_ENSFCAG00000000023_expression>|                   <http://aging-research.group/resource/expression_of>|<http://rdf.ebi.ac.uk/resource/ensembl/ENSFCAG00000000023>|<http://aging-research.group/samples/> .|\n",
            "|                           <https://www.ncbi.nlm.nih.gov/sra/SRR636950>|<http://aging-research.group/samples/has_ENSFCAG00000000023_expression>|     \"0.441084\"^^<http://www.w3.org/2001/XMLSchema#double>|<http://aging-research.group/samples/> .|\n",
            "|             <http://rdf.ebi.ac.uk/resource/ensembl/ENSFCAG00000000024>|                      <http://www.w3.org/1999/02/22-rdf-syntax-ns#type>|               <http://aging-research.group/resource/Gene>|<http://aging-research.group/samples/> .|\n",
            "|<http://aging-research.group/samples/has_ENSFCAG00000000024_expression>|                      <http://www.w3.org/1999/02/22-rdf-syntax-ns#type>|    <http://aging-research.group/resource/Gene_expression>|<http://aging-research.group/samples/> .|\n",
            "|<http://aging-research.group/samples/has_ENSFCAG00000000024_expression>|                   <http://aging-research.group/resource/expression_of>|<http://rdf.ebi.ac.uk/resource/ensembl/ENSFCAG00000000024>|<http://aging-research.group/samples/> .|\n",
            "|                           <https://www.ncbi.nlm.nih.gov/sra/SRR636950>|<http://aging-research.group/samples/has_ENSFCAG00000000024_expression>|     \"44.85023\"^^<http://www.w3.org/2001/XMLSchema#double>|<http://aging-research.group/samples/> .|\n",
            "|             <http://rdf.ebi.ac.uk/resource/ensembl/ENSFCAG00000000028>|                      <http://www.w3.org/1999/02/22-rdf-syntax-ns#type>|               <http://aging-research.group/resource/Gene>|<http://aging-research.group/samples/> .|\n",
            "|<http://aging-research.group/samples/has_ENSFCAG00000000028_expression>|                      <http://www.w3.org/1999/02/22-rdf-syntax-ns#type>|    <http://aging-research.group/resource/Gene_expression>|<http://aging-research.group/samples/> .|\n",
            "|<http://aging-research.group/samples/has_ENSFCAG00000000028_expression>|                   <http://aging-research.group/resource/expression_of>|<http://rdf.ebi.ac.uk/resource/ensembl/ENSFCAG00000000028>|<http://aging-research.group/samples/> .|\n",
            "|                           <https://www.ncbi.nlm.nih.gov/sra/SRR636950>|<http://aging-research.group/samples/has_ENSFCAG00000000028_expression>|     \"23.46776\"^^<http://www.w3.org/2001/XMLSchema#double>|<http://aging-research.group/samples/> .|\n",
            "|             <http://rdf.ebi.ac.uk/resource/ensembl/ENSFCAG00000000029>|                      <http://www.w3.org/1999/02/22-rdf-syntax-ns#type>|               <http://aging-research.group/resource/Gene>|<http://aging-research.group/samples/> .|\n",
            "|<http://aging-research.group/samples/has_ENSFCAG00000000029_expression>|                      <http://www.w3.org/1999/02/22-rdf-syntax-ns#type>|    <http://aging-research.group/resource/Gene_expression>|<http://aging-research.group/samples/> .|\n",
            "|<http://aging-research.group/samples/has_ENSFCAG00000000029_expression>|                   <http://aging-research.group/resource/expression_of>|<http://rdf.ebi.ac.uk/resource/ensembl/ENSFCAG00000000029>|<http://aging-research.group/samples/> .|\n",
            "|                           <https://www.ncbi.nlm.nih.gov/sra/SRR636950>|<http://aging-research.group/samples/has_ENSFCAG00000000029_expression>|    \"26.309989\"^^<http://www.w3.org/2001/XMLSchema#double>|<http://aging-research.group/samples/> .|\n",
            "|             <http://rdf.ebi.ac.uk/resource/ensembl/ENSFCAG00000000030>|                      <http://www.w3.org/1999/02/22-rdf-syntax-ns#type>|               <http://aging-research.group/resource/Gene>|<http://aging-research.group/samples/> .|\n",
            "|<http://aging-research.group/samples/has_ENSFCAG00000000030_expression>|                      <http://www.w3.org/1999/02/22-rdf-syntax-ns#type>|    <http://aging-research.group/resource/Gene_expression>|<http://aging-research.group/samples/> .|\n",
            "|<http://aging-research.group/samples/has_ENSFCAG00000000030_expression>|                   <http://aging-research.group/resource/expression_of>|<http://rdf.ebi.ac.uk/resource/ensembl/ENSFCAG00000000030>|<http://aging-research.group/samples/> .|\n",
            "|                           <https://www.ncbi.nlm.nih.gov/sra/SRR636950>|<http://aging-research.group/samples/has_ENSFCAG00000000030_expression>|     \"0.219659\"^^<http://www.w3.org/2001/XMLSchema#double>|<http://aging-research.group/samples/> .|\n",
            "|             <http://rdf.ebi.ac.uk/resource/ensembl/ENSFCAG00000000031>|                      <http://www.w3.org/1999/02/22-rdf-syntax-ns#type>|               <http://aging-research.group/resource/Gene>|<http://aging-research.group/samples/> .|\n",
            "|<http://aging-research.group/samples/has_ENSFCAG00000000031_expression>|                      <http://www.w3.org/1999/02/22-rdf-syntax-ns#type>|    <http://aging-research.group/resource/Gene_expression>|<http://aging-research.group/samples/> .|\n",
            "|<http://aging-research.group/samples/has_ENSFCAG00000000031_expression>|                   <http://aging-research.group/resource/expression_of>|<http://rdf.ebi.ac.uk/resource/ensembl/ENSFCAG00000000031>|<http://aging-research.group/samples/> .|\n",
            "|                           <https://www.ncbi.nlm.nih.gov/sra/SRR636950>|<http://aging-research.group/samples/has_ENSFCAG00000000031_expression>|     \"6.676653\"^^<http://www.w3.org/2001/XMLSchema#double>|<http://aging-research.group/samples/> .|\n",
            "|             <http://rdf.ebi.ac.uk/resource/ensembl/ENSFCAG00000000032>|                      <http://www.w3.org/1999/02/22-rdf-syntax-ns#type>|               <http://aging-research.group/resource/Gene>|<http://aging-research.group/samples/> .|\n",
            "|<http://aging-research.group/samples/has_ENSFCAG00000000032_expression>|                      <http://www.w3.org/1999/02/22-rdf-syntax-ns#type>|    <http://aging-research.group/resource/Gene_expression>|<http://aging-research.group/samples/> .|\n",
            "|<http://aging-research.group/samples/has_ENSFCAG00000000032_expression>|                   <http://aging-research.group/resource/expression_of>|<http://rdf.ebi.ac.uk/resource/ensembl/ENSFCAG00000000032>|<http://aging-research.group/samples/> .|\n",
            "|                           <https://www.ncbi.nlm.nih.gov/sra/SRR636950>|<http://aging-research.group/samples/has_ENSFCAG00000000032_expression>|     \"2.817622\"^^<http://www.w3.org/2001/XMLSchema#double>|<http://aging-research.group/samples/> .|\n",
            "|             <http://rdf.ebi.ac.uk/resource/ensembl/ENSFCAG00000000034>|                      <http://www.w3.org/1999/02/22-rdf-syntax-ns#type>|               <http://aging-research.group/resource/Gene>|<http://aging-research.group/samples/> .|\n",
            "|<http://aging-research.group/samples/has_ENSFCAG00000000034_expression>|                      <http://www.w3.org/1999/02/22-rdf-syntax-ns#type>|    <http://aging-research.group/resource/Gene_expression>|<http://aging-research.group/samples/> .|\n",
            "|<http://aging-research.group/samples/has_ENSFCAG00000000034_expression>|                   <http://aging-research.group/resource/expression_of>|<http://rdf.ebi.ac.uk/resource/ensembl/ENSFCAG00000000034>|<http://aging-research.group/samples/> .|\n",
            "|                           <https://www.ncbi.nlm.nih.gov/sra/SRR636950>|<http://aging-research.group/samples/has_ENSFCAG00000000034_expression>|      \"8.02923\"^^<http://www.w3.org/2001/XMLSchema#double>|<http://aging-research.group/samples/> .|\n",
            "|             <http://rdf.ebi.ac.uk/resource/ensembl/ENSFCAG00000000035>|                      <http://www.w3.org/1999/02/22-rdf-syntax-ns#type>|               <http://aging-research.group/resource/Gene>|<http://aging-research.group/samples/> .|\n",
            "|<http://aging-research.group/samples/has_ENSFCAG00000000035_expression>|                      <http://www.w3.org/1999/02/22-rdf-syntax-ns#type>|    <http://aging-research.group/resource/Gene_expression>|<http://aging-research.group/samples/> .|\n",
            "|<http://aging-research.group/samples/has_ENSFCAG00000000035_expression>|                   <http://aging-research.group/resource/expression_of>|<http://rdf.ebi.ac.uk/resource/ensembl/ENSFCAG00000000035>|<http://aging-research.group/samples/> .|\n",
            "|                           <https://www.ncbi.nlm.nih.gov/sra/SRR636950>|<http://aging-research.group/samples/has_ENSFCAG00000000035_expression>|    \"10.499434\"^^<http://www.w3.org/2001/XMLSchema#double>|<http://aging-research.group/samples/> .|\n",
            "|             <http://rdf.ebi.ac.uk/resource/ensembl/ENSFCAG00000000036>|                      <http://www.w3.org/1999/02/22-rdf-syntax-ns#type>|               <http://aging-research.group/resource/Gene>|<http://aging-research.group/samples/> .|\n",
            "|<http://aging-research.group/samples/has_ENSFCAG00000000036_expression>|                      <http://www.w3.org/1999/02/22-rdf-syntax-ns#type>|    <http://aging-research.group/resource/Gene_expression>|<http://aging-research.group/samples/> .|\n",
            "|<http://aging-research.group/samples/has_ENSFCAG00000000036_expression>|                   <http://aging-research.group/resource/expression_of>|<http://rdf.ebi.ac.uk/resource/ensembl/ENSFCAG00000000036>|<http://aging-research.group/samples/> .|\n",
            "|                           <https://www.ncbi.nlm.nih.gov/sra/SRR636950>|<http://aging-research.group/samples/has_ENSFCAG00000000036_expression>|          \"0.0\"^^<http://www.w3.org/2001/XMLSchema#double>|<http://aging-research.group/samples/> .|\n",
            "|             <http://rdf.ebi.ac.uk/resource/ensembl/ENSFCAG00000000038>|                      <http://www.w3.org/1999/02/22-rdf-syntax-ns#type>|               <http://aging-research.group/resource/Gene>|<http://aging-research.group/samples/> .|\n",
            "|<http://aging-research.group/samples/has_ENSFCAG00000000038_expression>|                      <http://www.w3.org/1999/02/22-rdf-syntax-ns#type>|    <http://aging-research.group/resource/Gene_expression>|<http://aging-research.group/samples/> .|\n",
            "|<http://aging-research.group/samples/has_ENSFCAG00000000038_expression>|                   <http://aging-research.group/resource/expression_of>|<http://rdf.ebi.ac.uk/resource/ensembl/ENSFCAG00000000038>|<http://aging-research.group/samples/> .|\n",
            "|                           <https://www.ncbi.nlm.nih.gov/sra/SRR636950>|<http://aging-research.group/samples/has_ENSFCAG00000000038_expression>|    \"28.853886\"^^<http://www.w3.org/2001/XMLSchema#double>|<http://aging-research.group/samples/> .|\n",
            "|             <http://rdf.ebi.ac.uk/resource/ensembl/ENSFCAG00000000043>|                      <http://www.w3.org/1999/02/22-rdf-syntax-ns#type>|               <http://aging-research.group/resource/Gene>|<http://aging-research.group/samples/> .|\n",
            "|<http://aging-research.group/samples/has_ENSFCAG00000000043_expression>|                      <http://www.w3.org/1999/02/22-rdf-syntax-ns#type>|    <http://aging-research.group/resource/Gene_expression>|<http://aging-research.group/samples/> .|\n",
            "|<http://aging-research.group/samples/has_ENSFCAG00000000043_expression>|                   <http://aging-research.group/resource/expression_of>|<http://rdf.ebi.ac.uk/resource/ensembl/ENSFCAG00000000043>|<http://aging-research.group/samples/> .|\n",
            "|                           <https://www.ncbi.nlm.nih.gov/sra/SRR636950>|<http://aging-research.group/samples/has_ENSFCAG00000000043_expression>|     \"8.705397\"^^<http://www.w3.org/2001/XMLSchema#double>|<http://aging-research.group/samples/> .|\n",
            "|             <http://rdf.ebi.ac.uk/resource/ensembl/ENSFCAG00000000044>|                      <http://www.w3.org/1999/02/22-rdf-syntax-ns#type>|               <http://aging-research.group/resource/Gene>|<http://aging-research.group/samples/> .|\n",
            "|<http://aging-research.group/samples/has_ENSFCAG00000000044_expression>|                      <http://www.w3.org/1999/02/22-rdf-syntax-ns#type>|    <http://aging-research.group/resource/Gene_expression>|<http://aging-research.group/samples/> .|\n",
            "|<http://aging-research.group/samples/has_ENSFCAG00000000044_expression>|                   <http://aging-research.group/resource/expression_of>|<http://rdf.ebi.ac.uk/resource/ensembl/ENSFCAG00000000044>|<http://aging-research.group/samples/> .|\n",
            "|                           <https://www.ncbi.nlm.nih.gov/sra/SRR636950>|<http://aging-research.group/samples/has_ENSFCAG00000000044_expression>|      \"9.09634\"^^<http://www.w3.org/2001/XMLSchema#double>|<http://aging-research.group/samples/> .|\n",
            "|             <http://rdf.ebi.ac.uk/resource/ensembl/ENSFCAG00000000049>|                      <http://www.w3.org/1999/02/22-rdf-syntax-ns#type>|               <http://aging-research.group/resource/Gene>|<http://aging-research.group/samples/> .|\n",
            "|<http://aging-research.group/samples/has_ENSFCAG00000000049_expression>|                      <http://www.w3.org/1999/02/22-rdf-syntax-ns#type>|    <http://aging-research.group/resource/Gene_expression>|<http://aging-research.group/samples/> .|\n",
            "|<http://aging-research.group/samples/has_ENSFCAG00000000049_expression>|                   <http://aging-research.group/resource/expression_of>|<http://rdf.ebi.ac.uk/resource/ensembl/ENSFCAG00000000049>|<http://aging-research.group/samples/> .|\n",
            "|                           <https://www.ncbi.nlm.nih.gov/sra/SRR636950>|<http://aging-research.group/samples/has_ENSFCAG00000000049_expression>|    \"35.788944\"^^<http://www.w3.org/2001/XMLSchema#double>|<http://aging-research.group/samples/> .|\n",
            "|             <http://rdf.ebi.ac.uk/resource/ensembl/ENSFCAG00000000050>|                      <http://www.w3.org/1999/02/22-rdf-syntax-ns#type>|               <http://aging-research.group/resource/Gene>|<http://aging-research.group/samples/> .|\n",
            "|<http://aging-research.group/samples/has_ENSFCAG00000000050_expression>|                      <http://www.w3.org/1999/02/22-rdf-syntax-ns#type>|    <http://aging-research.group/resource/Gene_expression>|<http://aging-research.group/samples/> .|\n",
            "|<http://aging-research.group/samples/has_ENSFCAG00000000050_expression>|                   <http://aging-research.group/resource/expression_of>|<http://rdf.ebi.ac.uk/resource/ensembl/ENSFCAG00000000050>|<http://aging-research.group/samples/> .|\n",
            "|                           <https://www.ncbi.nlm.nih.gov/sra/SRR636950>|<http://aging-research.group/samples/has_ENSFCAG00000000050_expression>|    \"52.005485\"^^<http://www.w3.org/2001/XMLSchema#double>|<http://aging-research.group/samples/> .|\n",
            "|             <http://rdf.ebi.ac.uk/resource/ensembl/ENSFCAG00000000051>|                      <http://www.w3.org/1999/02/22-rdf-syntax-ns#type>|               <http://aging-research.group/resource/Gene>|<http://aging-research.group/samples/> .|\n",
            "|<http://aging-research.group/samples/has_ENSFCAG00000000051_expression>|                      <http://www.w3.org/1999/02/22-rdf-syntax-ns#type>|    <http://aging-research.group/resource/Gene_expression>|<http://aging-research.group/samples/> .|\n",
            "|<http://aging-research.group/samples/has_ENSFCAG00000000051_expression>|                   <http://aging-research.group/resource/expression_of>|<http://rdf.ebi.ac.uk/resource/ensembl/ENSFCAG00000000051>|<http://aging-research.group/samples/> .|\n",
            "|                           <https://www.ncbi.nlm.nih.gov/sra/SRR636950>|<http://aging-research.group/samples/has_ENSFCAG00000000051_expression>|     \"6.410243\"^^<http://www.w3.org/2001/XMLSchema#double>|<http://aging-research.group/samples/> .|\n",
            "|             <http://rdf.ebi.ac.uk/resource/ensembl/ENSFCAG00000000052>|                      <http://www.w3.org/1999/02/22-rdf-syntax-ns#type>|               <http://aging-research.group/resource/Gene>|<http://aging-research.group/samples/> .|\n",
            "|<http://aging-research.group/samples/has_ENSFCAG00000000052_expression>|                      <http://www.w3.org/1999/02/22-rdf-syntax-ns#type>|    <http://aging-research.group/resource/Gene_expression>|<http://aging-research.group/samples/> .|\n",
            "|<http://aging-research.group/samples/has_ENSFCAG00000000052_expression>|                   <http://aging-research.group/resource/expression_of>|<http://rdf.ebi.ac.uk/resource/ensembl/ENSFCAG00000000052>|<http://aging-research.group/samples/> .|\n",
            "|                           <https://www.ncbi.nlm.nih.gov/sra/SRR636950>|<http://aging-research.group/samples/has_ENSFCAG00000000052_expression>|    \"14.971793\"^^<http://www.w3.org/2001/XMLSchema#double>|<http://aging-research.group/samples/> .|\n",
            "|             <http://rdf.ebi.ac.uk/resource/ensembl/ENSFCAG00000000053>|                      <http://www.w3.org/1999/02/22-rdf-syntax-ns#type>|               <http://aging-research.group/resource/Gene>|<http://aging-research.group/samples/> .|\n",
            "|<http://aging-research.group/samples/has_ENSFCAG00000000053_expression>|                      <http://www.w3.org/1999/02/22-rdf-syntax-ns#type>|    <http://aging-research.group/resource/Gene_expression>|<http://aging-research.group/samples/> .|\n",
            "|<http://aging-research.group/samples/has_ENSFCAG00000000053_expression>|                   <http://aging-research.group/resource/expression_of>|<http://rdf.ebi.ac.uk/resource/ensembl/ENSFCAG00000000053>|<http://aging-research.group/samples/> .|\n",
            "|                           <https://www.ncbi.nlm.nih.gov/sra/SRR636950>|<http://aging-research.group/samples/has_ENSFCAG00000000053_expression>|    \"24.963881\"^^<http://www.w3.org/2001/XMLSchema#double>|<http://aging-research.group/samples/> .|\n",
            "|             <http://rdf.ebi.ac.uk/resource/ensembl/ENSFCAG00000000055>|                      <http://www.w3.org/1999/02/22-rdf-syntax-ns#type>|               <http://aging-research.group/resource/Gene>|<http://aging-research.group/samples/> .|\n",
            "|<http://aging-research.group/samples/has_ENSFCAG00000000055_expression>|                      <http://www.w3.org/1999/02/22-rdf-syntax-ns#type>|    <http://aging-research.group/resource/Gene_expression>|<http://aging-research.group/samples/> .|\n",
            "|<http://aging-research.group/samples/has_ENSFCAG00000000055_expression>|                   <http://aging-research.group/resource/expression_of>|<http://rdf.ebi.ac.uk/resource/ensembl/ENSFCAG00000000055>|<http://aging-research.group/samples/> .|\n",
            "|                           <https://www.ncbi.nlm.nih.gov/sra/SRR636950>|<http://aging-research.group/samples/has_ENSFCAG00000000055_expression>|     \"4.807055\"^^<http://www.w3.org/2001/XMLSchema#double>|<http://aging-research.group/samples/> .|\n",
            "|             <http://rdf.ebi.ac.uk/resource/ensembl/ENSFCAG00000000059>|                      <http://www.w3.org/1999/02/22-rdf-syntax-ns#type>|               <http://aging-research.group/resource/Gene>|<http://aging-research.group/samples/> .|\n",
            "|<http://aging-research.group/samples/has_ENSFCAG00000000059_expression>|                      <http://www.w3.org/1999/02/22-rdf-syntax-ns#type>|    <http://aging-research.group/resource/Gene_expression>|<http://aging-research.group/samples/> .|\n",
            "|<http://aging-research.group/samples/has_ENSFCAG00000000059_expression>|                   <http://aging-research.group/resource/expression_of>|<http://rdf.ebi.ac.uk/resource/ensembl/ENSFCAG00000000059>|<http://aging-research.group/samples/> .|\n",
            "|                           <https://www.ncbi.nlm.nih.gov/sra/SRR636950>|<http://aging-research.group/samples/has_ENSFCAG00000000059_expression>|    \"18.489994\"^^<http://www.w3.org/2001/XMLSchema#double>|<http://aging-research.group/samples/> .|\n",
            "|             <http://rdf.ebi.ac.uk/resource/ensembl/ENSFCAG00000000061>|                      <http://www.w3.org/1999/02/22-rdf-syntax-ns#type>|               <http://aging-research.group/resource/Gene>|<http://aging-research.group/samples/> .|\n",
            "|<http://aging-research.group/samples/has_ENSFCAG00000000061_expression>|                      <http://www.w3.org/1999/02/22-rdf-syntax-ns#type>|    <http://aging-research.group/resource/Gene_expression>|<http://aging-research.group/samples/> .|\n",
            "|<http://aging-research.group/samples/has_ENSFCAG00000000061_expression>|                   <http://aging-research.group/resource/expression_of>|<http://rdf.ebi.ac.uk/resource/ensembl/ENSFCAG00000000061>|<http://aging-research.group/samples/> .|\n",
            "|                           <https://www.ncbi.nlm.nih.gov/sra/SRR636950>|<http://aging-research.group/samples/has_ENSFCAG00000000061_expression>|    \"12.424105\"^^<http://www.w3.org/2001/XMLSchema#double>|<http://aging-research.group/samples/> .|\n",
            "+-----------------------------------------------------------------------+-----------------------------------------------------------------------+----------------------------------------------------------+----------------------------------------+\n",
            "only showing top 100 rows\n",
            "\n"
          ],
          "output_type" : "stream"
        }
      ]
    },
    {
      "cell_type" : "code",
      "execution_count" : 39,
      "metadata" : {
        "cell.metadata.exec_info" : {
          "startTs" : 1591377009587,
          "endTs" : 1591377013917
        },
        "language" : "scala"
      },
      "language" : "scala",
      "source" : [
        "all_expressions.count()"
      ],
      "outputs" : [
        {
          "execution_count" : 39,
          "data" : {
            "text/plain" : [
              "5860968"
            ]
          },
          "metadata" : {
            "name" : "Out",
            "type" : "Long"
          },
          "output_type" : "execute_result"
        }
      ]
    },
    {
      "cell_type" : "code",
      "execution_count" : 40,
      "metadata" : {
        "cell.metadata.exec_info" : {
          "startTs" : 1591377157612,
          "endTs" : 1591377186217
        },
        "language" : "scala"
      },
      "language" : "scala",
      "source" : [
        "all_expressions.toDF.writeTSV(\"/data/databases/graphdb/import/expressions_update.nq\", header = false, rewrite = true)"
      ],
      "outputs" : [
        {
          "name" : "stdout",
          "text" : [
            "parts of /data/databases/graphdb/import/expressions_update.nq merged!\n"
          ],
          "output_type" : "stream"
        },
        {
          "execution_count" : 40,
          "data" : {
            "text/plain" : [
              "/data/databases/graphdb/import/expressions_update.nq"
            ]
          },
          "metadata" : {
            "name" : "Out",
            "type" : "String"
          },
          "output_type" : "execute_result"
        }
      ]
    },
    {
      "cell_type" : "code",
      "execution_count" : 41,
      "metadata" : {
        "cell.metadata.exec_info" : {
          "startTs" : 1581823229339,
          "endTs" : 1581823229588
        },
        "language" : "scala"
      },
      "language" : "scala",
      "source" : [
        "expression_quads(r, e).show(200,1000)"
      ],
      "outputs" : [
        {
          "name" : "stdout",
          "text" : [
            "+-----------------------------------------------------------------------+-----------------------------------------------------------------------+----------------------------------------------------------+----------------------------------------+\n",
            "|                                                                subject|                                                               property|                                                    object|                                 context|\n",
            "+-----------------------------------------------------------------------+-----------------------------------------------------------------------+----------------------------------------------------------+----------------------------------------+\n",
            "|             <http://rdf.ebi.ac.uk/resource/ensembl/ENSBTAG00000000005>|                      <http://www.w3.org/1999/02/22-rdf-syntax-ns#type>|               <http://aging-research.group/resource/Gene>|<http://aging-research.group/samples/> .|\n",
            "|<http://aging-research.group/samples/has_ENSBTAG00000000005_expression>|                      <http://www.w3.org/1999/02/22-rdf-syntax-ns#type>|    <http://aging-research.group/resource/Gene_expression>|<http://aging-research.group/samples/> .|\n",
            "|<http://aging-research.group/samples/has_ENSBTAG00000000005_expression>|                   <http://aging-research.group/resource/expression_of>|<http://rdf.ebi.ac.uk/resource/ensembl/ENSBTAG00000000005>|<http://aging-research.group/samples/> .|\n",
            "|                          <https://www.ncbi.nlm.nih.gov/sra/SRR3109710>|<http://aging-research.group/samples/has_ENSBTAG00000000005_expression>|     \"3.965549\"^^<http://www.w3.org/2001/XMLSchema#double>|<http://aging-research.group/samples/> .|\n",
            "|             <http://rdf.ebi.ac.uk/resource/ensembl/ENSBTAG00000000008>|                      <http://www.w3.org/1999/02/22-rdf-syntax-ns#type>|               <http://aging-research.group/resource/Gene>|<http://aging-research.group/samples/> .|\n",
            "|<http://aging-research.group/samples/has_ENSBTAG00000000008_expression>|                      <http://www.w3.org/1999/02/22-rdf-syntax-ns#type>|    <http://aging-research.group/resource/Gene_expression>|<http://aging-research.group/samples/> .|\n",
            "|<http://aging-research.group/samples/has_ENSBTAG00000000008_expression>|                   <http://aging-research.group/resource/expression_of>|<http://rdf.ebi.ac.uk/resource/ensembl/ENSBTAG00000000008>|<http://aging-research.group/samples/> .|\n",
            "|                          <https://www.ncbi.nlm.nih.gov/sra/SRR3109710>|<http://aging-research.group/samples/has_ENSBTAG00000000008_expression>|     \"53.09942\"^^<http://www.w3.org/2001/XMLSchema#double>|<http://aging-research.group/samples/> .|\n",
            "|             <http://rdf.ebi.ac.uk/resource/ensembl/ENSBTAG00000000009>|                      <http://www.w3.org/1999/02/22-rdf-syntax-ns#type>|               <http://aging-research.group/resource/Gene>|<http://aging-research.group/samples/> .|\n",
            "|<http://aging-research.group/samples/has_ENSBTAG00000000009_expression>|                      <http://www.w3.org/1999/02/22-rdf-syntax-ns#type>|    <http://aging-research.group/resource/Gene_expression>|<http://aging-research.group/samples/> .|\n",
            "|<http://aging-research.group/samples/has_ENSBTAG00000000009_expression>|                   <http://aging-research.group/resource/expression_of>|<http://rdf.ebi.ac.uk/resource/ensembl/ENSBTAG00000000009>|<http://aging-research.group/samples/> .|\n",
            "|                          <https://www.ncbi.nlm.nih.gov/sra/SRR3109710>|<http://aging-research.group/samples/has_ENSBTAG00000000009_expression>|     \"1.520721\"^^<http://www.w3.org/2001/XMLSchema#double>|<http://aging-research.group/samples/> .|\n",
            "|             <http://rdf.ebi.ac.uk/resource/ensembl/ENSBTAG00000000010>|                      <http://www.w3.org/1999/02/22-rdf-syntax-ns#type>|               <http://aging-research.group/resource/Gene>|<http://aging-research.group/samples/> .|\n",
            "|<http://aging-research.group/samples/has_ENSBTAG00000000010_expression>|                      <http://www.w3.org/1999/02/22-rdf-syntax-ns#type>|    <http://aging-research.group/resource/Gene_expression>|<http://aging-research.group/samples/> .|\n",
            "|<http://aging-research.group/samples/has_ENSBTAG00000000010_expression>|                   <http://aging-research.group/resource/expression_of>|<http://rdf.ebi.ac.uk/resource/ensembl/ENSBTAG00000000010>|<http://aging-research.group/samples/> .|\n",
            "|                          <https://www.ncbi.nlm.nih.gov/sra/SRR3109710>|<http://aging-research.group/samples/has_ENSBTAG00000000010_expression>|    \"29.502356\"^^<http://www.w3.org/2001/XMLSchema#double>|<http://aging-research.group/samples/> .|\n",
            "|             <http://rdf.ebi.ac.uk/resource/ensembl/ENSBTAG00000000011>|                      <http://www.w3.org/1999/02/22-rdf-syntax-ns#type>|               <http://aging-research.group/resource/Gene>|<http://aging-research.group/samples/> .|\n",
            "|<http://aging-research.group/samples/has_ENSBTAG00000000011_expression>|                      <http://www.w3.org/1999/02/22-rdf-syntax-ns#type>|    <http://aging-research.group/resource/Gene_expression>|<http://aging-research.group/samples/> .|\n",
            "|<http://aging-research.group/samples/has_ENSBTAG00000000011_expression>|                   <http://aging-research.group/resource/expression_of>|<http://rdf.ebi.ac.uk/resource/ensembl/ENSBTAG00000000011>|<http://aging-research.group/samples/> .|\n",
            "|                          <https://www.ncbi.nlm.nih.gov/sra/SRR3109710>|<http://aging-research.group/samples/has_ENSBTAG00000000011_expression>|     \"0.367381\"^^<http://www.w3.org/2001/XMLSchema#double>|<http://aging-research.group/samples/> .|\n",
            "|             <http://rdf.ebi.ac.uk/resource/ensembl/ENSBTAG00000000012>|                      <http://www.w3.org/1999/02/22-rdf-syntax-ns#type>|               <http://aging-research.group/resource/Gene>|<http://aging-research.group/samples/> .|\n",
            "|<http://aging-research.group/samples/has_ENSBTAG00000000012_expression>|                      <http://www.w3.org/1999/02/22-rdf-syntax-ns#type>|    <http://aging-research.group/resource/Gene_expression>|<http://aging-research.group/samples/> .|\n",
            "|<http://aging-research.group/samples/has_ENSBTAG00000000012_expression>|                   <http://aging-research.group/resource/expression_of>|<http://rdf.ebi.ac.uk/resource/ensembl/ENSBTAG00000000012>|<http://aging-research.group/samples/> .|\n",
            "|                          <https://www.ncbi.nlm.nih.gov/sra/SRR3109710>|<http://aging-research.group/samples/has_ENSBTAG00000000012_expression>|    \"11.924181\"^^<http://www.w3.org/2001/XMLSchema#double>|<http://aging-research.group/samples/> .|\n",
            "|             <http://rdf.ebi.ac.uk/resource/ensembl/ENSBTAG00000000013>|                      <http://www.w3.org/1999/02/22-rdf-syntax-ns#type>|               <http://aging-research.group/resource/Gene>|<http://aging-research.group/samples/> .|\n",
            "|<http://aging-research.group/samples/has_ENSBTAG00000000013_expression>|                      <http://www.w3.org/1999/02/22-rdf-syntax-ns#type>|    <http://aging-research.group/resource/Gene_expression>|<http://aging-research.group/samples/> .|\n",
            "|<http://aging-research.group/samples/has_ENSBTAG00000000013_expression>|                   <http://aging-research.group/resource/expression_of>|<http://rdf.ebi.ac.uk/resource/ensembl/ENSBTAG00000000013>|<http://aging-research.group/samples/> .|\n",
            "|                          <https://www.ncbi.nlm.nih.gov/sra/SRR3109710>|<http://aging-research.group/samples/has_ENSBTAG00000000013_expression>|    \"19.696811\"^^<http://www.w3.org/2001/XMLSchema#double>|<http://aging-research.group/samples/> .|\n",
            "|             <http://rdf.ebi.ac.uk/resource/ensembl/ENSBTAG00000000014>|                      <http://www.w3.org/1999/02/22-rdf-syntax-ns#type>|               <http://aging-research.group/resource/Gene>|<http://aging-research.group/samples/> .|\n",
            "|<http://aging-research.group/samples/has_ENSBTAG00000000014_expression>|                      <http://www.w3.org/1999/02/22-rdf-syntax-ns#type>|    <http://aging-research.group/resource/Gene_expression>|<http://aging-research.group/samples/> .|\n",
            "|<http://aging-research.group/samples/has_ENSBTAG00000000014_expression>|                   <http://aging-research.group/resource/expression_of>|<http://rdf.ebi.ac.uk/resource/ensembl/ENSBTAG00000000014>|<http://aging-research.group/samples/> .|\n",
            "|                          <https://www.ncbi.nlm.nih.gov/sra/SRR3109710>|<http://aging-research.group/samples/has_ENSBTAG00000000014_expression>|   \"112.534523\"^^<http://www.w3.org/2001/XMLSchema#double>|<http://aging-research.group/samples/> .|\n",
            "|             <http://rdf.ebi.ac.uk/resource/ensembl/ENSBTAG00000000015>|                      <http://www.w3.org/1999/02/22-rdf-syntax-ns#type>|               <http://aging-research.group/resource/Gene>|<http://aging-research.group/samples/> .|\n",
            "|<http://aging-research.group/samples/has_ENSBTAG00000000015_expression>|                      <http://www.w3.org/1999/02/22-rdf-syntax-ns#type>|    <http://aging-research.group/resource/Gene_expression>|<http://aging-research.group/samples/> .|\n",
            "|<http://aging-research.group/samples/has_ENSBTAG00000000015_expression>|                   <http://aging-research.group/resource/expression_of>|<http://rdf.ebi.ac.uk/resource/ensembl/ENSBTAG00000000015>|<http://aging-research.group/samples/> .|\n",
            "|                          <https://www.ncbi.nlm.nih.gov/sra/SRR3109710>|<http://aging-research.group/samples/has_ENSBTAG00000000015_expression>|     \"1.715009\"^^<http://www.w3.org/2001/XMLSchema#double>|<http://aging-research.group/samples/> .|\n",
            "|             <http://rdf.ebi.ac.uk/resource/ensembl/ENSBTAG00000000016>|                      <http://www.w3.org/1999/02/22-rdf-syntax-ns#type>|               <http://aging-research.group/resource/Gene>|<http://aging-research.group/samples/> .|\n",
            "|<http://aging-research.group/samples/has_ENSBTAG00000000016_expression>|                      <http://www.w3.org/1999/02/22-rdf-syntax-ns#type>|    <http://aging-research.group/resource/Gene_expression>|<http://aging-research.group/samples/> .|\n",
            "|<http://aging-research.group/samples/has_ENSBTAG00000000016_expression>|                   <http://aging-research.group/resource/expression_of>|<http://rdf.ebi.ac.uk/resource/ensembl/ENSBTAG00000000016>|<http://aging-research.group/samples/> .|\n",
            "|                          <https://www.ncbi.nlm.nih.gov/sra/SRR3109710>|<http://aging-research.group/samples/has_ENSBTAG00000000016_expression>|     \"0.217612\"^^<http://www.w3.org/2001/XMLSchema#double>|<http://aging-research.group/samples/> .|\n",
            "|             <http://rdf.ebi.ac.uk/resource/ensembl/ENSBTAG00000000019>|                      <http://www.w3.org/1999/02/22-rdf-syntax-ns#type>|               <http://aging-research.group/resource/Gene>|<http://aging-research.group/samples/> .|\n",
            "|<http://aging-research.group/samples/has_ENSBTAG00000000019_expression>|                      <http://www.w3.org/1999/02/22-rdf-syntax-ns#type>|    <http://aging-research.group/resource/Gene_expression>|<http://aging-research.group/samples/> .|\n",
            "|<http://aging-research.group/samples/has_ENSBTAG00000000019_expression>|                   <http://aging-research.group/resource/expression_of>|<http://rdf.ebi.ac.uk/resource/ensembl/ENSBTAG00000000019>|<http://aging-research.group/samples/> .|\n",
            "|                          <https://www.ncbi.nlm.nih.gov/sra/SRR3109710>|<http://aging-research.group/samples/has_ENSBTAG00000000019_expression>|   \"265.549443\"^^<http://www.w3.org/2001/XMLSchema#double>|<http://aging-research.group/samples/> .|\n",
            "|             <http://rdf.ebi.ac.uk/resource/ensembl/ENSBTAG00000000020>|                      <http://www.w3.org/1999/02/22-rdf-syntax-ns#type>|               <http://aging-research.group/resource/Gene>|<http://aging-research.group/samples/> .|\n",
            "|<http://aging-research.group/samples/has_ENSBTAG00000000020_expression>|                      <http://www.w3.org/1999/02/22-rdf-syntax-ns#type>|    <http://aging-research.group/resource/Gene_expression>|<http://aging-research.group/samples/> .|\n",
            "|<http://aging-research.group/samples/has_ENSBTAG00000000020_expression>|                   <http://aging-research.group/resource/expression_of>|<http://rdf.ebi.ac.uk/resource/ensembl/ENSBTAG00000000020>|<http://aging-research.group/samples/> .|\n",
            "|                          <https://www.ncbi.nlm.nih.gov/sra/SRR3109710>|<http://aging-research.group/samples/has_ENSBTAG00000000020_expression>|          \"0.0\"^^<http://www.w3.org/2001/XMLSchema#double>|<http://aging-research.group/samples/> .|\n",
            "|             <http://rdf.ebi.ac.uk/resource/ensembl/ENSBTAG00000000021>|                      <http://www.w3.org/1999/02/22-rdf-syntax-ns#type>|               <http://aging-research.group/resource/Gene>|<http://aging-research.group/samples/> .|\n",
            "|<http://aging-research.group/samples/has_ENSBTAG00000000021_expression>|                      <http://www.w3.org/1999/02/22-rdf-syntax-ns#type>|    <http://aging-research.group/resource/Gene_expression>|<http://aging-research.group/samples/> .|\n",
            "|<http://aging-research.group/samples/has_ENSBTAG00000000021_expression>|                   <http://aging-research.group/resource/expression_of>|<http://rdf.ebi.ac.uk/resource/ensembl/ENSBTAG00000000021>|<http://aging-research.group/samples/> .|\n",
            "|                          <https://www.ncbi.nlm.nih.gov/sra/SRR3109710>|<http://aging-research.group/samples/has_ENSBTAG00000000021_expression>|     \"8.300591\"^^<http://www.w3.org/2001/XMLSchema#double>|<http://aging-research.group/samples/> .|\n",
            "|             <http://rdf.ebi.ac.uk/resource/ensembl/ENSBTAG00000000022>|                      <http://www.w3.org/1999/02/22-rdf-syntax-ns#type>|               <http://aging-research.group/resource/Gene>|<http://aging-research.group/samples/> .|\n",
            "|<http://aging-research.group/samples/has_ENSBTAG00000000022_expression>|                      <http://www.w3.org/1999/02/22-rdf-syntax-ns#type>|    <http://aging-research.group/resource/Gene_expression>|<http://aging-research.group/samples/> .|\n",
            "|<http://aging-research.group/samples/has_ENSBTAG00000000022_expression>|                   <http://aging-research.group/resource/expression_of>|<http://rdf.ebi.ac.uk/resource/ensembl/ENSBTAG00000000022>|<http://aging-research.group/samples/> .|\n",
            "|                          <https://www.ncbi.nlm.nih.gov/sra/SRR3109710>|<http://aging-research.group/samples/has_ENSBTAG00000000022_expression>|     \"9.223065\"^^<http://www.w3.org/2001/XMLSchema#double>|<http://aging-research.group/samples/> .|\n",
            "|             <http://rdf.ebi.ac.uk/resource/ensembl/ENSBTAG00000000023>|                      <http://www.w3.org/1999/02/22-rdf-syntax-ns#type>|               <http://aging-research.group/resource/Gene>|<http://aging-research.group/samples/> .|\n",
            "|<http://aging-research.group/samples/has_ENSBTAG00000000023_expression>|                      <http://www.w3.org/1999/02/22-rdf-syntax-ns#type>|    <http://aging-research.group/resource/Gene_expression>|<http://aging-research.group/samples/> .|\n",
            "|<http://aging-research.group/samples/has_ENSBTAG00000000023_expression>|                   <http://aging-research.group/resource/expression_of>|<http://rdf.ebi.ac.uk/resource/ensembl/ENSBTAG00000000023>|<http://aging-research.group/samples/> .|\n",
            "|                          <https://www.ncbi.nlm.nih.gov/sra/SRR3109710>|<http://aging-research.group/samples/has_ENSBTAG00000000023_expression>|    \"16.484136\"^^<http://www.w3.org/2001/XMLSchema#double>|<http://aging-research.group/samples/> .|\n",
            "|             <http://rdf.ebi.ac.uk/resource/ensembl/ENSBTAG00000000024>|                      <http://www.w3.org/1999/02/22-rdf-syntax-ns#type>|               <http://aging-research.group/resource/Gene>|<http://aging-research.group/samples/> .|\n",
            "|<http://aging-research.group/samples/has_ENSBTAG00000000024_expression>|                      <http://www.w3.org/1999/02/22-rdf-syntax-ns#type>|    <http://aging-research.group/resource/Gene_expression>|<http://aging-research.group/samples/> .|\n",
            "|<http://aging-research.group/samples/has_ENSBTAG00000000024_expression>|                   <http://aging-research.group/resource/expression_of>|<http://rdf.ebi.ac.uk/resource/ensembl/ENSBTAG00000000024>|<http://aging-research.group/samples/> .|\n",
            "|                          <https://www.ncbi.nlm.nih.gov/sra/SRR3109710>|<http://aging-research.group/samples/has_ENSBTAG00000000024_expression>|    \"19.216376\"^^<http://www.w3.org/2001/XMLSchema#double>|<http://aging-research.group/samples/> .|\n",
            "|             <http://rdf.ebi.ac.uk/resource/ensembl/ENSBTAG00000000025>|                      <http://www.w3.org/1999/02/22-rdf-syntax-ns#type>|               <http://aging-research.group/resource/Gene>|<http://aging-research.group/samples/> .|\n",
            "|<http://aging-research.group/samples/has_ENSBTAG00000000025_expression>|                      <http://www.w3.org/1999/02/22-rdf-syntax-ns#type>|    <http://aging-research.group/resource/Gene_expression>|<http://aging-research.group/samples/> .|\n",
            "|<http://aging-research.group/samples/has_ENSBTAG00000000025_expression>|                   <http://aging-research.group/resource/expression_of>|<http://rdf.ebi.ac.uk/resource/ensembl/ENSBTAG00000000025>|<http://aging-research.group/samples/> .|\n",
            "|                          <https://www.ncbi.nlm.nih.gov/sra/SRR3109710>|<http://aging-research.group/samples/has_ENSBTAG00000000025_expression>|    \"57.412953\"^^<http://www.w3.org/2001/XMLSchema#double>|<http://aging-research.group/samples/> .|\n",
            "|             <http://rdf.ebi.ac.uk/resource/ensembl/ENSBTAG00000000026>|                      <http://www.w3.org/1999/02/22-rdf-syntax-ns#type>|               <http://aging-research.group/resource/Gene>|<http://aging-research.group/samples/> .|\n",
            "|<http://aging-research.group/samples/has_ENSBTAG00000000026_expression>|                      <http://www.w3.org/1999/02/22-rdf-syntax-ns#type>|    <http://aging-research.group/resource/Gene_expression>|<http://aging-research.group/samples/> .|\n",
            "|<http://aging-research.group/samples/has_ENSBTAG00000000026_expression>|                   <http://aging-research.group/resource/expression_of>|<http://rdf.ebi.ac.uk/resource/ensembl/ENSBTAG00000000026>|<http://aging-research.group/samples/> .|\n",
            "|                          <https://www.ncbi.nlm.nih.gov/sra/SRR3109710>|<http://aging-research.group/samples/has_ENSBTAG00000000026_expression>|    \"14.207972\"^^<http://www.w3.org/2001/XMLSchema#double>|<http://aging-research.group/samples/> .|\n",
            "|             <http://rdf.ebi.ac.uk/resource/ensembl/ENSBTAG00000000027>|                      <http://www.w3.org/1999/02/22-rdf-syntax-ns#type>|               <http://aging-research.group/resource/Gene>|<http://aging-research.group/samples/> .|\n",
            "|<http://aging-research.group/samples/has_ENSBTAG00000000027_expression>|                      <http://www.w3.org/1999/02/22-rdf-syntax-ns#type>|    <http://aging-research.group/resource/Gene_expression>|<http://aging-research.group/samples/> .|\n",
            "|<http://aging-research.group/samples/has_ENSBTAG00000000027_expression>|                   <http://aging-research.group/resource/expression_of>|<http://rdf.ebi.ac.uk/resource/ensembl/ENSBTAG00000000027>|<http://aging-research.group/samples/> .|\n",
            "|                          <https://www.ncbi.nlm.nih.gov/sra/SRR3109710>|<http://aging-research.group/samples/has_ENSBTAG00000000027_expression>|          \"0.0\"^^<http://www.w3.org/2001/XMLSchema#double>|<http://aging-research.group/samples/> .|\n",
            "|             <http://rdf.ebi.ac.uk/resource/ensembl/ENSBTAG00000000029>|                      <http://www.w3.org/1999/02/22-rdf-syntax-ns#type>|               <http://aging-research.group/resource/Gene>|<http://aging-research.group/samples/> .|\n",
            "|<http://aging-research.group/samples/has_ENSBTAG00000000029_expression>|                      <http://www.w3.org/1999/02/22-rdf-syntax-ns#type>|    <http://aging-research.group/resource/Gene_expression>|<http://aging-research.group/samples/> .|\n",
            "|<http://aging-research.group/samples/has_ENSBTAG00000000029_expression>|                   <http://aging-research.group/resource/expression_of>|<http://rdf.ebi.ac.uk/resource/ensembl/ENSBTAG00000000029>|<http://aging-research.group/samples/> .|\n",
            "|                          <https://www.ncbi.nlm.nih.gov/sra/SRR3109710>|<http://aging-research.group/samples/has_ENSBTAG00000000029_expression>|     \"29.71236\"^^<http://www.w3.org/2001/XMLSchema#double>|<http://aging-research.group/samples/> .|\n",
            "|             <http://rdf.ebi.ac.uk/resource/ensembl/ENSBTAG00000000030>|                      <http://www.w3.org/1999/02/22-rdf-syntax-ns#type>|               <http://aging-research.group/resource/Gene>|<http://aging-research.group/samples/> .|\n",
            "|<http://aging-research.group/samples/has_ENSBTAG00000000030_expression>|                      <http://www.w3.org/1999/02/22-rdf-syntax-ns#type>|    <http://aging-research.group/resource/Gene_expression>|<http://aging-research.group/samples/> .|\n",
            "|<http://aging-research.group/samples/has_ENSBTAG00000000030_expression>|                   <http://aging-research.group/resource/expression_of>|<http://rdf.ebi.ac.uk/resource/ensembl/ENSBTAG00000000030>|<http://aging-research.group/samples/> .|\n",
            "|                          <https://www.ncbi.nlm.nih.gov/sra/SRR3109710>|<http://aging-research.group/samples/has_ENSBTAG00000000030_expression>|     \"0.422104\"^^<http://www.w3.org/2001/XMLSchema#double>|<http://aging-research.group/samples/> .|\n",
            "|             <http://rdf.ebi.ac.uk/resource/ensembl/ENSBTAG00000000031>|                      <http://www.w3.org/1999/02/22-rdf-syntax-ns#type>|               <http://aging-research.group/resource/Gene>|<http://aging-research.group/samples/> .|\n",
            "|<http://aging-research.group/samples/has_ENSBTAG00000000031_expression>|                      <http://www.w3.org/1999/02/22-rdf-syntax-ns#type>|    <http://aging-research.group/resource/Gene_expression>|<http://aging-research.group/samples/> .|\n",
            "|<http://aging-research.group/samples/has_ENSBTAG00000000031_expression>|                   <http://aging-research.group/resource/expression_of>|<http://rdf.ebi.ac.uk/resource/ensembl/ENSBTAG00000000031>|<http://aging-research.group/samples/> .|\n",
            "|                          <https://www.ncbi.nlm.nih.gov/sra/SRR3109710>|<http://aging-research.group/samples/has_ENSBTAG00000000031_expression>|     \"35.53829\"^^<http://www.w3.org/2001/XMLSchema#double>|<http://aging-research.group/samples/> .|\n",
            "|             <http://rdf.ebi.ac.uk/resource/ensembl/ENSBTAG00000000032>|                      <http://www.w3.org/1999/02/22-rdf-syntax-ns#type>|               <http://aging-research.group/resource/Gene>|<http://aging-research.group/samples/> .|\n",
            "|<http://aging-research.group/samples/has_ENSBTAG00000000032_expression>|                      <http://www.w3.org/1999/02/22-rdf-syntax-ns#type>|    <http://aging-research.group/resource/Gene_expression>|<http://aging-research.group/samples/> .|\n",
            "|<http://aging-research.group/samples/has_ENSBTAG00000000032_expression>|                   <http://aging-research.group/resource/expression_of>|<http://rdf.ebi.ac.uk/resource/ensembl/ENSBTAG00000000032>|<http://aging-research.group/samples/> .|\n",
            "|                          <https://www.ncbi.nlm.nih.gov/sra/SRR3109710>|<http://aging-research.group/samples/has_ENSBTAG00000000032_expression>|     \"5.062735\"^^<http://www.w3.org/2001/XMLSchema#double>|<http://aging-research.group/samples/> .|\n",
            "|             <http://rdf.ebi.ac.uk/resource/ensembl/ENSBTAG00000000033>|                      <http://www.w3.org/1999/02/22-rdf-syntax-ns#type>|               <http://aging-research.group/resource/Gene>|<http://aging-research.group/samples/> .|\n",
            "|<http://aging-research.group/samples/has_ENSBTAG00000000033_expression>|                      <http://www.w3.org/1999/02/22-rdf-syntax-ns#type>|    <http://aging-research.group/resource/Gene_expression>|<http://aging-research.group/samples/> .|\n",
            "|<http://aging-research.group/samples/has_ENSBTAG00000000033_expression>|                   <http://aging-research.group/resource/expression_of>|<http://rdf.ebi.ac.uk/resource/ensembl/ENSBTAG00000000033>|<http://aging-research.group/samples/> .|\n",
            "|                          <https://www.ncbi.nlm.nih.gov/sra/SRR3109710>|<http://aging-research.group/samples/has_ENSBTAG00000000033_expression>|     \"0.355026\"^^<http://www.w3.org/2001/XMLSchema#double>|<http://aging-research.group/samples/> .|\n",
            "|             <http://rdf.ebi.ac.uk/resource/ensembl/ENSBTAG00000000037>|                      <http://www.w3.org/1999/02/22-rdf-syntax-ns#type>|               <http://aging-research.group/resource/Gene>|<http://aging-research.group/samples/> .|\n",
            "|<http://aging-research.group/samples/has_ENSBTAG00000000037_expression>|                      <http://www.w3.org/1999/02/22-rdf-syntax-ns#type>|    <http://aging-research.group/resource/Gene_expression>|<http://aging-research.group/samples/> .|\n",
            "|<http://aging-research.group/samples/has_ENSBTAG00000000037_expression>|                   <http://aging-research.group/resource/expression_of>|<http://rdf.ebi.ac.uk/resource/ensembl/ENSBTAG00000000037>|<http://aging-research.group/samples/> .|\n",
            "|                          <https://www.ncbi.nlm.nih.gov/sra/SRR3109710>|<http://aging-research.group/samples/has_ENSBTAG00000000037_expression>|    \"10.432139\"^^<http://www.w3.org/2001/XMLSchema#double>|<http://aging-research.group/samples/> .|\n",
            "|             <http://rdf.ebi.ac.uk/resource/ensembl/ENSBTAG00000000039>|                      <http://www.w3.org/1999/02/22-rdf-syntax-ns#type>|               <http://aging-research.group/resource/Gene>|<http://aging-research.group/samples/> .|\n",
            "|<http://aging-research.group/samples/has_ENSBTAG00000000039_expression>|                      <http://www.w3.org/1999/02/22-rdf-syntax-ns#type>|    <http://aging-research.group/resource/Gene_expression>|<http://aging-research.group/samples/> .|\n",
            "|<http://aging-research.group/samples/has_ENSBTAG00000000039_expression>|                   <http://aging-research.group/resource/expression_of>|<http://rdf.ebi.ac.uk/resource/ensembl/ENSBTAG00000000039>|<http://aging-research.group/samples/> .|\n",
            "|                          <https://www.ncbi.nlm.nih.gov/sra/SRR3109710>|<http://aging-research.group/samples/has_ENSBTAG00000000039_expression>|    \"14.711751\"^^<http://www.w3.org/2001/XMLSchema#double>|<http://aging-research.group/samples/> .|\n",
            "|             <http://rdf.ebi.ac.uk/resource/ensembl/ENSBTAG00000000040>|                      <http://www.w3.org/1999/02/22-rdf-syntax-ns#type>|               <http://aging-research.group/resource/Gene>|<http://aging-research.group/samples/> .|\n",
            "|<http://aging-research.group/samples/has_ENSBTAG00000000040_expression>|                      <http://www.w3.org/1999/02/22-rdf-syntax-ns#type>|    <http://aging-research.group/resource/Gene_expression>|<http://aging-research.group/samples/> .|\n",
            "|<http://aging-research.group/samples/has_ENSBTAG00000000040_expression>|                   <http://aging-research.group/resource/expression_of>|<http://rdf.ebi.ac.uk/resource/ensembl/ENSBTAG00000000040>|<http://aging-research.group/samples/> .|\n",
            "|                          <https://www.ncbi.nlm.nih.gov/sra/SRR3109710>|<http://aging-research.group/samples/has_ENSBTAG00000000040_expression>|    \"19.473793\"^^<http://www.w3.org/2001/XMLSchema#double>|<http://aging-research.group/samples/> .|\n",
            "|             <http://rdf.ebi.ac.uk/resource/ensembl/ENSBTAG00000000042>|                      <http://www.w3.org/1999/02/22-rdf-syntax-ns#type>|               <http://aging-research.group/resource/Gene>|<http://aging-research.group/samples/> .|\n",
            "|<http://aging-research.group/samples/has_ENSBTAG00000000042_expression>|                      <http://www.w3.org/1999/02/22-rdf-syntax-ns#type>|    <http://aging-research.group/resource/Gene_expression>|<http://aging-research.group/samples/> .|\n",
            "|<http://aging-research.group/samples/has_ENSBTAG00000000042_expression>|                   <http://aging-research.group/resource/expression_of>|<http://rdf.ebi.ac.uk/resource/ensembl/ENSBTAG00000000042>|<http://aging-research.group/samples/> .|\n",
            "|                          <https://www.ncbi.nlm.nih.gov/sra/SRR3109710>|<http://aging-research.group/samples/has_ENSBTAG00000000042_expression>|     \"3.629958\"^^<http://www.w3.org/2001/XMLSchema#double>|<http://aging-research.group/samples/> .|\n",
            "|             <http://rdf.ebi.ac.uk/resource/ensembl/ENSBTAG00000000044>|                      <http://www.w3.org/1999/02/22-rdf-syntax-ns#type>|               <http://aging-research.group/resource/Gene>|<http://aging-research.group/samples/> .|\n",
            "|<http://aging-research.group/samples/has_ENSBTAG00000000044_expression>|                      <http://www.w3.org/1999/02/22-rdf-syntax-ns#type>|    <http://aging-research.group/resource/Gene_expression>|<http://aging-research.group/samples/> .|\n",
            "|<http://aging-research.group/samples/has_ENSBTAG00000000044_expression>|                   <http://aging-research.group/resource/expression_of>|<http://rdf.ebi.ac.uk/resource/ensembl/ENSBTAG00000000044>|<http://aging-research.group/samples/> .|\n",
            "|                          <https://www.ncbi.nlm.nih.gov/sra/SRR3109710>|<http://aging-research.group/samples/has_ENSBTAG00000000044_expression>|          \"0.0\"^^<http://www.w3.org/2001/XMLSchema#double>|<http://aging-research.group/samples/> .|\n",
            "|             <http://rdf.ebi.ac.uk/resource/ensembl/ENSBTAG00000000046>|                      <http://www.w3.org/1999/02/22-rdf-syntax-ns#type>|               <http://aging-research.group/resource/Gene>|<http://aging-research.group/samples/> .|\n",
            "|<http://aging-research.group/samples/has_ENSBTAG00000000046_expression>|                      <http://www.w3.org/1999/02/22-rdf-syntax-ns#type>|    <http://aging-research.group/resource/Gene_expression>|<http://aging-research.group/samples/> .|\n",
            "|<http://aging-research.group/samples/has_ENSBTAG00000000046_expression>|                   <http://aging-research.group/resource/expression_of>|<http://rdf.ebi.ac.uk/resource/ensembl/ENSBTAG00000000046>|<http://aging-research.group/samples/> .|\n",
            "|                          <https://www.ncbi.nlm.nih.gov/sra/SRR3109710>|<http://aging-research.group/samples/has_ENSBTAG00000000046_expression>|     \"9.736845\"^^<http://www.w3.org/2001/XMLSchema#double>|<http://aging-research.group/samples/> .|\n",
            "|             <http://rdf.ebi.ac.uk/resource/ensembl/ENSBTAG00000000049>|                      <http://www.w3.org/1999/02/22-rdf-syntax-ns#type>|               <http://aging-research.group/resource/Gene>|<http://aging-research.group/samples/> .|\n",
            "|<http://aging-research.group/samples/has_ENSBTAG00000000049_expression>|                      <http://www.w3.org/1999/02/22-rdf-syntax-ns#type>|    <http://aging-research.group/resource/Gene_expression>|<http://aging-research.group/samples/> .|\n",
            "|<http://aging-research.group/samples/has_ENSBTAG00000000049_expression>|                   <http://aging-research.group/resource/expression_of>|<http://rdf.ebi.ac.uk/resource/ensembl/ENSBTAG00000000049>|<http://aging-research.group/samples/> .|\n",
            "|                          <https://www.ncbi.nlm.nih.gov/sra/SRR3109710>|<http://aging-research.group/samples/has_ENSBTAG00000000049_expression>|     \"4.138845\"^^<http://www.w3.org/2001/XMLSchema#double>|<http://aging-research.group/samples/> .|\n",
            "|             <http://rdf.ebi.ac.uk/resource/ensembl/ENSBTAG00000000050>|                      <http://www.w3.org/1999/02/22-rdf-syntax-ns#type>|               <http://aging-research.group/resource/Gene>|<http://aging-research.group/samples/> .|\n",
            "|<http://aging-research.group/samples/has_ENSBTAG00000000050_expression>|                      <http://www.w3.org/1999/02/22-rdf-syntax-ns#type>|    <http://aging-research.group/resource/Gene_expression>|<http://aging-research.group/samples/> .|\n",
            "|<http://aging-research.group/samples/has_ENSBTAG00000000050_expression>|                   <http://aging-research.group/resource/expression_of>|<http://rdf.ebi.ac.uk/resource/ensembl/ENSBTAG00000000050>|<http://aging-research.group/samples/> .|\n",
            "|                          <https://www.ncbi.nlm.nih.gov/sra/SRR3109710>|<http://aging-research.group/samples/has_ENSBTAG00000000050_expression>|     \"49.82951\"^^<http://www.w3.org/2001/XMLSchema#double>|<http://aging-research.group/samples/> .|\n",
            "|             <http://rdf.ebi.ac.uk/resource/ensembl/ENSBTAG00000000052>|                      <http://www.w3.org/1999/02/22-rdf-syntax-ns#type>|               <http://aging-research.group/resource/Gene>|<http://aging-research.group/samples/> .|\n",
            "|<http://aging-research.group/samples/has_ENSBTAG00000000052_expression>|                      <http://www.w3.org/1999/02/22-rdf-syntax-ns#type>|    <http://aging-research.group/resource/Gene_expression>|<http://aging-research.group/samples/> .|\n",
            "|<http://aging-research.group/samples/has_ENSBTAG00000000052_expression>|                   <http://aging-research.group/resource/expression_of>|<http://rdf.ebi.ac.uk/resource/ensembl/ENSBTAG00000000052>|<http://aging-research.group/samples/> .|\n",
            "|                          <https://www.ncbi.nlm.nih.gov/sra/SRR3109710>|<http://aging-research.group/samples/has_ENSBTAG00000000052_expression>|     \"0.699634\"^^<http://www.w3.org/2001/XMLSchema#double>|<http://aging-research.group/samples/> .|\n",
            "|             <http://rdf.ebi.ac.uk/resource/ensembl/ENSBTAG00000000053>|                      <http://www.w3.org/1999/02/22-rdf-syntax-ns#type>|               <http://aging-research.group/resource/Gene>|<http://aging-research.group/samples/> .|\n",
            "|<http://aging-research.group/samples/has_ENSBTAG00000000053_expression>|                      <http://www.w3.org/1999/02/22-rdf-syntax-ns#type>|    <http://aging-research.group/resource/Gene_expression>|<http://aging-research.group/samples/> .|\n",
            "|<http://aging-research.group/samples/has_ENSBTAG00000000053_expression>|                   <http://aging-research.group/resource/expression_of>|<http://rdf.ebi.ac.uk/resource/ensembl/ENSBTAG00000000053>|<http://aging-research.group/samples/> .|\n",
            "|                          <https://www.ncbi.nlm.nih.gov/sra/SRR3109710>|<http://aging-research.group/samples/has_ENSBTAG00000000053_expression>|     \"1.122855\"^^<http://www.w3.org/2001/XMLSchema#double>|<http://aging-research.group/samples/> .|\n",
            "|             <http://rdf.ebi.ac.uk/resource/ensembl/ENSBTAG00000000054>|                      <http://www.w3.org/1999/02/22-rdf-syntax-ns#type>|               <http://aging-research.group/resource/Gene>|<http://aging-research.group/samples/> .|\n",
            "|<http://aging-research.group/samples/has_ENSBTAG00000000054_expression>|                      <http://www.w3.org/1999/02/22-rdf-syntax-ns#type>|    <http://aging-research.group/resource/Gene_expression>|<http://aging-research.group/samples/> .|\n",
            "|<http://aging-research.group/samples/has_ENSBTAG00000000054_expression>|                   <http://aging-research.group/resource/expression_of>|<http://rdf.ebi.ac.uk/resource/ensembl/ENSBTAG00000000054>|<http://aging-research.group/samples/> .|\n",
            "|                          <https://www.ncbi.nlm.nih.gov/sra/SRR3109710>|<http://aging-research.group/samples/has_ENSBTAG00000000054_expression>|     \"5.288612\"^^<http://www.w3.org/2001/XMLSchema#double>|<http://aging-research.group/samples/> .|\n",
            "|             <http://rdf.ebi.ac.uk/resource/ensembl/ENSBTAG00000000056>|                      <http://www.w3.org/1999/02/22-rdf-syntax-ns#type>|               <http://aging-research.group/resource/Gene>|<http://aging-research.group/samples/> .|\n",
            "|<http://aging-research.group/samples/has_ENSBTAG00000000056_expression>|                      <http://www.w3.org/1999/02/22-rdf-syntax-ns#type>|    <http://aging-research.group/resource/Gene_expression>|<http://aging-research.group/samples/> .|\n",
            "|<http://aging-research.group/samples/has_ENSBTAG00000000056_expression>|                   <http://aging-research.group/resource/expression_of>|<http://rdf.ebi.ac.uk/resource/ensembl/ENSBTAG00000000056>|<http://aging-research.group/samples/> .|\n",
            "|                          <https://www.ncbi.nlm.nih.gov/sra/SRR3109710>|<http://aging-research.group/samples/has_ENSBTAG00000000056_expression>|    \"10.764139\"^^<http://www.w3.org/2001/XMLSchema#double>|<http://aging-research.group/samples/> .|\n",
            "|             <http://rdf.ebi.ac.uk/resource/ensembl/ENSBTAG00000000057>|                      <http://www.w3.org/1999/02/22-rdf-syntax-ns#type>|               <http://aging-research.group/resource/Gene>|<http://aging-research.group/samples/> .|\n",
            "|<http://aging-research.group/samples/has_ENSBTAG00000000057_expression>|                      <http://www.w3.org/1999/02/22-rdf-syntax-ns#type>|    <http://aging-research.group/resource/Gene_expression>|<http://aging-research.group/samples/> .|\n",
            "|<http://aging-research.group/samples/has_ENSBTAG00000000057_expression>|                   <http://aging-research.group/resource/expression_of>|<http://rdf.ebi.ac.uk/resource/ensembl/ENSBTAG00000000057>|<http://aging-research.group/samples/> .|\n",
            "|                          <https://www.ncbi.nlm.nih.gov/sra/SRR3109710>|<http://aging-research.group/samples/has_ENSBTAG00000000057_expression>|     \"2.264978\"^^<http://www.w3.org/2001/XMLSchema#double>|<http://aging-research.group/samples/> .|\n",
            "|             <http://rdf.ebi.ac.uk/resource/ensembl/ENSBTAG00000000060>|                      <http://www.w3.org/1999/02/22-rdf-syntax-ns#type>|               <http://aging-research.group/resource/Gene>|<http://aging-research.group/samples/> .|\n",
            "|<http://aging-research.group/samples/has_ENSBTAG00000000060_expression>|                      <http://www.w3.org/1999/02/22-rdf-syntax-ns#type>|    <http://aging-research.group/resource/Gene_expression>|<http://aging-research.group/samples/> .|\n",
            "|<http://aging-research.group/samples/has_ENSBTAG00000000060_expression>|                   <http://aging-research.group/resource/expression_of>|<http://rdf.ebi.ac.uk/resource/ensembl/ENSBTAG00000000060>|<http://aging-research.group/samples/> .|\n",
            "|                          <https://www.ncbi.nlm.nih.gov/sra/SRR3109710>|<http://aging-research.group/samples/has_ENSBTAG00000000060_expression>|          \"0.0\"^^<http://www.w3.org/2001/XMLSchema#double>|<http://aging-research.group/samples/> .|\n",
            "|             <http://rdf.ebi.ac.uk/resource/ensembl/ENSBTAG00000000061>|                      <http://www.w3.org/1999/02/22-rdf-syntax-ns#type>|               <http://aging-research.group/resource/Gene>|<http://aging-research.group/samples/> .|\n",
            "|<http://aging-research.group/samples/has_ENSBTAG00000000061_expression>|                      <http://www.w3.org/1999/02/22-rdf-syntax-ns#type>|    <http://aging-research.group/resource/Gene_expression>|<http://aging-research.group/samples/> .|\n",
            "|<http://aging-research.group/samples/has_ENSBTAG00000000061_expression>|                   <http://aging-research.group/resource/expression_of>|<http://rdf.ebi.ac.uk/resource/ensembl/ENSBTAG00000000061>|<http://aging-research.group/samples/> .|\n",
            "|                          <https://www.ncbi.nlm.nih.gov/sra/SRR3109710>|<http://aging-research.group/samples/has_ENSBTAG00000000061_expression>|     \"6.860071\"^^<http://www.w3.org/2001/XMLSchema#double>|<http://aging-research.group/samples/> .|\n",
            "|             <http://rdf.ebi.ac.uk/resource/ensembl/ENSBTAG00000000062>|                      <http://www.w3.org/1999/02/22-rdf-syntax-ns#type>|               <http://aging-research.group/resource/Gene>|<http://aging-research.group/samples/> .|\n",
            "|<http://aging-research.group/samples/has_ENSBTAG00000000062_expression>|                      <http://www.w3.org/1999/02/22-rdf-syntax-ns#type>|    <http://aging-research.group/resource/Gene_expression>|<http://aging-research.group/samples/> .|\n",
            "|<http://aging-research.group/samples/has_ENSBTAG00000000062_expression>|                   <http://aging-research.group/resource/expression_of>|<http://rdf.ebi.ac.uk/resource/ensembl/ENSBTAG00000000062>|<http://aging-research.group/samples/> .|\n",
            "|                          <https://www.ncbi.nlm.nih.gov/sra/SRR3109710>|<http://aging-research.group/samples/has_ENSBTAG00000000062_expression>|     \"1.000691\"^^<http://www.w3.org/2001/XMLSchema#double>|<http://aging-research.group/samples/> .|\n",
            "|             <http://rdf.ebi.ac.uk/resource/ensembl/ENSBTAG00000000064>|                      <http://www.w3.org/1999/02/22-rdf-syntax-ns#type>|               <http://aging-research.group/resource/Gene>|<http://aging-research.group/samples/> .|\n",
            "|<http://aging-research.group/samples/has_ENSBTAG00000000064_expression>|                      <http://www.w3.org/1999/02/22-rdf-syntax-ns#type>|    <http://aging-research.group/resource/Gene_expression>|<http://aging-research.group/samples/> .|\n",
            "|<http://aging-research.group/samples/has_ENSBTAG00000000064_expression>|                   <http://aging-research.group/resource/expression_of>|<http://rdf.ebi.ac.uk/resource/ensembl/ENSBTAG00000000064>|<http://aging-research.group/samples/> .|\n",
            "|                          <https://www.ncbi.nlm.nih.gov/sra/SRR3109710>|<http://aging-research.group/samples/has_ENSBTAG00000000064_expression>|     \"4.393383\"^^<http://www.w3.org/2001/XMLSchema#double>|<http://aging-research.group/samples/> .|\n",
            "|             <http://rdf.ebi.ac.uk/resource/ensembl/ENSBTAG00000000065>|                      <http://www.w3.org/1999/02/22-rdf-syntax-ns#type>|               <http://aging-research.group/resource/Gene>|<http://aging-research.group/samples/> .|\n",
            "|<http://aging-research.group/samples/has_ENSBTAG00000000065_expression>|                      <http://www.w3.org/1999/02/22-rdf-syntax-ns#type>|    <http://aging-research.group/resource/Gene_expression>|<http://aging-research.group/samples/> .|\n",
            "|<http://aging-research.group/samples/has_ENSBTAG00000000065_expression>|                   <http://aging-research.group/resource/expression_of>|<http://rdf.ebi.ac.uk/resource/ensembl/ENSBTAG00000000065>|<http://aging-research.group/samples/> .|\n",
            "|                          <https://www.ncbi.nlm.nih.gov/sra/SRR3109710>|<http://aging-research.group/samples/has_ENSBTAG00000000065_expression>|    \"21.179033\"^^<http://www.w3.org/2001/XMLSchema#double>|<http://aging-research.group/samples/> .|\n",
            "|             <http://rdf.ebi.ac.uk/resource/ensembl/ENSBTAG00000000066>|                      <http://www.w3.org/1999/02/22-rdf-syntax-ns#type>|               <http://aging-research.group/resource/Gene>|<http://aging-research.group/samples/> .|\n",
            "|<http://aging-research.group/samples/has_ENSBTAG00000000066_expression>|                      <http://www.w3.org/1999/02/22-rdf-syntax-ns#type>|    <http://aging-research.group/resource/Gene_expression>|<http://aging-research.group/samples/> .|\n",
            "|<http://aging-research.group/samples/has_ENSBTAG00000000066_expression>|                   <http://aging-research.group/resource/expression_of>|<http://rdf.ebi.ac.uk/resource/ensembl/ENSBTAG00000000066>|<http://aging-research.group/samples/> .|\n",
            "|                          <https://www.ncbi.nlm.nih.gov/sra/SRR3109710>|<http://aging-research.group/samples/has_ENSBTAG00000000066_expression>|          \"0.0\"^^<http://www.w3.org/2001/XMLSchema#double>|<http://aging-research.group/samples/> .|\n",
            "|             <http://rdf.ebi.ac.uk/resource/ensembl/ENSBTAG00000000067>|                      <http://www.w3.org/1999/02/22-rdf-syntax-ns#type>|               <http://aging-research.group/resource/Gene>|<http://aging-research.group/samples/> .|\n",
            "|<http://aging-research.group/samples/has_ENSBTAG00000000067_expression>|                      <http://www.w3.org/1999/02/22-rdf-syntax-ns#type>|    <http://aging-research.group/resource/Gene_expression>|<http://aging-research.group/samples/> .|\n",
            "|<http://aging-research.group/samples/has_ENSBTAG00000000067_expression>|                   <http://aging-research.group/resource/expression_of>|<http://rdf.ebi.ac.uk/resource/ensembl/ENSBTAG00000000067>|<http://aging-research.group/samples/> .|\n",
            "|                          <https://www.ncbi.nlm.nih.gov/sra/SRR3109710>|<http://aging-research.group/samples/has_ENSBTAG00000000067_expression>|     \"23.43622\"^^<http://www.w3.org/2001/XMLSchema#double>|<http://aging-research.group/samples/> .|\n",
            "|             <http://rdf.ebi.ac.uk/resource/ensembl/ENSBTAG00000000070>|                      <http://www.w3.org/1999/02/22-rdf-syntax-ns#type>|               <http://aging-research.group/resource/Gene>|<http://aging-research.group/samples/> .|\n",
            "|<http://aging-research.group/samples/has_ENSBTAG00000000070_expression>|                      <http://www.w3.org/1999/02/22-rdf-syntax-ns#type>|    <http://aging-research.group/resource/Gene_expression>|<http://aging-research.group/samples/> .|\n",
            "|<http://aging-research.group/samples/has_ENSBTAG00000000070_expression>|                   <http://aging-research.group/resource/expression_of>|<http://rdf.ebi.ac.uk/resource/ensembl/ENSBTAG00000000070>|<http://aging-research.group/samples/> .|\n",
            "|                          <https://www.ncbi.nlm.nih.gov/sra/SRR3109710>|<http://aging-research.group/samples/has_ENSBTAG00000000070_expression>|          \"0.0\"^^<http://www.w3.org/2001/XMLSchema#double>|<http://aging-research.group/samples/> .|\n",
            "|             <http://rdf.ebi.ac.uk/resource/ensembl/ENSBTAG00000000071>|                      <http://www.w3.org/1999/02/22-rdf-syntax-ns#type>|               <http://aging-research.group/resource/Gene>|<http://aging-research.group/samples/> .|\n",
            "|<http://aging-research.group/samples/has_ENSBTAG00000000071_expression>|                      <http://www.w3.org/1999/02/22-rdf-syntax-ns#type>|    <http://aging-research.group/resource/Gene_expression>|<http://aging-research.group/samples/> .|\n",
            "|<http://aging-research.group/samples/has_ENSBTAG00000000071_expression>|                   <http://aging-research.group/resource/expression_of>|<http://rdf.ebi.ac.uk/resource/ensembl/ENSBTAG00000000071>|<http://aging-research.group/samples/> .|\n",
            "|                          <https://www.ncbi.nlm.nih.gov/sra/SRR3109710>|<http://aging-research.group/samples/has_ENSBTAG00000000071_expression>|          \"0.0\"^^<http://www.w3.org/2001/XMLSchema#double>|<http://aging-research.group/samples/> .|\n",
            "|             <http://rdf.ebi.ac.uk/resource/ensembl/ENSBTAG00000000072>|                      <http://www.w3.org/1999/02/22-rdf-syntax-ns#type>|               <http://aging-research.group/resource/Gene>|<http://aging-research.group/samples/> .|\n",
            "|<http://aging-research.group/samples/has_ENSBTAG00000000072_expression>|                      <http://www.w3.org/1999/02/22-rdf-syntax-ns#type>|    <http://aging-research.group/resource/Gene_expression>|<http://aging-research.group/samples/> .|\n",
            "|<http://aging-research.group/samples/has_ENSBTAG00000000072_expression>|                   <http://aging-research.group/resource/expression_of>|<http://rdf.ebi.ac.uk/resource/ensembl/ENSBTAG00000000072>|<http://aging-research.group/samples/> .|\n",
            "|                          <https://www.ncbi.nlm.nih.gov/sra/SRR3109710>|<http://aging-research.group/samples/has_ENSBTAG00000000072_expression>|    \"14.023209\"^^<http://www.w3.org/2001/XMLSchema#double>|<http://aging-research.group/samples/> .|\n",
            "|             <http://rdf.ebi.ac.uk/resource/ensembl/ENSBTAG00000000073>|                      <http://www.w3.org/1999/02/22-rdf-syntax-ns#type>|               <http://aging-research.group/resource/Gene>|<http://aging-research.group/samples/> .|\n",
            "|<http://aging-research.group/samples/has_ENSBTAG00000000073_expression>|                      <http://www.w3.org/1999/02/22-rdf-syntax-ns#type>|    <http://aging-research.group/resource/Gene_expression>|<http://aging-research.group/samples/> .|\n",
            "|<http://aging-research.group/samples/has_ENSBTAG00000000073_expression>|                   <http://aging-research.group/resource/expression_of>|<http://rdf.ebi.ac.uk/resource/ensembl/ENSBTAG00000000073>|<http://aging-research.group/samples/> .|\n",
            "|                          <https://www.ncbi.nlm.nih.gov/sra/SRR3109710>|<http://aging-research.group/samples/has_ENSBTAG00000000073_expression>|    \"64.857119\"^^<http://www.w3.org/2001/XMLSchema#double>|<http://aging-research.group/samples/> .|\n",
            "|             <http://rdf.ebi.ac.uk/resource/ensembl/ENSBTAG00000000074>|                      <http://www.w3.org/1999/02/22-rdf-syntax-ns#type>|               <http://aging-research.group/resource/Gene>|<http://aging-research.group/samples/> .|\n",
            "|<http://aging-research.group/samples/has_ENSBTAG00000000074_expression>|                      <http://www.w3.org/1999/02/22-rdf-syntax-ns#type>|    <http://aging-research.group/resource/Gene_expression>|<http://aging-research.group/samples/> .|\n",
            "|<http://aging-research.group/samples/has_ENSBTAG00000000074_expression>|                   <http://aging-research.group/resource/expression_of>|<http://rdf.ebi.ac.uk/resource/ensembl/ENSBTAG00000000074>|<http://aging-research.group/samples/> .|\n",
            "|                          <https://www.ncbi.nlm.nih.gov/sra/SRR3109710>|<http://aging-research.group/samples/has_ENSBTAG00000000074_expression>|    \"14.755552\"^^<http://www.w3.org/2001/XMLSchema#double>|<http://aging-research.group/samples/> .|\n",
            "|             <http://rdf.ebi.ac.uk/resource/ensembl/ENSBTAG00000000076>|                      <http://www.w3.org/1999/02/22-rdf-syntax-ns#type>|               <http://aging-research.group/resource/Gene>|<http://aging-research.group/samples/> .|\n",
            "|<http://aging-research.group/samples/has_ENSBTAG00000000076_expression>|                      <http://www.w3.org/1999/02/22-rdf-syntax-ns#type>|    <http://aging-research.group/resource/Gene_expression>|<http://aging-research.group/samples/> .|\n",
            "|<http://aging-research.group/samples/has_ENSBTAG00000000076_expression>|                   <http://aging-research.group/resource/expression_of>|<http://rdf.ebi.ac.uk/resource/ensembl/ENSBTAG00000000076>|<http://aging-research.group/samples/> .|\n",
            "|                          <https://www.ncbi.nlm.nih.gov/sra/SRR3109710>|<http://aging-research.group/samples/has_ENSBTAG00000000076_expression>|     \"3.637003\"^^<http://www.w3.org/2001/XMLSchema#double>|<http://aging-research.group/samples/> .|\n",
            "+-----------------------------------------------------------------------+-----------------------------------------------------------------------+----------------------------------------------------------+----------------------------------------+\n",
            "only showing top 200 rows\n",
            "\n"
          ],
          "output_type" : "stream"
        }
      ]
    },
    {
      "cell_type" : "markdown",
      "execution_count" : 42,
      "metadata" : {
        "language" : "text"
      },
      "language" : "text",
      "source" : [
        "# **Genes**<br>\n",
        "\n",
        "\n"
      ],
      "outputs" : [
      ]
    },
    {
      "cell_type" : "code",
      "execution_count" : 43,
      "metadata" : {
        "cell.metadata.exec_info" : {
          "startTs" : 1591632701270,
          "endTs" : 1591632713417
        },
        "language" : "scala"
      },
      "language" : "scala",
      "source" : [
        "val genes = spark.readTSV(\"/data/ensembl/99/compara/dump/gene_member.txt\").toDF(\n",
        "    \"gene_member_id\",\t\"stable_id\",\t\"version\",\t\"source_name\",\t\n",
        "    \"taxon_id\",\t\"genome_db_id\",\t\"biotype_group\",\t\"canonical_member_id\",\t\n",
        "    \"description\",\t\"dnafrag_id\",\t\"dnafrag_start\", \n",
        "\t\"dnafrag_end\",\t\"dnafrag_strand\",\t\"display_label\"\n",
        ")\n",
        "genes.show(50)"
      ],
      "outputs" : [
        {
          "name" : "stdout",
          "text" : [
            "+--------------+------------------+-------+-----------+--------+------------+-------------+-------------------+--------------------+----------+-------------+-----------+--------------+-------------+\n",
            "|gene_member_id|         stable_id|version|source_name|taxon_id|genome_db_id|biotype_group|canonical_member_id|         description|dnafrag_id|dnafrag_start|dnafrag_end|dnafrag_strand|display_label|\n",
            "+--------------+------------------+-------+-----------+--------+------------+-------------+-------------------+--------------------+----------+-------------+-----------+--------------+-------------+\n",
            "|             1|ENSTNIG00000004376|      1|ENSEMBLGENE|   99883|          65|       coding|                  1|NADH-ubiquinone o...|   4514312|         2838|       3812|             1|       mt-nd1|\n",
            "|             2|ENSTNIG00000004377|      1|ENSEMBLGENE|   99883|          65|       coding|                  2|NADH-ubiquinone o...|   4514312|         4025|       5070|             1|       mt-nd2|\n",
            "|             4|ENSTNIG00000000533|      1|ENSEMBLGENE|   99883|          65|       coding|                  4|cytochrome c oxid...|   4514312|         5455|       7000|             1|       mt-co1|\n",
            "|             6|ENSTNIG00000000112|      1|ENSEMBLGENE|   99883|          65|       coding|                  6|Cytochrome c oxid...|   4514312|         7157|       7847|             1|       mt-co2|\n",
            "|             8|ENSTNIG00000001181|      1|ENSEMBLGENE|   99883|          65|       coding|                  9|ATP synthase prot...|   4514312|         7923|       8090|             1|           \\N|\n",
            "|             9|ENSTNIG00000000581|      1|ENSEMBLGENE|   99883|          65|       coding|                 11|ATP synthase subu...|   4514312|         8081|       8764|             1|      mt-atp6|\n",
            "|            10|ENSTNIG00000019783|      1|ENSEMBLGENE|   99883|          65|       coding|                 13|Cytochrome c oxid...|   4514312|         8764|       9549|             1|       mt-co3|\n",
            "|            12|ENSTNIG00000000069|      1|ENSEMBLGENE|   99883|          65|       coding|                 16|NADH-ubiquinone o...|   4514312|         9620|       9971|             1|       mt-nd3|\n",
            "|            13|ENSTNIG00000000603|      1|ENSEMBLGENE|   99883|          65|       coding|                 19|NADH dehydrogenas...|   4514312|        10039|      10335|             1|         ND4L|\n",
            "|            14|ENSTNIG00000001739|      1|ENSEMBLGENE|   99883|          65|       coding|                 22|NADH-ubiquinone o...|   4514312|        10329|      11710|             1|       mt-nd4|\n",
            "|            17|ENSTNIG00000001473|      1|ENSEMBLGENE|   99883|          65|       coding|                 25|NADH-ubiquinone o...|   4514312|        11928|      13766|             1|       mt-nd5|\n",
            "|            19|ENSTNIG00000000217|      1|ENSEMBLGENE|   99883|          65|       coding|                 28|NADH-ubiquinone o...|   4514312|        13762|      14283|            -1|       mt-nd6|\n",
            "|            20|ENSTNIG00000004374|      1|ENSEMBLGENE|   99883|          65|       coding|                 30|Cytochrome b  [So...|   4514312|        14358|      15500|             1|       mt-cyb|\n",
            "|            28|ENSPPYG00000017284|      2|ENSEMBLGENE|    9601|          60|       coding|                 47|                  \\N|   4346060|       214924|     234040|             1|           \\N|\n",
            "|            29|ENSPPYG00000017286|      1|ENSEMBLGENE|    9601|          60|       coding|                 48|                  \\N|   4346060|       326739|     337529|            -1|           \\N|\n",
            "|            30|ENSPPYG00000017287|      2|ENSEMBLGENE|    9601|          60|       coding|                 51|                  \\N|   4346060|       567788|     648559|             1|           \\N|\n",
            "|            31|ENSPPYG00000017288|      2|ENSEMBLGENE|    9601|          60|       coding|                 54|                  \\N|   4346060|       703151|     759969|             1|           \\N|\n",
            "|            33|ENSPPYG00000017289|      1|ENSEMBLGENE|    9601|          60|       coding|                 57|                  \\N|   4346060|       771761|     772305|            -1|           \\N|\n",
            "|            34|ENSPPYG00000017290|      1|ENSEMBLGENE|    9601|          60|       coding|                 59|cytochrome c oxid...|   4346060|       853063|     859095|            -1|        COX19|\n",
            "|            35|ENSPPYG00000017291|      1|ENSEMBLGENE|    9601|          60|       coding|                 61|                  \\N|   4346060|       868670|     873844|             1|           \\N|\n",
            "|            36|ENSPPYG00000017292|      1|ENSEMBLGENE|    9601|          60|       coding|                 62|                  \\N|   4346060|       882985|    1009838|            -1|           \\N|\n",
            "|            37|ENSPPYG00000017293|      1|ENSEMBLGENE|    9601|          60|       coding|                 64|                  \\N|   4346060|       891514|     894842|             1|           \\N|\n",
            "|            38|ENSPPYG00000017294|      1|ENSEMBLGENE|    9601|          60|       coding|                 66|                  \\N|   4346060|       929181|     929561|             1|           \\N|\n",
            "|            39|ENSPPYG00000017295|      1|ENSEMBLGENE|    9601|          60|       coding|                 67|G protein-coupled...|   4346060|       936865|     937866|             1|       GPR146|\n",
            "|            40|ENSPPYG00000017296|      2|ENSEMBLGENE|    9601|          60|       coding|                 69|                  \\N|   4346060|      1035923|    1043272|            -1|           \\N|\n",
            "|            41|ENSPPYG00000029706|      1|ENSEMBLGENE|    9601|          60|       coding|                 72|                  \\N|   4346060|      1117823|    1124467|             1|           \\N|\n",
            "|            42|ENSPPYG00000017297|      2|ENSEMBLGENE|    9601|          60|       coding|                 74|MICAL like 2 [Sou...|   4346060|      1328032|    1356074|            -1|      MICALL2|\n",
            "|            44|ENSPPYG00000017299|      2|ENSEMBLGENE|    9601|          60|       coding|                 77|integrator comple...|   4346060|      1366830|    1408011|            -1|        INTS1|\n",
            "|            45|ENSPPYG00000017301|      1|ENSEMBLGENE|    9601|          60|       coding|                 80|MAF bZIP transcri...|   4346060|      1445091|    1446265|             1|         MAFK|\n",
            "|            46|ENSPPYG00000017302|      1|ENSEMBLGENE|    9601|          60|       coding|                 81|                  \\N|   4346060|      1447562|    1448136|             1|           \\N|\n",
            "|            47|ENSPPYG00000017303|      2|ENSEMBLGENE|    9601|          60|       coding|                 82|                  \\N|   4346060|      1454666|    1462894|            -1|           \\N|\n",
            "|            49|ENSPPYG00000017304|      2|ENSEMBLGENE|    9601|          60|       coding|                 84|proteasome assemb...|   4346060|      1477564|    1480150|            -1|        PSMG3|\n",
            "|            50|ENSPPYG00000017305|      1|ENSEMBLGENE|    9601|          60|       coding|                 87|                  \\N|   4346060|      1617123|    1617713|            -1|           \\N|\n",
            "|            51|ENSPPYG00000017307|      2|ENSEMBLGENE|    9601|          60|       coding|                 92|mitotic arrest de...|   4346060|      1747500|    2154399|            -1|       MAD1L1|\n",
            "|            52|ENSPPYG00000017308|      1|ENSEMBLGENE|    9601|          60|       coding|                 94|                  \\N|   4346060|      1778486|    1779172|             1|           \\N|\n",
            "|            53|ENSPPYG00000017309|      1|ENSEMBLGENE|    9601|          60|       coding|                 95|                  \\N|   4346060|      2070836|    2231410|             1|           \\N|\n",
            "|            55|ENSPPYG00000017310|      2|ENSEMBLGENE|    9601|          60|       coding|                 97|mitochondrial rRN...|   4346060|      2155665|    2163662|            -1|           \\N|\n",
            "|            57|ENSTNIG00000003907|      1|ENSEMBLGENE|   99883|          65|       coding|                 99|hydrogen voltage-...|   4514313|        58552|      60563|             1|        hvcn1|\n",
            "|            58|ENSPPYG00000017311|      1|ENSEMBLGENE|    9601|          60|       coding|                101|nudix hydrolase 1...|   4346060|      2166152|    2172849|             1|        NUDT1|\n",
            "|            59|ENSTNIG00000003908|      1|ENSEMBLGENE|   99883|          65|       coding|                103|tectonic family m...|   4514313|        60789|      65976|            -1|        tctn1|\n",
            "|            60|ENSPPYG00000017312|      2|ENSEMBLGENE|    9601|          60|       coding|                104|sorting nexin 8 [...|   4346060|      2176913|    2231279|            -1|         SNX8|\n",
            "|            62|ENSPPYG00000017313|      2|ENSEMBLGENE|    9601|          60|       coding|                108|eukaryotic transl...|   4346060|      2276409|    2301475|             1|        EIF3B|\n",
            "|            64|ENSPPYG00000017314|      1|ENSEMBLGENE|    9601|          60|       coding|                111|carbohydrate sulf...|   4346060|      2371762|    2373006|             1|       CHST12|\n",
            "|            65|ENSTNIG00000003909|      1|ENSEMBLGENE|   99883|          65|       coding|                112|malate synthase-l...|   4514313|        66489|      71969|             1|         mlsl|\n",
            "|            66|ENSPPYG00000017315|      1|ENSEMBLGENE|    9601|          60|       coding|                113|                  \\N|   4346060|      2385032|    2385433|             1|           \\N|\n",
            "|            67|ENSPPYG00000017316|      1|ENSEMBLGENE|    9601|          60|       coding|                116|galectin-related ...|   4346060|      2414036|    2416188|            -1|       GRIFIN|\n",
            "|            68|ENSTNIG00000003910|      1|ENSEMBLGENE|   99883|          65|       coding|                119|                  \\N|   4514313|        72695|      76578|            -1|           \\N|\n",
            "|            71|ENSPPYG00000017317|      2|ENSEMBLGENE|    9601|          60|       coding|                123|                  \\N|   4346060|      2463145|    2471868|             1|           \\N|\n",
            "|            72|ENSPPYG00000017318|      2|ENSEMBLGENE|    9601|          60|       coding|                126|BRCA1 associated ...|   4346060|      2486252|    2503484|            -1|        BRAT1|\n",
            "|            74|ENSTNIG00000014248|      1|ENSEMBLGENE|   99883|          65|       coding|                128|E74 like ETS tran...|   4514313|        98713|     102029|             1|         ELF2|\n",
            "+--------------+------------------+-------+-----------+--------+------------+-------------+-------------------+--------------------+----------+-------------+-----------+--------------+-------------+\n",
            "only showing top 50 rows\n",
            "\n"
          ],
          "output_type" : "stream"
        }
      ]
    },
    {
      "cell_type" : "markdown",
      "execution_count" : 44,
      "metadata" : {
        "language" : "text"
      },
      "language" : "text",
      "source" : [
        "## tx2gene\n",
        "\n",
        "\n"
      ],
      "outputs" : [
      ]
    },
    {
      "cell_type" : "code",
      "execution_count" : 45,
      "metadata" : {
        "cell.metadata.exec_info" : {
          "startTs" : 1591633276154,
          "endTs" : 1591633291189
        },
        "language" : "scala"
      },
      "language" : "scala",
      "source" : [
        "val sequence_members = spark.readTSV(\"/data/ensembl/99/compara/dump/seq_member.txt\").toDF(\"seq_member_id\", \"stable_id\", \"version\", \"source_name\", \"taxon_id\",\n",
        " \"genome_db_id\", \"sequence_id\", \"gene_member_id\", \"has_transcript_edits\", \"has_translation_edits\", \n",
        "\"description\", \"dnafrag_id\", \"dnafrag_start\", \"dnafrag_end\", \"dnafrag_strand\", \"display_label\")\n",
        "sequence_members.show(50,1000)"
      ],
      "outputs" : [
        {
          "name" : "stdout",
          "text" : [
            "+-------------+------------------+-------+-----------+--------+------------+-----------+--------------+--------------------+---------------------+-----------+----------+-------------+-----------+--------------+-------------+\n",
            "|seq_member_id|         stable_id|version|source_name|taxon_id|genome_db_id|sequence_id|gene_member_id|has_transcript_edits|has_translation_edits|description|dnafrag_id|dnafrag_start|dnafrag_end|dnafrag_strand|display_label|\n",
            "+-------------+------------------+-------+-----------+--------+------------+-----------+--------------+--------------------+---------------------+-----------+----------+-------------+-----------+--------------+-------------+\n",
            "|            1|ENSTNIP00000007010|      1| ENSEMBLPEP|   99883|          65|          1|             1|                   0|                    0|         \\N|   4514312|         2838|       3812|             1|   mt-nd1-201|\n",
            "|            2|ENSTNIP00000007011|      1| ENSEMBLPEP|   99883|          65|          2|             2|                   0|                    0|         \\N|   4514312|         4025|       5070|             1|   mt-nd2-201|\n",
            "|            4|ENSTNIP00000003835|      1| ENSEMBLPEP|   99883|          65|          4|             4|                   0|                    0|         \\N|   4514312|         5455|       7000|             1|   mt-co1-201|\n",
            "|            6|ENSTNIP00000002153|      1| ENSEMBLPEP|   99883|          65|          6|             6|                   0|                    0|         \\N|   4514312|         7157|       7847|             1|   mt-co2-201|\n",
            "|            9|ENSTNIP00000003540|      1| ENSEMBLPEP|   99883|          65|          9|             8|                   0|                    0|         \\N|   4514312|         7923|       8090|             1|           \\N|\n",
            "|           11|ENSTNIP00000000835|      1| ENSEMBLPEP|   99883|          65|         11|             9|                   0|                    0|         \\N|   4514312|         8081|       8764|             1|  mt-atp6-201|\n",
            "|           13|ENSTNIP00000023047|      1| ENSEMBLPEP|   99883|          65|         13|            10|                   0|                    0|         \\N|   4514312|         8764|       9549|             1|   mt-co3-201|\n",
            "|           16|ENSTNIP00000000394|      1| ENSEMBLPEP|   99883|          65|         16|            12|                   0|                    0|         \\N|   4514312|         9620|       9971|             1|   mt-nd3-201|\n",
            "|           19|ENSTNIP00000003869|      1| ENSEMBLPEP|   99883|          65|         19|            13|                   0|                    0|         \\N|   4514312|        10039|      10335|             1|     ND4L-201|\n",
            "|           22|ENSTNIP00000002268|      1| ENSEMBLPEP|   99883|          65|         22|            14|                   0|                    0|         \\N|   4514312|        10329|      11710|             1|   mt-nd4-201|\n",
            "|           25|ENSTNIP00000002665|      1| ENSEMBLPEP|   99883|          65|         25|            17|                   0|                    0|         \\N|   4514312|        11928|      13766|             1|   mt-nd5-201|\n",
            "|           28|ENSTNIP00000000974|      1| ENSEMBLPEP|   99883|          65|         28|            19|                   0|                    0|         \\N|   4514312|        13762|      14283|            -1|   mt-nd6-201|\n",
            "|           30|ENSTNIP00000007009|      1| ENSEMBLPEP|   99883|          65|         30|            20|                   0|                    0|         \\N|   4514312|        14358|      15500|             1|   mt-cyb-201|\n",
            "|           47|ENSPPYP00000019375|      2| ENSEMBLPEP|    9601|          60|         47|            28|                   0|                    0|         \\N|   4346060|       214924|     234040|             1|           \\N|\n",
            "|           48|ENSPPYP00000019376|      1| ENSEMBLPEP|    9601|          60|         48|            29|                   0|                    0|         \\N|   4346060|       326739|     337529|            -1|           \\N|\n",
            "|           51|ENSPPYP00000019377|      2| ENSEMBLPEP|    9601|          60|         51|            30|                   0|                    0|         \\N|   4346060|       567788|     648559|             1|           \\N|\n",
            "|           54|ENSPPYP00000019378|      2| ENSEMBLPEP|    9601|          60|         54|            31|                   0|                    0|         \\N|   4346060|       703151|     759969|             1|           \\N|\n",
            "|           57|ENSPPYP00000019380|      1| ENSEMBLPEP|    9601|          60|         57|            33|                   0|                    0|         \\N|   4346060|       771761|     772305|            -1|           \\N|\n",
            "|           59|ENSPPYP00000019381|      1| ENSEMBLPEP|    9601|          60|         59|            34|                   0|                    0|         \\N|   4346060|       853063|     859095|            -1|    COX19-201|\n",
            "|           61|ENSPPYP00000019382|      1| ENSEMBLPEP|    9601|          60|         61|            35|                   0|                    0|         \\N|   4346060|       868670|     873844|             1|           \\N|\n",
            "|           62|ENSPPYP00000019383|      1| ENSEMBLPEP|    9601|          60|         62|            36|                   0|                    0|         \\N|   4346060|       882985|    1009838|            -1|           \\N|\n",
            "|           64|ENSPPYP00000019384|      1| ENSEMBLPEP|    9601|          60|         64|            37|                   0|                    0|         \\N|   4346060|       891514|     894842|             1|           \\N|\n",
            "|           66|ENSPPYP00000019385|      1| ENSEMBLPEP|    9601|          60|         66|            38|                   0|                    0|         \\N|   4346060|       929181|     929561|             1|           \\N|\n",
            "|           67|ENSPPYP00000019386|      1| ENSEMBLPEP|    9601|          60|         67|            39|                   0|                    0|         \\N|   4346060|       936865|     937866|             1|   GPR146-201|\n",
            "|           69|ENSPPYP00000019387|      2| ENSEMBLPEP|    9601|          60|         69|            40|                   0|                    0|         \\N|   4346060|      1035923|    1043272|            -1|           \\N|\n",
            "|           72|ENSPPYP00000024327|      1| ENSEMBLPEP|    9601|          60|         72|            41|                   0|                    0|         \\N|   4346060|      1117823|    1124467|             1|           \\N|\n",
            "|           74|ENSPPYP00000019388|      2| ENSEMBLPEP|    9601|          60|         74|            42|                   0|                    0|         \\N|   4346060|      1328032|    1356074|            -1|  MICALL2-201|\n",
            "|           77|ENSPPYP00000019389|      2| ENSEMBLPEP|    9601|          60|         77|            44|                   0|                    0|         \\N|   4346060|      1366830|    1408011|            -1|    INTS1-201|\n",
            "|           80|ENSPPYP00000019390|      1| ENSEMBLPEP|    9601|          60|         79|            45|                   0|                    0|         \\N|   4346060|      1445091|    1446265|             1|     MAFK-201|\n",
            "|           81|ENSPPYP00000019391|      1| ENSEMBLPEP|    9601|          60|         81|            46|                   0|                    0|         \\N|   4346060|      1447562|    1448136|             1|           \\N|\n",
            "|           82|ENSPPYP00000019392|      2| ENSEMBLPEP|    9601|          60|         82|            47|                   0|                    0|         \\N|   4346060|      1454666|    1462894|            -1|           \\N|\n",
            "|           84|ENSPPYP00000019393|      2| ENSEMBLPEP|    9601|          60|         84|            49|                   0|                    0|         \\N|   4346060|      1477564|    1480150|            -1|    PSMG3-201|\n",
            "|           87|ENSPPYP00000019394|      1| ENSEMBLPEP|    9601|          60|         87|            50|                   0|                    0|         \\N|   4346060|      1617123|    1617713|            -1|           \\N|\n",
            "|           92|ENSPPYP00000019395|      2| ENSEMBLPEP|    9601|          60|         92|            51|                   0|                    0|         \\N|   4346060|      1747500|    2154399|            -1|   MAD1L1-201|\n",
            "|           94|ENSPPYP00000019396|      1| ENSEMBLPEP|    9601|          60|         94|            52|                   0|                    0|         \\N|   4346060|      1778486|    1779172|             1|           \\N|\n",
            "|           95|ENSPPYP00000019397|      1| ENSEMBLPEP|    9601|          60|         95|            53|                   0|                    0|         \\N|   4346060|      2070836|    2231410|             1|           \\N|\n",
            "|           97|ENSPPYP00000019398|      2| ENSEMBLPEP|    9601|          60|         97|            55|                   0|                    0|         \\N|   4346060|      2155665|    2163662|            -1|           \\N|\n",
            "|           99|ENSTNIP00000006514|      1| ENSEMBLPEP|   99883|          65|         99|            57|                   0|                    0|         \\N|   4514313|        58552|      60563|             1|    hvcn1-201|\n",
            "|          101|ENSPPYP00000019399|      1| ENSEMBLPEP|    9601|          60|        101|            58|                   0|                    0|         \\N|   4346060|      2166152|    2172849|             1|    NUDT1-201|\n",
            "|          103|ENSTNIP00000002180|      1| ENSEMBLPEP|   99883|          65|        103|            59|                   0|                    0|         \\N|   4514313|        60789|      65976|            -1|    tctn1-201|\n",
            "|          104|ENSPPYP00000019400|      2| ENSEMBLPEP|    9601|          60|        104|            60|                   0|                    0|         \\N|   4346060|      2176913|    2231279|            -1|     SNX8-201|\n",
            "|          106|ENSTNIP00000006515|      1| ENSEMBLPEP|   99883|          65|        106|            59|                   0|                    0|         \\N|   4514313|        60789|      65799|            -1|    tctn1-202|\n",
            "|          108|ENSPPYP00000019401|      2| ENSEMBLPEP|    9601|          60|        108|            62|                   0|                    0|         \\N|   4346060|      2276409|    2301475|             1|    EIF3B-201|\n",
            "|          111|ENSPPYP00000019402|      1| ENSEMBLPEP|    9601|          60|        111|            64|                   0|                    0|         \\N|   4346060|      2371762|    2373006|             1|   CHST12-201|\n",
            "|          112|ENSTNIP00000006516|      1| ENSEMBLPEP|   99883|          65|        112|            65|                   0|                    0|         \\N|   4514313|        66489|      71969|             1|     mlsl-201|\n",
            "|          113|ENSPPYP00000019403|      1| ENSEMBLPEP|    9601|          60|        113|            66|                   0|                    0|         \\N|   4346060|      2385032|    2385433|             1|           \\N|\n",
            "|          116|ENSPPYP00000019404|      1| ENSEMBLPEP|    9601|          60|        116|            67|                   0|                    0|         \\N|   4346060|      2414036|    2416188|            -1|   GRIFIN-201|\n",
            "|          119|ENSTNIP00000006517|      1| ENSEMBLPEP|   99883|          65|        119|            68|                   0|                    0|         \\N|   4514313|        72695|      76578|            -1|           \\N|\n",
            "|          123|ENSPPYP00000019405|      2| ENSEMBLPEP|    9601|          60|        123|            71|                   0|                    0|         \\N|   4346060|      2463145|    2471868|             1|           \\N|\n",
            "|          126|ENSPPYP00000019406|      2| ENSEMBLPEP|    9601|          60|        126|            72|                   0|                    0|         \\N|   4346060|      2486252|    2503484|            -1|    BRAT1-201|\n",
            "+-------------+------------------+-------+-----------+--------+------------+-----------+--------------+--------------------+---------------------+-----------+----------+-------------+-----------+--------------+-------------+\n",
            "only showing top 50 rows\n",
            "\n"
          ],
          "output_type" : "stream"
        }
      ]
    },
    {
      "cell_type" : "code",
      "execution_count" : 46,
      "metadata" : {
        "cell.metadata.exec_info" : {
          "startTs" : 1591632765194,
          "endTs" : 1591632810447
        },
        "language" : "scala"
      },
      "language" : "scala",
      "source" : [
        "(sequence_members.select(\"stable_id\", \"version\").distinct.count(),sequence_members.select(\"stable_id\").distinct.count())"
      ],
      "outputs" : [
        {
          "execution_count" : 46,
          "data" : {
            "text/plain" : [
              "(37167718,37167718)"
            ]
          },
          "metadata" : {
            "name" : "Out",
            "type" : "Tuple2[Long, Long]"
          },
          "output_type" : "execute_result"
        }
      ]
    },
    {
      "cell_type" : "code",
      "execution_count" : 48,
      "metadata" : {
        "cell.metadata.exec_info" : {
          "startTs" : 1591633323016,
          "endTs" : 1591633349557
        },
        "language" : "scala"
      },
      "language" : "scala",
      "source" : [
        "val seq_mem = sequence_members.select( $\"gene_member_id\", $\"stable_id\", $\"source_name\", $\"has_transcript_edits\", $\"has_translation_edits\", $\"display_label\")\n",
        "val tx2gene = genes.select($\"stable_id\".as(\"gene\"),$\"taxon_id\", $\"gene_member_id\").join(seq_mem, \"gene_member_id\")\n",
        "tx2gene.show(200,1000)\n"
      ],
      "outputs" : [
        {
          "name" : "stdout",
          "text" : [
            "+--------------+-------------------+--------+-------------------+-----------+--------------------+---------------------+--------------------+\n",
            "|gene_member_id|               gene|taxon_id|          stable_id|source_name|has_transcript_edits|has_translation_edits|       display_label|\n",
            "+--------------+-------------------+--------+-------------------+-----------+--------------------+---------------------+--------------------+\n",
            "|           148| ENSTNIG00000005907|   99883| ENSTNIP00000002825| ENSEMBLPEP|                   0|                    0|          ints6l-201|\n",
            "|           148| ENSTNIG00000005907|   99883| ENSTNIP00000008634| ENSEMBLPEP|                   0|                    0|          ints6l-202|\n",
            "|           148| ENSTNIG00000005907|   99883| ENSTNIP00000001015| ENSEMBLPEP|                   0|                    0|          ints6l-203|\n",
            "|           471| ENSPPYG00000017450|    9601| ENSPPYP00000019561| ENSEMBLPEP|                   0|                    0|           MYL10-201|\n",
            "|           496| ENSPPYG00000017459|    9601| ENSPPYP00000019573| ENSEMBLPEP|                   0|                    0|                  \\N|\n",
            "|           833| ENSPPYG00000017571|    9601| ENSPPYP00000019695| ENSEMBLPEP|                   0|                    0|                  \\N|\n",
            "|          1342| ENSPPYG00000017688|    9601| ENSPPYP00000019826| ENSEMBLPEP|                   0|                    0|           CREB5-201|\n",
            "|          1580| ENSTNIG00000006940|   99883| ENSTNIP00000009739| ENSEMBLPEP|                   0|                    0|          mier1b-201|\n",
            "|          1591| ENSTNIG00000006944|   99883| ENSTNIP00000009743| ENSEMBLPEP|                   0|                    0|             IPP-201|\n",
            "|          1645| ENSPPYG00000017760|    9601| ENSPPYP00000019908| ENSEMBLPEP|                   0|                    0|            AGR3-201|\n",
            "|          1829| ENSPPYG00000017801|    9601| ENSPPYP00000019953| ENSEMBLPEP|                   0|                    0|            ASB4-201|\n",
            "|          1959| ENSPPYG00000017834|    9601| ENSPPYP00000019988| ENSEMBLPEP|                   0|                    0|                  \\N|\n",
            "|          2122| ENSPPYG00000017864|    9601| ENSPPYP00000020020| ENSEMBLPEP|                   0|                    0|           GNAI1-201|\n",
            "|          2142| ENSTNIG00000015270|   99883| ENSTNIP00000018329| ENSEMBLPEP|                   0|                    0|           extl2-201|\n",
            "|          2366| ENSOPRG00000015256|    9978| ENSOPRP00000013927| ENSEMBLPEP|                   0|                    0|           DECR2-201|\n",
            "|          2866| ENSPPYG00000018039|    9601| ENSPPYP00000020241| ENSEMBLPEP|                   0|                    0|                  \\N|\n",
            "|          3175| ENSPPYG00000018121|    9601| ENSPPYP00000020329| ENSEMBLPEP|                   0|                    0|         TAS2R60-201|\n",
            "|          3918| ENSPPYG00000000046|    9601| ENSPPYP00000000043| ENSEMBLPEP|                   0|                    0|           TFB2M-201|\n",
            "|          3997| ENSPPYG00000000065|    9601| ENSPPYP00000000062| ENSEMBLPEP|                   0|                    0|                  \\N|\n",
            "|          4519| ENSTNIG00000000005|   99883| ENSTNIP00000000936| ENSEMBLPEP|                   0|                    0|           sdhda-201|\n",
            "|          4818| ENSTNIG00000010150|   99883| ENSTNIP00000013048| ENSEMBLPEP|                   0|                    0|            HMX1-201|\n",
            "|          4900| ENSETEG00000000505|    9371| ENSETEP00000000403| ENSEMBLPEP|                   0|                    0|           HSPB3-201|\n",
            "|          5156| ENSPPYG00000000344|    9601| ENSPPYP00000000381| ENSEMBLPEP|                   0|                    0|           RABIF-201|\n",
            "|          5300| ENSOPRG00000000611|    9978| ENSOPRP00000000550| ENSEMBLPEP|                   0|                    0|        C11orf68-201|\n",
            "|          5518| ENSOANG00000031725|    9258| ENSOANP00000031867| ENSEMBLPEP|                   0|                    0|                  \\N|\n",
            "|          6357| ENSTNIG00000015073|   99883| ENSTNIP00000002479| ENSEMBLPEP|                   0|                    0|                  \\N|\n",
            "|          6357| ENSTNIG00000015073|   99883| ENSTNIP00000018126| ENSEMBLPEP|                   0|                    0|                  \\N|\n",
            "|          6620| ENSOANG00000007040|    9258| ENSOANP00000011207| ENSEMBLPEP|                   0|                    0|                  \\N|\n",
            "|          6658| ENSPPYG00000000693|    9601| ENSPPYP00000000802| ENSEMBLPEP|                   0|                    0|            ETV3-201|\n",
            "|          7340| ENSTNIG00000012589|   99883| ENSTNIP00000015560| ENSEMBLPEP|                   0|                    0|           gls2a-201|\n",
            "|          7554| ENSTNIG00000012542|   99883| ENSTNIP00000002961| ENSEMBLPEP|                   0|                    0|          mxra8b-201|\n",
            "|          7554| ENSTNIG00000012542|   99883| ENSTNIP00000015511| ENSEMBLPEP|                   0|                    0|          mxra8b-202|\n",
            "|          7833| ENSPPYG00000000961|    9601| ENSPPYP00000001119| ENSEMBLPEP|                   0|                    0|          HMGCS2-201|\n",
            "|          7880| ENSTBEG00000001536|   37347| ENSTBEP00000001312| ENSEMBLPEP|                   0|                    0|                  \\N|\n",
            "|          7982| ENSLOCG00000008641|    7918| ENSLOCP00000010506| ENSEMBLPEP|                   0|                    0| si:rp71-84d19.3-201|\n",
            "|          8086| ENSTNIG00000006512|   99883| ENSTNIP00000009282| ENSEMBLPEP|                   0|                    0|                  \\N|\n",
            "|          8389| ENSMLUG00000000226|   59463| ENSMLUP00000000208| ENSEMBLPEP|                   0|                    0|           TRPC4-201|\n",
            "|          8638| ENSTNIG00000004907|   99883| ENSTNIP00000007571| ENSEMBLPEP|                   0|                    0|                  \\N|\n",
            "|          9376| ENSMLUG00000005026|   59463| ENSMLUP00000004585| ENSEMBLPEP|                   0|                    0|          THNSL2-201|\n",
            "|          9427| ENSLACG00000009866|    7897| ENSLACP00000011213| ENSEMBLPEP|                   0|                    0|             UCN-201|\n",
            "|         10206| ENSMLUG00000012131|   59463| ENSMLUP00000011059| ENSEMBLPEP|                   0|                    0|          TBC1D4-201|\n",
            "|         10362| ENSLOCG00000000140|    7918| ENSLOCP00000000151| ENSEMBLPEP|                   0|                    0|                  \\N|\n",
            "|         11033| ENSPMAG00000009066|    7757| ENSPMAP00000009976| ENSEMBLPEP|                   0|                    0|                  \\N|\n",
            "|         11858| ENSLOCG00000000296|    7918| ENSLOCP00000000322| ENSEMBLPEP|                   0|                    0|                  \\N|\n",
            "|         12027| ENSLOCG00000000033|    7918| ENSLOCP00000000037| ENSEMBLPEP|                   0|                    0|                  \\N|\n",
            "|         12940| ENSMLUG00000027921|   59463| ENSMLUP00000016654| ENSEMBLPEP|                   0|                    0|                  \\N|\n",
            "|         13289| ENSMLUG00000001797|   59463| ENSMLUP00000001638| ENSEMBLPEP|                   0|                    0|         PCDHB15-201|\n",
            "|         13832| ENSTNIG00000013085|   99883| ENSTNIP00000016066| ENSEMBLPEP|                   0|                    0|             ret-201|\n",
            "|         13832| ENSTNIG00000013085|   99883| ENSTNIP00000002538| ENSEMBLPEP|                   0|                    0|             ret-202|\n",
            "|         14570| ENSPMAG00000003886|    7757| ENSPMAP00000004251| ENSEMBLPEP|                   0|                    0|            preb-201|\n",
            "|         15447| ENSAMEG00000002580|    9646| ENSAMEP00000002724| ENSEMBLPEP|                   0|                    0|           AURKB-201|\n",
            "|         15619| ENSTNIG00000016597|   99883| ENSTNIP00000019699| ENSEMBLPEP|                   0|                    0|                  \\N|\n",
            "|         15619| ENSTNIG00000016597|   99883| ENSTNIP00000019700| ENSEMBLPEP|                   0|                    0|                  \\N|\n",
            "|         15619| ENSTNIG00000016597|   99883| ENSTNIP00000019701| ENSEMBLPEP|                   0|                    0|                  \\N|\n",
            "|         15790| ENSPPYG00000001348|    9601| ENSPPYP00000001567| ENSEMBLPEP|                   0|                    0|         PRPF38A-201|\n",
            "|         15846| ENSTNIG00000016587|   99883| ENSTNIP00000019689| ENSEMBLPEP|                   0|                    0|           RSPH3-201|\n",
            "|         16339| ENSFALG00000014961|   59894| ENSFALP00000015576| ENSEMBLPEP|                   0|                    0|                  \\N|\n",
            "|         16574| ENSPPYG00000001385|    9601| ENSPPYP00000001605| ENSEMBLPEP|                   0|                    0|         CYP4A11-201|\n",
            "|         17389| ENSPMAG00000007248|    7757| ENSPMAP00000007984| ENSEMBLPEP|                   0|                    0|                  \\N|\n",
            "|         17389| ENSPMAG00000007248|    7757| ENSPMAP00000007988| ENSEMBLPEP|                   0|                    0|                  \\N|\n",
            "|         17679| ENSTNIG00000008673|   99883| ENSTNIP00000011521| ENSEMBLPEP|                   0|                    0|          alox5a-201|\n",
            "|         17753| ENSMLUG00000005220|   59463| ENSMLUP00000004759| ENSEMBLPEP|                   0|                    0|          ALKBH1-201|\n",
            "|         18024| ENSTNIG00000008657|   99883| ENSTNIP00000011505| ENSEMBLPEP|                   0|                    0|          EFEMP1-201|\n",
            "|         18024| ENSTNIG00000008657|   99883| ENSTNIP00000002751| ENSEMBLPEP|                   0|                    0|          EFEMP1-202|\n",
            "|         18051| ENSTNIG00000008656|   99883| ENSTNIP00000011504| ENSEMBLPEP|                   0|                    0|           MARK1-201|\n",
            "|         18654| ENSPVAG00000014769|  132908| ENSPVAP00000013919| ENSEMBLPEP|                   0|                    0|            BMP4-201|\n",
            "|         18866| ENSLACG00000016910|    7897| ENSLACP00000019226| ENSEMBLPEP|                   0|                    0|           FADS1-201|\n",
            "|         18944| ENSPMAG00000000643|    7757| ENSPMAP00000000721| ENSEMBLPEP|                   0|                    0|           ampd1-201|\n",
            "|         18979| ENSMLUG00000026103|   59463| ENSMLUP00000020019| ENSEMBLPEP|                   0|                    0|                  \\N|\n",
            "|         19553| ENSFALG00000009127|   59894| ENSFALP00000009520| ENSEMBLPEP|                   0|                    0|          GASK1A-201|\n",
            "|         19984| ENSAMEG00000019345|    9646| ENSAMEP00000020397| ENSEMBLPEP|                   0|                    0|                  \\N|\n",
            "|         20382| ENSLACG00000001253|    7897| ENSLACP00000001397| ENSEMBLPEP|                   0|                    0|           TECTA-201|\n",
            "|         20497| ENSLACG00000011164|    7897| ENSLACP00000012671| ENSEMBLPEP|                   0|                    0|             OAF-201|\n",
            "|         20924| ENSLOCG00000000201|    7918| ENSLOCP00000000224| ENSEMBLPEP|                   0|                    0|                  \\N|\n",
            "|         21220| ENSPMAG00000003464|    7757| ENSPMAP00000003773| ENSEMBLPEP|                   0|                    0|           ypel5-201|\n",
            "|         22097| ENSAMEG00000014931|    9646| ENSAMEP00000015745| ENSEMBLPEP|                   0|                    0|           TRUB1-201|\n",
            "|         22521| ENSMLUG00000029860|   59463| ENSMLUP00000018937| ENSEMBLPEP|                   0|                    0|           OR4N5-201|\n",
            "|         23336| ENSTNIG00000017022|   99883| ENSTNIP00000020148| ENSEMBLPEP|                   0|                    0|          actn2b-201|\n",
            "|         23571| ENSFALG00000006934|   59894| ENSFALP00000007235| ENSEMBLPEP|                   0|                    0|           ESYT2-201|\n",
            "|         24663| ENSAMEG00000017047|    9646| ENSAMEP00000018009| ENSEMBLPEP|                   0|                    0|           PSMB1-201|\n",
            "|         25462| ENSFALG00000007808|   59894| ENSFALP00000008144| ENSEMBLPEP|                   0|                    0|        SLC25A40-201|\n",
            "|         26087| ENSMLUG00000006010|   59463| ENSMLUP00000005491| ENSEMBLPEP|                   0|                    0|        C15orf39-201|\n",
            "|         26623| ENSTNIG00000009121|   99883| ENSTNIP00000011981| ENSEMBLPEP|                   0|                    0|            drg1-201|\n",
            "|         27484|ENSCSAVG00000010321|   51511|ENSCSAVP00000017527| ENSEMBLPEP|                   0|                    0|                  \\N|\n",
            "|         27974| ENSFALG00000004182|   59894| ENSFALP00000004356| ENSEMBLPEP|                   0|                    0|           DHRSX-201|\n",
            "|         28124| ENSAMEG00000018257|    9646| ENSAMEP00000019305| ENSEMBLPEP|                   0|                    0|         ALDH6A1-201|\n",
            "|         28577| ENSPPYG00000020080|    9601| ENSPPYP00000022456| ENSEMBLPEP|                   0|                    0|                  \\N|\n",
            "|         28759| ENSTNIG00000013600|   99883| ENSTNIP00000016599| ENSEMBLPEP|                   0|                    0|           actr1-201|\n",
            "|         29228| ENSMLUG00000012217|   59463| ENSMLUP00000011129| ENSEMBLPEP|                   0|                    0|            CRCP-201|\n",
            "|         29744| ENSLOCG00000000045|    7918| ENSLOCP00000000053| ENSEMBLPEP|                   0|                    0|          NDUFV1-201|\n",
            "|         29894| ENSPPYG00000020150|    9601| ENSPPYP00000022540| ENSEMBLPEP|                   0|                    0|           ZRSR2-201|\n",
            "|         30361| ENSFALG00000006960|   59894| ENSFALP00000007264| ENSEMBLPEP|                   0|                    0|           DUPD1-201|\n",
            "|         30654| ENSPPYG00000020183|    9601| ENSPPYP00000022585| ENSEMBLPEP|                   0|                    0|            PHEX-201|\n",
            "|         31261| ENSTNIG00000001408|   99883| ENSTNIP00000002430| ENSEMBLPEP|                   0|                    0|                  \\N|\n",
            "|         31367| ENSFALG00000007413|   59894| ENSFALP00000007737| ENSEMBLPEP|                   0|                    0|                  \\N|\n",
            "|         31912| ENSFALG00000007736|   59894| ENSFALP00000008068| ENSEMBLPEP|                   0|                    0|           PCGF5-201|\n",
            "|         31951| ENSTTRG00000015955|    9739| ENSTTRP00000015117| ENSEMBLPEP|                   0|                    0|            PHC1-201|\n",
            "|         32460| ENSAMEG00000004707|    9646| ENSAMEP00000004961| ENSEMBLPEP|                   0|                    0|         SH3BGRL-201|\n",
            "|         32460| ENSAMEG00000004707|    9646| ENSAMEP00000004962| ENSEMBLPEP|                   0|                    0|         SH3BGRL-202|\n",
            "|         33375| ENSAMEG00000006094|    9646| ENSAMEP00000006413| ENSEMBLPEP|                   0|                    0|            PIGF-201|\n",
            "|         33412| ENSETEG00000005228|    9371| ENSETEP00000004252| ENSEMBLPEP|                   0|                    0|            SS18-201|\n",
            "|         33717| ENSPPYG00000020350|    9601| ENSPPYP00000022780| ENSEMBLPEP|                   0|                    0|                  \\N|\n",
            "|         34061| ENSPPYG00000020371|    9601| ENSPPYP00000022802| ENSEMBLPEP|                   0|                    0|          GPR173-201|\n",
            "|         34239| ENSLACG00000013118|    7897| ENSLACP00000014907| ENSEMBLPEP|                   0|                    0|            MMP2-201|\n",
            "|         35820| ENSPMAG00000010329|    7757| ENSPMAP00000011310| ENSEMBLPEP|                   0|                    0|                  \\N|\n",
            "|         36131| ENSAMEG00000011420|    9646| ENSAMEP00000012036| ENSEMBLPEP|                   0|                    0|           SETD3-201|\n",
            "|         36525| ENSFALG00000007743|   59894| ENSFALP00000008077| ENSEMBLPEP|                   0|                    0|           CHRNG-201|\n",
            "|         37111| ENSAMEG00000012092|    9646| ENSAMEP00000012721| ENSEMBLPEP|                   0|                    0|                  \\N|\n",
            "|         37146| ENSMLUG00000011119|   59463| ENSMLUP00000020167| ENSEMBLPEP|                   0|                    0|            RGS8-201|\n",
            "|         37146| ENSMLUG00000011119|   59463| ENSMLUP00000010135| ENSEMBLPEP|                   0|                    0|            RGS8-202|\n",
            "|         37251| ENSFALG00000008275|   59894| ENSFALP00000008628| ENSEMBLPEP|                   0|                    0|         DCUN1D1-201|\n",
            "|         37307| ENSPMAG00000005706|    7757| ENSPMAP00000006290| ENSEMBLPEP|                   0|                    0|          cnot6l-201|\n",
            "|         38220| ENSMLUG00000002623|   59463| ENSMLUP00000019736| ENSEMBLPEP|                   0|                    0|          FAXDC2-201|\n",
            "|         38220| ENSMLUG00000002623|   59463| ENSMLUP00000002385| ENSEMBLPEP|                   0|                    0|          FAXDC2-202|\n",
            "|         38395| ENSAMEG00000013828|    9646| ENSAMEP00000014619| ENSEMBLPEP|                   0|                    0|            NPC1-201|\n",
            "|         38422| ENSMLUG00000003614|   59463| ENSMLUP00000003289| ENSEMBLPEP|                   0|                    0|         SLC36A1-201|\n",
            "|         38723|ENSCSAVG00000009306|   51511|ENSCSAVP00000015834| ENSEMBLPEP|                   0|                    0|                  \\N|\n",
            "|         39432| ENSAMEG00000014808|    9646| ENSAMEP00000015670| ENSEMBLPEP|                   0|                    0|            UBR5-201|\n",
            "|         40335| ENSLACG00000012118|    7897| ENSLACP00000013764| ENSEMBLPEP|                   0|                    0|           TTYH1-201|\n",
            "|         40386| ENSTNIG00000015919|   99883| ENSTNIP00000019005| ENSEMBLPEP|                   0|                    0|            polb-201|\n",
            "|         40515| ENSPPYG00000020695|    9601| ENSPPYP00000023166| ENSEMBLPEP|                   0|                    0|           THOC2-201|\n",
            "|         41890| ENSTNIG00000015832|   99883| ENSTNIP00000018916| ENSEMBLPEP|                   0|                    0|si:ch211-275j6.5-201|\n",
            "|         41946| ENSLOCG00000004460|    7918| ENSLOCP00000005328| ENSEMBLPEP|                   0|                    0|                  \\N|\n",
            "|         42468| ENSMLUG00000015371|   59463| ENSMLUP00000014006| ENSEMBLPEP|                   0|                    0|            E2F1-201|\n",
            "|         42635| ENSLACG00000012593|    7897| ENSLACP00000014308| ENSEMBLPEP|                   0|                    0|                  \\N|\n",
            "|         42834| ENSLACG00000013715|    7897| ENSLACP00000015578| ENSEMBLPEP|                   0|                    0|         BHLHA15-201|\n",
            "|         43103| ENSLACG00000007200|    7897| ENSLACP00000008131| ENSEMBLPEP|                   0|                    0|          ANXA13-201|\n",
            "|         43302| ENSMLUG00000002255|   59463| ENSMLUP00000002058| ENSEMBLPEP|                   0|                    0|           MROH8-201|\n",
            "|         43714| ENSFALG00000009105|   59894| ENSFALP00000009499| ENSEMBLPEP|                   0|                    0|                  \\N|\n",
            "|         44437|ENSCSAVG00000003753|   51511|ENSCSAVP00000006272| ENSEMBLPEP|                   0|                    0|                  \\N|\n",
            "|         44906| ENSFALG00000009585|   59894| ENSFALP00000009993| ENSEMBLPEP|                   0|                    0|           MMP17-201|\n",
            "|         45011| ENSETEG00000014577|    9371| ENSETEP00000011821| ENSEMBLPEP|                   0|                    0|                  \\N|\n",
            "|         46952| ENSTNIG00000011484|   99883| ENSTNIP00000008097| ENSEMBLPEP|                   0|                    0|           dock5-201|\n",
            "|         46952| ENSTNIG00000011484|   99883| ENSTNIP00000014431| ENSEMBLPEP|                   0|                    0|           dock5-202|\n",
            "|         47084| ENSPPYG00000010802|    9601| ENSPPYP00000012066| ENSEMBLPEP|                   0|                    0|            SMOX-201|\n",
            "|         47084| ENSPPYG00000010802|    9601| ENSPPYP00000012067| ENSEMBLPEP|                   0|                    0|            SMOX-202|\n",
            "|         47501| ENSPPYG00000010828|    9601| ENSPPYP00000012094| ENSEMBLPEP|                   0|                    0|             OXT-201|\n",
            "|         47711| ENSLOCG00000009133|    7918| ENSLOCP00000011133| ENSEMBLPEP|                   0|                    0|                  \\N|\n",
            "|         48398| ENSPPYG00000029465|    9601| ENSPPYP00000024749| ENSEMBLPEP|                   0|                    0|          COX4I2-201|\n",
            "|         49308| ENSMLUG00000023460|   59463| ENSMLUP00000019591| ENSEMBLPEP|                   0|                    0|                  \\N|\n",
            "|         49331| ENSMLUG00000014560|   59463| ENSMLUP00000013246| ENSEMBLPEP|                   0|                    0|          ARPP19-201|\n",
            "|         50348| ENSPPYG00000010995|    9601| ENSPPYP00000012280| ENSEMBLPEP|                   0|                    0|                  \\N|\n",
            "|         50348| ENSPPYG00000010995|    9601| ENSPPYP00000012281| ENSEMBLPEP|                   0|                    0|                  \\N|\n",
            "|         51123| ENSFALG00000006404|   59894| ENSFALP00000006684| ENSEMBLPEP|                   0|                    0|          APCDD1-201|\n",
            "|         51415|ENSCSAVG00000006871|   51511|ENSCSAVP00000011719| ENSEMBLPEP|                   0|                    0|                  \\N|\n",
            "|         51595|ENSCSAVG00000007018|   51511|ENSCSAVP00000011950| ENSEMBLPEP|                   0|                    0|                  \\N|\n",
            "|         53634| ENSFALG00000012450|   59894| ENSFALP00000012995| ENSEMBLPEP|                   0|                    0|           INTS7-201|\n",
            "|         53963| ENSPPYG00000011173|    9601| ENSPPYP00000012481| ENSEMBLPEP|                   0|                    0|         APCDD1L-201|\n",
            "|         54264| ENSFALG00000012870|   59894| ENSFALP00000013431| ENSEMBLPEP|                   0|                    0|           MCFD2-201|\n",
            "|         55155| ENSAMEG00000009464|    9646| ENSAMEP00000009946| ENSEMBLPEP|                   0|                    0|                  \\N|\n",
            "|         56680| ENSAMEG00000010878|    9646| ENSAMEP00000011439| ENSEMBLPEP|                   0|                    0|          RPL18A-201|\n",
            "|         57020| ENSPMAG00000009226|    7757| ENSPMAP00000010157| ENSEMBLPEP|                   0|                    0|          man2b1-201|\n",
            "|         57039| ENSPMAG00000009235|    7757| ENSPMAP00000010161| ENSEMBLPEP|                   0|                    0|          enoph1-201|\n",
            "|         57201| ENSLOCG00000013554|    7918| ENSLOCP00000016721| ENSEMBLPEP|                   0|                    0|          smurf2-201|\n",
            "|         57370| ENSPPYG00000019098|    9601| ENSPPYP00000021400| ENSEMBLPEP|                   0|                    0|                  \\N|\n",
            "|         57380|ENSCSAVG00000004377|   51511|ENSCSAVP00000007330| ENSEMBLPEP|                   0|                    0|                  \\N|\n",
            "|         57693| ENSPPYG00000019119|    9601| ENSPPYP00000021424| ENSEMBLPEP|                   0|                    0|            ENHO-201|\n",
            "|         57984| ENSPMAG00000007109|    7757| ENSPMAP00000007825| ENSEMBLPEP|                   0|                    0|                  \\N|\n",
            "|         58305|ENSCSAVG00000007146|   51511|ENSCSAVP00000012150| ENSEMBLPEP|                   0|                    0|                  \\N|\n",
            "|         59355| ENSLACG00000013379|    7897| ENSLACP00000015197| ENSEMBLPEP|                   0|                    0|                  \\N|\n",
            "|         59384| ENSMLUG00000012813|   59463| ENSMLUP00000019973| ENSEMBLPEP|                   0|                    0|            TLR2-201|\n",
            "|         62680| ENSPPYG00000019357|    9601| ENSPPYP00000021690| ENSEMBLPEP|                   0|                    0|                  \\N|\n",
            "|         63271| ENSMLUG00000004283|   59463| ENSMLUP00000003897| ENSEMBLPEP|                   0|                    0|           AGTR2-201|\n",
            "|         63964| ENSPPYG00000019415|    9601| ENSPPYP00000021755| ENSEMBLPEP|                   0|                    0|                  \\N|\n",
            "|         64590| ENSLOCG00000005406|    7918| ENSLOCP00000006520| ENSEMBLPEP|                   0|                    0|         bcdin3d-201|\n",
            "|         65220| ENSPMAG00000009496|    7757| ENSPMAP00000010438| ENSEMBLPEP|                   0|                    0|                  \\N|\n",
            "|         65220| ENSPMAG00000009496|    7757| ENSPMAP00000010439| ENSEMBLPEP|                   0|                    0|                  \\N|\n",
            "|         65408|ENSCSAVG00000001768|   51511|ENSCSAVP00000002962| ENSEMBLPEP|                   0|                    0|                  \\N|\n",
            "|         65478| ENSTNIG00000012252|   99883| ENSTNIP00000015218| ENSEMBLPEP|                   0|                    0|         stxbp5a-201|\n",
            "|         65867| ENSTNIG00000012267|   99883| ENSTNIP00000015234| ENSEMBLPEP|                   0|                    0|          gtf2h5-201|\n",
            "|         66176| ENSLACG00000007612|    7897| ENSLACP00000008611| ENSEMBLPEP|                   0|                    0|           RNF32-201|\n",
            "|         67089| ENSTNIG00000000925|   99883| ENSTNIP00000002449| ENSEMBLPEP|                   0|                    0|           opn8c-201|\n",
            "|         67294| ENSFALG00000004743|   59894| ENSFALP00000004934| ENSEMBLPEP|                   0|                    0|            SCGN-201|\n",
            "|         67492| ENSLOCG00000007989|    7918| ENSLOCP00000009699| ENSEMBLPEP|                   0|                    0|            NAF1-201|\n",
            "|         67753| ENSTNIG00000016390|   99883| ENSTNIP00000019487| ENSEMBLPEP|                   0|                    0|           ACOT2-201|\n",
            "|         67861|ENSCSAVG00000005693|   51511|ENSCSAVP00000009700| ENSEMBLPEP|                   0|                    0|                  \\N|\n",
            "|         67861|ENSCSAVG00000005693|   51511|ENSCSAVP00000009701| ENSEMBLPEP|                   0|                    0|                  \\N|\n",
            "|         67861|ENSCSAVG00000005693|   51511|ENSCSAVP00000009702| ENSEMBLPEP|                   0|                    0|                  \\N|\n",
            "|         68098| ENSPPYG00000019618|    9601| ENSPPYP00000021984| ENSEMBLPEP|                   0|                    0|         ANGPTL2-201|\n",
            "|         68202| ENSTNIG00000016364|   99883| ENSTNIP00000019461| ENSEMBLPEP|                   0|                    0|                  \\N|\n",
            "|         68579| ENSPMAG00000004188|    7757| ENSPMAP00000004579| ENSEMBLPEP|                   0|                    0|                  \\N|\n",
            "|         68610| ENSLOCG00000018024|    7918| ENSLOCP00000022125| ENSEMBLPEP|                   0|                    0|         mab21l2-201|\n",
            "|         69042| ENSPMAG00000000960|    7757| ENSPMAP00000001068| ENSEMBLPEP|                   0|                    0|           tex10-201|\n",
            "|         69454| ENSOPRG00000006089|    9978| ENSOPRP00000005590| ENSEMBLPEP|                   0|                    0|                  \\N|\n",
            "|         69637| ENSPMAG00000002868|    7757| ENSPMAP00000003153| ENSEMBLPEP|                   0|                    0|                  \\N|\n",
            "|         70097| ENSAMEG00000010159|    9646| ENSAMEP00000010671| ENSEMBLPEP|                   0|                    0|           NR3C1-201|\n",
            "|         70097| ENSAMEG00000010159|    9646| ENSAMEP00000010673| ENSEMBLPEP|                   0|                    0|           NR3C1-202|\n",
            "|         70863| ENSPPYG00000019752|    9601| ENSPPYP00000022153| ENSEMBLPEP|                   0|                    0|                  \\N|\n",
            "|         71510| ENSAMEG00000011777|    9646| ENSAMEP00000012378| ENSEMBLPEP|                   0|                    0|                  \\N|\n",
            "|         72578| ENSOANG00000028951|    9258| ENSOANP00000030662| ENSEMBLPEP|                   0|                    0|                  \\N|\n",
            "|         72820| ENSFALG00000009915|   59894| ENSFALP00000010340| ENSEMBLPEP|                   0|                    0|          CADPS2-201|\n",
            "|         73048| ENSFALG00000010054|   59894| ENSFALP00000010485| ENSEMBLPEP|                   0|                    0|            ASZ1-201|\n",
            "|         73305| ENSTNIG00000000136|   99883| ENSTNIP00000002340| ENSEMBLPEP|                   0|                    0|                  \\N|\n",
            "|         73933| ENSMLUG00000022808|   59463| ENSMLUP00000021193| ENSEMBLPEP|                   0|                    0|          KLHL23-201|\n",
            "|         74757|ENSCSAVG00000009639|   51511|ENSCSAVP00000016378| ENSEMBLPEP|                   0|                    0|                  \\N|\n",
            "|         74757|ENSCSAVG00000009639|   51511|ENSCSAVP00000016379| ENSEMBLPEP|                   0|                    0|                  \\N|\n",
            "|         74836| ENSPMAG00000008238|    7757| ENSPMAP00000009068| ENSEMBLPEP|                   0|                    0|        specc1lb-202|\n",
            "|         74836| ENSPMAG00000008238|    7757| ENSPMAP00000009078| ENSEMBLPEP|                   0|                    0|        specc1lb-201|\n",
            "|         74904| ENSMLUG00000005358|   59463| ENSMLUP00000004902| ENSEMBLPEP|                   0|                    0|           TANC1-201|\n",
            "|         75149| ENSFALG00000004089|   59894| ENSFALP00000004273| ENSEMBLPEP|                   0|                    0|            MPP4-201|\n",
            "+--------------+-------------------+--------+-------------------+-----------+--------------------+---------------------+--------------------+\n",
            "only showing top 200 rows\n",
            "\n"
          ],
          "output_type" : "stream"
        }
      ]
    },
    {
      "cell_type" : "code",
      "execution_count" : 49,
      "metadata" : {
        "cell.metadata.exec_info" : {
          "startTs" : 1591633349563,
          "endTs" : 1591633377203
        },
        "language" : "scala"
      },
      "language" : "scala",
      "source" : [
        "tx2gene.where($\"taxon_id\" ===9606).select(\"gene\").distinct.count()"
      ],
      "outputs" : [
        {
          "execution_count" : 49,
          "data" : {
            "text/plain" : [
              "67996"
            ]
          },
          "metadata" : {
            "name" : "Out",
            "type" : "Long"
          },
          "output_type" : "execute_result"
        }
      ]
    },
    {
      "cell_type" : "code",
      "execution_count" : 50,
      "metadata" : {
        "cell.metadata.exec_info" : {
          "startTs" : 1582036428375,
          "endTs" : 1582036450345
        },
        "language" : "scala"
      },
      "language" : "scala",
      "source" : [
        "tx2gene.select(\"stable_id\").distinct.count()"
      ],
      "outputs" : [
        {
          "execution_count" : 50,
          "data" : {
            "text/plain" : [
              "12159873"
            ]
          },
          "metadata" : {
            "name" : "Out",
            "type" : "Long"
          },
          "output_type" : "execute_result"
        }
      ]
    },
    {
      "cell_type" : "code",
      "execution_count" : 53,
      "metadata" : {
        "cell.metadata.exec_info" : {
          "startTs" : 1591632721958,
          "endTs" : 1591632725381
        },
        "language" : "scala"
      },
      "language" : "scala",
      "source" : [
        "val genes_n = spark.read.parquet(\"/data/ensembl/99/website/genes_lookup.parquet\").as[(java.lang.Integer,String, String, String, String, String, String, String)]\n",
        "genes_n.show(20,1000)"
      ],
      "outputs" : [
        {
          "name" : "stdout",
          "text" : [
            "+--------+------------------+-------------+-------------+--------------------------------------------------------------------------------------------------------+---------------------------+-------------+-----+\n",
            "|taxon_id|         stable_id|display_label|biotype_group|                                                                                             description|            scientific_name|  common_name|class|\n",
            "+--------+------------------+-------------+-------------+--------------------------------------------------------------------------------------------------------+---------------------------+-------------+-----+\n",
            "|   80966|ENSAPOG00000000002|    zgc:63972|       coding|                                                   protein CutA homolog [Source:NCBI gene;Acc:110950088]|Acanthochromis_polyacanthus|Spiny chromis| null|\n",
            "|   80966|ENSAPOG00000000003|           \\N|       coding|                                                                                                      \\N|Acanthochromis_polyacanthus|Spiny chromis| null|\n",
            "|   80966|ENSAPOG00000000004|          rhd|       coding|                                    ammonium transporter Rh type C-like [Source:NCBI gene;Acc:110950049]|Acanthochromis_polyacanthus|Spiny chromis| null|\n",
            "|   80966|ENSAPOG00000000005|           \\N|       coding|                                      protein bicaudal D homolog 1-like [Source:NCBI gene;Acc:110967754]|Acanthochromis_polyacanthus|Spiny chromis| null|\n",
            "|   80966|ENSAPOG00000000006|     ppp1r27b|       coding|                       protein phosphatase 1, regulatory subunit 27b [Source:ZFIN;Acc:ZDB-GENE-051023-5]|Acanthochromis_polyacanthus|Spiny chromis| null|\n",
            "|   80966|ENSAPOG00000000007|       capn2l|       coding|                                       calpain-2 catalytic subunit-like [Source:NCBI gene;Acc:110950015]|Acanthochromis_polyacanthus|Spiny chromis| null|\n",
            "|   80966|ENSAPOG00000000008|           \\N|       coding|                                          zinc finger protein 518B-like [Source:NCBI gene;Acc:110954735]|Acanthochromis_polyacanthus|Spiny chromis| null|\n",
            "|   80966|ENSAPOG00000000009|         ARSB|       coding|                                                        arylsulfatase B [Source:NCBI gene;Acc:110963000]|Acanthochromis_polyacanthus|Spiny chromis| null|\n",
            "|   80966|ENSAPOG00000000010|   zgc:153654|       coding|                                     interferon-induced protein 44-like [Source:NCBI gene;Acc:110962994]|Acanthochromis_polyacanthus|Spiny chromis| null|\n",
            "|   80966|ENSAPOG00000000011|       SMURF2|       coding|                                     E3 ubiquitin-protein ligase SMURF2 [Source:NCBI gene;Acc:110958763]|Acanthochromis_polyacanthus|Spiny chromis| null|\n",
            "|   80966|ENSAPOG00000000012|         dhx9|       coding|                             DEAH (Asp-Glu-Ala-His) box helicase 9 [Source:ZFIN;Acc:ZDB-GENE-070912-171]|Acanthochromis_polyacanthus|Spiny chromis| null|\n",
            "|   80966|ENSAPOG00000000013|     aasdhppt|       coding|aminoadipate-semialdehyde dehydrogenase-phosphopantetheinyl transferase [Source:NCBI gene;Acc:110952391]|Acanthochromis_polyacanthus|Spiny chromis| null|\n",
            "|   80966|ENSAPOG00000000014|        nol11|       coding|                                                   nucleolar protein 11 [Source:NCBI gene;Acc:110958759]|Acanthochromis_polyacanthus|Spiny chromis| null|\n",
            "|   80966|ENSAPOG00000000015|       gna11b|       coding|             guanine nucleotide-binding protein G(q) subunit alpha-like [Source:NCBI gene;Acc:110962991]|Acanthochromis_polyacanthus|Spiny chromis| null|\n",
            "|   80966|ENSAPOG00000000016|         APOH|       coding|                                             beta-2-glycoprotein 1-like [Source:NCBI gene;Acc:110958758]|Acanthochromis_polyacanthus|Spiny chromis| null|\n",
            "|   80966|ENSAPOG00000000017|           \\N|       coding| calcium/calmodulin-dependent protein kinase type II subunit gamma-like [Source:NCBI gene;Acc:110948379]|Acanthochromis_polyacanthus|Spiny chromis| null|\n",
            "|   80966|ENSAPOG00000000018|         wwc3|       coding|                                                    WWC family member 3 [Source:NCBI gene;Acc:110955353]|Acanthochromis_polyacanthus|Spiny chromis| null|\n",
            "|   80966|ENSAPOG00000000019|           \\N|       coding|                                                              myoneurin [Source:NCBI gene;Acc:110958182]|Acanthochromis_polyacanthus|Spiny chromis| null|\n",
            "|   80966|ENSAPOG00000000020|           \\N|       coding|                                                                                                      \\N|Acanthochromis_polyacanthus|Spiny chromis| null|\n",
            "|   80966|ENSAPOG00000000021|        flrt2|       coding|                   leucine-rich repeat transmembrane protein FLRT2-like [Source:NCBI gene;Acc:110966586]|Acanthochromis_polyacanthus|Spiny chromis| null|\n",
            "+--------+------------------+-------------+-------------+--------------------------------------------------------------------------------------------------------+---------------------------+-------------+-----+\n",
            "only showing top 20 rows\n",
            "\n"
          ],
          "output_type" : "stream"
        }
      ]
    },
    {
      "cell_type" : "code",
      "execution_count" : 54,
      "metadata" : {
        "cell.metadata.exec_info" : {
          "startTs" : 1591632728561,
          "endTs" : 1591632729640
        },
        "language" : "scala"
      },
      "language" : "scala",
      "source" : [
        "val not_null = udf[String, String](str=> if(str==null || str==\"\\\\N\") \"\" else str)\n",
        "val underscored =udf[String, String](str=> str.replace(\" \", \"_\"))"
      ],
      "outputs" : [
      ]
    },
    {
      "cell_type" : "code",
      "execution_count" : 55,
      "metadata" : {
        "cell.metadata.exec_info" : {
          "startTs" : 1591633377207,
          "endTs" : 1591633410560
        },
        "language" : "scala"
      },
      "language" : "scala",
      "source" : [
        "val tx2gene_n = tx2gene/*.where($\"source_name\" === \"ENSEMBLTRANS\")*/.select($\"gene\", $\"stable_id\".as(\"transcript\"), $\"display_label\")\n",
        ".join(genes_n.select($\"stable_id\".as(\"gene\"), $\"scientific_name\"), \"gene\")\n",
        ".withColumn(\"scientific_name\", underscored($\"scientific_name\"))\n",
        "    .withColumn(\"display_label\", not_null($\"display_label\"))\n",
        "    .withColumnRenamed(\"label\", \"display_label\")\n",
        "tx2gene_n.show(100,10000)"
      ],
      "outputs" : [
        {
          "name" : "stdout",
          "text" : [
            "+------------------+------------------+-------------+--------------------+\n",
            "|              gene|        transcript|display_label|     scientific_name|\n",
            "+------------------+------------------+-------------+--------------------+\n",
            "|ENSABRG00000000073|ENSABRP00000000057|     SPG7-201|Anser_brachyrhynchus|\n",
            "|ENSABRG00000000092|ENSABRP00000000085|    CPNE7-201|Anser_brachyrhynchus|\n",
            "|ENSABRG00000000381|ENSABRP00000000341|             |Anser_brachyrhynchus|\n",
            "|ENSABRG00000000571|ENSABRT00000000770|             |Anser_brachyrhynchus|\n",
            "|ENSABRG00000000980|ENSABRP00000000919|             |Anser_brachyrhynchus|\n",
            "|ENSABRG00000001204|ENSABRP00000001162|   RNF121-201|Anser_brachyrhynchus|\n",
            "|ENSABRG00000001692|ENSABRT00000002456|             |Anser_brachyrhynchus|\n",
            "|ENSABRG00000002062|ENSABRP00000002057|             |Anser_brachyrhynchus|\n",
            "|ENSABRG00000002368|ENSABRP00000002427|     GLG1-201|Anser_brachyrhynchus|\n",
            "|ENSABRG00000002482|ENSABRT00000003692|             |Anser_brachyrhynchus|\n",
            "|ENSABRG00000002512|ENSABRP00000002563|             |Anser_brachyrhynchus|\n",
            "|ENSABRG00000002735|ENSABRP00000002845|    FBXL4-201|Anser_brachyrhynchus|\n",
            "|ENSABRG00000002880|ENSABRP00000002981|             |Anser_brachyrhynchus|\n",
            "|ENSABRG00000002880|ENSABRP00000002990|             |Anser_brachyrhynchus|\n",
            "|ENSABRG00000003472|ENSABRT00000005320|             |Anser_brachyrhynchus|\n",
            "|ENSABRG00000003472|ENSABRT00000005327|             |Anser_brachyrhynchus|\n",
            "|ENSABRG00000003472|ENSABRT00000005333|             |Anser_brachyrhynchus|\n",
            "|ENSABRG00000003726|ENSABRP00000003950| TMEM178B-201|Anser_brachyrhynchus|\n",
            "|ENSABRG00000003742|ENSABRP00000003987|      MT4-201|Anser_brachyrhynchus|\n",
            "|ENSABRG00000003866|ENSABRT00000005951|             |Anser_brachyrhynchus|\n",
            "|ENSABRG00000003907|ENSABRT00000006027|             |Anser_brachyrhynchus|\n",
            "|ENSABRG00000004239|ENSABRT00000006534|             |Anser_brachyrhynchus|\n",
            "|ENSABRG00000004239|ENSABRT00000006535|             |Anser_brachyrhynchus|\n",
            "|ENSABRG00000004312|ENSABRP00000004675|  TMEM208-201|Anser_brachyrhynchus|\n",
            "|ENSABRG00000004312|ENSABRP00000004686|  TMEM208-202|Anser_brachyrhynchus|\n",
            "|ENSABRG00000004403|ENSABRT00000006801|             |Anser_brachyrhynchus|\n",
            "|ENSABRG00000004466|ENSABRT00000006907|             |Anser_brachyrhynchus|\n",
            "|ENSABRG00000005175|ENSABRP00000005519|     E2F2-201|Anser_brachyrhynchus|\n",
            "|ENSABRG00000005213|ENSABRT00000008074|             |Anser_brachyrhynchus|\n",
            "|ENSABRG00000005361|ENSABRT00000008289|             |Anser_brachyrhynchus|\n",
            "|ENSABRG00000005378|ENSABRP00000005750|   GABRA4-201|Anser_brachyrhynchus|\n",
            "|ENSABRG00000005530|ENSABRP00000005952|             |Anser_brachyrhynchus|\n",
            "|ENSABRG00000005673|ENSABRT00000008802|             |Anser_brachyrhynchus|\n",
            "|ENSABRG00000005760|ENSABRP00000007533|    DOP1B-201|Anser_brachyrhynchus|\n",
            "|ENSABRG00000005760|ENSABRP00000007580|    DOP1B-202|Anser_brachyrhynchus|\n",
            "|ENSABRG00000005760|ENSABRP00000007598|    DOP1B-203|Anser_brachyrhynchus|\n",
            "|ENSABRG00000005898|ENSABRP00000006399|    GNA12-201|Anser_brachyrhynchus|\n",
            "|ENSABRG00000006081|ENSABRT00000009507|             |Anser_brachyrhynchus|\n",
            "|ENSABRG00000006081|ENSABRT00000009509|             |Anser_brachyrhynchus|\n",
            "|ENSABRG00000006081|ENSABRT00000009512|             |Anser_brachyrhynchus|\n",
            "|ENSABRG00000006081|ENSABRT00000009513|             |Anser_brachyrhynchus|\n",
            "|ENSABRG00000006081|ENSABRT00000009515|             |Anser_brachyrhynchus|\n",
            "|ENSABRG00000006081|ENSABRT00000009516|             |Anser_brachyrhynchus|\n",
            "|ENSABRG00000006081|ENSABRT00000009517|             |Anser_brachyrhynchus|\n",
            "|ENSABRG00000006307|ENSABRP00000006859|    KCNQ2-201|Anser_brachyrhynchus|\n",
            "|ENSABRG00000006307|ENSABRP00000006865|    KCNQ2-202|Anser_brachyrhynchus|\n",
            "|ENSABRG00000006307|ENSABRP00000006878|    KCNQ2-203|Anser_brachyrhynchus|\n",
            "|ENSABRG00000006371|ENSABRP00000006913|    RBM20-201|Anser_brachyrhynchus|\n",
            "|ENSABRG00000006371|ENSABRP00000006918|    RBM20-202|Anser_brachyrhynchus|\n",
            "|ENSABRG00000006371|ENSABRP00000006925|    RBM20-203|Anser_brachyrhynchus|\n",
            "|ENSABRG00000006371|ENSABRP00000006942|    RBM20-204|Anser_brachyrhynchus|\n",
            "|ENSABRG00000006371|ENSABRP00000006959|    RBM20-205|Anser_brachyrhynchus|\n",
            "|ENSABRG00000006493|ENSABRP00000007050|   FAM53B-201|Anser_brachyrhynchus|\n",
            "|ENSABRG00000006493|ENSABRP00000007055|   FAM53B-202|Anser_brachyrhynchus|\n",
            "|ENSABRG00000006629|ENSABRP00000007198|    ROBO2-201|Anser_brachyrhynchus|\n",
            "|ENSABRG00000006629|ENSABRP00000007210|    ROBO2-202|Anser_brachyrhynchus|\n",
            "|ENSABRG00000006749|ENSABRP00000007327|             |Anser_brachyrhynchus|\n",
            "|ENSABRG00000007235|ENSABRP00000007960|    TCF24-201|Anser_brachyrhynchus|\n",
            "|ENSABRG00000007311|ENSABRP00000008082|      INA-201|Anser_brachyrhynchus|\n",
            "|ENSABRG00000007380|ENSABRT00000011627|             |Anser_brachyrhynchus|\n",
            "|ENSABRG00000007389|ENSABRP00000008172|             |Anser_brachyrhynchus|\n",
            "|ENSABRG00000007438|ENSABRP00000008254|   COMMD1-201|Anser_brachyrhynchus|\n",
            "|ENSABRG00000007438|ENSABRP00000008256|   COMMD1-202|Anser_brachyrhynchus|\n",
            "|ENSABRG00000007438|ENSABRP00000008260|   COMMD1-203|Anser_brachyrhynchus|\n",
            "|ENSABRG00000007511|ENSABRT00000011879|             |Anser_brachyrhynchus|\n",
            "|ENSABRG00000007511|ENSABRT00000011880|             |Anser_brachyrhynchus|\n",
            "|ENSABRG00000007511|ENSABRT00000011882|             |Anser_brachyrhynchus|\n",
            "|ENSABRG00000007511|ENSABRT00000011883|             |Anser_brachyrhynchus|\n",
            "|ENSABRG00000007511|ENSABRT00000011884|             |Anser_brachyrhynchus|\n",
            "|ENSABRG00000007511|ENSABRT00000011885|             |Anser_brachyrhynchus|\n",
            "|ENSABRG00000007511|ENSABRT00000011886|             |Anser_brachyrhynchus|\n",
            "|ENSABRG00000007511|ENSABRT00000011887|             |Anser_brachyrhynchus|\n",
            "|ENSABRG00000007511|ENSABRT00000011889|             |Anser_brachyrhynchus|\n",
            "|ENSABRG00000007511|ENSABRT00000011890|             |Anser_brachyrhynchus|\n",
            "|ENSABRG00000007554|ENSABRP00000008375|     OSTC-201|Anser_brachyrhynchus|\n",
            "|ENSABRG00000007611|ENSABRT00000012055|             |Anser_brachyrhynchus|\n",
            "|ENSABRG00000007611|ENSABRT00000012057|             |Anser_brachyrhynchus|\n",
            "|ENSABRG00000007611|ENSABRT00000012058|             |Anser_brachyrhynchus|\n",
            "|ENSABRG00000007611|ENSABRT00000012059|             |Anser_brachyrhynchus|\n",
            "|ENSABRG00000007611|ENSABRT00000012061|             |Anser_brachyrhynchus|\n",
            "|ENSABRG00000007611|ENSABRT00000012062|             |Anser_brachyrhynchus|\n",
            "|ENSABRG00000007611|ENSABRT00000012065|             |Anser_brachyrhynchus|\n",
            "|ENSABRG00000007630|ENSABRT00000012089|             |Anser_brachyrhynchus|\n",
            "|ENSABRG00000007955|ENSABRP00000008850|    IGSF5-201|Anser_brachyrhynchus|\n",
            "|ENSABRG00000008284|ENSABRP00000009255|   ADGRL3-201|Anser_brachyrhynchus|\n",
            "|ENSABRG00000008486|ENSABRP00000009494|    SMAD3-201|Anser_brachyrhynchus|\n",
            "|ENSABRG00000008604|ENSABRP00000009595|    INKA2-201|Anser_brachyrhynchus|\n",
            "|ENSABRG00000009384|ENSABRP00000010420|    PTPRU-201|Anser_brachyrhynchus|\n",
            "|ENSABRG00000009384|ENSABRP00000010433|    PTPRU-202|Anser_brachyrhynchus|\n",
            "|ENSABRG00000009401|ENSABRP00000010435|   GTPBP8-201|Anser_brachyrhynchus|\n",
            "|ENSABRG00000009695|ENSABRP00000010777|     RAF1-201|Anser_brachyrhynchus|\n",
            "|ENSABRG00000009879|ENSABRT00000015704|             |Anser_brachyrhynchus|\n",
            "|ENSABRG00000009914|ENSABRT00000015800|             |Anser_brachyrhynchus|\n",
            "|ENSABRG00000009914|ENSABRT00000015802|             |Anser_brachyrhynchus|\n",
            "|ENSABRG00000010114|ENSABRT00000016140|  RF02275-201|Anser_brachyrhynchus|\n",
            "|ENSABRG00000010167|ENSABRP00000011331|   DUSP13-201|Anser_brachyrhynchus|\n",
            "|ENSABRG00000010373|ENSABRP00000011578|  COL26A1-201|Anser_brachyrhynchus|\n",
            "|ENSABRG00000010476|ENSABRT00000016691|             |Anser_brachyrhynchus|\n",
            "|ENSABRG00000010476|ENSABRT00000016693|             |Anser_brachyrhynchus|\n",
            "|ENSABRG00000010476|ENSABRT00000016700|             |Anser_brachyrhynchus|\n",
            "+------------------+------------------+-------------+--------------------+\n",
            "only showing top 100 rows\n",
            "\n"
          ],
          "output_type" : "stream"
        }
      ]
    },
    {
      "cell_type" : "code",
      "execution_count" : 56,
      "metadata" : {
        "cell.metadata.exec_info" : {
          "startTs" : 1582029021969,
          "endTs" : 1582029072991
        },
        "language" : "scala"
      },
      "language" : "scala",
      "source" : [
        "tx2gene_n.writeParquet(\"/data/ensembl/99/website/transcripts.parquet\", true)"
      ],
      "outputs" : [
        {
          "name" : "stdout",
          "text" : [
            "parts of /data/ensembl/99/website/transcripts.parquet merged!\n"
          ],
          "output_type" : "stream"
        },
        {
          "execution_count" : 56,
          "data" : {
            "text/plain" : [
              "/data/ensembl/99/website/transcripts.parquet"
            ]
          },
          "metadata" : {
            "name" : "Out",
            "type" : "String"
          },
          "output_type" : "execute_result"
        }
      ]
    },
    {
      "cell_type" : "code",
      "execution_count" : 57,
      "metadata" : {
        "cell.metadata.exec_info" : {
          "startTs" : 1582029072994,
          "endTs" : 1582029073364
        },
        "language" : "scala"
      },
      "language" : "scala",
      "source" : [
        "val tx2gene_n = spark.read.parquet(\"/data/ensembl/99/website/transcripts.parquet\")\n",
        "tx2gene_n.show(100,1000)"
      ],
      "outputs" : [
        {
          "name" : "stdout",
          "text" : [
            "+------------------+------------------+-------------+--------------------+\n",
            "|              gene|        transcript|display_label|     scientific_name|\n",
            "+------------------+------------------+-------------+--------------------+\n",
            "|ENSABRG00000000073|ENSABRP00000000057|     SPG7-201|Anser_brachyrhynchus|\n",
            "|ENSABRG00000000092|ENSABRP00000000085|    CPNE7-201|Anser_brachyrhynchus|\n",
            "|ENSABRG00000000381|ENSABRP00000000341|             |Anser_brachyrhynchus|\n",
            "|ENSABRG00000000571|ENSABRT00000000770|             |Anser_brachyrhynchus|\n",
            "|ENSABRG00000000980|ENSABRP00000000919|             |Anser_brachyrhynchus|\n",
            "|ENSABRG00000001204|ENSABRP00000001162|   RNF121-201|Anser_brachyrhynchus|\n",
            "|ENSABRG00000001692|ENSABRT00000002456|             |Anser_brachyrhynchus|\n",
            "|ENSABRG00000002062|ENSABRP00000002057|             |Anser_brachyrhynchus|\n",
            "|ENSABRG00000002368|ENSABRP00000002427|     GLG1-201|Anser_brachyrhynchus|\n",
            "|ENSABRG00000002482|ENSABRT00000003692|             |Anser_brachyrhynchus|\n",
            "|ENSABRG00000002512|ENSABRP00000002563|             |Anser_brachyrhynchus|\n",
            "|ENSABRG00000002735|ENSABRP00000002845|    FBXL4-201|Anser_brachyrhynchus|\n",
            "|ENSABRG00000002880|ENSABRP00000002981|             |Anser_brachyrhynchus|\n",
            "|ENSABRG00000002880|ENSABRP00000002990|             |Anser_brachyrhynchus|\n",
            "|ENSABRG00000003472|ENSABRT00000005320|             |Anser_brachyrhynchus|\n",
            "|ENSABRG00000003472|ENSABRT00000005327|             |Anser_brachyrhynchus|\n",
            "|ENSABRG00000003472|ENSABRT00000005333|             |Anser_brachyrhynchus|\n",
            "|ENSABRG00000003726|ENSABRP00000003950| TMEM178B-201|Anser_brachyrhynchus|\n",
            "|ENSABRG00000003742|ENSABRP00000003987|      MT4-201|Anser_brachyrhynchus|\n",
            "|ENSABRG00000003866|ENSABRT00000005951|             |Anser_brachyrhynchus|\n",
            "|ENSABRG00000003907|ENSABRT00000006027|             |Anser_brachyrhynchus|\n",
            "|ENSABRG00000004239|ENSABRT00000006534|             |Anser_brachyrhynchus|\n",
            "|ENSABRG00000004239|ENSABRT00000006535|             |Anser_brachyrhynchus|\n",
            "|ENSABRG00000004312|ENSABRP00000004675|  TMEM208-201|Anser_brachyrhynchus|\n",
            "|ENSABRG00000004312|ENSABRP00000004686|  TMEM208-202|Anser_brachyrhynchus|\n",
            "|ENSABRG00000004403|ENSABRT00000006801|             |Anser_brachyrhynchus|\n",
            "|ENSABRG00000004466|ENSABRT00000006907|             |Anser_brachyrhynchus|\n",
            "|ENSABRG00000005175|ENSABRP00000005519|     E2F2-201|Anser_brachyrhynchus|\n",
            "|ENSABRG00000005213|ENSABRT00000008074|             |Anser_brachyrhynchus|\n",
            "|ENSABRG00000005361|ENSABRT00000008289|             |Anser_brachyrhynchus|\n",
            "|ENSABRG00000005378|ENSABRP00000005750|   GABRA4-201|Anser_brachyrhynchus|\n",
            "|ENSABRG00000005530|ENSABRP00000005952|             |Anser_brachyrhynchus|\n",
            "|ENSABRG00000005673|ENSABRT00000008802|             |Anser_brachyrhynchus|\n",
            "|ENSABRG00000005760|ENSABRP00000007533|    DOP1B-201|Anser_brachyrhynchus|\n",
            "|ENSABRG00000005760|ENSABRP00000007580|    DOP1B-202|Anser_brachyrhynchus|\n",
            "|ENSABRG00000005760|ENSABRP00000007598|    DOP1B-203|Anser_brachyrhynchus|\n",
            "|ENSABRG00000005898|ENSABRP00000006399|    GNA12-201|Anser_brachyrhynchus|\n",
            "|ENSABRG00000006081|ENSABRT00000009507|             |Anser_brachyrhynchus|\n",
            "|ENSABRG00000006081|ENSABRT00000009509|             |Anser_brachyrhynchus|\n",
            "|ENSABRG00000006081|ENSABRT00000009512|             |Anser_brachyrhynchus|\n",
            "|ENSABRG00000006081|ENSABRT00000009513|             |Anser_brachyrhynchus|\n",
            "|ENSABRG00000006081|ENSABRT00000009515|             |Anser_brachyrhynchus|\n",
            "|ENSABRG00000006081|ENSABRT00000009516|             |Anser_brachyrhynchus|\n",
            "|ENSABRG00000006081|ENSABRT00000009517|             |Anser_brachyrhynchus|\n",
            "|ENSABRG00000006307|ENSABRP00000006859|    KCNQ2-201|Anser_brachyrhynchus|\n",
            "|ENSABRG00000006307|ENSABRP00000006865|    KCNQ2-202|Anser_brachyrhynchus|\n",
            "|ENSABRG00000006307|ENSABRP00000006878|    KCNQ2-203|Anser_brachyrhynchus|\n",
            "|ENSABRG00000006371|ENSABRP00000006913|    RBM20-201|Anser_brachyrhynchus|\n",
            "|ENSABRG00000006371|ENSABRP00000006918|    RBM20-202|Anser_brachyrhynchus|\n",
            "|ENSABRG00000006371|ENSABRP00000006925|    RBM20-203|Anser_brachyrhynchus|\n",
            "|ENSABRG00000006371|ENSABRP00000006942|    RBM20-204|Anser_brachyrhynchus|\n",
            "|ENSABRG00000006371|ENSABRP00000006959|    RBM20-205|Anser_brachyrhynchus|\n",
            "|ENSABRG00000006493|ENSABRP00000007050|   FAM53B-201|Anser_brachyrhynchus|\n",
            "|ENSABRG00000006493|ENSABRP00000007055|   FAM53B-202|Anser_brachyrhynchus|\n",
            "|ENSABRG00000006629|ENSABRP00000007198|    ROBO2-201|Anser_brachyrhynchus|\n",
            "|ENSABRG00000006629|ENSABRP00000007210|    ROBO2-202|Anser_brachyrhynchus|\n",
            "|ENSABRG00000006749|ENSABRP00000007327|             |Anser_brachyrhynchus|\n",
            "|ENSABRG00000007235|ENSABRP00000007960|    TCF24-201|Anser_brachyrhynchus|\n",
            "|ENSABRG00000007311|ENSABRP00000008082|      INA-201|Anser_brachyrhynchus|\n",
            "|ENSABRG00000007380|ENSABRT00000011627|             |Anser_brachyrhynchus|\n",
            "|ENSABRG00000007389|ENSABRP00000008172|             |Anser_brachyrhynchus|\n",
            "|ENSABRG00000007438|ENSABRP00000008254|   COMMD1-201|Anser_brachyrhynchus|\n",
            "|ENSABRG00000007438|ENSABRP00000008256|   COMMD1-202|Anser_brachyrhynchus|\n",
            "|ENSABRG00000007438|ENSABRP00000008260|   COMMD1-203|Anser_brachyrhynchus|\n",
            "|ENSABRG00000007511|ENSABRT00000011879|             |Anser_brachyrhynchus|\n",
            "|ENSABRG00000007511|ENSABRT00000011880|             |Anser_brachyrhynchus|\n",
            "|ENSABRG00000007511|ENSABRT00000011882|             |Anser_brachyrhynchus|\n",
            "|ENSABRG00000007511|ENSABRT00000011883|             |Anser_brachyrhynchus|\n",
            "|ENSABRG00000007511|ENSABRT00000011884|             |Anser_brachyrhynchus|\n",
            "|ENSABRG00000007511|ENSABRT00000011885|             |Anser_brachyrhynchus|\n",
            "|ENSABRG00000007511|ENSABRT00000011886|             |Anser_brachyrhynchus|\n",
            "|ENSABRG00000007511|ENSABRT00000011887|             |Anser_brachyrhynchus|\n",
            "|ENSABRG00000007511|ENSABRT00000011889|             |Anser_brachyrhynchus|\n",
            "|ENSABRG00000007511|ENSABRT00000011890|             |Anser_brachyrhynchus|\n",
            "|ENSABRG00000007554|ENSABRP00000008375|     OSTC-201|Anser_brachyrhynchus|\n",
            "|ENSABRG00000007611|ENSABRT00000012055|             |Anser_brachyrhynchus|\n",
            "|ENSABRG00000007611|ENSABRT00000012057|             |Anser_brachyrhynchus|\n",
            "|ENSABRG00000007611|ENSABRT00000012058|             |Anser_brachyrhynchus|\n",
            "|ENSABRG00000007611|ENSABRT00000012059|             |Anser_brachyrhynchus|\n",
            "|ENSABRG00000007611|ENSABRT00000012061|             |Anser_brachyrhynchus|\n",
            "|ENSABRG00000007611|ENSABRT00000012062|             |Anser_brachyrhynchus|\n",
            "|ENSABRG00000007611|ENSABRT00000012065|             |Anser_brachyrhynchus|\n",
            "|ENSABRG00000007630|ENSABRT00000012089|             |Anser_brachyrhynchus|\n",
            "|ENSABRG00000007955|ENSABRP00000008850|    IGSF5-201|Anser_brachyrhynchus|\n",
            "|ENSABRG00000008284|ENSABRP00000009255|   ADGRL3-201|Anser_brachyrhynchus|\n",
            "|ENSABRG00000008486|ENSABRP00000009494|    SMAD3-201|Anser_brachyrhynchus|\n",
            "|ENSABRG00000008604|ENSABRP00000009595|    INKA2-201|Anser_brachyrhynchus|\n",
            "|ENSABRG00000009384|ENSABRP00000010420|    PTPRU-201|Anser_brachyrhynchus|\n",
            "|ENSABRG00000009384|ENSABRP00000010433|    PTPRU-202|Anser_brachyrhynchus|\n",
            "|ENSABRG00000009401|ENSABRP00000010435|   GTPBP8-201|Anser_brachyrhynchus|\n",
            "|ENSABRG00000009695|ENSABRP00000010777|     RAF1-201|Anser_brachyrhynchus|\n",
            "|ENSABRG00000009879|ENSABRT00000015704|             |Anser_brachyrhynchus|\n",
            "|ENSABRG00000009914|ENSABRT00000015800|             |Anser_brachyrhynchus|\n",
            "|ENSABRG00000009914|ENSABRT00000015802|             |Anser_brachyrhynchus|\n",
            "|ENSABRG00000010114|ENSABRT00000016140|  RF02275-201|Anser_brachyrhynchus|\n",
            "|ENSABRG00000010167|ENSABRP00000011331|   DUSP13-201|Anser_brachyrhynchus|\n",
            "|ENSABRG00000010373|ENSABRP00000011578|  COL26A1-201|Anser_brachyrhynchus|\n",
            "|ENSABRG00000010476|ENSABRT00000016691|             |Anser_brachyrhynchus|\n",
            "|ENSABRG00000010476|ENSABRT00000016693|             |Anser_brachyrhynchus|\n",
            "|ENSABRG00000010476|ENSABRT00000016700|             |Anser_brachyrhynchus|\n",
            "+------------------+------------------+-------------+--------------------+\n",
            "only showing top 100 rows\n",
            "\n"
          ],
          "output_type" : "stream"
        }
      ]
    },
    {
      "cell_type" : "code",
      "execution_count" : 58,
      "metadata" : {
        "cell.metadata.exec_info" : {
          "startTs" : 1582029124156,
          "endTs" : 1582029128865
        },
        "language" : "scala"
      },
      "language" : "scala",
      "source" : [
        "val human_count = genes.select(\"stable_id\").where($\"taxon_id\" === \t9606).distinct.count()\n",
        "val human_count_n = genes_n.select(\"stable_id\").where($\"taxon_id\" === \t9606).distinct.count()\n",
        "val human_count_tx2gene_n = tx2gene_n.select(\"gene\").where($\"scientific_name\" === \"Homo_sapiens\").distinct.count()\n",
        "(human_count, human_count_n, human_count_tx2gene_n)"
      ],
      "outputs" : [
        {
          "execution_count" : 58,
          "data" : {
            "text/plain" : [
              "(67996,67996,67996)"
            ]
          },
          "metadata" : {
            "name" : "Out",
            "type" : "Tuple3[Long, Long, Long]"
          },
          "output_type" : "execute_result"
        }
      ]
    },
    {
      "cell_type" : "code",
      "execution_count" : 66,
      "metadata" : {
        "cell.metadata.exec_info" : {
          "startTs" : 1591633417698,
          "endTs" : 1591633418080
        },
        "language" : "scala"
      },
      "language" : "scala",
      "source" : [
        "import ammonite.ops._\n",
        "val t = Path(\"/data/ensembl/99/tx2gene\")\n",
        "val dirs = t.toIO.listFiles().toList.filter(_.getName.contains(\"scientific_name=\"))\n",
        "dirs.foreach(f=> ammonite.ops.rm(Path(f.getAbsolutePath)))\n",
        "//.map(f=>f.listFiles().toList.filter(_.getName.endsWith(\".csv\")).foreach(ff=>ff.renameTo(Path(f.getAbsolutePath.replace(\"scientific_name=\",\"\")+\".tsv\").toIO)))"
      ],
      "outputs" : [
        {
          "ename" : "java.lang.NullPointerException",
          "evalue" : "",
          "traceback" : [
          ],
          "output_type" : "error"
        }
      ]
    },
    {
      "cell_type" : "markdown",
      "execution_count" : 67,
      "metadata" : {
        "language" : "text"
      },
      "language" : "text",
      "source" : [
        "## |Producing genes n-quads\n",
        "\n",
        "\n"
      ],
      "outputs" : [
      ]
    },
    {
      "cell_type" : "code",
      "execution_count" : 68,
      "metadata" : {
        "cell.metadata.exec_info" : {
          "startTs" : 1591633423799,
          "endTs" : 1591633425092
        },
        "language" : "scala"
      },
      "language" : "scala",
      "source" : [
        "val genes_n = spark.read.parquet(\"/data/ensembl/99/website/genes_lookup.parquet\").as[(java.lang.Integer,String, String, String, String, String, String, String)]\n",
        "genes_n.show(20,1000)"
      ],
      "outputs" : [
        {
          "name" : "stdout",
          "text" : [
            "+--------+------------------+-------------+-------------+--------------------------------------------------------------------------------------------------------+---------------------------+-------------+-----+\n",
            "|taxon_id|         stable_id|display_label|biotype_group|                                                                                             description|            scientific_name|  common_name|class|\n",
            "+--------+------------------+-------------+-------------+--------------------------------------------------------------------------------------------------------+---------------------------+-------------+-----+\n",
            "|   80966|ENSAPOG00000000002|    zgc:63972|       coding|                                                   protein CutA homolog [Source:NCBI gene;Acc:110950088]|Acanthochromis_polyacanthus|Spiny chromis| null|\n",
            "|   80966|ENSAPOG00000000003|           \\N|       coding|                                                                                                      \\N|Acanthochromis_polyacanthus|Spiny chromis| null|\n",
            "|   80966|ENSAPOG00000000004|          rhd|       coding|                                    ammonium transporter Rh type C-like [Source:NCBI gene;Acc:110950049]|Acanthochromis_polyacanthus|Spiny chromis| null|\n",
            "|   80966|ENSAPOG00000000005|           \\N|       coding|                                      protein bicaudal D homolog 1-like [Source:NCBI gene;Acc:110967754]|Acanthochromis_polyacanthus|Spiny chromis| null|\n",
            "|   80966|ENSAPOG00000000006|     ppp1r27b|       coding|                       protein phosphatase 1, regulatory subunit 27b [Source:ZFIN;Acc:ZDB-GENE-051023-5]|Acanthochromis_polyacanthus|Spiny chromis| null|\n",
            "|   80966|ENSAPOG00000000007|       capn2l|       coding|                                       calpain-2 catalytic subunit-like [Source:NCBI gene;Acc:110950015]|Acanthochromis_polyacanthus|Spiny chromis| null|\n",
            "|   80966|ENSAPOG00000000008|           \\N|       coding|                                          zinc finger protein 518B-like [Source:NCBI gene;Acc:110954735]|Acanthochromis_polyacanthus|Spiny chromis| null|\n",
            "|   80966|ENSAPOG00000000009|         ARSB|       coding|                                                        arylsulfatase B [Source:NCBI gene;Acc:110963000]|Acanthochromis_polyacanthus|Spiny chromis| null|\n",
            "|   80966|ENSAPOG00000000010|   zgc:153654|       coding|                                     interferon-induced protein 44-like [Source:NCBI gene;Acc:110962994]|Acanthochromis_polyacanthus|Spiny chromis| null|\n",
            "|   80966|ENSAPOG00000000011|       SMURF2|       coding|                                     E3 ubiquitin-protein ligase SMURF2 [Source:NCBI gene;Acc:110958763]|Acanthochromis_polyacanthus|Spiny chromis| null|\n",
            "|   80966|ENSAPOG00000000012|         dhx9|       coding|                             DEAH (Asp-Glu-Ala-His) box helicase 9 [Source:ZFIN;Acc:ZDB-GENE-070912-171]|Acanthochromis_polyacanthus|Spiny chromis| null|\n",
            "|   80966|ENSAPOG00000000013|     aasdhppt|       coding|aminoadipate-semialdehyde dehydrogenase-phosphopantetheinyl transferase [Source:NCBI gene;Acc:110952391]|Acanthochromis_polyacanthus|Spiny chromis| null|\n",
            "|   80966|ENSAPOG00000000014|        nol11|       coding|                                                   nucleolar protein 11 [Source:NCBI gene;Acc:110958759]|Acanthochromis_polyacanthus|Spiny chromis| null|\n",
            "|   80966|ENSAPOG00000000015|       gna11b|       coding|             guanine nucleotide-binding protein G(q) subunit alpha-like [Source:NCBI gene;Acc:110962991]|Acanthochromis_polyacanthus|Spiny chromis| null|\n",
            "|   80966|ENSAPOG00000000016|         APOH|       coding|                                             beta-2-glycoprotein 1-like [Source:NCBI gene;Acc:110958758]|Acanthochromis_polyacanthus|Spiny chromis| null|\n",
            "|   80966|ENSAPOG00000000017|           \\N|       coding| calcium/calmodulin-dependent protein kinase type II subunit gamma-like [Source:NCBI gene;Acc:110948379]|Acanthochromis_polyacanthus|Spiny chromis| null|\n",
            "|   80966|ENSAPOG00000000018|         wwc3|       coding|                                                    WWC family member 3 [Source:NCBI gene;Acc:110955353]|Acanthochromis_polyacanthus|Spiny chromis| null|\n",
            "|   80966|ENSAPOG00000000019|           \\N|       coding|                                                              myoneurin [Source:NCBI gene;Acc:110958182]|Acanthochromis_polyacanthus|Spiny chromis| null|\n",
            "|   80966|ENSAPOG00000000020|           \\N|       coding|                                                                                                      \\N|Acanthochromis_polyacanthus|Spiny chromis| null|\n",
            "|   80966|ENSAPOG00000000021|        flrt2|       coding|                   leucine-rich repeat transmembrane protein FLRT2-like [Source:NCBI gene;Acc:110966586]|Acanthochromis_polyacanthus|Spiny chromis| null|\n",
            "+--------+------------------+-------------+-------------+--------------------------------------------------------------------------------------------------------+---------------------------+-------------+-----+\n",
            "only showing top 20 rows\n",
            "\n"
          ],
          "output_type" : "stream"
        }
      ]
    },
    {
      "cell_type" : "code",
      "execution_count" : 69,
      "metadata" : {
        "cell.metadata.exec_info" : {
          "startTs" : 1591633428149,
          "endTs" : 1591633428261
        },
        "language" : "scala"
      },
      "language" : "scala",
      "source" : [
        "def str2(s: String) = if(s==null) \"\" else s\"\"\"\"${s.replace(\"\\\"\", \"\\\\\\\"\")}\"\"\"\""
      ],
      "outputs" : [
      ]
    },
    {
      "cell_type" : "code",
      "execution_count" : 70,
      "metadata" : {
        "cell.metadata.exec_info" : {
          "startTs" : 1591638573114,
          "endTs" : 1591638573873
        },
        "language" : "scala"
      },
      "language" : "scala",
      "source" : [
        "val genes_trs = genes_n.flatMap{\n",
        "    case (taxon_id,stable_id,display_label,biotype_group,description,scientific_name,common_name,cl) =>\n",
        "    trip(pref(scientific_name), pref(\"has_gene\"), ens(stable_id)) ++\n",
        "    trip(ens(stable_id), \"<\"+\"http://www.w3.org/2000/01/rdf-schema#label\" +\">\", str2(display_label))++\n",
        "    trip(ens(stable_id), \"<\"+\"http://www.w3.org/2000/01/rdf-schema#description\" +\">\",  str2(description))++\n",
        "    trip(ens(stable_id), ens(\"has_biotype\"), ens(\"biotype/\"+biotype_group))++\n",
        "    Nil\n",
        "}.toDF(\"subject\", \"property\", \"object\", \"context\")\n",
        "genes_trs.show(40, 1000)"
      ],
      "outputs" : [
        {
          "name" : "stdout",
          "text" : [
            "+------------------------------------------------------------------+---------------------------------------------------+-----------------------------------------------------------------------------------+---------------------------------------------------------+\n",
            "|                                                           subject|                                           property|                                                                             object|                                                  context|\n",
            "+------------------------------------------------------------------+---------------------------------------------------+-----------------------------------------------------------------------------------+---------------------------------------------------------+\n",
            "|<http://aging-research.group/resource/Acanthochromis_polyacanthus>|    <http://aging-research.group/resource/has_gene>|                         <http://rdf.ebi.ac.uk/resource/ensembl/ENSAPOG00000000002>|<http://rdf.ebi.ac.uk/resource/ensembl/confidence/high> .|\n",
            "|        <http://rdf.ebi.ac.uk/resource/ensembl/ENSAPOG00000000002>|       <http://www.w3.org/2000/01/rdf-schema#label>|                                                                        \"zgc:63972\"|<http://rdf.ebi.ac.uk/resource/ensembl/confidence/high> .|\n",
            "|        <http://rdf.ebi.ac.uk/resource/ensembl/ENSAPOG00000000002>| <http://www.w3.org/2000/01/rdf-schema#description>|                            \"protein CutA homolog [Source:NCBI gene;Acc:110950088]\"|<http://rdf.ebi.ac.uk/resource/ensembl/confidence/high> .|\n",
            "|        <http://rdf.ebi.ac.uk/resource/ensembl/ENSAPOG00000000002>|<http://rdf.ebi.ac.uk/resource/ensembl/has_biotype>|                             <http://rdf.ebi.ac.uk/resource/ensembl/biotype/coding>|<http://rdf.ebi.ac.uk/resource/ensembl/confidence/high> .|\n",
            "|<http://aging-research.group/resource/Acanthochromis_polyacanthus>|    <http://aging-research.group/resource/has_gene>|                         <http://rdf.ebi.ac.uk/resource/ensembl/ENSAPOG00000000003>|<http://rdf.ebi.ac.uk/resource/ensembl/confidence/high> .|\n",
            "|        <http://rdf.ebi.ac.uk/resource/ensembl/ENSAPOG00000000003>|<http://rdf.ebi.ac.uk/resource/ensembl/has_biotype>|                             <http://rdf.ebi.ac.uk/resource/ensembl/biotype/coding>|<http://rdf.ebi.ac.uk/resource/ensembl/confidence/high> .|\n",
            "|<http://aging-research.group/resource/Acanthochromis_polyacanthus>|    <http://aging-research.group/resource/has_gene>|                         <http://rdf.ebi.ac.uk/resource/ensembl/ENSAPOG00000000004>|<http://rdf.ebi.ac.uk/resource/ensembl/confidence/high> .|\n",
            "|        <http://rdf.ebi.ac.uk/resource/ensembl/ENSAPOG00000000004>|       <http://www.w3.org/2000/01/rdf-schema#label>|                                                                              \"rhd\"|<http://rdf.ebi.ac.uk/resource/ensembl/confidence/high> .|\n",
            "|        <http://rdf.ebi.ac.uk/resource/ensembl/ENSAPOG00000000004>| <http://www.w3.org/2000/01/rdf-schema#description>|             \"ammonium transporter Rh type C-like [Source:NCBI gene;Acc:110950049]\"|<http://rdf.ebi.ac.uk/resource/ensembl/confidence/high> .|\n",
            "|        <http://rdf.ebi.ac.uk/resource/ensembl/ENSAPOG00000000004>|<http://rdf.ebi.ac.uk/resource/ensembl/has_biotype>|                             <http://rdf.ebi.ac.uk/resource/ensembl/biotype/coding>|<http://rdf.ebi.ac.uk/resource/ensembl/confidence/high> .|\n",
            "|<http://aging-research.group/resource/Acanthochromis_polyacanthus>|    <http://aging-research.group/resource/has_gene>|                         <http://rdf.ebi.ac.uk/resource/ensembl/ENSAPOG00000000005>|<http://rdf.ebi.ac.uk/resource/ensembl/confidence/high> .|\n",
            "|        <http://rdf.ebi.ac.uk/resource/ensembl/ENSAPOG00000000005>| <http://www.w3.org/2000/01/rdf-schema#description>|               \"protein bicaudal D homolog 1-like [Source:NCBI gene;Acc:110967754]\"|<http://rdf.ebi.ac.uk/resource/ensembl/confidence/high> .|\n",
            "|        <http://rdf.ebi.ac.uk/resource/ensembl/ENSAPOG00000000005>|<http://rdf.ebi.ac.uk/resource/ensembl/has_biotype>|                             <http://rdf.ebi.ac.uk/resource/ensembl/biotype/coding>|<http://rdf.ebi.ac.uk/resource/ensembl/confidence/high> .|\n",
            "|<http://aging-research.group/resource/Acanthochromis_polyacanthus>|    <http://aging-research.group/resource/has_gene>|                         <http://rdf.ebi.ac.uk/resource/ensembl/ENSAPOG00000000006>|<http://rdf.ebi.ac.uk/resource/ensembl/confidence/high> .|\n",
            "|        <http://rdf.ebi.ac.uk/resource/ensembl/ENSAPOG00000000006>|       <http://www.w3.org/2000/01/rdf-schema#label>|                                                                         \"ppp1r27b\"|<http://rdf.ebi.ac.uk/resource/ensembl/confidence/high> .|\n",
            "|        <http://rdf.ebi.ac.uk/resource/ensembl/ENSAPOG00000000006>| <http://www.w3.org/2000/01/rdf-schema#description>|\"protein phosphatase 1, regulatory subunit 27b [Source:ZFIN;Acc:ZDB-GENE-051023-5]\"|<http://rdf.ebi.ac.uk/resource/ensembl/confidence/high> .|\n",
            "|        <http://rdf.ebi.ac.uk/resource/ensembl/ENSAPOG00000000006>|<http://rdf.ebi.ac.uk/resource/ensembl/has_biotype>|                             <http://rdf.ebi.ac.uk/resource/ensembl/biotype/coding>|<http://rdf.ebi.ac.uk/resource/ensembl/confidence/high> .|\n",
            "|<http://aging-research.group/resource/Acanthochromis_polyacanthus>|    <http://aging-research.group/resource/has_gene>|                         <http://rdf.ebi.ac.uk/resource/ensembl/ENSAPOG00000000007>|<http://rdf.ebi.ac.uk/resource/ensembl/confidence/high> .|\n",
            "|        <http://rdf.ebi.ac.uk/resource/ensembl/ENSAPOG00000000007>|       <http://www.w3.org/2000/01/rdf-schema#label>|                                                                           \"capn2l\"|<http://rdf.ebi.ac.uk/resource/ensembl/confidence/high> .|\n",
            "|        <http://rdf.ebi.ac.uk/resource/ensembl/ENSAPOG00000000007>| <http://www.w3.org/2000/01/rdf-schema#description>|                \"calpain-2 catalytic subunit-like [Source:NCBI gene;Acc:110950015]\"|<http://rdf.ebi.ac.uk/resource/ensembl/confidence/high> .|\n",
            "|        <http://rdf.ebi.ac.uk/resource/ensembl/ENSAPOG00000000007>|<http://rdf.ebi.ac.uk/resource/ensembl/has_biotype>|                             <http://rdf.ebi.ac.uk/resource/ensembl/biotype/coding>|<http://rdf.ebi.ac.uk/resource/ensembl/confidence/high> .|\n",
            "|<http://aging-research.group/resource/Acanthochromis_polyacanthus>|    <http://aging-research.group/resource/has_gene>|                         <http://rdf.ebi.ac.uk/resource/ensembl/ENSAPOG00000000008>|<http://rdf.ebi.ac.uk/resource/ensembl/confidence/high> .|\n",
            "|        <http://rdf.ebi.ac.uk/resource/ensembl/ENSAPOG00000000008>| <http://www.w3.org/2000/01/rdf-schema#description>|                   \"zinc finger protein 518B-like [Source:NCBI gene;Acc:110954735]\"|<http://rdf.ebi.ac.uk/resource/ensembl/confidence/high> .|\n",
            "|        <http://rdf.ebi.ac.uk/resource/ensembl/ENSAPOG00000000008>|<http://rdf.ebi.ac.uk/resource/ensembl/has_biotype>|                             <http://rdf.ebi.ac.uk/resource/ensembl/biotype/coding>|<http://rdf.ebi.ac.uk/resource/ensembl/confidence/high> .|\n",
            "|<http://aging-research.group/resource/Acanthochromis_polyacanthus>|    <http://aging-research.group/resource/has_gene>|                         <http://rdf.ebi.ac.uk/resource/ensembl/ENSAPOG00000000009>|<http://rdf.ebi.ac.uk/resource/ensembl/confidence/high> .|\n",
            "|        <http://rdf.ebi.ac.uk/resource/ensembl/ENSAPOG00000000009>|       <http://www.w3.org/2000/01/rdf-schema#label>|                                                                             \"ARSB\"|<http://rdf.ebi.ac.uk/resource/ensembl/confidence/high> .|\n",
            "|        <http://rdf.ebi.ac.uk/resource/ensembl/ENSAPOG00000000009>| <http://www.w3.org/2000/01/rdf-schema#description>|                                 \"arylsulfatase B [Source:NCBI gene;Acc:110963000]\"|<http://rdf.ebi.ac.uk/resource/ensembl/confidence/high> .|\n",
            "|        <http://rdf.ebi.ac.uk/resource/ensembl/ENSAPOG00000000009>|<http://rdf.ebi.ac.uk/resource/ensembl/has_biotype>|                             <http://rdf.ebi.ac.uk/resource/ensembl/biotype/coding>|<http://rdf.ebi.ac.uk/resource/ensembl/confidence/high> .|\n",
            "|<http://aging-research.group/resource/Acanthochromis_polyacanthus>|    <http://aging-research.group/resource/has_gene>|                         <http://rdf.ebi.ac.uk/resource/ensembl/ENSAPOG00000000010>|<http://rdf.ebi.ac.uk/resource/ensembl/confidence/high> .|\n",
            "|        <http://rdf.ebi.ac.uk/resource/ensembl/ENSAPOG00000000010>|       <http://www.w3.org/2000/01/rdf-schema#label>|                                                                       \"zgc:153654\"|<http://rdf.ebi.ac.uk/resource/ensembl/confidence/high> .|\n",
            "|        <http://rdf.ebi.ac.uk/resource/ensembl/ENSAPOG00000000010>| <http://www.w3.org/2000/01/rdf-schema#description>|              \"interferon-induced protein 44-like [Source:NCBI gene;Acc:110962994]\"|<http://rdf.ebi.ac.uk/resource/ensembl/confidence/high> .|\n",
            "|        <http://rdf.ebi.ac.uk/resource/ensembl/ENSAPOG00000000010>|<http://rdf.ebi.ac.uk/resource/ensembl/has_biotype>|                             <http://rdf.ebi.ac.uk/resource/ensembl/biotype/coding>|<http://rdf.ebi.ac.uk/resource/ensembl/confidence/high> .|\n",
            "|<http://aging-research.group/resource/Acanthochromis_polyacanthus>|    <http://aging-research.group/resource/has_gene>|                         <http://rdf.ebi.ac.uk/resource/ensembl/ENSAPOG00000000011>|<http://rdf.ebi.ac.uk/resource/ensembl/confidence/high> .|\n",
            "|        <http://rdf.ebi.ac.uk/resource/ensembl/ENSAPOG00000000011>|       <http://www.w3.org/2000/01/rdf-schema#label>|                                                                           \"SMURF2\"|<http://rdf.ebi.ac.uk/resource/ensembl/confidence/high> .|\n",
            "|        <http://rdf.ebi.ac.uk/resource/ensembl/ENSAPOG00000000011>| <http://www.w3.org/2000/01/rdf-schema#description>|              \"E3 ubiquitin-protein ligase SMURF2 [Source:NCBI gene;Acc:110958763]\"|<http://rdf.ebi.ac.uk/resource/ensembl/confidence/high> .|\n",
            "|        <http://rdf.ebi.ac.uk/resource/ensembl/ENSAPOG00000000011>|<http://rdf.ebi.ac.uk/resource/ensembl/has_biotype>|                             <http://rdf.ebi.ac.uk/resource/ensembl/biotype/coding>|<http://rdf.ebi.ac.uk/resource/ensembl/confidence/high> .|\n",
            "|<http://aging-research.group/resource/Acanthochromis_polyacanthus>|    <http://aging-research.group/resource/has_gene>|                         <http://rdf.ebi.ac.uk/resource/ensembl/ENSAPOG00000000012>|<http://rdf.ebi.ac.uk/resource/ensembl/confidence/high> .|\n",
            "|        <http://rdf.ebi.ac.uk/resource/ensembl/ENSAPOG00000000012>|       <http://www.w3.org/2000/01/rdf-schema#label>|                                                                             \"dhx9\"|<http://rdf.ebi.ac.uk/resource/ensembl/confidence/high> .|\n",
            "|        <http://rdf.ebi.ac.uk/resource/ensembl/ENSAPOG00000000012>| <http://www.w3.org/2000/01/rdf-schema#description>|      \"DEAH (Asp-Glu-Ala-His) box helicase 9 [Source:ZFIN;Acc:ZDB-GENE-070912-171]\"|<http://rdf.ebi.ac.uk/resource/ensembl/confidence/high> .|\n",
            "|        <http://rdf.ebi.ac.uk/resource/ensembl/ENSAPOG00000000012>|<http://rdf.ebi.ac.uk/resource/ensembl/has_biotype>|                             <http://rdf.ebi.ac.uk/resource/ensembl/biotype/coding>|<http://rdf.ebi.ac.uk/resource/ensembl/confidence/high> .|\n",
            "+------------------------------------------------------------------+---------------------------------------------------+-----------------------------------------------------------------------------------+---------------------------------------------------------+\n",
            "only showing top 40 rows\n",
            "\n"
          ],
          "output_type" : "stream"
        }
      ]
    },
    {
      "cell_type" : "code",
      "execution_count" : 74,
      "metadata" : {
        "cell.metadata.exec_info" : {
          "startTs" : 1591646849535,
          "endTs" : 1591646896447
        },
        "language" : "scala"
      },
      "language" : "scala",
      "source" : [
        "genes_trs.count()"
      ],
      "outputs" : [
        {
          "execution_count" : 74,
          "data" : {
            "text/plain" : [
              "62232455"
            ]
          },
          "metadata" : {
            "name" : "Out",
            "type" : "Long"
          },
          "output_type" : "execute_result"
        }
      ]
    },
    {
      "cell_type" : "code",
      "execution_count" : 71,
      "metadata" : {
        "cell.metadata.exec_info" : {
          "startTs" : 1591638587559,
          "endTs" : 1591638823260
        },
        "language" : "scala"
      },
      "language" : "scala",
      "source" : [
        "\n",
        "genes_trs.writeTSV(\"/data/databases/graphdb/import/genes_lookup.nq\", header = false)"
      ],
      "outputs" : [
        {
          "name" : "stdout",
          "text" : [
            "parts of /data/databases/graphdb/import/genes_lookup.nq merged!\n"
          ],
          "output_type" : "stream"
        },
        {
          "execution_count" : 71,
          "data" : {
            "text/plain" : [
              "/data/databases/graphdb/import/genes_lookup.nq"
            ]
          },
          "metadata" : {
            "name" : "Out",
            "type" : "String"
          },
          "output_type" : "execute_result"
        }
      ]
    },
    {
      "cell_type" : "code",
      "execution_count" : 73,
      "metadata" : {
        "language" : "scala"
      },
      "language" : "scala",
      "source" : [
      ],
      "outputs" : [
      ]
    }
  ]
}