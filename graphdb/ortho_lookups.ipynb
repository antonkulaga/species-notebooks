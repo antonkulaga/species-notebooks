{
  "metadata" : {
    "config" : {
      "dependencies" : {
        "scala" : [
          "group.research.aging:spark-extensions_2.12:0.0.8.2"
        ]
      },
      "exclusions" : [
      ],
      "repositories" : [
        {
          "maven" : {
            "base" : "http://central.maven.org/maven2/"
          }
        },
        {
          "maven" : {
            "base" : "http://oss.sonatype.org/content/repositories/snapshots"
          }
        },
        {
          "maven" : {
            "base" : "https://dl.bintray.com/comp-bio-aging/main/"
          }
        }
      ],
      "sparkConfig" : {
        "master" : "http://spark:7070[16]"
      }
    },
    "language_info" : {
      "name" : "scala"
    }
  },
  "nbformat" : 4,
  "nbformat_minor" : 0,
  "cells" : [
    {
      "cell_type" : "markdown",
      "execution_count" : 0,
      "metadata" : {
        "language" : "text"
      },
      "language" : "text",
      "source" : [
        "<div>lookups</div><div>-----------<br></div>"
      ],
      "outputs" : [
      ]
    },
    {
      "cell_type" : "code",
      "execution_count" : 1,
      "metadata" : {
        "cell.metadata.exec_info" : {
          "startTs" : 1591631159071,
          "endTs" : 1591631159645
        },
        "language" : "scala"
      },
      "language" : "scala",
      "source" : [
        "import org.apache.spark.rdd._\n",
        "import org.apache.spark.sql._\n",
        "import org.apache.spark.sql.types.StructType\n",
        "import org.apache.spark.sql.functions._\n",
        "import group.research.aging.spark.extensions._"
      ],
      "outputs" : [
      ]
    },
    {
      "cell_type" : "code",
      "execution_count" : 2,
      "metadata" : {
        "cell.metadata.exec_info" : {
          "startTs" : 1591631159676,
          "endTs" : 1591631159937
        },
        "language" : "scala"
      },
      "language" : "scala",
      "source" : [
        "import ammonite.ops._\n",
        "import ammonite.ops.ImplicitWd._"
      ],
      "outputs" : [
      ]
    },
    {
      "cell_type" : "markdown",
      "execution_count" : 3,
      "metadata" : {
        "language" : "text"
      },
      "language" : "text",
      "source" : [
        "<div><b>Making a list of species</b></div><div>-------------------------------<br></div>"
      ],
      "outputs" : [
      ]
    },
    {
      "cell_type" : "code",
      "execution_count" : 4,
      "metadata" : {
        "cell.metadata.exec_info" : {
          "startTs" : 1591632117726,
          "endTs" : 1591632118284
        },
        "language" : "scala"
      },
      "language" : "scala",
      "source" : [
        "//val anage = spark.readTSV(\"/data/databases/anage/anage_data.tsv\", header = true).withColumn(\"scientific_name\", concat($\"Genus\", lit(\" \"), $\"Species\"))\n",
        "//anage.show()\n",
        "//val anage_animals = spark.readTSV(\"/data/ensembl/99/view_animals_anage.tsv\", header = true).withColumnRenamed(\"latin_name\", \"scientific_name\")\n",
        "//anage_animals.show(10,10000)\n",
        "val species = spark.readTSV(\"/data/ensembl/99/ensembl_anage_vertebrates.tsv\", header = true).withColumnRenamed(\"latin_name\", \"scientific_name\")\n",
        "species.show(10,10000)"
      ],
      "outputs" : [
        {
          "name" : "stdout",
          "text" : [
            "+--------------------+--------------------------------+-----------+-----------+------------------+-----------------------+-----+-----+------+-------+----------------+-----------+--------------+-----------+--------------+--------------------+------------------+-------+-----------+----------------+--------------------+--------------+----------------+--------------+-----------+\n",
            "|         common_name|                 scientific_name|taxonomy_id|   assembly|assembly_accession|              genebuild|class|order|family|species|maximum_lifespan|body_mass_g|metabolic_rate|temperature|gestation_days|female_maturity_days|male_maturity_days|weaning|litter_size|litters_per_year|inter_birth_interval|birth_weight_g|weaning_weight_g|adult_weight_g|growth_rate|\n",
            "+--------------------+--------------------------------+-----------+-----------+------------------+-----------------------+-----+-----+------+-------+----------------+-----------+--------------+-----------+--------------+--------------------+------------------+-------+-----------+----------------+--------------------+--------------+----------------+--------------+-----------+\n",
            "|       Spiny chromis|     Acanthochromis_polyacanthus|      80966|ASM210954v1|   GCA_002109545.1|2018-05-Ensembl/2018-07| null| null|  null|   null|            null|       null|          null|       null|          null|                null|              null|   null|       null|            null|                null|          null|            null|          null|       null|\n",
            "|Yellow-billed parrot|                Amazona_collaria|     241587|ASM394721v1|   GCA_003947215.1|2019-07-Ensembl/2019-09| null| null|  null|   null|            null|       null|          null|       null|          null|                null|              null|   null|       null|            null|                null|          null|            null|          null|       null|\n",
            "|       Midas cichlid|         Amphilophus_citrinellus|      61819|   Midas_v5|   GCA_000751415.1|2018-05-Ensembl/2018-07| null| null|  null|   null|            null|       null|          null|       null|          null|                null|              null|   null|       null|            null|                null|          null|            null|          null|       null|\n",
            "|   Clown anemonefish|            Amphiprion_ocellaris|      80972|  AmpOce1.0|   GCA_002776465.1|2018-05-Ensembl/2018-07| null| null|  null|   null|            null|       null|          null|       null|          null|                null|              null|   null|       null|            null|                null|          null|            null|          null|       null|\n",
            "|    Orange clownfish|              Amphiprion_percula|     161767|    Nemo_v1|   GCA_003047355.1|2018-05-Ensembl/2018-07| null| null|  null|   null|            null|       null|          null|       null|          null|                null|              null|   null|       null|            null|                null|          null|            null|          null|       null|\n",
            "|                Duck|Anas_platyrhynchos_platyrhynchos|       8840|CAU_duck1.0|   GCA_002743455.1|2018-10-Ensembl/2018-12| null| null|  null|   null|            null|       null|          null|       null|          null|                null|              null|   null|       null|            null|                null|          null|            null|          null|       null|\n",
            "|          Swan goose|                 Anser_cygnoides|       8845|  GooseV1.0|   GCA_002166845.1|2019-02-Ensembl/2019-09| null| null|  null|   null|            null|       null|          null|       null|          null|                null|              null|   null|       null|            null|                null|          null|            null|          null|       null|\n",
            "|   Ma's night monkey|                 Aotus_nancymaae|      37293|   Anan_2.0|   GCA_000952055.2|2017-08-Ensembl/2018-01| null| null|  null|   null|            null|       null|          null|       null|          null|                null|              null|   null|       null|            null|                null|          null|            null|          null|       null|\n",
            "|  Great spotted kiwi|                 Apteryx_haastii|       8823|    aptHaa1|   GCA_003342985.1|2018-12-Ensembl/2018-12| null| null|  null|   null|            null|       null|          null|       null|          null|                null|              null|   null|       null|            null|                null|          null|            null|          null|       null|\n",
            "| Little spotted kiwi|                  Apteryx_owenii|       8824|    aptOwe1|   GCA_003342965.1|2018-10-Ensembl/2018-12| null| null|  null|   null|            null|       null|          null|       null|          null|                null|              null|   null|       null|            null|                null|          null|            null|          null|       null|\n",
            "+--------------------+--------------------------------+-----------+-----------+------------------+-----------------------+-----+-----+------+-------+----------------+-----------+--------------+-----------+--------------+--------------------+------------------+-------+-----------+----------------+--------------------+--------------+----------------+--------------+-----------+\n",
            "only showing top 10 rows\n",
            "\n"
          ],
          "output_type" : "stream"
        }
      ]
    },
    {
      "cell_type" : "code",
      "execution_count" : 19,
      "metadata" : {
        "language" : "scala"
      },
      "language" : "scala",
      "source" : [
      ],
      "outputs" : [
      ]
    },
    {
      "cell_type" : "code",
      "execution_count" : 5,
      "metadata" : {
        "cell.metadata.exec_info" : {
          "startTs" : 1590715504888,
          "endTs" : 1590715505325
        },
        "language" : "scala"
      },
      "language" : "scala",
      "source" : [
        "/*\n",
        "val ensemble_species = spark.readTSV(\"/data/ensembl/99/Species.csv\", sep=\",\", header = true)\n",
        " .withColumnRenamed(\"Scientific Name\", \"scientific_name\")\n",
        " .withColumnRenamed(\"Taxon ID\", \"taxon_id\")\n",
        " .select(\"scientific_name\", \"taxon_id\")\n",
        "\n",
        " ensemble_species.show(10,100)\n",
        "*/"
      ],
      "outputs" : [
        {
          "name" : "stdout",
          "text" : [
            "+--------------------------+--------+\n",
            "|           scientific_name|taxon_id|\n",
            "+--------------------------+--------+\n",
            "|     Orycteropus afer afer| 1230840|\n",
            "|    Chelonoidis abingdonii|  106734|\n",
            "|Struthio camelus australis|  441894|\n",
            "|        Gopherus agassizii|   38772|\n",
            "|               Mus spretus|   10096|\n",
            "|             Vicugna pacos|   30538|\n",
            "|   Marmota marmota marmota|    9994|\n",
            "|          Poecilia formosa|   48698|\n",
            "|         Castor canadensis|   51338|\n",
            "|         Bison bison bison|   43346|\n",
            "+--------------------------+--------+\n",
            "only showing top 10 rows\n",
            "\n"
          ],
          "output_type" : "stream"
        }
      ]
    },
    {
      "cell_type" : "code",
      "execution_count" : 6,
      "metadata" : {
        "cell.metadata.exec_info" : {
          "startTs" : 1590715485000,
          "endTs" : 1590715485555
        },
        "language" : "scala"
      },
      "language" : "scala",
      "source" : [
        "/*\n",
        "val species = anage_animals.join(ensemble_species, \"scientific_name\")\n",
        "  .withColumn(\"url\", concat(lit(\"https://www.ensembl.org/\"), $\"genus\", lit(\"_\"), $\"species\"))  \n",
        "  .sort($\"class\", $\"maximum_lifespan\".desc)\n",
        "species.show()\n",
        "*//*\n",
        "val species = anage_animals.join(ensemble_species, \"scientific_name\")\n",
        "  .withColumn(\"url\", concat(lit(\"https://www.ensembl.org/\"), $\"Genus\", lit(\"_\"), $\"Species\"))\n",
        "  .withColumnRenamed(\"tax_id\", \"taxon_id\")\n",
        "  .sort($\"Class\", $\"Maximum longevity (yrs)\".desc)\n",
        "  .select($\"taxon_id\".as[String],\n",
        "      $\"scientific_name\".as(\"scientific_name\").as[String], \n",
        "      $\"Common name\".as(\"common_name\").as[String],\n",
        "      $\"url\".as[String],\n",
        "  $\"Class\".as(\"class\").as[String], \n",
        "  $\"Maximum longevity (yrs)\".as(\"lifespan\").as[String],\n",
        "  $\"Body mass (g)\".as(\"mass_g\").as[String],\n",
        "  $\"Metabolic rate (W)\".as(\"metabolic_rate\"),\n",
        "  $\"Temperature (K)\".as(\"temperature_k\"),\n",
        "  $\"Specimen origin\".as(\"specimen_origin\").as[String],\n",
        "  $\"Sample size\".as(\"sample_size\").as[String],\n",
        "  $\"Data quality\".as(\"data_quality\").as[String]\n",
        "  ).sort($\"class\", $\"lifespan\".desc)\n",
        "species.show()*/"
      ],
      "outputs" : [
        {
          "name" : "stdout",
          "text" : [
            "+---------------+------+-----+-----+------+-----+-------+-----------+----------------+-----------+--------------+-----------+------------------+--------------+--------------------+------------------+-------+-----------+----------------+--------------------+--------------+----------------+--------------+-----------+------+---------------+-----------+------------+------------+----------+----------+--------+---+\n",
            "|scientific_name|phylum|class|order|family|genus|species|common_name|maximum_lifespan|body_mass_g|metabolic_rate|temperature|temperature_kelvin|gestation_days|female_maturity_days|male_maturity_days|weaning|litter_size|litters_per_year|inter_birth_interval|birth_weight_g|weaning_weight_g|adult_weight_g|growth_rate|source|specimen_origin|sample_size|data_quality|imr_per_year|mrdt_years|references|taxon_id|url|\n",
            "+---------------+------+-----+-----+------+-----+-------+-----------+----------------+-----------+--------------+-----------+------------------+--------------+--------------------+------------------+-------+-----------+----------------+--------------------+--------------+----------------+--------------+-----------+------+---------------+-----------+------------+------------+----------+----------+--------+---+\n",
            "+---------------+------+-----+-----+------+-----+-------+-----------+----------------+-----------+--------------+-----------+------------------+--------------+--------------------+------------------+-------+-----------+----------------+--------------------+--------------+----------------+--------------+-----------+------+---------------+-----------+------------+------------+----------+----------+--------+---+\n",
            "\n"
          ],
          "output_type" : "stream"
        }
      ]
    },
    {
      "cell_type" : "code",
      "execution_count" : 8,
      "metadata" : {
        "cell.metadata.exec_info" : {
          "startTs" : 1580313406357,
          "endTs" : 1580313407235
        },
        "language" : "scala"
      },
      "language" : "scala",
      "source" : [
        "//species.distinct.writeParquet(\"/data/ensembl/99/website/species_lookup.parquet\", true)\n",
        "//species.distinct.writeTSV(\"/data/ensembl/99/website/species_lookup.tsv\", true)"
      ],
      "outputs" : [
        {
          "name" : "stdout",
          "text" : [
            "parts of /data/ensembl/99/website/species_lookup.parquet merged!\n"
          ],
          "output_type" : "stream"
        },
        {
          "execution_count" : 8,
          "data" : {
            "text/plain" : [
              "/data/ensembl/99/website/species_lookup.parquet"
            ]
          },
          "metadata" : {
            "name" : "Out",
            "type" : "String"
          },
          "output_type" : "execute_result"
        }
      ]
    },
    {
      "cell_type" : "markdown",
      "execution_count" : 20,
      "metadata" : {
        "language" : "text"
      },
      "language" : "text",
      "source" : [
        "## Writing genes\n",
        "\n"
      ],
      "outputs" : [
      ]
    },
    {
      "cell_type" : "code",
      "execution_count" : 10,
      "metadata" : {
        "cell.metadata.exec_info" : {
          "startTs" : 1591632078984,
          "endTs" : 1591632079288
        },
        "language" : "scala"
      },
      "language" : "scala",
      "source" : [
        "val prefix_ens = \"http://rdf.ebi.ac.uk/resource/ensembl/\"\n",
        "val prefix = \"http://aging-research.group/resource/\"\n",
        "def ens(str: String) = \"<\"+prefix_ens+str.replace(\" \", \"_\")+\">\"\n",
        "def tax(str: String) = ens(\"taxon#\"+str)\n",
        "def pref(str: String) = \"<\" +prefix +str.replace(\" \", \"_\")+\">\" \n",
        "def str(s: String) = s\"\"\"\"${s.replace(\"\\\"\", \"\\\\\\\"\")}\"\"\"\" \n",
        "    //+\"^^<http://www.w3.org/2001/XMLSchema#string>\""
      ],
      "outputs" : [
      ]
    },
    {
      "cell_type" : "code",
      "execution_count" : 11,
      "metadata" : {
        "cell.metadata.exec_info" : {
          "startTs" : 1591632079295,
          "endTs" : 1591632079716
        },
        "language" : "scala"
      },
      "language" : "scala",
      "source" : [
        "def trip(s: String, p: String, o: String):List[(String, String, String, String)] = if(s==null || p == null || o == null ||\n",
        " s == \"\" ||  p == \"\" || o == \"\" || o==\"\\\\N\" || o.startsWith(\"\\\"\\\\N\\\"\") || s == \"\\\\N\" || s == \"\\\"\\\\N\\\"\") Nil else List((s,p,o, \"<\" + \"http://rdf.ebi.ac.uk/resource/ensembl/confidence/high\" + \"> .\"))\n",
        "def sp(taxon_id: java.lang.Integer, scientific_name: String)(p: String, o: Any) = if(taxon_id==null || o == null) Nil else {\n",
        "      trip(tax(taxon_id.toString), pref(p), o.toString)++\n",
        "        trip(pref(scientific_name),pref(p), o.toString) \n",
        "}"
      ],
      "outputs" : [
      ]
    },
    {
      "cell_type" : "code",
      "execution_count" : 12,
      "metadata" : {
        "cell.metadata.exec_info" : {
          "startTs" : 1591632079721,
          "endTs" : 1591632079795
        },
        "language" : "scala"
      },
      "language" : "scala",
      "source" : [
        "trs.writeTSV(\"/data/databases/graphdb/import/species.nt\", false)"
      ],
      "outputs" : [
        {
          "execution_count" : 12,
          "data" : {
            "application/json" : [
              {
                "pos" : {
                  "sourceId" : "Cell12",
                  "start" : 0,
                  "end" : 3,
                  "point" : 0
                },
                "msg" : "not found: value trs",
                "severity" : 2
              }
            ],
            "text/plain" : [
              "Error: not found: value trs (0)"
            ]
          },
          "metadata" : {
            "rel" : "compiler_errors"
          },
          "output_type" : "execute_result"
        }
      ]
    },
    {
      "cell_type" : "markdown",
      "execution_count" : 13,
      "metadata" : {
        "cell.metadata.exec_info" : {
          "startTs" : 1579720996848,
          "endTs" : 1579720998406
        },
        "language" : "text"
      },
      "language" : "text",
      "source" : [
        "## **Making a list of genes**<br>\n",
        "\n",
        "\n"
      ],
      "outputs" : [
        {
          "execution_count" : 13,
          "data" : {
            "text/plain" : [
              "162"
            ]
          },
          "metadata" : {
            "name" : "Out",
            "type" : "Long"
          },
          "output_type" : "execute_result"
        }
      ]
    },
    {
      "cell_type" : "code",
      "execution_count" : 14,
      "metadata" : {
        "cell.metadata.exec_info" : {
          "startTs" : 1591632124150,
          "endTs" : 1591632130437
        },
        "language" : "scala"
      },
      "language" : "scala",
      "source" : [
        "val gene_members = spark.readTSV(\"/data/ensembl/99/compara/dump/gene_member.txt\").toDF(\"gene_member_id\",\"stable_id\",\"version\",\"source_name\",\"taxon_id\",\"genome_db_id\",\"biotype_group\",\"canonical_member_id\",\n",
        "\"description\",\"dnafrag_id\",\"dnafrag_start\",\"dnafrag_end\",\"dnafrag_strand\",\"display_label\").select(\"stable_id\", \"display_label\", \"taxon_id\", \"biotype_group\", \"description\").distinct()\n",
        "gene_members.show(10)"
      ],
      "outputs" : [
        {
          "name" : "stdout",
          "text" : [
            "+------------------+-------------+--------+-------------+--------------------+\n",
            "|         stable_id|display_label|taxon_id|biotype_group|         description|\n",
            "+------------------+-------------+--------+-------------+--------------------+\n",
            "|ENSPPYG00000017407|           \\N|    9601|       coding|                  \\N|\n",
            "|ENSPPYG00000017632|        ELMO1|    9601|       coding|engulfment and ce...|\n",
            "|ENSPPYG00000017668|           \\N|    9601|       coding|                  \\N|\n",
            "|ENSTNIG00000015267|        OTOL1|   99883|       coding|otolin 1 [Source:...|\n",
            "|ENSTNIG00000007702|        mfsd1|   99883|       coding|major facilitator...|\n",
            "|ENSPPYG00000018066|         WEE2|    9601|       coding|WEE2 oocyte meios...|\n",
            "|ENSTNIG00000016189|      zbtb16b|   99883|       coding|zinc finger and B...|\n",
            "|ENSTNIG00000016255|   zgc:152857|   99883|       coding|zgc:152857 [Sourc...|\n",
            "|ENSPPYG00000000012|           \\N|    9601|       coding|olfactory recepto...|\n",
            "|ENSPPYG00000000045|         CNST|    9601|       coding|consortin, connex...|\n",
            "+------------------+-------------+--------+-------------+--------------------+\n",
            "only showing top 10 rows\n",
            "\n"
          ],
          "output_type" : "stream"
        }
      ]
    },
    {
      "cell_type" : "code",
      "execution_count" : 15,
      "metadata" : {
        "cell.metadata.exec_info" : {
          "startTs" : 1591632211695,
          "endTs" : 1591632228719
        },
        "language" : "scala"
      },
      "language" : "scala",
      "source" : [
        "val sm_species = species.withColumnRenamed(\"taxonomy_id\", \"taxon_id\").select(\"scientific_name\", \"common_name\", \"taxon_id\", \"class\")\n",
        "val genes = gene_members.join(sm_species, \"taxon_id\").sort($\"class\", $\"scientific_name\", $\"biotype_group\", $\"stable_id\").distinct()\n",
        "genes.show()"
      ],
      "outputs" : [
        {
          "name" : "stdout",
          "text" : [
            "+--------+------------------+-------------+-------------+--------------------+--------------------+-------------+-----+\n",
            "|taxon_id|         stable_id|display_label|biotype_group|         description|     scientific_name|  common_name|class|\n",
            "+--------+------------------+-------------+-------------+--------------------+--------------------+-------------+-----+\n",
            "|   80966|ENSAPOG00000000002|    zgc:63972|       coding|protein CutA homo...|Acanthochromis_po...|Spiny chromis| null|\n",
            "|   80966|ENSAPOG00000000003|           \\N|       coding|                  \\N|Acanthochromis_po...|Spiny chromis| null|\n",
            "|   80966|ENSAPOG00000000004|          rhd|       coding|ammonium transpor...|Acanthochromis_po...|Spiny chromis| null|\n",
            "|   80966|ENSAPOG00000000005|           \\N|       coding|protein bicaudal ...|Acanthochromis_po...|Spiny chromis| null|\n",
            "|   80966|ENSAPOG00000000006|     ppp1r27b|       coding|protein phosphata...|Acanthochromis_po...|Spiny chromis| null|\n",
            "|   80966|ENSAPOG00000000007|       capn2l|       coding|calpain-2 catalyt...|Acanthochromis_po...|Spiny chromis| null|\n",
            "|   80966|ENSAPOG00000000008|           \\N|       coding|zinc finger prote...|Acanthochromis_po...|Spiny chromis| null|\n",
            "|   80966|ENSAPOG00000000009|         ARSB|       coding|arylsulfatase B [...|Acanthochromis_po...|Spiny chromis| null|\n",
            "|   80966|ENSAPOG00000000010|   zgc:153654|       coding|interferon-induce...|Acanthochromis_po...|Spiny chromis| null|\n",
            "|   80966|ENSAPOG00000000011|       SMURF2|       coding|E3 ubiquitin-prot...|Acanthochromis_po...|Spiny chromis| null|\n",
            "|   80966|ENSAPOG00000000012|         dhx9|       coding|DEAH (Asp-Glu-Ala...|Acanthochromis_po...|Spiny chromis| null|\n",
            "|   80966|ENSAPOG00000000013|     aasdhppt|       coding|aminoadipate-semi...|Acanthochromis_po...|Spiny chromis| null|\n",
            "|   80966|ENSAPOG00000000014|        nol11|       coding|nucleolar protein...|Acanthochromis_po...|Spiny chromis| null|\n",
            "|   80966|ENSAPOG00000000015|       gna11b|       coding|guanine nucleotid...|Acanthochromis_po...|Spiny chromis| null|\n",
            "|   80966|ENSAPOG00000000016|         APOH|       coding|beta-2-glycoprote...|Acanthochromis_po...|Spiny chromis| null|\n",
            "|   80966|ENSAPOG00000000017|           \\N|       coding|calcium/calmoduli...|Acanthochromis_po...|Spiny chromis| null|\n",
            "|   80966|ENSAPOG00000000018|         wwc3|       coding|WWC family member...|Acanthochromis_po...|Spiny chromis| null|\n",
            "|   80966|ENSAPOG00000000019|           \\N|       coding|myoneurin [Source...|Acanthochromis_po...|Spiny chromis| null|\n",
            "|   80966|ENSAPOG00000000020|           \\N|       coding|                  \\N|Acanthochromis_po...|Spiny chromis| null|\n",
            "|   80966|ENSAPOG00000000021|        flrt2|       coding|leucine-rich repe...|Acanthochromis_po...|Spiny chromis| null|\n",
            "+--------+------------------+-------------+-------------+--------------------+--------------------+-------------+-----+\n",
            "only showing top 20 rows\n",
            "\n"
          ],
          "output_type" : "stream"
        }
      ]
    },
    {
      "cell_type" : "code",
      "execution_count" : 16,
      "metadata" : {
        "cell.metadata.exec_info" : {
          "startTs" : 1591632468868,
          "endTs" : 1591632560932
        },
        "language" : "scala"
      },
      "language" : "scala",
      "source" : [
        "genes.writeParquet(\"/data/ensembl/99/website/genes_lookup.parquet\", true)"
      ],
      "outputs" : [
        {
          "name" : "stdout",
          "text" : [
            "parts of /data/ensembl/99/website/genes_lookup.parquet merged!\n"
          ],
          "output_type" : "stream"
        },
        {
          "execution_count" : 16,
          "data" : {
            "text/plain" : [
              "/data/ensembl/99/website/genes_lookup.parquet"
            ]
          },
          "metadata" : {
            "name" : "Out",
            "type" : "String"
          },
          "output_type" : "execute_result"
        }
      ]
    },
    {
      "cell_type" : "code",
      "execution_count" : 17,
      "metadata" : {
        "cell.metadata.exec_info" : {
          "startTs" : 1591632560936,
          "endTs" : 1591632655444
        },
        "language" : "scala"
      },
      "language" : "scala",
      "source" : [
        "genes.writeTSV(\"/data/ensembl/99/website/genes_lookup.tsv\", true)"
      ],
      "outputs" : [
        {
          "name" : "stdout",
          "text" : [
            "parts of /data/ensembl/99/website/genes_lookup.tsv merged!\n"
          ],
          "output_type" : "stream"
        },
        {
          "execution_count" : 17,
          "data" : {
            "text/plain" : [
              "/data/ensembl/99/website/genes_lookup.tsv"
            ]
          },
          "metadata" : {
            "name" : "Out",
            "type" : "String"
          },
          "output_type" : "execute_result"
        }
      ]
    },
    {
      "cell_type" : "code",
      "execution_count" : 18,
      "metadata" : {
        "cell.metadata.exec_info" : {
          "startTs" : 1591632655449,
          "endTs" : 1591632674160
        },
        "language" : "scala"
      },
      "language" : "scala",
      "source" : [
        "genes.count() //4383816"
      ],
      "outputs" : [
        {
          "execution_count" : 18,
          "data" : {
            "text/plain" : [
              "19358366"
            ]
          },
          "metadata" : {
            "name" : "Out",
            "type" : "Long"
          },
          "output_type" : "execute_result"
        }
      ]
    },
    {
      "cell_type" : "code",
      "execution_count" : 21,
      "metadata" : {
        "language" : "scala"
      },
      "language" : "scala",
      "source" : [
      ],
      "outputs" : [
      ]
    }
  ]
}