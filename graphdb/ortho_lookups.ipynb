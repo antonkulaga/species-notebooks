{
  "metadata" : {
    "config" : {
      "dependencies" : {
        "scala" : [
          "group.research.aging:spark-extensions_2.12:0.0.8.2"
        ]
      },
      "exclusions" : [
      ],
      "repositories" : [
        {
          "maven" : {
            "base" : "http://central.maven.org/maven2/"
          }
        },
        {
          "maven" : {
            "base" : "http://oss.sonatype.org/content/repositories/snapshots"
          }
        },
        {
          "maven" : {
            "base" : "https://dl.bintray.com/comp-bio-aging/main/"
          }
        }
      ],
      "sparkConfig" : {
        "master" : "http://spark:7070[16]"
      }
    },
    "language_info" : {
      "name" : "scala"
    }
  },
  "nbformat" : 4,
  "nbformat_minor" : 0,
  "cells" : [
    {
      "cell_type" : "markdown",
      "execution_count" : 0,
      "metadata" : {
        "language" : "text"
      },
      "language" : "text",
      "source" : [
        "<div>lookups</div><div>-----------<br></div>"
      ],
      "outputs" : [
      ]
    },
    {
      "cell_type" : "code",
      "execution_count" : 1,
      "metadata" : {
        "cell.metadata.exec_info" : {
          "startTs" : 1580787587339,
          "endTs" : 1580787587799
        },
        "language" : "scala"
      },
      "language" : "scala",
      "source" : [
        "import org.apache.spark.rdd._\n",
        "import org.apache.spark.sql._\n",
        "import org.apache.spark.sql.types.StructType\n",
        "import org.apache.spark.sql.functions._\n",
        "import group.research.aging.spark.extensions._"
      ],
      "outputs" : [
      ]
    },
    {
      "cell_type" : "code",
      "execution_count" : 2,
      "metadata" : {
        "cell.metadata.exec_info" : {
          "startTs" : 1580787587820,
          "endTs" : 1580787588074
        },
        "language" : "scala"
      },
      "language" : "scala",
      "source" : [
        "import ammonite.ops._\n",
        "import ammonite.ops.ImplicitWd._"
      ],
      "outputs" : [
      ]
    },
    {
      "cell_type" : "markdown",
      "execution_count" : 3,
      "metadata" : {
        "language" : "text"
      },
      "language" : "text",
      "source" : [
        "<div><b>Making a list of species</b></div><div>-------------------------------<br></div>"
      ],
      "outputs" : [
      ]
    },
    {
      "cell_type" : "code",
      "execution_count" : 4,
      "metadata" : {
        "cell.metadata.exec_info" : {
          "startTs" : 1580787588077,
          "endTs" : 1580787599071
        },
        "language" : "scala"
      },
      "language" : "scala",
      "source" : [
        "val anage = spark.readTSV(\"/data/databases/anage/anage_data.tsv\", headers = true)\n",
        " .withColumn(\"scientific_name\", concat($\"Genus\", lit(\" \"), $\"Species\"))\n",
        "anage.show()"
      ],
      "outputs" : [
        {
          "name" : "stdout",
          "text" : [
            "+------+--------+----------+------------+-----------+--------------+-------------+------------+--------------------+----------------------+--------------------+---------------------------+--------------+------------------+-------------------------+--------------------------------+----------------+------------------+----------------+--------------------+-----------------------+------+---------------+-----------+------------+------------+----------+------------------+-------------+---------------+--------------------+--------------------+\n",
            "|HAGRID| Kingdom|    Phylum|       Class|      Order|        Family|        Genus|     Species|         Common name|Female maturity (days)|Male maturity (days)|Gestation/Incubation (days)|Weaning (days)|Litter/Clutch size|Litters/Clutches per year|Inter-litter/Interbirth interval|Birth weight (g)|Weaning weight (g)|Adult weight (g)|Growth rate (1/days)|Maximum longevity (yrs)|Source|Specimen origin|Sample size|Data quality|IMR (per yr)|MRDT (yrs)|Metabolic rate (W)|Body mass (g)|Temperature (K)|          References|     scientific_name|\n",
            "+------+--------+----------+------------+-----------+--------------+-------------+------------+--------------------+----------------------+--------------------+---------------------------+--------------+------------------+-------------------------+--------------------------------+----------------+------------------+----------------+--------------------+-----------------------+------+---------------+-----------+------------+------------+----------+------------------+-------------+---------------+--------------------+--------------------+\n",
            "|     3|Animalia|Arthropoda|Branchiopoda|Diplostraca|    Daphniidae|      Daphnia|   pulicaria|             Daphnia|                  null|                null|                       null|          null|              null|                     null|                            null|            null|              null|            null|                null|                   0.19|  null|        unknown|     medium|  acceptable|        null|      null|              null|         null|           null|      1294,1295,1296|   Daphnia pulicaria|\n",
            "|     5|Animalia|Arthropoda|     Insecta|    Diptera| Drosophilidae|   Drosophila|melanogaster|           Fruit fly|                     7|                   7|                       null|          null|              null|                     null|                            null|            null|              null|            null|                null|                    0.3|  null|      captivity|      large|  acceptable|        0.05|      0.04|              null|         null|           null|2,20,32,47,53,68,...|Drosophila melano...|\n",
            "|     6|Animalia|Arthropoda|     Insecta|Hymenoptera|        Apidae|         Apis|   mellifera|           Honey bee|                  null|                null|                       null|          null|              null|                     null|                            null|            null|              null|            null|                null|                    8.0|   812|        unknown|     medium|  acceptable|        null|      null|              null|         null|           null|63,407,408,741,80...|      Apis mellifera|\n",
            "|     8|Animalia|Arthropoda|     Insecta|Hymenoptera|    Formicidae|Cardiocondyla|   obscurior|Cardiocondyla obs...|                  null|                null|                       null|          null|              null|                     null|                            null|            null|              null|            null|                null|                    0.5|  1293|      captivity|     medium|  acceptable|        null|      null|              null|         null|           null|                1293|Cardiocondyla obs...|\n",
            "|     9|Animalia|Arthropoda|     Insecta|Hymenoptera|    Formicidae|       Lasius|       niger|    Black garden ant|                  null|                null|                       null|          null|              null|                     null|                            null|            null|              null|            null|                null|                   28.0|   411|        unknown|     medium|  acceptable|        null|      null|              null|         null|           null|         411,813,814|        Lasius niger|\n",
            "|    10|Animalia|Arthropoda|     Insecta|Hymenoptera|    Formicidae|     Pheidole|     dentata|    Pheidole dentata|                  null|                null|                       null|          null|              null|                     null|                            null|            null|              null|            null|                null|                    0.4|  1156|      captivity|     medium|questionable|        null|      null|              null|         null|           null|                1156|    Pheidole dentata|\n",
            "|    11|Animalia|Arthropoda|     Insecta|Lepidoptera|   Nymphalidae|     Bicyclus|     anynana|Squinting bush brown|                    15|                  15|                       null|          null|              null|                     null|                            null|            null|              null|            null|                null|                    0.5|   811|           wild|     medium|  acceptable|        null|      null|              null|         null|           null|         418,809,811|    Bicyclus anynana|\n",
            "|    12|Animalia|Arthropoda|Malacostraca|   Decapoda|   Nephropidae|      Homarus|  americanus|    American lobster|                  null|                null|                       null|          null|              null|                     null|                            null|            null|              null|            null|                null|                  100.0|     2|           wild|     medium|  acceptable|        null|      null|              null|         null|           null|            2,13,594|  Homarus americanus|\n",
            "|    15|Animalia|  Chordata|    Amphibia|      Anura|Bombinatoridae|      Bombina|     bombina|      Firebelly toad|                  1095|                1095|                       null|          null|             190.0|                     null|                            null|            null|              null|            null|                null|                   20.0|   485|      captivity|     medium|  acceptable|        null|      null|              null|         null|           null|         485,525,749|     Bombina bombina|\n",
            "|    16|Animalia|  Chordata|    Amphibia|      Anura|Bombinatoridae|      Bombina|  orientalis|Oriental firebell...|                  null|                null|                       null|          null|             148.0|                     null|                            null|            null|              null|            null|                null|                   15.8|   451|      captivity|      large|  acceptable|        null|      null|              null|         null|           null|         451,525,749|  Bombina orientalis|\n",
            "|    17|Animalia|  Chordata|    Amphibia|      Anura|Bombinatoridae|      Bombina|   variegata| Yellow-bellied toad|                  null|                null|                       null|          null|              73.0|                     null|                            null|            null|              null|            null|                null|                   29.0|  null|      captivity|     medium|  acceptable|        null|      null|              null|         null|           null|          24,525,749|   Bombina variegata|\n",
            "|    18|Animalia|  Chordata|    Amphibia|      Anura|     Bufonidae|     Anaxyrus|  americanus|       American toad|                   910|                 910|                          8|          null|            6000.0|                     null|                             365|            null|              null|         21.7667|                null|                   36.0|   525|      captivity|     medium|  acceptable|        null|      null|           0.00829|         21.6|          288.0|  37,268,426,525,749| Anaxyrus americanus|\n",
            "|    19|Animalia|  Chordata|    Amphibia|      Anura|     Bufonidae|     Anaxyrus|      boreas|        Western toad|                  1095|                1095|                          6|          null|            5200.0|                     null|                            null|            null|              null|            null|                null|                   11.5|   451|      captivity|     medium|  acceptable|        null|      null|              null|         null|           null|     437,451,526,749|     Anaxyrus boreas|\n",
            "|    20|Animalia|  Chordata|    Amphibia|      Anura|     Bufonidae|     Anaxyrus|     canorus|       Yosemite toad|                  1825|                1460|                         11|          null|            1750.0|                     null|                            null|            null|              null|            null|                null|                   15.0|   503|           wild|     medium|  acceptable|        null|      null|              null|         null|           null|         503,526,749|    Anaxyrus canorus|\n",
            "|    21|Animalia|  Chordata|    Amphibia|      Anura|     Bufonidae|     Anaxyrus|    cognatus|   Great plains toad|                   730|                 730|                          4|          null|           11074.0|                     null|                            null|            null|              null|            null|                null|                   10.7|   485|      captivity|      small|questionable|        null|      null|              null|         null|           null|         485,526,749|   Anaxyrus cognatus|\n",
            "|    22|Animalia|  Chordata|    Amphibia|      Anura|     Bufonidae|     Anaxyrus|     debilis|          Green toad|                  null|                null|                       null|          null|            1300.0|                     null|                            null|            null|              null|            null|                null|                   12.4|   451|      captivity|      small|  acceptable|        null|      null|              null|         null|           null|             451,749|    Anaxyrus debilis|\n",
            "|    23|Animalia|  Chordata|    Amphibia|      Anura|     Bufonidae|     Anaxyrus|  hemiophrys|       Canadian toad|                   730|                 730|                       null|          null|              null|                     null|                            null|            null|              null|            null|                null|                   13.3|   451|      captivity|      small|  acceptable|        null|      null|              null|         null|           null|             451,528| Anaxyrus hemiophrys|\n",
            "|    24|Animalia|  Chordata|    Amphibia|      Anura|     Bufonidae|     Anaxyrus|   punctatus|    Red-spotted toad|                   730|                 730|                       null|          null|            1500.0|                     null|                            null|            null|              null|            null|                null|                   11.3|   485|      captivity|     medium|  acceptable|        null|      null|              null|         null|           null|             485,749|  Anaxyrus punctatus|\n",
            "|    25|Animalia|  Chordata|    Amphibia|      Anura|     Bufonidae|     Anaxyrus|  retiformis|  Sonoran green toad|                  null|                null|                          2|          null|              null|                     null|                            null|            null|              null|            null|                null|                   15.3|   451|      captivity|      small|  acceptable|        null|      null|              null|         null|           null|             451,749| Anaxyrus retiformis|\n",
            "|    26|Animalia|  Chordata|    Amphibia|      Anura|     Bufonidae|     Anaxyrus|  terrestris|       Southern toad|                  null|                null|                          3|          null|            3250.0|                     null|                            null|            null|              null|          19.267|                null|                   10.0|   451|      captivity|     medium|  acceptable|        null|      null|           0.00698|         19.2|          288.0|          37,451,749| Anaxyrus terrestris|\n",
            "+------+--------+----------+------------+-----------+--------------+-------------+------------+--------------------+----------------------+--------------------+---------------------------+--------------+------------------+-------------------------+--------------------------------+----------------+------------------+----------------+--------------------+-----------------------+------+---------------+-----------+------------+------------+----------+------------------+-------------+---------------+--------------------+--------------------+\n",
            "only showing top 20 rows\n",
            "\n"
          ],
          "output_type" : "stream"
        }
      ]
    },
    {
      "cell_type" : "code",
      "execution_count" : 5,
      "metadata" : {
        "cell.metadata.exec_info" : {
          "startTs" : 1580310413899,
          "endTs" : 1580310414499
        },
        "language" : "scala"
      },
      "language" : "scala",
      "source" : [
        "anage.columns.toList"
      ],
      "outputs" : [
        {
          "execution_count" : 5,
          "data" : {
            "text/plain" : [
              "List(HAGRID, Kingdom, Phylum, Class, Order, Family, Genus, Species, Common name, Female maturity (days), Male maturity (days), Gestation/Incubation (days), Weaning (days), Litter/Clutch size, Litters/Clutches per year, Inter-litter/Interbirth interval, B"
            ]
          },
          "metadata" : {
            "name" : "Out",
            "type" : "List[String]"
          },
          "output_type" : "execute_result"
        }
      ]
    },
    {
      "cell_type" : "code",
      "execution_count" : 6,
      "metadata" : {
        "cell.metadata.exec_info" : {
          "startTs" : 1580310414501,
          "endTs" : 1580310415201
        },
        "language" : "scala"
      },
      "language" : "scala",
      "source" : [
        "val ensemble_species = spark.readTSV(\"/data/ensembl/99/Species.csv\", sep=\",\", headers = true)\n",
        " .withColumnRenamed(\"Scientific Name\", \"scientific_name\")\n",
        " .withColumnRenamed(\"Taxon ID\", \"tax_id\")\n",
        " .select(\"scientific_name\", \"tax_id\")\n",
        "\n",
        " ensemble_species.show()\n"
      ],
      "outputs" : [
        {
          "name" : "stdout",
          "text" : [
            "+--------------------+-------+\n",
            "|     scientific_name| tax_id|\n",
            "+--------------------+-------+\n",
            "|Orycteropus afer ...|1230840|\n",
            "|Chelonoidis abing...| 106734|\n",
            "|Struthio camelus ...| 441894|\n",
            "|  Gopherus agassizii|  38772|\n",
            "|         Mus spretus|  10096|\n",
            "|       Vicugna pacos|  30538|\n",
            "|Marmota marmota m...|   9994|\n",
            "|    Poecilia formosa|  48698|\n",
            "|   Castor canadensis|  51338|\n",
            "|   Bison bison bison|  43346|\n",
            "|    Ursus americanus|   9643|\n",
            "|      Neovison vison| 452646|\n",
            "|Colobus angolensi...| 336983|\n",
            "| Anolis carolinensis|  28377|\n",
            "| Camelus dromedarius|   9838|\n",
            "| Urocitellus parryii|   9999|\n",
            "|   Salvator merianae|  96440|\n",
            "|Dasypus novemcinctus|   9361|\n",
            "|Scleropages formosus| 113540|\n",
            "|     Clupea harengus|   7950|\n",
            "+--------------------+-------+\n",
            "only showing top 20 rows\n",
            "\n"
          ],
          "output_type" : "stream"
        }
      ]
    },
    {
      "cell_type" : "code",
      "execution_count" : 7,
      "metadata" : {
        "cell.metadata.exec_info" : {
          "startTs" : 1580310415205,
          "endTs" : 1580310417047
        },
        "language" : "scala"
      },
      "language" : "scala",
      "source" : [
        "val species = anage.join(ensemble_species, \"scientific_name\")\n",
        "  .withColumn(\"url\", concat(lit(\"https://www.ensembl.org/\"), $\"Genus\", lit(\"_\"), $\"Species\"))\n",
        "  .withColumnRenamed(\"tax_id\", \"taxon_id\")\n",
        "  .sort($\"Class\", $\"Maximum longevity (yrs)\".desc)\n",
        "  .select($\"taxon_id\".as[String],\n",
        "      $\"scientific_name\".as(\"scientific_name\").as[String], \n",
        "      $\"Common name\".as(\"common_name\").as[String],\n",
        "      $\"url\".as[String],\n",
        "  $\"Class\".as(\"class\").as[String], \n",
        "  $\"Maximum longevity (yrs)\".as(\"lifespan\").as[String],\n",
        "  $\"Body mass (g)\".as(\"mass_g\").as[String],\n",
        "  $\"Metabolic rate (W)\".as(\"metabolic_rate\"),\n",
        "  $\"Temperature (K)\".as(\"temperature_k\"),\n",
        "  $\"Specimen origin\".as(\"specimen_origin\").as[String],\n",
        "  $\"Sample size\".as(\"sample_size\").as[String],\n",
        "  $\"Data quality\".as(\"data_quality\").as[String]\n",
        "  ).sort($\"class\", $\"lifespan\".desc)\n",
        "species.show()"
      ],
      "outputs" : [
        {
          "name" : "stdout",
          "text" : [
            "+--------+--------------------+--------------------+--------------------+-----+--------+------+--------------+-------------+---------------+-----------+------------+\n",
            "|taxon_id|     scientific_name|         common_name|                 url|class|lifespan|mass_g|metabolic_rate|temperature_k|specimen_origin|sample_size|data_quality|\n",
            "+--------+--------------------+--------------------+--------------------+-----+--------+------+--------------+-------------+---------------+-----------+------------+\n",
            "| 2489341| Strigops habroptila|              Kakapo|https://www.ensem...| Aves|    60.0|  null|          null|         null|      captivity|      small|  acceptable|\n",
            "|  132585|Anser brachyrhynchus|   Pink-footed goose|https://www.ensem...| Aves|    40.9|  null|          null|         null|           wild|     medium|  acceptable|\n",
            "|    9031|       Gallus gallus|      Red junglefowl|https://www.ensem...| Aves|    30.0|2710.0|         6.005|         null|      captivity|      large|  acceptable|\n",
            "|    9054| Phasianus colchicus|     Common pheasant|https://www.ensem...| Aves|    27.0|  null|          null|         null|      captivity|      large|        high|\n",
            "|    9135|     Serinus canaria|        House canary|https://www.ensem...| Aves|    24.0|  13.3|      0.230065|       314.15|      captivity|     medium|  acceptable|\n",
            "|    9049|      Pavo cristatus|      Indian peafowl|https://www.ensem...| Aves|    23.2|  null|          null|         null|      captivity|      large|  acceptable|\n",
            "|   13146|Melopsittacus und...|          Budgerigar|https://www.ensem...| Aves|    21.0|  25.2|        0.3035|       314.15|      captivity|      large|        high|\n",
            "|  211598|     Accipiter nisus|Eurasian sparrowhawk|https://www.ensem...| Aves|    20.2| 135.0|        0.9516|         null|           wild|     medium|  acceptable|\n",
            "|    8790|Dromaius novaehol...|                 Emu|https://www.ensem...| Aves|    16.6|  null|          null|         null|      captivity|      large|  acceptable|\n",
            "|    9157|         Parus major|           Great tit|https://www.ensem...| Aves|    15.4|  null|          null|         null|           wild|      large|  acceptable|\n",
            "|   44394|Zonotrichia albic...|White-throated sp...|https://www.ensem...| Aves|    14.9|  20.2|         0.278|         null|           wild|     medium|  acceptable|\n",
            "|  156563| Cyanistes caeruleus|            Blue tit|https://www.ensem...| Aves|    14.6|  null|          null|         null|           wild|     medium|  acceptable|\n",
            "|    9089| Chrysolophus pictus|     Golden pheasant|https://www.ensem...| Aves|    13.4|  null|          null|         null|      captivity|      large|questionable|\n",
            "|    9103| Meleagris gallopavo|         Wild turkey|https://www.ensem...| Aves|    13.0|  null|          null|         null|           wild|     medium|  acceptable|\n",
            "|   59729| Taeniopygia guttata|         Zebra finch|https://www.ensem...| Aves|    12.0|  null|          null|       314.15|        unknown|      large|  acceptable|\n",
            "|   40217|      Junco hyemalis|     Dark-eyed junco|https://www.ensem...| Aves|    11.3|  18.0|        0.2959|         null|           wild|      large|  acceptable|\n",
            "|  194338|  Athene cunicularia|       Burrowing owl|https://www.ensem...| Aves|    11.0|  null|          null|         null|           wild|     medium|  acceptable|\n",
            "|   59894| Ficedula albicollis| Collared flycatcher|https://www.ensem...| Aves|     9.8|  null|          null|         null|           wild|     medium|  acceptable|\n",
            "|   93934|   Coturnix japonica|      Japanese quail|https://www.ensem...| Aves|     6.0|  null|          null|         null|        unknown|     medium|  acceptable|\n",
            "|   44316|  Erythrura gouldiae|      Gouldian finch|https://www.ensem...| Aves|     6.0|  null|          null|         null|      captivity|      large|  acceptable|\n",
            "+--------+--------------------+--------------------+--------------------+-----+--------+------+--------------+-------------+---------------+-----------+------------+\n",
            "only showing top 20 rows\n",
            "\n"
          ],
          "output_type" : "stream"
        }
      ]
    },
    {
      "cell_type" : "code",
      "execution_count" : 8,
      "metadata" : {
        "cell.metadata.exec_info" : {
          "startTs" : 1579722391368,
          "endTs" : 1579722392081
        },
        "language" : "scala"
      },
      "language" : "scala",
      "source" : [
        "species.writeParquet(\"/data/ensembl/99/website/species_lookup.parquet\")"
      ],
      "outputs" : [
        {
          "name" : "stdout",
          "text" : [
            "parts of /data/ensembl/99/website/species_lookup.parquet merged!\n"
          ],
          "output_type" : "stream"
        },
        {
          "execution_count" : 8,
          "data" : {
            "text/plain" : [
              "/data/ensembl/99/website/species_lookup.parquet"
            ]
          },
          "metadata" : {
            "name" : "Out",
            "type" : "String"
          },
          "output_type" : "execute_result"
        }
      ]
    },
    {
      "cell_type" : "code",
      "execution_count" : 9,
      "metadata" : {
        "cell.metadata.exec_info" : {
          "startTs" : 1580313406357,
          "endTs" : 1580313407235
        },
        "language" : "scala"
      },
      "language" : "scala",
      "source" : [
        "species.distinct.writeParquet(\"/data/ensembl/99/website/species_lookup.parquet\", true)"
      ],
      "outputs" : [
        {
          "name" : "stdout",
          "text" : [
            "parts of /data/ensembl/99/website/species_lookup.parquet merged!\n"
          ],
          "output_type" : "stream"
        },
        {
          "execution_count" : 9,
          "data" : {
            "text/plain" : [
              "/data/ensembl/99/website/species_lookup.parquet"
            ]
          },
          "metadata" : {
            "name" : "Out",
            "type" : "String"
          },
          "output_type" : "execute_result"
        }
      ]
    },
    {
      "cell_type" : "code",
      "execution_count" : 10,
      "metadata" : {
        "cell.metadata.exec_info" : {
          "startTs" : 1580313363529,
          "endTs" : 1580313364326
        },
        "language" : "scala"
      },
      "language" : "scala",
      "source" : [
        "species.distinct.writeTSV(\"/data/ensembl/99/website/species_lookup.tsv\", true)"
      ],
      "outputs" : [
        {
          "name" : "stdout",
          "text" : [
            "parts of /data/ensembl/99/website/species_lookup.tsv merged!\n"
          ],
          "output_type" : "stream"
        },
        {
          "execution_count" : 10,
          "data" : {
            "text/plain" : [
              "/data/ensembl/99/website/species_lookup.tsv"
            ]
          },
          "metadata" : {
            "name" : "Out",
            "type" : "String"
          },
          "output_type" : "execute_result"
        }
      ]
    },
    {
      "cell_type" : "code",
      "execution_count" : 11,
      "metadata" : {
        "cell.metadata.exec_info" : {
          "startTs" : 1580806597556,
          "endTs" : 1580806597798
        },
        "language" : "scala"
      },
      "language" : "scala",
      "source" : [
        "val prefix_ens = \"http://rdf.ebi.ac.uk/resource/ensembl/\"\n",
        "val prefix = \"http://aging-research.group/resource/\"\n",
        "def ens(str: String) = \"<\"+prefix_ens+str.replace(\" \", \"_\")+\">\"\n",
        "def tax(str: String) = ens(\"taxon#\"+str)\n",
        "def pref(str: String) = \"<\" +prefix +str.replace(\" \", \"_\")+\">\" \n",
        "def str(s: String) = s\"\"\"\"${s.replace(\"\\\"\", \"\\\\\\\"\")}\"\"\"\" \n",
        "    //+\"^^<http://www.w3.org/2001/XMLSchema#string>\""
      ],
      "outputs" : [
      ]
    },
    {
      "cell_type" : "code",
      "execution_count" : 12,
      "metadata" : {
        "cell.metadata.exec_info" : {
          "startTs" : 1580806600829,
          "endTs" : 1580806600950
        },
        "language" : "scala"
      },
      "language" : "scala",
      "source" : [
        "def trip(s: String, p: String, o: String):List[(String, String, String, String)] = if(s==null || p == null || o == null ||\n",
        " s == \"\" ||  p == \"\" || o == \"\" || o==\"\\\\N\" || o.startsWith(\"\\\"\\\\N\\\"\") || s == \"\\\\N\" || s == \"\\\"\\\\N\\\"\") Nil else List((s,p,o, \"<\" + \"http://rdf.ebi.ac.uk/resource/ensembl/confidence/high\" + \"> .\"))\n",
        "def sp(taxon_id: java.lang.Integer, scientific_name: String)(p: String, o: Any) = if(taxon_id==null || o == null) Nil else {\n",
        "      trip(tax(taxon_id.toString), pref(p), o.toString)++\n",
        "        trip(pref(scientific_name),pref(p), o.toString) \n",
        "}"
      ],
      "outputs" : [
      ]
    },
    {
      "cell_type" : "code",
      "execution_count" : 13,
      "metadata" : {
        "cell.metadata.exec_info" : {
          "startTs" : 1580801432322,
          "endTs" : 1580801432674
        },
        "language" : "scala"
      },
      "language" : "scala",
      "source" : [
        "trs.writeTSV(\"/data/databases/graphdb/import/species.nt\", false)"
      ],
      "outputs" : [
        {
          "name" : "stdout",
          "text" : [
            "parts of /data/databases/graphdb/import/species.nt merged!\n"
          ],
          "output_type" : "stream"
        },
        {
          "execution_count" : 13,
          "data" : {
            "text/plain" : [
              "/data/databases/graphdb/import/species.nt"
            ]
          },
          "metadata" : {
            "name" : "Out",
            "type" : "String"
          },
          "output_type" : "execute_result"
        }
      ]
    },
    {
      "cell_type" : "markdown",
      "execution_count" : 14,
      "metadata" : {
        "cell.metadata.exec_info" : {
          "startTs" : 1579720996848,
          "endTs" : 1579720998406
        },
        "language" : "text"
      },
      "language" : "text",
      "source" : [
        "**Making a list of genes**<br>\n"
      ],
      "outputs" : [
        {
          "execution_count" : 14,
          "data" : {
            "text/plain" : [
              "162"
            ]
          },
          "metadata" : {
            "name" : "Out",
            "type" : "Long"
          },
          "output_type" : "execute_result"
        }
      ]
    },
    {
      "cell_type" : "code",
      "execution_count" : 15,
      "metadata" : {
        "cell.metadata.exec_info" : {
          "startTs" : 1580313068645,
          "endTs" : 1580313082203
        },
        "language" : "scala"
      },
      "language" : "scala",
      "source" : [
        "val gene_members = spark.readTSV(\"/data/ensembl/99/compara/dump/gene_member.txt\").toDF(\"gene_member_id\",\"stable_id\",\"version\",\"source_name\",\"taxon_id\",\"genome_db_id\",\"biotype_group\",\"canonical_member_id\",\n",
        "\"description\",\"dnafrag_id\",\"dnafrag_start\",\"dnafrag_end\",\"dnafrag_strand\",\"display_label\").select(\"stable_id\", \"display_label\", \"taxon_id\", \"biotype_group\", \"description\").distinct()\n",
        "gene_members.show(10)"
      ],
      "outputs" : [
        {
          "name" : "stdout",
          "text" : [
            "+------------------+-------------+--------+-------------+--------------------+\n",
            "|         stable_id|display_label|taxon_id|biotype_group|         description|\n",
            "+------------------+-------------+--------+-------------+--------------------+\n",
            "|ENSPPYG00000017407|           \\N|    9601|       coding|                  \\N|\n",
            "|ENSPPYG00000017632|        ELMO1|    9601|       coding|engulfment and ce...|\n",
            "|ENSPPYG00000017668|           \\N|    9601|       coding|                  \\N|\n",
            "|ENSTNIG00000015267|        OTOL1|   99883|       coding|otolin 1 [Source:...|\n",
            "|ENSTNIG00000007702|        mfsd1|   99883|       coding|major facilitator...|\n",
            "|ENSPPYG00000018066|         WEE2|    9601|       coding|WEE2 oocyte meios...|\n",
            "|ENSTNIG00000016189|      zbtb16b|   99883|       coding|zinc finger and B...|\n",
            "|ENSTNIG00000016255|   zgc:152857|   99883|       coding|zgc:152857 [Sourc...|\n",
            "|ENSPPYG00000000012|           \\N|    9601|       coding|olfactory recepto...|\n",
            "|ENSPPYG00000000045|         CNST|    9601|       coding|consortin, connex...|\n",
            "+------------------+-------------+--------+-------------+--------------------+\n",
            "only showing top 10 rows\n",
            "\n"
          ],
          "output_type" : "stream"
        }
      ]
    },
    {
      "cell_type" : "code",
      "execution_count" : 16,
      "metadata" : {
        "cell.metadata.exec_info" : {
          "startTs" : 1580796692328,
          "endTs" : 1580796692345
        },
        "language" : "scala"
      },
      "language" : "scala",
      "source" : [
        "val sm_species = species.select(\"scientific_name\", \"common_name\", \"taxon_id\", \"class\")\n",
        "val genes = gene_members.join(sm_species, \"taxon_id\").sort($\"class\", $\"scientific_name\", $\"biotype_group\", $\"stable_id\").distinct()\n",
        "genes.show()"
      ],
      "outputs" : [
        {
          "execution_count" : 16,
          "data" : {
            "application/json" : [
              {
                "pos" : {
                  "sourceId" : "Cell13",
                  "start" : 17,
                  "end" : 24,
                  "point" : 17
                },
                "msg" : "not found: value species",
                "severity" : 2
              },
              {
                "pos" : {
                  "sourceId" : "Cell13",
                  "start" : 99,
                  "end" : 111,
                  "point" : 99
                },
                "msg" : "not found: value gene_members",
                "severity" : 2
              }
            ],
            "text/plain" : [
              "Error: not found: value species (17)",
              "Error: not found: value gene_members (99)"
            ]
          },
          "metadata" : {
            "rel" : "compiler_errors"
          },
          "output_type" : "execute_result"
        }
      ]
    },
    {
      "cell_type" : "code",
      "execution_count" : 17,
      "metadata" : {
        "cell.metadata.exec_info" : {
          "startTs" : 1580313194363,
          "endTs" : 1580313246518
        },
        "language" : "scala"
      },
      "language" : "scala",
      "source" : [
        "genes.writeParquet(\"/data/ensembl/99/website/genes_lookup.parquet\", true)"
      ],
      "outputs" : [
        {
          "name" : "stdout",
          "text" : [
            "parts of /data/ensembl/99/website/genes_lookup.parquet merged!\n"
          ],
          "output_type" : "stream"
        },
        {
          "execution_count" : 17,
          "data" : {
            "text/plain" : [
              "/data/ensembl/99/website/genes_lookup.parquet"
            ]
          },
          "metadata" : {
            "name" : "Out",
            "type" : "String"
          },
          "output_type" : "execute_result"
        }
      ]
    },
    {
      "cell_type" : "code",
      "execution_count" : 18,
      "metadata" : {
        "cell.metadata.exec_info" : {
          "startTs" : 1580313306395,
          "endTs" : 1580313363527
        },
        "language" : "scala"
      },
      "language" : "scala",
      "source" : [
        "genes.writeTSV(\"/data/ensembl/99/website/genes_lookup.tsv\", true)"
      ],
      "outputs" : [
        {
          "name" : "stdout",
          "text" : [
            "parts of /data/ensembl/99/website/genes_lookup.tsv merged!\n"
          ],
          "output_type" : "stream"
        },
        {
          "execution_count" : 18,
          "data" : {
            "text/plain" : [
              "/data/ensembl/99/website/genes_lookup.tsv"
            ]
          },
          "metadata" : {
            "name" : "Out",
            "type" : "String"
          },
          "output_type" : "execute_result"
        }
      ]
    },
    {
      "cell_type" : "code",
      "execution_count" : 19,
      "metadata" : {
        "cell.metadata.exec_info" : {
          "startTs" : 1580317446290,
          "endTs" : 1580317476148
        },
        "language" : "scala"
      },
      "language" : "scala",
      "source" : [
        "genes.count()"
      ],
      "outputs" : [
        {
          "execution_count" : 19,
          "data" : {
            "text/plain" : [
              "4383816"
            ]
          },
          "metadata" : {
            "name" : "Out",
            "type" : "Long"
          },
          "output_type" : "execute_result"
        }
      ]
    }
  ]
}