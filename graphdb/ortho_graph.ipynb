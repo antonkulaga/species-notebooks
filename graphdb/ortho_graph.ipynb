{
  "metadata" : {
    "config" : {
      "dependencies" : {
        "scala" : [
          "group.research.aging:spark-extensions_2.12:0.0.8"
        ]
      },
      "exclusions" : [
      ],
      "repositories" : [
        {
          "maven" : {
            "base" : "http://central.maven.org/maven2/"
          }
        },
        {
          "maven" : {
            "base" : "http://oss.sonatype.org/content/repositories/snapshots"
          }
        },
        {
          "maven" : {
            "base" : "https://dl.bintray.com/comp-bio-aging/main/"
          }
        }
      ],
      "sparkConfig" : {
        "master" : "http://spark:7070[16]"
      }
    },
    "language_info" : {
      "name" : "scala"
    }
  },
  "nbformat" : 4,
  "nbformat_minor" : 0,
  "cells" : [
    {
      "cell_type" : "markdown",
      "execution_count" : 0,
      "metadata" : {
        "language" : "text"
      },
      "language" : "text",
      "source" : [
        "# ortho graph\n",
        "\n",
        "This is a text cell. Start editing!"
      ],
      "outputs" : [
      ]
    },
    {
      "cell_type" : "code",
      "execution_count" : 1,
      "metadata" : {
        "cell.metadata.exec_info" : {
          "startTs" : 1580649074553,
          "endTs" : 1580649074653
        },
        "language" : "scala"
      },
      "language" : "scala",
      "source" : [
        "import org.apache.spark.rdd._\n",
        "import org.apache.spark.sql._\n",
        "import org.apache.spark.sql.types.StructType\n",
        "import org.apache.spark.sql.functions._\n",
        "import group.research.aging.spark.extensions._\n",
        "import group.research.aging.spark.extensions.functions._\n",
        "import group.research.aging.spark.extensions.functions.ConcatenateString\n",
        "import group.research.aging.spark.extensions.functions.Concatenate"
      ],
      "outputs" : [
      ]
    },
    {
      "cell_type" : "code",
      "execution_count" : 2,
      "metadata" : {
        "cell.metadata.exec_info" : {
          "startTs" : 1580647073956,
          "endTs" : 1580647084697
        },
        "language" : "scala"
      },
      "language" : "scala",
      "source" : [
        "val ortho_table2 = spark.read.parquet(\"/data/ensembl/99/website/intermediates/ortho_table2.parquet\")\n",
        "ortho_table2.columns.toList"
      ],
      "outputs" : [
        {
          "execution_count" : 2,
          "data" : {
            "text/plain" : [
              "List(homology_id, gene_member_id, stable_id, taxon_id, description, is_high_confidence)"
            ]
          },
          "metadata" : {
            "name" : "Out",
            "type" : "List[String]"
          },
          "output_type" : "execute_result"
        }
      ]
    },
    {
      "cell_type" : "code",
      "execution_count" : 3,
      "metadata" : {
        "cell.metadata.exec_info" : {
          "startTs" : 1580649111341,
          "endTs" : 1580649111468
        },
        "language" : "scala"
      },
      "language" : "scala",
      "source" : [
        "val con = new Concatenate(\",\", true)"
      ],
      "outputs" : [
      ]
    },
    {
      "cell_type" : "code",
      "execution_count" : 4,
      "metadata" : {
        "cell.metadata.exec_info" : {
          "startTs" : 1580649121571,
          "endTs" : 1580649121991
        },
        "language" : "scala"
      },
      "language" : "scala",
      "source" : [
        "val ortho_short = ortho_table2.select(\"homology_id\", \"description\", \"is_high_confidence\", \"stable_id\").as[(String, String, String, String)]\n",
        "ortho_short.columns.toList"
      ],
      "outputs" : [
        {
          "execution_count" : 4,
          "data" : {
            "text/plain" : [
              "List(homology_id, description, is_high_confidence, stable_id)"
            ]
          },
          "metadata" : {
            "name" : "Out",
            "type" : "List[String]"
          },
          "output_type" : "execute_result"
        }
      ]
    },
    {
      "cell_type" : "code",
      "execution_count" : 5,
      "metadata" : {
        "cell.metadata.exec_info" : {
          "startTs" : 1580649248081,
          "endTs" : 1580649248251
        },
        "language" : "scala"
      },
      "language" : "scala",
      "source" : [
        "val ortho_relations = ortho_short.groupBy($\"homology_id\", $\"description\", $\"is_high_confidence\").agg(con($\"stable_id\").as(\"genes\"))\n",
        "ortho_relations.printSchema()"
      ],
      "outputs" : [
        {
          "name" : "stdout",
          "text" : [
            "root\n",
            " |-- homology_id: string (nullable = true)\n",
            " |-- description: string (nullable = true)\n",
            " |-- is_high_confidence: string (nullable = true)\n",
            " |-- genes: string (nullable = true)\n",
            "\n"
          ],
          "output_type" : "stream"
        }
      ]
    },
    {
      "cell_type" : "code",
      "execution_count" : 6,
      "metadata" : {
        "cell.metadata.exec_info" : {
          "startTs" : 1580649324414,
          "endTs" : 1580654087265
        },
        "language" : "scala"
      },
      "language" : "scala",
      "source" : [
        "ortho_relations.writeParquet(\"/data/ensembl/99/website/intermediates/ortho_relations.parquet\", true)"
      ],
      "outputs" : [
        {
          "name" : "stdout",
          "text" : [
            "parts of /data/ensembl/99/website/intermediates/ortho_relations.parquet merged!\n"
          ],
          "output_type" : "stream"
        },
        {
          "execution_count" : 6,
          "data" : {
            "text/plain" : [
              "/data/ensembl/99/website/intermediates/ortho_relations.parquet"
            ]
          },
          "metadata" : {
            "name" : "Out",
            "type" : "String"
          },
          "output_type" : "execute_result"
        }
      ]
    },
    {
      "cell_type" : "code",
      "execution_count" : 7,
      "metadata" : {
        "cell.metadata.exec_info" : {
          "startTs" : 1580654087278,
          "endTs" : 1580658417161
        },
        "language" : "scala"
      },
      "language" : "scala",
      "source" : [
        "ortho_relations.writeTSV(\"/data/ensembl/99/website/intermediates/ortho_relations.tsv\", header = true)"
      ],
      "outputs" : [
        {
          "name" : "stdout",
          "text" : [
            "parts of /data/ensembl/99/website/intermediates/ortho_relations.tsv merged!\n"
          ],
          "output_type" : "stream"
        },
        {
          "execution_count" : 7,
          "data" : {
            "text/plain" : [
              "/data/ensembl/99/website/intermediates/ortho_relations.tsv"
            ]
          },
          "metadata" : {
            "name" : "Out",
            "type" : "String"
          },
          "output_type" : "execute_result"
        }
      ]
    },
    {
      "cell_type" : "code",
      "execution_count" : 8,
      "metadata" : {
        "cell.metadata.exec_info" : {
          "startTs" : 1580718461603,
          "endTs" : 1580718462159
        },
        "language" : "scala"
      },
      "language" : "scala",
      "source" : [
        "val orto_relations = spark.read.parquet(\"/data/ensembl/99/website/intermediates/ortho_relations.parquet\")\n",
        "ortho_relations.columns.toList"
      ],
      "outputs" : [
        {
          "execution_count" : 8,
          "data" : {
            "text/plain" : [
              "List(homology_id, description, is_high_confidence, genes)"
            ]
          },
          "metadata" : {
            "name" : "Out",
            "type" : "List[String]"
          },
          "output_type" : "execute_result"
        }
      ]
    },
    {
      "cell_type" : "code",
      "execution_count" : 9,
      "metadata" : {
        "cell.metadata.exec_info" : {
          "startTs" : 1580718504681,
          "endTs" : 1580719517430
        },
        "language" : "scala"
      },
      "language" : "scala",
      "source" : [
        "ortho_relations.limit(10).show(10, 10000)"
      ],
      "outputs" : [
        {
          "name" : "stdout",
          "text" : [
            "+-----------+------------------+------------------+-------------------------------------+\n",
            "|homology_id|       description|is_high_confidence|                                genes|\n",
            "+-----------+------------------+------------------+-------------------------------------+\n",
            "|  100000110|ortholog_many2many|                 0|ENSSDAG00000024266,ENSGACG00000020194|\n",
            "|  100000413| ortholog_one2many|                 1|ENSPSTG00000007108,ENSATEG00000005345|\n",
            "|  100000479|  ortholog_one2one|                 1|ENSSTOG00000026618,ENSCGRG00001024961|\n",
            "|  100000517|ortholog_many2many|                 0|ENSSFAG00005026694,ENSKMAG00000003246|\n",
            "|   10000055|  ortholog_one2one|                 1|ENSONIG00000002251,ENSEBUG00000006460|\n",
            "|  100000691|  ortholog_one2one|                 0|ENSSARG00000014213,ENSCAPG00000011430|\n",
            "|   10000093| ortholog_one2many|                 1|ENSPREG00000010639,ENSSANG00000048093|\n",
            "|  100001019|ortholog_many2many|                 0|ENSNBRG00000007654,ENSSFAG00005017551|\n",
            "|  100001162|  ortholog_one2one|                 0|ENSUPAG00010002405,ENSMUGG00000020517|\n",
            "|  100001313|  ortholog_one2one|                 0|ENSSPAG00000012487,ENSCDRG00005011920|\n",
            "+-----------+------------------+------------------+-------------------------------------+\n",
            "\n"
          ],
          "output_type" : "stream"
        }
      ]
    },
    {
      "cell_type" : "code",
      "execution_count" : 10,
      "metadata" : {
        "cell.metadata.exec_info" : {
          "startTs" : 1580720815836,
          "endTs" : 1580720816191
        },
        "language" : "scala"
      },
      "language" : "scala",
      "source" : [
        "val lim10 = ortho_relations.limit(10).cache()"
      ],
      "outputs" : [
      ]
    },
    {
      "cell_type" : "code",
      "execution_count" : 11,
      "metadata" : {
        "cell.metadata.exec_info" : {
          "startTs" : 1580720821736,
          "endTs" : 1580721979946
        },
        "language" : "scala"
      },
      "language" : "scala",
      "source" : [
        "lim10.show()"
      ],
      "outputs" : [
        {
          "name" : "stdout",
          "text" : [
            "+-----------+------------------+------------------+--------------------+\n",
            "|homology_id|       description|is_high_confidence|               genes|\n",
            "+-----------+------------------+------------------+--------------------+\n",
            "|  100000110|ortholog_many2many|                 0|ENSSDAG0000002426...|\n",
            "|  100000413| ortholog_one2many|                 1|ENSPSTG0000000710...|\n",
            "|  100000479|  ortholog_one2one|                 1|ENSSTOG0000002661...|\n",
            "|  100000517|ortholog_many2many|                 0|ENSSFAG0000502669...|\n",
            "|   10000055|  ortholog_one2one|                 1|ENSONIG0000000225...|\n",
            "|  100000691|  ortholog_one2one|                 0|ENSSARG0000001421...|\n",
            "|   10000093| ortholog_one2many|                 1|ENSPREG0000001063...|\n",
            "|  100001019|ortholog_many2many|                 0|ENSNBRG0000000765...|\n",
            "|  100001162|  ortholog_one2one|                 0|ENSUPAG0001000240...|\n",
            "|  100001313|  ortholog_one2one|                 0|ENSSPAG0000001248...|\n",
            "+-----------+------------------+------------------+--------------------+\n",
            "\n"
          ],
          "output_type" : "stream"
        }
      ]
    },
    {
      "cell_type" : "code",
      "execution_count" : 12,
      "metadata" : {
        "cell.metadata.exec_info" : {
          "startTs" : 1580724619815,
          "endTs" : 1580724620173
        },
        "language" : "scala"
      },
      "language" : "scala",
      "source" : [
        "val nTriples = ortho_relations.as[(String, String, String, String)].flatMap{ case (hom, des, high, genes) =>\n",
        "val gs = genes.split(\",\").toList.combinations(2)\n",
        "val base = \"http://rdf.ebi.ac.uk/resource/ensembl/\"\n",
        "val con = base + \"confidence/\" + (if(high==\"0\") \"low\" else \"high\")\n",
        "val desc = base + des\n",
        "val res:List[(String, String, String, String)] = gs.flatMap{ case one::two::tail => \n",
        "List(\n",
        "    (\"<\"+base + one + \">\", \"<\"+desc + \">\", \"<\"+base + two + \">\", \"<\"+con + \"> .\"), (\"<\"+base + two + \">\", \"<\"+desc + \">\", \"<\"+base+one + \">\", \"<\"+con + \"> .\") )\n",
        "}.toList\n",
        "res\n",
        "}.toDF(\"subject\", \"property\", \"object\", \"context\")"
      ],
      "outputs" : [
      ]
    },
    {
      "cell_type" : "code",
      "execution_count" : 13,
      "metadata" : {
        "cell.metadata.exec_info" : {
          "startTs" : 1580724659689,
          "endTs" : 1580737243647
        },
        "language" : "scala"
      },
      "language" : "scala",
      "source" : [
        "nTriples.writeTSV(\"/data/ensembl/99/website/intermediates/ortho_relations/all_orthologs.nt\", false)"
      ],
      "outputs" : [
        {
          "name" : "stdout",
          "text" : [
            "parts of /data/ensembl/99/website/intermediates/ortho_relations/all_orthologs.nt merged!\n"
          ],
          "output_type" : "stream"
        },
        {
          "execution_count" : 13,
          "data" : {
            "text/plain" : [
              "/data/ensembl/99/website/intermediates/ortho_relations/all_orthologs.nt"
            ]
          },
          "metadata" : {
            "name" : "Out",
            "type" : "String"
          },
          "output_type" : "execute_result"
        }
      ]
    },
    {
      "cell_type" : "code",
      "execution_count" : 14,
      "metadata" : {
        "cell.metadata.exec_info" : {
          "startTs" : 1580723958524,
          "endTs" : 1580723958898
        },
        "language" : "scala"
      },
      "language" : "scala",
      "source" : [
        "val nTriples10 = lim10.as[(String, String, String, String)].flatMap{ case (hom, des, high, genes) =>\n",
        "val gs = genes.split(\",\").toList.combinations(2)\n",
        "val base = \"http://rdf.ebi.ac.uk/resource/ensembl/\"\n",
        "val con = base + \"confidence/\" + (if(high==\"0\") \"low\" else \"high\")\n",
        "val desc = base + des\n",
        "val res:List[(String, String, String, String)] = gs.flatMap{ case one::two::tail => \n",
        "List(\n",
        "    (\"<\"+base + one + \">\", \"<\"+desc + \">\", \"<\"+base + two + \">\", \"<\"+con + \"> .\"), (\"<\"+base + two + \">\", \"<\"+desc + \">\", \"<\"+base+one + \">\", \"<\"+con + \"> .\") )\n",
        "}.toList\n",
        "res\n",
        "}.toDF(\"subject\", \"property\", \"object\", \"context\")\n",
        "nTriples10.show(1000,1000)"
      ],
      "outputs" : [
        {
          "name" : "stdout",
          "text" : [
            "+----------------------------------------------------------+----------------------------------------------------------+----------------------------------------------------------+---------------------------------------------------------+\n",
            "|                                                   subject|                                                  property|                                                    object|                                                  context|\n",
            "+----------------------------------------------------------+----------------------------------------------------------+----------------------------------------------------------+---------------------------------------------------------+\n",
            "|<http://rdf.ebi.ac.uk/resource/ensembl/ENSSDAG00000024266>|<http://rdf.ebi.ac.uk/resource/ensembl/ortholog_many2many>|<http://rdf.ebi.ac.uk/resource/ensembl/ENSGACG00000020194>| <http://rdf.ebi.ac.uk/resource/ensembl/confidence/low> .|\n",
            "|<http://rdf.ebi.ac.uk/resource/ensembl/ENSGACG00000020194>|<http://rdf.ebi.ac.uk/resource/ensembl/ortholog_many2many>|<http://rdf.ebi.ac.uk/resource/ensembl/ENSSDAG00000024266>| <http://rdf.ebi.ac.uk/resource/ensembl/confidence/low> .|\n",
            "|<http://rdf.ebi.ac.uk/resource/ensembl/ENSPSTG00000007108>| <http://rdf.ebi.ac.uk/resource/ensembl/ortholog_one2many>|<http://rdf.ebi.ac.uk/resource/ensembl/ENSATEG00000005345>|<http://rdf.ebi.ac.uk/resource/ensembl/confidence/high> .|\n",
            "|<http://rdf.ebi.ac.uk/resource/ensembl/ENSATEG00000005345>| <http://rdf.ebi.ac.uk/resource/ensembl/ortholog_one2many>|<http://rdf.ebi.ac.uk/resource/ensembl/ENSPSTG00000007108>|<http://rdf.ebi.ac.uk/resource/ensembl/confidence/high> .|\n",
            "|<http://rdf.ebi.ac.uk/resource/ensembl/ENSSTOG00000026618>|  <http://rdf.ebi.ac.uk/resource/ensembl/ortholog_one2one>|<http://rdf.ebi.ac.uk/resource/ensembl/ENSCGRG00001024961>|<http://rdf.ebi.ac.uk/resource/ensembl/confidence/high> .|\n",
            "|<http://rdf.ebi.ac.uk/resource/ensembl/ENSCGRG00001024961>|  <http://rdf.ebi.ac.uk/resource/ensembl/ortholog_one2one>|<http://rdf.ebi.ac.uk/resource/ensembl/ENSSTOG00000026618>|<http://rdf.ebi.ac.uk/resource/ensembl/confidence/high> .|\n",
            "|<http://rdf.ebi.ac.uk/resource/ensembl/ENSSFAG00005026694>|<http://rdf.ebi.ac.uk/resource/ensembl/ortholog_many2many>|<http://rdf.ebi.ac.uk/resource/ensembl/ENSKMAG00000003246>| <http://rdf.ebi.ac.uk/resource/ensembl/confidence/low> .|\n",
            "|<http://rdf.ebi.ac.uk/resource/ensembl/ENSKMAG00000003246>|<http://rdf.ebi.ac.uk/resource/ensembl/ortholog_many2many>|<http://rdf.ebi.ac.uk/resource/ensembl/ENSSFAG00005026694>| <http://rdf.ebi.ac.uk/resource/ensembl/confidence/low> .|\n",
            "|<http://rdf.ebi.ac.uk/resource/ensembl/ENSONIG00000002251>|  <http://rdf.ebi.ac.uk/resource/ensembl/ortholog_one2one>|<http://rdf.ebi.ac.uk/resource/ensembl/ENSEBUG00000006460>|<http://rdf.ebi.ac.uk/resource/ensembl/confidence/high> .|\n",
            "|<http://rdf.ebi.ac.uk/resource/ensembl/ENSEBUG00000006460>|  <http://rdf.ebi.ac.uk/resource/ensembl/ortholog_one2one>|<http://rdf.ebi.ac.uk/resource/ensembl/ENSONIG00000002251>|<http://rdf.ebi.ac.uk/resource/ensembl/confidence/high> .|\n",
            "|<http://rdf.ebi.ac.uk/resource/ensembl/ENSSARG00000014213>|  <http://rdf.ebi.ac.uk/resource/ensembl/ortholog_one2one>|<http://rdf.ebi.ac.uk/resource/ensembl/ENSCAPG00000011430>| <http://rdf.ebi.ac.uk/resource/ensembl/confidence/low> .|\n",
            "|<http://rdf.ebi.ac.uk/resource/ensembl/ENSCAPG00000011430>|  <http://rdf.ebi.ac.uk/resource/ensembl/ortholog_one2one>|<http://rdf.ebi.ac.uk/resource/ensembl/ENSSARG00000014213>| <http://rdf.ebi.ac.uk/resource/ensembl/confidence/low> .|\n",
            "|<http://rdf.ebi.ac.uk/resource/ensembl/ENSPREG00000010639>| <http://rdf.ebi.ac.uk/resource/ensembl/ortholog_one2many>|<http://rdf.ebi.ac.uk/resource/ensembl/ENSSANG00000048093>|<http://rdf.ebi.ac.uk/resource/ensembl/confidence/high> .|\n",
            "|<http://rdf.ebi.ac.uk/resource/ensembl/ENSSANG00000048093>| <http://rdf.ebi.ac.uk/resource/ensembl/ortholog_one2many>|<http://rdf.ebi.ac.uk/resource/ensembl/ENSPREG00000010639>|<http://rdf.ebi.ac.uk/resource/ensembl/confidence/high> .|\n",
            "|<http://rdf.ebi.ac.uk/resource/ensembl/ENSNBRG00000007654>|<http://rdf.ebi.ac.uk/resource/ensembl/ortholog_many2many>|<http://rdf.ebi.ac.uk/resource/ensembl/ENSSFAG00005017551>| <http://rdf.ebi.ac.uk/resource/ensembl/confidence/low> .|\n",
            "|<http://rdf.ebi.ac.uk/resource/ensembl/ENSSFAG00005017551>|<http://rdf.ebi.ac.uk/resource/ensembl/ortholog_many2many>|<http://rdf.ebi.ac.uk/resource/ensembl/ENSNBRG00000007654>| <http://rdf.ebi.ac.uk/resource/ensembl/confidence/low> .|\n",
            "|<http://rdf.ebi.ac.uk/resource/ensembl/ENSUPAG00010002405>|  <http://rdf.ebi.ac.uk/resource/ensembl/ortholog_one2one>|<http://rdf.ebi.ac.uk/resource/ensembl/ENSMUGG00000020517>| <http://rdf.ebi.ac.uk/resource/ensembl/confidence/low> .|\n",
            "|<http://rdf.ebi.ac.uk/resource/ensembl/ENSMUGG00000020517>|  <http://rdf.ebi.ac.uk/resource/ensembl/ortholog_one2one>|<http://rdf.ebi.ac.uk/resource/ensembl/ENSUPAG00010002405>| <http://rdf.ebi.ac.uk/resource/ensembl/confidence/low> .|\n",
            "|<http://rdf.ebi.ac.uk/resource/ensembl/ENSSPAG00000012487>|  <http://rdf.ebi.ac.uk/resource/ensembl/ortholog_one2one>|<http://rdf.ebi.ac.uk/resource/ensembl/ENSCDRG00005011920>| <http://rdf.ebi.ac.uk/resource/ensembl/confidence/low> .|\n",
            "|<http://rdf.ebi.ac.uk/resource/ensembl/ENSCDRG00005011920>|  <http://rdf.ebi.ac.uk/resource/ensembl/ortholog_one2one>|<http://rdf.ebi.ac.uk/resource/ensembl/ENSSPAG00000012487>| <http://rdf.ebi.ac.uk/resource/ensembl/confidence/low> .|\n",
            "+----------------------------------------------------------+----------------------------------------------------------+----------------------------------------------------------+---------------------------------------------------------+\n",
            "\n"
          ],
          "output_type" : "stream"
        }
      ]
    },
    {
      "cell_type" : "code",
      "execution_count" : 15,
      "metadata" : {
        "cell.metadata.exec_info" : {
          "startTs" : 1580724117663,
          "endTs" : 1580724117912
        },
        "language" : "scala"
      },
      "language" : "scala",
      "source" : [
        "nTriples10.writeTSV(\"/data/ensembl/99/website/intermediates/ortho_relations/orthology_graph_10.nt\", false)"
      ],
      "outputs" : [
        {
          "name" : "stdout",
          "text" : [
            "parts of /data/ensembl/99/website/intermediates/ortho_relations/orthology_graph_10.nt merged!\n"
          ],
          "output_type" : "stream"
        },
        {
          "execution_count" : 15,
          "data" : {
            "text/plain" : [
              "/data/ensembl/99/website/intermediates/ortho_relations/orthology_graph_10.nt"
            ]
          },
          "metadata" : {
            "name" : "Out",
            "type" : "String"
          },
          "output_type" : "execute_result"
        }
      ]
    },
    {
      "cell_type" : "code",
      "execution_count" : 16,
      "metadata" : {
        "language" : "scala"
      },
      "language" : "scala",
      "source" : [
      ],
      "outputs" : [
      ]
    },
    {
      "cell_type" : "code",
      "execution_count" : 17,
      "metadata" : {
        "jupyter.source_hidden" : true,
        "jupyter.outputs_hidden" : true
      },
      "language" : "scala",
      "source" : [
        "val n4 = lim10.as[(String, String, String, String)].flatMap{ case (hom, des, high, genes) => \n",
        "val gs = genes.split(\",\")\n",
        "gs.nNnn\n",
        "gs.map(g=>(g, des, g))\n",
        "}\n",
        "n4.show()"
      ],
      "outputs" : [
        {
          "name" : "stdout",
          "text" : [
            "+------------------+------------------+------------------+\n",
            "|                _1|                _2|                _3|\n",
            "+------------------+------------------+------------------+\n",
            "|ENSSDAG00000024266|ortholog_many2many|ENSSDAG00000024266|\n",
            "|ENSGACG00000020194|ortholog_many2many|ENSGACG00000020194|\n",
            "|ENSPSTG00000007108| ortholog_one2many|ENSPSTG00000007108|\n",
            "|ENSATEG00000005345| ortholog_one2many|ENSATEG00000005345|\n",
            "|ENSSTOG00000026618|  ortholog_one2one|ENSSTOG00000026618|\n",
            "|ENSCGRG00001024961|  ortholog_one2one|ENSCGRG00001024961|\n",
            "|ENSSFAG00005026694|ortholog_many2many|ENSSFAG00005026694|\n",
            "|ENSKMAG00000003246|ortholog_many2many|ENSKMAG00000003246|\n",
            "|ENSONIG00000002251|  ortholog_one2one|ENSONIG00000002251|\n",
            "|ENSEBUG00000006460|  ortholog_one2one|ENSEBUG00000006460|\n",
            "|ENSSARG00000014213|  ortholog_one2one|ENSSARG00000014213|\n",
            "|ENSCAPG00000011430|  ortholog_one2one|ENSCAPG00000011430|\n",
            "|ENSPREG00000010639| ortholog_one2many|ENSPREG00000010639|\n",
            "|ENSSANG00000048093| ortholog_one2many|ENSSANG00000048093|\n",
            "|ENSNBRG00000007654|ortholog_many2many|ENSNBRG00000007654|\n",
            "|ENSSFAG00005017551|ortholog_many2many|ENSSFAG00005017551|\n",
            "|ENSUPAG00010002405|  ortholog_one2one|ENSUPAG00010002405|\n",
            "|ENSMUGG00000020517|  ortholog_one2one|ENSMUGG00000020517|\n",
            "|ENSSPAG00000012487|  ortholog_one2one|ENSSPAG00000012487|\n",
            "|ENSCDRG00005011920|  ortholog_one2one|ENSCDRG00005011920|\n",
            "+------------------+------------------+------------------+\n",
            "\n"
          ],
          "output_type" : "stream"
        }
      ]
    },
    {
      "cell_type" : "code",
      "execution_count" : 18,
      "metadata" : {
        "language" : "scala"
      },
      "language" : "scala",
      "source" : [
        "\"http://rdf.ebi.ac.uk/resource/ensembl/\""
      ],
      "outputs" : [
      ]
    }
  ]
}