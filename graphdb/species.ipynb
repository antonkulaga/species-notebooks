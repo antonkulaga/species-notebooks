{
  "metadata" : {
    "config" : {
      "dependencies" : {
        "scala" : [
          "group.research.aging:spark-extensions_2.12:0.1.0"
        ]
      },
      "exclusions" : [
      ],
      "repositories" : [
        {
          "maven" : {
            "base" : "http://central.maven.org/maven2/"
          }
        },
        {
          "maven" : {
            "base" : "http://oss.sonatype.org/content/repositories/snapshots"
          }
        },
        {
          "maven" : {
            "base" : "https://dl.bintray.com/comp-bio-aging/main/"
          }
        }
      ],
      "sparkConfig" : {
        "master" : "http://spark:7070[28]"
      },
      "env" : {
        
      }
    },
    "language_info" : {
      "name" : "scala"
    }
  },
  "nbformat" : 4,
  "nbformat_minor" : 0,
  "cells" : [
    {
      "cell_type" : "markdown",
      "execution_count" : 0,
      "metadata" : {
        "language" : "text"
      },
      "language" : "text",
      "source" : [
        "# species\n",
        "\n",
        "This is a text cell. Start editing!"
      ],
      "outputs" : [
      ]
    },
    {
      "cell_type" : "code",
      "execution_count" : 1,
      "metadata" : {
        "cell.metadata.exec_info" : {
          "startTs" : 1605810497738,
          "endTs" : 1605810587667
        },
        "language" : "scala"
      },
      "language" : "scala",
      "source" : [
        "import org.apache.spark.rdd._\n",
        "import org.apache.spark.sql._\n",
        "import org.apache.spark.sql.types.StructType\n",
        "import org.apache.spark.sql.functions._\n",
        "import group.research.aging.spark.extensions._\n",
        "import group.research.aging.spark.extensions.functions._\n",
        "import group.research.aging.spark.extensions.functions.ConcatenateString\n",
        "import group.research.aging.spark.extensions.functions.Concatenate\n",
        "import ammonite.ops._\n",
        "import ammonite.ops.ImplicitWd._"
      ],
      "outputs" : [
      ]
    },
    {
      "cell_type" : "code",
      "execution_count" : 2,
      "metadata" : {
        "cell.metadata.exec_info" : {
          "startTs" : 1605810593522
        },
        "language" : "scala"
      },
      "language" : "scala",
      "source" : [
        "val species = spark.read.parquet(\"/data/ensembl/99/website/species_lookup.parquet\").na.fill(\"\")\n",
        "val species_n = species.select(species.columns.head,species.columns.tail.toList.dropRight(9):_*).as[(String, String, String, String, String, String, String, String, \n",
        "java.lang.Double, java.lang.Double,java.lang.Double, java.lang.Double, java.lang.Double, java.lang.Double, java.lang.Double, java.lang.Double, \n",
        "java.lang.Double, java.lang.Double,java.lang.Double, java.lang.Double, java.lang.Double, java.lang.Double)]\n",
        "\n",
        "species_n.where($\"class\" === \"Mammalia\").show(10,10000)"
      ],
      "outputs" : [
      ]
    },
    {
      "cell_type" : "code",
      "execution_count" : 3,
      "metadata" : {
        "cell.metadata.exec_info" : {
          "startTs" : 1591822197561,
          "endTs" : 1591822198207
        },
        "language" : "scala"
      },
      "language" : "scala",
      "source" : [
        "val prefix = \"http://aging-research.group/resource/\"\n",
        "val prefix_ensembl = \"http://rdf.ebi.ac.uk/resource/ensembl/\"\n",
        "val prefix_samples = \"http://aging-research.group/samples/\"\n",
        "def samp(str: String) = \"<\" +prefix_samples +str.replace(\" \", \"_\")+\">\"\n",
        "def pref(str: String) = \"<\" +prefix +str.replace(\" \", \"_\")+\">\" \n",
        "def ens(str: String) =  \"<\" +prefix_ensembl +str.replace(\" \", \"_\")+\">\"\n",
        "def tax(str: String) = ens(\"taxon#\"+str)\n",
        "def str(s: String) = if(s==null) \"\" else s\"\"\"\"${s.replace(\"\\\"\", \"\\\\\\\"\")}\"\"\"\""
      ],
      "outputs" : [
      ]
    },
    {
      "cell_type" : "code",
      "execution_count" : 4,
      "metadata" : {
        "cell.metadata.exec_info" : {
          "startTs" : 1591823241845,
          "endTs" : 1591823242130
        },
        "language" : "scala"
      },
      "language" : "scala",
      "source" : [
        "def trip(s: String, p: String, o: String):List[(String, String, String, String)] = if(s==null || p == null || o == null ||\n",
        " s == \"\" ||  p == \"\" || o == \"\" || o==\"\\\\N\" || o.startsWith(\"\\\"\\\\N\\\"\") || s == \"\\\\N\" || s == \"\\\"\\\\N\\\"\") Nil else List((s,p,o, \"<\" + \"http://rdf.ebi.ac.uk/resource/ensembl/confidence/high\" + \"> .\"))\n",
        "def trip_sp(s: String, p: String, o: Any):List[(String, String, String, String)] = {\n",
        "  if(o == null) Nil else  trip(pref(s),pref(p), o.toString) \n",
        "}\n",
        "/*\n",
        "def sp(taxon_id: java.lang.Integer, scientific_name: String)(p: String, o: Any) = if(taxon_id==null || o == null) Nil else {\n",
        "      trip(tax(taxon_id.toString), pref(p), o.toString)++\n",
        "        trip(pref(scientific_name),pref(p), o.toString) \n",
        "}*/"
      ],
      "outputs" : [
      ]
    },
    {
      "cell_type" : "markdown",
      "execution_count" : 5,
      "metadata" : {
        "language" : "text"
      },
      "language" : "text",
      "source" : [
        "## Load species\n",
        "\n"
      ],
      "outputs" : [
      ]
    },
    {
      "cell_type" : "code",
      "execution_count" : 6,
      "metadata" : {
        "cell.metadata.exec_info" : {
          "startTs" : 1591823292648,
          "endTs" : 1591823293625
        },
        "language" : "scala"
      },
      "language" : "scala",
      "source" : [
        "val species = spark.read.parquet(\"/data/ensembl/99/website/species_lookup.parquet\").na.fill(\"\")\n",
        "val species_n = species.select(species.columns.head,species.columns.tail.toList.dropRight(9):_*).as[(String, String, String, String, String, String, String, String, \n",
        "java.lang.Double, java.lang.Double,java.lang.Double, java.lang.Double, java.lang.Double, java.lang.Double, java.lang.Double, java.lang.Double, \n",
        "java.lang.Double, java.lang.Double,java.lang.Double, java.lang.Double, java.lang.Double, java.lang.Double)]\n",
        "\n",
        "species_n.where($\"class\" === \"Mammalia\").show(10,10000)"
      ],
      "outputs" : [
        {
          "name" : "stdout",
          "text" : [
            "+--------+--------+------------+--------------+------------+-------------+-------------------------+-----------------------+----------------+-----------+--------------+-----------+------------------+--------------+--------------------+------------------+-------+-----------+----------------+--------------------+--------------+----------------+\n",
            "|  phylum|   class|       order|        family|       genus|      species|          scientific_name|            common_name|maximum_lifespan|body_mass_g|metabolic_rate|temperature|temperature_kelvin|gestation_days|female_maturity_days|male_maturity_days|weaning|litter_size|litters_per_year|inter_birth_interval|birth_weight_g|weaning_weight_g|\n",
            "+--------+--------+------------+--------------+------------+-------------+-------------------------+-----------------------+----------------+-----------+--------------+-----------+------------------+--------------+--------------------+------------------+-------+-----------+----------------+--------------------+--------------+----------------+\n",
            "|Chordata|Mammalia|Afrosoricida|    Tenrecidae|    Echinops|     telfairi|        Echinops_telfairi| Lesser hedgehog tenrec|            19.0|      116.4|          0.75|      581.0|            307.85|            55|                 365|               365|     29|        6.0|             1.0|                null|          7.67|            50.0|\n",
            "|Chordata|Mammalia|Afrosoricida|    Tenrecidae|     Geogale|       aurita|           Geogale_aurita|     Large-eared tenrec|            null|        6.9|         0.043|      577.1|            303.95|            63|                null|              null|     37|        3.9|             2.0|                null|           0.7|            null|\n",
            "|Chordata|Mammalia|Afrosoricida|    Tenrecidae|Hemicentetes| semispinosus|Hemicentetes_semispinosus|        Streaked tenrec|             2.7|      116.4|          0.38|      581.3|            308.15|            59|                  35|              null|     21|        4.0|             2.0|                null|          11.5|            null|\n",
            "|Chordata|Mammalia|Afrosoricida|    Tenrecidae|   Microgale|      dobsoni|        Microgale_dobsoni|  Dobson's shrew tenrec|             5.6|       44.6|         0.315|      577.2|            304.05|            61|                 669|               669|     29|       2.67|            null|                null|          3.95|            null|\n",
            "|Chordata|Mammalia|Afrosoricida|    Tenrecidae|   Microgale|     talazaci|       Microgale_talazaci| Talazac's shrew tenrec|             5.8|       44.0|         0.243|      577.1|            303.95|            61|                 639|               639|     29|        2.0|            null|                null|           3.6|            null|\n",
            "|Chordata|Mammalia|Afrosoricida|    Tenrecidae|     Setifer|      setosus|          Setifer_setosus|Greater hedgehog tenrec|            14.1|      427.6|         0.573|      578.5|            305.35|            54|                 198|               258|     24|        3.0|             1.0|                null|          24.7|            null|\n",
            "|Chordata|Mammalia|Afrosoricida|    Tenrecidae|      Tenrec|    ecaudatus|         Tenrec_ecaudatus|                 Tenrec|             8.7|      650.0|         0.729|      579.3|            306.15|            58|                 182|              null|     27|       18.0|             1.5|                null|          21.0|           225.0|\n",
            "|Chordata|Mammalia|Artiodactyla|Antilocapridae| Antilocapra|    americana|    Antilocapra_americana|              Pronghorn|            15.5|    34779.3|        50.973|      584.3|            311.15|           235|                 547|               547|     91|        2.0|             1.0|                 365|        3000.0|          8900.0|\n",
            "|Chordata|Mammalia|Artiodactyla|       Bovidae|       Addax|nasomaculatus|      Addax_nasomaculatus|                  Addax|            28.0|       null|          null|       null|              null|           282|                1065|              null|    198|        1.0|             1.0|                 355|        5600.0|            null|\n",
            "|Chordata|Mammalia|Artiodactyla|       Bovidae|   Aepyceros|     melampus|       Aepyceros_melampus|                 Impala|            25.6|       null|          null|       null|              null|           198|                 456|               395|    167|        1.0|             1.0|                 365|        5550.0|         15900.0|\n",
            "+--------+--------+------------+--------------+------------+-------------+-------------------------+-----------------------+----------------+-----------+--------------+-----------+------------------+--------------+--------------------+------------------+-------+-----------+----------------+--------------------+--------------+----------------+\n",
            "only showing top 10 rows\n",
            "\n"
          ],
          "output_type" : "stream"
        }
      ]
    },
    {
      "cell_type" : "code",
      "execution_count" : 7,
      "metadata" : {
        "cell.metadata.exec_info" : {
          "startTs" : 1591844334406,
          "endTs" : 1591844335007
        },
        "language" : "scala"
      },
      "language" : "scala",
      "source" : [
        "val trs = species_n.flatMap{\n",
        "    case (phylum, animal_class, order, family,   genus, species, scientific_name, common_name, maximum_lifespan, \n",
        "    body_mass_g, metabolic_rate, _,  temperature_kelvin, \n",
        "    gestation_days, female_maturity_days, male_maturity_days, weaning, litter_size, litters_per_year, \n",
        "    inter_birth_interval, birth_weight_g, weaning_weight_g) =>\n",
        "        //trip(pref(scientific_name),pref(\"has_taxon\"), tax(taxon_id.toString))++\n",
        "        trip_sp(scientific_name,\"has_common_name\", str(common_name))++\n",
        "        trip_sp(scientific_name,\"has_lifespan\", maximum_lifespan)++\n",
        "        trip_sp(scientific_name,\"has_temperature\", Some(temperature_kelvin).map(t=>if(t>274 && !t.isInfinite && !t.isNaN) t - 273.15 else null).getOrElse(null) )++        \n",
        "        trip_sp(scientific_name,\"has_temperature_kelvin\", temperature_kelvin)++\n",
        "        trip_sp(scientific_name,\"has_mass_g\", body_mass_g) ++\n",
        "        trip_sp(scientific_name,\"has_metabolic_rate\", metabolic_rate) ++\n",
        "        trip_sp(scientific_name,\"is_animal_class\", ens(animal_class)) ++\n",
        "        trip_sp(scientific_name,\"of_order\", ens(order)) ++\n",
        "        trip_sp(scientific_name,\"of_family\", ens(family)) ++        \n",
        "        trip_sp(scientific_name,\"has_gestation_days\", gestation_days)++\n",
        "        trip_sp(scientific_name,\"has_female_maturity_days\", female_maturity_days)++ \n",
        "        trip_sp(scientific_name,\"has_male_maturity_days\", male_maturity_days)++\n",
        "        trip_sp(scientific_name,\"has_weaning\", weaning)++\n",
        "        trip_sp(scientific_name,\"has_litter_size\", litter_size)++ \n",
        "        trip_sp(scientific_name,\"has_litters_per_year\", litters_per_year)++ \n",
        "        trip_sp(scientific_name,\"has_inter_birth_interval\", inter_birth_interval)++ \n",
        "        trip_sp(scientific_name,\"has_birth_weight_g\", birth_weight_g)++\n",
        "        trip_sp(scientific_name,\"weaning_weight_g\", weaning_weight_g)++\n",
        "        Nil\n",
        "}.toDF(\"subject\", \"property\", \"object\", \"context\")\n",
        "trs.show(100,1000)"
      ],
      "outputs" : [
        {
          "name" : "stdout",
          "text" : [
            "+--------------------------------------------------------------+---------------------------------------------------------------+------------------------------------------------------+---------------------------------------------------------+\n",
            "|                                                       subject|                                                       property|                                                object|                                                  context|\n",
            "+--------------------------------------------------------------+---------------------------------------------------------------+------------------------------------------------------+---------------------------------------------------------+\n",
            "|      <http://aging-research.group/resource/Daphnia_pulicaria>|         <http://aging-research.group/resource/has_common_name>|                                             \"Daphnia\"|<http://rdf.ebi.ac.uk/resource/ensembl/confidence/high> .|\n",
            "|      <http://aging-research.group/resource/Daphnia_pulicaria>|            <http://aging-research.group/resource/has_lifespan>|                                                  0.19|<http://rdf.ebi.ac.uk/resource/ensembl/confidence/high> .|\n",
            "|      <http://aging-research.group/resource/Daphnia_pulicaria>|         <http://aging-research.group/resource/is_animal_class>|  <http://rdf.ebi.ac.uk/resource/ensembl/Branchiopoda>|<http://rdf.ebi.ac.uk/resource/ensembl/confidence/high> .|\n",
            "|      <http://aging-research.group/resource/Daphnia_pulicaria>|                <http://aging-research.group/resource/of_order>|   <http://rdf.ebi.ac.uk/resource/ensembl/Diplostraca>|<http://rdf.ebi.ac.uk/resource/ensembl/confidence/high> .|\n",
            "|      <http://aging-research.group/resource/Daphnia_pulicaria>|               <http://aging-research.group/resource/of_family>|    <http://rdf.ebi.ac.uk/resource/ensembl/Daphniidae>|<http://rdf.ebi.ac.uk/resource/ensembl/confidence/high> .|\n",
            "|<http://aging-research.group/resource/Drosophila_melanogaster>|         <http://aging-research.group/resource/has_common_name>|                                           \"Fruit fly\"|<http://rdf.ebi.ac.uk/resource/ensembl/confidence/high> .|\n",
            "|<http://aging-research.group/resource/Drosophila_melanogaster>|            <http://aging-research.group/resource/has_lifespan>|                                                   0.3|<http://rdf.ebi.ac.uk/resource/ensembl/confidence/high> .|\n",
            "|<http://aging-research.group/resource/Drosophila_melanogaster>|         <http://aging-research.group/resource/is_animal_class>|       <http://rdf.ebi.ac.uk/resource/ensembl/Insecta>|<http://rdf.ebi.ac.uk/resource/ensembl/confidence/high> .|\n",
            "|<http://aging-research.group/resource/Drosophila_melanogaster>|                <http://aging-research.group/resource/of_order>|       <http://rdf.ebi.ac.uk/resource/ensembl/Diptera>|<http://rdf.ebi.ac.uk/resource/ensembl/confidence/high> .|\n",
            "|<http://aging-research.group/resource/Drosophila_melanogaster>|               <http://aging-research.group/resource/of_family>| <http://rdf.ebi.ac.uk/resource/ensembl/Drosophilidae>|<http://rdf.ebi.ac.uk/resource/ensembl/confidence/high> .|\n",
            "|<http://aging-research.group/resource/Drosophila_melanogaster>|<http://aging-research.group/resource/has_female_maturity_days>|                                                   7.0|<http://rdf.ebi.ac.uk/resource/ensembl/confidence/high> .|\n",
            "|<http://aging-research.group/resource/Drosophila_melanogaster>|  <http://aging-research.group/resource/has_male_maturity_days>|                                                   7.0|<http://rdf.ebi.ac.uk/resource/ensembl/confidence/high> .|\n",
            "|         <http://aging-research.group/resource/Apis_mellifera>|         <http://aging-research.group/resource/has_common_name>|                                           \"Honey bee\"|<http://rdf.ebi.ac.uk/resource/ensembl/confidence/high> .|\n",
            "|         <http://aging-research.group/resource/Apis_mellifera>|            <http://aging-research.group/resource/has_lifespan>|                                                   8.0|<http://rdf.ebi.ac.uk/resource/ensembl/confidence/high> .|\n",
            "|         <http://aging-research.group/resource/Apis_mellifera>|         <http://aging-research.group/resource/is_animal_class>|       <http://rdf.ebi.ac.uk/resource/ensembl/Insecta>|<http://rdf.ebi.ac.uk/resource/ensembl/confidence/high> .|\n",
            "|         <http://aging-research.group/resource/Apis_mellifera>|                <http://aging-research.group/resource/of_order>|   <http://rdf.ebi.ac.uk/resource/ensembl/Hymenoptera>|<http://rdf.ebi.ac.uk/resource/ensembl/confidence/high> .|\n",
            "|         <http://aging-research.group/resource/Apis_mellifera>|               <http://aging-research.group/resource/of_family>|        <http://rdf.ebi.ac.uk/resource/ensembl/Apidae>|<http://rdf.ebi.ac.uk/resource/ensembl/confidence/high> .|\n",
            "|<http://aging-research.group/resource/Cardiocondyla_obscurior>|         <http://aging-research.group/resource/has_common_name>|                             \"Cardiocondyla obscurior\"|<http://rdf.ebi.ac.uk/resource/ensembl/confidence/high> .|\n",
            "|<http://aging-research.group/resource/Cardiocondyla_obscurior>|            <http://aging-research.group/resource/has_lifespan>|                                                   0.5|<http://rdf.ebi.ac.uk/resource/ensembl/confidence/high> .|\n",
            "|<http://aging-research.group/resource/Cardiocondyla_obscurior>|         <http://aging-research.group/resource/is_animal_class>|       <http://rdf.ebi.ac.uk/resource/ensembl/Insecta>|<http://rdf.ebi.ac.uk/resource/ensembl/confidence/high> .|\n",
            "|<http://aging-research.group/resource/Cardiocondyla_obscurior>|                <http://aging-research.group/resource/of_order>|   <http://rdf.ebi.ac.uk/resource/ensembl/Hymenoptera>|<http://rdf.ebi.ac.uk/resource/ensembl/confidence/high> .|\n",
            "|<http://aging-research.group/resource/Cardiocondyla_obscurior>|               <http://aging-research.group/resource/of_family>|    <http://rdf.ebi.ac.uk/resource/ensembl/Formicidae>|<http://rdf.ebi.ac.uk/resource/ensembl/confidence/high> .|\n",
            "|           <http://aging-research.group/resource/Lasius_niger>|         <http://aging-research.group/resource/has_common_name>|                                    \"Black garden ant\"|<http://rdf.ebi.ac.uk/resource/ensembl/confidence/high> .|\n",
            "|           <http://aging-research.group/resource/Lasius_niger>|            <http://aging-research.group/resource/has_lifespan>|                                                  28.0|<http://rdf.ebi.ac.uk/resource/ensembl/confidence/high> .|\n",
            "|           <http://aging-research.group/resource/Lasius_niger>|         <http://aging-research.group/resource/is_animal_class>|       <http://rdf.ebi.ac.uk/resource/ensembl/Insecta>|<http://rdf.ebi.ac.uk/resource/ensembl/confidence/high> .|\n",
            "|           <http://aging-research.group/resource/Lasius_niger>|                <http://aging-research.group/resource/of_order>|   <http://rdf.ebi.ac.uk/resource/ensembl/Hymenoptera>|<http://rdf.ebi.ac.uk/resource/ensembl/confidence/high> .|\n",
            "|           <http://aging-research.group/resource/Lasius_niger>|               <http://aging-research.group/resource/of_family>|    <http://rdf.ebi.ac.uk/resource/ensembl/Formicidae>|<http://rdf.ebi.ac.uk/resource/ensembl/confidence/high> .|\n",
            "|       <http://aging-research.group/resource/Pheidole_dentata>|         <http://aging-research.group/resource/has_common_name>|                                    \"Pheidole dentata\"|<http://rdf.ebi.ac.uk/resource/ensembl/confidence/high> .|\n",
            "|       <http://aging-research.group/resource/Pheidole_dentata>|            <http://aging-research.group/resource/has_lifespan>|                                                   0.4|<http://rdf.ebi.ac.uk/resource/ensembl/confidence/high> .|\n",
            "|       <http://aging-research.group/resource/Pheidole_dentata>|         <http://aging-research.group/resource/is_animal_class>|       <http://rdf.ebi.ac.uk/resource/ensembl/Insecta>|<http://rdf.ebi.ac.uk/resource/ensembl/confidence/high> .|\n",
            "|       <http://aging-research.group/resource/Pheidole_dentata>|                <http://aging-research.group/resource/of_order>|   <http://rdf.ebi.ac.uk/resource/ensembl/Hymenoptera>|<http://rdf.ebi.ac.uk/resource/ensembl/confidence/high> .|\n",
            "|       <http://aging-research.group/resource/Pheidole_dentata>|               <http://aging-research.group/resource/of_family>|    <http://rdf.ebi.ac.uk/resource/ensembl/Formicidae>|<http://rdf.ebi.ac.uk/resource/ensembl/confidence/high> .|\n",
            "|       <http://aging-research.group/resource/Bicyclus_anynana>|         <http://aging-research.group/resource/has_common_name>|                                \"Squinting bush brown\"|<http://rdf.ebi.ac.uk/resource/ensembl/confidence/high> .|\n",
            "|       <http://aging-research.group/resource/Bicyclus_anynana>|            <http://aging-research.group/resource/has_lifespan>|                                                   0.5|<http://rdf.ebi.ac.uk/resource/ensembl/confidence/high> .|\n",
            "|       <http://aging-research.group/resource/Bicyclus_anynana>|         <http://aging-research.group/resource/is_animal_class>|       <http://rdf.ebi.ac.uk/resource/ensembl/Insecta>|<http://rdf.ebi.ac.uk/resource/ensembl/confidence/high> .|\n",
            "|       <http://aging-research.group/resource/Bicyclus_anynana>|                <http://aging-research.group/resource/of_order>|   <http://rdf.ebi.ac.uk/resource/ensembl/Lepidoptera>|<http://rdf.ebi.ac.uk/resource/ensembl/confidence/high> .|\n",
            "|       <http://aging-research.group/resource/Bicyclus_anynana>|               <http://aging-research.group/resource/of_family>|   <http://rdf.ebi.ac.uk/resource/ensembl/Nymphalidae>|<http://rdf.ebi.ac.uk/resource/ensembl/confidence/high> .|\n",
            "|       <http://aging-research.group/resource/Bicyclus_anynana>|<http://aging-research.group/resource/has_female_maturity_days>|                                                  15.0|<http://rdf.ebi.ac.uk/resource/ensembl/confidence/high> .|\n",
            "|       <http://aging-research.group/resource/Bicyclus_anynana>|  <http://aging-research.group/resource/has_male_maturity_days>|                                                  15.0|<http://rdf.ebi.ac.uk/resource/ensembl/confidence/high> .|\n",
            "|     <http://aging-research.group/resource/Homarus_americanus>|         <http://aging-research.group/resource/has_common_name>|                                    \"American lobster\"|<http://rdf.ebi.ac.uk/resource/ensembl/confidence/high> .|\n",
            "|     <http://aging-research.group/resource/Homarus_americanus>|            <http://aging-research.group/resource/has_lifespan>|                                                 100.0|<http://rdf.ebi.ac.uk/resource/ensembl/confidence/high> .|\n",
            "|     <http://aging-research.group/resource/Homarus_americanus>|         <http://aging-research.group/resource/is_animal_class>|  <http://rdf.ebi.ac.uk/resource/ensembl/Malacostraca>|<http://rdf.ebi.ac.uk/resource/ensembl/confidence/high> .|\n",
            "|     <http://aging-research.group/resource/Homarus_americanus>|                <http://aging-research.group/resource/of_order>|      <http://rdf.ebi.ac.uk/resource/ensembl/Decapoda>|<http://rdf.ebi.ac.uk/resource/ensembl/confidence/high> .|\n",
            "|     <http://aging-research.group/resource/Homarus_americanus>|               <http://aging-research.group/resource/of_family>|   <http://rdf.ebi.ac.uk/resource/ensembl/Nephropidae>|<http://rdf.ebi.ac.uk/resource/ensembl/confidence/high> .|\n",
            "|        <http://aging-research.group/resource/Bombina_bombina>|         <http://aging-research.group/resource/has_common_name>|                                      \"Firebelly toad\"|<http://rdf.ebi.ac.uk/resource/ensembl/confidence/high> .|\n",
            "|        <http://aging-research.group/resource/Bombina_bombina>|            <http://aging-research.group/resource/has_lifespan>|                                                  20.0|<http://rdf.ebi.ac.uk/resource/ensembl/confidence/high> .|\n",
            "|        <http://aging-research.group/resource/Bombina_bombina>|         <http://aging-research.group/resource/is_animal_class>|      <http://rdf.ebi.ac.uk/resource/ensembl/Amphibia>|<http://rdf.ebi.ac.uk/resource/ensembl/confidence/high> .|\n",
            "|        <http://aging-research.group/resource/Bombina_bombina>|                <http://aging-research.group/resource/of_order>|         <http://rdf.ebi.ac.uk/resource/ensembl/Anura>|<http://rdf.ebi.ac.uk/resource/ensembl/confidence/high> .|\n",
            "|        <http://aging-research.group/resource/Bombina_bombina>|               <http://aging-research.group/resource/of_family>|<http://rdf.ebi.ac.uk/resource/ensembl/Bombinatoridae>|<http://rdf.ebi.ac.uk/resource/ensembl/confidence/high> .|\n",
            "|        <http://aging-research.group/resource/Bombina_bombina>|<http://aging-research.group/resource/has_female_maturity_days>|                                                1095.0|<http://rdf.ebi.ac.uk/resource/ensembl/confidence/high> .|\n",
            "|        <http://aging-research.group/resource/Bombina_bombina>|  <http://aging-research.group/resource/has_male_maturity_days>|                                                1095.0|<http://rdf.ebi.ac.uk/resource/ensembl/confidence/high> .|\n",
            "|        <http://aging-research.group/resource/Bombina_bombina>|         <http://aging-research.group/resource/has_litter_size>|                                                 190.0|<http://rdf.ebi.ac.uk/resource/ensembl/confidence/high> .|\n",
            "|     <http://aging-research.group/resource/Bombina_orientalis>|         <http://aging-research.group/resource/has_common_name>|                             \"Oriental firebelly toad\"|<http://rdf.ebi.ac.uk/resource/ensembl/confidence/high> .|\n",
            "|     <http://aging-research.group/resource/Bombina_orientalis>|            <http://aging-research.group/resource/has_lifespan>|                                                  15.8|<http://rdf.ebi.ac.uk/resource/ensembl/confidence/high> .|\n",
            "|     <http://aging-research.group/resource/Bombina_orientalis>|         <http://aging-research.group/resource/is_animal_class>|      <http://rdf.ebi.ac.uk/resource/ensembl/Amphibia>|<http://rdf.ebi.ac.uk/resource/ensembl/confidence/high> .|\n",
            "|     <http://aging-research.group/resource/Bombina_orientalis>|                <http://aging-research.group/resource/of_order>|         <http://rdf.ebi.ac.uk/resource/ensembl/Anura>|<http://rdf.ebi.ac.uk/resource/ensembl/confidence/high> .|\n",
            "|     <http://aging-research.group/resource/Bombina_orientalis>|               <http://aging-research.group/resource/of_family>|<http://rdf.ebi.ac.uk/resource/ensembl/Bombinatoridae>|<http://rdf.ebi.ac.uk/resource/ensembl/confidence/high> .|\n",
            "|     <http://aging-research.group/resource/Bombina_orientalis>|         <http://aging-research.group/resource/has_litter_size>|                                                 148.0|<http://rdf.ebi.ac.uk/resource/ensembl/confidence/high> .|\n",
            "|      <http://aging-research.group/resource/Bombina_variegata>|         <http://aging-research.group/resource/has_common_name>|                                 \"Yellow-bellied toad\"|<http://rdf.ebi.ac.uk/resource/ensembl/confidence/high> .|\n",
            "|      <http://aging-research.group/resource/Bombina_variegata>|            <http://aging-research.group/resource/has_lifespan>|                                                  29.0|<http://rdf.ebi.ac.uk/resource/ensembl/confidence/high> .|\n",
            "|      <http://aging-research.group/resource/Bombina_variegata>|         <http://aging-research.group/resource/is_animal_class>|      <http://rdf.ebi.ac.uk/resource/ensembl/Amphibia>|<http://rdf.ebi.ac.uk/resource/ensembl/confidence/high> .|\n",
            "|      <http://aging-research.group/resource/Bombina_variegata>|                <http://aging-research.group/resource/of_order>|         <http://rdf.ebi.ac.uk/resource/ensembl/Anura>|<http://rdf.ebi.ac.uk/resource/ensembl/confidence/high> .|\n",
            "|      <http://aging-research.group/resource/Bombina_variegata>|               <http://aging-research.group/resource/of_family>|<http://rdf.ebi.ac.uk/resource/ensembl/Bombinatoridae>|<http://rdf.ebi.ac.uk/resource/ensembl/confidence/high> .|\n",
            "|      <http://aging-research.group/resource/Bombina_variegata>|         <http://aging-research.group/resource/has_litter_size>|                                                  73.0|<http://rdf.ebi.ac.uk/resource/ensembl/confidence/high> .|\n",
            "|    <http://aging-research.group/resource/Anaxyrus_americanus>|         <http://aging-research.group/resource/has_common_name>|                                       \"American toad\"|<http://rdf.ebi.ac.uk/resource/ensembl/confidence/high> .|\n",
            "|    <http://aging-research.group/resource/Anaxyrus_americanus>|            <http://aging-research.group/resource/has_lifespan>|                                                  36.0|<http://rdf.ebi.ac.uk/resource/ensembl/confidence/high> .|\n",
            "|    <http://aging-research.group/resource/Anaxyrus_americanus>|         <http://aging-research.group/resource/has_temperature>|                                    14.850000000000023|<http://rdf.ebi.ac.uk/resource/ensembl/confidence/high> .|\n",
            "|    <http://aging-research.group/resource/Anaxyrus_americanus>|  <http://aging-research.group/resource/has_temperature_kelvin>|                                                 288.0|<http://rdf.ebi.ac.uk/resource/ensembl/confidence/high> .|\n",
            "|    <http://aging-research.group/resource/Anaxyrus_americanus>|              <http://aging-research.group/resource/has_mass_g>|                                                  21.6|<http://rdf.ebi.ac.uk/resource/ensembl/confidence/high> .|\n",
            "|    <http://aging-research.group/resource/Anaxyrus_americanus>|      <http://aging-research.group/resource/has_metabolic_rate>|                                               0.00829|<http://rdf.ebi.ac.uk/resource/ensembl/confidence/high> .|\n",
            "|    <http://aging-research.group/resource/Anaxyrus_americanus>|         <http://aging-research.group/resource/is_animal_class>|      <http://rdf.ebi.ac.uk/resource/ensembl/Amphibia>|<http://rdf.ebi.ac.uk/resource/ensembl/confidence/high> .|\n",
            "|    <http://aging-research.group/resource/Anaxyrus_americanus>|                <http://aging-research.group/resource/of_order>|         <http://rdf.ebi.ac.uk/resource/ensembl/Anura>|<http://rdf.ebi.ac.uk/resource/ensembl/confidence/high> .|\n",
            "|    <http://aging-research.group/resource/Anaxyrus_americanus>|               <http://aging-research.group/resource/of_family>|     <http://rdf.ebi.ac.uk/resource/ensembl/Bufonidae>|<http://rdf.ebi.ac.uk/resource/ensembl/confidence/high> .|\n",
            "|    <http://aging-research.group/resource/Anaxyrus_americanus>|      <http://aging-research.group/resource/has_gestation_days>|                                                   8.0|<http://rdf.ebi.ac.uk/resource/ensembl/confidence/high> .|\n",
            "|    <http://aging-research.group/resource/Anaxyrus_americanus>|<http://aging-research.group/resource/has_female_maturity_days>|                                                 910.0|<http://rdf.ebi.ac.uk/resource/ensembl/confidence/high> .|\n",
            "|    <http://aging-research.group/resource/Anaxyrus_americanus>|  <http://aging-research.group/resource/has_male_maturity_days>|                                                 910.0|<http://rdf.ebi.ac.uk/resource/ensembl/confidence/high> .|\n",
            "|    <http://aging-research.group/resource/Anaxyrus_americanus>|         <http://aging-research.group/resource/has_litter_size>|                                                6000.0|<http://rdf.ebi.ac.uk/resource/ensembl/confidence/high> .|\n",
            "|    <http://aging-research.group/resource/Anaxyrus_americanus>|<http://aging-research.group/resource/has_inter_birth_interval>|                                                 365.0|<http://rdf.ebi.ac.uk/resource/ensembl/confidence/high> .|\n",
            "|        <http://aging-research.group/resource/Anaxyrus_boreas>|         <http://aging-research.group/resource/has_common_name>|                                        \"Western toad\"|<http://rdf.ebi.ac.uk/resource/ensembl/confidence/high> .|\n",
            "|        <http://aging-research.group/resource/Anaxyrus_boreas>|            <http://aging-research.group/resource/has_lifespan>|                                                  11.5|<http://rdf.ebi.ac.uk/resource/ensembl/confidence/high> .|\n",
            "|        <http://aging-research.group/resource/Anaxyrus_boreas>|         <http://aging-research.group/resource/is_animal_class>|      <http://rdf.ebi.ac.uk/resource/ensembl/Amphibia>|<http://rdf.ebi.ac.uk/resource/ensembl/confidence/high> .|\n",
            "|        <http://aging-research.group/resource/Anaxyrus_boreas>|                <http://aging-research.group/resource/of_order>|         <http://rdf.ebi.ac.uk/resource/ensembl/Anura>|<http://rdf.ebi.ac.uk/resource/ensembl/confidence/high> .|\n",
            "|        <http://aging-research.group/resource/Anaxyrus_boreas>|               <http://aging-research.group/resource/of_family>|     <http://rdf.ebi.ac.uk/resource/ensembl/Bufonidae>|<http://rdf.ebi.ac.uk/resource/ensembl/confidence/high> .|\n",
            "|        <http://aging-research.group/resource/Anaxyrus_boreas>|      <http://aging-research.group/resource/has_gestation_days>|                                                   6.0|<http://rdf.ebi.ac.uk/resource/ensembl/confidence/high> .|\n",
            "|        <http://aging-research.group/resource/Anaxyrus_boreas>|<http://aging-research.group/resource/has_female_maturity_days>|                                                1095.0|<http://rdf.ebi.ac.uk/resource/ensembl/confidence/high> .|\n",
            "|        <http://aging-research.group/resource/Anaxyrus_boreas>|  <http://aging-research.group/resource/has_male_maturity_days>|                                                1095.0|<http://rdf.ebi.ac.uk/resource/ensembl/confidence/high> .|\n",
            "|        <http://aging-research.group/resource/Anaxyrus_boreas>|         <http://aging-research.group/resource/has_litter_size>|                                                5200.0|<http://rdf.ebi.ac.uk/resource/ensembl/confidence/high> .|\n",
            "|       <http://aging-research.group/resource/Anaxyrus_canorus>|         <http://aging-research.group/resource/has_common_name>|                                       \"Yosemite toad\"|<http://rdf.ebi.ac.uk/resource/ensembl/confidence/high> .|\n",
            "|       <http://aging-research.group/resource/Anaxyrus_canorus>|            <http://aging-research.group/resource/has_lifespan>|                                                  15.0|<http://rdf.ebi.ac.uk/resource/ensembl/confidence/high> .|\n",
            "|       <http://aging-research.group/resource/Anaxyrus_canorus>|         <http://aging-research.group/resource/is_animal_class>|      <http://rdf.ebi.ac.uk/resource/ensembl/Amphibia>|<http://rdf.ebi.ac.uk/resource/ensembl/confidence/high> .|\n",
            "|       <http://aging-research.group/resource/Anaxyrus_canorus>|                <http://aging-research.group/resource/of_order>|         <http://rdf.ebi.ac.uk/resource/ensembl/Anura>|<http://rdf.ebi.ac.uk/resource/ensembl/confidence/high> .|\n",
            "|       <http://aging-research.group/resource/Anaxyrus_canorus>|               <http://aging-research.group/resource/of_family>|     <http://rdf.ebi.ac.uk/resource/ensembl/Bufonidae>|<http://rdf.ebi.ac.uk/resource/ensembl/confidence/high> .|\n",
            "|       <http://aging-research.group/resource/Anaxyrus_canorus>|      <http://aging-research.group/resource/has_gestation_days>|                                                  11.0|<http://rdf.ebi.ac.uk/resource/ensembl/confidence/high> .|\n",
            "|       <http://aging-research.group/resource/Anaxyrus_canorus>|<http://aging-research.group/resource/has_female_maturity_days>|                                                1825.0|<http://rdf.ebi.ac.uk/resource/ensembl/confidence/high> .|\n",
            "|       <http://aging-research.group/resource/Anaxyrus_canorus>|  <http://aging-research.group/resource/has_male_maturity_days>|                                                1460.0|<http://rdf.ebi.ac.uk/resource/ensembl/confidence/high> .|\n",
            "|       <http://aging-research.group/resource/Anaxyrus_canorus>|         <http://aging-research.group/resource/has_litter_size>|                                                1750.0|<http://rdf.ebi.ac.uk/resource/ensembl/confidence/high> .|\n",
            "|      <http://aging-research.group/resource/Anaxyrus_cognatus>|         <http://aging-research.group/resource/has_common_name>|                                   \"Great plains toad\"|<http://rdf.ebi.ac.uk/resource/ensembl/confidence/high> .|\n",
            "|      <http://aging-research.group/resource/Anaxyrus_cognatus>|            <http://aging-research.group/resource/has_lifespan>|                                                  10.7|<http://rdf.ebi.ac.uk/resource/ensembl/confidence/high> .|\n",
            "|      <http://aging-research.group/resource/Anaxyrus_cognatus>|         <http://aging-research.group/resource/is_animal_class>|      <http://rdf.ebi.ac.uk/resource/ensembl/Amphibia>|<http://rdf.ebi.ac.uk/resource/ensembl/confidence/high> .|\n",
            "|      <http://aging-research.group/resource/Anaxyrus_cognatus>|                <http://aging-research.group/resource/of_order>|         <http://rdf.ebi.ac.uk/resource/ensembl/Anura>|<http://rdf.ebi.ac.uk/resource/ensembl/confidence/high> .|\n",
            "+--------------------------------------------------------------+---------------------------------------------------------------+------------------------------------------------------+---------------------------------------------------------+\n",
            "only showing top 100 rows\n",
            "\n"
          ],
          "output_type" : "stream"
        }
      ]
    },
    {
      "cell_type" : "code",
      "execution_count" : 8,
      "metadata" : {
        "cell.metadata.exec_info" : {
          "startTs" : 1591844362887,
          "endTs" : 1591844363617
        },
        "language" : "scala"
      },
      "language" : "scala",
      "source" : [
        "trs.writeTSV(\"/data/databases/graphdb/import/species_up.nq\", false)"
      ],
      "outputs" : [
        {
          "name" : "stdout",
          "text" : [
            "parts of /data/databases/graphdb/import/species_up.nq merged!\n"
          ],
          "output_type" : "stream"
        },
        {
          "execution_count" : 8,
          "data" : {
            "text/plain" : [
              "/data/databases/graphdb/import/species_up.nq"
            ]
          },
          "metadata" : {
            "name" : "Out",
            "type" : "String"
          },
          "output_type" : "execute_result"
        }
      ]
    }
  ]
}