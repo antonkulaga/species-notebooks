{
  "metadata" : {
    "config" : {
      "dependencies" : {
        "scala" : [
          "group.research.aging:spark-extensions_2.12:0.1.0",
          "com.github.pathikrit:better-files_2.12:3.9.1",
          "org.bdgenomics.adam:adam-core-spark2_2.12:0.32.0"
        ]
      },
      "exclusions" : [
      ],
      "repositories" : [
        {
          "maven" : {
            "base" : "http://central.maven.org/maven2/"
          }
        },
        {
          "maven" : {
            "base" : "http://oss.sonatype.org/content/repositories/snapshots"
          }
        },
        {
          "maven" : {
            "base" : "https://dl.bintray.com/comp-bio-aging/main/"
          }
        }
      ],
      "sparkConfig" : {
        "master" : "http://spark:7070[*]"
      },
      "env" : {
        
      }
    },
    "language_info" : {
      "name" : "scala"
    }
  },
  "nbformat" : 4,
  "nbformat_minor" : 0,
  "cells" : [
    {
      "cell_type" : "markdown",
      "execution_count" : 0,
      "metadata" : {
        "language" : "text"
      },
      "language" : "text",
      "source" : [
        "# Transcripts<br>\n",
        "\n",
        "\n",
        "This notebook is devoted to saving expressions to GRAPHDB<br>\n",
        "\n",
        "\n"
      ],
      "outputs" : [
      ]
    },
    {
      "cell_type" : "code",
      "execution_count" : 1,
      "metadata" : {
        "cell.metadata.exec_info" : {
          "startTs" : 1597422976285,
          "endTs" : 1597422976872
        },
        "language" : "scala"
      },
      "language" : "scala",
      "source" : [
        "import org.apache.spark.rdd._\n",
        "import org.apache.spark.sql._\n",
        "import org.apache.spark.sql.types.StructType\n",
        "import org.apache.spark.sql.functions._\n",
        "import group.research.aging.spark.extensions._\n",
        "import group.research.aging.spark.extensions.functions._\n",
        "import group.research.aging.spark.extensions.functions.ConcatenateString\n",
        "import group.research.aging.spark.extensions.functions.Concatenate\n",
        "import ammonite.ops._\n",
        "import ammonite.ops.ImplicitWd._"
      ],
      "outputs" : [
      ]
    },
    {
      "cell_type" : "code",
      "execution_count" : 2,
      "metadata" : {
        "cell.metadata.exec_info" : {
          "startTs" : 1597422976919,
          "endTs" : 1597422977165
        },
        "language" : "scala"
      },
      "language" : "scala",
      "source" : [
        "import better.files._\n",
        "import File._\n",
        "import java.io.{File => JFile}"
      ],
      "outputs" : [
      ]
    },
    {
      "cell_type" : "markdown",
      "execution_count" : 3,
      "metadata" : {
        "language" : "text"
      },
      "language" : "text",
      "source" : [
        "RDF"
      ],
      "outputs" : [
      ]
    },
    {
      "cell_type" : "code",
      "execution_count" : 4,
      "metadata" : {
        "cell.metadata.exec_info" : {
          "startTs" : 1597422977171,
          "endTs" : 1597422977675
        },
        "language" : "scala"
      },
      "language" : "scala",
      "source" : [
        "val prefix = \"http://aging-research.group/resource/\"\n",
        "val prefix_ensembl = \"http://rdf.ebi.ac.uk/resource/ensembl/\"\n",
        "val prefix_samples = \"http://aging-research.group/samples/\"\n",
        "def samp(str: String) = \"<\" +prefix_samples +str.replace(\" \", \"_\")+\">\"\n",
        "def pref(str: String) = \"<\" +prefix +str.replace(\" \", \"_\")+\">\" \n",
        "def ens(str: String) =  \"<\" +prefix_ensembl +str.replace(\" \", \"_\")+\">\"\n",
        "def tax(str: String) = ens(\"taxon#\"+str)\n",
        "def str(s: String) = if(s==null) \"\" else s\"\"\"\"${s.replace(\"\\\"\", \"\\\\\\\"\")}\"\"\"\""
      ],
      "outputs" : [
      ]
    },
    {
      "cell_type" : "code",
      "execution_count" : 5,
      "metadata" : {
        "cell.metadata.exec_info" : {
          "startTs" : 1597422977736,
          "endTs" : 1597422977992
        },
        "language" : "scala"
      },
      "language" : "scala",
      "source" : [
        "def pre(prefix: String, str: String) = \n",
        "    if(prefix.startsWith(\"xsd:\")) s\"\"\"\"$str\"^^$prefix\"\"\"\" else\n",
        "    if(prefix.contains(\"http\")) \"<\" + prefix + str + \">\" else     \n",
        "    prefix + str//sequence_memberssequence_membersse"
      ],
      "outputs" : [
      ]
    },
    {
      "cell_type" : "code",
      "execution_count" : 6,
      "metadata" : {
        "cell.metadata.exec_info" : {
          "startTs" : 1597422977998,
          "endTs" : 1597422980137
        },
        "language" : "scala"
      },
      "language" : "scala",
      "source" : [
        "def u_uri(pref: String) = udf[String, String]{ str => pref + str.replace(\" \", \"_\")}\n",
        "val u_string = udf[String, String]{ str => \"\\\"\" + str.replace(\"\\n\", \"\\\\n\").replace(\"\\\\\", \"\\\\\\\\\").replace(\"\\\"\", \"\\\\\\\"\") +  \"\\\"\" +\"^^<http://www.w3.org/2001/XMLSchema#string>\" }\n",
        "val u_double = udf[String, String]{ str => \"\\\"\" + str +  \"\\\"\" +\"^^<http://www.w3.org/2001/XMLSchema#double>\" }\n",
        "val u_integer= udf[String, String]{ str => \"\\\"\" + str +  \"\\\"\" +\"^^<http://www.w3.org/2001/XMLSchema#integer>\" }\n",
        "val u_ens = udf[String, String] { str => s\"<http://rdf.ebi.ac.uk/resource/ensembl/${str.replace(\" \", \"_\")}>\" }\n",
        "val u_base = udf[String, String] { str => s\"<http://aging-research.group/resource/${str.replace(\" \", \"_\")}>\" }"
      ],
      "outputs" : [
      ]
    },
    {
      "cell_type" : "markdown",
      "execution_count" : 7,
      "metadata" : {
        "language" : "text"
      },
      "language" : "text",
      "source" : [
        "## Load transcript maps\n",
        "\n",
        "\n"
      ],
      "outputs" : [
      ]
    },
    {
      "cell_type" : "code",
      "execution_count" : 8,
      "metadata" : {
        "cell.metadata.exec_info" : {
          "startTs" : 1597422980145,
          "endTs" : 1597423002327
        },
        "language" : "scala"
      },
      "language" : "scala",
      "source" : [
        "//val anage = spark.readTSV(\"/data/databases/anage/anage_data.tsv\", header = true).withColumn(\"scientific_name\", concat($\"Genus\", lit(\" \"), $\"Species\"))\n",
        "//anage.show()\n",
        "//val anage_animals = spark.readTSV(\"/data/ensembl/99/view_animals_anage.tsv\", header = true).withColumnRenamed(\"latin_name\", \"scientific_name\")\n",
        "//anage_animals.show(10,10000)\n",
        "val species = spark.readTSV(\"/data/ensembl/99/ensembl_anage_vertebrates.tsv\", header = true).withColumnRenamed(\"latin_name\", \"scientific_name\")\n",
        "species.show(10,10000)"
      ],
      "outputs" : [
        {
          "name" : "stdout",
          "text" : [
            "+--------------------+--------------------------------+-----------+-----------+------------------+-----------------------+-----+-----+------+-------+----------------+-----------+--------------+-----------+--------------+--------------------+------------------+-------+-----------+----------------+--------------------+--------------+----------------+--------------+-----------+\n",
            "|         common_name|                 scientific_name|taxonomy_id|   assembly|assembly_accession|              genebuild|class|order|family|species|maximum_lifespan|body_mass_g|metabolic_rate|temperature|gestation_days|female_maturity_days|male_maturity_days|weaning|litter_size|litters_per_year|inter_birth_interval|birth_weight_g|weaning_weight_g|adult_weight_g|growth_rate|\n",
            "+--------------------+--------------------------------+-----------+-----------+------------------+-----------------------+-----+-----+------+-------+----------------+-----------+--------------+-----------+--------------+--------------------+------------------+-------+-----------+----------------+--------------------+--------------+----------------+--------------+-----------+\n",
            "|       Spiny chromis|     Acanthochromis_polyacanthus|      80966|ASM210954v1|   GCA_002109545.1|2018-05-Ensembl/2018-07| null| null|  null|   null|            null|       null|          null|       null|          null|                null|              null|   null|       null|            null|                null|          null|            null|          null|       null|\n",
            "|Yellow-billed parrot|                Amazona_collaria|     241587|ASM394721v1|   GCA_003947215.1|2019-07-Ensembl/2019-09| null| null|  null|   null|            null|       null|          null|       null|          null|                null|              null|   null|       null|            null|                null|          null|            null|          null|       null|\n",
            "|       Midas cichlid|         Amphilophus_citrinellus|      61819|   Midas_v5|   GCA_000751415.1|2018-05-Ensembl/2018-07| null| null|  null|   null|            null|       null|          null|       null|          null|                null|              null|   null|       null|            null|                null|          null|            null|          null|       null|\n",
            "|   Clown anemonefish|            Amphiprion_ocellaris|      80972|  AmpOce1.0|   GCA_002776465.1|2018-05-Ensembl/2018-07| null| null|  null|   null|            null|       null|          null|       null|          null|                null|              null|   null|       null|            null|                null|          null|            null|          null|       null|\n",
            "|    Orange clownfish|              Amphiprion_percula|     161767|    Nemo_v1|   GCA_003047355.1|2018-05-Ensembl/2018-07| null| null|  null|   null|            null|       null|          null|       null|          null|                null|              null|   null|       null|            null|                null|          null|            null|          null|       null|\n",
            "|                Duck|Anas_platyrhynchos_platyrhynchos|       8840|CAU_duck1.0|   GCA_002743455.1|2018-10-Ensembl/2018-12| null| null|  null|   null|            null|       null|          null|       null|          null|                null|              null|   null|       null|            null|                null|          null|            null|          null|       null|\n",
            "|          Swan goose|                 Anser_cygnoides|       8845|  GooseV1.0|   GCA_002166845.1|2019-02-Ensembl/2019-09| null| null|  null|   null|            null|       null|          null|       null|          null|                null|              null|   null|       null|            null|                null|          null|            null|          null|       null|\n",
            "|   Ma's night monkey|                 Aotus_nancymaae|      37293|   Anan_2.0|   GCA_000952055.2|2017-08-Ensembl/2018-01| null| null|  null|   null|            null|       null|          null|       null|          null|                null|              null|   null|       null|            null|                null|          null|            null|          null|       null|\n",
            "|  Great spotted kiwi|                 Apteryx_haastii|       8823|    aptHaa1|   GCA_003342985.1|2018-12-Ensembl/2018-12| null| null|  null|   null|            null|       null|          null|       null|          null|                null|              null|   null|       null|            null|                null|          null|            null|          null|       null|\n",
            "| Little spotted kiwi|                  Apteryx_owenii|       8824|    aptOwe1|   GCA_003342965.1|2018-10-Ensembl/2018-12| null| null|  null|   null|            null|       null|          null|       null|          null|                null|              null|   null|       null|            null|                null|          null|            null|          null|       null|\n",
            "+--------------------+--------------------------------+-----------+-----------+------------------+-----------------------+-----+-----+------+-------+----------------+-----------+--------------+-----------+--------------+--------------------+------------------+-------+-----------+----------------+--------------------+--------------+----------------+--------------+-----------+\n",
            "only showing top 10 rows\n",
            "\n"
          ],
          "output_type" : "stream"
        }
      ]
    },
    {
      "cell_type" : "code",
      "execution_count" : 9,
      "metadata" : {
        "cell.metadata.exec_info" : {
          "startTs" : 1597423382272,
          "endTs" : 1597423466709
        },
        "language" : "scala"
      },
      "language" : "scala",
      "source" : [
        "val path = File(\"/data/ensembl/99/species\")\n",
        "val tx2gene = (\n",
        "  for(fl <- path.children.flatMap(_.children\n",
        "    .filter(c=>c.name.endsWith(\".gtf\")&& !c.name.contains(\"abinitio\")&& !c.name.contains(\"hapl_scaff\")))\n",
        "    ) yield fl.parent.name.capitalize -> spark.readTSV(fl.pathAsString.replace(\".gtf\", \"_tx2gene.tsv\")).toDF(\"transcript\", \"gene\")\n",
        "  ).toMap[String, DataFrame]\n",
        "\n",
        "val h = tx2gene.head\n",
        "println(h._1)\n",
        "h._2.show(10,1000)"
      ],
      "outputs" : [
        {
          "name" : "stdout",
          "text" : [
            "Otolemur_garnettii\n",
            "+------------------+------------------+\n",
            "|        transcript|              gene|\n",
            "+------------------+------------------+\n",
            "|ENSOGAT00000012158|ENSOGAG00000012155|\n",
            "|ENSOGAT00000031338|ENSOGAG00000033509|\n",
            "|ENSOGAT00000026645|ENSOGAG00000030153|\n",
            "|ENSOGAT00000031633|ENSOGAG00000034131|\n",
            "|ENSOGAT00000030922|ENSOGAG00000033908|\n",
            "|ENSOGAT00000015494|ENSOGAG00000015488|\n",
            "|ENSOGAT00000030131|ENSOGAG00000029906|\n",
            "|ENSOGAT00000004627|ENSOGAG00000004624|\n",
            "|ENSOGAT00000031760|ENSOGAG00000029208|\n",
            "|ENSOGAT00000029851|ENSOGAG00000032266|\n",
            "+------------------+------------------+\n",
            "only showing top 10 rows\n",
            "\n"
          ],
          "output_type" : "stream"
        }
      ]
    },
    {
      "cell_type" : "code",
      "execution_count" : 10,
      "metadata" : {
        "cell.metadata.exec_info" : {
          "startTs" : 1597423466715,
          "endTs" : 1597423467089
        },
        "language" : "scala"
      },
      "language" : "scala",
      "source" : [
        "def tx2quad(df: DataFrame, species: String): DataFrame = {\n",
        "    df\n",
        "      .withColumn(\"subject\", u_ens($\"gene\"))\n",
        "      .withColumn(\"property\", u_base(lit((\"has_transcript\"))))\n",
        "      .withColumn(\"object\", u_ens($\"transcript\"))      \n",
        "      .withColumn(\"context\", lit(\"<http://aging-research.group/samples/> .\"))\n",
        "      .select(\"subject\", \"property\", \"object\", \"context\")\n",
        "}\n",
        "def tx2quad(tp: (String, DataFrame)): DataFrame = tx2quad(tp._2, tp._1)\n",
        "\n",
        "tx2quad(h).show(10, 1000)"
      ],
      "outputs" : [
        {
          "name" : "stdout",
          "text" : [
            "+----------------------------------------------------------+-----------------------------------------------------+----------------------------------------------------------+----------------------------------------+\n",
            "|                                                   subject|                                             property|                                                    object|                                 context|\n",
            "+----------------------------------------------------------+-----------------------------------------------------+----------------------------------------------------------+----------------------------------------+\n",
            "|<http://rdf.ebi.ac.uk/resource/ensembl/ENSOGAG00000012155>|<http://aging-research.group/resource/has_transcript>|<http://rdf.ebi.ac.uk/resource/ensembl/ENSOGAT00000012158>|<http://aging-research.group/samples/> .|\n",
            "|<http://rdf.ebi.ac.uk/resource/ensembl/ENSOGAG00000033509>|<http://aging-research.group/resource/has_transcript>|<http://rdf.ebi.ac.uk/resource/ensembl/ENSOGAT00000031338>|<http://aging-research.group/samples/> .|\n",
            "|<http://rdf.ebi.ac.uk/resource/ensembl/ENSOGAG00000030153>|<http://aging-research.group/resource/has_transcript>|<http://rdf.ebi.ac.uk/resource/ensembl/ENSOGAT00000026645>|<http://aging-research.group/samples/> .|\n",
            "|<http://rdf.ebi.ac.uk/resource/ensembl/ENSOGAG00000034131>|<http://aging-research.group/resource/has_transcript>|<http://rdf.ebi.ac.uk/resource/ensembl/ENSOGAT00000031633>|<http://aging-research.group/samples/> .|\n",
            "|<http://rdf.ebi.ac.uk/resource/ensembl/ENSOGAG00000033908>|<http://aging-research.group/resource/has_transcript>|<http://rdf.ebi.ac.uk/resource/ensembl/ENSOGAT00000030922>|<http://aging-research.group/samples/> .|\n",
            "|<http://rdf.ebi.ac.uk/resource/ensembl/ENSOGAG00000015488>|<http://aging-research.group/resource/has_transcript>|<http://rdf.ebi.ac.uk/resource/ensembl/ENSOGAT00000015494>|<http://aging-research.group/samples/> .|\n",
            "|<http://rdf.ebi.ac.uk/resource/ensembl/ENSOGAG00000029906>|<http://aging-research.group/resource/has_transcript>|<http://rdf.ebi.ac.uk/resource/ensembl/ENSOGAT00000030131>|<http://aging-research.group/samples/> .|\n",
            "|<http://rdf.ebi.ac.uk/resource/ensembl/ENSOGAG00000004624>|<http://aging-research.group/resource/has_transcript>|<http://rdf.ebi.ac.uk/resource/ensembl/ENSOGAT00000004627>|<http://aging-research.group/samples/> .|\n",
            "|<http://rdf.ebi.ac.uk/resource/ensembl/ENSOGAG00000029208>|<http://aging-research.group/resource/has_transcript>|<http://rdf.ebi.ac.uk/resource/ensembl/ENSOGAT00000031760>|<http://aging-research.group/samples/> .|\n",
            "|<http://rdf.ebi.ac.uk/resource/ensembl/ENSOGAG00000032266>|<http://aging-research.group/resource/has_transcript>|<http://rdf.ebi.ac.uk/resource/ensembl/ENSOGAT00000029851>|<http://aging-research.group/samples/> .|\n",
            "+----------------------------------------------------------+-----------------------------------------------------+----------------------------------------------------------+----------------------------------------+\n",
            "only showing top 10 rows\n",
            "\n"
          ],
          "output_type" : "stream"
        }
      ]
    },
    {
      "cell_type" : "markdown",
      "execution_count" : 11,
      "metadata" : {
        "language" : "text"
      },
      "language" : "text",
      "source" : [
        "# Expressions\n",
        "\n"
      ],
      "outputs" : [
      ]
    },
    {
      "cell_type" : "code",
      "execution_count" : 12,
      "metadata" : {
        "cell.metadata.exec_info" : {
          "startTs" : 1597435467916,
          "endTs" : 1597435468150
        },
        "language" : "scala"
      },
      "language" : "scala",
      "source" : [
        "import org.apache.spark.sql._\n",
        "\n",
        "val cont = \"<\" + prefix_samples + \"> .\"\n",
        "def sam(str: String) = s\"<${prefix_samples}${str}>\"\n",
        "def num(n: Double) =  \"\\\"\" + n.toString +  \"\\\"\" +\"^^<http://www.w3.org/2001/XMLSchema#double>\"\n"
      ],
      "outputs" : [
      ]
    },
    {
      "cell_type" : "code",
      "execution_count" : 13,
      "metadata" : {
        "cell.metadata.exec_info" : {
          "startTs" : 1597435469077,
          "endTs" : 1597435470025
        },
        "language" : "scala"
      },
      "language" : "scala",
      "source" : [
        "val samples = spark.readTSV(\"/data/samples/species/samples_index.tsv\", header=true).na.fill(\"N/A\")\n",
        "  .where($\"index\" =!= \"N/A\")\n",
        "  .where($\"library_strategy\" === \"RNA-Seq\")\n",
        "  .sort($\"organism\".desc, $\"library_layout\")\n",
        "samples.show(10, 10000)"
      ],
      "outputs" : [
        {
          "name" : "stdout",
          "text" : [
            "+-----------+-----------+----------+----------------------+-----+------------+-------------------+----------------+--------------+-----------------+---------+---------------------------------------------------------------------------------------------------+----------------------------------------------------------------------------------------------------------------------------------------------------------------------------------------------------------------------------------------------------------------------------------------------------------------------------------------------------------------------------------------------------------------------------------------------------------------------------------------------------------------------------------------------------------------------------------------------------+------+----------------+----+-----+--------+--------------+--------------------------------------------+-----------------------------------------------------------------------------------------------------------+-----------------------------------------------------------------------------------------------------------------+---------------------------------------------------------------------------------------------+--------------+-------+-------------+---------------------------+\n",
            "| bioproject|     series|       run|              organism|taxid| sample_name|          sequencer|library_strategy|library_layout|library_selection|    study|                                                                                        study_title|                                                                                                                                                                                                                                                                                                                                                                                                                                                                                                                                                                                     characteristics|source|             age| sex|tumor|protocol|salmon_version|                                       index|                                                                                                      genes|                                                                                                      transcripts|                                                                                        quant|percent_mapped|libType|numBootstraps|                   modified|\n",
            "+-----------+-----------+----------+----------------------+-----+------------+-------------------+----------------+--------------+-----------------+---------+---------------------------------------------------------------------------------------------------+----------------------------------------------------------------------------------------------------------------------------------------------------------------------------------------------------------------------------------------------------------------------------------------------------------------------------------------------------------------------------------------------------------------------------------------------------------------------------------------------------------------------------------------------------------------------------------------------------+------+----------------+----+-----+--------+--------------+--------------------------------------------+-----------------------------------------------------------------------------------------------------------+-----------------------------------------------------------------------------------------------------------------+---------------------------------------------------------------------------------------------+--------------+-------+-------------+---------------------------+\n",
            "|PRJNA217789|PRJNA217789| SRR960570|Zonotrichia albicollis|44394|      10-308|Illumina HiSeq 2000|         RNA-Seq|        SINGLE|             cDNA|SRP029385|                                            Zonotrichia albicollis Transcriptome or Gene expression|                                                                                                                                                                                                                                                                                                                                                                                                                                                                                     'Tumor:no;strain:tan;age:adult;sex:male;isolate_label:1;collection_date:21-Apr-2010;tissue_type:brain;'Sex:male|   N/A|           adult|male|   no|     N/A|         1.1.0|     Zonotrichia_albicollis-1.0.1_ensembl_99|  /data/samples/species/PRJNA217789/SRX342288/SRR960570/PRJNA217789_SRX342288_SRR960570_genes_abundance.tsv|  /data/samples/species/PRJNA217789/SRX342288/SRR960570/PRJNA217789_SRX342288_SRR960570_transcripts_abundance.tsv|  /data/samples/species/PRJNA217789/SRX342288/SRR960570/quant_PRJNA217789_SRX342288_SRR960570|           N/A|      A|           96|2020-02-29T07:17:40.624410Z|\n",
            "|PRJNA231930|PRJNA231930|SRR1200896|Zonotrichia albicollis|44394|       WS719|Illumina HiSeq 1000|         RNA-Seq|        SINGLE|            PolyA|SRP040426|The Brain Transcriptome of the White-throated Sparrow, a Vertebrate Model of Inversion Polymorphism|                                                                                                                                                                                                                                                                                                'Tumor:no;sample_type:tissue;genotype:ZAL2/2m, 3a/3a;geo_loc_name:USA: DeKalb County, GA;capture_date:06-Nov-2006;photostimulation_date:09-Jul-2007;age:adult hatch-year;sex:male;common name:White-throated sparrow;phenotype:white-striped;collection_date:19-Aug-2007;tissue_type:brain;'Sex:male|   N/A|adult hatch-year|male|   no|     N/A|         1.1.0|     Zonotrichia_albicollis-1.0.1_ensembl_99|/data/samples/species/PRJNA231930/SRX497634/SRR1200896/PRJNA231930_SRX497634_SRR1200896_genes_abundance.tsv|/data/samples/species/PRJNA231930/SRX497634/SRR1200896/PRJNA231930_SRX497634_SRR1200896_transcripts_abundance.tsv|/data/samples/species/PRJNA231930/SRX497634/SRR1200896/quant_PRJNA231930_SRX497634_SRR1200896|           N/A|      A|           96|2020-02-29T07:32:53.289513Z|\n",
            "|PRJNA217789|PRJNA217789| SRR960573|Zonotrichia albicollis|44394|      10-124|Illumina HiSeq 2000|         RNA-Seq|        SINGLE|             cDNA|SRP029385|                                            Zonotrichia albicollis Transcriptome or Gene expression|                                                                                                                                                                                                                                                                                                                                                                                                                                                                                     'Tumor:no;strain:tan;age:adult;sex:male;isolate_label:5;collection_date:29-Apr-2010;tissue_type:brain;'Sex:male|   N/A|           adult|male|   no|     N/A|         1.1.0|     Zonotrichia_albicollis-1.0.1_ensembl_99|  /data/samples/species/PRJNA217789/SRX342292/SRR960573/PRJNA217789_SRX342292_SRR960573_genes_abundance.tsv|  /data/samples/species/PRJNA217789/SRX342292/SRR960573/PRJNA217789_SRX342292_SRR960573_transcripts_abundance.tsv|  /data/samples/species/PRJNA217789/SRX342292/SRR960573/quant_PRJNA217789_SRX342292_SRR960573|           N/A|      A|           96|2020-02-29T06:07:22.729866Z|\n",
            "|PRJNA217789|PRJNA217789| SRR960568|Zonotrichia albicollis|44394|      10-118|Illumina HiSeq 2000|         RNA-Seq|        SINGLE|             cDNA|SRP029385|                                            Zonotrichia albicollis Transcriptome or Gene expression|                                                                                                                                                                                                                                                                                                                                                                                                                                                                                     'Tumor:no;strain:tan;age:adult;sex:male;isolate_label:6;collection_date:28-Apr-2010;tissue_type:brain;'Sex:male|   N/A|           adult|male|   no|     N/A|         1.1.0|     Zonotrichia_albicollis-1.0.1_ensembl_99|  /data/samples/species/PRJNA217789/SRX342293/SRR960568/PRJNA217789_SRX342293_SRR960568_genes_abundance.tsv|  /data/samples/species/PRJNA217789/SRX342293/SRR960568/PRJNA217789_SRX342293_SRR960568_transcripts_abundance.tsv|  /data/samples/species/PRJNA217789/SRX342293/SRR960568/quant_PRJNA217789_SRX342293_SRR960568|           N/A|      A|          128|2020-02-20T15:04:01.137630Z|\n",
            "|PRJNA217789|PRJNA217789| SRR960571|Zonotrichia albicollis|44394|      10-092|Illumina HiSeq 2000|         RNA-Seq|        SINGLE|             cDNA|SRP029385|                                            Zonotrichia albicollis Transcriptome or Gene expression|                                                                                                                                                                                                                                                                                                                                                                                                                                                                                   'Tumor:no;strain:white;age:adult;sex:male;isolate_label:3;collection_date:24-Apr-2010;tissue_type:brain;'Sex:male|   N/A|           adult|male|   no|     N/A|         1.1.0|     Zonotrichia_albicollis-1.0.1_ensembl_99|  /data/samples/species/PRJNA217789/SRX342290/SRR960571/PRJNA217789_SRX342290_SRR960571_genes_abundance.tsv|  /data/samples/species/PRJNA217789/SRX342290/SRR960571/PRJNA217789_SRX342290_SRR960571_transcripts_abundance.tsv|  /data/samples/species/PRJNA217789/SRX342290/SRR960571/quant_PRJNA217789_SRX342290_SRR960571|           N/A|      A|          128|2020-02-19T19:21:10.394064Z|\n",
            "|PRJNA231930|PRJNA231930|SRR1200897|Zonotrichia albicollis|44394|       WS955|Illumina HiSeq 1000|         RNA-Seq|        SINGLE|            PolyA|SRP040426|The Brain Transcriptome of the White-throated Sparrow, a Vertebrate Model of Inversion Polymorphism|                                                                                                                                                                                                                                                                                               'Tumor:no;sample_type:tissue;genotype:ZAL2/2m, 3a/3a;geo_loc_name:USA: Hancock County, GA;capture_date:07-Dec-2009;photostimulation_date:08-Feb-2010;age:adult hatch-year;sex:male;common name:White-throated sparrow;phenotype:white-striped;collection_date:18-Mar-2010;tissue_type:brain;'Sex:male|   N/A|adult hatch-year|male|   no|     N/A|         1.1.0|     Zonotrichia_albicollis-1.0.1_ensembl_99|/data/samples/species/PRJNA231930/SRX497602/SRR1200897/PRJNA231930_SRX497602_SRR1200897_genes_abundance.tsv|/data/samples/species/PRJNA231930/SRX497602/SRR1200897/PRJNA231930_SRX497602_SRR1200897_transcripts_abundance.tsv|/data/samples/species/PRJNA231930/SRX497602/SRR1200897/quant_PRJNA231930_SRX497602_SRR1200897|           N/A|      A|           96|2020-03-18T00:25:47.608752Z|\n",
            "| PRJEB27887| PRJEB27887|ERR2716205|      Vombatus ursinus|29139|SAMEA4802532|Illumina HiSeq 4000|         RNA-Seq|        PAIRED|             cDNA|ERP110024|                                                        Transcriptome assembly of bare-nosed wombat|Alias:WM1_liver;INSDC center alias:MRC Institute of Genetics and Molecular Medicine, University of Edinburgh;Title:WM1_liver;identified_by:Scott Carver;geographic location (region and locality):Tasmania;collected_by:University of Tasmania;INSDC last update:2018-07-24T14:43:43Z;INSDC center name:MRC Institute of Genetics and Molecular Medicine, University of Edinburgh;INSDC first public:2018-08-03T17:03:05Z;ENA checklist:ERC000011;Sample Name:ERS2622447;SRA accession:ERS2622447;INSDC status:public;geographic location (country and/or sea):Australia;tissue_type:liver;'Tumor:no|   N/A|             N/A| N/A|   no|     N/A|         1.2.1|bare-nosed_wombat_genome_assembly_ensembl_99|/data/samples/species/PRJEB27887/ERX2730368/ERR2716205/PRJEB27887_ERX2730368_ERR2716205_genes_abundance.tsv|/data/samples/species/PRJEB27887/ERX2730368/ERR2716205/PRJEB27887_ERX2730368_ERR2716205_transcripts_abundance.tsv|/data/samples/species/PRJEB27887/ERX2730368/ERR2716205/quant_PRJEB27887_ERX2730368_ERR2716205|           N/A|      A|           96|2020-06-01T19:12:57.891204Z|\n",
            "| PRJEB27887| PRJEB27887|ERR2716206|      Vombatus ursinus|29139|SAMEA4802532|Illumina HiSeq 4000|         RNA-Seq|        PAIRED|             cDNA|ERP110024|                                                        Transcriptome assembly of bare-nosed wombat|Alias:WM1_liver;INSDC center alias:MRC Institute of Genetics and Molecular Medicine, University of Edinburgh;Title:WM1_liver;identified_by:Scott Carver;geographic location (region and locality):Tasmania;collected_by:University of Tasmania;INSDC last update:2018-07-24T14:43:43Z;INSDC center name:MRC Institute of Genetics and Molecular Medicine, University of Edinburgh;INSDC first public:2018-08-03T17:03:05Z;ENA checklist:ERC000011;Sample Name:ERS2622447;SRA accession:ERS2622447;INSDC status:public;geographic location (country and/or sea):Australia;tissue_type:liver;'Tumor:no|   N/A|             N/A| N/A|   no|     N/A|         1.2.1|bare-nosed_wombat_genome_assembly_ensembl_99|/data/samples/species/PRJEB27887/ERX2730369/ERR2716206/PRJEB27887_ERX2730369_ERR2716206_genes_abundance.tsv|/data/samples/species/PRJEB27887/ERX2730369/ERR2716206/PRJEB27887_ERX2730369_ERR2716206_transcripts_abundance.tsv|/data/samples/species/PRJEB27887/ERX2730369/ERR2716206/quant_PRJEB27887_ERX2730369_ERR2716206|           N/A|      A|           96|2020-06-01T17:51:38.534582Z|\n",
            "| PRJEB27887| PRJEB27887|ERR2716207|      Vombatus ursinus|29139|SAMEA4802527|Illumina HiSeq 4000|         RNA-Seq|        PAIRED|             cDNA|ERP110024|                                                        Transcriptome assembly of bare-nosed wombat|   Alias:WM1_lung;INSDC center alias:MRC Institute of Genetics and Molecular Medicine, University of Edinburgh;Title:WM1_lung;identified_by:Scott Carver;geographic location (region and locality):Tasmania;collected_by:University of Tasmania;INSDC last update:2018-07-24T14:33:22Z;INSDC center name:MRC Institute of Genetics and Molecular Medicine, University of Edinburgh;INSDC first public:2018-08-03T17:03:05Z;ENA checklist:ERC000011;Sample Name:ERS2622442;SRA accession:ERS2622442;INSDC status:public;geographic location (country and/or sea):Australia;tissue_type:lung;'Tumor:no|   N/A|             N/A| N/A|   no|     N/A|         1.2.1|bare-nosed_wombat_genome_assembly_ensembl_99|/data/samples/species/PRJEB27887/ERX2730370/ERR2716207/PRJEB27887_ERX2730370_ERR2716207_genes_abundance.tsv|/data/samples/species/PRJEB27887/ERX2730370/ERR2716207/PRJEB27887_ERX2730370_ERR2716207_transcripts_abundance.tsv|/data/samples/species/PRJEB27887/ERX2730370/ERR2716207/quant_PRJEB27887_ERX2730370_ERR2716207|           N/A|      A|           96|2020-06-01T18:19:36.966891Z|\n",
            "| PRJEB27887| PRJEB27887|ERR2716208|      Vombatus ursinus|29139|SAMEA4802527|Illumina HiSeq 4000|         RNA-Seq|        PAIRED|             cDNA|ERP110024|                                                        Transcriptome assembly of bare-nosed wombat|   Alias:WM1_lung;INSDC center alias:MRC Institute of Genetics and Molecular Medicine, University of Edinburgh;Title:WM1_lung;identified_by:Scott Carver;geographic location (region and locality):Tasmania;collected_by:University of Tasmania;INSDC last update:2018-07-24T14:33:22Z;INSDC center name:MRC Institute of Genetics and Molecular Medicine, University of Edinburgh;INSDC first public:2018-08-03T17:03:05Z;ENA checklist:ERC000011;Sample Name:ERS2622442;SRA accession:ERS2622442;INSDC status:public;geographic location (country and/or sea):Australia;tissue_type:lung;'Tumor:no|   N/A|             N/A| N/A|   no|     N/A|         1.2.1|bare-nosed_wombat_genome_assembly_ensembl_99|/data/samples/species/PRJEB27887/ERX2730371/ERR2716208/PRJEB27887_ERX2730371_ERR2716208_genes_abundance.tsv|/data/samples/species/PRJEB27887/ERX2730371/ERR2716208/PRJEB27887_ERX2730371_ERR2716208_transcripts_abundance.tsv|/data/samples/species/PRJEB27887/ERX2730371/ERR2716208/quant_PRJEB27887_ERX2730371_ERR2716208|           N/A|      A|           96|2020-06-01T19:44:57.801604Z|\n",
            "+-----------+-----------+----------+----------------------+-----+------------+-------------------+----------------+--------------+-----------------+---------+---------------------------------------------------------------------------------------------------+----------------------------------------------------------------------------------------------------------------------------------------------------------------------------------------------------------------------------------------------------------------------------------------------------------------------------------------------------------------------------------------------------------------------------------------------------------------------------------------------------------------------------------------------------------------------------------------------------+------+----------------+----+-----+--------+--------------+--------------------------------------------+-----------------------------------------------------------------------------------------------------------+-----------------------------------------------------------------------------------------------------------------+---------------------------------------------------------------------------------------------+--------------+-------+-------------+---------------------------+\n",
            "only showing top 10 rows\n",
            "\n"
          ],
          "output_type" : "stream"
        }
      ]
    },
    {
      "cell_type" : "code",
      "execution_count" : 14,
      "metadata" : {
        "cell.metadata.exec_info" : {
          "startTs" : 1597435471326,
          "endTs" : 1597435540337
        },
        "language" : "scala"
      },
      "language" : "scala",
      "source" : [
        "val runMap = genericArrayOps(samples.select(\"run\",\"transcripts\")\n",
        "  .as[(String, String)].collect).toMap.map{ case (run, v)=>spark.readTSV(v)\n",
        "  .toDF(\"transcript\", \"TPM\").withColumn(\"run\",lit(run)).select(\"run\", \"transcript\", \"TPM\").as[(String, String, Double)]\n",
        "  }"
      ],
      "outputs" : [
        {
          "ename" : "java.lang.InterruptedException",
          "evalue" : "Execution was interrupted by the user",
          "traceback" : [
          ],
          "output_type" : "error"
        }
      ]
    },
    {
      "cell_type" : "code",
      "execution_count" : 15,
      "metadata" : {
        "cell.metadata.exec_info" : {
          "startTs" : 1594303472877,
          "endTs" : 1594303473036
        },
        "language" : "scala"
      },
      "language" : "scala",
      "source" : [
        "runMap.head.show(10,1000)"
      ],
      "outputs" : [
        {
          "name" : "stdout",
          "text" : [
            "+----------+--------------------+---------+\n",
            "|       run|          transcript|      TPM|\n",
            "+----------+--------------------+---------+\n",
            "|SRR2040645|ENSCCET00000000012.1|15.003977|\n",
            "|SRR2040645|ENSCCET00000000003.1|75.039963|\n",
            "|SRR2040645|ENSCCET00000000007.1| 0.203121|\n",
            "|SRR2040645|ENSCCET00000000047.1|77.176479|\n",
            "|SRR2040645|ENSCCET00000000005.1|      0.0|\n",
            "|SRR2040645|ENSCCET00000000092.1|      0.0|\n",
            "|SRR2040645|ENSCCET00000000174.1| 0.771706|\n",
            "|SRR2040645|ENSCCET00000000010.1|      0.0|\n",
            "|SRR2040645|ENSCCET00000000154.1| 0.038792|\n",
            "|SRR2040645|ENSCCET00000000006.1|72.543704|\n",
            "+----------+--------------------+---------+\n",
            "only showing top 10 rows\n",
            "\n"
          ],
          "output_type" : "stream"
        }
      ]
    },
    {
      "cell_type" : "code",
      "execution_count" : 16,
      "metadata" : {
        "cell.metadata.exec_info" : {
          "startTs" : 1594303556132,
          "endTs" : 1594303732535
        },
        "language" : "scala"
      },
      "language" : "scala",
      "source" : [
        "val joinedRuns = runMap.reduce{ (a, b)=> a.union(b)}\n",
        "joinedRuns.toDF().writeTSV(\"/data/databases/graphdb/import/transcript_expressions.tsv\")"
      ],
      "outputs" : [
        {
          "name" : "stdout",
          "text" : [
            "parts of /data/databases/graphdb/import/transcript_expressions.tsv merged!\n"
          ],
          "output_type" : "stream"
        },
        {
          "execution_count" : 16,
          "data" : {
            "text/plain" : [
              "/data/databases/graphdb/import/transcript_expressions.tsv"
            ]
          },
          "metadata" : {
            "name" : "Out",
            "type" : "String"
          },
          "output_type" : "execute_result"
        }
      ]
    },
    {
      "cell_type" : "code",
      "execution_count" : 17,
      "metadata" : {
        "language" : "scala"
      },
      "language" : "scala",
      "source" : [
        "val joinedRuns = runMap.reduce{ (a, b)=> a.union(b)}\n",
        "joinedRuns.toDF().writeTSV(\"/data/databases/graphdb/import/transcript_expressions.tsv\")"
      ],
      "outputs" : [
      ]
    },
    {
      "cell_type" : "code",
      "execution_count" : 18,
      "metadata" : {
        "cell.metadata.exec_info" : {
          "startTs" : 1597441935945,
          "endTs" : 1597441941371
        },
        "language" : "scala"
      },
      "language" : "scala",
      "source" : [
        "import org.apache.spark.storage.StorageLevel\n",
        "val transcriptExpressions = spark.readTSV(\"/data/databases/graphdb/import/transcript_expressions.tsv\", true).as[(String, String, Double)]\n",
        "transcriptExpressions.show(10)"
      ],
      "outputs" : [
        {
          "name" : "stdout",
          "text" : [
            "+----------+--------------------+---------+\n",
            "|       run|          transcript|      TPM|\n",
            "+----------+--------------------+---------+\n",
            "|SRR2040645|ENSCCET00000000012.1|15.003977|\n",
            "|SRR2040645|ENSCCET00000000003.1|75.039963|\n",
            "|SRR2040645|ENSCCET00000000007.1| 0.203121|\n",
            "|SRR2040645|ENSCCET00000000047.1|77.176479|\n",
            "|SRR2040645|ENSCCET00000000005.1|      0.0|\n",
            "|SRR2040645|ENSCCET00000000092.1|      0.0|\n",
            "|SRR2040645|ENSCCET00000000174.1| 0.771706|\n",
            "|SRR2040645|ENSCCET00000000010.1|      0.0|\n",
            "|SRR2040645|ENSCCET00000000154.1| 0.038792|\n",
            "|SRR2040645|ENSCCET00000000006.1|72.543704|\n",
            "+----------+--------------------+---------+\n",
            "only showing top 10 rows\n",
            "\n"
          ],
          "output_type" : "stream"
        }
      ]
    },
    {
      "cell_type" : "code",
      "execution_count" : 19,
      "metadata" : {
        "cell.metadata.exec_info" : {
          "startTs" : 1594304399955,
          "endTs" : 1594304400466
        },
        "language" : "scala"
      },
      "language" : "scala",
      "source" : [
        "   \n",
        "def transcript_expression_quads(df: Dataset[(String,String, Double)]): Dataset[(String, String, String, String)] = {\n",
        "    df.flatMap{case (run, transcript, tpm) =>\n",
        "    val exp = samp(\"has_\"+transcript+\"_transcript_expression\")\n",
        "    Seq(\n",
        "        (ens(transcript), \"<http://www.w3.org/1999/02/22-rdf-syntax-ns#type>\", \"<http://aging-research.group/resource/Transcript>\", cont) ,\n",
        "        (exp, \"<http://www.w3.org/1999/02/22-rdf-syntax-ns#type>\", \"<http://aging-research.group/resource/Transcript_expression>\", cont) ,   \n",
        "        (exp, \"<http://aging-research.group/resource/expression_of>\", ens(transcript), cont) ,      \n",
        "        (s\"<https://www.ncbi.nlm.nih.gov/sra/${run}>\", exp, num(tpm), cont )\n",
        "    )\n",
        "    }.toDF(\"subject\", \"property\", \"object\", \"context\").as[(String, String, String, String)]\n",
        "}"
      ],
      "outputs" : [
      ]
    },
    {
      "cell_type" : "code",
      "execution_count" : 20,
      "metadata" : {
        "cell.metadata.exec_info" : {
          "startTs" : 1594304410645,
          "endTs" : 1594304411248
        },
        "language" : "scala"
      },
      "language" : "scala",
      "source" : [
        "val all_expressions = transcript_expression_quads(transcriptExpressions)\n",
        "all_expressions.show(10,1000)"
      ],
      "outputs" : [
        {
          "name" : "stdout",
          "text" : [
            "+------------------------------------------------------------------------------------+------------------------------------------------------------------------------------+------------------------------------------------------------+----------------------------------------+\n",
            "|                                                                             subject|                                                                            property|                                                      object|                                 context|\n",
            "+------------------------------------------------------------------------------------+------------------------------------------------------------------------------------+------------------------------------------------------------+----------------------------------------+\n",
            "|                        <http://rdf.ebi.ac.uk/resource/ensembl/ENSCCET00000000012.1>|                                   <http://www.w3.org/1999/02/22-rdf-syntax-ns#type>|           <http://aging-research.group/resource/Transcript>|<http://aging-research.group/samples/> .|\n",
            "|<http://aging-research.group/samples/has_ENSCCET00000000012.1_transcript_expression>|                                   <http://www.w3.org/1999/02/22-rdf-syntax-ns#type>|<http://aging-research.group/resource/Transcript_expression>|<http://aging-research.group/samples/> .|\n",
            "|<http://aging-research.group/samples/has_ENSCCET00000000012.1_transcript_expression>|                                <http://aging-research.group/resource/expression_of>|<http://rdf.ebi.ac.uk/resource/ensembl/ENSCCET00000000012.1>|<http://aging-research.group/samples/> .|\n",
            "|                                       <https://www.ncbi.nlm.nih.gov/sra/SRR2040645>|<http://aging-research.group/samples/has_ENSCCET00000000012.1_transcript_expression>|      \"15.003977\"^^<http://www.w3.org/2001/XMLSchema#double>|<http://aging-research.group/samples/> .|\n",
            "|                        <http://rdf.ebi.ac.uk/resource/ensembl/ENSCCET00000000003.1>|                                   <http://www.w3.org/1999/02/22-rdf-syntax-ns#type>|           <http://aging-research.group/resource/Transcript>|<http://aging-research.group/samples/> .|\n",
            "|<http://aging-research.group/samples/has_ENSCCET00000000003.1_transcript_expression>|                                   <http://www.w3.org/1999/02/22-rdf-syntax-ns#type>|<http://aging-research.group/resource/Transcript_expression>|<http://aging-research.group/samples/> .|\n",
            "|<http://aging-research.group/samples/has_ENSCCET00000000003.1_transcript_expression>|                                <http://aging-research.group/resource/expression_of>|<http://rdf.ebi.ac.uk/resource/ensembl/ENSCCET00000000003.1>|<http://aging-research.group/samples/> .|\n",
            "|                                       <https://www.ncbi.nlm.nih.gov/sra/SRR2040645>|<http://aging-research.group/samples/has_ENSCCET00000000003.1_transcript_expression>|      \"75.039963\"^^<http://www.w3.org/2001/XMLSchema#double>|<http://aging-research.group/samples/> .|\n",
            "|                        <http://rdf.ebi.ac.uk/resource/ensembl/ENSCCET00000000007.1>|                                   <http://www.w3.org/1999/02/22-rdf-syntax-ns#type>|           <http://aging-research.group/resource/Transcript>|<http://aging-research.group/samples/> .|\n",
            "|<http://aging-research.group/samples/has_ENSCCET00000000007.1_transcript_expression>|                                   <http://www.w3.org/1999/02/22-rdf-syntax-ns#type>|<http://aging-research.group/resource/Transcript_expression>|<http://aging-research.group/samples/> .|\n",
            "+------------------------------------------------------------------------------------+------------------------------------------------------------------------------------+------------------------------------------------------------+----------------------------------------+\n",
            "only showing top 10 rows\n",
            "\n"
          ],
          "output_type" : "stream"
        }
      ]
    },
    {
      "cell_type" : "code",
      "execution_count" : 21,
      "metadata" : {
        "cell.metadata.exec_info" : {
          "startTs" : 1594304458981,
          "endTs" : 1594305021385
        },
        "language" : "scala"
      },
      "language" : "scala",
      "source" : [
        "all_expressions.toDF.writeTSV(\"/data/databases/graphdb/import/transcript_expressions.nq\", header = false, rewrite = true)"
      ],
      "outputs" : [
        {
          "name" : "stdout",
          "text" : [
            "parts of /data/databases/graphdb/import/transcript_expressions.nq merged!\n"
          ],
          "output_type" : "stream"
        },
        {
          "execution_count" : 21,
          "data" : {
            "text/plain" : [
              "/data/databases/graphdb/import/transcript_expressions.nq"
            ]
          },
          "metadata" : {
            "name" : "Out",
            "type" : "String"
          },
          "output_type" : "execute_result"
        }
      ]
    },
    {
      "cell_type" : "markdown",
      "execution_count" : 22,
      "metadata" : {
        "language" : "text"
      },
      "language" : "text",
      "source" : [
        "### **Bugfix in transcript names**\n",
        "\n"
      ],
      "outputs" : [
      ]
    },
    {
      "cell_type" : "code",
      "execution_count" : 23,
      "metadata" : {
        "cell.metadata.exec_info" : {
          "startTs" : 1594831868053,
          "endTs" : 1594831876632
        },
        "language" : "scala"
      },
      "language" : "scala",
      "source" : [
        "def undot(s: String): String = {  s.lastIndexOf(\".\") match { case -1 => s case i => s.substring(0,i)} }\n",
        "val u_undot = udf[String, String](undot _)\n",
        "val tids = transcriptExpressions.select($\"transcript\").distinct()\n",
        ".withColumn(\"stable_transcript_id\", u_undot($\"transcript\"))\n",
        ".withColumn(\"property\", lit(\"<http://www.w3.org/2002/07/owl#sameAs>\"))\n",
        ".withColumn(\"context\", lit(\"<http://aging-research.group/samples/> .\"))\n",
        ".select(u_ens($\"stable_transcript_id\").as(\"subject\"), $\"property\", u_ens($\"transcript\").as(\"object\"), $\"context\")\n",
        "tids.show(20,1000)"
      ],
      "outputs" : [
        {
          "name" : "stdout",
          "text" : [
            "+----------------------------------------------------------+--------------------------------------+------------------------------------------------------------+----------------------------------------+\n",
            "|                                                   subject|                              property|                                                      object|                                 context|\n",
            "+----------------------------------------------------------+--------------------------------------+------------------------------------------------------------+----------------------------------------+\n",
            "|<http://rdf.ebi.ac.uk/resource/ensembl/ENSCCET00000000058>|<http://www.w3.org/2002/07/owl#sameAs>|<http://rdf.ebi.ac.uk/resource/ensembl/ENSCCET00000000058.1>|<http://aging-research.group/samples/> .|\n",
            "|<http://rdf.ebi.ac.uk/resource/ensembl/ENSCCET00000000231>|<http://www.w3.org/2002/07/owl#sameAs>|<http://rdf.ebi.ac.uk/resource/ensembl/ENSCCET00000000231.1>|<http://aging-research.group/samples/> .|\n",
            "|<http://rdf.ebi.ac.uk/resource/ensembl/ENSCCET00000000732>|<http://www.w3.org/2002/07/owl#sameAs>|<http://rdf.ebi.ac.uk/resource/ensembl/ENSCCET00000000732.1>|<http://aging-research.group/samples/> .|\n",
            "|<http://rdf.ebi.ac.uk/resource/ensembl/ENSCCET00000000985>|<http://www.w3.org/2002/07/owl#sameAs>|<http://rdf.ebi.ac.uk/resource/ensembl/ENSCCET00000000985.1>|<http://aging-research.group/samples/> .|\n",
            "|<http://rdf.ebi.ac.uk/resource/ensembl/ENSCCET00000001744>|<http://www.w3.org/2002/07/owl#sameAs>|<http://rdf.ebi.ac.uk/resource/ensembl/ENSCCET00000001744.1>|<http://aging-research.group/samples/> .|\n",
            "|<http://rdf.ebi.ac.uk/resource/ensembl/ENSCCET00000001815>|<http://www.w3.org/2002/07/owl#sameAs>|<http://rdf.ebi.ac.uk/resource/ensembl/ENSCCET00000001815.1>|<http://aging-research.group/samples/> .|\n",
            "|<http://rdf.ebi.ac.uk/resource/ensembl/ENSCCET00000002282>|<http://www.w3.org/2002/07/owl#sameAs>|<http://rdf.ebi.ac.uk/resource/ensembl/ENSCCET00000002282.1>|<http://aging-research.group/samples/> .|\n",
            "|<http://rdf.ebi.ac.uk/resource/ensembl/ENSCCET00000002612>|<http://www.w3.org/2002/07/owl#sameAs>|<http://rdf.ebi.ac.uk/resource/ensembl/ENSCCET00000002612.1>|<http://aging-research.group/samples/> .|\n",
            "|<http://rdf.ebi.ac.uk/resource/ensembl/ENSCCET00000007394>|<http://www.w3.org/2002/07/owl#sameAs>|<http://rdf.ebi.ac.uk/resource/ensembl/ENSCCET00000007394.1>|<http://aging-research.group/samples/> .|\n",
            "|<http://rdf.ebi.ac.uk/resource/ensembl/ENSCCET00000002925>|<http://www.w3.org/2002/07/owl#sameAs>|<http://rdf.ebi.ac.uk/resource/ensembl/ENSCCET00000002925.1>|<http://aging-research.group/samples/> .|\n",
            "|<http://rdf.ebi.ac.uk/resource/ensembl/ENSCCET00000003004>|<http://www.w3.org/2002/07/owl#sameAs>|<http://rdf.ebi.ac.uk/resource/ensembl/ENSCCET00000003004.1>|<http://aging-research.group/samples/> .|\n",
            "|<http://rdf.ebi.ac.uk/resource/ensembl/ENSCCET00000003390>|<http://www.w3.org/2002/07/owl#sameAs>|<http://rdf.ebi.ac.uk/resource/ensembl/ENSCCET00000003390.1>|<http://aging-research.group/samples/> .|\n",
            "|<http://rdf.ebi.ac.uk/resource/ensembl/ENSCCET00000005911>|<http://www.w3.org/2002/07/owl#sameAs>|<http://rdf.ebi.ac.uk/resource/ensembl/ENSCCET00000005911.1>|<http://aging-research.group/samples/> .|\n",
            "|<http://rdf.ebi.ac.uk/resource/ensembl/ENSCCET00000004279>|<http://www.w3.org/2002/07/owl#sameAs>|<http://rdf.ebi.ac.uk/resource/ensembl/ENSCCET00000004279.1>|<http://aging-research.group/samples/> .|\n",
            "|<http://rdf.ebi.ac.uk/resource/ensembl/ENSCCET00000005398>|<http://www.w3.org/2002/07/owl#sameAs>|<http://rdf.ebi.ac.uk/resource/ensembl/ENSCCET00000005398.1>|<http://aging-research.group/samples/> .|\n",
            "|<http://rdf.ebi.ac.uk/resource/ensembl/ENSCCET00000005486>|<http://www.w3.org/2002/07/owl#sameAs>|<http://rdf.ebi.ac.uk/resource/ensembl/ENSCCET00000005486.1>|<http://aging-research.group/samples/> .|\n",
            "|<http://rdf.ebi.ac.uk/resource/ensembl/ENSCCET00000006594>|<http://www.w3.org/2002/07/owl#sameAs>|<http://rdf.ebi.ac.uk/resource/ensembl/ENSCCET00000006594.1>|<http://aging-research.group/samples/> .|\n",
            "|<http://rdf.ebi.ac.uk/resource/ensembl/ENSCCET00000005655>|<http://www.w3.org/2002/07/owl#sameAs>|<http://rdf.ebi.ac.uk/resource/ensembl/ENSCCET00000005655.1>|<http://aging-research.group/samples/> .|\n",
            "|<http://rdf.ebi.ac.uk/resource/ensembl/ENSCCET00000005870>|<http://www.w3.org/2002/07/owl#sameAs>|<http://rdf.ebi.ac.uk/resource/ensembl/ENSCCET00000005870.1>|<http://aging-research.group/samples/> .|\n",
            "|<http://rdf.ebi.ac.uk/resource/ensembl/ENSCCET00000006290>|<http://www.w3.org/2002/07/owl#sameAs>|<http://rdf.ebi.ac.uk/resource/ensembl/ENSCCET00000006290.1>|<http://aging-research.group/samples/> .|\n",
            "+----------------------------------------------------------+--------------------------------------+------------------------------------------------------------+----------------------------------------+\n",
            "only showing top 20 rows\n",
            "\n"
          ],
          "output_type" : "stream"
        }
      ]
    },
    {
      "cell_type" : "code",
      "execution_count" : 24,
      "metadata" : {
        "cell.metadata.exec_info" : {
          "startTs" : 1594831898606,
          "endTs" : 1594831920778
        },
        "language" : "scala"
      },
      "language" : "scala",
      "source" : [
        "tids.writeTSV(\"/data/databases/graphdb/import/transcript_stable.nq\", header = false, rewrite = true)"
      ],
      "outputs" : [
        {
          "name" : "stdout",
          "text" : [
            "parts of /data/databases/graphdb/import/transcript_stable.nq merged!\n"
          ],
          "output_type" : "stream"
        },
        {
          "execution_count" : 24,
          "data" : {
            "text/plain" : [
              "/data/databases/graphdb/import/transcript_stable.nq"
            ]
          },
          "metadata" : {
            "name" : "Out",
            "type" : "String"
          },
          "output_type" : "execute_result"
        }
      ]
    },
    {
      "cell_type" : "markdown",
      "execution_count" : 25,
      "metadata" : {
        "language" : "text"
      },
      "language" : "text",
      "source" : [
        "Bugfix in transcript names<br>"
      ],
      "outputs" : [
      ]
    },
    {
      "cell_type" : "markdown",
      "execution_count" : 26,
      "metadata" : {
        "language" : "text"
      },
      "language" : "text",
      "source" : [
        "Extracting sequences<br>"
      ],
      "outputs" : [
      ]
    },
    {
      "cell_type" : "code",
      "execution_count" : 27,
      "metadata" : {
        "cell.metadata.exec_info" : {
          "startTs" : 1594830396476,
          "endTs" : 1594830404870
        },
        "language" : "scala"
      },
      "language" : "scala",
      "source" : [
        "transcriptExpressions.select(\"transcript\").where($\"transcript\".contains(\"ENSGGOT00000016465\")).show(10,1000)"
      ],
      "outputs" : [
        {
          "name" : "stdout",
          "text" : [
            "+--------------------+\n",
            "|          transcript|\n",
            "+--------------------+\n",
            "|ENSGGOT00000016465.3|\n",
            "|ENSGGOT00000016465.3|\n",
            "|ENSGGOT00000016465.3|\n",
            "|ENSGGOT00000016465.3|\n",
            "|ENSGGOT00000016465.3|\n",
            "|ENSGGOT00000016465.3|\n",
            "|ENSGGOT00000016465.3|\n",
            "|ENSGGOT00000016465.3|\n",
            "|ENSGGOT00000016465.3|\n",
            "|ENSGGOT00000016465.3|\n",
            "+--------------------+\n",
            "only showing top 10 rows\n",
            "\n"
          ],
          "output_type" : "stream"
        }
      ]
    },
    {
      "cell_type" : "code",
      "execution_count" : 28,
      "metadata" : {
        "cell.metadata.exec_info" : {
          "startTs" : 1594848936981,
          "endTs" : 1594849174418
        },
        "language" : "scala"
      },
      "language" : "scala",
      "source" : [
        "val mapping_cols = Seq(\"UniProtKB-AC\",\"UniProtKB-ID\",\"Entrez\",\"RefSeq\",\"GI\",\"PDB\",\"GO\",\n",
        "\"UniRef100\",\"UniRef90\",\"UniRef50\",\"UniParc\",\"PIR\",\n",
        "\"NCBI-taxon\",\"MIM\",\"UniGene\",\"PubMed\",\n",
        "\"EMBL\",\"EMBL-CDS\",\"Ensembl\",\"Ensembl_TRS\",\"Ensembl_PRO\",\"Additional PubMed\")\n",
        "val mapping = spark.readTSV(\"/data/indexes/uniprot/idmapping_selected.tab\").toDF(mapping_cols:_*)\n",
        "mapping.limit(20).show(20, 1000)"
      ],
      "outputs" : [
        {
          "name" : "stdout",
          "text" : [
            "+------------+------------+-------+-----------+-------------------------------+----+----------------------------------+----------------+---------------+---------------+-------------+----+----------+----+-------+------------------+--------+----------+-------+-----------+-----------+-----------------+\n",
            "|UniProtKB-AC|UniProtKB-ID| Entrez|     RefSeq|                             GI| PDB|                                GO|       UniRef100|       UniRef90|       UniRef50|      UniParc| PIR|NCBI-taxon| MIM|UniGene|            PubMed|    EMBL|  EMBL-CDS|Ensembl|Ensembl_TRS|Ensembl_PRO|Additional PubMed|\n",
            "+------------+------------+-------+-----------+-------------------------------+----+----------------------------------+----------------+---------------+---------------+-------------+----+----------+----+-------+------------------+--------+----------+-------+-----------+-----------+-----------------+\n",
            "|      Q6GZX4|  001R_FRG3G|2947773|YP_031579.1|             81941549; 49237298|null|                        GO:0046782|UniRef100_Q6GZX4|UniRef90_Q6GZX4|UniRef50_Q6GZX4|UPI00003B0FD4|null|    654924|null|   null|          15165820|AY548484|AAT09660.1|   null|       null|       null|             null|\n",
            "|      Q6GZX3|  002L_FRG3G|2947774|YP_031580.1|             49237299; 81941548|null|            GO:0033644; GO:0016021|UniRef100_Q6GZX3|UniRef90_Q6GZX3|UniRef50_Q6GZX3|UPI00003B0FD5|null|    654924|null|   null|          15165820|AY548484|AAT09661.1|   null|       null|       null|             null|\n",
            "|      Q197F8|   002R_IIV3|4156251|YP_654574.1|109287880; 123808694; 106073503|null|                              null|UniRef100_Q197F8|UniRef90_Q197F8|UniRef50_Q197F8|UPI0000D83464|null|    345201|null|   null|          16912294|DQ643392|ABF82032.1|   null|       null|       null|             null|\n",
            "|      Q197F7|   003L_IIV3|4156252|YP_654575.1|106073504; 109287881; 123808693|null|                              null|UniRef100_Q197F7|UniRef90_Q197F7|UniRef50_Q197F7|UPI0000D83465|null|    345201|null|   null|          16912294|DQ643392|ABF82033.1|   null|       null|       null|             null|\n",
            "|      Q6GZX2|  003R_FRG3G|2947775|YP_031581.1|             81941547; 49237300|null|                              null|UniRef100_Q6GZX2|UniRef90_Q6GZX2|UniRef50_Q6GZX2|UPI00003B0FD6|null|    654924|null|   null|          15165820|AY548484|AAT09662.1|   null|       null|       null|             null|\n",
            "|      Q6GZX1|  004R_FRG3G|2947776|YP_031582.1|             49237301; 81941546|null|            GO:0033644; GO:0016021|UniRef100_Q6GZX1|UniRef90_Q6GZX1|UniRef50_Q6GZX1|UPI00003B0FD7|null|    654924|null|   null|          15165820|AY548484|AAT09663.1|   null|       null|       null|             null|\n",
            "|      Q197F5|   005L_IIV3|4156254|YP_654577.1|123808691; 109287883; 106073506|null|                              null|UniRef100_Q197F5|UniRef90_Q197F5|UniRef50_Q197F5|UPI0000D83467|null|    345201|null|   null|          16912294|DQ643392|ABF82035.1|   null|       null|       null|             null|\n",
            "|      Q6GZX0|  005R_FRG3G|2947777|YP_031583.1|             49237302; 81941545|null|                              null|UniRef100_Q6GZX0|UniRef90_Q6GZX0|UniRef50_Q6GZX0|UPI00003B0FD8|null|    654924|null|   null|          15165820|AY548484|AAT09664.1|   null|       null|       null|             null|\n",
            "|      Q91G88|   006L_IIV6|1733056|NP_149469.1|   82012333; 15078718; 15042163|null|                              null|UniRef100_Q91G88|UniRef90_Q91G88|UniRef50_Q91FL1|UPI00000F3D32|null|    176652|null|   null|11448171; 17239238|AF303741|AAK81943.1|   null|       null|       null|             null|\n",
            "|      Q6GZW9|  006R_FRG3G|2947778|YP_031584.1|             81941544; 49237303|null|                              null|UniRef100_Q6GZW9|UniRef90_Q6GZW9|UniRef50_Q6GZW9|UPI00003B0FD9|null|    654924|null|   null|          15165820|AY548484|AAT09665.1|   null|       null|       null|             null|\n",
            "|      Q6GZW8|  007R_FRG3G|2947779|YP_031585.1|             49237304; 81941543|null|                              null|UniRef100_Q6GZW8|UniRef90_Q6GZW8|UniRef50_Q6GZW8|UPI00003B0FDA|null|    654924|null|   null|          15165820|AY548484|AAT09666.1|   null|       null|       null|             null|\n",
            "|      Q197F3|   007R_IIV3|4156256|YP_654579.1|106073508; 109287885; 123808689|null|                              null|UniRef100_Q197F3|UniRef90_Q197F3|UniRef50_Q197F3|UPI0000D83469|null|    345201|null|   null|          16912294|DQ643392|ABF82037.1|   null|       null|       null|             null|\n",
            "|      Q197F2|   008L_IIV3|4156257|YP_654580.1|106073509; 109287886; 123808688|null|                              null|UniRef100_Q197F2|UniRef90_Q197F2|UniRef50_Q197F2|UPI0000D8346A|null|    345201|null|   null|          16912294|DQ643392|ABF82038.1|   null|       null|       null|             null|\n",
            "|      Q6GZW6|  009L_FRG3G|2947781|YP_031587.1|             49237306; 82054175|null|GO:0005524; GO:0003677; GO:0004386|UniRef100_Q6GZW6|UniRef90_Q6GZW6|UniRef50_Q6GZW6|UPI00003B0FDC|null|    654924|null|   null|          15165820|AY548484|AAT09668.1|   null|       null|       null|             null|\n",
            "|      Q91G85|   009R_IIV6|1733381|NP_149472.1|   82012330; 15078722; 15042167|null|                              null|UniRef100_Q91G85|UniRef90_Q91G85|UniRef50_Q91G85|UPI00000EEE80|null|    176652|null|   null|11448171; 17239238|AF303741|AAK81947.1|   null|       null|       null|             null|\n",
            "|      Q6GZW5|  010R_FRG3G|2947782|YP_031588.1|             49237307; 81941542|null|            GO:0033644; GO:0016021|UniRef100_Q6GZW5|UniRef90_Q6GZW5|UniRef50_Q6GZW5|UPI00003B0FDD|null|    654924|null|   null|          15165820|AY548484|AAT09669.1|   null|       null|       null|             null|\n",
            "|      Q197E9|   011L_IIV3|4156260|YP_654583.1|123808687; 109287889; 106073512|null|                              null|UniRef100_Q197E9|UniRef90_Q197E9|UniRef50_Q197E9|UPI0000D8346D|null|    345201|null|   null|          16912294|DQ643392|ABF82041.1|   null|       null|       null|             null|\n",
            "|      Q6GZW4|  011R_FRG3G|2947783|YP_031589.1|             49237308; 81941541|null|            GO:0033644; GO:0016021|UniRef100_Q6GZW4|UniRef90_Q6GZW4|UniRef50_Q6GZW4|UPI00003B0FDE|null|    654924|null|   null|          15165820|AY548484|AAT09670.1|   null|       null|       null|             null|\n",
            "|      Q6GZW3|  012L_FRG3G|2947784|YP_031590.1|             81941540; 49237309|null|                              null|UniRef100_Q6GZW3|UniRef90_Q6GZW3|UniRef50_Q6GZW3|UPI00003B0FDF|null|    654924|null|   null|          15165820|AY548484|AAT09671.1|   null|       null|       null|             null|\n",
            "|      Q197E7|   013L_IIV3|4156262|YP_654585.1|106073514; 109287891; 123808685|null|            GO:0033644; GO:0016021|UniRef100_Q197E7|UniRef90_Q197E7|UniRef50_Q197E7|UPI0000D8346F|null|    345201|null|   null|          16912294|DQ643392|ABF82043.1|   null|       null|       null|             null|\n",
            "+------------+------------+-------+-----------+-------------------------------+----+----------------------------------+----------------+---------------+---------------+-------------+----+----------+----+-------+------------------+--------+----------+-------+-----------+-----------+-----------------+\n",
            "\n"
          ],
          "output_type" : "stream"
        }
      ]
    },
    {
      "cell_type" : "code",
      "execution_count" : 29,
      "metadata" : {
        "cell.metadata.exec_info" : {
          "startTs" : 1594849174422,
          "endTs" : 1594849188417
        },
        "language" : "scala"
      },
      "language" : "scala",
      "source" : [
        "val stable = transcriptExpressions.select(u_undot($\"transcript\")).distinct().cache()\n",
        "stable.count()"
      ],
      "outputs" : [
        {
          "execution_count" : 29,
          "data" : {
            "text/plain" : [
              "2578056"
            ]
          },
          "metadata" : {
            "name" : "Out",
            "type" : "Long"
          },
          "output_type" : "execute_result"
        }
      ]
    },
    {
      "cell_type" : "code",
      "execution_count" : 30,
      "metadata" : {
        "cell.metadata.exec_info" : {
          "startTs" : 1594850317481,
          "endTs" : 1594850321705
        },
        "language" : "scala"
      },
      "language" : "scala",
      "source" : [
        "val u_trs = udf[String, String](str=>str.replace(\"<http://rdf.ebi.ac.uk/resource/ensembl/\", \"\").replace(\">\", \"\"))\n",
        "val pro = spark.readTSV(\"/data/species/pro_isoforms.tsv\", true)\n",
        ".withColumn(\"Ensembl_TRS\", u_trs($\"?transcript\"))\n",
        ".select(\"Ensembl_TRS\").distinct()\n",
        "val anti = spark.readTSV(\"/data/species/anti_isoforms.tsv\", true)\n",
        ".withColumn(\"Ensembl_TRS\", u_trs($\"?transcript\"))\n",
        ".select(\"Ensembl_TRS\").distinct()\n",
        "println(anti.count())\n",
        "anti.show(10,1000)"
      ],
      "outputs" : [
        {
          "name" : "stdout",
          "text" : [
            "1778\n",
            "+----------------------+\n",
            "|           Ensembl_TRS|\n",
            "+----------------------+\n",
            "|MGP_CAROLIEiJ_T0093290|\n",
            "|    ENSPCIT00000004040|\n",
            "|    ENSPMJT00000007695|\n",
            "|    ENSPPAT00000058388|\n",
            "|    ENSMNET00000041990|\n",
            "|MGP_CAROLIEiJ_T0057794|\n",
            "|    ENSOGAT00000008354|\n",
            "|    ENSGGOT00000042588|\n",
            "|    ENSMMUT00000102137|\n",
            "|    ENSMICT00000047385|\n",
            "+----------------------+\n",
            "only showing top 10 rows\n",
            "\n"
          ],
          "output_type" : "stream"
        }
      ]
    },
    {
      "cell_type" : "code",
      "execution_count" : 31,
      "metadata" : {
        "cell.metadata.exec_info" : {
          "startTs" : 1594850441737,
          "endTs" : 1594850542960
        },
        "language" : "scala"
      },
      "language" : "scala",
      "source" : [
        "val pro_uni = pro.join(mapping, Seq(\"Ensembl_TRS\"))\n",
        "print(pro_uni.count())\n",
        "pro_uni.show(10,1000)"
      ],
      "outputs" : [
        {
          "name" : "stdout",
          "text" : [
            "1149+------------------+------------+------------+---------+--------------------------------------------------------------+---------------------------------------------------------------+----+----------------------------------------------------------------------------------------------------------------------------------------------------------------------------------------------------------------------------------------------------------+----------------+---------------+---------------+-------------+----+----------+----+-------+----------------------------+--------------------------------------------------------------------------------------------------------------------------------------------------------------------------------------------------------------------------------------------------------+----------------------------------------------------------------------------------------------------------------------------------------------------------------------------------------------------------------------------------------------------------------------------------------+------------------+------------------+------------------------------------------------------------------------------------------------------------------------------------------------------------------------------------------------------------------------------------------------------------------------------------------------------------------------------------------------------------------------------------------------------------------------------------------------------------------------------------------------------------------------------------------------------------------------------------------------------------------------------------------------------------------------------------------------------------------------------------+\n",
            "|       Ensembl_TRS|UniProtKB-AC|UniProtKB-ID|   Entrez|                                                        RefSeq|                                                             GI| PDB|                                                                                                                                                                                                                                                        GO|       UniRef100|       UniRef90|       UniRef50|      UniParc| PIR|NCBI-taxon| MIM|UniGene|                      PubMed|                                                                                                                                                                                                                                                    EMBL|                                                                                                                                                                                                                                                                                EMBL-CDS|           Ensembl|       Ensembl_PRO|                                                                                                                                                                                                                                                                                                                                                                                                                                                                                                                                                                                                                                                                                                                   Additional PubMed|\n",
            "+------------------+------------+------------+---------+--------------------------------------------------------------+---------------------------------------------------------------+----+----------------------------------------------------------------------------------------------------------------------------------------------------------------------------------------------------------------------------------------------------------+----------------+---------------+---------------+-------------+----+----------+----+-------+----------------------------+--------------------------------------------------------------------------------------------------------------------------------------------------------------------------------------------------------------------------------------------------------+----------------------------------------------------------------------------------------------------------------------------------------------------------------------------------------------------------------------------------------------------------------------------------------+------------------+------------------+------------------------------------------------------------------------------------------------------------------------------------------------------------------------------------------------------------------------------------------------------------------------------------------------------------------------------------------------------------------------------------------------------------------------------------------------------------------------------------------------------------------------------------------------------------------------------------------------------------------------------------------------------------------------------------------------------------------------------------+\n",
            "|ENSMUST00000233923|      Q80X86| ARM12_MOUSE|    67645|                                                   NP_080566.2|   81895313; 12838370; 148690632; 254826802; 29612586; 12854212|null|                                                                                                                                                                                                                                                      null|UniRef100_Q80X86|UniRef90_Q80X86|UniRef50_Q5T9G4|UPI00000222AF|null|     10090|null|   null|          16141072; 15489334|                                                                                                                                                                                                                            AK005672; AK015756; BC049559|                                                                                                                                                                                                                                                      BAB24180.1; BAB29960.1; AAH49559.1|ENSMUSG00000024223|ENSMUSP00000156794|                                                                                                                                                                                                                                                                                                                                                                                                                                                                                                                                                                                                                                                                                    30026490; 11217851; 12466851; 18799693; 21677750|\n",
            "|ENSMUST00000102891|      Q769J6| ATS13_MOUSE|   279028|                                NP_001001322.1; NP_001277392.1|    81864935; 47604978; 39573528; 594190976; 47077287; 47076321|null|                                                                        GO:0005615; GO:0004175; GO:0046872; GO:0004222; GO:0008233; GO:0007596; GO:0071346; GO:0071353; GO:0071222; GO:0071356; GO:0043171; GO:0006508; GO:0014075; GO:0035864; GO:0009636|UniRef100_Q769J6|UniRef90_Q769J6|UniRef50_Q76LX8|UPI0000226675|null|     10090|null|   null|15136581; 19468303; 15869605|                                                                                                                                                                                                        AB071302; AB095445; AB112362; AL773563; AL845266|                                                                                                                                                                                                                                                BAC55159.2; BAD04062.1; BAD18090.1; -; -|ENSMUSG00000014852|ENSMUSP00000099955|15806136; 17414218; 17414219; 17426255; 18006046; 18083848; 18263586; 18695007; 19109562; 19687510; 19965676; 20047094; 20200350; 20644116; 20695979; 20704649; 21494805; 21720563; 21799176; 22123843; 22192156; 22212812; 22652598; 22712744; 22721582; 22915644; 22983446; 23051932; 23144461; 23878316; 24115559; 24261607; 24357063; 25442981; 25813552; 25849793; 25855507; 26542631; 26929275; 27507004; 27604194; 28254814; 28428179; 28495930; 29729651; 14610273; 16141072; 16200209; 16368888; 16533881; 17509843; 19141866; 19541819; 20637190; 21266777; 21677750; 22232208; 22529289; 23515928; 24713928; 25770910; 25800050; 25835743; 25977583; 27444201; 27479501; 27626380; 28011677; 29348121; 29976618; 31185010|\n",
            "|ENSBTAT00000008509|      Q9XT98| CLD16_BOVIN|   282184|                                                   NP_776944.1|                                     5545337; 27806247; 6685317|null|                                                                                                                                                                        GO:0005923; GO:0016021; GO:0005886; GO:0042802; GO:0005198; GO:0016338; GO:0006811|UniRef100_Q9XT98|UniRef90_Q9XT98|UniRef50_Q9Y5I7|UPI0000127AB7|null|      9913|null|   null|                    10810088|                                                                                                                                                                                                                                                AB030082|                                                                                                                                                                                                                                                                              BAA82553.1|ENSBTAG00000006494|ENSBTAP00000008509|                                                                                                                                                                                                                                                                                                                                                                                                                                                                                                                                                                                                                                                                                                                                null|\n",
            "|ENSPPYT00000017695|      Q5RC69|  DCTD_PONAB|100457791|                                                XP_009238756.1|                                            62286511; 686717609|null|                                                                                                                                                                                                GO:0004132; GO:0042802; GO:0008270; GO:0009165; GO:0006220|UniRef100_Q5RC69|UniRef90_Q5RC69|UniRef50_Q5RC69|UPI0000469B05|null|      9601|null|   null|                        null|                                                                                                                                                                                                                                                CR858411|                                                                                                                                                                                                                                                                              CAH90638.1|ENSPPYG00000015223|ENSPPYP00000017005|                                                                                                                                                                                                                                                                                                                                                                                                                                                                                                                                                                                                                                                                                                                                null|\n",
            "|ENSMUST00000007296|      Q9WVF7| DPOE1_MOUSE|    18973|                                                   NP_035262.2|               195947387; 5669844; 5565875; 341940503; 17367197|null|GO:0008622; GO:0005654; GO:0005634; GO:0005886; GO:0051539; GO:0003682; GO:0003677; GO:0003887; GO:0000166; GO:0008310; GO:0008270; GO:0006287; GO:0071897; GO:0006260; GO:0045004; GO:0000731; GO:0048568; GO:0000082; GO:0006272; GO:0000278; GO:0006297|UniRef100_Q9WVF7|UniRef90_Q9WVF7|UniRef50_Q07864|UPI0000195852|null|     10090|null|   null|10366722; 19468303; 21183079|AF123502; AF126398; AF126377; AF126378; AF126379; AF126380; AF126381; AF126382; AF126383; AF126384; AF126385; AF126386; AF126387; AF126388; AF126389; AF126390; AF126391; AF126392; AF126393; AF126394; AF126395; AF126396; AF126397; AC118260; AC123699|AAD45244.1; AAD46482.1; AAD46482.1; AAD46482.1; AAD46482.1; AAD46482.1; AAD46482.1; AAD46482.1; AAD46482.1; AAD46482.1; AAD46482.1; AAD46482.1; AAD46482.1; AAD46482.1; AAD46482.1; AAD46482.1; AAD46482.1; AAD46482.1; AAD46482.1; AAD46482.1; AAD46482.1; AAD46482.1; AAD46482.1; -; -|ENSMUSG00000007080|ENSMUSP00000007296|                                                                                                                                                                                                                                                                                                                                                                                                                                                                                                                                                                        19805137; 24356953; 29754823; 30124468; 11054539; 12466851; 12520002; 14610273; 14681479; 16141072; 16602821; 17141802; 18799693; 21873635; 9408242; 9434959|\n",
            "|ENSMUST00000060447|      Q8K1A0| METL5_MOUSE|    75422|                                                   NP_083556.2|            166795289; 115502261; 20380361; 81914581; 148695106|null|                                                                                                                                                                                                                        GO:0008168; GO:0003676; GO:0032259|UniRef100_Q8K1A0|UniRef90_Q8K1A0|UniRef50_Q8K1A0|UPI00001C270E|null|     10090|null|   null|                    15489334|                                                                                                                                                                                                                                                BC027547|                                                                                                                                                                                                                                                                              AAH27547.1|ENSMUSG00000051730|ENSMUSP00000050907|                                                                                                                                                                                                                                                                                                                                                                                                                                                                                                                                                                                                                                                                          11217851; 12466851; 14610273; 16141072; 18799693; 21267068|\n",
            "|ENSMUST00000044451|      Q7M758| NALDL_MOUSE|   381204|                                                NP_001009546.1|                                             57222282; 51316307|null|                                                                                                                                                GO:0016324; GO:0016021; GO:0004177; GO:0005509; GO:0004180; GO:0008237; GO:0042803; GO:0008270; GO:0043171|UniRef100_Q7M758|UniRef90_O54697|UniRef50_Q9UQQ1|UPI00001D963C|null|     10090|null|   null|                    12838346|                                                                                                                                                                                                                                      AC131114; BN000129|                                                                                                                                                                                                                                                                           -; CAD67582.1|ENSMUSG00000054999|ENSMUSP00000044231|                                                                                                                                                                                                                                                                                                                                                                                                                                                                                                                                                                                                                                                                                                        21267068; 21873635; 17205597|\n",
            "|ENSRNOT00000054835|      O54697|   NALDL_RAT|    83568|                                                   NP_113947.1|                         20138805; 13929070; 149062148; 2653779|null|                                                                                                                                                GO:0016324; GO:0016021; GO:0004177; GO:0005509; GO:0004180; GO:0008237; GO:0042803; GO:0008270; GO:0043171|UniRef100_O54697|UniRef90_O54697|UniRef50_Q9UQQ1|UPI0000130219|null|     10116|null|   null|                     9388249|                                                                                                                                                                                                                                                AF009921|                                                                                                                                                                                                                                                                              AAB87644.1|ENSRNOG00000021000|ENSRNOP00000051719|                                                                                                                                                                                                                                                                                                                                                                                                                                                                                                                                                                                                                                                                                                                                null|\n",
            "|ENSRNOT00000089464|      Q499U6|    NSE1_RAT|   361645|NP_001034700.1; XP_006230353.1; XP_006230354.1; XP_006230355.1|88853863; 149067965; 564331047; 564331049; 564331045; 122064621|null|                                                                                                                                    GO:0000781; GO:0005634; GO:0030915; GO:0046872; GO:0046983; GO:0004842; GO:0000724; GO:0035556; GO:2001022; GO:0006301|UniRef100_Q499U6|UniRef90_Q9D720|UniRef50_Q9D720|UPI0000EAE003|null|     10116|null|   null|                    15489334|                                                                                                                                                                                                                                                BC099757|                                                                                                                                                                                                                                                                              AAH99757.1|ENSRNOG00000015218|ENSRNOP00000071768|                                                                                                                                                                                                                                                                                                                                                                                                                                                                                                                                                                                                                                                                                                                                null|\n",
            "|ENSBTAT00000057198|      Q29S11| NUCKS_BOVIN|   505585|                                                NP_001039385.1|                                 114052282; 88758697; 122135335|null|                                                                                                                                                                                                                                                GO:0005634|UniRef100_Q29S11|UniRef90_Q9H1E3|UniRef50_Q9H1E3|UPI000057F2C3|null|      9913|null|   null|                        null|                                                                                                                                                                                                                                                BC113259|                                                                                                                                                                                                                                                                              AAI13260.1|ENSBTAG00000008001|ENSBTAP00000049804|                                                                                                                                                                                                                                                                                                                                                                                                                                                                                                                                                                                                                                                                                                                                null|\n",
            "+------------------+------------+------------+---------+--------------------------------------------------------------+---------------------------------------------------------------+----+----------------------------------------------------------------------------------------------------------------------------------------------------------------------------------------------------------------------------------------------------------+----------------+---------------+---------------+-------------+----+----------+----+-------+----------------------------+--------------------------------------------------------------------------------------------------------------------------------------------------------------------------------------------------------------------------------------------------------+----------------------------------------------------------------------------------------------------------------------------------------------------------------------------------------------------------------------------------------------------------------------------------------+------------------+------------------+------------------------------------------------------------------------------------------------------------------------------------------------------------------------------------------------------------------------------------------------------------------------------------------------------------------------------------------------------------------------------------------------------------------------------------------------------------------------------------------------------------------------------------------------------------------------------------------------------------------------------------------------------------------------------------------------------------------------------------+\n",
            "only showing top 10 rows\n",
            "\n"
          ],
          "output_type" : "stream"
        }
      ]
    },
    {
      "cell_type" : "code",
      "execution_count" : 32,
      "metadata" : {
        "cell.metadata.exec_info" : {
          "startTs" : 1594850611855,
          "endTs" : 1594850612815
        },
        "language" : "scala"
      },
      "language" : "scala",
      "source" : [
        "val anti_uni = anti.join(mapping, Seq(\"Ensembl_TRS\"))\n",
        "anti_uni.show(10,1000)"
      ],
      "outputs" : [
        {
          "name" : "stdout",
          "text" : [
            "+------------------+------------+------------+---------+------------------------------+-------------------------------------------------------------------------------------------------------------------------------------------------------------------------+----------------------------------------------------------------------------------------------------------------------------------------------------------------------------------------------+----------------------------------------------------------------------------------------------------------------------------------------------------------------------------------------------------------------------------------------------------------------------------------------------------------------------------------------------------------+----------------+---------------+---------------+-------------+------+----------+----+-------+----------------------------------------------------------+----------------------------------------------------------------------------+----------------------------------------------------------------------------------------------+------------------+------------------+----------------------------------------------------------------------------------------------------------------------------------------------------------------------------------------------------------------------------------------------------------------------------------------------------------------------------------------------------------------------------------------------------------------------------------------------------------------------------------------------------------------------------------------------------------------------------------------------------------------------------------------------------------------------------------------------------------------------------------------------------------------------------------------------------------------------------------------------------------------------------------------------------------------------------------------------------------------------------------------------------------------------------------------+\n",
            "|       Ensembl_TRS|UniProtKB-AC|UniProtKB-ID|   Entrez|                        RefSeq|                                                                                                                                                                       GI|                                                                                                                                                                                           PDB|                                                                                                                                                                                                                                                                                                                                                        GO|       UniRef100|       UniRef90|       UniRef50|      UniParc|   PIR|NCBI-taxon| MIM|UniGene|                                                    PubMed|                                                                        EMBL|                                                                                      EMBL-CDS|           Ensembl|       Ensembl_PRO|                                                                                                                                                                                                                                                                                                                                                                                                                                                                                                                                                                                                                                                                                                                                                                                                                                                                                                                                                                                                                       Additional PubMed|\n",
            "+------------------+------------+------------+---------+------------------------------+-------------------------------------------------------------------------------------------------------------------------------------------------------------------------+----------------------------------------------------------------------------------------------------------------------------------------------------------------------------------------------+----------------------------------------------------------------------------------------------------------------------------------------------------------------------------------------------------------------------------------------------------------------------------------------------------------------------------------------------------------+----------------+---------------+---------------+-------------+------+----------+----+-------+----------------------------------------------------------+----------------------------------------------------------------------------+----------------------------------------------------------------------------------------------+------------------+------------------+----------------------------------------------------------------------------------------------------------------------------------------------------------------------------------------------------------------------------------------------------------------------------------------------------------------------------------------------------------------------------------------------------------------------------------------------------------------------------------------------------------------------------------------------------------------------------------------------------------------------------------------------------------------------------------------------------------------------------------------------------------------------------------------------------------------------------------------------------------------------------------------------------------------------------------------------------------------------------------------------------------------------------------------+\n",
            "|ENSMUST00000007251|      Q9Z1Q2| ABHGA_MOUSE|   193742|                   NP_848707.1|                                                                                                                         23813768; 30519896; 20810101; 3986762; 148694717|                                                                                                                                                                                          null|                                                                                                                                                                                                                                                                                    GO:0016021; GO:0047372; GO:0004620; GO:0052651; GO:0006660; GO:1905344|UniRef100_Q9Z1Q2|UniRef90_Q9Z1Q2|UniRef50_Q9Z1Q2|UPI0000020FF4|  null|     10090|null|   null|          14656967; 15489334; 21183079; 25290914; 25580854|                                                          AF109905; BC029114|                                                                        AAC84159.1; AAH29114.1|ENSMUSG00000007036|ENSMUSP00000007251|                                                                                                                                                                                                                                                                                                                                                                                                                                                                                                                                                                                                                                                                                                                                                                                                                                                                                            10469308; 10871872; 12477932; 1351875; 14610273; 21267068; 21677750; 27480124; 7993390; 8097912; 8102126; 8919359; 9021146; 9196000; 9551980|\n",
            "|ENSPPYT00000019129|      Q5R6S0| ABHGA_PONAB|100173474|                NP_001126487.1|                                                                                                                                            197101942; 75041298; 55731669|                                                                                                                                                                                          null|                                                                                                                                                                                                                                                                                    GO:0016021; GO:0047372; GO:0004620; GO:0052651; GO:0006660; GO:1905344|UniRef100_Q5R6S0|UniRef90_O95870|UniRef50_O95870|UPI000046A177|  null|      9601|null|   null|                                                      null|                                                                    CR860415|                                                                                    CAH92540.1|ENSPPYG00000016450|ENSPPYP00000018394|                                                                                                                                                                                                                                                                                                                                                                                                                                                                                                                                                                                                                                                                                                                                                                                                                                                                                                                                                                                                                                    null|\n",
            "|ENSMUST00000090269|      P68033|  ACTC_MOUSE|    11464|                   NP_033738.1|                                                                                                                                               387090; 54036698; 14192922|                                                                                                                                                                                          null|            GO:0015629; GO:0005884; GO:0042643; GO:0044297; GO:0005737; GO:0030175; GO:0098978; GO:0031674; GO:0030027; GO:0030017; GO:0045202; GO:0005524; GO:0016887; GO:0017022; GO:0007015; GO:0030048; GO:0070252; GO:0033275; GO:0031032; GO:0060048; GO:0055008; GO:0055003; GO:0060047; GO:0090131; GO:0043066; GO:0010628; GO:0045471; GO:0030240|UniRef100_P68032|UniRef90_P68032|UniRef50_P68032|UPI0000003F15|A54728|     10090|null|   null|                     16141072; 15489334; 3028523; 23911929|                                                  AK014303; BC062138; M15501|                                                            BAB29258.1; AAH62138.1; AAA37167.1|ENSMUSG00000068614|ENSMUSP00000087736|14605248; 15024082; 15491989; 21622575; 23782699; 23784376; 26432839; 28756295; 28847732; 10021345; 10231856; 10393122; 10446263; 10474167; 10625552; 10679931; 10686609; 10807864; 10809671; 10894163; 10965135; 11217851; 11245568; 11437454; 11923206; 11950896; 12091315; 12122109; 12124211; 12231623; 12297045; 12297046; 12466851; 12835402; 14516662; 14633990; 14681479; 14709543; 14963485; 15169892; 1525038; 15343267; 15366018; 15472070; 15525990; 15601854; 15745951; 15767668; 15843414; 15929941; 1617222; 1618140; 1618148; 16380715; 16481394; 16484617; 1652425; 16602821; 16638982; 16775014; 16881058; 17003108; 1723680; 1728592; 17336907; 17473172; 17482496; 1774063; 17766470; 1794310; 18061570; 18316483; 18328475; 18400219; 18470945; 18554416; 18725519; 18816853; 18849322; 1893870; 19091769; 19118250; 1916246; 19320717; 19468071; 19706423; 19745164; 1989904; 20096780; 20230754; 20487000; 20651287; 21145505; 21267068; 21304516; 21429986; 21447557; 21749862; 21780244; 21873635; 22001906;...|\n",
            "|ENSRNOT00000011773|      P68035|    ACTC_RAT|    29275|                   NP_062056.1|                                                                                                                         511131; 77993370; 117558579; 54036667; 149022933|                                                                                                                                                                                          null|GO:0015629; GO:0005884; GO:0042643; GO:0044297; GO:0005737; GO:0030175; GO:0098978; GO:0031674; GO:0030027; GO:0030017; GO:0045202; GO:0005524; GO:0016887; GO:0017022; GO:0007015; GO:0030048; GO:0070252; GO:0033275; GO:0031032; GO:0060048; GO:0055008; GO:0055003; GO:0060047; GO:0090131; GO:0043066; GO:0010628; GO:0042493; GO:0045471; GO:0030240|UniRef100_P68032|UniRef90_P68032|UniRef50_P68032|UPI0000003F15|  null|     10116|null|   null|                                                  15489334|                                                            X80130; BC127451|                                                                        CAA56429.1; AAI27452.1|ENSRNOG00000008536|ENSRNOP00000011773|                                                                                                                                                                                                                                                                                                                                                                                                                                                                                                                                                                                                                                                                                                                                                                                                                                                                                                                                                          15491989; 20962418; 22364878; 11680626; 12898519; 14551059; 15690316; 16343576|\n",
            "|ENSGALT00000088724|      P68139|  ACTS_CHICK|   421534|NP_001026234.1; XP_015139542.1|                                                                                                                 28373642; 63029; 71894831; 28373640; 55976646; 971387708|1MDU:B; 1MDU:E; 5YU8:A; 5YU8:B; 5YU8:C; 5YU8:D; 5YU8:E; 6D8C:H; 6D8C:J; 6D8C:K; 6D8C:L; 6D8C:M; 6DJM:A; 6DJM:B; 6DJM:C; 6DJM:D; 6DJN:A; 6DJN:B; 6DJN:C; 6DJN:D; 6DJO:A; 6DJO:B; 6DJO:C; 6DJO:D|                                                                                                                                                                                                                                                                        GO:0015629; GO:0005884; GO:0001725; GO:0005865; GO:0005524; GO:0048741; GO:0030240|UniRef100_P68133|UniRef90_P68133|UniRef50_P68133|UPI0000000860|A93432|      9031|null|   null|      456601; 6287424; 2347492; 6729461; 6513927; 12356759|                                                                      V01507|                                                                                    CAA24753.1|ENSGALG00000011086|ENSGALP00000060685|                                                                                                                                                                                                                                                                                                                                                                                                                                                                                                                                                                                                                                                                                                                                                                                                                                                                                                                                                                                         29749375; 30224736; 30760599; 22174833; 9843499|\n",
            "|ENSRNOT00000004560|      Q5M886|   ADPRM_RAT|   287406|NP_001009246.1; XP_006246665.1|                                                                                                 157927721; 149052962; 81883113; 57164153; 564372548; 149052963; 56789159|                                                                                                                                                                                          null|                                                                                                                                                                                                                                                                                                                        GO:0047631; GO:0047734; GO:0046872|UniRef100_Q5M886|UniRef90_Q5M886|UniRef50_Q5M886|UPI0000180D67|  null|     10116|null|   null|                                        18352857; 15489334|                                                          EU037900; BC088174|                                                                        ABW03224.1; AAH88174.1|ENSRNOG00000003397|ENSRNOP00000004560|                                                                                                                                                                                                                                                                                                                                                                                                                                                                                                                                                                                                                                                                                                                                                                                                                                                                                                                                                                                                                                    null|\n",
            "|ENSMUST00000020022|      P70158| ASM3A_MOUSE|    57319|                   NP_065586.3|341940248; 984077138; 114431242; 984077139; 148673177; 1552350; 74214487; 74198753; 984077134; 223460757; 18202337; 984077135; 223460018; 984077136; 984077133; 984077137|                                                                                                                                        5FC1:A; 5FC5:A; 5FC6:A; 5FC7:A; 5FCA:A; 5FCA:B; 5FCB:A|                                                                                                                                                                                                                                                                                                GO:0005576; GO:0005615; GO:0008081; GO:0008270; GO:0009143|UniRef100_P70158|UniRef90_P70158|UniRef50_P70158|UPI000002176D|  null|     10090|null|   null|16141072; 15489334; 21183079; 25288789; 26095358; 26792860|                    Y08135; AK151683; AK152282; CH466540; BC139288; BC139289|                        CAA69329.1; BAE30607.1; BAE31096.1; EDL05124.1; AAI39289.1; AAI39290.1|ENSMUSG00000019872|ENSMUSP00000020022|                                                                                                                                                                                                                                                                                                                                                                                                                                                                                                                                                                                                                                                                                                                                                                                                                                                                                                                                                11217851; 12466851; 17668377; 21267068; 21873635; 22967998; 23863478; 24006456; 16615898|\n",
            "|ENSRNOT00000001081|      Q641Z7|   ASM3A_RAT|   294422|                NP_001005539.1|                                                                                                                                  51980329; 53850608; 62899655; 149038596|                                                                                                                                                                                          null|                                                                                                                                                                                                                                                                                                GO:0005576; GO:0005615; GO:0008081; GO:0008270; GO:0009143|UniRef100_Q641Z7|UniRef90_P70158|UniRef50_P70158|UPI00001D15C9|  null|     10116|null|   null|                                                  15489334|                                                                    BC082029|                                                                                    AAH82029.1|ENSRNOG00000000815|ENSRNOP00000001081|                                                                                                                                                                                                                                                                                                                                                                                                                                                                                                                                                                                                                                                                                                                                                                                                                                                                                                                                                                                                                                    null|\n",
            "|ENSBTAT00000020243|      Q3SZX4|  CAH3_BOVIN|   513212|                NP_001029609.1|                                                                                                                                            77735829; 118572923; 74268078|                                                                                                                                                                                          null|                                                                                                                                                                                                                                                                                                GO:0005829; GO:0004089; GO:0016151; GO:0008270; GO:0009617|UniRef100_Q3SZX4|UniRef90_Q3SZX4|UniRef50_P14141|UPI00004EDFB4|  null|      9913|null|   null|                                                      null|                                                                    BC102666|                                                                                    AAI02667.1|ENSBTAG00000015214|ENSBTAP00000020243|                                                                                                                                                                                                                                                                                                                                                                                                                                                                                                                                                                                                                                                                                                                                                                                                                                                                                                                                                                                                                                    null|\n",
            "|ENSMUST00000029076|      P16015|  CAH3_MOUSE|    12350|                   NP_031632.2|                                                                                                                148673184; 30581036; 15029812; 309127; 31982861; 10717134|                                                                                                                                                                                          null|                                                                                                                                                                                                                                                            GO:0005829; GO:0004089; GO:0016151; GO:0016791; GO:0008270; GO:0009617; GO:0045471; GO:0006979|UniRef100_P16015|UniRef90_P14141|UniRef50_P14141|UPI0000022C32|A43641|     10090|null|   null|            2496681; 11255005; 15489334; 1922100; 21183079|M27796; AF294988; AF294983; AF294984; AF294985; AF294986; AF294987; BC011129|AAA37355.1; AAG22029.1; AAG22029.1; AAG22029.1; AAG22029.1; AAG22029.1; AAG22029.1; AAH11129.1|ENSMUSG00000027559|ENSMUSP00000029076|                                                                                                                                                                                                                                                                                                                                                                                                                                                                                                                                                                                                              11217851; 12466851; 12571105; 12930737; 14681479; 15509796; 16247769; 16602821; 16829211; 16918699; 16945627; 17182736; 17504941; 17626619; 18322545; 18722179; 1901785; 1916821; 20346939; 20881014; 2111277; 21267068; 22008794; 22507175; 22972626; 23012479; 23233153; 24727668; 24789143; 24952961; 25127920; 25684186; 28437447; 2852973; 28928248; 29559661; 7717866; 9020864; 9021147; 9651514; 15883644; 16615898|\n",
            "+------------------+------------+------------+---------+------------------------------+-------------------------------------------------------------------------------------------------------------------------------------------------------------------------+----------------------------------------------------------------------------------------------------------------------------------------------------------------------------------------------+----------------------------------------------------------------------------------------------------------------------------------------------------------------------------------------------------------------------------------------------------------------------------------------------------------------------------------------------------------+----------------+---------------+---------------+-------------+------+----------+----+-------+----------------------------------------------------------+----------------------------------------------------------------------------+----------------------------------------------------------------------------------------------+------------------+------------------+----------------------------------------------------------------------------------------------------------------------------------------------------------------------------------------------------------------------------------------------------------------------------------------------------------------------------------------------------------------------------------------------------------------------------------------------------------------------------------------------------------------------------------------------------------------------------------------------------------------------------------------------------------------------------------------------------------------------------------------------------------------------------------------------------------------------------------------------------------------------------------------------------------------------------------------------------------------------------------------------------------------------------------------+\n",
            "only showing top 10 rows\n",
            "\n"
          ],
          "output_type" : "stream"
        }
      ]
    },
    {
      "cell_type" : "code",
      "execution_count" : 33,
      "metadata" : {
        "cell.metadata.exec_info" : {
          "startTs" : 1594850614581,
          "endTs" : 1594852089519
        },
        "language" : "scala"
      },
      "language" : "scala",
      "source" : [
        "pro_uni.writeTSV(\"/data/species/pro_isoforms_uniprot_mapping.tsv\", true)\n",
        "anti_uni.writeTSV(\"/data/species/anti_isoforms_uniprot_mapping.tsv\", true)"
      ],
      "outputs" : [
        {
          "name" : "stdout",
          "text" : [
            "parts of /data/species/pro_isoforms_uniprot_mapping.tsv merged!\n",
            "parts of /data/species/anti_isoforms_uniprot_mapping.tsv merged!\n"
          ],
          "output_type" : "stream"
        },
        {
          "execution_count" : 33,
          "data" : {
            "text/plain" : [
              "/data/species/anti_isoforms_uniprot_mapping.tsv"
            ]
          },
          "metadata" : {
            "name" : "Out",
            "type" : "String"
          },
          "output_type" : "execute_result"
        }
      ]
    }
  ]
}