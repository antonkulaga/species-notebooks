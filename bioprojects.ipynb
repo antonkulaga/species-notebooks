{
  "metadata" : {
    "config" : {
      "dependencies" : {
        "scala" : [
          "com.databricks:spark-xml_2.12:0.8.0",
          "com.databricks:spark-xml_2.12:0.8.0"
        ]
      },
      "exclusions" : [
      ],
      "repositories" : [
        {
          "maven" : {
            "base" : "http://central.maven.org/maven2/"
          }
        },
        {
          "maven" : {
            "base" : "http://oss.sonatype.org/content/repositories/snapshots"
          }
        },
        {
          "maven" : {
            "base" : "https://dl.bintray.com/comp-bio-aging/main/"
          }
        }
      ],
      "sparkConfig" : {
        "master" : "http://spark:7070[16]"
      }
    },
    "language_info" : {
      "name" : "scala"
    }
  },
  "nbformat" : 4,
  "nbformat_minor" : 0,
  "cells" : [
    {
      "cell_type" : "markdown",
      "execution_count" : 0,
      "metadata" : {
        "language" : "text"
      },
      "language" : "text",
      "source" : [
        "# bioprojects\n",
        "\n",
        "This is a text cell. Start editing!"
      ],
      "outputs" : [
      ]
    },
    {
      "cell_type" : "code",
      "execution_count" : 1,
      "metadata" : {
        "cell.metadata.exec_info" : {
          "startTs" : 1581201916672,
          "endTs" : 1581201917210
        },
        "language" : "scala"
      },
      "language" : "scala",
      "source" : [
        "import org.apache.spark.sql.SparkSession\n",
        "import com.databricks.spark.xml._"
      ],
      "outputs" : [
      ]
    },
    {
      "cell_type" : "code",
      "execution_count" : 2,
      "metadata" : {
        "cell.metadata.exec_info" : {
          "startTs" : 1581209178516,
          "endTs" : 1581210160585
        },
        "language" : "scala"
      },
      "language" : "scala",
      "source" : [
        "val samples = spark.read\n",
        "      .format(\"com.databricks.spark.xml\")\n",
        "      .option(\"rowTag\", \"BioSample\")\n",
        "      .option(\"valueTag\", \"value\")\n",
        "      .option(\"attributePrefix\", \"att_\")\n",
        "      .xml(\"/data/indexes/ncbi/biosample_set.xml\")\n"
      ],
      "outputs" : [
      ]
    },
    {
      "cell_type" : "code",
      "execution_count" : 3,
      "metadata" : {
        "cell.metadata.exec_info" : {
          "startTs" : 1581210567510,
          "endTs" : 1581210567699
        },
        "language" : "scala"
      },
      "language" : "scala",
      "source" : [
        "import org.apache.spark.sql.Encoders\n",
        "\n",
        "case class Attributes(Atrribute: scala.collection.mutable.WrappedArray[Element])\n",
        "\n",
        "case class Element(\n",
        "     att_attribute_name:  String,\n",
        " att_display_name:  String,\n",
        " att_harmonized_name: String,\n",
        " att_unit: String,\n",
        " value: String\n",
        ")"
      ],
      "outputs" : [
      ]
    },
    {
      "cell_type" : "code",
      "execution_count" : 4,
      "metadata" : {
        "language" : "scala"
      },
      "language" : "scala",
      "source" : [
        "import org.apache.spark.sql.catalyst.ScalaReflection"
      ],
      "outputs" : [
      ]
    },
    {
      "cell_type" : "code",
      "execution_count" : 5,
      "metadata" : {
        "cell.metadata.exec_info" : {
          "startTs" : 1581218723128,
          "endTs" : 1581218723993
        },
        "language" : "scala"
      },
      "language" : "scala",
      "source" : [
        "val el = samples.select(\"Attributes\").take(1).map{ case row=> row.getStruct(0).toSeq.toList.asInstanceOf[List[scala.collection.mutable.WrappedArray[org.apache.spark.sql.catalyst.expressions.GenericRowWithSchema]]].flatMap(a=>a.toList)}\n",
        "el"
      ],
      "outputs" : [
        {
          "execution_count" : 5,
          "data" : {
            "text/plain" : [
              "[Lscala.collection.immutable.List;@301f2251"
            ]
          },
          "metadata" : {
            "name" : "Out",
            "type" : "Array[List[GenericRowWithSchema]]"
          },
          "output_type" : "execute_result"
        }
      ]
    },
    {
      "cell_type" : "code",
      "execution_count" : 6,
      "metadata" : {
        "cell.metadata.exec_info" : {
          "startTs" : 1581218902998,
          "endTs" : 1581218903017
        },
        "language" : "scala"
      },
      "language" : "scala",
      "source" : [
        "el.head.map(Element.apply(_.toSeq:_*))"
      ],
      "outputs" : [
        {
          "execution_count" : 6,
          "data" : {
            "application/json" : [
              {
                "pos" : {
                  "sourceId" : "Cell15",
                  "start" : 12,
                  "end" : 37,
                  "point" : 25
                },
                "msg" : "not enough arguments for method apply: (att_attribute_name: String, att_display_name: String, att_harmonized_name: String, att_unit: String, value: String)Cell15$90.this._inputCell13$38.Element in object Element.\nUnspecified value parameters att_display_name, att_harmonized_name, att_unit...",
                "severity" : 2
              }
            ],
            "text/plain" : [
              "Error: not enough arguments for method apply: (att_attribute_name: String, att_display_name: String, att_harmonized_name: String, att_unit: String, value: String)Cell15$90.this._inputCell13$38.Element in object Element.\nUnspecified value parameters att_display_name, att_harmonized_name, att_unit... (12)"
            ]
          },
          "metadata" : {
            "rel" : "compiler_errors"
          },
          "output_type" : "execute_result"
        }
      ]
    },
    {
      "cell_type" : "code",
      "execution_count" : 7,
      "metadata" : {
        "cell.metadata.exec_info" : {
          "startTs" : 1581210176379,
          "endTs" : 1581210176484
        },
        "language" : "scala"
      },
      "language" : "scala",
      "source" : [
        "samples.printSchema()"
      ],
      "outputs" : [
        {
          "name" : "stdout",
          "text" : [
            "root\n",
            " |-- Attributes: struct (nullable = true)\n",
            " |    |-- Attribute: array (nullable = true)\n",
            " |    |    |-- element: struct (containsNull = true)\n",
            " |    |    |    |-- att_attribute_name: string (nullable = true)\n",
            " |    |    |    |-- att_display_name: string (nullable = true)\n",
            " |    |    |    |-- att_harmonized_name: string (nullable = true)\n",
            " |    |    |    |-- att_unit: string (nullable = true)\n",
            " |    |    |    |-- value: string (nullable = true)\n",
            " |-- Curation: struct (nullable = true)\n",
            " |    |-- att_curation_date: string (nullable = true)\n",
            " |    |-- att_curation_status: string (nullable = true)\n",
            " |    |-- value: string (nullable = true)\n",
            " |-- Description: struct (nullable = true)\n",
            " |    |-- Comment: struct (nullable = true)\n",
            " |    |    |-- Paragraph: array (nullable = true)\n",
            " |    |    |    |-- element: string (containsNull = true)\n",
            " |    |    |-- Table: array (nullable = true)\n",
            " |    |    |    |-- element: struct (containsNull = true)\n",
            " |    |    |    |    |-- Body: struct (nullable = true)\n",
            " |    |    |    |    |    |-- Row: array (nullable = true)\n",
            " |    |    |    |    |    |    |-- element: struct (containsNull = true)\n",
            " |    |    |    |    |    |    |    |-- Cell: array (nullable = true)\n",
            " |    |    |    |    |    |    |    |    |-- element: string (containsNull = true)\n",
            " |    |    |    |    |-- Caption: string (nullable = true)\n",
            " |    |    |    |    |-- Header: struct (nullable = true)\n",
            " |    |    |    |    |    |-- Cell: array (nullable = true)\n",
            " |    |    |    |    |    |    |-- element: string (containsNull = true)\n",
            " |    |    |    |    |-- att_class: string (nullable = true)\n",
            " |    |-- Organism: struct (nullable = true)\n",
            " |    |    |-- OrganismName: string (nullable = true)\n",
            " |    |    |-- att_taxonomy_id: long (nullable = true)\n",
            " |    |    |-- att_taxonomy_name: string (nullable = true)\n",
            " |    |    |-- value: string (nullable = true)\n",
            " |    |-- Synonym: array (nullable = true)\n",
            " |    |    |-- element: struct (containsNull = true)\n",
            " |    |    |    |-- att_db: string (nullable = true)\n",
            " |    |    |    |-- value: string (nullable = true)\n",
            " |    |-- Title: string (nullable = true)\n",
            " |-- Ids: struct (nullable = true)\n",
            " |    |-- Id: array (nullable = true)\n",
            " |    |    |-- element: struct (containsNull = true)\n",
            " |    |    |    |-- att_db: string (nullable = true)\n",
            " |    |    |    |-- att_db_label: string (nullable = true)\n",
            " |    |    |    |-- att_is_hidden: long (nullable = true)\n",
            " |    |    |    |-- att_is_primary: long (nullable = true)\n",
            " |    |    |    |-- value: string (nullable = true)\n",
            " |-- Links: struct (nullable = true)\n",
            " |    |-- Link: array (nullable = true)\n",
            " |    |    |-- element: struct (containsNull = true)\n",
            " |    |    |    |-- att_label: string (nullable = true)\n",
            " |    |    |    |-- att_submission_id: string (nullable = true)\n",
            " |    |    |    |-- att_target: string (nullable = true)\n",
            " |    |    |    |-- att_type: string (nullable = true)\n",
            " |    |    |    |-- value: string (nullable = true)\n",
            " |-- Models: struct (nullable = true)\n",
            " |    |-- Model: array (nullable = true)\n",
            " |    |    |-- element: struct (containsNull = true)\n",
            " |    |    |    |-- att_version: double (nullable = true)\n",
            " |    |    |    |-- value: string (nullable = true)\n",
            " |-- Owner: struct (nullable = true)\n",
            " |    |-- Contacts: struct (nullable = true)\n",
            " |    |    |-- Contact: array (nullable = true)\n",
            " |    |    |    |-- element: struct (containsNull = true)\n",
            " |    |    |    |    |-- Address: struct (nullable = true)\n",
            " |    |    |    |    |    |-- Street: string (nullable = true)\n",
            " |    |    |    |    |-- Name: struct (nullable = true)\n",
            " |    |    |    |    |    |-- First: string (nullable = true)\n",
            " |    |    |    |    |    |-- Last: string (nullable = true)\n",
            " |    |    |    |    |    |-- Middle: string (nullable = true)\n",
            " |    |    |    |    |    |-- att_xmlns:xsi: string (nullable = true)\n",
            " |    |    |    |    |-- att_email: string (nullable = true)\n",
            " |    |    |    |    |-- att_fax: string (nullable = true)\n",
            " |    |    |    |    |-- att_lab: string (nullable = true)\n",
            " |    |    |    |    |-- att_phone: string (nullable = true)\n",
            " |    |    |    |    |-- value: string (nullable = true)\n",
            " |    |-- Name: array (nullable = true)\n",
            " |    |    |-- element: struct (containsNull = true)\n",
            " |    |    |    |-- att_abbreviation: string (nullable = true)\n",
            " |    |    |    |-- att_url: string (nullable = true)\n",
            " |    |    |    |-- value: string (nullable = true)\n",
            " |-- Package: struct (nullable = true)\n",
            " |    |-- att_display_name: string (nullable = true)\n",
            " |    |-- value: string (nullable = true)\n",
            " |-- Status: struct (nullable = true)\n",
            " |    |-- att_status: string (nullable = true)\n",
            " |    |-- att_when: string (nullable = true)\n",
            " |    |-- value: string (nullable = true)\n",
            " |-- att_access: string (nullable = true)\n",
            " |-- att_accession: string (nullable = true)\n",
            " |-- att_id: long (nullable = true)\n",
            " |-- att_is_reference: long (nullable = true)\n",
            " |-- att_last_update: string (nullable = true)\n",
            " |-- att_publication_date: string (nullable = true)\n",
            " |-- att_submission_date: string (nullable = true)\n",
            "\n"
          ],
          "output_type" : "stream"
        }
      ]
    },
    {
      "cell_type" : "code",
      "execution_count" : 8,
      "metadata" : {
        "cell.metadata.exec_info" : {
          "startTs" : 1581210160589,
          "endTs" : 1581210160991
        },
        "language" : "scala"
      },
      "language" : "scala",
      "source" : [
        "val ats = samples.select(\"Attributes\").take(10)\n",
        "ats.toList"
      ],
      "outputs" : [
        {
          "execution_count" : 8,
          "data" : {
            "text/plain" : [
              "List([[WrappedArray([finishing strategy (depth of coverage),null,null,null,Level 3: Improved-High-Quality Draft11.6x;20], [collection date,collection date,collection_date,null,not determined], [estimated_size,estimated size,estimated_size,null,2550000], "
            ]
          },
          "metadata" : {
            "name" : "Out",
            "type" : "List[Row]"
          },
          "output_type" : "execute_result"
        }
      ]
    },
    {
      "cell_type" : "code",
      "execution_count" : 9,
      "metadata" : {
        "cell.metadata.exec_info" : {
          "startTs" : 1581208611280,
          "endTs" : 1581208611484
        },
        "language" : "scala"
      },
      "language" : "scala",
      "source" : [
        "val r = ats.head\n",
        "r"
      ],
      "outputs" : [
        {
          "execution_count" : 9,
          "data" : {
            "text/plain" : [
              "[[WrappedArray([Level 3: Improved-High-Quality Draft11.6x;20,finishing strategy (depth of coverage),null,null,null], [not determined,collection date,collection date,collection_date,null], [2550000,estimated_size,estimated size,estimated_size,null], [http"
            ]
          },
          "metadata" : {
            "name" : "Out",
            "type" : "Row"
          },
          "output_type" : "execute_result"
        }
      ]
    },
    {
      "cell_type" : "code",
      "execution_count" : 10,
      "metadata" : {
        "cell.metadata.exec_info" : {
          "startTs" : 1581209109573,
          "endTs" : 1581209109596
        },
        "language" : "scala"
      },
      "language" : "scala",
      "source" : [
        "case class Element(_VALUE; String, _attribute_name: String, _display_name: String, _harmonized_name: String, _unit: String)"
      ],
      "outputs" : [
        {
          "execution_count" : 10,
          "data" : {
            "application/json" : [
              {
                "pos" : {
                  "sourceId" : "Cell11",
                  "start" : 25,
                  "end" : 25,
                  "point" : 25
                },
                "msg" : "':' expected but ';' found.",
                "severity" : 2
              },
              {
                "pos" : {
                  "sourceId" : "Cell11",
                  "start" : 33,
                  "end" : 33,
                  "point" : 33
                },
                "msg" : "';' expected but ',' found.",
                "severity" : 2
              }
            ],
            "text/plain" : [
              "Error: ':' expected but ';' found. (25)",
              "Error: ';' expected but ',' found. (33)"
            ]
          },
          "metadata" : {
            "rel" : "compiler_errors"
          },
          "output_type" : "execute_result"
        }
      ]
    },
    {
      "cell_type" : "code",
      "execution_count" : 11,
      "metadata" : {
        "cell.metadata.exec_info" : {
          "startTs" : 1581205931091,
          "endTs" : 1581205931299
        },
        "language" : "scala"
      },
      "language" : "scala",
      "source" : [
        "samples.printSchema()"
      ],
      "outputs" : [
        {
          "name" : "stdout",
          "text" : [
            "root\n",
            " |-- Attributes: struct (nullable = true)\n",
            " |    |-- Attribute: array (nullable = true)\n",
            " |    |    |-- element: struct (containsNull = true)\n",
            " |    |    |    |-- _VALUE: string (nullable = true)\n",
            " |    |    |    |-- _attribute_name: string (nullable = true)\n",
            " |    |    |    |-- _display_name: string (nullable = true)\n",
            " |    |    |    |-- _harmonized_name: string (nullable = true)\n",
            " |    |    |    |-- _unit: string (nullable = true)\n",
            " |-- Curation: struct (nullable = true)\n",
            " |    |-- _VALUE: string (nullable = true)\n",
            " |    |-- _curation_date: string (nullable = true)\n",
            " |    |-- _curation_status: string (nullable = true)\n",
            " |-- Description: struct (nullable = true)\n",
            " |    |-- Comment: struct (nullable = true)\n",
            " |    |    |-- Paragraph: array (nullable = true)\n",
            " |    |    |    |-- element: string (containsNull = true)\n",
            " |    |    |-- Table: array (nullable = true)\n",
            " |    |    |    |-- element: struct (containsNull = true)\n",
            " |    |    |    |    |-- Body: struct (nullable = true)\n",
            " |    |    |    |    |    |-- Row: array (nullable = true)\n",
            " |    |    |    |    |    |    |-- element: struct (containsNull = true)\n",
            " |    |    |    |    |    |    |    |-- Cell: array (nullable = true)\n",
            " |    |    |    |    |    |    |    |    |-- element: string (containsNull = true)\n",
            " |    |    |    |    |-- Caption: string (nullable = true)\n",
            " |    |    |    |    |-- Header: struct (nullable = true)\n",
            " |    |    |    |    |    |-- Cell: array (nullable = true)\n",
            " |    |    |    |    |    |    |-- element: string (containsNull = true)\n",
            " |    |    |    |    |-- _class: string (nullable = true)\n",
            " |    |-- Organism: struct (nullable = true)\n",
            " |    |    |-- OrganismName: string (nullable = true)\n",
            " |    |    |-- _VALUE: string (nullable = true)\n",
            " |    |    |-- _taxonomy_id: long (nullable = true)\n",
            " |    |    |-- _taxonomy_name: string (nullable = true)\n",
            " |    |-- Synonym: array (nullable = true)\n",
            " |    |    |-- element: struct (containsNull = true)\n",
            " |    |    |    |-- _VALUE: string (nullable = true)\n",
            " |    |    |    |-- _db: string (nullable = true)\n",
            " |    |-- Title: string (nullable = true)\n",
            " |-- Ids: struct (nullable = true)\n",
            " |    |-- Id: array (nullable = true)\n",
            " |    |    |-- element: struct (containsNull = true)\n",
            " |    |    |    |-- _VALUE: string (nullable = true)\n",
            " |    |    |    |-- _db: string (nullable = true)\n",
            " |    |    |    |-- _db_label: string (nullable = true)\n",
            " |    |    |    |-- _is_hidden: long (nullable = true)\n",
            " |    |    |    |-- _is_primary: long (nullable = true)\n",
            " |-- Links: struct (nullable = true)\n",
            " |    |-- Link: array (nullable = true)\n",
            " |    |    |-- element: struct (containsNull = true)\n",
            " |    |    |    |-- _VALUE: string (nullable = true)\n",
            " |    |    |    |-- _label: string (nullable = true)\n",
            " |    |    |    |-- _submission_id: string (nullable = true)\n",
            " |    |    |    |-- _target: string (nullable = true)\n",
            " |    |    |    |-- _type: string (nullable = true)\n",
            " |-- Models: struct (nullable = true)\n",
            " |    |-- Model: array (nullable = true)\n",
            " |    |    |-- element: struct (containsNull = true)\n",
            " |    |    |    |-- _VALUE: string (nullable = true)\n",
            " |    |    |    |-- _version: double (nullable = true)\n",
            " |-- Owner: struct (nullable = true)\n",
            " |    |-- Contacts: struct (nullable = true)\n",
            " |    |    |-- Contact: array (nullable = true)\n",
            " |    |    |    |-- element: struct (containsNull = true)\n",
            " |    |    |    |    |-- Address: struct (nullable = true)\n",
            " |    |    |    |    |    |-- Street: string (nullable = true)\n",
            " |    |    |    |    |-- Name: struct (nullable = true)\n",
            " |    |    |    |    |    |-- First: string (nullable = true)\n",
            " |    |    |    |    |    |-- Last: string (nullable = true)\n",
            " |    |    |    |    |    |-- Middle: string (nullable = true)\n",
            " |    |    |    |    |    |-- _xmlns:xsi: string (nullable = true)\n",
            " |    |    |    |    |-- _VALUE: string (nullable = true)\n",
            " |    |    |    |    |-- _email: string (nullable = true)\n",
            " |    |    |    |    |-- _fax: string (nullable = true)\n",
            " |    |    |    |    |-- _lab: string (nullable = true)\n",
            " |    |    |    |    |-- _phone: string (nullable = true)\n",
            " |    |-- Name: array (nullable = true)\n",
            " |    |    |-- element: struct (containsNull = true)\n",
            " |    |    |    |-- _VALUE: string (nullable = true)\n",
            " |    |    |    |-- _abbreviation: string (nullable = true)\n",
            " |    |    |    |-- _url: string (nullable = true)\n",
            " |-- Package: struct (nullable = true)\n",
            " |    |-- _VALUE: string (nullable = true)\n",
            " |    |-- _display_name: string (nullable = true)\n",
            " |-- Status: struct (nullable = true)\n",
            " |    |-- _VALUE: string (nullable = true)\n",
            " |    |-- _status: string (nullable = true)\n",
            " |    |-- _when: string (nullable = true)\n",
            " |-- _access: string (nullable = true)\n",
            " |-- _accession: string (nullable = true)\n",
            " |-- _id: long (nullable = true)\n",
            " |-- _is_reference: long (nullable = true)\n",
            " |-- _last_update: string (nullable = true)\n",
            " |-- _publication_date: string (nullable = true)\n",
            " |-- _submission_date: string (nullable = true)\n",
            "\n"
          ],
          "output_type" : "stream"
        }
      ]
    },
    {
      "cell_type" : "code",
      "execution_count" : 12,
      "metadata" : {
        "cell.metadata.exec_info" : {
          "startTs" : 1581207487162,
          "endTs" : 1581207487543
        },
        "language" : "scala"
      },
      "language" : "scala",
      "source" : [
        "samples.show(30, 10000)"
      ],
      "outputs" : [
        {
          "name" : "stdout",
          "text" : [
            "+-------------------------------------------------------------------------------------------------------------------------------------------------------------------------------------------------------------------------------------------------------------------------------------------------------------------------------------------------------------------------------------------------------------------------------------------------------------------------------------------------------------------------------------------------------------------------------------------------------------------------------------------------------------------------------------------------------------------------------------------------------------------------------------------------------------------------------------------------------------------------------------------------------------------------------------------------------------------------------------------------------------------------------------------------------------------------------------------------------------------------------------------------------------------------------------------------------------------------------------------------------------------------------------------------------------------------------------------------------------------------------------------------------------------------------------------------------------------------------------------------------------------------------------------------------------------------------------------------------------------------------------------------------------------------------------------------------------------------------------------------------------------------------------------------------------------------------------------------------------------------------------------------------------------+--------+-----------------------------------------------------------------------------------------------------------------------------------------------------------------------------------------------------------------------------------------------------------------------------------------------------------------------------------------------------------------------------------------------------------------------------------------------------------------------------------------------------------------------------------------------------------------+--------------------------------------------------------------------------------------------------------------------------+-----------------------------------------------------------------------------------------------------------------------------------------------------------------------------+--------------+--------------------------------------------------------------------------------------------------------+-----------------------------------------------------------+---------------------------------+-------+------------+---+-------------+-----------------------+-----------------------+-----------------------+\n",
            "|                                                                                                                                                                                                                                                                                                                                                                                                                                                                                                                                                                                                                                                                                                                                                                                                                                                                                                                                                                                                                                                                                                                                                                                                                                                                                                                                                                                                                                                                                                                                                                                                                                                                                                                                                                                                                                                                                                         Attributes|Curation|                                                                                                                                                                                                                                                                                                                                                                                                                                                                                                                                                      Description|                                                                                                                       Ids|                                                                                                                                                                        Links|        Models|                                                                                                   Owner|                                                    Package|                           Status|_access|  _accession|_id|_is_reference|           _last_update|      _publication_date|       _submission_date|\n",
            "+-------------------------------------------------------------------------------------------------------------------------------------------------------------------------------------------------------------------------------------------------------------------------------------------------------------------------------------------------------------------------------------------------------------------------------------------------------------------------------------------------------------------------------------------------------------------------------------------------------------------------------------------------------------------------------------------------------------------------------------------------------------------------------------------------------------------------------------------------------------------------------------------------------------------------------------------------------------------------------------------------------------------------------------------------------------------------------------------------------------------------------------------------------------------------------------------------------------------------------------------------------------------------------------------------------------------------------------------------------------------------------------------------------------------------------------------------------------------------------------------------------------------------------------------------------------------------------------------------------------------------------------------------------------------------------------------------------------------------------------------------------------------------------------------------------------------------------------------------------------------------------------------------------------------+--------+-----------------------------------------------------------------------------------------------------------------------------------------------------------------------------------------------------------------------------------------------------------------------------------------------------------------------------------------------------------------------------------------------------------------------------------------------------------------------------------------------------------------------------------------------------------------+--------------------------------------------------------------------------------------------------------------------------+-----------------------------------------------------------------------------------------------------------------------------------------------------------------------------+--------------+--------------------------------------------------------------------------------------------------------+-----------------------------------------------------------+---------------------------------+-------+------------+---+-------------+-----------------------+-----------------------+-----------------------+\n",
            "|                                                         [[[Level 3: Improved-High-Quality Draft11.6x;20, finishing strategy (depth of coverage),,,], [not determined, collection date, collection date, collection_date,], [2550000, estimated_size, estimated size, estimated_size,], [http://hmpdacc.org/doc/CommonGeneAnnotation_SOP.pdf, sop,,,], [Reference Genome, project_type,,,], [Homo sapiens, host, host, host,], [not determined, lat_lon, latitude and longitude, lat_lon,], [terrestrial biome [ENVO:00000446], biome, broad-scale environmental context, env_broad_scale,], [not determined, misc_param: HMP body site,,,], [not determined, nucleic acid extraction,,,], [human-associated habitat [ENVO:00009003], feature, local-scale environmental context, env_local_scale,], [missing, investigation_type, investigation type, investigation_type,], [9606, host taxid, host taxonomy ID, host_taxid,], [Alistipes putredinis DSM 17216, project_name, project name, project_name,], [PCAP, assembly,,,], [not determined, geo_loc_name, geographic location, geo_loc_name,], [DSM 17216, CCUG 45780, CIP 104286, ATCC 29800, Carlier 10203, VPI 3293, source_mat_id, source material identifiers, source_material_id,], [biological product [ENVO:02000043], material, environmental medium, env_medium,], [not determined, ref_biomaterial, reference for biomaterial, ref_biomaterial,], [gastrointestinal_tract, misc_param: HMP supersite,,,], [not determined, num_replicons, number of replicons, num_replicons,], [454-GS20, Sanger, sequencing method,,,], [not determined, isol_growth_condt, isolation and growth condition, isol_growth_condt,], [missing, env_package, environmental package, env_package,], [DSM 17216, strain, strain, strain,], [missing, isolation-source, isolation source, isolation_source,], [type strain of Alistipes putredinis, type-material,,,]]]|    null|                                                                                                          [[[Alistipes putredinis (GenBank Accession Number for 16S rDNA gene: L16497) is a member of the Bacteroidetes division of the domain bacteria and has been isolated from human feces. It has been found in 16S rDNA sequence-based enumerations of the colonic microbiota of adult humans (Eckburg et. al. (2005), Ley et. al. (2006)). , Keywords: GSC:MIxS;MIGS:5.0],], [,, 445970, Alistipes putredinis DSM 17216],, Alistipes putredinis DSM 17216]|                                    [[[SAMN00000002, BioSample,,, 1], [19655, WUGSC, Sample name,,], [SRS000002, SRA,,,]]]|                                                              [[[http://www.dsmz.de/catalogues/details/culture/DSM-17216, DNA Source,,, url], [19655,,, bioproject, entrez]]]|[[[MIGS.ba,]]]|       [[[[,,, lims@genome.wustl.edu,,,]]], [[Washington University, Genome Sequencing Center, WUGSC,]]]|[MIGS.ba.5.0, MIGS: cultured bacteria/archaea; version 5.0]|    [, live, 2013-08-05T10:18:49]| public|SAMN00000002|  2|         null|2019-06-20T16:11:22.271|2008-04-04T00:00:00.000|2008-04-04T08:44:24.950|\n",
            "|                                                                            [[[Level 3: Improved-High-Quality Draft6x;36, finishing strategy (depth of coverage),,,], [not determined, collection date, collection date, collection_date,], [3719000, estimated_size, estimated size, estimated_size,], [http://hmpdacc.org/doc/CommonGeneAnnotation_SOP.pdf, sop,,,], [Reference Genome, project_type,,,], [Homo sapiens, host, host, host,], [not determined, lat_lon, latitude and longitude, lat_lon,], [terrestrial biome [ENVO:00000446], biome, broad-scale environmental context, env_broad_scale,], [not determined, misc_param: HMP body site,,,], [not determined, nucleic acid extraction,,,], [human-associated habitat [ENVO:00009003], feature, local-scale environmental context, env_local_scale,], [missing, investigation_type, investigation type, investigation_type,], [9606, host taxid, host taxonomy ID, host_taxid,], [Anaerotruncus colihominis DSM 17241, project_name, project name, project_name,], [PCAP, assembly,,,], [not determined, geo_loc_name, geographic location, geo_loc_name,], [DSM 17241, CCUG 45055, CIP 107754, WAL 14565, source_mat_id, source material identifiers, source_material_id,], [biological product [ENVO:02000043], material, environmental medium, env_medium,], [not determined, ref_biomaterial, reference for biomaterial, ref_biomaterial,], [gastrointestinal_tract, misc_param: HMP supersite,,,], [not determined, num_replicons, number of replicons, num_replicons,], [454-GS20, Sanger, sequencing method,,,], [not determined, isol_growth_condt, isolation and growth condition, isol_growth_condt,], [missing, env_package, environmental package, env_package,], [DSM 17241, strain, strain, strain,], [missing, isolation-source, isolation source, isolation_source,], [type strain of Anaerotruncus colihominis, type-material,,,]]]|    null|                                                         [[[Anaerotruncus colihominis (GenBank Accession Number for 16S rDNA gene: AJ315980) is a member of the Firmicutes division of the domain bacteria and has been isolated from human feces. It has been found in 16S rDNA sequence-based enumerations of the colonic microbiota of adult humans (Eckburg et. al. (2005), Ley et. al. (2006)). , Keywords: GSC:MIxS;MIGS:5.0],], [Anaerotruncus colihominis DSM 17241,, 445972, Anaerotruncus colihominis DSM 17241],, Anaerotruncus colihominis DSM 17241]|                                    [[[SAMN00000003, BioSample,,, 1], [19659, WUGSC, Sample name,,], [SRS000003, SRA,,,]]]|                                                   [[[http://www.dsmz.de/catalogues/details/culture/DSM-17241, DNA Source,,, url], [19659, PRJNA19659,, bioproject, entrez]]]|[[[MIGS.ba,]]]|       [[[[,,, lims@genome.wustl.edu,,,]]], [[Washington University, Genome Sequencing Center, WUGSC,]]]|[MIGS.ba.5.0, MIGS: cultured bacteria/archaea; version 5.0]|    [, live, 2013-08-05T10:18:49]| public|SAMN00000003|  3|         null|2019-06-20T16:11:22.351|2008-04-04T00:00:00.000|2008-04-04T08:44:25.263|\n",
            "|                                                                                  [[[Level 3: Improved-High-Quality Draft8.8x;41, finishing strategy (depth of coverage),,,], [not determined, collection date, collection date, collection_date,], [4009000, estimated_size, estimated size, estimated_size,], [http://hmpdacc.org/doc/CommonGeneAnnotation_SOP.pdf, sop,,,], [Reference Genome, project_type,,,], [Homo sapiens, host, host, host,], [not determined, lat_lon, latitude and longitude, lat_lon,], [terrestrial biome [ENVO:00000446], biome, broad-scale environmental context, env_broad_scale,], [not determined, misc_param: HMP body site,,,], [not determined, nucleic acid extraction,,,], [human-associated habitat [ENVO:00009003], feature, local-scale environmental context, env_local_scale,], [missing, investigation_type, investigation type, investigation_type,], [9606, host taxid, host taxonomy ID, host_taxid,], [Bacteroides stercoris ATCC 43183, project_name, project name, project_name,], [Newbler, PCAP, assembly,,,], [not determined, geo_loc_name, geographic location, geo_loc_name,], [ATCC 43183, CIP 104203T, JCM 9496, source_mat_id, source material identifiers, source_material_id,], [biological product [ENVO:02000043], material, environmental medium, env_medium,], [not determined, ref_biomaterial, reference for biomaterial, ref_biomaterial,], [gastrointestinal_tract, misc_param: HMP supersite,,,], [not determined, num_replicons, number of replicons, num_replicons,], [454-GS20, Sanger, sequencing method,,,], [not determined, isol_growth_condt, isolation and growth condition, isol_growth_condt,], [missing, env_package, environmental package, env_package,], [ATCC 43183, strain, strain, strain,], [missing, isolation-source, isolation source, isolation_source,], [type strain of Bacteroides stercoris, type-material,,,]]]|    null|                                                                                                                                                                                                                                                                                                                                                                                 [[[none provided, Keywords: GSC:MIxS;MIGS:5.0],], [,, 449673, Bacteroides stercoris ATCC 43183],, MIGS Cultured Bacterial/Archaeal sample from Bacteroides stercoris ATCC 43183]|                                    [[[SAMN00000004, BioSample,,, 1], [19859, WUGSC, Sample name,,], [SRS000004, SRA,,,]]]|  [[[http://www.atcc.org/ATCCAdvancedCatalogSearch/ProductDetails/tabid/452/Default.aspx?ATCCNum=43183&Template=bacteria, DNA Source,,, url], [19859,,, bioproject, entrez]]]|[[[MIGS.ba,]]]|       [[[[,,, lims@genome.wustl.edu,,,]]], [[Washington University, Genome Sequencing Center, WUGSC,]]]|[MIGS.ba.5.0, MIGS: cultured bacteria/archaea; version 5.0]|    [, live, 2013-08-05T10:18:49]| public|SAMN00000004|  4|         null|2019-06-20T16:11:22.415|2008-04-04T00:00:00.000|2011-02-24T14:14:08.053|\n",
            "|                                                                                                                                                                                                                                                                                                                                                                                                                                                                                                                                                                                                                                                                                                                                                                                                                                                                                                                                                                                                                                                                                                                                                                                                                                                                                                                                                                                                                                                                                                                                                                                                                                                                                                                                                                                                                                                                                                                 []|    null|                                                                                                                                                                                                                                                                                                                                                                                                                                                               [[[none provided],], [,, 6526, Biomphalaria glabrata],, Generic sample from Biomphalaria glabrata]|                    [[[SAMN00000005, BioSample,,, 1], [Biomphalaria glabrata, WUGSC, Sample name,,], [SRS000005, SRA,,,]]]|                                                                                                                                                                         null|[[[Generic,]]]|       [[[[,,, lims@genome.wustl.edu,,,]]], [[Washington University, Genome Sequencing Center, WUGSC,]]]|                                     [Generic.1.0, Generic]|[, live, 2008-04-04T08:44:25.780]| public|SAMN00000005|  5|         null|2013-06-12T08:26:56.080|2008-04-04T08:44:25.967|2008-04-04T08:44:25.780|\n",
            "|                                                                                                                                                                                                                                                                                                                                                                                                                                                                                                                                                                                                                                                                                                                                                                                                                                                                                                                                                                                                                                                                                                                                                                                                                                                                                                                                                                                                                                                                                                                                                                                                                                                                                                                                                                                                                                                                                                                 []|    null|                                                                                                                                                                                                                                                                                                                                                                                                                                                                     [[[none provided],], [,, 9483, Callithrix jacchus],, Generic sample from Callithrix jacchus]|                       [[[SAMN00000006, BioSample,,, 1], [Callithrix jacchus, WUGSC, Sample name,,], [SRS000006, SRA,,,]]]|                                                                                                                                                                         null|[[[Generic,]]]|       [[[[,,, lims@genome.wustl.edu,,,]]], [[Washington University, Genome Sequencing Center, WUGSC,]]]|                                     [Generic.1.0, Generic]|[, live, 2008-04-04T08:44:26.153]| public|SAMN00000006|  6|         null|2013-06-12T08:26:56.570|2008-04-04T08:44:26.233|2008-04-04T08:44:26.153|\n",
            "|                                                                                [[[Level 3: Improved-High-Quality Draft10x;36, finishing strategy (depth of coverage),,,], [not determined, collection date, collection date, collection_date,], [3235000, estimated_size, estimated size, estimated_size,], [http://hmpdacc.org/doc/CommonGeneAnnotation_SOP.pdf, sop,,,], [Reference Genome, project_type,,,], [Homo sapiens, host, host, host,], [not determined, lat_lon, latitude and longitude, lat_lon,], [terrestrial biome [ENVO:00000446], biome, broad-scale environmental context, env_broad_scale,], [not determined, misc_param: HMP body site,,,], [not determined, nucleic acid extraction,,,], [human-associated habitat [ENVO:00009003], feature, local-scale environmental context, env_local_scale,], [missing, investigation_type, investigation type, investigation_type,], [9606, host taxid, host taxonomy ID, host_taxid,], [Clostridium ramosum VPI 0427, DSM 1402, project_name, project name, project_name,], [PCAP, assembly,,,], [not determined, geo_loc_name, geographic location, geo_loc_name,], [DSM 1402, ATCC 25582, NCIB 10673, source_mat_id, source material identifiers, source_material_id,], [biological product [ENVO:02000043], material, environmental medium, env_medium,], [not determined, ref_biomaterial, reference for biomaterial, ref_biomaterial,], [gastrointestinal_tract, misc_param: HMP supersite,,,], [not determined, num_replicons, number of replicons, num_replicons,], [454-GS20, Sanger, sequencing method,,,], [not determined, isol_growth_condt, isolation and growth condition, isol_growth_condt,], [missing, env_package, environmental package, env_package,], [DSM 1402, strain, strain, strain,], [missing, isolation-source, isolation source, isolation_source,], [type strain of Erysipelatoclostridium ramosum, type-material,,,]]]|    null|                                                                                                                                                                                                                                 [[[Clostridium ramosum (GenBank Accession Number for 16S rDNA gene: X73440) is a member of the Firmicutes division of the domain bacteria and has been isolated from human adult as well as infant feces. , Keywords: GSC:MIxS;MIGS:5.0],], [,, 445974, Erysipelatoclostridium ramosum DSM 1402],, Clostridium ramosum DSM 1402]|                                    [[[SAMN00000007, BioSample,,, 1], [19663, WUGSC, Sample name,,], [SRS000007, SRA,,,]]]|                                                               [[[http://www.dsmz.de/catalogues/details/culture/DSM-1402, DNA Source,,, url], [19663,,, bioproject, entrez]]]|[[[MIGS.ba,]]]|       [[[[,,, lims@genome.wustl.edu,,,]]], [[Washington University, Genome Sequencing Center, WUGSC,]]]|[MIGS.ba.5.0, MIGS: cultured bacteria/archaea; version 5.0]|    [, live, 2013-08-05T10:18:49]| public|SAMN00000007|  7|         null|2019-06-20T16:11:22.471|2008-04-04T00:00:00.000|2008-04-04T08:44:26.436|\n",
            "|                                                                                                                       [[[Level 3: Improved-High-Quality Draft7.5x;16, finishing strategy (depth of coverage),,,], [not determined, collection date, collection date, collection_date,], [3186000, estimated_size, estimated size, estimated_size,], [http://hmpdacc.org/doc/CommonGeneAnnotation_SOP.pdf, sop,,,], [Reference Genome, project_type,,,], [Homo sapiens, host, host, host,], [not determined, lat_lon, latitude and longitude, lat_lon,], [terrestrial biome [ENVO:00000446], biome, broad-scale environmental context, env_broad_scale,], [not determined, misc_param: HMP body site,,,], [not determined, nucleic acid extraction,,,], [human-associated habitat [ENVO:00009003], feature, local-scale environmental context, env_local_scale,], [missing, investigation_type, investigation type, investigation_type,], [9606, host taxid, host taxonomy ID, host_taxid,], [Dorea formicigenerans ATCC 27755, project_name, project name, project_name,], [PCAP, assembly,,,], [not determined, geo_loc_name, geographic location, geo_loc_name,], [ATCC 27755, source_mat_id, source material identifiers, source_material_id,], [biological product [ENVO:02000043], material, environmental medium, env_medium,], [not determined, ref_biomaterial, reference for biomaterial, ref_biomaterial,], [gastrointestinal_tract, misc_param: HMP supersite,,,], [not determined, num_replicons, number of replicons, num_replicons,], [454, Sanger, sequencing method,,,], [not determined, isol_growth_condt, isolation and growth condition, isol_growth_condt,], [missing, env_package, environmental package, env_package,], [missing, isolation-source, isolation source, isolation_source,], [ATCC 27755, strain, strain, strain,], [type strain of Dorea formicigenerans, type-material,,,]]]|    null|[[[Dorea formicigenerans (GenBank Accession Number for 16S rRNA gene: L34619) is a member of the Firmicutes division of the domain bacteria. In one comprehensive 16S rDNA sequence- based enumeration of the colonic microbiota of three healthy adult humans, it represents, on average, 0.617% of all 16S rDNA sequences and 1.215% of the sequences in its division (Eckburg et. al. (2005))., Keywords: GSC:MIxS;MIGS:5.0],], [,, 411461, Dorea formicigenerans ATCC 27755],, MIGS Cultured Bacterial/Archaeal sample from Dorea formicigenerans ATCC 27755]|                                    [[[SAMN00000008, BioSample,,, 1], [18155, WUGSC, Sample name,,], [SRS000008, SRA,,,]]]|  [[[http://www.atcc.org/ATCCAdvancedCatalogSearch/ProductDetails/tabid/452/Default.aspx?ATCCNum=27755&Template=bacteria, DNA Source,,, url], [18155,,, bioproject, entrez]]]|[[[MIGS.ba,]]]|                                         [, [[Washington University, Genome Sequencing Center, WUGSC,]]]|[MIGS.ba.5.0, MIGS: cultured bacteria/archaea; version 5.0]|    [, live, 2013-08-05T10:18:49]| public|SAMN00000008|  8|         null|2019-06-20T16:11:22.519|2008-04-04T00:00:00.000|2011-02-24T14:12:13.853|\n",
            "|                                                                                                                                                                                                                                                                                                                                                                                                                                                                                                                                                                                                                                                                                                                                                                                                                                                                                                                                                                                                                                                                                                                                                                                                                                                                                                                                                                                                                                                                                                                                                                                                                                                                                                                                                                                                                                                                                                                 []|    null|                                                                                                                                                                                                                                                                                                                                                                                                                                                              [[[none provided],], [,, 13616, Monodelphis domestica],, Generic sample from Monodelphis domestica]|                    [[[SAMN00000009, BioSample,,, 1], [Monodelphis domestica, WUGSC, Sample name,,], [SRS000009, SRA,,,]]]|                                                                                                                                                                         null|[[[Generic,]]]|       [[[[,,, lims@genome.wustl.edu,,,]]], [[Washington University, Genome Sequencing Center, WUGSC,]]]|                                     [Generic.1.0, Generic]|[, live, 2008-04-04T08:44:27.233]| public|SAMN00000009|  9|         null|2013-06-12T08:42:16.823|2008-04-04T08:44:27.670|2008-04-04T08:44:27.233|\n",
            "|                                                                                                                                                                                                                                                                                                                                                                                                                                                                                                                                                                                                                                                                                                                                                                                                                                                                                                                                                                                                                                                                                                                                                                                                                                                                                                                                                                                                                                                                                                                                                                                                                                                                                                                                                                                                                                                                               [[[GM2/1, strain, strain, strain,]]]|    null|                                                                                                                                                                                                                                                                                                                                                                                                                                                           [[[none provided],], [,, 451639, Ruminococcus sp. GM2/1],, Generic sample from Ruminococcus sp. GM2/1]|                   [[[SAMN00000010, BioSample,,, 1], [Ruminococcus sp. GM2/1, WUGSC, Sample name,,], [SRS000010, SRA,,,]]]|                                                                                                                                                                         null|[[[Generic,]]]|       [[[[,,, lims@genome.wustl.edu,,,]]], [[Washington University, Genome Sequencing Center, WUGSC,]]]|                                     [Generic.1.0, Generic]|[, live, 2008-04-04T08:44:27.873]| public|SAMN00000010| 10|         null|2013-06-12T08:42:30.383|2008-04-04T08:44:28.043|2008-04-04T08:44:27.873|\n",
            "|                                                                                                                                                                                                                                                                                                                                                                                                                                                                                                                                                                                                                                                                                                                                                                                                                                                                                                                                                                                                                                                                                                                                                                                                                                                                                                                                                                                                                                                                                                                                                                                                                                                                                                                                                                                                                          [[[M72/1, strain, strain, strain,], [type strain of Roseburia faecis, type-material,,,]]]|    null|                                                                                              [[[Roseburia faecis M72/1 (GenBank Accession Number for 16S rDNA gene: AY305310) is a member of the division Firmicutes. In one comprehensive 16S rDNA sequence-based enumeration of the colonic microbiota of three healthy adult humans, it represents, on average, 0.355% of all 16S rDNA sequences and 0.699% of the sequences in its division (Eckburg et. al. (2005)). ],], [,, 451638, Roseburia faecis M72/1],, Generic sample from Roseburia faecis M72/1]|                   [[[SAMN00000011, BioSample,,, 1], [Roseburia faecis M72/1, WUGSC, Sample name,,], [SRS000011, SRA,,,]]]|                                                                                                                                                                         null|[[[Generic,]]]|       [[[[,,, lims@genome.wustl.edu,,,]]], [[Washington University, Genome Sequencing Center, WUGSC,]]]|                                     [Generic.1.0, Generic]|[, live, 2008-04-04T08:44:28.233]| public|SAMN00000011| 11|         null|2019-06-20T16:11:22.557|2008-04-04T00:00:00.000|2008-04-04T08:44:28.233|\n",
            "|                                                                                               [[[Level 2: High-Quality Draft46.6x;475, finishing strategy (depth of coverage),,,], [not determined, collection date, collection date, collection_date,], [2671000, estimated_size, estimated size, estimated_size,], [http://hmpdacc.org/doc/CommonGeneAnnotation_SOP.pdf, sop,,,], [Reference Genome, project_type,,,], [Homo sapiens, host, host, host,], [not determined, lat_lon, latitude and longitude, lat_lon,], [terrestrial biome [ENVO:00000446], biome, broad-scale environmental context, env_broad_scale,], [not determined, misc_param: HMP body site,,,], [not determined, nucleic acid extraction,,,], [human-associated habitat [ENVO:00009003], feature, local-scale environmental context, env_local_scale,], [missing, investigation_type, investigation type, investigation_type,], [9606, host taxid, host taxonomy ID, host_taxid,], [Catenibacterium mitsuokai DSM 15897, project_name, project name, project_name,], [Newbler v. 2.0.00.20, assembly,,,], [not determined, geo_loc_name, geographic location, geo_loc_name,], [DSM 15897, JCM 10609, source_mat_id, source material identifiers, source_material_id,], [biological product [ENVO:02000043], material, environmental medium, env_medium,], [not determined, ref_biomaterial, reference for biomaterial, ref_biomaterial,], [gastrointestinal_tract, misc_param: HMP supersite,,,], [not determined, num_replicons, number of replicons, num_replicons,], [454-GS-FLX, sequencing method,,,], [not determined, isol_growth_condt, isolation and growth condition, isol_growth_condt,], [missing, env_package, environmental package, env_package,], [DSM 15897, strain, strain, strain,], [missing, isolation-source, isolation source, isolation_source,], [type strain of Catenibacterium mitsuokai, type-material,,,]]]|    null|                                 [[[Catenibacterium mitsuokai (GenBank Accession Number for 16S rDNA gene: AB030221) is a member of the Firmicutes division of the domain bacteria. In one comprehensive 16S rDNA sequence-based enumeration of the colonic microbiota of three healthy adult humans, it represents, on average, 0.482% of all 16S rDNA sequences and 0.095% of the sequences in its division (Eckburg et. al. (2005)). , Keywords: GSC:MIxS;MIGS:5.0],], [,, 451640, Catenibacterium mitsuokai DSM 15897],, Catenibacterium mitsuokai DSM 15897]|                                    [[[SAMN00000012, BioSample,,, 1], [19923, WUGSC, Sample name,,], [SRS000012, SRA,,,]]]|                                                              [[[http://www.dsmz.de/catalogues/details/culture/DSM-15897, DNA Source,,, url], [19923,,, bioproject, entrez]]]|[[[MIGS.ba,]]]|       [[[[,,, lims@genome.wustl.edu,,,]]], [[Washington University, Genome Sequencing Center, WUGSC,]]]|[MIGS.ba.5.0, MIGS: cultured bacteria/archaea; version 5.0]|    [, live, 2013-08-05T10:18:50]| public|SAMN00000012| 12|         null|2019-06-20T16:11:22.605|2008-04-04T00:00:00.000|2008-04-04T08:44:28.606|\n",
            "|                                                                                                                                                                                                                                                                                                                                                                                                                                                                                                                                                                                                                                                                                                                                                                                                                                                                                                                                                                                                                                                                                                                                                                                                                                                                                                                                                                                                                                                                                                                                                                                                                                                                                                                                                                                                                                                                                                                 []|    null|                                                                                                                                                                                                                                                                                                                                                                         [[[DNA is in house and was prepared from haploid amoebe provided by the laboratory of Gerard Pierrion.],], [,, 5791, Physarum polycephalum],, Generic sample from Physarum polycephalum]|                    [[[SAMN00000013, BioSample,,, 1], [Physarum polycephalum, WUGSC, Sample name,,], [SRS000013, SRA,,,]]]|                                                                                                                                 [[[12851, PRJNA12851,, bioproject, entrez]]]|[[[Generic,]]]|       [[[[,,, lims@genome.wustl.edu,,,]]], [[Washington University, Genome Sequencing Center, WUGSC,]]]|                                     [Generic.1.0, Generic]|    [, live, 2014-03-17T12:37:44]| public|SAMN00000013| 13|         null|2014-03-17T12:37:44.407|2008-04-04T08:44:29.250|2008-04-04T08:44:29.030|\n",
            "|                                                                                                    [[[Level 3: Improved-High-Quality Draft8.8x;569, finishing strategy (depth of coverage),,,], [not determined, collection date, collection date, collection_date,], [4296000, estimated_size, estimated size, estimated_size,], [http://hmpdacc.org/doc/CommonGeneAnnotation_SOP.pdf, sop,,,], [Reference Genome, project_type,,,], [Homo sapiens, host, host, host,], [not determined, lat_lon, latitude and longitude, lat_lon,], [terrestrial biome [ENVO:00000446], biome, broad-scale environmental context, env_broad_scale,], [not determined, misc_param: HMP body site,,,], [not determined, nucleic acid extraction,,,], [human-associated habitat [ENVO:00009003], feature, local-scale environmental context, env_local_scale,], [missing, investigation_type, investigation type, investigation_type,], [9606, host taxid, host taxonomy ID, host_taxid,], [Bacteroides coprocola M16, DSM 17136, project_name, project name, project_name,], [PCAP, assembly,,,], [not determined, geo_loc_name, geographic location, geo_loc_name,], [DSM 17136, JCM 12979, source_mat_id, source material identifiers, source_material_id,], [biological product [ENVO:02000043], material, environmental medium, env_medium,], [not determined, ref_biomaterial, reference for biomaterial, ref_biomaterial,], [gastrointestinal_tract, misc_param: HMP supersite,,,], [not determined, num_replicons, number of replicons, num_replicons,], [454-GS20, Sanger, sequencing method,,,], [not determined, isol_growth_condt, isolation and growth condition, isol_growth_condt,], [missing, env_package, environmental package, env_package,], [DSM 17136, strain, strain, strain,], [missing, isolation-source, isolation source, isolation_source,], [type strain of Bacteroides coprocola, type-material,,,]]]|    null|                                                                                                                                                                                                                                                       [[[Bacteroides coprocola (GenBank Accession Number for 16S rDNA gene: AB200224) is a member of the Bacteroidetes division of the domain bacteria and has been isolated from human feces. , Keywords: GSC:MIxS;MIGS:5.0],], [,, 470145, Bacteroides coprocola DSM 17136],, Bacteroides coprocola DSM 17136]|                                    [[[SAMN00000014, BioSample,,, 1], [20521, WUGSC, Sample name,,], [SRS000014, SRA,,,]]]|                                                              [[[http://www.dsmz.de/catalogues/details/culture/DSM-17136, DNA Source,,, url], [20521,,, bioproject, entrez]]]|[[[MIGS.ba,]]]|       [[[[,,, lims@genome.wustl.edu,,,]]], [[Washington University, Genome Sequencing Center, WUGSC,]]]|[MIGS.ba.5.0, MIGS: cultured bacteria/archaea; version 5.0]|    [, live, 2013-08-05T10:18:50]| public|SAMN00000014| 14|         null|2019-06-20T16:11:22.660|2008-04-04T00:00:00.000|2008-04-04T08:44:29.466|\n",
            "|                                                                                         [[[Level 3: Improved-High-Quality Draft7x;9, finishing strategy (depth of coverage),,,], [not determined, collection date, collection date, collection_date,], [6053000, estimated_size, estimated size, estimated_size,], [http://hmpdacc.org/doc/CommonGeneAnnotation_SOP.pdf, sop,,,], [Reference Genome, project_type,,,], [Homo sapiens, host, host, host,], [not determined, lat_lon, latitude and longitude, lat_lon,], [terrestrial biome [ENVO:00000446], biome, broad-scale environmental context, env_broad_scale,], [not determined, misc_param: HMP body site,,,], [not determined, nucleic acid extraction,,,], [human-associated habitat [ENVO:00009003], feature, local-scale environmental context, env_local_scale,], [missing, investigation_type, investigation type, investigation_type,], [9606, host taxid, host taxonomy ID, host_taxid,], [Bacteroides intestinalis 341, DSM 17393, project_name, project name, project_name,], [Newbler, PCAP, assembly,,,], [not determined, geo_loc_name, geographic location, geo_loc_name,], [DSM 17393, JCM 13265, source_mat_id, source material identifiers, source_material_id,], [biological product [ENVO:02000043], material, environmental medium, env_medium,], [not determined, ref_biomaterial, reference for biomaterial, ref_biomaterial,], [gastrointestinal_tract, misc_param: HMP supersite,,,], [not determined, num_replicons, number of replicons, num_replicons,], [454-GS20, Sanger, sequencing method,,,], [not determined, isol_growth_condt, isolation and growth condition, isol_growth_condt,], [missing, env_package, environmental package, env_package,], [DSM 17393, strain, strain, strain,], [missing, isolation-source, isolation source, isolation_source,], [type strain of Bacteroides intestinalis, type-material,,,]]]|    null|                                                                                                                                                                                                                                              [[[Bacteroides intestinalis (GenBank Accession Number for 16S rDNA gene: AB214328) is a member of the Bacteroidetes division of the domain bacteria and has been isolated from human feces. , Keywords: GSC:MIxS;MIGS:5.0],], [,, 471870, Bacteroides intestinalis DSM 17393],, Bacteroides intestinalis DSM 17393]|                                    [[[SAMN00000015, BioSample,,, 1], [20523, WUGSC, Sample name,,], [SRS000015, SRA,,,]]]|                                                              [[[http://www.dsmz.de/catalogues/details/culture/DSM-17393, DNA Source,,, url], [20523,,, bioproject, entrez]]]|[[[MIGS.ba,]]]|       [[[[,,, lims@genome.wustl.edu,,,]]], [[Washington University, Genome Sequencing Center, WUGSC,]]]|[MIGS.ba.5.0, MIGS: cultured bacteria/archaea; version 5.0]|    [, live, 2013-08-05T10:18:50]| public|SAMN00000015| 15|         null|2019-06-20T16:11:22.722|2008-04-04T00:00:00.000|2008-04-04T08:44:29.826|\n",
            "|                                                           [[[Level 2: High-Quality Draft67.2x;8190, finishing strategy (depth of coverage),,,], [not determined, collection date, collection date, collection_date,], [3239000, estimated_size, estimated size, estimated_size,], [http://hmpdacc.org/doc/CommonGeneAnnotation_SOP.pdf, sop,,,], [Reference Genome, project_type,,,], [Homo sapiens, host, host, host,], [not determined, lat_lon, latitude and longitude, lat_lon,], [terrestrial biome [ENVO:00000446], biome, broad-scale environmental context, env_broad_scale,], [not determined, misc_param: HMP body site,,,], [not determined, nucleic acid extraction,,,], [human-associated habitat [ENVO:00009003], feature, local-scale environmental context, env_local_scale,], [missing, investigation_type, investigation type, investigation_type,], [9606, host taxid, host taxonomy ID, host_taxid,], [Coprococcus comes ATCC 27758, project_name, project name, project_name,], [PCAP, assembly,,,], [not determined, geo_loc_name, geographic location, geo_loc_name,], [ATCC 27758, source_mat_id, source material identifiers, source_material_id,], [biological product [ENVO:02000043], material, environmental medium, env_medium,], [not determined, ref_biomaterial, reference for biomaterial, ref_biomaterial,], [gastrointestinal_tract, misc_param: HMP supersite,,,], [not determined, num_replicons, number of replicons, num_replicons,], [454-GS-FLX, sequencing method,,,], [not determined, isol_growth_condt, isolation and growth condition, isol_growth_condt,], [missing, env_package, environmental package, env_package,], [ATCC 27758, strain, strain, strain,], [ATCC:27758, culture-collection, culture collection, culture_collection,], [missing, isolation-source, isolation source, isolation_source,], [type strain of Coprococcus comes, type-material,,,]]]|    null|                                                                                                                                                                                                                                     [[[Coprococcus comes (16S rDNA gene sequence is not available) is a member of the Firmicutes division of the domain bacteria and has been isolated from human feces., Keywords: GSC:MIxS;MIGS:5.0],], [,, 470146, Coprococcus comes ATCC 27758],, MIGS Cultured Bacterial/Archaeal sample from Coprococcus comes ATCC 27758]|                                    [[[SAMN00000016, BioSample,,, 1], [20525, WUGSC, Sample name,,], [SRS000016, SRA,,,]]]|  [[[http://www.atcc.org/ATCCAdvancedCatalogSearch/ProductDetails/tabid/452/Default.aspx?ATCCNum=27758&Template=bacteria, DNA Source,,, url], [20525,,, bioproject, entrez]]]|[[[MIGS.ba,]]]|       [[[[,,, lims@genome.wustl.edu,,,]]], [[Washington University, Genome Sequencing Center, WUGSC,]]]|[MIGS.ba.5.0, MIGS: cultured bacteria/archaea; version 5.0]|    [, live, 2013-08-05T10:18:50]| public|SAMN00000016| 16|         null|2019-06-20T16:11:22.812|2008-04-04T00:00:00.000|2011-02-24T14:20:06.950|\n",
            "|[[[Level 3: Improved-High-Quality Draft13.9x;29, finishing strategy (depth of coverage),,,], [not determined, collection date, collection date, collection_date,], [1925000, estimated_size, estimated size, estimated_size,], [http://hmpdacc.org/doc/CommonGeneAnnotation_SOP.pdf, sop,,,], [Reference Genome, project_type,,,], [Homo sapiens, host, host, host,], [not determined, lat_lon, latitude and longitude, lat_lon,], [terrestrial biome [ENVO:00000446], biome, broad-scale environmental context, env_broad_scale,], [not determined, misc_param: HMP body site,,,], [not determined, nucleic acid extraction,,,], [human-associated habitat [ENVO:00009003], feature, local-scale environmental context, env_local_scale,], [missing, investigation_type, investigation type, investigation_type,], [9606, host taxid, host taxonomy ID, host_taxid,], [Streptococcus infantarius infantarius ATCC BAA-102, project_name, project name, project_name,], [Newbler, PCAP, assembly,,,], [not determined, geo_loc_name, geographic location, geo_loc_name,], [ATCC BAA-102, LMG 19578, CCUG 43820, source_mat_id, source material identifiers, source_material_id,], [biological product [ENVO:02000043], material, environmental medium, env_medium,], [not determined, ref_biomaterial, reference for biomaterial, ref_biomaterial,], [gastrointestinal_tract, misc_param: HMP supersite,,,], [not determined, num_replicons, number of replicons, num_replicons,], [454-GS20, Sanger, sequencing method,,,], [not determined, isol_growth_condt, isolation and growth condition, isol_growth_condt,], [missing, env_package, environmental package, env_package,], [ATCC BAA-102, strain, strain, strain,], [infantarius, sub_species, sub species, sub_species,], [missing, isolation-source, isolation source, isolation_source,], [type strain of Streptococcus infantarius, type-material,,,]]]|    null|                                                                                                                                                                   [[[Streptococcus infantarius (16S rDNA gene sequence is not available) is a member of the Firmicutes division of the domain bacteria and has been isolated from human feces., Keywords: GSC:MIxS;MIGS:5.0],], [,, 471872, Streptococcus infantarius subsp. infantarius ATCC BAA-102],, MIGS Cultured Bacterial/Archaeal sample from Streptococcus infantarius subsp. infantarius ATCC BAA-102]|                                    [[[SAMN00000017, BioSample,,, 1], [20527, WUGSC, Sample name,,], [SRS000017, SRA,,,]]]|[[[http://www.atcc.org/ATCCAdvancedCatalogSearch/ProductDetails/tabid/452/Default.aspx?ATCCNum=BAA-102&Template=bacteria, DNA Source,,, url], [20527,,, bioproject, entrez]]]|[[[MIGS.ba,]]]|       [[[[,,, lims@genome.wustl.edu,,,]]], [[Washington University, Genome Sequencing Center, WUGSC,]]]|[MIGS.ba.5.0, MIGS: cultured bacteria/archaea; version 5.0]|    [, live, 2013-08-05T10:18:50]| public|SAMN00000017| 17|         null|2019-06-20T16:11:22.868|2008-04-04T00:00:00.000|2011-02-24T14:19:05.520|\n",
            "|                                                                                                                                                                            [[[Level 3: Improved-High-Quality Draft8.9x;5, finishing strategy (depth of coverage),,,], [not determined, collection date, collection date, collection_date,], [4102000, estimated_size, estimated size, estimated_size,], [http://hmpdacc.org/doc/CommonGeneAnnotation_SOP.pdf, sop,,,], [Reference Genome, project_type,,,], [Homo sapiens, host, host, host,], [not determined, lat_lon, latitude and longitude, lat_lon,], [terrestrial biome [ENVO:00000446], biome, broad-scale environmental context, env_broad_scale,], [not determined, misc_param: HMP body site,,,], [not determined, nucleic acid extraction,,,], [human-associated habitat [ENVO:00009003], feature, local-scale environmental context, env_local_scale,], [missing, investigation_type, investigation type, investigation_type,], [9606, host taxid, host taxonomy ID, host_taxid,], [Clostridium sporogenes ATCC 15579, project_name, project name, project_name,], [PCAP, assembly,,,], [not determined, geo_loc_name, geographic location, geo_loc_name,], [ATCC 15579, source_mat_id, source material identifiers, source_material_id,], [biological product [ENVO:02000043], material, environmental medium, env_medium,], [not determined, ref_biomaterial, reference for biomaterial, ref_biomaterial,], [gastrointestinal_tract, misc_param: HMP supersite,,,], [not determined, num_replicons, number of replicons, num_replicons,], [454-GS20, Sanger, sequencing method,,,], [not determined, isol_growth_condt, isolation and growth condition, isol_growth_condt,], [missing, env_package, environmental package, env_package,], [ATCC 15579, strain, strain, strain,], [missing, isolation-source, isolation source, isolation_source,]]]|    null|                                                                                                                                                                                                        [[[Clostridium sporogenes (GenBank Accession Number for 16S rDNA gene: DQ911258*) is a member of the Firmicutes division of the domain bacteria and has been isolated from human feces., Keywords: GSC:MIxS;MIGS:5.0],], [,, 471871, Clostridium sporogenes ATCC 15579],, MIGS Cultured Bacterial/Archaeal sample from Clostridium sporogenes ATCC 15579]|                                    [[[SAMN00000018, BioSample,,, 1], [20549, WUGSC, Sample name,,], [SRS000018, SRA,,,]]]|  [[[http://www.atcc.org/ATCCAdvancedCatalogSearch/ProductDetails/tabid/452/Default.aspx?ATCCNum=15579&Template=bacteria, DNA Source,,, url], [20549,,, bioproject, entrez]]]|[[[MIGS.ba,]]]|       [[[[,,, lims@genome.wustl.edu,,,]]], [[Washington University, Genome Sequencing Center, WUGSC,]]]|[MIGS.ba.5.0, MIGS: cultured bacteria/archaea; version 5.0]|    [, live, 2013-08-05T10:18:50]| public|SAMN00000018| 18|         null|2015-02-12T16:08:04.733|2008-04-04T08:44:31.000|2011-02-24T14:18:09.670|\n",
            "|                                                                                                [[[Level 2: High-Quality Draft51.7x;28, finishing strategy (depth of coverage),,,], [not determined, collection date, collection date, collection_date,], [3748000, estimated_size, estimated size, estimated_size,], [http://hmpdacc.org/doc/CommonGeneAnnotation_SOP.pdf, sop,,,], [Reference Genome, project_type,,,], [Homo sapiens, host, host, host,], [not determined, lat_lon, latitude and longitude, lat_lon,], [terrestrial biome [ENVO:00000446], biome, broad-scale environmental context, env_broad_scale,], [not determined, misc_param: HMP body site,,,], [not determined, nucleic acid extraction,,,], [human-associated habitat [ENVO:00009003], feature, local-scale environmental context, env_local_scale,], [missing, investigation_type, investigation type, investigation_type,], [9606, host taxid, host taxonomy ID, host_taxid,], [Proteus penneri ATCC 35198, project_name, project name, project_name,], [PCAP, assembly,,,], [not determined, geo_loc_name, geographic location, geo_loc_name,], [ATCC 35198, CDC 4732-68, source_mat_id, source material identifiers, source_material_id,], [biological product [ENVO:02000043], material, environmental medium, env_medium,], [not determined, ref_biomaterial, reference for biomaterial, ref_biomaterial,], [gastrointestinal_tract, misc_param: HMP supersite,,,], [not determined, num_replicons, number of replicons, num_replicons,], [454-GS-FLX, Sanger, sequencing method,,,], [not determined, isol_growth_condt, isolation and growth condition, isol_growth_condt,], [missing, env_package, environmental package, env_package,], [ATCC 35198, strain, strain, strain,], [ATCC:35198, culture-collection, culture collection, culture_collection,], [missing, isolation-source, isolation source, isolation_source,]]]|    null|                                                                                                                                                                                                                        [[[Proteus penneri (GenBank Accession Number for 16S rDNA gene: DQ885258*) is a member of the Proteobacteria division of the domain bacteria and has been isolated from human feces. , Keywords: GSC:MIxS;MIGS:5.0],], [,, 471881, Proteus penneri ATCC 35198],, MIGS Cultured Bacterial/Archaeal sample from Proteus penneri ATCC 35198]|                                    [[[SAMN00000019, BioSample,,, 1], [20551, WUGSC, Sample name,,], [SRS000019, SRA,,,]]]|                                  [[[http://www.atcc.org/ATCCAdvancedCatalogSearch/ProductDetails/tabid/452/Default.aspx, DNA Source,,, url], [20551,,, bioproject, entrez]]]|[[[MIGS.ba,]]]|       [[[[,,, lims@genome.wustl.edu,,,]]], [[Washington University, Genome Sequencing Center, WUGSC,]]]|[MIGS.ba.5.0, MIGS: cultured bacteria/archaea; version 5.0]|    [, live, 2013-08-05T10:18:51]| public|SAMN00000019| 19|         null|2015-02-20T14:38:53.503|2008-04-04T08:44:31.340|2010-11-02T10:42:02.967|\n",
            "|                                                                                                                                                                   [[[Level 3: Improved-High-Quality Draft8.5x;252, finishing strategy (depth of coverage),,,], [not determined, collection date, collection date, collection_date,], [4604000, estimated_size, estimated size, estimated_size,], [http://hmpdacc.org/doc/CommonGeneAnnotation_SOP.pdf, sop,,,], [Reference Genome, project_type,,,], [Homo sapiens, host, host, host,], [not determined, lat_lon, latitude and longitude, lat_lon,], [terrestrial biome [ENVO:00000446], biome, broad-scale environmental context, env_broad_scale,], [not determined, misc_param: HMP body site,,,], [not determined, nucleic acid extraction,,,], [human-associated habitat [ENVO:00009003], feature, local-scale environmental context, env_local_scale,], [missing, investigation_type, investigation type, investigation_type,], [9606, host taxid, host taxonomy ID, host_taxid,], [Providencia stuartii ATCC 25827, project_name, project name, project_name,], [Newbler, PCAP, assembly,,,], [not determined, geo_loc_name, geographic location, geo_loc_name,], [ATCC 35198, source_mat_id, source material identifiers, source_material_id,], [biological product [ENVO:02000043], material, environmental medium, env_medium,], [not determined, ref_biomaterial, reference for biomaterial, ref_biomaterial,], [gastrointestinal_tract, misc_param: HMP supersite,,,], [not determined, num_replicons, number of replicons, num_replicons,], [454-GS20, Sanger, sequencing method,,,], [not determined, isol_growth_condt, isolation and growth condition, isol_growth_condt,], [missing, env_package, environmental package, env_package,], [missing, isolation-source, isolation source, isolation_source,], [ATCC 25827, strain, strain, strain,]]]|    null|                                                                                                                                                                                                                        [[[Providencia stuartii (16S rDNA gene sequence is not available) is a member of the Proteobacteria division of the domain bacteria and has been isolated from human feces., Keywords: GSC:MIxS;MIGS:5.0],], [,, 471874, Providencia stuartii ATCC 25827],, MIGS Cultured Bacterial/Archaeal sample from Providencia stuartii ATCC 25827]|                                    [[[SAMN00000020, BioSample,,, 1], [20553, WUGSC, Sample name,,], [SRS000020, SRA,,,]]]|  [[[http://www.atcc.org/ATCCAdvancedCatalogSearch/ProductDetails/tabid/452/Default.aspx?ATCCNum=25827&Template=bacteria, DNA Source,,, url], [20553,,, bioproject, entrez]]]|[[[MIGS.ba,]]]|       [[[[,,, lims@genome.wustl.edu,,,]]], [[Washington University, Genome Sequencing Center, WUGSC,]]]|[MIGS.ba.5.0, MIGS: cultured bacteria/archaea; version 5.0]|    [, live, 2013-08-05T10:18:51]| public|SAMN00000020| 20|         null|2015-02-12T16:06:27.150|2008-04-04T08:44:31.717|2011-02-24T14:17:25.617|\n",
            "|                                                                                                                                                                  [[[Level 3: Improved-High-Quality Draft9.9x;8, finishing strategy (depth of coverage),,,], [not determined, collection date, collection date, collection_date,], [2642000, estimated_size, estimated size, estimated_size,], [http://hmpdacc.org/doc/CommonGeneAnnotation_SOP.pdf, sop,,,], [Reference Genome, project_type,,,], [Homo sapiens, host, host, host,], [not determined, lat_lon, latitude and longitude, lat_lon,], [terrestrial biome [ENVO:00000446], biome, broad-scale environmental context, env_broad_scale,], [not determined, misc_param: HMP body site,,,], [not determined, nucleic acid extraction,,,], [human-associated habitat [ENVO:00009003], feature, local-scale environmental context, env_local_scale,], [missing, investigation_type, investigation type, investigation_type,], [9606, host taxid, host taxonomy ID, host_taxid,], [Bifidobacterium dentium ATCC 27678, project_name, project name, project_name,], [Newbler, PCAP, assembly,,,], [not determined, geo_loc_name, geographic location, geo_loc_name,], [ATCC 27678, source_mat_id, source material identifiers, source_material_id,], [biological product [ENVO:02000043], material, environmental medium, env_medium,], [not determined, ref_biomaterial, reference for biomaterial, ref_biomaterial,], [gastrointestinal_tract, misc_param: HMP supersite,,,], [not determined, num_replicons, number of replicons, num_replicons,], [454-GS20, Sanger, sequencing method,,,], [not determined, isol_growth_condt, isolation and growth condition, isol_growth_condt,], [missing, env_package, environmental package, env_package,], [ATCC 27678, strain, strain, strain,], [missing, isolation-source, isolation source, isolation_source,]]]|    null|                                                                                                                                                                                                               [[[Bifidobacterium dentium (16S rDNA gene sequence is not available) is a member of the Actinobacteria division of the domain bacteria and has been isolated from human feces., Keywords: GSC:MIxS;MIGS:5.0],], [,, 473819, Bifidobacterium dentium ATCC 27678],, MIGS Cultured Bacterial/Archaeal sample from Bifidobacterium dentium ATCC 27678]|                                    [[[SAMN00000021, BioSample,,, 1], [20555, WUGSC, Sample name,,], [SRS000021, SRA,,,]]]|  [[[http://www.atcc.org/ATCCAdvancedCatalogSearch/ProductDetails/tabid/452/Default.aspx?ATCCNum=27678&Template=bacteria, DNA Source,,, url], [20555,,, bioproject, entrez]]]|[[[MIGS.ba,]]]|       [[[[,,, lims@genome.wustl.edu,,,]]], [[Washington University, Genome Sequencing Center, WUGSC,]]]|[MIGS.ba.5.0, MIGS: cultured bacteria/archaea; version 5.0]|    [, live, 2013-08-05T10:18:51]| public|SAMN00000021| 21|         null|2015-02-12T16:01:58.433|2008-04-04T08:44:32.030|2011-02-24T14:16:27.737|\n",
            "|                               [[[Level 3: Improved-High-Quality Draft11x;81, finishing strategy (depth of coverage),,,], [not determined, collection date, collection date, collection_date,], [2730000, estimated_size, estimated size, estimated_size,], [http://hmpdacc.org/doc/CommonGeneAnnotation_SOP.pdf, sop,,,], [Reference Genome, project_type,,,], [Homo sapiens, host, host, host,], [not determined, lat_lon, latitude and longitude, lat_lon,], [terrestrial biome [ENVO:00000446], biome, broad-scale environmental context, env_broad_scale,], [not determined, misc_param: HMP body site,,,], [not determined, nucleic acid extraction,,,], [human-associated habitat [ENVO:00009003], feature, local-scale environmental context, env_local_scale,], [missing, investigation_type, investigation type, investigation_type,], [9606, host taxid, host taxonomy ID, host_taxid,], [Ruminococcus lactaris ATCC 29176, project_name, project name, project_name,], [Newbler, PCAP, assembly,,,], [not determined, geo_loc_name, geographic location, geo_loc_name,], [ATCC 29176, source_mat_id, source material identifiers, source_material_id,], [biological product [ENVO:02000043], material, environmental medium, env_medium,], [not determined, ref_biomaterial, reference for biomaterial, ref_biomaterial,], [gastrointestinal_tract, misc_param: HMP supersite,,,], [not determined, num_replicons, number of replicons, num_replicons,], [Sanger, 454-GS20, sequencing method,,,], [not determined, isol_growth_condt, isolation and growth condition, isol_growth_condt,], [missing, env_package, environmental package, env_package,], [ATCC 29176, strain, strain, strain,], [ATCC:29176, culture-collection, culture collection, culture_collection,], [missing, isolation-source, isolation source, isolation_source,], [type strain of Ruminococcus lactaris, type-material,,,]]]|    null|                                                                                                                                                                                                             [[[Ruminococcus lactaris (GenBank Accession Number for 16S rDNA gene: L76602*) is a member of the Firmicutes division of the domain bacteria and has been isolated from human feces., Keywords: GSC:MIxS;MIGS:5.0],], [,, 471875, Ruminococcus lactaris ATCC 29176],, MIGS Cultured Bacterial/Archaeal sample from Ruminococcus lactaris ATCC 29176]|                                    [[[SAMN00000022, BioSample,,, 1], [20557, WUGSC, Sample name,,], [SRS000022, SRA,,,]]]|  [[[http://www.atcc.org/ATCCAdvancedCatalogSearch/ProductDetails/tabid/452/Default.aspx?ATCCNum=29176&Template=bacteria, DNA Source,,, url], [20557,,, bioproject, entrez]]]|[[[MIGS.ba,]]]|       [[[[,,, lims@genome.wustl.edu,,,]]], [[Washington University, Genome Sequencing Center, WUGSC,]]]|[MIGS.ba.5.0, MIGS: cultured bacteria/archaea; version 5.0]|    [, live, 2013-08-05T10:18:51]| public|SAMN00000022| 22|         null|2019-06-20T16:11:23.009|2008-04-04T00:00:00.000|2011-02-24T14:15:43.640|\n",
            "|                                                                                                                                                                                                                                                                                                                                                                                                                                                                                                                                                                                                                                                                                                                                                                                                                                                                                                                                                                                                                                                                                                                                                                                                                                                                                                                                                                                                                                                                                                                                                                                                                                                                                                                                                                                                                                                                                                                 []|    null|                                                                                                                                                                                                                                                                                                                                                                                                                                                               [[[none provided],], [,, 5791, Physarum polycephalum],, Generic sample from Physarum polycephalum]|                  [[[SAMN00000023, BioSample,,, 1], [Physarum polycephalum_1, WUGSC, Sample name,,], [SRS000023, SRA,,,]]]|                                                                                                                                                                         null|[[[Generic,]]]|       [[[[,,, lims@genome.wustl.edu,,,]]], [[Washington University, Genome Sequencing Center, WUGSC,]]]|                                     [Generic.1.0, Generic]|[, live, 2008-04-04T08:44:32.810]| public|SAMN00000023| 23|         null|2013-06-12T08:26:56.880|2008-04-04T08:44:33.450|2008-04-04T08:44:32.810|\n",
            "|                                                                                                                                                                                                                                                                                                                                                                                                                                                                                                                                                                                                                                                                                                                                                                                                                                                                                                                                                                                                                                                                                                                                                                                                                                                                                                                                                                                                                                                                                                                                                                                                                                                                                                                                                                                                             [[[DSM 10507, strain, strain, strain,], [type strain of Blautia hydrogenotrophica, type-material,,,]]]|    null|                                                                                                                                                                                                                                                  [[[Ruminococcus hydrogenotrophicus (GenBank Accession Number for 16S rDNA gene: X95624*) is a member of the Firmicutes division of the domain bacteria and has been isolated from human feces. ],], [,, 476272, Blautia hydrogenotrophica DSM 10507],, Generic sample from Blautia hydrogenotrophica DSM 10507]|[[[SAMN00000024, BioSample,,, 1], [Ruminococcus hydrogenotrophicus DSM 10507, WUGSC, Sample name,,], [SRS000024, SRA,,,]]]|                                                                                                                        [[[http://www.dsmz.de/home.html, DNA Source,,, url]]]|[[[Generic,]]]|       [[[[,,, lims@genome.wustl.edu,,,]]], [[Washington University, Genome Sequencing Center, WUGSC,]]]|                                     [Generic.1.0, Generic]|[, live, 2013-11-15T14:04:11.957]| public|SAMN00000024| 24|         null|2019-06-20T16:11:23.043|2008-04-04T00:00:00.000|2008-04-04T08:44:33.716|\n",
            "|                                                          [[[Level 3: Improved-High-Quality Draft14.1x;123, finishing strategy (depth of coverage),,,], [not determined, collection date, collection date, collection_date,], [4500000, estimated_size, estimated size, estimated_size,], [not determined, isol_growth_condt, isolation and growth condition, isol_growth_condt,], [Homo sapiens, specific host, host, host,], [Reference Genome, project_type,,,], [not determined, lat_lon, latitude and longitude, lat_lon,], [terrestrial biome [ENVO:00000446], biome, broad-scale environmental context, env_broad_scale,], [not determined, misc_param: HMP body site,,,], [not determined, nucleic acid extraction,,,], [missing, investigation type, investigation type, investigation_type,], [human-associated habitat [ENVO:00009003], feature, local-scale environmental context, env_local_scale,], [9606, host taxid, host taxonomy ID, host_taxid,], [Marvinbryantia formatexigens I-52, DSM 14469, project_name, project name, project_name,], [Newbler v. 2.0.00.20, assembly,,,], [not determined, geo_loc_name, geographic location, geo_loc_name,], [DSM 14469, source_mat_id, source material identifiers, source_material_id,], [biological product [ENVO:02000043], material, environmental medium, env_medium,], [not determined, ref_biomaterial, reference for biomaterial, ref_biomaterial,], [gastrointestinal_tract, misc_param: HMP supersite,,,], [not determined, num_replicons, number of replicons, num_replicons,], [454-GS-FLX, Sanger, sequencing method,,,], [http://hmpdacc.org/doc/CommonGeneAnnotation_SOP.pdf, sop,,,], [DSM 14469, strain, strain, strain,], [missing, environmental package, environmental package, env_package,], [missing, isolation-source, isolation source, isolation_source,], [type strain of Marvinbryantia formatexigens, type-material,,,]]]|    null|                                                                                                                                                                                                                                          [[[Bryantella formatexigens (GenBank Accession Number for 16S rDNA gene: AJ505973) is a member of the Firmicutes division of the domain bacteria and has been isolated from human feces., Keywords: GSC:MIxS;MIGS:5.0],], [,, 478749, Marvinbryantia formatexigens DSM 14469],, Marvinbryantia formatexigens DSM 14469]|       [[[SAMN00000025, BioSample,,, 1], [Bryantella formatexigens DSM 14469, WUGSC, Sample name,,], [SRS000025, SRA,,,]]]|                                                              [[[http://www.dsmz.de/catalogues/details/culture/DSM-14469, DNA Source,,, url], [21051,,, bioproject, entrez]]]|[[[MIGS.ba,]]]|       [[[[,,, lims@genome.wustl.edu,,,]]], [[Washington University, Genome Sequencing Center, WUGSC,]]]|[MIGS.ba.5.0, MIGS: cultured bacteria/archaea; version 5.0]|    [, live, 2013-08-28T14:46:01]| public|SAMN00000025| 25|         null|2019-06-20T16:11:23.089|2008-04-04T00:00:00.000|2008-04-04T08:44:34.043|\n",
            "|                                                                                                                                                                                                                                                                                                                                                                                                                                                                                                                                                                                                                                                                                                                                                                                                                                                                                                                                                                                                                                                                                                                                                                                                                                                                                                                                                                                                                                                                                                                                                                                                                                                                                                                                                                                                                                                                                                                 []|    null|                                                                                                                                                                                                                                                                                                                                                                                                                                                    [[[none provided],], [,, 94289, Sterkiella histriomuscorum],, Generic sample from Sterkiella histriomuscorum]|                      [[[SAMN00000026, BioSample,,, 1], [Oxytricha trifallax, WUGSC, Sample name,,], [SRS000026, SRA,,,]]]|                                                                                                                                                                         null|[[[Generic,]]]|       [[[[,,, lims@genome.wustl.edu,,,]]], [[Washington University, Genome Sequencing Center, WUGSC,]]]|                                     [Generic.1.0, Generic]|[, live, 2008-04-04T08:44:34.390]| public|SAMN00000026| 26|         null|2013-06-12T08:42:30.683|2008-04-04T08:44:34.543|2008-04-04T08:44:34.390|\n",
            "|                                                                                                                                                                                                                                                                                                                                                                                                                                                                                                                                                                                                                                                                                                                                                                                                                                                                                                                                                                                                                                                                                                                                                                                                                                                                                                                                                                                                                                                                                                                                                                                                                                                                                                                                                                                                                                                                   [[[total rna, life cycle stage information,,,]]]|    null|                                                                                                                                                                                                                                                                                                                                                                                                                                [[[none provided],], [Oesophagostomum dentatum,, 61180, Oesophagostomum dentatum],, Generic sample from Oesophagostomum dentatum]|                 [[[SAMN00000027, BioSample,,, 1], [Oesophagostomum dentatum, WUGSC, Sample name,,], [SRS000027, SRA,,,]]]|                                                                                                                                                                         null|[[[Generic,]]]|[[[[, [, ,,],, lims@genome.wustl.edu,,,]]], [[Washington University, Genome Sequencing Center, WUGSC,]]]|                                     [Generic.1.0, Generic]|[, live, 2008-04-04T08:44:34.733]| public|SAMN00000027| 27|         null|2018-07-10T10:22:39.972|2008-04-04T00:00:00.000|2008-04-04T08:44:34.733|\n",
            "|                                                                                      [[[Level 3: Improved-High-Quality Draft7.9x;30, finishing strategy (depth of coverage),,,], [not determined, collection date, collection date, collection_date,], [4421000, estimated_size, estimated size, estimated_size,], [not determined, isol_growth_condt, isolation and growth condition, isol_growth_condt,], [Homo sapiens, specific host, host, host,], [Reference Genome, project_type,,,], [not determined, lat_lon, latitude and longitude, lat_lon,], [terrestrial biome [ENVO:00000446], biome, broad-scale environmental context, env_broad_scale,], [not determined, misc_param: HMP body site,,,], [not determined, nucleic acid extraction,,,], [missing, investigation type, investigation type, investigation_type,], [human-associated habitat [ENVO:00009003], feature, local-scale environmental context, env_local_scale,], [9606, host taxid, host taxonomy ID, host_taxid,], [Bacteroides plebeius M12, DSM 17135, project_name, project name, project_name,], [Newbler, PCAP, assembly,,,], [not determined, geo_loc_name, geographic location, geo_loc_name,], [DSM 17135, source_mat_id, source material identifiers, source_material_id,], [biological product [ENVO:02000043], material, environmental medium, env_medium,], [not determined, ref_biomaterial, reference for biomaterial, ref_biomaterial,], [gastrointestinal_tract, misc_param: HMP supersite,,,], [not determined, num_replicons, number of replicons, num_replicons,], [454-GS20, Sanger, sequencing method,,,], [http://hmpdacc.org/doc/CommonGeneAnnotation_SOP.pdf, sop,,,], [DSM 17135, strain, strain, strain,], [missing, environmental package, environmental package, env_package,], [missing, isolation-source, isolation source, isolation_source,], [type strain of Bacteroides plebeius, type-material,,,]]]|    null|                                                                                                                                                                                                                                                           [[[Bacteroides plebeius (GenBank Accession Number for 16S rDNA gene: AB200217) is a member of the Bacteroidetes division of the domain bacteria and has been isolated from human feces., Keywords: GSC:MIxS;MIGS:5.0],], [,, 484018, Bacteroides plebeius DSM 17135],, Bacteroides plebeius DSM 17135]|           [[[SAMN00000028, BioSample,,, 1], [Bacteroides plebeius DSM 17135, WUGSC, Sample name,,], [SRS000028, SRA,,,]]]|                                                              [[[http://www.dsmz.de/catalogues/details/culture/DSM-17135, DNA Source,,, url], [27829,,, bioproject, entrez]]]|[[[MIGS.ba,]]]|       [[[[,,, lims@genome.wustl.edu,,,]]], [[Washington University, Genome Sequencing Center, WUGSC,]]]|[MIGS.ba.5.0, MIGS: cultured bacteria/archaea; version 5.0]|    [, live, 2013-08-28T14:45:34]| public|SAMN00000028| 28|         null|2019-06-20T16:11:23.145|2008-04-04T00:00:00.000|2008-04-04T08:44:35.013|\n",
            "|                                                                             [[[Level 2: High-Quality Draft38.4x;288, finishing strategy (depth of coverage),,,], [not determined, collection date, collection date, collection_date,], [5488000, estimated_size, estimated size, estimated_size,], [not determined, isol_growth_condt, isolation and growth condition, isol_growth_condt,], [Homo sapiens, specific host, host, host,], [Reference Genome, project_type,,,], [not determined, lat_lon, latitude and longitude, lat_lon,], [terrestrial biome [ENVO:00000446], biome, broad-scale environmental context, env_broad_scale,], [not determined, misc_param: HMP body site,,,], [not determined, nucleic acid extraction,,,], [missing, investigation type, investigation type, investigation_type,], [human-associated habitat [ENVO:00009003], feature, local-scale environmental context, env_local_scale,], [9606, host taxid, host taxonomy ID, host_taxid,], [Bacteroides dorei DSM 17855, project_name, project name, project_name,], [Newbler v. post-1.1.03-Dev_01252007, assembly,,,], [not determined, geo_loc_name, geographic location, geo_loc_name,], [DSM 17855, JCM 13471, source_mat_id, source material identifiers, source_material_id,], [biological product [ENVO:02000043], material, environmental medium, env_medium,], [not determined, ref_biomaterial, reference for biomaterial, ref_biomaterial,], [gastrointestinal_tract, misc_param: HMP supersite,,,], [not determined, num_replicons, number of replicons, num_replicons,], [454-GS-FLX, sequencing method,,,], [http://hmpdacc.org/doc/CommonGeneAnnotation_SOP.pdf, sop,,,], [DSM 17855, strain, strain, strain,], [missing, environmental package, environmental package, env_package,], [missing, isolation-source, isolation source, isolation_source,], [type strain of Bacteroides dorei, type-material,,,]]]|    null|                                                                                                                                                                                                                                                                   [[[Bacteroides dorei (GenBank Accession Number for 16S rDNA gene: AB242142) is a member of the Bacteroidetes division of the domain bacteria and has been isolated from human feces. , Keywords: GSC:MIxS;MIGS:5.0],], [,, 483217, Bacteroides dorei DSM 17855],, Bacteroides dorei DSM 17855]|              [[[SAMN00000029, BioSample,,, 1], [Bacteroides dorei DSM 17855, WUGSC, Sample name,,], [SRS000029, SRA,,,]]]|                                                              [[[http://www.dsmz.de/catalogues/details/culture/DSM-17855, DNA Source,,, url], [27831,,, bioproject, entrez]]]|[[[MIGS.ba,]]]|       [[[[,,, lims@genome.wustl.edu,,,]]], [[Washington University, Genome Sequencing Center, WUGSC,]]]|[MIGS.ba.5.0, MIGS: cultured bacteria/archaea; version 5.0]|    [, live, 2013-08-28T14:45:33]| public|SAMN00000029| 29|         null|2019-06-20T16:11:23.199|2008-04-04T00:00:00.000|2008-04-04T08:44:35.390|\n",
            "|                                                                                                                                                                                                                                                                                                                                                                                                                                                                                                                                                                                                                                                                                                                                                                                                                                                                                                                                                                                                                                                                                                                                                                                                                                                                                                                                                                                                                                                                                                                                                                                                                                                                                                                                                                                                                                                                                 [[[PA1, strain, strain, strain,]]]|    null|                                                                                                                                                                                                                                                                                                                                                                                                                          [[[Methylobacterium extorquens PA1],], [,, 419610, Methylorubrum extorquens PA1],, Generic sample from Methylobacterium extorquens PA1]|                [[[SAMN00000030, BioSample,,, 1], [FCBT, DOE Joint Genome Institute, Sample name,,], [SRS000216, SRA,,,]]]|                                                                                                                                                                         null|[[[Generic,]]]|                                         [, [[Joint Genome Institute, U.S. Department of Energy, JGI,]]]|                                     [Generic.1.0, Generic]|[, live, 2008-04-04T08:44:51.483]| public|SAMN00000030| 30|         null|2018-07-19T21:01:19.116|2008-04-04T00:00:00.000|2008-04-04T08:44:51.483|\n",
            "|                                                                                                                                                                                                                                                                                                                                                                                                                                                                                                                                                                                                                                                                                                                                                                                                                                                                                                                                                                                                                                                                                                                                                                                                                                                                                                                                                                                                                                                                                                                                                                                                                                                                                                                                                                                                                                                                                  [[[C7, strain, strain, strain,]]]|    null|                                                                                                                                                                                                                                                                                                                                                                                                                         [[[Methanococcus maripaludis C7isolate],], [,, 426368, Methanococcus maripaludis C7],, Generic sample from Methanococcus maripaludis C7]|         [[[SAMN00000031, BioSample,,, 1], [FFFS_sample, DOE Joint Genome Institute, Sample name,,], [SRS000217, SRA,,,]]]|                                                                                                                                                                         null|[[[Generic,]]]|                                         [, [[Joint Genome Institute, U.S. Department of Energy, JGI,]]]|                                     [Generic.1.0, Generic]|[, live, 2008-04-04T08:44:52.467]| public|SAMN00000031| 31|         null|2015-11-25T12:21:52.977|2008-04-04T08:44:52.577|2008-04-04T08:44:52.467|\n",
            "+-------------------------------------------------------------------------------------------------------------------------------------------------------------------------------------------------------------------------------------------------------------------------------------------------------------------------------------------------------------------------------------------------------------------------------------------------------------------------------------------------------------------------------------------------------------------------------------------------------------------------------------------------------------------------------------------------------------------------------------------------------------------------------------------------------------------------------------------------------------------------------------------------------------------------------------------------------------------------------------------------------------------------------------------------------------------------------------------------------------------------------------------------------------------------------------------------------------------------------------------------------------------------------------------------------------------------------------------------------------------------------------------------------------------------------------------------------------------------------------------------------------------------------------------------------------------------------------------------------------------------------------------------------------------------------------------------------------------------------------------------------------------------------------------------------------------------------------------------------------------------------------------------------------------+--------+-----------------------------------------------------------------------------------------------------------------------------------------------------------------------------------------------------------------------------------------------------------------------------------------------------------------------------------------------------------------------------------------------------------------------------------------------------------------------------------------------------------------------------------------------------------------+--------------------------------------------------------------------------------------------------------------------------+-----------------------------------------------------------------------------------------------------------------------------------------------------------------------------+--------------+--------------------------------------------------------------------------------------------------------+-----------------------------------------------------------+---------------------------------+-------+------------+---+-------------+-----------------------+-----------------------+-----------------------+\n",
            "only showing top 30 rows\n",
            "\n"
          ],
          "output_type" : "stream"
        }
      ]
    },
    {
      "cell_type" : "code",
      "execution_count" : 13,
      "metadata" : {
        "cell.metadata.exec_info" : {
          "startTs" : 1581207515398,
          "endTs" : 1581207515785
        },
        "language" : "scala"
      },
      "language" : "scala",
      "source" : [
        "samples.columns.toList"
      ],
      "outputs" : [
        {
          "execution_count" : 13,
          "data" : {
            "text/plain" : [
              "List(Attributes, Curation, Description, Ids, Links, Models, Owner, Package, Status, _access, _accession, _id, _is_reference, _last_update, _publication_date, _submission_date)"
            ]
          },
          "metadata" : {
            "name" : "Out",
            "type" : "List[String]"
          },
          "output_type" : "execute_result"
        }
      ]
    },
    {
      "cell_type" : "code",
      "execution_count" : 14,
      "metadata" : {
        "cell.metadata.exec_info" : {
          "startTs" : 1581207634119,
          "endTs" : 1581207634490
        },
        "language" : "scala"
      },
      "language" : "scala",
      "source" : [
        "samples.select(\"_accession\").show()"
      ],
      "outputs" : [
        {
          "name" : "stdout",
          "text" : [
            "+------------+\n",
            "|  _accession|\n",
            "+------------+\n",
            "|SAMN00000002|\n",
            "|SAMN00000003|\n",
            "|SAMN00000004|\n",
            "|SAMN00000005|\n",
            "|SAMN00000006|\n",
            "|SAMN00000007|\n",
            "|SAMN00000008|\n",
            "|SAMN00000009|\n",
            "|SAMN00000010|\n",
            "|SAMN00000011|\n",
            "|SAMN00000012|\n",
            "|SAMN00000013|\n",
            "|SAMN00000014|\n",
            "|SAMN00000015|\n",
            "|SAMN00000016|\n",
            "|SAMN00000017|\n",
            "|SAMN00000018|\n",
            "|SAMN00000019|\n",
            "|SAMN00000020|\n",
            "|SAMN00000021|\n",
            "+------------+\n",
            "only showing top 20 rows\n",
            "\n"
          ],
          "output_type" : "stream"
        }
      ]
    },
    {
      "cell_type" : "code",
      "execution_count" : 15,
      "metadata" : {
        "cell.metadata.exec_info" : {
          "startTs" : 1581207942112,
          "endTs" : 1581207942234
        },
        "language" : "sql"
      },
      "language" : "sql",
      "source" : [
        "SELECT * from samples LIMIT 10"
      ],
      "outputs" : [
        {
          "execution_count" : 15,
          "data" : {
            "text/plain" : [
              "[Attributes: struct<Attribute: array<struct<_VALUE:string,_attribute_name:string,_display_name:string,_harmonized_name:string,_unit:string>>>, Curation: struct<_VALUE: string, _curation_date: string ... 1 more field> ... 14 more fields]"
            ]
          },
          "metadata" : {
            "name" : "Out",
            "type" : "DataFrame"
          },
          "output_type" : "execute_result"
        }
      ]
    },
    {
      "cell_type" : "code",
      "execution_count" : 16,
      "metadata" : {
        "language" : "sql"
      },
      "language" : "sql",
      "source" : [
      ],
      "outputs" : [
      ]
    }
  ]
}