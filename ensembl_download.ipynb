{
  "metadata" : {
    "config" : {
      "dependencies" : {
        "scala" : [
          "group.research.aging:spark-extensions_2.12:0.0.8.2"
        ]
      },
      "exclusions" : [
      ],
      "repositories" : [
        {
          "maven" : {
            "base" : "http://central.maven.org/maven2/"
          }
        },
        {
          "maven" : {
            "base" : "http://oss.sonatype.org/content/repositories/snapshots"
          }
        },
        {
          "maven" : {
            "base" : "https://dl.bintray.com/comp-bio-aging/main/"
          }
        }
      ],
      "sparkConfig" : {
        "master" : "http://spark:7070[16]"
      }
    }
  },
  "nbformat" : 4,
  "nbformat_minor" : 0,
  "cells" : [
    {
      "cell_type" : "markdown",
      "execution_count" : 0,
      "metadata" : {
        "language" : "text"
      },
      "language" : "text",
      "source" : [
        "# Ensembl downloader\n",
        "\n"
      ],
      "outputs" : [
      ]
    },
    {
      "cell_type" : "markdown",
      "execution_count" : 1,
      "metadata" : {
        "language" : "text"
      },
      "language" : "text",
      "source" : [
        "<div><b>Getting species data from Ensembl</b><br></div>"
      ],
      "outputs" : [
      ]
    },
    {
      "cell_type" : "code",
      "execution_count" : 2,
      "metadata" : {
        "cell.metadata.exec_info" : {
          "startTs" : 1581548913565,
          "endTs" : 1581548915739
        },
        "language" : "scala"
      },
      "language" : "scala",
      "source" : [
        "import org.apache.spark._\n",
        "import org.apache.spark.sql.{DataFrame, Encoders, SparkSession}\n",
        "import org.apache.spark.sql.types.StructType\n",
        "import scala.reflect.runtime.universe._\n",
        "import org.apache.spark.storage.StorageLevel\n",
        "import org.apache.spark.rdd._\n",
        "import org.apache.spark.sql.functions._"
      ],
      "outputs" : [
      ]
    },
    {
      "cell_type" : "code",
      "execution_count" : 3,
      "metadata" : {
        "cell.metadata.exec_info" : {
          "startTs" : 1581548915762,
          "endTs" : 1581548918490
        },
        "language" : "scala"
      },
      "language" : "scala",
      "source" : [
        "import org.apache.spark.sql.expressions._\n",
        "import group.research.aging.spark.extensions._\n",
        "import group.research.aging.spark.extensions.functions._"
      ],
      "outputs" : [
      ]
    },
    {
      "cell_type" : "code",
      "execution_count" : 4,
      "metadata" : {
        "cell.metadata.exec_info" : {
          "startTs" : 1581548918494,
          "endTs" : 1581548928291
        },
        "language" : "scala"
      },
      "language" : "scala",
      "source" : [
        "val species = spark.readTSV(\"/data/ensembl/99/species_EnsemblVertebrates.txt\",comment=\"\", header=true)\n",
        ".withColumnRenamed(\"#name\", \"name\")\n",
        "species.show()"
      ],
      "outputs" : [
        {
          "name" : "stdout",
          "text" : [
            "+--------------------+--------------------+------------------+-----------+--------------------+------------------+--------------------+---------+-----------+---------------+-----------------+----------------+--------------------+----------+\n",
            "|                name|             species|          division|taxonomy_id|            assembly|assembly_accession|           genebuild|variation|pan_compara|peptide_compara|genome_alignments|other_alignments|             core_db|species_id|\n",
            "+--------------------+--------------------+------------------+-----------+--------------------+------------------+--------------------+---------+-----------+---------------+-----------------+----------------+--------------------+----------+\n",
            "|       Spiny chromis|acanthochromis_po...|EnsemblVertebrates|      80966|         ASM210954v1|   GCA_002109545.1|2018-05-Ensembl/2...|        N|          N|              Y|                Y|               Y|acanthochromis_po...|         1|\n",
            "|Eurasian sparrowhawk|     accipiter_nisus|EnsemblVertebrate",
            "s|     211598|Accipiter_nisus_v...|   GCA_004320145.1|2019-07-Ensembl/2...|        N|          N|              Y|                Y|               Y|accipiter_nisus_c...|         1|\n",
            "|               Panda|ailuropoda_melano...|EnsemblVertebrates|       9646|             ailMel1|   GCA_000004335.1|2010-01-Ensembl/2...|        N|          N|              Y|                Y|               Y|ailuropoda_melano...|         1|\n",
            "|Yellow-billed parrot|    amazona_collaria|EnsemblVertebrates|     241587|         ASM394721v1|   GCA_003947215.1|2019-07-Ensembl/2...|        N|          N|              Y|                Y|               Y|amazona_collaria_...|         1|\n",
            "|       Midas cichlid|amphilophus_citri...|EnsemblVertebrates|      61819|            Midas_v5|   GCA_000751415.1|2018-05-Ensembl/2...|        N|          N|              Y|                Y|               Y|amphilophus_citri...|         1|\n",
            "|   Clown anemonefish|amphiprion_ocellaris|EnsemblVertebrates|      80972|           AmpOce1.0|   GCA_002776465.1|2018-0",
            "5-Ensembl/2...|        N|          N|              Y|                Y|               Y|amphiprion_ocella...|         1|\n",
            "|    Orange clownfish|  amphiprion_percula|EnsemblVertebrates|     161767|             Nemo_v1|   GCA_003047355.1|2018-05-Ensembl/2...|        N|          N|              Y|                Y|               Y|amphiprion_percul...|         1|\n",
            "|      Climbing perch|  anabas_testudineus|EnsemblVertebrates|      64144|          fAnaTes1.1|   GCA_900324465.1|2018-05-Ensembl/2...|        N|          N|              Y|                Y|               Y|anabas_testudineu...|         1|\n",
            "|                Duck|anas_platyrhyncho...|EnsemblVertebrates|       8840|         CAU_duck1.0|   GCA_002743455.1|2018-10-Ensembl/2...|        N|          N|              Y|                Y|               Y|anas_platyrhyncho...|         1|\n",
            "|        Anole lizard| anolis_carolinensis|EnsemblVertebrates|      28377|           AnoCar2.0|   GCA_000090745.1|2010-09-Ensembl/2...|        N|          Y|              Y|       ",
            "         Y|               Y|anolis_carolinens...|         1|\n",
            "|   Pink-footed goose|anser_brachyrhynchus|EnsemblVertebrates|     132585|         ASM259213v1|   GCA_002592135.1|2018-12-Ensembl/2...|        N|          N|              Y|                Y|               Y|anser_brachyrhync...|         1|\n",
            "|          Swan goose|     anser_cygnoides|EnsemblVertebrates|       8845|           GooseV1.0|   GCA_002166845.1|2019-02-Ensembl/2...|        N|          N|              Y|                Y|               Y|anser_cygnoides_c...|         1|\n",
            "|   Ma's night monkey|     aotus_nancymaae|EnsemblVertebrates|      37293|            Anan_2.0|   GCA_000952055.2|2017-08-Ensembl/2...|        N|          N|              Y|                Y|               Y|aotus_nancymaae_c...|         1|\n",
            "|  Great spotted kiwi|     apteryx_haastii|EnsemblVertebrates|       8823|             aptHaa1|   GCA_003342985.1|2018-12-Ensembl/2...|        N|          N|              Y|                Y|               Y|apteryx_haastii_c...|         1|",
            "\n",
            "| Little spotted kiwi|      apteryx_owenii|EnsemblVertebrates|       8824|             aptOwe1|   GCA_003342965.1|2018-10-Ensembl/2...|        N|          N|              Y|                Y|               Y|apteryx_owenii_co...|         1|\n",
            "|  Okarito brown kiwi|        apteryx_rowi|EnsemblVertebrates|     308060|             aptRow1|   GCA_003343035.1|2018-10-Ensembl/2...|        N|          N|              Y|                Y|               Y|apteryx_rowi_core...|         1|\n",
            "|        Golden eagle|aquila_chrysaetos...|EnsemblVertebrates|     223781|          bAquChr1.2|   GCA_900496995.2|2019-07-Ensembl/2...|        N|          N|              Y|                Y|               Y|aquila_chrysaetos...|         1|\n",
            "|       Eastern happy|astatotilapia_cal...|EnsemblVertebrates|       8154|          fAstCal1.2|   GCA_900246225.3|2018-06-Ensembl/2...|        N|          N|              Y|                Y|               Y|astatotilapia_cal...|         1|\n",
            "|       Mexican tetra|  astyanax_mexicanus|EnsemblVertebrat",
            "es|       7994|Astyanax_mexicanu...|   GCA_000372685.2|2018-05-Ensembl/2...|        N|          N|              Y|                Y|               Y|astyanax_mexicanu...|         1|\n",
            "|     Pachon cavefish|astyanax_mexicanu...|EnsemblVertebrates|       7994|Astyanax_mexicanu...|   GCA_004802775.1|2019-06-Ensembl/2...|        N|          N|              Y|                Y|               Y|astyanax_mexicanu...|         1|\n",
            "+--------------------+--------------------+------------------+-----------+--------------------+------------------+--------------------+---------+-----------+---------------+-----------------+----------------+--------------------+----------+\n",
            "only showing top 20 rows\n",
            "\n"
          ],
          "output_type" : "stream"
        }
      ]
    },
    {
      "cell_type" : "markdown",
      "execution_count" : 5,
      "metadata" : {
        "language" : "text"
      },
      "language" : "text",
      "source" : [
        "**Preparing the download**<br>\n",
        "\n",
        "\n"
      ],
      "outputs" : [
      ]
    },
    {
      "cell_type" : "code",
      "execution_count" : 6,
      "metadata" : {
        "cell.metadata.exec_info" : {
          "startTs" : 1581548931195,
          "endTs" : 1581548932578
        },
        "language" : "scala"
      },
      "language" : "scala",
      "source" : [
        "def prefix(prefix: String, sufix: String) =  udf[String, String]{ str=> prefix + str + sufix}\n",
        "//val b = prefix(\"wget -t 4 -m -nH --cut-dirs=100 ftp://ftp.ensembl.org/pub/release-96/gtf/\", \"/*\")\n",
        "\n",
        "def command(path: String, ftp: String) = udf[String, String]{ species => {\n",
        "    val dir = path + \"/\" + species\n",
        "    val wget = \"wget -t 4 -m -nH --cut-dirs=100 -P \" + dir + \" \"\n",
        "    val and = \" && \"\n",
        "    \"mkdir -p \" + dir + and + wget + ftp + \"/gtf/\" + species + \"/*\" + and + wget + ftp + \"/fasta/\" + species + \"/*\" + and + \"gunzip -f \" + dir + \"/*.gz\" \n",
        "    \n",
        "}\n",
        "}\n",
        "val download = command(\"/data/ensembl/99/species\", \"ftp://ftp.ensembl.org/pub/release-99\")\n"
      ],
      "outputs" : [
      ]
    },
    {
      "cell_type" : "code",
      "execution_count" : 7,
      "metadata" : {
        "cell.metadata.exec_info" : {
          "startTs" : 1581548933846,
          "endTs" : 1581548934201
        },
        "language" : "scala"
      },
      "language" : "scala",
      "source" : [
        "class Fixer{\n",
        "    import ammonite.ops._\n",
        "   def no_dot(assembly: String) = { assembly.lastIndexOf(\".\") match { case -1 => assembly ; case i => assembly.substring(0, i) } }\n",
        " \n",
        "    //def assembly2(prefix: String) = udf[String, String, String]{ (one, two) => prefix + one + \"/\" + two }\n",
        "    def fix(str: String, assembly: String) = {\n",
        "         if(exists! Path(str)) str else {\n",
        "             val str2 = str.replace(assembly, no_dot(assembly))\n",
        "             if(exists! Path(str2)) str2 else {\n",
        "                 if(str.contains(\" \"))\n",
        "                    str.replace(\" \", \"_\")\n",
        "                 else str\n",
        "             }\n",
        "         }\n",
        "    }\n",
        "}"
      ],
      "outputs" : [
      ]
    },
    {
      "cell_type" : "code",
      "execution_count" : 8,
      "metadata" : {
        "cell.metadata.exec_info" : {
          "startTs" : 1581548936287,
          "endTs" : 1581548937209
        },
        "language" : "scala"
      },
      "language" : "scala",
      "source" : [
        "def genome =  udf[String, String, String] { (species, assembly) => \n",
        "   val f = new Fixer(); import f._\n",
        "    import ammonite.ops._    \n",
        "    val p = \"/data/ensembl/99/species/\" + species + \"/\" + s\"${species.head.toUpper + species.tail}.${assembly}.dna.primary_assembly.fa\".replace(\" \", \"\")\n",
        "     \n",
        "    //if(new java.io.File(p).exists) p else  if(exists! Path(fix(p, assembly))) fix(p, assembly) else {\n",
        "    \n",
        "    if(exists! Path(p)) p else  if(exists! Path(fix(p, assembly))) fix(p, assembly) else {\n",
        "    val str = \"/data/ensembl/99/species/\" + species + \"/\" + s\"${species.head.toUpper + species.tail}.${assembly}.dna.toplevel.fa\".replace(\" \", \"\") \n",
        "    fix(str, assembly)\n",
        "    }\n",
        "}\n",
        "\n",
        "def cdna = udf[String, String, String] { (species, assembly) => \n",
        "val f = new Fixer(); import f._\n",
        "    val str = \"/data/ensembl/99/species/\" + species + \"/\" + s\"${species.head.toUpper + species.tail}.${assembly}.cdna.all.fa\".replace(\" \", \"\") \n",
        "    fix(str, assembly)\n",
        "}\n",
        "\n",
        "def gtf = udf[String, String, String] { (species, assembly) => \n",
        "    val f = new Fixer(); import f._\n",
        "    val str = \"/data/ensembl/99/species/\" + species + \"/\" + s\"${species.head.toUpper + species.tail}.${assembly}.99.gtf\".replace(\" \", \"\") \n",
        "    fix(str, assembly)\n",
        "}\n",
        "def pep =  udf[String, String, String] { (species, assembly) => \n",
        "val f = new Fixer(); import f._\n",
        "\n",
        "    val str = \"/data/ensembl/99/species/\" + species + \"/\" + s\"${species.head.toUpper + species.tail}.${assembly}.pep.all.fa\".replace(\" \", \"\") \n",
        "    fix(str, assembly)\n",
        "}\n",
        "\n",
        "def check_file_simple = udf[Boolean, String] { str =>\n",
        "    new java.io.File(str).exists \n",
        "   // exists! ammonite.ops.Path(str)\n",
        "}\n",
        "\n",
        "def new_index = udf[String, String] { str => \"/data/indexes/salmon/1.1.0/ensembl_99/\" + str.head.toUpper + str.tail }\n",
        "    "
      ],
      "outputs" : [
      ]
    },
    {
      "cell_type" : "markdown",
      "execution_count" : 9,
      "metadata" : {
        "language" : "text"
      },
      "language" : "text",
      "source" : [
        "<div><b>Setting up Salmon index</b></div><div>---------------------------------<br></div>"
      ],
      "outputs" : [
      ]
    },
    {
      "cell_type" : "code",
      "execution_count" : 10,
      "metadata" : {
        "cell.metadata.exec_info" : {
          "startTs" : 1581548939002,
          "endTs" : 1581548939204
        },
        "language" : "scala"
      },
      "language" : "scala",
      "source" : [
        "def gentrome( species: String, \n",
        "    genome: String, \n",
        "    transcriptome: String,\n",
        "    version: String,\n",
        "    subversion: String) = \n",
        "     s\"\"\"\n",
        "     {\n",
        "      \"species\": \"${species}\",\n",
        "      \"genome\": \"${genome}\",\n",
        "      \"transcriptome\": \"${transcriptome}\",\n",
        "      \"version\": \"${version}\",\n",
        "      \"subversion\": \"${subversion}\"\n",
        "    }\"\"\"\n",
        "\n",
        "def salmonIndex(\n",
        "    species: String, \n",
        "    genome: String, \n",
        "    transcriptome: String,\n",
        "    version: String,\n",
        "    subversion: String,\n",
        "    folder: String = \"\"    \n",
        "    ) = s\"\"\"\n",
        "{\"\"\" +\n",
        "  (if(folder!=\"\") s\"\"\" \"quant_index.indexes_folder\": \"${folder}\", \"\"\" else \"\") +\n",
        "  s\"\"\" \"quant_index.references\": [\n",
        "    ${gentrome(species, genome, transcriptome, version, subversion)}\n",
        "  ]\n",
        "}\n",
        "\"\"\".replace(\"\\t\", \"  \")\n",
        "salmonIndex(\"Homo sapiens\", \"/data/ensembl/99/species/homo_sapiens/Homo_sapiens.GRCh38.dna.primary_assembly.fa\", \n",
        "\"/data/ensembl/97/species/homo_sapiens/Homo_sapiens.GRCh38.cdna.all.fa\", \"GRCh38\", \n",
        "\"ensembl_97\" ,\"/data/indexes/salmon/1.1.0/ensembl_99\"\n",
        ")"
      ],
      "outputs" : [
        {
          "execution_count" : 10,
          "data" : {
            "text/plain" : [
              "\n",
              "{ \"quant_index.indexes_folder\": \"/data/indexes/salmon/1.1.0/ensembl_99\",  \"quant_index.references\": [\n",
              "    \n",
              "     {\n",
              "      \"species\": \"Homo sapiens\",\n",
              "      \"genome\": \"/data/ensembl/99/species/homo_sapiens/Homo_sapiens.GRCh38.dna.primary_assembly.fa\",\n",
              "     "
            ]
          },
          "metadata" : {
            "name" : "Out",
            "type" : "String"
          },
          "output_type" : "execute_result"
        }
      ]
    },
    {
      "cell_type" : "code",
      "execution_count" : 11,
      "metadata" : {
        "cell.metadata.exec_info" : {
          "startTs" : 1581548942567,
          "endTs" : 1581548942929
        },
        "language" : "scala"
      },
      "language" : "scala",
      "source" : [
        "def index_input =  udf[String, String, String, String, String, String, String] {   (folder: String, species: String, genome: String, transcriptome: String, version: String, subversion: String) =>\n",
        "  s\"\"\"\n",
        "{\n",
        "  \"quant_index.indexes_folder\": \"${folder}\",\n",
        "  \"quant_index.references\": [\n",
        "    {\n",
        "      \"species\": \"${species}\",\n",
        "      \"genome\": \"${genome}\",\n",
        "      \"transcriptome\": \"${transcriptome}\",\n",
        "      \"version\": \"${version}\",\n",
        "      \"subversion\": \"${subversion}\"\n",
        "    }\n",
        "  ]\n",
        "}\n",
        "\"\"\".replace(\"\\t\", \" \").replace(\"\\n\", \"  \")\n",
        "}"
      ],
      "outputs" : [
      ]
    },
    {
      "cell_type" : "markdown",
      "execution_count" : 12,
      "metadata" : {
        "language" : "text"
      },
      "language" : "text",
      "source" : [
        "**Preparing the main table**\n",
        "\n",
        "\n"
      ],
      "outputs" : [
      ]
    },
    {
      "cell_type" : "markdown",
      "execution_count" : 13,
      "metadata" : {
        "language" : "text"
      },
      "language" : "text",
      "source" : [
        "Computing genomes table\n",
        "\n",
        "------------------------------------<br>\n",
        "\n",
        "\n"
      ],
      "outputs" : [
      ]
    },
    {
      "cell_type" : "code",
      "execution_count" : 14,
      "metadata" : {
        "cell.metadata.exec_info" : {
          "startTs" : 1581548945322,
          "endTs" : 1581548946435
        },
        "language" : "scala"
      },
      "language" : "scala",
      "source" : [
        "import org.apache.spark.sql.functions._\n",
        "val genomes = species\n",
        "  .withColumn(\"download\", download($\"species\"))\n",
        "  .withColumn(\"index\", new_index($\"species\"))\n",
        "  .withColumn(\"genome\", genome($\"species\", $\"assembly\"))\n",
        "  .withColumn(\"cdna\", cdna($\"species\", $\"assembly\"))\n",
        "  .withColumn(\"index_input\", index_input(lit(\"/data/indexes/salmon/1.1.0/ensembl_99\"), $\"species\", $\"genome\", $\"cdna\", $\"assembly\", lit(\"ensembl_99\")))\n",
        "  .select(\"name\", \"species\", \"download\", \"assembly\", \"genome\", \"cdna\", \"index\", \"index_input\") \n",
        "  .withColumn(\"index_exists\", check_file_simple($\"index\"))\n",
        "  .withColumn(\"genome_exists\", check_file_simple($\"genome\"))\n",
        "  .withColumn(\"cdna_exists\", check_file_simple($\"cdna\"))\n",
        "  .withColumn(\"gtf\", gtf($\"species\", $\"assembly\"))\n",
        "  .withColumn(\"gtf_exists\", check_file_simple($\"gtf\"))\n",
        "  .withColumn(\"pep\", pep($\"species\", $\"assembly\"))\n",
        "  .withColumn(\"pep_exists\", check_file_simple($\"pep\"))\n",
        "  .select(\"name\", \"index\", \"index_exists\", \"species\", \"download\", \"assembly\", \"genome\", \"genome_exists\", \"cdna\", \"cdna_exists\", \"gtf\", \"gtf_exists\", \"pep\", \"pep_exists\")\n",
        "  \n",
        " genomes.show(100,1000)"
      ],
      "outputs" : [
        {
          "name" : "stdout",
          "text" : [
            "+------------------------------+----------------------------------------------------------------------+------------+--------------------------------+--------------------------------------------------------------------------------------------------------------------------------------------------------------------------------------------------------------------------------------------------------------------------------------------------------------------------------------------------------------------------------------------------------------------------------------------------------------------------------------------------------+------------------------------+-------------------------------------------------------------------------------------------------------------------------+-------------+---------------------------------------------------------------------------------------------------------------------+-----------+-----------------------------------------------------------------------------------------",
            "-----------------------+----------+--------------------------------------------------------------------------------------------------------------------+----------+\n",
            "|                          name|                                                                 index|index_exists|                         species|                                                                                                                                                                                                                                                                                                                                                                                                                                                                                                download|                      assembly|                                                                                                                   genome|genome_exists|                                                       ",
            "                                                          cdna|cdna_exists|                                                                                                             gtf|gtf_exists|                                                                                                                 pep|pep_exists|\n",
            "+------------------------------+----------------------------------------------------------------------+------------+--------------------------------+--------------------------------------------------------------------------------------------------------------------------------------------------------------------------------------------------------------------------------------------------------------------------------------------------------------------------------------------------------------------------------------------------------------------------------------------------------------------------------------------------------+------------------------------+---------------------------",
            "----------------------------------------------------------------------------------------------+-------------+---------------------------------------------------------------------------------------------------------------------+-----------+----------------------------------------------------------------------------------------------------------------+----------+--------------------------------------------------------------------------------------------------------------------+----------+\n",
            "|                 Spiny chromis|     /data/indexes/salmon/1.1.0/ensembl_99/Acanthochromis_polyacanthus|        true|     acanthochromis_polyacanthus|                              mkdir -p /data/ensembl/99/species/acanthochromis_polyacanthus && wget -t 4 -m -nH --cut-dirs=100 -P /data/ensembl/99/species/acanthochromis_polyacanthus ftp://ftp.ensembl.org/pub/release-99/gtf/acanthochromis_polyacanthus/* && wget -t 4 -m -nH --cut-dirs=100 -P /data/ensembl/99/species/acanthochromis_polyacanthus ftp://ftp.ensembl.org/pub/release-99/f",
            "asta/acanthochromis_polyacanthus/* && gunzip -f /data/ensembl/99/species/acanthochromis_polyacanthus/*.gz|                   ASM210954v1|             /data/ensembl/99/species/acanthochromis_polyacanthus/Acanthochromis_polyacanthus.ASM210954v1.dna.toplevel.fa|         true|             /data/ensembl/99/species/acanthochromis_polyacanthus/Acanthochromis_polyacanthus.ASM210954v1.cdna.all.fa|       true|             /data/ensembl/99/species/acanthochromis_polyacanthus/Acanthochromis_polyacanthus.ASM210954v1.99.gtf|      true|             /data/ensembl/99/species/acanthochromis_polyacanthus/Acanthochromis_polyacanthus.ASM210954v1.pep.all.fa|      true|\n",
            "|          Eurasian sparrowhawk|                 /data/indexes/salmon/1.1.0/ensembl_99/Accipiter_nisus|        true|                 accipiter_nisus|                                                                                                      mkdir -p /data/ensembl/99/species/accipiter_nisus && wget -t 4 -m -nH --cut-dirs=100 -P /data/ensembl/99/species/acci",
            "piter_nisus ftp://ftp.ensembl.org/pub/release-99/gtf/accipiter_nisus/* && wget -t 4 -m -nH --cut-dirs=100 -P /data/ensembl/99/species/accipiter_nisus ftp://ftp.ensembl.org/pub/release-99/fasta/accipiter_nisus/* && gunzip -f /data/ensembl/99/species/accipiter_nisus/*.gz|        Accipiter_nisus_ver1.0|                          /data/ensembl/99/species/accipiter_nisus/Accipiter_nisus.Accipiter_nisus_ver1.0.dna.toplevel.fa|         true|                          /data/ensembl/99/species/accipiter_nisus/Accipiter_nisus.Accipiter_nisus_ver1.0.cdna.all.fa|       true|                          /data/ensembl/99/species/accipiter_nisus/Accipiter_nisus.Accipiter_nisus_ver1.0.99.gtf|      true|                          /data/ensembl/99/species/accipiter_nisus/Accipiter_nisus.Accipiter_nisus_ver1.0.pep.all.fa|      true|\n",
            "|                         Panda|          /data/indexes/salmon/1.1.0/ensembl_99/Ailuropoda_melanoleuca|        true|          ailuropoda_melanoleuca|                                                       ",
            "     mkdir -p /data/ensembl/99/species/ailuropoda_melanoleuca && wget -t 4 -m -nH --cut-dirs=100 -P /data/ensembl/99/species/ailuropoda_melanoleuca ftp://ftp.ensembl.org/pub/release-99/gtf/ailuropoda_melanoleuca/* && wget -t 4 -m -nH --cut-dirs=100 -P /data/ensembl/99/species/ailuropoda_melanoleuca ftp://ftp.ensembl.org/pub/release-99/fasta/ailuropoda_melanoleuca/* && gunzip -f /data/ensembl/99/species/ailuropoda_melanoleuca/*.gz|                       ailMel1|                           /data/ensembl/99/species/ailuropoda_melanoleuca/Ailuropoda_melanoleuca.ailMel1.dna.toplevel.fa|         true|                           /data/ensembl/99/species/ailuropoda_melanoleuca/Ailuropoda_melanoleuca.ailMel1.cdna.all.fa|       true|                           /data/ensembl/99/species/ailuropoda_melanoleuca/Ailuropoda_melanoleuca.ailMel1.99.gtf|      true|                           /data/ensembl/99/species/ailuropoda_melanoleuca/Ailuropoda_melanoleuca.ailMel1.pep.all.fa|      true|\n",
            "|          Yellow-billed parrot|        ",
            "        /data/indexes/salmon/1.1.0/ensembl_99/Amazona_collaria|        true|                amazona_collaria|                                                                                                mkdir -p /data/ensembl/99/species/amazona_collaria && wget -t 4 -m -nH --cut-dirs=100 -P /data/ensembl/99/species/amazona_collaria ftp://ftp.ensembl.org/pub/release-99/gtf/amazona_collaria/* && wget -t 4 -m -nH --cut-dirs=100 -P /data/ensembl/99/species/amazona_collaria ftp://ftp.ensembl.org/pub/release-99/fasta/amazona_collaria/* && gunzip -f /data/ensembl/99/species/amazona_collaria/*.gz|                   ASM394721v1|                                   /data/ensembl/99/species/amazona_collaria/Amazona_collaria.ASM394721v1.dna.toplevel.fa|         true|                                   /data/ensembl/99/species/amazona_collaria/Amazona_collaria.ASM394721v1.cdna.all.fa|       true|                                   /data/ensembl/99/species/amazona_collaria/Amazona_collaria.ASM394721v1.99.gtf|      true|     ",
            "                              /data/ensembl/99/species/amazona_collaria/Amazona_collaria.ASM394721v1.pep.all.fa|      true|\n",
            "|                 Midas cichlid|         /data/indexes/salmon/1.1.0/ensembl_99/Amphilophus_citrinellus|        true|         amphilophus_citrinellus|                                                      mkdir -p /data/ensembl/99/species/amphilophus_citrinellus && wget -t 4 -m -nH --cut-dirs=100 -P /data/ensembl/99/species/amphilophus_citrinellus ftp://ftp.ensembl.org/pub/release-99/gtf/amphilophus_citrinellus/* && wget -t 4 -m -nH --cut-dirs=100 -P /data/ensembl/99/species/amphilophus_citrinellus ftp://ftp.ensembl.org/pub/release-99/fasta/amphilophus_citrinellus/* && gunzip -f /data/ensembl/99/species/amphilophus_citrinellus/*.gz|                      Midas_v5|                        /data/ensembl/99/species/amphilophus_citrinellus/Amphilophus_citrinellus.Midas_v5.dna.toplevel.fa|         true|                        /data/ensembl/99/species/amphilophus_citrinellus/Amphilophus_citrinellu",
            "s.Midas_v5.cdna.all.fa|       true|                        /data/ensembl/99/species/amphilophus_citrinellus/Amphilophus_citrinellus.Midas_v5.99.gtf|      true|                        /data/ensembl/99/species/amphilophus_citrinellus/Amphilophus_citrinellus.Midas_v5.pep.all.fa|      true|\n",
            "|             Clown anemonefish|            /data/indexes/salmon/1.1.0/ensembl_99/Amphiprion_ocellaris|        true|            amphiprion_ocellaris|                                                                        mkdir -p /data/ensembl/99/species/amphiprion_ocellaris && wget -t 4 -m -nH --cut-dirs=100 -P /data/ensembl/99/species/amphiprion_ocellaris ftp://ftp.ensembl.org/pub/release-99/gtf/amphiprion_ocellaris/* && wget -t 4 -m -nH --cut-dirs=100 -P /data/ensembl/99/species/amphiprion_ocellaris ftp://ftp.ensembl.org/pub/release-99/fasta/amphiprion_ocellaris/* && gunzip -f /data/ensembl/99/species/amphiprion_ocellaris/*.gz|                     AmpOce1.0|                             /data/ensembl/99/species/amphiprion_oc",
            "ellaris/Amphiprion_ocellaris.AmpOce1.0.dna.toplevel.fa|         true|                             /data/ensembl/99/species/amphiprion_ocellaris/Amphiprion_ocellaris.AmpOce1.0.cdna.all.fa|       true|                             /data/ensembl/99/species/amphiprion_ocellaris/Amphiprion_ocellaris.AmpOce1.0.99.gtf|      true|                             /data/ensembl/99/species/amphiprion_ocellaris/Amphiprion_ocellaris.AmpOce1.0.pep.all.fa|      true|\n",
            "|              Orange clownfish|              /data/indexes/salmon/1.1.0/ensembl_99/Amphiprion_percula|        true|              amphiprion_percula|                                                                                    mkdir -p /data/ensembl/99/species/amphiprion_percula && wget -t 4 -m -nH --cut-dirs=100 -P /data/ensembl/99/species/amphiprion_percula ftp://ftp.ensembl.org/pub/release-99/gtf/amphiprion_percula/* && wget -t 4 -m -nH --cut-dirs=100 -P /data/ensembl/99/species/amphiprion_percula ftp://ftp.ensembl.org/pub/release-99/fasta/amphiprion_percul",
            "a/* && gunzip -f /data/ensembl/99/species/amphiprion_percula/*.gz|                       Nemo_v1|                                   /data/ensembl/99/species/amphiprion_percula/Amphiprion_percula.Nemo_v1.dna.toplevel.fa|         true|                                   /data/ensembl/99/species/amphiprion_percula/Amphiprion_percula.Nemo_v1.cdna.all.fa|       true|                                   /data/ensembl/99/species/amphiprion_percula/Amphiprion_percula.Nemo_v1.99.gtf|      true|                                   /data/ensembl/99/species/amphiprion_percula/Amphiprion_percula.Nemo_v1.pep.all.fa|      true|\n",
            "|                Climbing perch|              /data/indexes/salmon/1.1.0/ensembl_99/Anabas_testudineus|        true|              anabas_testudineus|                                                                                    mkdir -p /data/ensembl/99/species/anabas_testudineus && wget -t 4 -m -nH --cut-dirs=100 -P /data/ensembl/99/species/anabas_testudineus ftp://ftp.ensembl.org/pub/release-99/gtf",
            "/anabas_testudineus/* && wget -t 4 -m -nH --cut-dirs=100 -P /data/ensembl/99/species/anabas_testudineus ftp://ftp.ensembl.org/pub/release-99/fasta/anabas_testudineus/* && gunzip -f /data/ensembl/99/species/anabas_testudineus/*.gz|                    fAnaTes1.1|                                /data/ensembl/99/species/anabas_testudineus/Anabas_testudineus.fAnaTes1.1.dna.toplevel.fa|         true|                                /data/ensembl/99/species/anabas_testudineus/Anabas_testudineus.fAnaTes1.1.cdna.all.fa|       true|                                /data/ensembl/99/species/anabas_testudineus/Anabas_testudineus.fAnaTes1.1.99.gtf|      true|                                /data/ensembl/99/species/anabas_testudineus/Anabas_testudineus.fAnaTes1.1.pep.all.fa|      true|\n",
            "|                          Duck|/data/indexes/salmon/1.1.0/ensembl_99/Anas_platyrhynchos_platyrhynchos|        true|anas_platyrhynchos_platyrhynchos|mkdir -p /data/ensembl/99/species/anas_platyrhynchos_platyrhynchos && wget -t 4 -m -nH --cut-di",
            "rs=100 -P /data/ensembl/99/species/anas_platyrhynchos_platyrhynchos ftp://ftp.ensembl.org/pub/release-99/gtf/anas_platyrhynchos_platyrhynchos/* && wget -t 4 -m -nH --cut-dirs=100 -P /data/ensembl/99/species/anas_platyrhynchos_platyrhynchos ftp://ftp.ensembl.org/pub/release-99/fasta/anas_platyrhynchos_platyrhynchos/* && gunzip -f /data/ensembl/99/species/anas_platyrhynchos_platyrhynchos/*.gz|                   CAU_duck1.0|   /data/ensembl/99/species/anas_platyrhynchos_platyrhynchos/Anas_platyrhynchos_platyrhynchos.CAU_duck1.0.dna.toplevel.fa|         true|   /data/ensembl/99/species/anas_platyrhynchos_platyrhynchos/Anas_platyrhynchos_platyrhynchos.CAU_duck1.0.cdna.all.fa|       true|   /data/ensembl/99/species/anas_platyrhynchos_platyrhynchos/Anas_platyrhynchos_platyrhynchos.CAU_duck1.0.99.gtf|      true|   /data/ensembl/99/species/anas_platyrhynchos_platyrhynchos/Anas_platyrhynchos_platyrhynchos.CAU_duck1.0.pep.all.fa|      true|\n",
            "|                  Anole lizard|             /data/indexes/salmon/1.1.0/ensembl_",
            "99/Anolis_carolinensis|        true|             anolis_carolinensis|                                                                              mkdir -p /data/ensembl/99/species/anolis_carolinensis && wget -t 4 -m -nH --cut-dirs=100 -P /data/ensembl/99/species/anolis_carolinensis ftp://ftp.ensembl.org/pub/release-99/gtf/anolis_carolinensis/* && wget -t 4 -m -nH --cut-dirs=100 -P /data/ensembl/99/species/anolis_carolinensis ftp://ftp.ensembl.org/pub/release-99/fasta/anolis_carolinensis/* && gunzip -f /data/ensembl/99/species/anolis_carolinensis/*.gz|                     AnoCar2.0|                               /data/ensembl/99/species/anolis_carolinensis/Anolis_carolinensis.AnoCar2.0.dna.toplevel.fa|         true|                               /data/ensembl/99/species/anolis_carolinensis/Anolis_carolinensis.AnoCar2.0.cdna.all.fa|       true|                               /data/ensembl/99/species/anolis_carolinensis/Anolis_carolinensis.AnoCar2.0.99.gtf|      true|                               /data/ensembl/",
            "99/species/anolis_carolinensis/Anolis_carolinensis.AnoCar2.0.pep.all.fa|      true|\n",
            "|             Pink-footed goose|            /data/indexes/salmon/1.1.0/ensembl_99/Anser_brachyrhynchus|        true|            anser_brachyrhynchus|                                                                        mkdir -p /data/ensembl/99/species/anser_brachyrhynchus && wget -t 4 -m -nH --cut-dirs=100 -P /data/ensembl/99/species/anser_brachyrhynchus ftp://ftp.ensembl.org/pub/release-99/gtf/anser_brachyrhynchus/* && wget -t 4 -m -nH --cut-dirs=100 -P /data/ensembl/99/species/anser_brachyrhynchus ftp://ftp.ensembl.org/pub/release-99/fasta/anser_brachyrhynchus/* && gunzip -f /data/ensembl/99/species/anser_brachyrhynchus/*.gz|                   ASM259213v1|                           /data/ensembl/99/species/anser_brachyrhynchus/Anser_brachyrhynchus.ASM259213v1.dna.toplevel.fa|         true|                           /data/ensembl/99/species/anser_brachyrhynchus/Anser_brachyrhynchus.ASM259213v1.cdna.all.fa|       true|     ",
            "                      /data/ensembl/99/species/anser_brachyrhynchus/Anser_brachyrhynchus.ASM259213v1.99.gtf|      true|                           /data/ensembl/99/species/anser_brachyrhynchus/Anser_brachyrhynchus.ASM259213v1.pep.all.fa|      true|\n",
            "|                    Swan goose|                 /data/indexes/salmon/1.1.0/ensembl_99/Anser_cygnoides|        true|                 anser_cygnoides|                                                                                                      mkdir -p /data/ensembl/99/species/anser_cygnoides && wget -t 4 -m -nH --cut-dirs=100 -P /data/ensembl/99/species/anser_cygnoides ftp://ftp.ensembl.org/pub/release-99/gtf/anser_cygnoides/* && wget -t 4 -m -nH --cut-dirs=100 -P /data/ensembl/99/species/anser_cygnoides ftp://ftp.ensembl.org/pub/release-99/fasta/anser_cygnoides/* && gunzip -f /data/ensembl/99/species/anser_cygnoides/*.gz|                     GooseV1.0|                                       /data/ensembl/99/species/anser_cygnoides/Anser_cygnoides.GooseV1.0.d",
            "na.toplevel.fa|         true|                                       /data/ensembl/99/species/anser_cygnoides/Anser_cygnoides.GooseV1.0.cdna.all.fa|       true|                                       /data/ensembl/99/species/anser_cygnoides/Anser_cygnoides.GooseV1.0.99.gtf|      true|                                       /data/ensembl/99/species/anser_cygnoides/Anser_cygnoides.GooseV1.0.pep.all.fa|      true|\n",
            "|             Ma's night monkey|                 /data/indexes/salmon/1.1.0/ensembl_99/Aotus_nancymaae|        true|                 aotus_nancymaae|                                                                                                      mkdir -p /data/ensembl/99/species/aotus_nancymaae && wget -t 4 -m -nH --cut-dirs=100 -P /data/ensembl/99/species/aotus_nancymaae ftp://ftp.ensembl.org/pub/release-99/gtf/aotus_nancymaae/* && wget -t 4 -m -nH --cut-dirs=100 -P /data/ensembl/99/species/aotus_nancymaae ftp://ftp.ensembl.org/pub/release-99/fasta/aotus_nancymaae/* && gunzip -f /data/ensembl/99/spe",
            "cies/aotus_nancymaae/*.gz|                      Anan_2.0|                                        /data/ensembl/99/species/aotus_nancymaae/Aotus_nancymaae.Anan_2.0.dna.toplevel.fa|         true|                                        /data/ensembl/99/species/aotus_nancymaae/Aotus_nancymaae.Anan_2.0.cdna.all.fa|       true|                                        /data/ensembl/99/species/aotus_nancymaae/Aotus_nancymaae.Anan_2.0.99.gtf|      true|                                        /data/ensembl/99/species/aotus_nancymaae/Aotus_nancymaae.Anan_2.0.pep.all.fa|      true|\n",
            "|            Great spotted kiwi|                 /data/indexes/salmon/1.1.0/ensembl_99/Apteryx_haastii|        true|                 apteryx_haastii|                                                                                                      mkdir -p /data/ensembl/99/species/apteryx_haastii && wget -t 4 -m -nH --cut-dirs=100 -P /data/ensembl/99/species/apteryx_haastii ftp://ftp.ensembl.org/pub/release-99/gtf/apteryx_haastii/* && wget -",
            "t 4 -m -nH --cut-dirs=100 -P /data/ensembl/99/species/apteryx_haastii ftp://ftp.ensembl.org/pub/release-99/fasta/apteryx_haastii/* && gunzip -f /data/ensembl/99/species/apteryx_haastii/*.gz|                       aptHaa1|                                         /data/ensembl/99/species/apteryx_haastii/Apteryx_haastii.aptHaa1.dna.toplevel.fa|         true|                                         /data/ensembl/99/species/apteryx_haastii/Apteryx_haastii.aptHaa1.cdna.all.fa|       true|                                         /data/ensembl/99/species/apteryx_haastii/Apteryx_haastii.aptHaa1.99.gtf|      true|                                         /data/ensembl/99/species/apteryx_haastii/Apteryx_haastii.aptHaa1.pep.all.fa|      true|\n",
            "|           Little spotted kiwi|                  /data/indexes/salmon/1.1.0/ensembl_99/Apteryx_owenii|        true|                  apteryx_owenii|                                                                                                            mkdir -p /data/ensembl/99/s",
            "pecies/apteryx_owenii && wget -t 4 -m -nH --cut-dirs=100 -P /data/ensembl/99/species/apteryx_owenii ftp://ftp.ensembl.org/pub/release-99/gtf/apteryx_owenii/* && wget -t 4 -m -nH --cut-dirs=100 -P /data/ensembl/99/species/apteryx_owenii ftp://ftp.ensembl.org/pub/release-99/fasta/apteryx_owenii/* && gunzip -f /data/ensembl/99/species/apteryx_owenii/*.gz|                       aptOwe1|                                           /data/ensembl/99/species/apteryx_owenii/Apteryx_owenii.aptOwe1.dna.toplevel.fa|         true|                                           /data/ensembl/99/species/apteryx_owenii/Apteryx_owenii.aptOwe1.cdna.all.fa|       true|                                           /data/ensembl/99/species/apteryx_owenii/Apteryx_owenii.aptOwe1.99.gtf|      true|                                           /data/ensembl/99/species/apteryx_owenii/Apteryx_owenii.aptOwe1.pep.all.fa|      true|\n",
            "|            Okarito brown kiwi|                    /data/indexes/salmon/1.1.0/ensembl_99/Apteryx_rowi|        true|    ",
            "                apteryx_rowi|                                                                                                                        mkdir -p /data/ensembl/99/species/apteryx_rowi && wget -t 4 -m -nH --cut-dirs=100 -P /data/ensembl/99/species/apteryx_rowi ftp://ftp.ensembl.org/pub/release-99/gtf/apteryx_rowi/* && wget -t 4 -m -nH --cut-dirs=100 -P /data/ensembl/99/species/apteryx_rowi ftp://ftp.ensembl.org/pub/release-99/fasta/apteryx_rowi/* && gunzip -f /data/ensembl/99/species/apteryx_rowi/*.gz|                       aptRow1|                                               /data/ensembl/99/species/apteryx_rowi/Apteryx_rowi.aptRow1.dna.toplevel.fa|         true|                                               /data/ensembl/99/species/apteryx_rowi/Apteryx_rowi.aptRow1.cdna.all.fa|       true|                                               /data/ensembl/99/species/apteryx_rowi/Apteryx_rowi.aptRow1.99.gtf|      true|                                               /data/ensembl/99/species/apteryx_rowi/",
            "Apteryx_rowi.aptRow1.pep.all.fa|      true|\n",
            "|                  Golden eagle|    /data/indexes/salmon/1.1.0/ensembl_99/Aquila_chrysaetos_chrysaetos|        true|    aquila_chrysaetos_chrysaetos|                        mkdir -p /data/ensembl/99/species/aquila_chrysaetos_chrysaetos && wget -t 4 -m -nH --cut-dirs=100 -P /data/ensembl/99/species/aquila_chrysaetos_chrysaetos ftp://ftp.ensembl.org/pub/release-99/gtf/aquila_chrysaetos_chrysaetos/* && wget -t 4 -m -nH --cut-dirs=100 -P /data/ensembl/99/species/aquila_chrysaetos_chrysaetos ftp://ftp.ensembl.org/pub/release-99/fasta/aquila_chrysaetos_chrysaetos/* && gunzip -f /data/ensembl/99/species/aquila_chrysaetos_chrysaetos/*.gz|                    bAquChr1.2|            /data/ensembl/99/species/aquila_chrysaetos_chrysaetos/Aquila_chrysaetos_chrysaetos.bAquChr1.2.dna.toplevel.fa|         true|            /data/ensembl/99/species/aquila_chrysaetos_chrysaetos/Aquila_chrysaetos_chrysaetos.bAquChr1.2.cdna.all.fa|       true|            /data/ensembl/99/species/aquila_c",
            "hrysaetos_chrysaetos/Aquila_chrysaetos_chrysaetos.bAquChr1.2.99.gtf|      true|            /data/ensembl/99/species/aquila_chrysaetos_chrysaetos/Aquila_chrysaetos_chrysaetos.bAquChr1.2.pep.all.fa|      true|\n",
            "|                 Eastern happy|        /data/indexes/salmon/1.1.0/ensembl_99/Astatotilapia_calliptera|        true|        astatotilapia_calliptera|                                                mkdir -p /data/ensembl/99/species/astatotilapia_calliptera && wget -t 4 -m -nH --cut-dirs=100 -P /data/ensembl/99/species/astatotilapia_calliptera ftp://ftp.ensembl.org/pub/release-99/gtf/astatotilapia_calliptera/* && wget -t 4 -m -nH --cut-dirs=100 -P /data/ensembl/99/species/astatotilapia_calliptera ftp://ftp.ensembl.org/pub/release-99/fasta/astatotilapia_calliptera/* && gunzip -f /data/ensembl/99/species/astatotilapia_calliptera/*.gz|                    fAstCal1.2|                    /data/ensembl/99/species/astatotilapia_calliptera/Astatotilapia_calliptera.fAstCal1.2.dna.toplevel.fa|         true|           ",
            "         /data/ensembl/99/species/astatotilapia_calliptera/Astatotilapia_calliptera.fAstCal1.2.cdna.all.fa|       true|                    /data/ensembl/99/species/astatotilapia_calliptera/Astatotilapia_calliptera.fAstCal1.2.99.gtf|      true|                    /data/ensembl/99/species/astatotilapia_calliptera/Astatotilapia_calliptera.fAstCal1.2.pep.all.fa|      true|\n",
            "|                 Mexican tetra|              /data/indexes/salmon/1.1.0/ensembl_99/Astyanax_mexicanus|        true|              astyanax_mexicanus|                                                                                    mkdir -p /data/ensembl/99/species/astyanax_mexicanus && wget -t 4 -m -nH --cut-dirs=100 -P /data/ensembl/99/species/astyanax_mexicanus ftp://ftp.ensembl.org/pub/release-99/gtf/astyanax_mexicanus/* && wget -t 4 -m -nH --cut-dirs=100 -P /data/ensembl/99/species/astyanax_mexicanus ftp://ftp.ensembl.org/pub/release-99/fasta/astyanax_mexicanus/* && gunzip -f /data/ensembl/99/species/astyanax_mexicanus/*.gz|        Astyan",
            "ax_mexicanus-2.0|                    /data/ensembl/99/species/astyanax_mexicanus/Astyanax_mexicanus.Astyanax_mexicanus-2.0.dna.toplevel.fa|         true|                    /data/ensembl/99/species/astyanax_mexicanus/Astyanax_mexicanus.Astyanax_mexicanus-2.0.cdna.all.fa|       true|                    /data/ensembl/99/species/astyanax_mexicanus/Astyanax_mexicanus.Astyanax_mexicanus-2.0.99.gtf|      true|                    /data/ensembl/99/species/astyanax_mexicanus/Astyanax_mexicanus.Astyanax_mexicanus-2.0.pep.all.fa|      true|\n",
            "|               Pachon cavefish|       /data/indexes/salmon/1.1.0/ensembl_99/Astyanax_mexicanus_pachon|        true|       astyanax_mexicanus_pachon|                                          mkdir -p /data/ensembl/99/species/astyanax_mexicanus_pachon && wget -t 4 -m -nH --cut-dirs=100 -P /data/ensembl/99/species/astyanax_mexicanus_pachon ftp://ftp.ensembl.org/pub/release-99/gtf/astyanax_mexicanus_pachon/* && wget -t 4 -m -nH --cut-dirs=100 -P /data/ensembl/99/species/astyanax_mexican",
            "us_pachon ftp://ftp.ensembl.org/pub/release-99/fasta/astyanax_mexicanus_pachon/* && gunzip -f /data/ensembl/99/species/astyanax_mexicanus_pachon/*.gz|      Astyanax_mexicanus-1.0.2|    /data/ensembl/99/species/astyanax_mexicanus_pachon/Astyanax_mexicanus_pachon.Astyanax_mexicanus-1.0.2.dna.toplevel.fa|         true|    /data/ensembl/99/species/astyanax_mexicanus_pachon/Astyanax_mexicanus_pachon.Astyanax_mexicanus-1.0.2.cdna.all.fa|       true|    /data/ensembl/99/species/astyanax_mexicanus_pachon/Astyanax_mexicanus_pachon.Astyanax_mexicanus-1.0.2.99.gtf|      true|    /data/ensembl/99/species/astyanax_mexicanus_pachon/Astyanax_mexicanus_pachon.Astyanax_mexicanus-1.0.2.pep.all.fa|      true|\n",
            "|                 Burrowing owl|              /data/indexes/salmon/1.1.0/ensembl_99/Athene_cunicularia|        true|              athene_cunicularia|                                                                                    mkdir -p /data/ensembl/99/species/athene_cunicularia && wget -t 4 -m -nH --cut-dirs=100 -P ",
            "/data/ensembl/99/species/athene_cunicularia ftp://ftp.ensembl.org/pub/release-99/gtf/athene_cunicularia/* && wget -t 4 -m -nH --cut-dirs=100 -P /data/ensembl/99/species/athene_cunicularia ftp://ftp.ensembl.org/pub/release-99/fasta/athene_cunicularia/* && gunzip -f /data/ensembl/99/species/athene_cunicularia/*.gz|                       athCun1|                                   /data/ensembl/99/species/athene_cunicularia/Athene_cunicularia.athCun1.dna.toplevel.fa|         true|                                   /data/ensembl/99/species/athene_cunicularia/Athene_cunicularia.athCun1.cdna.all.fa|       true|                                   /data/ensembl/99/species/athene_cunicularia/Athene_cunicularia.athCun1.99.gtf|      true|                                   /data/ensembl/99/species/athene_cunicularia/Athene_cunicularia.athCun1.pep.all.fa|      true|\n",
            "|         Siamese fighting fish|                 /data/indexes/salmon/1.1.0/ensembl_99/Betta_splendens|        true|                 betta_splendens|           ",
            "                                                                                           mkdir -p /data/ensembl/99/species/betta_splendens && wget -t 4 -m -nH --cut-dirs=100 -P /data/ensembl/99/species/betta_splendens ftp://ftp.ensembl.org/pub/release-99/gtf/betta_splendens/* && wget -t 4 -m -nH --cut-dirs=100 -P /data/ensembl/99/species/betta_splendens ftp://ftp.ensembl.org/pub/release-99/fasta/betta_splendens/* && gunzip -f /data/ensembl/99/species/betta_splendens/*.gz|                    fBetSpl5.2|                                      /data/ensembl/99/species/betta_splendens/Betta_splendens.fBetSpl5.2.dna.toplevel.fa|         true|                                      /data/ensembl/99/species/betta_splendens/Betta_splendens.fBetSpl5.2.cdna.all.fa|       true|                                      /data/ensembl/99/species/betta_splendens/Betta_splendens.fBetSpl5.2.99.gtf|      true|                                      /data/ensembl/99/species/betta_splendens/Betta_splendens.fBetSpl5.2.pep.all.fa|      tr",
            "ue|\n",
            "|                American bison|               /data/indexes/salmon/1.1.0/ensembl_99/Bison_bison_bison|        true|               bison_bison_bison|                                                                                          mkdir -p /data/ensembl/99/species/bison_bison_bison && wget -t 4 -m -nH --cut-dirs=100 -P /data/ensembl/99/species/bison_bison_bison ftp://ftp.ensembl.org/pub/release-99/gtf/bison_bison_bison/* && wget -t 4 -m -nH --cut-dirs=100 -P /data/ensembl/99/species/bison_bison_bison ftp://ftp.ensembl.org/pub/release-99/fasta/bison_bison_bison/* && gunzip -f /data/ensembl/99/species/bison_bison_bison/*.gz|                  Bison_UMD1.0|                                /data/ensembl/99/species/bison_bison_bison/Bison_bison_bison.Bison_UMD1.0.dna.toplevel.fa|         true|                                /data/ensembl/99/species/bison_bison_bison/Bison_bison_bison.Bison_UMD1.0.cdna.all.fa|       true|                                /data/ensembl/99/species/bison_bison_bison/Bison_biso",
            "n_bison.Bison_UMD1.0.99.gtf|      true|                                /data/ensembl/99/species/bison_bison_bison/Bison_bison_bison.Bison_UMD1.0.pep.all.fa|      true|\n",
            "|                  Domestic yak|                   /data/indexes/salmon/1.1.0/ensembl_99/Bos_grunniens|        true|                   bos_grunniens|                                                                                                                  mkdir -p /data/ensembl/99/species/bos_grunniens && wget -t 4 -m -nH --cut-dirs=100 -P /data/ensembl/99/species/bos_grunniens ftp://ftp.ensembl.org/pub/release-99/gtf/bos_grunniens/* && wget -t 4 -m -nH --cut-dirs=100 -P /data/ensembl/99/species/bos_grunniens ftp://ftp.ensembl.org/pub/release-99/fasta/bos_grunniens/* && gunzip -f /data/ensembl/99/species/bos_grunniens/*.gz|                LU_Bosgru_v3.0|                                      /data/ensembl/99/species/bos_grunniens/Bos_grunniens.LU_Bosgru_v3.0.dna.toplevel.fa|         true|                                      /data/ensembl",
            "/99/species/bos_grunniens/Bos_grunniens.LU_Bosgru_v3.0.cdna.all.fa|       true|                                      /data/ensembl/99/species/bos_grunniens/Bos_grunniens.LU_Bosgru_v3.0.99.gtf|      true|                                      /data/ensembl/99/species/bos_grunniens/Bos_grunniens.LU_Bosgru_v3.0.pep.all.fa|      true|\n",
            "|          Hybrid - Bos Indicus|              /data/indexes/salmon/1.1.0/ensembl_99/Bos_indicus_hybrid|        true|              bos_indicus_hybrid|                                                                                    mkdir -p /data/ensembl/99/species/bos_indicus_hybrid && wget -t 4 -m -nH --cut-dirs=100 -P /data/ensembl/99/species/bos_indicus_hybrid ftp://ftp.ensembl.org/pub/release-99/gtf/bos_indicus_hybrid/* && wget -t 4 -m -nH --cut-dirs=100 -P /data/ensembl/99/species/bos_indicus_hybrid ftp://ftp.ensembl.org/pub/release-99/fasta/bos_indicus_hybrid/* && gunzip -f /data/ensembl/99/species/bos_indicus_hybrid/*.gz|                 UOA_Brahman_1|                       ",
            "      /data/ensembl/99/species/bos_indicus_hybrid/Bos_indicus_hybrid.UOA_Brahman_1.dna.toplevel.fa|         true|                             /data/ensembl/99/species/bos_indicus_hybrid/Bos_indicus_hybrid.UOA_Brahman_1.cdna.all.fa|       true|                             /data/ensembl/99/species/bos_indicus_hybrid/Bos_indicus_hybrid.UOA_Brahman_1.99.gtf|      true|                             /data/ensembl/99/species/bos_indicus_hybrid/Bos_indicus_hybrid.UOA_Brahman_1.pep.all.fa|      true|\n",
            "|                      Wild yak|                       /data/indexes/salmon/1.1.0/ensembl_99/Bos_mutus|        true|                       bos_mutus|                                                                                                                                          mkdir -p /data/ensembl/99/species/bos_mutus && wget -t 4 -m -nH --cut-dirs=100 -P /data/ensembl/99/species/bos_mutus ftp://ftp.ensembl.org/pub/release-99/gtf/bos_mutus/* && wget -t 4 -m -nH --cut-dirs=100 -P /data/ensembl/99/species/bos_mutu",
            "s ftp://ftp.ensembl.org/pub/release-99/fasta/bos_mutus/* && gunzip -f /data/ensembl/99/species/bos_mutus/*.gz|                   BosGru_v2.0|                                                 /data/ensembl/99/species/bos_mutus/Bos_mutus.BosGru_v2.0.dna.toplevel.fa|         true|                                                 /data/ensembl/99/species/bos_mutus/Bos_mutus.BosGru_v2.0.cdna.all.fa|       true|                                                 /data/ensembl/99/species/bos_mutus/Bos_mutus.BosGru_v2.0.99.gtf|      true|                                                 /data/ensembl/99/species/bos_mutus/Bos_mutus.BosGru_v2.0.pep.all.fa|      true|\n",
            "|                           Cow|                      /data/indexes/salmon/1.1.0/ensembl_99/Bos_taurus|        true|                      bos_taurus|                                                                                                                                    mkdir -p /data/ensembl/99/species/bos_taurus && wget -t 4 -m -nH --cut-dirs=100 -P ",
            "/data/ensembl/99/species/bos_taurus ftp://ftp.ensembl.org/pub/release-99/gtf/bos_taurus/* && wget -t 4 -m -nH --cut-dirs=100 -P /data/ensembl/99/species/bos_taurus ftp://ftp.ensembl.org/pub/release-99/fasta/bos_taurus/* && gunzip -f /data/ensembl/99/species/bos_taurus/*.gz|                    ARS-UCD1.2|                                                /data/ensembl/99/species/bos_taurus/Bos_taurus.ARS-UCD1.2.dna.toplevel.fa|         true|                                                /data/ensembl/99/species/bos_taurus/Bos_taurus.ARS-UCD1.2.cdna.all.fa|       true|                                                /data/ensembl/99/species/bos_taurus/Bos_taurus.ARS-UCD1.2.99.gtf|      true|                                                /data/ensembl/99/species/bos_taurus/Bos_taurus.ARS-UCD1.2.pep.all.fa|      true|\n",
            "|           Hybrid - Bos Taurus|               /data/indexes/salmon/1.1.0/ensembl_99/Bos_taurus_hybrid|        true|               bos_taurus_hybrid|                                                   ",
            "                                       mkdir -p /data/ensembl/99/species/bos_taurus_hybrid && wget -t 4 -m -nH --cut-dirs=100 -P /data/ensembl/99/species/bos_taurus_hybrid ftp://ftp.ensembl.org/pub/release-99/gtf/bos_taurus_hybrid/* && wget -t 4 -m -nH --cut-dirs=100 -P /data/ensembl/99/species/bos_taurus_hybrid ftp://ftp.ensembl.org/pub/release-99/fasta/bos_taurus_hybrid/* && gunzip -f /data/ensembl/99/species/bos_taurus_hybrid/*.gz|                   UOA_Angus_1|                                 /data/ensembl/99/species/bos_taurus_hybrid/Bos_taurus_hybrid.UOA_Angus_1.dna.toplevel.fa|         true|                                 /data/ensembl/99/species/bos_taurus_hybrid/Bos_taurus_hybrid.UOA_Angus_1.cdna.all.fa|       true|                                 /data/ensembl/99/species/bos_taurus_hybrid/Bos_taurus_hybrid.UOA_Angus_1.99.gtf|      true|                                 /data/ensembl/99/species/bos_taurus_hybrid/Bos_taurus_hybrid.UOA_Angus_1.pep.all.fa|      true|\n",
            "|        Caenorhabditis elegans|    ",
            "      /data/indexes/salmon/1.1.0/ensembl_99/Caenorhabditis_elegans|        true|          caenorhabditis_elegans|                                                            mkdir -p /data/ensembl/99/species/caenorhabditis_elegans && wget -t 4 -m -nH --cut-dirs=100 -P /data/ensembl/99/species/caenorhabditis_elegans ftp://ftp.ensembl.org/pub/release-99/gtf/caenorhabditis_elegans/* && wget -t 4 -m -nH --cut-dirs=100 -P /data/ensembl/99/species/caenorhabditis_elegans ftp://ftp.ensembl.org/pub/release-99/fasta/caenorhabditis_elegans/* && gunzip -f /data/ensembl/99/species/caenorhabditis_elegans/*.gz|                      WBcel235|                          /data/ensembl/99/species/caenorhabditis_elegans/Caenorhabditis_elegans.WBcel235.dna.toplevel.fa|         true|                          /data/ensembl/99/species/caenorhabditis_elegans/Caenorhabditis_elegans.WBcel235.cdna.all.fa|       true|                          /data/ensembl/99/species/caenorhabditis_elegans/Caenorhabditis_elegans.WBcel235.99.gtf|      true| ",
            "                         /data/ensembl/99/species/caenorhabditis_elegans/Caenorhabditis_elegans.WBcel235.pep.all.fa|      true|\n",
            "|                          Ruff|                 /data/indexes/salmon/1.1.0/ensembl_99/Calidris_pugnax|        true|                 calidris_pugnax|                                                                                                      mkdir -p /data/ensembl/99/species/calidris_pugnax && wget -t 4 -m -nH --cut-dirs=100 -P /data/ensembl/99/species/calidris_pugnax ftp://ftp.ensembl.org/pub/release-99/gtf/calidris_pugnax/* && wget -t 4 -m -nH --cut-dirs=100 -P /data/ensembl/99/species/calidris_pugnax ftp://ftp.ensembl.org/pub/release-99/fasta/calidris_pugnax/* && gunzip -f /data/ensembl/99/species/calidris_pugnax/*.gz|                   ASM143184v1|                                     /data/ensembl/99/species/calidris_pugnax/Calidris_pugnax.ASM143184v1.dna.toplevel.fa|         true|                                     /data/ensembl/99/species/calidris_pugnax/Calidris_pugn",
            "ax.ASM143184v1.cdna.all.fa|       true|                                     /data/ensembl/99/species/calidris_pugnax/Calidris_pugnax.ASM143184v1.99.gtf|      true|                                     /data/ensembl/99/species/calidris_pugnax/Calidris_pugnax.ASM143184v1.pep.all.fa|      true|\n",
            "|        Spoon-billed sandpiper|                /data/indexes/salmon/1.1.0/ensembl_99/Calidris_pygmaea|        true|                calidris_pygmaea|                                                                                                mkdir -p /data/ensembl/99/species/calidris_pygmaea && wget -t 4 -m -nH --cut-dirs=100 -P /data/ensembl/99/species/calidris_pygmaea ftp://ftp.ensembl.org/pub/release-99/gtf/calidris_pygmaea/* && wget -t 4 -m -nH --cut-dirs=100 -P /data/ensembl/99/species/calidris_pygmaea ftp://ftp.ensembl.org/pub/release-99/fasta/calidris_pygmaea/* && gunzip -f /data/ensembl/99/species/calidris_pygmaea/*.gz|                   ASM369795v1|                                   /data/ensembl/99/species/cal",
            "idris_pygmaea/Calidris_pygmaea.ASM369795v1.dna.toplevel.fa|         true|                                   /data/ensembl/99/species/calidris_pygmaea/Calidris_pygmaea.ASM369795v1.cdna.all.fa|       true|                                   /data/ensembl/99/species/calidris_pygmaea/Calidris_pygmaea.ASM369795v1.99.gtf|      true|                                   /data/ensembl/99/species/calidris_pygmaea/Calidris_pygmaea.ASM369795v1.pep.all.fa|      true|\n",
            "|                      Marmoset|              /data/indexes/salmon/1.1.0/ensembl_99/Callithrix_jacchus|        true|              callithrix_jacchus|                                                                                    mkdir -p /data/ensembl/99/species/callithrix_jacchus && wget -t 4 -m -nH --cut-dirs=100 -P /data/ensembl/99/species/callithrix_jacchus ftp://ftp.ensembl.org/pub/release-99/gtf/callithrix_jacchus/* && wget -t 4 -m -nH --cut-dirs=100 -P /data/ensembl/99/species/callithrix_jacchus ftp://ftp.ensembl.org/pub/release-99/fasta/callithrix_ja",
            "cchus/* && gunzip -f /data/ensembl/99/species/callithrix_jacchus/*.gz|                   ASM275486v1|                               /data/ensembl/99/species/callithrix_jacchus/Callithrix_jacchus.ASM275486v1.dna.toplevel.fa|         true|                               /data/ensembl/99/species/callithrix_jacchus/Callithrix_jacchus.ASM275486v1.cdna.all.fa|       true|                               /data/ensembl/99/species/callithrix_jacchus/Callithrix_jacchus.ASM275486v1.99.gtf|      true|                               /data/ensembl/99/species/callithrix_jacchus/Callithrix_jacchus.ASM275486v1.pep.all.fa|      true|\n",
            "|                Elephant shark|             /data/indexes/salmon/1.1.0/ensembl_99/Callorhinchus_milii|        true|             callorhinchus_milii|                                                                              mkdir -p /data/ensembl/99/species/callorhinchus_milii && wget -t 4 -m -nH --cut-dirs=100 -P /data/ensembl/99/species/callorhinchus_milii ftp://ftp.ensembl.org/pub/release-99/gtf",
            "/callorhinchus_milii/* && wget -t 4 -m -nH --cut-dirs=100 -P /data/ensembl/99/species/callorhinchus_milii ftp://ftp.ensembl.org/pub/release-99/fasta/callorhinchus_milii/* && gunzip -f /data/ensembl/99/species/callorhinchus_milii/*.gz|     Callorhinchus_milii-6.1.3|               /data/ensembl/99/species/callorhinchus_milii/Callorhinchus_milii.Callorhinchus_milii-6.1.3.dna.toplevel.fa|         true|               /data/ensembl/99/species/callorhinchus_milii/Callorhinchus_milii.Callorhinchus_milii-6.1.3.cdna.all.fa|       true|               /data/ensembl/99/species/callorhinchus_milii/Callorhinchus_milii.Callorhinchus_milii-6.1.3.99.gtf|      true|               /data/ensembl/99/species/callorhinchus_milii/Callorhinchus_milii.Callorhinchus_milii-6.1.3.pep.all.fa|      true|\n",
            "|                 Arabian camel|             /data/indexes/salmon/1.1.0/ensembl_99/Camelus_dromedarius|        true|             camelus_dromedarius|                                                                              mkdir -p /dat",
            "a/ensembl/99/species/camelus_dromedarius && wget -t 4 -m -nH --cut-dirs=100 -P /data/ensembl/99/species/camelus_dromedarius ftp://ftp.ensembl.org/pub/release-99/gtf/camelus_dromedarius/* && wget -t 4 -m -nH --cut-dirs=100 -P /data/ensembl/99/species/camelus_dromedarius ftp://ftp.ensembl.org/pub/release-99/fasta/camelus_dromedarius/* && gunzip -f /data/ensembl/99/species/camelus_dromedarius/*.gz|                       CamDro2|                                 /data/ensembl/99/species/camelus_dromedarius/Camelus_dromedarius.CamDro2.dna.toplevel.fa|         true|                                 /data/ensembl/99/species/camelus_dromedarius/Camelus_dromedarius.CamDro2.cdna.all.fa|       true|                                 /data/ensembl/99/species/camelus_dromedarius/Camelus_dromedarius.CamDro2.99.gtf|      true|                                 /data/ensembl/99/species/camelus_dromedarius/Camelus_dromedarius.CamDro2.pep.all.fa|      true|\n",
            "|                           Dog|                /data/indexes/salmon/1.1.0/e",
            "nsembl_99/Canis_familiaris|        true|                canis_familiaris|                                                                                                mkdir -p /data/ensembl/99/species/canis_familiaris && wget -t 4 -m -nH --cut-dirs=100 -P /data/ensembl/99/species/canis_familiaris ftp://ftp.ensembl.org/pub/release-99/gtf/canis_familiaris/* && wget -t 4 -m -nH --cut-dirs=100 -P /data/ensembl/99/species/canis_familiaris ftp://ftp.ensembl.org/pub/release-99/fasta/canis_familiaris/* && gunzip -f /data/ensembl/99/species/canis_familiaris/*.gz|                     CanFam3.1|                                     /data/ensembl/99/species/canis_familiaris/Canis_familiaris.CanFam3.1.dna.toplevel.fa|         true|                                     /data/ensembl/99/species/canis_familiaris/Canis_familiaris.CanFam3.1.cdna.all.fa|       true|                                     /data/ensembl/99/species/canis_familiaris/Canis_familiaris.CanFam3.1.99.gtf|      true|                                     /dat",
            "a/ensembl/99/species/canis_familiaris/Canis_familiaris.CanFam3.1.pep.all.fa|      true|\n",
            "|                         Dingo|               /data/indexes/salmon/1.1.0/ensembl_99/Canis_lupus_dingo|        true|               canis_lupus_dingo|                                                                                          mkdir -p /data/ensembl/99/species/canis_lupus_dingo && wget -t 4 -m -nH --cut-dirs=100 -P /data/ensembl/99/species/canis_lupus_dingo ftp://ftp.ensembl.org/pub/release-99/gtf/canis_lupus_dingo/* && wget -t 4 -m -nH --cut-dirs=100 -P /data/ensembl/99/species/canis_lupus_dingo ftp://ftp.ensembl.org/pub/release-99/fasta/canis_lupus_dingo/* && gunzip -f /data/ensembl/99/species/canis_lupus_dingo/*.gz|                   ASM325472v1|                                 /data/ensembl/99/species/canis_lupus_dingo/Canis_lupus_dingo.ASM325472v1.dna.toplevel.fa|         true|                                 /data/ensembl/99/species/canis_lupus_dingo/Canis_lupus_dingo.ASM325472v1.cdna.all.fa|       true| ",
            "                                /data/ensembl/99/species/canis_lupus_dingo/Canis_lupus_dingo.ASM325472v1.99.gtf|      true|                                 /data/ensembl/99/species/canis_lupus_dingo/Canis_lupus_dingo.ASM325472v1.pep.all.fa|      true|\n",
            "|                 Dog - Basenji|   /data/indexes/salmon/1.1.0/ensembl_99/Canis_lupus_familiarisbasenji|        true|   canis_lupus_familiarisbasenji|                  mkdir -p /data/ensembl/99/species/canis_lupus_familiarisbasenji && wget -t 4 -m -nH --cut-dirs=100 -P /data/ensembl/99/species/canis_lupus_familiarisbasenji ftp://ftp.ensembl.org/pub/release-99/gtf/canis_lupus_familiarisbasenji/* && wget -t 4 -m -nH --cut-dirs=100 -P /data/ensembl/99/species/canis_lupus_familiarisbasenji ftp://ftp.ensembl.org/pub/release-99/fasta/canis_lupus_familiarisbasenji/* && gunzip -f /data/ensembl/99/species/canis_lupus_familiarisbasenji/*.gz|             Basenji_breed-1.1|   /data/ensembl/99/species/canis_lupus_familiarisbasenji/Canis_lupus_familiarisbasenji.Basenji_breed-1",
            ".1.dna.toplevel.fa|         true|   /data/ensembl/99/species/canis_lupus_familiarisbasenji/Canis_lupus_familiarisbasenji.Basenji_breed-1.1.cdna.all.fa|       true|   /data/ensembl/99/species/canis_lupus_familiarisbasenji/Canis_lupus_familiarisbasenji.Basenji_breed-1.1.99.gtf|      true|   /data/ensembl/99/species/canis_lupus_familiarisbasenji/Canis_lupus_familiarisbasenji.Basenji_breed-1.1.pep.all.fa|      true|\n",
            "|              Dog - Great Dane| /data/indexes/salmon/1.1.0/ensembl_99/Canis_lupus_familiarisgreatdane|        true| canis_lupus_familiarisgreatdane|      mkdir -p /data/ensembl/99/species/canis_lupus_familiarisgreatdane && wget -t 4 -m -nH --cut-dirs=100 -P /data/ensembl/99/species/canis_lupus_familiarisgreatdane ftp://ftp.ensembl.org/pub/release-99/gtf/canis_lupus_familiarisgreatdane/* && wget -t 4 -m -nH --cut-dirs=100 -P /data/ensembl/99/species/canis_lupus_familiarisgreatdane ftp://ftp.ensembl.org/pub/release-99/fasta/canis_lupus_familiarisgreatdane/* && gunzip -f /data/ensembl/99/species/canis_l",
            "upus_familiarisgreatdane/*.gz|                UMICH_Zoey_3.1|  /data/ensembl/99/species/canis_lupus_familiarisgreatdane/Canis_lupus_familiarisgreatdane.UMICH_Zoey_3.1.dna.toplevel.fa|         true|  /data/ensembl/99/species/canis_lupus_familiarisgreatdane/Canis_lupus_familiarisgreatdane.UMICH_Zoey_3.1.cdna.all.fa|       true|  /data/ensembl/99/species/canis_lupus_familiarisgreatdane/Canis_lupus_familiarisgreatdane.UMICH_Zoey_3.1.99.gtf|      true|  /data/ensembl/99/species/canis_lupus_familiarisgreatdane/Canis_lupus_familiarisgreatdane.UMICH_Zoey_3.1.pep.all.fa|      true|\n",
            "|                          Goat|                    /data/indexes/salmon/1.1.0/ensembl_99/Capra_hircus|        true|                    capra_hircus|                                                                                                                        mkdir -p /data/ensembl/99/species/capra_hircus && wget -t 4 -m -nH --cut-dirs=100 -P /data/ensembl/99/species/capra_hircus ftp://ftp.ensembl.org/pub/release-99/gtf/capra_hircu",
            "s/* && wget -t 4 -m -nH --cut-dirs=100 -P /data/ensembl/99/species/capra_hircus ftp://ftp.ensembl.org/pub/release-99/fasta/capra_hircus/* && gunzip -f /data/ensembl/99/species/capra_hircus/*.gz|                          ARS1|                                                  /data/ensembl/99/species/capra_hircus/Capra_hircus.ARS1.dna.toplevel.fa|         true|                                                  /data/ensembl/99/species/capra_hircus/Capra_hircus.ARS1.cdna.all.fa|       true|                                                  /data/ensembl/99/species/capra_hircus/Capra_hircus.ARS1.99.gtf|      true|                                                  /data/ensembl/99/species/capra_hircus/Capra_hircus.ARS1.pep.all.fa|      true|\n",
            "|                       Tarsier|                /data/indexes/salmon/1.1.0/ensembl_99/Carlito_syrichta|        true|                carlito_syrichta|                                                                                                mkdir -p /data/ensembl/99/species/c",
            "arlito_syrichta && wget -t 4 -m -nH --cut-dirs=100 -P /data/ensembl/99/species/carlito_syrichta ftp://ftp.ensembl.org/pub/release-99/gtf/carlito_syrichta/* && wget -t 4 -m -nH --cut-dirs=100 -P /data/ensembl/99/species/carlito_syrichta ftp://ftp.ensembl.org/pub/release-99/fasta/carlito_syrichta/* && gunzip -f /data/ensembl/99/species/carlito_syrichta/*.gz|        Tarsius_syrichta-2.0.1|                        /data/ensembl/99/species/carlito_syrichta/Carlito_syrichta.Tarsius_syrichta-2.0.1.dna.toplevel.fa|         true|                        /data/ensembl/99/species/carlito_syrichta/Carlito_syrichta.Tarsius_syrichta-2.0.1.cdna.all.fa|       true|                        /data/ensembl/99/species/carlito_syrichta/Carlito_syrichta.Tarsius_syrichta-2.0.1.99.gtf|      true|                        /data/ensembl/99/species/carlito_syrichta/Carlito_syrichta.Tarsius_syrichta-2.0.1.pep.all.fa|      true|\n",
            "|               American beaver|               /data/indexes/salmon/1.1.0/ensembl_99/Castor_canadensis|        true|",
            "               castor_canadensis|                                                                                          mkdir -p /data/ensembl/99/species/castor_canadensis && wget -t 4 -m -nH --cut-dirs=100 -P /data/ensembl/99/species/castor_canadensis ftp://ftp.ensembl.org/pub/release-99/gtf/castor_canadensis/* && wget -t 4 -m -nH --cut-dirs=100 -P /data/ensembl/99/species/castor_canadensis ftp://ftp.ensembl.org/pub/release-99/fasta/castor_canadensis/* && gunzip -f /data/ensembl/99/species/castor_canadensis/*.gz|             C.can_genome_v1.0|                           /data/ensembl/99/species/castor_canadensis/Castor_canadensis.C.can_genome_v1.0.dna.toplevel.fa|         true|                           /data/ensembl/99/species/castor_canadensis/Castor_canadensis.C.can_genome_v1.0.cdna.all.fa|       true|                           /data/ensembl/99/species/castor_canadensis/Castor_canadensis.C.can_genome_v1.0.99.gtf|      true|                           /data/ensembl/99/species/castor_canadensis/Castor_cana",
            "densis.C.can_genome_v1.0.pep.all.fa|      true|\n",
            "|               Chacoan peccary|               /data/indexes/salmon/1.1.0/ensembl_99/Catagonus_wagneri|        true|               catagonus_wagneri|                                                                                          mkdir -p /data/ensembl/99/species/catagonus_wagneri && wget -t 4 -m -nH --cut-dirs=100 -P /data/ensembl/99/species/catagonus_wagneri ftp://ftp.ensembl.org/pub/release-99/gtf/catagonus_wagneri/* && wget -t 4 -m -nH --cut-dirs=100 -P /data/ensembl/99/species/catagonus_wagneri ftp://ftp.ensembl.org/pub/release-99/fasta/catagonus_wagneri/* && gunzip -f /data/ensembl/99/species/catagonus_wagneri/*.gz|            CatWag_v2_BIUU_UCD|                          /data/ensembl/99/species/catagonus_wagneri/Catagonus_wagneri.CatWag_v2_BIUU_UCD.dna.toplevel.fa|         true|                          /data/ensembl/99/species/catagonus_wagneri/Catagonus_wagneri.CatWag_v2_BIUU_UCD.cdna.all.fa|       true|                          /data/ensembl/9",
            "9/species/catagonus_wagneri/Catagonus_wagneri.CatWag_v2_BIUU_UCD.99.gtf|      true|                          /data/ensembl/99/species/catagonus_wagneri/Catagonus_wagneri.CatWag_v2_BIUU_UCD.pep.all.fa|      true|\n",
            "|          Brazilian guinea pig|                    /data/indexes/salmon/1.1.0/ensembl_99/Cavia_aperea|        true|                    cavia_aperea|                                                                                                                        mkdir -p /data/ensembl/99/species/cavia_aperea && wget -t 4 -m -nH --cut-dirs=100 -P /data/ensembl/99/species/cavia_aperea ftp://ftp.ensembl.org/pub/release-99/gtf/cavia_aperea/* && wget -t 4 -m -nH --cut-dirs=100 -P /data/ensembl/99/species/cavia_aperea ftp://ftp.ensembl.org/pub/release-99/fasta/cavia_aperea/* && gunzip -f /data/ensembl/99/species/cavia_aperea/*.gz|                      CavAp1.0|                                              /data/ensembl/99/species/cavia_aperea/Cavia_aperea.CavAp1.0.dna.toplevel.fa|         true|       ",
            "                                       /data/ensembl/99/species/cavia_aperea/Cavia_aperea.CavAp1.0.cdna.all.fa|       true|                                              /data/ensembl/99/species/cavia_aperea/Cavia_aperea.CavAp1.0.99.gtf|      true|                                              /data/ensembl/99/species/cavia_aperea/Cavia_aperea.CavAp1.0.pep.all.fa|      true|\n",
            "|                    Guinea Pig|                 /data/indexes/salmon/1.1.0/ensembl_99/Cavia_porcellus|        true|                 cavia_porcellus|                                                                                                      mkdir -p /data/ensembl/99/species/cavia_porcellus && wget -t 4 -m -nH --cut-dirs=100 -P /data/ensembl/99/species/cavia_porcellus ftp://ftp.ensembl.org/pub/release-99/gtf/cavia_porcellus/* && wget -t 4 -m -nH --cut-dirs=100 -P /data/ensembl/99/species/cavia_porcellus ftp://ftp.ensembl.org/pub/release-99/fasta/cavia_porcellus/* && gunzip -f /data/ensembl/99/species/cavia_porcellus/*.gz|          ",
            "           Cavpor3.0|                                       /data/ensembl/99/species/cavia_porcellus/Cavia_porcellus.Cavpor3.0.dna.toplevel.fa|         true|                                       /data/ensembl/99/species/cavia_porcellus/Cavia_porcellus.Cavpor3.0.cdna.all.fa|       true|                                       /data/ensembl/99/species/cavia_porcellus/Cavia_porcellus.Cavpor3.0.99.gtf|      true|                                       /data/ensembl/99/species/cavia_porcellus/Cavia_porcellus.Cavpor3.0.pep.all.fa|      true|\n",
            "|                      Capuchin|                 /data/indexes/salmon/1.1.0/ensembl_99/Cebus_capucinus|        true|                 cebus_capucinus|                                                                                                      mkdir -p /data/ensembl/99/species/cebus_capucinus && wget -t 4 -m -nH --cut-dirs=100 -P /data/ensembl/99/species/cebus_capucinus ftp://ftp.ensembl.org/pub/release-99/gtf/cebus_capucinus/* && wget -t 4 -m -nH --cut-dirs=100 -P /data/e",
            "nsembl/99/species/cebus_capucinus ftp://ftp.ensembl.org/pub/release-99/fasta/cebus_capucinus/* && gunzip -f /data/ensembl/99/species/cebus_capucinus/*.gz|            Cebus_imitator-1.0|                              /data/ensembl/99/species/cebus_capucinus/Cebus_capucinus.Cebus_imitator-1.0.dna.toplevel.fa|         true|                              /data/ensembl/99/species/cebus_capucinus/Cebus_capucinus.Cebus_imitator-1.0.cdna.all.fa|       true|                              /data/ensembl/99/species/cebus_capucinus/Cebus_capucinus.Cebus_imitator-1.0.99.gtf|      true|                              /data/ensembl/99/species/cebus_capucinus/Cebus_capucinus.Cebus_imitator-1.0.pep.all.fa|      true|\n",
            "|                Sooty mangabey|                 /data/indexes/salmon/1.1.0/ensembl_99/Cercocebus_atys|        true|                 cercocebus_atys|                                                                                                      mkdir -p /data/ensembl/99/species/cercocebus_atys && wget -t 4 -m -nH",
            " --cut-dirs=100 -P /data/ensembl/99/species/cercocebus_atys ftp://ftp.ensembl.org/pub/release-99/gtf/cercocebus_atys/* && wget -t 4 -m -nH --cut-dirs=100 -P /data/ensembl/99/species/cercocebus_atys ftp://ftp.ensembl.org/pub/release-99/fasta/cercocebus_atys/* && gunzip -f /data/ensembl/99/species/cercocebus_atys/*.gz|                      Caty_1.0|                                        /data/ensembl/99/species/cercocebus_atys/Cercocebus_atys.Caty_1.0.dna.toplevel.fa|         true|                                        /data/ensembl/99/species/cercocebus_atys/Cercocebus_atys.Caty_1.0.cdna.all.fa|       true|                                        /data/ensembl/99/species/cercocebus_atys/Cercocebus_atys.Caty_1.0.99.gtf|      true|                                        /data/ensembl/99/species/cercocebus_atys/Cercocebus_atys.Caty_1.0.pep.all.fa|      true|\n",
            "|Abingdon island giant tortoise|          /data/indexes/salmon/1.1.0/ensembl_99/Chelonoidis_abingdonii|        true|          chelonoidis_abingdonii|       ",
            "                                                     mkdir -p /data/ensembl/99/species/chelonoidis_abingdonii && wget -t 4 -m -nH --cut-dirs=100 -P /data/ensembl/99/species/chelonoidis_abingdonii ftp://ftp.ensembl.org/pub/release-99/gtf/chelonoidis_abingdonii/* && wget -t 4 -m -nH --cut-dirs=100 -P /data/ensembl/99/species/chelonoidis_abingdonii ftp://ftp.ensembl.org/pub/release-99/fasta/chelonoidis_abingdonii/* && gunzip -f /data/ensembl/99/species/chelonoidis_abingdonii/*.gz|                   ASM359739v1|                       /data/ensembl/99/species/chelonoidis_abingdonii/Chelonoidis_abingdonii.ASM359739v1.dna.toplevel.fa|         true|                       /data/ensembl/99/species/chelonoidis_abingdonii/Chelonoidis_abingdonii.ASM359739v1.cdna.all.fa|       true|                       /data/ensembl/99/species/chelonoidis_abingdonii/Chelonoidis_abingdonii.ASM359739v1.99.gtf|      true|                       /data/ensembl/99/species/chelonoidis_abingdonii/Chelonoidis_abingdonii.ASM359739v1.pep.all.fa|    ",
            "  true|\n",
            "|        Long-tailed chinchilla|             /data/indexes/salmon/1.1.0/ensembl_99/Chinchilla_lanigera|        true|             chinchilla_lanigera|                                                                              mkdir -p /data/ensembl/99/species/chinchilla_lanigera && wget -t 4 -m -nH --cut-dirs=100 -P /data/ensembl/99/species/chinchilla_lanigera ftp://ftp.ensembl.org/pub/release-99/gtf/chinchilla_lanigera/* && wget -t 4 -m -nH --cut-dirs=100 -P /data/ensembl/99/species/chinchilla_lanigera ftp://ftp.ensembl.org/pub/release-99/fasta/chinchilla_lanigera/* && gunzip -f /data/ensembl/99/species/chinchilla_lanigera/*.gz|                     ChiLan1.0|                               /data/ensembl/99/species/chinchilla_lanigera/Chinchilla_lanigera.ChiLan1.0.dna.toplevel.fa|         true|                               /data/ensembl/99/species/chinchilla_lanigera/Chinchilla_lanigera.ChiLan1.0.cdna.all.fa|       true|                               /data/ensembl/99/species/chinchilla_lanigera/Chinc",
            "hilla_lanigera.ChiLan1.0.99.gtf|      true|                               /data/ensembl/99/species/chinchilla_lanigera/Chinchilla_lanigera.ChiLan1.0.pep.all.fa|      true|\n",
            "|                    Vervet-AGM|             /data/indexes/salmon/1.1.0/ensembl_99/Chlorocebus_sabaeus|        true|             chlorocebus_sabaeus|                                                                              mkdir -p /data/ensembl/99/species/chlorocebus_sabaeus && wget -t 4 -m -nH --cut-dirs=100 -P /data/ensembl/99/species/chlorocebus_sabaeus ftp://ftp.ensembl.org/pub/release-99/gtf/chlorocebus_sabaeus/* && wget -t 4 -m -nH --cut-dirs=100 -P /data/ensembl/99/species/chlorocebus_sabaeus ftp://ftp.ensembl.org/pub/release-99/fasta/chlorocebus_sabaeus/* && gunzip -f /data/ensembl/99/species/chlorocebus_sabaeus/*.gz|                     ChlSab1.1|                               /data/ensembl/99/species/chlorocebus_sabaeus/Chlorocebus_sabaeus.ChlSab1.1.dna.toplevel.fa|         true|                               /data/ensembl/99",
            "/species/chlorocebus_sabaeus/Chlorocebus_sabaeus.ChlSab1.1.cdna.all.fa|       true|                               /data/ensembl/99/species/chlorocebus_sabaeus/Chlorocebus_sabaeus.ChlSab1.1.99.gtf|      true|                               /data/ensembl/99/species/chlorocebus_sabaeus/Chlorocebus_sabaeus.ChlSab1.1.pep.all.fa|      true|\n",
            "|                         Sloth|             /data/indexes/salmon/1.1.0/ensembl_99/Choloepus_hoffmanni|        true|             choloepus_hoffmanni|                                                                              mkdir -p /data/ensembl/99/species/choloepus_hoffmanni && wget -t 4 -m -nH --cut-dirs=100 -P /data/ensembl/99/species/choloepus_hoffmanni ftp://ftp.ensembl.org/pub/release-99/gtf/choloepus_hoffmanni/* && wget -t 4 -m -nH --cut-dirs=100 -P /data/ensembl/99/species/choloepus_hoffmanni ftp://ftp.ensembl.org/pub/release-99/fasta/choloepus_hoffmanni/* && gunzip -f /data/ensembl/99/species/choloepus_hoffmanni/*.gz|                       choHof1|                   ",
            "              /data/ensembl/99/species/choloepus_hoffmanni/Choloepus_hoffmanni.choHof1.dna.toplevel.fa|         true|                                 /data/ensembl/99/species/choloepus_hoffmanni/Choloepus_hoffmanni.choHof1.cdna.all.fa|       true|                                 /data/ensembl/99/species/choloepus_hoffmanni/Choloepus_hoffmanni.choHof1.99.gtf|      true|                                 /data/ensembl/99/species/choloepus_hoffmanni/Choloepus_hoffmanni.choHof1.pep.all.fa|      true|\n",
            "|                Painted turtle|          /data/indexes/salmon/1.1.0/ensembl_99/Chrysemys_picta_bellii|        true|          chrysemys_picta_bellii|                                                            mkdir -p /data/ensembl/99/species/chrysemys_picta_bellii && wget -t 4 -m -nH --cut-dirs=100 -P /data/ensembl/99/species/chrysemys_picta_bellii ftp://ftp.ensembl.org/pub/release-99/gtf/chrysemys_picta_bellii/* && wget -t 4 -m -nH --cut-dirs=100 -P /data/ensembl/99/species/chrysemys_picta_bellii ftp://ftp.ensembl.or",
            "g/pub/release-99/fasta/chrysemys_picta_bellii/* && gunzip -f /data/ensembl/99/species/chrysemys_picta_bellii/*.gz|  Chrysemys_picta_bellii-3.0.3|      /data/ensembl/99/species/chrysemys_picta_bellii/Chrysemys_picta_bellii.Chrysemys_picta_bellii-3.0.3.dna.toplevel.fa|         true|      /data/ensembl/99/species/chrysemys_picta_bellii/Chrysemys_picta_bellii.Chrysemys_picta_bellii-3.0.3.cdna.all.fa|       true|      /data/ensembl/99/species/chrysemys_picta_bellii/Chrysemys_picta_bellii.Chrysemys_picta_bellii-3.0.3.99.gtf|      true|      /data/ensembl/99/species/chrysemys_picta_bellii/Chrysemys_picta_bellii.Chrysemys_picta_bellii-3.0.3.pep.all.fa|      true|\n",
            "|               Golden pheasant|             /data/indexes/salmon/1.1.0/ensembl_99/Chrysolophus_pictus|        true|             chrysolophus_pictus|                                                                              mkdir -p /data/ensembl/99/species/chrysolophus_pictus && wget -t 4 -m -nH --cut-dirs=100 -P /data/ensembl/99/species/chrysolophus_pic",
            "tus ftp://ftp.ensembl.org/pub/release-99/gtf/chrysolophus_pictus/* && wget -t 4 -m -nH --cut-dirs=100 -P /data/ensembl/99/species/chrysolophus_pictus ftp://ftp.ensembl.org/pub/release-99/fasta/chrysolophus_pictus/* && gunzip -f /data/ensembl/99/species/chrysolophus_pictus/*.gz|Chrysolophus_pictus_GenomeV1.0|          /data/ensembl/99/species/chrysolophus_pictus/Chrysolophus_pictus.Chrysolophus_pictus_GenomeV1.0.dna.toplevel.fa|         true|          /data/ensembl/99/species/chrysolophus_pictus/Chrysolophus_pictus.Chrysolophus_pictus_GenomeV1.0.cdna.all.fa|       true|          /data/ensembl/99/species/chrysolophus_pictus/Chrysolophus_pictus.Chrysolophus_pictus_GenomeV1.0.99.gtf|      true|          /data/ensembl/99/species/chrysolophus_pictus/Chrysolophus_pictus.Chrysolophus_pictus_GenomeV1.0.pep.all.fa|      true|\n",
            "|                C.intestinalis|              /data/indexes/salmon/1.1.0/ensembl_99/Ciona_intestinalis|        true|              ciona_intestinalis|                                               ",
            "                                     mkdir -p /data/ensembl/99/species/ciona_intestinalis && wget -t 4 -m -nH --cut-dirs=100 -P /data/ensembl/99/species/ciona_intestinalis ftp://ftp.ensembl.org/pub/release-99/gtf/ciona_intestinalis/* && wget -t 4 -m -nH --cut-dirs=100 -P /data/ensembl/99/species/ciona_intestinalis ftp://ftp.ensembl.org/pub/release-99/fasta/ciona_intestinalis/* && gunzip -f /data/ensembl/99/species/ciona_intestinalis/*.gz|                            KH|                                        /data/ensembl/99/species/ciona_intestinalis/Ciona_intestinalis.KH.dna.toplevel.fa|         true|                                        /data/ensembl/99/species/ciona_intestinalis/Ciona_intestinalis.KH.cdna.all.fa|       true|                                        /data/ensembl/99/species/ciona_intestinalis/Ciona_intestinalis.KH.99.gtf|      true|                                        /data/ensembl/99/species/ciona_intestinalis/Ciona_intestinalis.KH.pep.all.fa|      true|\n",
            "|                    C.savignyi|",
            "                  /data/indexes/salmon/1.1.0/ensembl_99/Ciona_savignyi|        true|                  ciona_savignyi|                                                                                                            mkdir -p /data/ensembl/99/species/ciona_savignyi && wget -t 4 -m -nH --cut-dirs=100 -P /data/ensembl/99/species/ciona_savignyi ftp://ftp.ensembl.org/pub/release-99/gtf/ciona_savignyi/* && wget -t 4 -m -nH --cut-dirs=100 -P /data/ensembl/99/species/ciona_savignyi ftp://ftp.ensembl.org/pub/release-99/fasta/ciona_savignyi/* && gunzip -f /data/ensembl/99/species/ciona_savignyi/*.gz|                      CSAV 2.0|                                           /data/ensembl/99/species/ciona_savignyi/Ciona_savignyi.CSAV2.0.dna.toplevel.fa|         true|                                           /data/ensembl/99/species/ciona_savignyi/Ciona_savignyi.CSAV2.0.cdna.all.fa|       true|                                           /data/ensembl/99/species/ciona_savignyi/Ciona_savignyi.CSAV2.0.99.gtf|      tr",
            "ue|                                           /data/ensembl/99/species/ciona_savignyi/Ciona_savignyi.CSAV2.0.pep.all.fa|      true|\n",
            "|              Atlantic herring|                 /data/indexes/salmon/1.1.0/ensembl_99/Clupea_harengus|        true|                 clupea_harengus|                                                                                                      mkdir -p /data/ensembl/99/species/clupea_harengus && wget -t 4 -m -nH --cut-dirs=100 -P /data/ensembl/99/species/clupea_harengus ftp://ftp.ensembl.org/pub/release-99/gtf/clupea_harengus/* && wget -t 4 -m -nH --cut-dirs=100 -P /data/ensembl/99/species/clupea_harengus ftp://ftp.ensembl.org/pub/release-99/fasta/clupea_harengus/* && gunzip -f /data/ensembl/99/species/clupea_harengus/*.gz|                     Ch_v2.0.2|                                       /data/ensembl/99/species/clupea_harengus/Clupea_harengus.Ch_v2.0.2.dna.toplevel.fa|         true|                                       /data/ensembl/99/species/clupea_harengus/Clupea_",
            "harengus.Ch_v2.0.2.cdna.all.fa|       true|                                       /data/ensembl/99/species/clupea_harengus/Clupea_harengus.Ch_v2.0.2.99.gtf|      true|                                       /data/ensembl/99/species/clupea_harengus/Clupea_harengus.Ch_v2.0.2.pep.all.fa|      true|\n",
            "|                Angola colobus|    /data/indexes/salmon/1.1.0/ensembl_99/Colobus_angolensis_palliatus|        true|    colobus_angolensis_palliatus|                        mkdir -p /data/ensembl/99/species/colobus_angolensis_palliatus && wget -t 4 -m -nH --cut-dirs=100 -P /data/ensembl/99/species/colobus_angolensis_palliatus ftp://ftp.ensembl.org/pub/release-99/gtf/colobus_angolensis_palliatus/* && wget -t 4 -m -nH --cut-dirs=100 -P /data/ensembl/99/species/colobus_angolensis_palliatus ftp://ftp.ensembl.org/pub/release-99/fasta/colobus_angolensis_palliatus/* && gunzip -f /data/ensembl/99/species/colobus_angolensis_palliatus/*.gz|                   Cang.pa_1.0|           /data/ensembl/99/species/colobus_angolensis_pall",
            "iatus/Colobus_angolensis_palliatus.Cang.pa_1.0.dna.toplevel.fa|         true|           /data/ensembl/99/species/colobus_angolensis_palliatus/Colobus_angolensis_palliatus.Cang.pa_1.0.cdna.all.fa|       true|           /data/ensembl/99/species/colobus_angolensis_palliatus/Colobus_angolensis_palliatus.Cang.pa_1.0.99.gtf|      true|           /data/ensembl/99/species/colobus_angolensis_palliatus/Colobus_angolensis_palliatus.Cang.pa_1.0.pep.all.fa|      true|\n",
            "|           Channel bull blenny|                /data/indexes/salmon/1.1.0/ensembl_99/Cottoperca_gobio|        true|                cottoperca_gobio|                                                                                                mkdir -p /data/ensembl/99/species/cottoperca_gobio && wget -t 4 -m -nH --cut-dirs=100 -P /data/ensembl/99/species/cottoperca_gobio ftp://ftp.ensembl.org/pub/release-99/gtf/cottoperca_gobio/* && wget -t 4 -m -nH --cut-dirs=100 -P /data/ensembl/99/species/cottoperca_gobio ftp://ftp.ensembl.org/pub/release-99/fasta/cotto",
            "perca_gobio/* && gunzip -f /data/ensembl/99/species/cottoperca_gobio/*.gz|                    fCotGob3.1|                                    /data/ensembl/99/species/cottoperca_gobio/Cottoperca_gobio.fCotGob3.1.dna.toplevel.fa|         true|                                    /data/ensembl/99/species/cottoperca_gobio/Cottoperca_gobio.fCotGob3.1.cdna.all.fa|       true|                                    /data/ensembl/99/species/cottoperca_gobio/Cottoperca_gobio.fCotGob3.1.99.gtf|      true|                                    /data/ensembl/99/species/cottoperca_gobio/Cottoperca_gobio.fCotGob3.1.pep.all.fa|      true|\n",
            "|                Japanese quail|               /data/indexes/salmon/1.1.0/ensembl_99/Coturnix_japonica|        true|               coturnix_japonica|                                                                                          mkdir -p /data/ensembl/99/species/coturnix_japonica && wget -t 4 -m -nH --cut-dirs=100 -P /data/ensembl/99/species/coturnix_japonica ftp://ftp.ensembl.org/pub/re",
            "lease-99/gtf/coturnix_japonica/* && wget -t 4 -m -nH --cut-dirs=100 -P /data/ensembl/99/species/coturnix_japonica ftp://ftp.ensembl.org/pub/release-99/fasta/coturnix_japonica/* && gunzip -f /data/ensembl/99/species/coturnix_japonica/*.gz|         Coturnix_japonica_2.0|                       /data/ensembl/99/species/coturnix_japonica/Coturnix_japonica.Coturnix_japonica_2.0.dna.toplevel.fa|         true|                       /data/ensembl/99/species/coturnix_japonica/Coturnix_japonica.Coturnix_japonica_2.0.cdna.all.fa|       true|                       /data/ensembl/99/species/coturnix_japonica/Coturnix_japonica.Coturnix_japonica_2.0.99.gtf|      true|                       /data/ensembl/99/species/coturnix_japonica/Coturnix_japonica.Coturnix_japonica_2.0.pep.all.fa|      true|\n",
            "|       Chinese hamster CHOK1GS|    /data/indexes/salmon/1.1.0/ensembl_99/Cricetulus_griseus_chok1gshd|        true|    cricetulus_griseus_chok1gshd|                        mkdir -p /data/ensembl/99/species/cricetulus_griseus_chok1gshd ",
            "&& wget -t 4 -m -nH --cut-dirs=100 -P /data/ensembl/99/species/cricetulus_griseus_chok1gshd ftp://ftp.ensembl.org/pub/release-99/gtf/cricetulus_griseus_chok1gshd/* && wget -t 4 -m -nH --cut-dirs=100 -P /data/ensembl/99/species/cricetulus_griseus_chok1gshd ftp://ftp.ensembl.org/pub/release-99/fasta/cricetulus_griseus_chok1gshd/* && gunzip -f /data/ensembl/99/species/cricetulus_griseus_chok1gshd/*.gz|                  CHOK1GS_HDv1|          /data/ensembl/99/species/cricetulus_griseus_chok1gshd/Cricetulus_griseus_chok1gshd.CHOK1GS_HDv1.dna.toplevel.fa|         true|          /data/ensembl/99/species/cricetulus_griseus_chok1gshd/Cricetulus_griseus_chok1gshd.CHOK1GS_HDv1.cdna.all.fa|       true|          /data/ensembl/99/species/cricetulus_griseus_chok1gshd/Cricetulus_griseus_chok1gshd.CHOK1GS_HDv1.99.gtf|      true|          /data/ensembl/99/species/cricetulus_griseus_chok1gshd/Cricetulus_griseus_chok1gshd.CHOK1GS_HDv1.pep.all.fa|      true|\n",
            "|        Chinese hamster CriGri|       /data/indexes/salmon/1.1.0/ensemb",
            "l_99/Cricetulus_griseus_crigri|        true|       cricetulus_griseus_crigri|                                          mkdir -p /data/ensembl/99/species/cricetulus_griseus_crigri && wget -t 4 -m -nH --cut-dirs=100 -P /data/ensembl/99/species/cricetulus_griseus_crigri ftp://ftp.ensembl.org/pub/release-99/gtf/cricetulus_griseus_crigri/* && wget -t 4 -m -nH --cut-dirs=100 -P /data/ensembl/99/species/cricetulus_griseus_crigri ftp://ftp.ensembl.org/pub/release-99/fasta/cricetulus_griseus_crigri/* && gunzip -f /data/ensembl/99/species/cricetulus_griseus_crigri/*.gz|                    CriGri_1.0|                  /data/ensembl/99/species/cricetulus_griseus_crigri/Cricetulus_griseus_crigri.CriGri_1.0.dna.toplevel.fa|         true|                  /data/ensembl/99/species/cricetulus_griseus_crigri/Cricetulus_griseus_crigri.CriGri_1.0.cdna.all.fa|       true|                  /data/ensembl/99/species/cricetulus_griseus_crigri/Cricetulus_griseus_crigri.CriGri_1.0.99.gtf|      true|                  /data/ensembl/99/sp",
            "ecies/cricetulus_griseus_crigri/Cricetulus_griseus_crigri.CriGri_1.0.pep.all.fa|      true|\n",
            "|          Chinese hamster PICR|         /data/indexes/salmon/1.1.0/ensembl_99/Cricetulus_griseus_picr|        true|         cricetulus_griseus_picr|                                                      mkdir -p /data/ensembl/99/species/cricetulus_griseus_picr && wget -t 4 -m -nH --cut-dirs=100 -P /data/ensembl/99/species/cricetulus_griseus_picr ftp://ftp.ensembl.org/pub/release-99/gtf/cricetulus_griseus_picr/* && wget -t 4 -m -nH --cut-dirs=100 -P /data/ensembl/99/species/cricetulus_griseus_picr ftp://ftp.ensembl.org/pub/release-99/fasta/cricetulus_griseus_picr/* && gunzip -f /data/ensembl/99/species/cricetulus_griseus_picr/*.gz|                   CriGri-PICR|                     /data/ensembl/99/species/cricetulus_griseus_picr/Cricetulus_griseus_picr.CriGri-PICR.dna.toplevel.fa|         true|                     /data/ensembl/99/species/cricetulus_griseus_picr/Cricetulus_griseus_picr.CriGri-PICR.cdna.all.fa|       tr",
            "ue|                     /data/ensembl/99/species/cricetulus_griseus_picr/Cricetulus_griseus_picr.CriGri-PICR.99.gtf|      true|                     /data/ensembl/99/species/cricetulus_griseus_picr/Cricetulus_griseus_picr.CriGri-PICR.pep.all.fa|      true|\n",
            "|Australian saltwater crocodile|              /data/indexes/salmon/1.1.0/ensembl_99/Crocodylus_porosus|        true|              crocodylus_porosus|                                                                                    mkdir -p /data/ensembl/99/species/crocodylus_porosus && wget -t 4 -m -nH --cut-dirs=100 -P /data/ensembl/99/species/crocodylus_porosus ftp://ftp.ensembl.org/pub/release-99/gtf/crocodylus_porosus/* && wget -t 4 -m -nH --cut-dirs=100 -P /data/ensembl/99/species/crocodylus_porosus ftp://ftp.ensembl.org/pub/release-99/fasta/crocodylus_porosus/* && gunzip -f /data/ensembl/99/species/crocodylus_porosus/*.gz|                  CroPor_comp1|                              /data/ensembl/99/species/crocodylus_porosus/Crocodylus_porosus.CroPor",
            "_comp1.dna.toplevel.fa|         true|                              /data/ensembl/99/species/crocodylus_porosus/Crocodylus_porosus.CroPor_comp1.cdna.all.fa|       true|                              /data/ensembl/99/species/crocodylus_porosus/Crocodylus_porosus.CroPor_comp1.99.gtf|      true|                              /data/ensembl/99/species/crocodylus_porosus/Crocodylus_porosus.CroPor_comp1.pep.all.fa|      true|\n",
            "|                      Blue tit|             /data/indexes/salmon/1.1.0/ensembl_99/Cyanistes_caeruleus|        true|             cyanistes_caeruleus|                                                                              mkdir -p /data/ensembl/99/species/cyanistes_caeruleus && wget -t 4 -m -nH --cut-dirs=100 -P /data/ensembl/99/species/cyanistes_caeruleus ftp://ftp.ensembl.org/pub/release-99/gtf/cyanistes_caeruleus/* && wget -t 4 -m -nH --cut-dirs=100 -P /data/ensembl/99/species/cyanistes_caeruleus ftp://ftp.ensembl.org/pub/release-99/fasta/cyanistes_caeruleus/* && gunzip -f /data/ensembl/99",
            "/species/cyanistes_caeruleus/*.gz|                       cyaCae2|                                 /data/ensembl/99/species/cyanistes_caeruleus/Cyanistes_caeruleus.cyaCae2.dna.toplevel.fa|         true|                                 /data/ensembl/99/species/cyanistes_caeruleus/Cyanistes_caeruleus.cyaCae2.cdna.all.fa|       true|                                 /data/ensembl/99/species/cyanistes_caeruleus/Cyanistes_caeruleus.cyaCae2.99.gtf|      true|                                 /data/ensembl/99/species/cyanistes_caeruleus/Cyanistes_caeruleus.cyaCae2.pep.all.fa|      true|\n",
            "|                   Tongue sole|          /data/indexes/salmon/1.1.0/ensembl_99/Cynoglossus_semilaevis|        true|          cynoglossus_semilaevis|                                                            mkdir -p /data/ensembl/99/species/cynoglossus_semilaevis && wget -t 4 -m -nH --cut-dirs=100 -P /data/ensembl/99/species/cynoglossus_semilaevis ftp://ftp.ensembl.org/pub/release-99/gtf/cynoglossus_semilaevis/* && wget -t 4 -m -nH --",
            "cut-dirs=100 -P /data/ensembl/99/species/cynoglossus_semilaevis ftp://ftp.ensembl.org/pub/release-99/fasta/cynoglossus_semilaevis/* && gunzip -f /data/ensembl/99/species/cynoglossus_semilaevis/*.gz|                      Cse_v1.0|                          /data/ensembl/99/species/cynoglossus_semilaevis/Cynoglossus_semilaevis.Cse_v1.0.dna.toplevel.fa|         true|                          /data/ensembl/99/species/cynoglossus_semilaevis/Cynoglossus_semilaevis.Cse_v1.0.cdna.all.fa|       true|                          /data/ensembl/99/species/cynoglossus_semilaevis/Cynoglossus_semilaevis.Cse_v1.0.99.gtf|      true|                          /data/ensembl/99/species/cynoglossus_semilaevis/Cynoglossus_semilaevis.Cse_v1.0.pep.all.fa|      true|\n",
            "|             Sheepshead minnow|           /data/indexes/salmon/1.1.0/ensembl_99/Cyprinodon_variegatus|        true|           cyprinodon_variegatus|                                                                  mkdir -p /data/ensembl/99/species/cyprinodon_variegatus && wg",
            "et -t 4 -m -nH --cut-dirs=100 -P /data/ensembl/99/species/cyprinodon_variegatus ftp://ftp.ensembl.org/pub/release-99/gtf/cyprinodon_variegatus/* && wget -t 4 -m -nH --cut-dirs=100 -P /data/ensembl/99/species/cyprinodon_variegatus ftp://ftp.ensembl.org/pub/release-99/fasta/cyprinodon_variegatus/* && gunzip -f /data/ensembl/99/species/cyprinodon_variegatus/*.gz|              C_variegatus-1.0|                    /data/ensembl/99/species/cyprinodon_variegatus/Cyprinodon_variegatus.C_variegatus-1.0.dna.toplevel.fa|         true|                    /data/ensembl/99/species/cyprinodon_variegatus/Cyprinodon_variegatus.C_variegatus-1.0.cdna.all.fa|       true|                    /data/ensembl/99/species/cyprinodon_variegatus/Cyprinodon_variegatus.C_variegatus-1.0.99.gtf|      true|                    /data/ensembl/99/species/cyprinodon_variegatus/Cyprinodon_variegatus.C_variegatus-1.0.pep.all.fa|      true|\n",
            "|     Common carp german mirror|    /data/indexes/salmon/1.1.0/ensembl_99/Cyprinus_carpio_germanmirror|        t",
            "rue|    cyprinus_carpio_germanmirror|                        mkdir -p /data/ensembl/99/species/cyprinus_carpio_germanmirror && wget -t 4 -m -nH --cut-dirs=100 -P /data/ensembl/99/species/cyprinus_carpio_germanmirror ftp://ftp.ensembl.org/pub/release-99/gtf/cyprinus_carpio_germanmirror/* && wget -t 4 -m -nH --cut-dirs=100 -P /data/ensembl/99/species/cyprinus_carpio_germanmirror ftp://ftp.ensembl.org/pub/release-99/fasta/cyprinus_carpio_germanmirror/* && gunzip -f /data/ensembl/99/species/cyprinus_carpio_germanmirror/*.gz|        German_Mirror_carp_1.0|/data/ensembl/99/species/cyprinus_carpio_germanmirror/Cyprinus_carpio_germanmirror.German_Mirror_carp_1.0.dna.toplevel.fa|         true|/data/ensembl/99/species/cyprinus_carpio_germanmirror/Cyprinus_carpio_germanmirror.German_Mirror_carp_1.0.cdna.all.fa|       true|/data/ensembl/99/species/cyprinus_carpio_germanmirror/Cyprinus_carpio_germanmirror.German_Mirror_carp_1.0.99.gtf|      true|/data/ensembl/99/species/cyprinus_carpio_germanmirror/Cyprinus_carpio_germanm",
            "irror.German_Mirror_carp_1.0.pep.all.fa|      true|\n",
            "|         Common carp hebao red|        /data/indexes/salmon/1.1.0/ensembl_99/Cyprinus_carpio_hebaored|        true|        cyprinus_carpio_hebaored|                                                mkdir -p /data/ensembl/99/species/cyprinus_carpio_hebaored && wget -t 4 -m -nH --cut-dirs=100 -P /data/ensembl/99/species/cyprinus_carpio_hebaored ftp://ftp.ensembl.org/pub/release-99/gtf/cyprinus_carpio_hebaored/* && wget -t 4 -m -nH --cut-dirs=100 -P /data/ensembl/99/species/cyprinus_carpio_hebaored ftp://ftp.ensembl.org/pub/release-99/fasta/cyprinus_carpio_hebaored/* && gunzip -f /data/ensembl/99/species/cyprinus_carpio_hebaored/*.gz|            Hebao_red_carp_1.0|            /data/ensembl/99/species/cyprinus_carpio_hebaored/Cyprinus_carpio_hebaored.Hebao_red_carp_1.0.dna.toplevel.fa|         true|            /data/ensembl/99/species/cyprinus_carpio_hebaored/Cyprinus_carpio_hebaored.Hebao_red_carp_1.0.cdna.all.fa|       true|            /data/ensembl/99/species/",
            "cyprinus_carpio_hebaored/Cyprinus_carpio_hebaored.Hebao_red_carp_1.0.99.gtf|      true|            /data/ensembl/99/species/cyprinus_carpio_hebaored/Cyprinus_carpio_hebaored.Hebao_red_carp_1.0.pep.all.fa|      true|\n",
            "|           Common carp huanghe|         /data/indexes/salmon/1.1.0/ensembl_99/Cyprinus_carpio_huanghe|        true|         cyprinus_carpio_huanghe|                                                      mkdir -p /data/ensembl/99/species/cyprinus_carpio_huanghe && wget -t 4 -m -nH --cut-dirs=100 -P /data/ensembl/99/species/cyprinus_carpio_huanghe ftp://ftp.ensembl.org/pub/release-99/gtf/cyprinus_carpio_huanghe/* && wget -t 4 -m -nH --cut-dirs=100 -P /data/ensembl/99/species/cyprinus_carpio_huanghe ftp://ftp.ensembl.org/pub/release-99/fasta/cyprinus_carpio_huanghe/* && gunzip -f /data/ensembl/99/species/cyprinus_carpio_huanghe/*.gz|              Hunaghe_carp_2.0|                /data/ensembl/99/species/cyprinus_carpio_huanghe/Cyprinus_carpio_huanghe.Hunaghe_carp_2.0.dna.toplevel.fa|         true|   ",
            "             /data/ensembl/99/species/cyprinus_carpio_huanghe/Cyprinus_carpio_huanghe.Hunaghe_carp_2.0.cdna.all.fa|       true|                /data/ensembl/99/species/cyprinus_carpio_huanghe/Cyprinus_carpio_huanghe.Hunaghe_carp_2.0.99.gtf|      true|                /data/ensembl/99/species/cyprinus_carpio_huanghe/Cyprinus_carpio_huanghe.Hunaghe_carp_2.0.pep.all.fa|      true|\n",
            "|                     Zebrafish|                     /data/indexes/salmon/1.1.0/ensembl_99/Danio_rerio|        true|                     danio_rerio|                                                                                                                              mkdir -p /data/ensembl/99/species/danio_rerio && wget -t 4 -m -nH --cut-dirs=100 -P /data/ensembl/99/species/danio_rerio ftp://ftp.ensembl.org/pub/release-99/gtf/danio_rerio/* && wget -t 4 -m -nH --cut-dirs=100 -P /data/ensembl/99/species/danio_rerio ftp://ftp.ensembl.org/pub/release-99/fasta/danio_rerio/* && gunzip -f /data/ensembl/99/species/danio_rerio/*.gz|      ",
            "                  GRCz11|                                          /data/ensembl/99/species/danio_rerio/Danio_rerio.GRCz11.dna.primary_assembly.fa|         true|                                                  /data/ensembl/99/species/danio_rerio/Danio_rerio.GRCz11.cdna.all.fa|       true|                                                  /data/ensembl/99/species/danio_rerio/Danio_rerio.GRCz11.99.gtf|      true|                                                  /data/ensembl/99/species/danio_rerio/Danio_rerio.GRCz11.pep.all.fa|      true|\n",
            "|                     Armadillo|            /data/indexes/salmon/1.1.0/ensembl_99/Dasypus_novemcinctus|        true|            dasypus_novemcinctus|                                                                        mkdir -p /data/ensembl/99/species/dasypus_novemcinctus && wget -t 4 -m -nH --cut-dirs=100 -P /data/ensembl/99/species/dasypus_novemcinctus ftp://ftp.ensembl.org/pub/release-99/gtf/dasypus_novemcinctus/* && wget -t 4 -m -nH --cut-dirs=100 -P /data/ensembl/99/s",
            "pecies/dasypus_novemcinctus ftp://ftp.ensembl.org/pub/release-99/fasta/dasypus_novemcinctus/* && gunzip -f /data/ensembl/99/species/dasypus_novemcinctus/*.gz|                     Dasnov3.0|                             /data/ensembl/99/species/dasypus_novemcinctus/Dasypus_novemcinctus.Dasnov3.0.dna.toplevel.fa|         true|                             /data/ensembl/99/species/dasypus_novemcinctus/Dasypus_novemcinctus.Dasnov3.0.cdna.all.fa|       true|                             /data/ensembl/99/species/dasypus_novemcinctus/Dasypus_novemcinctus.Dasnov3.0.99.gtf|      true|                             /data/ensembl/99/species/dasypus_novemcinctus/Dasypus_novemcinctus.Dasnov3.0.pep.all.fa|      true|\n",
            "|              Denticle herring|            /data/indexes/salmon/1.1.0/ensembl_99/Denticeps_clupeoides|        true|            denticeps_clupeoides|                                                                        mkdir -p /data/ensembl/99/species/denticeps_clupeoides && wget -t 4 -m -nH --cut-dirs=100 -P /d",
            "ata/ensembl/99/species/denticeps_clupeoides ftp://ftp.ensembl.org/pub/release-99/gtf/denticeps_clupeoides/* && wget -t 4 -m -nH --cut-dirs=100 -P /data/ensembl/99/species/denticeps_clupeoides ftp://ftp.ensembl.org/pub/release-99/fasta/denticeps_clupeoides/* && gunzip -f /data/ensembl/99/species/denticeps_clupeoides/*.gz|                    fDenClu1.1|                            /data/ensembl/99/species/denticeps_clupeoides/Denticeps_clupeoides.fDenClu1.1.dna.toplevel.fa|         true|                            /data/ensembl/99/species/denticeps_clupeoides/Denticeps_clupeoides.fDenClu1.1.cdna.all.fa|       true|                            /data/ensembl/99/species/denticeps_clupeoides/Denticeps_clupeoides.fDenClu1.1.99.gtf|      true|                            /data/ensembl/99/species/denticeps_clupeoides/Denticeps_clupeoides.fDenClu1.1.pep.all.fa|      true|\n",
            "|                  Kangaroo rat|                 /data/indexes/salmon/1.1.0/ensembl_99/Dipodomys_ordii|        true|                 dipodomys_ordii|   ",
            "                                                                                                   mkdir -p /data/ensembl/99/species/dipodomys_ordii && wget -t 4 -m -nH --cut-dirs=100 -P /data/ensembl/99/species/dipodomys_ordii ftp://ftp.ensembl.org/pub/release-99/gtf/dipodomys_ordii/* && wget -t 4 -m -nH --cut-dirs=100 -P /data/ensembl/99/species/dipodomys_ordii ftp://ftp.ensembl.org/pub/release-99/fasta/dipodomys_ordii/* && gunzip -f /data/ensembl/99/species/dipodomys_ordii/*.gz|                      Dord_2.0|                                        /data/ensembl/99/species/dipodomys_ordii/Dipodomys_ordii.Dord_2.0.dna.toplevel.fa|         true|                                        /data/ensembl/99/species/dipodomys_ordii/Dipodomys_ordii.Dord_2.0.cdna.all.fa|       true|                                        /data/ensembl/99/species/dipodomys_ordii/Dipodomys_ordii.Dord_2.0.99.gtf|      true|                                        /data/ensembl/99/species/dipodomys_ordii/Dipodomys_ordii.Dord_2.0.pep.all.fa|",
            "      true|\n",
            "|                           Emu|        /data/indexes/salmon/1.1.0/ensembl_99/Dromaius_novaehollandiae|        true|        dromaius_novaehollandiae|                                                mkdir -p /data/ensembl/99/species/dromaius_novaehollandiae && wget -t 4 -m -nH --cut-dirs=100 -P /data/ensembl/99/species/dromaius_novaehollandiae ftp://ftp.ensembl.org/pub/release-99/gtf/dromaius_novaehollandiae/* && wget -t 4 -m -nH --cut-dirs=100 -P /data/ensembl/99/species/dromaius_novaehollandiae ftp://ftp.ensembl.org/pub/release-99/fasta/dromaius_novaehollandiae/* && gunzip -f /data/ensembl/99/species/dromaius_novaehollandiae/*.gz|                       droNov1|                       /data/ensembl/99/species/dromaius_novaehollandiae/Dromaius_novaehollandiae.droNov1.dna.toplevel.fa|         true|                       /data/ensembl/99/species/dromaius_novaehollandiae/Dromaius_novaehollandiae.droNov1.cdna.all.fa|       true|                       /data/ensembl/99/species/dromaius_novaehollandiae/Drom",
            "aius_novaehollandiae.droNov1.99.gtf|      true|                       /data/ensembl/99/species/dromaius_novaehollandiae/Dromaius_novaehollandiae.droNov1.pep.all.fa|      true|\n",
            "|       Drosophila melanogaster|         /data/indexes/salmon/1.1.0/ensembl_99/Drosophila_melanogaster|        true|         drosophila_melanogaster|                                                      mkdir -p /data/ensembl/99/species/drosophila_melanogaster && wget -t 4 -m -nH --cut-dirs=100 -P /data/ensembl/99/species/drosophila_melanogaster ftp://ftp.ensembl.org/pub/release-99/gtf/drosophila_melanogaster/* && wget -t 4 -m -nH --cut-dirs=100 -P /data/ensembl/99/species/drosophila_melanogaster ftp://ftp.ensembl.org/pub/release-99/fasta/drosophila_melanogaster/* && gunzip -f /data/ensembl/99/species/drosophila_melanogaster/*.gz|                      BDGP6.28|                        /data/ensembl/99/species/drosophila_melanogaster/Drosophila_melanogaster.BDGP6.28.dna.toplevel.fa|         true|                        /data/ensembl/99/sp",
            "ecies/drosophila_melanogaster/Drosophila_melanogaster.BDGP6.28.cdna.all.fa|       true|                        /data/ensembl/99/species/drosophila_melanogaster/Drosophila_melanogaster.BDGP6.28.99.gtf|      true|                        /data/ensembl/99/species/drosophila_melanogaster/Drosophila_melanogaster.BDGP6.28.pep.all.fa|      true|\n",
            "|              Live sharksucker|              /data/indexes/salmon/1.1.0/ensembl_99/Echeneis_naucrates|        true|              echeneis_naucrates|                                                                                    mkdir -p /data/ensembl/99/species/echeneis_naucrates && wget -t 4 -m -nH --cut-dirs=100 -P /data/ensembl/99/species/echeneis_naucrates ftp://ftp.ensembl.org/pub/release-99/gtf/echeneis_naucrates/* && wget -t 4 -m -nH --cut-dirs=100 -P /data/ensembl/99/species/echeneis_naucrates ftp://ftp.ensembl.org/pub/release-99/fasta/echeneis_naucrates/* && gunzip -f /data/ensembl/99/species/echeneis_naucrates/*.gz|                    fEcheNa1.1|               ",
            "                 /data/ensembl/99/species/echeneis_naucrates/Echeneis_naucrates.fEcheNa1.1.dna.toplevel.fa|         true|                                /data/ensembl/99/species/echeneis_naucrates/Echeneis_naucrates.fEcheNa1.1.cdna.all.fa|       true|                                /data/ensembl/99/species/echeneis_naucrates/Echeneis_naucrates.fEcheNa1.1.99.gtf|      true|                                /data/ensembl/99/species/echeneis_naucrates/Echeneis_naucrates.fEcheNa1.1.pep.all.fa|      true|\n",
            "|        Lesser hedgehog tenrec|               /data/indexes/salmon/1.1.0/ensembl_99/Echinops_telfairi|        true|               echinops_telfairi|                                                                                          mkdir -p /data/ensembl/99/species/echinops_telfairi && wget -t 4 -m -nH --cut-dirs=100 -P /data/ensembl/99/species/echinops_telfairi ftp://ftp.ensembl.org/pub/release-99/gtf/echinops_telfairi/* && wget -t 4 -m -nH --cut-dirs=100 -P /data/ensembl/99/species/echinops_telfairi ftp://",
            "ftp.ensembl.org/pub/release-99/fasta/echinops_telfairi/* && gunzip -f /data/ensembl/99/species/echinops_telfairi/*.gz|                        TENREC|                                      /data/ensembl/99/species/echinops_telfairi/Echinops_telfairi.TENREC.dna.toplevel.fa|         true|                                      /data/ensembl/99/species/echinops_telfairi/Echinops_telfairi.TENREC.cdna.all.fa|       true|                                      /data/ensembl/99/species/echinops_telfairi/Echinops_telfairi.TENREC.99.gtf|      true|                                      /data/ensembl/99/species/echinops_telfairi/Echinops_telfairi.TENREC.pep.all.fa|      true|\n",
            "|                  Electric eel|        /data/indexes/salmon/1.1.0/ensembl_99/Electrophorus_electricus|        true|        electrophorus_electricus|                                                mkdir -p /data/ensembl/99/species/electrophorus_electricus && wget -t 4 -m -nH --cut-dirs=100 -P /data/ensembl/99/species/electrophorus_electricus ftp://ftp.en",
            "sembl.org/pub/release-99/gtf/electrophorus_electricus/* && wget -t 4 -m -nH --cut-dirs=100 -P /data/ensembl/99/species/electrophorus_electricus ftp://ftp.ensembl.org/pub/release-99/fasta/electrophorus_electricus/* && gunzip -f /data/ensembl/99/species/electrophorus_electricus/*.gz|           Ee_SOAP_WITH_SSPACE|           /data/ensembl/99/species/electrophorus_electricus/Electrophorus_electricus.Ee_SOAP_WITH_SSPACE.dna.toplevel.fa|         true|           /data/ensembl/99/species/electrophorus_electricus/Electrophorus_electricus.Ee_SOAP_WITH_SSPACE.cdna.all.fa|       true|           /data/ensembl/99/species/electrophorus_electricus/Electrophorus_electricus.Ee_SOAP_WITH_SSPACE.99.gtf|      true|           /data/ensembl/99/species/electrophorus_electricus/Electrophorus_electricus.Ee_SOAP_WITH_SSPACE.pep.all.fa|      true|\n",
            "|                       Hagfish|              /data/indexes/salmon/1.1.0/ensembl_99/Eptatretus_burgeri|        true|              eptatretus_burgeri|                                           ",
            "                                         mkdir -p /data/ensembl/99/species/eptatretus_burgeri && wget -t 4 -m -nH --cut-dirs=100 -P /data/ensembl/99/species/eptatretus_burgeri ftp://ftp.ensembl.org/pub/release-99/gtf/eptatretus_burgeri/* && wget -t 4 -m -nH --cut-dirs=100 -P /data/ensembl/99/species/eptatretus_burgeri ftp://ftp.ensembl.org/pub/release-99/fasta/eptatretus_burgeri/* && gunzip -f /data/ensembl/99/species/eptatretus_burgeri/*.gz|                  Eburgeri_3.2|                              /data/ensembl/99/species/eptatretus_burgeri/Eptatretus_burgeri.Eburgeri_3.2.dna.toplevel.fa|         true|                              /data/ensembl/99/species/eptatretus_burgeri/Eptatretus_burgeri.Eburgeri_3.2.cdna.all.fa|       true|                              /data/ensembl/99/species/eptatretus_burgeri/Eptatretus_burgeri.Eburgeri_3.2.99.gtf|      true|                              /data/ensembl/99/species/eptatretus_burgeri/Eptatretus_burgeri.Eburgeri_3.2.pep.all.fa|      true|\n",
            "|                        Don",
            "key|             /data/indexes/salmon/1.1.0/ensembl_99/Equus_asinus_asinus|        true|             equus_asinus_asinus|                                                                              mkdir -p /data/ensembl/99/species/equus_asinus_asinus && wget -t 4 -m -nH --cut-dirs=100 -P /data/ensembl/99/species/equus_asinus_asinus ftp://ftp.ensembl.org/pub/release-99/gtf/equus_asinus_asinus/* && wget -t 4 -m -nH --cut-dirs=100 -P /data/ensembl/99/species/equus_asinus_asinus ftp://ftp.ensembl.org/pub/release-99/fasta/equus_asinus_asinus/* && gunzip -f /data/ensembl/99/species/equus_asinus_asinus/*.gz|                   ASM303372v1|                             /data/ensembl/99/species/equus_asinus_asinus/Equus_asinus_asinus.ASM303372v1.dna.toplevel.fa|         true|                             /data/ensembl/99/species/equus_asinus_asinus/Equus_asinus_asinus.ASM303372v1.cdna.all.fa|       true|                             /data/ensembl/99/species/equus_asinus_asinus/Equus_asinus_asinus.ASM303372v1.99.gtf|    ",
            "  true|                             /data/ensembl/99/species/equus_asinus_asinus/Equus_asinus_asinus.ASM303372v1.pep.all.fa|      true|\n",
            "|                         Horse|                  /data/indexes/salmon/1.1.0/ensembl_99/Equus_caballus|        true|                  equus_caballus|                                                                                                            mkdir -p /data/ensembl/99/species/equus_caballus && wget -t 4 -m -nH --cut-dirs=100 -P /data/ensembl/99/species/equus_caballus ftp://ftp.ensembl.org/pub/release-99/gtf/equus_caballus/* && wget -t 4 -m -nH --cut-dirs=100 -P /data/ensembl/99/species/equus_caballus ftp://ftp.ensembl.org/pub/release-99/fasta/equus_caballus/* && gunzip -f /data/ensembl/99/species/equus_caballus/*.gz|                     EquCab3.0|                                         /data/ensembl/99/species/equus_caballus/Equus_caballus.EquCab3.0.dna.toplevel.fa|         true|                                         /data/ensembl/99/species/equus_caballus/Eq",
            "uus_caballus.EquCab3.0.cdna.all.fa|       true|                                         /data/ensembl/99/species/equus_caballus/Equus_caballus.EquCab3.0.99.gtf|      true|                                         /data/ensembl/99/species/equus_caballus/Equus_caballus.EquCab3.0.pep.all.fa|      true|\n",
            "|                      Hedgehog|             /data/indexes/salmon/1.1.0/ensembl_99/Erinaceus_europaeus|        true|             erinaceus_europaeus|                                                                              mkdir -p /data/ensembl/99/species/erinaceus_europaeus && wget -t 4 -m -nH --cut-dirs=100 -P /data/ensembl/99/species/erinaceus_europaeus ftp://ftp.ensembl.org/pub/release-99/gtf/erinaceus_europaeus/* && wget -t 4 -m -nH --cut-dirs=100 -P /data/ensembl/99/species/erinaceus_europaeus ftp://ftp.ensembl.org/pub/release-99/fasta/erinaceus_europaeus/* && gunzip -f /data/ensembl/99/species/erinaceus_europaeus/*.gz|                       eriEur1|                                 /data/ensembl/99/speci",
            "es/erinaceus_europaeus/Erinaceus_europaeus.eriEur1.dna.toplevel.fa|        false|                                 /data/ensembl/99/species/erinaceus_europaeus/Erinaceus_europaeus.eriEur1.cdna.all.fa|      false|                                 /data/ensembl/99/species/erinaceus_europaeus/Erinaceus_europaeus.eriEur1.99.gtf|     false|                                 /data/ensembl/99/species/erinaceus_europaeus/Erinaceus_europaeus.eriEur1.pep.all.fa|     false|\n",
            "|                      Reedfish|       /data/indexes/salmon/1.1.0/ensembl_99/Erpetoichthys_calabaricus|       false|       erpetoichthys_calabaricus|                                          mkdir -p /data/ensembl/99/species/erpetoichthys_calabaricus && wget -t 4 -m -nH --cut-dirs=100 -P /data/ensembl/99/species/erpetoichthys_calabaricus ftp://ftp.ensembl.org/pub/release-99/gtf/erpetoichthys_calabaricus/* && wget -t 4 -m -nH --cut-dirs=100 -P /data/ensembl/99/species/erpetoichthys_calabaricus ftp://ftp.ensembl.org/pub/release-99/fasta/erpetoichthys_calab",
            "aricus/* && gunzip -f /data/ensembl/99/species/erpetoichthys_calabaricus/*.gz|                    fErpCal1.1|                  /data/ensembl/99/species/erpetoichthys_calabaricus/Erpetoichthys_calabaricus.fErpCal1.1.dna.toplevel.fa|         true|                  /data/ensembl/99/species/erpetoichthys_calabaricus/Erpetoichthys_calabaricus.fErpCal1.1.cdna.all.fa|       true|                  /data/ensembl/99/species/erpetoichthys_calabaricus/Erpetoichthys_calabaricus.fErpCal1.1.99.gtf|      true|                  /data/ensembl/99/species/erpetoichthys_calabaricus/Erpetoichthys_calabaricus.fErpCal1.1.pep.all.fa|      true|\n",
            "|                Gouldian finch|              /data/indexes/salmon/1.1.0/ensembl_99/Erythrura_gouldiae|        true|              erythrura_gouldiae|                                                                                    mkdir -p /data/ensembl/99/species/erythrura_gouldiae && wget -t 4 -m -nH --cut-dirs=100 -P /data/ensembl/99/species/erythrura_gouldiae ftp://ftp.ensembl.org/pub/re",
            "lease-99/gtf/erythrura_gouldiae/* && wget -t 4 -m -nH --cut-dirs=100 -P /data/ensembl/99/species/erythrura_gouldiae ftp://ftp.ensembl.org/pub/release-99/fasta/erythrura_gouldiae/* && gunzip -f /data/ensembl/99/species/erythrura_gouldiae/*.gz|                 GouldianFinch|                             /data/ensembl/99/species/erythrura_gouldiae/Erythrura_gouldiae.GouldianFinch.dna.toplevel.fa|         true|                             /data/ensembl/99/species/erythrura_gouldiae/Erythrura_gouldiae.GouldianFinch.cdna.all.fa|       true|                             /data/ensembl/99/species/erythrura_gouldiae/Erythrura_gouldiae.GouldianFinch.99.gtf|      true|                             /data/ensembl/99/species/erythrura_gouldiae/Erythrura_gouldiae.GouldianFinch.pep.all.fa|      true|\n",
            "|                 Northern pike|                     /data/indexes/salmon/1.1.0/ensembl_99/Esox_lucius|        true|                     esox_lucius|                                                                                   ",
            "                                           mkdir -p /data/ensembl/99/species/esox_lucius && wget -t 4 -m -nH --cut-dirs=100 -P /data/ensembl/99/species/esox_lucius ftp://ftp.ensembl.org/pub/release-99/gtf/esox_lucius/* && wget -t 4 -m -nH --cut-dirs=100 -P /data/ensembl/99/species/esox_lucius ftp://ftp.ensembl.org/pub/release-99/fasta/esox_lucius/* && gunzip -f /data/ensembl/99/species/esox_lucius/*.gz|                       Eluc_V3|                                                 /data/ensembl/99/species/esox_lucius/Esox_lucius.Eluc_V3.dna.toplevel.fa|         true|                                                 /data/ensembl/99/species/esox_lucius/Esox_lucius.Eluc_V3.cdna.all.fa|       true|                                                 /data/ensembl/99/species/esox_lucius/Esox_lucius.Eluc_V3.99.gtf|      true|                                                 /data/ensembl/99/species/esox_lucius/Esox_lucius.Eluc_V3.pep.all.fa|      true|\n",
            "|                           Cat|                     /data/indexes/s",
            "almon/1.1.0/ensembl_99/Felis_catus|        true|                     felis_catus|                                                                                                                              mkdir -p /data/ensembl/99/species/felis_catus && wget -t 4 -m -nH --cut-dirs=100 -P /data/ensembl/99/species/felis_catus ftp://ftp.ensembl.org/pub/release-99/gtf/felis_catus/* && wget -t 4 -m -nH --cut-dirs=100 -P /data/ensembl/99/species/felis_catus ftp://ftp.ensembl.org/pub/release-99/fasta/felis_catus/* && gunzip -f /data/ensembl/99/species/felis_catus/*.gz|               Felis_catus_9.0|                                         /data/ensembl/99/species/felis_catus/Felis_catus.Felis_catus_9.0.dna.toplevel.fa|         true|                                         /data/ensembl/99/species/felis_catus/Felis_catus.Felis_catus_9.0.cdna.all.fa|       true|                                         /data/ensembl/99/species/felis_catus/Felis_catus.Felis_catus_9.0.99.gtf|      true|                                 ",
            "        /data/ensembl/99/species/felis_catus/Felis_catus.Felis_catus_9.0.pep.all.fa|      true|\n",
            "|                    Flycatcher|             /data/indexes/salmon/1.1.0/ensembl_99/Ficedula_albicollis|        true|             ficedula_albicollis|                                                                              mkdir -p /data/ensembl/99/species/ficedula_albicollis && wget -t 4 -m -nH --cut-dirs=100 -P /data/ensembl/99/species/ficedula_albicollis ftp://ftp.ensembl.org/pub/release-99/gtf/ficedula_albicollis/* && wget -t 4 -m -nH --cut-dirs=100 -P /data/ensembl/99/species/ficedula_albicollis ftp://ftp.ensembl.org/pub/release-99/fasta/ficedula_albicollis/* && gunzip -f /data/ensembl/99/species/ficedula_albicollis/*.gz|                    FicAlb_1.4|                              /data/ensembl/99/species/ficedula_albicollis/Ficedula_albicollis.FicAlb_1.4.dna.toplevel.fa|         true|                              /data/ensembl/99/species/ficedula_albicollis/Ficedula_albicollis.FicAlb_1.4.cdna.all.fa|     ",
            "  true|                              /data/ensembl/99/species/ficedula_albicollis/Ficedula_albicollis.FicAlb_1.4.99.gtf|      true|                              /data/ensembl/99/species/ficedula_albicollis/Ficedula_albicollis.FicAlb_1.4.pep.all.fa|      true|\n",
            "|               Damara mole rat|              /data/indexes/salmon/1.1.0/ensembl_99/Fukomys_damarensis|        true|              fukomys_damarensis|                                                                                    mkdir -p /data/ensembl/99/species/fukomys_damarensis && wget -t 4 -m -nH --cut-dirs=100 -P /data/ensembl/99/species/fukomys_damarensis ftp://ftp.ensembl.org/pub/release-99/gtf/fukomys_damarensis/* && wget -t 4 -m -nH --cut-dirs=100 -P /data/ensembl/99/species/fukomys_damarensis ftp://ftp.ensembl.org/pub/release-99/fasta/fukomys_damarensis/* && gunzip -f /data/ensembl/99/species/fukomys_damarensis/*.gz|                      DMR_v1.0|                                  /data/ensembl/99/species/fukomys_damarensis/Fukomys_damarensi",
            "s.DMR_v1.0.dna.toplevel.fa|         true|                                  /data/ensembl/99/species/fukomys_damarensis/Fukomys_damarensis.DMR_v1.0.cdna.all.fa|       true|                                  /data/ensembl/99/species/fukomys_damarensis/Fukomys_damarensis.DMR_v1.0.99.gtf|      true|                                  /data/ensembl/99/species/fukomys_damarensis/Fukomys_damarensis.DMR_v1.0.pep.all.fa|      true|\n",
            "|                     Mummichog|           /data/indexes/salmon/1.1.0/ensembl_99/Fundulus_heteroclitus|        true|           fundulus_heteroclitus|                                                                  mkdir -p /data/ensembl/99/species/fundulus_heteroclitus && wget -t 4 -m -nH --cut-dirs=100 -P /data/ensembl/99/species/fundulus_heteroclitus ftp://ftp.ensembl.org/pub/release-99/gtf/fundulus_heteroclitus/* && wget -t 4 -m -nH --cut-dirs=100 -P /data/ensembl/99/species/fundulus_heteroclitus ftp://ftp.ensembl.org/pub/release-99/fasta/fundulus_heteroclitus/* && gunzip -f /data/ensembl/",
            "99/species/fundulus_heteroclitus/*.gz|   Fundulus_heteroclitus-3.0.2|         /data/ensembl/99/species/fundulus_heteroclitus/Fundulus_heteroclitus.Fundulus_heteroclitus-3.0.2.dna.toplevel.fa|         true|         /data/ensembl/99/species/fundulus_heteroclitus/Fundulus_heteroclitus.Fundulus_heteroclitus-3.0.2.cdna.all.fa|       true|         /data/ensembl/99/species/fundulus_heteroclitus/Fundulus_heteroclitus.Fundulus_heteroclitus-3.0.2.99.gtf|      true|         /data/ensembl/99/species/fundulus_heteroclitus/Fundulus_heteroclitus.Fundulus_heteroclitus-3.0.2.pep.all.fa|      true|\n",
            "|                           Cod|                    /data/indexes/salmon/1.1.0/ensembl_99/Gadus_morhua|        true|                    gadus_morhua|                                                                                                                        mkdir -p /data/ensembl/99/species/gadus_morhua && wget -t 4 -m -nH --cut-dirs=100 -P /data/ensembl/99/species/gadus_morhua ftp://ftp.ensembl.org/pub/release-99/gtf/gad",
            "us_morhua/* && wget -t 4 -m -nH --cut-dirs=100 -P /data/ensembl/99/species/gadus_morhua ftp://ftp.ensembl.org/pub/release-99/fasta/gadus_morhua/* && gunzip -f /data/ensembl/99/species/gadus_morhua/*.gz|                       gadMor1|                                               /data/ensembl/99/species/gadus_morhua/Gadus_morhua.gadMor1.dna.toplevel.fa|         true|                                               /data/ensembl/99/species/gadus_morhua/Gadus_morhua.gadMor1.cdna.all.fa|       true|                                               /data/ensembl/99/species/gadus_morhua/Gadus_morhua.gadMor1.99.gtf|      true|                                               /data/ensembl/99/species/gadus_morhua/Gadus_morhua.gadMor1.pep.all.fa|      true|\n",
            "|                       Chicken|                   /data/indexes/salmon/1.1.0/ensembl_99/Gallus_gallus|        true|                   gallus_gallus|                                                                                                                  mkdir -p ",
            "/data/ensembl/99/species/gallus_gallus && wget -t 4 -m -nH --cut-dirs=100 -P /data/ensembl/99/species/gallus_gallus ftp://ftp.ensembl.org/pub/release-99/gtf/gallus_gallus/* && wget -t 4 -m -nH --cut-dirs=100 -P /data/ensembl/99/species/gallus_gallus ftp://ftp.ensembl.org/pub/release-99/fasta/gallus_gallus/* && gunzip -f /data/ensembl/99/species/gallus_gallus/*.gz|                        GRCg6a|                                              /data/ensembl/99/species/gallus_gallus/Gallus_gallus.GRCg6a.dna.toplevel.fa|         true|                                              /data/ensembl/99/species/gallus_gallus/Gallus_gallus.GRCg6a.cdna.all.fa|       true|                                              /data/ensembl/99/species/gallus_gallus/Gallus_gallus.GRCg6a.99.gtf|      true|                                              /data/ensembl/99/species/gallus_gallus/Gallus_gallus.GRCg6a.pep.all.fa|      true|\n",
            "|          Western mosquitofish|                /data/indexes/salmon/1.1.0/ensembl_99/Gambusia_affinis|     ",
            "   true|                gambusia_affinis|                                                                                                mkdir -p /data/ensembl/99/species/gambusia_affinis && wget -t 4 -m -nH --cut-dirs=100 -P /data/ensembl/99/species/gambusia_affinis ftp://ftp.ensembl.org/pub/release-99/gtf/gambusia_affinis/* && wget -t 4 -m -nH --cut-dirs=100 -P /data/ensembl/99/species/gambusia_affinis ftp://ftp.ensembl.org/pub/release-99/fasta/gambusia_affinis/* && gunzip -f /data/ensembl/99/species/gambusia_affinis/*.gz|                   ASM309773v1|                                   /data/ensembl/99/species/gambusia_affinis/Gambusia_affinis.ASM309773v1.dna.toplevel.fa|         true|                                   /data/ensembl/99/species/gambusia_affinis/Gambusia_affinis.ASM309773v1.cdna.all.fa|       true|                                   /data/ensembl/99/species/gambusia_affinis/Gambusia_affinis.ASM309773v1.99.gtf|      true|                                   /data/ensembl/99/species/gambusia_affi",
            "nis/Gambusia_affinis.ASM309773v1.pep.all.fa|      true|\n",
            "|                   Stickleback|          /data/indexes/salmon/1.1.0/ensembl_99/Gasterosteus_aculeatus|        true|          gasterosteus_aculeatus|                                                            mkdir -p /data/ensembl/99/species/gasterosteus_aculeatus && wget -t 4 -m -nH --cut-dirs=100 -P /data/ensembl/99/species/gasterosteus_aculeatus ftp://ftp.ensembl.org/pub/release-99/gtf/gasterosteus_aculeatus/* && wget -t 4 -m -nH --cut-dirs=100 -P /data/ensembl/99/species/gasterosteus_aculeatus ftp://ftp.ensembl.org/pub/release-99/fasta/gasterosteus_aculeatus/* && gunzip -f /data/ensembl/99/species/gasterosteus_aculeatus/*.gz|                      BROAD S1|                           /data/ensembl/99/species/gasterosteus_aculeatus/Gasterosteus_aculeatus.BROADS1.dna.toplevel.fa|         true|                           /data/ensembl/99/species/gasterosteus_aculeatus/Gasterosteus_aculeatus.BROADS1.cdna.all.fa|       true|                           /data/",
            "ensembl/99/species/gasterosteus_aculeatus/Gasterosteus_aculeatus.BROADS1.99.gtf|      true|                           /data/ensembl/99/species/gasterosteus_aculeatus/Gasterosteus_aculeatus.BROADS1.pep.all.fa|      true|\n",
            "|     Agassiz's desert tortoise|              /data/indexes/salmon/1.1.0/ensembl_99/Gopherus_agassizii|        true|              gopherus_agassizii|                                                                                    mkdir -p /data/ensembl/99/species/gopherus_agassizii && wget -t 4 -m -nH --cut-dirs=100 -P /data/ensembl/99/species/gopherus_agassizii ftp://ftp.ensembl.org/pub/release-99/gtf/gopherus_agassizii/* && wget -t 4 -m -nH --cut-dirs=100 -P /data/ensembl/99/species/gopherus_agassizii ftp://ftp.ensembl.org/pub/release-99/fasta/gopherus_agassizii/* && gunzip -f /data/ensembl/99/species/gopherus_agassizii/*.gz|                   ASM289641v1|                               /data/ensembl/99/species/gopherus_agassizii/Gopherus_agassizii.ASM289641v1.dna.toplevel.fa|         true",
            "|                               /data/ensembl/99/species/gopherus_agassizii/Gopherus_agassizii.ASM289641v1.cdna.all.fa|       true|                               /data/ensembl/99/species/gopherus_agassizii/Gopherus_agassizii.ASM289641v1.99.gtf|      true|                               /data/ensembl/99/species/gopherus_agassizii/Gopherus_agassizii.ASM289641v1.pep.all.fa|      true|\n",
            "|                       Gorilla|                 /data/indexes/salmon/1.1.0/ensembl_99/Gorilla_gorilla|        true|                 gorilla_gorilla|                                                                                                      mkdir -p /data/ensembl/99/species/gorilla_gorilla && wget -t 4 -m -nH --cut-dirs=100 -P /data/ensembl/99/species/gorilla_gorilla ftp://ftp.ensembl.org/pub/release-99/gtf/gorilla_gorilla/* && wget -t 4 -m -nH --cut-dirs=100 -P /data/ensembl/99/species/gorilla_gorilla ftp://ftp.ensembl.org/pub/release-99/fasta/gorilla_gorilla/* && gunzip -f /data/ensembl/99/species/gorilla_gorilla/*.gz|  ",
            "                     gorGor4|                                         /data/ensembl/99/species/gorilla_gorilla/Gorilla_gorilla.gorGor4.dna.toplevel.fa|         true|                                         /data/ensembl/99/species/gorilla_gorilla/Gorilla_gorilla.gorGor4.cdna.all.fa|       true|                                         /data/ensembl/99/species/gorilla_gorilla/Gorilla_gorilla.gorGor4.99.gtf|      true|                                         /data/ensembl/99/species/gorilla_gorilla/Gorilla_gorilla.gorGor4.pep.all.fa|      true|\n",
            "|       Blunt-snouted clingfish|              /data/indexes/salmon/1.1.0/ensembl_99/Gouania_willdenowi|        true|              gouania_willdenowi|                                                                                    mkdir -p /data/ensembl/99/species/gouania_willdenowi && wget -t 4 -m -nH --cut-dirs=100 -P /data/ensembl/99/species/gouania_willdenowi ftp://ftp.ensembl.org/pub/release-99/gtf/gouania_willdenowi/* && wget -t 4 -m -nH --cut-dirs=100 -P /data/en",
            "sembl/99/species/gouania_willdenowi ftp://ftp.ensembl.org/pub/release-99/fasta/gouania_willdenowi/* && gunzip -f /data/ensembl/99/species/gouania_willdenowi/*.gz|                    fGouWil2.1|                                /data/ensembl/99/species/gouania_willdenowi/Gouania_willdenowi.fGouWil2.1.dna.toplevel.fa|         true|                                /data/ensembl/99/species/gouania_willdenowi/Gouania_willdenowi.fGouWil2.1.cdna.all.fa|       true|                                /data/ensembl/99/species/gouania_willdenowi/Gouania_willdenowi.fGouWil2.1.99.gtf|      true|                                /data/ensembl/99/species/gouania_willdenowi/Gouania_willdenowi.fGouWil2.1.pep.all.fa|      true|\n",
            "|         Burton's mouthbrooder|            /data/indexes/salmon/1.1.0/ensembl_99/Haplochromis_burtoni|        true|            haplochromis_burtoni|                                                                        mkdir -p /data/ensembl/99/species/haplochromis_burtoni && wget -t 4 -m -nH --cut-dirs=100 -",
            "P /data/ensembl/99/species/haplochromis_burtoni ftp://ftp.ensembl.org/pub/release-99/gtf/haplochromis_burtoni/* && wget -t 4 -m -nH --cut-dirs=100 -P /data/ensembl/99/species/haplochromis_burtoni ftp://ftp.ensembl.org/pub/release-99/fasta/haplochromis_burtoni/* && gunzip -f /data/ensembl/99/species/haplochromis_burtoni/*.gz|                     AstBur1.0|                             /data/ensembl/99/species/haplochromis_burtoni/Haplochromis_burtoni.AstBur1.0.dna.toplevel.fa|         true|                             /data/ensembl/99/species/haplochromis_burtoni/Haplochromis_burtoni.AstBur1.0.cdna.all.fa|       true|                             /data/ensembl/99/species/haplochromis_burtoni/Haplochromis_burtoni.AstBur1.0.99.gtf|      true|                             /data/ensembl/99/species/haplochromis_burtoni/Haplochromis_burtoni.AstBur1.0.pep.all.fa|      true|\n",
            "|         Naked mole-rat female|    /data/indexes/salmon/1.1.0/ensembl_99/Heterocephalus_glaber_female|        true|    heterocephalus_glaber_female",
            "|                        mkdir -p /data/ensembl/99/species/heterocephalus_glaber_female && wget -t 4 -m -nH --cut-dirs=100 -P /data/ensembl/99/species/heterocephalus_glaber_female ftp://ftp.ensembl.org/pub/release-99/gtf/heterocephalus_glaber_female/* && wget -t 4 -m -nH --cut-dirs=100 -P /data/ensembl/99/species/heterocephalus_glaber_female ftp://ftp.ensembl.org/pub/release-99/fasta/heterocephalus_glaber_female/* && gunzip -f /data/ensembl/99/species/heterocephalus_glaber_female/*.gz|             HetGla_female_1.0|     /data/ensembl/99/species/heterocephalus_glaber_female/Heterocephalus_glaber_female.HetGla_female_1.0.dna.toplevel.fa|         true|     /data/ensembl/99/species/heterocephalus_glaber_female/Heterocephalus_glaber_female.HetGla_female_1.0.cdna.all.fa|       true|     /data/ensembl/99/species/heterocephalus_glaber_female/Heterocephalus_glaber_female.HetGla_female_1.0.99.gtf|      true|     /data/ensembl/99/species/heterocephalus_glaber_female/Heterocephalus_glaber_female.HetGla_female_1.0.pep.all",
            ".fa|      true|\n",
            "|           Naked mole-rat male|      /data/indexes/salmon/1.1.0/ensembl_99/Heterocephalus_glaber_male|        true|      heterocephalus_glaber_male|                                    mkdir -p /data/ensembl/99/species/heterocephalus_glaber_male && wget -t 4 -m -nH --cut-dirs=100 -P /data/ensembl/99/species/heterocephalus_glaber_male ftp://ftp.ensembl.org/pub/release-99/gtf/heterocephalus_glaber_male/* && wget -t 4 -m -nH --cut-dirs=100 -P /data/ensembl/99/species/heterocephalus_glaber_male ftp://ftp.ensembl.org/pub/release-99/fasta/heterocephalus_glaber_male/* && gunzip -f /data/ensembl/99/species/heterocephalus_glaber_male/*.gz|                    HetGla_1.0|                /data/ensembl/99/species/heterocephalus_glaber_male/Heterocephalus_glaber_male.HetGla_1.0.dna.toplevel.fa|         true|                /data/ensembl/99/species/heterocephalus_glaber_male/Heterocephalus_glaber_male.HetGla_1.0.cdna.all.fa|       true|                /data/ensembl/99/species/heterocephalus_glaber_male/Heter",
            "ocephalus_glaber_male.HetGla_1.0.99.gtf|      true|                /data/ensembl/99/species/heterocephalus_glaber_male/Heterocephalus_glaber_male.HetGla_1.0.pep.all.fa|      true|\n",
            "|           Tiger tail seahorse|               /data/indexes/salmon/1.1.0/ensembl_99/Hippocampus_comes|        true|               hippocampus_comes|                                                                                          mkdir -p /data/ensembl/99/species/hippocampus_comes && wget -t 4 -m -nH --cut-dirs=100 -P /data/ensembl/99/species/hippocampus_comes ftp://ftp.ensembl.org/pub/release-99/gtf/hippocampus_comes/* && wget -t 4 -m -nH --cut-dirs=100 -P /data/ensembl/99/species/hippocampus_comes ftp://ftp.ensembl.org/pub/release-99/fasta/hippocampus_comes/* && gunzip -f /data/ensembl/99/species/hippocampus_comes/*.gz|                H_comes_QL1_v1|                              /data/ensembl/99/species/hippocampus_comes/Hippocampus_comes.H_comes_QL1_v1.dna.toplevel.fa|         true|                              /data/ens",
            "embl/99/species/hippocampus_comes/Hippocampus_comes.H_comes_QL1_v1.cdna.all.fa|       true|                              /data/ensembl/99/species/hippocampus_comes/Hippocampus_comes.H_comes_QL1_v1.99.gtf|      true|                              /data/ensembl/99/species/hippocampus_comes/Hippocampus_comes.H_comes_QL1_v1.pep.all.fa|      true|\n",
            "|                         Human|                    /data/indexes/salmon/1.1.0/ensembl_99/Homo_sapiens|        true|                    homo_sapiens|                                                                                                                        mkdir -p /data/ensembl/99/species/homo_sapiens && wget -t 4 -m -nH --cut-dirs=100 -P /data/ensembl/99/species/homo_sapiens ftp://ftp.ensembl.org/pub/release-99/gtf/homo_sapiens/* && wget -t 4 -m -nH --cut-dirs=100 -P /data/ensembl/99/species/homo_sapiens ftp://ftp.ensembl.org/pub/release-99/fasta/homo_sapiens/* && gunzip -f /data/ensembl/99/species/homo_sapiens/*.gz|                    GRCh38.p13|           ",
            "                             /data/ensembl/99/species/homo_sapiens/Homo_sapiens.GRCh38.dna.primary_assembly.fa|         true|                                                /data/ensembl/99/species/homo_sapiens/Homo_sapiens.GRCh38.cdna.all.fa|       true|                                                /data/ensembl/99/species/homo_sapiens/Homo_sapiens.GRCh38.99.gtf|      true|                                                /data/ensembl/99/species/homo_sapiens/Homo_sapiens.GRCh38.pep.all.fa|      true|\n",
            "+------------------------------+----------------------------------------------------------------------+------------+--------------------------------+-------------------------------------------------------------------------------------------------------------------------------------------------------------------------------------------------------------------------------------------------------------------------------------------------------------------------------------------------------------------------------",
            "-------------------------------------------------------------------------------------------------------------------------+------------------------------+-------------------------------------------------------------------------------------------------------------------------+-------------+---------------------------------------------------------------------------------------------------------------------+-----------+----------------------------------------------------------------------------------------------------------------+----------+--------------------------------------------------------------------------------------------------------------------+----------+\n",
            "only showing top 100 rows\n",
            "\n"
          ],
          "output_type" : "stream"
        }
      ]
    },
    {
      "cell_type" : "code",
      "execution_count" : 15,
      "metadata" : {
        "cell.metadata.exec_info" : {
          "startTs" : 1581548949439,
          "endTs" : 1581548949878
        },
        "language" : "scala"
      },
      "language" : "scala",
      "source" : [
        "genomes.where($\"genome_exists\" === false).show(1000, 10000)"
      ],
      "outputs" : [
        {
          "name" : "stdout",
          "text" : [
            "+---------------+------------------------------------------------------------+------------+----------------------+--------------------------------------------------------------------------------------------------------------------------------------------------------------------------------------------------------------------------------------------------------------------------------------------------------------------------------------------------------------------------------------------------------------------------------------------+----------------------+---------------------------------------------------------------------------------------------------+-------------+-----------------------------------------------------------------------------------------------+-----------+------------------------------------------------------------------------------------------+----------+----------------------------------------------------------------------------------------------+----------+\n",
            "|           name|          ",
            "                                             index|index_exists|               species|                                                                                                                                                                                                                                                                                                                                                                                                                                    download|              assembly|                                                                                             genome|genome_exists|                                                                                           cdna|cdna_exists|                                                                                       gtf|gtf_exists|                                                                                           pep|pep_exists|\n",
            "+---------------+-------------------------------------",
            "-----------------------+------------+----------------------+--------------------------------------------------------------------------------------------------------------------------------------------------------------------------------------------------------------------------------------------------------------------------------------------------------------------------------------------------------------------------------------------------------------------------------------------+----------------------+---------------------------------------------------------------------------------------------------+-------------+-----------------------------------------------------------------------------------------------+-----------+------------------------------------------------------------------------------------------+----------+----------------------------------------------------------------------------------------------+----------+\n",
            "|       Hedgehog|   /data/indexes/salmon/1.1.0/ensembl_99/Erinaceus_europaeus|   ",
            "     true|   erinaceus_europaeus|                  mkdir -p /data/ensembl/99/species/erinaceus_europaeus && wget -t 4 -m -nH --cut-dirs=100 -P /data/ensembl/99/species/erinaceus_europaeus ftp://ftp.ensembl.org/pub/release-99/gtf/erinaceus_europaeus/* && wget -t 4 -m -nH --cut-dirs=100 -P /data/ensembl/99/species/erinaceus_europaeus ftp://ftp.ensembl.org/pub/release-99/fasta/erinaceus_europaeus/* && gunzip -f /data/ensembl/99/species/erinaceus_europaeus/*.gz|               eriEur1|           /data/ensembl/99/species/erinaceus_europaeus/Erinaceus_europaeus.eriEur1.dna.toplevel.fa|        false|           /data/ensembl/99/species/erinaceus_europaeus/Erinaceus_europaeus.eriEur1.cdna.all.fa|      false|           /data/ensembl/99/species/erinaceus_europaeus/Erinaceus_europaeus.eriEur1.99.gtf|     false|           /data/ensembl/99/species/erinaceus_europaeus/Erinaceus_europaeus.eriEur1.pep.all.fa|     false|\n",
            "|       Elephant|    /data/indexes/salmon/1.1.0/ensembl_99/Loxodonta_africana|        true|    loxodonta_afr",
            "icana|                        mkdir -p /data/ensembl/99/species/loxodonta_africana && wget -t 4 -m -nH --cut-dirs=100 -P /data/ensembl/99/species/loxodonta_africana ftp://ftp.ensembl.org/pub/release-99/gtf/loxodonta_africana/* && wget -t 4 -m -nH --cut-dirs=100 -P /data/ensembl/99/species/loxodonta_africana ftp://ftp.ensembl.org/pub/release-99/fasta/loxodonta_africana/* && gunzip -f /data/ensembl/99/species/loxodonta_africana/*.gz|             Loxafr3.0|           /data/ensembl/99/species/loxodonta_africana/Loxodonta_africana.Loxafr3.0.dna.toplevel.fa|        false|           /data/ensembl/99/species/loxodonta_africana/Loxodonta_africana.Loxafr3.0.cdna.all.fa|      false|           /data/ensembl/99/species/loxodonta_africana/Loxodonta_africana.Loxafr3.0.99.gtf|     false|           /data/ensembl/99/species/loxodonta_africana/Loxodonta_africana.Loxafr3.0.pep.all.fa|     false|\n",
            "|   Amazon molly|      /data/indexes/salmon/1.1.0/ensembl_99/Poecilia_formosa|        true|      poecilia_formosa|                     ",
            "               mkdir -p /data/ensembl/99/species/poecilia_formosa && wget -t 4 -m -nH --cut-dirs=100 -P /data/ensembl/99/species/poecilia_formosa ftp://ftp.ensembl.org/pub/release-99/gtf/poecilia_formosa/* && wget -t 4 -m -nH --cut-dirs=100 -P /data/ensembl/99/species/poecilia_formosa ftp://ftp.ensembl.org/pub/release-99/fasta/poecilia_formosa/* && gunzip -f /data/ensembl/99/species/poecilia_formosa/*.gz|Poecilia_formosa-5.1.2|  /data/ensembl/99/species/poecilia_formosa/Poecilia_formosa.Poecilia_formosa-5.1.2.dna.toplevel.fa|        false|  /data/ensembl/99/species/poecilia_formosa/Poecilia_formosa.Poecilia_formosa-5.1.2.cdna.all.fa|      false|  /data/ensembl/99/species/poecilia_formosa/Poecilia_formosa.Poecilia_formosa-5.1.2.99.gtf|     false|  /data/ensembl/99/species/poecilia_formosa/Poecilia_formosa.Poecilia_formosa-5.1.2.pep.all.fa|     false|\n",
            "|Tasmanian devil|  /data/indexes/salmon/1.1.0/ensembl_99/Sarcophilus_harrisii|        true|  sarcophilus_harrisii|            mkdir -p /data/ensembl/99/species/sa",
            "rcophilus_harrisii && wget -t 4 -m -nH --cut-dirs=100 -P /data/ensembl/99/species/sarcophilus_harrisii ftp://ftp.ensembl.org/pub/release-99/gtf/sarcophilus_harrisii/* && wget -t 4 -m -nH --cut-dirs=100 -P /data/ensembl/99/species/sarcophilus_harrisii ftp://ftp.ensembl.org/pub/release-99/fasta/sarcophilus_harrisii/* && gunzip -f /data/ensembl/99/species/sarcophilus_harrisii/*.gz|        Devil_ref v7.0|   /data/ensembl/99/species/sarcophilus_harrisii/Sarcophilus_harrisii.Devil_refv7.0.dna.toplevel.fa|        false|   /data/ensembl/99/species/sarcophilus_harrisii/Sarcophilus_harrisii.Devil_refv7.0.cdna.all.fa|      false|   /data/ensembl/99/species/sarcophilus_harrisii/Sarcophilus_harrisii.Devil_refv7.0.99.gtf|     false|   /data/ensembl/99/species/sarcophilus_harrisii/Sarcophilus_harrisii.Devil_refv7.0.pep.all.fa|     false|\n",
            "|          Shrew|         /data/indexes/salmon/1.1.0/ensembl_99/Sorex_araneus|        true|         sorex_araneus|                                                      mkdir -p /data/ensemb",
            "l/99/species/sorex_araneus && wget -t 4 -m -nH --cut-dirs=100 -P /data/ensembl/99/species/sorex_araneus ftp://ftp.ensembl.org/pub/release-99/gtf/sorex_araneus/* && wget -t 4 -m -nH --cut-dirs=100 -P /data/ensembl/99/species/sorex_araneus ftp://ftp.ensembl.org/pub/release-99/fasta/sorex_araneus/* && gunzip -f /data/ensembl/99/species/sorex_araneus/*.gz|               sorAra1|                       /data/ensembl/99/species/sorex_araneus/Sorex_araneus.sorAra1.dna.toplevel.fa|        false|                       /data/ensembl/99/species/sorex_araneus/Sorex_araneus.sorAra1.cdna.all.fa|      false|                       /data/ensembl/99/species/sorex_araneus/Sorex_araneus.sorAra1.99.gtf|     false|                       /data/ensembl/99/species/sorex_araneus/Sorex_araneus.sorAra1.pep.all.fa|     false|\n",
            "|      Tetraodon|/data/indexes/salmon/1.1.0/ensembl_99/Tetraodon_nigroviridis|        true|tetraodon_nigroviridis|mkdir -p /data/ensembl/99/species/tetraodon_nigroviridis && wget -t 4 -m -nH --cut-dirs=100 -P /data/e",
            "nsembl/99/species/tetraodon_nigroviridis ftp://ftp.ensembl.org/pub/release-99/gtf/tetraodon_nigroviridis/* && wget -t 4 -m -nH --cut-dirs=100 -P /data/ensembl/99/species/tetraodon_nigroviridis ftp://ftp.ensembl.org/pub/release-99/fasta/tetraodon_nigroviridis/* && gunzip -f /data/ensembl/99/species/tetraodon_nigroviridis/*.gz|         TETRAODON 8.0|/data/ensembl/99/species/tetraodon_nigroviridis/Tetraodon_nigroviridis.TETRAODON8.0.dna.toplevel.fa|        false|/data/ensembl/99/species/tetraodon_nigroviridis/Tetraodon_nigroviridis.TETRAODON8.0.cdna.all.fa|      false|/data/ensembl/99/species/tetraodon_nigroviridis/Tetraodon_nigroviridis.TETRAODON8.0.99.gtf|     false|/data/ensembl/99/species/tetraodon_nigroviridis/Tetraodon_nigroviridis.TETRAODON8.0.pep.all.fa|     false|\n",
            "|     Tree Shrew|      /data/indexes/salmon/1.1.0/ensembl_99/Tupaia_belangeri|       false|      tupaia_belangeri|                                    mkdir -p /data/ensembl/99/species/tupaia_belangeri && wget -t 4 -m -nH --cut-dirs=100 -P /dat",
            "a/ensembl/99/species/tupaia_belangeri ftp://ftp.ensembl.org/pub/release-99/gtf/tupaia_belangeri/* && wget -t 4 -m -nH --cut-dirs=100 -P /data/ensembl/99/species/tupaia_belangeri ftp://ftp.ensembl.org/pub/release-99/fasta/tupaia_belangeri/* && gunzip -f /data/ensembl/99/species/tupaia_belangeri/*.gz|               tupBel1|                 /data/ensembl/99/species/tupaia_belangeri/Tupaia_belangeri.tupBel1.dna.toplevel.fa|        false|                 /data/ensembl/99/species/tupaia_belangeri/Tupaia_belangeri.tupBel1.cdna.all.fa|      false|                 /data/ensembl/99/species/tupaia_belangeri/Tupaia_belangeri.tupBel1.99.gtf|     false|                 /data/ensembl/99/species/tupaia_belangeri/Tupaia_belangeri.tupBel1.pep.all.fa|     false|\n",
            "+---------------+------------------------------------------------------------+------------+----------------------+------------------------------------------------------------------------------------------------------------------------------------------------------------",
            "--------------------------------------------------------------------------------------------------------------------------------------------------------------------------------------------------------------------------------------------------------------------------------+----------------------+---------------------------------------------------------------------------------------------------+-------------+-----------------------------------------------------------------------------------------------+-----------+------------------------------------------------------------------------------------------+----------+----------------------------------------------------------------------------------------------+----------+\n",
            "\n"
          ],
          "output_type" : "stream"
        }
      ]
    },
    {
      "cell_type" : "code",
      "execution_count" : 16,
      "metadata" : {
        "cell.metadata.exec_info" : {
          "startTs" : 1581548953218,
          "endTs" : 1581548954045
        },
        "language" : "scala"
      },
      "language" : "scala",
      "source" : [
        "(genomes.select(\"index\", \"index_exists\").where($\"index_exists\" === true).count, \n",
        "genomes.select(\"index\", \"index_exists\").where($\"index_exists\" === false).count)"
      ],
      "outputs" : [
        {
          "execution_count" : 16,
          "data" : {
            "text/plain" : [
              "(264,3)"
            ]
          },
          "metadata" : {
            "name" : "Out",
            "type" : "Tuple2[Long, Long]"
          },
          "output_type" : "execute_result"
        }
      ]
    },
    {
      "cell_type" : "code",
      "execution_count" : 17,
      "metadata" : {
        "cell.metadata.exec_info" : {
          "startTs" : 1581607270835,
          "endTs" : 1581607271119
        },
        "language" : "scala"
      },
      "language" : "scala",
      "source" : [
        "genomes.select(\"index\", \"assembly\", \"index_exists\").withColumn(\"index2\", concat($\"index\" , lit(\"/\") , $\"assembly\")).where($\"index_exists\" === false).show(100,1000)"
      ],
      "outputs" : [
        {
          "name" : "stdout",
          "text" : [
            "+---------------------------------------------------------------+----------+------------+--------------------------------------------------------------------------+\n",
            "|                                                          index|  assembly|index_exists|                                                                    index2|\n",
            "+---------------------------------------------------------------+----------+------------+--------------------------------------------------------------------------+\n",
            "|/data/indexes/salmon/1.1.0/ensembl_99/Erpetoichthys_calabaricus|fErpCal1.1|       false|/data/indexes/salmon/1.1.0/ensembl_99/Erpetoichthys_calabaricus/fErpCal1.1|\n",
            "|              /data/indexes/salmon/1.1.0/ensembl_99/Salmo_salar| ICSASG_v2|       false|               /data/indexes/salmon/1.1.0/ensembl_99/Salmo_salar/ICSASG_v2|\n",
            "|         /data/indexes/salmon/1.1.0/ensembl_99/Tupaia_belangeri|   tupBel1|       false|            /data/indexes/salmon/1.1.0/ensembl_99/Tupaia_belangeri/tupBel1|\n",
            "+---------------------------------",
            "------------------------------+----------+------------+--------------------------------------------------------------------------+\n",
            "\n"
          ],
          "output_type" : "stream"
        }
      ]
    },
    {
      "cell_type" : "code",
      "execution_count" : 18,
      "metadata" : {
        "cell.metadata.exec_info" : {
          "startTs" : 1581545460521,
          "endTs" : 1581545460692
        },
        "language" : "scala"
      },
      "language" : "scala",
      "source" : [
        "genomes.columns.toList"
      ],
      "outputs" : [
        {
          "execution_count" : 18,
          "data" : {
            "text/plain" : [
              "List(name, index, index_exists, species, download, assembly, genome, genome_exists, cdna, cdna_exists, gtf, gtf_exists, pep, pep_exists)"
            ]
          },
          "metadata" : {
            "name" : "Out",
            "type" : "List[String]"
          },
          "output_type" : "execute_result"
        }
      ]
    },
    {
      "cell_type" : "markdown",
      "execution_count" : 19,
      "metadata" : {
        "language" : "text"
      },
      "language" : "text",
      "source" : [
        "**Computing table of files to download**\n",
        "\n",
        "\n"
      ],
      "outputs" : [
      ]
    },
    {
      "cell_type" : "code",
      "execution_count" : 20,
      "metadata" : {
        "cell.metadata.exec_info" : {
          "startTs" : 1581548957484,
          "endTs" : 1581548958558
        },
        "language" : "scala"
      },
      "language" : "scala",
      "source" : [
        "import ammonite.ops._\n",
        "val to_download = genomes.where($\"cdna_exists\" === false).select(\"download\").as[String] \n",
        "val already_downloaded = genomes.where($\"cdna_exists\" === true).select(\"download\").as[String] \n",
        "println(\"ALREADY DOWNLOADED: \"+already_downloaded.count)\n",
        "println(\"TO DOWNLOAD: \"+to_download.count)\n",
        "val str = to_download.as[String].collect.toList.mkString(\"\\n\")\n",
        "genomes.where($\"genome_exists\" === false).select(\"species\").sort($\"species\".asc).show(1000)"
      ],
      "outputs" : [
        {
          "name" : "stdout",
          "text" : [
            "ALREADY DOWNLOADED: 260",
            "\n",
            "TO DOWNLOAD: 7",
            "\n",
            "+--------------------+\n",
            "|             species|\n",
            "+--------------------+\n",
            "| erinaceus_europaeus|\n",
            "|  loxodonta_africana|\n",
            "|    poecilia_formosa|\n",
            "|sarcophilus_harrisii|\n",
            "|       sorex_araneus|\n",
            "|tetraodon_nigrovi...|\n",
            "|    tupaia_belangeri|\n",
            "+--------------------+\n",
            "\n"
          ],
          "output_type" : "stream"
        }
      ]
    },
    {
      "cell_type" : "code",
      "execution_count" : 21,
      "metadata" : {
        "cell.metadata.exec_info" : {
          "startTs" : 1581197642985,
          "endTs" : 1581197644654
        },
        "language" : "scala"
      },
      "language" : "scala",
      "source" : [
        "write.over(Path(\"/data/ensembl/99/selected_download.sh\"), str)"
      ],
      "outputs" : [
      ]
    },
    {
      "cell_type" : "markdown",
      "execution_count" : 22,
      "metadata" : {
        "language" : "text"
      },
      "language" : "text",
      "source" : [
        "<div>Writing json-s for salmon indexes</div>"
      ],
      "outputs" : [
      ]
    },
    {
      "cell_type" : "code",
      "execution_count" : 23,
      "metadata" : {
        "cell.metadata.exec_info" : {
          "startTs" : 1581539611227,
          "endTs" : 1581539611678
        },
        "language" : "scala"
      },
      "language" : "scala",
      "source" : [
        "val already_indexed = genomes.where($\"index_exists\" === true)\n",
        "val to_index = genomes.where($\"index_exists\" === false)\n",
        "println(\"ALREADY INDEXED: \"+already_indexed.count)\n",
        "println(\"TO INDEX: \"+to_index.count)\n"
      ],
      "outputs" : [
        {
          "name" : "stdout",
          "text" : [
            "ALREADY INDEXED: 264\n",
            "TO INDEX: 3\n"
          ],
          "output_type" : "stream"
        }
      ]
    },
    {
      "cell_type" : "code",
      "execution_count" : 24,
      "metadata" : {
        "cell.metadata.exec_info" : {
          "startTs" : 1581608429574,
          "endTs" : 1581608430151
        },
        "language" : "scala"
      },
      "language" : "scala",
      "source" : [
        "val data =  species\n",
        "  .withColumn(\"download\", download($\"species\"))\n",
        "  .withColumn(\"index\", new_index($\"species\"))\n",
        "  .withColumn(\"genome\", genome($\"species\", $\"assembly\"))\n",
        "  .withColumn(\"cdna\", cdna($\"species\", $\"assembly\"))\n",
        "  .withColumn(\"index\", concat($\"index\" , lit(\"/\") , $\"assembly\"))\n",
        "  .select(\"name\", \"species\", \"download\", \"assembly\", \"genome\", \"cdna\") \n",
        "  .as[(String, String, String, String, String , String)].collect.toList\n",
        "  data"
      ],
      "outputs" : [
        {
          "execution_count" : 24,
          "data" : {
            "text/plain" : [
              "List((Spiny chromis,acanthochromis_polyacanthus,mkdir -p /data/ensembl/99/species/acanthochromis_polyacanthus && wget -t 4 -m -nH --cut-dirs=100 -P /data/ensembl/99/species/acanthochromis_polyacanthus ftp://ftp.ensembl.org/pub/release-99/gtf/acanthochrom"
            ]
          },
          "metadata" : {
            "name" : "Out",
            "type" : "List[Tuple6[String, String, String, String, String, String]]"
          },
          "output_type" : "execute_result"
        }
      ]
    },
    {
      "cell_type" : "markdown",
      "execution_count" : 25,
      "metadata" : {
        "language" : "text"
      },
      "language" : "text",
      "source" : [
        "Salmon indexes inputs\n",
        "-----------------------"
      ],
      "outputs" : [
      ]
    },
    {
      "cell_type" : "code",
      "execution_count" : 26,
      "metadata" : {
        "cell.metadata.exec_info" : {
          "startTs" : 1581608432644,
          "endTs" : 1581608432850
        },
        "language" : "scala"
      },
      "language" : "scala",
      "source" : [
        "val by_name = data.map{ case (name, species, download, assembly, genome, cdna) => s\"/data/ensembl/99/inputs/salmon/by_name/${name.replace(\"/\",\"-\")}/${species}_${assembly}.json\".replace(\" \", \"_\") ->  salmonIndex(\"/data/indexes/salmon/1.1.0/ensembl_99\", species, genome, cdna, assembly, \"ensembl_99\") }.toMap\n",
        "val by_species = data.map{ case (name, species, download, assembly, genome, cdna) => s\"/data/ensembl/99/inputs/salmon/by_species/${species}_${assembly}.json\".replace(\" \", \"_\") ->  salmonIndex(\"/data/indexes/salmon/1.1.0/ensembl_99\", species, genome, cdna, assembly, \"ensembl_99\") }.toMap\n"
      ],
      "outputs" : [
      ]
    },
    {
      "cell_type" : "code",
      "execution_count" : 27,
      "metadata" : {
        "cell.metadata.exec_info" : {
          "startTs" : 1581608440140,
          "endTs" : 1581608440284
        },
        "language" : "scala"
      },
      "language" : "scala",
      "source" : [
        "by_name.take(2)"
      ],
      "outputs" : [
        {
          "execution_count" : 27,
          "data" : {
            "text/plain" : [
              "Map(/data/ensembl/99/inputs/salmon/by_name/Cow/bos_taurus_ARS-UCD1.2.json -> \n",
              "{ \"quant_index.indexes_folder\": \"ensembl_99\",  \"quant_index.references\": [\n",
              "    \n",
              "     {\n",
              "      \"species\": \"/data/indexes/salmon/1.1.0/ensembl_99\",\n",
              "      \"genome\": \"bos_taurus\",\n",
              " "
            ]
          },
          "metadata" : {
            "name" : "Out",
            "type" : "Map[String, String]"
          },
          "output_type" : "execute_result"
        }
      ]
    },
    {
      "cell_type" : "code",
      "execution_count" : 28,
      "metadata" : {
        "cell.metadata.exec_info" : {
          "startTs" : 1581608464556,
          "endTs" : 1581608479519
        },
        "language" : "scala"
      },
      "language" : "scala",
      "source" : [
        "import ammonite.ops._\n",
        "for{(d, i) <- by_species} write.over(Path(d), i, createFolders = true)\n",
        "for{(d, i) <- by_name} write.over(Path(d), i, createFolders = true)\n"
      ],
      "outputs" : [
      ]
    },
    {
      "cell_type" : "code",
      "execution_count" : 29,
      "metadata" : {
        "cell.metadata.exec_info" : {
          "startTs" : 1580227261348,
          "endTs" : 1580227261611
        },
        "language" : "scala"
      },
      "language" : "scala",
      "source" : [
        "by_species.keySet"
      ],
      "outputs" : [
        {
          "execution_count" : 29,
          "data" : {
            "text/plain" : [
              "Set(/data/ensembl/99/inputs/salmon/by_species/fundulus_heteroclitus_Fundulus_heteroclitus-3.0.2.json, /data/ensembl/99/inputs/salmon/by_species/oreochromis_niloticus_O_niloticus_UMD_NMBU.json, /data/ensembl/99/inputs/salmon/by_species/haplochromis_burton"
            ]
          },
          "metadata" : {
            "name" : "Out",
            "type" : "Set[String]"
          },
          "output_type" : "execute_result"
        }
      ]
    },
    {
      "cell_type" : "markdown",
      "execution_count" : 30,
      "metadata" : {
        "language" : "text"
      },
      "language" : "text",
      "source" : [
        "<div><b>Salmon indexes batches</b></div><div>---------------------------------<br></div>"
      ],
      "outputs" : [
      ]
    },
    {
      "cell_type" : "code",
      "execution_count" : 31,
      "metadata" : {
        "cell.metadata.exec_info" : {
          "startTs" : 1581608489309,
          "endTs" : 1581608489656
        },
        "language" : "scala"
      },
      "language" : "scala",
      "source" : [
        "val sl = 3\n",
        "val batches = data.map{ case (name, species, download, assembly, genome, cdna) => \n",
        "    gentrome(species, genome, cdna, assembly, \"ensembl_99\") \n",
        "}.sliding(sl, sl).map{case b=>\n",
        "val str = b.mkString(\"[\", \",\", \"]\")\n",
        "s\"\"\"\n",
        "{\n",
        "  \"quant_index_batch.indexes_folder\": \"/data/indexes/salmon/1.1.0/ensembl_99\",\n",
        "  \"quant_index_batch.threads_per_index\": ${32 / sl},\n",
        "  \"quant_index_batch.references\": ${str}\",\n",
        "  \"quant_index_batch.memory_per_index\": \"24G\"\n",
        "}\n",
        "\"\"\"\n",
        "}.toList\n"
      ],
      "outputs" : [
      ]
    },
    {
      "cell_type" : "code",
      "execution_count" : 32,
      "metadata" : {
        "cell.metadata.exec_info" : {
          "startTs" : 1581608493172,
          "endTs" : 1581608493258
        },
        "language" : "scala"
      },
      "language" : "scala",
      "source" : [
        "println(batches.head)"
      ],
      "outputs" : [
        {
          "name" : "stdout",
          "text" : [
            "\n",
            "{\n",
            "  \"quant_index_batch.indexes_folder\": \"/data/indexes/salmon/1.1.0/ensembl_99\",\n",
            "  \"quant_index_batch.threads_per_index\": 10,\n",
            "  \"quant_index_batch.references\": [\n",
            "     {\n",
            "      \"species\": \"acanthochromis_polyacanthus\",\n",
            "      \"genome\": \"/data/ensembl/99/species/acanthochromis_polyacanthus/Acanthochromis_polyacanthus.ASM210954v1.dna.toplevel.fa\",\n",
            "      \"transcriptome\": \"/data/ensembl/99/species/acanthochromis_polyacanthus/Acanthochromis_polyacanthus.ASM210954v1.cdna.all.fa\",\n",
            "      \"version\": \"ASM210954v1\",\n",
            "      \"subversion\": \"ensembl_99\"\n",
            "    },\n",
            "     {\n",
            "      \"species\": \"accipiter_nisus\",\n",
            "      \"genome\": \"/data/ensembl/99/species/accipiter_nisus/Accipiter_nisus.Accipiter_nisus_ver1.0.dna.toplevel.fa\",\n",
            "      \"transcriptome\": \"/data/ensembl/99/species/accipiter_nisus/Accipiter_nisus.Accipiter_nisus_ver1.0.cdna.all.fa\",\n",
            "      \"version\": \"Accipiter_nisus_ver1.0\",\n",
            "      \"subversion\": \"ensembl_99\"\n",
            "    },\n",
            "     {\n",
            "      \"species\": \"ailuropoda_melanoleuca\",\n",
            "      \"genome\": \"/data/ensembl/99/species/ailuropoda_melanoleuca/A",
            "iluropoda_melanoleuca.ailMel1.dna.toplevel.fa\",\n",
            "      \"transcriptome\": \"/data/ensembl/99/species/ailuropoda_melanoleuca/Ailuropoda_melanoleuca.ailMel1.cdna.all.fa\",\n",
            "      \"version\": \"ailMel1\",\n",
            "      \"subversion\": \"ensembl_99\"\n",
            "    }]\",\n",
            "  \"quant_index_batch.memory_per_index\": \"24G\"\n",
            "}\n",
            "\n"
          ],
          "output_type" : "stream"
        }
      ]
    },
    {
      "cell_type" : "markdown",
      "execution_count" : 33,
      "metadata" : {
        "cell.metadata.exec_info" : {
          "startTs" : 1580227261986,
          "endTs" : 1580227262088
        },
        "language" : "text"
      },
      "language" : "text",
      "source" : [
        "Preparing defaults<br>"
      ],
      "outputs" : [
      ]
    },
    {
      "cell_type" : "code",
      "execution_count" : 34,
      "metadata" : {
        "cell.metadata.exec_info" : {
          "startTs" : 1581700073533,
          "endTs" : 1581700079763
        },
        "language" : "scala"
      },
      "language" : "scala",
      "source" : [
        "import spark.implicits._\n",
        "val gs = genomes.withColumn(\"index\", concat($\"index\", lit(\"/\"), $\"assembly\", lit(\"_ensembl_99\"))).select(\"species\", \"index\", \"gtf\").as[(String, String, String)].collect().toList"
      ],
      "outputs" : [
      ]
    },
    {
      "cell_type" : "code",
      "execution_count" : 37,
      "metadata" : {
        "cell.metadata.exec_info" : {
          "startTs" : 1581700079766,
          "endTs" : 1581700079935
        },
        "language" : "scala"
      },
      "language" : "scala",
      "source" : [
        "val salmon_indexes_str = gs.collect{\n",
        "    case (sp, i, _) => \"\\\"\" + sp.head.toUpper + sp.tail.replace(\"_\", \" \") +  \"\\\"\" +\" : \" +  \"\\\"\" + i  + \"\\\"\"\n",
        "}.mkString(\",\\n\")\n",
        "val salmon_gtfs_str = gs.collect{\n",
        "    case (sp, _, gtf) => \"\\\"\" + sp.head.toUpper + sp.tail.replace(\"_\", \" \") +  \"\\\"\" +\" : \" +  \"\\\"\" + gtf  + \"\\\"\"\n",
        "}.mkString(\",\\n\")\n",
        "//salmon_gtfs_str"
      ],
      "outputs" : [
      ]
    },
    {
      "cell_type" : "code",
      "execution_count" : 39,
      "metadata" : {
        "cell.metadata.exec_info" : {
          "startTs" : 1581700079938,
          "endTs" : 1581700080474
        },
        "language" : "scala"
      },
      "language" : "scala",
      "source" : [
        "val quant_sample_default = s\"\"\"\n",
        "    {\n",
        "  \"quant_sample.key\": \"0a1d74f32382b8a154acacc3a024bdce3709\",\n",
        "  \"quant_sample.samples_folder\": \"/data/samples/species\",\n",
        "  \"quant_sample.salmon_indexes\" : {\n",
        "    ${salmon_indexes_str}   \n",
        "  },\n",
        "  \"quant_sample.transcripts2genes\" : {\n",
        "     ${salmon_gtfs_str}\n",
        "  }\n",
        "}\n",
        "\"\"\"\n",
        "write.over(Path(\"/data/pipelines/quant_sample/quant_sample_default.json\"), quant_sample_default, createFolders = true)"
      ],
      "outputs" : [
      ]
    },
    {
      "cell_type" : "code",
      "execution_count" : 38,
      "metadata" : {
        "cell.metadata.exec_info" : {
          "startTs" : 1581700080478,
          "endTs" : 1581700080782
        },
        "language" : "scala"
      },
      "language" : "scala",
      "source" : [
        "val quant_by_runs_default = s\"\"\"\n",
        "    {\n",
        "  \"quant_by_runs.key\": \"0a1d74f32382b8a154acacc3a024bdce3709\",\n",
        "  \"quant_by_runs.samples_folder\": \"/data/samples/species\",\n",
        "  \"quant_by_runs.salmon_indexes\" : {\n",
        "    ${salmon_indexes_str}   \n",
        "  },\n",
        "  \"quant_by_runs.transcripts2genes\" : {\n",
        "     ${salmon_gtfs_str}\n",
        "  }\n",
        "}\n",
        "\"\"\"\n",
        "write.over(Path(\"/data/pipelines/quant_by_runs/quant_by_runs_default.json\"), quant_by_runs_default, createFolders = true)"
      ],
      "outputs" : [
      ]
    },
    {
      "cell_type" : "code",
      "execution_count" : 35,
      "metadata" : {
        "cell.metadata.exec_info" : {
          "startTs" : 1581700080785,
          "endTs" : 1581700081602
        },
        "language" : "scala"
      },
      "language" : "scala",
      "source" : [
        "val quantification_def = s\"\"\"\n",
        "    {\n",
        "  \"quantification.key\": \"0a1d74f32382b8a154acacc3a024bdce3709\",\n",
        "  \"quantification.samples_folder\": \"/data/samples/species\",\n",
        "  \"quantification.salmon_indexes\" : {\n",
        "    ${salmon_indexes_str}   \n",
        "  },\n",
        "  \"quantification.transcripts2genes\" : {\n",
        "     ${salmon_gtfs_str}\n",
        "  }\n",
        "}\n",
        "\"\"\"\n",
        "write.over(Path(\"/data/pipelines/quantification/quantification_default.json\"), quantification_def, createFolders = true)"
      ],
      "outputs" : [
      ]
    },
    {
      "cell_type" : "code",
      "execution_count" : 36,
      "metadata" : {
        "cell.metadata.exec_info" : {
          "startTs" : 1581700081605,
          "endTs" : 1581700081680
        },
        "language" : "scala"
      },
      "language" : "scala",
      "source" : [
      ],
      "outputs" : [
      ]
    },
    {
      "cell_type" : "code",
      "execution_count" : 40,
      "metadata" : {
        "language" : "scala"
      },
      "language" : "scala",
      "source" : [
      ],
      "outputs" : [
      ]
    }
  ]
}