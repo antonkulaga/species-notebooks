{
  "metadata" : {
    "config" : {
      "dependencies" : {
        "scala" : [
          "postgresql:postgresql:9.1-901.jdbc3",
          "group.research.aging:spark-extensions_2.12:0.0.8"
        ]
      },
      "exclusions" : [
      ],
      "repositories" : [
        {
          "maven" : {
            "base" : "http://central.maven.org/maven2/"
          }
        },
        {
          "maven" : {
            "base" : "http://oss.sonatype.org/content/repositories/snapshots"
          }
        },
        {
          "maven" : {
            "base" : "https://dl.bintray.com/comp-bio-aging/main/"
          }
        }
      ],
      "sparkConfig" : {
        "master" : "http://spark:7070[16]"
      }
    }
  },
  "nbformat" : 4,
  "nbformat_minor" : 0,
  "cells" : [
    {
      "cell_type" : "markdown",
      "execution_count" : 0,
      "metadata" : {
        "language" : "text"
      },
      "language" : "text",
      "source" : [
        "<div>Ortho_DB</div><div>-------------<br></div>"
      ],
      "outputs" : [
      ]
    },
    {
      "cell_type" : "code",
      "execution_count" : 1,
      "metadata" : {
        "cell.metadata.exec_info" : {
          "startTs" : 1580531799470,
          "endTs" : 1580531800084
        },
        "language" : "scala"
      },
      "language" : "scala",
      "source" : [
        "import org.apache.spark.rdd._\n",
        "import org.apache.spark.sql._\n",
        "import org.apache.spark.sql.types.StructType\n",
        "import org.apache.spark.sql.functions._\n",
        "import group.research.aging.spark.extensions._"
      ],
      "outputs" : [
      ]
    },
    {
      "cell_type" : "code",
      "execution_count" : 3,
      "metadata" : {
        "cell.metadata.exec_info" : {
          "startTs" : 1580531813085,
          "endTs" : 1580532019705
        },
        "language" : "scala"
      },
      "language" : "scala",
      "source" : [
        "val ortho_table = spark.readTSV(\"/data/ensembl/99/website/intermediates/ortho_table.tsv\", true)"
      ],
      "outputs" : [
      ]
    },
    {
      "cell_type" : "code",
      "execution_count" : 4,
      "metadata" : {
        "cell.metadata.exec_info" : {
          "startTs" : 1580532030984,
          "endTs" : 1580532031296
        },
        "language" : "scala"
      },
      "language" : "scala",
      "source" : [
        "ortho_table.columns.toList"
      ],
      "outputs" : [
        {
          "execution_count" : 4,
          "data" : {
            "text/plain" : [
              "List(gene_member_id, homology_id, stable_id, taxon_id)"
            ]
          },
          "metadata" : {
            "name" : "Out",
            "type" : "List[String]"
          },
          "output_type" : "execute_result"
        }
      ]
    },
    {
      "cell_type" : "code",
      "execution_count" : 5,
      "metadata" : {
        "language" : "scala"
      },
      "language" : "scala",
      "source" : [
        "val one_to_one = ortho_table.groupBy(\"\")"
      ],
      "outputs" : [
      ]
    },
    {
      "cell_type" : "markdown",
      "execution_count" : 6,
      "metadata" : {
        "language" : "text"
      },
      "language" : "text",
      "source" : [
        "<div>Manipulating tables</div><div>----------------------------<br></div>"
      ],
      "outputs" : [
      ]
    },
    {
      "cell_type" : "code",
      "execution_count" : 7,
      "metadata" : {
        "cell.metadata.exec_info" : {
          "startTs" : 1580532127588,
          "endTs" : 1580532127959
        },
        "language" : "scala"
      },
      "language" : "scala",
      "source" : [
        "val url = \"jdbc:postgresql://db:5432/compara_db\"\n",
        "import java.util.Properties\n",
        "val connectionProperties = new Properties()\n",
        "connectionProperties.setProperty(\"driver\", \"org.postgresql.Driver\")\n",
        "connectionProperties.setProperty(\"user\", \"postgres\")\n",
        "connectionProperties.setProperty(\"password\", \"changeme\")"
      ],
      "outputs" : [
        {
          "execution_count" : 7,
          "data" : {
            "text/plain" : [
              "null"
            ]
          },
          "metadata" : {
            "name" : "Out",
            "type" : "Object"
          },
          "output_type" : "execute_result"
        }
      ]
    },
    {
      "cell_type" : "code",
      "execution_count" : 8,
      "metadata" : {
        "cell.metadata.exec_info" : {
          "startTs" : 1580532147521,
          "endTs" : 1580532147688
        },
        "language" : "scala"
      },
      "language" : "scala",
      "source" : [
        "val query = \"homology_one_to_one\""
      ],
      "outputs" : [
      ]
    },
    {
      "cell_type" : "code",
      "execution_count" : 9,
      "metadata" : {
        "cell.metadata.exec_info" : {
          "startTs" : 1580532193897
        },
        "language" : "scala"
      },
      "language" : "scala",
      "source" : [
        "val homology_one_to_one = spark.read.jdbc(url, query, connectionProperties)\n",
        "homology_one_to_one.limit(10).show()"
      ],
      "outputs" : [
      ]
    },
    {
      "cell_type" : "code",
      "execution_count" : 10,
      "metadata" : {
        "language" : "scala"
      },
      "language" : "scala",
      "source" : [
        "val one_to_one = homology_one_to_one.join(ortho_table, \"gene_member_id\"))."
      ],
      "outputs" : [
      ]
    },
    {
      "cell_type" : "code",
      "execution_count" : 11,
      "metadata" : {
        "cell.metadata.exec_info" : {
          "startTs" : 1580494238469,
          "endTs" : 1580494282027
        },
        "language" : "scala"
      },
      "language" : "scala",
      "source" : [
        "//val gene_member = spark.read.jdbc(url, query, connectionProperties)\n",
        "//gene_member.limit(10).show()"
      ],
      "outputs" : [
        {
          "name" : "stdout",
          "text" : [
            "+--------------+------------------+-------+-----------+--------+------------+-------------+-------------------+--------------------+--------------------+-------------+-----------+--------------+-------------+\n",
            "|gene_member_id|         stable_id|version|source_name|taxon_id|genome_db_id|biotype_group|canonical_member_id|         description|          dnafrag_id|dnafrag_start|dnafrag_end|dnafrag_strand|display_label|\n",
            "+--------------+------------------+-------+-----------+--------+------------+-------------+-------------------+--------------------+--------------------+-------------+-----------+--------------+-------------+\n",
            "|             1|ENSTNIG00000004376|      1|ENSEMBLGENE|   99883|          65|       coding|                  1|NADH-ubiquinone o...|4514312.000000000...|         2838|       3812|             1|       mt-nd1|\n",
            "|             2|ENSTNIG00000004377|      1|ENSEMBLGENE|   99883|          65|       coding|                  2|NADH-ubiquinone o...|4514312.000000000...|         4025|       5070|             1|       mt-nd2|\n",
            "|             4|ENSTNIG00000000533|      1|ENSEMBLGENE|   99883|          65|       coding|                  4|cytochrome c oxid...|4514312.000000000...|         5455|       7000|             1|       mt-co1|\n",
            "|             6|ENSTNIG00000000112|      1|ENSEMBLGENE|   99883|          65|       coding|                  6|Cytochrome c oxid...|4514312.000000000...|         7157|       7847|             1|       mt-co2|\n",
            "|             8|ENSTNIG00000001181|      1|ENSEMBLGENE|   99883|          65|       coding|                  9|ATP synthase prot...|4514312.000000000...|         7923|       8090|             1|         null|\n",
            "|             9|ENSTNIG00000000581|      1|ENSEMBLGENE|   99883|          65|       coding|                 11|ATP synthase subu...|4514312.000000000...|         8081|       8764|             1|      mt-atp6|\n",
            "|            10|ENSTNIG00000019783|      1|ENSEMBLGENE|   99883|          65|       coding|                 13|Cytochrome c oxid...|4514312.000000000...|         8764|       9549|             1|       mt-co3|\n",
            "|            12|ENSTNIG00000000069|      1|ENSEMBLGENE|   99883|          65|       coding|                 16|NADH-ubiquinone o...|4514312.000000000...|         9620|       9971|             1|       mt-nd3|\n",
            "|            13|ENSTNIG00000000603|      1|ENSEMBLGENE|   99883|          65|       coding|                 19|NADH dehydrogenas...|4514312.000000000...|        10039|      10335|             1|         ND4L|\n",
            "|            14|ENSTNIG00000001739|      1|ENSEMBLGENE|   99883|          65|       coding|                 22|NADH-ubiquinone o...|4514312.000000000...|        10329|      11710|             1|       mt-nd4|\n",
            "+--------------+------------------+-------+-----------+--------+------------+-------------+-------------------+--------------------+--------------------+-------------+-----------+--------------+-------------+\n",
            "\n"
          ],
          "output_type" : "stream"
        }
      ]
    },
    {
      "cell_type" : "code",
      "execution_count" : 12,
      "metadata" : {
        "cell.metadata.exec_info" : {
          "startTs" : 1580494490040,
          "endTs" : 1580494790431
        },
        "language" : "scala"
      },
      "language" : "scala",
      "source" : [
        "//val homology_to_gene = spark.readTSV(\"/data/ensembl/99/website/intermediates/homology_to_gene.tsv\", false)\n",
        "//homology_to_gene.limit(10).show()"
      ],
      "outputs" : [
        {
          "name" : "stdout",
          "text" : [
            "+---+---------+\n",
            "|_c0|      _c1|\n",
            "+---+---------+\n",
            "|  1|904598023|\n",
            "|  1|904600825|\n",
            "|  2|904598023|\n",
            "|  2|904673717|\n",
            "|  3|904598023|\n",
            "|  3|904706477|\n",
            "|  4|904598023|\n",
            "|  4|904685632|\n",
            "|  5|904508332|\n",
            "|  5|904598023|\n",
            "+---+---------+\n",
            "\n"
          ],
          "output_type" : "stream"
        }
      ]
    },
    {
      "cell_type" : "code",
      "execution_count" : 13,
      "metadata" : {
        "cell.metadata.exec_info" : {
          "startTs" : 1580494872384,
          "endTs" : 1580513644386
        },
        "language" : "scala"
      },
      "language" : "scala",
      "source" : [
        "//val ortho_table = homology_to_gene.toDF(\"homology_id\",\"gene_member_id\").join(gene_member.select(\"gene_member_id\", \"stable_id\", \"taxon_id\"), \"gene_member_id\")\n",
        "//ortho_table.writeTSV(\"/data/ensembl/99/website/intermediates/ortho_table.tsv\")"
      ],
      "outputs" : [
        {
          "name" : "stdout",
          "text" : [
            "parts of /data/ensembl/99/website/intermediates/ortho_table.tsv merged!\n"
          ],
          "output_type" : "stream"
        },
        {
          "execution_count" : 13,
          "data" : {
            "text/plain" : [
              "/data/ensembl/99/website/intermediates/ortho_table.tsv"
            ]
          },
          "metadata" : {
            "name" : "Out",
            "type" : "String"
          },
          "output_type" : "execute_result"
        }
      ]
    }
  ]
}