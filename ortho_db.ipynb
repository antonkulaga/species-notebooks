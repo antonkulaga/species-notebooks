{
  "metadata" : {
    "config" : {
      "dependencies" : {
        "scala" : [
          "postgresql:postgresql:9.1-901-1.jdbc4",
          "group.research.aging:spark-extensions_2.12:0.0.8"
        ]
      },
      "exclusions" : [
      ],
      "repositories" : [
        {
          "maven" : {
            "base" : "http://central.maven.org/maven2/"
          }
        },
        {
          "maven" : {
            "base" : "http://oss.sonatype.org/content/repositories/snapshots"
          }
        },
        {
          "maven" : {
            "base" : "https://dl.bintray.com/comp-bio-aging/main/"
          }
        }
      ],
      "sparkConfig" : {
        "master" : "http://spark:7070[16]"
      }
    }
  },
  "nbformat" : 4,
  "nbformat_minor" : 0,
  "cells" : [
    {
      "cell_type" : "markdown",
      "execution_count" : 0,
      "metadata" : {
        "language" : "text"
      },
      "language" : "text",
      "source" : [
        "# ortho db\n",
        "\n",
        "This is a text cell. Start editing!"
      ],
      "outputs" : [
      ]
    },
    {
      "cell_type" : "code",
      "execution_count" : 1,
      "metadata" : {
        "cell.metadata.exec_info" : {
          "startTs" : 1580492273017,
          "endTs" : 1580492274801
        },
        "language" : "scala"
      },
      "language" : "scala",
      "source" : [
        "// Note: JDBC loading and saving can be achieved via either the load/save or jdbc methods\n",
        "// Loading data from a JDBC source\n",
        "val gene_members = spark.read\n",
        "  .format(\"jdbc\")\n",
        "  .option(\"url\", \"jdbc:postgresql:db:5432\")\n",
        "  .option(\"dbtable\", \"comparadb.gene_member\")\n",
        "  .option(\"user\", \"postgres\")\n",
        "  .option(\"password\", \"changeme\")\n",
        "  .load()\n"
      ],
      "outputs" : [
        {
          "ename" : "java.sql.SQLException",
          "evalue" : "No suitable driver",
          "traceback" : [
          ],
          "output_type" : "error"
        }
      ]
    }
  ]
}