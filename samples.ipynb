{
  "metadata" : {
    "config" : {
      "dependencies" : {
        "scala" : [
          "group.research.aging:spark-extensions_2.12:0.0.8"
        ]
      },
      "exclusions" : [
      ],
      "repositories" : [
        {
          "maven" : {
            "base" : "https://dl.bintray.com/comp-bio-aging/main/"
          }
        }
      ],
      "sparkConfig" : {
        "master" : "http://spark:7070[2]"
      }
    }
  },
  "nbformat" : 4,
  "nbformat_minor" : 0,
  "cells" : [
    {
      "cell_type" : "markdown",
      "execution_count" : 0,
      "metadata" : {
        "language" : "text"
      },
      "language" : "text",
      "source" : [
        "# Samples processing<br>\n",
        "\n",
        "\n",
        "This is a text cell. Start editing!\n",
        "\n",
        "\n"
      ],
      "outputs" : [
      ]
    },
    {
      "cell_type" : "code",
      "execution_count" : 1,
      "metadata" : {
        "cell.metadata.exec_info" : {
          "startTs" : 1579456958614,
          "endTs" : 1579456958941
        },
        "language" : "scala"
      },
      "language" : "scala",
      "source" : [
        "import org.apache.spark.rdd._\n",
        "import org.apache.spark.sql._\n",
        "import org.apache.spark.sql.types.StructType\n",
        "import org.apache.spark.sql.functions._\n",
        "import group.research.aging.spark.extensions._"
      ],
      "outputs" : [
      ]
    },
    {
      "cell_type" : "markdown",
      "execution_count" : 2,
      "metadata" : {
        "language" : "text"
      },
      "language" : "text",
      "source" : [
        "<div>Samples</div><div>------------<br></div>"
      ],
      "outputs" : [
      ]
    },
    {
      "cell_type" : "code",
      "execution_count" : 3,
      "metadata" : {
        "cell.metadata.exec_info" : {
          "startTs" : 1579483326496,
          "endTs" : 1579483326991
        },
        "language" : "scala"
      },
      "language" : "scala",
      "source" : [
        "val samples = spark.readTSV(\"/data/samples/species/species.tsv\", headers=true).na.fill(\"N/A\")\n",
        "  .where($\"index\" =!= \"N/A\")\n",
        "  .where($\"library_strategy\" === \"RNA-Seq\")\n",
        "  .sort($\"organism\".desc, $\"library_layout\")\n",
        "samples"
      ],
      "outputs" : [
        {
          "execution_count" : 3,
          "data" : {
            "text/plain" : [
              "[bioproject: string, series: string ... 24 more fields]"
            ]
          },
          "metadata" : {
            "name" : "Out",
            "type" : "Dataset[Row]"
          },
          "output_type" : "execute_result"
        }
      ]
    },
    {
      "cell_type" : "code",
      "execution_count" : 4,
      "metadata" : {
        "cell.metadata.exec_info" : {
          "startTs" : 1579483382967,
          "endTs" : 1579483383294
        },
        "language" : "scala"
      },
      "language" : "scala",
      "source" : [
        "samples.sort($\"organism\".desc)"
      ],
      "outputs" : [
        {
          "execution_count" : 4,
          "data" : {
            "text/plain" : [
              "[bioproject: string, series: string ... 24 more fields]"
            ]
          },
          "metadata" : {
            "name" : "Out",
            "type" : "Dataset[Row]"
          },
          "output_type" : "execute_result"
        }
      ]
    },
    {
      "cell_type" : "code",
      "execution_count" : 5,
      "metadata" : {
        "cell.metadata.exec_info" : {
          "startTs" : 1579484857653,
          "endTs" : 1579484858088
        },
        "language" : "scala"
      },
      "language" : "scala",
      "source" : [
        "samples.writeTSV(\"/data/samples/samples_partial.csv\", sep=\",\")"
      ],
      "outputs" : [
        {
          "name" : "stdout",
          "text" : [
            "parts of /data/samples/samples_partial.csv merged!\n"
          ],
          "output_type" : "stream"
        },
        {
          "execution_count" : 5,
          "data" : {
            "text/plain" : [
              "/data/samples/samples_partial.csv"
            ]
          },
          "metadata" : {
            "name" : "Out",
            "type" : "String"
          },
          "output_type" : "execute_result"
        }
      ]
    },
    {
      "cell_type" : "code",
      "execution_count" : 6,
      "metadata" : {
        "jupyter.source_hidden" : true,
        "cell.metadata.exec_info" : {
          "startTs" : 1579483425362,
          "endTs" : 1579483426388
        },
        "language" : "scala"
      },
      "language" : "scala",
      "source" : [
        "val counts = samples.groupBy(\"organism\").count().orderBy($\"count\".desc)\n",
        "counts.show(1000, false)"
      ],
      "outputs" : [
        {
          "name" : "stdout",
          "text" : [
            "+------------------------+-----+\n",
            "|organism                |count|\n",
            "+------------------------+-----+\n",
            "|Homo sapiens            |93   |\n",
            "|Rattus norvegicus       |74   |\n",
            "|Heterocephalus glaber   |15   |\n",
            "|Ovis aries              |12   |\n",
            "|Gorilla gorilla         |10   |\n",
            "|Callithrix jacchus      |10   |\n",
            "|Equus caballus          |9    |\n",
            "|Mus caroli              |8    |\n",
            "|Oryctolagus cuniculus   |7    |\n",
            "|Macaca mulatta          |7    |\n",
            "|Pan troglodytes         |7    |\n",
            "|Felis catus             |7    |\n",
            "|Gallus gallus           |6    |\n",
            "|Sus scrofa              |6    |\n",
            "|Pan paniscus            |6    |\n",
            "|Cavia porcellus         |5    |\n",
            "|Macaca nemestrina       |5    |\n",
            "|Macaca fascicularis     |5    |\n",
            "|Mus musculus            |5    |\n",
            "|Ursus americanus        |5    |\n",
            "|Mesocricetus auratus    |4    |\n",
            "|Canis lupus familiaris  |4    |\n",
            "|Coturnix japonica       |4    |\n",
            "|Capra hircus            |4    |\n",
            "|Meleagris gallopavo     |3    |\n",
            "|Monodelphis domestica   |3    |\n",
            "|Microcebus murinus      |3    |\n",
            "|Bos taurus              |3    |\n",
            "|Parus major             |2    |\n",
            "|Notamacropus eugenii    |2    |\n",
            "|Ornithorhynchus anatinus|1    |\n",
            "+------------------------+-----+\n",
            "\n"
          ],
          "output_type" : "stream"
        }
      ]
    },
    {
      "cell_type" : "markdown",
      "execution_count" : 7,
      "metadata" : {
        "language" : "text"
      },
      "language" : "text",
      "source" : [
        "<div>Species</div><div>-----------<br></div>"
      ],
      "outputs" : [
      ]
    },
    {
      "cell_type" : "code",
      "execution_count" : 8,
      "metadata" : {
        "cell.metadata.exec_info" : {
          "startTs" : 1579478534923,
          "endTs" : 1579478535490
        },
        "language" : "scala"
      },
      "language" : "scala",
      "source" : [
        "val anage = spark.readTSV(\"/data/databases/anage/anage_data.tsv\", headers = true)\n",
        " .withColumn(\"scientific_name\", concat($\"Genus\", lit(\" \"), $\"Species\"))\n",
        "anage.show()"
      ],
      "outputs" : [
        {
          "name" : "stdout",
          "text" : [
            "+------+--------+----------+------------+-----------+--------------+-------------+------------+--------------------+----------------------+--------------------+---------------------------+--------------+------------------+-------------------------+--------------------------------+----------------+------------------+----------------+--------------------+-----------------------+------+---------------+-----------+------------+------------+----------+------------------+-------------+---------------+--------------------+--------------------+\n",
            "|HAGRID| Kingdom|    Phylum|       Class|      Order|        Family|        Genus|     Species|         Common name|Female maturity (days)|Male maturity (days)|Gestation/Incubation (days)|Weaning (days)|Litter/Clutch size|Litters/Clutches per year|Inter-litter/Interbirth interval|Birth weight (g)|Weaning weight (g)|Adult weight (g)|Growth rate (1/days)|Maximum longevity (yrs)|Source|Specimen origin|Sample size|Data quality|IMR (per yr)|MRDT (yrs)|Metabolic rate (W)|Body mass (g)|Temperature (K)|          References|     scientific_name|\n",
            "+------+--------+----------+------------+-----------+--------------+-------------+------------+--------------------+----------------------+--------------------+---------------------------+--------------+------------------+-------------------------+--------------------------------+----------------+------------------+----------------+--------------------+-----------------------+------+---------------+-----------+------------+------------+----------+------------------+-------------+---------------+--------------------+--------------------+\n",
            "|     3|Animalia|Arthropoda|Branchiopoda|Diplostraca|    Daphniidae|      Daphnia|   pulicaria|             Daphnia|                  null|                null|                       null|          null|              null|                     null|                            null|            null|              null|            null|                null|                   0.19|  null|        unknown|     medium|  acceptable|        null|      null|              null|         null|           null|      1294,1295,1296|   Daphnia pulicaria|\n",
            "|     5|Animalia|Arthropoda|     Insecta|    Diptera| Drosophilidae|   Drosophila|melanogaster|           Fruit fly|                     7|                   7|                       null|          null|              null|                     null|                            null|            null|              null|            null|                null|                    0.3|  null|      captivity|      large|  acceptable|        0.05|      0.04|              null|         null|           null|2,20,32,47,53,68,...|Drosophila melano...|\n",
            "|     6|Animalia|Arthropoda|     Insecta|Hymenoptera|        Apidae|         Apis|   mellifera|           Honey bee|                  null|                null|                       null|          null|              null|                     null|                            null|            null|              null|            null|                null|                    8.0|   812|        unknown|     medium|  acceptable|        null|      null|              null|         null|           null|63,407,408,741,80...|      Apis mellifera|\n",
            "|     8|Animalia|Arthropoda|     Insecta|Hymenoptera|    Formicidae|Cardiocondyla|   obscurior|Cardiocondyla obs...|                  null|                null|                       null|          null|              null|                     null|                            null|            null|              null|            null|                null|                    0.5|  1293|      captivity|     medium|  acceptable|        null|      null|              null|         null|           null|                1293|Cardiocondyla obs...|\n",
            "|     9|Animalia|Arthropoda|     Insecta|Hymenoptera|    Formicidae|       Lasius|       niger|    Black garden ant|                  null|                null|                       null|          null|              null|                     null|                            null|            null|              null|            null|                null|                   28.0|   411|        unknown|     medium|  acceptable|        null|      null|              null|         null|           null|         411,813,814|        Lasius niger|\n",
            "|    10|Animalia|Arthropoda|     Insecta|Hymenoptera|    Formicidae|     Pheidole|     dentata|    Pheidole dentata|                  null|                null|                       null|          null|              null|                     null|                            null|            null|              null|            null|                null|                    0.4|  1156|      captivity|     medium|questionable|        null|      null|              null|         null|           null|                1156|    Pheidole dentata|\n",
            "|    11|Animalia|Arthropoda|     Insecta|Lepidoptera|   Nymphalidae|     Bicyclus|     anynana|Squinting bush brown|                    15|                  15|                       null|          null|              null|                     null|                            null|            null|              null|            null|                null|                    0.5|   811|           wild|     medium|  acceptable|        null|      null|              null|         null|           null|         418,809,811|    Bicyclus anynana|\n",
            "|    12|Animalia|Arthropoda|Malacostraca|   Decapoda|   Nephropidae|      Homarus|  americanus|    American lobster|                  null|                null|                       null|          null|              null|                     null|                            null|            null|              null|            null|                null|                  100.0|     2|           wild|     medium|  acceptable|        null|      null|              null|         null|           null|            2,13,594|  Homarus americanus|\n",
            "|    15|Animalia|  Chordata|    Amphibia|      Anura|Bombinatoridae|      Bombina|     bombina|      Firebelly toad|                  1095|                1095|                       null|          null|             190.0|                     null|                            null|            null|              null|            null|                null|                   20.0|   485|      captivity|     medium|  acceptable|        null|      null|              null|         null|           null|         485,525,749|     Bombina bombina|\n",
            "|    16|Animalia|  Chordata|    Amphibia|      Anura|Bombinatoridae|      Bombina|  orientalis|Oriental firebell...|                  null|                null|                       null|          null|             148.0|                     null|                            null|            null|              null|            null|                null|                   15.8|   451|      captivity|      large|  acceptable|        null|      null|              null|         null|           null|         451,525,749|  Bombina orientalis|\n",
            "|    17|Animalia|  Chordata|    Amphibia|      Anura|Bombinatoridae|      Bombina|   variegata| Yellow-bellied toad|                  null|                null|                       null|          null|              73.0|                     null|                            null|            null|              null|            null|                null|                   29.0|  null|      captivity|     medium|  acceptable|        null|      null|              null|         null|           null|          24,525,749|   Bombina variegata|\n",
            "|    18|Animalia|  Chordata|    Amphibia|      Anura|     Bufonidae|     Anaxyrus|  americanus|       American toad|                   910|                 910|                          8|          null|            6000.0|                     null|                             365|            null|              null|         21.7667|                null|                   36.0|   525|      captivity|     medium|  acceptable|        null|      null|           0.00829|         21.6|          288.0|  37,268,426,525,749| Anaxyrus americanus|\n",
            "|    19|Animalia|  Chordata|    Amphibia|      Anura|     Bufonidae|     Anaxyrus|      boreas|        Western toad|                  1095|                1095|                          6|          null|            5200.0|                     null|                            null|            null|              null|            null|                null|                   11.5|   451|      captivity|     medium|  acceptable|        null|      null|              null|         null|           null|     437,451,526,749|     Anaxyrus boreas|\n",
            "|    20|Animalia|  Chordata|    Amphibia|      Anura|     Bufonidae|     Anaxyrus|     canorus|       Yosemite toad|                  1825|                1460|                         11|          null|            1750.0|                     null|                            null|            null|              null|            null|                null|                   15.0|   503|           wild|     medium|  acceptable|        null|      null|              null|         null|           null|         503,526,749|    Anaxyrus canorus|\n",
            "|    21|Animalia|  Chordata|    Amphibia|      Anura|     Bufonidae|     Anaxyrus|    cognatus|   Great plains toad|                   730|                 730|                          4|          null|           11074.0|                     null|                            null|            null|              null|            null|                null|                   10.7|   485|      captivity|      small|questionable|        null|      null|              null|         null|           null|         485,526,749|   Anaxyrus cognatus|\n",
            "|    22|Animalia|  Chordata|    Amphibia|      Anura|     Bufonidae|     Anaxyrus|     debilis|          Green toad|                  null|                null|                       null|          null|            1300.0|                     null|                            null|            null|              null|            null|                null|                   12.4|   451|      captivity|      small|  acceptable|        null|      null|              null|         null|           null|             451,749|    Anaxyrus debilis|\n",
            "|    23|Animalia|  Chordata|    Amphibia|      Anura|     Bufonidae|     Anaxyrus|  hemiophrys|       Canadian toad|                   730|                 730|                       null|          null|              null|                     null|                            null|            null|              null|            null|                null|                   13.3|   451|      captivity|      small|  acceptable|        null|      null|              null|         null|           null|             451,528| Anaxyrus hemiophrys|\n",
            "|    24|Animalia|  Chordata|    Amphibia|      Anura|     Bufonidae|     Anaxyrus|   punctatus|    Red-spotted toad|                   730|                 730|                       null|          null|            1500.0|                     null|                            null|            null|              null|            null|                null|                   11.3|   485|      captivity|     medium|  acceptable|        null|      null|              null|         null|           null|             485,749|  Anaxyrus punctatus|\n",
            "|    25|Animalia|  Chordata|    Amphibia|      Anura|     Bufonidae|     Anaxyrus|  retiformis|  Sonoran green toad|                  null|                null|                          2|          null|              null|                     null|                            null|            null|              null|            null|                null|                   15.3|   451|      captivity|      small|  acceptable|        null|      null|              null|         null|           null|             451,749| Anaxyrus retiformis|\n",
            "|    26|Animalia|  Chordata|    Amphibia|      Anura|     Bufonidae|     Anaxyrus|  terrestris|       Southern toad|                  null|                null|                          3|          null|            3250.0|                     null|                            null|            null|              null|          19.267|                null|                   10.0|   451|      captivity|     medium|  acceptable|        null|      null|           0.00698|         19.2|          288.0|          37,451,749| Anaxyrus terrestris|\n",
            "+------+--------+----------+------------+-----------+--------------+-------------+------------+--------------------+----------------------+--------------------+---------------------------+--------------+------------------+-------------------------+--------------------------------+----------------+------------------+----------------+--------------------+-----------------------+------+---------------+-----------+------------+------------+----------+------------------+-------------+---------------+--------------------+--------------------+\n",
            "only showing top 20 rows\n",
            "\n"
          ],
          "output_type" : "stream"
        }
      ]
    },
    {
      "cell_type" : "markdown",
      "execution_count" : 9,
      "metadata" : {
        "language" : "text"
      },
      "language" : "text",
      "source" : [
        "<div>Indexed species</div><div>----------------------<br></div>"
      ],
      "outputs" : [
      ]
    },
    {
      "cell_type" : "code",
      "execution_count" : 10,
      "metadata" : {
        "cell.metadata.exec_info" : {
          "startTs" : 1579478790951,
          "endTs" : 1579478791526
        },
        "language" : "scala"
      },
      "language" : "scala",
      "source" : [
        "val indexes = spark.readTSV(\"/data/indexes/salmon/1.0.0/ensembl_97/salmon_indexes.tsv\").as[String].map(_.replace(\"_\", \" \")).toDF(\"scientific_name\")\n",
        "indexes.show()"
      ],
      "outputs" : [
        {
          "name" : "stdout",
          "text" : [
            "+--------------------+\n",
            "|     scientific_name|\n",
            "+--------------------+\n",
            "|Acanthochromis po...|\n",
            "|Ailuropoda melano...|\n",
            "|Amphilophus citri...|\n",
            "|Amphiprion ocellaris|\n",
            "|  Amphiprion percula|\n",
            "|  Anabas testudineus|\n",
            "|Anas platyrhyncho...|\n",
            "| Anolis carolinensis|\n",
            "|Anser brachyrhynchus|\n",
            "|     Aotus nancymaae|\n",
            "|     Apteryx haastii|\n",
            "|      Apteryx owenii|\n",
            "|        Apteryx rowi|\n",
            "|Astatotilapia cal...|\n",
            "|  Astyanax mexicanus|\n",
            "|   Bison bison bison|\n",
            "|  Bos indicus hybrid|\n",
            "|           Bos mutus|\n",
            "|          Bos taurus|\n",
            "|   Bos taurus hybrid|\n",
            "+--------------------+\n",
            "only showing top 20 rows\n",
            "\n"
          ],
          "output_type" : "stream"
        }
      ]
    },
    {
      "cell_type" : "code",
      "execution_count" : 11,
      "metadata" : {
        "cell.metadata.exec_info" : {
          "startTs" : 1579481079204,
          "endTs" : 1579481079647
        },
        "language" : "scala"
      },
      "language" : "scala",
      "source" : [
        "val indexed_species = indexes.join(anage, \"scientific_name\")\n",
        "  .withColumn(\"url\", concat(lit(\"https://www.ensembl.org/\"), $\"Genus\", lit(\"_\"), $\"Species\"))\n",
        "  .sort($\"Class\", $\"Maximum longevity (yrs)\".desc)\n",
        "  .select(\n",
        "      $\"scientific_name\".as(\"scientific_name\").as[String], \n",
        "      $\"Common name\".as(\"common_name\").as[String],\n",
        "      $\"url\".as[String],\n",
        "  $\"Class\".as(\"class\").as[String], \n",
        "  $\"Maximum longevity (yrs)\".as(\"lifespan\").as[String],\n",
        "  $\"Body mass (g)\".as(\"mass_g\").as[String],\n",
        "  $\"Metabolic rate (W)\".as(\"metabolic_rate\"),\n",
        "  $\"Temperature (K)\".as(\"temperature_k\"),\n",
        "  $\"Specimen origin\".as(\"specimen_origin\").as[String],\n",
        "  $\"Sample size\".as(\"sample_size\").as[String],\n",
        "  $\"Data quality\".as(\"data_quality\").as[String]\n",
        "  )\n",
        "indexed_species"
      ],
      "outputs" : [
        {
          "execution_count" : 11,
          "data" : {
            "text/plain" : [
              "[scientific_name: string, common_name: string ... 9 more fields]"
            ]
          },
          "metadata" : {
            "name" : "Out",
            "type" : "DataFrame"
          },
          "output_type" : "execute_result"
        }
      ]
    },
    {
      "cell_type" : "code",
      "execution_count" : 12,
      "metadata" : {
        "cell.metadata.exec_info" : {
          "startTs" : 1579481104770,
          "endTs" : 1579481105438
        },
        "language" : "scala"
      },
      "language" : "scala",
      "source" : [
        "indexed_species.writeTSV(\"/data/indexes/salmon/1.0.0/ensembl_97/indexed_species.tsv\", true)"
      ],
      "outputs" : [
        {
          "name" : "stdout",
          "text" : [
            "parts of /data/indexes/salmon/1.0.0/ensembl_97/indexed_species.tsv merged!\n"
          ],
          "output_type" : "stream"
        },
        {
          "execution_count" : 12,
          "data" : {
            "text/plain" : [
              "/data/indexes/salmon/1.0.0/ensembl_97/indexed_species.tsv"
            ]
          },
          "metadata" : {
            "name" : "Out",
            "type" : "String"
          },
          "output_type" : "execute_result"
        }
      ]
    },
    {
      "cell_type" : "code",
      "execution_count" : 13,
      "metadata" : {
        "cell.metadata.exec_info" : {
          "startTs" : 1579484143641,
          "endTs" : 1579484144572
        },
        "language" : "scala"
      },
      "language" : "scala",
      "source" : [
        "val samples_partial = indexed_species.join(samples.withColumnRenamed(\"organism\",\"scientific_name\"), \"scientific_name\").sort(\"class\", \"lifespan\")\n",
        "samples_partial.show()"
      ],
      "outputs" : [
        {
          "name" : "stdout",
          "text" : [
            "+-------------------+--------------+--------------------+--------+--------+------+--------------+-------------+---------------+-----------+------------+-----------+-----------+----------+-----+--------------------+-------------------+----------------+--------------+------------------+---------+--------------------+--------------------+-----------+-------------+-------+-----+--------------------+--------------+--------------------+--------------------+--------------------+--------------------+-------+-------------+--------------------+\n",
            "|    scientific_name|   common_name|                 url|   class|lifespan|mass_g|metabolic_rate|temperature_k|specimen_origin|sample_size|data_quality| bioproject|     series|       run|taxid|         sample_name|          sequencer|library_strategy|library_layout| library_selection|    study|         study_title|     characteristics|     source|          age|    sex|tumor|            protocol|salmon_version|               index|               genes|         transcripts|               quant|libType|numBootstraps|            modified|\n",
            "+-------------------+--------------+--------------------+--------+--------+------+--------------+-------------+---------------+-----------+------------+-----------+-----------+----------+-----+--------------------+-------------------+----------------+--------------+------------------+---------+--------------------+--------------------+-----------+-------------+-------+-----+--------------------+--------------+--------------------+--------------------+--------------------+--------------------+-------+-------------+--------------------+\n",
            "|  Coturnix japonica|Japanese quail|https://www.ensem...|    Aves|     6.0|  null|          null|         null|        unknown|     medium|  acceptable|PRJNA296888|PRJNA296888|SRR2968903|93934|QuailConsDD7356Liver|Illumina HiSeq 2000|         RNA-Seq|        PAIRED|            RANDOM|SRP066885|Coturnix japonica...|'Tumor:no;strain:...|      Liver|    15 months|   male|   no|                 N/A|         1.1.0|Coturnix_japonica...|/data/samples/spe...|/data/samples/spe...|/data/samples/spe...|      A|          128|2019-12-23 19:16:...|\n",
            "|  Coturnix japonica|Japanese quail|https://www.ensem...|    Aves|     6.0|  null|          null|         null|        unknown|     medium|  acceptable|PRJNA296888|PRJNA296888|SRR2968905|93934|QuailConsDD7356Liver|Illumina HiSeq 2000|         RNA-Seq|        PAIRED|            RANDOM|SRP066885|Coturnix japonica...|'Tumor:no;strain:...|      Liver|    15 months|   male|   no|                 N/A|         1.1.0|Coturnix_japonica...|/data/samples/spe...|/data/samples/spe...|/data/samples/spe...|      A|          128|2019-12-23 20:09:...|\n",
            "|  Coturnix japonica|Japanese quail|https://www.ensem...|    Aves|     6.0|  null|          null|         null|        unknown|     medium|  acceptable|PRJNA296888|PRJNA296888|SRR2968904|93934|QuailConsDD7356Ki...|Illumina HiSeq 2000|         RNA-Seq|        PAIRED|            RANDOM|SRP066885|Coturnix japonica...|'Tumor:no;strain:...|     Kidney|    15 months|   male|   no|                 N/A|         1.1.0|Coturnix_japonica...|/data/samples/spe...|/data/samples/spe...|/data/samples/spe...|      A|          128|2019-12-23 20:54:...|\n",
            "|  Coturnix japonica|Japanese quail|https://www.ensem...|    Aves|     6.0|  null|          null|         null|        unknown|     medium|  acceptable|PRJNA296888|PRJNA296888|SRR2968870|93934|QuailConsDD7356Ki...|Illumina HiSeq 2500|         RNA-Seq|        PAIRED|            RANDOM|SRP066885|Coturnix japonica...|'Tumor:no;strain:...|     Kidney|    15 months|   male|   no|                 N/A|         1.1.0|Coturnix_japonica...|/data/samples/spe...|/data/samples/spe...|/data/samples/spe...|      A|          128|2019-12-23 19:49:...|\n",
            "|Meleagris gallopavo|   Wild turkey|https://www.ensem...|    Aves|    13.0|  null|          null|         null|           wild|     medium|  acceptable|PRJNA342653|PRJNA342653|SRR4244351| 9103|                 N3L|Illumina HiSeq 2000|         RNA-Seq|        PAIRED|size fractionation|SRP089918|Functional genomi...|'Tumor:no;treatme...|      liver|       24 day|   male|   no|                 N/A|         1.1.0|Turkey_2.01_ensem...|/data/samples/spe...|/data/samples/spe...|/data/samples/spe...|      A|          128|2019-12-23 20:36:...|\n",
            "|Meleagris gallopavo|   Wild turkey|https://www.ensem...|    Aves|    13.0|  null|          null|         null|           wild|     medium|  acceptable|PRJNA342653|PRJNA342653|SRR4244328| 9103|                EW4L|Illumina HiSeq 2000|         RNA-Seq|        PAIRED|size fractionation|SRP089918|Functional genomi...|'Tumor:no;treatme...|      liver|       24 day|   male|   no|                 N/A|         1.1.0|Turkey_2.01_ensem...|/data/samples/spe...|/data/samples/spe...|/data/samples/spe...|      A|          128|2019-12-23 21:08:...|\n",
            "|Meleagris gallopavo|   Wild turkey|https://www.ensem...|    Aves|    13.0|  null|          null|         null|           wild|     medium|  acceptable|PRJNA342653|PRJNA342653|SRR4244360| 9103|                EW2L|Illumina HiSeq 2000|         RNA-Seq|        PAIRED|size fractionation|SRP089918|Functional genomi...|'Tumor:no;treatme...|      liver|       24 day|   male|   no|                 N/A|         1.1.0|Turkey_2.01_ensem...|/data/samples/spe...|/data/samples/spe...|/data/samples/spe...|      A|          128|2019-12-23 19:18:...|\n",
            "|        Parus major|     Great tit|https://www.ensem...|    Aves|    15.4|  null|          null|         null|           wild|      large|  acceptable|PRJNA314210|PRJNA314210|SRR3955377| 9157|        Urban6_liver|Illumina HiSeq 2000|         RNA-Seq|        PAIRED|             PolyA|SRP079859|Parus major urban...|'Tumor:no;geo_loc...|      liver|           2K|   male|   no|                 N/A|         1.1.0|Parus_major1.1_en...|/data/samples/spe...|/data/samples/spe...|/data/samples/spe...|      A|          128|2019-12-23 20:16:...|\n",
            "|        Parus major|     Great tit|https://www.ensem...|    Aves|    15.4|  null|          null|         null|           wild|      large|  acceptable|PRJNA293021|PRJNA293021|SRR2170833| 9157|               BJ02L|Illumina HiSeq 2000|         RNA-Seq|        PAIRED|       unspecified|SRP062466|Parus major Trans...|'Tumor:no;strain:...|       lung|          N/A|missing|   no|                 N/A|         1.1.0|Parus_major1.1_en...|/data/samples/spe...|/data/samples/spe...|/data/samples/spe...|      A|          128|2019-12-23 22:05:...|\n",
            "|      Gallus gallus|Red junglefowl|https://www.ensem...|    Aves|    30.0|2710.0|         6.005|         null|      captivity|      large|  acceptable|PRJNA542984|PRJNA542984|SRR9179229| 9031|     CON_R1_LMet_LVR|Illumina HiSeq 4000|         RNA-Seq|        PAIRED|              cDNA|SRP200118|Multi-tissue tran...|'Tumor:no;BioSamp...|      Liver|      14 days|   male|   no|                 N/A|         1.1.0|   GRCg6a_ensembl_97|/data/samples/spe...|/data/samples/spe...|/data/samples/spe...|      A|          128|2019-12-23 21:51:...|\n",
            "|      Gallus gallus|Red junglefowl|https://www.ensem...|    Aves|    30.0|2710.0|         6.005|         null|      captivity|      large|  acceptable| PRJEB21760| PRJEB21760|ERR2031632| 9031|      SAMEA104161533|Illumina HiSeq 2500|         RNA-Seq|        SINGLE|          Oligo-dT|ERP024044|Resistant and sus...|'Tumor:no;INSDC c...|        N/A|           31|   male|   no|Chickens were hou...|         1.1.0|   GRCg6a_ensembl_97|/data/samples/spe...|/data/samples/spe...|/data/samples/spe...|      A|          128|2019-12-23 21:10:...|\n",
            "|      Gallus gallus|Red junglefowl|https://www.ensem...|    Aves|    30.0|2710.0|         6.005|         null|      captivity|      large|  acceptable|PRJNA542984|PRJNA542984|SRR9179216| 9031|      HS_R1_LMet_LVR|Illumina HiSeq 4000|         RNA-Seq|        PAIRED|              cDNA|SRP200118|Multi-tissue tran...|'Tumor:no;BioSamp...|      Liver|      14 days|   male|   no|                 N/A|         1.1.0|   GRCg6a_ensembl_97|/data/samples/spe...|/data/samples/spe...|/data/samples/spe...|      A|          128|2019-12-23 19:39:...|\n",
            "|      Gallus gallus|Red junglefowl|https://www.ensem...|    Aves|    30.0|2710.0|         6.005|         null|      captivity|      large|  acceptable|PRJNA248454|PRJNA248454|SRR1297332| 9031|          GSM1397852|Illumina HiSeq 2000|         RNA-Seq|        SINGLE|              cDNA|SRP042219|Differential expr...|'Tumor:no;strain:...|Liver cells|          N/A|    N/A|   no|Total RNA was ext...|         1.1.0|   GRCg6a_ensembl_97|/data/samples/spe...|/data/samples/spe...|/data/samples/spe...|      A|           96|2020-01-12 00:19:...|\n",
            "|      Gallus gallus|Red junglefowl|https://www.ensem...|    Aves|    30.0|2710.0|         6.005|         null|      captivity|      large|  acceptable|PRJNA338488|PRJNA338488|SRR4030877| 9031|         Library_352|Illumina HiSeq 2500|         RNA-Seq|        SINGLE|              cDNA|SRP082125|Broiler cardiac r...|'Tumor:no;sample_...|      Heart|Posthatch D42|   male|   no|                 N/A|         1.1.0|   GRCg6a_ensembl_97|/data/samples/spe...|/data/samples/spe...|/data/samples/spe...|      A|          128|2019-12-23 00:02:...|\n",
            "|      Gallus gallus|Red junglefowl|https://www.ensem...|    Aves|    30.0|2710.0|         6.005|         null|      captivity|      large|  acceptable|  PRJEB4677|  PRJEB4677| ERR348569| 9031|        SAMEA2201379|Illumina HiSeq 2000|         RNA-Seq|        PAIRED|              cDNA|ERP003988|         Chickspress|'Tumor:no;Broker ...|        N/A|     20 month| female|   no|The source of the...|         1.1.0|   GRCg6a_ensembl_97|/data/samples/spe...|/data/samples/spe...|/data/samples/spe...|      A|          128|2019-12-23 01:18:...|\n",
            "|         Mus caroli|  Ryukyu mouse|https://www.ensem...|Mammalia|    null|  null|          null|         null|        unknown|      small|         low| PRJEB20980| PRJEB20980|ERR1990033|10089|      SAMEA104091576|Illumina HiSeq 2000|         RNA-Seq|        PAIRED|            RANDOM|ERP023198|RNA-seq analysis ...|'Tumor:no;Broker ...|        N/A|            8| female|   no|Multiple tissues ...|        0.14.1|     CAROLI_EIJ_v1.1|/data/samples/spe...|/data/samples/spe...|/data/samples/spe...|      A|          128|2019-09-17 09:28:...|\n",
            "|         Mus caroli|  Ryukyu mouse|https://www.ensem...|Mammalia|    null|  null|          null|         null|        unknown|      small|         low| PRJEB20980| PRJEB20980|ERR1990034|10089|      SAMEA104091577|Illumina HiSeq 2000|         RNA-Seq|        PAIRED|            RANDOM|ERP023198|RNA-seq analysis ...|'Tumor:no;Broker ...|        N/A|            8| female|   no|Multiple tissues ...|        0.14.1|     CAROLI_EIJ_v1.1|/data/samples/spe...|/data/samples/spe...|/data/samples/spe...|      A|          128|2019-09-17 09:27:...|\n",
            "|         Mus caroli|  Ryukyu mouse|https://www.ensem...|Mammalia|    null|  null|          null|         null|        unknown|      small|         low| PRJEB20980| PRJEB20980|ERR1990036|10089|      SAMEA104091579|Illumina HiSeq 2000|         RNA-Seq|        PAIRED|            RANDOM|ERP023198|RNA-seq analysis ...|'Tumor:no;Broker ...|        N/A|            8| female|   no|Multiple tissues ...|        0.14.1|     CAROLI_EIJ_v1.1|/data/samples/spe...|/data/samples/spe...|/data/samples/spe...|      A|          128|2019-09-17 09:00:...|\n",
            "|         Mus caroli|  Ryukyu mouse|https://www.ensem...|Mammalia|    null|  null|          null|         null|        unknown|      small|         low| PRJEB20980| PRJEB20980|ERR1990035|10089|      SAMEA104091578|Illumina HiSeq 2000|         RNA-Seq|        PAIRED|            RANDOM|ERP023198|RNA-seq analysis ...|'Tumor:no;Broker ...|        N/A|            8| female|   no|Multiple tissues ...|        0.14.1|     CAROLI_EIJ_v1.1|/data/samples/spe...|/data/samples/spe...|/data/samples/spe...|      A|          128| 2019-09-18 21:33:47|\n",
            "|         Mus caroli|  Ryukyu mouse|https://www.ensem...|Mammalia|    null|  null|          null|         null|        unknown|      small|         low| PRJEB20980| PRJEB20980|ERR1990032|10089|      SAMEA104091575|Illumina HiSeq 2000|         RNA-Seq|        PAIRED|            RANDOM|ERP023198|RNA-seq analysis ...|'Tumor:no;Broker ...|        N/A|            8| female|   no|Multiple tissues ...|        0.14.1|     CAROLI_EIJ_v1.1|/data/samples/spe...|/data/samples/spe...|/data/samples/spe...|      A|          128| 2019-09-18 21:33:58|\n",
            "+-------------------+--------------+--------------------+--------+--------+------+--------------+-------------+---------------+-----------+------------+-----------+-----------+----------+-----+--------------------+-------------------+----------------+--------------+------------------+---------+--------------------+--------------------+-----------+-------------+-------+-----+--------------------+--------------+--------------------+--------------------+--------------------+--------------------+-------+-------------+--------------------+\n",
            "only showing top 20 rows\n",
            "\n"
          ],
          "output_type" : "stream"
        }
      ]
    },
    {
      "cell_type" : "code",
      "execution_count" : 14,
      "metadata" : {
        "cell.metadata.exec_info" : {
          "startTs" : 1579484643230,
          "endTs" : 1579484644299
        },
        "language" : "scala"
      },
      "language" : "scala",
      "source" : [
        "samples_partial.writeTSV(\"/data/samples/species_partial.csv\", sep=\",\")"
      ],
      "outputs" : [
        {
          "name" : "stdout",
          "text" : [
            "parts of /data/samples/species_partial.csv merged!\n"
          ],
          "output_type" : "stream"
        },
        {
          "execution_count" : 14,
          "data" : {
            "text/plain" : [
              "/data/samples/species_partial.csv"
            ]
          },
          "metadata" : {
            "name" : "Out",
            "type" : "String"
          },
          "output_type" : "execute_result"
        }
      ]
    },
    {
      "cell_type" : "code",
      "execution_count" : 15,
      "metadata" : {
        "language" : "scala"
      },
      "language" : "scala",
      "source" : [
      ],
      "outputs" : [
      ]
    }
  ]
}