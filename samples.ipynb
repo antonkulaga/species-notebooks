{
  "metadata" : {
    "config" : {
      "dependencies" : {
        "scala" : [
          "group.research.aging:spark-extensions_2.12:0.0.8.2"
        ]
      },
      "exclusions" : [
      ],
      "repositories" : [
        {
          "maven" : {
            "base" : "https://dl.bintray.com/comp-bio-aging/main/"
          }
        }
      ],
      "sparkConfig" : {
        "master" : "http://spark:7070[2]"
      }
    }
  },
  "nbformat" : 4,
  "nbformat_minor" : 0,
  "cells" : [
    {
      "cell_type" : "markdown",
      "execution_count" : 0,
      "metadata" : {
        "language" : "text"
      },
      "language" : "text",
      "source" : [
        "# Samples processing<br>\n",
        "\n",
        "\n",
        "This is a text cell. Start editing!\n",
        "\n",
        "\n"
      ],
      "outputs" : [
      ]
    },
    {
      "cell_type" : "code",
      "execution_count" : 1,
      "metadata" : {
        "cell.metadata.exec_info" : {
          "startTs" : 1581638387560,
          "endTs" : 1581638387965
        },
        "language" : "scala"
      },
      "language" : "scala",
      "source" : [
        "import org.apache.spark.rdd._\n",
        "import org.apache.spark.sql._\n",
        "import org.apache.spark.sql.types.StructType\n",
        "import org.apache.spark.sql.functions._\n",
        "import group.research.aging.spark.extensions._"
      ],
      "outputs" : [
      ]
    },
    {
      "cell_type" : "markdown",
      "execution_count" : 2,
      "metadata" : {
        "language" : "text"
      },
      "language" : "text",
      "source" : [
        "<div>Samples</div><div>------------<br></div>"
      ],
      "outputs" : [
      ]
    },
    {
      "cell_type" : "code",
      "execution_count" : 3,
      "metadata" : {
        "cell.metadata.exec_info" : {
          "startTs" : 1581638389889,
          "endTs" : 1581638391502
        },
        "language" : "scala"
      },
      "language" : "scala",
      "source" : [
        "val samples = spark.readTSV(\"/data/samples/species/species.tsv\", header=true).na.fill(\"N/A\")\n",
        "  .where($\"index\" =!= \"N/A\")\n",
        "  .where($\"library_strategy\" === \"RNA-Seq\")\n",
        "  .sort($\"organism\".desc, $\"library_layout\")\n",
        "samples"
      ],
      "outputs" : [
        {
          "execution_count" : 3,
          "data" : {
            "text/plain" : [
              "[bioproject: string, series: string ... 24 more fields]"
            ]
          },
          "metadata" : {
            "name" : "Out",
            "type" : "Dataset[Row]"
          },
          "output_type" : "execute_result"
        }
      ]
    },
    {
      "cell_type" : "code",
      "execution_count" : 4,
      "metadata" : {
        "cell.metadata.exec_info" : {
          "startTs" : 1581551743233,
          "endTs" : 1581551744184
        },
        "language" : "scala"
      },
      "language" : "scala",
      "source" : [
        "samples.select(\"run\", \"organism\", \"genes\").sort($\"organism\".desc).show(100000,1000000)"
      ],
      "outputs" : [
        {
          "name" : "stdout",
          "text" : [
            "+----------+------------------------+---------------------------------------------------------------------------------------------------------------------------------------------+\n",
            "|       run|                organism|                                                                                                                                        genes|\n",
            "+----------+------------------------+---------------------------------------------------------------------------------------------------------------------------------------------+\n",
            "| SRR636978|        Ursus americanus|                                        /data/samples/species/GSE43013/GSM1055128/SRR636978/GSE43013_GSM1055128_SRR636978_genes_abundance.tsv|\n",
            "| SRR636888|        Ursus americanus|                                        /data/samples/species/GSE43013/GSM1055038/SRR636888/GSE43013_GSM1055038_SRR636888_genes_abundance.tsv|\n",
            "| SRR636887|        Ursus americanus|                                    /data/samples/species/PRJNA184055/SRX211627/SRR6368",
            "87/PRJNA184055_SRX211627_SRR636887_genes_abundance.tsv|\n",
            "| SRR636932|        Ursus americanus|                                        /data/samples/species/GSE43013/GSM1055082/SRR636932/GSE43013_GSM1055082_SRR636932_genes_abundance.tsv|\n",
            "| SRR636933|        Ursus americanus|                                    /data/samples/species/PRJNA184055/SRX211673/SRR636933/PRJNA184055_SRX211673_SRR636933_genes_abundance.tsv|\n",
            "|SRR3160052|              Sus scrofa|                                /data/samples/species/PRJNA311523/SRX1569899/SRR3160052/PRJNA311523_SRX1569899_SRR3160052_genes_abundance.tsv|\n",
            "|SRR3160061|              Sus scrofa|                                /data/samples/species/PRJNA311523/SRX1569908/SRR3160061/PRJNA311523_SRX1569908_SRR3160061_genes_abundance.tsv|\n",
            "| SRR653846|              Sus scrofa|                                    /data/samples/species/PRJNA188070/SRX220651/SRR653846/PRJNA188070_SRX220651_SRR653846_genes_abundance.tsv|\n",
            "|SRR3160008|              Sus scrofa|                               ",
            " /data/samples/species/PRJNA311523/SRX1569855/SRR3160008/PRJNA311523_SRX1569855_SRR3160008_genes_abundance.tsv|\n",
            "|SRR3160018|              Sus scrofa|                                /data/samples/species/PRJNA311523/SRX1569865/SRR3160018/PRJNA311523_SRX1569865_SRR3160018_genes_abundance.tsv|\n",
            "|SRR3160041|              Sus scrofa|                                /data/samples/species/PRJNA311523/SRX1569888/SRR3160041/PRJNA311523_SRX1569888_SRR3160041_genes_abundance.tsv|\n",
            "|SRR5335844|       Rattus norvegicus|                                      /data/samples/species/GSE96079/GSM2532867/SRR5335844/GSE96079_GSM2532867_SRR5335844_genes_abundance.tsv|\n",
            "|SRR5353146|       Rattus norvegicus|                                      /data/samples/species/GSE96765/GSM2540233/SRR5353146/GSE96765_GSM2540233_SRR5353146_genes_abundance.tsv|\n",
            "|SRR6829502|       Rattus norvegicus|                                    /data/samples/species/GSE111770/GSM3039557/SRR6829502/GSE111770_GSM3039557_SRR6829502_genes_abundance.tsv|\n",
            "|SRR5353148|",
            "       Rattus norvegicus|                                      /data/samples/species/GSE96765/GSM2540235/SRR5353148/GSE96765_GSM2540235_SRR5353148_genes_abundance.tsv|\n",
            "|SRR5353150|       Rattus norvegicus|                                      /data/samples/species/GSE96765/GSM2540237/SRR5353150/GSE96765_GSM2540237_SRR5353150_genes_abundance.tsv|\n",
            "|SRR5353152|       Rattus norvegicus|                                      /data/samples/species/GSE96765/GSM2540239/SRR5353152/GSE96765_GSM2540239_SRR5353152_genes_abundance.tsv|\n",
            "| SRR594419|       Rattus norvegicus|                                        /data/samples/species/GSE41637/GSM1020666/SRR594419/GSE41637_GSM1020666_SRR594419_genes_abundance.tsv|\n",
            "|SRR5353154|       Rattus norvegicus|                                      /data/samples/species/GSE96765/GSM2540241/SRR5353154/GSE96765_GSM2540241_SRR5353154_genes_abundance.tsv|\n",
            "|SRR5767265|       Rattus norvegicus|                /data/samples/species/GSE100631_GSE100633/GSM2689747/SRR5767265/GSE100631_GSE100633",
            "_GSM2689747_SRR5767265_genes_abundance.tsv|\n",
            "| SRR594422|       Rattus norvegicus|                                        /data/samples/species/GSE41637/GSM1020669/SRR594422/GSE41637_GSM1020669_SRR594422_genes_abundance.tsv|\n",
            "|SRR5353156|       Rattus norvegicus|                                      /data/samples/species/GSE96765/GSM2540243/SRR5353156/GSE96765_GSM2540243_SRR5353156_genes_abundance.tsv|\n",
            "|SRR5767266|       Rattus norvegicus|                /data/samples/species/GSE100631_GSE100633/GSM2689748/SRR5767266/GSE100631_GSE100633_GSM2689748_SRR5767266_genes_abundance.tsv|\n",
            "| SRR594421|       Rattus norvegicus|                                        /data/samples/species/GSE41637/GSM1020668/SRR594421/GSE41637_GSM1020668_SRR594421_genes_abundance.tsv|\n",
            "| SRR594424|       Rattus norvegicus|                                        /data/samples/species/GSE41637/GSM1020671/SRR594424/GSE41637_GSM1020671_SRR594424_genes_abundance.tsv|\n",
            "| SRR594428|       Rattus norvegicus|                                        /da",
            "ta/samples/species/GSE41637/GSM1020675/SRR594428/GSE41637_GSM1020675_SRR594428_genes_abundance.tsv|\n",
            "|SRR5767268|       Rattus norvegicus|                /data/samples/species/GSE100631_GSE100633/GSM2689750/SRR5767268/GSE100631_GSE100633_GSM2689750_SRR5767268_genes_abundance.tsv|\n",
            "| SRR594430|       Rattus norvegicus|                                        /data/samples/species/GSE41637/GSM1020677/SRR594430/GSE41637_GSM1020677_SRR594430_genes_abundance.tsv|\n",
            "| SRR594431|       Rattus norvegicus|                                        /data/samples/species/GSE41637/GSM1020678/SRR594431/GSE41637_GSM1020678_SRR594431_genes_abundance.tsv|\n",
            "| SRR594433|       Rattus norvegicus|                                        /data/samples/species/GSE41637/GSM1020680/SRR594433/GSE41637_GSM1020680_SRR594433_genes_abundance.tsv|\n",
            "|SRR5767269|       Rattus norvegicus|                /data/samples/species/GSE100631_GSE100633/GSM2689751/SRR5767269/GSE100631_GSE100633_GSM2689751_SRR5767269_genes_abundance.tsv|\n",
            "| SRR594437|       Rattu",
            "s norvegicus|                                        /data/samples/species/GSE41637/GSM1020684/SRR594437/GSE41637_GSM1020684_SRR594437_genes_abundance.tsv|\n",
            "| SRR594439|       Rattus norvegicus|                                        /data/samples/species/GSE41637/GSM1020686/SRR594439/GSE41637_GSM1020686_SRR594439_genes_abundance.tsv|\n",
            "| SRR594440|       Rattus norvegicus|                                        /data/samples/species/GSE41637/GSM1020687/SRR594440/GSE41637_GSM1020687_SRR594440_genes_abundance.tsv|\n",
            "|SRR5767270|       Rattus norvegicus|                /data/samples/species/GSE100631_GSE100633/GSM2689752/SRR5767270/GSE100631_GSE100633_GSM2689752_SRR5767270_genes_abundance.tsv|\n",
            "|SRR6829492|       Rattus norvegicus|                                    /data/samples/species/GSE111770/GSM3039547/SRR6829492/GSE111770_GSM3039547_SRR6829492_genes_abundance.tsv|\n",
            "| SRR594442|       Rattus norvegicus|                                        /data/samples/species/GSE41637/GSM1020689/SRR594442/GSE41637_GSM1020689",
            "_SRR594442_genes_abundance.tsv|\n",
            "| SRR954817|       Rattus norvegicus|                                        /data/samples/species/GSE50027/GSM1212744/SRR954817/GSE50027_GSM1212744_SRR954817_genes_abundance.tsv|\n",
            "|SRR6829494|       Rattus norvegicus|                                    /data/samples/species/GSE111770/GSM3039549/SRR6829494/GSE111770_GSM3039549_SRR6829494_genes_abundance.tsv|\n",
            "|SRR5127237|       Rattus norvegicus|                                      /data/samples/species/GSE92858/GSM2438788/SRR5127237/GSE92858_GSM2438788_SRR5127237_genes_abundance.tsv|\n",
            "|SRR5127238|       Rattus norvegicus|                                      /data/samples/species/GSE92858/GSM2438789/SRR5127238/GSE92858_GSM2438789_SRR5127238_genes_abundance.tsv|\n",
            "|SRR5291530|       Rattus norvegicus|                                      /data/samples/species/GSE95420/GSM2510325/SRR5291530/GSE95420_GSM2510325_SRR5291530_genes_abundance.tsv|\n",
            "|SRR6829496|       Rattus norvegicus|                                    /data/samples/speci",
            "es/GSE111770/GSM3039551/SRR6829496/GSE111770_GSM3039551_SRR6829496_genes_abundance.tsv|\n",
            "|SRR5291531|       Rattus norvegicus|                                      /data/samples/species/GSE95420/GSM2510326/SRR5291531/GSE95420_GSM2510326_SRR5291531_genes_abundance.tsv|\n",
            "|SRR6829500|       Rattus norvegicus|                                    /data/samples/species/GSE111770/GSM3039555/SRR6829500/GSE111770_GSM3039555_SRR6829500_genes_abundance.tsv|\n",
            "|SRR5291532|       Rattus norvegicus|                                      /data/samples/species/GSE95420/GSM2510327/SRR5291532/GSE95420_GSM2510327_SRR5291532_genes_abundance.tsv|\n",
            "|SRR5335843|       Rattus norvegicus|                                      /data/samples/species/GSE96079/GSM2532866/SRR5335843/GSE96079_GSM2532866_SRR5335843_genes_abundance.tsv|\n",
            "|SRR6829498|       Rattus norvegicus|                                    /data/samples/species/GSE111770/GSM3039553/SRR6829498/GSE111770_GSM3039553_SRR6829498_genes_abundance.tsv|\n",
            "|SRR5520664|       Rattus norvegicus",
            "|/data/samples/species/GSE98745_GSE98746_GSE103066/GSM2611174/SRR5520664/GSE98745_GSE98746_GSE103066_GSM2611174_SRR5520664_genes_abundance.tsv|\n",
            "|SRR5520669|       Rattus norvegicus|/data/samples/species/GSE98745_GSE98746_GSE103066/GSM2611178/SRR5520669/GSE98745_GSE98746_GSE103066_GSM2611178_SRR5520669_genes_abundance.tsv|\n",
            "|SRR5520665|       Rattus norvegicus|/data/samples/species/GSE98745_GSE98746_GSE103066/GSM2611175/SRR5520665/GSE98745_GSE98746_GSE103066_GSM2611175_SRR5520665_genes_abundance.tsv|\n",
            "|SRR5520668|       Rattus norvegicus|/data/samples/species/GSE98745_GSE98746_GSE103066/GSM2611177/SRR5520668/GSE98745_GSE98746_GSE103066_GSM2611177_SRR5520668_genes_abundance.tsv|\n",
            "|SRR1170173|       Rattus norvegicus|                    /data/samples/species/GSE47792_GSE53960/GSM1328605/SRR1170174/GSE47792_GSE53960_GSM1328605_SRR1170174_genes_abundance.tsv|\n",
            "|SRR1170173|       Rattus norvegicus|                    /data/samples/species/GSE47792_GSE53960/GSM1328605/SRR1170173/GSE47792_GSE53960_GSM1328605_SRR1170173_g",
            "enes_abundance.tsv|\n",
            "|SRR1041772|       Rattus norvegicus|                                      /data/samples/species/GSE50747/GSM1278053/SRR1041772/GSE50747_GSM1278053_SRR1041772_genes_abundance.tsv|\n",
            "|SRR1284265|       Rattus norvegicus|                                      /data/samples/species/GSE57598/GSM1385404/SRR1284265/GSE57598_GSM1385404_SRR1284265_genes_abundance.tsv|\n",
            "|SRR1284266|       Rattus norvegicus|                                      /data/samples/species/GSE57598/GSM1385405/SRR1284266/GSE57598_GSM1385405_SRR1284266_genes_abundance.tsv|\n",
            "|SRR1284267|       Rattus norvegicus|                                      /data/samples/species/GSE57598/GSM1385406/SRR1284267/GSE57598_GSM1385406_SRR1284267_genes_abundance.tsv|\n",
            "|SRR1284264|       Rattus norvegicus|                                      /data/samples/species/GSE57598/GSM1385413/SRR1284264/GSE57598_GSM1385413_SRR1284264_genes_abundance.tsv|\n",
            "|SRR1284275|       Rattus norvegicus|                                      /data/samples/species/GSE5759",
            "8/GSM1385415/SRR1284275/GSE57598_GSM1385415_SRR1284275_genes_abundance.tsv|\n",
            "|SRR1284274|       Rattus norvegicus|                                      /data/samples/species/GSE57598/GSM1385414/SRR1284274/GSE57598_GSM1385414_SRR1284274_genes_abundance.tsv|\n",
            "|SRR1873516|       Rattus norvegicus|                                      /data/samples/species/GSE66715/GSM1630459/SRR1873516/GSE66715_GSM1630459_SRR1873516_genes_abundance.tsv|\n",
            "|SRR1873516|       Rattus norvegicus|                                      /data/samples/species/GSE66715/GSM1630459/SRR1873517/GSE66715_GSM1630459_SRR1873517_genes_abundance.tsv|\n",
            "|SRR3144810|       Rattus norvegicus|                                      /data/samples/species/GSE77572/GSM2054631/SRR3144810/GSE77572_GSM2054631_SRR3144810_genes_abundance.tsv|\n",
            "|SRR3144811|       Rattus norvegicus|                                      /data/samples/species/GSE77572/GSM2054632/SRR3144811/GSE77572_GSM2054632_SRR3144811_genes_abundance.tsv|\n",
            "|SRR3144812|       Rattus norvegicus|           ",
            "                           /data/samples/species/GSE77572/GSM2054633/SRR3144812/GSE77572_GSM2054633_SRR3144812_genes_abundance.tsv|\n",
            "|SRR3144813|       Rattus norvegicus|                                      /data/samples/species/GSE77572/GSM2054634/SRR3144813/GSE77572_GSM2054634_SRR3144813_genes_abundance.tsv|\n",
            "|SRR3144817|       Rattus norvegicus|                                      /data/samples/species/GSE77572/GSM2054638/SRR3144817/GSE77572_GSM2054638_SRR3144817_genes_abundance.tsv|\n",
            "|SRR3144815|       Rattus norvegicus|                                      /data/samples/species/GSE77572/GSM2054636/SRR3144815/GSE77572_GSM2054636_SRR3144815_genes_abundance.tsv|\n",
            "|SRR3144816|       Rattus norvegicus|                                      /data/samples/species/GSE77572/GSM2054637/SRR3144816/GSE77572_GSM2054637_SRR3144816_genes_abundance.tsv|\n",
            "|SRR3144818|       Rattus norvegicus|                                      /data/samples/species/GSE77572/GSM2054639/SRR3144818/GSE77572_GSM2054639_SRR3144818_genes_abundan",
            "ce.tsv|\n",
            "|SRR3144819|       Rattus norvegicus|                                      /data/samples/species/GSE77572/GSM2054640/SRR3144819/GSE77572_GSM2054640_SRR3144819_genes_abundance.tsv|\n",
            "|SRR3144820|       Rattus norvegicus|                                      /data/samples/species/GSE77572/GSM2054641/SRR3144820/GSE77572_GSM2054641_SRR3144820_genes_abundance.tsv|\n",
            "|SRR3144827|       Rattus norvegicus|                                      /data/samples/species/GSE77572/GSM2054648/SRR3144827/GSE77572_GSM2054648_SRR3144827_genes_abundance.tsv|\n",
            "|SRR3144830|       Rattus norvegicus|                                      /data/samples/species/GSE77572/GSM2054651/SRR3144830/GSE77572_GSM2054651_SRR3144830_genes_abundance.tsv|\n",
            "|SRR3144828|       Rattus norvegicus|                                      /data/samples/species/GSE77572/GSM2054649/SRR3144828/GSE77572_GSM2054649_SRR3144828_genes_abundance.tsv|\n",
            "|SRR3144831|       Rattus norvegicus|                                      /data/samples/species/GSE77572/GSM2054652",
            "/SRR3144831/GSE77572_GSM2054652_SRR3144831_genes_abundance.tsv|\n",
            "|SRR3144832|       Rattus norvegicus|                                      /data/samples/species/GSE77572/GSM2054653/SRR3144832/GSE77572_GSM2054653_SRR3144832_genes_abundance.tsv|\n",
            "|SRR5520660|       Rattus norvegicus|/data/samples/species/GSE98745_GSE98746_GSE103066/GSM2611170/SRR5520660/GSE98745_GSE98746_GSE103066_GSM2611170_SRR5520660_genes_abundance.tsv|\n",
            "|SRR5520661|       Rattus norvegicus|/data/samples/species/GSE98745_GSE98746_GSE103066/GSM2611171/SRR5520661/GSE98745_GSE98746_GSE103066_GSM2611171_SRR5520661_genes_abundance.tsv|\n",
            "|SRR5520662|       Rattus norvegicus|/data/samples/species/GSE98745_GSE98746_GSE103066/GSM2611172/SRR5520662/GSE98745_GSE98746_GSE103066_GSM2611172_SRR5520662_genes_abundance.tsv|\n",
            "|SRR5520663|       Rattus norvegicus|/data/samples/species/GSE98745_GSE98746_GSE103066/GSM2611173/SRR5520663/GSE98745_GSE98746_GSE103066_GSM2611173_SRR5520663_genes_abundance.tsv|\n",
            "|SRR5520665|       Rattus norvegicus|/data/samples/species/G",
            "SE98745_GSE98746_GSE103066/GSM2611175/SRR5520666/GSE98745_GSE98746_GSE103066_GSM2611175_SRR5520666_genes_abundance.tsv|\n",
            "|SRR3144814|       Rattus norvegicus|                                      /data/samples/species/GSE77572/GSM2054635/SRR3144814/GSE77572_GSM2054635_SRR3144814_genes_abundance.tsv|\n",
            "|SRR5520667|       Rattus norvegicus|/data/samples/species/GSE98745_GSE98746_GSE103066/GSM2611176/SRR5520667/GSE98745_GSE98746_GSE103066_GSM2611176_SRR5520667_genes_abundance.tsv|\n",
            "|SRR2170833|             Parus major|                                /data/samples/species/PRJNA293021/SRX1156064/SRR2170833/PRJNA293021_SRX1156064_SRR2170833_genes_abundance.tsv|\n",
            "|SRR3955377|             Parus major|                                /data/samples/species/PRJNA314210/SRX1977172/SRR3955377/PRJNA314210_SRX1977172_SRR3955377_genes_abundance.tsv|\n",
            "|SRR1758916|         Pan troglodytes|                                  /data/samples/species/PRJNA271912/SRX843147/SRR1758916/PRJNA271912_SRX843147_SRR1758916_genes_abundance.tsv|\n",
            "|SRR",
            "2040586|         Pan troglodytes|                                /data/samples/species/PRJNA285021/SRX1038916/SRR2040586/PRJNA285021_SRX1038916_SRR2040586_genes_abundance.tsv|\n",
            "|SRR1758921|         Pan troglodytes|                                  /data/samples/species/PRJNA271912/SRX843152/SRR1758921/PRJNA271912_SRX843152_SRR1758921_genes_abundance.tsv|\n",
            "|SRR1758922|         Pan troglodytes|                                  /data/samples/species/PRJNA271912/SRX843153/SRR1758922/PRJNA271912_SRX843153_SRR1758922_genes_abundance.tsv|\n",
            "| SRR032135|         Pan troglodytes|                                          /data/samples/species/GSE17274/GSM432617/SRR032135/GSE17274_GSM432617_SRR032135_genes_abundance.tsv|\n",
            "| DRR031591|         Pan troglodytes|                                        /data/samples/species/PRJDB3586/DRX028559/DRR031591/PRJDB3586_DRX028559_DRR031591_genes_abundance.tsv|\n",
            "|SRR1510173|         Pan troglodytes|                                      /data/samples/species/GSE59288/GSM1432861/SRR1510173/",
            "GSE59288_GSM1432861_SRR1510173_genes_abundance.tsv|\n",
            "| SRR306831|            Pan paniscus|                                    /data/samples/species/PRJNA143627/SRX081975/SRR306831/PRJNA143627_SRX081975_SRR306831_genes_abundance.tsv|\n",
            "| SRR306831|            Pan paniscus|                                          /data/samples/species/GSE30352/GSM752684/SRR306831/GSE30352_GSM752684_SRR306831_genes_abundance.tsv|\n",
            "| SRR306828|            Pan paniscus|                                          /data/samples/species/GSE30352/GSM752681/SRR306828/GSE30352_GSM752681_SRR306828_genes_abundance.tsv|\n",
            "| SRR306832|            Pan paniscus|                                    /data/samples/species/PRJNA143627/SRX081976/SRR306832/PRJNA143627_SRX081976_SRR306832_genes_abundance.tsv|\n",
            "| SRR306833|            Pan paniscus|                                          /data/samples/species/GSE30352/GSM752686/SRR306833/GSE30352_GSM752686_SRR306833_genes_abundance.tsv|\n",
            "| SRR306836|            Pan paniscus|                                   ",
            "       /data/samples/species/GSE30352/GSM752689/SRR306836/GSE30352_GSM752689_SRR306836_genes_abundance.tsv|\n",
            "|ERR2075082|              Ovis aries|                                  /data/samples/species/PRJEB19199/ERX2133305/ERR2075087/PRJEB19199_ERX2133305_ERR2075087_genes_abundance.tsv|\n",
            "|ERR2075792|              Ovis aries|                                  /data/samples/species/PRJEB19199/ERX2133414/ERR2075799/PRJEB19199_ERX2133414_ERR2075799_genes_abundance.tsv|\n",
            "| ERR489283|              Ovis aries|                                        /data/samples/species/PRJEB6169/ERX455039/ERR489283/PRJEB6169_ERX455039_ERR489283_genes_abundance.tsv|\n",
            "|ERR2075082|              Ovis aries|                                  /data/samples/species/PRJEB19199/ERX2133305/ERR2075085/PRJEB19199_ERX2133305_ERR2075085_genes_abundance.tsv|\n",
            "|ERR2075986|              Ovis aries|                                  /data/samples/species/PRJEB19199/ERX2133315/ERR2075993/PRJEB19199_ERX2133315_ERR2075993_genes_abundance.tsv|\n",
            "|ERR2075072|    ",
            "          Ovis aries|                                  /data/samples/species/PRJEB19199/ERX2133429/ERR2075076/PRJEB19199_ERX2133429_ERR2075076_genes_abundance.tsv|\n",
            "| ERR489282|              Ovis aries|                                        /data/samples/species/PRJEB6169/ERX455038/ERR489282/PRJEB6169_ERX455038_ERR489282_genes_abundance.tsv|\n",
            "|SRR3109717|              Ovis aries|                                /data/samples/species/PRJNA309284/SRX1538134/SRR3109717/PRJNA309284_SRX1538134_SRR3109717_genes_abundance.tsv|\n",
            "|SRR3109718|              Ovis aries|                                /data/samples/species/PRJNA309284/SRX1538135/SRR3109718/PRJNA309284_SRX1538135_SRR3109718_genes_abundance.tsv|\n",
            "|SRR5190444|              Ovis aries|                                /data/samples/species/PRJNA362606/SRX2506264/SRR5190444/PRJNA362606_SRX2506264_SRR5190444_genes_abundance.tsv|\n",
            "|SRR5190446|              Ovis aries|                                /data/samples/species/PRJNA362606/SRX2506266/SRR5190446/PRJNA362606_SRX",
            "2506266_SRR5190446_genes_abundance.tsv|\n",
            "|ERR2074874|              Ovis aries|                                  /data/samples/species/PRJEB19199/ERX2133303/ERR2074877/PRJEB19199_ERX2133303_ERR2074877_genes_abundance.tsv|\n",
            "|SRR1789326|   Oryctolagus cuniculus|                                  /data/samples/species/PRJNA274427/SRX864774/SRR1789326/PRJNA274427_SRX864774_SRR1789326_genes_abundance.tsv|\n",
            "|ERR1331671|   Oryctolagus cuniculus|                                  /data/samples/species/PRJEB13074/ERX1403291/ERR1331671/PRJEB13074_ERX1403291_ERR1331671_genes_abundance.tsv|\n",
            "|SRR1789059|   Oryctolagus cuniculus|                                  /data/samples/species/PRJNA274427/SRX864765/SRR1789059/PRJNA274427_SRX864765_SRR1789059_genes_abundance.tsv|\n",
            "|SRR1789331|   Oryctolagus cuniculus|                                  /data/samples/species/PRJNA274427/SRX864777/SRR1789331/PRJNA274427_SRX864777_SRR1789331_genes_abundance.tsv|\n",
            "|SRR1786019|   Oryctolagus cuniculus|                                  /data/samples",
            "/species/PRJNA274427/SRX864814/SRR1786019/PRJNA274427_SRX864814_SRR1786019_genes_abundance.tsv|\n",
            "| ERR266370|   Oryctolagus cuniculus|                                        /data/samples/species/PRJEB3197/ERX240860/ERR266370/PRJEB3197_ERX240860_ERR266370_genes_abundance.tsv|\n",
            "|SRR1789057|   Oryctolagus cuniculus|                                  /data/samples/species/PRJNA274427/SRX864763/SRR1789057/PRJNA274427_SRX864763_SRR1789057_genes_abundance.tsv|\n",
            "| SRR306724|Ornithorhynchus anatinus|                                    /data/samples/species/PRJNA143627/SRX081881/SRR306725/PRJNA143627_SRX081881_SRR306725_genes_abundance.tsv|\n",
            "|SRR1041778|    Notamacropus eugenii|                                      /data/samples/species/GSE50747/GSM1278059/SRR1041778/GSE50747_GSM1278059_SRR1041778_genes_abundance.tsv|\n",
            "|SRR1552212|    Notamacropus eugenii|                                  /data/samples/species/PRJNA258238/SRX681743/SRR1552212/PRJNA258238_SRX681743_SRR1552212_genes_abundance.tsv|\n",
            "|SRR1654032|            Mus ",
            "musculus|                                  /data/samples/species/PRJNA264588/SRX760714/SRR1654032/PRJNA264588_SRX760714_SRR1654032_genes_abundance.tsv|\n",
            "|SRR1653996|            Mus musculus|                                  /data/samples/species/PRJNA264588/SRX760678/SRR1653996/PRJNA264588_SRX760678_SRR1653996_genes_abundance.tsv|\n",
            "|ERR2004719|            Mus musculus|                                  /data/samples/species/PRJEB21274/ERX2064484/ERR2004719/PRJEB21274_ERX2064484_ERR2004719_genes_abundance.tsv|\n",
            "|ERR2004720|            Mus musculus|                                  /data/samples/species/PRJEB21274/ERX2064485/ERR2004720/PRJEB21274_ERX2064485_ERR2004720_genes_abundance.tsv|\n",
            "|ERR2004718|            Mus musculus|                                  /data/samples/species/PRJEB21274/ERX2064483/ERR2004718/PRJEB21274_ERX2064483_ERR2004718_genes_abundance.tsv|\n",
            "|ERR1990036|              Mus caroli|                                  /data/samples/species/PRJEB20980/ERX2049933/ERR1990036/PRJEB20980_ERX2049933_ERR1",
            "990036_genes_abundance.tsv|\n",
            "|ERR1990032|              Mus caroli|                                  /data/samples/species/PRJEB20980/ERX2049929/ERR1990032/PRJEB20980_ERX2049929_ERR1990032_genes_abundance.tsv|\n",
            "|ERR1990035|              Mus caroli|                                  /data/samples/species/PRJEB20980/ERX2049932/ERR1990035/PRJEB20980_ERX2049932_ERR1990035_genes_abundance.tsv|\n",
            "|ERR1990037|              Mus caroli|                                  /data/samples/species/PRJEB20980/ERX2049934/ERR1990037/PRJEB20980_ERX2049934_ERR1990037_genes_abundance.tsv|\n",
            "|ERR1990038|              Mus caroli|                                  /data/samples/species/PRJEB20980/ERX2049935/ERR1990038/PRJEB20980_ERX2049935_ERR1990038_genes_abundance.tsv|\n",
            "|ERR1990033|              Mus caroli|                                  /data/samples/species/PRJEB20980/ERX2049930/ERR1990033/PRJEB20980_ERX2049930_ERR1990033_genes_abundance.tsv|\n",
            "|ERR1990034|              Mus caroli|                                  /data/samples/species/PRJ",
            "EB20980/ERX2049931/ERR1990034/PRJEB20980_ERX2049931_ERR1990034_genes_abundance.tsv|\n",
            "|ERR1990031|              Mus caroli|                                  /data/samples/species/PRJEB20980/ERX2049928/ERR1990031/PRJEB20980_ERX2049928_ERR1990031_genes_abundance.tsv|\n",
            "| SRR908037|   Monodelphis domestica|                                    /data/samples/species/PRJNA200320/SRX310002/SRR908037/PRJNA200320_SRR908037_SRR908037_genes_abundance.tsv|\n",
            "| SRR306742|   Monodelphis domestica|                                    /data/samples/species/PRJNA143627/SRX081893/SRR306742/PRJNA143627_SRX081893_SRR306742_genes_abundance.tsv|\n",
            "| SRR306744|   Monodelphis domestica|                                    /data/samples/species/PRJNA143627/SRX081894/SRR306744/PRJNA143627_SRX081894_SRR306744_genes_abundance.tsv|\n",
            "|SRR1758997|      Microcebus murinus|                                  /data/samples/species/PRJNA271912/SRX843228/SRR1758997/PRJNA271912_SRX843228_SRR1758997_genes_abundance.tsv|\n",
            "|SRR1758998|      Microcebus murinus|   ",
            "                               /data/samples/species/PRJNA271912/SRX843229/SRR1758998/PRJNA271912_SRX843229_SRR1758998_genes_abundance.tsv|\n",
            "|SRR1758995|      Microcebus murinus|                                 /data/samples/species/PRJNA271912/SRX843226/SRR1758995/PRJNA271912_SRR1758995_SRR1758995_genes_abundance.tsv|\n",
            "| SRR636953|    Mesocricetus auratus|                                    /data/samples/species/PRJNA184055/SRX211693/SRR636953/PRJNA184055_SRX211693_SRR636953_genes_abundance.tsv|\n",
            "| SRR636951|    Mesocricetus auratus|                                    /data/samples/species/PRJNA184055/SRX211691/SRR636951/PRJNA184055_SRX211691_SRR636951_genes_abundance.tsv|\n",
            "| SRR636857|    Mesocricetus auratus|                                        /data/samples/species/GSE43013/GSM1055007/SRR636857/GSE43013_GSM1055007_SRR636857_genes_abundance.tsv|\n",
            "| SRR636907|    Mesocricetus auratus|                                        /data/samples/species/GSE43013/GSM1055057/SRR636907/GSE43013_GSM1055057_SRR636907_genes",
            "_abundance.tsv|\n",
            "|SRR4244360|     Meleagris gallopavo|                                /data/samples/species/PRJNA342653/SRX2164867/SRR4244360/PRJNA342653_SRX2164867_SRR4244360_genes_abundance.tsv|\n",
            "|SRR4244351|     Meleagris gallopavo|                                /data/samples/species/PRJNA342653/SRX2164858/SRR4244351/PRJNA342653_SRX2164858_SRR4244351_genes_abundance.tsv|\n",
            "|SRR4244328|     Meleagris gallopavo|                                /data/samples/species/PRJNA342653/SRX2164835/SRR4244328/PRJNA342653_SRX2164835_SRR4244328_genes_abundance.tsv|\n",
            "|SRR1759011|       Macaca nemestrina|                                  /data/samples/species/PRJNA271912/SRX843242/SRR1759011/PRJNA271912_SRX843242_SRR1759011_genes_abundance.tsv|\n",
            "|SRR1759012|       Macaca nemestrina|                                  /data/samples/species/PRJNA271912/SRX843243/SRR1759012/PRJNA271912_SRX843243_SRR1759012_genes_abundance.tsv|\n",
            "|SRR1759007|       Macaca nemestrina|                                  /data/samples/species/PRJNA271912/SRX",
            "843238/SRR1759007/PRJNA271912_SRX843238_SRR1759007_genes_abundance.tsv|\n",
            "|SRR1759005|       Macaca nemestrina|                                  /data/samples/species/PRJNA271912/SRX843236/SRR1759005/PRJNA271912_SRX843236_SRR1759005_genes_abundance.tsv|\n",
            "|SRR1759006|       Macaca nemestrina|                                  /data/samples/species/PRJNA271912/SRX843237/SRR1759006/PRJNA271912_SRX843237_SRR1759006_genes_abundance.tsv|\n",
            "|SRR5990543|          Macaca mulatta|                                /data/samples/species/PRJNA400695/SRX3146249/SRR5990543/PRJNA400695_SRX3146249_SRR5990543_genes_abundance.tsv|\n",
            "|SRR6007051|          Macaca mulatta|                                /data/samples/species/PRJNA401436/SRX3161757/SRR6007053/PRJNA401436_SRX3161757_SRR6007053_genes_abundance.tsv|\n",
            "|SRR6073415|          Macaca mulatta|                                /data/samples/species/PRJNA412080/SRX3214437/SRR6073420/PRJNA412080_SRX3214437_SRR6073420_genes_abundance.tsv|\n",
            "|SRR3197665|          Macaca mulatta|               ",
            "                 /data/samples/species/PRJNA312819/SRX1596345/SRR3197665/PRJNA312819_SRX1596345_SRR3197665_genes_abundance.tsv|\n",
            "|SRR6073386|          Macaca mulatta|                                /data/samples/species/PRJNA412080/SRX3214433/SRR6073392/PRJNA412080_SRX3214433_SRR6073392_genes_abundance.tsv|\n",
            "| SRR223520|          Macaca mulatta|                                    /data/samples/species/PRJNA141257/SRX066574/SRR223520/PRJNA141257_SRX066574_SRR223520_genes_abundance.tsv|\n",
            "| SRR299126|          Macaca mulatta|                                    /data/samples/species/PRJNA143955/SRX080239/SRR299126/PRJNA143955_SRX080239_SRR299126_genes_abundance.tsv|\n",
            "|SRR1758941|     Macaca fascicularis|                                  /data/samples/species/PRJNA271912/SRX843172/SRR1758941/PRJNA271912_SRX843172_SRR1758941_genes_abundance.tsv|\n",
            "|SRR1758954|     Macaca fascicularis|                                  /data/samples/species/PRJNA271912/SRX843185/SRR1758954/PRJNA271912_SRX843185_SRR1758954_genes_abundance.t",
            "sv|\n",
            "|SRR1758942|     Macaca fascicularis|                                  /data/samples/species/PRJNA271912/SRX843173/SRR1758942/PRJNA271912_SRX843173_SRR1758942_genes_abundance.tsv|\n",
            "|SRR1758943|     Macaca fascicularis|                                  /data/samples/species/PRJNA271912/SRX843174/SRR1758943/PRJNA271912_SRX843174_SRR1758943_genes_abundance.tsv|\n",
            "|SRR1758957|     Macaca fascicularis|                                  /data/samples/species/PRJNA271912/SRX843188/SRR1758957/PRJNA271912_SRX843188_SRR1758957_genes_abundance.tsv|\n",
            "|SRR5120939|            Homo sapiens|                                /data/samples/species/PRJNA358081/SRX2436165/SRR5120939/PRJNA358081_SRX2436165_SRR5120939_genes_abundance.tsv|\n",
            "|SRR5961830|            Homo sapiens|                                /data/samples/species/PRJNA398031/SRX3119924/SRR5961830/PRJNA398031_SRX3119924_SRR5961830_genes_abundance.tsv|\n",
            "|SRR5120940|            Homo sapiens|                                /data/samples/species/PRJNA358081/SRX2436166/SRR512",
            "0940/PRJNA358081_SRX2436166_SRR5120940_genes_abundance.tsv|\n",
            "| SRR787277|            Homo sapiens|                                        /data/samples/species/GSE45326/GSM1101973/SRR787277/GSE45326_GSM1101973_SRR787277_genes_abundance.tsv|\n",
            "|SRR5961972|            Homo sapiens|                                /data/samples/species/PRJNA398031/SRX3120066/SRR5961972/PRJNA398031_SRX3120066_SRR5961972_genes_abundance.tsv|\n",
            "|SRR5961875|            Homo sapiens|                                /data/samples/species/PRJNA398031/SRX3119969/SRR5961875/PRJNA398031_SRX3119969_SRR5961875_genes_abundance.tsv|\n",
            "|SRR3715877|            Homo sapiens|                                      /data/samples/species/GSE83717/GSM2214001/SRR3715877/GSE83717_GSM2214001_SRR3715877_genes_abundance.tsv|\n",
            "|SRR5885325|            Homo sapiens|                  /data/samples/species/GSE86095_GSE102101/GSM2723925/SRR5885325/GSE86095_GSE102101_GSM2723925_SRR5885325_genes_abundance.tsv|\n",
            "|SRR8991100|            Homo sapiens|                           ",
            "     /data/samples/species/PRJNA540429/SRX5768918/SRR8991100/PRJNA540429_SRX5768918_SRR8991100_genes_abundance.tsv|\n",
            "|SRR7093842|            Homo sapiens|                                    /data/samples/species/GSE113957/GSM3124593/SRR7093842/GSE113957_GSM3124593_SRR7093842_genes_abundance.tsv|\n",
            "|SRR7093843|            Homo sapiens|                                    /data/samples/species/GSE113957/GSM3124594/SRR7093843/GSE113957_GSM3124594_SRR7093843_genes_abundance.tsv|\n",
            "|SRR7093898|            Homo sapiens|                                    /data/samples/species/GSE113957/GSM3124649/SRR7093898/GSE113957_GSM3124649_SRR7093898_genes_abundance.tsv|\n",
            "|SRR7093812|            Homo sapiens|                                    /data/samples/species/GSE113957/GSM3124563/SRR7093812/GSE113957_GSM3124563_SRR7093812_genes_abundance.tsv|\n",
            "|SRR7093844|            Homo sapiens|                                    /data/samples/species/GSE113957/GSM3124595/SRR7093844/GSE113957_GSM3124595_SRR7093844_genes_abundance.tsv|\n",
            "|SRR7093",
            "869|            Homo sapiens|                                    /data/samples/species/GSE113957/GSM3124620/SRR7093869/GSE113957_GSM3124620_SRR7093869_genes_abundance.tsv|\n",
            "|SRR7093899|            Homo sapiens|                                    /data/samples/species/GSE113957/GSM3124650/SRR7093899/GSE113957_GSM3124650_SRR7093899_genes_abundance.tsv|\n",
            "|SRR7093930|            Homo sapiens|                                    /data/samples/species/GSE113957/GSM3124681/SRR7093930/GSE113957_GSM3124681_SRR7093930_genes_abundance.tsv|\n",
            "|SRR7093817|            Homo sapiens|                                    /data/samples/species/GSE113957/GSM3124568/SRR7093817/GSE113957_GSM3124568_SRR7093817_genes_abundance.tsv|\n",
            "|SRR7093826|            Homo sapiens|                                    /data/samples/species/GSE113957/GSM3124577/SRR7093826/GSE113957_GSM3124577_SRR7093826_genes_abundance.tsv|\n",
            "|SRR7093849|            Homo sapiens|                                    /data/samples/species/GSE113957/GSM3124600/SRR7093849/GSE11",
            "3957_GSM3124600_SRR7093849_genes_abundance.tsv|\n",
            "|SRR7093858|            Homo sapiens|                                    /data/samples/species/GSE113957/GSM3124609/SRR7093858/GSE113957_GSM3124609_SRR7093858_genes_abundance.tsv|\n",
            "|SRR7093874|            Homo sapiens|                                    /data/samples/species/GSE113957/GSM3124625/SRR7093874/GSE113957_GSM3124625_SRR7093874_genes_abundance.tsv|\n",
            "|SRR7093883|            Homo sapiens|                                    /data/samples/species/GSE113957/GSM3124634/SRR7093883/GSE113957_GSM3124634_SRR7093883_genes_abundance.tsv|\n",
            "|SRR7093900|            Homo sapiens|                                    /data/samples/species/GSE113957/GSM3124651/SRR7093900/GSE113957_GSM3124651_SRR7093900_genes_abundance.tsv|\n",
            "|SRR7093918|            Homo sapiens|                                    /data/samples/species/GSE113957/GSM3124669/SRR7093918/GSE113957_GSM3124669_SRR7093918_genes_abundance.tsv|\n",
            "|SRR7093931|            Homo sapiens|                                    /da",
            "ta/samples/species/GSE113957/GSM3124682/SRR7093931/GSE113957_GSM3124682_SRR7093931_genes_abundance.tsv|\n",
            "|SRR7093940|            Homo sapiens|                                    /data/samples/species/GSE113957/GSM3124691/SRR7093940/GSE113957_GSM3124691_SRR7093940_genes_abundance.tsv|\n",
            "|SRR7093809|            Homo sapiens|                                    /data/samples/species/GSE113957/GSM3124560/SRR7093809/GSE113957_GSM3124560_SRR7093809_genes_abundance.tsv|\n",
            "|SRR7093818|            Homo sapiens|                                    /data/samples/species/GSE113957/GSM3124569/SRR7093818/GSE113957_GSM3124569_SRR7093818_genes_abundance.tsv|\n",
            "|SRR7093827|            Homo sapiens|                                    /data/samples/species/GSE113957/GSM3124578/SRR7093827/GSE113957_GSM3124578_SRR7093827_genes_abundance.tsv|\n",
            "|SRR7093834|            Homo sapiens|                                    /data/samples/species/GSE113957/GSM3124585/SRR7093834/GSE113957_GSM3124585_SRR7093834_genes_abundance.tsv|\n",
            "|SRR7093850|        ",
            "    Homo sapiens|                                    /data/samples/species/GSE113957/GSM3124601/SRR7093850/GSE113957_GSM3124601_SRR7093850_genes_abundance.tsv|\n",
            "|SRR7093859|            Homo sapiens|                                    /data/samples/species/GSE113957/GSM3124610/SRR7093859/GSE113957_GSM3124610_SRR7093859_genes_abundance.tsv|\n",
            "|SRR7093865|            Homo sapiens|                                    /data/samples/species/GSE113957/GSM3124616/SRR7093865/GSE113957_GSM3124616_SRR7093865_genes_abundance.tsv|\n",
            "|SRR7093875|            Homo sapiens|                                    /data/samples/species/GSE113957/GSM3124626/SRR7093875/GSE113957_GSM3124626_SRR7093875_genes_abundance.tsv|\n",
            "|SRR7093877|            Homo sapiens|                                    /data/samples/species/GSE113957/GSM3124628/SRR7093877/GSE113957_GSM3124628_SRR7093877_genes_abundance.tsv|\n",
            "|SRR7093884|            Homo sapiens|                                    /data/samples/species/GSE113957/GSM3124635/SRR7093884/GSE113957_GSM3124",
            "635_SRR7093884_genes_abundance.tsv|\n",
            "|SRR7093894|            Homo sapiens|                                    /data/samples/species/GSE113957/GSM3124645/SRR7093894/GSE113957_GSM3124645_SRR7093894_genes_abundance.tsv|\n",
            "|SRR7093909|            Homo sapiens|                                    /data/samples/species/GSE113957/GSM3124660/SRR7093909/GSE113957_GSM3124660_SRR7093909_genes_abundance.tsv|\n",
            "|SRR7093910|            Homo sapiens|                                    /data/samples/species/GSE113957/GSM3124661/SRR7093910/GSE113957_GSM3124661_SRR7093910_genes_abundance.tsv|\n",
            "|SRR7093919|            Homo sapiens|                                    /data/samples/species/GSE113957/GSM3124670/SRR7093919/GSE113957_GSM3124670_SRR7093919_genes_abundance.tsv|\n",
            "|SRR7093926|            Homo sapiens|                                    /data/samples/species/GSE113957/GSM3124677/SRR7093926/GSE113957_GSM3124677_SRR7093926_genes_abundance.tsv|\n",
            "|SRR7093932|            Homo sapiens|                                    /data/samples/s",
            "pecies/GSE113957/GSM3124683/SRR7093932/GSE113957_GSM3124683_SRR7093932_genes_abundance.tsv|\n",
            "|SRR7093934|            Homo sapiens|                                    /data/samples/species/GSE113957/GSM3124685/SRR7093934/GSE113957_GSM3124685_SRR7093934_genes_abundance.tsv|\n",
            "|SRR7093941|            Homo sapiens|                                    /data/samples/species/GSE113957/GSM3124692/SRR7093941/GSE113957_GSM3124692_SRR7093941_genes_abundance.tsv|\n",
            "|SRR7093947|            Homo sapiens|                                    /data/samples/species/GSE113957/GSM3124698/SRR7093947/GSE113957_GSM3124698_SRR7093947_genes_abundance.tsv|\n",
            "|SRR7093810|            Homo sapiens|                                    /data/samples/species/GSE113957/GSM3124561/SRR7093810/GSE113957_GSM3124561_SRR7093810_genes_abundance.tsv|\n",
            "|SRR7093811|            Homo sapiens|                                    /data/samples/species/GSE113957/GSM3124562/SRR7093811/GSE113957_GSM3124562_SRR7093811_genes_abundance.tsv|\n",
            "|SRR7093819|            Homo sap",
            "iens|                                    /data/samples/species/GSE113957/GSM3124570/SRR7093819/GSE113957_GSM3124570_SRR7093819_genes_abundance.tsv|\n",
            "|SRR7093820|            Homo sapiens|                                    /data/samples/species/GSE113957/GSM3124571/SRR7093820/GSE113957_GSM3124571_SRR7093820_genes_abundance.tsv|\n",
            "|SRR7093828|            Homo sapiens|                                    /data/samples/species/GSE113957/GSM3124579/SRR7093828/GSE113957_GSM3124579_SRR7093828_genes_abundance.tsv|\n",
            "|SRR7093835|            Homo sapiens|                                    /data/samples/species/GSE113957/GSM3124586/SRR7093835/GSE113957_GSM3124586_SRR7093835_genes_abundance.tsv|\n",
            "|SRR7093836|            Homo sapiens|                                    /data/samples/species/GSE113957/GSM3124587/SRR7093836/GSE113957_GSM3124587_SRR7093836_genes_abundance.tsv|\n",
            "|SRR7093851|            Homo sapiens|                                    /data/samples/species/GSE113957/GSM3124602/SRR7093851/GSE113957_GSM3124602_SRR70938",
            "51_genes_abundance.tsv|\n",
            "|SRR7093852|            Homo sapiens|                                    /data/samples/species/GSE113957/GSM3124603/SRR7093852/GSE113957_GSM3124603_SRR7093852_genes_abundance.tsv|\n",
            "|SRR7093860|            Homo sapiens|                                    /data/samples/species/GSE113957/GSM3124611/SRR7093860/GSE113957_GSM3124611_SRR7093860_genes_abundance.tsv|\n",
            "|SRR7093866|            Homo sapiens|                                    /data/samples/species/GSE113957/GSM3124617/SRR7093866/GSE113957_GSM3124617_SRR7093866_genes_abundance.tsv|\n",
            "|SRR7093867|            Homo sapiens|                                    /data/samples/species/GSE113957/GSM3124618/SRR7093867/GSE113957_GSM3124618_SRR7093867_genes_abundance.tsv|\n",
            "|SRR7093876|            Homo sapiens|                                    /data/samples/species/GSE113957/GSM3124627/SRR7093876/GSE113957_GSM3124627_SRR7093876_genes_abundance.tsv|\n",
            "|SRR7093878|            Homo sapiens|                                    /data/samples/species/GSE11",
            "3957/GSM3124629/SRR7093878/GSE113957_GSM3124629_SRR7093878_genes_abundance.tsv|\n",
            "|SRR7093881|            Homo sapiens|                                    /data/samples/species/GSE113957/GSM3124632/SRR7093881/GSE113957_GSM3124632_SRR7093881_genes_abundance.tsv|\n",
            "|SRR7093885|            Homo sapiens|                                    /data/samples/species/GSE113957/GSM3124636/SRR7093885/GSE113957_GSM3124636_SRR7093885_genes_abundance.tsv|\n",
            "|SRR7093895|            Homo sapiens|                                    /data/samples/species/GSE113957/GSM3124646/SRR7093895/GSE113957_GSM3124646_SRR7093895_genes_abundance.tsv|\n",
            "|SRR7093896|            Homo sapiens|                                    /data/samples/species/GSE113957/GSM3124647/SRR7093896/GSE113957_GSM3124647_SRR7093896_genes_abundance.tsv|\n",
            "|SRR7093911|            Homo sapiens|                                    /data/samples/species/GSE113957/GSM3124662/SRR7093911/GSE113957_GSM3124662_SRR7093911_genes_abundance.tsv|\n",
            "|SRR7093912|            Homo sapiens|       ",
            "                             /data/samples/species/GSE113957/GSM3124663/SRR7093912/GSE113957_GSM3124663_SRR7093912_genes_abundance.tsv|\n",
            "|SRR7093920|            Homo sapiens|                                    /data/samples/species/GSE113957/GSM3124671/SRR7093920/GSE113957_GSM3124671_SRR7093920_genes_abundance.tsv|\n",
            "|SRR7093927|            Homo sapiens|                                    /data/samples/species/GSE113957/GSM3124678/SRR7093927/GSE113957_GSM3124678_SRR7093927_genes_abundance.tsv|\n",
            "|SRR7093928|            Homo sapiens|                                    /data/samples/species/GSE113957/GSM3124679/SRR7093928/GSE113957_GSM3124679_SRR7093928_genes_abundance.tsv|\n",
            "|SRR7093933|            Homo sapiens|                                    /data/samples/species/GSE113957/GSM3124684/SRR7093933/GSE113957_GSM3124684_SRR7093933_genes_abundance.tsv|\n",
            "|SRR7093935|            Homo sapiens|                                    /data/samples/species/GSE113957/GSM3124686/SRR7093935/GSE113957_GSM3124686_SRR7093935_genes_abu",
            "ndance.tsv|\n",
            "|SRR7093936|            Homo sapiens|                                    /data/samples/species/GSE113957/GSM3124687/SRR7093936/GSE113957_GSM3124687_SRR7093936_genes_abundance.tsv|\n",
            "|SRR7093942|            Homo sapiens|                                    /data/samples/species/GSE113957/GSM3124693/SRR7093942/GSE113957_GSM3124693_SRR7093942_genes_abundance.tsv|\n",
            "|SRR7093948|            Homo sapiens|                                    /data/samples/species/GSE113957/GSM3124699/SRR7093948/GSE113957_GSM3124699_SRR7093948_genes_abundance.tsv|\n",
            "|SRR7093949|            Homo sapiens|                                    /data/samples/species/GSE113957/GSM3124700/SRR7093949/GSE113957_GSM3124700_SRR7093949_genes_abundance.tsv|\n",
            "|SRR5008362|            Homo sapiens|                                      /data/samples/species/GSE89714/GSM2387234/SRR5008362/GSE89714_GSM2387234_SRR5008362_genes_abundance.tsv|\n",
            "|SRR7093951|            Homo sapiens|                                    /data/samples/species/GSE113957/GSM3124",
            "702/SRR7093951/GSE113957_GSM3124702_SRR7093951_genes_abundance.tsv|\n",
            "|SRR7093825|            Homo sapiens|                                    /data/samples/species/GSE113957/GSM3124576/SRR7093825/GSE113957_GSM3124576_SRR7093825_genes_abundance.tsv|\n",
            "|SRR7093833|            Homo sapiens|                                    /data/samples/species/GSE113957/GSM3124584/SRR7093833/GSE113957_GSM3124584_SRR7093833_genes_abundance.tsv|\n",
            "|SRR7093841|            Homo sapiens|                                    /data/samples/species/GSE113957/GSM3124592/SRR7093841/GSE113957_GSM3124592_SRR7093841_genes_abundance.tsv|\n",
            "|SRR7093857|            Homo sapiens|                                    /data/samples/species/GSE113957/GSM3124608/SRR7093857/GSE113957_GSM3124608_SRR7093857_genes_abundance.tsv|\n",
            "|SRR7093864|            Homo sapiens|                                    /data/samples/species/GSE113957/GSM3124615/SRR7093864/GSE113957_GSM3124615_SRR7093864_genes_abundance.tsv|\n",
            "|SRR7093868|            Homo sapiens|                   ",
            "                 /data/samples/species/GSE113957/GSM3124619/SRR7093868/GSE113957_GSM3124619_SRR7093868_genes_abundance.tsv|\n",
            "|SRR7093882|            Homo sapiens|                                    /data/samples/species/GSE113957/GSM3124633/SRR7093882/GSE113957_GSM3124633_SRR7093882_genes_abundance.tsv|\n",
            "|SRR7093893|            Homo sapiens|                                    /data/samples/species/GSE113957/GSM3124644/SRR7093893/GSE113957_GSM3124644_SRR7093893_genes_abundance.tsv|\n",
            "|SRR7093897|            Homo sapiens|                                    /data/samples/species/GSE113957/GSM3124648/SRR7093897/GSE113957_GSM3124648_SRR7093897_genes_abundance.tsv|\n",
            "|SRR7093917|            Homo sapiens|                                    /data/samples/species/GSE113957/GSM3124668/SRR7093917/GSE113957_GSM3124668_SRR7093917_genes_abundance.tsv|\n",
            "|SRR7093925|            Homo sapiens|                                    /data/samples/species/GSE113957/GSM3124676/SRR7093925/GSE113957_GSM3124676_SRR7093925_genes_abundance.tsv|\n",
            "|SRR7093929|            Homo sapiens|                                    /data/samples/species/GSE113957/GSM3124680/SRR7093929/GSE113957_GSM3124680_SRR7093929_genes_abundance.tsv|\n",
            "|SRR7093939|            Homo sapiens|                                    /data/samples/species/GSE113957/GSM3124690/SRR7093939/GSE113957_GSM3124690_SRR7093939_genes_abundance.tsv|\n",
            "|SRR7093946|            Homo sapiens|                                    /data/samples/species/GSE113957/GSM3124697/SRR7093946/GSE113957_GSM3124697_SRR7093946_genes_abundance.tsv|\n",
            "|SRR7093950|            Homo sapiens|                                    /data/samples/species/GSE113957/GSM3124701/SRR7093950/GSE113957_GSM3124701_SRR7093950_genes_abundance.tsv|\n",
            "|SRR1521445|            Homo sapiens|                                      /data/samples/species/GSE59612/GSM1440503/SRR1521445/GSE59612_GSM1440503_SRR1521445_genes_abundance.tsv|\n",
            "| SRR306398|   Heterocephalus glaber|                                          /data/samples/species/GSE30337/GSM752151/SRR3",
            "06398/GSE30337_GSM752151_SRR306398_genes_abundance.tsv|\n",
            "| SRR306399|   Heterocephalus glaber|                                          /data/samples/species/GSE30337/GSM752152/SRR306399/GSE30337_GSM752152_SRR306399_genes_abundance.tsv|\n",
            "| SRR306400|   Heterocephalus glaber|                                          /data/samples/species/GSE30337/GSM752153/SRR306400/GSE30337_GSM752153_SRR306400_genes_abundance.tsv|\n",
            "| SRR306403|   Heterocephalus glaber|                                          /data/samples/species/GSE30337/GSM752156/SRR306403/GSE30337_GSM752156_SRR306403_genes_abundance.tsv|\n",
            "|SRR2124226|   Heterocephalus glaber|                                /data/samples/species/PRJNA283581/SRX1115772/SRR2124227/PRJNA283581_SRX1115772_SRR2124227_genes_abundance.tsv|\n",
            "| SRR306394|   Heterocephalus glaber|                                          /data/samples/species/GSE30337/GSM752147/SRR306394/GSE30337_GSM752147_SRR306394_genes_abundance.tsv|\n",
            "| SRR306401|   Heterocephalus glaber|                               ",
            "           /data/samples/species/GSE30337/GSM752154/SRR306401/GSE30337_GSM752154_SRR306401_genes_abundance.tsv|\n",
            "| SRR306404|   Heterocephalus glaber|                                          /data/samples/species/GSE30337/GSM752157/SRR306404/GSE30337_GSM752157_SRR306404_genes_abundance.tsv|\n",
            "| SRR306406|   Heterocephalus glaber|                                          /data/samples/species/GSE30337/GSM752159/SRR306406/GSE30337_GSM752159_SRR306406_genes_abundance.tsv|\n",
            "|SRR2124226|   Heterocephalus glaber|                                /data/samples/species/PRJNA283581/SRX1115772/SRR2124226/PRJNA283581_SRX1115772_SRR2124226_genes_abundance.tsv|\n",
            "| SRR306397|   Heterocephalus glaber|                                          /data/samples/species/GSE30337/GSM752150/SRR306397/GSE30337_GSM752150_SRR306397_genes_abundance.tsv|\n",
            "| SRR306395|   Heterocephalus glaber|                                          /data/samples/species/GSE30337/GSM752148/SRR306395/GSE30337_GSM752148_SRR306395_genes_abundance.tsv|\n",
            "| SRR306402|",
            "   Heterocephalus glaber|                                          /data/samples/species/GSE30337/GSM752155/SRR306402/GSE30337_GSM752155_SRR306402_genes_abundance.tsv|\n",
            "|ERR1331676|   Heterocephalus glaber|                                  /data/samples/species/PRJEB13074/ERX1403296/ERR1331676/PRJEB13074_ERX1403296_ERR1331676_genes_abundance.tsv|\n",
            "| SRR306396|   Heterocephalus glaber|                                          /data/samples/species/GSE30337/GSM752149/SRR306396/GSE30337_GSM752149_SRR306396_genes_abundance.tsv|\n",
            "| SRR306801|         Gorilla gorilla|                                    /data/samples/species/PRJNA143627/SRX081945/SRR306801/PRJNA143627_SRX081945_SRR306801_genes_abundance.tsv|\n",
            "| SRR306800|         Gorilla gorilla|                                          /data/samples/species/GSE30352/GSM752653/SRR306800/GSE30352_GSM752653_SRR306800_genes_abundance.tsv|\n",
            "| SRR306804|         Gorilla gorilla|                                          /data/samples/species/GSE30352/GSM752657/SRR306804/GSE303",
            "52_GSM752657_SRR306804_genes_abundance.tsv|\n",
            "| SRR306804|         Gorilla gorilla|                                    /data/samples/species/PRJNA143627/SRX081948/SRR306804/PRJNA143627_SRX081948_SRR306804_genes_abundance.tsv|\n",
            "| SRR306806|         Gorilla gorilla|                                          /data/samples/species/GSE30352/GSM752659/SRR306806/GSE30352_GSM752659_SRR306806_genes_abundance.tsv|\n",
            "| SRR306805|         Gorilla gorilla|                                    /data/samples/species/PRJNA143627/SRX081949/SRR306805/PRJNA143627_SRX081949_SRR306805_genes_abundance.tsv|\n",
            "| SRR306800|         Gorilla gorilla|                                    /data/samples/species/PRJNA143627/SRX081944/SRR306800/PRJNA143627_SRX081944_SRR306800_genes_abundance.tsv|\n",
            "| SRR306807|         Gorilla gorilla|                                          /data/samples/species/GSE30352/GSM752660/SRR306807/GSE30352_GSM752660_SRR306807_genes_abundance.tsv|\n",
            "| SRR649365|         Gorilla gorilla|                                    /data/s",
            "amples/species/PRJNA186646/SRX217685/SRR649365/PRJNA186646_SRX217685_SRR649365_genes_abundance.tsv|\n",
            "| SRR306809|         Gorilla gorilla|                                          /data/samples/species/GSE30352/GSM752662/SRR306809/GSE30352_GSM752662_SRR306809_genes_abundance.tsv|\n",
            "|SRR9179216|           Gallus gallus|                                /data/samples/species/PRJNA542984/SRX5951879/SRR9179216/PRJNA542984_SRX5951879_SRR9179216_genes_abundance.tsv|\n",
            "|SRR9179229|           Gallus gallus|                                /data/samples/species/PRJNA542984/SRX5951866/SRR9179229/PRJNA542984_SRX5951866_SRR9179229_genes_abundance.tsv|\n",
            "| ERR348569|           Gallus gallus|                                        /data/samples/species/PRJEB4677/ERX321418/ERR348569/PRJEB4677_ERX321418_ERR348569_genes_abundance.tsv|\n",
            "|ERR2031632|           Gallus gallus|                                  /data/samples/species/PRJEB21760/ERX2090689/ERR2031632/PRJEB21760_ERX2090689_ERR2031632_genes_abundance.tsv|\n",
            "|SRR1297332|           G",
            "allus gallus|                                  /data/samples/species/PRJNA248454/SRX551614/SRR1297332/PRJNA248454_SRX551614_SRR1297332_genes_abundance.tsv|\n",
            "|SRR4030877|           Gallus gallus|                                /data/samples/species/PRJNA338488/SRX2022418/SRR4030877/PRJNA338488_SRX2022418_SRR4030877_genes_abundance.tsv|\n",
            "|SRR3200462|             Felis catus|                                /data/samples/species/PRJNA312519/SRX1610315/SRR3200462/PRJNA312519_SRX1610315_SRR3200462_genes_abundance.tsv|\n",
            "|SRR3200449|             Felis catus|                                /data/samples/species/PRJNA312519/SRX1610302/SRR3200449/PRJNA312519_SRX1610302_SRR3200449_genes_abundance.tsv|\n",
            "|SRR3200460|             Felis catus|                                /data/samples/species/PRJNA312519/SRX1610313/SRR3200460/PRJNA312519_SRX1610313_SRR3200460_genes_abundance.tsv|\n",
            "| SRR636906|             Felis catus|                                    /data/samples/species/PRJNA184055/SRX211646/SRR636906/PRJNA184055_SRX211646",
            "_SRR636906_genes_abundance.tsv|\n",
            "| SRR636904|             Felis catus|                                    /data/samples/species/PRJNA184055/SRX211644/SRR636904/PRJNA184055_SRX211644_SRR636904_genes_abundance.tsv|\n",
            "|SRR3200471|             Felis catus|                                /data/samples/species/PRJNA312519/SRX1610324/SRR3200471/PRJNA312519_SRX1610324_SRR3200471_genes_abundance.tsv|\n",
            "| SRR636905|             Felis catus|                                    /data/samples/species/PRJNA184055/SRX211645/SRR636905/PRJNA184055_SRX211645_SRR636905_genes_abundance.tsv|\n",
            "|SRR3403828|          Equus caballus|                                /data/samples/species/PRJNA318917/SRX1714556/SRR3403828/PRJNA318917_SRX1714556_SRR3403828_genes_abundance.tsv|\n",
            "|SRR4039470|          Equus caballus|                                /data/samples/species/PRJNA339185/SRX2030604/SRR4039470/PRJNA339185_SRX2030604_SRR4039470_genes_abundance.tsv|\n",
            "|SRR4039471|          Equus caballus|                                /data/samples/species/P",
            "RJNA339185/SRX2030605/SRR4039471/PRJNA339185_SRX2030605_SRR4039471_genes_abundance.tsv|\n",
            "|SRR3403827|          Equus caballus|                                /data/samples/species/PRJNA318917/SRX1714555/SRR3403827/PRJNA318917_SRX1714555_SRR3403827_genes_abundance.tsv|\n",
            "|SRR4039473|          Equus caballus|                                /data/samples/species/PRJNA339185/SRX2030607/SRR4039473/PRJNA339185_SRX2030607_SRR4039473_genes_abundance.tsv|\n",
            "| SRR636945|          Equus caballus|                                        /data/samples/species/GSE43013/GSM1055095/SRR636945/GSE43013_GSM1055095_SRR636945_genes_abundance.tsv|\n",
            "| SRR636850|          Equus caballus|                                        /data/samples/species/GSE43013/GSM1055000/SRR636850/GSE43013_GSM1055000_SRR636850_genes_abundance.tsv|\n",
            "| SRR636900|          Equus caballus|                                        /data/samples/species/GSE43013/GSM1055050/SRR636900/GSE43013_GSM1055050_SRR636900_genes_abundance.tsv|\n",
            "| SRR095666|          Equus caballus",
            "|                                          /data/samples/species/GSE26794/GSM659166/SRR095666/GSE26794_GSM659166_SRR095666_genes_abundance.tsv|\n",
            "|SRR2968905|       Coturnix japonica|                                /data/samples/species/PRJNA296888/SRX1458275/SRR2968905/PRJNA296888_SRX1458275_SRR2968905_genes_abundance.tsv|\n",
            "|SRR2968870|       Coturnix japonica|                                /data/samples/species/PRJNA296888/SRX1458240/SRR2968870/PRJNA296888_SRX1458240_SRR2968870_genes_abundance.tsv|\n",
            "|SRR2968903|       Coturnix japonica|                                /data/samples/species/PRJNA296888/SRX1458273/SRR2968903/PRJNA296888_SRX1458273_SRR2968903_genes_abundance.tsv|\n",
            "|SRR2968904|       Coturnix japonica|                                /data/samples/species/PRJNA296888/SRX1458274/SRR2968904/PRJNA296888_SRX1458274_SRR2968904_genes_abundance.tsv|\n",
            "|ERR1331683|         Cavia porcellus|                                  /data/samples/species/PRJEB13074/ERX1403303/ERR1331683/PRJEB13074_ERX1403303_ERR1331683_g",
            "enes_abundance.tsv|\n",
            "| ERR162228|         Cavia porcellus|                                        /data/samples/species/PRJEB3197/ERX138087/ERR162228/PRJEB3197_ERX138087_ERR162228_genes_abundance.tsv|\n",
            "|SRR1200909|         Cavia porcellus|                                  /data/samples/species/PRJNA242409/SRX497651/SRR1200909/PRJNA242409_SRX497651_SRR1200909_genes_abundance.tsv|\n",
            "| SRR636898|         Cavia porcellus|                                    /data/samples/species/PRJNA184055/SRX211638/SRR636898/PRJNA184055_SRR636898_SRR636898_genes_abundance.tsv|\n",
            "|SRR1200908|         Cavia porcellus|                                  /data/samples/species/PRJNA242409/SRX497650/SRR1200908/PRJNA242409_SRX497650_SRR1200908_genes_abundance.tsv|\n",
            "|SRR5190453|            Capra hircus|                                      /data/samples/species/GSE93855/GSM2464069/SRR5190453/GSE93855_GSM2464069_SRR5190453_genes_abundance.tsv|\n",
            "|SRR3109728|            Capra hircus|                                /data/samples/species/PRJNA309284/S",
            "RX1538145/SRR3109728/PRJNA309284_SRX1538145_SRR3109728_genes_abundance.tsv|\n",
            "|SRR5190441|            Capra hircus|                                /data/samples/species/PRJNA362606/SRX2506261/SRR5190441/PRJNA362606_SRX2506261_SRR5190441_genes_abundance.tsv|\n",
            "|SRR5190441|            Capra hircus|                                      /data/samples/species/GSE93855/GSM2464057/SRR5190441/GSE93855_GSM2464057_SRR5190441_genes_abundance.tsv|\n",
            "| SRR636842|  Canis lupus familiaris|                                    /data/samples/species/PRJNA184055/SRX211582/SRR636842/PRJNA184055_SRX211582_SRR636842_genes_abundance.tsv|\n",
            "| SRR636843|  Canis lupus familiaris|                                    /data/samples/species/PRJNA184055/SRX211583/SRR636843/PRJNA184055_SRX211583_SRR636843_genes_abundance.tsv|\n",
            "| SRR636893|  Canis lupus familiaris|                                    /data/samples/species/PRJNA184055/SRX211633/SRR636893/PRJNA184055_SRX211633_SRR636893_genes_abundance.tsv|\n",
            "| SRR636938|  Canis lupus familiaris|           ",
            "                         /data/samples/species/PRJNA184055/SRX211678/SRR636938/PRJNA184055_SRX211678_SRR636938_genes_abundance.tsv|\n",
            "|SRR1758977|      Callithrix jacchus|                                  /data/samples/species/PRJNA271912/SRX843208/SRR1758977/PRJNA271912_SRX843208_SRR1758977_genes_abundance.tsv|\n",
            "|SRR1758978|      Callithrix jacchus|                                  /data/samples/species/PRJNA271912/SRX843209/SRR1758978/PRJNA271912_SRX843209_SRR1758978_genes_abundance.tsv|\n",
            "|SRR1758979|      Callithrix jacchus|                                 /data/samples/species/PRJNA271912/SRX843210/SRR1758979/PRJNA271912_SRR1758979_SRR1758979_genes_abundance.tsv|\n",
            "|SRR1758985|      Callithrix jacchus|                                 /data/samples/species/PRJNA271912/SRX843216/SRR1758985/PRJNA271912_SRR1758985_SRR1758985_genes_abundance.tsv|\n",
            "|SRR1758981|      Callithrix jacchus|                                  /data/samples/species/PRJNA271912/SRX843212/SRR1758981/PRJNA271912_SRX843212_SRR1758981_genes_abundan",
            "ce.tsv|\n",
            "|SRR5928359|      Callithrix jacchus|                                /data/samples/species/PRJNA397900/SRX3088668/SRR5928359/PRJNA397900_SRX3088668_SRR5928359_genes_abundance.tsv|\n",
            "|SRR5928355|      Callithrix jacchus|                                /data/samples/species/PRJNA397900/SRX3088672/SRR5928355/PRJNA397900_SRX3088672_SRR5928355_genes_abundance.tsv|\n",
            "|SRR1758982|      Callithrix jacchus|                                  /data/samples/species/PRJNA271912/SRX843213/SRR1758982/PRJNA271912_SRX843213_SRR1758982_genes_abundance.tsv|\n",
            "|SRR5928357|      Callithrix jacchus|                                /data/samples/species/PRJNA397900/SRX3088670/SRR5928357/PRJNA397900_SRX3088670_SRR5928357_genes_abundance.tsv|\n",
            "|SRR1758983|      Callithrix jacchus|                                 /data/samples/species/PRJNA271912/SRX843214/SRR1758983/PRJNA271912_SRR1758983_SRR1758983_genes_abundance.tsv|\n",
            "|SRR3109705|              Bos taurus|                                      /data/samples/species/GSE77020/GSM2042593",
            "/SRR3109705/GSE77020_GSM2042593_SRR3109705_genes_abundance.tsv|\n",
            "|SRR3109709|              Bos taurus|                                      /data/samples/species/GSE77020/GSM2042597/SRR3109709/GSE77020_GSM2042597_SRR3109709_genes_abundance.tsv|\n",
            "|SRR3109710|              Bos taurus|                                      /data/samples/species/GSE77020/GSM2042598/SRR3109710/GSE77020_GSM2042598_SRR3109710_genes_abundance.tsv|\n",
            "+----------+------------------------+---------------------------------------------------------------------------------------------------------------------------------------------+\n",
            "\n"
          ],
          "output_type" : "stream"
        }
      ]
    },
    {
      "cell_type" : "code",
      "execution_count" : 5,
      "metadata" : {
        "cell.metadata.exec_info" : {
          "startTs" : 1580858613238,
          "endTs" : 1580858614430
        },
        "language" : "scala"
      },
      "language" : "scala",
      "source" : [
        "samples.writeTSV(\"/data/samples/samples_partial.csv\", sep=\",\")"
      ],
      "outputs" : [
        {
          "name" : "stdout",
          "text" : [
            "parts of /data/samples/samples_partial.csv merged!\n"
          ],
          "output_type" : "stream"
        },
        {
          "execution_count" : 5,
          "data" : {
            "text/plain" : [
              "/data/samples/samples_partial.csv"
            ]
          },
          "metadata" : {
            "name" : "Out",
            "type" : "String"
          },
          "output_type" : "execute_result"
        }
      ]
    },
    {
      "cell_type" : "code",
      "execution_count" : 6,
      "metadata" : {
        "cell.metadata.exec_info" : {
          "startTs" : 1581638394408,
          "endTs" : 1581638395899
        },
        "language" : "scala"
      },
      "language" : "scala",
      "source" : [
        "def prefix(prefix: String, sufix: String) =  udf[String, String]{ str=> prefix + str + sufix}"
      ],
      "outputs" : [
      ]
    },
    {
      "cell_type" : "markdown",
      "execution_count" : 7,
      "metadata" : {
        "language" : "text"
      },
      "language" : "text",
      "source" : [
        "<div><b>Extended species file<br></b></div><div>-----------<br></div>"
      ],
      "outputs" : [
      ]
    },
    {
      "cell_type" : "code",
      "execution_count" : 8,
      "metadata" : {
        "cell.metadata.exec_info" : {
          "startTs" : 1581638397184,
          "endTs" : 1581638398900
        },
        "language" : "scala"
      },
      "language" : "scala",
      "source" : [
        "val anage = spark.readTSV(\"/data/databases/anage/anage_data.tsv\", header = true)\n",
        " .withColumn(\"scientific_name\", concat($\"Genus\", lit(\" \"), $\"Species\"))\n",
        "anage.show()"
      ],
      "outputs" : [
        {
          "name" : "stdout",
          "text" : [
            "+------+--------+----------+------------+-----------+--------------+-------------+------------+--------------------+----------------------+--------------------+---------------------------+--------------+------------------+-------------------------+--------------------------------+----------------+------------------+----------------+--------------------+-----------------------+------+---------------+-----------+------------+------------+----------+------------------+-------------+---------------+--------------------+--------------------+\n",
            "|HAGRID| Kingdom|    Phylum|       Class|      Order|        Family|        Genus|     Species|         Common name|Female maturity (days)|Male maturity (days)|Gestation/Incubation (days)|Weaning (days)|Litter/Clutch size|Litters/Clutches per year|Inter-litter/Interbirth interval|Birth weight (g)|Weaning weight (g)|Adult weight (g)|Growth rate (1/days)|Maximum longevity (yrs)|Source|Specimen origin|Sample size|Data quality|IMR (per yr)|MRDT (yrs)|Metabolic rate (W)|Body mass (",
            "g)|Temperature (K)|          References|     scientific_name|\n",
            "+------+--------+----------+------------+-----------+--------------+-------------+------------+--------------------+----------------------+--------------------+---------------------------+--------------+------------------+-------------------------+--------------------------------+----------------+------------------+----------------+--------------------+-----------------------+------+---------------+-----------+------------+------------+----------+------------------+-------------+---------------+--------------------+--------------------+\n",
            "|     3|Animalia|Arthropoda|Branchiopoda|Diplostraca|    Daphniidae|      Daphnia|   pulicaria|             Daphnia|                  null|                null|                       null|          null|              null|                     null|                            null|            null|              null|            null|                null|                   0.19|  null|        unknown|     medium|  acc",
            "eptable|        null|      null|              null|         null|           null|      1294,1295,1296|   Daphnia pulicaria|\n",
            "|     5|Animalia|Arthropoda|     Insecta|    Diptera| Drosophilidae|   Drosophila|melanogaster|           Fruit fly|                     7|                   7|                       null|          null|              null|                     null|                            null|            null|              null|            null|                null|                    0.3|  null|      captivity|      large|  acceptable|        0.05|      0.04|              null|         null|           null|2,20,32,47,53,68,...|Drosophila melano...|\n",
            "|     6|Animalia|Arthropoda|     Insecta|Hymenoptera|        Apidae|         Apis|   mellifera|           Honey bee|                  null|                null|                       null|          null|              null|                     null|                            null|            null|              null|            null|                null|  ",
            "                  8.0|   812|        unknown|     medium|  acceptable|        null|      null|              null|         null|           null|63,407,408,741,80...|      Apis mellifera|\n",
            "|     8|Animalia|Arthropoda|     Insecta|Hymenoptera|    Formicidae|Cardiocondyla|   obscurior|Cardiocondyla obs...|                  null|                null|                       null|          null|              null|                     null|                            null|            null|              null|            null|                null|                    0.5|  1293|      captivity|     medium|  acceptable|        null|      null|              null|         null|           null|                1293|Cardiocondyla obs...|\n",
            "|     9|Animalia|Arthropoda|     Insecta|Hymenoptera|    Formicidae|       Lasius|       niger|    Black garden ant|                  null|                null|                       null|          null|              null|                     null|                            null|            nu",
            "ll|              null|            null|                null|                   28.0|   411|        unknown|     medium|  acceptable|        null|      null|              null|         null|           null|         411,813,814|        Lasius niger|\n",
            "|    10|Animalia|Arthropoda|     Insecta|Hymenoptera|    Formicidae|     Pheidole|     dentata|    Pheidole dentata|                  null|                null|                       null|          null|              null|                     null|                            null|            null|              null|            null|                null|                    0.4|  1156|      captivity|     medium|questionable|        null|      null|              null|         null|           null|                1156|    Pheidole dentata|\n",
            "|    11|Animalia|Arthropoda|     Insecta|Lepidoptera|   Nymphalidae|     Bicyclus|     anynana|Squinting bush brown|                    15|                  15|                       null|          null|              null|           ",
            "          null|                            null|            null|              null|            null|                null|                    0.5|   811|           wild|     medium|  acceptable|        null|      null|              null|         null|           null|         418,809,811|    Bicyclus anynana|\n",
            "|    12|Animalia|Arthropoda|Malacostraca|   Decapoda|   Nephropidae|      Homarus|  americanus|    American lobster|                  null|                null|                       null|          null|              null|                     null|                            null|            null|              null|            null|                null|                  100.0|     2|           wild|     medium|  acceptable|        null|      null|              null|         null|           null|            2,13,594|  Homarus americanus|\n",
            "|    15|Animalia|  Chordata|    Amphibia|      Anura|Bombinatoridae|      Bombina|     bombina|      Firebelly toad|                  1095|                1095|           ",
            "            null|          null|             190.0|                     null|                            null|            null|              null|            null|                null|                   20.0|   485|      captivity|     medium|  acceptable|        null|      null|              null|         null|           null|         485,525,749|     Bombina bombina|\n",
            "|    16|Animalia|  Chordata|    Amphibia|      Anura|Bombinatoridae|      Bombina|  orientalis|Oriental firebell...|                  null|                null|                       null|          null|             148.0|                     null|                            null|            null|              null|            null|                null|                   15.8|   451|      captivity|      large|  acceptable|        null|      null|              null|         null|           null|         451,525,749|  Bombina orientalis|\n",
            "|    17|Animalia|  Chordata|    Amphibia|      Anura|Bombinatoridae|      Bombina|   variegata| Yellow-bellie",
            "d toad|                  null|                null|                       null|          null|              73.0|                     null|                            null|            null|              null|            null|                null|                   29.0|  null|      captivity|     medium|  acceptable|        null|      null|              null|         null|           null|          24,525,749|   Bombina variegata|\n",
            "|    18|Animalia|  Chordata|    Amphibia|      Anura|     Bufonidae|     Anaxyrus|  americanus|       American toad|                   910|                 910|                          8|          null|            6000.0|                     null|                             365|            null|              null|         21.7667|                null|                   36.0|   525|      captivity|     medium|  acceptable|        null|      null|           0.00829|         21.6|          288.0|  37,268,426,525,749| Anaxyrus americanus|\n",
            "|    19|Animalia|  Chordata|    Amphibia|      ",
            "Anura|     Bufonidae|     Anaxyrus|      boreas|        Western toad|                  1095|                1095|                          6|          null|            5200.0|                     null|                            null|            null|              null|            null|                null|                   11.5|   451|      captivity|     medium|  acceptable|        null|      null|              null|         null|           null|     437,451,526,749|     Anaxyrus boreas|\n",
            "|    20|Animalia|  Chordata|    Amphibia|      Anura|     Bufonidae|     Anaxyrus|     canorus|       Yosemite toad|                  1825|                1460|                         11|          null|            1750.0|                     null|                            null|            null|              null|            null|                null|                   15.0|   503|           wild|     medium|  acceptable|        null|      null|              null|         null|           null|         503,526,749|    Ana",
            "xyrus canorus|\n",
            "|    21|Animalia|  Chordata|    Amphibia|      Anura|     Bufonidae|     Anaxyrus|    cognatus|   Great plains toad|                   730|                 730|                          4|          null|           11074.0|                     null|                            null|            null|              null|            null|                null|                   10.7|   485|      captivity|      small|questionable|        null|      null|              null|         null|           null|         485,526,749|   Anaxyrus cognatus|\n",
            "|    22|Animalia|  Chordata|    Amphibia|      Anura|     Bufonidae|     Anaxyrus|     debilis|          Green toad|                  null|                null|                       null|          null|            1300.0|                     null|                            null|            null|              null|            null|                null|                   12.4|   451|      captivity|      small|  acceptable|        null|      null|              n",
            "ull|         null|           null|             451,749|    Anaxyrus debilis|\n",
            "|    23|Animalia|  Chordata|    Amphibia|      Anura|     Bufonidae|     Anaxyrus|  hemiophrys|       Canadian toad|                   730|                 730|                       null|          null|              null|                     null|                            null|            null|              null|            null|                null|                   13.3|   451|      captivity|      small|  acceptable|        null|      null|              null|         null|           null|             451,528| Anaxyrus hemiophrys|\n",
            "|    24|Animalia|  Chordata|    Amphibia|      Anura|     Bufonidae|     Anaxyrus|   punctatus|    Red-spotted toad|                   730|                 730|                       null|          null|            1500.0|                     null|                            null|            null|              null|            null|                null|                   11.3|   485|      captivity|  ",
            "   medium|  acceptable|        null|      null|              null|         null|           null|             485,749|  Anaxyrus punctatus|\n",
            "|    25|Animalia|  Chordata|    Amphibia|      Anura|     Bufonidae|     Anaxyrus|  retiformis|  Sonoran green toad|                  null|                null|                          2|          null|              null|                     null|                            null|            null|              null|            null|                null|                   15.3|   451|      captivity|      small|  acceptable|        null|      null|              null|         null|           null|             451,749| Anaxyrus retiformis|\n",
            "|    26|Animalia|  Chordata|    Amphibia|      Anura|     Bufonidae|     Anaxyrus|  terrestris|       Southern toad|                  null|                null|                          3|          null|            3250.0|                     null|                            null|            null|              null|          19.267|        ",
            "        null|                   10.0|   451|      captivity|     medium|  acceptable|        null|      null|           0.00698|         19.2|          288.0|          37,451,749| Anaxyrus terrestris|\n",
            "+------+--------+----------+------------+-----------+--------------+-------------+------------+--------------------+----------------------+--------------------+---------------------------+--------------+------------------+-------------------------+--------------------------------+----------------+------------------+----------------+--------------------+-----------------------+------+---------------+-----------+------------+------------+----------+------------------+-------------+---------------+--------------------+--------------------+\n",
            "only showing top 20 rows\n",
            "\n"
          ],
          "output_type" : "stream"
        }
      ]
    },
    {
      "cell_type" : "markdown",
      "execution_count" : 9,
      "metadata" : {
        "language" : "text"
      },
      "language" : "text",
      "source" : [
        "<div>Indexed species</div><div>----------------------<br></div>"
      ],
      "outputs" : [
      ]
    },
    {
      "cell_type" : "code",
      "execution_count" : 10,
      "metadata" : {
        "cell.metadata.exec_info" : {
          "startTs" : 1581638400673,
          "endTs" : 1581638402934
        },
        "language" : "scala"
      },
      "language" : "scala",
      "source" : [
        "val indexes = spark.readTSV(\"/data/indexes/salmon/1.1.0/ensembl_99/salmon_indexes.tsv\").as[String].map(_.replace(\"_\", \" \")).toDF(\"scientific_name\")\n",
        "indexes.show()"
      ],
      "outputs" : [
        {
          "name" : "stdout",
          "text" : [
            "+--------------------+\n",
            "|     scientific_name|\n",
            "+--------------------+\n",
            "|Acanthochromis po...|\n",
            "|     Accipiter nisus|\n",
            "|Ailuropoda melano...|\n",
            "|    Amazona collaria|\n",
            "|Amphilophus citri...|\n",
            "|Amphiprion ocellaris|\n",
            "|  Amphiprion percula|\n",
            "|  Anabas testudineus|\n",
            "|Anas platyrhyncho...|\n",
            "| Anolis carolinensis|\n",
            "|Anser brachyrhynchus|\n",
            "|     Anser cygnoides|\n",
            "|     Aotus nancymaae|\n",
            "|     Apteryx haastii|\n",
            "|      Apteryx owenii|\n",
            "|        Apteryx rowi|\n",
            "|Aquila chrysaetos...|\n",
            "|Astatotilapia cal...|\n",
            "|  Astyanax mexicanus|\n",
            "|Astyanax mexicanu...|\n",
            "+--------------------+\n",
            "only showing top 20 rows\n",
            "\n"
          ],
          "output_type" : "stream"
        }
      ]
    },
    {
      "cell_type" : "code",
      "execution_count" : 11,
      "metadata" : {
        "cell.metadata.exec_info" : {
          "startTs" : 1581638404590,
          "endTs" : 1581638405215
        },
        "language" : "scala"
      },
      "language" : "scala",
      "source" : [
        "val indexed_species = indexes.join(anage, \"scientific_name\")\n",
        "  .withColumn(\"url\", concat(lit(\"https://www.ensembl.org/\"), $\"Genus\", lit(\"_\"), $\"Species\"))\n",
        "  .sort($\"Class\", $\"Maximum longevity (yrs)\".desc)\n",
        "  .select(\n",
        "      $\"scientific_name\".as(\"scientific_name\").as[String], \n",
        "      $\"Common name\".as(\"common_name\").as[String],\n",
        "      $\"url\".as[String],\n",
        "  $\"Class\".as(\"class\").as[String], \n",
        "  $\"Maximum longevity (yrs)\".as(\"lifespan\").as[String],\n",
        "  $\"Body mass (g)\".as(\"mass_g\").as[String],\n",
        "  $\"Metabolic rate (W)\".as(\"metabolic_rate\"),\n",
        "  $\"Temperature (K)\".as(\"temperature_k\"),\n",
        "  $\"Specimen origin\".as(\"specimen_origin\").as[String],\n",
        "  $\"Sample size\".as(\"sample_size\").as[String],\n",
        "  $\"Data quality\".as(\"data_quality\").as[String]\n",
        "  )\n",
        "indexed_species"
      ],
      "outputs" : [
        {
          "execution_count" : 11,
          "data" : {
            "text/plain" : [
              "[scientific_name: string, common_name: string ... 9 more fields]"
            ]
          },
          "metadata" : {
            "name" : "Out",
            "type" : "DataFrame"
          },
          "output_type" : "execute_result"
        }
      ]
    },
    {
      "cell_type" : "code",
      "execution_count" : 12,
      "metadata" : {
        "cell.metadata.exec_info" : {
          "startTs" : 1581288874459,
          "endTs" : 1581288879825
        },
        "language" : "scala"
      },
      "language" : "scala",
      "source" : [
        "indexed_species.writeTSV(\"/data/indexes/salmon/1.1.0/ensembl_99/indexed_species.tsv\", true)"
      ],
      "outputs" : [
        {
          "name" : "stdout",
          "text" : [
            "parts of /data/indexes/salmon/1.1.0/ensembl_99/indexed_species.tsv merged!\n"
          ],
          "output_type" : "stream"
        },
        {
          "execution_count" : 12,
          "data" : {
            "text/plain" : [
              "/data/indexes/salmon/1.1.0/ensembl_99/indexed_species.tsv"
            ]
          },
          "metadata" : {
            "name" : "Out",
            "type" : "String"
          },
          "output_type" : "execute_result"
        }
      ]
    },
    {
      "cell_type" : "code",
      "execution_count" : 13,
      "metadata" : {
        "cell.metadata.exec_info" : {
          "startTs" : 1581638409804,
          "endTs" : 1581638413445
        },
        "language" : "scala"
      },
      "language" : "scala",
      "source" : [
        "val samples_partial = indexed_species.join(samples.withColumnRenamed(\"organism\",\"scientific_name\"), \"scientific_name\").sort(\"class\", \"lifespan\")\n",
        "samples_partial.show()"
      ],
      "outputs" : [
        {
          "name" : "stdout",
          "text" : [
            "+-------------------+--------------+--------------------+--------+--------+------+--------------+-------------+---------------+-----------+------------+-----------+-----------+----------+-----+--------------------+-------------------+----------------+--------------+------------------+---------+--------------------+--------------------+-----------+-------------+-------+-----+--------------------+--------------+--------------------+--------------------+--------------------+--------------------+-------+-------------+--------------------+\n",
            "|    scientific_name|   common_name|                 url|   class|lifespan|mass_g|metabolic_rate|temperature_k|specimen_origin|sample_size|data_quality| bioproject|     series|       run|taxid|         sample_name|          sequencer|library_strategy|library_layout| library_selection|    study|         study_title|     characteristics|     source|          age|    sex|tumor|            protocol|salmon_version|               index|               genes|         transcripts|       ",
            "        quant|libType|numBootstraps|            modified|\n",
            "+-------------------+--------------+--------------------+--------+--------+------+--------------+-------------+---------------+-----------+------------+-----------+-----------+----------+-----+--------------------+-------------------+----------------+--------------+------------------+---------+--------------------+--------------------+-----------+-------------+-------+-----+--------------------+--------------+--------------------+--------------------+--------------------+--------------------+-------+-------------+--------------------+\n",
            "|  Coturnix japonica|Japanese quail|https://www.ensem...|    Aves|     6.0|  null|          null|         null|        unknown|     medium|  acceptable|PRJNA296888|PRJNA296888|SRR2968905|93934|QuailConsDD7356Liver|Illumina HiSeq 2000|         RNA-Seq|        PAIRED|            RANDOM|SRP066885|Coturnix japonica...|'Tumor:no;strain:...|      Liver|    15 months|   male|   no|                 N/A|         1.1.0|Coturnix_jap",
            "onica...|/data/samples/spe...|/data/samples/spe...|/data/samples/spe...|      A|          128|2019-12-23 20:09:...|\n",
            "|  Coturnix japonica|Japanese quail|https://www.ensem...|    Aves|     6.0|  null|          null|         null|        unknown|     medium|  acceptable|PRJNA296888|PRJNA296888|SRR2968904|93934|QuailConsDD7356Ki...|Illumina HiSeq 2000|         RNA-Seq|        PAIRED|            RANDOM|SRP066885|Coturnix japonica...|'Tumor:no;strain:...|     Kidney|    15 months|   male|   no|                 N/A|         1.1.0|Coturnix_japonica...|/data/samples/spe...|/data/samples/spe...|/data/samples/spe...|      A|          128|2019-12-23 20:54:...|\n",
            "|  Coturnix japonica|Japanese quail|https://www.ensem...|    Aves|     6.0|  null|          null|         null|        unknown|     medium|  acceptable|PRJNA296888|PRJNA296888|SRR2968903|93934|QuailConsDD7356Liver|Illumina HiSeq 2000|         RNA-Seq|        PAIRED|            RANDOM|SRP066885|Coturnix japonica...|'Tumor:no;strain:...|      Liver|    15 months|   m",
            "ale|   no|                 N/A|         1.1.0|Coturnix_japonica...|/data/samples/spe...|/data/samples/spe...|/data/samples/spe...|      A|          128|2019-12-23 19:16:...|\n",
            "|  Coturnix japonica|Japanese quail|https://www.ensem...|    Aves|     6.0|  null|          null|         null|        unknown|     medium|  acceptable|PRJNA296888|PRJNA296888|SRR2968870|93934|QuailConsDD7356Ki...|Illumina HiSeq 2500|         RNA-Seq|        PAIRED|            RANDOM|SRP066885|Coturnix japonica...|'Tumor:no;strain:...|     Kidney|    15 months|   male|   no|                 N/A|         1.1.0|Coturnix_japonica...|/data/samples/spe...|/data/samples/spe...|/data/samples/spe...|      A|          128|2019-12-23 19:49:...|\n",
            "|Meleagris gallopavo|   Wild turkey|https://www.ensem...|    Aves|    13.0|  null|          null|         null|           wild|     medium|  acceptable|PRJNA342653|PRJNA342653|SRR4244328| 9103|                EW4L|Illumina HiSeq 2000|         RNA-Seq|        PAIRED|size fractionation|SRP089918|Functional gen",
            "omi...|'Tumor:no;treatme...|      liver|       24 day|   male|   no|                 N/A|         1.1.0|Turkey_2.01_ensem...|/data/samples/spe...|/data/samples/spe...|/data/samples/spe...|      A|          128|2019-12-23 21:08:...|\n",
            "|Meleagris gallopavo|   Wild turkey|https://www.ensem...|    Aves|    13.0|  null|          null|         null|           wild|     medium|  acceptable|PRJNA342653|PRJNA342653|SRR4244360| 9103|                EW2L|Illumina HiSeq 2000|         RNA-Seq|        PAIRED|size fractionation|SRP089918|Functional genomi...|'Tumor:no;treatme...|      liver|       24 day|   male|   no|                 N/A|         1.1.0|Turkey_2.01_ensem...|/data/samples/spe...|/data/samples/spe...|/data/samples/spe...|      A|          128|2019-12-23 19:18:...|\n",
            "|Meleagris gallopavo|   Wild turkey|https://www.ensem...|    Aves|    13.0|  null|          null|         null|           wild|     medium|  acceptable|PRJNA342653|PRJNA342653|SRR4244351| 9103|                 N3L|Illumina HiSeq 2000|         RNA-Seq|",
            "        PAIRED|size fractionation|SRP089918|Functional genomi...|'Tumor:no;treatme...|      liver|       24 day|   male|   no|                 N/A|         1.1.0|Turkey_2.01_ensem...|/data/samples/spe...|/data/samples/spe...|/data/samples/spe...|      A|          128|2019-12-23 20:36:...|\n",
            "|        Parus major|     Great tit|https://www.ensem...|    Aves|    15.4|  null|          null|         null|           wild|      large|  acceptable|PRJNA314210|PRJNA314210|SRR3955377| 9157|        Urban6_liver|Illumina HiSeq 2000|         RNA-Seq|        PAIRED|             PolyA|SRP079859|Parus major urban...|'Tumor:no;geo_loc...|      liver|           2K|   male|   no|                 N/A|         1.1.0|Parus_major1.1_en...|/data/samples/spe...|/data/samples/spe...|/data/samples/spe...|      A|          128|2019-12-23 20:16:...|\n",
            "|        Parus major|     Great tit|https://www.ensem...|    Aves|    15.4|  null|          null|         null|           wild|      large|  acceptable|PRJNA293021|PRJNA293021|SRR2170833| 9157|",
            "               BJ02L|Illumina HiSeq 2000|         RNA-Seq|        PAIRED|       unspecified|SRP062466|Parus major Trans...|'Tumor:no;strain:...|       lung|          N/A|missing|   no|                 N/A|         1.1.0|Parus_major1.1_en...|/data/samples/spe...|/data/samples/spe...|/data/samples/spe...|      A|          128|2019-12-23 22:05:...|\n",
            "|      Gallus gallus|Red junglefowl|https://www.ensem...|    Aves|    30.0|2710.0|         6.005|         null|      captivity|      large|  acceptable|PRJNA248454|PRJNA248454|SRR1297332| 9031|          GSM1397852|Illumina HiSeq 2000|         RNA-Seq|        SINGLE|              cDNA|SRP042219|Differential expr...|'Tumor:no;strain:...|Liver cells|          N/A|    N/A|   no|Total RNA was ext...|         1.1.0|   GRCg6a_ensembl_97|/data/samples/spe...|/data/samples/spe...|/data/samples/spe...|      A|           96|2020-01-12 00:19:...|\n",
            "|      Gallus gallus|Red junglefowl|https://www.ensem...|    Aves|    30.0|2710.0|         6.005|         null|      captivity|      la",
            "rge|  acceptable|  PRJEB4677|  PRJEB4677| ERR348569| 9031|        SAMEA2201379|Illumina HiSeq 2000|         RNA-Seq|        PAIRED|              cDNA|ERP003988|         Chickspress|'Tumor:no;Broker ...|        N/A|     20 month| female|   no|The source of the...|         1.1.0|   GRCg6a_ensembl_97|/data/samples/spe...|/data/samples/spe...|/data/samples/spe...|      A|          128|2019-12-23 01:18:...|\n",
            "|      Gallus gallus|Red junglefowl|https://www.ensem...|    Aves|    30.0|2710.0|         6.005|         null|      captivity|      large|  acceptable| PRJEB21760| PRJEB21760|ERR2031632| 9031|      SAMEA104161533|Illumina HiSeq 2500|         RNA-Seq|        SINGLE|          Oligo-dT|ERP024044|Resistant and sus...|'Tumor:no;INSDC c...|        N/A|           31|   male|   no|Chickens were hou...|         1.1.0|   GRCg6a_ensembl_97|/data/samples/spe...|/data/samples/spe...|/data/samples/spe...|      A|          128|2019-12-23 21:10:...|\n",
            "|      Gallus gallus|Red junglefowl|https://www.ensem...|    Aves|    30.0|27",
            "10.0|         6.005|         null|      captivity|      large|  acceptable|PRJNA542984|PRJNA542984|SRR9179216| 9031|      HS_R1_LMet_LVR|Illumina HiSeq 4000|         RNA-Seq|        PAIRED|              cDNA|SRP200118|Multi-tissue tran...|'Tumor:no;BioSamp...|      Liver|      14 days|   male|   no|                 N/A|         1.1.0|   GRCg6a_ensembl_97|/data/samples/spe...|/data/samples/spe...|/data/samples/spe...|      A|          128|2019-12-23 19:39:...|\n",
            "|      Gallus gallus|Red junglefowl|https://www.ensem...|    Aves|    30.0|2710.0|         6.005|         null|      captivity|      large|  acceptable|PRJNA338488|PRJNA338488|SRR4030877| 9031|         Library_352|Illumina HiSeq 2500|         RNA-Seq|        SINGLE|              cDNA|SRP082125|Broiler cardiac r...|'Tumor:no;sample_...|      Heart|Posthatch D42|   male|   no|                 N/A|         1.1.0|   GRCg6a_ensembl_97|/data/samples/spe...|/data/samples/spe...|/data/samples/spe...|      A|          128|2019-12-23 00:02:...|\n",
            "|      Gallus gallu",
            "s|Red junglefowl|https://www.ensem...|    Aves|    30.0|2710.0|         6.005|         null|      captivity|      large|  acceptable|PRJNA542984|PRJNA542984|SRR9179229| 9031|     CON_R1_LMet_LVR|Illumina HiSeq 4000|         RNA-Seq|        PAIRED|              cDNA|SRP200118|Multi-tissue tran...|'Tumor:no;BioSamp...|      Liver|      14 days|   male|   no|                 N/A|         1.1.0|   GRCg6a_ensembl_97|/data/samples/spe...|/data/samples/spe...|/data/samples/spe...|      A|          128|2019-12-23 21:51:...|\n",
            "|         Mus caroli|  Ryukyu mouse|https://www.ensem...|Mammalia|    null|  null|          null|         null|        unknown|      small|         low| PRJEB20980| PRJEB20980|ERR1990034|10089|      SAMEA104091577|Illumina HiSeq 2000|         RNA-Seq|        PAIRED|            RANDOM|ERP023198|RNA-seq analysis ...|'Tumor:no;Broker ...|        N/A|            8| female|   no|Multiple tissues ...|        0.14.1|     CAROLI_EIJ_v1.1|/data/samples/spe...|/data/samples/spe...|/data/samples/spe...|     ",
            " A|          128|2019-09-17 09:27:...|\n",
            "|         Mus caroli|  Ryukyu mouse|https://www.ensem...|Mammalia|    null|  null|          null|         null|        unknown|      small|         low| PRJEB20980| PRJEB20980|ERR1990036|10089|      SAMEA104091579|Illumina HiSeq 2000|         RNA-Seq|        PAIRED|            RANDOM|ERP023198|RNA-seq analysis ...|'Tumor:no;Broker ...|        N/A|            8| female|   no|Multiple tissues ...|        0.14.1|     CAROLI_EIJ_v1.1|/data/samples/spe...|/data/samples/spe...|/data/samples/spe...|      A|          128|2019-09-17 09:00:...|\n",
            "|         Mus caroli|  Ryukyu mouse|https://www.ensem...|Mammalia|    null|  null|          null|         null|        unknown|      small|         low| PRJEB20980| PRJEB20980|ERR1990035|10089|      SAMEA104091578|Illumina HiSeq 2000|         RNA-Seq|        PAIRED|            RANDOM|ERP023198|RNA-seq analysis ...|'Tumor:no;Broker ...|        N/A|            8| female|   no|Multiple tissues ...|        0.14.1|     CAROLI_EIJ_v1.1|/data/samp",
            "les/spe...|/data/samples/spe...|/data/samples/spe...|      A|          128| 2019-09-18 21:33:47|\n",
            "|         Mus caroli|  Ryukyu mouse|https://www.ensem...|Mammalia|    null|  null|          null|         null|        unknown|      small|         low| PRJEB20980| PRJEB20980|ERR1990037|10089|      SAMEA104091580|Illumina HiSeq 2000|         RNA-Seq|        PAIRED|            RANDOM|ERP023198|RNA-seq analysis ...|'Tumor:no;Broker ...|        N/A|            8| female|   no|Multiple tissues ...|        0.14.1|     CAROLI_EIJ_v1.1|/data/samples/spe...|/data/samples/spe...|/data/samples/spe...|      A|          128| 2019-09-18 21:21:55|\n",
            "|         Mus caroli|  Ryukyu mouse|https://www.ensem...|Mammalia|    null|  null|          null|         null|        unknown|      small|         low| PRJEB20980| PRJEB20980|ERR1990038|10089|      SAMEA104091581|Illumina HiSeq 2000|         RNA-Seq|        PAIRED|            RANDOM|ERP023198|RNA-seq analysis ...|'Tumor:no;Broker ...|        N/A|            8| female|   no|Multiple ",
            "tissues ...|        0.14.1|     CAROLI_EIJ_v1.1|/data/samples/spe...|/data/samples/spe...|/data/samples/spe...|      A|          128| 2019-09-18 21:17:28|\n",
            "+-------------------+--------------+--------------------+--------+--------+------+--------------+-------------+---------------+-----------+------------+-----------+-----------+----------+-----+--------------------+-------------------+----------------+--------------+------------------+---------+--------------------+--------------------+-----------+-------------+-------+-----+--------------------+--------------+--------------------+--------------------+--------------------+--------------------+-------+-------------+--------------------+\n",
            "only showing top 20 rows\n",
            "\n"
          ],
          "output_type" : "stream"
        }
      ]
    },
    {
      "cell_type" : "code",
      "execution_count" : 14,
      "metadata" : {
        "cell.metadata.exec_info" : {
          "startTs" : 1581288897985,
          "endTs" : 1581288899598
        },
        "language" : "scala"
      },
      "language" : "scala",
      "source" : [
        "samples_partial.writeTSV(\"/data/samples/species_partial.csv\", sep=\",\")"
      ],
      "outputs" : [
        {
          "name" : "stdout",
          "text" : [
            "parts of /data/samples/species_partial.csv merged!\n"
          ],
          "output_type" : "stream"
        },
        {
          "execution_count" : 14,
          "data" : {
            "text/plain" : [
              "/data/samples/species_partial.csv"
            ]
          },
          "metadata" : {
            "name" : "Out",
            "type" : "String"
          },
          "output_type" : "execute_result"
        }
      ]
    },
    {
      "cell_type" : "code",
      "execution_count" : 15,
      "metadata" : {
        "jupyter.outputs_hidden" : true,
        "cell.metadata.exec_info" : {
          "startTs" : 1581638413996,
          "endTs" : 1581638415415
        },
        "language" : "scala"
      },
      "language" : "scala",
      "source" : [
        "def by_species =  udf[String, String, String]{ case (species, genes) => \n",
        "    \"/data/samples/species/by_species/\" + species.replace(\" \", \"_\") + \"/\" + genes.substring(Math.max(0, genes.lastIndexOf(\"/\")+1)) \n",
        "    }"
      ],
      "outputs" : [
      ]
    },
    {
      "cell_type" : "code",
      "execution_count" : 16,
      "metadata" : {
        "cell.metadata.exec_info" : {
          "startTs" : 1581638416577,
          "endTs" : 1581638418292
        },
        "language" : "scala"
      },
      "language" : "scala",
      "source" : [
        "val str = samples_partial.select($\"scientific_name\", $\"genes\",  by_species($\"scientific_name\",$\"genes\").as(\"new_path\")).as[(String, String, String)].collect().map{ case (species,a, b) => \n",
        "val p = s\"/data/samples/species/by_species/${species.replace(\" \", \"_\")}/\"\n",
        "s\"mkdir -p $p\" + \"\\n\" + \"cp \" + a + \" \" + p}\n",
        ".toList.mkString(\"\\n\")\n",
        "import ammonite.ops._\n",
        "write.over(Path(\"/data/samples/species/copy_samples.sh\"), str)"
      ],
      "outputs" : [
      ]
    },
    {
      "cell_type" : "code",
      "execution_count" : 17,
      "metadata" : {
        "cell.metadata.exec_info" : {
          "startTs" : 1581638430567,
          "endTs" : 1581638431609
        },
        "language" : "scala"
      },
      "language" : "scala",
      "source" : [
        "val samples_proper = samples_partial.select($\"bioproject\",$\"series\",$\"run\",\n",
        "$\"sample_name\",\n",
        "$\"scientific_name\",$\"common_name\",$\"taxid\",$\"class\",$\"lifespan\",$\"mass_g\",\n",
        "$\"sequencer\",  $\"library_strategy\",$\"library_layout\",$\"library_selection\",\n",
        "$\"study\",$\"study_title\",$\"characteristics\",$\"source\",$\"age\",$\"sex\",$\"tumor\",$\"protocol\",$\"salmon_version\",\n",
        "$\"index\",by_species($\"scientific_name\",$\"genes\").as(\"genes\"),\n",
        "$\"libType\",\n",
        "$\"modified\")\n",
        "samples_proper.show(10, 1000)"
      ],
      "outputs" : [
        {
          "name" : "stdout",
          "text" : [
            "+-----------+-----------+----------+---------------------+-------------------+--------------+-----+-----+--------+------+-------------------+----------------+--------------+------------------+---------+-------------------------------------------------------------------------------------------------------------------------------------+---------------------------------------------------------------------------------------------------------------------------------------------------------------------------------------------------------------------+------+---------+-------+-----+--------+--------------+--------------------------------+----------------------------------------------------------------------------------------------------------+-------+-----------------------+\n",
            "| bioproject|     series|       run|          sample_name|    scientific_name|   common_name|taxid|class|lifespan|mass_g|          sequencer|library_strategy|library_layout| library_selection|    study|                                            ",
            "                                                                              study_title|                                                                                                                                                                                                      characteristics|source|      age|    sex|tumor|protocol|salmon_version|                           index|                                                                                                     genes|libType|               modified|\n",
            "+-----------+-----------+----------+---------------------+-------------------+--------------+-----+-----+--------+------+-------------------+----------------+--------------+------------------+---------+-------------------------------------------------------------------------------------------------------------------------------------+------------------------------------------------------------------------------------------------------------------------------------------------------------",
            "---------------------------------------------------------+------+---------+-------+-----+--------+--------------+--------------------------------+----------------------------------------------------------------------------------------------------------+-------+-----------------------+\n",
            "|PRJNA296888|PRJNA296888|SRR2968903| QuailConsDD7356Liver|  Coturnix japonica|Japanese quail|93934| Aves|     6.0|  null|Illumina HiSeq 2000|         RNA-Seq|        PAIRED|            RANDOM|SRP066885|                                                                    Coturnix japonica strain:Cons DD Transcriptome or Gene expression| 'Tumor:no;strain:Cons DD;BioSampleModel:Model organism or animal;age:15 months;sex:male;tissue:Liver;birth_location:INRA PEAT, Tours, France;'Sex:male;breeding_history:Brother-sister matings within an inbred line| Liver|15 months|   male|   no|     N/A|         1.1.0|Coturnix_japonica_2.0_ensembl_97|  /data/samples/species/by_species/Coturnix_japonica/PRJNA296888_SRX1458273_SRR2968903_genes_abundan",
            "ce.tsv|      A|2019-12-23 19:16:27.151|\n",
            "|PRJNA296888|PRJNA296888|SRR2968904|QuailConsDD7356Kidney|  Coturnix japonica|Japanese quail|93934| Aves|     6.0|  null|Illumina HiSeq 2000|         RNA-Seq|        PAIRED|            RANDOM|SRP066885|                                                                    Coturnix japonica strain:Cons DD Transcriptome or Gene expression|'Tumor:no;strain:Cons DD;BioSampleModel:Model organism or animal;age:15 months;sex:male;tissue:Kidney;birth_location:INRA PEAT, Tours, France;'Sex:male;breeding_history:Brother-sister matings within an inbred line|Kidney|15 months|   male|   no|     N/A|         1.1.0|Coturnix_japonica_2.0_ensembl_97|  /data/samples/species/by_species/Coturnix_japonica/PRJNA296888_SRX1458274_SRR2968904_genes_abundance.tsv|      A|2019-12-23 20:54:10.243|\n",
            "|PRJNA296888|PRJNA296888|SRR2968905| QuailConsDD7356Liver|  Coturnix japonica|Japanese quail|93934| Aves|     6.0|  null|Illumina HiSeq 2000|         RNA-Seq|        PAIRED|            RANDOM|SRP066885|    ",
            "                                                                Coturnix japonica strain:Cons DD Transcriptome or Gene expression| 'Tumor:no;strain:Cons DD;BioSampleModel:Model organism or animal;age:15 months;sex:male;tissue:Liver;birth_location:INRA PEAT, Tours, France;'Sex:male;breeding_history:Brother-sister matings within an inbred line| Liver|15 months|   male|   no|     N/A|         1.1.0|Coturnix_japonica_2.0_ensembl_97|  /data/samples/species/by_species/Coturnix_japonica/PRJNA296888_SRX1458275_SRR2968905_genes_abundance.tsv|      A|2019-12-23 20:09:54.288|\n",
            "|PRJNA296888|PRJNA296888|SRR2968870|QuailConsDD7356Kidney|  Coturnix japonica|Japanese quail|93934| Aves|     6.0|  null|Illumina HiSeq 2500|         RNA-Seq|        PAIRED|            RANDOM|SRP066885|                                                                    Coturnix japonica strain:Cons DD Transcriptome or Gene expression|'Tumor:no;strain:Cons DD;BioSampleModel:Model organism or animal;age:15 months;sex:male;tissue:Kidney;birth_location",
            ":INRA PEAT, Tours, France;'Sex:male;breeding_history:Brother-sister matings within an inbred line|Kidney|15 months|   male|   no|     N/A|         1.1.0|Coturnix_japonica_2.0_ensembl_97|  /data/samples/species/by_species/Coturnix_japonica/PRJNA296888_SRX1458240_SRR2968870_genes_abundance.tsv|      A| 2019-12-23 19:49:06.62|\n",
            "|PRJNA342653|PRJNA342653|SRR4244351|                  N3L|Meleagris gallopavo|   Wild turkey| 9103| Aves|    13.0|  null|Illumina HiSeq 2000|         RNA-Seq|        PAIRED|size fractionation|SRP089918|                                                                       Functional genomics to enhance aflatoxin resistance in poultry|           'Tumor:no;treatment:Afb;BioSampleModel:Model organism or animal;age:24 day;sex:male;collected_by:Roger Coulombe;tissue:liver;breed:domestic;'Sex:male;isolate:3;biomaterial_provider:Utah state university| liver|   24 day|   male|   no|     N/A|         1.1.0|          Turkey_2.01_ensembl_97|/data/samples/species/by_species/Meleagris_gallopavo/PRJNA34",
            "2653_SRX2164858_SRR4244351_genes_abundance.tsv|      A|2019-12-23 20:36:21.459|\n",
            "|PRJNA342653|PRJNA342653|SRR4244328|                 EW4L|Meleagris gallopavo|   Wild turkey| 9103| Aves|    13.0|  null|Illumina HiSeq 2000|         RNA-Seq|        PAIRED|size fractionation|SRP089918|                                                                       Functional genomics to enhance aflatoxin resistance in poultry|       'Tumor:no;treatment:Afb;BioSampleModel:Model organism or animal;age:24 day;sex:male;collected_by:Roger Coulombe;tissue:liver;breed:eastern wild;'Sex:male;isolate:4;biomaterial_provider:Utah state university| liver|   24 day|   male|   no|     N/A|         1.1.0|          Turkey_2.01_ensembl_97|/data/samples/species/by_species/Meleagris_gallopavo/PRJNA342653_SRX2164835_SRR4244328_genes_abundance.tsv|      A|2019-12-23 21:08:59.689|\n",
            "|PRJNA342653|PRJNA342653|SRR4244360|                 EW2L|Meleagris gallopavo|   Wild turkey| 9103| Aves|    13.0|  null|Illumina HiSeq 2000|         RNA-Seq|        ",
            "PAIRED|size fractionation|SRP089918|                                                                       Functional genomics to enhance aflatoxin resistance in poultry|       'Tumor:no;treatment:Afb;BioSampleModel:Model organism or animal;age:24 day;sex:male;collected_by:Roger Coulombe;tissue:liver;breed:eastern wild;'Sex:male;isolate:2;biomaterial_provider:Utah state university| liver|   24 day|   male|   no|     N/A|         1.1.0|          Turkey_2.01_ensembl_97|/data/samples/species/by_species/Meleagris_gallopavo/PRJNA342653_SRX2164867_SRR4244360_genes_abundance.tsv|      A|2019-12-23 19:18:09.104|\n",
            "|PRJNA293021|PRJNA293021|SRR2170833|                BJ02L|        Parus major|     Great tit| 9157| Aves|    15.4|  null|Illumina HiSeq 2000|         RNA-Seq|        PAIRED|       unspecified|SRP062466|                                                                                         Parus major Transcriptome or Gene expression|                                               'Tumor:no;strain:missing;dev_",
            "stage:stage28;BioSampleModel:Model organism or animal;sex:missing;tissue:lung;breed:missing;'Sex:missing;isolate:missing;cultivar:missing|  lung|      N/A|missing|   no|     N/A|         1.1.0|       Parus_major1.1_ensembl_97|        /data/samples/species/by_species/Parus_major/PRJNA293021_SRX1156064_SRR2170833_genes_abundance.tsv|      A|2019-12-23 22:05:37.989|\n",
            "|PRJNA314210|PRJNA314210|SRR3955377|         Urban6_liver|        Parus major|     Great tit| 9157| Aves|    15.4|  null|Illumina HiSeq 2000|         RNA-Seq|        PAIRED|             PolyA|SRP079859|                                                                                                       Parus major urban/forest omics|                                                            'Tumor:no;geo_loc_name:Sweden: Malmo;BioSampleModel:Model organism or animal;age:2K;sex:male;tissue:liver;collection_date:Feb-2014;'Sex:male;isolate:wild| liver|       2K|   male|   no|     N/A|         1.1.0|       Parus_major1.1_ensembl_97|        /data/sample",
            "s/species/by_species/Parus_major/PRJNA314210_SRX1977172_SRR3955377_genes_abundance.tsv|      A|2019-12-23 20:16:22.701|\n",
            "|PRJNA542984|PRJNA542984|SRR9179216|       HS_R1_LMet_LVR|      Gallus gallus|Red junglefowl| 9031| Aves|    30.0|2710.0|Illumina HiSeq 4000|         RNA-Seq|        PAIRED|              cDNA|SRP200118|Multi-tissue transcriptomic analysis to reveal the effect of L-methionine supplementation in broiler chickens under acute heat stress|                                                                               'Tumor:no;BioSampleModel:Model organism or animal;age:14 days;sex:male;tissue:Liver;breed:Ross;Replicate:Sample replicate 25;'Sex:male| Liver|  14 days|   male|   no|     N/A|         1.1.0|               GRCg6a_ensembl_97|      /data/samples/species/by_species/Gallus_gallus/PRJNA542984_SRX5951879_SRR9179216_genes_abundance.tsv|      A|2019-12-23 19:39:49.043|\n",
            "+-----------+-----------+----------+---------------------+-------------------+--------------+-----+-----+--------+------+-----",
            "--------------+----------------+--------------+------------------+---------+-------------------------------------------------------------------------------------------------------------------------------------+---------------------------------------------------------------------------------------------------------------------------------------------------------------------------------------------------------------------+------+---------+-------+-----+--------+--------------+--------------------------------+----------------------------------------------------------------------------------------------------------+-------+-----------------------+\n",
            "only showing top 10 rows\n",
            "\n"
          ],
          "output_type" : "stream"
        }
      ]
    },
    {
      "cell_type" : "code",
      "execution_count" : 18,
      "metadata" : {
        "cell.metadata.exec_info" : {
          "startTs" : 1580581582973,
          "endTs" : 1580581583657
        },
        "language" : "scala"
      },
      "language" : "scala",
      "source" : [
        "samples_proper.select(\"genes\").show(10, 10000)"
      ],
      "outputs" : [
        {
          "name" : "stdout",
          "text" : [
            "+----------------------------------------------------------------------------------------------------------+\n",
            "|                                                                                                     genes|\n",
            "+----------------------------------------------------------------------------------------------------------+\n",
            "|  /data/samples/species/by_species/Coturnix_japonica/PRJNA296888_SRX1458273_SRR2968903_genes_abundance.tsv|\n",
            "|  /data/samples/species/by_species/Coturnix_japonica/PRJNA296888_SRX1458274_SRR2968904_genes_abundance.tsv|\n",
            "|  /data/samples/species/by_species/Coturnix_japonica/PRJNA296888_SRX1458275_SRR2968905_genes_abundance.tsv|\n",
            "|  /data/samples/species/by_species/Coturnix_japonica/PRJNA296888_SRX1458240_SRR2968870_genes_abundance.tsv|\n",
            "|/data/samples/species/by_species/Meleagris_gallopavo/PRJNA342653_SRX2164858_SRR4244351_genes_abundance.tsv|\n",
            "|/data/samples/species/by_species/Meleagris_gallopavo/PRJNA342653_SRX2164835_SRR4244328_genes_abundance.tsv|\n",
            "|/data/samples/species/by_species/Meleagris_gallopavo/PRJNA342653_SRX2164867_SRR4244360_genes_abundance.tsv|\n",
            "|        /data/samples/species/by_species/Parus_major/PRJNA293021_SRX1156064_SRR2170833_genes_abundance.tsv|\n",
            "|        /data/samples/species/by_species/Parus_major/PRJNA314210_SRX1977172_SRR3955377_genes_abundance.tsv|\n",
            "|      /data/samples/species/by_species/Gallus_gallus/PRJNA542984_SRX5951879_SRR9179216_genes_abundance.tsv|\n",
            "+----------------------------------------------------------------------------------------------------------+\n",
            "only showing top 10 rows\n",
            "\n"
          ],
          "output_type" : "stream"
        }
      ]
    },
    {
      "cell_type" : "code",
      "execution_count" : 19,
      "metadata" : {
        "cell.metadata.exec_info" : {
          "startTs" : 1580581609857,
          "endTs" : 1580581610747
        },
        "language" : "scala"
      },
      "language" : "scala",
      "source" : [
        "samples_proper.writeParquet(\"/data/samples/species/samples_index.parquet\", true)"
      ],
      "outputs" : [
        {
          "name" : "stdout",
          "text" : [
            "parts of /data/samples/species/samples_index.parquet merged!\n"
          ],
          "output_type" : "stream"
        },
        {
          "execution_count" : 19,
          "data" : {
            "text/plain" : [
              "/data/samples/species/samples_index.parquet"
            ]
          },
          "metadata" : {
            "name" : "Out",
            "type" : "String"
          },
          "output_type" : "execute_result"
        }
      ]
    },
    {
      "cell_type" : "code",
      "execution_count" : 20,
      "metadata" : {
        "cell.metadata.exec_info" : {
          "startTs" : 1581552232022,
          "endTs" : 1581552232842
        },
        "language" : "scala"
      },
      "language" : "scala",
      "source" : [
        "val counts = spark.readTSV(\"/data/samples/species/SELECT_t___FROM_public_view_ensemble_ana.tsv\", header = true)\n",
        "counts.show(10000,10000)"
      ],
      "outputs" : [
        {
          "name" : "stdout",
          "text" : [
            "+--------------------------+------------------------------+------------------+--------------+-------+------+----------+-------------+\n",
            "|           scientific_name|                   common_name|             class|lifespan_years|studies|  runs|mass_grams|temperature_k|\n",
            "+--------------------------+------------------------------+------------------+--------------+-------+------+----------+-------------+\n",
            "|              Mus musculus|                   House mouse|          Mammalia|           4.0|   5637|348537|      18.0|       310.05|\n",
            "|              Homo sapiens|                         Human|          Mammalia|         122.5|   5452|277578|   70000.0|       310.15|\n",
            "|               Danio rerio|      Zebra danio or zebrafish|         Teleostei|           5.5|    361| 24879|      null|         null|\n",
            "|   Drosophila melanogaster|                     Fruit fly|           Insecta|           0.3|    669| 19002|      null|         null|\n",
            "|         Rattus norvegicus|                    Norway rat|          Mammalia|        ",
            "   3.8|    316|  9270|     206.9|       310.25|\n",
            "|  Saccharomyces cerevisiae|                 Baker's yeast|   Saccharomycetes|          0.04|    356|  9029|      null|         null|\n",
            "|    Caenorhabditis elegans|                     Roundworm|       Chromadorea|          0.16|    289|  6049|      null|         null|\n",
            "|                Bos taurus|               Domestic cattle|          Mammalia|          20.0|    183|  5759|  347000.0|       311.15|\n",
            "|                Ovis aries|     Domestic sheep or mouflon|          Mammalia|          22.8|     65|  5301|      null|       311.95|\n",
            "|       Macaca fascicularis|           Long-tailed macaque|          Mammalia|          39.0|     26|  3339|      null|       310.75|\n",
            "|            Macaca mulatta|                 Rhesus monkey|          Mammalia|          40.0|    107|  3314|      null|       310.45|\n",
            "|             Gallus gallus|                Red junglefowl|              Aves|          30.0|    188|  3074|    2710.0|         null|\n",
            "|                Sus scrofa|          ",
            "           Wild boar|          Mammalia|          27.0|    175|  2899|  135000.0|       312.15|\n",
            "|               Salmo salar|               Atlantic salmon|         Teleostei|          13.0|     20|  1752|      null|         null|\n",
            "|            Equus caballus|                         Horse|          Mammalia|          57.0|     37|  1036|      null|       311.45|\n",
            "|           Pan troglodytes|                    Chimpanzee|          Mammalia|          59.4|     43|   884|      null|       308.85|\n",
            "|    Gasterosteus aculeatus|           Alaskan stickleback|         Teleostei|           8.0|     19|   767|      null|         null|\n",
            "|       Meleagris gallopavo|                   Wild turkey|              Aves|          13.0|      8|   759|      null|         null|\n",
            "|           Oryzias latipes|               Japanese medaka|         Teleostei|           5.0|     27|   441|      null|         null|\n",
            "|              Capra hircus|                 Domestic goat|          Mammalia|          20.8|     59|   423|      null|     ",
            "  312.45|\n",
            "|        Tursiops truncatus|           Bottlenosed dolphin|          Mammalia|          51.6|      5|   397|      null|         null|\n",
            "|              Salmo trutta|                   Brown trout|         Teleostei|          38.0|      5|   339|      null|         null|\n",
            "|     Oryctolagus cuniculus|               European rabbit|          Mammalia|           9.0|     22|   331|    2167.9|       312.15|\n",
            "|         Coturnix japonica|                Japanese quail|              Aves|           6.0|     13|   268|      null|         null|\n",
            "|     Monodelphis domestica|     Gray short-tailed opossum|          Mammalia|           5.1|     21|   225|     104.0|       305.75|\n",
            "|        Callithrix jacchus|     White-tufted-ear marmoset|          Mammalia|          22.8|     19|   216|     190.0|       309.15|\n",
            "|              Gadus morhua|                  Atlantic cod|         Teleostei|          25.0|     11|   191|      null|         null|\n",
            "|     Oreochromis niloticus|                  Nile tilapia|         Teleoste",
            "i|           9.0|     21|   159|      null|         null|\n",
            "|       Ictalurus punctatus|               Channel catfish|         Teleostei|          16.0|     16|   155|      null|         null|\n",
            "|       Poecilia reticulata|                         Guppy|         Teleostei|           5.0|      7|   142|      null|         null|\n",
            "|       Anolis carolinensis|                   Green anole|          Reptilia|           7.2|      8|   140|      null|         null|\n",
            "|           Cyprinus carpio|                   Common carp|         Teleostei|          47.0|     19|    98|      null|         null|\n",
            "|               Felis catus|                  Domestic cat|          Mammalia|          30.0|     11|    95|      null|       311.25|\n",
            "|     Heterocephalus glaber|                Naked mole-rat|          Mammalia|          31.0|     10|    94|      35.3|       305.25|\n",
            "|       Taeniopygia guttata|                   Zebra finch|              Aves|          12.0|      9|    80|      null|       314.15|\n",
            "|      Mesocricetus auratus|",
            "                Golden hamster|          Mammalia|           3.9|     11|    73|     108.2|       311.25|\n",
            "|      Scophthalmus maximus|                        Turbot|         Teleostei|          26.0|     10|    71|      null|         null|\n",
            "|           Labrus bergylta|                 Ballan wrasse|         Teleostei|          29.0|      4|    70|      null|         null|\n",
            "|       Chinchilla lanigera|        Long-tailed chinchilla|          Mammalia|          17.2|      2|    61|     436.7|       307.85|\n",
            "|          Numida meleagris|           Helmeted guineafowl|              Aves|          null|      3|    54|      null|         null|\n",
            "|             Sparus aurata|             Gilthead seabream|         Teleostei|          11.0|      1|    52|      null|         null|\n",
            "|             Bos grunniens|                           Yak|          Mammalia|          26.3|     11|    51|      null|       311.15|\n",
            "|     Meriones unguiculatus|                Mongolian jird|          Mammalia|           6.3|      6|    50|      ",
            "64.8|       311.35|\n",
            "|               Parus major|                     Great tit|              Aves|          15.4|      6|    48|      null|         null|\n",
            "|           Cavia porcellus|                    Guinea pig|          Mammalia|          12.0|      7|    47|     639.1|       312.15|\n",
            "|    Phascolarctos cinereus|                         Koala|          Mammalia|          22.1|      3|    45|    4732.4|       308.95|\n",
            "|        Petromyzon marinus|                   Sea lamprey|Cephalaspidomorphi|           9.0|      6|    43|      null|         null|\n",
            "|            Junco hyemalis|               Dark-eyed junco|              Aves|          11.3|      2|    41|      18.0|         null|\n",
            "|       Cyanistes caeruleus|                      Blue tit|              Aves|          14.6|      2|    40|      null|         null|\n",
            "|         Macaca nemestrina|               Pigtail macaque|          Mammalia|          37.6|      6|    37|      null|         null|\n",
            "|  Dromaius novaehollandiae|                           Emu|       ",
            "       Aves|          16.6|      4|    35|      null|         null|\n",
            "|          Tupaia belangeri|           Northern tree shrew|          Mammalia|          11.1|      6|    34|      null|       311.95|\n",
            "|  Ornithorhynchus anatinus|          Duck-billed platypus|          Mammalia|          22.6|      5|    33|    1030.3|       307.15|\n",
            "|      Lepisosteus oculatus|                   Spotted gar|          Holostei|          18.0|      4|    33|      null|         null|\n",
            "|          Myotis lucifugus|              Little brown bat|          Mammalia|          34.0|      5|    31|       5.8|       305.15|\n",
            "|          Pogona vitticeps|        Central bearded dragon|          Reptilia|          12.0|      4|    30|      null|         null|\n",
            "|Ictidomys tridecemlineatus|Thirteen-lined ground squirrel|          Mammalia|           7.9|      4|    30|     198.4|       308.85|\n",
            "|       Latimeria chalumnae|                    Coelacanth|       Coelacanthi|          48.0|      2|    27|      null|         null|\n",
            "|        Microcebu",
            "s murinus|              Gray mouse lemur|          Mammalia|          18.2|      4|    26|      null|         null|\n",
            "|           Papio hamadryas|              Hamadryas baboon|          Mammalia|          37.5|      2|    26|   12670.8|       311.15|\n",
            "|    Neogobius melanostomus|                    Round goby|         Teleostei|           4.0|      2|    24|      null|         null|\n",
            "|               Esox lucius|                 Northern pike|         Teleostei|          30.0|      2|    24|      null|         null|\n",
            "|      Dasypus novemcinctus|         Nine-banded armadillo|          Mammalia|          22.3|      5|    22|    3413.7|       307.65|\n",
            "|      Sarcophilus harrisii|               Tasmanian devil|          Mammalia|          13.0|      5|    22|    6126.8|       308.95|\n",
            "|       Phasianus colchicus|               Common pheasant|              Aves|          27.0|      1|    22|      null|         null|\n",
            "|              Pan paniscus|    Pygmy chimpanzee or bonobo|          Mammalia|          55.0|      5|   ",
            " 21|      null|         null|\n",
            "|        Suricata suricatta|                       Meerkat|          Mammalia|          20.6|      1|    21|     850.0|       309.45|\n",
            "|       Camelus dromedarius|                     Dromedary|          Mammalia|          28.4|      3|    20|  407000.0|       310.65|\n",
            "|            Pavo cristatus|                Indian peafowl|              Aves|          23.2|      1|    20|      null|         null|\n",
            "|    Ailuropoda melanoleuca|                   Giant panda|          Mammalia|          36.8|      2|    15|      null|         null|\n",
            "|            Neovison vison|                 American mink|          Mammalia|          11.4|      2|    15|     660.0|       312.15|\n",
            "|                Mus caroli|                  Ryukyu mouse|          Mammalia|          null|      3|    13|      null|         null|\n",
            "|    Zonotrichia albicollis|        White-throated sparrow|              Aves|          14.9|      2|    13|      20.2|         null|\n",
            "|          Gambusia affinis|                  Mosquitofi",
            "sh|         Teleostei|           3.0|      2|    13|      null|         null|\n",
            "|           Ursus maritimus|                    Polar bear|          Mammalia|          43.8|      2|    12|      null|       309.95|\n",
            "|        Crocodylus porosus|           Saltwater crocodile|          Reptilia|          57.0|      1|    12|      null|         null|\n",
            "|       Rhinopithecus bieti|       Black snub-nosed monkey|          Mammalia|          null|      1|    12|      null|         null|\n",
            "|       Callorhinchus milii|                 Elephant fish|    Chondrichthyes|           6.0|      1|    11|      null|         null|\n",
            "|  Electrophorus electricus|                  Electric eel|         Teleostei|          12.6|      1|    11|      null|         null|\n",
            "|              Cavia aperea|          Brazilian guinea pig|          Mammalia|           6.0|      1|    10|      null|         null|\n",
            "|            Mus spicilegus|          Mound-building mouse|          Mammalia|           3.5|      3|     9|      null|         null|\n",
            "|       ",
            "    Clupea harengus|              Atlantic herring|         Teleostei|          22.0|      2|     9|      null|         null|\n",
            "|             Vulpes vulpes|                       Red fox|          Mammalia|          21.3|      2|     9|    4580.3|       311.85|\n",
            "|        Gopherus agassizii|               Desert tortoise|          Reptilia|          62.8|      2|     8|      null|         null|\n",
            "|   Melopsittacus undulatus|                    Budgerigar|              Aves|          21.0|      1|     7|      25.2|       314.15|\n",
            "|          Ursus americanus|           American black bear|          Mammalia|          34.0|      1|     6|      null|         null|\n",
            "|       Erinaceus europaeus|     Western European hedgehog|          Mammalia|          11.7|      1|     6|    1213.5|       307.15|\n",
            "|        Loxodonta africana|         African bush elephant|          Mammalia|          65.0|      3|     5|      null|       309.35|\n",
            "|           Serinus canaria|                  House canary|              Aves|          24.0| ",
            "     2|     5|      13.3|       314.15|\n",
            "|        Otolemur garnettii|            Small-eared galago|          Mammalia|          20.0|      2|     5|    1314.0|       309.15|\n",
            "| Rhinolophus ferrumequinum|         Greater horseshoe bat|          Mammalia|          30.5|      2|     4|      null|         null|\n",
            "|        Anabas testudineus|                Climbing perch|         Teleostei|           8.0|      1|     4|      null|         null|\n",
            "|         Ochotona princeps|                 American pika|          Mammalia|           7.0|      1|     4|     109.0|       313.25|\n",
            "|         Castor canadensis|               American beaver|          Mammalia|          23.4|      1|     2|      null|         null|\n",
            "|           Betta splendens|         Siamese fighting fish|         Teleostei|           2.0|      1|     2|      null|         null|\n",
            "|             Octodon degus|                          Degu|          Mammalia|          14.0|      1|     1|     199.6|       310.75|\n",
            "|       Chrysolophus pictus|               Gol",
            "den pheasant|              Aves|          13.4|      1|     1|      null|         null|\n",
            "|       Moschus moschiferus|            Siberian musk deer|          Mammalia|          null|      1|     1|      null|         null|\n",
            "|       Sphenodon punctatus|                       Tuatara|          Reptilia|          90.0|      1|     1|     430.0|        295.5|\n",
            "|       Strigops habroptila|                        Kakapo|              Aves|          60.0|      1|     1|      null|         null|\n",
            "|         Catagonus wagneri|               Chacoan peccary|          Mammalia|          null|      1|     1|      null|         null|\n",
            "|   Rhinopithecus roxellana|      Golden snub-nosed monkey|          Mammalia|          29.5|      1|     1|      null|         null|\n",
            "+--------------------------+------------------------------+------------------+--------------+-------+------+----------+-------------+\n",
            "\n"
          ],
          "output_type" : "stream"
        }
      ]
    },
    {
      "cell_type" : "code",
      "execution_count" : 22,
      "metadata" : {
        "cell.metadata.exec_info" : {
          "startTs" : 1581552396481,
          "endTs" : 1581552397212
        },
        "language" : "scala"
      },
      "language" : "scala",
      "source" : [
        "val orgs = samples.select($\"organism\".as(\"scientific_name\")).distinct\n",
        "orgs.show(100, 1000)"
      ],
      "outputs" : [
        {
          "name" : "stdout",
          "text" : [
            "+------------------------+\n",
            "|         scientific_name|\n",
            "+------------------------+\n",
            "|            Homo sapiens|\n",
            "|        Ursus americanus|\n",
            "|              Mus caroli|\n",
            "|            Capra hircus|\n",
            "|       Macaca nemestrina|\n",
            "|         Pan troglodytes|\n",
            "|       Coturnix japonica|\n",
            "|      Microcebus murinus|\n",
            "|   Oryctolagus cuniculus|\n",
            "|     Meleagris gallopavo|\n",
            "|Ornithorhynchus anatinus|\n",
            "|            Pan paniscus|\n",
            "|            Mus musculus|\n",
            "|              Ovis aries|\n",
            "|         Cavia porcellus|\n",
            "|         Gorilla gorilla|\n",
            "|           Gallus gallus|\n",
            "|          Equus caballus|\n",
            "|  Canis lupus familiaris|\n",
            "|   Monodelphis domestica|\n",
            "|          Macaca mulatta|\n",
            "|             Parus major|\n",
            "|       Rattus norvegicus|\n",
            "|     Macaca fascicularis|\n",
            "|      Callithrix jacchus|\n",
            "|              Sus scrofa|\n",
            "|    Notamacropus eugenii|\n",
            "|              Bos taurus|\n",
            "|   Heterocephalus glaber|\n",
            "|             Felis catus|\n",
            "|    Mesocricetus auratus|\n",
            "+------------------------+\n",
            "\n"
          ],
          "output_type" : "stream"
        }
      ]
    },
    {
      "cell_type" : "code",
      "execution_count" : 23,
      "metadata" : {
        "cell.metadata.exec_info" : {
          "startTs" : 1581606684665,
          "endTs" : 1581606689142
        },
        "language" : "scala"
      },
      "language" : "scala",
      "source" : [
        "orgs.count()"
      ],
      "outputs" : [
        {
          "execution_count" : 23,
          "data" : {
            "text/plain" : [
              "31"
            ]
          },
          "metadata" : {
            "name" : "Out",
            "type" : "Long"
          },
          "output_type" : "execute_result"
        }
      ]
    },
    {
      "cell_type" : "code",
      "execution_count" : 25,
      "metadata" : {
        "cell.metadata.exec_info" : {
          "startTs" : 1581552469461,
          "endTs" : 1581552469803
        },
        "language" : "scala"
      },
      "language" : "scala",
      "source" : [
        "val mams = counts.where($\"class\" === \"Mammalia\")\n",
        "mams.count()"
      ],
      "outputs" : [
        {
          "execution_count" : 25,
          "data" : {
            "text/plain" : [
              "54"
            ]
          },
          "metadata" : {
            "name" : "Out",
            "type" : "Long"
          },
          "output_type" : "execute_result"
        }
      ]
    },
    {
      "cell_type" : "code",
      "execution_count" : 21,
      "metadata" : {
        "cell.metadata.exec_info" : {
          "startTs" : 1581552536112,
          "endTs" : 1581552537198
        },
        "language" : "scala"
      },
      "language" : "scala",
      "source" : [
        "val lf = mams.join(orgs, Seq(\"scientific_name\"), \"left_anti\")\n",
        "lf.show(10000,1000)"
      ],
      "outputs" : [
        {
          "name" : "stdout",
          "text" : [
            "+--------------------------+------------------------------+--------+--------------+-------+----+----------+-------------+\n",
            "|           scientific_name|                   common_name|   class|lifespan_years|studies|runs|mass_grams|temperature_k|\n",
            "+--------------------------+------------------------------+--------+--------------+-------+----+----------+-------------+\n",
            "|        Tursiops truncatus|           Bottlenosed dolphin|Mammalia|          51.6|      5| 397|      null|         null|\n",
            "|       Chinchilla lanigera|        Long-tailed chinchilla|Mammalia|          17.2|      2|  61|     436.7|       307.85|\n",
            "|             Bos grunniens|                           Yak|Mammalia|          26.3|     11|  51|      null|       311.15|\n",
            "|     Meriones unguiculatus|                Mongolian jird|Mammalia|           6.3|      6|  50|      64.8|       311.35|\n",
            "|    Phascolarctos cinereus|                         Koala|Mammalia|          22.1|      3|  45|    4732.4|       308.95|\n",
            "|          Tupaia belangeri|           Northern ",
            "tree shrew|Mammalia|          11.1|      6|  34|      null|       311.95|\n",
            "|          Myotis lucifugus|              Little brown bat|Mammalia|          34.0|      5|  31|       5.8|       305.15|\n",
            "|Ictidomys tridecemlineatus|Thirteen-lined ground squirrel|Mammalia|           7.9|      4|  30|     198.4|       308.85|\n",
            "|           Papio hamadryas|              Hamadryas baboon|Mammalia|          37.5|      2|  26|   12670.8|       311.15|\n",
            "|      Dasypus novemcinctus|         Nine-banded armadillo|Mammalia|          22.3|      5|  22|    3413.7|       307.65|\n",
            "|      Sarcophilus harrisii|               Tasmanian devil|Mammalia|          13.0|      5|  22|    6126.8|       308.95|\n",
            "|        Suricata suricatta|                       Meerkat|Mammalia|          20.6|      1|  21|     850.0|       309.45|\n",
            "|       Camelus dromedarius|                     Dromedary|Mammalia|          28.4|      3|  20|  407000.0|       310.65|\n",
            "|    Ailuropoda melanoleuca|                   Giant panda|Mammalia|          36.8|      2|  15|",
            "      null|         null|\n",
            "|            Neovison vison|                 American mink|Mammalia|          11.4|      2|  15|     660.0|       312.15|\n",
            "|           Ursus maritimus|                    Polar bear|Mammalia|          43.8|      2|  12|      null|       309.95|\n",
            "|       Rhinopithecus bieti|       Black snub-nosed monkey|Mammalia|          null|      1|  12|      null|         null|\n",
            "|              Cavia aperea|          Brazilian guinea pig|Mammalia|           6.0|      1|  10|      null|         null|\n",
            "|            Mus spicilegus|          Mound-building mouse|Mammalia|           3.5|      3|   9|      null|         null|\n",
            "|             Vulpes vulpes|                       Red fox|Mammalia|          21.3|      2|   9|    4580.3|       311.85|\n",
            "|       Erinaceus europaeus|     Western European hedgehog|Mammalia|          11.7|      1|   6|    1213.5|       307.15|\n",
            "|        Loxodonta africana|         African bush elephant|Mammalia|          65.0|      3|   5|      null|       309.35|\n",
            "|        Otolemur garn",
            "ettii|            Small-eared galago|Mammalia|          20.0|      2|   5|    1314.0|       309.15|\n",
            "| Rhinolophus ferrumequinum|         Greater horseshoe bat|Mammalia|          30.5|      2|   4|      null|         null|\n",
            "|         Ochotona princeps|                 American pika|Mammalia|           7.0|      1|   4|     109.0|       313.25|\n",
            "|         Castor canadensis|               American beaver|Mammalia|          23.4|      1|   2|      null|         null|\n",
            "|             Octodon degus|                          Degu|Mammalia|          14.0|      1|   1|     199.6|       310.75|\n",
            "|       Moschus moschiferus|            Siberian musk deer|Mammalia|          null|      1|   1|      null|         null|\n",
            "|         Catagonus wagneri|               Chacoan peccary|Mammalia|          null|      1|   1|      null|         null|\n",
            "|   Rhinopithecus roxellana|      Golden snub-nosed monkey|Mammalia|          29.5|      1|   1|      null|         null|\n",
            "+--------------------------+------------------------------+--------+--",
            "------------+-------+----+----------+-------------+\n",
            "\n"
          ],
          "output_type" : "stream"
        }
      ]
    },
    {
      "cell_type" : "markdown",
      "execution_count" : 24,
      "metadata" : {
        "language" : "text"
      },
      "language" : "text",
      "source" : [
        "<br>"
      ],
      "outputs" : [
      ]
    },
    {
      "cell_type" : "code",
      "execution_count" : 26,
      "metadata" : {
        "language" : "scala"
      },
      "language" : "scala",
      "source" : [
      ],
      "outputs" : [
      ]
    }
  ]
}