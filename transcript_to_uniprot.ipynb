{
  "metadata" : {
    "config" : {
      "dependencies" : {
        "scala" : [
          "group.research.aging:spark-extensions_2.12:0.1.0",
          "com.github.pathikrit:better-files_2.12:3.9.1",
          "org.bdgenomics.adam:adam-core-spark2_2.12:0.32.0"
        ]
      },
      "exclusions" : [
      ],
      "repositories" : [
        {
          "maven" : {
            "base" : "http://central.maven.org/maven2/"
          }
        },
        {
          "maven" : {
            "base" : "http://oss.sonatype.org/content/repositories/snapshots"
          }
        },
        {
          "maven" : {
            "base" : "https://dl.bintray.com/comp-bio-aging/main/"
          }
        }
      ],
      "sparkConfig" : {
        "master" : "http://spark:7070[*]"
      },
      "env" : {
        
      }
    },
    "language_info" : {
      "name" : "scala"
    }
  },
  "nbformat" : 4,
  "nbformat_minor" : 0,
  "cells" : [
    {
      "cell_type" : "markdown",
      "execution_count" : 0,
      "metadata" : {
        "language" : "text"
      },
      "language" : "text",
      "source" : [
        "# Notebook to manually inspect genes/transcripts<br>\n",
        "\n",
        "\n",
        "This is a text cell. Start editing!\n",
        "\n",
        "\n"
      ],
      "outputs" : [
      ]
    },
    {
      "cell_type" : "code",
      "execution_count" : 1,
      "metadata" : {
        "cell.metadata.exec_info" : {
          "startTs" : 1605745864976,
          "endTs" : 1605745867385
        },
        "language" : "scala"
      },
      "language" : "scala",
      "source" : [
        "import org.apache.spark.rdd._\n",
        "import org.apache.spark.sql._\n",
        "import org.apache.spark.sql.types.StructType\n",
        "import org.apache.spark.sql.functions._\n",
        "import group.research.aging.spark.extensions._\n",
        "import group.research.aging.spark.extensions.functions._\n",
        "import group.research.aging.spark.extensions.functions.ConcatenateString\n",
        "import group.research.aging.spark.extensions.functions.Concatenate\n",
        "import ammonite.ops._\n",
        "import ammonite.ops.ImplicitWd._\n",
        "import org.apache.spark.storage.StorageLevel"
      ],
      "outputs" : [
      ]
    },
    {
      "cell_type" : "code",
      "execution_count" : 2,
      "metadata" : {
        "cell.metadata.exec_info" : {
          "startTs" : 1605750678004,
          "endTs" : 1605750678078
        },
        "language" : "scala"
      },
      "language" : "scala",
      "source" : [
        "import better.files._\n",
        "import File._\n",
        "import java.io.{File => JFile}"
      ],
      "outputs" : [
      ]
    },
    {
      "cell_type" : "markdown",
      "execution_count" : 48,
      "metadata" : {
        "language" : "text"
      },
      "language" : "text",
      "source" : [
      ],
      "outputs" : [
      ]
    },
    {
      "cell_type" : "code",
      "execution_count" : 49,
      "metadata" : {
        "cell.metadata.exec_info" : {
          "startTs" : 1605745867677,
          "endTs" : 1605745868219
        },
        "language" : "scala"
      },
      "language" : "scala",
      "source" : [
        "val data_path = \"/data/\"\n",
        "val samples_path = s\"${data_path}samples/\"\n",
        "val ensembl_path = s\"${data_path}ensembl/99/\"\n",
        "val graphdb_path = s\"${data_path}databases/graphdb/import\"\n",
        "val yspecies = s\"${data_path}sources/yspecies/\"\n",
        "val ranked_path = yspecies + \"data/output/intersections/intersections_ranked.tsv\"\n",
        "val stage_one_input = yspecies +  \"data/interim/selected/lifespan/\"\n",
        "val stage_two_input = yspecies +  \"data/interim/stage_2/input/\""
      ],
      "outputs" : [
      ]
    },
    {
      "cell_type" : "code",
      "execution_count" : 54,
      "metadata" : {
        "cell.metadata.exec_info" : {
          "startTs" : 1605745868232,
          "endTs" : 1605745869961
        },
        "language" : "scala"
      },
      "language" : "scala",
      "source" : [
        "val not_null = udf[String, String](str=> if(str==null || str==\"\\\\N\") \"\" else str)\n",
        "val underscored =udf[String, String](str=> str.replace(\" \", \"_\"))\n",
        "def undot(s: String): String = {  s.lastIndexOf(\".\") match { case -1 => s case i => s.substring(0,i)} }\n",
        "val u_undot = udf[String, String](undot _)"
      ],
      "outputs" : [
      ]
    },
    {
      "cell_type" : "markdown",
      "execution_count" : 7,
      "metadata" : {
        "language" : "text"
      },
      "language" : "text",
      "source" : [
        "## Load transcript maps\n",
        "\n",
        "\n"
      ],
      "outputs" : [
      ]
    },
    {
      "cell_type" : "code",
      "execution_count" : 8,
      "metadata" : {
        "cell.metadata.exec_info" : {
          "startTs" : 1605745869968,
          "endTs" : 1605745890291
        },
        "language" : "scala"
      },
      "language" : "scala",
      "source" : [
        "//val anage = spark.readTSV(\"/data/databases/anage/anage_data.tsv\", header = true).withColumn(\"scientific_name\", concat($\"Genus\", lit(\" \"), $\"Species\"))\n",
        "//anage.show()\n",
        "//val anage_animals = spark.readTSV(\"/data/ensembl/99/view_animals_anage.tsv\", header = true).withColumnRenamed(\"latin_name\", \"scientific_name\")\n",
        "//anage_animals.show(10,10000)\n",
        "val species = spark.readTSV(ensembl_path + \"ensembl_anage_vertebrates.tsv\", header = true).withColumnRenamed(\"latin_name\", \"scientific_name\")\n",
        "species.show(10,10000)"
      ],
      "outputs" : [
        {
          "name" : "stdout",
          "text" : [
            "+--------------------+--------------------------------+-----------+-----------+------------------+-----------------------+-----+-----+------+-------+----------------+-----------+--------------+-----------+--------------+--------------------+------------------+-------+-----------+----------------+--------------------+--------------+----------------+--------------+-----------+\n",
            "|         common_name|                 scientific_name|taxonomy_id|   assembly|assembly_accession|              genebuild|class|order|family|species|maximum_lifespan|body_mass_g|metabolic_rate|temperature|gestation_days|female_maturity_days|male_maturity_days|weaning|litter_size|litters_per_year|inter_birth_interval|birth_weight_g|weaning_weight_g|adult_weight_g|growth_rate|\n",
            "+--------------------+--------------------------------+-----------+-----------+------------------+-----------------------+-----+-----+------+-------+----------------+-----------+--------------+-----------+--------------+--------------------+------------------+-------+-----------+----------------+--------------------+--------------+----------------+--------------+-----------+\n",
            "|       Spiny chromis|     Acanthochromis_polyacanthus|      80966|ASM210954v1|   GCA_002109545.1|2018-05-Ensembl/2018-07| null| null|  null|   null|            null|       null|          null|       null|          null|                null|              null|   null|       null|            null|                null|          null|            null|          null|       null|\n",
            "|Yellow-billed parrot|                Amazona_collaria|     241587|ASM394721v1|   GCA_003947215.1|2019-07-Ensembl/2019-09| null| null|  null|   null|            null|       null|          null|       null|          null|                null|              null|   null|       null|            null|                null|          null|            null|          null|       null|\n",
            "|       Midas cichlid|         Amphilophus_citrinellus|      61819|   Midas_v5|   GCA_000751415.1|2018-05-Ensembl/2018-07| null| null|  null|   null|            null|       null|          null|       null|          null|                null|              null|   null|       null|            null|                null|          null|            null|          null|       null|\n",
            "|   Clown anemonefish|            Amphiprion_ocellaris|      80972|  AmpOce1.0|   GCA_002776465.1|2018-05-Ensembl/2018-07| null| null|  null|   null|            null|       null|          null|       null|          null|                null|              null|   null|       null|            null|                null|          null|            null|          null|       null|\n",
            "|    Orange clownfish|              Amphiprion_percula|     161767|    Nemo_v1|   GCA_003047355.1|2018-05-Ensembl/2018-07| null| null|  null|   null|            null|       null|          null|       null|          null|                null|              null|   null|       null|            null|                null|          null|            null|          null|       null|\n",
            "|                Duck|Anas_platyrhynchos_platyrhynchos|       8840|CAU_duck1.0|   GCA_002743455.1|2018-10-Ensembl/2018-12| null| null|  null|   null|            null|       null|          null|       null|          null|                null|              null|   null|       null|            null|                null|          null|            null|          null|       null|\n",
            "|          Swan goose|                 Anser_cygnoides|       8845|  GooseV1.0|   GCA_002166845.1|2019-02-Ensembl/2019-09| null| null|  null|   null|            null|       null|          null|       null|          null|                null|              null|   null|       null|            null|                null|          null|            null|          null|       null|\n",
            "|   Ma's night monkey|                 Aotus_nancymaae|      37293|   Anan_2.0|   GCA_000952055.2|2017-08-Ensembl/2018-01| null| null|  null|   null|            null|       null|          null|       null|          null|                null|              null|   null|       null|            null|                null|          null|            null|          null|       null|\n",
            "|  Great spotted kiwi|                 Apteryx_haastii|       8823|    aptHaa1|   GCA_003342985.1|2018-12-Ensembl/2018-12| null| null|  null|   null|            null|       null|          null|       null|          null|                null|              null|   null|       null|            null|                null|          null|            null|          null|       null|\n",
            "| Little spotted kiwi|                  Apteryx_owenii|       8824|    aptOwe1|   GCA_003342965.1|2018-10-Ensembl/2018-12| null| null|  null|   null|            null|       null|          null|       null|          null|                null|              null|   null|       null|            null|                null|          null|            null|          null|       null|\n",
            "+--------------------+--------------------------------+-----------+-----------+------------------+-----------------------+-----+-----+------+-------+----------------+-----------+--------------+-----------+--------------+--------------------+------------------+-------+-----------+----------------+--------------------+--------------+----------------+--------------+-----------+\n",
            "only showing top 10 rows\n",
            "\n"
          ],
          "output_type" : "stream"
        }
      ]
    },
    {
      "cell_type" : "code",
      "execution_count" : 9,
      "metadata" : {
        "cell.metadata.exec_info" : {
          "startTs" : 1605745890298,
          "endTs" : 1605745969824
        },
        "language" : "scala"
      },
      "language" : "scala",
      "source" : [
        "val path = File(s\"${ensembl_path}species\")\n",
        "val tx2gene = (\n",
        "  for(fl <- path.children.flatMap(_.children\n",
        "    .filter(c=>c.name.endsWith(\".gtf\")&& !c.name.contains(\"abinitio\")&& !c.name.contains(\"hapl_scaff\")))\n",
        "    ) yield fl.parent.name.capitalize -> spark.readTSV(fl.pathAsString.replace(\".gtf\", \"_tx2gene.tsv\")).toDF(\"transcript\", \"gene\")\n",
        "  ).toMap[String, DataFrame]\n",
        "\n",
        "val h = tx2gene.head\n",
        "println(h._1)\n",
        "h._2.show(10,1000)"
      ],
      "outputs" : [
        {
          "name" : "stdout",
          "text" : [
            "Otolemur_garnettii\n",
            "+------------------+------------------+\n",
            "|        transcript|              gene|\n",
            "+------------------+------------------+\n",
            "|ENSOGAT00000012158|ENSOGAG00000012155|\n",
            "|ENSOGAT00000031338|ENSOGAG00000033509|\n",
            "|ENSOGAT00000026645|ENSOGAG00000030153|\n",
            "|ENSOGAT00000031633|ENSOGAG00000034131|\n",
            "|ENSOGAT00000030922|ENSOGAG00000033908|\n",
            "|ENSOGAT00000015494|ENSOGAG00000015488|\n",
            "|ENSOGAT00000030131|ENSOGAG00000029906|\n",
            "|ENSOGAT00000004627|ENSOGAG00000004624|\n",
            "|ENSOGAT00000031760|ENSOGAG00000029208|\n",
            "|ENSOGAT00000029851|ENSOGAG00000032266|\n",
            "+------------------+------------------+\n",
            "only showing top 10 rows\n",
            "\n"
          ],
          "output_type" : "stream"
        }
      ]
    },
    {
      "cell_type" : "markdown",
      "execution_count" : 11,
      "metadata" : {
        "language" : "text"
      },
      "language" : "text",
      "source" : [
        "## Load samples and transcript expressions\n",
        "\n",
        "\n"
      ],
      "outputs" : [
      ]
    },
    {
      "cell_type" : "code",
      "execution_count" : 13,
      "metadata" : {
        "cell.metadata.exec_info" : {
          "startTs" : 1605745969831,
          "endTs" : 1605745976985
        },
        "language" : "scala"
      },
      "language" : "scala",
      "source" : [
        "val s = spark.readTSV(s\"${graphdb_path}/transcript_stable_expressions.tsv\", header = true).as[(String, String, String, Double)]\n",
        "transcript_expressions.show(10)"
      ],
      "outputs" : [
        {
          "name" : "stdout",
          "text" : [
            "+----------+------------------+--------------------+---------+\n",
            "|       run| transcript_stable|          transcript|      TPM|\n",
            "+----------+------------------+--------------------+---------+\n",
            "|SRR2040645|ENSCCET00000000012|ENSCCET00000000012.1|15.003977|\n",
            "|SRR2040645|ENSCCET00000000003|ENSCCET00000000003.1|75.039963|\n",
            "|SRR2040645|ENSCCET00000000007|ENSCCET00000000007.1| 0.203121|\n",
            "|SRR2040645|ENSCCET00000000047|ENSCCET00000000047.1|77.176479|\n",
            "|SRR2040645|ENSCCET00000000005|ENSCCET00000000005.1|      0.0|\n",
            "|SRR2040645|ENSCCET00000000092|ENSCCET00000000092.1|      0.0|\n",
            "|SRR2040645|ENSCCET00000000174|ENSCCET00000000174.1| 0.771706|\n",
            "|SRR2040645|ENSCCET00000000010|ENSCCET00000000010.1|      0.0|\n",
            "|SRR2040645|ENSCCET00000000154|ENSCCET00000000154.1| 0.038792|\n",
            "|SRR2040645|ENSCCET00000000006|ENSCCET00000000006.1|72.543704|\n",
            "+----------+------------------+--------------------+---------+\n",
            "only showing top 10 rows\n",
            "\n"
          ],
          "output_type" : "stream"
        }
      ]
    },
    {
      "cell_type" : "code",
      "execution_count" : 57,
      "metadata" : {
        "cell.metadata.exec_info" : {
          "startTs" : 1605745976989,
          "endTs" : 1605745979581
        },
        "language" : "scala"
      },
      "language" : "scala",
      "source" : [
        "//val transcripts_to_genes = tx2gene.map{ case (key, value) => value.withColumn(\"species\", lit(key))}.reduce(_.union(_))\n",
        "//transcripts_to_genes.select(\"species\", \"gene\", \"transcript\").writeTSV(s\"${graphdb_path}/transcripts_to_genes.tsv\")\n",
        "val transcripts_to_genes = spark.readTSV(s\"${graphdb_path}/transcripts_to_genes.tsv\", true).as[(String, String, String)]\n",
        "transcripts_to_genes.show(10)"
      ],
      "outputs" : [
        {
          "name" : "stdout",
          "text" : [
            "+------------------+------------------+------------------+\n",
            "|           species|              gene|        transcript|\n",
            "+------------------+------------------+------------------+\n",
            "|Otolemur_garnettii|ENSOGAG00000012155|ENSOGAT00000012158|\n",
            "|Otolemur_garnettii|ENSOGAG00000033509|ENSOGAT00000031338|\n",
            "|Otolemur_garnettii|ENSOGAG00000030153|ENSOGAT00000026645|\n",
            "|Otolemur_garnettii|ENSOGAG00000034131|ENSOGAT00000031633|\n",
            "|Otolemur_garnettii|ENSOGAG00000033908|ENSOGAT00000030922|\n",
            "|Otolemur_garnettii|ENSOGAG00000015488|ENSOGAT00000015494|\n",
            "|Otolemur_garnettii|ENSOGAG00000029906|ENSOGAT00000030131|\n",
            "|Otolemur_garnettii|ENSOGAG00000004624|ENSOGAT00000004627|\n",
            "|Otolemur_garnettii|ENSOGAG00000029208|ENSOGAT00000031760|\n",
            "|Otolemur_garnettii|ENSOGAG00000032266|ENSOGAT00000029851|\n",
            "+------------------+------------------+------------------+\n",
            "only showing top 10 rows\n",
            "\n"
          ],
          "output_type" : "stream"
        }
      ]
    },
    {
      "cell_type" : "code",
      "execution_count" : 82,
      "metadata" : {
        "cell.metadata.exec_info" : {
          "startTs" : 1605746935430,
          "endTs" : 1605747038694
        },
        "language" : "scala"
      },
      "language" : "scala",
      "source" : [
        "transcript_expressions.select($\"run\", $\"transcript_stable\".as(\"transcript\"), $\"TPM\")\n",
        "  .join(transcripts_to_genes, Seq(\"transcript\"))\n",
        "  .select(\"run\", \"species\", \"gene\", \"transcript\", \"TPM\")\n",
        "  .writeTSV(s\"${graphdb_path}/transcript_extended_expressions.tsv\", header = true)\n",
        "val extended_expressions = spark.readTSV(s\"${graphdb_path}/transcript_extended_expressions.tsv\", true)\n",
        "extended_expressions.show(10)"
      ],
      "outputs" : [
        {
          "name" : "stdout",
          "text" : [
            "parts of /data/databases/graphdb/import/transcript_extended_expressions.tsv merged!\n"
          ],
          "output_type" : "stream"
        },
        {
          "ename" : "org.apache.spark.sql.AnalysisException",
          "evalue" : "Path does not exist: file:/opt/polynote/${graphdb_path}/transcript_extended_expressions.tsv;",
          "traceback" : [
          ],
          "output_type" : "error"
        }
      ]
    },
    {
      "cell_type" : "markdown",
      "execution_count" : 29,
      "metadata" : {
        "language" : "text"
      },
      "language" : "text",
      "source" : [
        "## Experimenting with transcripts\n",
        "\n",
        "\n"
      ],
      "outputs" : [
      ]
    },
    {
      "cell_type" : "code",
      "execution_count" : 34,
      "metadata" : {
        "cell.metadata.exec_info" : {
          "startTs" : 1605751949110,
          "endTs" : 1605751950734
        },
        "language" : "scala"
      },
      "language" : "scala",
      "source" : [
        "val intersections_path = yspecies + \"data/output/intersections/\"\n",
        "val ranked_path =intersections_path + \"intersections_ranked.tsv\"\n",
        "val stage_one_input = yspecies +  \"data/interim/selected/lifespan/\"\n",
        "val stage_two_input = yspecies +  \"data/interim/stage_2/input/\"\n",
        "val genes_ranked = spark.readTSV(ranked_path, true)\n",
        "genes_ranked.show(10, 100)"
      ],
      "outputs" : [
        {
          "name" : "stdout",
          "text" : [
            "+---------------+--------+----+---------+------------+---------+----------------+--------------+------------------+-----------+-----------+-------+-------------------+-------------------+---------+-------------------+------------+-----------+------------------------+------------------------------+---------------------------------+--------------------------+----------------------------------------------------------------------------------------+----------------------------------------------------------------------------------------------------+\n",
            "| reference_gene|  symbol|rank|ranks_sum|repeats_rank|shap_rank|kendall_tau_rank|frequency_rank|tissue_linear_rank|genage_rank|repeats_all|repeats|      mean_abs_shap|   mean_kendall_tau|frequency|      max_linear_r2|genage_count|  direction|repeats_lifespan_stage_1|mean_abs_shap_lifespan_stage_1|mean_kendall_tau_lifespan_stage_1|direction_lifespan_stage_1|                                                               other_life_history_traits|                                                                                               organ|\n",
            "+---------------+--------+----+---------+------------+---------+----------------+--------------+------------------+-----------+-----------+-------+-------------------+-------------------+---------+-------------------+------------+-----------+------------------------+------------------------------+---------------------------------+--------------------------+----------------------------------------------------------------------------------------+----------------------------------------------------------------------------------------------------+\n",
            "|ENSG00000188747|   NOXA1| 1.0|     57.0|         2.0|     12.0|            16.0|           1.0|              10.0|         17|       19.0|   10.0| 0.5069414065318665| 0.6967791597647985|      1.0| 0.6271093458616293|         0.0| strong pro|                     9.0|           0.41299865824392973|               0.6886879796170352|                strong pro|                 mtGC (pro | 8 | 0.05 | 0.649), gestation_days (pro | 9 | 3.17 | 0.6254)|      Brain (pro r^2=0.6271), Kidney (pro r^2=0.6017), Liver (pro r^2=0.5151), Lung (pro r^2=0.3161)|\n",
            "|ENSG00000170835|     CEL| 2.0|     65.0|         1.0|      7.0|             7.0|           6.0|              33.0|         17|       20.0|   10.0| 0.8490532462034261| 0.7460140942015137|      0.6| 0.4814757715303544|         0.0| strong pro|                    10.0|             1.067878925877285|               0.6927135382967246|                strong pro|                                                                                    null|                                                                              Brain (pro r^2=0.4815)|\n",
            "|ENSG00000136436|CALCOCO2| 3.0|     74.0|         7.0|     27.0|             5.0|           7.0|              18.0|         17|       14.0|   10.0| 0.3070314419339876| 0.7627828601912021|     0.42| 0.5585957709575642|         0.0| strong pro|                     4.0|            0.0744681926006002|               0.7222962672002236|                  weak pro|                                                                                    null|       Lung (pro r^2=0.5586), Brain (pro r^2=0.5369), Liver (pro r^2=0.5263), Heart (pro r^2=0.3856)|\n",
            "|ENSG00000198663| C6orf89| 4.0|     75.0|        10.0|     35.0|             1.0|           2.0|              12.0|         17|       10.0|   10.0| 0.2261041665069153|-0.7884959254873527|     0.94| 0.6159144290436676|         0.0|strong anti|                     0.0|                          null|                             null|                      null|                                               metabolic_rate (anti | 6 | 0.0 | -0.5674)|                                                    Heart (anti r^2=0.6159), Liver (anti r^2=0.4011)|\n",
            "|ENSG00000172531|  PPP1CA| 5.0|     80.0|         5.0|     42.0|             3.0|          20.0|              13.0|         17|       16.0|   10.0|0.16474626023868227|-0.7815378754093472|      0.0| 0.6099450741802424|         0.0|strong anti|                     6.0|           0.09323570543102652|              -0.7613399509384692|                      anti|                                       gestation_days (strong anti | 9 | 1.28 | -0.7678)|                                                    Brain (anti r^2=0.6099), Heart (anti r^2=0.4668)|\n",
            "|ENSG00000006282| SPATA20| 6.0|     86.0|         8.0|     25.0|            31.0|          16.0|               5.0|         17|       13.0|   10.0| 0.3106100874970206| 0.6494428176225757|     0.08| 0.6749879778069352|         0.0| strong pro|                     3.0|           0.14795130395810188|               0.6082846163807906|                  weak pro|mtGC (strong pro | 9 | 0.24 | 0.6937), gestation_days (strong pro | 10 | 14.67 | 0.6713)|Brain (pro r^2=0.675), Heart (pro r^2=0.6381), Lung (pro r^2=0.5417), Kidney (pro r^2=0.4559), Li...|\n",
            "|ENSG00000142002|    DPP9| 7.0|     87.0|         4.0|     26.0|            11.0|          11.0|              29.0|         17|       17.0|   10.0| 0.3094213850762897|-0.7174312885030398|      0.3| 0.5073616716863268|         0.0|strong anti|                     7.0|           0.10114334253595443|              -0.7162147344949846|                      anti|                                                                                    null|                                                     Lung (anti r^2=0.5074), Heart (anti r^2=0.3048)|\n",
            "|ENSG00000129187|    DCTD| 8.0|     89.0|         8.0|     32.0|            26.0|           8.0|               6.0|         17|       13.0|   10.0|0.25272445241852204|  0.674323409030045|      0.4| 0.6659185229125772|         0.0| strong pro|                     3.0|           0.14903273924460966|               0.6315551151672446|                  weak pro|                                                     mtGC (weak pro | 4 | 0.01 | 0.6756)|                              Liver (pro r^2=0.6659), Heart (pro r^2=0.4353), Brain (pro r^2=0.3758)|\n",
            "|ENSG00000165501|    LRR1| 9.0|     93.0|         2.0|     19.0|            14.0|           9.0|              41.0|         17|       19.0|   10.0| 0.3663829552928105| 0.7146694140024927|     0.34|0.45850105161584703|         0.0| strong pro|                     9.0|           0.17655583761942711|               0.6880625911933481|                strong pro|                                                                                    null|                               Heart (pro r^2=0.4585), Lung (pro r^2=0.4286), Liver (pro r^2=0.3918)|\n",
            "|ENSG00000120675| DNAJC15|10.0|     94.0|         8.0|     52.0|             9.0|          20.0|               8.0|         17|       13.0|   10.0|0.12769351359827955|-0.7350423400507995|      0.0| 0.6464633753760498|         0.0|strong anti|                     3.0|            0.0538587347743776|              -0.6492357613076482|                 weak anti|                                         gestation_days (weak anti | 3 | 0.16 | -0.6042)|                                                   Heart (anti r^2=0.6465), Kidney (anti r^2=0.3257)|\n",
            "+---------------+--------+----+---------+------------+---------+----------------+--------------+------------------+-----------+-----------+-------+-------------------+-------------------+---------+-------------------+------------+-----------+------------------------+------------------------------+---------------------------------+--------------------------+----------------------------------------------------------------------------------------+----------------------------------------------------------------------------------------------------+\n",
            "only showing top 10 rows\n",
            "\n"
          ],
          "output_type" : "stream"
        }
      ]
    },
    {
      "cell_type" : "code",
      "execution_count" : 37,
      "metadata" : {
        "cell.metadata.exec_info" : {
          "startTs" : 1605745980985,
          "endTs" : 1605745981103
        },
        "language" : "scala"
      },
      "language" : "scala",
      "source" : [
        "kernel.display.html(File(stage_two_input).children.toList.mkString(\"<br>\"))"
      ],
      "outputs" : [
        {
          "data" : {
            "text/html" : [
              "/data/sources/yspecies/data/interim/stage_2/input/genes_meta.tsv<br>/data/sources/yspecies/data/interim/stage_2/input/expressions.tsv<br>/data/sources/yspecies/data/interim/stage_2/input/genes.tsv<br>/data/sources/yspecies/data/interim/stage_2/input/samples.tsv<br>/data/sources/yspecies/data/interim/stage_2/input/species.tsv<br>/data/sources/yspecies/data/interim/stage_2/input/.~lock.expressions.tsv#"
            ]
          },
          "output_type" : "display_data"
        }
      ]
    },
    {
      "cell_type" : "code",
      "execution_count" : 76,
      "metadata" : {
        "cell.metadata.exec_info" : {
          "startTs" : 1605746181578,
          "endTs" : 1605746181952
        },
        "language" : "scala"
      },
      "language" : "scala",
      "source" : [
        "case class ExpressionDataset(samples: DataFrame, \n",
        "  genes: DataFrame, \n",
        "  genes_meta: Dataset[(String, String, String)], \n",
        "  species: DataFrame, \n",
        "  expressions: DataFrame\n",
        "  ){\n",
        "    def get_genes_by_symbol(symbol: String): DataFrame = {\n",
        "      val id = this.genes_meta.where($\"symbol\"===\"NOXA1\").first()._1\n",
        "      this.get_genes_by_ensembl_id(id)\n",
        "    }\n",
        "\n",
        "    def get_genes_by_ensembl_id(id: String): DataFrame= {      \n",
        "      val geneRow = this.genes.where($\"Homo_sapiens\" === id).first()\n",
        "      val rowMap:Map[String, String] = geneRow.getValuesMap(this.genes.columns)\n",
        "      rowMap.flatMap{ \n",
        "          case (k, v) if v == null => List.empty[(String, String)]\n",
        "          case (k, v) => v.split(\";\").map(g=>g->k)\n",
        "          case _ => List.empty[(String, String)]\n",
        "      }.toSeq.toDF(\"gene\", \"species\")\n",
        "        .join(this.species.select(\"species\", \"common_name\", \"lifespan\", \"order\", \"family\"), Seq(\"species\"))\n",
        "        .orderBy($\"lifespan\".desc)\n",
        "    }\n",
        "  }\n",
        "object ExpressionDataset{\n",
        "    def apply(path: String): ExpressionDataset = {\n",
        "       val stage = File(path).children.toList.map(c=> c.name->c.pathAsString).toMap[String, String]\n",
        "       ExpressionDataset(\n",
        "           spark.readTSV(stage(\"samples.tsv\"), true), \n",
        "           spark.readTSV(stage(\"genes.tsv\"), true), \n",
        "           spark.readTSV(stage(\"genes_meta.tsv\"), true).as[(String, String, String)], \n",
        "           spark.readTSV(stage(\"species.tsv\"), true), \n",
        "           spark.readTSV(stage(\"expressions.tsv\"), true)\n",
        "        )\n",
        "\n",
        "    }\n",
        "}\n"
      ],
      "outputs" : [
      ]
    },
    {
      "cell_type" : "code",
      "execution_count" : 46,
      "metadata" : {
        "cell.metadata.exec_info" : {
          "startTs" : 1605746181955,
          "endTs" : 1605746185399
        },
        "language" : "scala"
      },
      "language" : "scala",
      "source" : [
        "val stage_one = ExpressionDataset(stage_one_input)\n",
        "stage_one"
      ],
      "outputs" : [
        {
          "execution_count" : 46,
          "data" : {
            "text/plain" : [
              "ExpressionDataset([run: string, bioproject: string ... 37 more fields],[Homo_sapiens: string, Ailuropoda_melanoleuca: string ... 36 more fields],[Homo_sapiens: string, species: string ... 1 more field],[species: string, common_name: string ... 17 more fi"
            ]
          },
          "metadata" : {
            "name" : "Out",
            "type" : "ExpressionDataset"
          },
          "output_type" : "execute_result"
        }
      ]
    },
    {
      "cell_type" : "code",
      "execution_count" : 41,
      "metadata" : {
        "cell.metadata.exec_info" : {
          "startTs" : 1605746185404,
          "endTs" : 1605746187826
        },
        "language" : "scala"
      },
      "language" : "scala",
      "source" : [
        "val stage_two = ExpressionDataset(stage_two_input)\n",
        "stage_two"
      ],
      "outputs" : [
        {
          "execution_count" : 41,
          "data" : {
            "text/plain" : [
              "ExpressionDataset([run: string, bioproject: string ... 37 more fields],[Homo_sapiens: string, Ailuropoda_melanoleuca: string ... 36 more fields],[Homo_sapiens: string, species: string ... 1 more field],[species: string, common_name: string ... 17 more fi"
            ]
          },
          "metadata" : {
            "name" : "Out",
            "type" : "ExpressionDataset"
          },
          "output_type" : "execute_result"
        }
      ]
    },
    {
      "cell_type" : "code",
      "execution_count" : 75,
      "metadata" : {
        "cell.metadata.exec_info" : {
          "startTs" : 1605748344580,
          "endTs" : 1605748355985
        },
        "language" : "scala"
      },
      "language" : "scala",
      "source" : [
        "val noxa = stage_two.get_genes_by_symbol(\"NOXA1\")\n",
        "val joined = noxa.join(extended_expressions, Seq(\"species\", \"gene\"))\n",
        "\n",
        "import  org.apache.spark.sql.expressions.Window\n",
        "\n",
        "val sums = joined\n",
        "  .groupBy($\"species\", $\"common_name\", $\"lifespan\", $\"gene\", $\"transcript\")\n",
        "  .agg(sum($\"TPM\").as(\"TPM_sum\"))\n",
        "\n",
        "val best = sums\n",
        "  .withColumn(\"max_TPM_sum\",max($\"TPM_sum\").over(Window.partitionBy($\"species\", $\"common_name\", $\"lifespan\", $\"gene\")))\n",
        "  .where($\"max_TPM_sum\" === $\"TPM_sum\")\n",
        "  .drop($\"max_TPM_sum\").drop($\"TPM_sum\").orderBy($\"lifespan\".desc)\n",
        "best.show(10)\n",
        "  //.first()"
      ],
      "outputs" : [
        {
          "name" : "stdout",
          "text" : [
            "+--------------------+--------------------+--------+------------------+------------------+\n",
            "|             species|         common_name|lifespan|              gene|        transcript|\n",
            "+--------------------+--------------------+--------+------------------+------------------+\n",
            "|        Homo_sapiens|               Human|   122.5|   ENSG00000188747|   ENST00000341349|\n",
            "|     Gorilla_gorilla|             Gorilla|    60.1|ENSGGOG00000041617|ENSGGOT00000058456|\n",
            "|     Pan_troglodytes|          Chimpanzee|    59.4|ENSPTRG00000042665|ENSPTRT00000086905|\n",
            "|      Equus_caballus|               Horse|    57.0|ENSECAG00000018904|ENSECAT00000020347|\n",
            "|        Pan_paniscus|Pygmy chimpanzee ...|    55.0|ENSPPAG00000037345|ENSPPAT00000051482|\n",
            "|      Macaca_mulatta|       Rhesus monkey|    40.0|ENSMMUG00000019602|ENSMMUT00000027525|\n",
            "| Macaca_fascicularis| Long-tailed macaque|    39.0|ENSMFAG00000030739|ENSMFAT00000065589|\n",
            "|   Macaca_nemestrina|     Pigtail macaque|    37.6|ENSMNEG00000035523|ENSMNET00000048160|\n",
            "|Ailuropoda_melano...|         Giant panda|    36.8|ENSAMEG00000016322|ENSAMET00000017952|\n",
            "|    Ursus_americanus| American black bear|    34.0|ENSUAMG00000014753|ENSUAMT00000020818|\n",
            "+--------------------+--------------------+--------+------------------+------------------+\n",
            "only showing top 10 rows\n",
            "\n"
          ],
          "output_type" : "stream"
        }
      ]
    },
    {
      "cell_type" : "code",
      "execution_count" : 80,
      "metadata" : {
        "cell.metadata.exec_info" : {
          "startTs" : 1605747131778,
          "endTs" : 1605747131915
        },
        "language" : "scala"
      },
      "language" : "scala",
      "source" : [
        "extended_expressions.show(10)"
      ],
      "outputs" : [
        {
          "name" : "stdout",
          "text" : [
            "+----------+-------------------+------------------+------------------+---------+\n",
            "|       run|            species|              gene|        transcript|      TPM|\n",
            "+----------+-------------------+------------------+------------------+---------+\n",
            "|SRR5039773|Anolis_carolinensis|ENSACAG00000000015|ENSACAT00000000015| 7.415931|\n",
            "|SRR5039741|Anolis_carolinensis|ENSACAG00000000015|ENSACAT00000000015|10.039286|\n",
            "| SRR579557|Anolis_carolinensis|ENSACAG00000000015|ENSACAT00000000015|18.844585|\n",
            "|SRR5039773|Anolis_carolinensis|ENSACAG00000000246|ENSACAT00000000233| 0.150917|\n",
            "|SRR5039741|Anolis_carolinensis|ENSACAG00000000246|ENSACAT00000000233| 0.147861|\n",
            "| SRR579557|Anolis_carolinensis|ENSACAG00000000246|ENSACAT00000000233|  0.45184|\n",
            "|SRR5039773|Anolis_carolinensis|ENSACAG00000000860|ENSACAT00000000788|  2.60776|\n",
            "|SRR5039741|Anolis_carolinensis|ENSACAG00000000860|ENSACAT00000000788| 4.374273|\n",
            "| SRR579557|Anolis_carolinensis|ENSACAG00000000860|ENSACAT00000000788| 9.545411|\n",
            "|SRR5039773|Anolis_carolinensis|ENSACAG00000000888|ENSACAT00000000838| 7.132203|\n",
            "+----------+-------------------+------------------+------------------+---------+\n",
            "only showing top 10 rows\n",
            "\n"
          ],
          "output_type" : "stream"
        }
      ]
    },
    {
      "cell_type" : "code",
      "execution_count" : 84,
      "metadata" : {
        "language" : "scala"
      },
      "language" : "scala",
      "source" : [
        "extended_expressions"
      ],
      "outputs" : [
      ]
    },
    {
      "cell_type" : "markdown",
      "execution_count" : 71,
      "metadata" : {
        "language" : "text"
      },
      "language" : "text",
      "source" : [
        "### Loading proteins data<br>\n",
        "\n",
        "\n"
      ],
      "outputs" : [
      ]
    },
    {
      "cell_type" : "code",
      "execution_count" : 68,
      "metadata" : {
        "cell.metadata.exec_info" : {
          "startTs" : 1605750247015,
          "endTs" : 1605750247167
        },
        "language" : "scala"
      },
      "language" : "scala",
      "source" : [
        "val mapping_cols = Seq(\"UniProtKB-AC\",\"UniProtKB-ID\",\"Entrez\",\"RefSeq\",\"GI\",\"PDB\",\"GO\",\n",
        "\"UniRef100\",\"UniRef90\",\"UniRef50\",\"UniParc\",\"PIR\",\n",
        "\"NCBI-taxon\",\"MIM\",\"UniGene\",\"PubMed\",\n",
        "\"EMBL\",\"EMBL-CDS\",\"Ensembl\",\"Ensembl_TRS\",\"Ensembl_PRO\",\"Additional PubMed\")"
      ],
      "outputs" : [
      ]
    },
    {
      "cell_type" : "code",
      "execution_count" : 72,
      "metadata" : {
        "cell.metadata.exec_info" : {
          "startTs" : 1605750338900,
          "endTs" : 1605750413009
        },
        "language" : "scala"
      },
      "language" : "scala",
      "source" : [
        "val uniprot_mapping = spark.readTSV(\"/data/indexes/uniprot/2020_05/idmapping_selected.tab\").toDF(mapping_cols:_*)\n",
        "uniprot_mapping.limit(20).show(20, 1000)"
      ],
      "outputs" : [
        {
          "name" : "stdout",
          "text" : [
            "+------------+------------+-------+-----------+-------------------------------+----+----------------------------------+----------------+---------------+---------------+-------------+----+----------+----+-------+------------------+--------+----------+-------+-----------+-----------+-----------------+\n",
            "|UniProtKB-AC|UniProtKB-ID| Entrez|     RefSeq|                             GI| PDB|                                GO|       UniRef100|       UniRef90|       UniRef50|      UniParc| PIR|NCBI-taxon| MIM|UniGene|            PubMed|    EMBL|  EMBL-CDS|Ensembl|Ensembl_TRS|Ensembl_PRO|Additional PubMed|\n",
            "+------------+------------+-------+-----------+-------------------------------+----+----------------------------------+----------------+---------------+---------------+-------------+----+----------+----+-------+------------------+--------+----------+-------+-----------+-----------+-----------------+\n",
            "|      Q6GZX4|  001R_FRG3G|2947773|YP_031579.1|             81941549; 49237298|null|                        GO:0046782|UniRef100_Q6GZX4|UniRef90_Q6GZX4|UniRef50_Q6GZX4|UPI00003B0FD4|null|    654924|null|   null|          15165820|AY548484|AAT09660.1|   null|       null|       null|             null|\n",
            "|      Q6GZX3|  002L_FRG3G|2947774|YP_031580.1|             49237299; 81941548|null|            GO:0033644; GO:0016021|UniRef100_Q6GZX3|UniRef90_Q6GZX3|UniRef50_Q6GZX3|UPI00003B0FD5|null|    654924|null|   null|          15165820|AY548484|AAT09661.1|   null|       null|       null|             null|\n",
            "|      Q197F8|   002R_IIV3|4156251|YP_654574.1|109287880; 123808694; 106073503|null|                              null|UniRef100_Q197F8|UniRef90_Q197F8|UniRef50_Q197F8|UPI0000D83464|null|    345201|null|   null|          16912294|DQ643392|ABF82032.1|   null|       null|       null|             null|\n",
            "|      Q197F7|   003L_IIV3|4156252|YP_654575.1|106073504; 109287881; 123808693|null|                              null|UniRef100_Q197F7|UniRef90_Q197F7|UniRef50_Q197F7|UPI0000D83465|null|    345201|null|   null|          16912294|DQ643392|ABF82033.1|   null|       null|       null|             null|\n",
            "|      Q6GZX2|  003R_FRG3G|2947775|YP_031581.1|             81941547; 49237300|null|                              null|UniRef100_Q6GZX2|UniRef90_Q6GZX2|UniRef50_Q6GZX2|UPI00003B0FD6|null|    654924|null|   null|          15165820|AY548484|AAT09662.1|   null|       null|       null|             null|\n",
            "|      Q6GZX1|  004R_FRG3G|2947776|YP_031582.1|             49237301; 81941546|null|            GO:0033644; GO:0016021|UniRef100_Q6GZX1|UniRef90_Q6GZX1|UniRef50_Q6GZX1|UPI00003B0FD7|null|    654924|null|   null|          15165820|AY548484|AAT09663.1|   null|       null|       null|             null|\n",
            "|      Q197F5|   005L_IIV3|4156254|YP_654577.1|123808691; 109287883; 106073506|null|                              null|UniRef100_Q197F5|UniRef90_Q197F5|UniRef50_Q197F5|UPI0000D83467|null|    345201|null|   null|          16912294|DQ643392|ABF82035.1|   null|       null|       null|             null|\n",
            "|      Q6GZX0|  005R_FRG3G|2947777|YP_031583.1|             49237302; 81941545|null|                              null|UniRef100_Q6GZX0|UniRef90_Q6GZX0|UniRef50_Q6GZX0|UPI00003B0FD8|null|    654924|null|   null|          15165820|AY548484|AAT09664.1|   null|       null|       null|             null|\n",
            "|      Q91G88|   006L_IIV6|1733056|NP_149469.1|   82012333; 15078718; 15042163|null|                              null|UniRef100_Q91G88|UniRef90_Q91G88|UniRef50_Q91FL1|UPI00000F3D32|null|    176652|null|   null|11448171; 17239238|AF303741|AAK81943.1|   null|       null|       null|             null|\n",
            "|      Q6GZW9|  006R_FRG3G|2947778|YP_031584.1|             81941544; 49237303|null|                              null|UniRef100_Q6GZW9|UniRef90_Q6GZW9|UniRef50_Q6GZW9|UPI00003B0FD9|null|    654924|null|   null|          15165820|AY548484|AAT09665.1|   null|       null|       null|             null|\n",
            "|      Q6GZW8|  007R_FRG3G|2947779|YP_031585.1|             49237304; 81941543|null|                              null|UniRef100_Q6GZW8|UniRef90_Q6GZW8|UniRef50_Q6GZW8|UPI00003B0FDA|null|    654924|null|   null|          15165820|AY548484|AAT09666.1|   null|       null|       null|             null|\n",
            "|      Q197F3|   007R_IIV3|4156256|YP_654579.1|106073508; 109287885; 123808689|null|                              null|UniRef100_Q197F3|UniRef90_Q197F3|UniRef50_Q197F3|UPI0000D83469|null|    345201|null|   null|          16912294|DQ643392|ABF82037.1|   null|       null|       null|             null|\n",
            "|      Q197F2|   008L_IIV3|4156257|YP_654580.1|106073509; 109287886; 123808688|null|                              null|UniRef100_Q197F2|UniRef90_Q197F2|UniRef50_Q197F2|UPI0000D8346A|null|    345201|null|   null|          16912294|DQ643392|ABF82038.1|   null|       null|       null|             null|\n",
            "|      Q6GZW6|  009L_FRG3G|2947781|YP_031587.1|             49237306; 82054175|null|GO:0005524; GO:0003677; GO:0004386|UniRef100_Q6GZW6|UniRef90_Q6GZW6|UniRef50_Q6GZW6|UPI00003B0FDC|null|    654924|null|   null|          15165820|AY548484|AAT09668.1|   null|       null|       null|             null|\n",
            "|      Q91G85|   009R_IIV6|1733381|NP_149472.1|   82012330; 15078722; 15042167|null|                              null|UniRef100_Q91G85|UniRef90_Q91G85|UniRef50_Q91G85|UPI00000EEE80|null|    176652|null|   null|11448171; 17239238|AF303741|AAK81947.1|   null|       null|       null|             null|\n",
            "|      Q6GZW5|  010R_FRG3G|2947782|YP_031588.1|             49237307; 81941542|null|            GO:0033644; GO:0016021|UniRef100_Q6GZW5|UniRef90_Q6GZW5|UniRef50_Q6GZW5|UPI00003B0FDD|null|    654924|null|   null|          15165820|AY548484|AAT09669.1|   null|       null|       null|             null|\n",
            "|      Q197E9|   011L_IIV3|4156260|YP_654583.1|123808687; 109287889; 106073512|null|                              null|UniRef100_Q197E9|UniRef90_Q197E9|UniRef50_Q197E9|UPI0000D8346D|null|    345201|null|   null|          16912294|DQ643392|ABF82041.1|   null|       null|       null|             null|\n",
            "|      Q6GZW4|  011R_FRG3G|2947783|YP_031589.1|             49237308; 81941541|null|            GO:0033644; GO:0016021|UniRef100_Q6GZW4|UniRef90_Q6GZW4|UniRef50_Q6GZW4|UPI00003B0FDE|null|    654924|null|   null|          15165820|AY548484|AAT09670.1|   null|       null|       null|             null|\n",
            "|      Q6GZW3|  012L_FRG3G|2947784|YP_031590.1|             81941540; 49237309|null|                              null|UniRef100_Q6GZW3|UniRef90_Q6GZW3|UniRef50_Q6GZW3|UPI00003B0FDF|null|    654924|null|   null|          15165820|AY548484|AAT09671.1|   null|       null|       null|             null|\n",
            "|      Q197E7|   013L_IIV3|4156262|YP_654585.1|106073514; 109287891; 123808685|null|            GO:0033644; GO:0016021|UniRef100_Q197E7|UniRef90_Q197E7|UniRef50_Q197E7|UPI0000D8346F|null|    345201|null|   null|          16912294|DQ643392|ABF82043.1|   null|       null|       null|             null|\n",
            "+------------+------------+-------+-----------+-------------------------------+----+----------------------------------+----------------+---------------+---------------+-------------+----+----------+----+-------+------------------+--------+----------+-------+-----------+-----------+-----------------+\n",
            "\n"
          ],
          "output_type" : "stream"
        }
      ]
    },
    {
      "cell_type" : "code",
      "execution_count" : 45,
      "metadata" : {
        "cell.metadata.exec_info" : {
          "startTs" : 1605751229412,
          "endTs" : 1605751229552
        },
        "language" : "scala"
      },
      "language" : "scala",
      "source" : [
        "case class TranscriptExpressionDataset(\n",
        "  dataset: ExpressionDataset, \n",
        "  extended_expressions: DataFrame, \n",
        "  uniprot_mapping: DataFrame )\n",
        "{\n",
        "\n",
        "  lazy val transcript2uniprot = uniprot_mapping\n",
        "    .select($\"Ensembl_TRS\".as(\"transcript\"), $\"UniProtKB-AC\".as(\"uniprot\"))\n",
        "    .where($\"transcript\".isNotNull)\n",
        "\n",
        "  def transcripts_to_isoform(df: DataFrame) = {\n",
        "    val joined = df.join(extended_expressions, Seq(\"species\", \"gene\"))\n",
        "\n",
        "    import  org.apache.spark.sql.expressions.Window\n",
        "\n",
        "    val sums = joined\n",
        "      .groupBy($\"species\", $\"common_name\", $\"lifespan\", $\"gene\", $\"transcript\")\n",
        "      .agg(sum($\"TPM\").as(\"TPM_sum\"))\n",
        "\n",
        "    val best = sums\n",
        "      .withColumn(\"max_TPM_sum\",max($\"TPM_sum\").over(Window.partitionBy($\"species\", $\"common_name\", $\"lifespan\", $\"gene\")))\n",
        "      .where($\"max_TPM_sum\" === $\"TPM_sum\")\n",
        "      .drop($\"max_TPM_sum\").drop($\"TPM_sum\").orderBy($\"lifespan\".desc)\n",
        "    best\n",
        "  }\n",
        "\n",
        "  def best_protein_by_ensembl_id(id: String) = {\n",
        "    val df = transcripts_to_isoform(this.dataset.get_genes_by_ensembl_id(id))\n",
        "    val proteins = df.join(transcript2uniprot, Seq(\"transcript\"),\"left\").orderBy($\"lifespan\".desc)\n",
        "    //print(df.count, proteins.count)\n",
        "    proteins.cache()\n",
        "  }\n",
        "\n",
        "  def best_protein_by_symbol(symbol: String) = {\n",
        "    val df = transcripts_to_isoform(this.dataset.get_genes_by_symbol(symbol))\n",
        "    val proteins = df.join(transcript2uniprot, Seq(\"transcript\"), \"left\").orderBy($\"lifespan\".desc)\n",
        "    //print(df.count, proteins.count)\n",
        "    proteins.cache()\n",
        "  }\n",
        "  \n",
        "}\n",
        "\n"
      ],
      "outputs" : [
      ]
    },
    {
      "cell_type" : "code",
      "execution_count" : 73,
      "metadata" : {
        "cell.metadata.exec_info" : {
          "startTs" : 1605751250707,
          "endTs" : 1605751252806
        },
        "language" : "scala"
      },
      "language" : "scala",
      "source" : [
        "val stage_two_exp = TranscriptExpressionDataset(stage_two, extended_expressions, uniprot_mapping)\n",
        "stage_two_exp"
      ],
      "outputs" : [
        {
          "execution_count" : 73,
          "data" : {
            "text/plain" : [
              "TranscriptExpressionDataset(ExpressionDataset([run: string, bioproject: string ... 37 more fields],[Homo_sapiens: string, Ailuropoda_melanoleuca: string ... 36 more fields],[Homo_sapiens: string, species: string ... 1 more field],[species: string, common"
            ]
          },
          "metadata" : {
            "name" : "Out",
            "type" : "TranscriptExpressionDataset"
          },
          "output_type" : "execute_result"
        }
      ]
    },
    {
      "cell_type" : "code",
      "execution_count" : 86,
      "metadata" : {
        "cell.metadata.exec_info" : {
          "startTs" : 1605751318588,
          "endTs" : 1605751318946
        },
        "language" : "scala"
      },
      "language" : "scala",
      "source" : [
        "val ranked = spark.readTSV(ranked_path, true)\n",
        "val top = ranked.select(\"symbol\").as[String].collect.toList"
      ],
      "outputs" : [
      ]
    },
    {
      "cell_type" : "code",
      "execution_count" : 87,
      "metadata" : {
        "cell.metadata.exec_info" : {
          "startTs" : 1605751330719,
          "endTs" : 1605751381619
        },
        "language" : "scala"
      },
      "language" : "scala",
      "source" : [
        "File(intersections_path + \"proteins\").createDirectoryIfNotExists()\n",
        "for((symbol, i) <- top.zipWithIndex)\n",
        "{\n",
        "    val folder_path = intersections_path + \"proteins/\"+i.toString+\"_\" + symbol\n",
        "    File(folder_path).createDirectoryIfNotExists()\n",
        "    val name = folder_path+\"/\"+symbol+\".tsv\"\n",
        "    stage_two_exp.best_protein_by_symbol(symbol).writeTSV(name, header = true)\n",
        "    println(s\"${i} ${symbol} saved to ${name}\")\n",
        "}\n",
        "//val noxa = stage_two_exp.best_protein_by_symbol(\"NOXA1\")\n",
        "//print(noxa.count)\n",
        "//noxa.show(10)"
      ],
      "outputs" : [
        {
          "name" : "stdout",
          "text" : [
            "parts of /data/sources/yspecies/data/output/intersections/proteins/0_NOXA1/NOXA1.tsv merged!\n",
            "0 NOXA1 saved to /data/sources/yspecies/data/output/intersections/proteins/0_NOXA1/NOXA1.tsv\n",
            "parts of /data/sources/yspecies/data/output/intersections/proteins/1_CEL/CEL.tsv merged!\n",
            "1 CEL saved to /data/sources/yspecies/data/output/intersections/proteins/1_CEL/CEL.tsv\n",
            "parts of /data/sources/yspecies/data/output/intersections/proteins/2_CALCOCO2/CALCOCO2.tsv merged!\n",
            "2 CALCOCO2 saved to /data/sources/yspecies/data/output/intersections/proteins/2_CALCOCO2/CALCOCO2.tsv\n",
            "parts of /data/sources/yspecies/data/output/intersections/proteins/3_C6orf89/C6orf89.tsv merged!\n",
            "3 C6orf89 saved to /data/sources/yspecies/data/output/intersections/proteins/3_C6orf89/C6orf89.tsv\n",
            "parts of /data/sources/yspecies/data/output/intersections/proteins/4_PPP1CA/PPP1CA.tsv merged!\n",
            "4 PPP1CA saved to /data/sources/yspecies/data/output/intersections/proteins/4_PPP1CA/PPP1CA.tsv\n",
            "parts of /data/sources/yspecies/data/output/intersections/proteins/5_SPATA20/SPATA20.tsv merged!\n",
            "5 SPATA20 saved to /data/sources/yspecies/data/output/intersections/proteins/5_SPATA20/SPATA20.tsv\n",
            "parts of /data/sources/yspecies/data/output/intersections/proteins/6_DPP9/DPP9.tsv merged!\n",
            "6 DPP9 saved to /data/sources/yspecies/data/output/intersections/proteins/6_DPP9/DPP9.tsv\n",
            "parts of /data/sources/yspecies/data/output/intersections/proteins/7_DCTD/DCTD.tsv merged!\n",
            "7 DCTD saved to /data/sources/yspecies/data/output/intersections/proteins/7_DCTD/DCTD.tsv\n",
            "parts of /data/sources/yspecies/data/output/intersections/proteins/8_LRR1/LRR1.tsv merged!\n",
            "8 LRR1 saved to /data/sources/yspecies/data/output/intersections/proteins/8_LRR1/LRR1.tsv\n",
            "parts of /data/sources/yspecies/data/output/intersections/proteins/9_DNAJC15/DNAJC15.tsv merged!\n",
            "9 DNAJC15 saved to /data/sources/yspecies/data/output/intersections/proteins/9_DNAJC15/DNAJC15.tsv\n",
            "parts of /data/sources/yspecies/data/output/intersections/proteins/10_C1orf56/C1orf56.tsv merged!\n",
            "10 C1orf56 saved to /data/sources/yspecies/data/output/intersections/proteins/10_C1orf56/C1orf56.tsv\n",
            "parts of /data/sources/yspecies/data/output/intersections/proteins/11_TIMP1/TIMP1.tsv merged!\n",
            "11 TIMP1 saved to /data/sources/yspecies/data/output/intersections/proteins/11_TIMP1/TIMP1.tsv\n",
            "parts of /data/sources/yspecies/data/output/intersections/proteins/12_DTYMK/DTYMK.tsv merged!\n",
            "12 DTYMK saved to /data/sources/yspecies/data/output/intersections/proteins/12_DTYMK/DTYMK.tsv\n",
            "parts of /data/sources/yspecies/data/output/intersections/proteins/13_ATAT1/ATAT1.tsv merged!\n",
            "13 ATAT1 saved to /data/sources/yspecies/data/output/intersections/proteins/13_ATAT1/ATAT1.tsv\n",
            "parts of /data/sources/yspecies/data/output/intersections/proteins/14_HRH4/HRH4.tsv merged!\n",
            "14 HRH4 saved to /data/sources/yspecies/data/output/intersections/proteins/14_HRH4/HRH4.tsv\n",
            "parts of /data/sources/yspecies/data/output/intersections/proteins/15_KCNMB3/KCNMB3.tsv merged!\n",
            "15 KCNMB3 saved to /data/sources/yspecies/data/output/intersections/proteins/15_KCNMB3/KCNMB3.tsv\n",
            "parts of /data/sources/yspecies/data/output/intersections/proteins/16_ZWINT/ZWINT.tsv merged!\n",
            "16 ZWINT saved to /data/sources/yspecies/data/output/intersections/proteins/16_ZWINT/ZWINT.tsv\n",
            "parts of /data/sources/yspecies/data/output/intersections/proteins/17_SPAG16/SPAG16.tsv merged!\n",
            "17 SPAG16 saved to /data/sources/yspecies/data/output/intersections/proteins/17_SPAG16/SPAG16.tsv\n",
            "parts of /data/sources/yspecies/data/output/intersections/proteins/18_TERT/TERT.tsv merged!\n",
            "18 TERT saved to /data/sources/yspecies/data/output/intersections/proteins/18_TERT/TERT.tsv\n",
            "parts of /data/sources/yspecies/data/output/intersections/proteins/19_ETV2/ETV2.tsv merged!\n",
            "19 ETV2 saved to /data/sources/yspecies/data/output/intersections/proteins/19_ETV2/ETV2.tsv\n",
            "parts of /data/sources/yspecies/data/output/intersections/proteins/20_MEMO1/MEMO1.tsv merged!\n",
            "20 MEMO1 saved to /data/sources/yspecies/data/output/intersections/proteins/20_MEMO1/MEMO1.tsv\n",
            "parts of /data/sources/yspecies/data/output/intersections/proteins/21_TCFL5/TCFL5.tsv merged!\n",
            "21 TCFL5 saved to /data/sources/yspecies/data/output/intersections/proteins/21_TCFL5/TCFL5.tsv\n",
            "parts of /data/sources/yspecies/data/output/intersections/proteins/22_NEIL1/NEIL1.tsv merged!\n",
            "22 NEIL1 saved to /data/sources/yspecies/data/output/intersections/proteins/22_NEIL1/NEIL1.tsv\n",
            "parts of /data/sources/yspecies/data/output/intersections/proteins/23_NOXRED1/NOXRED1.tsv merged!\n",
            "23 NOXRED1 saved to /data/sources/yspecies/data/output/intersections/proteins/23_NOXRED1/NOXRED1.tsv\n",
            "parts of /data/sources/yspecies/data/output/intersections/proteins/24_FIGNL1/FIGNL1.tsv merged!\n",
            "24 FIGNL1 saved to /data/sources/yspecies/data/output/intersections/proteins/24_FIGNL1/FIGNL1.tsv\n",
            "parts of /data/sources/yspecies/data/output/intersections/proteins/25_VARS2/VARS2.tsv merged!\n",
            "25 VARS2 saved to /data/sources/yspecies/data/output/intersections/proteins/25_VARS2/VARS2.tsv\n",
            "parts of /data/sources/yspecies/data/output/intersections/proteins/26_MAN2B2/MAN2B2.tsv merged!\n",
            "26 MAN2B2 saved to /data/sources/yspecies/data/output/intersections/proteins/26_MAN2B2/MAN2B2.tsv\n",
            "parts of /data/sources/yspecies/data/output/intersections/proteins/27_NEIL2/NEIL2.tsv merged!\n",
            "27 NEIL2 saved to /data/sources/yspecies/data/output/intersections/proteins/27_NEIL2/NEIL2.tsv\n",
            "parts of /data/sources/yspecies/data/output/intersections/proteins/28_CAPN3/CAPN3.tsv merged!\n",
            "28 CAPN3 saved to /data/sources/yspecies/data/output/intersections/proteins/28_CAPN3/CAPN3.tsv\n",
            "parts of /data/sources/yspecies/data/output/intersections/proteins/29_TRAPPC2L/TRAPPC2L.tsv merged!\n",
            "29 TRAPPC2L saved to /data/sources/yspecies/data/output/intersections/proteins/29_TRAPPC2L/TRAPPC2L.tsv\n",
            "parts of /data/sources/yspecies/data/output/intersections/proteins/30_CTBS/CTBS.tsv merged!\n",
            "30 CTBS saved to /data/sources/yspecies/data/output/intersections/proteins/30_CTBS/CTBS.tsv\n",
            "parts of /data/sources/yspecies/data/output/intersections/proteins/31_CATSPER3/CATSPER3.tsv merged!\n",
            "31 CATSPER3 saved to /data/sources/yspecies/data/output/intersections/proteins/31_CATSPER3/CATSPER3.tsv\n",
            "parts of /data/sources/yspecies/data/output/intersections/proteins/32_CHCHD3/CHCHD3.tsv merged!\n",
            "32 CHCHD3 saved to /data/sources/yspecies/data/output/intersections/proteins/32_CHCHD3/CHCHD3.tsv\n",
            "parts of /data/sources/yspecies/data/output/intersections/proteins/33_GTF3A/GTF3A.tsv merged!\n",
            "33 GTF3A saved to /data/sources/yspecies/data/output/intersections/proteins/33_GTF3A/GTF3A.tsv\n",
            "parts of /data/sources/yspecies/data/output/intersections/proteins/34_XRCC6/XRCC6.tsv merged!\n",
            "34 XRCC6 saved to /data/sources/yspecies/data/output/intersections/proteins/34_XRCC6/XRCC6.tsv\n",
            "parts of /data/sources/yspecies/data/output/intersections/proteins/35_SBK1/SBK1.tsv merged!\n",
            "35 SBK1 saved to /data/sources/yspecies/data/output/intersections/proteins/35_SBK1/SBK1.tsv\n",
            "parts of /data/sources/yspecies/data/output/intersections/proteins/36_ARMC12/ARMC12.tsv merged!\n",
            "36 ARMC12 saved to /data/sources/yspecies/data/output/intersections/proteins/36_ARMC12/ARMC12.tsv\n",
            "parts of /data/sources/yspecies/data/output/intersections/proteins/37_VPS28/VPS28.tsv merged!\n",
            "37 VPS28 saved to /data/sources/yspecies/data/output/intersections/proteins/37_VPS28/VPS28.tsv\n",
            "parts of /data/sources/yspecies/data/output/intersections/proteins/38_STRC/STRC.tsv merged!\n",
            "38 STRC saved to /data/sources/yspecies/data/output/intersections/proteins/38_STRC/STRC.tsv\n",
            "parts of /data/sources/yspecies/data/output/intersections/proteins/39_PLGRKT/PLGRKT.tsv merged!\n",
            "39 PLGRKT saved to /data/sources/yspecies/data/output/intersections/proteins/39_PLGRKT/PLGRKT.tsv\n",
            "parts of /data/sources/yspecies/data/output/intersections/proteins/40_FECH/FECH.tsv merged!\n",
            "40 FECH saved to /data/sources/yspecies/data/output/intersections/proteins/40_FECH/FECH.tsv\n",
            "parts of /data/sources/yspecies/data/output/intersections/proteins/41_A2M/A2M.tsv merged!\n",
            "41 A2M saved to /data/sources/yspecies/data/output/intersections/proteins/41_A2M/A2M.tsv\n",
            "parts of /data/sources/yspecies/data/output/intersections/proteins/42_DYRK4/DYRK4.tsv merged!\n",
            "42 DYRK4 saved to /data/sources/yspecies/data/output/intersections/proteins/42_DYRK4/DYRK4.tsv\n",
            "parts of /data/sources/yspecies/data/output/intersections/proteins/43_CAGE1/CAGE1.tsv merged!\n",
            "43 CAGE1 saved to /data/sources/yspecies/data/output/intersections/proteins/43_CAGE1/CAGE1.tsv\n",
            "parts of /data/sources/yspecies/data/output/intersections/proteins/44_RPS8/RPS8.tsv merged!\n",
            "44 RPS8 saved to /data/sources/yspecies/data/output/intersections/proteins/44_RPS8/RPS8.tsv\n",
            "parts of /data/sources/yspecies/data/output/intersections/proteins/45_NFKBIL1/NFKBIL1.tsv merged!\n",
            "45 NFKBIL1 saved to /data/sources/yspecies/data/output/intersections/proteins/45_NFKBIL1/NFKBIL1.tsv\n",
            "parts of /data/sources/yspecies/data/output/intersections/proteins/46_STAG3/STAG3.tsv merged!\n",
            "46 STAG3 saved to /data/sources/yspecies/data/output/intersections/proteins/46_STAG3/STAG3.tsv\n",
            "parts of /data/sources/yspecies/data/output/intersections/proteins/47_RTCB/RTCB.tsv merged!\n",
            "47 RTCB saved to /data/sources/yspecies/data/output/intersections/proteins/47_RTCB/RTCB.tsv\n",
            "parts of /data/sources/yspecies/data/output/intersections/proteins/48_COX7C/COX7C.tsv merged!\n",
            "48 COX7C saved to /data/sources/yspecies/data/output/intersections/proteins/48_COX7C/COX7C.tsv\n",
            "parts of /data/sources/yspecies/data/output/intersections/proteins/49_LYPLA1/LYPLA1.tsv merged!\n",
            "49 LYPLA1 saved to /data/sources/yspecies/data/output/intersections/proteins/49_LYPLA1/LYPLA1.tsv\n",
            "parts of /data/sources/yspecies/data/output/intersections/proteins/50_RNH1/RNH1.tsv merged!\n",
            "50 RNH1 saved to /data/sources/yspecies/data/output/intersections/proteins/50_RNH1/RNH1.tsv\n",
            "parts of /data/sources/yspecies/data/output/intersections/proteins/51_CA3/CA3.tsv merged!\n",
            "51 CA3 saved to /data/sources/yspecies/data/output/intersections/proteins/51_CA3/CA3.tsv\n",
            "parts of /data/sources/yspecies/data/output/intersections/proteins/52_RXRB/RXRB.tsv merged!\n",
            "52 RXRB saved to /data/sources/yspecies/data/output/intersections/proteins/52_RXRB/RXRB.tsv\n",
            "parts of /data/sources/yspecies/data/output/intersections/proteins/53_NEDD4/NEDD4.tsv merged!\n",
            "53 NEDD4 saved to /data/sources/yspecies/data/output/intersections/proteins/53_NEDD4/NEDD4.tsv\n",
            "parts of /data/sources/yspecies/data/output/intersections/proteins/54_CALR3/CALR3.tsv merged!\n",
            "54 CALR3 saved to /data/sources/yspecies/data/output/intersections/proteins/54_CALR3/CALR3.tsv\n",
            "parts of /data/sources/yspecies/data/output/intersections/proteins/55_SEC61G/SEC61G.tsv merged!\n",
            "55 SEC61G saved to /data/sources/yspecies/data/output/intersections/proteins/55_SEC61G/SEC61G.tsv\n",
            "parts of /data/sources/yspecies/data/output/intersections/proteins/56_MRTO4/MRTO4.tsv merged!\n",
            "56 MRTO4 saved to /data/sources/yspecies/data/output/intersections/proteins/56_MRTO4/MRTO4.tsv\n",
            "parts of /data/sources/yspecies/data/output/intersections/proteins/57_MMP21/MMP21.tsv merged!\n",
            "57 MMP21 saved to /data/sources/yspecies/data/output/intersections/proteins/57_MMP21/MMP21.tsv\n",
            "parts of /data/sources/yspecies/data/output/intersections/proteins/58_GPAT3/GPAT3.tsv merged!\n",
            "58 GPAT3 saved to /data/sources/yspecies/data/output/intersections/proteins/58_GPAT3/GPAT3.tsv\n",
            "parts of /data/sources/yspecies/data/output/intersections/proteins/59_JAGN1/JAGN1.tsv merged!\n",
            "59 JAGN1 saved to /data/sources/yspecies/data/output/intersections/proteins/59_JAGN1/JAGN1.tsv\n",
            "parts of /data/sources/yspecies/data/output/intersections/proteins/60_RAD51C/RAD51C.tsv merged!\n",
            "60 RAD51C saved to /data/sources/yspecies/data/output/intersections/proteins/60_RAD51C/RAD51C.tsv\n",
            "parts of /data/sources/yspecies/data/output/intersections/proteins/61_CR1/CR1.tsv merged!\n",
            "61 CR1 saved to /data/sources/yspecies/data/output/intersections/proteins/61_CR1/CR1.tsv\n",
            "parts of /data/sources/yspecies/data/output/intersections/proteins/62_NUCKS1/NUCKS1.tsv merged!\n",
            "62 NUCKS1 saved to /data/sources/yspecies/data/output/intersections/proteins/62_NUCKS1/NUCKS1.tsv\n",
            "parts of /data/sources/yspecies/data/output/intersections/proteins/63_SFR1/SFR1.tsv merged!\n",
            "63 SFR1 saved to /data/sources/yspecies/data/output/intersections/proteins/63_SFR1/SFR1.tsv\n",
            "parts of /data/sources/yspecies/data/output/intersections/proteins/64_DPH3/DPH3.tsv merged!\n",
            "64 DPH3 saved to /data/sources/yspecies/data/output/intersections/proteins/64_DPH3/DPH3.tsv\n",
            "parts of /data/sources/yspecies/data/output/intersections/proteins/65_AVEN/AVEN.tsv merged!\n",
            "65 AVEN saved to /data/sources/yspecies/data/output/intersections/proteins/65_AVEN/AVEN.tsv\n",
            "parts of /data/sources/yspecies/data/output/intersections/proteins/66_TSPAN17/TSPAN17.tsv merged!\n",
            "66 TSPAN17 saved to /data/sources/yspecies/data/output/intersections/proteins/66_TSPAN17/TSPAN17.tsv\n",
            "parts of /data/sources/yspecies/data/output/intersections/proteins/67_MRPL43/MRPL43.tsv merged!\n",
            "67 MRPL43 saved to /data/sources/yspecies/data/output/intersections/proteins/67_MRPL43/MRPL43.tsv\n",
            "parts of /data/sources/yspecies/data/output/intersections/proteins/68_BTF3L4/BTF3L4.tsv merged!\n",
            "68 BTF3L4 saved to /data/sources/yspecies/data/output/intersections/proteins/68_BTF3L4/BTF3L4.tsv\n",
            "parts of /data/sources/yspecies/data/output/intersections/proteins/69_TRIM69/TRIM69.tsv merged!\n",
            "69 TRIM69 saved to /data/sources/yspecies/data/output/intersections/proteins/69_TRIM69/TRIM69.tsv\n",
            "parts of /data/sources/yspecies/data/output/intersections/proteins/70_MSRA/MSRA.tsv merged!\n",
            "70 MSRA saved to /data/sources/yspecies/data/output/intersections/proteins/70_MSRA/MSRA.tsv\n",
            "parts of /data/sources/yspecies/data/output/intersections/proteins/71_STYXL1/STYXL1.tsv merged!\n",
            "71 STYXL1 saved to /data/sources/yspecies/data/output/intersections/proteins/71_STYXL1/STYXL1.tsv\n",
            "parts of /data/sources/yspecies/data/output/intersections/proteins/72_TOB2/TOB2.tsv merged!\n",
            "72 TOB2 saved to /data/sources/yspecies/data/output/intersections/proteins/72_TOB2/TOB2.tsv\n",
            "parts of /data/sources/yspecies/data/output/intersections/proteins/73_CLIC1/CLIC1.tsv merged!\n",
            "73 CLIC1 saved to /data/sources/yspecies/data/output/intersections/proteins/73_CLIC1/CLIC1.tsv\n",
            "parts of /data/sources/yspecies/data/output/intersections/proteins/74_TSPAN10/TSPAN10.tsv merged!\n",
            "74 TSPAN10 saved to /data/sources/yspecies/data/output/intersections/proteins/74_TSPAN10/TSPAN10.tsv\n",
            "parts of /data/sources/yspecies/data/output/intersections/proteins/75_EPHX3/EPHX3.tsv merged!\n",
            "75 EPHX3 saved to /data/sources/yspecies/data/output/intersections/proteins/75_EPHX3/EPHX3.tsv\n",
            "parts of /data/sources/yspecies/data/output/intersections/proteins/76_TMEM223/TMEM223.tsv merged!\n",
            "76 TMEM223 saved to /data/sources/yspecies/data/output/intersections/proteins/76_TMEM223/TMEM223.tsv\n",
            "parts of /data/sources/yspecies/data/output/intersections/proteins/77_SS18L2/SS18L2.tsv merged!\n",
            "77 SS18L2 saved to /data/sources/yspecies/data/output/intersections/proteins/77_SS18L2/SS18L2.tsv\n",
            "parts of /data/sources/yspecies/data/output/intersections/proteins/78_NDUFAF2/NDUFAF2.tsv merged!\n",
            "78 NDUFAF2 saved to /data/sources/yspecies/data/output/intersections/proteins/78_NDUFAF2/NDUFAF2.tsv\n",
            "parts of /data/sources/yspecies/data/output/intersections/proteins/79_RPL35/RPL35.tsv merged!\n",
            "79 RPL35 saved to /data/sources/yspecies/data/output/intersections/proteins/79_RPL35/RPL35.tsv\n",
            "parts of /data/sources/yspecies/data/output/intersections/proteins/80_TMEM182/TMEM182.tsv merged!\n",
            "80 TMEM182 saved to /data/sources/yspecies/data/output/intersections/proteins/80_TMEM182/TMEM182.tsv\n",
            "parts of /data/sources/yspecies/data/output/intersections/proteins/81_RPL13A/RPL13A.tsv merged!\n",
            "81 RPL13A saved to /data/sources/yspecies/data/output/intersections/proteins/81_RPL13A/RPL13A.tsv\n",
            "parts of /data/sources/yspecies/data/output/intersections/proteins/82_TMEM167A/TMEM167A.tsv merged!\n",
            "82 TMEM167A saved to /data/sources/yspecies/data/output/intersections/proteins/82_TMEM167A/TMEM167A.tsv\n",
            "parts of /data/sources/yspecies/data/output/intersections/proteins/83_UQCRB/UQCRB.tsv merged!\n",
            "83 UQCRB saved to /data/sources/yspecies/data/output/intersections/proteins/83_UQCRB/UQCRB.tsv\n",
            "parts of /data/sources/yspecies/data/output/intersections/proteins/84_TMEM258/TMEM258.tsv merged!\n",
            "84 TMEM258 saved to /data/sources/yspecies/data/output/intersections/proteins/84_TMEM258/TMEM258.tsv\n",
            "parts of /data/sources/yspecies/data/output/intersections/proteins/85_AKR7L/AKR7L.tsv merged!\n",
            "85 AKR7L saved to /data/sources/yspecies/data/output/intersections/proteins/85_AKR7L/AKR7L.tsv\n",
            "parts of /data/sources/yspecies/data/output/intersections/proteins/86_PRDX1/PRDX1.tsv merged!\n",
            "86 PRDX1 saved to /data/sources/yspecies/data/output/intersections/proteins/86_PRDX1/PRDX1.tsv\n",
            "parts of /data/sources/yspecies/data/output/intersections/proteins/87_PIGC/PIGC.tsv merged!\n",
            "87 PIGC saved to /data/sources/yspecies/data/output/intersections/proteins/87_PIGC/PIGC.tsv\n",
            "parts of /data/sources/yspecies/data/output/intersections/proteins/88_CHCHD2/CHCHD2.tsv merged!\n",
            "88 CHCHD2 saved to /data/sources/yspecies/data/output/intersections/proteins/88_CHCHD2/CHCHD2.tsv\n",
            "parts of /data/sources/yspecies/data/output/intersections/proteins/89_TMEM70/TMEM70.tsv merged!\n",
            "89 TMEM70 saved to /data/sources/yspecies/data/output/intersections/proteins/89_TMEM70/TMEM70.tsv\n",
            "parts of /data/sources/yspecies/data/output/intersections/proteins/90_ATP5F1E/ATP5F1E.tsv merged!\n",
            "90 ATP5F1E saved to /data/sources/yspecies/data/output/intersections/proteins/90_ATP5F1E/ATP5F1E.tsv\n",
            "parts of /data/sources/yspecies/data/output/intersections/proteins/91_C12orf73/C12orf73.tsv merged!\n",
            "91 C12orf73 saved to /data/sources/yspecies/data/output/intersections/proteins/91_C12orf73/C12orf73.tsv\n",
            "parts of /data/sources/yspecies/data/output/intersections/proteins/92_PLXDC2/PLXDC2.tsv merged!\n",
            "92 PLXDC2 saved to /data/sources/yspecies/data/output/intersections/proteins/92_PLXDC2/PLXDC2.tsv\n",
            "parts of /data/sources/yspecies/data/output/intersections/proteins/93_MPV17/MPV17.tsv merged!\n",
            "93 MPV17 saved to /data/sources/yspecies/data/output/intersections/proteins/93_MPV17/MPV17.tsv\n",
            "parts of /data/sources/yspecies/data/output/intersections/proteins/94_EIF4EBP1/EIF4EBP1.tsv merged!\n",
            "94 EIF4EBP1 saved to /data/sources/yspecies/data/output/intersections/proteins/94_EIF4EBP1/EIF4EBP1.tsv\n",
            "parts of /data/sources/yspecies/data/output/intersections/proteins/95_ENTR1/ENTR1.tsv merged!\n",
            "95 ENTR1 saved to /data/sources/yspecies/data/output/intersections/proteins/95_ENTR1/ENTR1.tsv\n",
            "parts of /data/sources/yspecies/data/output/intersections/proteins/96_PHOSPHO1/PHOSPHO1.tsv merged!\n",
            "96 PHOSPHO1 saved to /data/sources/yspecies/data/output/intersections/proteins/96_PHOSPHO1/PHOSPHO1.tsv\n",
            "parts of /data/sources/yspecies/data/output/intersections/proteins/97_JMJD8/JMJD8.tsv merged!\n",
            "97 JMJD8 saved to /data/sources/yspecies/data/output/intersections/proteins/97_JMJD8/JMJD8.tsv\n",
            "parts of /data/sources/yspecies/data/output/intersections/proteins/98_PCBP2/PCBP2.tsv merged!\n",
            "98 PCBP2 saved to /data/sources/yspecies/data/output/intersections/proteins/98_PCBP2/PCBP2.tsv\n",
            "parts of /data/sources/yspecies/data/output/intersections/proteins/99_RCL1/RCL1.tsv merged!\n",
            "99 RCL1 saved to /data/sources/yspecies/data/output/intersections/proteins/99_RCL1/RCL1.tsv\n",
            "parts of /data/sources/yspecies/data/output/intersections/proteins/100_STKLD1/STKLD1.tsv merged!\n",
            "100 STKLD1 saved to /data/sources/yspecies/data/output/intersections/proteins/100_STKLD1/STKLD1.tsv\n",
            "parts of /data/sources/yspecies/data/output/intersections/proteins/101_TAF12/TAF12.tsv merged!\n",
            "101 TAF12 saved to /data/sources/yspecies/data/output/intersections/proteins/101_TAF12/TAF12.tsv\n",
            "parts of /data/sources/yspecies/data/output/intersections/proteins/102_SPCS2/SPCS2.tsv merged!\n",
            "102 SPCS2 saved to /data/sources/yspecies/data/output/intersections/proteins/102_SPCS2/SPCS2.tsv\n",
            "parts of /data/sources/yspecies/data/output/intersections/proteins/103_SDR9C7/SDR9C7.tsv merged!\n",
            "103 SDR9C7 saved to /data/sources/yspecies/data/output/intersections/proteins/103_SDR9C7/SDR9C7.tsv\n",
            "parts of /data/sources/yspecies/data/output/intersections/proteins/104_EIF3K/EIF3K.tsv merged!\n",
            "104 EIF3K saved to /data/sources/yspecies/data/output/intersections/proteins/104_EIF3K/EIF3K.tsv\n",
            "parts of /data/sources/yspecies/data/output/intersections/proteins/105_NEU2/NEU2.tsv merged!\n",
            "105 NEU2 saved to /data/sources/yspecies/data/output/intersections/proteins/105_NEU2/NEU2.tsv\n",
            "parts of /data/sources/yspecies/data/output/intersections/proteins/106_PRSS53/PRSS53.tsv merged!\n",
            "106 PRSS53 saved to /data/sources/yspecies/data/output/intersections/proteins/106_PRSS53/PRSS53.tsv\n",
            "parts of /data/sources/yspecies/data/output/intersections/proteins/107_ABHD1/ABHD1.tsv merged!\n",
            "107 ABHD1 saved to /data/sources/yspecies/data/output/intersections/proteins/107_ABHD1/ABHD1.tsv\n",
            "parts of /data/sources/yspecies/data/output/intersections/proteins/108_RNASEH2A/RNASEH2A.tsv merged!\n",
            "108 RNASEH2A saved to /data/sources/yspecies/data/output/intersections/proteins/108_RNASEH2A/RNASEH2A.tsv\n",
            "parts of /data/sources/yspecies/data/output/intersections/proteins/109_YES1/YES1.tsv merged!\n",
            "109 YES1 saved to /data/sources/yspecies/data/output/intersections/proteins/109_YES1/YES1.tsv\n",
            "parts of /data/sources/yspecies/data/output/intersections/proteins/110_PKN3/PKN3.tsv merged!\n",
            "110 PKN3 saved to /data/sources/yspecies/data/output/intersections/proteins/110_PKN3/PKN3.tsv\n",
            "parts of /data/sources/yspecies/data/output/intersections/proteins/111_GPT/GPT.tsv merged!\n",
            "111 GPT saved to /data/sources/yspecies/data/output/intersections/proteins/111_GPT/GPT.tsv\n",
            "parts of /data/sources/yspecies/data/output/intersections/proteins/112_POP5/POP5.tsv merged!\n",
            "112 POP5 saved to /data/sources/yspecies/data/output/intersections/proteins/112_POP5/POP5.tsv\n",
            "parts of /data/sources/yspecies/data/output/intersections/proteins/113_NDUFA4/NDUFA4.tsv merged!\n",
            "113 NDUFA4 saved to /data/sources/yspecies/data/output/intersections/proteins/113_NDUFA4/NDUFA4.tsv\n",
            "parts of /data/sources/yspecies/data/output/intersections/proteins/114_USB1/USB1.tsv merged!\n",
            "114 USB1 saved to /data/sources/yspecies/data/output/intersections/proteins/114_USB1/USB1.tsv\n",
            "parts of /data/sources/yspecies/data/output/intersections/proteins/115_ALAS2/ALAS2.tsv merged!\n",
            "115 ALAS2 saved to /data/sources/yspecies/data/output/intersections/proteins/115_ALAS2/ALAS2.tsv\n",
            "parts of /data/sources/yspecies/data/output/intersections/proteins/116_PODN/PODN.tsv merged!\n",
            "116 PODN saved to /data/sources/yspecies/data/output/intersections/proteins/116_PODN/PODN.tsv\n",
            "parts of /data/sources/yspecies/data/output/intersections/proteins/117_CLHC1/CLHC1.tsv merged!\n",
            "117 CLHC1 saved to /data/sources/yspecies/data/output/intersections/proteins/117_CLHC1/CLHC1.tsv\n",
            "parts of /data/sources/yspecies/data/output/intersections/proteins/118_OVOL3/OVOL3.tsv merged!\n",
            "118 OVOL3 saved to /data/sources/yspecies/data/output/intersections/proteins/118_OVOL3/OVOL3.tsv\n",
            "parts of /data/sources/yspecies/data/output/intersections/proteins/119_GNAS/GNAS.tsv merged!\n",
            "119 GNAS saved to /data/sources/yspecies/data/output/intersections/proteins/119_GNAS/GNAS.tsv\n",
            "parts of /data/sources/yspecies/data/output/intersections/proteins/120_TAF15/TAF15.tsv merged!\n",
            "120 TAF15 saved to /data/sources/yspecies/data/output/intersections/proteins/120_TAF15/TAF15.tsv\n",
            "parts of /data/sources/yspecies/data/output/intersections/proteins/121_PRADC1/PRADC1.tsv merged!\n",
            "121 PRADC1 saved to /data/sources/yspecies/data/output/intersections/proteins/121_PRADC1/PRADC1.tsv\n",
            "parts of /data/sources/yspecies/data/output/intersections/proteins/122_APRT/APRT.tsv merged!\n",
            "122 APRT saved to /data/sources/yspecies/data/output/intersections/proteins/122_APRT/APRT.tsv\n",
            "parts of /data/sources/yspecies/data/output/intersections/proteins/123_IPO4/IPO4.tsv merged!\n",
            "123 IPO4 saved to /data/sources/yspecies/data/output/intersections/proteins/123_IPO4/IPO4.tsv\n",
            "parts of /data/sources/yspecies/data/output/intersections/proteins/124_LPIN3/LPIN3.tsv merged!\n",
            "124 LPIN3 saved to /data/sources/yspecies/data/output/intersections/proteins/124_LPIN3/LPIN3.tsv\n",
            "parts of /data/sources/yspecies/data/output/intersections/proteins/125_STARD10/STARD10.tsv merged!\n",
            "125 STARD10 saved to /data/sources/yspecies/data/output/intersections/proteins/125_STARD10/STARD10.tsv\n",
            "parts of /data/sources/yspecies/data/output/intersections/proteins/126_CCDC14/CCDC14.tsv merged!\n",
            "126 CCDC14 saved to /data/sources/yspecies/data/output/intersections/proteins/126_CCDC14/CCDC14.tsv\n",
            "parts of /data/sources/yspecies/data/output/intersections/proteins/127_FXN/FXN.tsv merged!\n",
            "127 FXN saved to /data/sources/yspecies/data/output/intersections/proteins/127_FXN/FXN.tsv\n",
            "parts of /data/sources/yspecies/data/output/intersections/proteins/128_NDUFA6/NDUFA6.tsv merged!\n",
            "128 NDUFA6 saved to /data/sources/yspecies/data/output/intersections/proteins/128_NDUFA6/NDUFA6.tsv\n",
            "parts of /data/sources/yspecies/data/output/intersections/proteins/129_OPN3/OPN3.tsv merged!\n",
            "129 OPN3 saved to /data/sources/yspecies/data/output/intersections/proteins/129_OPN3/OPN3.tsv\n",
            "parts of /data/sources/yspecies/data/output/intersections/proteins/130_SEC11C/SEC11C.tsv merged!\n",
            "130 SEC11C saved to /data/sources/yspecies/data/output/intersections/proteins/130_SEC11C/SEC11C.tsv\n",
            "parts of /data/sources/yspecies/data/output/intersections/proteins/131_TMEM115/TMEM115.tsv merged!\n",
            "131 TMEM115 saved to /data/sources/yspecies/data/output/intersections/proteins/131_TMEM115/TMEM115.tsv\n",
            "parts of /data/sources/yspecies/data/output/intersections/proteins/132_DMAC1/DMAC1.tsv merged!\n",
            "132 DMAC1 saved to /data/sources/yspecies/data/output/intersections/proteins/132_DMAC1/DMAC1.tsv\n",
            "parts of /data/sources/yspecies/data/output/intersections/proteins/133_PSMD8/PSMD8.tsv merged!\n",
            "133 PSMD8 saved to /data/sources/yspecies/data/output/intersections/proteins/133_PSMD8/PSMD8.tsv\n",
            "parts of /data/sources/yspecies/data/output/intersections/proteins/134_RBM46/RBM46.tsv merged!\n",
            "134 RBM46 saved to /data/sources/yspecies/data/output/intersections/proteins/134_RBM46/RBM46.tsv\n",
            "parts of /data/sources/yspecies/data/output/intersections/proteins/135_CHCHD4/CHCHD4.tsv merged!\n",
            "135 CHCHD4 saved to /data/sources/yspecies/data/output/intersections/proteins/135_CHCHD4/CHCHD4.tsv\n",
            "parts of /data/sources/yspecies/data/output/intersections/proteins/136_MPC2/MPC2.tsv merged!\n",
            "136 MPC2 saved to /data/sources/yspecies/data/output/intersections/proteins/136_MPC2/MPC2.tsv\n",
            "parts of /data/sources/yspecies/data/output/intersections/proteins/137_CHAC2/CHAC2.tsv merged!\n",
            "137 CHAC2 saved to /data/sources/yspecies/data/output/intersections/proteins/137_CHAC2/CHAC2.tsv\n",
            "parts of /data/sources/yspecies/data/output/intersections/proteins/138_SPX/SPX.tsv merged!\n",
            "138 SPX saved to /data/sources/yspecies/data/output/intersections/proteins/138_SPX/SPX.tsv\n",
            "parts of /data/sources/yspecies/data/output/intersections/proteins/139_GPR160/GPR160.tsv merged!\n",
            "139 GPR160 saved to /data/sources/yspecies/data/output/intersections/proteins/139_GPR160/GPR160.tsv\n",
            "parts of /data/sources/yspecies/data/output/intersections/proteins/140_ZSWIM7/ZSWIM7.tsv merged!\n",
            "140 ZSWIM7 saved to /data/sources/yspecies/data/output/intersections/proteins/140_ZSWIM7/ZSWIM7.tsv\n",
            "parts of /data/sources/yspecies/data/output/intersections/proteins/141_CRIP3/CRIP3.tsv merged!\n",
            "141 CRIP3 saved to /data/sources/yspecies/data/output/intersections/proteins/141_CRIP3/CRIP3.tsv\n",
            "parts of /data/sources/yspecies/data/output/intersections/proteins/142_PAQR7/PAQR7.tsv merged!\n",
            "142 PAQR7 saved to /data/sources/yspecies/data/output/intersections/proteins/142_PAQR7/PAQR7.tsv\n",
            "parts of /data/sources/yspecies/data/output/intersections/proteins/143_AAMDC/AAMDC.tsv merged!\n",
            "143 AAMDC saved to /data/sources/yspecies/data/output/intersections/proteins/143_AAMDC/AAMDC.tsv\n",
            "parts of /data/sources/yspecies/data/output/intersections/proteins/144_SEL1L2/SEL1L2.tsv merged!\n",
            "144 SEL1L2 saved to /data/sources/yspecies/data/output/intersections/proteins/144_SEL1L2/SEL1L2.tsv\n",
            "parts of /data/sources/yspecies/data/output/intersections/proteins/145_NLRP14/NLRP14.tsv merged!\n",
            "145 NLRP14 saved to /data/sources/yspecies/data/output/intersections/proteins/145_NLRP14/NLRP14.tsv\n",
            "parts of /data/sources/yspecies/data/output/intersections/proteins/146_TRPV5/TRPV5.tsv merged!\n",
            "146 TRPV5 saved to /data/sources/yspecies/data/output/intersections/proteins/146_TRPV5/TRPV5.tsv\n",
            "parts of /data/sources/yspecies/data/output/intersections/proteins/147_LYG1/LYG1.tsv merged!\n",
            "147 LYG1 saved to /data/sources/yspecies/data/output/intersections/proteins/147_LYG1/LYG1.tsv\n",
            "parts of /data/sources/yspecies/data/output/intersections/proteins/148_POMP/POMP.tsv merged!\n",
            "148 POMP saved to /data/sources/yspecies/data/output/intersections/proteins/148_POMP/POMP.tsv\n",
            "parts of /data/sources/yspecies/data/output/intersections/proteins/149_PAICS/PAICS.tsv merged!\n",
            "149 PAICS saved to /data/sources/yspecies/data/output/intersections/proteins/149_PAICS/PAICS.tsv\n",
            "parts of /data/sources/yspecies/data/output/intersections/proteins/150_CCDC169/CCDC169.tsv merged!\n",
            "150 CCDC169 saved to /data/sources/yspecies/data/output/intersections/proteins/150_CCDC169/CCDC169.tsv\n",
            "parts of /data/sources/yspecies/data/output/intersections/proteins/151_REC8/REC8.tsv merged!\n",
            "151 REC8 saved to /data/sources/yspecies/data/output/intersections/proteins/151_REC8/REC8.tsv\n"
          ],
          "output_type" : "stream"
        }
      ]
    }
  ]
}