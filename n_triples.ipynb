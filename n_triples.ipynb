{
  "metadata" : {
    "config" : {
      "dependencies" : {
        "scala" : [
          "group.research.aging:spark-extensions_2.12:0.0.8.1"
        ]
      },
      "exclusions" : [
      ],
      "repositories" : [
        {
          "maven" : {
            "base" : "http://central.maven.org/maven2/"
          }
        },
        {
          "maven" : {
            "base" : "http://oss.sonatype.org/content/repositories/snapshots"
          }
        },
        {
          "maven" : {
            "base" : "https://dl.bintray.com/comp-bio-aging/main/"
          }
        }
      ],
      "sparkConfig" : {
        "master" : "http://spark:7070[28]"
      }
    }
  },
  "nbformat" : 4,
  "nbformat_minor" : 0,
  "cells" : [
    {
      "cell_type" : "markdown",
      "execution_count" : 0,
      "metadata" : {
        "language" : "text"
      },
      "language" : "text",
      "source" : [
        "# n triples\n",
        "\n",
        "\n",
        "saving lookups<br>\n",
        "\n",
        "\n"
      ],
      "outputs" : [
      ]
    },
    {
      "cell_type" : "code",
      "execution_count" : 1,
      "metadata" : {
        "cell.metadata.exec_info" : {
          "startTs" : 1580843192098,
          "endTs" : 1580843192401
        },
        "language" : "scala"
      },
      "language" : "scala",
      "source" : [
        "import org.apache.spark.rdd._\n",
        "import org.apache.spark.sql._\n",
        "import org.apache.spark.sql.types.StructType\n",
        "import org.apache.spark.sql.functions._\n",
        "import group.research.aging.spark.extensions._\n",
        "import group.research.aging.spark.extensions.functions._\n",
        "import group.research.aging.spark.extensions.functions.ConcatenateString\n",
        "import group.research.aging.spark.extensions.functions.Concatenate\n",
        "import ammonite.ops._\n",
        "import ammonite.ops.ImplicitWd._"
      ],
      "outputs" : [
      ]
    },
    {
      "cell_type" : "code",
      "execution_count" : 2,
      "metadata" : {
        "cell.metadata.exec_info" : {
          "startTs" : 1580843205887,
          "endTs" : 1580843216350
        },
        "language" : "scala"
      },
      "language" : "scala",
      "source" : [
        "val species_n = spark.read.parquet(\"/data/ensembl/99/website/species_lookup.parquet\").na.fill(\"\")\n",
        ".as[(java.lang.Integer, String, String, String, String, java.lang.Double, java.lang.Double,java.lang.Double, java.lang.Double,String,String,String)]\n",
        "species_n.show(10,10000)"
      ],
      "outputs" : [
        {
          "name" : "stdout",
          "text" : [
            "+--------+------------------------+--------------------+------------------------------------------------+-----+--------+------+--------------+-------------+---------------+-----------+------------+\n",
            "|taxon_id|         scientific_name|         common_name|                                             url|class|lifespan|mass_g|metabolic_rate|temperature_k|specimen_origin|sample_size|data_quality|\n",
            "+--------+------------------------+--------------------+------------------------------------------------+-----+--------+------+--------------+-------------+---------------+-----------+------------+\n",
            "| 2489341|     Strigops habroptila|              Kakapo|     https://www.ensembl.org/Strigops_habroptila| Aves|    60.0|  null|          null|         null|      captivity|      small|  acceptable|\n",
            "|  132585|    Anser brachyrhynchus|   Pink-footed goose|    https://www.ensembl.org/Anser_brachyrhynchus| Aves|    40.9|  null|          null|         null|           wild|     medium|  acceptable|\n",
            "|    9031|           Gallus gallus",
            "|      Red junglefowl|           https://www.ensembl.org/Gallus_gallus| Aves|    30.0|2710.0|         6.005|         null|      captivity|      large|  acceptable|\n",
            "|    9054|     Phasianus colchicus|     Common pheasant|     https://www.ensembl.org/Phasianus_colchicus| Aves|    27.0|  null|          null|         null|      captivity|      large|        high|\n",
            "|    9135|         Serinus canaria|        House canary|         https://www.ensembl.org/Serinus_canaria| Aves|    24.0|  13.3|      0.230065|       314.15|      captivity|     medium|  acceptable|\n",
            "|    9049|          Pavo cristatus|      Indian peafowl|          https://www.ensembl.org/Pavo_cristatus| Aves|    23.2|  null|          null|         null|      captivity|      large|  acceptable|\n",
            "|   13146| Melopsittacus undulatus|          Budgerigar| https://www.ensembl.org/Melopsittacus_undulatus| Aves|    21.0|  25.2|        0.3035|       314.15|      captivity|      large|        high|\n",
            "|  211598|         Accipiter nisus|Eurasian sparrowhawk|         htt",
            "ps://www.ensembl.org/Accipiter_nisus| Aves|    20.2| 135.0|        0.9516|         null|           wild|     medium|  acceptable|\n",
            "|    8790|Dromaius novaehollandiae|                 Emu|https://www.ensembl.org/Dromaius_novaehollandiae| Aves|    16.6|  null|          null|         null|      captivity|      large|  acceptable|\n",
            "|    9157|             Parus major|           Great tit|             https://www.ensembl.org/Parus_major| Aves|    15.4|  null|          null|         null|           wild|      large|  acceptable|\n",
            "+--------+------------------------+--------------------+------------------------------------------------+-----+--------+------+--------------+-------------+---------------+-----------+------------+\n",
            "only showing top 10 rows\n",
            "\n"
          ],
          "output_type" : "stream"
        }
      ]
    },
    {
      "cell_type" : "code",
      "execution_count" : 3,
      "metadata" : {
        "cell.metadata.exec_info" : {
          "startTs" : 1580843847136,
          "endTs" : 1580843847328
        },
        "language" : "scala"
      },
      "language" : "scala",
      "source" : [
        "val prefix_ens = \"http://rdf.ebi.ac.uk/resource/ensembl/\"\n",
        "val prefix = \"http://aging-research.group/resource/\"\n",
        "def ens(str: String) = \"<\"+prefix_ens+str.replace(\" \", \"_\")+\">\"\n",
        "def tax(str: String) = ens(\"taxon#\"+str)\n",
        "def pref(str: String) = \"<\" +prefix +str.replace(\" \", \"_\")+\">\" \n",
        "def str(s: String) = if(s==null) \"\" else s\"\"\"\"${s.replace(\"\\\"\", \"\\\\\\\"\")}\"\"\"\""
      ],
      "outputs" : [
      ]
    },
    {
      "cell_type" : "code",
      "execution_count" : 4,
      "metadata" : {
        "cell.metadata.exec_info" : {
          "startTs" : 1580843440380,
          "endTs" : 1580843440676
        },
        "language" : "scala"
      },
      "language" : "scala",
      "source" : [
        "def trip(s: String, p: String, o: String):List[(String, String, String, String)] = if(s==null || p == null || o == null ||\n",
        " s == \"\" ||  p == \"\" || o == \"\" || o==\"\\\\N\" || o.startsWith(\"\\\"\\\\N\\\"\") || s == \"\\\\N\" || s == \"\\\"\\\\N\\\"\") Nil else List((s,p,o, \"<\" + \"http://rdf.ebi.ac.uk/resource/ensembl/confidence/high\" + \"> .\"))\n",
        "def sp(taxon_id: java.lang.Integer, scientific_name: String)(p: String, o: Any) = if(taxon_id==null || o == null) Nil else {\n",
        "      trip(tax(taxon_id.toString), pref(p), o.toString)++\n",
        "        trip(pref(scientific_name),pref(p), o.toString) \n",
        "}"
      ],
      "outputs" : [
      ]
    },
    {
      "cell_type" : "code",
      "execution_count" : 8,
      "metadata" : {
        "cell.metadata.exec_info" : {
          "startTs" : 1580843516024,
          "endTs" : 1580843517357
        },
        "language" : "scala"
      },
      "language" : "scala",
      "source" : [
        "val trs = species_n.flatMap{\n",
        "    case (taxon_id,scientific_name,common_name,url,animal_class,\n",
        "    lifespan,mass_g,metabolic_rate,temperature_k,\n",
        "    specimen_origin,sample_size,data_quality) =>\n",
        "        trip(tax(taxon_id.toString), pref(\"has_scientific_name\"), pref(scientific_name))++\n",
        "        trip(pref(scientific_name),pref(\"has_taxon\"), tax(taxon_id.toString))++\n",
        "        sp(taxon_id, scientific_name)(\"has_common_name\", str(common_name))++\n",
        "        sp(taxon_id, scientific_name)(\"has_lifespan\", lifespan)++\n",
        "        sp(taxon_id, scientific_name)(\"has_temperature_kelvin\", temperature_k)++\n",
        "        sp(taxon_id, scientific_name)(\"has_mass_g\", mass_g) ++\n",
        "        sp(taxon_id, scientific_name)(\"has_metabolic_rate\", metabolic_rate) ++\n",
        "        sp(taxon_id, scientific_name)(\"is_animal_class\", ens(animal_class)) ++\n",
        "        sp(taxon_id, scientific_name)(\"has_ensembl_url\", \"<\"+url+\">\") ++\n",
        "        Nil\n",
        "}.toDF(\"subject\", \"property\", \"object\", \"context\")\n",
        "trs.show(100,1000)"
      ],
      "outputs" : [
        {
          "name" : "stdout",
          "text" : [
            "+--------------------------------------------------------------+-------------------------------------------------------------+--------------------------------------------------------------+---------------------------------------------------------+\n",
            "|                                                       subject|                                                     property|                                                        object|                                                  context|\n",
            "+--------------------------------------------------------------+-------------------------------------------------------------+--------------------------------------------------------------+---------------------------------------------------------+\n",
            "|         <http://rdf.ebi.ac.uk/resource/ensembl/taxon#2489341>|   <http://aging-research.group/resource/has_scientific_name>|    <http://aging-research.group/resource/Strigops_habroptila>|<http://rdf.ebi.ac.uk/resource/ensembl/confidence/high> .|\n",
            "|    <http://aging-research.grou",
            "p/resource/Strigops_habroptila>|             <http://aging-research.group/resource/has_taxon>|         <http://rdf.ebi.ac.uk/resource/ensembl/taxon#2489341>|<http://rdf.ebi.ac.uk/resource/ensembl/confidence/high> .|\n",
            "|         <http://rdf.ebi.ac.uk/resource/ensembl/taxon#2489341>|       <http://aging-research.group/resource/has_common_name>|                                                      \"Kakapo\"|<http://rdf.ebi.ac.uk/resource/ensembl/confidence/high> .|\n",
            "|    <http://aging-research.group/resource/Strigops_habroptila>|       <http://aging-research.group/resource/has_common_name>|                                                      \"Kakapo\"|<http://rdf.ebi.ac.uk/resource/ensembl/confidence/high> .|\n",
            "|         <http://rdf.ebi.ac.uk/resource/ensembl/taxon#2489341>|          <http://aging-research.group/resource/has_lifespan>|                                                          60.0|<http://rdf.ebi.ac.uk/resource/ensembl/confidence/high> .|\n",
            "|    <http://aging-research.group/resource/Strigops_habroptila>|",
            "          <http://aging-research.group/resource/has_lifespan>|                                                          60.0|<http://rdf.ebi.ac.uk/resource/ensembl/confidence/high> .|\n",
            "|         <http://rdf.ebi.ac.uk/resource/ensembl/taxon#2489341>|       <http://aging-research.group/resource/is_animal_class>|                  <http://rdf.ebi.ac.uk/resource/ensembl/Aves>|<http://rdf.ebi.ac.uk/resource/ensembl/confidence/high> .|\n",
            "|    <http://aging-research.group/resource/Strigops_habroptila>|       <http://aging-research.group/resource/is_animal_class>|                  <http://rdf.ebi.ac.uk/resource/ensembl/Aves>|<http://rdf.ebi.ac.uk/resource/ensembl/confidence/high> .|\n",
            "|         <http://rdf.ebi.ac.uk/resource/ensembl/taxon#2489341>|       <http://aging-research.group/resource/has_ensembl_url>|                 <https://www.ensembl.org/Strigops_habroptila>|<http://rdf.ebi.ac.uk/resource/ensembl/confidence/high> .|\n",
            "|    <http://aging-research.group/resource/Strigops_habroptila>|       <http://aging-research.gr",
            "oup/resource/has_ensembl_url>|                 <https://www.ensembl.org/Strigops_habroptila>|<http://rdf.ebi.ac.uk/resource/ensembl/confidence/high> .|\n",
            "|          <http://rdf.ebi.ac.uk/resource/ensembl/taxon#132585>|   <http://aging-research.group/resource/has_scientific_name>|   <http://aging-research.group/resource/Anser_brachyrhynchus>|<http://rdf.ebi.ac.uk/resource/ensembl/confidence/high> .|\n",
            "|   <http://aging-research.group/resource/Anser_brachyrhynchus>|             <http://aging-research.group/resource/has_taxon>|          <http://rdf.ebi.ac.uk/resource/ensembl/taxon#132585>|<http://rdf.ebi.ac.uk/resource/ensembl/confidence/high> .|\n",
            "|          <http://rdf.ebi.ac.uk/resource/ensembl/taxon#132585>|       <http://aging-research.group/resource/has_common_name>|                                           \"Pink-footed goose\"|<http://rdf.ebi.ac.uk/resource/ensembl/confidence/high> .|\n",
            "|   <http://aging-research.group/resource/Anser_brachyrhynchus>|       <http://aging-research.group/resource/has_common_name>|  ",
            "                                         \"Pink-footed goose\"|<http://rdf.ebi.ac.uk/resource/ensembl/confidence/high> .|\n",
            "|          <http://rdf.ebi.ac.uk/resource/ensembl/taxon#132585>|          <http://aging-research.group/resource/has_lifespan>|                                                          40.9|<http://rdf.ebi.ac.uk/resource/ensembl/confidence/high> .|\n",
            "|   <http://aging-research.group/resource/Anser_brachyrhynchus>|          <http://aging-research.group/resource/has_lifespan>|                                                          40.9|<http://rdf.ebi.ac.uk/resource/ensembl/confidence/high> .|\n",
            "|          <http://rdf.ebi.ac.uk/resource/ensembl/taxon#132585>|       <http://aging-research.group/resource/is_animal_class>|                  <http://rdf.ebi.ac.uk/resource/ensembl/Aves>|<http://rdf.ebi.ac.uk/resource/ensembl/confidence/high> .|\n",
            "|   <http://aging-research.group/resource/Anser_brachyrhynchus>|       <http://aging-research.group/resource/is_animal_class>|                  <http://rdf.ebi.",
            "ac.uk/resource/ensembl/Aves>|<http://rdf.ebi.ac.uk/resource/ensembl/confidence/high> .|\n",
            "|          <http://rdf.ebi.ac.uk/resource/ensembl/taxon#132585>|       <http://aging-research.group/resource/has_ensembl_url>|                <https://www.ensembl.org/Anser_brachyrhynchus>|<http://rdf.ebi.ac.uk/resource/ensembl/confidence/high> .|\n",
            "|   <http://aging-research.group/resource/Anser_brachyrhynchus>|       <http://aging-research.group/resource/has_ensembl_url>|                <https://www.ensembl.org/Anser_brachyrhynchus>|<http://rdf.ebi.ac.uk/resource/ensembl/confidence/high> .|\n",
            "|            <http://rdf.ebi.ac.uk/resource/ensembl/taxon#9031>|   <http://aging-research.group/resource/has_scientific_name>|          <http://aging-research.group/resource/Gallus_gallus>|<http://rdf.ebi.ac.uk/resource/ensembl/confidence/high> .|\n",
            "|          <http://aging-research.group/resource/Gallus_gallus>|             <http://aging-research.group/resource/has_taxon>|            <http://rdf.ebi.ac.uk/resource/ensembl/taxon#9031>|<ht",
            "tp://rdf.ebi.ac.uk/resource/ensembl/confidence/high> .|\n",
            "|            <http://rdf.ebi.ac.uk/resource/ensembl/taxon#9031>|       <http://aging-research.group/resource/has_common_name>|                                              \"Red junglefowl\"|<http://rdf.ebi.ac.uk/resource/ensembl/confidence/high> .|\n",
            "|          <http://aging-research.group/resource/Gallus_gallus>|       <http://aging-research.group/resource/has_common_name>|                                              \"Red junglefowl\"|<http://rdf.ebi.ac.uk/resource/ensembl/confidence/high> .|\n",
            "|            <http://rdf.ebi.ac.uk/resource/ensembl/taxon#9031>|          <http://aging-research.group/resource/has_lifespan>|                                                          30.0|<http://rdf.ebi.ac.uk/resource/ensembl/confidence/high> .|\n",
            "|          <http://aging-research.group/resource/Gallus_gallus>|          <http://aging-research.group/resource/has_lifespan>|                                                          30.0|<http://rdf.ebi.ac.uk/resource/ense",
            "mbl/confidence/high> .|\n",
            "|            <http://rdf.ebi.ac.uk/resource/ensembl/taxon#9031>|            <http://aging-research.group/resource/has_mass_g>|                                                        2710.0|<http://rdf.ebi.ac.uk/resource/ensembl/confidence/high> .|\n",
            "|          <http://aging-research.group/resource/Gallus_gallus>|            <http://aging-research.group/resource/has_mass_g>|                                                        2710.0|<http://rdf.ebi.ac.uk/resource/ensembl/confidence/high> .|\n",
            "|            <http://rdf.ebi.ac.uk/resource/ensembl/taxon#9031>|    <http://aging-research.group/resource/has_metabolic_rate>|                                                         6.005|<http://rdf.ebi.ac.uk/resource/ensembl/confidence/high> .|\n",
            "|          <http://aging-research.group/resource/Gallus_gallus>|    <http://aging-research.group/resource/has_metabolic_rate>|                                                         6.005|<http://rdf.ebi.ac.uk/resource/ensembl/confidence/high> .|\n",
            "|       ",
            "     <http://rdf.ebi.ac.uk/resource/ensembl/taxon#9031>|       <http://aging-research.group/resource/is_animal_class>|                  <http://rdf.ebi.ac.uk/resource/ensembl/Aves>|<http://rdf.ebi.ac.uk/resource/ensembl/confidence/high> .|\n",
            "|          <http://aging-research.group/resource/Gallus_gallus>|       <http://aging-research.group/resource/is_animal_class>|                  <http://rdf.ebi.ac.uk/resource/ensembl/Aves>|<http://rdf.ebi.ac.uk/resource/ensembl/confidence/high> .|\n",
            "|            <http://rdf.ebi.ac.uk/resource/ensembl/taxon#9031>|       <http://aging-research.group/resource/has_ensembl_url>|                       <https://www.ensembl.org/Gallus_gallus>|<http://rdf.ebi.ac.uk/resource/ensembl/confidence/high> .|\n",
            "|          <http://aging-research.group/resource/Gallus_gallus>|       <http://aging-research.group/resource/has_ensembl_url>|                       <https://www.ensembl.org/Gallus_gallus>|<http://rdf.ebi.ac.uk/resource/ensembl/confidence/high> .|\n",
            "|            <http://rdf.ebi.ac.uk/resou",
            "rce/ensembl/taxon#9054>|   <http://aging-research.group/resource/has_scientific_name>|    <http://aging-research.group/resource/Phasianus_colchicus>|<http://rdf.ebi.ac.uk/resource/ensembl/confidence/high> .|\n",
            "|    <http://aging-research.group/resource/Phasianus_colchicus>|             <http://aging-research.group/resource/has_taxon>|            <http://rdf.ebi.ac.uk/resource/ensembl/taxon#9054>|<http://rdf.ebi.ac.uk/resource/ensembl/confidence/high> .|\n",
            "|            <http://rdf.ebi.ac.uk/resource/ensembl/taxon#9054>|       <http://aging-research.group/resource/has_common_name>|                                             \"Common pheasant\"|<http://rdf.ebi.ac.uk/resource/ensembl/confidence/high> .|\n",
            "|    <http://aging-research.group/resource/Phasianus_colchicus>|       <http://aging-research.group/resource/has_common_name>|                                             \"Common pheasant\"|<http://rdf.ebi.ac.uk/resource/ensembl/confidence/high> .|\n",
            "|            <http://rdf.ebi.ac.uk/resource/ensembl/taxon#9054>|        ",
            "  <http://aging-research.group/resource/has_lifespan>|                                                          27.0|<http://rdf.ebi.ac.uk/resource/ensembl/confidence/high> .|\n",
            "|    <http://aging-research.group/resource/Phasianus_colchicus>|          <http://aging-research.group/resource/has_lifespan>|                                                          27.0|<http://rdf.ebi.ac.uk/resource/ensembl/confidence/high> .|\n",
            "|            <http://rdf.ebi.ac.uk/resource/ensembl/taxon#9054>|       <http://aging-research.group/resource/is_animal_class>|                  <http://rdf.ebi.ac.uk/resource/ensembl/Aves>|<http://rdf.ebi.ac.uk/resource/ensembl/confidence/high> .|\n",
            "|    <http://aging-research.group/resource/Phasianus_colchicus>|       <http://aging-research.group/resource/is_animal_class>|                  <http://rdf.ebi.ac.uk/resource/ensembl/Aves>|<http://rdf.ebi.ac.uk/resource/ensembl/confidence/high> .|\n",
            "|            <http://rdf.ebi.ac.uk/resource/ensembl/taxon#9054>|       <http://aging-research.group/reso",
            "urce/has_ensembl_url>|                 <https://www.ensembl.org/Phasianus_colchicus>|<http://rdf.ebi.ac.uk/resource/ensembl/confidence/high> .|\n",
            "|    <http://aging-research.group/resource/Phasianus_colchicus>|       <http://aging-research.group/resource/has_ensembl_url>|                 <https://www.ensembl.org/Phasianus_colchicus>|<http://rdf.ebi.ac.uk/resource/ensembl/confidence/high> .|\n",
            "|            <http://rdf.ebi.ac.uk/resource/ensembl/taxon#9135>|   <http://aging-research.group/resource/has_scientific_name>|        <http://aging-research.group/resource/Serinus_canaria>|<http://rdf.ebi.ac.uk/resource/ensembl/confidence/high> .|\n",
            "|        <http://aging-research.group/resource/Serinus_canaria>|             <http://aging-research.group/resource/has_taxon>|            <http://rdf.ebi.ac.uk/resource/ensembl/taxon#9135>|<http://rdf.ebi.ac.uk/resource/ensembl/confidence/high> .|\n",
            "|            <http://rdf.ebi.ac.uk/resource/ensembl/taxon#9135>|       <http://aging-research.group/resource/has_common_name>|          ",
            "                                      \"House canary\"|<http://rdf.ebi.ac.uk/resource/ensembl/confidence/high> .|\n",
            "|        <http://aging-research.group/resource/Serinus_canaria>|       <http://aging-research.group/resource/has_common_name>|                                                \"House canary\"|<http://rdf.ebi.ac.uk/resource/ensembl/confidence/high> .|\n",
            "|            <http://rdf.ebi.ac.uk/resource/ensembl/taxon#9135>|          <http://aging-research.group/resource/has_lifespan>|                                                          24.0|<http://rdf.ebi.ac.uk/resource/ensembl/confidence/high> .|\n",
            "|        <http://aging-research.group/resource/Serinus_canaria>|          <http://aging-research.group/resource/has_lifespan>|                                                          24.0|<http://rdf.ebi.ac.uk/resource/ensembl/confidence/high> .|\n",
            "|            <http://rdf.ebi.ac.uk/resource/ensembl/taxon#9135>|<http://aging-research.group/resource/has_temperature_kelvin>|                                          ",
            "              314.15|<http://rdf.ebi.ac.uk/resource/ensembl/confidence/high> .|\n",
            "|        <http://aging-research.group/resource/Serinus_canaria>|<http://aging-research.group/resource/has_temperature_kelvin>|                                                        314.15|<http://rdf.ebi.ac.uk/resource/ensembl/confidence/high> .|\n",
            "|            <http://rdf.ebi.ac.uk/resource/ensembl/taxon#9135>|            <http://aging-research.group/resource/has_mass_g>|                                                          13.3|<http://rdf.ebi.ac.uk/resource/ensembl/confidence/high> .|\n",
            "|        <http://aging-research.group/resource/Serinus_canaria>|            <http://aging-research.group/resource/has_mass_g>|                                                          13.3|<http://rdf.ebi.ac.uk/resource/ensembl/confidence/high> .|\n",
            "|            <http://rdf.ebi.ac.uk/resource/ensembl/taxon#9135>|    <http://aging-research.group/resource/has_metabolic_rate>|                                                      0.230065|<http://rdf",
            ".ebi.ac.uk/resource/ensembl/confidence/high> .|\n",
            "|        <http://aging-research.group/resource/Serinus_canaria>|    <http://aging-research.group/resource/has_metabolic_rate>|                                                      0.230065|<http://rdf.ebi.ac.uk/resource/ensembl/confidence/high> .|\n",
            "|            <http://rdf.ebi.ac.uk/resource/ensembl/taxon#9135>|       <http://aging-research.group/resource/is_animal_class>|                  <http://rdf.ebi.ac.uk/resource/ensembl/Aves>|<http://rdf.ebi.ac.uk/resource/ensembl/confidence/high> .|\n",
            "|        <http://aging-research.group/resource/Serinus_canaria>|       <http://aging-research.group/resource/is_animal_class>|                  <http://rdf.ebi.ac.uk/resource/ensembl/Aves>|<http://rdf.ebi.ac.uk/resource/ensembl/confidence/high> .|\n",
            "|            <http://rdf.ebi.ac.uk/resource/ensembl/taxon#9135>|       <http://aging-research.group/resource/has_ensembl_url>|                     <https://www.ensembl.org/Serinus_canaria>|<http://rdf.ebi.ac.uk/resource/ensembl/conf",
            "idence/high> .|\n",
            "|        <http://aging-research.group/resource/Serinus_canaria>|       <http://aging-research.group/resource/has_ensembl_url>|                     <https://www.ensembl.org/Serinus_canaria>|<http://rdf.ebi.ac.uk/resource/ensembl/confidence/high> .|\n",
            "|            <http://rdf.ebi.ac.uk/resource/ensembl/taxon#9049>|   <http://aging-research.group/resource/has_scientific_name>|         <http://aging-research.group/resource/Pavo_cristatus>|<http://rdf.ebi.ac.uk/resource/ensembl/confidence/high> .|\n",
            "|         <http://aging-research.group/resource/Pavo_cristatus>|             <http://aging-research.group/resource/has_taxon>|            <http://rdf.ebi.ac.uk/resource/ensembl/taxon#9049>|<http://rdf.ebi.ac.uk/resource/ensembl/confidence/high> .|\n",
            "|            <http://rdf.ebi.ac.uk/resource/ensembl/taxon#9049>|       <http://aging-research.group/resource/has_common_name>|                                              \"Indian peafowl\"|<http://rdf.ebi.ac.uk/resource/ensembl/confidence/high> .|\n",
            "|         <http:",
            "//aging-research.group/resource/Pavo_cristatus>|       <http://aging-research.group/resource/has_common_name>|                                              \"Indian peafowl\"|<http://rdf.ebi.ac.uk/resource/ensembl/confidence/high> .|\n",
            "|            <http://rdf.ebi.ac.uk/resource/ensembl/taxon#9049>|          <http://aging-research.group/resource/has_lifespan>|                                                          23.2|<http://rdf.ebi.ac.uk/resource/ensembl/confidence/high> .|\n",
            "|         <http://aging-research.group/resource/Pavo_cristatus>|          <http://aging-research.group/resource/has_lifespan>|                                                          23.2|<http://rdf.ebi.ac.uk/resource/ensembl/confidence/high> .|\n",
            "|            <http://rdf.ebi.ac.uk/resource/ensembl/taxon#9049>|       <http://aging-research.group/resource/is_animal_class>|                  <http://rdf.ebi.ac.uk/resource/ensembl/Aves>|<http://rdf.ebi.ac.uk/resource/ensembl/confidence/high> .|\n",
            "|         <http://aging-research.group/resource/",
            "Pavo_cristatus>|       <http://aging-research.group/resource/is_animal_class>|                  <http://rdf.ebi.ac.uk/resource/ensembl/Aves>|<http://rdf.ebi.ac.uk/resource/ensembl/confidence/high> .|\n",
            "|            <http://rdf.ebi.ac.uk/resource/ensembl/taxon#9049>|       <http://aging-research.group/resource/has_ensembl_url>|                      <https://www.ensembl.org/Pavo_cristatus>|<http://rdf.ebi.ac.uk/resource/ensembl/confidence/high> .|\n",
            "|         <http://aging-research.group/resource/Pavo_cristatus>|       <http://aging-research.group/resource/has_ensembl_url>|                      <https://www.ensembl.org/Pavo_cristatus>|<http://rdf.ebi.ac.uk/resource/ensembl/confidence/high> .|\n",
            "|           <http://rdf.ebi.ac.uk/resource/ensembl/taxon#13146>|   <http://aging-research.group/resource/has_scientific_name>|<http://aging-research.group/resource/Melopsittacus_undulatus>|<http://rdf.ebi.ac.uk/resource/ensembl/confidence/high> .|\n",
            "|<http://aging-research.group/resource/Melopsittacus_undulatus>|             <ht",
            "tp://aging-research.group/resource/has_taxon>|           <http://rdf.ebi.ac.uk/resource/ensembl/taxon#13146>|<http://rdf.ebi.ac.uk/resource/ensembl/confidence/high> .|\n",
            "|           <http://rdf.ebi.ac.uk/resource/ensembl/taxon#13146>|       <http://aging-research.group/resource/has_common_name>|                                                  \"Budgerigar\"|<http://rdf.ebi.ac.uk/resource/ensembl/confidence/high> .|\n",
            "|<http://aging-research.group/resource/Melopsittacus_undulatus>|       <http://aging-research.group/resource/has_common_name>|                                                  \"Budgerigar\"|<http://rdf.ebi.ac.uk/resource/ensembl/confidence/high> .|\n",
            "|           <http://rdf.ebi.ac.uk/resource/ensembl/taxon#13146>|          <http://aging-research.group/resource/has_lifespan>|                                                          21.0|<http://rdf.ebi.ac.uk/resource/ensembl/confidence/high> .|\n",
            "|<http://aging-research.group/resource/Melopsittacus_undulatus>|          <http://aging-research.group/resource/",
            "has_lifespan>|                                                          21.0|<http://rdf.ebi.ac.uk/resource/ensembl/confidence/high> .|\n",
            "|           <http://rdf.ebi.ac.uk/resource/ensembl/taxon#13146>|<http://aging-research.group/resource/has_temperature_kelvin>|                                                        314.15|<http://rdf.ebi.ac.uk/resource/ensembl/confidence/high> .|\n",
            "|<http://aging-research.group/resource/Melopsittacus_undulatus>|<http://aging-research.group/resource/has_temperature_kelvin>|                                                        314.15|<http://rdf.ebi.ac.uk/resource/ensembl/confidence/high> .|\n",
            "|           <http://rdf.ebi.ac.uk/resource/ensembl/taxon#13146>|            <http://aging-research.group/resource/has_mass_g>|                                                          25.2|<http://rdf.ebi.ac.uk/resource/ensembl/confidence/high> .|\n",
            "|<http://aging-research.group/resource/Melopsittacus_undulatus>|            <http://aging-research.group/resource/has_mass_g>|                  ",
            "                                        25.2|<http://rdf.ebi.ac.uk/resource/ensembl/confidence/high> .|\n",
            "|           <http://rdf.ebi.ac.uk/resource/ensembl/taxon#13146>|    <http://aging-research.group/resource/has_metabolic_rate>|                                                        0.3035|<http://rdf.ebi.ac.uk/resource/ensembl/confidence/high> .|\n",
            "|<http://aging-research.group/resource/Melopsittacus_undulatus>|    <http://aging-research.group/resource/has_metabolic_rate>|                                                        0.3035|<http://rdf.ebi.ac.uk/resource/ensembl/confidence/high> .|\n",
            "|           <http://rdf.ebi.ac.uk/resource/ensembl/taxon#13146>|       <http://aging-research.group/resource/is_animal_class>|                  <http://rdf.ebi.ac.uk/resource/ensembl/Aves>|<http://rdf.ebi.ac.uk/resource/ensembl/confidence/high> .|\n",
            "|<http://aging-research.group/resource/Melopsittacus_undulatus>|       <http://aging-research.group/resource/is_animal_class>|                  <http://rdf.ebi.ac.uk/resource/e",
            "nsembl/Aves>|<http://rdf.ebi.ac.uk/resource/ensembl/confidence/high> .|\n",
            "|           <http://rdf.ebi.ac.uk/resource/ensembl/taxon#13146>|       <http://aging-research.group/resource/has_ensembl_url>|             <https://www.ensembl.org/Melopsittacus_undulatus>|<http://rdf.ebi.ac.uk/resource/ensembl/confidence/high> .|\n",
            "|<http://aging-research.group/resource/Melopsittacus_undulatus>|       <http://aging-research.group/resource/has_ensembl_url>|             <https://www.ensembl.org/Melopsittacus_undulatus>|<http://rdf.ebi.ac.uk/resource/ensembl/confidence/high> .|\n",
            "|          <http://rdf.ebi.ac.uk/resource/ensembl/taxon#211598>|   <http://aging-research.group/resource/has_scientific_name>|        <http://aging-research.group/resource/Accipiter_nisus>|<http://rdf.ebi.ac.uk/resource/ensembl/confidence/high> .|\n",
            "|        <http://aging-research.group/resource/Accipiter_nisus>|             <http://aging-research.group/resource/has_taxon>|          <http://rdf.ebi.ac.uk/resource/ensembl/taxon#211598>|<http://rdf.ebi.ac.",
            "uk/resource/ensembl/confidence/high> .|\n",
            "|          <http://rdf.ebi.ac.uk/resource/ensembl/taxon#211598>|       <http://aging-research.group/resource/has_common_name>|                                        \"Eurasian sparrowhawk\"|<http://rdf.ebi.ac.uk/resource/ensembl/confidence/high> .|\n",
            "|        <http://aging-research.group/resource/Accipiter_nisus>|       <http://aging-research.group/resource/has_common_name>|                                        \"Eurasian sparrowhawk\"|<http://rdf.ebi.ac.uk/resource/ensembl/confidence/high> .|\n",
            "|          <http://rdf.ebi.ac.uk/resource/ensembl/taxon#211598>|          <http://aging-research.group/resource/has_lifespan>|                                                          20.2|<http://rdf.ebi.ac.uk/resource/ensembl/confidence/high> .|\n",
            "|        <http://aging-research.group/resource/Accipiter_nisus>|          <http://aging-research.group/resource/has_lifespan>|                                                          20.2|<http://rdf.ebi.ac.uk/resource/ensembl/confidence/h",
            "igh> .|\n",
            "|          <http://rdf.ebi.ac.uk/resource/ensembl/taxon#211598>|            <http://aging-research.group/resource/has_mass_g>|                                                         135.0|<http://rdf.ebi.ac.uk/resource/ensembl/confidence/high> .|\n",
            "|        <http://aging-research.group/resource/Accipiter_nisus>|            <http://aging-research.group/resource/has_mass_g>|                                                         135.0|<http://rdf.ebi.ac.uk/resource/ensembl/confidence/high> .|\n",
            "|          <http://rdf.ebi.ac.uk/resource/ensembl/taxon#211598>|    <http://aging-research.group/resource/has_metabolic_rate>|                                                        0.9516|<http://rdf.ebi.ac.uk/resource/ensembl/confidence/high> .|\n",
            "|        <http://aging-research.group/resource/Accipiter_nisus>|    <http://aging-research.group/resource/has_metabolic_rate>|                                                        0.9516|<http://rdf.ebi.ac.uk/resource/ensembl/confidence/high> .|\n",
            "|          <http://rdf.e",
            "bi.ac.uk/resource/ensembl/taxon#211598>|       <http://aging-research.group/resource/is_animal_class>|                  <http://rdf.ebi.ac.uk/resource/ensembl/Aves>|<http://rdf.ebi.ac.uk/resource/ensembl/confidence/high> .|\n",
            "|        <http://aging-research.group/resource/Accipiter_nisus>|       <http://aging-research.group/resource/is_animal_class>|                  <http://rdf.ebi.ac.uk/resource/ensembl/Aves>|<http://rdf.ebi.ac.uk/resource/ensembl/confidence/high> .|\n",
            "|          <http://rdf.ebi.ac.uk/resource/ensembl/taxon#211598>|       <http://aging-research.group/resource/has_ensembl_url>|                     <https://www.ensembl.org/Accipiter_nisus>|<http://rdf.ebi.ac.uk/resource/ensembl/confidence/high> .|\n",
            "|        <http://aging-research.group/resource/Accipiter_nisus>|       <http://aging-research.group/resource/has_ensembl_url>|                     <https://www.ensembl.org/Accipiter_nisus>|<http://rdf.ebi.ac.uk/resource/ensembl/confidence/high> .|\n",
            "+-------------------------------------------------------",
            "-------+-------------------------------------------------------------+--------------------------------------------------------------+---------------------------------------------------------+\n",
            "only showing top 100 rows\n",
            "\n"
          ],
          "output_type" : "stream"
        }
      ]
    },
    {
      "cell_type" : "code",
      "execution_count" : 6,
      "metadata" : {
        "cell.metadata.exec_info" : {
          "startTs" : 1580843524698,
          "endTs" : 1580843525585
        },
        "language" : "scala"
      },
      "language" : "scala",
      "source" : [
        "trs.writeTSV(\"/data/databases/graphdb/import/species.nt\", false)"
      ],
      "outputs" : [
        {
          "name" : "stdout",
          "text" : [
            "parts of /data/databases/graphdb/import/species.nt merged!",
            "\n"
          ],
          "output_type" : "stream"
        },
        {
          "execution_count" : 6,
          "data" : {
            "text/plain" : [
              "/data/databases/graphdb/import/species.nt"
            ]
          },
          "metadata" : {
            "name" : "Out",
            "type" : "String"
          },
          "output_type" : "execute_result"
        }
      ]
    },
    {
      "cell_type" : "markdown",
      "execution_count" : 7,
      "metadata" : {
        "language" : "text"
      },
      "language" : "text",
      "source" : [
        "Producing genes n-triples<br>"
      ],
      "outputs" : [
      ]
    },
    {
      "cell_type" : "code",
      "execution_count" : 9,
      "metadata" : {
        "cell.metadata.exec_info" : {
          "startTs" : 1580843568490,
          "endTs" : 1580843569610
        },
        "language" : "scala"
      },
      "language" : "scala",
      "source" : [
        "val genes_n = spark.read.parquet(\"/data/ensembl/99/website/genes_lookup.parquet\").as[(java.lang.Integer,String, String, String, String, String, String, String)]\n",
        "genes_n.show(20,1000)"
      ],
      "outputs" : [
        {
          "name" : "stdout",
          "text" : [
            "+--------+------------------+-------------+-------------+------------------------------------------------------------------------------------+---------------+--------------------+-----+\n",
            "|taxon_id|         stable_id|display_label|biotype_group|                                                                         description|scientific_name|         common_name|class|\n",
            "+--------+------------------+-------------+-------------+------------------------------------------------------------------------------------+---------------+--------------------+-----+\n",
            "|  211598|ENSANIG00000000002|        SSTR4|       coding|                         somatostatin receptor 4 [Source:HGNC Symbol;Acc:HGNC:11333]|Accipiter nisus|Eurasian sparrowhawk| Aves|\n",
            "|  211598|ENSANIG00000000003|           \\N|       coding|                                                                                  \\N|Accipiter nisus|Eurasian sparrowhawk| Aves|\n",
            "|  211598|ENSANIG00000000004|         CD93|       coding|                                   CD",
            "93 molecule [Source:HGNC Symbol;Acc:HGNC:15855]|Accipiter nisus|Eurasian sparrowhawk| Aves|\n",
            "|  211598|ENSANIG00000000005|           \\N|       coding|                                                                                  \\N|Accipiter nisus|Eurasian sparrowhawk| Aves|\n",
            "|  211598|ENSANIG00000000006|         GZF1|       coding|            GDNF inducible zinc finger protein 1 [Source:HGNC Symbol;Acc:HGNC:15808]|Accipiter nisus|Eurasian sparrowhawk| Aves|\n",
            "|  211598|ENSANIG00000000007|           \\N|       coding|                                                                                  \\N|Accipiter nisus|Eurasian sparrowhawk| Aves|\n",
            "|  211598|ENSANIG00000000008|           \\N|       coding|                                                                                  \\N|Accipiter nisus|Eurasian sparrowhawk| Aves|\n",
            "|  211598|ENSANIG00000000009|        ATP9A|       coding|  ATPase phospholipid transporting 9A (putative) [Source:HGNC Symbol;Acc:HGNC:13540]|Accipiter nisus|Eurasian sparrowhawk| Aves|\n",
            "| ",
            " 211598|ENSANIG00000000010|           \\N|       coding|                                                                                  \\N|Accipiter nisus|Eurasian sparrowhawk| Aves|\n",
            "|  211598|ENSANIG00000000011|        ACER1|       coding|                           alkaline ceramidase 1 [Source:HGNC Symbol;Acc:HGNC:18356]|Accipiter nisus|Eurasian sparrowhawk| Aves|\n",
            "|  211598|ENSANIG00000000012|        MLLT1|       coding|           MLLT1 super elongation complex subunit [Source:HGNC Symbol;Acc:HGNC:7134]|Accipiter nisus|Eurasian sparrowhawk| Aves|\n",
            "|  211598|ENSANIG00000000013|       ACSBG2|       coding|   acyl-CoA synthetase bubblegum family member 2 [Source:HGNC Symbol;Acc:HGNC:24174]|Accipiter nisus|Eurasian sparrowhawk| Aves|\n",
            "|  211598|ENSANIG00000000014|         RFX2|       coding|                             regulatory factor X2 [Source:HGNC Symbol;Acc:HGNC:9983]|Accipiter nisus|Eurasian sparrowhawk| Aves|\n",
            "|  211598|ENSANIG00000000015|      CREB3L1|       coding|cAMP responsive element binding protein",
            " 3 like 1 [Source:HGNC Symbol;Acc:HGNC:18856]|Accipiter nisus|Eurasian sparrowhawk| Aves|\n",
            "|  211598|ENSANIG00000000016|         DGKZ|       coding|                       diacylglycerol kinase zeta [Source:HGNC Symbol;Acc:HGNC:2857]|Accipiter nisus|Eurasian sparrowhawk| Aves|\n",
            "|  211598|ENSANIG00000000017|          MDK|       coding|                                          midkine [Source:HGNC Symbol;Acc:HGNC:6972]|Accipiter nisus|Eurasian sparrowhawk| Aves|\n",
            "|  211598|ENSANIG00000000018|        CHRM4|       coding|                cholinergic receptor muscarinic 4 [Source:HGNC Symbol;Acc:HGNC:1953]|Accipiter nisus|Eurasian sparrowhawk| Aves|\n",
            "|  211598|ENSANIG00000000019|         EYA4|       coding|EYA transcriptional coactivator and phosphatase 4 [Source:HGNC Symbol;Acc:HGNC:3522]|Accipiter nisus|Eurasian sparrowhawk| Aves|\n",
            "|  211598|ENSANIG00000000020|           \\N|       coding|                                                                                  \\N|Accipiter nisus|Eurasian sparrowhawk| Aves|\n",
            "|  2",
            "11598|ENSANIG00000000021|       VPREB3|       coding|        V-set pre-B cell surrogate light chain 3 [Source:HGNC Symbol;Acc:HGNC:12710]|Accipiter nisus|Eurasian sparrowhawk| Aves|\n",
            "+--------+------------------+-------------+-------------+------------------------------------------------------------------------------------+---------------+--------------------+-----+\n",
            "only showing top 20 rows\n",
            "\n"
          ],
          "output_type" : "stream"
        }
      ]
    },
    {
      "cell_type" : "code",
      "execution_count" : 13,
      "metadata" : {
        "cell.metadata.exec_info" : {
          "startTs" : 1580844031125,
          "endTs" : 1580844031257
        },
        "language" : "scala"
      },
      "language" : "scala",
      "source" : [
        "def str2(s: String) = if(s==null) \"\" else s\"\"\"\"${s.replace(\"\\\"\", \"\\\\\\\"\")}\"\"\"\""
      ],
      "outputs" : [
      ]
    },
    {
      "cell_type" : "code",
      "execution_count" : 11,
      "metadata" : {
        "cell.metadata.exec_info" : {
          "startTs" : 1580844037012,
          "endTs" : 1580844037876
        },
        "language" : "scala"
      },
      "language" : "scala",
      "source" : [
        "val genes_trs = genes_n.flatMap{\n",
        "    case (taxon_id,stable_id,display_label,biotype_group,description,scientific_name,common_name,cl) =>\n",
        "    sp(taxon_id, scientific_name)(\"has_gene\", ens(stable_id)) ++\n",
        "    trip(ens(stable_id), \"<\"+\"http://www.w3.org/2000/01/rdf-schema#label\" +\">\", str2(display_label))++\n",
        "    trip(ens(stable_id), \"<\"+\"http://www.w3.org/2000/01/rdf-schema#description\" +\">\",  str2(description))++\n",
        "    trip(ens(stable_id), ens(\"has_biotype\"), ens(\"biotype/\"+biotype_group))++\n",
        "    Nil\n",
        "}.toDF(\"subject\", \"property\", \"object\", \"context\")\n",
        "genes_trs.show(40, 1000)"
      ],
      "outputs" : [
        {
          "name" : "stdout",
          "text" : [
            "+----------------------------------------------------------+---------------------------------------------------+------------------------------------------------------------------------------------+---------------------------------------------------------+\n",
            "|                                                   subject|                                           property|                                                                              object|                                                  context|\n",
            "+----------------------------------------------------------+---------------------------------------------------+------------------------------------------------------------------------------------+---------------------------------------------------------+\n",
            "|      <http://rdf.ebi.ac.uk/resource/ensembl/taxon#211598>|    <http://aging-research.group/resource/has_gene>|                          <http://rdf.ebi.ac.uk/resource/ensembl/ENSANIG00000000002>|<http://rdf.ebi.ac.uk/resource/ensembl/confidence/high> .|\n",
            "|    <http://aging-research.group/resource/Accipiter_nisus>|    <http://aging-research.group/resource/has_gene>|                          <http://rdf.ebi.ac.uk/resource/ensembl/ENSANIG00000000002>|<http://rdf.ebi.ac.uk/resource/ensembl/confidence/high> .|\n",
            "|<http://rdf.ebi.ac.uk/resource/ensembl/ENSANIG00000000002>|       <http://www.w3.org/2000/01/rdf-schema#label>|                                                                             \"SSTR4\"|<http://rdf.ebi.ac.uk/resource/ensembl/confidence/high> .|\n",
            "|<http://rdf.ebi.ac.uk/resource/ensembl/ENSANIG00000000002>| <http://www.w3.org/2000/01/rdf-schema#description>|                       \"somatostatin receptor 4 [Source:HGNC Symbol;Acc:HGNC:11333]\"|<http://rdf.ebi.ac.uk/resource/ensembl/confidence/high> .|\n",
            "|<http://rdf.ebi.ac.uk/resource/ensembl/ENSANIG00000000002>|<http://rdf.ebi.ac.uk/resource/ensembl/has_biotype>|                              <http://rdf.ebi.ac.uk/resource/ensembl/biotype/coding>|<http://rdf.ebi.ac.uk/resource/ensembl/confidence/high> .|\n",
            "|      <http://rdf.ebi.ac.uk/resource/ensembl/taxon#211598>|    <http://aging-research.group/resource/has_gene>|                          <http://rdf.ebi.ac.uk/resource/ensembl/ENSANIG00000000003>|<http://rdf.ebi.ac.uk/resource/ensembl/confidence/high> .|\n",
            "|    <http://aging-research.group/resource/Accipiter_nisus>|    <http://aging-research.group/resource/has_gene>|                          <http://rdf.ebi.ac.uk/resource/ensembl/ENSANIG00000000003>|<http://rdf.ebi.ac.uk/resource/ensembl/confidence/high> .|\n",
            "|<http://rdf.ebi.ac.uk/resource/ensembl/ENSANIG00000000003>|<http://rdf.ebi.ac.uk/resource/ensembl/has_biotype>|                              <http://rdf.ebi.ac.uk/resource/ensembl/biotype/coding>|<http://rdf.ebi.ac.uk/resource/ensembl/confidence/high> .|\n",
            "|      <http://rdf.ebi.ac.uk/resource/ensembl/taxon#211598>|    <http://aging-research.group/resource/has_gene>|                          <http://rdf.ebi.ac.uk/resource/ensembl/ENSANIG00000000004>|<http://rdf.ebi.ac.uk/resource/ensembl/confidence/high> .|\n",
            "|    <http://aging-research.group/resource/Accipiter_nisus>|    <http://aging-research.group/resource/has_gene>|                          <http://rdf.ebi.ac.uk/resource/ensembl/ENSANIG00000000004>|<http://rdf.ebi.ac.uk/resource/ensembl/confidence/high> .|\n",
            "|<http://rdf.ebi.ac.uk/resource/ensembl/ENSANIG00000000004>|       <http://www.w3.org/2000/01/rdf-schema#label>|                                                                              \"CD93\"|<http://rdf.ebi.ac.uk/resource/ensembl/confidence/high> .|\n",
            "|<http://rdf.ebi.ac.uk/resource/ensembl/ENSANIG00000000004>| <http://www.w3.org/2000/01/rdf-schema#description>|                                 \"CD93 molecule [Source:HGNC Symbol;Acc:HGNC:15855]\"|<http://rdf.ebi.ac.uk/resource/ensembl/confidence/high> .|\n",
            "|<http://rdf.ebi.ac.uk/resource/ensembl/ENSANIG00000000004>|<http://rdf.ebi.ac.uk/resource/ensembl/has_biotype>|                              <http://rdf.ebi.ac.uk/resource/ensembl/biotype/coding>|<http://rdf.ebi.ac.uk/resource/ensembl/confidence/high> .|\n",
            "|      <http://rdf.ebi.ac.uk/resource/ensembl/taxon#211598>|    <http://aging-research.group/resource/has_gene>|                          <http://rdf.ebi.ac.uk/resource/ensembl/ENSANIG00000000005>|<http://rdf.ebi.ac.uk/resource/ensembl/confidence/high> .|\n",
            "|    <http://aging-research.group/resource/Accipiter_nisus>|    <http://aging-research.group/resource/has_gene>|                          <http://rdf.ebi.ac.uk/resource/ensembl/ENSANIG00000000005>|<http://rdf.ebi.ac.uk/resource/ensembl/confidence/high> .|\n",
            "|<http://rdf.ebi.ac.uk/resource/ensembl/ENSANIG00000000005>|<http://rdf.ebi.ac.uk/resource/ensembl/has_biotype>|                              <http://rdf.ebi.ac.uk/resource/ensembl/biotype/coding>|<http://rdf.ebi.ac.uk/resource/ensembl/confidence/high> .|\n",
            "|      <http://rdf.ebi.ac.uk/resource/ensembl/taxon#211598>|    <http://aging-research.group/resource/has_gene>|                          <http://rdf.ebi.ac.uk/resource/ensembl/ENSANIG00000000006>|<http://rdf.ebi.ac.uk/resource/ensembl/confidence/high> .|\n",
            "|    <http://aging-research.group/resource/Accipiter_nisus>|    <http://aging-research.group/resource/has_gene>|                          <http://rdf.ebi.ac.uk/resource/ensembl/ENSANIG00000000006>|<http://rdf.ebi.ac.uk/resource/ensembl/confidence/high> .|\n",
            "|<http://rdf.ebi.ac.uk/resource/ensembl/ENSANIG00000000006>|       <http://www.w3.org/2000/01/rdf-schema#label>|                                                                              \"GZF1\"|<http://rdf.ebi.ac.uk/resource/ensembl/confidence/high> .|\n",
            "|<http://rdf.ebi.ac.uk/resource/ensembl/ENSANIG00000000006>| <http://www.w3.org/2000/01/rdf-schema#description>|          \"GDNF inducible zinc finger protein 1 [Source:HGNC Symbol;Acc:HGNC:15808]\"|<http://rdf.ebi.ac.uk/resource/ensembl/confidence/high> .|\n",
            "|<http://rdf.ebi.ac.uk/resource/ensembl/ENSANIG00000000006>|<http://rdf.ebi.ac.uk/resource/ensembl/has_biotype>|                              <http://rdf.ebi.ac.uk/resource/ensembl/biotype/coding>|<http://rdf.ebi.ac.uk/resource/ensembl/confidence/high> .|\n",
            "|      <http://rdf.ebi.ac.uk/resource/ensembl/taxon#211598>|    <http://aging-research.group/resource/has_gene>|                          <http://rdf.ebi.ac.uk/resource/ensembl/ENSANIG00000000007>|<http://rdf.ebi.ac.uk/resource/ensembl/confidence/high> .|\n",
            "|    <http://aging-research.group/resource/Accipiter_nisus>|    <http://aging-research.group/resource/has_gene>|                          <http://rdf.ebi.ac.uk/resource/ensembl/ENSANIG00000000007>|<http://rdf.ebi.ac.uk/resource/ensembl/confidence/high> .|\n",
            "|<http://rdf.ebi.ac.uk/resource/ensembl/ENSANIG00000000007>|<http://rdf.ebi.ac.uk/resource/ensembl/has_biotype>|                              <http://rdf.ebi.ac.uk/resource/ensembl/biotype/coding>|<http://rdf.ebi.ac.uk/resource/ensembl/confidence/high> .|\n",
            "|      <http://rdf.ebi.ac.uk/resource/ensembl/taxon#211598>|    <http://aging-research.group/resource/has_gene>|                          <http://rdf.ebi.ac.uk/resource/ensembl/ENSANIG00000000008>|<http://rdf.ebi.ac.uk/resource/ensembl/confidence/high> .|\n",
            "|    <http://aging-research.group/resource/Accipiter_nisus>|    <http://aging-research.group/resource/has_gene>|                          <http://rdf.ebi.ac.uk/resource/ensembl/ENSANIG00000000008>|<http://rdf.ebi.ac.uk/resource/ensembl/confidence/high> .|\n",
            "|<http://rdf.ebi.ac.uk/resource/ensembl/ENSANIG00000000008>|<http://rdf.ebi.ac.uk/resource/ensembl/has_biotype>|                              <http://rdf.ebi.ac.uk/resource/ensembl/biotype/coding>|<http://rdf.ebi.ac.uk/resource/ensembl/confidence/high> .|\n",
            "|      <http://rdf.ebi.ac.uk/resource/ensembl/taxon#211598>|    <http://aging-research.group/resource/has_gene>|                          <http://rdf.ebi.ac.uk/resource/ensembl/ENSANIG00000000009>|<http://rdf.ebi.ac.uk/resource/ensembl/confidence/high> .|\n",
            "|    <http://aging-research.group/resource/Accipiter_nisus>|    <http://aging-research.group/resource/has_gene>|                          <http://rdf.ebi.ac.uk/resource/ensembl/ENSANIG00000000009>|<http://rdf.ebi.ac.uk/resource/ensembl/confidence/high> .|\n",
            "|<http://rdf.ebi.ac.uk/resource/ensembl/ENSANIG00000000009>|       <http://www.w3.org/2000/01/rdf-schema#label>|                                                                             \"ATP9A\"|<http://rdf.ebi.ac.uk/resource/ensembl/confidence/high> .|\n",
            "|<http://rdf.ebi.ac.uk/resource/ensembl/ENSANIG00000000009>| <http://www.w3.org/2000/01/rdf-schema#description>|\"ATPase phospholipid transporting 9A (putative) [Source:HGNC Symbol;Acc:HGNC:13540]\"|<http://rdf.ebi.ac.uk/resource/ensembl/confidence/high> .|\n",
            "|<http://rdf.ebi.ac.uk/resource/ensembl/ENSANIG00000000009>|<http://rdf.ebi.ac.uk/resource/ensembl/has_biotype>|                              <http://rdf.ebi.ac.uk/resource/ensembl/biotype/coding>|<http://rdf.ebi.ac.uk/resource/ensembl/confidence/high> .|\n",
            "|      <http://rdf.ebi.ac.uk/resource/ensembl/taxon#211598>|    <http://aging-research.group/resource/has_gene>|                          <http://rdf.ebi.ac.uk/resource/ensembl/ENSANIG00000000010>|<http://rdf.ebi.ac.uk/resource/ensembl/confidence/high> .|\n",
            "|    <http://aging-research.group/resource/Accipiter_nisus>|    <http://aging-research.group/resource/has_gene>|                          <http://rdf.ebi.ac.uk/resource/ensembl/ENSANIG00000000010>|<http://rdf.ebi.ac.uk/resource/ensembl/confidence/high> .|\n",
            "|<http://rdf.ebi.ac.uk/resource/ensembl/ENSANIG00000000010>|<http://rdf.ebi.ac.uk/resource/ensembl/has_biotype>|                              <http://rdf.ebi.ac.uk/resource/ensembl/biotype/coding>|<http://rdf.ebi.ac.uk/resource/ensembl/confidence/high> .|\n",
            "|      <http://rdf.ebi.ac.uk/resource/ensembl/taxon#211598>|    <http://aging-research.group/resource/has_gene>|                          <http://rdf.ebi.ac.uk/resource/ensembl/ENSANIG00000000011>|<http://rdf.ebi.ac.uk/resource/ensembl/confidence/high> .|\n",
            "|    <http://aging-research.group/resource/Accipiter_nisus>|    <http://aging-research.group/resource/has_gene>|                          <http://rdf.ebi.ac.uk/resource/ensembl/ENSANIG00000000011>|<http://rdf.ebi.ac.uk/resource/ensembl/confidence/high> .|\n",
            "|<http://rdf.ebi.ac.uk/resource/ensembl/ENSANIG00000000011>|       <http://www.w3.org/2000/01/rdf-schema#label>|                                                                             \"ACER1\"|<http://rdf.ebi.ac.uk/resource/ensembl/confidence/high> .|\n",
            "|<http://rdf.ebi.ac.uk/resource/ensembl/ENSANIG00000000011>| <http://www.w3.org/2000/01/rdf-schema#description>|                         \"alkaline ceramidase 1 [Source:HGNC Symbol;Acc:HGNC:18356]\"|<http://rdf.ebi.ac.uk/resource/ensembl/confidence/high> .|\n",
            "|<http://rdf.ebi.ac.uk/resource/ensembl/ENSANIG00000000011>|<http://rdf.ebi.ac.uk/resource/ensembl/has_biotype>|                              <http://rdf.ebi.ac.uk/resource/ensembl/biotype/coding>|<http://rdf.ebi.ac.uk/resource/ensembl/confidence/high> .|\n",
            "+----------------------------------------------------------+---------------------------------------------------+------------------------------------------------------------------------------------+---------------------------------------------------------+\n",
            "only showing top 40 rows\n",
            "\n"
          ],
          "output_type" : "stream"
        }
      ]
    },
    {
      "cell_type" : "code",
      "execution_count" : 10,
      "metadata" : {
        "cell.metadata.exec_info" : {
          "startTs" : 1580844045362,
          "endTs" : 1580844120876
        },
        "language" : "scala"
      },
      "language" : "scala",
      "source" : [
        "genes_trs.writeTSV(\"/data/databases/graphdb/import/genes_lookup.nt\", header = false)"
      ],
      "outputs" : [
        {
          "name" : "stdout",
          "text" : [
            "parts of /data/databases/graphdb/import/genes_lookup.nt merged!",
            "\n"
          ],
          "output_type" : "stream"
        },
        {
          "execution_count" : 10,
          "data" : {
            "text/plain" : [
              "/data/databases/graphdb/import/genes_lookup.nt"
            ]
          },
          "metadata" : {
            "name" : "Out",
            "type" : "String"
          },
          "output_type" : "execute_result"
        }
      ]
    },
    {
      "cell_type" : "code",
      "execution_count" : 12,
      "metadata" : {
        "language" : "scala"
      },
      "language" : "scala",
      "source" : [
      ],
      "outputs" : [
      ]
    }
  ]
}