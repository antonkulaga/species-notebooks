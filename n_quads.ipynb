{
  "metadata" : {
    "config" : {
      "dependencies" : {
        "scala" : [
          "group.research.aging:spark-extensions_2.12:0.0.8.2"
        ]
      },
      "exclusions" : [
      ],
      "repositories" : [
        {
          "maven" : {
            "base" : "http://central.maven.org/maven2/"
          }
        },
        {
          "maven" : {
            "base" : "http://oss.sonatype.org/content/repositories/snapshots"
          }
        },
        {
          "maven" : {
            "base" : "https://dl.bintray.com/comp-bio-aging/main/"
          }
        }
      ],
      "sparkConfig" : {
        "master" : "http://spark:7070[28]"
      }
    }
  },
  "nbformat" : 4,
  "nbformat_minor" : 0,
  "cells" : [
    {
      "cell_type" : "markdown",
      "execution_count" : 0,
      "metadata" : {
        "language" : "text"
      },
      "language" : "text",
      "source" : [
        "# **n-quads**\n",
        "\n",
        "saving lookups<br>\n",
        "\n",
        "\n"
      ],
      "outputs" : [
      ]
    },
    {
      "cell_type" : "code",
      "execution_count" : 1,
      "metadata" : {
        "jupyter.outputs_hidden" : true,
        "cell.metadata.exec_info" : {
          "startTs" : 1581638591308,
          "endTs" : 1581638593322
        },
        "language" : "scala"
      },
      "language" : "scala",
      "source" : [
        "import org.apache.spark.rdd._\n",
        "import org.apache.spark.sql._\n",
        "import org.apache.spark.sql.types.StructType\n",
        "import org.apache.spark.sql.functions._\n",
        "import group.research.aging.spark.extensions._\n",
        "import group.research.aging.spark.extensions.functions._\n",
        "import group.research.aging.spark.extensions.functions.ConcatenateString\n",
        "import group.research.aging.spark.extensions.functions.Concatenate\n",
        "import ammonite.ops._\n",
        "import ammonite.ops.ImplicitWd._"
      ],
      "outputs" : [
      ]
    },
    {
      "cell_type" : "code",
      "execution_count" : 2,
      "metadata" : {
        "cell.metadata.exec_info" : {
          "startTs" : 1581638593355,
          "endTs" : 1581638607314
        },
        "language" : "scala"
      },
      "language" : "scala",
      "source" : [
        "val species_n = spark.read.parquet(\"/data/ensembl/99/website/species_lookup.parquet\").na.fill(\"\")\n",
        ".as[(java.lang.Integer, String, String, String, String, java.lang.Double, java.lang.Double,java.lang.Double, java.lang.Double,String,String,String)]\n",
        "species_n.show(10,10000)"
      ],
      "outputs" : [
        {
          "name" : "stdout",
          "text" : [
            "+--------+------------------------+--------------------+------------------------------------------------+-----+--------+------+--------------+-------------+---------------+-----------+------------+\n",
            "|taxon_id|         scientific_name|         common_name|                                             url|class|lifespan|mass_g|metabolic_rate|temperature_k|specimen_origin|sample_size|data_quality|\n",
            "+--------+------------------------+--------------------+------------------------------------------------+-----+--------+------+--------------+-------------+---------------+-----------+------------+\n",
            "| 2489341|     Strigops habroptila|              Kakapo|     https://www.ensembl.org/Strigops_habroptila| Aves|    60.0|  null|          null|         null|      captivity|      small|  acceptable|\n",
            "|  132585|    Anser brachyrhynchus|   Pink-footed goose|    https://www.ensembl.org/Anser_brachyrhynchus| Aves|    40.9|  null|          null|         null|           wild|     medium|  acceptable|\n",
            "|    9031|           Gallus gallus",
            "|      Red junglefowl|           https://www.ensembl.org/Gallus_gallus| Aves|    30.0|2710.0|         6.005|         null|      captivity|      large|  acceptable|\n",
            "|    9054|     Phasianus colchicus|     Common pheasant|     https://www.ensembl.org/Phasianus_colchicus| Aves|    27.0|  null|          null|         null|      captivity|      large|        high|\n",
            "|    9135|         Serinus canaria|        House canary|         https://www.ensembl.org/Serinus_canaria| Aves|    24.0|  13.3|      0.230065|       314.15|      captivity|     medium|  acceptable|\n",
            "|    9049|          Pavo cristatus|      Indian peafowl|          https://www.ensembl.org/Pavo_cristatus| Aves|    23.2|  null|          null|         null|      captivity|      large|  acceptable|\n",
            "|   13146| Melopsittacus undulatus|          Budgerigar| https://www.ensembl.org/Melopsittacus_undulatus| Aves|    21.0|  25.2|        0.3035|       314.15|      captivity|      large|        high|\n",
            "|  211598|         Accipiter nisus|Eurasian sparrowhawk|         htt",
            "ps://www.ensembl.org/Accipiter_nisus| Aves|    20.2| 135.0|        0.9516|         null|           wild|     medium|  acceptable|\n",
            "|    8790|Dromaius novaehollandiae|                 Emu|https://www.ensembl.org/Dromaius_novaehollandiae| Aves|    16.6|  null|          null|         null|      captivity|      large|  acceptable|\n",
            "|    9157|             Parus major|           Great tit|             https://www.ensembl.org/Parus_major| Aves|    15.4|  null|          null|         null|           wild|      large|  acceptable|\n",
            "+--------+------------------------+--------------------+------------------------------------------------+-----+--------+------+--------------+-------------+---------------+-----------+------------+\n",
            "only showing top 10 rows\n",
            "\n"
          ],
          "output_type" : "stream"
        }
      ]
    },
    {
      "cell_type" : "code",
      "execution_count" : 3,
      "metadata" : {
        "cell.metadata.exec_info" : {
          "startTs" : 1581638607325,
          "endTs" : 1581638607668
        },
        "language" : "scala"
      },
      "language" : "scala",
      "source" : [
        "val prefix = \"http://aging-research.group/resource/\"\n",
        "val prefix_ensembl = \"http://rdf.ebi.ac.uk/resource/ensembl/\"\n",
        "val prefix_samples = \"http://aging-research.group/samples/\"\n",
        "def samp(str: String) = \"<\" +prefix_samples +str.replace(\" \", \"_\")+\">\"\n",
        "def pref(str: String) = \"<\" +prefix +str.replace(\" \", \"_\")+\">\" \n",
        "def ens(str: String) =  \"<\" +prefix_ensembl +str.replace(\" \", \"_\")+\">\"\n",
        "def tax(str: String) = ens(\"taxon#\"+str)\n",
        "def str(s: String) = if(s==null) \"\" else s\"\"\"\"${s.replace(\"\\\"\", \"\\\\\\\"\")}\"\"\"\""
      ],
      "outputs" : [
      ]
    },
    {
      "cell_type" : "code",
      "execution_count" : 4,
      "metadata" : {
        "cell.metadata.exec_info" : {
          "startTs" : 1581638607675,
          "endTs" : 1581638608176
        },
        "language" : "scala"
      },
      "language" : "scala",
      "source" : [
        "def trip(s: String, p: String, o: String):List[(String, String, String, String)] = if(s==null || p == null || o == null ||\n",
        " s == \"\" ||  p == \"\" || o == \"\" || o==\"\\\\N\" || o.startsWith(\"\\\"\\\\N\\\"\") || s == \"\\\\N\" || s == \"\\\"\\\\N\\\"\") Nil else List((s,p,o, \"<\" + \"http://rdf.ebi.ac.uk/resource/ensembl/confidence/high\" + \"> .\"))\n",
        "\n",
        "def sp(taxon_id: java.lang.Integer, scientific_name: String)(p: String, o: Any) = if(taxon_id==null || o == null) Nil else {\n",
        "      trip(tax(taxon_id.toString), pref(p), o.toString)++\n",
        "        trip(pref(scientific_name),pref(p), o.toString) \n",
        "}"
      ],
      "outputs" : [
      ]
    },
    {
      "cell_type" : "code",
      "execution_count" : 5,
      "metadata" : {
        "cell.metadata.exec_info" : {
          "startTs" : 1581638608181,
          "endTs" : 1581638609659
        },
        "language" : "scala"
      },
      "language" : "scala",
      "source" : [
        "val trs = species_n.flatMap{\n",
        "    case (taxon_id,scientific_name,common_name,url,animal_class,\n",
        "    lifespan,mass_g,metabolic_rate,temperature_k,\n",
        "    specimen_origin,sample_size,data_quality) =>\n",
        "        trip(tax(taxon_id.toString), pref(\"has_scientific_name\"), pref(scientific_name))++\n",
        "        trip(pref(scientific_name),pref(\"has_taxon\"), tax(taxon_id.toString))++\n",
        "        sp(taxon_id, scientific_name)(\"has_common_name\", str(common_name))++\n",
        "        sp(taxon_id, scientific_name)(\"has_lifespan\", lifespan)++\n",
        "        sp(taxon_id, scientific_name)(\"has_temperature_kelvin\", temperature_k)++\n",
        "        sp(taxon_id, scientific_name)(\"has_mass_g\", mass_g) ++\n",
        "        sp(taxon_id, scientific_name)(\"has_metabolic_rate\", metabolic_rate) ++\n",
        "        sp(taxon_id, scientific_name)(\"is_animal_class\", ens(animal_class)) ++\n",
        "        sp(taxon_id, scientific_name)(\"has_ensembl_url\", \"<\"+url+\">\") ++\n",
        "        Nil\n",
        "}.toDF(\"subject\", \"property\", \"object\", \"context\")\n",
        "trs.show(100,1000)"
      ],
      "outputs" : [
        {
          "name" : "stdout",
          "text" : [
            "+--------------------------------------------------------------+-------------------------------------------------------------+--------------------------------------------------------------+---------------------------------------------------------+\n",
            "|                                                       subject|                                                     property|                                                        object|                                                  context|\n",
            "+--------------------------------------------------------------+-------------------------------------------------------------+--------------------------------------------------------------+---------------------------------------------------------+\n",
            "|         <http://rdf.ebi.ac.uk/resource/ensembl/taxon#2489341>|   <http://aging-research.group/resource/has_scientific_name>|    <http://aging-research.group/resource/Strigops_habroptila>|<http://rdf.ebi.ac.uk/resource/ensembl/confidence/high> .|\n",
            "|    <http://aging-research.grou",
            "p/resource/Strigops_habroptila>|             <http://aging-research.group/resource/has_taxon>|         <http://rdf.ebi.ac.uk/resource/ensembl/taxon#2489341>|<http://rdf.ebi.ac.uk/resource/ensembl/confidence/high> .|\n",
            "|         <http://rdf.ebi.ac.uk/resource/ensembl/taxon#2489341>|       <http://aging-research.group/resource/has_common_name>|                                                      \"Kakapo\"|<http://rdf.ebi.ac.uk/resource/ensembl/confidence/high> .|\n",
            "|    <http://aging-research.group/resource/Strigops_habroptila>|       <http://aging-research.group/resource/has_common_name>|                                                      \"Kakapo\"|<http://rdf.ebi.ac.uk/resource/ensembl/confidence/high> .|\n",
            "|         <http://rdf.ebi.ac.uk/resource/ensembl/taxon#2489341>|          <http://aging-research.group/resource/has_lifespan>|                                                          60.0|<http://rdf.ebi.ac.uk/resource/ensembl/confidence/high> .|\n",
            "|    <http://aging-research.group/resource/Strigops_habroptila>|",
            "          <http://aging-research.group/resource/has_lifespan>|                                                          60.0|<http://rdf.ebi.ac.uk/resource/ensembl/confidence/high> .|\n",
            "|         <http://rdf.ebi.ac.uk/resource/ensembl/taxon#2489341>|       <http://aging-research.group/resource/is_animal_class>|                  <http://rdf.ebi.ac.uk/resource/ensembl/Aves>|<http://rdf.ebi.ac.uk/resource/ensembl/confidence/high> .|\n",
            "|    <http://aging-research.group/resource/Strigops_habroptila>|       <http://aging-research.group/resource/is_animal_class>|                  <http://rdf.ebi.ac.uk/resource/ensembl/Aves>|<http://rdf.ebi.ac.uk/resource/ensembl/confidence/high> .|\n",
            "|         <http://rdf.ebi.ac.uk/resource/ensembl/taxon#2489341>|       <http://aging-research.group/resource/has_ensembl_url>|                 <https://www.ensembl.org/Strigops_habroptila>|<http://rdf.ebi.ac.uk/resource/ensembl/confidence/high> .|\n",
            "|    <http://aging-research.group/resource/Strigops_habroptila>|       <http://aging-research.gr",
            "oup/resource/has_ensembl_url>|                 <https://www.ensembl.org/Strigops_habroptila>|<http://rdf.ebi.ac.uk/resource/ensembl/confidence/high> .|\n",
            "|          <http://rdf.ebi.ac.uk/resource/ensembl/taxon#132585>|   <http://aging-research.group/resource/has_scientific_name>|   <http://aging-research.group/resource/Anser_brachyrhynchus>|<http://rdf.ebi.ac.uk/resource/ensembl/confidence/high> .|\n",
            "|   <http://aging-research.group/resource/Anser_brachyrhynchus>|             <http://aging-research.group/resource/has_taxon>|          <http://rdf.ebi.ac.uk/resource/ensembl/taxon#132585>|<http://rdf.ebi.ac.uk/resource/ensembl/confidence/high> .|\n",
            "|          <http://rdf.ebi.ac.uk/resource/ensembl/taxon#132585>|       <http://aging-research.group/resource/has_common_name>|                                           \"Pink-footed goose\"|<http://rdf.ebi.ac.uk/resource/ensembl/confidence/high> .|\n",
            "|   <http://aging-research.group/resource/Anser_brachyrhynchus>|       <http://aging-research.group/resource/has_common_name>|  ",
            "                                         \"Pink-footed goose\"|<http://rdf.ebi.ac.uk/resource/ensembl/confidence/high> .|\n",
            "|          <http://rdf.ebi.ac.uk/resource/ensembl/taxon#132585>|          <http://aging-research.group/resource/has_lifespan>|                                                          40.9|<http://rdf.ebi.ac.uk/resource/ensembl/confidence/high> .|\n",
            "|   <http://aging-research.group/resource/Anser_brachyrhynchus>|          <http://aging-research.group/resource/has_lifespan>|                                                          40.9|<http://rdf.ebi.ac.uk/resource/ensembl/confidence/high> .|\n",
            "|          <http://rdf.ebi.ac.uk/resource/ensembl/taxon#132585>|       <http://aging-research.group/resource/is_animal_class>|                  <http://rdf.ebi.ac.uk/resource/ensembl/Aves>|<http://rdf.ebi.ac.uk/resource/ensembl/confidence/high> .|\n",
            "|   <http://aging-research.group/resource/Anser_brachyrhynchus>|       <http://aging-research.group/resource/is_animal_class>|                  <http://rdf.ebi.",
            "ac.uk/resource/ensembl/Aves>|<http://rdf.ebi.ac.uk/resource/ensembl/confidence/high> .|\n",
            "|          <http://rdf.ebi.ac.uk/resource/ensembl/taxon#132585>|       <http://aging-research.group/resource/has_ensembl_url>|                <https://www.ensembl.org/Anser_brachyrhynchus>|<http://rdf.ebi.ac.uk/resource/ensembl/confidence/high> .|\n",
            "|   <http://aging-research.group/resource/Anser_brachyrhynchus>|       <http://aging-research.group/resource/has_ensembl_url>|                <https://www.ensembl.org/Anser_brachyrhynchus>|<http://rdf.ebi.ac.uk/resource/ensembl/confidence/high> .|\n",
            "|            <http://rdf.ebi.ac.uk/resource/ensembl/taxon#9031>|   <http://aging-research.group/resource/has_scientific_name>|          <http://aging-research.group/resource/Gallus_gallus>|<http://rdf.ebi.ac.uk/resource/ensembl/confidence/high> .|\n",
            "|          <http://aging-research.group/resource/Gallus_gallus>|             <http://aging-research.group/resource/has_taxon>|            <http://rdf.ebi.ac.uk/resource/ensembl/taxon#9031>|<ht",
            "tp://rdf.ebi.ac.uk/resource/ensembl/confidence/high> .|\n",
            "|            <http://rdf.ebi.ac.uk/resource/ensembl/taxon#9031>|       <http://aging-research.group/resource/has_common_name>|                                              \"Red junglefowl\"|<http://rdf.ebi.ac.uk/resource/ensembl/confidence/high> .|\n",
            "|          <http://aging-research.group/resource/Gallus_gallus>|       <http://aging-research.group/resource/has_common_name>|                                              \"Red junglefowl\"|<http://rdf.ebi.ac.uk/resource/ensembl/confidence/high> .|\n",
            "|            <http://rdf.ebi.ac.uk/resource/ensembl/taxon#9031>|          <http://aging-research.group/resource/has_lifespan>|                                                          30.0|<http://rdf.ebi.ac.uk/resource/ensembl/confidence/high> .|\n",
            "|          <http://aging-research.group/resource/Gallus_gallus>|          <http://aging-research.group/resource/has_lifespan>|                                                          30.0|<http://rdf.ebi.ac.uk/resource/ense",
            "mbl/confidence/high> .|\n",
            "|            <http://rdf.ebi.ac.uk/resource/ensembl/taxon#9031>|            <http://aging-research.group/resource/has_mass_g>|                                                        2710.0|<http://rdf.ebi.ac.uk/resource/ensembl/confidence/high> .|\n",
            "|          <http://aging-research.group/resource/Gallus_gallus>|            <http://aging-research.group/resource/has_mass_g>|                                                        2710.0|<http://rdf.ebi.ac.uk/resource/ensembl/confidence/high> .|\n",
            "|            <http://rdf.ebi.ac.uk/resource/ensembl/taxon#9031>|    <http://aging-research.group/resource/has_metabolic_rate>|                                                         6.005|<http://rdf.ebi.ac.uk/resource/ensembl/confidence/high> .|\n",
            "|          <http://aging-research.group/resource/Gallus_gallus>|    <http://aging-research.group/resource/has_metabolic_rate>|                                                         6.005|<http://rdf.ebi.ac.uk/resource/ensembl/confidence/high> .|\n",
            "|       ",
            "     <http://rdf.ebi.ac.uk/resource/ensembl/taxon#9031>|       <http://aging-research.group/resource/is_animal_class>|                  <http://rdf.ebi.ac.uk/resource/ensembl/Aves>|<http://rdf.ebi.ac.uk/resource/ensembl/confidence/high> .|\n",
            "|          <http://aging-research.group/resource/Gallus_gallus>|       <http://aging-research.group/resource/is_animal_class>|                  <http://rdf.ebi.ac.uk/resource/ensembl/Aves>|<http://rdf.ebi.ac.uk/resource/ensembl/confidence/high> .|\n",
            "|            <http://rdf.ebi.ac.uk/resource/ensembl/taxon#9031>|       <http://aging-research.group/resource/has_ensembl_url>|                       <https://www.ensembl.org/Gallus_gallus>|<http://rdf.ebi.ac.uk/resource/ensembl/confidence/high> .|\n",
            "|          <http://aging-research.group/resource/Gallus_gallus>|       <http://aging-research.group/resource/has_ensembl_url>|                       <https://www.ensembl.org/Gallus_gallus>|<http://rdf.ebi.ac.uk/resource/ensembl/confidence/high> .|\n",
            "|            <http://rdf.ebi.ac.uk/resou",
            "rce/ensembl/taxon#9054>|   <http://aging-research.group/resource/has_scientific_name>|    <http://aging-research.group/resource/Phasianus_colchicus>|<http://rdf.ebi.ac.uk/resource/ensembl/confidence/high> .|\n",
            "|    <http://aging-research.group/resource/Phasianus_colchicus>|             <http://aging-research.group/resource/has_taxon>|            <http://rdf.ebi.ac.uk/resource/ensembl/taxon#9054>|<http://rdf.ebi.ac.uk/resource/ensembl/confidence/high> .|\n",
            "|            <http://rdf.ebi.ac.uk/resource/ensembl/taxon#9054>|       <http://aging-research.group/resource/has_common_name>|                                             \"Common pheasant\"|<http://rdf.ebi.ac.uk/resource/ensembl/confidence/high> .|\n",
            "|    <http://aging-research.group/resource/Phasianus_colchicus>|       <http://aging-research.group/resource/has_common_name>|                                             \"Common pheasant\"|<http://rdf.ebi.ac.uk/resource/ensembl/confidence/high> .|\n",
            "|            <http://rdf.ebi.ac.uk/resource/ensembl/taxon#9054>|        ",
            "  <http://aging-research.group/resource/has_lifespan>|                                                          27.0|<http://rdf.ebi.ac.uk/resource/ensembl/confidence/high> .|\n",
            "|    <http://aging-research.group/resource/Phasianus_colchicus>|          <http://aging-research.group/resource/has_lifespan>|                                                          27.0|<http://rdf.ebi.ac.uk/resource/ensembl/confidence/high> .|\n",
            "|            <http://rdf.ebi.ac.uk/resource/ensembl/taxon#9054>|       <http://aging-research.group/resource/is_animal_class>|                  <http://rdf.ebi.ac.uk/resource/ensembl/Aves>|<http://rdf.ebi.ac.uk/resource/ensembl/confidence/high> .|\n",
            "|    <http://aging-research.group/resource/Phasianus_colchicus>|       <http://aging-research.group/resource/is_animal_class>|                  <http://rdf.ebi.ac.uk/resource/ensembl/Aves>|<http://rdf.ebi.ac.uk/resource/ensembl/confidence/high> .|\n",
            "|            <http://rdf.ebi.ac.uk/resource/ensembl/taxon#9054>|       <http://aging-research.group/reso",
            "urce/has_ensembl_url>|                 <https://www.ensembl.org/Phasianus_colchicus>|<http://rdf.ebi.ac.uk/resource/ensembl/confidence/high> .|\n",
            "|    <http://aging-research.group/resource/Phasianus_colchicus>|       <http://aging-research.group/resource/has_ensembl_url>|                 <https://www.ensembl.org/Phasianus_colchicus>|<http://rdf.ebi.ac.uk/resource/ensembl/confidence/high> .|\n",
            "|            <http://rdf.ebi.ac.uk/resource/ensembl/taxon#9135>|   <http://aging-research.group/resource/has_scientific_name>|        <http://aging-research.group/resource/Serinus_canaria>|<http://rdf.ebi.ac.uk/resource/ensembl/confidence/high> .|\n",
            "|        <http://aging-research.group/resource/Serinus_canaria>|             <http://aging-research.group/resource/has_taxon>|            <http://rdf.ebi.ac.uk/resource/ensembl/taxon#9135>|<http://rdf.ebi.ac.uk/resource/ensembl/confidence/high> .|\n",
            "|            <http://rdf.ebi.ac.uk/resource/ensembl/taxon#9135>|       <http://aging-research.group/resource/has_common_name>|          ",
            "                                      \"House canary\"|<http://rdf.ebi.ac.uk/resource/ensembl/confidence/high> .|\n",
            "|        <http://aging-research.group/resource/Serinus_canaria>|       <http://aging-research.group/resource/has_common_name>|                                                \"House canary\"|<http://rdf.ebi.ac.uk/resource/ensembl/confidence/high> .|\n",
            "|            <http://rdf.ebi.ac.uk/resource/ensembl/taxon#9135>|          <http://aging-research.group/resource/has_lifespan>|                                                          24.0|<http://rdf.ebi.ac.uk/resource/ensembl/confidence/high> .|\n",
            "|        <http://aging-research.group/resource/Serinus_canaria>|          <http://aging-research.group/resource/has_lifespan>|                                                          24.0|<http://rdf.ebi.ac.uk/resource/ensembl/confidence/high> .|\n",
            "|            <http://rdf.ebi.ac.uk/resource/ensembl/taxon#9135>|<http://aging-research.group/resource/has_temperature_kelvin>|                                          ",
            "              314.15|<http://rdf.ebi.ac.uk/resource/ensembl/confidence/high> .|\n",
            "|        <http://aging-research.group/resource/Serinus_canaria>|<http://aging-research.group/resource/has_temperature_kelvin>|                                                        314.15|<http://rdf.ebi.ac.uk/resource/ensembl/confidence/high> .|\n",
            "|            <http://rdf.ebi.ac.uk/resource/ensembl/taxon#9135>|            <http://aging-research.group/resource/has_mass_g>|                                                          13.3|<http://rdf.ebi.ac.uk/resource/ensembl/confidence/high> .|\n",
            "|        <http://aging-research.group/resource/Serinus_canaria>|            <http://aging-research.group/resource/has_mass_g>|                                                          13.3|<http://rdf.ebi.ac.uk/resource/ensembl/confidence/high> .|\n",
            "|            <http://rdf.ebi.ac.uk/resource/ensembl/taxon#9135>|    <http://aging-research.group/resource/has_metabolic_rate>|                                                      0.230065|<http://rdf",
            ".ebi.ac.uk/resource/ensembl/confidence/high> .|\n",
            "|        <http://aging-research.group/resource/Serinus_canaria>|    <http://aging-research.group/resource/has_metabolic_rate>|                                                      0.230065|<http://rdf.ebi.ac.uk/resource/ensembl/confidence/high> .|\n",
            "|            <http://rdf.ebi.ac.uk/resource/ensembl/taxon#9135>|       <http://aging-research.group/resource/is_animal_class>|                  <http://rdf.ebi.ac.uk/resource/ensembl/Aves>|<http://rdf.ebi.ac.uk/resource/ensembl/confidence/high> .|\n",
            "|        <http://aging-research.group/resource/Serinus_canaria>|       <http://aging-research.group/resource/is_animal_class>|                  <http://rdf.ebi.ac.uk/resource/ensembl/Aves>|<http://rdf.ebi.ac.uk/resource/ensembl/confidence/high> .|\n",
            "|            <http://rdf.ebi.ac.uk/resource/ensembl/taxon#9135>|       <http://aging-research.group/resource/has_ensembl_url>|                     <https://www.ensembl.org/Serinus_canaria>|<http://rdf.ebi.ac.uk/resource/ensembl/conf",
            "idence/high> .|\n",
            "|        <http://aging-research.group/resource/Serinus_canaria>|       <http://aging-research.group/resource/has_ensembl_url>|                     <https://www.ensembl.org/Serinus_canaria>|<http://rdf.ebi.ac.uk/resource/ensembl/confidence/high> .|\n",
            "|            <http://rdf.ebi.ac.uk/resource/ensembl/taxon#9049>|   <http://aging-research.group/resource/has_scientific_name>|         <http://aging-research.group/resource/Pavo_cristatus>|<http://rdf.ebi.ac.uk/resource/ensembl/confidence/high> .|\n",
            "|         <http://aging-research.group/resource/Pavo_cristatus>|             <http://aging-research.group/resource/has_taxon>|            <http://rdf.ebi.ac.uk/resource/ensembl/taxon#9049>|<http://rdf.ebi.ac.uk/resource/ensembl/confidence/high> .|\n",
            "|            <http://rdf.ebi.ac.uk/resource/ensembl/taxon#9049>|       <http://aging-research.group/resource/has_common_name>|                                              \"Indian peafowl\"|<http://rdf.ebi.ac.uk/resource/ensembl/confidence/high> .|\n",
            "|         <http:",
            "//aging-research.group/resource/Pavo_cristatus>|       <http://aging-research.group/resource/has_common_name>|                                              \"Indian peafowl\"|<http://rdf.ebi.ac.uk/resource/ensembl/confidence/high> .|\n",
            "|            <http://rdf.ebi.ac.uk/resource/ensembl/taxon#9049>|          <http://aging-research.group/resource/has_lifespan>|                                                          23.2|<http://rdf.ebi.ac.uk/resource/ensembl/confidence/high> .|\n",
            "|         <http://aging-research.group/resource/Pavo_cristatus>|          <http://aging-research.group/resource/has_lifespan>|                                                          23.2|<http://rdf.ebi.ac.uk/resource/ensembl/confidence/high> .|\n",
            "|            <http://rdf.ebi.ac.uk/resource/ensembl/taxon#9049>|       <http://aging-research.group/resource/is_animal_class>|                  <http://rdf.ebi.ac.uk/resource/ensembl/Aves>|<http://rdf.ebi.ac.uk/resource/ensembl/confidence/high> .|\n",
            "|         <http://aging-research.group/resource/",
            "Pavo_cristatus>|       <http://aging-research.group/resource/is_animal_class>|                  <http://rdf.ebi.ac.uk/resource/ensembl/Aves>|<http://rdf.ebi.ac.uk/resource/ensembl/confidence/high> .|\n",
            "|            <http://rdf.ebi.ac.uk/resource/ensembl/taxon#9049>|       <http://aging-research.group/resource/has_ensembl_url>|                      <https://www.ensembl.org/Pavo_cristatus>|<http://rdf.ebi.ac.uk/resource/ensembl/confidence/high> .|\n",
            "|         <http://aging-research.group/resource/Pavo_cristatus>|       <http://aging-research.group/resource/has_ensembl_url>|                      <https://www.ensembl.org/Pavo_cristatus>|<http://rdf.ebi.ac.uk/resource/ensembl/confidence/high> .|\n",
            "|           <http://rdf.ebi.ac.uk/resource/ensembl/taxon#13146>|   <http://aging-research.group/resource/has_scientific_name>|<http://aging-research.group/resource/Melopsittacus_undulatus>|<http://rdf.ebi.ac.uk/resource/ensembl/confidence/high> .|\n",
            "|<http://aging-research.group/resource/Melopsittacus_undulatus>|             <ht",
            "tp://aging-research.group/resource/has_taxon>|           <http://rdf.ebi.ac.uk/resource/ensembl/taxon#13146>|<http://rdf.ebi.ac.uk/resource/ensembl/confidence/high> .|\n",
            "|           <http://rdf.ebi.ac.uk/resource/ensembl/taxon#13146>|       <http://aging-research.group/resource/has_common_name>|                                                  \"Budgerigar\"|<http://rdf.ebi.ac.uk/resource/ensembl/confidence/high> .|\n",
            "|<http://aging-research.group/resource/Melopsittacus_undulatus>|       <http://aging-research.group/resource/has_common_name>|                                                  \"Budgerigar\"|<http://rdf.ebi.ac.uk/resource/ensembl/confidence/high> .|\n",
            "|           <http://rdf.ebi.ac.uk/resource/ensembl/taxon#13146>|          <http://aging-research.group/resource/has_lifespan>|                                                          21.0|<http://rdf.ebi.ac.uk/resource/ensembl/confidence/high> .|\n",
            "|<http://aging-research.group/resource/Melopsittacus_undulatus>|          <http://aging-research.group/resource/",
            "has_lifespan>|                                                          21.0|<http://rdf.ebi.ac.uk/resource/ensembl/confidence/high> .|\n",
            "|           <http://rdf.ebi.ac.uk/resource/ensembl/taxon#13146>|<http://aging-research.group/resource/has_temperature_kelvin>|                                                        314.15|<http://rdf.ebi.ac.uk/resource/ensembl/confidence/high> .|\n",
            "|<http://aging-research.group/resource/Melopsittacus_undulatus>|<http://aging-research.group/resource/has_temperature_kelvin>|                                                        314.15|<http://rdf.ebi.ac.uk/resource/ensembl/confidence/high> .|\n",
            "|           <http://rdf.ebi.ac.uk/resource/ensembl/taxon#13146>|            <http://aging-research.group/resource/has_mass_g>|                                                          25.2|<http://rdf.ebi.ac.uk/resource/ensembl/confidence/high> .|\n",
            "|<http://aging-research.group/resource/Melopsittacus_undulatus>|            <http://aging-research.group/resource/has_mass_g>|                  ",
            "                                        25.2|<http://rdf.ebi.ac.uk/resource/ensembl/confidence/high> .|\n",
            "|           <http://rdf.ebi.ac.uk/resource/ensembl/taxon#13146>|    <http://aging-research.group/resource/has_metabolic_rate>|                                                        0.3035|<http://rdf.ebi.ac.uk/resource/ensembl/confidence/high> .|\n",
            "|<http://aging-research.group/resource/Melopsittacus_undulatus>|    <http://aging-research.group/resource/has_metabolic_rate>|                                                        0.3035|<http://rdf.ebi.ac.uk/resource/ensembl/confidence/high> .|\n",
            "|           <http://rdf.ebi.ac.uk/resource/ensembl/taxon#13146>|       <http://aging-research.group/resource/is_animal_class>|                  <http://rdf.ebi.ac.uk/resource/ensembl/Aves>|<http://rdf.ebi.ac.uk/resource/ensembl/confidence/high> .|\n",
            "|<http://aging-research.group/resource/Melopsittacus_undulatus>|       <http://aging-research.group/resource/is_animal_class>|                  <http://rdf.ebi.ac.uk/resource/e",
            "nsembl/Aves>|<http://rdf.ebi.ac.uk/resource/ensembl/confidence/high> .|\n",
            "|           <http://rdf.ebi.ac.uk/resource/ensembl/taxon#13146>|       <http://aging-research.group/resource/has_ensembl_url>|             <https://www.ensembl.org/Melopsittacus_undulatus>|<http://rdf.ebi.ac.uk/resource/ensembl/confidence/high> .|\n",
            "|<http://aging-research.group/resource/Melopsittacus_undulatus>|       <http://aging-research.group/resource/has_ensembl_url>|             <https://www.ensembl.org/Melopsittacus_undulatus>|<http://rdf.ebi.ac.uk/resource/ensembl/confidence/high> .|\n",
            "|          <http://rdf.ebi.ac.uk/resource/ensembl/taxon#211598>|   <http://aging-research.group/resource/has_scientific_name>|        <http://aging-research.group/resource/Accipiter_nisus>|<http://rdf.ebi.ac.uk/resource/ensembl/confidence/high> .|\n",
            "|        <http://aging-research.group/resource/Accipiter_nisus>|             <http://aging-research.group/resource/has_taxon>|          <http://rdf.ebi.ac.uk/resource/ensembl/taxon#211598>|<http://rdf.ebi.ac.",
            "uk/resource/ensembl/confidence/high> .|\n",
            "|          <http://rdf.ebi.ac.uk/resource/ensembl/taxon#211598>|       <http://aging-research.group/resource/has_common_name>|                                        \"Eurasian sparrowhawk\"|<http://rdf.ebi.ac.uk/resource/ensembl/confidence/high> .|\n",
            "|        <http://aging-research.group/resource/Accipiter_nisus>|       <http://aging-research.group/resource/has_common_name>|                                        \"Eurasian sparrowhawk\"|<http://rdf.ebi.ac.uk/resource/ensembl/confidence/high> .|\n",
            "|          <http://rdf.ebi.ac.uk/resource/ensembl/taxon#211598>|          <http://aging-research.group/resource/has_lifespan>|                                                          20.2|<http://rdf.ebi.ac.uk/resource/ensembl/confidence/high> .|\n",
            "|        <http://aging-research.group/resource/Accipiter_nisus>|          <http://aging-research.group/resource/has_lifespan>|                                                          20.2|<http://rdf.ebi.ac.uk/resource/ensembl/confidence/h",
            "igh> .|\n",
            "|          <http://rdf.ebi.ac.uk/resource/ensembl/taxon#211598>|            <http://aging-research.group/resource/has_mass_g>|                                                         135.0|<http://rdf.ebi.ac.uk/resource/ensembl/confidence/high> .|\n",
            "|        <http://aging-research.group/resource/Accipiter_nisus>|            <http://aging-research.group/resource/has_mass_g>|                                                         135.0|<http://rdf.ebi.ac.uk/resource/ensembl/confidence/high> .|\n",
            "|          <http://rdf.ebi.ac.uk/resource/ensembl/taxon#211598>|    <http://aging-research.group/resource/has_metabolic_rate>|                                                        0.9516|<http://rdf.ebi.ac.uk/resource/ensembl/confidence/high> .|\n",
            "|        <http://aging-research.group/resource/Accipiter_nisus>|    <http://aging-research.group/resource/has_metabolic_rate>|                                                        0.9516|<http://rdf.ebi.ac.uk/resource/ensembl/confidence/high> .|\n",
            "|          <http://rdf.e",
            "bi.ac.uk/resource/ensembl/taxon#211598>|       <http://aging-research.group/resource/is_animal_class>|                  <http://rdf.ebi.ac.uk/resource/ensembl/Aves>|<http://rdf.ebi.ac.uk/resource/ensembl/confidence/high> .|\n",
            "|        <http://aging-research.group/resource/Accipiter_nisus>|       <http://aging-research.group/resource/is_animal_class>|                  <http://rdf.ebi.ac.uk/resource/ensembl/Aves>|<http://rdf.ebi.ac.uk/resource/ensembl/confidence/high> .|\n",
            "|          <http://rdf.ebi.ac.uk/resource/ensembl/taxon#211598>|       <http://aging-research.group/resource/has_ensembl_url>|                     <https://www.ensembl.org/Accipiter_nisus>|<http://rdf.ebi.ac.uk/resource/ensembl/confidence/high> .|\n",
            "|        <http://aging-research.group/resource/Accipiter_nisus>|       <http://aging-research.group/resource/has_ensembl_url>|                     <https://www.ensembl.org/Accipiter_nisus>|<http://rdf.ebi.ac.uk/resource/ensembl/confidence/high> .|\n",
            "+-------------------------------------------------------",
            "-------+-------------------------------------------------------------+--------------------------------------------------------------+---------------------------------------------------------+\n",
            "only showing top 100 rows\n",
            "\n"
          ],
          "output_type" : "stream"
        }
      ]
    },
    {
      "cell_type" : "code",
      "execution_count" : 6,
      "metadata" : {
        "cell.metadata.exec_info" : {
          "startTs" : 1580843524698,
          "endTs" : 1580843525585
        },
        "language" : "scala"
      },
      "language" : "scala",
      "source" : [
        "trs.writeTSV(\"/data/databases/graphdb/import/species.nq\", false)"
      ],
      "outputs" : [
        {
          "name" : "stdout",
          "text" : [
            "parts of /data/databases/graphdb/import/species.nt merged!\n"
          ],
          "output_type" : "stream"
        },
        {
          "execution_count" : 6,
          "data" : {
            "text/plain" : [
              "/data/databases/graphdb/import/species.nt"
            ]
          },
          "metadata" : {
            "name" : "Out",
            "type" : "String"
          },
          "output_type" : "execute_result"
        }
      ]
    },
    {
      "cell_type" : "markdown",
      "execution_count" : 7,
      "metadata" : {
        "language" : "text"
      },
      "language" : "text",
      "source" : [
        "# Processing samples\n",
        "\n"
      ],
      "outputs" : [
      ]
    },
    {
      "cell_type" : "code",
      "execution_count" : 8,
      "metadata" : {
        "cell.metadata.exec_info" : {
          "startTs" : 1581810964319,
          "endTs" : 1581810964825
        },
        "language" : "scala"
      },
      "language" : "scala",
      "source" : [
        "val samples = spark.readTSV(\"/data/samples/species/species_index.tsv\", header=true).na.fill(\"N/A\")\n",
        "  .where($\"index\" =!= \"N/A\")\n",
        "  .where($\"library_strategy\" === \"RNA-Seq\")\n",
        "  .sort($\"organism\".desc, $\"library_layout\")\n",
        "samples.show(10, 10000)"
      ],
      "outputs" : [
        {
          "name" : "stdout",
          "text" : [
            "+-----------+-----------+----------+----------------+-----+-----------+----------------------------+----------------+--------------+-----------------+---------+-------------------------------------------------------------+---------------------------------------------------------------------------------------------------------------------------------------------+-------------+-----------+---+-----+----------------------------------------------------------------------------------------------------------------------------------------------------------------------------------------------------------------------------------------------------------------------------------------------------------------------------------+--------------+-----------+-------------------------------------------------------------------------------------------------------------+-------------------------------------------------------------------------------------------------------------------+------------------------------------------------",
            "-----------------------------------------------+--------------+-------+-------------+-----------------------+\n",
            "| bioproject|     series|       run|        organism|taxid|sample_name|                   sequencer|library_strategy|library_layout|library_selection|    study|                                                  study_title|                                                                                                                              characteristics|       source|        age|sex|tumor|                                                                                                                                                                                                                                                                                                                          protocol|salmon_version|      index|                                                                                                        genes|                                                      ",
            "                                                  transcripts|                                                                                          quant|percent_mapped|libType|numBootstraps|               modified|\n",
            "+-----------+-----------+----------+----------------+-----+-----------+----------------------------+----------------+--------------+-----------------+---------+-------------------------------------------------------------+---------------------------------------------------------------------------------------------------------------------------------------------+-------------+-----------+---+-----+----------------------------------------------------------------------------------------------------------------------------------------------------------------------------------------------------------------------------------------------------------------------------------------------------------------------------------+--------------+-----------+------------------------------------------------------",
            "-------------------------------------------------------+-------------------------------------------------------------------------------------------------------------------+-----------------------------------------------------------------------------------------------+--------------+-------+-------------+-----------------------+\n",
            "|PRJNA184055|   GSE43013| SRR636978|Ursus americanus| 9643| GSM1055128|Illumina Genome Analyzer IIx|         RNA-Seq|        PAIRED|             cDNA|SRP017611|Gene Expression Defines Natural Changes in Mammalian Lifespan|    'Tumor:no;genotype/variation:wild type;age:adult;tissue:normal brain;organ part:frontal parts of brain;source_name:Ursus americanus_brain| normal brain|      adult|N/A|   no|                                                                                                                                                                                                                                                                                                      ",
            "                         N/A|        0.14.1|ASM334442v1|        /data/samples/species/GSE43013/GSM1055128/SRR636978/GSE43013_GSM1055128_SRR636978_genes_abundance.tsv|        /data/samples/species/GSE43013/GSM1055128/SRR636978/GSE43013_GSM1055128_SRR636978_transcripts_abundance.tsv|        /data/samples/species/GSE43013/GSM1055128/SRR636978/quant_GSE43013_GSM1055128_SRR636978|             A|      A|          128|2019-07-25 20:01:49.104|\n",
            "|PRJNA184055|   GSE43013| SRR636888|Ursus americanus| 9643| GSM1055038|Illumina Genome Analyzer IIx|         RNA-Seq|        PAIRED|             cDNA|SRP017611|Gene Expression Defines Natural Changes in Mammalian Lifespan|               'Tumor:no;genotype/variation:wild type;age:adult;tissue:normal liver;organ part:whole liver;source_name:Ursus americanus_liver| normal liver|      adult|N/A|   no|                                                                                                                                                                                        ",
            "                                                                                                                                       N/A|        0.14.1|ASM334442v1|        /data/samples/species/GSE43013/GSM1055038/SRR636888/GSE43013_GSM1055038_SRR636888_genes_abundance.tsv|        /data/samples/species/GSE43013/GSM1055038/SRR636888/GSE43013_GSM1055038_SRR636888_transcripts_abundance.tsv|        /data/samples/species/GSE43013/GSM1055038/SRR636888/quant_GSE43013_GSM1055038_SRR636888|             A|      A|          128|2019-07-25 20:13:58.925|\n",
            "|PRJNA184055|PRJNA184055| SRR636887|Ursus americanus| 9643| GSM1055037|Illumina Genome Analyzer IIx|         RNA-Seq|        PAIRED|             cDNA|SRP017611|Gene Expression Defines Natural Changes in Mammalian Lifespan|               'Tumor:no;genotype/variation:wild type;age:adult;tissue:normal liver;organ part:whole liver;source_name:Ursus americanus_liver| normal liver|      adult|N/A|   no|                                                                          ",
            "                                                                                                                                                                                                                                                     N/A|        0.14.1|ASM334442v1|    /data/samples/species/PRJNA184055/SRX211627/SRR636887/PRJNA184055_SRX211627_SRR636887_genes_abundance.tsv|    /data/samples/species/PRJNA184055/SRX211627/SRR636887/PRJNA184055_SRX211627_SRR636887_transcripts_abundance.tsv|    /data/samples/species/PRJNA184055/SRX211627/SRR636887/quant_PRJNA184055_SRX211627_SRR636887|             A|      A|          128|2019-09-18 19:40:23.048|\n",
            "|PRJNA184055|   GSE43013| SRR636932|Ursus americanus| 9643| GSM1055082|Illumina Genome Analyzer IIx|         RNA-Seq|        PAIRED|             cDNA|SRP017611|Gene Expression Defines Natural Changes in Mammalian Lifespan|            'Tumor:no;genotype/variation:wild type;age:adult;tissue:normal kidney;organ part:whole kidney;source_name:Ursus americanus_kidney|",
            "normal kidney|      adult|N/A|   no|                                                                                                                                                                                                                                                                                                                               N/A|        0.14.1|ASM334442v1|        /data/samples/species/GSE43013/GSM1055082/SRR636932/GSE43013_GSM1055082_SRR636932_genes_abundance.tsv|        /data/samples/species/GSE43013/GSM1055082/SRR636932/GSE43013_GSM1055082_SRR636932_transcripts_abundance.tsv|        /data/samples/species/GSE43013/GSM1055082/SRR636932/quant_GSE43013_GSM1055082_SRR636932|             A|      A|          128|2019-07-25 20:00:22.073|\n",
            "|PRJNA184055|PRJNA184055| SRR636933|Ursus americanus| 9643| GSM1055083|Illumina Genome Analyzer IIx|         RNA-Seq|        PAIRED|             cDNA|SRP017611|Gene Expression Defines Natural Changes in Mammalian Lifespan|            'Tumor:no;genotype/v",
            "ariation:wild type;age:adult;tissue:normal kidney;organ part:whole kidney;source_name:Ursus americanus_kidney|normal kidney|      adult|N/A|   no|                                                                                                                                                                                                                                                                                                                               N/A|        0.14.1|ASM334442v1|    /data/samples/species/PRJNA184055/SRX211673/SRR636933/PRJNA184055_SRX211673_SRR636933_genes_abundance.tsv|    /data/samples/species/PRJNA184055/SRX211673/SRR636933/PRJNA184055_SRX211673_SRR636933_transcripts_abundance.tsv|    /data/samples/species/PRJNA184055/SRX211673/SRR636933/quant_PRJNA184055_SRX211673_SRR636933|             A|      A|          128|2019-09-18 19:42:35.699|\n",
            "|PRJNA311523|PRJNA311523|SRR3160061|      Sus scrofa| 9823| GSM2059123|         Illumina HiSeq 2500|         RNA-Seq|        PAIRED|            ",
            " cDNA|SRP069860|                  Transcriptome data used for gene annotation|                                                                    'Tumor:no;age:60 days old;tissue:lung;source_name:lung;breed name:Meishan|         lung|60 days old|N/A|   no|The total RNA was extracted using the TrIzol reagent (Life Technologies, Beijing, China) according to the manufacturer’s protocols. Illumina TruSeq RNA Sample Prep Kit was used with 1 ug of total RNA for the construction of sequencing libraries. RNA libraries were prepared for sequencing using standard Illumina protocols|        0.14.1|Sscrofa11.1|/data/samples/species/PRJNA311523/SRX1569908/SRR3160061/PRJNA311523_SRX1569908_SRR3160061_genes_abundance.tsv|/data/samples/species/PRJNA311523/SRX1569908/SRR3160061/PRJNA311523_SRX1569908_SRR3160061_transcripts_abundance.tsv|/data/samples/species/PRJNA311523/SRX1569908/SRR3160061/quant_PRJNA311523_SRX1569908_SRR3160061|             A|      A|          128| 2019-09-16 21:22:56.17|\n",
            "|PRJNA311523|PRJNA311523|SRR3160",
            "008|      Sus scrofa| 9823| GSM2059070|         Illumina HiSeq 2500|         RNA-Seq|        PAIRED|             cDNA|SRP069860|                  Transcriptome data used for gene annotation|                                                                 'Tumor:no;age:60 days old;tissue:heart;source_name:heart;breed name:Landrace|        heart|60 days old|N/A|   no|The total RNA was extracted using the TrIzol reagent (Life Technologies, Beijing, China) according to the manufacturer’s protocols. Illumina TruSeq RNA Sample Prep Kit was used with 1 ug of total RNA for the construction of sequencing libraries. RNA libraries were prepared for sequencing using standard Illumina protocols|        0.14.1|Sscrofa11.1|/data/samples/species/PRJNA311523/SRX1569855/SRR3160008/PRJNA311523_SRX1569855_SRR3160008_genes_abundance.tsv|/data/samples/species/PRJNA311523/SRX1569855/SRR3160008/PRJNA311523_SRX1569855_SRR3160008_transcripts_abundance.tsv|/data/samples/species/PRJNA311523/SRX1569855/SRR3160008/quant_PRJNA311523_SRX1",
            "569855_SRR3160008|             A|      A|          128|2019-09-16 15:17:42.936|\n",
            "|PRJNA188070|PRJNA188070| SRR653846|      Sus scrofa| 9823| GSM1074094|         Illumina HiSeq 2000|         RNA-Seq|        PAIRED|             cDNA|SRP018288|                  Transcriptome data used for gene annotation|'Tumor:no;tissue:Kidney;source_name:TP_kidney_RNA-seq;breed:Tibetan;local origin:Ganzi Tibetan autonomous prefecture, Sichuan province, China|       Kidney|        N/A|N/A|   no|                                                                                                                                                                                                                                                                                                                               N/A|        0.14.1|Sscrofa11.1|    /data/samples/species/PRJNA188070/SRX220651/SRR653846/PRJNA188070_SRX220651_SRR653846_genes_abundance.tsv|    /data/samples/species/PRJNA188070/SRX220651/SRR653846/PRJNA188070_SRX220651_SRR6",
            "53846_transcripts_abundance.tsv|    /data/samples/species/PRJNA188070/SRX220651/SRR653846/quant_PRJNA188070_SRX220651_SRR653846|             A|      A|          128|2019-09-16 16:03:25.593|\n",
            "|PRJNA311523|PRJNA311523|SRR3160018|      Sus scrofa| 9823| GSM2059080|         Illumina HiSeq 2500|         RNA-Seq|        PAIRED|             cDNA|SRP069860|                  Transcriptome data used for gene annotation|                                                              'Tumor:no;age:60 days old;tissue:heart;source_name:heart;breed name:Large White|        heart|60 days old|N/A|   no|The total RNA was extracted using the TrIzol reagent (Life Technologies, Beijing, China) according to the manufacturer’s protocols. Illumina TruSeq RNA Sample Prep Kit was used with 1 ug of total RNA for the construction of sequencing libraries. RNA libraries were prepared for sequencing using standard Illumina protocols|        0.14.1|Sscrofa11.1|/data/samples/species/PRJNA311523/SRX1569865/SRR3160018/PRJNA311523_SRX1569865_SRR",
            "3160018_genes_abundance.tsv|/data/samples/species/PRJNA311523/SRX1569865/SRR3160018/PRJNA311523_SRX1569865_SRR3160018_transcripts_abundance.tsv|/data/samples/species/PRJNA311523/SRX1569865/SRR3160018/quant_PRJNA311523_SRX1569865_SRR3160018|             A|      A|          128|2019-09-16 14:57:38.679|\n",
            "|PRJNA311523|PRJNA311523|SRR3160041|      Sus scrofa| 9823| GSM2059103|         Illumina HiSeq 2500|         RNA-Seq|        PAIRED|             cDNA|SRP069860|                  Transcriptome data used for gene annotation|                                                                      'Tumor:no;age:60 days old;tissue:lung;source_name:lung;breed name:Bamei|         lung|60 days old|N/A|   no|The total RNA was extracted using the TrIzol reagent (Life Technologies, Beijing, China) according to the manufacturer’s protocols. Illumina TruSeq RNA Sample Prep Kit was used with 1 ug of total RNA for the construction of sequencing libraries. RNA libraries were prepared for sequencing using standard Illumina protoco",
            "ls|        0.14.1|Sscrofa11.1|/data/samples/species/PRJNA311523/SRX1569888/SRR3160041/PRJNA311523_SRX1569888_SRR3160041_genes_abundance.tsv|/data/samples/species/PRJNA311523/SRX1569888/SRR3160041/PRJNA311523_SRX1569888_SRR3160041_transcripts_abundance.tsv|/data/samples/species/PRJNA311523/SRX1569888/SRR3160041/quant_PRJNA311523_SRX1569888_SRR3160041|             A|      A|          128|2019-09-16 21:15:56.756|\n",
            "+-----------+-----------+----------+----------------+-----+-----------+----------------------------+----------------+--------------+-----------------+---------+-------------------------------------------------------------+---------------------------------------------------------------------------------------------------------------------------------------------+-------------+-----------+---+-----+------------------------------------------------------------------------------------------------------------------------------------------------------------------------------------------------------------------",
            "----------------------------------------------------------------------------------------------------------------+--------------+-----------+-------------------------------------------------------------------------------------------------------------+-------------------------------------------------------------------------------------------------------------------+-----------------------------------------------------------------------------------------------+--------------+-------+-------------+-----------------------+\n",
            "only showing top 10 rows\n",
            "\n"
          ],
          "output_type" : "stream"
        }
      ]
    },
    {
      "cell_type" : "code",
      "execution_count" : 9,
      "metadata" : {
        "cell.metadata.exec_info" : {
          "startTs" : 1581638611265,
          "endTs" : 1581638611579
        },
        "language" : "scala"
      },
      "language" : "scala",
      "source" : [
        "samples.schema.fields.map{ case f=> f.name}.toList"
      ],
      "outputs" : [
        {
          "execution_count" : 9,
          "data" : {
            "text/plain" : [
              "List(bioproject, series, run, organism, taxid, sample_name, sequencer, library_strategy, library_layout, library_selection, study, study_title, characteristics, source, age, sex, tumor, protocol, salmon_version, index, genes, transcripts, quant, libType,"
            ]
          },
          "metadata" : {
            "name" : "Out",
            "type" : "List[String]"
          },
          "output_type" : "execute_result"
        }
      ]
    },
    {
      "cell_type" : "code",
      "execution_count" : 10,
      "metadata" : {
        "cell.metadata.exec_info" : {
          "startTs" : 1581809891681,
          "endTs" : 1581809891756
        },
        "language" : "scala"
      },
      "language" : "scala",
      "source" : [
        "samples.printSchema()"
      ],
      "outputs" : [
        {
          "name" : "stdout",
          "text" : [
            "root\n",
            " |-- bioproject: string (nullable = false)\n",
            " |-- series: string (nullable = false)\n",
            " |-- run: string (nullable = false)\n",
            " |-- organism: string (nullable = false)\n",
            " |-- taxid: integer (nullable = true)\n",
            " |-- sample_name: string (nullable = false)\n",
            " |-- sequencer: string (nullable = false)\n",
            " |-- library_strategy: string (nullable = false)\n",
            " |-- library_layout: string (nullable = false)\n",
            " |-- library_selection: string (nullable = false)\n",
            " |-- study: string (nullable = false)\n",
            " |-- study_title: string (nullable = false)\n",
            " |-- characteristics: string (nullable = false)\n",
            " |-- source: string (nullable = false)\n",
            " |-- age: string (nullable = false)\n",
            " |-- sex: string (nullable = false)\n",
            " |-- tumor: string (nullable = false)\n",
            " |-- protocol: string (nullable = false)\n",
            " |-- salmon_version: string (nullable = false)\n",
            " |-- index: string (nullable = false)\n",
            " |-- genes: string (nullable = false)\n",
            " |-- transcripts: string (nullable = false)\n",
            " |-- quant: string (nullable = false)\n",
            " |-- libType: string (nullable = false)\n",
            " |-- percent_mapped: stri",
            "ng (nullable = false)\n",
            " |-- numBootstraps: integer (nullable = true)\n",
            " |-- modified: timestamp (nullable = true)\n",
            "\n"
          ],
          "output_type" : "stream"
        }
      ]
    },
    {
      "cell_type" : "code",
      "execution_count" : 13,
      "metadata" : {
        "cell.metadata.exec_info" : {
          "startTs" : 1581638611738,
          "endTs" : 1581638611964
        },
        "language" : "scala"
      },
      "language" : "scala",
      "source" : [
        "val bioproject_prefix = \"https://www.ncbi.nlm.nih.gov/bioproject/\"\n",
        "val experiment_prefix = \"https://www.ncbi.nlm.nih.gov/geo/query/acc.cgi?acc=\"\n",
        "val sra_prefix = \"https://www.ncbi.nlm.nih.gov/sra/\"\n",
        "\n",
        "def bioproject(str: String) = s\"<${bioproject_prefix}${str}>\"\n",
        "def experiment(str: String) = if(str.contains(\"GSE\")) s\"<${experiment_prefix}$str>\" else bioproject(str)\n",
        "def run(str: String) = s\"<${experiment_prefix}${str}>\"\n",
        "val has_experiment = pref(\"has_experiment\")\n",
        "val has_run = pref(\"has_run\")\n",
        "val has_sample_name = pref(\"has_sample_name\")\n",
        "val has_experiments = pref(\"has_experiment\")\n"
      ],
      "outputs" : [
      ]
    },
    {
      "cell_type" : "code",
      "execution_count" : 23,
      "metadata" : {
        "cell.metadata.exec_info" : {
          "startTs" : 1581638611973,
          "endTs" : 1581638612111
        },
        "language" : "scala"
      },
      "language" : "scala",
      "source" : [
        "def pre(prefix: String, str: String) = \n",
        "    if(prefix.startsWith(\"xsd:\")) s\"\"\"\"$str\"^^$prefix\"\"\"\" else\n",
        "    if(prefix.contains(\"http\")) \"<\" + prefix + str + \">\" else     \n",
        "    prefix + str"
      ],
      "outputs" : [
      ]
    },
    {
      "cell_type" : "code",
      "execution_count" : 40,
      "metadata" : {
        "cell.metadata.exec_info" : {
          "startTs" : 1581818256125,
          "endTs" : 1581818256573
        },
        "language" : "scala"
      },
      "language" : "scala",
      "source" : [
        "def u_uri(pref: String) = udf[String, String]{ str => pref + str.replace(\" \", \"_\")}\n",
        "val u_string = udf[String, String]{ str => \"\\\"\" + str.replace(\"\\n\", \"\\\\n\").replace(\"\\\\\", \"\\\\\\\\\").replace(\"\\\"\", \"\\\\\\\"\") +  \"\\\"\" +\"^^<http://www.w3.org/2001/XMLSchema#string>\" }\n",
        "val u_double = udf[String, String]{ str => \"\\\"\" + str +  \"\\\"\" +\"^^<http://www.w3.org/2001/XMLSchema#double>\" }\n",
        "val u_integer= udf[String, String]{ str => \"\\\"\" + str +  \"\\\"\" +\"^^<http://www.w3.org/2001/XMLSchema#integer>\" }\n",
        "val u_exp = udf[String, String]{ str => if(str.contains(\"GSE\")) s\"<https://www.ncbi.nlm.nih.gov/geo/query/acc.cgi?acc=$str>\" else  s\"<https://www.ncbi.nlm.nih.gov/bioproject/${str}>\"}\n",
        "val u_study = udf[String, String]{  str => s\"<https://trace.ncbi.nlm.nih.gov/Traces/sra/?study=${str.replace(\" \", \"_\")}>\" }\n",
        "val u_ens = udf[String, String] { str => s\"<http://rdf.ebi.ac.uk/resource/ensembl/${str.replace(\" \", \"_\")}>\" }\n",
        "val u_samples = udf[String, String] { str => s\"<http://aging-research.group/samples/${str.replace(\" \", \"_\")}>\" }\n",
        "val u_base = udf[String, String] { str => s\"<http://aging-research.group/resource/${str.replace(\" \", \"_\")}>\" }\n",
        "val u_run = udf[String, String] { str => s\"<https://www.ncbi.nlm.nih.gov/sra/${str.replace(\" \", \"_\")}>\" }"
      ],
      "outputs" : [
      ]
    },
    {
      "cell_type" : "code",
      "execution_count" : 44,
      "metadata" : {
        "cell.metadata.exec_info" : {
          "startTs" : 1581818259795,
          "endTs" : 1581818259909
        },
        "language" : "scala"
      },
      "language" : "scala",
      "source" : [
        "samples.columns.toList.map(\"\\\"\" + _ + \"\\\"\").mkString(\"[\",\",\", \"]\")"
      ],
      "outputs" : [
        {
          "execution_count" : 44,
          "data" : {
            "text/plain" : [
              "[\"bioproject\",\"series\",\"run\",\"organism\",\"taxid\",\"sample_name\",\"sequencer\",\"library_strategy\",\"library_layout\",\"library_selection\",\"study\",\"study_title\",\"characteristics\",\"source\",\"age\",\"sex\",\"tumor\",\"protocol\",\"salmon_version\",\"index\",\"genes\",\"transcript"
            ]
          },
          "metadata" : {
            "name" : "Out",
            "type" : "String"
          },
          "output_type" : "execute_result"
        }
      ]
    },
    {
      "cell_type" : "code",
      "execution_count" : 43,
      "metadata" : {
        "cell.metadata.exec_info" : {
          "startTs" : 1581818260039,
          "endTs" : 1581818260342
        },
        "language" : "scala"
      },
      "language" : "scala",
      "source" : [
        "val samples_prefixed = samples\n",
        "    .withColumn(\"bioproject\",u_exp($\"bioproject\"))\n",
        "    .withColumn(\"series\",u_exp($\"series\"))\n",
        "    .withColumn(\"run\",u_run($\"run\"))\n",
        "    .withColumn(\"organism\",u_base($\"organism\"))\n",
        "    .withColumn(\"sample_name\",u_string($\"sample_name\"))\n",
        "    .withColumn(\"sequencer\",u_samples($\"sequencer\"))\n",
        "    .withColumn(\"library_strategy\",u_samples($\"library_strategy\"))\n",
        "    .withColumn(\"library_layout\",u_samples($\"library_layout\"))    \n",
        "    .withColumn(\"library_selection\",u_samples($\"library_selection\"))\n",
        "    .withColumn(\"study\",u_study($\"study\"))\n",
        "    .withColumn(\"study_title\",u_string($\"study_title\"))      \n",
        "    .withColumn(\"characteristics\",u_string($\"characteristics\"))\n",
        "    .withColumn(\"source\",u_string($\"source\"))\n",
        "    .withColumn(\"age\",u_string($\"age\"))\n",
        "    .withColumn(\"sex\",u_string($\"sex\"))\n",
        "    .withColumn(\"tumor\",u_samples($\"tumor\"))\n",
        "    .withColumn(\"protocol\",u_string($\"protocol\"))\n",
        "    .withColumn(\"salmon_version\",u_string($\"salmon_version\"))\n",
        "    //.withColumn(\"percent_mapped\",u_double($\"percent_mapped\"))\n",
        "    .withColumn(\"libType\",u_string($\"libType\"))\n",
        "    .withColumn(\"numBootstraps\",u_integer($\"numBootstraps\"))\n",
        "    .withColumn(\"modified\",u_string($\"modified\"))        \n",
        "    .select(\n",
        "      \"bioproject\",\"series\",\"run\",\"organism\",\"taxid\",\"sample_name\",\"sequencer\",\"library_strategy\",\"library_layout\",\"library_selection\",\n",
        "      \"study\",\"study_title\",\"characteristics\",\"source\",\"age\",\"sex\",\"tumor\",\"protocol\",\n",
        "      \"salmon_version\", \"libType\",\"numBootstraps\",\"modified\"\n",
        "    )\n",
        "      \n",
        "    \n",
        "samples_prefixed.show(10, 10000)"
      ],
      "outputs" : [
        {
          "name" : "stdout",
          "text" : [
            "+-----------------------------------------------------+-------------------------------------------------------------+---------------------------------------------+-------------------------------------------------------+-----+-------------------------------------------------------+------------------------------------------------------------------+---------------------------------------------+--------------------------------------------+------------------------------------------+------------------------------------------------------------+----------------------------------------------------------------------------------------------------------+------------------------------------------------------------------------------------------------------------------------------------------------------------------------------------------+----------------------------------------------------------+--------------------------------------------------------+------------------------------------------------+----------------------",
            "------------------+-------------------------------------------------------------------------------------------------------------------------------------------------------------------------------------------------------------------------------------------------------------------------------------------------------------------------------------------------------------------------------+---------------------------------------------------+----------------------------------------------+-------------------------------------------------+--------------------------------------------------------------------+\n",
            "|                                           bioproject|                                                       series|                                          run|                                               organism|taxid|                                            sample_name|                                                         sequencer|                             library_strategy|                        ",
            "      library_layout|                         library_selection|                                                       study|                                                                                               study_title|                                                                                                                                                                           characteristics|                                                    source|                                                     age|                                             sex|                                   tumor|                                                                                                                                                                                                                                                                                                                                                                       protocol|                               ",
            "      salmon_version|                                       libType|                                    numBootstraps|                                                            modified|\n",
            "+-----------------------------------------------------+-------------------------------------------------------------+---------------------------------------------+-------------------------------------------------------+-----+-------------------------------------------------------+------------------------------------------------------------------+---------------------------------------------+--------------------------------------------+------------------------------------------+------------------------------------------------------------+----------------------------------------------------------------------------------------------------------+------------------------------------------------------------------------------------------------------------------------------------------------------------------------------------------",
            "+----------------------------------------------------------+--------------------------------------------------------+------------------------------------------------+----------------------------------------+-------------------------------------------------------------------------------------------------------------------------------------------------------------------------------------------------------------------------------------------------------------------------------------------------------------------------------------------------------------------------------+---------------------------------------------------+----------------------------------------------+-------------------------------------------------+--------------------------------------------------------------------+\n",
            "|<https://www.ncbi.nlm.nih.gov/bioproject/PRJNA184055>|<https://www.ncbi.nlm.nih.gov/geo/query/acc.cgi?acc=GSE43013>| <https://www.ncbi.nlm.nih.gov/sra/SRR636978>|<http://aging-research.group/resource/Ursus_americanus>| 9643|\"GSM1",
            "055128\"^^<http://www.w3.org/2001/XMLSchema#string>|<http://aging-research.group/samples/Illumina_Genome_Analyzer_IIx>|<http://aging-research.group/samples/RNA-Seq>|<http://aging-research.group/samples/PAIRED>|<http://aging-research.group/samples/cDNA>|<https://trace.ncbi.nlm.nih.gov/Traces/sra/?study=SRP017611>|\"Gene Expression Defines Natural Changes in Mammalian Lifespan\"^^<http://www.w3.org/2001/XMLSchema#string>|    \"'Tumor:no;genotype/variation:wild type;age:adult;tissue:normal brain;organ part:frontal parts of brain;source_name:Ursus americanus_brain\"^^<http://www.w3.org/2001/XMLSchema#string>| \"normal brain\"^^<http://www.w3.org/2001/XMLSchema#string>|      \"adult\"^^<http://www.w3.org/2001/XMLSchema#string>|\"N/A\"^^<http://www.w3.org/2001/XMLSchema#string>|<http://aging-research.group/samples/no>|                                                                                                                                                                                                                   ",
            "                                                                                                            \"N/A\"^^<http://www.w3.org/2001/XMLSchema#string>|\"0.14.1\"^^<http://www.w3.org/2001/XMLSchema#string>|\"A\"^^<http://www.w3.org/2001/XMLSchema#string>|\"128\"^^<http://www.w3.org/2001/XMLSchema#integer>|\"2019-07-25 20:01:49.104\"^^<http://www.w3.org/2001/XMLSchema#string>|\n",
            "|<https://www.ncbi.nlm.nih.gov/bioproject/PRJNA184055>|<https://www.ncbi.nlm.nih.gov/geo/query/acc.cgi?acc=GSE43013>| <https://www.ncbi.nlm.nih.gov/sra/SRR636888>|<http://aging-research.group/resource/Ursus_americanus>| 9643|\"GSM1055038\"^^<http://www.w3.org/2001/XMLSchema#string>|<http://aging-research.group/samples/Illumina_Genome_Analyzer_IIx>|<http://aging-research.group/samples/RNA-Seq>|<http://aging-research.group/samples/PAIRED>|<http://aging-research.group/samples/cDNA>|<https://trace.ncbi.nlm.nih.gov/Traces/sra/?study=SRP017611>|\"Gene Expression Defines Natural Changes in Mammalian Lifespan\"^^<http://www.w3.org/2001/XMLSchema#string",
            ">|               \"'Tumor:no;genotype/variation:wild type;age:adult;tissue:normal liver;organ part:whole liver;source_name:Ursus americanus_liver\"^^<http://www.w3.org/2001/XMLSchema#string>| \"normal liver\"^^<http://www.w3.org/2001/XMLSchema#string>|      \"adult\"^^<http://www.w3.org/2001/XMLSchema#string>|\"N/A\"^^<http://www.w3.org/2001/XMLSchema#string>|<http://aging-research.group/samples/no>|                                                                                                                                                                                                                                                                                                                               \"N/A\"^^<http://www.w3.org/2001/XMLSchema#string>|\"0.14.1\"^^<http://www.w3.org/2001/XMLSchema#string>|\"A\"^^<http://www.w3.org/2001/XMLSchema#string>|\"128\"^^<http://www.w3.org/2001/XMLSchema#integer>|\"2019-07-25 20:13:58.925\"^^<http://www.w3.org/2001/XMLSchema#string>|\n",
            "|<https://www.ncbi.nlm.nih.gov/bioproject/",
            "PRJNA184055>|        <https://www.ncbi.nlm.nih.gov/bioproject/PRJNA184055>| <https://www.ncbi.nlm.nih.gov/sra/SRR636887>|<http://aging-research.group/resource/Ursus_americanus>| 9643|\"GSM1055037\"^^<http://www.w3.org/2001/XMLSchema#string>|<http://aging-research.group/samples/Illumina_Genome_Analyzer_IIx>|<http://aging-research.group/samples/RNA-Seq>|<http://aging-research.group/samples/PAIRED>|<http://aging-research.group/samples/cDNA>|<https://trace.ncbi.nlm.nih.gov/Traces/sra/?study=SRP017611>|\"Gene Expression Defines Natural Changes in Mammalian Lifespan\"^^<http://www.w3.org/2001/XMLSchema#string>|               \"'Tumor:no;genotype/variation:wild type;age:adult;tissue:normal liver;organ part:whole liver;source_name:Ursus americanus_liver\"^^<http://www.w3.org/2001/XMLSchema#string>| \"normal liver\"^^<http://www.w3.org/2001/XMLSchema#string>|      \"adult\"^^<http://www.w3.org/2001/XMLSchema#string>|\"N/A\"^^<http://www.w3.org/2001/XMLSchema#string>|<http://aging-research.group/samples/no>|                       ",
            "                                                                                                                                                                                                                                                                                                        \"N/A\"^^<http://www.w3.org/2001/XMLSchema#string>|\"0.14.1\"^^<http://www.w3.org/2001/XMLSchema#string>|\"A\"^^<http://www.w3.org/2001/XMLSchema#string>|\"128\"^^<http://www.w3.org/2001/XMLSchema#integer>|\"2019-09-18 19:40:23.048\"^^<http://www.w3.org/2001/XMLSchema#string>|\n",
            "|<https://www.ncbi.nlm.nih.gov/bioproject/PRJNA184055>|<https://www.ncbi.nlm.nih.gov/geo/query/acc.cgi?acc=GSE43013>| <https://www.ncbi.nlm.nih.gov/sra/SRR636932>|<http://aging-research.group/resource/Ursus_americanus>| 9643|\"GSM1055082\"^^<http://www.w3.org/2001/XMLSchema#string>|<http://aging-research.group/samples/Illumina_Genome_Analyzer_IIx>|<http://aging-research.group/samples/RNA-Seq>|<http://aging-research.group/samples/PAIRED>|<http://aging-researc",
            "h.group/samples/cDNA>|<https://trace.ncbi.nlm.nih.gov/Traces/sra/?study=SRP017611>|\"Gene Expression Defines Natural Changes in Mammalian Lifespan\"^^<http://www.w3.org/2001/XMLSchema#string>|            \"'Tumor:no;genotype/variation:wild type;age:adult;tissue:normal kidney;organ part:whole kidney;source_name:Ursus americanus_kidney\"^^<http://www.w3.org/2001/XMLSchema#string>|\"normal kidney\"^^<http://www.w3.org/2001/XMLSchema#string>|      \"adult\"^^<http://www.w3.org/2001/XMLSchema#string>|\"N/A\"^^<http://www.w3.org/2001/XMLSchema#string>|<http://aging-research.group/samples/no>|                                                                                                                                                                                                                                                                                                                               \"N/A\"^^<http://www.w3.org/2001/XMLSchema#string>|\"0.14.1\"^^<http://www.w3.org/2001/XMLSchema#string>|\"A\"^^<http://www.w3.o",
            "rg/2001/XMLSchema#string>|\"128\"^^<http://www.w3.org/2001/XMLSchema#integer>|\"2019-07-25 20:00:22.073\"^^<http://www.w3.org/2001/XMLSchema#string>|\n",
            "|<https://www.ncbi.nlm.nih.gov/bioproject/PRJNA184055>|        <https://www.ncbi.nlm.nih.gov/bioproject/PRJNA184055>| <https://www.ncbi.nlm.nih.gov/sra/SRR636933>|<http://aging-research.group/resource/Ursus_americanus>| 9643|\"GSM1055083\"^^<http://www.w3.org/2001/XMLSchema#string>|<http://aging-research.group/samples/Illumina_Genome_Analyzer_IIx>|<http://aging-research.group/samples/RNA-Seq>|<http://aging-research.group/samples/PAIRED>|<http://aging-research.group/samples/cDNA>|<https://trace.ncbi.nlm.nih.gov/Traces/sra/?study=SRP017611>|\"Gene Expression Defines Natural Changes in Mammalian Lifespan\"^^<http://www.w3.org/2001/XMLSchema#string>|            \"'Tumor:no;genotype/variation:wild type;age:adult;tissue:normal kidney;organ part:whole kidney;source_name:Ursus americanus_kidney\"^^<http://www.w3.org/2001/XMLSchema#string>|\"normal kidney\"^^<http://www.w3.org/2001/",
            "XMLSchema#string>|      \"adult\"^^<http://www.w3.org/2001/XMLSchema#string>|\"N/A\"^^<http://www.w3.org/2001/XMLSchema#string>|<http://aging-research.group/samples/no>|                                                                                                                                                                                                                                                                                                                               \"N/A\"^^<http://www.w3.org/2001/XMLSchema#string>|\"0.14.1\"^^<http://www.w3.org/2001/XMLSchema#string>|\"A\"^^<http://www.w3.org/2001/XMLSchema#string>|\"128\"^^<http://www.w3.org/2001/XMLSchema#integer>|\"2019-09-18 19:42:35.699\"^^<http://www.w3.org/2001/XMLSchema#string>|\n",
            "|<https://www.ncbi.nlm.nih.gov/bioproject/PRJNA311523>|        <https://www.ncbi.nlm.nih.gov/bioproject/PRJNA311523>|<https://www.ncbi.nlm.nih.gov/sra/SRR3160061>|      <http://aging-research.group/resource/Sus_scrofa>| 9823|\"GSM2059123\"^^<http://www.w3.org/2001/XMLSchema",
            "#string>|         <http://aging-research.group/samples/Illumina_HiSeq_2500>|<http://aging-research.group/samples/RNA-Seq>|<http://aging-research.group/samples/PAIRED>|<http://aging-research.group/samples/cDNA>|<https://trace.ncbi.nlm.nih.gov/Traces/sra/?study=SRP069860>|                  \"Transcriptome data used for gene annotation\"^^<http://www.w3.org/2001/XMLSchema#string>|                                                                    \"'Tumor:no;age:60 days old;tissue:lung;source_name:lung;breed name:Meishan\"^^<http://www.w3.org/2001/XMLSchema#string>|         \"lung\"^^<http://www.w3.org/2001/XMLSchema#string>|\"60 days old\"^^<http://www.w3.org/2001/XMLSchema#string>|\"N/A\"^^<http://www.w3.org/2001/XMLSchema#string>|<http://aging-research.group/samples/no>|\"The total RNA was extracted using the TrIzol reagent (Life Technologies, Beijing, China) according to the manufacturer’s protocols. Illumina TruSeq RNA Sample Prep Kit was used with 1 ug of total RNA for the construction of sequencing libraries. RNA ",
            "libraries were prepared for sequencing using standard Illumina protocols\"^^<http://www.w3.org/2001/XMLSchema#string>|\"0.14.1\"^^<http://www.w3.org/2001/XMLSchema#string>|\"A\"^^<http://www.w3.org/2001/XMLSchema#string>|\"128\"^^<http://www.w3.org/2001/XMLSchema#integer>| \"2019-09-16 21:22:56.17\"^^<http://www.w3.org/2001/XMLSchema#string>|\n",
            "|<https://www.ncbi.nlm.nih.gov/bioproject/PRJNA311523>|        <https://www.ncbi.nlm.nih.gov/bioproject/PRJNA311523>|<https://www.ncbi.nlm.nih.gov/sra/SRR3160008>|      <http://aging-research.group/resource/Sus_scrofa>| 9823|\"GSM2059070\"^^<http://www.w3.org/2001/XMLSchema#string>|         <http://aging-research.group/samples/Illumina_HiSeq_2500>|<http://aging-research.group/samples/RNA-Seq>|<http://aging-research.group/samples/PAIRED>|<http://aging-research.group/samples/cDNA>|<https://trace.ncbi.nlm.nih.gov/Traces/sra/?study=SRP069860>|                  \"Transcriptome data used for gene annotation\"^^<http://www.w3.org/2001/XMLSchema#string>|                                      ",
            "                           \"'Tumor:no;age:60 days old;tissue:heart;source_name:heart;breed name:Landrace\"^^<http://www.w3.org/2001/XMLSchema#string>|        \"heart\"^^<http://www.w3.org/2001/XMLSchema#string>|\"60 days old\"^^<http://www.w3.org/2001/XMLSchema#string>|\"N/A\"^^<http://www.w3.org/2001/XMLSchema#string>|<http://aging-research.group/samples/no>|\"The total RNA was extracted using the TrIzol reagent (Life Technologies, Beijing, China) according to the manufacturer’s protocols. Illumina TruSeq RNA Sample Prep Kit was used with 1 ug of total RNA for the construction of sequencing libraries. RNA libraries were prepared for sequencing using standard Illumina protocols\"^^<http://www.w3.org/2001/XMLSchema#string>|\"0.14.1\"^^<http://www.w3.org/2001/XMLSchema#string>|\"A\"^^<http://www.w3.org/2001/XMLSchema#string>|\"128\"^^<http://www.w3.org/2001/XMLSchema#integer>|\"2019-09-16 15:17:42.936\"^^<http://www.w3.org/2001/XMLSchema#string>|\n",
            "|<https://www.ncbi.nlm.nih.gov/bioproject/PRJNA188070>|        <https://www.ncbi",
            ".nlm.nih.gov/bioproject/PRJNA188070>| <https://www.ncbi.nlm.nih.gov/sra/SRR653846>|      <http://aging-research.group/resource/Sus_scrofa>| 9823|\"GSM1074094\"^^<http://www.w3.org/2001/XMLSchema#string>|         <http://aging-research.group/samples/Illumina_HiSeq_2000>|<http://aging-research.group/samples/RNA-Seq>|<http://aging-research.group/samples/PAIRED>|<http://aging-research.group/samples/cDNA>|<https://trace.ncbi.nlm.nih.gov/Traces/sra/?study=SRP018288>|                  \"Transcriptome data used for gene annotation\"^^<http://www.w3.org/2001/XMLSchema#string>|\"'Tumor:no;tissue:Kidney;source_name:TP_kidney_RNA-seq;breed:Tibetan;local origin:Ganzi Tibetan autonomous prefecture, Sichuan province, China\"^^<http://www.w3.org/2001/XMLSchema#string>|       \"Kidney\"^^<http://www.w3.org/2001/XMLSchema#string>|        \"N/A\"^^<http://www.w3.org/2001/XMLSchema#string>|\"N/A\"^^<http://www.w3.org/2001/XMLSchema#string>|<http://aging-research.group/samples/no>|                                                             ",
            "                                                                                                                                                                                                                                                                  \"N/A\"^^<http://www.w3.org/2001/XMLSchema#string>|\"0.14.1\"^^<http://www.w3.org/2001/XMLSchema#string>|\"A\"^^<http://www.w3.org/2001/XMLSchema#string>|\"128\"^^<http://www.w3.org/2001/XMLSchema#integer>|\"2019-09-16 16:03:25.593\"^^<http://www.w3.org/2001/XMLSchema#string>|\n",
            "|<https://www.ncbi.nlm.nih.gov/bioproject/PRJNA311523>|        <https://www.ncbi.nlm.nih.gov/bioproject/PRJNA311523>|<https://www.ncbi.nlm.nih.gov/sra/SRR3160018>|      <http://aging-research.group/resource/Sus_scrofa>| 9823|\"GSM2059080\"^^<http://www.w3.org/2001/XMLSchema#string>|         <http://aging-research.group/samples/Illumina_HiSeq_2500>|<http://aging-research.group/samples/RNA-Seq>|<http://aging-research.group/samples/PAIRED>|<http://aging-research.group/samples/cDNA>|<https://trace.n",
            "cbi.nlm.nih.gov/Traces/sra/?study=SRP069860>|                  \"Transcriptome data used for gene annotation\"^^<http://www.w3.org/2001/XMLSchema#string>|                                                              \"'Tumor:no;age:60 days old;tissue:heart;source_name:heart;breed name:Large White\"^^<http://www.w3.org/2001/XMLSchema#string>|        \"heart\"^^<http://www.w3.org/2001/XMLSchema#string>|\"60 days old\"^^<http://www.w3.org/2001/XMLSchema#string>|\"N/A\"^^<http://www.w3.org/2001/XMLSchema#string>|<http://aging-research.group/samples/no>|\"The total RNA was extracted using the TrIzol reagent (Life Technologies, Beijing, China) according to the manufacturer’s protocols. Illumina TruSeq RNA Sample Prep Kit was used with 1 ug of total RNA for the construction of sequencing libraries. RNA libraries were prepared for sequencing using standard Illumina protocols\"^^<http://www.w3.org/2001/XMLSchema#string>|\"0.14.1\"^^<http://www.w3.org/2001/XMLSchema#string>|\"A\"^^<http://www.w3.org/2001/XMLSchema#string>|\"128\"^^<ht",
            "tp://www.w3.org/2001/XMLSchema#integer>|\"2019-09-16 14:57:38.679\"^^<http://www.w3.org/2001/XMLSchema#string>|\n",
            "|<https://www.ncbi.nlm.nih.gov/bioproject/PRJNA311523>|        <https://www.ncbi.nlm.nih.gov/bioproject/PRJNA311523>|<https://www.ncbi.nlm.nih.gov/sra/SRR3160041>|      <http://aging-research.group/resource/Sus_scrofa>| 9823|\"GSM2059103\"^^<http://www.w3.org/2001/XMLSchema#string>|         <http://aging-research.group/samples/Illumina_HiSeq_2500>|<http://aging-research.group/samples/RNA-Seq>|<http://aging-research.group/samples/PAIRED>|<http://aging-research.group/samples/cDNA>|<https://trace.ncbi.nlm.nih.gov/Traces/sra/?study=SRP069860>|                  \"Transcriptome data used for gene annotation\"^^<http://www.w3.org/2001/XMLSchema#string>|                                                                      \"'Tumor:no;age:60 days old;tissue:lung;source_name:lung;breed name:Bamei\"^^<http://www.w3.org/2001/XMLSchema#string>|         \"lung\"^^<http://www.w3.org/2001/XMLSchema#string>|\"60 days old\"^^<ht",
            "tp://www.w3.org/2001/XMLSchema#string>|\"N/A\"^^<http://www.w3.org/2001/XMLSchema#string>|<http://aging-research.group/samples/no>|\"The total RNA was extracted using the TrIzol reagent (Life Technologies, Beijing, China) according to the manufacturer’s protocols. Illumina TruSeq RNA Sample Prep Kit was used with 1 ug of total RNA for the construction of sequencing libraries. RNA libraries were prepared for sequencing using standard Illumina protocols\"^^<http://www.w3.org/2001/XMLSchema#string>|\"0.14.1\"^^<http://www.w3.org/2001/XMLSchema#string>|\"A\"^^<http://www.w3.org/2001/XMLSchema#string>|\"128\"^^<http://www.w3.org/2001/XMLSchema#integer>|\"2019-09-16 21:15:56.756\"^^<http://www.w3.org/2001/XMLSchema#string>|\n",
            "+-----------------------------------------------------+-------------------------------------------------------------+---------------------------------------------+-------------------------------------------------------+-----+-------------------------------------------------------+-------------------------",
            "-----------------------------------------+---------------------------------------------+--------------------------------------------+------------------------------------------+------------------------------------------------------------+----------------------------------------------------------------------------------------------------------+------------------------------------------------------------------------------------------------------------------------------------------------------------------------------------------+----------------------------------------------------------+--------------------------------------------------------+------------------------------------------------+----------------------------------------+-----------------------------------------------------------------------------------------------------------------------------------------------------------------------------------------------------------------------------------------------------------------------------------------------",
            "--------------------------------------------------------------------------------+---------------------------------------------------+----------------------------------------------+-------------------------------------------------+--------------------------------------------------------------------+\n",
            "only showing top 10 rows\n",
            "\n"
          ],
          "output_type" : "stream"
        }
      ]
    },
    {
      "cell_type" : "code",
      "execution_count" : 24,
      "metadata" : {
        "cell.metadata.exec_info" : {
          "startTs" : 1581818260344,
          "endTs" : 1581818260512
        },
        "language" : "scala"
      },
      "language" : "scala",
      "source" : [
        "  //note first is subject, others - objects!\n",
        "  def toQuads(dataFrame: DataFrame, subject_prefix: String, subject_column: String,\n",
        "  properties: Seq[String], prefixes: Seq[String], object_columns: Seq[String], context: String = prefix_samples):  org.apache.spark.sql.Dataset[(String, String, String, String)] = {\n",
        "    require(properties.length == prefixes.length && prefixes.length == object_columns.length, s\"not same number of properties(${properties.length}), prefixes(${prefixes.length}) and columns(${object_columns.length})\")\n",
        "    val df = dataFrame.select(subject_column, object_columns:_*)    \n",
        "    df.flatMap{ case row=>       \n",
        "            val sub = pre(subject_prefix, row.getAs[String](subject_column)) \n",
        "            properties.zip(prefixes.zip(object_columns)).map{ \n",
        "                case (prop, (pref, col)) => \n",
        "                    val o = pre(pref, row.getAs[String](col))\n",
        "                    (sub, prop, o, \"<\" + context + \">\" + \" .\")\n",
        "            }\n",
        "    }.toDF(\"subject\", \"property\", \"object\", \"context\").as[(String, String, String, String)]   \n",
        "    \n",
        "}"
      ],
      "outputs" : [
      ]
    },
    {
      "cell_type" : "code",
      "execution_count" : 25,
      "metadata" : {
        "cell.metadata.exec_info" : {
          "startTs" : 1581818260514,
          "endTs" : 1581818260623
        },
        "language" : "scala"
      },
      "language" : "scala",
      "source" : [
        "def toHasQuads(dataFrame: DataFrame, subject_prefix: String, subject_column: String,\n",
        "   prefixes: Seq[String], columns: Seq[String], context: String = prefix_samples, property_prefix: String = prefix_samples) = {\n",
        "      val properties = columns.map(c=> pre(property_prefix, \"has_\"+c))\n",
        "      toQuads(dataFrame, subject_prefix, subject_column, properties, prefixes, columns, context)\n",
        "  }\n",
        "\n",
        "def toHasPrefixedQuads(dataFrame: DataFrame, subject_prefix: String, subject_column: String,\n",
        "columns: Seq[String], context: String = prefix_samples, property_prefix: String = prefix_samples, object_prefix: String = prefix_samples) = {\n",
        "    val properties = columns.map(c=> pre(property_prefix, c))\n",
        "    val prefixes = columns.map(_ => object_prefix)\n",
        "    toQuads(dataFrame, subject_prefix, subject_column, properties, prefixes, columns, context)\n",
        "}\n",
        "\n",
        "def toHasRawQuads(dataFrame: DataFrame, subject_column: String, context: String = prefix_samples, property_prefix: String = prefix_samples) = {\n",
        "    val columns = dataFrame.columns.filterNot(_==subject_column)\n",
        "    val properties = columns.map(c=> pre(property_prefix, \"has_\"+c))    \n",
        "    val prefixes = columns.map(_ => \"\")\n",
        "    toQuads(dataFrame, \"\", subject_column, properties, prefixes, columns, context)\n",
        "}"
      ],
      "outputs" : [
      ]
    },
    {
      "cell_type" : "code",
      "execution_count" : 47,
      "metadata" : {
        "cell.metadata.exec_info" : {
          "startTs" : 1581818605299,
          "endTs" : 1581818605496
        },
        "language" : "scala"
      },
      "language" : "scala",
      "source" : [
        "def has_domains(subject: String, columns: Seq[String], context: String = prefix_samples, subject_prefix: String = prefix_samples, property_prefix: String = prefix_samples) = {\n",
        "    val domain = if(subject.contains(subject_prefix)) subject else pre(subject_prefix, subject)\n",
        "    val ts = columns.map(c=>( pre(property_prefix, \"has_\"+c), \"<http://www.w3.org/2000/01/rdf-schema#domain>\", domain, \"<\" + context +\">\" +\" .\")   ) \n",
        "    spark.createDataset[(String, String, String, String)](ts)\n",
        "}\n",
        "def of_class(df:  org.apache.spark.sql.Dataset[_], subject: String, column: String = \"subject\", subject_prefix: String = prefix_samples, context: String = prefix_samples) ={\n",
        "    val v = df.select(column).distinct.as[String]\n",
        "    val cl = if(subject.contains(subject_prefix)) subject else pre(subject_prefix, subject)    \n",
        "    val ts = Seq((cl, \"<http://www.w3.org/2000/01/rdf-schema#subClassOf>\", \"<http://www.w3.org/2002/07/owl#Class>\",  \"<\" + context +\">\" +\" .\"))\n",
        "    spark.createDataset[(String, String, String, String)](ts).union(\n",
        "        v\n",
        "    .withColumn(\"property\", lit(\"<http://www.w3.org/1999/02/22-rdf-syntax-ns#type>\"))\n",
        "    .withColumn(\"object\", lit(cl))\n",
        "    .withColumn(\"context\", lit(\"<\" + context +\">\" +\" .\"))\n",
        "    .as[(String, String, String, String)])\n",
        "}"
      ],
      "outputs" : [
      ]
    },
    {
      "cell_type" : "code",
      "execution_count" : 52,
      "metadata" : {
        "cell.metadata.exec_info" : {
          "startTs" : 1581818607374,
          "endTs" : 1581818608401
        },
        "language" : "scala"
      },
      "language" : "scala",
      "source" : [
        "val biopro_prep = samples_prefixed.select(\"bioproject\", \"series\", \"run\", \"study\")\n",
        "val biopro = toHasRawQuads(biopro_prep, \"bioproject\")\n",
        "val all_biopro = of_class(biopro, \"Bioproject\").union(has_domains(\"Bioproject\", biopro_prep.columns.toList)).union(biopro)\n",
        "all_biopro.show(100,10000)"
      ],
      "outputs" : [
        {
          "name" : "stdout",
          "text" : [
            "+-----------------------------------------------------+-------------------------------------------------+-------------------------------------------------------------+----------------------------------------+\n",
            "|                                                   _1|                                               _2|                                                           _3|                                      _4|\n",
            "+-----------------------------------------------------+-------------------------------------------------+-------------------------------------------------------------+----------------------------------------+\n",
            "|     <http://aging-research.group/samples/Bioproject>|<http://www.w3.org/2000/01/rdf-schema#subClassOf>|                        <http://www.w3.org/2002/07/owl#Class>|<http://aging-research.group/samples/> .|\n",
            "|<https://www.ncbi.nlm.nih.gov/bioproject/PRJNA200320>|<http://www.w3.org/1999/02/22-rdf-syntax-ns#type>|             <http://aging-research.group/samples/Bioproject>|<http://aging-researc",
            "h.group/samples/> .|\n",
            "|<https://www.ncbi.nlm.nih.gov/bioproject/PRJNA184055>|<http://www.w3.org/1999/02/22-rdf-syntax-ns#type>|             <http://aging-research.group/samples/Bioproject>|<http://aging-research.group/samples/> .|\n",
            "|<https://www.ncbi.nlm.nih.gov/bioproject/PRJNA312819>|<http://www.w3.org/1999/02/22-rdf-syntax-ns#type>|             <http://aging-research.group/samples/Bioproject>|<http://aging-research.group/samples/> .|\n",
            "| <https://www.ncbi.nlm.nih.gov/bioproject/PRJEB20980>|<http://www.w3.org/1999/02/22-rdf-syntax-ns#type>|             <http://aging-research.group/samples/Bioproject>|<http://aging-research.group/samples/> .|\n",
            "|<https://www.ncbi.nlm.nih.gov/bioproject/PRJNA438118>|<http://www.w3.org/1999/02/22-rdf-syntax-ns#type>|             <http://aging-research.group/samples/Bioproject>|<http://aging-research.group/samples/> .|\n",
            "|<https://www.ncbi.nlm.nih.gov/bioproject/PRJNA218629>|<http://www.w3.org/1999/02/22-rdf-syntax-ns#type>|             <http://aging-research.group/samples/Bioproject>|",
            "<http://aging-research.group/samples/> .|\n",
            "|<https://www.ncbi.nlm.nih.gov/bioproject/PRJNA143625>|<http://www.w3.org/1999/02/22-rdf-syntax-ns#type>|             <http://aging-research.group/samples/Bioproject>|<http://aging-research.group/samples/> .|\n",
            "| <https://www.ncbi.nlm.nih.gov/bioproject/PRJEB21760>|<http://www.w3.org/1999/02/22-rdf-syntax-ns#type>|             <http://aging-research.group/samples/Bioproject>|<http://aging-research.group/samples/> .|\n",
            "|<https://www.ncbi.nlm.nih.gov/bioproject/PRJNA454681>|<http://www.w3.org/1999/02/22-rdf-syntax-ns#type>|             <http://aging-research.group/samples/Bioproject>|<http://aging-research.group/samples/> .|\n",
            "|<https://www.ncbi.nlm.nih.gov/bioproject/PRJNA283581>|<http://www.w3.org/1999/02/22-rdf-syntax-ns#type>|             <http://aging-research.group/samples/Bioproject>|<http://aging-research.group/samples/> .|\n",
            "|<https://www.ncbi.nlm.nih.gov/bioproject/PRJNA186646>|<http://www.w3.org/1999/02/22-rdf-syntax-ns#type>|             <http://aging-research.group",
            "/samples/Bioproject>|<http://aging-research.group/samples/> .|\n",
            "|<https://www.ncbi.nlm.nih.gov/bioproject/PRJNA193501>|<http://www.w3.org/1999/02/22-rdf-syntax-ns#type>|             <http://aging-research.group/samples/Bioproject>|<http://aging-research.group/samples/> .|\n",
            "|<https://www.ncbi.nlm.nih.gov/bioproject/PRJNA242409>|<http://www.w3.org/1999/02/22-rdf-syntax-ns#type>|             <http://aging-research.group/samples/Bioproject>|<http://aging-research.group/samples/> .|\n",
            "|<https://www.ncbi.nlm.nih.gov/bioproject/PRJNA392328>|<http://www.w3.org/1999/02/22-rdf-syntax-ns#type>|             <http://aging-research.group/samples/Bioproject>|<http://aging-research.group/samples/> .|\n",
            "|<https://www.ncbi.nlm.nih.gov/bioproject/PRJNA293021>|<http://www.w3.org/1999/02/22-rdf-syntax-ns#type>|             <http://aging-research.group/samples/Bioproject>|<http://aging-research.group/samples/> .|\n",
            "|<https://www.ncbi.nlm.nih.gov/bioproject/PRJNA238328>|<http://www.w3.org/1999/02/22-rdf-syntax-ns#type>|             <http:/",
            "/aging-research.group/samples/Bioproject>|<http://aging-research.group/samples/> .|\n",
            "|<https://www.ncbi.nlm.nih.gov/bioproject/PRJNA352990>|<http://www.w3.org/1999/02/22-rdf-syntax-ns#type>|             <http://aging-research.group/samples/Bioproject>|<http://aging-research.group/samples/> .|\n",
            "|<https://www.ncbi.nlm.nih.gov/bioproject/PRJNA271912>|<http://www.w3.org/1999/02/22-rdf-syntax-ns#type>|             <http://aging-research.group/samples/Bioproject>|<http://aging-research.group/samples/> .|\n",
            "|<https://www.ncbi.nlm.nih.gov/bioproject/PRJNA339185>|<http://www.w3.org/1999/02/22-rdf-syntax-ns#type>|             <http://aging-research.group/samples/Bioproject>|<http://aging-research.group/samples/> .|\n",
            "|<https://www.ncbi.nlm.nih.gov/bioproject/PRJNA412080>|<http://www.w3.org/1999/02/22-rdf-syntax-ns#type>|             <http://aging-research.group/samples/Bioproject>|<http://aging-research.group/samples/> .|\n",
            "|<https://www.ncbi.nlm.nih.gov/bioproject/PRJNA143627>|<http://www.w3.org/1999/02/22-rdf-syntax-ns#type>",
            "|             <http://aging-research.group/samples/Bioproject>|<http://aging-research.group/samples/> .|\n",
            "|<https://www.ncbi.nlm.nih.gov/bioproject/PRJNA401436>|<http://www.w3.org/1999/02/22-rdf-syntax-ns#type>|             <http://aging-research.group/samples/Bioproject>|<http://aging-research.group/samples/> .|\n",
            "|<https://www.ncbi.nlm.nih.gov/bioproject/PRJNA310841>|<http://www.w3.org/1999/02/22-rdf-syntax-ns#type>|             <http://aging-research.group/samples/Bioproject>|<http://aging-research.group/samples/> .|\n",
            "|<https://www.ncbi.nlm.nih.gov/bioproject/PRJNA309284>|<http://www.w3.org/1999/02/22-rdf-syntax-ns#type>|             <http://aging-research.group/samples/Bioproject>|<http://aging-research.group/samples/> .|\n",
            "|<https://www.ncbi.nlm.nih.gov/bioproject/PRJNA540429>|<http://www.w3.org/1999/02/22-rdf-syntax-ns#type>|             <http://aging-research.group/samples/Bioproject>|<http://aging-research.group/samples/> .|\n",
            "|<https://www.ncbi.nlm.nih.gov/bioproject/PRJNA398031>|<http://www.w3.org/1999/02/2",
            "2-rdf-syntax-ns#type>|             <http://aging-research.group/samples/Bioproject>|<http://aging-research.group/samples/> .|\n",
            "|  <https://www.ncbi.nlm.nih.gov/bioproject/PRJEB3197>|<http://www.w3.org/1999/02/22-rdf-syntax-ns#type>|             <http://aging-research.group/samples/Bioproject>|<http://aging-research.group/samples/> .|\n",
            "|  <https://www.ncbi.nlm.nih.gov/bioproject/PRJEB4677>|<http://www.w3.org/1999/02/22-rdf-syntax-ns#type>|             <http://aging-research.group/samples/Bioproject>|<http://aging-research.group/samples/> .|\n",
            "|<https://www.ncbi.nlm.nih.gov/bioproject/PRJNA400695>|<http://www.w3.org/1999/02/22-rdf-syntax-ns#type>|             <http://aging-research.group/samples/Bioproject>|<http://aging-research.group/samples/> .|\n",
            "|<https://www.ncbi.nlm.nih.gov/bioproject/PRJNA386218>|<http://www.w3.org/1999/02/22-rdf-syntax-ns#type>|             <http://aging-research.group/samples/Bioproject>|<http://aging-research.group/samples/> .|\n",
            "|<https://www.ncbi.nlm.nih.gov/bioproject/PRJNA264588>|<http:/",
            "/www.w3.org/1999/02/22-rdf-syntax-ns#type>|             <http://aging-research.group/samples/Bioproject>|<http://aging-research.group/samples/> .|\n",
            "| <https://www.ncbi.nlm.nih.gov/bioproject/PRJEB13074>|<http://www.w3.org/1999/02/22-rdf-syntax-ns#type>|             <http://aging-research.group/samples/Bioproject>|<http://aging-research.group/samples/> .|\n",
            "|<https://www.ncbi.nlm.nih.gov/bioproject/PRJNA141257>|<http://www.w3.org/1999/02/22-rdf-syntax-ns#type>|             <http://aging-research.group/samples/Bioproject>|<http://aging-research.group/samples/> .|\n",
            "|<https://www.ncbi.nlm.nih.gov/bioproject/PRJNA246761>|<http://www.w3.org/1999/02/22-rdf-syntax-ns#type>|             <http://aging-research.group/samples/Bioproject>|<http://aging-research.group/samples/> .|\n",
            "|<https://www.ncbi.nlm.nih.gov/bioproject/PRJNA285021>|<http://www.w3.org/1999/02/22-rdf-syntax-ns#type>|             <http://aging-research.group/samples/Bioproject>|<http://aging-research.group/samples/> .|\n",
            "|  <https://www.ncbi.nlm.nih.gov/bioproje",
            "ct/PRJEB6169>|<http://www.w3.org/1999/02/22-rdf-syntax-ns#type>|             <http://aging-research.group/samples/Bioproject>|<http://aging-research.group/samples/> .|\n",
            "|<https://www.ncbi.nlm.nih.gov/bioproject/PRJNA318917>|<http://www.w3.org/1999/02/22-rdf-syntax-ns#type>|             <http://aging-research.group/samples/Bioproject>|<http://aging-research.group/samples/> .|\n",
            "|<https://www.ncbi.nlm.nih.gov/bioproject/PRJNA362606>|<http://www.w3.org/1999/02/22-rdf-syntax-ns#type>|             <http://aging-research.group/samples/Bioproject>|<http://aging-research.group/samples/> .|\n",
            "|<https://www.ncbi.nlm.nih.gov/bioproject/PRJNA379599>|<http://www.w3.org/1999/02/22-rdf-syntax-ns#type>|             <http://aging-research.group/samples/Bioproject>|<http://aging-research.group/samples/> .|\n",
            "|<https://www.ncbi.nlm.nih.gov/bioproject/PRJNA296888>|<http://www.w3.org/1999/02/22-rdf-syntax-ns#type>|             <http://aging-research.group/samples/Bioproject>|<http://aging-research.group/samples/> .|\n",
            "|<https://www.ncbi.n",
            "lm.nih.gov/bioproject/PRJNA215848>|<http://www.w3.org/1999/02/22-rdf-syntax-ns#type>|             <http://aging-research.group/samples/Bioproject>|<http://aging-research.group/samples/> .|\n",
            "|<https://www.ncbi.nlm.nih.gov/bioproject/PRJNA396588>|<http://www.w3.org/1999/02/22-rdf-syntax-ns#type>|             <http://aging-research.group/samples/Bioproject>|<http://aging-research.group/samples/> .|\n",
            "|<https://www.ncbi.nlm.nih.gov/bioproject/PRJNA254971>|<http://www.w3.org/1999/02/22-rdf-syntax-ns#type>|             <http://aging-research.group/samples/Bioproject>|<http://aging-research.group/samples/> .|\n",
            "|<https://www.ncbi.nlm.nih.gov/bioproject/PRJNA177791>|<http://www.w3.org/1999/02/22-rdf-syntax-ns#type>|             <http://aging-research.group/samples/Bioproject>|<http://aging-research.group/samples/> .|\n",
            "|<https://www.ncbi.nlm.nih.gov/bioproject/PRJNA378767>|<http://www.w3.org/1999/02/22-rdf-syntax-ns#type>|             <http://aging-research.group/samples/Bioproject>|<http://aging-research.group/samples/> .|",
            "\n",
            "| <https://www.ncbi.nlm.nih.gov/bioproject/PRJEB21274>|<http://www.w3.org/1999/02/22-rdf-syntax-ns#type>|             <http://aging-research.group/samples/Bioproject>|<http://aging-research.group/samples/> .|\n",
            "|<https://www.ncbi.nlm.nih.gov/bioproject/PRJNA258238>|<http://www.w3.org/1999/02/22-rdf-syntax-ns#type>|             <http://aging-research.group/samples/Bioproject>|<http://aging-research.group/samples/> .|\n",
            "|<https://www.ncbi.nlm.nih.gov/bioproject/PRJNA342653>|<http://www.w3.org/1999/02/22-rdf-syntax-ns#type>|             <http://aging-research.group/samples/Bioproject>|<http://aging-research.group/samples/> .|\n",
            "|<https://www.ncbi.nlm.nih.gov/bioproject/PRJNA274427>|<http://www.w3.org/1999/02/22-rdf-syntax-ns#type>|             <http://aging-research.group/samples/Bioproject>|<http://aging-research.group/samples/> .|\n",
            "|<https://www.ncbi.nlm.nih.gov/bioproject/PRJNA119135>|<http://www.w3.org/1999/02/22-rdf-syntax-ns#type>|             <http://aging-research.group/samples/Bioproject>|<http://aging-resear",
            "ch.group/samples/> .|\n",
            "|<https://www.ncbi.nlm.nih.gov/bioproject/PRJNA338488>|<http://www.w3.org/1999/02/22-rdf-syntax-ns#type>|             <http://aging-research.group/samples/Bioproject>|<http://aging-research.group/samples/> .|\n",
            "|<https://www.ncbi.nlm.nih.gov/bioproject/PRJNA314210>|<http://www.w3.org/1999/02/22-rdf-syntax-ns#type>|             <http://aging-research.group/samples/Bioproject>|<http://aging-research.group/samples/> .|\n",
            "| <https://www.ncbi.nlm.nih.gov/bioproject/PRJEB19199>|<http://www.w3.org/1999/02/22-rdf-syntax-ns#type>|             <http://aging-research.group/samples/Bioproject>|<http://aging-research.group/samples/> .|\n",
            "|<https://www.ncbi.nlm.nih.gov/bioproject/PRJNA311523>|<http://www.w3.org/1999/02/22-rdf-syntax-ns#type>|             <http://aging-research.group/samples/Bioproject>|<http://aging-research.group/samples/> .|\n",
            "|<https://www.ncbi.nlm.nih.gov/bioproject/PRJNA358081>|<http://www.w3.org/1999/02/22-rdf-syntax-ns#type>|             <http://aging-research.group/samples/Bioproject>",
            "|<http://aging-research.group/samples/> .|\n",
            "|<https://www.ncbi.nlm.nih.gov/bioproject/PRJNA397900>|<http://www.w3.org/1999/02/22-rdf-syntax-ns#type>|             <http://aging-research.group/samples/Bioproject>|<http://aging-research.group/samples/> .|\n",
            "|<https://www.ncbi.nlm.nih.gov/bioproject/PRJNA326784>|<http://www.w3.org/1999/02/22-rdf-syntax-ns#type>|             <http://aging-research.group/samples/Bioproject>|<http://aging-research.group/samples/> .|\n",
            "|<https://www.ncbi.nlm.nih.gov/bioproject/PRJNA248454>|<http://www.w3.org/1999/02/22-rdf-syntax-ns#type>|             <http://aging-research.group/samples/Bioproject>|<http://aging-research.group/samples/> .|\n",
            "|<https://www.ncbi.nlm.nih.gov/bioproject/PRJNA255754>|<http://www.w3.org/1999/02/22-rdf-syntax-ns#type>|             <http://aging-research.group/samples/Bioproject>|<http://aging-research.group/samples/> .|\n",
            "|<https://www.ncbi.nlm.nih.gov/bioproject/PRJNA143955>|<http://www.w3.org/1999/02/22-rdf-syntax-ns#type>|             <http://aging-research.grou",
            "p/samples/Bioproject>|<http://aging-research.group/samples/> .|\n",
            "|<https://www.ncbi.nlm.nih.gov/bioproject/PRJNA377093>|<http://www.w3.org/1999/02/22-rdf-syntax-ns#type>|             <http://aging-research.group/samples/Bioproject>|<http://aging-research.group/samples/> .|\n",
            "|<https://www.ncbi.nlm.nih.gov/bioproject/PRJNA188070>|<http://www.w3.org/1999/02/22-rdf-syntax-ns#type>|             <http://aging-research.group/samples/Bioproject>|<http://aging-research.group/samples/> .|\n",
            "|<https://www.ncbi.nlm.nih.gov/bioproject/PRJNA312519>|<http://www.w3.org/1999/02/22-rdf-syntax-ns#type>|             <http://aging-research.group/samples/Bioproject>|<http://aging-research.group/samples/> .|\n",
            "|<https://www.ncbi.nlm.nih.gov/bioproject/PRJNA542984>|<http://www.w3.org/1999/02/22-rdf-syntax-ns#type>|             <http://aging-research.group/samples/Bioproject>|<http://aging-research.group/samples/> .|\n",
            "|<https://www.ncbi.nlm.nih.gov/bioproject/PRJNA277771>|<http://www.w3.org/1999/02/22-rdf-syntax-ns#type>|             <http:",
            "//aging-research.group/samples/Bioproject>|<http://aging-research.group/samples/> .|\n",
            "|  <https://www.ncbi.nlm.nih.gov/bioproject/PRJDB3586>|<http://www.w3.org/1999/02/22-rdf-syntax-ns#type>|             <http://aging-research.group/samples/Bioproject>|<http://aging-research.group/samples/> .|\n",
            "|<https://www.ncbi.nlm.nih.gov/bioproject/PRJNA136267>|<http://www.w3.org/1999/02/22-rdf-syntax-ns#type>|             <http://aging-research.group/samples/Bioproject>|<http://aging-research.group/samples/> .|\n",
            "|<https://www.ncbi.nlm.nih.gov/bioproject/PRJNA358624>|<http://www.w3.org/1999/02/22-rdf-syntax-ns#type>|             <http://aging-research.group/samples/Bioproject>|<http://aging-research.group/samples/> .|\n",
            "| <http://aging-research.group/samples/has_bioproject>|    <http://www.w3.org/2000/01/rdf-schema#domain>|             <http://aging-research.group/samples/Bioproject>|<http://aging-research.group/samples/> .|\n",
            "|     <http://aging-research.group/samples/has_series>|    <http://www.w3.org/2000/01/rdf-schema#domain",
            ">|             <http://aging-research.group/samples/Bioproject>|<http://aging-research.group/samples/> .|\n",
            "|        <http://aging-research.group/samples/has_run>|    <http://www.w3.org/2000/01/rdf-schema#domain>|             <http://aging-research.group/samples/Bioproject>|<http://aging-research.group/samples/> .|\n",
            "|      <http://aging-research.group/samples/has_study>|    <http://www.w3.org/2000/01/rdf-schema#domain>|             <http://aging-research.group/samples/Bioproject>|<http://aging-research.group/samples/> .|\n",
            "|<https://www.ncbi.nlm.nih.gov/bioproject/PRJNA184055>| <http://aging-research.group/samples/has_series>|<https://www.ncbi.nlm.nih.gov/geo/query/acc.cgi?acc=GSE43013>|<http://aging-research.group/samples/> .|\n",
            "|<https://www.ncbi.nlm.nih.gov/bioproject/PRJNA184055>|    <http://aging-research.group/samples/has_run>|                 <https://www.ncbi.nlm.nih.gov/sra/SRR636888>|<http://aging-research.group/samples/> .|\n",
            "|<https://www.ncbi.nlm.nih.gov/bioproject/PRJNA184055>|  <http://aging-research.gr",
            "oup/samples/has_study>| <https://trace.ncbi.nlm.nih.gov/Traces/sra/?study=SRP017611>|<http://aging-research.group/samples/> .|\n",
            "|<https://www.ncbi.nlm.nih.gov/bioproject/PRJNA184055>| <http://aging-research.group/samples/has_series>|<https://www.ncbi.nlm.nih.gov/geo/query/acc.cgi?acc=GSE43013>|<http://aging-research.group/samples/> .|\n",
            "|<https://www.ncbi.nlm.nih.gov/bioproject/PRJNA184055>|    <http://aging-research.group/samples/has_run>|                 <https://www.ncbi.nlm.nih.gov/sra/SRR636932>|<http://aging-research.group/samples/> .|\n",
            "|<https://www.ncbi.nlm.nih.gov/bioproject/PRJNA184055>|  <http://aging-research.group/samples/has_study>| <https://trace.ncbi.nlm.nih.gov/Traces/sra/?study=SRP017611>|<http://aging-research.group/samples/> .|\n",
            "|<https://www.ncbi.nlm.nih.gov/bioproject/PRJNA184055>| <http://aging-research.group/samples/has_series>|<https://www.ncbi.nlm.nih.gov/geo/query/acc.cgi?acc=GSE43013>|<http://aging-research.group/samples/> .|\n",
            "|<https://www.ncbi.nlm.nih.gov/bioproject/PRJNA184055>|    <h",
            "ttp://aging-research.group/samples/has_run>|                 <https://www.ncbi.nlm.nih.gov/sra/SRR636978>|<http://aging-research.group/samples/> .|\n",
            "|<https://www.ncbi.nlm.nih.gov/bioproject/PRJNA184055>|  <http://aging-research.group/samples/has_study>| <https://trace.ncbi.nlm.nih.gov/Traces/sra/?study=SRP017611>|<http://aging-research.group/samples/> .|\n",
            "|<https://www.ncbi.nlm.nih.gov/bioproject/PRJNA184055>| <http://aging-research.group/samples/has_series>|        <https://www.ncbi.nlm.nih.gov/bioproject/PRJNA184055>|<http://aging-research.group/samples/> .|\n",
            "|<https://www.ncbi.nlm.nih.gov/bioproject/PRJNA184055>|    <http://aging-research.group/samples/has_run>|                 <https://www.ncbi.nlm.nih.gov/sra/SRR636887>|<http://aging-research.group/samples/> .|\n",
            "|<https://www.ncbi.nlm.nih.gov/bioproject/PRJNA184055>|  <http://aging-research.group/samples/has_study>| <https://trace.ncbi.nlm.nih.gov/Traces/sra/?study=SRP017611>|<http://aging-research.group/samples/> .|\n",
            "|<https://www.ncbi.nlm.nih.gov/bioprojec",
            "t/PRJNA184055>| <http://aging-research.group/samples/has_series>|        <https://www.ncbi.nlm.nih.gov/bioproject/PRJNA184055>|<http://aging-research.group/samples/> .|\n",
            "|<https://www.ncbi.nlm.nih.gov/bioproject/PRJNA184055>|    <http://aging-research.group/samples/has_run>|                 <https://www.ncbi.nlm.nih.gov/sra/SRR636933>|<http://aging-research.group/samples/> .|\n",
            "|<https://www.ncbi.nlm.nih.gov/bioproject/PRJNA184055>|  <http://aging-research.group/samples/has_study>| <https://trace.ncbi.nlm.nih.gov/Traces/sra/?study=SRP017611>|<http://aging-research.group/samples/> .|\n",
            "|<https://www.ncbi.nlm.nih.gov/bioproject/PRJNA188070>| <http://aging-research.group/samples/has_series>|        <https://www.ncbi.nlm.nih.gov/bioproject/PRJNA188070>|<http://aging-research.group/samples/> .|\n",
            "|<https://www.ncbi.nlm.nih.gov/bioproject/PRJNA188070>|    <http://aging-research.group/samples/has_run>|                 <https://www.ncbi.nlm.nih.gov/sra/SRR653846>|<http://aging-research.group/samples/> .|\n",
            "|<https://www.ncbi.",
            "nlm.nih.gov/bioproject/PRJNA188070>|  <http://aging-research.group/samples/has_study>| <https://trace.ncbi.nlm.nih.gov/Traces/sra/?study=SRP018288>|<http://aging-research.group/samples/> .|\n",
            "|<https://www.ncbi.nlm.nih.gov/bioproject/PRJNA311523>| <http://aging-research.group/samples/has_series>|        <https://www.ncbi.nlm.nih.gov/bioproject/PRJNA311523>|<http://aging-research.group/samples/> .|\n",
            "|<https://www.ncbi.nlm.nih.gov/bioproject/PRJNA311523>|    <http://aging-research.group/samples/has_run>|                <https://www.ncbi.nlm.nih.gov/sra/SRR3160008>|<http://aging-research.group/samples/> .|\n",
            "|<https://www.ncbi.nlm.nih.gov/bioproject/PRJNA311523>|  <http://aging-research.group/samples/has_study>| <https://trace.ncbi.nlm.nih.gov/Traces/sra/?study=SRP069860>|<http://aging-research.group/samples/> .|\n",
            "|<https://www.ncbi.nlm.nih.gov/bioproject/PRJNA311523>| <http://aging-research.group/samples/has_series>|        <https://www.ncbi.nlm.nih.gov/bioproject/PRJNA311523>|<http://aging-research.group/samples/> .",
            "|\n",
            "|<https://www.ncbi.nlm.nih.gov/bioproject/PRJNA311523>|    <http://aging-research.group/samples/has_run>|                <https://www.ncbi.nlm.nih.gov/sra/SRR3160018>|<http://aging-research.group/samples/> .|\n",
            "|<https://www.ncbi.nlm.nih.gov/bioproject/PRJNA311523>|  <http://aging-research.group/samples/has_study>| <https://trace.ncbi.nlm.nih.gov/Traces/sra/?study=SRP069860>|<http://aging-research.group/samples/> .|\n",
            "|<https://www.ncbi.nlm.nih.gov/bioproject/PRJNA311523>| <http://aging-research.group/samples/has_series>|        <https://www.ncbi.nlm.nih.gov/bioproject/PRJNA311523>|<http://aging-research.group/samples/> .|\n",
            "|<https://www.ncbi.nlm.nih.gov/bioproject/PRJNA311523>|    <http://aging-research.group/samples/has_run>|                <https://www.ncbi.nlm.nih.gov/sra/SRR3160041>|<http://aging-research.group/samples/> .|\n",
            "|<https://www.ncbi.nlm.nih.gov/bioproject/PRJNA311523>|  <http://aging-research.group/samples/has_study>| <https://trace.ncbi.nlm.nih.gov/Traces/sra/?study=SRP069860>|<http://aging-resea",
            "rch.group/samples/> .|\n",
            "+-----------------------------------------------------+-------------------------------------------------+-------------------------------------------------------------+----------------------------------------+\n",
            "only showing top 100 rows\n",
            "\n"
          ],
          "output_type" : "stream"
        }
      ]
    },
    {
      "cell_type" : "code",
      "execution_count" : 45,
      "metadata" : {
        "cell.metadata.exec_info" : {
          "startTs" : 1581818608404,
          "endTs" : 1581818609147
        },
        "language" : "scala"
      },
      "language" : "scala",
      "source" : [
        "val bioseries_prep = samples_prefixed.select(\"series\", \"run\", \"study\")\n",
        "val bioseries = toHasRawQuads(bioseries_prep, \"series\")\n",
        "val all_bioseries = of_class(bioseries, \"Experiment_series\").union(has_domains(\"Experiment_series\", bioseries_prep.columns.toList)).union(bioseries)\n",
        "all_bioseries.show(100,100)"
      ],
      "outputs" : [
        {
          "name" : "stdout",
          "text" : [
            "+--------------------------------------------------------------------------------+-------------------------------------------------+------------------------------------------------------------+----------------------------------------+\n",
            "|                                                                              _1|                                               _2|                                                          _3|                                      _4|\n",
            "+--------------------------------------------------------------------------------+-------------------------------------------------+------------------------------------------------------------+----------------------------------------+\n",
            "|                         <http://aging-research.group/samples/Experiment_series>|<http://www.w3.org/2000/01/rdf-schema#subClassOf>|                       <http://www.w3.org/2002/07/owl#Class>|<http://aging-research.group/samples/> .|\n",
            "|                           <https://www.ncbi.nlm.nih.gov/bioproject/PRJNA200320>|<h",
            "ttp://www.w3.org/1999/02/22-rdf-syntax-ns#type>|     <http://aging-research.group/samples/Experiment_series>|<http://aging-research.group/samples/> .|\n",
            "|                           <https://www.ncbi.nlm.nih.gov/bioproject/PRJNA184055>|<http://www.w3.org/1999/02/22-rdf-syntax-ns#type>|     <http://aging-research.group/samples/Experiment_series>|<http://aging-research.group/samples/> .|\n",
            "|                           <https://www.ncbi.nlm.nih.gov/bioproject/PRJNA312819>|<http://www.w3.org/1999/02/22-rdf-syntax-ns#type>|     <http://aging-research.group/samples/Experiment_series>|<http://aging-research.group/samples/> .|\n",
            "|                            <https://www.ncbi.nlm.nih.gov/bioproject/PRJEB20980>|<http://www.w3.org/1999/02/22-rdf-syntax-ns#type>|     <http://aging-research.group/samples/Experiment_series>|<http://aging-research.group/samples/> .|\n",
            "|                  <https://www.ncbi.nlm.nih.gov/geo/query/acc.cgi?acc=GSE113957>|<http://www.w3.org/1999/02/22-rdf-syntax-ns#type>|     <http://aging-research.group/sa",
            "mples/Experiment_series>|<http://aging-research.group/samples/> .|\n",
            "|                   <https://www.ncbi.nlm.nih.gov/geo/query/acc.cgi?acc=GSE77572>|<http://www.w3.org/1999/02/22-rdf-syntax-ns#type>|     <http://aging-research.group/samples/Experiment_series>|<http://aging-research.group/samples/> .|\n",
            "|                   <https://www.ncbi.nlm.nih.gov/geo/query/acc.cgi?acc=GSE45326>|<http://www.w3.org/1999/02/22-rdf-syntax-ns#type>|     <http://aging-research.group/samples/Experiment_series>|<http://aging-research.group/samples/> .|\n",
            "|                            <https://www.ncbi.nlm.nih.gov/bioproject/PRJEB21760>|<http://www.w3.org/1999/02/22-rdf-syntax-ns#type>|     <http://aging-research.group/samples/Experiment_series>|<http://aging-research.group/samples/> .|\n",
            "|                   <https://www.ncbi.nlm.nih.gov/geo/query/acc.cgi?acc=GSE89714>|<http://www.w3.org/1999/02/22-rdf-syntax-ns#type>|     <http://aging-research.group/samples/Experiment_series>|<http://aging-research.group/samples/> .|\n",
            "|                ",
            "           <https://www.ncbi.nlm.nih.gov/bioproject/PRJNA283581>|<http://www.w3.org/1999/02/22-rdf-syntax-ns#type>|     <http://aging-research.group/samples/Experiment_series>|<http://aging-research.group/samples/> .|\n",
            "|                   <https://www.ncbi.nlm.nih.gov/geo/query/acc.cgi?acc=GSE57598>|<http://www.w3.org/1999/02/22-rdf-syntax-ns#type>|     <http://aging-research.group/samples/Experiment_series>|<http://aging-research.group/samples/> .|\n",
            "|                           <https://www.ncbi.nlm.nih.gov/bioproject/PRJNA186646>|<http://www.w3.org/1999/02/22-rdf-syntax-ns#type>|     <http://aging-research.group/samples/Experiment_series>|<http://aging-research.group/samples/> .|\n",
            "|        <https://www.ncbi.nlm.nih.gov/geo/query/acc.cgi?acc=GSE100631_GSE100633>|<http://www.w3.org/1999/02/22-rdf-syntax-ns#type>|     <http://aging-research.group/samples/Experiment_series>|<http://aging-research.group/samples/> .|\n",
            "|                   <https://www.ncbi.nlm.nih.gov/geo/query/acc.cgi?acc=GSE66715>|<http://www.w3.org/",
            "1999/02/22-rdf-syntax-ns#type>|     <http://aging-research.group/samples/Experiment_series>|<http://aging-research.group/samples/> .|\n",
            "|                           <https://www.ncbi.nlm.nih.gov/bioproject/PRJNA242409>|<http://www.w3.org/1999/02/22-rdf-syntax-ns#type>|     <http://aging-research.group/samples/Experiment_series>|<http://aging-research.group/samples/> .|\n",
            "|                   <https://www.ncbi.nlm.nih.gov/geo/query/acc.cgi?acc=GSE50747>|<http://www.w3.org/1999/02/22-rdf-syntax-ns#type>|     <http://aging-research.group/samples/Experiment_series>|<http://aging-research.group/samples/> .|\n",
            "|                           <https://www.ncbi.nlm.nih.gov/bioproject/PRJNA293021>|<http://www.w3.org/1999/02/22-rdf-syntax-ns#type>|     <http://aging-research.group/samples/Experiment_series>|<http://aging-research.group/samples/> .|\n",
            "|                   <https://www.ncbi.nlm.nih.gov/geo/query/acc.cgi?acc=GSE83717>|<http://www.w3.org/1999/02/22-rdf-syntax-ns#type>|     <http://aging-research.group/samples/Experiment_",
            "series>|<http://aging-research.group/samples/> .|\n",
            "|                           <https://www.ncbi.nlm.nih.gov/bioproject/PRJNA271912>|<http://www.w3.org/1999/02/22-rdf-syntax-ns#type>|     <http://aging-research.group/samples/Experiment_series>|<http://aging-research.group/samples/> .|\n",
            "|                   <https://www.ncbi.nlm.nih.gov/geo/query/acc.cgi?acc=GSE17274>|<http://www.w3.org/1999/02/22-rdf-syntax-ns#type>|     <http://aging-research.group/samples/Experiment_series>|<http://aging-research.group/samples/> .|\n",
            "|                   <https://www.ncbi.nlm.nih.gov/geo/query/acc.cgi?acc=GSE50027>|<http://www.w3.org/1999/02/22-rdf-syntax-ns#type>|     <http://aging-research.group/samples/Experiment_series>|<http://aging-research.group/samples/> .|\n",
            "|                   <https://www.ncbi.nlm.nih.gov/geo/query/acc.cgi?acc=GSE92858>|<http://www.w3.org/1999/02/22-rdf-syntax-ns#type>|     <http://aging-research.group/samples/Experiment_series>|<http://aging-research.group/samples/> .|\n",
            "|                           <https",
            "://www.ncbi.nlm.nih.gov/bioproject/PRJNA339185>|<http://www.w3.org/1999/02/22-rdf-syntax-ns#type>|     <http://aging-research.group/samples/Experiment_series>|<http://aging-research.group/samples/> .|\n",
            "|<https://www.ncbi.nlm.nih.gov/geo/query/acc.cgi?acc=GSE98745_GSE98746_GSE103066>|<http://www.w3.org/1999/02/22-rdf-syntax-ns#type>|     <http://aging-research.group/samples/Experiment_series>|<http://aging-research.group/samples/> .|\n",
            "|                           <https://www.ncbi.nlm.nih.gov/bioproject/PRJNA412080>|<http://www.w3.org/1999/02/22-rdf-syntax-ns#type>|     <http://aging-research.group/samples/Experiment_series>|<http://aging-research.group/samples/> .|\n",
            "|                   <https://www.ncbi.nlm.nih.gov/geo/query/acc.cgi?acc=GSE95420>|<http://www.w3.org/1999/02/22-rdf-syntax-ns#type>|     <http://aging-research.group/samples/Experiment_series>|<http://aging-research.group/samples/> .|\n",
            "|                           <https://www.ncbi.nlm.nih.gov/bioproject/PRJNA143627>|<http://www.w3.org/1999/02/22-rdf-sy",
            "ntax-ns#type>|     <http://aging-research.group/samples/Experiment_series>|<http://aging-research.group/samples/> .|\n",
            "|                           <https://www.ncbi.nlm.nih.gov/bioproject/PRJNA401436>|<http://www.w3.org/1999/02/22-rdf-syntax-ns#type>|     <http://aging-research.group/samples/Experiment_series>|<http://aging-research.group/samples/> .|\n",
            "|          <https://www.ncbi.nlm.nih.gov/geo/query/acc.cgi?acc=GSE47792_GSE53960>|<http://www.w3.org/1999/02/22-rdf-syntax-ns#type>|     <http://aging-research.group/samples/Experiment_series>|<http://aging-research.group/samples/> .|\n",
            "|                           <https://www.ncbi.nlm.nih.gov/bioproject/PRJNA309284>|<http://www.w3.org/1999/02/22-rdf-syntax-ns#type>|     <http://aging-research.group/samples/Experiment_series>|<http://aging-research.group/samples/> .|\n",
            "|                   <https://www.ncbi.nlm.nih.gov/geo/query/acc.cgi?acc=GSE96765>|<http://www.w3.org/1999/02/22-rdf-syntax-ns#type>|     <http://aging-research.group/samples/Experiment_series>|<http://a",
            "ging-research.group/samples/> .|\n",
            "|                           <https://www.ncbi.nlm.nih.gov/bioproject/PRJNA540429>|<http://www.w3.org/1999/02/22-rdf-syntax-ns#type>|     <http://aging-research.group/samples/Experiment_series>|<http://aging-research.group/samples/> .|\n",
            "|                           <https://www.ncbi.nlm.nih.gov/bioproject/PRJNA398031>|<http://www.w3.org/1999/02/22-rdf-syntax-ns#type>|     <http://aging-research.group/samples/Experiment_series>|<http://aging-research.group/samples/> .|\n",
            "|                             <https://www.ncbi.nlm.nih.gov/bioproject/PRJEB3197>|<http://www.w3.org/1999/02/22-rdf-syntax-ns#type>|     <http://aging-research.group/samples/Experiment_series>|<http://aging-research.group/samples/> .|\n",
            "|                             <https://www.ncbi.nlm.nih.gov/bioproject/PRJEB4677>|<http://www.w3.org/1999/02/22-rdf-syntax-ns#type>|     <http://aging-research.group/samples/Experiment_series>|<http://aging-research.group/samples/> .|\n",
            "|                           <https://www.ncbi.nlm.n",
            "ih.gov/bioproject/PRJNA400695>|<http://www.w3.org/1999/02/22-rdf-syntax-ns#type>|     <http://aging-research.group/samples/Experiment_series>|<http://aging-research.group/samples/> .|\n",
            "|                   <https://www.ncbi.nlm.nih.gov/geo/query/acc.cgi?acc=GSE30337>|<http://www.w3.org/1999/02/22-rdf-syntax-ns#type>|     <http://aging-research.group/samples/Experiment_series>|<http://aging-research.group/samples/> .|\n",
            "|                           <https://www.ncbi.nlm.nih.gov/bioproject/PRJNA264588>|<http://www.w3.org/1999/02/22-rdf-syntax-ns#type>|     <http://aging-research.group/samples/Experiment_series>|<http://aging-research.group/samples/> .|\n",
            "|                            <https://www.ncbi.nlm.nih.gov/bioproject/PRJEB13074>|<http://www.w3.org/1999/02/22-rdf-syntax-ns#type>|     <http://aging-research.group/samples/Experiment_series>|<http://aging-research.group/samples/> .|\n",
            "|                           <https://www.ncbi.nlm.nih.gov/bioproject/PRJNA141257>|<http://www.w3.org/1999/02/22-rdf-syntax-ns#type>|   ",
            "  <http://aging-research.group/samples/Experiment_series>|<http://aging-research.group/samples/> .|\n",
            "|                           <https://www.ncbi.nlm.nih.gov/bioproject/PRJNA285021>|<http://www.w3.org/1999/02/22-rdf-syntax-ns#type>|     <http://aging-research.group/samples/Experiment_series>|<http://aging-research.group/samples/> .|\n",
            "|                             <https://www.ncbi.nlm.nih.gov/bioproject/PRJEB6169>|<http://www.w3.org/1999/02/22-rdf-syntax-ns#type>|     <http://aging-research.group/samples/Experiment_series>|<http://aging-research.group/samples/> .|\n",
            "|                   <https://www.ncbi.nlm.nih.gov/geo/query/acc.cgi?acc=GSE77020>|<http://www.w3.org/1999/02/22-rdf-syntax-ns#type>|     <http://aging-research.group/samples/Experiment_series>|<http://aging-research.group/samples/> .|\n",
            "|                           <https://www.ncbi.nlm.nih.gov/bioproject/PRJNA318917>|<http://www.w3.org/1999/02/22-rdf-syntax-ns#type>|     <http://aging-research.group/samples/Experiment_series>|<http://aging-research.gro",
            "up/samples/> .|\n",
            "|                           <https://www.ncbi.nlm.nih.gov/bioproject/PRJNA362606>|<http://www.w3.org/1999/02/22-rdf-syntax-ns#type>|     <http://aging-research.group/samples/Experiment_series>|<http://aging-research.group/samples/> .|\n",
            "|                   <https://www.ncbi.nlm.nih.gov/geo/query/acc.cgi?acc=GSE43013>|<http://www.w3.org/1999/02/22-rdf-syntax-ns#type>|     <http://aging-research.group/samples/Experiment_series>|<http://aging-research.group/samples/> .|\n",
            "|         <https://www.ncbi.nlm.nih.gov/geo/query/acc.cgi?acc=GSE86095_GSE102101>|<http://www.w3.org/1999/02/22-rdf-syntax-ns#type>|     <http://aging-research.group/samples/Experiment_series>|<http://aging-research.group/samples/> .|\n",
            "|                           <https://www.ncbi.nlm.nih.gov/bioproject/PRJNA296888>|<http://www.w3.org/1999/02/22-rdf-syntax-ns#type>|     <http://aging-research.group/samples/Experiment_series>|<http://aging-research.group/samples/> .|\n",
            "|                            <https://www.ncbi.nlm.nih.gov/bioprojec",
            "t/PRJEB21274>|<http://www.w3.org/1999/02/22-rdf-syntax-ns#type>|     <http://aging-research.group/samples/Experiment_series>|<http://aging-research.group/samples/> .|\n",
            "|                           <https://www.ncbi.nlm.nih.gov/bioproject/PRJNA258238>|<http://www.w3.org/1999/02/22-rdf-syntax-ns#type>|     <http://aging-research.group/samples/Experiment_series>|<http://aging-research.group/samples/> .|\n",
            "|                           <https://www.ncbi.nlm.nih.gov/bioproject/PRJNA342653>|<http://www.w3.org/1999/02/22-rdf-syntax-ns#type>|     <http://aging-research.group/samples/Experiment_series>|<http://aging-research.group/samples/> .|\n",
            "|                   <https://www.ncbi.nlm.nih.gov/geo/query/acc.cgi?acc=GSE93855>|<http://www.w3.org/1999/02/22-rdf-syntax-ns#type>|     <http://aging-research.group/samples/Experiment_series>|<http://aging-research.group/samples/> .|\n",
            "|                           <https://www.ncbi.nlm.nih.gov/bioproject/PRJNA274427>|<http://www.w3.org/1999/02/22-rdf-syntax-ns#type>|     <http://aging-r",
            "esearch.group/samples/Experiment_series>|<http://aging-research.group/samples/> .|\n",
            "|                           <https://www.ncbi.nlm.nih.gov/bioproject/PRJNA338488>|<http://www.w3.org/1999/02/22-rdf-syntax-ns#type>|     <http://aging-research.group/samples/Experiment_series>|<http://aging-research.group/samples/> .|\n",
            "|                           <https://www.ncbi.nlm.nih.gov/bioproject/PRJNA314210>|<http://www.w3.org/1999/02/22-rdf-syntax-ns#type>|     <http://aging-research.group/samples/Experiment_series>|<http://aging-research.group/samples/> .|\n",
            "|                   <https://www.ncbi.nlm.nih.gov/geo/query/acc.cgi?acc=GSE30352>|<http://www.w3.org/1999/02/22-rdf-syntax-ns#type>|     <http://aging-research.group/samples/Experiment_series>|<http://aging-research.group/samples/> .|\n",
            "|                            <https://www.ncbi.nlm.nih.gov/bioproject/PRJEB19199>|<http://www.w3.org/1999/02/22-rdf-syntax-ns#type>|     <http://aging-research.group/samples/Experiment_series>|<http://aging-research.group/samples/> .|\n",
            "|",
            "                   <https://www.ncbi.nlm.nih.gov/geo/query/acc.cgi?acc=GSE59612>|<http://www.w3.org/1999/02/22-rdf-syntax-ns#type>|     <http://aging-research.group/samples/Experiment_series>|<http://aging-research.group/samples/> .|\n",
            "|                           <https://www.ncbi.nlm.nih.gov/bioproject/PRJNA311523>|<http://www.w3.org/1999/02/22-rdf-syntax-ns#type>|     <http://aging-research.group/samples/Experiment_series>|<http://aging-research.group/samples/> .|\n",
            "|                           <https://www.ncbi.nlm.nih.gov/bioproject/PRJNA358081>|<http://www.w3.org/1999/02/22-rdf-syntax-ns#type>|     <http://aging-research.group/samples/Experiment_series>|<http://aging-research.group/samples/> .|\n",
            "|                           <https://www.ncbi.nlm.nih.gov/bioproject/PRJNA397900>|<http://www.w3.org/1999/02/22-rdf-syntax-ns#type>|     <http://aging-research.group/samples/Experiment_series>|<http://aging-research.group/samples/> .|\n",
            "|                   <https://www.ncbi.nlm.nih.gov/geo/query/acc.cgi?acc=GSE59288>|<ht",
            "tp://www.w3.org/1999/02/22-rdf-syntax-ns#type>|     <http://aging-research.group/samples/Experiment_series>|<http://aging-research.group/samples/> .|\n",
            "|                           <https://www.ncbi.nlm.nih.gov/bioproject/PRJNA248454>|<http://www.w3.org/1999/02/22-rdf-syntax-ns#type>|     <http://aging-research.group/samples/Experiment_series>|<http://aging-research.group/samples/> .|\n",
            "|                   <https://www.ncbi.nlm.nih.gov/geo/query/acc.cgi?acc=GSE41637>|<http://www.w3.org/1999/02/22-rdf-syntax-ns#type>|     <http://aging-research.group/samples/Experiment_series>|<http://aging-research.group/samples/> .|\n",
            "|                  <https://www.ncbi.nlm.nih.gov/geo/query/acc.cgi?acc=GSE111770>|<http://www.w3.org/1999/02/22-rdf-syntax-ns#type>|     <http://aging-research.group/samples/Experiment_series>|<http://aging-research.group/samples/> .|\n",
            "|                           <https://www.ncbi.nlm.nih.gov/bioproject/PRJNA143955>|<http://www.w3.org/1999/02/22-rdf-syntax-ns#type>|     <http://aging-research.group/sam",
            "ples/Experiment_series>|<http://aging-research.group/samples/> .|\n",
            "|                           <https://www.ncbi.nlm.nih.gov/bioproject/PRJNA188070>|<http://www.w3.org/1999/02/22-rdf-syntax-ns#type>|     <http://aging-research.group/samples/Experiment_series>|<http://aging-research.group/samples/> .|\n",
            "|                           <https://www.ncbi.nlm.nih.gov/bioproject/PRJNA312519>|<http://www.w3.org/1999/02/22-rdf-syntax-ns#type>|     <http://aging-research.group/samples/Experiment_series>|<http://aging-research.group/samples/> .|\n",
            "|                   <https://www.ncbi.nlm.nih.gov/geo/query/acc.cgi?acc=GSE26794>|<http://www.w3.org/1999/02/22-rdf-syntax-ns#type>|     <http://aging-research.group/samples/Experiment_series>|<http://aging-research.group/samples/> .|\n",
            "|                           <https://www.ncbi.nlm.nih.gov/bioproject/PRJNA542984>|<http://www.w3.org/1999/02/22-rdf-syntax-ns#type>|     <http://aging-research.group/samples/Experiment_series>|<http://aging-research.group/samples/> .|\n",
            "|                 ",
            "            <https://www.ncbi.nlm.nih.gov/bioproject/PRJDB3586>|<http://www.w3.org/1999/02/22-rdf-syntax-ns#type>|     <http://aging-research.group/samples/Experiment_series>|<http://aging-research.group/samples/> .|\n",
            "|                   <https://www.ncbi.nlm.nih.gov/geo/query/acc.cgi?acc=GSE96079>|<http://www.w3.org/1999/02/22-rdf-syntax-ns#type>|     <http://aging-research.group/samples/Experiment_series>|<http://aging-research.group/samples/> .|\n",
            "|                                <http://aging-research.group/samples/has_series>|    <http://www.w3.org/2000/01/rdf-schema#domain>|     <http://aging-research.group/samples/Experiment_series>|<http://aging-research.group/samples/> .|\n",
            "|                                   <http://aging-research.group/samples/has_run>|    <http://www.w3.org/2000/01/rdf-schema#domain>|     <http://aging-research.group/samples/Experiment_series>|<http://aging-research.group/samples/> .|\n",
            "|                                 <http://aging-research.group/samples/has_study>|    <http://www.w3.o",
            "rg/2000/01/rdf-schema#domain>|     <http://aging-research.group/samples/Experiment_series>|<http://aging-research.group/samples/> .|\n",
            "|                   <https://www.ncbi.nlm.nih.gov/geo/query/acc.cgi?acc=GSE43013>|    <http://aging-research.group/samples/has_run>|                <https://www.ncbi.nlm.nih.gov/sra/SRR636888>|<http://aging-research.group/samples/> .|\n",
            "|                   <https://www.ncbi.nlm.nih.gov/geo/query/acc.cgi?acc=GSE43013>|  <http://aging-research.group/samples/has_study>|<https://trace.ncbi.nlm.nih.gov/Traces/sra/?study=SRP017611>|<http://aging-research.group/samples/> .|\n",
            "|                   <https://www.ncbi.nlm.nih.gov/geo/query/acc.cgi?acc=GSE43013>|    <http://aging-research.group/samples/has_run>|                <https://www.ncbi.nlm.nih.gov/sra/SRR636932>|<http://aging-research.group/samples/> .|\n",
            "|                   <https://www.ncbi.nlm.nih.gov/geo/query/acc.cgi?acc=GSE43013>|  <http://aging-research.group/samples/has_study>|<https://trace.ncbi.nlm.nih.gov/Traces/sra/?study=SRP0",
            "17611>|<http://aging-research.group/samples/> .|\n",
            "|                   <https://www.ncbi.nlm.nih.gov/geo/query/acc.cgi?acc=GSE43013>|    <http://aging-research.group/samples/has_run>|                <https://www.ncbi.nlm.nih.gov/sra/SRR636978>|<http://aging-research.group/samples/> .|\n",
            "|                   <https://www.ncbi.nlm.nih.gov/geo/query/acc.cgi?acc=GSE43013>|  <http://aging-research.group/samples/has_study>|<https://trace.ncbi.nlm.nih.gov/Traces/sra/?study=SRP017611>|<http://aging-research.group/samples/> .|\n",
            "|                           <https://www.ncbi.nlm.nih.gov/bioproject/PRJNA184055>|    <http://aging-research.group/samples/has_run>|                <https://www.ncbi.nlm.nih.gov/sra/SRR636887>|<http://aging-research.group/samples/> .|\n",
            "|                           <https://www.ncbi.nlm.nih.gov/bioproject/PRJNA184055>|  <http://aging-research.group/samples/has_study>|<https://trace.ncbi.nlm.nih.gov/Traces/sra/?study=SRP017611>|<http://aging-research.group/samples/> .|\n",
            "|                           <https:",
            "//www.ncbi.nlm.nih.gov/bioproject/PRJNA184055>|    <http://aging-research.group/samples/has_run>|                <https://www.ncbi.nlm.nih.gov/sra/SRR636933>|<http://aging-research.group/samples/> .|\n",
            "|                           <https://www.ncbi.nlm.nih.gov/bioproject/PRJNA184055>|  <http://aging-research.group/samples/has_study>|<https://trace.ncbi.nlm.nih.gov/Traces/sra/?study=SRP017611>|<http://aging-research.group/samples/> .|\n",
            "|                           <https://www.ncbi.nlm.nih.gov/bioproject/PRJNA188070>|    <http://aging-research.group/samples/has_run>|                <https://www.ncbi.nlm.nih.gov/sra/SRR653846>|<http://aging-research.group/samples/> .|\n",
            "|                           <https://www.ncbi.nlm.nih.gov/bioproject/PRJNA188070>|  <http://aging-research.group/samples/has_study>|<https://trace.ncbi.nlm.nih.gov/Traces/sra/?study=SRP018288>|<http://aging-research.group/samples/> .|\n",
            "|                           <https://www.ncbi.nlm.nih.gov/bioproject/PRJNA311523>|    <http://aging-research.group/samp",
            "les/has_run>|               <https://www.ncbi.nlm.nih.gov/sra/SRR3160008>|<http://aging-research.group/samples/> .|\n",
            "|                           <https://www.ncbi.nlm.nih.gov/bioproject/PRJNA311523>|  <http://aging-research.group/samples/has_study>|<https://trace.ncbi.nlm.nih.gov/Traces/sra/?study=SRP069860>|<http://aging-research.group/samples/> .|\n",
            "|                           <https://www.ncbi.nlm.nih.gov/bioproject/PRJNA311523>|    <http://aging-research.group/samples/has_run>|               <https://www.ncbi.nlm.nih.gov/sra/SRR3160018>|<http://aging-research.group/samples/> .|\n",
            "|                           <https://www.ncbi.nlm.nih.gov/bioproject/PRJNA311523>|  <http://aging-research.group/samples/has_study>|<https://trace.ncbi.nlm.nih.gov/Traces/sra/?study=SRP069860>|<http://aging-research.group/samples/> .|\n",
            "|                           <https://www.ncbi.nlm.nih.gov/bioproject/PRJNA311523>|    <http://aging-research.group/samples/has_run>|               <https://www.ncbi.nlm.nih.gov/sra/SRR3160041>|<http://ag",
            "ing-research.group/samples/> .|\n",
            "|                           <https://www.ncbi.nlm.nih.gov/bioproject/PRJNA311523>|  <http://aging-research.group/samples/has_study>|<https://trace.ncbi.nlm.nih.gov/Traces/sra/?study=SRP069860>|<http://aging-research.group/samples/> .|\n",
            "|                           <https://www.ncbi.nlm.nih.gov/bioproject/PRJNA311523>|    <http://aging-research.group/samples/has_run>|               <https://www.ncbi.nlm.nih.gov/sra/SRR3160052>|<http://aging-research.group/samples/> .|\n",
            "|                           <https://www.ncbi.nlm.nih.gov/bioproject/PRJNA311523>|  <http://aging-research.group/samples/has_study>|<https://trace.ncbi.nlm.nih.gov/Traces/sra/?study=SRP069860>|<http://aging-research.group/samples/> .|\n",
            "|                           <https://www.ncbi.nlm.nih.gov/bioproject/PRJNA311523>|    <http://aging-research.group/samples/has_run>|               <https://www.ncbi.nlm.nih.gov/sra/SRR3160061>|<http://aging-research.group/samples/> .|\n",
            "|                           <https://www.ncbi.nlm.ni",
            "h.gov/bioproject/PRJNA311523>|  <http://aging-research.group/samples/has_study>|<https://trace.ncbi.nlm.nih.gov/Traces/sra/?study=SRP069860>|<http://aging-research.group/samples/> .|\n",
            "|        <https://www.ncbi.nlm.nih.gov/geo/query/acc.cgi?acc=GSE100631_GSE100633>|    <http://aging-research.group/samples/has_run>|               <https://www.ncbi.nlm.nih.gov/sra/SRR5767265>|<http://aging-research.group/samples/> .|\n",
            "|        <https://www.ncbi.nlm.nih.gov/geo/query/acc.cgi?acc=GSE100631_GSE100633>|  <http://aging-research.group/samples/has_study>|<https://trace.ncbi.nlm.nih.gov/Traces/sra/?study=SRP110710>|<http://aging-research.group/samples/> .|\n",
            "+--------------------------------------------------------------------------------+-------------------------------------------------+------------------------------------------------------------+----------------------------------------+\n",
            "only showing top 100 rows\n",
            "\n"
          ],
          "output_type" : "stream"
        }
      ]
    },
    {
      "cell_type" : "code",
      "execution_count" : 46,
      "metadata" : {
        "cell.metadata.exec_info" : {
          "startTs" : 1581818609150,
          "endTs" : 1581818609348
        },
        "language" : "scala"
      },
      "language" : "scala",
      "source" : [
        "val biorun_prep = samples_prefixed.select(\"run\",\"organism\",\"sample_name\",\"sequencer\",\"library_strategy\",\"library_layout\",\"library_selection\",\n",
        "      \"study\",\"study_title\",\"characteristics\",\"source\",\"age\",\"sex\",\"tumor\",\"protocol\",\n",
        "      \"salmon_version\", \"libType\",\"numBootstraps\",\"modified\")\n",
        "val biorun = toHasRawQuads(biorun_prep, \"run\")\n",
        "val all_biorun =  of_class(biorun, \"Sequencing_run\").union(has_domains(\"Sequencing_run\", biorun_prep.columns.toList)).union(biorun)\n",
        "all_biorun"
      ],
      "outputs" : [
        {
          "execution_count" : 46,
          "data" : {
            "text/plain" : [
              "[_1: string, _2: string ... 2 more fields]"
            ]
          },
          "metadata" : {
            "name" : "Out",
            "type" : "Dataset[Tuple4[String, String, String, String]]"
          },
          "output_type" : "execute_result"
        }
      ]
    },
    {
      "cell_type" : "code",
      "execution_count" : 53,
      "metadata" : {
        "jupyter.outputs_hidden" : true,
        "cell.metadata.exec_info" : {
          "startTs" : 1581818609351,
          "endTs" : 1581818609612
        },
        "language" : "scala"
      },
      "language" : "scala",
      "source" : [
        "val all_samples = all_biopro.union(all_bioseries).union(all_biorun).as[(String, String, String, String)]\n",
        "all_samples"
      ],
      "outputs" : [
        {
          "execution_count" : 53,
          "data" : {
            "text/plain" : [
              "[_1: string, _2: string ... 2 more fields]"
            ]
          },
          "metadata" : {
            "name" : "Out",
            "type" : "Dataset[Tuple4[String, String, String, String]]"
          },
          "output_type" : "execute_result"
        }
      ]
    },
    {
      "cell_type" : "code",
      "execution_count" : 54,
      "metadata" : {
        "cell.metadata.exec_info" : {
          "startTs" : 1581818638640,
          "endTs" : 1581818640375
        },
        "language" : "scala"
      },
      "language" : "scala",
      "source" : [
        "all_samples.toDF.writeTSV(\"/data/databases/graphdb/import/samples.nq\", header = false, rewrite = true)"
      ],
      "outputs" : [
        {
          "name" : "stdout",
          "text" : [
            "parts of /data/databases/graphdb/import/samples.nq merged!",
            "\n"
          ],
          "output_type" : "stream"
        },
        {
          "execution_count" : 54,
          "data" : {
            "text/plain" : [
              "/data/databases/graphdb/import/samples.nq"
            ]
          },
          "metadata" : {
            "name" : "Out",
            "type" : "String"
          },
          "output_type" : "execute_result"
        }
      ]
    },
    {
      "cell_type" : "markdown",
      "execution_count" : 17,
      "metadata" : {
        "language" : "text"
      },
      "language" : "text",
      "source" : [
        "# **Producing genes n-quads**<br>\n",
        "\n",
        "\n"
      ],
      "outputs" : [
      ]
    },
    {
      "cell_type" : "code",
      "execution_count" : 18,
      "metadata" : {
        "cell.metadata.exec_info" : {
          "startTs" : 1580843568490,
          "endTs" : 1580843569610
        },
        "language" : "scala"
      },
      "language" : "scala",
      "source" : [
        "val genes_n = spark.read.parquet(\"/data/ensembl/99/website/genes_lookup.parquet\").as[(java.lang.Integer,String, String, String, String, String, String, String)]\n",
        "genes_n.show(20,1000)"
      ],
      "outputs" : [
        {
          "name" : "stdout",
          "text" : [
            "+--------+------------------+-------------+-------------+------------------------------------------------------------------------------------+---------------+--------------------+-----+\n",
            "|taxon_id|         stable_id|display_label|biotype_group|                                                                         description|scientific_name|         common_name|class|\n",
            "+--------+------------------+-------------+-------------+------------------------------------------------------------------------------------+---------------+--------------------+-----+\n",
            "|  211598|ENSANIG00000000002|        SSTR4|       coding|                         somatostatin receptor 4 [Source:HGNC Symbol;Acc:HGNC:11333]|Accipiter nisus|Eurasian sparrowhawk| Aves|\n",
            "|  211598|ENSANIG00000000003|           \\N|       coding|                                                                                  \\N|Accipiter nisus|Eurasian sparrowhawk| Aves|\n",
            "|  211598|ENSANIG00000000004|         CD93|       coding|                                   CD93 molecule [Source:HGNC Symbol;Acc:HGNC:15855]|Accipiter nisus|Eurasian sparrowhawk| Aves|\n",
            "|  211598|ENSANIG00000000005|           \\N|       coding|                                                                                  \\N|Accipiter nisus|Eurasian sparrowhawk| Aves|\n",
            "|  211598|ENSANIG00000000006|         GZF1|       coding|            GDNF inducible zinc finger protein 1 [Source:HGNC Symbol;Acc:HGNC:15808]|Accipiter nisus|Eurasian sparrowhawk| Aves|\n",
            "|  211598|ENSANIG00000000007|           \\N|       coding|                                                                                  \\N|Accipiter nisus|Eurasian sparrowhawk| Aves|\n",
            "|  211598|ENSANIG00000000008|           \\N|       coding|                                                                                  \\N|Accipiter nisus|Eurasian sparrowhawk| Aves|\n",
            "|  211598|ENSANIG00000000009|        ATP9A|       coding|  ATPase phospholipid transporting 9A (putative) [Source:HGNC Symbol;Acc:HGNC:13540]|Accipiter nisus|Eurasian sparrowhawk| Aves|\n",
            "|  211598|ENSANIG00000000010|           \\N|       coding|                                                                                  \\N|Accipiter nisus|Eurasian sparrowhawk| Aves|\n",
            "|  211598|ENSANIG00000000011|        ACER1|       coding|                           alkaline ceramidase 1 [Source:HGNC Symbol;Acc:HGNC:18356]|Accipiter nisus|Eurasian sparrowhawk| Aves|\n",
            "|  211598|ENSANIG00000000012|        MLLT1|       coding|           MLLT1 super elongation complex subunit [Source:HGNC Symbol;Acc:HGNC:7134]|Accipiter nisus|Eurasian sparrowhawk| Aves|\n",
            "|  211598|ENSANIG00000000013|       ACSBG2|       coding|   acyl-CoA synthetase bubblegum family member 2 [Source:HGNC Symbol;Acc:HGNC:24174]|Accipiter nisus|Eurasian sparrowhawk| Aves|\n",
            "|  211598|ENSANIG00000000014|         RFX2|       coding|                             regulatory factor X2 [Source:HGNC Symbol;Acc:HGNC:9983]|Accipiter nisus|Eurasian sparrowhawk| Aves|\n",
            "|  211598|ENSANIG00000000015|      CREB3L1|       coding|cAMP responsive element binding protein 3 like 1 [Source:HGNC Symbol;Acc:HGNC:18856]|Accipiter nisus|Eurasian sparrowhawk| Aves|\n",
            "|  211598|ENSANIG00000000016|         DGKZ|       coding|                       diacylglycerol kinase zeta [Source:HGNC Symbol;Acc:HGNC:2857]|Accipiter nisus|Eurasian sparrowhawk| Aves|\n",
            "|  211598|ENSANIG00000000017|          MDK|       coding|                                          midkine [Source:HGNC Symbol;Acc:HGNC:6972]|Accipiter nisus|Eurasian sparrowhawk| Aves|\n",
            "|  211598|ENSANIG00000000018|        CHRM4|       coding|                cholinergic receptor muscarinic 4 [Source:HGNC Symbol;Acc:HGNC:1953]|Accipiter nisus|Eurasian sparrowhawk| Aves|\n",
            "|  211598|ENSANIG00000000019|         EYA4|       coding|EYA transcriptional coactivator and phosphatase 4 [Source:HGNC Symbol;Acc:HGNC:3522]|Accipiter nisus|Eurasian sparrowhawk| Aves|\n",
            "|  211598|ENSANIG00000000020|           \\N|       coding|                                                                                  \\N|Accipiter nisus|Eurasian sparrowhawk| Aves|\n",
            "|  211598|ENSANIG00000000021|       VPREB3|       coding|        V-set pre-B cell surrogate light chain 3 [Source:HGNC Symbol;Acc:HGNC:12710]|Accipiter nisus|Eurasian sparrowhawk| Aves|\n",
            "+--------+------------------+-------------+-------------+------------------------------------------------------------------------------------+---------------+--------------------+-----+\n",
            "only showing top 20 rows\n",
            "\n"
          ],
          "output_type" : "stream"
        }
      ]
    },
    {
      "cell_type" : "code",
      "execution_count" : 19,
      "metadata" : {
        "cell.metadata.exec_info" : {
          "startTs" : 1580844031125,
          "endTs" : 1580844031257
        },
        "language" : "scala"
      },
      "language" : "scala",
      "source" : [
        "def str2(s: String) = if(s==null) \"\" else s\"\"\"\"${s.replace(\"\\\"\", \"\\\\\\\"\")}\"\"\"\""
      ],
      "outputs" : [
      ]
    },
    {
      "cell_type" : "code",
      "execution_count" : 20,
      "metadata" : {
        "cell.metadata.exec_info" : {
          "startTs" : 1580844037012,
          "endTs" : 1580844037876
        },
        "language" : "scala"
      },
      "language" : "scala",
      "source" : [
        "val genes_trs = genes_n.flatMap{\n",
        "    case (taxon_id,stable_id,display_label,biotype_group,description,scientific_name,common_name,cl) =>\n",
        "    sp(taxon_id, scientific_name)(\"has_gene\", ens(stable_id)) ++\n",
        "    trip(ens(stable_id), \"<\"+\"http://www.w3.org/2000/01/rdf-schema#label\" +\">\", str2(display_label))++\n",
        "    trip(ens(stable_id), \"<\"+\"http://www.w3.org/2000/01/rdf-schema#description\" +\">\",  str2(description))++\n",
        "    trip(ens(stable_id), ens(\"has_biotype\"), ens(\"biotype/\"+biotype_group))++\n",
        "    Nil\n",
        "}.toDF(\"subject\", \"property\", \"object\", \"context\")\n",
        "genes_trs.show(40, 1000)"
      ],
      "outputs" : [
        {
          "name" : "stdout",
          "text" : [
            "+----------------------------------------------------------+---------------------------------------------------+------------------------------------------------------------------------------------+---------------------------------------------------------+\n",
            "|                                                   subject|                                           property|                                                                              object|                                                  context|\n",
            "+----------------------------------------------------------+---------------------------------------------------+------------------------------------------------------------------------------------+---------------------------------------------------------+\n",
            "|      <http://rdf.ebi.ac.uk/resource/ensembl/taxon#211598>|    <http://aging-research.group/resource/has_gene>|                          <http://rdf.ebi.ac.uk/resource/ensembl/ENSANIG00000000002>|<http://rdf.ebi.ac.uk/resource/ensembl/confidence/high> .|\n",
            "|    <http://aging-research.group/resource/Accipiter_nisus>|    <http://aging-research.group/resource/has_gene>|                          <http://rdf.ebi.ac.uk/resource/ensembl/ENSANIG00000000002>|<http://rdf.ebi.ac.uk/resource/ensembl/confidence/high> .|\n",
            "|<http://rdf.ebi.ac.uk/resource/ensembl/ENSANIG00000000002>|       <http://www.w3.org/2000/01/rdf-schema#label>|                                                                             \"SSTR4\"|<http://rdf.ebi.ac.uk/resource/ensembl/confidence/high> .|\n",
            "|<http://rdf.ebi.ac.uk/resource/ensembl/ENSANIG00000000002>| <http://www.w3.org/2000/01/rdf-schema#description>|                       \"somatostatin receptor 4 [Source:HGNC Symbol;Acc:HGNC:11333]\"|<http://rdf.ebi.ac.uk/resource/ensembl/confidence/high> .|\n",
            "|<http://rdf.ebi.ac.uk/resource/ensembl/ENSANIG00000000002>|<http://rdf.ebi.ac.uk/resource/ensembl/has_biotype>|                              <http://rdf.ebi.ac.uk/resource/ensembl/biotype/coding>|<http://rdf.ebi.ac.uk/resource/ensembl/confidence/high> .|\n",
            "|      <http://rdf.ebi.ac.uk/resource/ensembl/taxon#211598>|    <http://aging-research.group/resource/has_gene>|                          <http://rdf.ebi.ac.uk/resource/ensembl/ENSANIG00000000003>|<http://rdf.ebi.ac.uk/resource/ensembl/confidence/high> .|\n",
            "|    <http://aging-research.group/resource/Accipiter_nisus>|    <http://aging-research.group/resource/has_gene>|                          <http://rdf.ebi.ac.uk/resource/ensembl/ENSANIG00000000003>|<http://rdf.ebi.ac.uk/resource/ensembl/confidence/high> .|\n",
            "|<http://rdf.ebi.ac.uk/resource/ensembl/ENSANIG00000000003>|<http://rdf.ebi.ac.uk/resource/ensembl/has_biotype>|                              <http://rdf.ebi.ac.uk/resource/ensembl/biotype/coding>|<http://rdf.ebi.ac.uk/resource/ensembl/confidence/high> .|\n",
            "|      <http://rdf.ebi.ac.uk/resource/ensembl/taxon#211598>|    <http://aging-research.group/resource/has_gene>|                          <http://rdf.ebi.ac.uk/resource/ensembl/ENSANIG00000000004>|<http://rdf.ebi.ac.uk/resource/ensembl/confidence/high> .|\n",
            "|    <http://aging-research.group/resource/Accipiter_nisus>|    <http://aging-research.group/resource/has_gene>|                          <http://rdf.ebi.ac.uk/resource/ensembl/ENSANIG00000000004>|<http://rdf.ebi.ac.uk/resource/ensembl/confidence/high> .|\n",
            "|<http://rdf.ebi.ac.uk/resource/ensembl/ENSANIG00000000004>|       <http://www.w3.org/2000/01/rdf-schema#label>|                                                                              \"CD93\"|<http://rdf.ebi.ac.uk/resource/ensembl/confidence/high> .|\n",
            "|<http://rdf.ebi.ac.uk/resource/ensembl/ENSANIG00000000004>| <http://www.w3.org/2000/01/rdf-schema#description>|                                 \"CD93 molecule [Source:HGNC Symbol;Acc:HGNC:15855]\"|<http://rdf.ebi.ac.uk/resource/ensembl/confidence/high> .|\n",
            "|<http://rdf.ebi.ac.uk/resource/ensembl/ENSANIG00000000004>|<http://rdf.ebi.ac.uk/resource/ensembl/has_biotype>|                              <http://rdf.ebi.ac.uk/resource/ensembl/biotype/coding>|<http://rdf.ebi.ac.uk/resource/ensembl/confidence/high> .|\n",
            "|      <http://rdf.ebi.ac.uk/resource/ensembl/taxon#211598>|    <http://aging-research.group/resource/has_gene>|                          <http://rdf.ebi.ac.uk/resource/ensembl/ENSANIG00000000005>|<http://rdf.ebi.ac.uk/resource/ensembl/confidence/high> .|\n",
            "|    <http://aging-research.group/resource/Accipiter_nisus>|    <http://aging-research.group/resource/has_gene>|                          <http://rdf.ebi.ac.uk/resource/ensembl/ENSANIG00000000005>|<http://rdf.ebi.ac.uk/resource/ensembl/confidence/high> .|\n",
            "|<http://rdf.ebi.ac.uk/resource/ensembl/ENSANIG00000000005>|<http://rdf.ebi.ac.uk/resource/ensembl/has_biotype>|                              <http://rdf.ebi.ac.uk/resource/ensembl/biotype/coding>|<http://rdf.ebi.ac.uk/resource/ensembl/confidence/high> .|\n",
            "|      <http://rdf.ebi.ac.uk/resource/ensembl/taxon#211598>|    <http://aging-research.group/resource/has_gene>|                          <http://rdf.ebi.ac.uk/resource/ensembl/ENSANIG00000000006>|<http://rdf.ebi.ac.uk/resource/ensembl/confidence/high> .|\n",
            "|    <http://aging-research.group/resource/Accipiter_nisus>|    <http://aging-research.group/resource/has_gene>|                          <http://rdf.ebi.ac.uk/resource/ensembl/ENSANIG00000000006>|<http://rdf.ebi.ac.uk/resource/ensembl/confidence/high> .|\n",
            "|<http://rdf.ebi.ac.uk/resource/ensembl/ENSANIG00000000006>|       <http://www.w3.org/2000/01/rdf-schema#label>|                                                                              \"GZF1\"|<http://rdf.ebi.ac.uk/resource/ensembl/confidence/high> .|\n",
            "|<http://rdf.ebi.ac.uk/resource/ensembl/ENSANIG00000000006>| <http://www.w3.org/2000/01/rdf-schema#description>|          \"GDNF inducible zinc finger protein 1 [Source:HGNC Symbol;Acc:HGNC:15808]\"|<http://rdf.ebi.ac.uk/resource/ensembl/confidence/high> .|\n",
            "|<http://rdf.ebi.ac.uk/resource/ensembl/ENSANIG00000000006>|<http://rdf.ebi.ac.uk/resource/ensembl/has_biotype>|                              <http://rdf.ebi.ac.uk/resource/ensembl/biotype/coding>|<http://rdf.ebi.ac.uk/resource/ensembl/confidence/high> .|\n",
            "|      <http://rdf.ebi.ac.uk/resource/ensembl/taxon#211598>|    <http://aging-research.group/resource/has_gene>|                          <http://rdf.ebi.ac.uk/resource/ensembl/ENSANIG00000000007>|<http://rdf.ebi.ac.uk/resource/ensembl/confidence/high> .|\n",
            "|    <http://aging-research.group/resource/Accipiter_nisus>|    <http://aging-research.group/resource/has_gene>|                          <http://rdf.ebi.ac.uk/resource/ensembl/ENSANIG00000000007>|<http://rdf.ebi.ac.uk/resource/ensembl/confidence/high> .|\n",
            "|<http://rdf.ebi.ac.uk/resource/ensembl/ENSANIG00000000007>|<http://rdf.ebi.ac.uk/resource/ensembl/has_biotype>|                              <http://rdf.ebi.ac.uk/resource/ensembl/biotype/coding>|<http://rdf.ebi.ac.uk/resource/ensembl/confidence/high> .|\n",
            "|      <http://rdf.ebi.ac.uk/resource/ensembl/taxon#211598>|    <http://aging-research.group/resource/has_gene>|                          <http://rdf.ebi.ac.uk/resource/ensembl/ENSANIG00000000008>|<http://rdf.ebi.ac.uk/resource/ensembl/confidence/high> .|\n",
            "|    <http://aging-research.group/resource/Accipiter_nisus>|    <http://aging-research.group/resource/has_gene>|                          <http://rdf.ebi.ac.uk/resource/ensembl/ENSANIG00000000008>|<http://rdf.ebi.ac.uk/resource/ensembl/confidence/high> .|\n",
            "|<http://rdf.ebi.ac.uk/resource/ensembl/ENSANIG00000000008>|<http://rdf.ebi.ac.uk/resource/ensembl/has_biotype>|                              <http://rdf.ebi.ac.uk/resource/ensembl/biotype/coding>|<http://rdf.ebi.ac.uk/resource/ensembl/confidence/high> .|\n",
            "|      <http://rdf.ebi.ac.uk/resource/ensembl/taxon#211598>|    <http://aging-research.group/resource/has_gene>|                          <http://rdf.ebi.ac.uk/resource/ensembl/ENSANIG00000000009>|<http://rdf.ebi.ac.uk/resource/ensembl/confidence/high> .|\n",
            "|    <http://aging-research.group/resource/Accipiter_nisus>|    <http://aging-research.group/resource/has_gene>|                          <http://rdf.ebi.ac.uk/resource/ensembl/ENSANIG00000000009>|<http://rdf.ebi.ac.uk/resource/ensembl/confidence/high> .|\n",
            "|<http://rdf.ebi.ac.uk/resource/ensembl/ENSANIG00000000009>|       <http://www.w3.org/2000/01/rdf-schema#label>|                                                                             \"ATP9A\"|<http://rdf.ebi.ac.uk/resource/ensembl/confidence/high> .|\n",
            "|<http://rdf.ebi.ac.uk/resource/ensembl/ENSANIG00000000009>| <http://www.w3.org/2000/01/rdf-schema#description>|\"ATPase phospholipid transporting 9A (putative) [Source:HGNC Symbol;Acc:HGNC:13540]\"|<http://rdf.ebi.ac.uk/resource/ensembl/confidence/high> .|\n",
            "|<http://rdf.ebi.ac.uk/resource/ensembl/ENSANIG00000000009>|<http://rdf.ebi.ac.uk/resource/ensembl/has_biotype>|                              <http://rdf.ebi.ac.uk/resource/ensembl/biotype/coding>|<http://rdf.ebi.ac.uk/resource/ensembl/confidence/high> .|\n",
            "|      <http://rdf.ebi.ac.uk/resource/ensembl/taxon#211598>|    <http://aging-research.group/resource/has_gene>|                          <http://rdf.ebi.ac.uk/resource/ensembl/ENSANIG00000000010>|<http://rdf.ebi.ac.uk/resource/ensembl/confidence/high> .|\n",
            "|    <http://aging-research.group/resource/Accipiter_nisus>|    <http://aging-research.group/resource/has_gene>|                          <http://rdf.ebi.ac.uk/resource/ensembl/ENSANIG00000000010>|<http://rdf.ebi.ac.uk/resource/ensembl/confidence/high> .|\n",
            "|<http://rdf.ebi.ac.uk/resource/ensembl/ENSANIG00000000010>|<http://rdf.ebi.ac.uk/resource/ensembl/has_biotype>|                              <http://rdf.ebi.ac.uk/resource/ensembl/biotype/coding>|<http://rdf.ebi.ac.uk/resource/ensembl/confidence/high> .|\n",
            "|      <http://rdf.ebi.ac.uk/resource/ensembl/taxon#211598>|    <http://aging-research.group/resource/has_gene>|                          <http://rdf.ebi.ac.uk/resource/ensembl/ENSANIG00000000011>|<http://rdf.ebi.ac.uk/resource/ensembl/confidence/high> .|\n",
            "|    <http://aging-research.group/resource/Accipiter_nisus>|    <http://aging-research.group/resource/has_gene>|                          <http://rdf.ebi.ac.uk/resource/ensembl/ENSANIG00000000011>|<http://rdf.ebi.ac.uk/resource/ensembl/confidence/high> .|\n",
            "|<http://rdf.ebi.ac.uk/resource/ensembl/ENSANIG00000000011>|       <http://www.w3.org/2000/01/rdf-schema#label>|                                                                             \"ACER1\"|<http://rdf.ebi.ac.uk/resource/ensembl/confidence/high> .|\n",
            "|<http://rdf.ebi.ac.uk/resource/ensembl/ENSANIG00000000011>| <http://www.w3.org/2000/01/rdf-schema#description>|                         \"alkaline ceramidase 1 [Source:HGNC Symbol;Acc:HGNC:18356]\"|<http://rdf.ebi.ac.uk/resource/ensembl/confidence/high> .|\n",
            "|<http://rdf.ebi.ac.uk/resource/ensembl/ENSANIG00000000011>|<http://rdf.ebi.ac.uk/resource/ensembl/has_biotype>|                              <http://rdf.ebi.ac.uk/resource/ensembl/biotype/coding>|<http://rdf.ebi.ac.uk/resource/ensembl/confidence/high> .|\n",
            "+----------------------------------------------------------+---------------------------------------------------+------------------------------------------------------------------------------------+---------------------------------------------------------+\n",
            "only showing top 40 rows\n",
            "\n"
          ],
          "output_type" : "stream"
        }
      ]
    },
    {
      "cell_type" : "code",
      "execution_count" : 21,
      "metadata" : {
        "cell.metadata.exec_info" : {
          "startTs" : 1580844045362,
          "endTs" : 1580844120876
        },
        "language" : "scala"
      },
      "language" : "scala",
      "source" : [
        "\n",
        "genes_trs.writeTSV(\"/data/databases/graphdb/import/genes_lookup.nq\", header = false)"
      ],
      "outputs" : [
        {
          "name" : "stdout",
          "text" : [
            "parts of /data/databases/graphdb/import/genes_lookup.nt merged!\n"
          ],
          "output_type" : "stream"
        },
        {
          "execution_count" : 21,
          "data" : {
            "text/plain" : [
              "/data/databases/graphdb/import/genes_lookup.nt"
            ]
          },
          "metadata" : {
            "name" : "Out",
            "type" : "String"
          },
          "output_type" : "execute_result"
        }
      ]
    },
    {
      "cell_type" : "code",
      "execution_count" : 22,
      "metadata" : {
        "language" : "scala"
      },
      "language" : "scala",
      "source" : [
      ],
      "outputs" : [
      ]
    }
  ]
}