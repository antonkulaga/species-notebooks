{
  "metadata" : {
    "config" : {
      "dependencies" : {
        "scala" : [
          "group.research.aging:spark-extensions_2.12:0.0.8.2"
        ]
      },
      "exclusions" : [
      ],
      "repositories" : [
        {
          "maven" : {
            "base" : "http://central.maven.org/maven2/"
          }
        },
        {
          "maven" : {
            "base" : "http://oss.sonatype.org/content/repositories/snapshots"
          }
        },
        {
          "maven" : {
            "base" : "https://dl.bintray.com/comp-bio-aging/main/"
          }
        }
      ],
      "sparkConfig" : {
        "master" : "http://spark:7070[28]"
      }
    }
  },
  "nbformat" : 4,
  "nbformat_minor" : 0,
  "cells" : [
    {
      "cell_type" : "markdown",
      "execution_count" : 0,
      "metadata" : {
        "language" : "text"
      },
      "language" : "text",
      "source" : [
        "# **n-quads**\n",
        "\n",
        "saving lookups<br>\n",
        "\n",
        "\n"
      ],
      "outputs" : [
      ]
    },
    {
      "cell_type" : "code",
      "execution_count" : 1,
      "metadata" : {
        "jupyter.outputs_hidden" : true,
        "cell.metadata.exec_info" : {
          "startTs" : 1581357049003,
          "endTs" : 1581357049677
        },
        "language" : "scala"
      },
      "language" : "scala",
      "source" : [
        "import org.apache.spark.rdd._\n",
        "import org.apache.spark.sql._\n",
        "import org.apache.spark.sql.types.StructType\n",
        "import org.apache.spark.sql.functions._\n",
        "import group.research.aging.spark.extensions._\n",
        "import group.research.aging.spark.extensions.functions._\n",
        "import group.research.aging.spark.extensions.functions.ConcatenateString\n",
        "import group.research.aging.spark.extensions.functions.Concatenate\n",
        "import ammonite.ops._\n",
        "import ammonite.ops.ImplicitWd._"
      ],
      "outputs" : [
      ]
    },
    {
      "cell_type" : "code",
      "execution_count" : 2,
      "metadata" : {
        "cell.metadata.exec_info" : {
          "startTs" : 1581357051604,
          "endTs" : 1581357062483
        },
        "language" : "scala"
      },
      "language" : "scala",
      "source" : [
        "val species_n = spark.read.parquet(\"/data/ensembl/99/website/species_lookup.parquet\").na.fill(\"\")\n",
        ".as[(java.lang.Integer, String, String, String, String, java.lang.Double, java.lang.Double,java.lang.Double, java.lang.Double,String,String,String)]\n",
        "species_n.show(10,10000)"
      ],
      "outputs" : [
        {
          "name" : "stdout",
          "text" : [
            "+--------+------------------------+--------------------+------------------------------------------------+-----+--------+------+--------------+-------------+---------------+-----------+------------+\n",
            "|taxon_id|         scientific_name|         common_name|                                             url|class|lifespan|mass_g|metabolic_rate|temperature_k|specimen_origin|sample_size|data_quality|\n",
            "+--------+------------------------+--------------------+------------------------------------------------+-----+--------+------+--------------+-------------+---------------+-----------+------------+\n",
            "| 2489341|     Strigops habroptila|              Kakapo|     https://www.ensembl.org/Strigops_habroptila| Aves|    60.0|  null|          null|         null|      captivity|      small|  acceptable|\n",
            "|  132585|    Anser brachyrhynchus|   Pink-footed goose|    https://www.ensembl.org/Anser_brachyrhynchus| Aves|    40.9|  null|          null|         null|           wild|     medium|  acceptable|\n",
            "|    9031|           Gallus gallus",
            "|      Red junglefowl|           https://www.ensembl.org/Gallus_gallus| Aves|    30.0|2710.0|         6.005|         null|      captivity|      large|  acceptable|\n",
            "|    9054|     Phasianus colchicus|     Common pheasant|     https://www.ensembl.org/Phasianus_colchicus| Aves|    27.0|  null|          null|         null|      captivity|      large|        high|\n",
            "|    9135|         Serinus canaria|        House canary|         https://www.ensembl.org/Serinus_canaria| Aves|    24.0|  13.3|      0.230065|       314.15|      captivity|     medium|  acceptable|\n",
            "|    9049|          Pavo cristatus|      Indian peafowl|          https://www.ensembl.org/Pavo_cristatus| Aves|    23.2|  null|          null|         null|      captivity|      large|  acceptable|\n",
            "|   13146| Melopsittacus undulatus|          Budgerigar| https://www.ensembl.org/Melopsittacus_undulatus| Aves|    21.0|  25.2|        0.3035|       314.15|      captivity|      large|        high|\n",
            "|  211598|         Accipiter nisus|Eurasian sparrowhawk|         htt",
            "ps://www.ensembl.org/Accipiter_nisus| Aves|    20.2| 135.0|        0.9516|         null|           wild|     medium|  acceptable|\n",
            "|    8790|Dromaius novaehollandiae|                 Emu|https://www.ensembl.org/Dromaius_novaehollandiae| Aves|    16.6|  null|          null|         null|      captivity|      large|  acceptable|\n",
            "|    9157|             Parus major|           Great tit|             https://www.ensembl.org/Parus_major| Aves|    15.4|  null|          null|         null|           wild|      large|  acceptable|\n",
            "+--------+------------------------+--------------------+------------------------------------------------+-----+--------+------+--------------+-------------+---------------+-----------+------------+\n",
            "only showing top 10 rows\n",
            "\n"
          ],
          "output_type" : "stream"
        }
      ]
    },
    {
      "cell_type" : "code",
      "execution_count" : 3,
      "metadata" : {
        "cell.metadata.exec_info" : {
          "startTs" : 1581358074072,
          "endTs" : 1581358074470
        },
        "language" : "scala"
      },
      "language" : "scala",
      "source" : [
        "val prefix = \"http://aging-research.group/resource/\"\n",
        "val prefix_ensembl = \"http://rdf.ebi.ac.uk/resource/ensembl/\"\n",
        "val prefix_samples = \"http://aging-research.group/samples/\"\n",
        "def samp(str: String) = \"<\" +prefix_samples +str.replace(\" \", \"_\")+\">\"\n",
        "def pref(str: String) = \"<\" +prefix +str.replace(\" \", \"_\")+\">\" \n",
        "def ens(str: String) =  \"<\" +prefix_ensembl +str.replace(\" \", \"_\")+\">\"\n",
        "def tax(str: String) = ens(\"taxon#\"+str)\n",
        "def str(s: String) = if(s==null) \"\" else s\"\"\"\"${s.replace(\"\\\"\", \"\\\\\\\"\")}\"\"\"\""
      ],
      "outputs" : [
      ]
    },
    {
      "cell_type" : "code",
      "execution_count" : 4,
      "metadata" : {
        "cell.metadata.exec_info" : {
          "startTs" : 1581358080938,
          "endTs" : 1581358081232
        },
        "language" : "scala"
      },
      "language" : "scala",
      "source" : [
        "def trip(s: String, p: String, o: String):List[(String, String, String, String)] = if(s==null || p == null || o == null ||\n",
        " s == \"\" ||  p == \"\" || o == \"\" || o==\"\\\\N\" || o.startsWith(\"\\\"\\\\N\\\"\") || s == \"\\\\N\" || s == \"\\\"\\\\N\\\"\") Nil else List((s,p,o, \"<\" + \"http://rdf.ebi.ac.uk/resource/ensembl/confidence/high\" + \"> .\"))\n",
        "\n",
        "def sp(taxon_id: java.lang.Integer, scientific_name: String)(p: String, o: Any) = if(taxon_id==null || o == null) Nil else {\n",
        "      trip(tax(taxon_id.toString), pref(p), o.toString)++\n",
        "        trip(pref(scientific_name),pref(p), o.toString) \n",
        "}"
      ],
      "outputs" : [
      ]
    },
    {
      "cell_type" : "code",
      "execution_count" : 5,
      "metadata" : {
        "cell.metadata.exec_info" : {
          "startTs" : 1581358083758,
          "endTs" : 1581358085265
        },
        "language" : "scala"
      },
      "language" : "scala",
      "source" : [
        "val trs = species_n.flatMap{\n",
        "    case (taxon_id,scientific_name,common_name,url,animal_class,\n",
        "    lifespan,mass_g,metabolic_rate,temperature_k,\n",
        "    specimen_origin,sample_size,data_quality) =>\n",
        "        trip(tax(taxon_id.toString), pref(\"has_scientific_name\"), pref(scientific_name))++\n",
        "        trip(pref(scientific_name),pref(\"has_taxon\"), tax(taxon_id.toString))++\n",
        "        sp(taxon_id, scientific_name)(\"has_common_name\", str(common_name))++\n",
        "        sp(taxon_id, scientific_name)(\"has_lifespan\", lifespan)++\n",
        "        sp(taxon_id, scientific_name)(\"has_temperature_kelvin\", temperature_k)++\n",
        "        sp(taxon_id, scientific_name)(\"has_mass_g\", mass_g) ++\n",
        "        sp(taxon_id, scientific_name)(\"has_metabolic_rate\", metabolic_rate) ++\n",
        "        sp(taxon_id, scientific_name)(\"is_animal_class\", ens(animal_class)) ++\n",
        "        sp(taxon_id, scientific_name)(\"has_ensembl_url\", \"<\"+url+\">\") ++\n",
        "        Nil\n",
        "}.toDF(\"subject\", \"property\", \"object\", \"context\")\n",
        "trs.show(100,1000)"
      ],
      "outputs" : [
        {
          "name" : "stdout",
          "text" : [
            "+--------------------------------------------------------------+-------------------------------------------------------------+--------------------------------------------------------------+---------------------------------------------------------+\n",
            "|                                                       subject|                                                     property|                                                        object|                                                  context|\n",
            "+--------------------------------------------------------------+-------------------------------------------------------------+--------------------------------------------------------------+---------------------------------------------------------+\n",
            "|         <http://rdf.ebi.ac.uk/resource/ensembl/taxon#2489341>|   <http://aging-research.group/resource/has_scientific_name>|    <http://aging-research.group/resource/Strigops_habroptila>|<http://rdf.ebi.ac.uk/resource/ensembl/confidence/high> .|\n",
            "|    <http://aging-research.grou",
            "p/resource/Strigops_habroptila>|             <http://aging-research.group/resource/has_taxon>|         <http://rdf.ebi.ac.uk/resource/ensembl/taxon#2489341>|<http://rdf.ebi.ac.uk/resource/ensembl/confidence/high> .|\n",
            "|         <http://rdf.ebi.ac.uk/resource/ensembl/taxon#2489341>|       <http://aging-research.group/resource/has_common_name>|                                                      \"Kakapo\"|<http://rdf.ebi.ac.uk/resource/ensembl/confidence/high> .|\n",
            "|    <http://aging-research.group/resource/Strigops_habroptila>|       <http://aging-research.group/resource/has_common_name>|                                                      \"Kakapo\"|<http://rdf.ebi.ac.uk/resource/ensembl/confidence/high> .|\n",
            "|         <http://rdf.ebi.ac.uk/resource/ensembl/taxon#2489341>|          <http://aging-research.group/resource/has_lifespan>|                                                          60.0|<http://rdf.ebi.ac.uk/resource/ensembl/confidence/high> .|\n",
            "|    <http://aging-research.group/resource/Strigops_habroptila>|",
            "          <http://aging-research.group/resource/has_lifespan>|                                                          60.0|<http://rdf.ebi.ac.uk/resource/ensembl/confidence/high> .|\n",
            "|         <http://rdf.ebi.ac.uk/resource/ensembl/taxon#2489341>|       <http://aging-research.group/resource/is_animal_class>|                  <http://rdf.ebi.ac.uk/resource/ensembl/Aves>|<http://rdf.ebi.ac.uk/resource/ensembl/confidence/high> .|\n",
            "|    <http://aging-research.group/resource/Strigops_habroptila>|       <http://aging-research.group/resource/is_animal_class>|                  <http://rdf.ebi.ac.uk/resource/ensembl/Aves>|<http://rdf.ebi.ac.uk/resource/ensembl/confidence/high> .|\n",
            "|         <http://rdf.ebi.ac.uk/resource/ensembl/taxon#2489341>|       <http://aging-research.group/resource/has_ensembl_url>|                 <https://www.ensembl.org/Strigops_habroptila>|<http://rdf.ebi.ac.uk/resource/ensembl/confidence/high> .|\n",
            "|    <http://aging-research.group/resource/Strigops_habroptila>|       <http://aging-research.gr",
            "oup/resource/has_ensembl_url>|                 <https://www.ensembl.org/Strigops_habroptila>|<http://rdf.ebi.ac.uk/resource/ensembl/confidence/high> .|\n",
            "|          <http://rdf.ebi.ac.uk/resource/ensembl/taxon#132585>|   <http://aging-research.group/resource/has_scientific_name>|   <http://aging-research.group/resource/Anser_brachyrhynchus>|<http://rdf.ebi.ac.uk/resource/ensembl/confidence/high> .|\n",
            "|   <http://aging-research.group/resource/Anser_brachyrhynchus>|             <http://aging-research.group/resource/has_taxon>|          <http://rdf.ebi.ac.uk/resource/ensembl/taxon#132585>|<http://rdf.ebi.ac.uk/resource/ensembl/confidence/high> .|\n",
            "|          <http://rdf.ebi.ac.uk/resource/ensembl/taxon#132585>|       <http://aging-research.group/resource/has_common_name>|                                           \"Pink-footed goose\"|<http://rdf.ebi.ac.uk/resource/ensembl/confidence/high> .|\n",
            "|   <http://aging-research.group/resource/Anser_brachyrhynchus>|       <http://aging-research.group/resource/has_common_name>|  ",
            "                                         \"Pink-footed goose\"|<http://rdf.ebi.ac.uk/resource/ensembl/confidence/high> .|\n",
            "|          <http://rdf.ebi.ac.uk/resource/ensembl/taxon#132585>|          <http://aging-research.group/resource/has_lifespan>|                                                          40.9|<http://rdf.ebi.ac.uk/resource/ensembl/confidence/high> .|\n",
            "|   <http://aging-research.group/resource/Anser_brachyrhynchus>|          <http://aging-research.group/resource/has_lifespan>|                                                          40.9|<http://rdf.ebi.ac.uk/resource/ensembl/confidence/high> .|\n",
            "|          <http://rdf.ebi.ac.uk/resource/ensembl/taxon#132585>|       <http://aging-research.group/resource/is_animal_class>|                  <http://rdf.ebi.ac.uk/resource/ensembl/Aves>|<http://rdf.ebi.ac.uk/resource/ensembl/confidence/high> .|\n",
            "|   <http://aging-research.group/resource/Anser_brachyrhynchus>|       <http://aging-research.group/resource/is_animal_class>|                  <http://rdf.ebi.",
            "ac.uk/resource/ensembl/Aves>|<http://rdf.ebi.ac.uk/resource/ensembl/confidence/high> .|\n",
            "|          <http://rdf.ebi.ac.uk/resource/ensembl/taxon#132585>|       <http://aging-research.group/resource/has_ensembl_url>|                <https://www.ensembl.org/Anser_brachyrhynchus>|<http://rdf.ebi.ac.uk/resource/ensembl/confidence/high> .|\n",
            "|   <http://aging-research.group/resource/Anser_brachyrhynchus>|       <http://aging-research.group/resource/has_ensembl_url>|                <https://www.ensembl.org/Anser_brachyrhynchus>|<http://rdf.ebi.ac.uk/resource/ensembl/confidence/high> .|\n",
            "|            <http://rdf.ebi.ac.uk/resource/ensembl/taxon#9031>|   <http://aging-research.group/resource/has_scientific_name>|          <http://aging-research.group/resource/Gallus_gallus>|<http://rdf.ebi.ac.uk/resource/ensembl/confidence/high> .|\n",
            "|          <http://aging-research.group/resource/Gallus_gallus>|             <http://aging-research.group/resource/has_taxon>|            <http://rdf.ebi.ac.uk/resource/ensembl/taxon#9031>|<ht",
            "tp://rdf.ebi.ac.uk/resource/ensembl/confidence/high> .|\n",
            "|            <http://rdf.ebi.ac.uk/resource/ensembl/taxon#9031>|       <http://aging-research.group/resource/has_common_name>|                                              \"Red junglefowl\"|<http://rdf.ebi.ac.uk/resource/ensembl/confidence/high> .|\n",
            "|          <http://aging-research.group/resource/Gallus_gallus>|       <http://aging-research.group/resource/has_common_name>|                                              \"Red junglefowl\"|<http://rdf.ebi.ac.uk/resource/ensembl/confidence/high> .|\n",
            "|            <http://rdf.ebi.ac.uk/resource/ensembl/taxon#9031>|          <http://aging-research.group/resource/has_lifespan>|                                                          30.0|<http://rdf.ebi.ac.uk/resource/ensembl/confidence/high> .|\n",
            "|          <http://aging-research.group/resource/Gallus_gallus>|          <http://aging-research.group/resource/has_lifespan>|                                                          30.0|<http://rdf.ebi.ac.uk/resource/ense",
            "mbl/confidence/high> .|\n",
            "|            <http://rdf.ebi.ac.uk/resource/ensembl/taxon#9031>|            <http://aging-research.group/resource/has_mass_g>|                                                        2710.0|<http://rdf.ebi.ac.uk/resource/ensembl/confidence/high> .|\n",
            "|          <http://aging-research.group/resource/Gallus_gallus>|            <http://aging-research.group/resource/has_mass_g>|                                                        2710.0|<http://rdf.ebi.ac.uk/resource/ensembl/confidence/high> .|\n",
            "|            <http://rdf.ebi.ac.uk/resource/ensembl/taxon#9031>|    <http://aging-research.group/resource/has_metabolic_rate>|                                                         6.005|<http://rdf.ebi.ac.uk/resource/ensembl/confidence/high> .|\n",
            "|          <http://aging-research.group/resource/Gallus_gallus>|    <http://aging-research.group/resource/has_metabolic_rate>|                                                         6.005|<http://rdf.ebi.ac.uk/resource/ensembl/confidence/high> .|\n",
            "|       ",
            "     <http://rdf.ebi.ac.uk/resource/ensembl/taxon#9031>|       <http://aging-research.group/resource/is_animal_class>|                  <http://rdf.ebi.ac.uk/resource/ensembl/Aves>|<http://rdf.ebi.ac.uk/resource/ensembl/confidence/high> .|\n",
            "|          <http://aging-research.group/resource/Gallus_gallus>|       <http://aging-research.group/resource/is_animal_class>|                  <http://rdf.ebi.ac.uk/resource/ensembl/Aves>|<http://rdf.ebi.ac.uk/resource/ensembl/confidence/high> .|\n",
            "|            <http://rdf.ebi.ac.uk/resource/ensembl/taxon#9031>|       <http://aging-research.group/resource/has_ensembl_url>|                       <https://www.ensembl.org/Gallus_gallus>|<http://rdf.ebi.ac.uk/resource/ensembl/confidence/high> .|\n",
            "|          <http://aging-research.group/resource/Gallus_gallus>|       <http://aging-research.group/resource/has_ensembl_url>|                       <https://www.ensembl.org/Gallus_gallus>|<http://rdf.ebi.ac.uk/resource/ensembl/confidence/high> .|\n",
            "|            <http://rdf.ebi.ac.uk/resou",
            "rce/ensembl/taxon#9054>|   <http://aging-research.group/resource/has_scientific_name>|    <http://aging-research.group/resource/Phasianus_colchicus>|<http://rdf.ebi.ac.uk/resource/ensembl/confidence/high> .|\n",
            "|    <http://aging-research.group/resource/Phasianus_colchicus>|             <http://aging-research.group/resource/has_taxon>|            <http://rdf.ebi.ac.uk/resource/ensembl/taxon#9054>|<http://rdf.ebi.ac.uk/resource/ensembl/confidence/high> .|\n",
            "|            <http://rdf.ebi.ac.uk/resource/ensembl/taxon#9054>|       <http://aging-research.group/resource/has_common_name>|                                             \"Common pheasant\"|<http://rdf.ebi.ac.uk/resource/ensembl/confidence/high> .|\n",
            "|    <http://aging-research.group/resource/Phasianus_colchicus>|       <http://aging-research.group/resource/has_common_name>|                                             \"Common pheasant\"|<http://rdf.ebi.ac.uk/resource/ensembl/confidence/high> .|\n",
            "|            <http://rdf.ebi.ac.uk/resource/ensembl/taxon#9054>|        ",
            "  <http://aging-research.group/resource/has_lifespan>|                                                          27.0|<http://rdf.ebi.ac.uk/resource/ensembl/confidence/high> .|\n",
            "|    <http://aging-research.group/resource/Phasianus_colchicus>|          <http://aging-research.group/resource/has_lifespan>|                                                          27.0|<http://rdf.ebi.ac.uk/resource/ensembl/confidence/high> .|\n",
            "|            <http://rdf.ebi.ac.uk/resource/ensembl/taxon#9054>|       <http://aging-research.group/resource/is_animal_class>|                  <http://rdf.ebi.ac.uk/resource/ensembl/Aves>|<http://rdf.ebi.ac.uk/resource/ensembl/confidence/high> .|\n",
            "|    <http://aging-research.group/resource/Phasianus_colchicus>|       <http://aging-research.group/resource/is_animal_class>|                  <http://rdf.ebi.ac.uk/resource/ensembl/Aves>|<http://rdf.ebi.ac.uk/resource/ensembl/confidence/high> .|\n",
            "|            <http://rdf.ebi.ac.uk/resource/ensembl/taxon#9054>|       <http://aging-research.group/reso",
            "urce/has_ensembl_url>|                 <https://www.ensembl.org/Phasianus_colchicus>|<http://rdf.ebi.ac.uk/resource/ensembl/confidence/high> .|\n",
            "|    <http://aging-research.group/resource/Phasianus_colchicus>|       <http://aging-research.group/resource/has_ensembl_url>|                 <https://www.ensembl.org/Phasianus_colchicus>|<http://rdf.ebi.ac.uk/resource/ensembl/confidence/high> .|\n",
            "|            <http://rdf.ebi.ac.uk/resource/ensembl/taxon#9135>|   <http://aging-research.group/resource/has_scientific_name>|        <http://aging-research.group/resource/Serinus_canaria>|<http://rdf.ebi.ac.uk/resource/ensembl/confidence/high> .|\n",
            "|        <http://aging-research.group/resource/Serinus_canaria>|             <http://aging-research.group/resource/has_taxon>|            <http://rdf.ebi.ac.uk/resource/ensembl/taxon#9135>|<http://rdf.ebi.ac.uk/resource/ensembl/confidence/high> .|\n",
            "|            <http://rdf.ebi.ac.uk/resource/ensembl/taxon#9135>|       <http://aging-research.group/resource/has_common_name>|          ",
            "                                      \"House canary\"|<http://rdf.ebi.ac.uk/resource/ensembl/confidence/high> .|\n",
            "|        <http://aging-research.group/resource/Serinus_canaria>|       <http://aging-research.group/resource/has_common_name>|                                                \"House canary\"|<http://rdf.ebi.ac.uk/resource/ensembl/confidence/high> .|\n",
            "|            <http://rdf.ebi.ac.uk/resource/ensembl/taxon#9135>|          <http://aging-research.group/resource/has_lifespan>|                                                          24.0|<http://rdf.ebi.ac.uk/resource/ensembl/confidence/high> .|\n",
            "|        <http://aging-research.group/resource/Serinus_canaria>|          <http://aging-research.group/resource/has_lifespan>|                                                          24.0|<http://rdf.ebi.ac.uk/resource/ensembl/confidence/high> .|\n",
            "|            <http://rdf.ebi.ac.uk/resource/ensembl/taxon#9135>|<http://aging-research.group/resource/has_temperature_kelvin>|                                          ",
            "              314.15|<http://rdf.ebi.ac.uk/resource/ensembl/confidence/high> .|\n",
            "|        <http://aging-research.group/resource/Serinus_canaria>|<http://aging-research.group/resource/has_temperature_kelvin>|                                                        314.15|<http://rdf.ebi.ac.uk/resource/ensembl/confidence/high> .|\n",
            "|            <http://rdf.ebi.ac.uk/resource/ensembl/taxon#9135>|            <http://aging-research.group/resource/has_mass_g>|                                                          13.3|<http://rdf.ebi.ac.uk/resource/ensembl/confidence/high> .|\n",
            "|        <http://aging-research.group/resource/Serinus_canaria>|            <http://aging-research.group/resource/has_mass_g>|                                                          13.3|<http://rdf.ebi.ac.uk/resource/ensembl/confidence/high> .|\n",
            "|            <http://rdf.ebi.ac.uk/resource/ensembl/taxon#9135>|    <http://aging-research.group/resource/has_metabolic_rate>|                                                      0.230065|<http://rdf",
            ".ebi.ac.uk/resource/ensembl/confidence/high> .|\n",
            "|        <http://aging-research.group/resource/Serinus_canaria>|    <http://aging-research.group/resource/has_metabolic_rate>|                                                      0.230065|<http://rdf.ebi.ac.uk/resource/ensembl/confidence/high> .|\n",
            "|            <http://rdf.ebi.ac.uk/resource/ensembl/taxon#9135>|       <http://aging-research.group/resource/is_animal_class>|                  <http://rdf.ebi.ac.uk/resource/ensembl/Aves>|<http://rdf.ebi.ac.uk/resource/ensembl/confidence/high> .|\n",
            "|        <http://aging-research.group/resource/Serinus_canaria>|       <http://aging-research.group/resource/is_animal_class>|                  <http://rdf.ebi.ac.uk/resource/ensembl/Aves>|<http://rdf.ebi.ac.uk/resource/ensembl/confidence/high> .|\n",
            "|            <http://rdf.ebi.ac.uk/resource/ensembl/taxon#9135>|       <http://aging-research.group/resource/has_ensembl_url>|                     <https://www.ensembl.org/Serinus_canaria>|<http://rdf.ebi.ac.uk/resource/ensembl/conf",
            "idence/high> .|\n",
            "|        <http://aging-research.group/resource/Serinus_canaria>|       <http://aging-research.group/resource/has_ensembl_url>|                     <https://www.ensembl.org/Serinus_canaria>|<http://rdf.ebi.ac.uk/resource/ensembl/confidence/high> .|\n",
            "|            <http://rdf.ebi.ac.uk/resource/ensembl/taxon#9049>|   <http://aging-research.group/resource/has_scientific_name>|         <http://aging-research.group/resource/Pavo_cristatus>|<http://rdf.ebi.ac.uk/resource/ensembl/confidence/high> .|\n",
            "|         <http://aging-research.group/resource/Pavo_cristatus>|             <http://aging-research.group/resource/has_taxon>|            <http://rdf.ebi.ac.uk/resource/ensembl/taxon#9049>|<http://rdf.ebi.ac.uk/resource/ensembl/confidence/high> .|\n",
            "|            <http://rdf.ebi.ac.uk/resource/ensembl/taxon#9049>|       <http://aging-research.group/resource/has_common_name>|                                              \"Indian peafowl\"|<http://rdf.ebi.ac.uk/resource/ensembl/confidence/high> .|\n",
            "|         <http:",
            "//aging-research.group/resource/Pavo_cristatus>|       <http://aging-research.group/resource/has_common_name>|                                              \"Indian peafowl\"|<http://rdf.ebi.ac.uk/resource/ensembl/confidence/high> .|\n",
            "|            <http://rdf.ebi.ac.uk/resource/ensembl/taxon#9049>|          <http://aging-research.group/resource/has_lifespan>|                                                          23.2|<http://rdf.ebi.ac.uk/resource/ensembl/confidence/high> .|\n",
            "|         <http://aging-research.group/resource/Pavo_cristatus>|          <http://aging-research.group/resource/has_lifespan>|                                                          23.2|<http://rdf.ebi.ac.uk/resource/ensembl/confidence/high> .|\n",
            "|            <http://rdf.ebi.ac.uk/resource/ensembl/taxon#9049>|       <http://aging-research.group/resource/is_animal_class>|                  <http://rdf.ebi.ac.uk/resource/ensembl/Aves>|<http://rdf.ebi.ac.uk/resource/ensembl/confidence/high> .|\n",
            "|         <http://aging-research.group/resource/",
            "Pavo_cristatus>|       <http://aging-research.group/resource/is_animal_class>|                  <http://rdf.ebi.ac.uk/resource/ensembl/Aves>|<http://rdf.ebi.ac.uk/resource/ensembl/confidence/high> .|\n",
            "|            <http://rdf.ebi.ac.uk/resource/ensembl/taxon#9049>|       <http://aging-research.group/resource/has_ensembl_url>|                      <https://www.ensembl.org/Pavo_cristatus>|<http://rdf.ebi.ac.uk/resource/ensembl/confidence/high> .|\n",
            "|         <http://aging-research.group/resource/Pavo_cristatus>|       <http://aging-research.group/resource/has_ensembl_url>|                      <https://www.ensembl.org/Pavo_cristatus>|<http://rdf.ebi.ac.uk/resource/ensembl/confidence/high> .|\n",
            "|           <http://rdf.ebi.ac.uk/resource/ensembl/taxon#13146>|   <http://aging-research.group/resource/has_scientific_name>|<http://aging-research.group/resource/Melopsittacus_undulatus>|<http://rdf.ebi.ac.uk/resource/ensembl/confidence/high> .|\n",
            "|<http://aging-research.group/resource/Melopsittacus_undulatus>|             <ht",
            "tp://aging-research.group/resource/has_taxon>|           <http://rdf.ebi.ac.uk/resource/ensembl/taxon#13146>|<http://rdf.ebi.ac.uk/resource/ensembl/confidence/high> .|\n",
            "|           <http://rdf.ebi.ac.uk/resource/ensembl/taxon#13146>|       <http://aging-research.group/resource/has_common_name>|                                                  \"Budgerigar\"|<http://rdf.ebi.ac.uk/resource/ensembl/confidence/high> .|\n",
            "|<http://aging-research.group/resource/Melopsittacus_undulatus>|       <http://aging-research.group/resource/has_common_name>|                                                  \"Budgerigar\"|<http://rdf.ebi.ac.uk/resource/ensembl/confidence/high> .|\n",
            "|           <http://rdf.ebi.ac.uk/resource/ensembl/taxon#13146>|          <http://aging-research.group/resource/has_lifespan>|                                                          21.0|<http://rdf.ebi.ac.uk/resource/ensembl/confidence/high> .|\n",
            "|<http://aging-research.group/resource/Melopsittacus_undulatus>|          <http://aging-research.group/resource/",
            "has_lifespan>|                                                          21.0|<http://rdf.ebi.ac.uk/resource/ensembl/confidence/high> .|\n",
            "|           <http://rdf.ebi.ac.uk/resource/ensembl/taxon#13146>|<http://aging-research.group/resource/has_temperature_kelvin>|                                                        314.15|<http://rdf.ebi.ac.uk/resource/ensembl/confidence/high> .|\n",
            "|<http://aging-research.group/resource/Melopsittacus_undulatus>|<http://aging-research.group/resource/has_temperature_kelvin>|                                                        314.15|<http://rdf.ebi.ac.uk/resource/ensembl/confidence/high> .|\n",
            "|           <http://rdf.ebi.ac.uk/resource/ensembl/taxon#13146>|            <http://aging-research.group/resource/has_mass_g>|                                                          25.2|<http://rdf.ebi.ac.uk/resource/ensembl/confidence/high> .|\n",
            "|<http://aging-research.group/resource/Melopsittacus_undulatus>|            <http://aging-research.group/resource/has_mass_g>|                  ",
            "                                        25.2|<http://rdf.ebi.ac.uk/resource/ensembl/confidence/high> .|\n",
            "|           <http://rdf.ebi.ac.uk/resource/ensembl/taxon#13146>|    <http://aging-research.group/resource/has_metabolic_rate>|                                                        0.3035|<http://rdf.ebi.ac.uk/resource/ensembl/confidence/high> .|\n",
            "|<http://aging-research.group/resource/Melopsittacus_undulatus>|    <http://aging-research.group/resource/has_metabolic_rate>|                                                        0.3035|<http://rdf.ebi.ac.uk/resource/ensembl/confidence/high> .|\n",
            "|           <http://rdf.ebi.ac.uk/resource/ensembl/taxon#13146>|       <http://aging-research.group/resource/is_animal_class>|                  <http://rdf.ebi.ac.uk/resource/ensembl/Aves>|<http://rdf.ebi.ac.uk/resource/ensembl/confidence/high> .|\n",
            "|<http://aging-research.group/resource/Melopsittacus_undulatus>|       <http://aging-research.group/resource/is_animal_class>|                  <http://rdf.ebi.ac.uk/resource/e",
            "nsembl/Aves>|<http://rdf.ebi.ac.uk/resource/ensembl/confidence/high> .|\n",
            "|           <http://rdf.ebi.ac.uk/resource/ensembl/taxon#13146>|       <http://aging-research.group/resource/has_ensembl_url>|             <https://www.ensembl.org/Melopsittacus_undulatus>|<http://rdf.ebi.ac.uk/resource/ensembl/confidence/high> .|\n",
            "|<http://aging-research.group/resource/Melopsittacus_undulatus>|       <http://aging-research.group/resource/has_ensembl_url>|             <https://www.ensembl.org/Melopsittacus_undulatus>|<http://rdf.ebi.ac.uk/resource/ensembl/confidence/high> .|\n",
            "|          <http://rdf.ebi.ac.uk/resource/ensembl/taxon#211598>|   <http://aging-research.group/resource/has_scientific_name>|        <http://aging-research.group/resource/Accipiter_nisus>|<http://rdf.ebi.ac.uk/resource/ensembl/confidence/high> .|\n",
            "|        <http://aging-research.group/resource/Accipiter_nisus>|             <http://aging-research.group/resource/has_taxon>|          <http://rdf.ebi.ac.uk/resource/ensembl/taxon#211598>|<http://rdf.ebi.ac.",
            "uk/resource/ensembl/confidence/high> .|\n",
            "|          <http://rdf.ebi.ac.uk/resource/ensembl/taxon#211598>|       <http://aging-research.group/resource/has_common_name>|                                        \"Eurasian sparrowhawk\"|<http://rdf.ebi.ac.uk/resource/ensembl/confidence/high> .|\n",
            "|        <http://aging-research.group/resource/Accipiter_nisus>|       <http://aging-research.group/resource/has_common_name>|                                        \"Eurasian sparrowhawk\"|<http://rdf.ebi.ac.uk/resource/ensembl/confidence/high> .|\n",
            "|          <http://rdf.ebi.ac.uk/resource/ensembl/taxon#211598>|          <http://aging-research.group/resource/has_lifespan>|                                                          20.2|<http://rdf.ebi.ac.uk/resource/ensembl/confidence/high> .|\n",
            "|        <http://aging-research.group/resource/Accipiter_nisus>|          <http://aging-research.group/resource/has_lifespan>|                                                          20.2|<http://rdf.ebi.ac.uk/resource/ensembl/confidence/h",
            "igh> .|\n",
            "|          <http://rdf.ebi.ac.uk/resource/ensembl/taxon#211598>|            <http://aging-research.group/resource/has_mass_g>|                                                         135.0|<http://rdf.ebi.ac.uk/resource/ensembl/confidence/high> .|\n",
            "|        <http://aging-research.group/resource/Accipiter_nisus>|            <http://aging-research.group/resource/has_mass_g>|                                                         135.0|<http://rdf.ebi.ac.uk/resource/ensembl/confidence/high> .|\n",
            "|          <http://rdf.ebi.ac.uk/resource/ensembl/taxon#211598>|    <http://aging-research.group/resource/has_metabolic_rate>|                                                        0.9516|<http://rdf.ebi.ac.uk/resource/ensembl/confidence/high> .|\n",
            "|        <http://aging-research.group/resource/Accipiter_nisus>|    <http://aging-research.group/resource/has_metabolic_rate>|                                                        0.9516|<http://rdf.ebi.ac.uk/resource/ensembl/confidence/high> .|\n",
            "|          <http://rdf.e",
            "bi.ac.uk/resource/ensembl/taxon#211598>|       <http://aging-research.group/resource/is_animal_class>|                  <http://rdf.ebi.ac.uk/resource/ensembl/Aves>|<http://rdf.ebi.ac.uk/resource/ensembl/confidence/high> .|\n",
            "|        <http://aging-research.group/resource/Accipiter_nisus>|       <http://aging-research.group/resource/is_animal_class>|                  <http://rdf.ebi.ac.uk/resource/ensembl/Aves>|<http://rdf.ebi.ac.uk/resource/ensembl/confidence/high> .|\n",
            "|          <http://rdf.ebi.ac.uk/resource/ensembl/taxon#211598>|       <http://aging-research.group/resource/has_ensembl_url>|                     <https://www.ensembl.org/Accipiter_nisus>|<http://rdf.ebi.ac.uk/resource/ensembl/confidence/high> .|\n",
            "|        <http://aging-research.group/resource/Accipiter_nisus>|       <http://aging-research.group/resource/has_ensembl_url>|                     <https://www.ensembl.org/Accipiter_nisus>|<http://rdf.ebi.ac.uk/resource/ensembl/confidence/high> .|\n",
            "+-------------------------------------------------------",
            "-------+-------------------------------------------------------------+--------------------------------------------------------------+---------------------------------------------------------+\n",
            "only showing top 100 rows\n",
            "\n"
          ],
          "output_type" : "stream"
        }
      ]
    },
    {
      "cell_type" : "code",
      "execution_count" : 6,
      "metadata" : {
        "cell.metadata.exec_info" : {
          "startTs" : 1580843524698,
          "endTs" : 1580843525585
        },
        "language" : "scala"
      },
      "language" : "scala",
      "source" : [
        "trs.writeTSV(\"/data/databases/graphdb/import/species.nq\", false)"
      ],
      "outputs" : [
        {
          "name" : "stdout",
          "text" : [
            "parts of /data/databases/graphdb/import/species.nt merged!\n"
          ],
          "output_type" : "stream"
        },
        {
          "execution_count" : 6,
          "data" : {
            "text/plain" : [
              "/data/databases/graphdb/import/species.nt"
            ]
          },
          "metadata" : {
            "name" : "Out",
            "type" : "String"
          },
          "output_type" : "execute_result"
        }
      ]
    },
    {
      "cell_type" : "markdown",
      "execution_count" : 7,
      "metadata" : {
        "language" : "text"
      },
      "language" : "text",
      "source" : [
        "# Processing samples\n",
        "\n"
      ],
      "outputs" : [
      ]
    },
    {
      "cell_type" : "code",
      "execution_count" : 8,
      "metadata" : {
        "cell.metadata.exec_info" : {
          "startTs" : 1581358087158,
          "endTs" : 1581358090308
        },
        "language" : "scala"
      },
      "language" : "scala",
      "source" : [
        "val samples = spark.readTSV(\"/data/samples/species/species.tsv\", header=true).na.fill(\"N/A\")\n",
        "  .where($\"index\" =!= \"N/A\")\n",
        "  .where($\"library_strategy\" === \"RNA-Seq\")\n",
        "  .sort($\"organism\".desc, $\"library_layout\")\n",
        "samples.show(10, 10000)"
      ],
      "outputs" : [
        {
          "name" : "stdout",
          "text" : [
            "+-----------+-----------+----------+----------------+-----+-----------+----------------------------+----------------+--------------+-----------------+---------+-------------------------------------------------------------+---------------------------------------------------------------------------------------------------------------------------------------------+-------------+-----------+---+-----+----------------------------------------------------------------------------------------------------------------------------------------------------------------------------------------------------------------------------------------------------------------------------------------------------------------------------------+--------------+-----------+-------------------------------------------------------------------------------------------------------------+-------------------------------------------------------------------------------------------------------------------+------------------------------------------------",
            "-----------------------------------------------+-------+-------------+-----------------------+\n",
            "| bioproject|     series|       run|        organism|taxid|sample_name|                   sequencer|library_strategy|library_layout|library_selection|    study|                                                  study_title|                                                                                                                              characteristics|       source|        age|sex|tumor|                                                                                                                                                                                                                                                                                                                          protocol|salmon_version|      index|                                                                                                        genes|                                                                     ",
            "                                   transcripts|                                                                                          quant|libType|numBootstraps|               modified|\n",
            "+-----------+-----------+----------+----------------+-----+-----------+----------------------------+----------------+--------------+-----------------+---------+-------------------------------------------------------------+---------------------------------------------------------------------------------------------------------------------------------------------+-------------+-----------+---+-----+----------------------------------------------------------------------------------------------------------------------------------------------------------------------------------------------------------------------------------------------------------------------------------------------------------------------------------+--------------+-----------+------------------------------------------------------------------------------------",
            "-------------------------+-------------------------------------------------------------------------------------------------------------------+-----------------------------------------------------------------------------------------------+-------+-------------+-----------------------+\n",
            "|PRJNA184055|   GSE43013| SRR636978|Ursus americanus| 9643| GSM1055128|Illumina Genome Analyzer IIx|         RNA-Seq|        PAIRED|             cDNA|SRP017611|Gene Expression Defines Natural Changes in Mammalian Lifespan|    'Tumor:no;genotype/variation:wild type;age:adult;tissue:normal brain;organ part:frontal parts of brain;source_name:Ursus americanus_brain| normal brain|      adult|N/A|   no|                                                                                                                                                                                                                                                                                                                               N/A|        0.14.1|A",
            "SM334442v1|        /data/samples/species/GSE43013/GSM1055128/SRR636978/GSE43013_GSM1055128_SRR636978_genes_abundance.tsv|        /data/samples/species/GSE43013/GSM1055128/SRR636978/GSE43013_GSM1055128_SRR636978_transcripts_abundance.tsv|        /data/samples/species/GSE43013/GSM1055128/SRR636978/quant_GSE43013_GSM1055128_SRR636978|      A|          128|    2019-07-25 19:59:40|\n",
            "|PRJNA184055|   GSE43013| SRR636888|Ursus americanus| 9643| GSM1055038|Illumina Genome Analyzer IIx|         RNA-Seq|        PAIRED|             cDNA|SRP017611|Gene Expression Defines Natural Changes in Mammalian Lifespan|               'Tumor:no;genotype/variation:wild type;age:adult;tissue:normal liver;organ part:whole liver;source_name:Ursus americanus_liver| normal liver|      adult|N/A|   no|                                                                                                                                                                                                                                                    ",
            "                                                                           N/A|        0.14.1|ASM334442v1|        /data/samples/species/GSE43013/GSM1055038/SRR636888/GSE43013_GSM1055038_SRR636888_genes_abundance.tsv|        /data/samples/species/GSE43013/GSM1055038/SRR636888/GSE43013_GSM1055038_SRR636888_transcripts_abundance.tsv|        /data/samples/species/GSE43013/GSM1055038/SRR636888/quant_GSE43013_GSM1055038_SRR636888|      A|          128|    2019-07-25 20:00:13|\n",
            "|PRJNA184055|PRJNA184055| SRR636887|Ursus americanus| 9643| GSM1055037|Illumina Genome Analyzer IIx|         RNA-Seq|        PAIRED|             cDNA|SRP017611|Gene Expression Defines Natural Changes in Mammalian Lifespan|               'Tumor:no;genotype/variation:wild type;age:adult;tissue:normal liver;organ part:whole liver;source_name:Ursus americanus_liver| normal liver|      adult|N/A|   no|                                                                                                                                                     ",
            "                                                                                                                                                                          N/A|        0.14.1|ASM334442v1|    /data/samples/species/PRJNA184055/SRX211627/SRR636887/PRJNA184055_SRX211627_SRR636887_genes_abundance.tsv|    /data/samples/species/PRJNA184055/SRX211627/SRR636887/PRJNA184055_SRX211627_SRR636887_transcripts_abundance.tsv|    /data/samples/species/PRJNA184055/SRX211627/SRR636887/quant_PRJNA184055_SRX211627_SRR636887|      A|          128|    2019-09-18 19:30:51|\n",
            "|PRJNA184055|   GSE43013| SRR636932|Ursus americanus| 9643| GSM1055082|Illumina Genome Analyzer IIx|         RNA-Seq|        PAIRED|             cDNA|SRP017611|Gene Expression Defines Natural Changes in Mammalian Lifespan|            'Tumor:no;genotype/variation:wild type;age:adult;tissue:normal kidney;organ part:whole kidney;source_name:Ursus americanus_kidney|normal kidney|      adult|N/A|   no|                                                      ",
            "                                                                                                                                                                                                                                                                         N/A|        0.14.1|ASM334442v1|        /data/samples/species/GSE43013/GSM1055082/SRR636932/GSE43013_GSM1055082_SRR636932_genes_abundance.tsv|        /data/samples/species/GSE43013/GSM1055082/SRR636932/GSE43013_GSM1055082_SRR636932_transcripts_abundance.tsv|        /data/samples/species/GSE43013/GSM1055082/SRR636932/quant_GSE43013_GSM1055082_SRR636932|      A|          128|    2019-07-25 19:58:58|\n",
            "|PRJNA184055|PRJNA184055| SRR636933|Ursus americanus| 9643| GSM1055083|Illumina Genome Analyzer IIx|         RNA-Seq|        PAIRED|             cDNA|SRP017611|Gene Expression Defines Natural Changes in Mammalian Lifespan|            'Tumor:no;genotype/variation:wild type;age:adult;tissue:normal kidney;organ part:whole kidney;source_name:Ursus americanus_ki",
            "dney|normal kidney|      adult|N/A|   no|                                                                                                                                                                                                                                                                                                                               N/A|        0.14.1|ASM334442v1|    /data/samples/species/PRJNA184055/SRX211673/SRR636933/PRJNA184055_SRX211673_SRR636933_genes_abundance.tsv|    /data/samples/species/PRJNA184055/SRX211673/SRR636933/PRJNA184055_SRX211673_SRR636933_transcripts_abundance.tsv|    /data/samples/species/PRJNA184055/SRX211673/SRR636933/quant_PRJNA184055_SRX211673_SRR636933|      A|          128|    2019-09-18 19:29:18|\n",
            "|PRJNA311523|PRJNA311523|SRR3160061|      Sus scrofa| 9823| GSM2059123|         Illumina HiSeq 2500|         RNA-Seq|        PAIRED|             cDNA|SRP069860|                  Transcriptome data used for gene annotation|                                          ",
            "                          'Tumor:no;age:60 days old;tissue:lung;source_name:lung;breed name:Meishan|         lung|60 days old|N/A|   no|The total RNA was extracted using the TrIzol reagent (Life Technologies, Beijing, China) according to the manufacturer’s protocols. Illumina TruSeq RNA Sample Prep Kit was used with 1 ug of total RNA for the construction of sequencing libraries. RNA libraries were prepared for sequencing using standard Illumina protocols|        0.14.1|Sscrofa11.1|/data/samples/species/PRJNA311523/SRX1569908/SRR3160061/PRJNA311523_SRX1569908_SRR3160061_genes_abundance.tsv|/data/samples/species/PRJNA311523/SRX1569908/SRR3160061/PRJNA311523_SRX1569908_SRR3160061_transcripts_abundance.tsv|/data/samples/species/PRJNA311523/SRX1569908/SRR3160061/quant_PRJNA311523_SRX1569908_SRR3160061|      A|          128| 2019-09-16 21:22:56.17|\n",
            "|PRJNA311523|PRJNA311523|SRR3160008|      Sus scrofa| 9823| GSM2059070|         Illumina HiSeq 2500|         RNA-Seq|        PAIRED|             cDNA|SRP069860|       ",
            "           Transcriptome data used for gene annotation|                                                                 'Tumor:no;age:60 days old;tissue:heart;source_name:heart;breed name:Landrace|        heart|60 days old|N/A|   no|The total RNA was extracted using the TrIzol reagent (Life Technologies, Beijing, China) according to the manufacturer’s protocols. Illumina TruSeq RNA Sample Prep Kit was used with 1 ug of total RNA for the construction of sequencing libraries. RNA libraries were prepared for sequencing using standard Illumina protocols|        0.14.1|Sscrofa11.1|/data/samples/species/PRJNA311523/SRX1569855/SRR3160008/PRJNA311523_SRX1569855_SRR3160008_genes_abundance.tsv|/data/samples/species/PRJNA311523/SRX1569855/SRR3160008/PRJNA311523_SRX1569855_SRR3160008_transcripts_abundance.tsv|/data/samples/species/PRJNA311523/SRX1569855/SRR3160008/quant_PRJNA311523_SRX1569855_SRR3160008|      A|          128|    2019-09-16 15:01:34|\n",
            "|PRJNA188070|PRJNA188070| SRR653846|      Sus scrofa| 9823| GSM1074094",
            "|         Illumina HiSeq 2000|         RNA-Seq|        PAIRED|             cDNA|SRP018288|                  Transcriptome data used for gene annotation|'Tumor:no;tissue:Kidney;source_name:TP_kidney_RNA-seq;breed:Tibetan;local origin:Ganzi Tibetan autonomous prefecture, Sichuan province, China|       Kidney|        N/A|N/A|   no|                                                                                                                                                                                                                                                                                                                               N/A|        0.14.1|Sscrofa11.1|    /data/samples/species/PRJNA188070/SRX220651/SRR653846/PRJNA188070_SRX220651_SRR653846_genes_abundance.tsv|    /data/samples/species/PRJNA188070/SRX220651/SRR653846/PRJNA188070_SRX220651_SRR653846_transcripts_abundance.tsv|    /data/samples/species/PRJNA188070/SRX220651/SRR653846/quant_PRJNA188070_SRX220651_SRR653846|      A|          128|",
            "    2019-09-16 15:50:40|\n",
            "|PRJNA311523|PRJNA311523|SRR3160018|      Sus scrofa| 9823| GSM2059080|         Illumina HiSeq 2500|         RNA-Seq|        PAIRED|             cDNA|SRP069860|                  Transcriptome data used for gene annotation|                                                              'Tumor:no;age:60 days old;tissue:heart;source_name:heart;breed name:Large White|        heart|60 days old|N/A|   no|The total RNA was extracted using the TrIzol reagent (Life Technologies, Beijing, China) according to the manufacturer’s protocols. Illumina TruSeq RNA Sample Prep Kit was used with 1 ug of total RNA for the construction of sequencing libraries. RNA libraries were prepared for sequencing using standard Illumina protocols|        0.14.1|Sscrofa11.1|/data/samples/species/PRJNA311523/SRX1569865/SRR3160018/PRJNA311523_SRX1569865_SRR3160018_genes_abundance.tsv|/data/samples/species/PRJNA311523/SRX1569865/SRR3160018/PRJNA311523_SRX1569865_SRR3160018_transcripts_abundance.tsv|/data/samples/species",
            "/PRJNA311523/SRX1569865/SRR3160018/quant_PRJNA311523_SRX1569865_SRR3160018|      A|          128|    2019-09-16 14:44:34|\n",
            "|PRJNA311523|PRJNA311523|SRR3160041|      Sus scrofa| 9823| GSM2059103|         Illumina HiSeq 2500|         RNA-Seq|        PAIRED|             cDNA|SRP069860|                  Transcriptome data used for gene annotation|                                                                      'Tumor:no;age:60 days old;tissue:lung;source_name:lung;breed name:Bamei|         lung|60 days old|N/A|   no|The total RNA was extracted using the TrIzol reagent (Life Technologies, Beijing, China) according to the manufacturer’s protocols. Illumina TruSeq RNA Sample Prep Kit was used with 1 ug of total RNA for the construction of sequencing libraries. RNA libraries were prepared for sequencing using standard Illumina protocols|        0.14.1|Sscrofa11.1|/data/samples/species/PRJNA311523/SRX1569888/SRR3160041/PRJNA311523_SRX1569888_SRR3160041_genes_abundance.tsv|/data/samples/species/PRJNA311523/SRX156",
            "9888/SRR3160041/PRJNA311523_SRX1569888_SRR3160041_transcripts_abundance.tsv|/data/samples/species/PRJNA311523/SRX1569888/SRR3160041/quant_PRJNA311523_SRX1569888_SRR3160041|      A|          128|2019-09-16 21:15:56.756|\n",
            "+-----------+-----------+----------+----------------+-----+-----------+----------------------------+----------------+--------------+-----------------+---------+-------------------------------------------------------------+---------------------------------------------------------------------------------------------------------------------------------------------+-------------+-----------+---+-----+----------------------------------------------------------------------------------------------------------------------------------------------------------------------------------------------------------------------------------------------------------------------------------------------------------------------------------+--------------+-----------+-------------------------------------------------------",
            "------------------------------------------------------+-------------------------------------------------------------------------------------------------------------------+-----------------------------------------------------------------------------------------------+-------+-------------+-----------------------+\n",
            "only showing top 10 rows\n",
            "\n"
          ],
          "output_type" : "stream"
        }
      ]
    },
    {
      "cell_type" : "code",
      "execution_count" : 9,
      "metadata" : {
        "cell.metadata.exec_info" : {
          "startTs" : 1581350063391,
          "endTs" : 1581350063963
        },
        "language" : "scala"
      },
      "language" : "scala",
      "source" : [
        "samples.schema.fields.map{ case f=> f.name}.toList"
      ],
      "outputs" : [
        {
          "execution_count" : 9,
          "data" : {
            "text/plain" : [
              "List(bioproject, series, run, organism, taxid, sample_name, sequencer, library_strategy, library_layout, library_selection, study, study_title, characteristics, source, age, sex, tumor, protocol, salmon_version, index, genes, transcripts, quant, libType,"
            ]
          },
          "metadata" : {
            "name" : "Out",
            "type" : "List[String]"
          },
          "output_type" : "execute_result"
        }
      ]
    },
    {
      "cell_type" : "code",
      "execution_count" : 10,
      "metadata" : {
        "cell.metadata.exec_info" : {
          "startTs" : 1581358094838,
          "endTs" : 1581358095015
        },
        "language" : "scala"
      },
      "language" : "scala",
      "source" : [
        "samples.printSchema()"
      ],
      "outputs" : [
        {
          "name" : "stdout",
          "text" : [
            "root\n",
            " |-- bioproject: string (nullable = false)\n",
            " |-- series: string (nullable = false)\n",
            " |-- run: string (nullable = false)\n",
            " |-- organism: string (nullable = false)\n",
            " |-- taxid: integer (nullable = true)\n",
            " |-- sample_name: string (nullable = false)\n",
            " |-- sequencer: string (nullable = false)\n",
            " |-- library_strategy: string (nullable = false)\n",
            " |-- library_layout: string (nullable = false)\n",
            " |-- library_selection: string (nullable = false)\n",
            " |-- study: string (nullable = false)\n",
            " |-- study_title: string (nullable = false)\n",
            " |-- characteristics: string (nullable = false)\n",
            " |-- source: string (nullable = false)\n",
            " |-- age: string (nullable = false)\n",
            " |-- sex: string (nullable = false)\n",
            " |-- tumor: string (nullable = false)\n",
            " |-- protocol: string (nullable = false)\n",
            " |-- salmon_version: string (nullable = false)\n",
            " |-- index: string (nullable = false)\n",
            " |-- genes: string (nullable = false)\n",
            " |-- transcripts: string (nullable = false)\n",
            " |-- quant: string (nullable = false)\n",
            " |-- libType: string (nullable = false)\n",
            " |-- numBootstraps: integ",
            "er (nullable = true)\n",
            " |-- modified: timestamp (nullable = true)\n",
            "\n"
          ],
          "output_type" : "stream"
        }
      ]
    },
    {
      "cell_type" : "code",
      "execution_count" : 13,
      "metadata" : {
        "cell.metadata.exec_info" : {
          "startTs" : 1581358452019,
          "endTs" : 1581358452209
        },
        "language" : "scala"
      },
      "language" : "scala",
      "source" : [
        "val bioproject_prefix = \"https://www.ncbi.nlm.nih.gov/bioproject/\"\n",
        "val experiment_prefix = \"https://www.ncbi.nlm.nih.gov/geo/query/acc.cgi?acc=\"\n",
        "val sra_prefix = \"https://www.ncbi.nlm.nih.gov/sra/\"\n",
        "\n",
        "def bioproject(str: String) = s\"<${bioproject_prefix}${str}>\"\n",
        "def experiment(str: String) = if(str.contains(\"GSE\")) s\"<${experiment_prefix}$str>\" else bioproject(str)\n",
        "def run(str: String) = s\"<${experiment_prefix}${str}>\"\n",
        "val has_experiment = pref(\"has_experiment\")\n",
        "val has_run = pref(\"has_run\")\n",
        "val has_sample_name = pref(\"has_sample_name\")\n",
        "val has_experiments = pref(\"has_experiment\")\n"
      ],
      "outputs" : [
      ]
    },
    {
      "cell_type" : "code",
      "execution_count" : 23,
      "metadata" : {
        "cell.metadata.exec_info" : {
          "startTs" : 1581358471029,
          "endTs" : 1581358471176
        },
        "language" : "scala"
      },
      "language" : "scala",
      "source" : [
        "def pre(prefix: String, str: String) = \n",
        "    if(prefix.startsWith(\"xsd:\")) s\"\"\"\"$str\"^^$prefix\"\"\"\" else\n",
        "    if(prefix.contains(\"http\")) \"<\" + prefix + str + \">\" else     \n",
        "    prefix + str"
      ],
      "outputs" : [
      ]
    },
    {
      "cell_type" : "code",
      "execution_count" : 24,
      "metadata" : {
        "cell.metadata.exec_info" : {
          "startTs" : 1581361700972,
          "endTs" : 1581361701222
        },
        "language" : "scala"
      },
      "language" : "scala",
      "source" : [
        "  //note first is subject, others - objects!\n",
        "  def toQuads(dataFrame: DataFrame, subject_prefix: String, subject_column: String,\n",
        "  properties: Seq[String], prefixes: Seq[String], object_columns: Seq[String], context: String = prefix_samples) = {\n",
        "    require(properties.length == prefixes.length && prefixes.length == object_columns.length, s\"not same number of properties(${properties.length}), prefixes(${prefixes.length}) and columns(${object_columns.length})\")\n",
        "    val df = dataFrame.select(subject_column, object_columns:_*)    \n",
        "    df.flatMap{ case row=>       \n",
        "            val sub = pre(subject_prefix, row.getAs[String](subject_column)) \n",
        "            properties.zip(prefixes.zip(object_columns)).map{ \n",
        "                case (prop, (pref, col)) => \n",
        "                    val o = pre(pref, row.getAs[String](col))\n",
        "                    (sub, prop, o, \"<\" + context + \">\" + \" .\")\n",
        "            }\n",
        "    }.as[(String, String, String, String)].toDF(\"subject\", \"property\", \"object\", \"context\")    \n",
        "    \n",
        "}"
      ],
      "outputs" : [
      ]
    },
    {
      "cell_type" : "code",
      "execution_count" : 25,
      "metadata" : {
        "cell.metadata.exec_info" : {
          "startTs" : 1581362103556,
          "endTs" : 1581362103763
        },
        "language" : "scala"
      },
      "language" : "scala",
      "source" : [
        "def toHasQuads(dataFrame: DataFrame, subject_prefix: String, subject_column: String,\n",
        "   prefixes: Seq[String], columns: Seq[String], context: String = prefix_samples, property_prefix: String = prefix_samples) = {\n",
        "      val properties = columns.map(c=> pre(property_prefix, \"has_\"+c))\n",
        "      toQuads(dataFrame, subject_prefix, subject_column, properties, prefixes, columns, context)\n",
        "  }\n",
        "\n",
        "def toHasPrefixedQuads(dataFrame: DataFrame, subject_prefix: String, subject_column: String,\n",
        "columns: Seq[String], context: String = prefix_samples, property_prefix: String = prefix_samples, object_prefix: String = prefix_samples) = {\n",
        "    val properties = columns.map(c=> pre(property_prefix, c))\n",
        "    val prefixes = columns.map(_ => object_prefix)\n",
        "    toQuads(dataFrame, subject_prefix, subject_column, properties, prefixes, columns, context)\n",
        "}"
      ],
      "outputs" : [
      ]
    },
    {
      "cell_type" : "code",
      "execution_count" : 15,
      "metadata" : {
        "cell.metadata.exec_info" : {
          "startTs" : 1581362145869,
          "endTs" : 1581362146366
        },
        "language" : "scala"
      },
      "language" : "scala",
      "source" : [
        "val (samples_gse, samples_main) = samples.partition()\n",
        "val trip_bioprojects = toHasQuads(samples.where($\"series\" contains \"GSE\"),  bioproject_prefix, \"bioproject\",\n",
        " Seq(experiment_prefix, sra_prefix, \"https://trace.ncbi.nlm.nih.gov/Traces/sra/?study=\"),\n",
        " Seq(\"series\", \"run\", \"study\")).join(toHasQuads(samples.where(! ($\"series\" contains \"GSE\")),  bioproject_prefix, \"bioproject\",\n",
        " Seq(experiment_prefix, sra_prefix, \"https://trace.ncbi.nlm.nih.gov/Traces/sra/?study=\"),\n",
        " Seq(\"series\", \"run\", \"study\")))\n",
        "trip_bioprojects.show(1000, 10000)"
      ],
      "outputs" : [
        {
          "name" : "stdout",
          "text" : [
            "+-----------------------------------------------------+------------------------------------------------+------------------------------------------------------------------------+----------------------------------------+\n",
            "|                                              subject|                                        property|                                                                  object|                                 context|\n",
            "+-----------------------------------------------------+------------------------------------------------+------------------------------------------------------------------------+----------------------------------------+\n",
            "|<https://www.ncbi.nlm.nih.gov/bioproject/PRJNA184055>|<http://aging-research.group/samples/has_series>|           <https://www.ncbi.nlm.nih.gov/geo/query/acc.cgi?acc=GSE43013>|<http://aging-research.group/samples/> .|\n",
            "|<https://www.ncbi.nlm.nih.gov/bioproject/PRJNA184055>|   <http://aging-research.group/samples/has_run>|                            <https://www.ncb",
            "i.nlm.nih.gov/sra/SRR636888>|<http://aging-research.group/samples/> .|\n",
            "|<https://www.ncbi.nlm.nih.gov/bioproject/PRJNA184055>| <http://aging-research.group/samples/has_study>|            <https://trace.ncbi.nlm.nih.gov/Traces/sra/?study=SRP017611>|<http://aging-research.group/samples/> .|\n",
            "|<https://www.ncbi.nlm.nih.gov/bioproject/PRJNA184055>|<http://aging-research.group/samples/has_series>|           <https://www.ncbi.nlm.nih.gov/geo/query/acc.cgi?acc=GSE43013>|<http://aging-research.group/samples/> .|\n",
            "|<https://www.ncbi.nlm.nih.gov/bioproject/PRJNA184055>|   <http://aging-research.group/samples/has_run>|                            <https://www.ncbi.nlm.nih.gov/sra/SRR636932>|<http://aging-research.group/samples/> .|\n",
            "|<https://www.ncbi.nlm.nih.gov/bioproject/PRJNA184055>| <http://aging-research.group/samples/has_study>|            <https://trace.ncbi.nlm.nih.gov/Traces/sra/?study=SRP017611>|<http://aging-research.group/samples/> .|\n",
            "|<https://www.ncbi.nlm.nih.gov/bioproject/PRJNA184055>|<http://aging-research",
            ".group/samples/has_series>|           <https://www.ncbi.nlm.nih.gov/geo/query/acc.cgi?acc=GSE43013>|<http://aging-research.group/samples/> .|\n",
            "|<https://www.ncbi.nlm.nih.gov/bioproject/PRJNA184055>|   <http://aging-research.group/samples/has_run>|                            <https://www.ncbi.nlm.nih.gov/sra/SRR636978>|<http://aging-research.group/samples/> .|\n",
            "|<https://www.ncbi.nlm.nih.gov/bioproject/PRJNA184055>| <http://aging-research.group/samples/has_study>|            <https://trace.ncbi.nlm.nih.gov/Traces/sra/?study=SRP017611>|<http://aging-research.group/samples/> .|\n",
            "|<https://www.ncbi.nlm.nih.gov/bioproject/PRJNA184055>|<http://aging-research.group/samples/has_series>|        <https://www.ncbi.nlm.nih.gov/geo/query/acc.cgi?acc=PRJNA184055>|<http://aging-research.group/samples/> .|\n",
            "|<https://www.ncbi.nlm.nih.gov/bioproject/PRJNA184055>|   <http://aging-research.group/samples/has_run>|                            <https://www.ncbi.nlm.nih.gov/sra/SRR636887>|<http://aging-research.group/samples/> .|\n",
            "|<http",
            "s://www.ncbi.nlm.nih.gov/bioproject/PRJNA184055>| <http://aging-research.group/samples/has_study>|            <https://trace.ncbi.nlm.nih.gov/Traces/sra/?study=SRP017611>|<http://aging-research.group/samples/> .|\n",
            "|<https://www.ncbi.nlm.nih.gov/bioproject/PRJNA184055>|<http://aging-research.group/samples/has_series>|        <https://www.ncbi.nlm.nih.gov/geo/query/acc.cgi?acc=PRJNA184055>|<http://aging-research.group/samples/> .|\n",
            "|<https://www.ncbi.nlm.nih.gov/bioproject/PRJNA184055>|   <http://aging-research.group/samples/has_run>|                            <https://www.ncbi.nlm.nih.gov/sra/SRR636933>|<http://aging-research.group/samples/> .|\n",
            "|<https://www.ncbi.nlm.nih.gov/bioproject/PRJNA184055>| <http://aging-research.group/samples/has_study>|            <https://trace.ncbi.nlm.nih.gov/Traces/sra/?study=SRP017611>|<http://aging-research.group/samples/> .|\n",
            "|<https://www.ncbi.nlm.nih.gov/bioproject/PRJNA188070>|<http://aging-research.group/samples/has_series>|        <https://www.ncbi.nlm.nih.gov/geo/query/ac",
            "c.cgi?acc=PRJNA188070>|<http://aging-research.group/samples/> .|\n",
            "|<https://www.ncbi.nlm.nih.gov/bioproject/PRJNA188070>|   <http://aging-research.group/samples/has_run>|                            <https://www.ncbi.nlm.nih.gov/sra/SRR653846>|<http://aging-research.group/samples/> .|\n",
            "|<https://www.ncbi.nlm.nih.gov/bioproject/PRJNA188070>| <http://aging-research.group/samples/has_study>|            <https://trace.ncbi.nlm.nih.gov/Traces/sra/?study=SRP018288>|<http://aging-research.group/samples/> .|\n",
            "|<https://www.ncbi.nlm.nih.gov/bioproject/PRJNA311523>|<http://aging-research.group/samples/has_series>|        <https://www.ncbi.nlm.nih.gov/geo/query/acc.cgi?acc=PRJNA311523>|<http://aging-research.group/samples/> .|\n",
            "|<https://www.ncbi.nlm.nih.gov/bioproject/PRJNA311523>|   <http://aging-research.group/samples/has_run>|                           <https://www.ncbi.nlm.nih.gov/sra/SRR3160008>|<http://aging-research.group/samples/> .|\n",
            "|<https://www.ncbi.nlm.nih.gov/bioproject/PRJNA311523>| <http://aging-research.grou",
            "p/samples/has_study>|            <https://trace.ncbi.nlm.nih.gov/Traces/sra/?study=SRP069860>|<http://aging-research.group/samples/> .|\n",
            "|<https://www.ncbi.nlm.nih.gov/bioproject/PRJNA311523>|<http://aging-research.group/samples/has_series>|        <https://www.ncbi.nlm.nih.gov/geo/query/acc.cgi?acc=PRJNA311523>|<http://aging-research.group/samples/> .|\n",
            "|<https://www.ncbi.nlm.nih.gov/bioproject/PRJNA311523>|   <http://aging-research.group/samples/has_run>|                           <https://www.ncbi.nlm.nih.gov/sra/SRR3160018>|<http://aging-research.group/samples/> .|\n",
            "|<https://www.ncbi.nlm.nih.gov/bioproject/PRJNA311523>| <http://aging-research.group/samples/has_study>|            <https://trace.ncbi.nlm.nih.gov/Traces/sra/?study=SRP069860>|<http://aging-research.group/samples/> .|\n",
            "|<https://www.ncbi.nlm.nih.gov/bioproject/PRJNA311523>|<http://aging-research.group/samples/has_series>|        <https://www.ncbi.nlm.nih.gov/geo/query/acc.cgi?acc=PRJNA311523>|<http://aging-research.group/samples/> .|\n",
            "|<https://ww",
            "w.ncbi.nlm.nih.gov/bioproject/PRJNA311523>|   <http://aging-research.group/samples/has_run>|                           <https://www.ncbi.nlm.nih.gov/sra/SRR3160041>|<http://aging-research.group/samples/> .|\n",
            "|<https://www.ncbi.nlm.nih.gov/bioproject/PRJNA311523>| <http://aging-research.group/samples/has_study>|            <https://trace.ncbi.nlm.nih.gov/Traces/sra/?study=SRP069860>|<http://aging-research.group/samples/> .|\n",
            "|<https://www.ncbi.nlm.nih.gov/bioproject/PRJNA311523>|<http://aging-research.group/samples/has_series>|        <https://www.ncbi.nlm.nih.gov/geo/query/acc.cgi?acc=PRJNA311523>|<http://aging-research.group/samples/> .|\n",
            "|<https://www.ncbi.nlm.nih.gov/bioproject/PRJNA311523>|   <http://aging-research.group/samples/has_run>|                           <https://www.ncbi.nlm.nih.gov/sra/SRR3160052>|<http://aging-research.group/samples/> .|\n",
            "|<https://www.ncbi.nlm.nih.gov/bioproject/PRJNA311523>| <http://aging-research.group/samples/has_study>|            <https://trace.ncbi.nlm.nih.gov/Traces/sra/?",
            "study=SRP069860>|<http://aging-research.group/samples/> .|\n",
            "|<https://www.ncbi.nlm.nih.gov/bioproject/PRJNA311523>|<http://aging-research.group/samples/has_series>|        <https://www.ncbi.nlm.nih.gov/geo/query/acc.cgi?acc=PRJNA311523>|<http://aging-research.group/samples/> .|\n",
            "|<https://www.ncbi.nlm.nih.gov/bioproject/PRJNA311523>|   <http://aging-research.group/samples/has_run>|                           <https://www.ncbi.nlm.nih.gov/sra/SRR3160061>|<http://aging-research.group/samples/> .|\n",
            "|<https://www.ncbi.nlm.nih.gov/bioproject/PRJNA311523>| <http://aging-research.group/samples/has_study>|            <https://trace.ncbi.nlm.nih.gov/Traces/sra/?study=SRP069860>|<http://aging-research.group/samples/> .|\n",
            "|<https://www.ncbi.nlm.nih.gov/bioproject/PRJNA392328>|<http://aging-research.group/samples/has_series>|<https://www.ncbi.nlm.nih.gov/geo/query/acc.cgi?acc=GSE100631_GSE100633>|<http://aging-research.group/samples/> .|\n",
            "|<https://www.ncbi.nlm.nih.gov/bioproject/PRJNA392328>|   <http://aging-research.group/sa",
            "mples/has_run>|                           <https://www.ncbi.nlm.nih.gov/sra/SRR5767265>|<http://aging-research.group/samples/> .|\n",
            "|<https://www.ncbi.nlm.nih.gov/bioproject/PRJNA392328>| <http://aging-research.group/samples/has_study>|            <https://trace.ncbi.nlm.nih.gov/Traces/sra/?study=SRP110710>|<http://aging-research.group/samples/> .|\n",
            "|<https://www.ncbi.nlm.nih.gov/bioproject/PRJNA177791>|<http://aging-research.group/samples/has_series>|           <https://www.ncbi.nlm.nih.gov/geo/query/acc.cgi?acc=GSE41637>|<http://aging-research.group/samples/> .|\n",
            "|<https://www.ncbi.nlm.nih.gov/bioproject/PRJNA177791>|   <http://aging-research.group/samples/has_run>|                            <https://www.ncbi.nlm.nih.gov/sra/SRR594422>|<http://aging-research.group/samples/> .|\n",
            "|<https://www.ncbi.nlm.nih.gov/bioproject/PRJNA177791>| <http://aging-research.group/samples/has_study>|            <https://trace.ncbi.nlm.nih.gov/Traces/sra/?study=SRP016501>|<http://aging-research.group/samples/> .|\n",
            "|<https://www.ncbi",
            ".nlm.nih.gov/bioproject/PRJNA177791>|<http://aging-research.group/samples/has_series>|           <https://www.ncbi.nlm.nih.gov/geo/query/acc.cgi?acc=GSE41637>|<http://aging-research.group/samples/> .|\n",
            "|<https://www.ncbi.nlm.nih.gov/bioproject/PRJNA177791>|   <http://aging-research.group/samples/has_run>|                            <https://www.ncbi.nlm.nih.gov/sra/SRR594421>|<http://aging-research.group/samples/> .|\n",
            "|<https://www.ncbi.nlm.nih.gov/bioproject/PRJNA177791>| <http://aging-research.group/samples/has_study>|            <https://trace.ncbi.nlm.nih.gov/Traces/sra/?study=SRP016501>|<http://aging-research.group/samples/> .|\n",
            "|<https://www.ncbi.nlm.nih.gov/bioproject/PRJNA177791>|<http://aging-research.group/samples/has_series>|           <https://www.ncbi.nlm.nih.gov/geo/query/acc.cgi?acc=GSE41637>|<http://aging-research.group/samples/> .|\n",
            "|<https://www.ncbi.nlm.nih.gov/bioproject/PRJNA177791>|   <http://aging-research.group/samples/has_run>|                            <https://www.ncbi.nlm.nih.gov/sra/",
            "SRR594424>|<http://aging-research.group/samples/> .|\n",
            "|<https://www.ncbi.nlm.nih.gov/bioproject/PRJNA177791>| <http://aging-research.group/samples/has_study>|            <https://trace.ncbi.nlm.nih.gov/Traces/sra/?study=SRP016501>|<http://aging-research.group/samples/> .|\n",
            "|<https://www.ncbi.nlm.nih.gov/bioproject/PRJNA392328>|<http://aging-research.group/samples/has_series>|<https://www.ncbi.nlm.nih.gov/geo/query/acc.cgi?acc=GSE100631_GSE100633>|<http://aging-research.group/samples/> .|\n",
            "|<https://www.ncbi.nlm.nih.gov/bioproject/PRJNA392328>|   <http://aging-research.group/samples/has_run>|                           <https://www.ncbi.nlm.nih.gov/sra/SRR5767269>|<http://aging-research.group/samples/> .|\n",
            "|<https://www.ncbi.nlm.nih.gov/bioproject/PRJNA392328>| <http://aging-research.group/samples/has_study>|            <https://trace.ncbi.nlm.nih.gov/Traces/sra/?study=SRP110710>|<http://aging-research.group/samples/> .|\n",
            "|<https://www.ncbi.nlm.nih.gov/bioproject/PRJNA177791>|<http://aging-research.group/samples/has",
            "_series>|           <https://www.ncbi.nlm.nih.gov/geo/query/acc.cgi?acc=GSE41637>|<http://aging-research.group/samples/> .|\n",
            "|<https://www.ncbi.nlm.nih.gov/bioproject/PRJNA177791>|   <http://aging-research.group/samples/has_run>|                            <https://www.ncbi.nlm.nih.gov/sra/SRR594428>|<http://aging-research.group/samples/> .|\n",
            "|<https://www.ncbi.nlm.nih.gov/bioproject/PRJNA177791>| <http://aging-research.group/samples/has_study>|            <https://trace.ncbi.nlm.nih.gov/Traces/sra/?study=SRP016501>|<http://aging-research.group/samples/> .|\n",
            "|<https://www.ncbi.nlm.nih.gov/bioproject/PRJNA438118>|<http://aging-research.group/samples/has_series>|          <https://www.ncbi.nlm.nih.gov/geo/query/acc.cgi?acc=GSE111770>|<http://aging-research.group/samples/> .|\n",
            "|<https://www.ncbi.nlm.nih.gov/bioproject/PRJNA438118>|   <http://aging-research.group/samples/has_run>|                           <https://www.ncbi.nlm.nih.gov/sra/SRR6829492>|<http://aging-research.group/samples/> .|\n",
            "|<https://www.ncbi.nlm.n",
            "ih.gov/bioproject/PRJNA438118>| <http://aging-research.group/samples/has_study>|            <https://trace.ncbi.nlm.nih.gov/Traces/sra/?study=SRP135264>|<http://aging-research.group/samples/> .|\n",
            "|<https://www.ncbi.nlm.nih.gov/bioproject/PRJNA177791>|<http://aging-research.group/samples/has_series>|           <https://www.ncbi.nlm.nih.gov/geo/query/acc.cgi?acc=GSE41637>|<http://aging-research.group/samples/> .|\n",
            "|<https://www.ncbi.nlm.nih.gov/bioproject/PRJNA177791>|   <http://aging-research.group/samples/has_run>|                            <https://www.ncbi.nlm.nih.gov/sra/SRR594430>|<http://aging-research.group/samples/> .|\n",
            "|<https://www.ncbi.nlm.nih.gov/bioproject/PRJNA177791>| <http://aging-research.group/samples/has_study>|            <https://trace.ncbi.nlm.nih.gov/Traces/sra/?study=SRP016501>|<http://aging-research.group/samples/> .|\n",
            "|<https://www.ncbi.nlm.nih.gov/bioproject/PRJNA438118>|<http://aging-research.group/samples/has_series>|          <https://www.ncbi.nlm.nih.gov/geo/query/acc.cgi?acc=GSE111",
            "770>|<http://aging-research.group/samples/> .|\n",
            "|<https://www.ncbi.nlm.nih.gov/bioproject/PRJNA438118>|   <http://aging-research.group/samples/has_run>|                           <https://www.ncbi.nlm.nih.gov/sra/SRR6829496>|<http://aging-research.group/samples/> .|\n",
            "|<https://www.ncbi.nlm.nih.gov/bioproject/PRJNA438118>| <http://aging-research.group/samples/has_study>|            <https://trace.ncbi.nlm.nih.gov/Traces/sra/?study=SRP135264>|<http://aging-research.group/samples/> .|\n",
            "+-----------------------------------------------------+------------------------------------------------+------------------------------------------------------------------------+----------------------------------------+\n",
            "\n"
          ],
          "output_type" : "stream"
        }
      ]
    },
    {
      "cell_type" : "code",
      "execution_count" : 16,
      "metadata" : {
        "cell.metadata.exec_info" : {
          "startTs" : 1581360017077,
          "endTs" : 1581360017732
        },
        "language" : "scala"
      },
      "language" : "scala",
      "source" : [
        "val trs = species_n.flatMap{\n",
        "    case (taxon_id,scientific_name,common_name,url,animal_class,\n",
        "    lifespan,mass_g,metabolic_rate,temperature_k,\n",
        "    specimen_origin,sample_size,data_quality) =>\n",
        "        trip(tax(taxon_id.toString), pref(\"has_scientific_name\"), pref(scientific_name))++\n",
        "        trip(pref(scientific_name),pref(\"has_taxon\"), tax(taxon_id.toString))++\n",
        "        sp(taxon_id, scientific_name)(\"has_common_name\", str(common_name))++\n",
        "        sp(taxon_id, scientific_name)(\"has_lifespan\", lifespan)++\n",
        "        sp(taxon_id, scientific_name)(\"has_temperature_kelvin\", temperature_k)++\n",
        "        sp(taxon_id, scientific_name)(\"has_mass_g\", mass_g) ++\n",
        "        sp(taxon_id, scientific_name)(\"has_metabolic_rate\", metabolic_rate) ++\n",
        "        sp(taxon_id, scientific_name)(\"is_animal_class\", ens(animal_class)) ++\n",
        "        sp(taxon_id, scientific_name)(\"has_ensembl_url\", \"<\"+url+\">\") ++\n",
        "        Nil\n",
        "}.toDF(\"subject\", \"property\", \"object\", \"context\")\n",
        "trs.show(100,1000)"
      ],
      "outputs" : [
        {
          "name" : "stdout",
          "text" : [
            "+--------------------------------------------------------------+-------------------------------------------------------------+--------------------------------------------------------------+---------------------------------------------------------+\n",
            "|                                                       subject|                                                     property|                                                        object|                                                  context|\n",
            "+--------------------------------------------------------------+-------------------------------------------------------------+--------------------------------------------------------------+---------------------------------------------------------+\n",
            "|         <http://rdf.ebi.ac.uk/resource/ensembl/taxon#2489341>|   <http://aging-research.group/resource/has_scientific_name>|    <http://aging-research.group/resource/Strigops_habroptila>|<http://rdf.ebi.ac.uk/resource/ensembl/confidence/high> .|\n",
            "|    <http://aging-research.grou",
            "p/resource/Strigops_habroptila>|             <http://aging-research.group/resource/has_taxon>|         <http://rdf.ebi.ac.uk/resource/ensembl/taxon#2489341>|<http://rdf.ebi.ac.uk/resource/ensembl/confidence/high> .|\n",
            "|         <http://rdf.ebi.ac.uk/resource/ensembl/taxon#2489341>|       <http://aging-research.group/resource/has_common_name>|                                                      \"Kakapo\"|<http://rdf.ebi.ac.uk/resource/ensembl/confidence/high> .|\n",
            "|    <http://aging-research.group/resource/Strigops_habroptila>|       <http://aging-research.group/resource/has_common_name>|                                                      \"Kakapo\"|<http://rdf.ebi.ac.uk/resource/ensembl/confidence/high> .|\n",
            "|         <http://rdf.ebi.ac.uk/resource/ensembl/taxon#2489341>|          <http://aging-research.group/resource/has_lifespan>|                                                          60.0|<http://rdf.ebi.ac.uk/resource/ensembl/confidence/high> .|\n",
            "|    <http://aging-research.group/resource/Strigops_habroptila>|",
            "          <http://aging-research.group/resource/has_lifespan>|                                                          60.0|<http://rdf.ebi.ac.uk/resource/ensembl/confidence/high> .|\n",
            "|         <http://rdf.ebi.ac.uk/resource/ensembl/taxon#2489341>|       <http://aging-research.group/resource/is_animal_class>|                  <http://rdf.ebi.ac.uk/resource/ensembl/Aves>|<http://rdf.ebi.ac.uk/resource/ensembl/confidence/high> .|\n",
            "|    <http://aging-research.group/resource/Strigops_habroptila>|       <http://aging-research.group/resource/is_animal_class>|                  <http://rdf.ebi.ac.uk/resource/ensembl/Aves>|<http://rdf.ebi.ac.uk/resource/ensembl/confidence/high> .|\n",
            "|         <http://rdf.ebi.ac.uk/resource/ensembl/taxon#2489341>|       <http://aging-research.group/resource/has_ensembl_url>|                 <https://www.ensembl.org/Strigops_habroptila>|<http://rdf.ebi.ac.uk/resource/ensembl/confidence/high> .|\n",
            "|    <http://aging-research.group/resource/Strigops_habroptila>|       <http://aging-research.gr",
            "oup/resource/has_ensembl_url>|                 <https://www.ensembl.org/Strigops_habroptila>|<http://rdf.ebi.ac.uk/resource/ensembl/confidence/high> .|\n",
            "|          <http://rdf.ebi.ac.uk/resource/ensembl/taxon#132585>|   <http://aging-research.group/resource/has_scientific_name>|   <http://aging-research.group/resource/Anser_brachyrhynchus>|<http://rdf.ebi.ac.uk/resource/ensembl/confidence/high> .|\n",
            "|   <http://aging-research.group/resource/Anser_brachyrhynchus>|             <http://aging-research.group/resource/has_taxon>|          <http://rdf.ebi.ac.uk/resource/ensembl/taxon#132585>|<http://rdf.ebi.ac.uk/resource/ensembl/confidence/high> .|\n",
            "|          <http://rdf.ebi.ac.uk/resource/ensembl/taxon#132585>|       <http://aging-research.group/resource/has_common_name>|                                           \"Pink-footed goose\"|<http://rdf.ebi.ac.uk/resource/ensembl/confidence/high> .|\n",
            "|   <http://aging-research.group/resource/Anser_brachyrhynchus>|       <http://aging-research.group/resource/has_common_name>|  ",
            "                                         \"Pink-footed goose\"|<http://rdf.ebi.ac.uk/resource/ensembl/confidence/high> .|\n",
            "|          <http://rdf.ebi.ac.uk/resource/ensembl/taxon#132585>|          <http://aging-research.group/resource/has_lifespan>|                                                          40.9|<http://rdf.ebi.ac.uk/resource/ensembl/confidence/high> .|\n",
            "|   <http://aging-research.group/resource/Anser_brachyrhynchus>|          <http://aging-research.group/resource/has_lifespan>|                                                          40.9|<http://rdf.ebi.ac.uk/resource/ensembl/confidence/high> .|\n",
            "|          <http://rdf.ebi.ac.uk/resource/ensembl/taxon#132585>|       <http://aging-research.group/resource/is_animal_class>|                  <http://rdf.ebi.ac.uk/resource/ensembl/Aves>|<http://rdf.ebi.ac.uk/resource/ensembl/confidence/high> .|\n",
            "|   <http://aging-research.group/resource/Anser_brachyrhynchus>|       <http://aging-research.group/resource/is_animal_class>|                  <http://rdf.ebi.",
            "ac.uk/resource/ensembl/Aves>|<http://rdf.ebi.ac.uk/resource/ensembl/confidence/high> .|\n",
            "|          <http://rdf.ebi.ac.uk/resource/ensembl/taxon#132585>|       <http://aging-research.group/resource/has_ensembl_url>|                <https://www.ensembl.org/Anser_brachyrhynchus>|<http://rdf.ebi.ac.uk/resource/ensembl/confidence/high> .|\n",
            "|   <http://aging-research.group/resource/Anser_brachyrhynchus>|       <http://aging-research.group/resource/has_ensembl_url>|                <https://www.ensembl.org/Anser_brachyrhynchus>|<http://rdf.ebi.ac.uk/resource/ensembl/confidence/high> .|\n",
            "|            <http://rdf.ebi.ac.uk/resource/ensembl/taxon#9031>|   <http://aging-research.group/resource/has_scientific_name>|          <http://aging-research.group/resource/Gallus_gallus>|<http://rdf.ebi.ac.uk/resource/ensembl/confidence/high> .|\n",
            "|          <http://aging-research.group/resource/Gallus_gallus>|             <http://aging-research.group/resource/has_taxon>|            <http://rdf.ebi.ac.uk/resource/ensembl/taxon#9031>|<ht",
            "tp://rdf.ebi.ac.uk/resource/ensembl/confidence/high> .|\n",
            "|            <http://rdf.ebi.ac.uk/resource/ensembl/taxon#9031>|       <http://aging-research.group/resource/has_common_name>|                                              \"Red junglefowl\"|<http://rdf.ebi.ac.uk/resource/ensembl/confidence/high> .|\n",
            "|          <http://aging-research.group/resource/Gallus_gallus>|       <http://aging-research.group/resource/has_common_name>|                                              \"Red junglefowl\"|<http://rdf.ebi.ac.uk/resource/ensembl/confidence/high> .|\n",
            "|            <http://rdf.ebi.ac.uk/resource/ensembl/taxon#9031>|          <http://aging-research.group/resource/has_lifespan>|                                                          30.0|<http://rdf.ebi.ac.uk/resource/ensembl/confidence/high> .|\n",
            "|          <http://aging-research.group/resource/Gallus_gallus>|          <http://aging-research.group/resource/has_lifespan>|                                                          30.0|<http://rdf.ebi.ac.uk/resource/ense",
            "mbl/confidence/high> .|\n",
            "|            <http://rdf.ebi.ac.uk/resource/ensembl/taxon#9031>|            <http://aging-research.group/resource/has_mass_g>|                                                        2710.0|<http://rdf.ebi.ac.uk/resource/ensembl/confidence/high> .|\n",
            "|          <http://aging-research.group/resource/Gallus_gallus>|            <http://aging-research.group/resource/has_mass_g>|                                                        2710.0|<http://rdf.ebi.ac.uk/resource/ensembl/confidence/high> .|\n",
            "|            <http://rdf.ebi.ac.uk/resource/ensembl/taxon#9031>|    <http://aging-research.group/resource/has_metabolic_rate>|                                                         6.005|<http://rdf.ebi.ac.uk/resource/ensembl/confidence/high> .|\n",
            "|          <http://aging-research.group/resource/Gallus_gallus>|    <http://aging-research.group/resource/has_metabolic_rate>|                                                         6.005|<http://rdf.ebi.ac.uk/resource/ensembl/confidence/high> .|\n",
            "|       ",
            "     <http://rdf.ebi.ac.uk/resource/ensembl/taxon#9031>|       <http://aging-research.group/resource/is_animal_class>|                  <http://rdf.ebi.ac.uk/resource/ensembl/Aves>|<http://rdf.ebi.ac.uk/resource/ensembl/confidence/high> .|\n",
            "|          <http://aging-research.group/resource/Gallus_gallus>|       <http://aging-research.group/resource/is_animal_class>|                  <http://rdf.ebi.ac.uk/resource/ensembl/Aves>|<http://rdf.ebi.ac.uk/resource/ensembl/confidence/high> .|\n",
            "|            <http://rdf.ebi.ac.uk/resource/ensembl/taxon#9031>|       <http://aging-research.group/resource/has_ensembl_url>|                       <https://www.ensembl.org/Gallus_gallus>|<http://rdf.ebi.ac.uk/resource/ensembl/confidence/high> .|\n",
            "|          <http://aging-research.group/resource/Gallus_gallus>|       <http://aging-research.group/resource/has_ensembl_url>|                       <https://www.ensembl.org/Gallus_gallus>|<http://rdf.ebi.ac.uk/resource/ensembl/confidence/high> .|\n",
            "|            <http://rdf.ebi.ac.uk/resou",
            "rce/ensembl/taxon#9054>|   <http://aging-research.group/resource/has_scientific_name>|    <http://aging-research.group/resource/Phasianus_colchicus>|<http://rdf.ebi.ac.uk/resource/ensembl/confidence/high> .|\n",
            "|    <http://aging-research.group/resource/Phasianus_colchicus>|             <http://aging-research.group/resource/has_taxon>|            <http://rdf.ebi.ac.uk/resource/ensembl/taxon#9054>|<http://rdf.ebi.ac.uk/resource/ensembl/confidence/high> .|\n",
            "|            <http://rdf.ebi.ac.uk/resource/ensembl/taxon#9054>|       <http://aging-research.group/resource/has_common_name>|                                             \"Common pheasant\"|<http://rdf.ebi.ac.uk/resource/ensembl/confidence/high> .|\n",
            "|    <http://aging-research.group/resource/Phasianus_colchicus>|       <http://aging-research.group/resource/has_common_name>|                                             \"Common pheasant\"|<http://rdf.ebi.ac.uk/resource/ensembl/confidence/high> .|\n",
            "|            <http://rdf.ebi.ac.uk/resource/ensembl/taxon#9054>|        ",
            "  <http://aging-research.group/resource/has_lifespan>|                                                          27.0|<http://rdf.ebi.ac.uk/resource/ensembl/confidence/high> .|\n",
            "|    <http://aging-research.group/resource/Phasianus_colchicus>|          <http://aging-research.group/resource/has_lifespan>|                                                          27.0|<http://rdf.ebi.ac.uk/resource/ensembl/confidence/high> .|\n",
            "|            <http://rdf.ebi.ac.uk/resource/ensembl/taxon#9054>|       <http://aging-research.group/resource/is_animal_class>|                  <http://rdf.ebi.ac.uk/resource/ensembl/Aves>|<http://rdf.ebi.ac.uk/resource/ensembl/confidence/high> .|\n",
            "|    <http://aging-research.group/resource/Phasianus_colchicus>|       <http://aging-research.group/resource/is_animal_class>|                  <http://rdf.ebi.ac.uk/resource/ensembl/Aves>|<http://rdf.ebi.ac.uk/resource/ensembl/confidence/high> .|\n",
            "|            <http://rdf.ebi.ac.uk/resource/ensembl/taxon#9054>|       <http://aging-research.group/reso",
            "urce/has_ensembl_url>|                 <https://www.ensembl.org/Phasianus_colchicus>|<http://rdf.ebi.ac.uk/resource/ensembl/confidence/high> .|\n",
            "|    <http://aging-research.group/resource/Phasianus_colchicus>|       <http://aging-research.group/resource/has_ensembl_url>|                 <https://www.ensembl.org/Phasianus_colchicus>|<http://rdf.ebi.ac.uk/resource/ensembl/confidence/high> .|\n",
            "|            <http://rdf.ebi.ac.uk/resource/ensembl/taxon#9135>|   <http://aging-research.group/resource/has_scientific_name>|        <http://aging-research.group/resource/Serinus_canaria>|<http://rdf.ebi.ac.uk/resource/ensembl/confidence/high> .|\n",
            "|        <http://aging-research.group/resource/Serinus_canaria>|             <http://aging-research.group/resource/has_taxon>|            <http://rdf.ebi.ac.uk/resource/ensembl/taxon#9135>|<http://rdf.ebi.ac.uk/resource/ensembl/confidence/high> .|\n",
            "|            <http://rdf.ebi.ac.uk/resource/ensembl/taxon#9135>|       <http://aging-research.group/resource/has_common_name>|          ",
            "                                      \"House canary\"|<http://rdf.ebi.ac.uk/resource/ensembl/confidence/high> .|\n",
            "|        <http://aging-research.group/resource/Serinus_canaria>|       <http://aging-research.group/resource/has_common_name>|                                                \"House canary\"|<http://rdf.ebi.ac.uk/resource/ensembl/confidence/high> .|\n",
            "|            <http://rdf.ebi.ac.uk/resource/ensembl/taxon#9135>|          <http://aging-research.group/resource/has_lifespan>|                                                          24.0|<http://rdf.ebi.ac.uk/resource/ensembl/confidence/high> .|\n",
            "|        <http://aging-research.group/resource/Serinus_canaria>|          <http://aging-research.group/resource/has_lifespan>|                                                          24.0|<http://rdf.ebi.ac.uk/resource/ensembl/confidence/high> .|\n",
            "|            <http://rdf.ebi.ac.uk/resource/ensembl/taxon#9135>|<http://aging-research.group/resource/has_temperature_kelvin>|                                          ",
            "              314.15|<http://rdf.ebi.ac.uk/resource/ensembl/confidence/high> .|\n",
            "|        <http://aging-research.group/resource/Serinus_canaria>|<http://aging-research.group/resource/has_temperature_kelvin>|                                                        314.15|<http://rdf.ebi.ac.uk/resource/ensembl/confidence/high> .|\n",
            "|            <http://rdf.ebi.ac.uk/resource/ensembl/taxon#9135>|            <http://aging-research.group/resource/has_mass_g>|                                                          13.3|<http://rdf.ebi.ac.uk/resource/ensembl/confidence/high> .|\n",
            "|        <http://aging-research.group/resource/Serinus_canaria>|            <http://aging-research.group/resource/has_mass_g>|                                                          13.3|<http://rdf.ebi.ac.uk/resource/ensembl/confidence/high> .|\n",
            "|            <http://rdf.ebi.ac.uk/resource/ensembl/taxon#9135>|    <http://aging-research.group/resource/has_metabolic_rate>|                                                      0.230065|<http://rdf",
            ".ebi.ac.uk/resource/ensembl/confidence/high> .|\n",
            "|        <http://aging-research.group/resource/Serinus_canaria>|    <http://aging-research.group/resource/has_metabolic_rate>|                                                      0.230065|<http://rdf.ebi.ac.uk/resource/ensembl/confidence/high> .|\n",
            "|            <http://rdf.ebi.ac.uk/resource/ensembl/taxon#9135>|       <http://aging-research.group/resource/is_animal_class>|                  <http://rdf.ebi.ac.uk/resource/ensembl/Aves>|<http://rdf.ebi.ac.uk/resource/ensembl/confidence/high> .|\n",
            "|        <http://aging-research.group/resource/Serinus_canaria>|       <http://aging-research.group/resource/is_animal_class>|                  <http://rdf.ebi.ac.uk/resource/ensembl/Aves>|<http://rdf.ebi.ac.uk/resource/ensembl/confidence/high> .|\n",
            "|            <http://rdf.ebi.ac.uk/resource/ensembl/taxon#9135>|       <http://aging-research.group/resource/has_ensembl_url>|                     <https://www.ensembl.org/Serinus_canaria>|<http://rdf.ebi.ac.uk/resource/ensembl/conf",
            "idence/high> .|\n",
            "|        <http://aging-research.group/resource/Serinus_canaria>|       <http://aging-research.group/resource/has_ensembl_url>|                     <https://www.ensembl.org/Serinus_canaria>|<http://rdf.ebi.ac.uk/resource/ensembl/confidence/high> .|\n",
            "|            <http://rdf.ebi.ac.uk/resource/ensembl/taxon#9049>|   <http://aging-research.group/resource/has_scientific_name>|         <http://aging-research.group/resource/Pavo_cristatus>|<http://rdf.ebi.ac.uk/resource/ensembl/confidence/high> .|\n",
            "|         <http://aging-research.group/resource/Pavo_cristatus>|             <http://aging-research.group/resource/has_taxon>|            <http://rdf.ebi.ac.uk/resource/ensembl/taxon#9049>|<http://rdf.ebi.ac.uk/resource/ensembl/confidence/high> .|\n",
            "|            <http://rdf.ebi.ac.uk/resource/ensembl/taxon#9049>|       <http://aging-research.group/resource/has_common_name>|                                              \"Indian peafowl\"|<http://rdf.ebi.ac.uk/resource/ensembl/confidence/high> .|\n",
            "|         <http:",
            "//aging-research.group/resource/Pavo_cristatus>|       <http://aging-research.group/resource/has_common_name>|                                              \"Indian peafowl\"|<http://rdf.ebi.ac.uk/resource/ensembl/confidence/high> .|\n",
            "|            <http://rdf.ebi.ac.uk/resource/ensembl/taxon#9049>|          <http://aging-research.group/resource/has_lifespan>|                                                          23.2|<http://rdf.ebi.ac.uk/resource/ensembl/confidence/high> .|\n",
            "|         <http://aging-research.group/resource/Pavo_cristatus>|          <http://aging-research.group/resource/has_lifespan>|                                                          23.2|<http://rdf.ebi.ac.uk/resource/ensembl/confidence/high> .|\n",
            "|            <http://rdf.ebi.ac.uk/resource/ensembl/taxon#9049>|       <http://aging-research.group/resource/is_animal_class>|                  <http://rdf.ebi.ac.uk/resource/ensembl/Aves>|<http://rdf.ebi.ac.uk/resource/ensembl/confidence/high> .|\n",
            "|         <http://aging-research.group/resource/",
            "Pavo_cristatus>|       <http://aging-research.group/resource/is_animal_class>|                  <http://rdf.ebi.ac.uk/resource/ensembl/Aves>|<http://rdf.ebi.ac.uk/resource/ensembl/confidence/high> .|\n",
            "|            <http://rdf.ebi.ac.uk/resource/ensembl/taxon#9049>|       <http://aging-research.group/resource/has_ensembl_url>|                      <https://www.ensembl.org/Pavo_cristatus>|<http://rdf.ebi.ac.uk/resource/ensembl/confidence/high> .|\n",
            "|         <http://aging-research.group/resource/Pavo_cristatus>|       <http://aging-research.group/resource/has_ensembl_url>|                      <https://www.ensembl.org/Pavo_cristatus>|<http://rdf.ebi.ac.uk/resource/ensembl/confidence/high> .|\n",
            "|           <http://rdf.ebi.ac.uk/resource/ensembl/taxon#13146>|   <http://aging-research.group/resource/has_scientific_name>|<http://aging-research.group/resource/Melopsittacus_undulatus>|<http://rdf.ebi.ac.uk/resource/ensembl/confidence/high> .|\n",
            "|<http://aging-research.group/resource/Melopsittacus_undulatus>|             <ht",
            "tp://aging-research.group/resource/has_taxon>|           <http://rdf.ebi.ac.uk/resource/ensembl/taxon#13146>|<http://rdf.ebi.ac.uk/resource/ensembl/confidence/high> .|\n",
            "|           <http://rdf.ebi.ac.uk/resource/ensembl/taxon#13146>|       <http://aging-research.group/resource/has_common_name>|                                                  \"Budgerigar\"|<http://rdf.ebi.ac.uk/resource/ensembl/confidence/high> .|\n",
            "|<http://aging-research.group/resource/Melopsittacus_undulatus>|       <http://aging-research.group/resource/has_common_name>|                                                  \"Budgerigar\"|<http://rdf.ebi.ac.uk/resource/ensembl/confidence/high> .|\n",
            "|           <http://rdf.ebi.ac.uk/resource/ensembl/taxon#13146>|          <http://aging-research.group/resource/has_lifespan>|                                                          21.0|<http://rdf.ebi.ac.uk/resource/ensembl/confidence/high> .|\n",
            "|<http://aging-research.group/resource/Melopsittacus_undulatus>|          <http://aging-research.group/resource/",
            "has_lifespan>|                                                          21.0|<http://rdf.ebi.ac.uk/resource/ensembl/confidence/high> .|\n",
            "|           <http://rdf.ebi.ac.uk/resource/ensembl/taxon#13146>|<http://aging-research.group/resource/has_temperature_kelvin>|                                                        314.15|<http://rdf.ebi.ac.uk/resource/ensembl/confidence/high> .|\n",
            "|<http://aging-research.group/resource/Melopsittacus_undulatus>|<http://aging-research.group/resource/has_temperature_kelvin>|                                                        314.15|<http://rdf.ebi.ac.uk/resource/ensembl/confidence/high> .|\n",
            "|           <http://rdf.ebi.ac.uk/resource/ensembl/taxon#13146>|            <http://aging-research.group/resource/has_mass_g>|                                                          25.2|<http://rdf.ebi.ac.uk/resource/ensembl/confidence/high> .|\n",
            "|<http://aging-research.group/resource/Melopsittacus_undulatus>|            <http://aging-research.group/resource/has_mass_g>|                  ",
            "                                        25.2|<http://rdf.ebi.ac.uk/resource/ensembl/confidence/high> .|\n",
            "|           <http://rdf.ebi.ac.uk/resource/ensembl/taxon#13146>|    <http://aging-research.group/resource/has_metabolic_rate>|                                                        0.3035|<http://rdf.ebi.ac.uk/resource/ensembl/confidence/high> .|\n",
            "|<http://aging-research.group/resource/Melopsittacus_undulatus>|    <http://aging-research.group/resource/has_metabolic_rate>|                                                        0.3035|<http://rdf.ebi.ac.uk/resource/ensembl/confidence/high> .|\n",
            "|           <http://rdf.ebi.ac.uk/resource/ensembl/taxon#13146>|       <http://aging-research.group/resource/is_animal_class>|                  <http://rdf.ebi.ac.uk/resource/ensembl/Aves>|<http://rdf.ebi.ac.uk/resource/ensembl/confidence/high> .|\n",
            "|<http://aging-research.group/resource/Melopsittacus_undulatus>|       <http://aging-research.group/resource/is_animal_class>|                  <http://rdf.ebi.ac.uk/resource/e",
            "nsembl/Aves>|<http://rdf.ebi.ac.uk/resource/ensembl/confidence/high> .|\n",
            "|           <http://rdf.ebi.ac.uk/resource/ensembl/taxon#13146>|       <http://aging-research.group/resource/has_ensembl_url>|             <https://www.ensembl.org/Melopsittacus_undulatus>|<http://rdf.ebi.ac.uk/resource/ensembl/confidence/high> .|\n",
            "|<http://aging-research.group/resource/Melopsittacus_undulatus>|       <http://aging-research.group/resource/has_ensembl_url>|             <https://www.ensembl.org/Melopsittacus_undulatus>|<http://rdf.ebi.ac.uk/resource/ensembl/confidence/high> .|\n",
            "|          <http://rdf.ebi.ac.uk/resource/ensembl/taxon#211598>|   <http://aging-research.group/resource/has_scientific_name>|        <http://aging-research.group/resource/Accipiter_nisus>|<http://rdf.ebi.ac.uk/resource/ensembl/confidence/high> .|\n",
            "|        <http://aging-research.group/resource/Accipiter_nisus>|             <http://aging-research.group/resource/has_taxon>|          <http://rdf.ebi.ac.uk/resource/ensembl/taxon#211598>|<http://rdf.ebi.ac.",
            "uk/resource/ensembl/confidence/high> .|\n",
            "|          <http://rdf.ebi.ac.uk/resource/ensembl/taxon#211598>|       <http://aging-research.group/resource/has_common_name>|                                        \"Eurasian sparrowhawk\"|<http://rdf.ebi.ac.uk/resource/ensembl/confidence/high> .|\n",
            "|        <http://aging-research.group/resource/Accipiter_nisus>|       <http://aging-research.group/resource/has_common_name>|                                        \"Eurasian sparrowhawk\"|<http://rdf.ebi.ac.uk/resource/ensembl/confidence/high> .|\n",
            "|          <http://rdf.ebi.ac.uk/resource/ensembl/taxon#211598>|          <http://aging-research.group/resource/has_lifespan>|                                                          20.2|<http://rdf.ebi.ac.uk/resource/ensembl/confidence/high> .|\n",
            "|        <http://aging-research.group/resource/Accipiter_nisus>|          <http://aging-research.group/resource/has_lifespan>|                                                          20.2|<http://rdf.ebi.ac.uk/resource/ensembl/confidence/h",
            "igh> .|\n",
            "|          <http://rdf.ebi.ac.uk/resource/ensembl/taxon#211598>|            <http://aging-research.group/resource/has_mass_g>|                                                         135.0|<http://rdf.ebi.ac.uk/resource/ensembl/confidence/high> .|\n",
            "|        <http://aging-research.group/resource/Accipiter_nisus>|            <http://aging-research.group/resource/has_mass_g>|                                                         135.0|<http://rdf.ebi.ac.uk/resource/ensembl/confidence/high> .|\n",
            "|          <http://rdf.ebi.ac.uk/resource/ensembl/taxon#211598>|    <http://aging-research.group/resource/has_metabolic_rate>|                                                        0.9516|<http://rdf.ebi.ac.uk/resource/ensembl/confidence/high> .|\n",
            "|        <http://aging-research.group/resource/Accipiter_nisus>|    <http://aging-research.group/resource/has_metabolic_rate>|                                                        0.9516|<http://rdf.ebi.ac.uk/resource/ensembl/confidence/high> .|\n",
            "|          <http://rdf.e",
            "bi.ac.uk/resource/ensembl/taxon#211598>|       <http://aging-research.group/resource/is_animal_class>|                  <http://rdf.ebi.ac.uk/resource/ensembl/Aves>|<http://rdf.ebi.ac.uk/resource/ensembl/confidence/high> .|\n",
            "|        <http://aging-research.group/resource/Accipiter_nisus>|       <http://aging-research.group/resource/is_animal_class>|                  <http://rdf.ebi.ac.uk/resource/ensembl/Aves>|<http://rdf.ebi.ac.uk/resource/ensembl/confidence/high> .|\n",
            "|          <http://rdf.ebi.ac.uk/resource/ensembl/taxon#211598>|       <http://aging-research.group/resource/has_ensembl_url>|                     <https://www.ensembl.org/Accipiter_nisus>|<http://rdf.ebi.ac.uk/resource/ensembl/confidence/high> .|\n",
            "|        <http://aging-research.group/resource/Accipiter_nisus>|       <http://aging-research.group/resource/has_ensembl_url>|                     <https://www.ensembl.org/Accipiter_nisus>|<http://rdf.ebi.ac.uk/resource/ensembl/confidence/high> .|\n",
            "+-------------------------------------------------------",
            "-------+-------------------------------------------------------------+--------------------------------------------------------------+---------------------------------------------------------+\n",
            "only showing top 100 rows\n",
            "\n"
          ],
          "output_type" : "stream"
        }
      ]
    },
    {
      "cell_type" : "markdown",
      "execution_count" : 17,
      "metadata" : {
        "language" : "text"
      },
      "language" : "text",
      "source" : [
        "# **Producing genes n-quads**<br>\n",
        "\n",
        "\n"
      ],
      "outputs" : [
      ]
    },
    {
      "cell_type" : "code",
      "execution_count" : 18,
      "metadata" : {
        "cell.metadata.exec_info" : {
          "startTs" : 1580843568490,
          "endTs" : 1580843569610
        },
        "language" : "scala"
      },
      "language" : "scala",
      "source" : [
        "val genes_n = spark.read.parquet(\"/data/ensembl/99/website/genes_lookup.parquet\").as[(java.lang.Integer,String, String, String, String, String, String, String)]\n",
        "genes_n.show(20,1000)"
      ],
      "outputs" : [
        {
          "name" : "stdout",
          "text" : [
            "+--------+------------------+-------------+-------------+------------------------------------------------------------------------------------+---------------+--------------------+-----+\n",
            "|taxon_id|         stable_id|display_label|biotype_group|                                                                         description|scientific_name|         common_name|class|\n",
            "+--------+------------------+-------------+-------------+------------------------------------------------------------------------------------+---------------+--------------------+-----+\n",
            "|  211598|ENSANIG00000000002|        SSTR4|       coding|                         somatostatin receptor 4 [Source:HGNC Symbol;Acc:HGNC:11333]|Accipiter nisus|Eurasian sparrowhawk| Aves|\n",
            "|  211598|ENSANIG00000000003|           \\N|       coding|                                                                                  \\N|Accipiter nisus|Eurasian sparrowhawk| Aves|\n",
            "|  211598|ENSANIG00000000004|         CD93|       coding|                                   CD93 molecule [Source:HGNC Symbol;Acc:HGNC:15855]|Accipiter nisus|Eurasian sparrowhawk| Aves|\n",
            "|  211598|ENSANIG00000000005|           \\N|       coding|                                                                                  \\N|Accipiter nisus|Eurasian sparrowhawk| Aves|\n",
            "|  211598|ENSANIG00000000006|         GZF1|       coding|            GDNF inducible zinc finger protein 1 [Source:HGNC Symbol;Acc:HGNC:15808]|Accipiter nisus|Eurasian sparrowhawk| Aves|\n",
            "|  211598|ENSANIG00000000007|           \\N|       coding|                                                                                  \\N|Accipiter nisus|Eurasian sparrowhawk| Aves|\n",
            "|  211598|ENSANIG00000000008|           \\N|       coding|                                                                                  \\N|Accipiter nisus|Eurasian sparrowhawk| Aves|\n",
            "|  211598|ENSANIG00000000009|        ATP9A|       coding|  ATPase phospholipid transporting 9A (putative) [Source:HGNC Symbol;Acc:HGNC:13540]|Accipiter nisus|Eurasian sparrowhawk| Aves|\n",
            "|  211598|ENSANIG00000000010|           \\N|       coding|                                                                                  \\N|Accipiter nisus|Eurasian sparrowhawk| Aves|\n",
            "|  211598|ENSANIG00000000011|        ACER1|       coding|                           alkaline ceramidase 1 [Source:HGNC Symbol;Acc:HGNC:18356]|Accipiter nisus|Eurasian sparrowhawk| Aves|\n",
            "|  211598|ENSANIG00000000012|        MLLT1|       coding|           MLLT1 super elongation complex subunit [Source:HGNC Symbol;Acc:HGNC:7134]|Accipiter nisus|Eurasian sparrowhawk| Aves|\n",
            "|  211598|ENSANIG00000000013|       ACSBG2|       coding|   acyl-CoA synthetase bubblegum family member 2 [Source:HGNC Symbol;Acc:HGNC:24174]|Accipiter nisus|Eurasian sparrowhawk| Aves|\n",
            "|  211598|ENSANIG00000000014|         RFX2|       coding|                             regulatory factor X2 [Source:HGNC Symbol;Acc:HGNC:9983]|Accipiter nisus|Eurasian sparrowhawk| Aves|\n",
            "|  211598|ENSANIG00000000015|      CREB3L1|       coding|cAMP responsive element binding protein 3 like 1 [Source:HGNC Symbol;Acc:HGNC:18856]|Accipiter nisus|Eurasian sparrowhawk| Aves|\n",
            "|  211598|ENSANIG00000000016|         DGKZ|       coding|                       diacylglycerol kinase zeta [Source:HGNC Symbol;Acc:HGNC:2857]|Accipiter nisus|Eurasian sparrowhawk| Aves|\n",
            "|  211598|ENSANIG00000000017|          MDK|       coding|                                          midkine [Source:HGNC Symbol;Acc:HGNC:6972]|Accipiter nisus|Eurasian sparrowhawk| Aves|\n",
            "|  211598|ENSANIG00000000018|        CHRM4|       coding|                cholinergic receptor muscarinic 4 [Source:HGNC Symbol;Acc:HGNC:1953]|Accipiter nisus|Eurasian sparrowhawk| Aves|\n",
            "|  211598|ENSANIG00000000019|         EYA4|       coding|EYA transcriptional coactivator and phosphatase 4 [Source:HGNC Symbol;Acc:HGNC:3522]|Accipiter nisus|Eurasian sparrowhawk| Aves|\n",
            "|  211598|ENSANIG00000000020|           \\N|       coding|                                                                                  \\N|Accipiter nisus|Eurasian sparrowhawk| Aves|\n",
            "|  211598|ENSANIG00000000021|       VPREB3|       coding|        V-set pre-B cell surrogate light chain 3 [Source:HGNC Symbol;Acc:HGNC:12710]|Accipiter nisus|Eurasian sparrowhawk| Aves|\n",
            "+--------+------------------+-------------+-------------+------------------------------------------------------------------------------------+---------------+--------------------+-----+\n",
            "only showing top 20 rows\n",
            "\n"
          ],
          "output_type" : "stream"
        }
      ]
    },
    {
      "cell_type" : "code",
      "execution_count" : 19,
      "metadata" : {
        "cell.metadata.exec_info" : {
          "startTs" : 1580844031125,
          "endTs" : 1580844031257
        },
        "language" : "scala"
      },
      "language" : "scala",
      "source" : [
        "def str2(s: String) = if(s==null) \"\" else s\"\"\"\"${s.replace(\"\\\"\", \"\\\\\\\"\")}\"\"\"\""
      ],
      "outputs" : [
      ]
    },
    {
      "cell_type" : "code",
      "execution_count" : 20,
      "metadata" : {
        "cell.metadata.exec_info" : {
          "startTs" : 1580844037012,
          "endTs" : 1580844037876
        },
        "language" : "scala"
      },
      "language" : "scala",
      "source" : [
        "val genes_trs = genes_n.flatMap{\n",
        "    case (taxon_id,stable_id,display_label,biotype_group,description,scientific_name,common_name,cl) =>\n",
        "    sp(taxon_id, scientific_name)(\"has_gene\", ens(stable_id)) ++\n",
        "    trip(ens(stable_id), \"<\"+\"http://www.w3.org/2000/01/rdf-schema#label\" +\">\", str2(display_label))++\n",
        "    trip(ens(stable_id), \"<\"+\"http://www.w3.org/2000/01/rdf-schema#description\" +\">\",  str2(description))++\n",
        "    trip(ens(stable_id), ens(\"has_biotype\"), ens(\"biotype/\"+biotype_group))++\n",
        "    Nil\n",
        "}.toDF(\"subject\", \"property\", \"object\", \"context\")\n",
        "genes_trs.show(40, 1000)"
      ],
      "outputs" : [
        {
          "name" : "stdout",
          "text" : [
            "+----------------------------------------------------------+---------------------------------------------------+------------------------------------------------------------------------------------+---------------------------------------------------------+\n",
            "|                                                   subject|                                           property|                                                                              object|                                                  context|\n",
            "+----------------------------------------------------------+---------------------------------------------------+------------------------------------------------------------------------------------+---------------------------------------------------------+\n",
            "|      <http://rdf.ebi.ac.uk/resource/ensembl/taxon#211598>|    <http://aging-research.group/resource/has_gene>|                          <http://rdf.ebi.ac.uk/resource/ensembl/ENSANIG00000000002>|<http://rdf.ebi.ac.uk/resource/ensembl/confidence/high> .|\n",
            "|    <http://aging-research.group/resource/Accipiter_nisus>|    <http://aging-research.group/resource/has_gene>|                          <http://rdf.ebi.ac.uk/resource/ensembl/ENSANIG00000000002>|<http://rdf.ebi.ac.uk/resource/ensembl/confidence/high> .|\n",
            "|<http://rdf.ebi.ac.uk/resource/ensembl/ENSANIG00000000002>|       <http://www.w3.org/2000/01/rdf-schema#label>|                                                                             \"SSTR4\"|<http://rdf.ebi.ac.uk/resource/ensembl/confidence/high> .|\n",
            "|<http://rdf.ebi.ac.uk/resource/ensembl/ENSANIG00000000002>| <http://www.w3.org/2000/01/rdf-schema#description>|                       \"somatostatin receptor 4 [Source:HGNC Symbol;Acc:HGNC:11333]\"|<http://rdf.ebi.ac.uk/resource/ensembl/confidence/high> .|\n",
            "|<http://rdf.ebi.ac.uk/resource/ensembl/ENSANIG00000000002>|<http://rdf.ebi.ac.uk/resource/ensembl/has_biotype>|                              <http://rdf.ebi.ac.uk/resource/ensembl/biotype/coding>|<http://rdf.ebi.ac.uk/resource/ensembl/confidence/high> .|\n",
            "|      <http://rdf.ebi.ac.uk/resource/ensembl/taxon#211598>|    <http://aging-research.group/resource/has_gene>|                          <http://rdf.ebi.ac.uk/resource/ensembl/ENSANIG00000000003>|<http://rdf.ebi.ac.uk/resource/ensembl/confidence/high> .|\n",
            "|    <http://aging-research.group/resource/Accipiter_nisus>|    <http://aging-research.group/resource/has_gene>|                          <http://rdf.ebi.ac.uk/resource/ensembl/ENSANIG00000000003>|<http://rdf.ebi.ac.uk/resource/ensembl/confidence/high> .|\n",
            "|<http://rdf.ebi.ac.uk/resource/ensembl/ENSANIG00000000003>|<http://rdf.ebi.ac.uk/resource/ensembl/has_biotype>|                              <http://rdf.ebi.ac.uk/resource/ensembl/biotype/coding>|<http://rdf.ebi.ac.uk/resource/ensembl/confidence/high> .|\n",
            "|      <http://rdf.ebi.ac.uk/resource/ensembl/taxon#211598>|    <http://aging-research.group/resource/has_gene>|                          <http://rdf.ebi.ac.uk/resource/ensembl/ENSANIG00000000004>|<http://rdf.ebi.ac.uk/resource/ensembl/confidence/high> .|\n",
            "|    <http://aging-research.group/resource/Accipiter_nisus>|    <http://aging-research.group/resource/has_gene>|                          <http://rdf.ebi.ac.uk/resource/ensembl/ENSANIG00000000004>|<http://rdf.ebi.ac.uk/resource/ensembl/confidence/high> .|\n",
            "|<http://rdf.ebi.ac.uk/resource/ensembl/ENSANIG00000000004>|       <http://www.w3.org/2000/01/rdf-schema#label>|                                                                              \"CD93\"|<http://rdf.ebi.ac.uk/resource/ensembl/confidence/high> .|\n",
            "|<http://rdf.ebi.ac.uk/resource/ensembl/ENSANIG00000000004>| <http://www.w3.org/2000/01/rdf-schema#description>|                                 \"CD93 molecule [Source:HGNC Symbol;Acc:HGNC:15855]\"|<http://rdf.ebi.ac.uk/resource/ensembl/confidence/high> .|\n",
            "|<http://rdf.ebi.ac.uk/resource/ensembl/ENSANIG00000000004>|<http://rdf.ebi.ac.uk/resource/ensembl/has_biotype>|                              <http://rdf.ebi.ac.uk/resource/ensembl/biotype/coding>|<http://rdf.ebi.ac.uk/resource/ensembl/confidence/high> .|\n",
            "|      <http://rdf.ebi.ac.uk/resource/ensembl/taxon#211598>|    <http://aging-research.group/resource/has_gene>|                          <http://rdf.ebi.ac.uk/resource/ensembl/ENSANIG00000000005>|<http://rdf.ebi.ac.uk/resource/ensembl/confidence/high> .|\n",
            "|    <http://aging-research.group/resource/Accipiter_nisus>|    <http://aging-research.group/resource/has_gene>|                          <http://rdf.ebi.ac.uk/resource/ensembl/ENSANIG00000000005>|<http://rdf.ebi.ac.uk/resource/ensembl/confidence/high> .|\n",
            "|<http://rdf.ebi.ac.uk/resource/ensembl/ENSANIG00000000005>|<http://rdf.ebi.ac.uk/resource/ensembl/has_biotype>|                              <http://rdf.ebi.ac.uk/resource/ensembl/biotype/coding>|<http://rdf.ebi.ac.uk/resource/ensembl/confidence/high> .|\n",
            "|      <http://rdf.ebi.ac.uk/resource/ensembl/taxon#211598>|    <http://aging-research.group/resource/has_gene>|                          <http://rdf.ebi.ac.uk/resource/ensembl/ENSANIG00000000006>|<http://rdf.ebi.ac.uk/resource/ensembl/confidence/high> .|\n",
            "|    <http://aging-research.group/resource/Accipiter_nisus>|    <http://aging-research.group/resource/has_gene>|                          <http://rdf.ebi.ac.uk/resource/ensembl/ENSANIG00000000006>|<http://rdf.ebi.ac.uk/resource/ensembl/confidence/high> .|\n",
            "|<http://rdf.ebi.ac.uk/resource/ensembl/ENSANIG00000000006>|       <http://www.w3.org/2000/01/rdf-schema#label>|                                                                              \"GZF1\"|<http://rdf.ebi.ac.uk/resource/ensembl/confidence/high> .|\n",
            "|<http://rdf.ebi.ac.uk/resource/ensembl/ENSANIG00000000006>| <http://www.w3.org/2000/01/rdf-schema#description>|          \"GDNF inducible zinc finger protein 1 [Source:HGNC Symbol;Acc:HGNC:15808]\"|<http://rdf.ebi.ac.uk/resource/ensembl/confidence/high> .|\n",
            "|<http://rdf.ebi.ac.uk/resource/ensembl/ENSANIG00000000006>|<http://rdf.ebi.ac.uk/resource/ensembl/has_biotype>|                              <http://rdf.ebi.ac.uk/resource/ensembl/biotype/coding>|<http://rdf.ebi.ac.uk/resource/ensembl/confidence/high> .|\n",
            "|      <http://rdf.ebi.ac.uk/resource/ensembl/taxon#211598>|    <http://aging-research.group/resource/has_gene>|                          <http://rdf.ebi.ac.uk/resource/ensembl/ENSANIG00000000007>|<http://rdf.ebi.ac.uk/resource/ensembl/confidence/high> .|\n",
            "|    <http://aging-research.group/resource/Accipiter_nisus>|    <http://aging-research.group/resource/has_gene>|                          <http://rdf.ebi.ac.uk/resource/ensembl/ENSANIG00000000007>|<http://rdf.ebi.ac.uk/resource/ensembl/confidence/high> .|\n",
            "|<http://rdf.ebi.ac.uk/resource/ensembl/ENSANIG00000000007>|<http://rdf.ebi.ac.uk/resource/ensembl/has_biotype>|                              <http://rdf.ebi.ac.uk/resource/ensembl/biotype/coding>|<http://rdf.ebi.ac.uk/resource/ensembl/confidence/high> .|\n",
            "|      <http://rdf.ebi.ac.uk/resource/ensembl/taxon#211598>|    <http://aging-research.group/resource/has_gene>|                          <http://rdf.ebi.ac.uk/resource/ensembl/ENSANIG00000000008>|<http://rdf.ebi.ac.uk/resource/ensembl/confidence/high> .|\n",
            "|    <http://aging-research.group/resource/Accipiter_nisus>|    <http://aging-research.group/resource/has_gene>|                          <http://rdf.ebi.ac.uk/resource/ensembl/ENSANIG00000000008>|<http://rdf.ebi.ac.uk/resource/ensembl/confidence/high> .|\n",
            "|<http://rdf.ebi.ac.uk/resource/ensembl/ENSANIG00000000008>|<http://rdf.ebi.ac.uk/resource/ensembl/has_biotype>|                              <http://rdf.ebi.ac.uk/resource/ensembl/biotype/coding>|<http://rdf.ebi.ac.uk/resource/ensembl/confidence/high> .|\n",
            "|      <http://rdf.ebi.ac.uk/resource/ensembl/taxon#211598>|    <http://aging-research.group/resource/has_gene>|                          <http://rdf.ebi.ac.uk/resource/ensembl/ENSANIG00000000009>|<http://rdf.ebi.ac.uk/resource/ensembl/confidence/high> .|\n",
            "|    <http://aging-research.group/resource/Accipiter_nisus>|    <http://aging-research.group/resource/has_gene>|                          <http://rdf.ebi.ac.uk/resource/ensembl/ENSANIG00000000009>|<http://rdf.ebi.ac.uk/resource/ensembl/confidence/high> .|\n",
            "|<http://rdf.ebi.ac.uk/resource/ensembl/ENSANIG00000000009>|       <http://www.w3.org/2000/01/rdf-schema#label>|                                                                             \"ATP9A\"|<http://rdf.ebi.ac.uk/resource/ensembl/confidence/high> .|\n",
            "|<http://rdf.ebi.ac.uk/resource/ensembl/ENSANIG00000000009>| <http://www.w3.org/2000/01/rdf-schema#description>|\"ATPase phospholipid transporting 9A (putative) [Source:HGNC Symbol;Acc:HGNC:13540]\"|<http://rdf.ebi.ac.uk/resource/ensembl/confidence/high> .|\n",
            "|<http://rdf.ebi.ac.uk/resource/ensembl/ENSANIG00000000009>|<http://rdf.ebi.ac.uk/resource/ensembl/has_biotype>|                              <http://rdf.ebi.ac.uk/resource/ensembl/biotype/coding>|<http://rdf.ebi.ac.uk/resource/ensembl/confidence/high> .|\n",
            "|      <http://rdf.ebi.ac.uk/resource/ensembl/taxon#211598>|    <http://aging-research.group/resource/has_gene>|                          <http://rdf.ebi.ac.uk/resource/ensembl/ENSANIG00000000010>|<http://rdf.ebi.ac.uk/resource/ensembl/confidence/high> .|\n",
            "|    <http://aging-research.group/resource/Accipiter_nisus>|    <http://aging-research.group/resource/has_gene>|                          <http://rdf.ebi.ac.uk/resource/ensembl/ENSANIG00000000010>|<http://rdf.ebi.ac.uk/resource/ensembl/confidence/high> .|\n",
            "|<http://rdf.ebi.ac.uk/resource/ensembl/ENSANIG00000000010>|<http://rdf.ebi.ac.uk/resource/ensembl/has_biotype>|                              <http://rdf.ebi.ac.uk/resource/ensembl/biotype/coding>|<http://rdf.ebi.ac.uk/resource/ensembl/confidence/high> .|\n",
            "|      <http://rdf.ebi.ac.uk/resource/ensembl/taxon#211598>|    <http://aging-research.group/resource/has_gene>|                          <http://rdf.ebi.ac.uk/resource/ensembl/ENSANIG00000000011>|<http://rdf.ebi.ac.uk/resource/ensembl/confidence/high> .|\n",
            "|    <http://aging-research.group/resource/Accipiter_nisus>|    <http://aging-research.group/resource/has_gene>|                          <http://rdf.ebi.ac.uk/resource/ensembl/ENSANIG00000000011>|<http://rdf.ebi.ac.uk/resource/ensembl/confidence/high> .|\n",
            "|<http://rdf.ebi.ac.uk/resource/ensembl/ENSANIG00000000011>|       <http://www.w3.org/2000/01/rdf-schema#label>|                                                                             \"ACER1\"|<http://rdf.ebi.ac.uk/resource/ensembl/confidence/high> .|\n",
            "|<http://rdf.ebi.ac.uk/resource/ensembl/ENSANIG00000000011>| <http://www.w3.org/2000/01/rdf-schema#description>|                         \"alkaline ceramidase 1 [Source:HGNC Symbol;Acc:HGNC:18356]\"|<http://rdf.ebi.ac.uk/resource/ensembl/confidence/high> .|\n",
            "|<http://rdf.ebi.ac.uk/resource/ensembl/ENSANIG00000000011>|<http://rdf.ebi.ac.uk/resource/ensembl/has_biotype>|                              <http://rdf.ebi.ac.uk/resource/ensembl/biotype/coding>|<http://rdf.ebi.ac.uk/resource/ensembl/confidence/high> .|\n",
            "+----------------------------------------------------------+---------------------------------------------------+------------------------------------------------------------------------------------+---------------------------------------------------------+\n",
            "only showing top 40 rows\n",
            "\n"
          ],
          "output_type" : "stream"
        }
      ]
    },
    {
      "cell_type" : "code",
      "execution_count" : 21,
      "metadata" : {
        "cell.metadata.exec_info" : {
          "startTs" : 1580844045362,
          "endTs" : 1580844120876
        },
        "language" : "scala"
      },
      "language" : "scala",
      "source" : [
        "genes_trs.writeTSV(\"/data/databases/graphdb/import/genes_lookup.nq\", header = false)"
      ],
      "outputs" : [
        {
          "name" : "stdout",
          "text" : [
            "parts of /data/databases/graphdb/import/genes_lookup.nt merged!\n"
          ],
          "output_type" : "stream"
        },
        {
          "execution_count" : 21,
          "data" : {
            "text/plain" : [
              "/data/databases/graphdb/import/genes_lookup.nt"
            ]
          },
          "metadata" : {
            "name" : "Out",
            "type" : "String"
          },
          "output_type" : "execute_result"
        }
      ]
    },
    {
      "cell_type" : "code",
      "execution_count" : 22,
      "metadata" : {
        "language" : "scala"
      },
      "language" : "scala",
      "source" : [
      ],
      "outputs" : [
      ]
    }
  ]
}