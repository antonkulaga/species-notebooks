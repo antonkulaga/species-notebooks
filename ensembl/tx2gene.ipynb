{
  "metadata" : {
    "config" : {
      "dependencies" : {
        "scala" : [
          "org.bdgenomics.adam:adam-core-spark2_2.12:0.32.0",
          "group.research.aging:spark-extensions_2.12:0.1.0",
          "com.github.pathikrit:better-files_2.12:3.9.1"
        ]
      },
      "exclusions" : [
      ],
      "repositories" : [
        {
          "maven" : {
            "base" : "http://central.maven.org/maven2/"
          }
        },
        {
          "maven" : {
            "base" : "http://oss.sonatype.org/content/repositories/snapshots"
          }
        },
        {
          "maven" : {
            "base" : "https://dl.bintray.com/comp-bio-aging/main/"
          }
        }
      ],
      "sparkConfig" : {
        "master" : "http://spark:7070[28]"
      },
      "env" : {
        
      }
    },
    "language_info" : {
      "name" : "scala"
    }
  },
  "nbformat" : 4,
  "nbformat_minor" : 0,
  "cells" : [
    {
      "cell_type" : "markdown",
      "execution_count" : 0,
      "metadata" : {
        "language" : "text"
      },
      "language" : "text",
      "source" : [
        "# tx2gene\n",
        "\n",
        "This is a text cell. Start editing!"
      ],
      "outputs" : [
      ]
    },
    {
      "cell_type" : "code",
      "execution_count" : 1,
      "metadata" : {
        "cell.metadata.exec_info" : {
          "startTs" : 1605808029967,
          "endTs" : 1605808030510
        },
        "language" : "scala"
      },
      "language" : "scala",
      "source" : [
        "import org.apache.spark.rdd._\n",
        "import org.apache.spark.sql._\n",
        "import org.apache.spark.sql.types.StructType\n",
        "import org.apache.spark.sql.functions._\n",
        "import group.research.aging.spark.extensions._\n",
        "import group.research.aging.spark.extensions.functions._\n",
        "import group.research.aging.spark.extensions.functions.ConcatenateString\n",
        "import group.research.aging.spark.extensions.functions.Concatenate\n",
        "import ammonite.ops._\n",
        "import ammonite.ops.ImplicitWd._"
      ],
      "outputs" : [
      ]
    },
    {
      "cell_type" : "code",
      "execution_count" : 2,
      "metadata" : {
        "cell.metadata.exec_info" : {
          "startTs" : 1605808030532,
          "endTs" : 1605808030772
        },
        "language" : "scala"
      },
      "language" : "scala",
      "source" : [
        "import org.bdgenomics.adam.rdd.ADAMContext._\n",
        "import better.files._\n",
        "import File._\n",
        "import java.io.{File => JFile}"
      ],
      "outputs" : [
      ]
    },
    {
      "cell_type" : "code",
      "execution_count" : 3,
      "metadata" : {
        "cell.metadata.exec_info" : {
          "startTs" : 1605808030777,
          "endTs" : 1605808031315
        },
        "language" : "scala"
      },
      "language" : "scala",
      "source" : [
        "def tx2gene(gtf: String) = { spark.sparkContext.loadGtf(gtf).toDF.where($\"featureType\" === \"transcript\").select($\"transcriptId\".as(\"transcript\"),$\"geneId\".as(\"gene\")).distinct}"
      ],
      "outputs" : [
      ]
    },
    {
      "cell_type" : "code",
      "execution_count" : 4,
      "metadata" : {
        "cell.metadata.exec_info" : {
          "startTs" : 1605808034267,
          "endTs" : 1605808071963
        },
        "language" : "scala"
      },
      "language" : "scala",
      "source" : [
        "tx2gene(\"/data/ensembl/99/species/astatotilapia_calliptera/Astatotilapia_calliptera.fAstCal1.2.99.chr.gtf\").show()"
      ],
      "outputs" : [
        {
          "name" : "stdout",
          "text" : [
            "+------------------+------------------+\n",
            "|        transcript|              gene|\n",
            "+------------------+------------------+\n",
            "|ENSACLT00000004601|ENSACLG00000003015|\n",
            "|ENSACLT00000006645|ENSACLG00000004383|\n",
            "|ENSACLT00000008797|ENSACLG00000005849|\n",
            "|ENSACLT00000018575|ENSACLG00000012407|\n",
            "|ENSACLT00000019231|ENSACLG00000012559|\n",
            "|ENSACLT00000042358|ENSACLG00000027849|\n",
            "|ENSACLT00000010452|ENSACLG00000006934|\n",
            "|ENSACLT00000021207|ENSACLG00000014104|\n",
            "|ENSACLT00000024113|ENSACLG00000016014|\n",
            "|ENSACLT00000040736|ENSACLG00000026821|\n",
            "|ENSACLT00000001842|ENSACLG00000001261|\n",
            "|ENSACLT00000030640|ENSACLG00000020270|\n",
            "|ENSACLT00000040448|ENSACLG00000026651|\n",
            "|ENSACLT00000029854|ENSACLG00000019392|\n",
            "|ENSACLT00000031654|ENSACLG00000020921|\n",
            "|ENSACLT00000041890|ENSACLG00000027561|\n",
            "|ENSACLT00000010171|ENSACLG00000006691|\n",
            "|ENSACLT00000012035|ENSACLG00000008038|\n",
            "|ENSACLT00000019714|ENSACLG00000013088|\n",
            "|ENSACLT00000020844|ENSACLG00000013801|\n",
            "+------------------+------------------+\n",
            "only showing top 20 rows\n",
            "\n"
          ],
          "output_type" : "stream"
        }
      ]
    },
    {
      "cell_type" : "code",
      "execution_count" : 5,
      "metadata" : {
        "cell.metadata.exec_info" : {
          "startTs" : 1605809800885,
          "endTs" : 1605809801179
        },
        "language" : "scala"
      },
      "language" : "scala",
      "source" : [
        "def tx2geneByFolder(folder: File) = {\n",
        "    folder.children.filterNot(c=>c.name.endsWith(\".gtf\") && !c.name.contains(\"abinitio\") && !c.name.contains(\"hapl_scaff\"))\n",
        "}"
      ],
      "outputs" : [
      ]
    },
    {
      "cell_type" : "code",
      "execution_count" : 6,
      "metadata" : {
        "cell.metadata.exec_info" : {
          "startTs" : 1605808201189,
          "endTs" : 1605808201330
        },
        "language" : "scala"
      },
      "language" : "scala",
      "source" : [
        "(df.select(\"geneId\").distinct.count, df.select(\"transcriptId\").distinct.count)"
      ],
      "outputs" : [
        {
          "execution_count" : 6,
          "data" : {
            "application/json" : [
              {
                "pos" : {
                  "sourceId" : "Cell6",
                  "start" : 1,
                  "end" : 3,
                  "point" : 1
                },
                "msg" : "not found: value df",
                "severity" : 2
              },
              {
                "pos" : {
                  "sourceId" : "Cell6",
                  "start" : 37,
                  "end" : 39,
                  "point" : 37
                },
                "msg" : "not found: value df",
                "severity" : 2
              }
            ],
            "text/plain" : [
              "Error: not found: value df (1)",
              "Error: not found: value df (37)"
            ]
          },
          "metadata" : {
            "rel" : "compiler_errors"
          },
          "output_type" : "execute_result"
        }
      ]
    },
    {
      "cell_type" : "code",
      "execution_count" : 7,
      "metadata" : {
        "cell.metadata.exec_info" : {
          "startTs" : 1596549706400,
          "endTs" : 1596549706441
        },
        "language" : "scala"
      },
      "language" : "scala",
      "source" : [
        "val path = File(\"/data/ensembl/99/species\")\n",
        "for(fl <- path.children.flatMap(_.children.filter(c=>c.name.endsWith(\".gtf\")&& !c.name.contains(\"abinitio\")&& !c.name.contains(\"hapl_scaff\"))))\n",
        "{\n",
        "    val tx2gene_path = fl.pathAsString.replace(\".gtf\", \"_tx2gene.tsv\")\n",
        "    tx2gene(fl.pathAsString).writeTSV(tx2gene_path, header = false, local = true)\n",
        "}"
      ],
      "outputs" : [
        {
          "execution_count" : 7,
          "data" : {
            "application/json" : [
              {
                "pos" : {
                  "sourceId" : "Cell7",
                  "start" : 11,
                  "end" : 15,
                  "point" : 11
                },
                "msg" : "not found: value File",
                "severity" : 2
              }
            ],
            "text/plain" : [
              "Error: not found: value File (11)"
            ]
          },
          "metadata" : {
            "rel" : "compiler_errors"
          },
          "output_type" : "execute_result"
        }
      ]
    },
    {
      "cell_type" : "code",
      "execution_count" : 8,
      "metadata" : {
        "language" : "scala"
      },
      "language" : "scala",
      "source" : [
      ],
      "outputs" : [
      ]
    }
  ]
}