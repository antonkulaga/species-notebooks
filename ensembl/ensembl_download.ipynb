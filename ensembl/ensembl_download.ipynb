{
  "metadata" : {
    "config" : {
      "dependencies" : {
        "scala" : [
          "group.research.aging:spark-extensions_2.12:0.1.1",
          "com.github.pathikrit:better-files_2.12:3.9.1",
          "com.softwaremill.sttp.client3:core_2.12:3.0.0-RC10",
          "org.bdgenomics.adam:adam-core-spark2_2.12:0.32.0"
        ]
      },
      "exclusions" : [
      ],
      "repositories" : [
        {
          "maven" : {
            "base" : "http://central.maven.org/maven2/"
          }
        },
        {
          "maven" : {
            "base" : "http://oss.sonatype.org/content/repositories/snapshots"
          }
        },
        {
          "maven" : {
            "base" : "https://dl.bintray.com/comp-bio-aging/main/"
          }
        }
      ],
      "sparkConfig" : {
        "master" : "http://spark:7070[16]"
      },
      "env" : {
        
      }
    },
    "language_info" : {
      "name" : "scala"
    }
  },
  "nbformat" : 4,
  "nbformat_minor" : 0,
  "cells" : [
    {
      "cell_type" : "markdown",
      "execution_count" : 0,
      "metadata" : {
        "language" : "text"
      },
      "language" : "text",
      "source" : [
        "# Ensembl downloader\n",
        "\n"
      ],
      "outputs" : [
      ]
    },
    {
      "cell_type" : "markdown",
      "execution_count" : 1,
      "metadata" : {
        "language" : "text"
      },
      "language" : "text",
      "source" : [
        "<div><b>Getting species data from Ensembl</b><br></div>"
      ],
      "outputs" : [
      ]
    },
    {
      "cell_type" : "code",
      "execution_count" : 2,
      "metadata" : {
        "cell.metadata.exec_info" : {
          "startTs" : 1606758050885,
          "endTs" : 1606758051475
        },
        "language" : "scala"
      },
      "language" : "scala",
      "source" : [
        "import org.apache.spark._\n",
        "import org.apache.spark.sql.{DataFrame, Encoders, SparkSession}\n",
        "import org.apache.spark.sql.types.StructType\n",
        "import scala.reflect.runtime.universe._\n",
        "import org.apache.spark.storage.StorageLevel\n",
        "import org.apache.spark.rdd._\n",
        "import org.apache.spark.sql.functions._"
      ],
      "outputs" : [
      ]
    },
    {
      "cell_type" : "code",
      "execution_count" : 3,
      "metadata" : {
        "cell.metadata.exec_info" : {
          "startTs" : 1606758051500,
          "endTs" : 1606758051738
        },
        "language" : "scala"
      },
      "language" : "scala",
      "source" : [
        "import better.files._\n",
        "import File._\n",
        "import java.io.{File => JFile}"
      ],
      "outputs" : [
      ]
    },
    {
      "cell_type" : "code",
      "execution_count" : 4,
      "metadata" : {
        "cell.metadata.exec_info" : {
          "startTs" : 1606758051742,
          "endTs" : 1606758051944
        },
        "language" : "scala"
      },
      "language" : "scala",
      "source" : [
        "import org.apache.spark.sql.expressions._\n",
        "import group.research.aging.spark.extensions._\n",
        "import group.research.aging.spark.extensions.functions._"
      ],
      "outputs" : [
      ]
    },
    {
      "cell_type" : "markdown",
      "execution_count" : 5,
      "metadata" : {
        "language" : "text"
      },
      "language" : "text",
      "source" : [
        "**Setting up release variable and folder to download ensembl**If the folders do no exist - creates them\n",
        "\n"
      ],
      "outputs" : [
      ]
    },
    {
      "cell_type" : "code",
      "execution_count" : 6,
      "metadata" : {
        "cell.metadata.exec_info" : {
          "startTs" : 1606758051947,
          "endTs" : 1606758052827
        },
        "language" : "scala"
      },
      "language" : "scala",
      "source" : [
        "import os.{GlobSyntax, /}\n",
        "implicit val default_ammonite_permissions = os.PermSet(Integer.parseInt(\"777\"))\n",
        "default_ammonite_permissions "
      ],
      "outputs" : [
        {
          "execution_count" : 6,
          "data" : {
            "text/plain" : [
              "r----x--x"
            ]
          },
          "metadata" : {
            "name" : "Out",
            "type" : "PermSet"
          },
          "output_type" : "execute_result"
        }
      ]
    },
    {
      "cell_type" : "code",
      "execution_count" : 7,
      "metadata" : {
        "cell.metadata.exec_info" : {
          "startTs" : 1606758052874,
          "endTs" : 1606758054234
        },
        "language" : "scala"
      },
      "language" : "scala",
      "source" : [
        "val release = \"101\" //99 in the cross-species paper\n",
        "val data = File(\"/data\")\n",
        "data.createDirectoryIfNotExists()\n",
        "val ensembl_dir = data / \"ensembl\" / release\n",
        "ensembl_dir.createDirectoryIfNotExists()"
      ],
      "outputs" : [
        {
          "execution_count" : 7,
          "data" : {
            "text/plain" : [
              "/data/ensembl/101"
            ]
          },
          "metadata" : {
            "name" : "Out",
            "type" : "File"
          },
          "output_type" : "execute_result"
        }
      ]
    },
    {
      "cell_type" : "code",
      "execution_count" : 8,
      "metadata" : {
        "cell.metadata.exec_info" : {
          "startTs" : 1606758054239,
          "endTs" : 1606758055449
        },
        "language" : "scala"
      },
      "language" : "scala",
      "source" : [
        "val indexes_dir = data / \"indexes\"\n",
        "indexes_dir.createDirectoryIfNotExists()\n",
        "val salmon_version = \"1.3.0\" //1.1.0 in the cross-species paper\n",
        "val salmon_dir = indexes_dir / \"salmon\" \n",
        "salmon_dir.createDirectoryIfNotExists()\n",
        "val salmon_indexes_dir =  salmon_dir / salmon_version\n",
        "salmon_indexes_dir.createDirectoryIfNotExists()\n",
        "val salmon_indexes_dir_str = salmon_indexes_dir.pathAsString\n",
        "val salmon_ensembl_dir = salmon_indexes_dir / s\"ensembl_${release}\"\n",
        "salmon_ensembl_dir.createDirectoryIfNotExists()\n",
        "val salmon_ensembl_dir_str = salmon_ensembl_dir.pathAsString //to avoid serialization problems\n",
        "salmon_ensembl_dir_str"
      ],
      "outputs" : [
        {
          "execution_count" : 8,
          "data" : {
            "text/plain" : [
              "/data/indexes/salmon/1.3.0/ensembl_101"
            ]
          },
          "metadata" : {
            "name" : "Out",
            "type" : "String"
          },
          "output_type" : "execute_result"
        }
      ]
    },
    {
      "cell_type" : "code",
      "execution_count" : 9,
      "metadata" : {
        "cell.metadata.exec_info" : {
          "startTs" : 1606758055456,
          "endTs" : 1606758056384
        },
        "language" : "scala"
      },
      "language" : "scala",
      "source" : [
        "val species_folder = ensembl_dir / \"species\"\n",
        "species_folder.createDirectoryIfNotExists()\n",
        "import ammonite.ops._    \n",
        "val species_path_str = species_folder.pathAsString\n",
        "species_path_str"
      ],
      "outputs" : [
        {
          "execution_count" : 9,
          "data" : {
            "text/plain" : [
              "/data/ensembl/101/species"
            ]
          },
          "metadata" : {
            "name" : "Out",
            "type" : "String"
          },
          "output_type" : "execute_result"
        }
      ]
    },
    {
      "cell_type" : "code",
      "execution_count" : 10,
      "metadata" : {
        "cell.metadata.exec_info" : {
          "startTs" : 1606758056389,
          "endTs" : 1606758057199
        },
        "language" : "scala"
      },
      "language" : "scala",
      "source" : [
        "val pipelines_dir = data / \"pipelines\"\n",
        "pipelines_dir.createDirectoryIfNotExists()\n",
        "val quantification_dir = pipelines_dir / \"quantification\"\n",
        "quantification_dir.createDirectoryIfNotExists()\n",
        "val quant_sample_dir = pipelines_dir / \"quant_sample\"\n",
        "quant_sample_dir.createDirectoryIfNotExists()\n",
        "val quant_by_runs_dir = pipelines_dir / \"quant_by_runs\"\n",
        "quant_by_runs_dir.createDirectoryIfNotExists()\n",
        "val pipelines_dir_str = pipelines_dir.pathAsString\n",
        "pipelines_dir_str"
      ],
      "outputs" : [
        {
          "execution_count" : 10,
          "data" : {
            "text/plain" : [
              "/data/pipelines"
            ]
          },
          "metadata" : {
            "name" : "Out",
            "type" : "String"
          },
          "output_type" : "execute_result"
        }
      ]
    },
    {
      "cell_type" : "markdown",
      "execution_count" : 11,
      "metadata" : {
        "language" : "text"
      },
      "language" : "text",
      "source" : [
        "Setting up the web client and URLs"
      ],
      "outputs" : [
      ]
    },
    {
      "cell_type" : "code",
      "execution_count" : 12,
      "metadata" : {
        "cell.metadata.exec_info" : {
          "startTs" : 1606758057205,
          "endTs" : 1606758058384
        },
        "language" : "scala"
      },
      "language" : "scala",
      "source" : [
        "import sttp.client3._\n",
        "import sttp.model._\n",
        "implicit val backend = HttpURLConnectionBackend()\n",
        "val ensembl_ftp_str = s\"ftp.ensembl.org/pub/release-${release}\"\n",
        "val ensembl_ftp = s\"ftp://${ensembl_ftp_str}\"\n",
        "val ensembl_ftp_uri = uri\"http://${ensembl_ftp_str}\" //have to use http for requests :(\n",
        "ensembl_ftp\n"
      ],
      "outputs" : [
        {
          "execution_count" : 12,
          "data" : {
            "text/plain" : [
              "ftp://ftp.ensembl.org/pub/release-101"
            ]
          },
          "metadata" : {
            "name" : "Out",
            "type" : "String"
          },
          "output_type" : "execute_result"
        }
      ]
    },
    {
      "cell_type" : "code",
      "execution_count" : 13,
      "metadata" : {
        "cell.metadata.exec_info" : {
          "startTs" : 1606758058392,
          "endTs" : 1606758059027
        },
        "language" : "scala"
      },
      "language" : "scala",
      "source" : [
        "val species_list = ensembl_dir / \"species_EnsemblVertebrates.txt\"\n",
        "if(!species_list.exists){\n",
        "    val species_url = uri\"${ensembl_ftp}/species_EnsemblVertebrates.txt\"\n",
        "    val request = basicRequest.get(species_url)\n",
        "    val Right(species_txt) = request.send(backend).body\n",
        "    species_list.createFileIfNotExists()\n",
        "    species_list.overwrite(species_txt)\n",
        "}\n",
        "species_list.pathAsString"
      ],
      "outputs" : [
        {
          "execution_count" : 13,
          "data" : {
            "text/plain" : [
              "/data/ensembl/101/species_EnsemblVertebrates.txt"
            ]
          },
          "metadata" : {
            "name" : "Out",
            "type" : "String"
          },
          "output_type" : "execute_result"
        }
      ]
    },
    {
      "cell_type" : "code",
      "execution_count" : 14,
      "metadata" : {
        "cell.metadata.exec_info" : {
          "startTs" : 1606758059031,
          "endTs" : 1606758077371
        },
        "language" : "scala"
      },
      "language" : "scala",
      "source" : [
        "val capitalize_first = udf[String, String] { (species) => species.head.toUpper + species.tail }\n",
        "val species = spark.readTSV(species_list.pathAsString ,comment=\"\", header=true)\n",
        ".withColumnRenamed(\"#name\", \"name\")\n",
        ".withColumn(\"species\", capitalize_first($\"species\"))\n",
        "species.show()"
      ],
      "outputs" : [
        {
          "name" : "stdout",
          "text" : [
            "+--------------------+--------------------+------------------+-----------+--------------------+------------------+--------------------+---------+-----------+---------------+-----------------+----------------+--------------------+----------+\n",
            "|                name|             species|          division|taxonomy_id|            assembly|assembly_accession|           genebuild|variation|pan_compara|peptide_compara|genome_alignments|other_alignments|             core_db|species_id|\n",
            "+--------------------+--------------------+------------------+-----------+--------------------+------------------+--------------------+---------+-----------+---------------+-----------------+----------------+--------------------+----------+\n",
            "|       Spiny chromis|Acanthochromis_po...|EnsemblVertebrates|      80966|         ASM210954v1|   GCA_002109545.1|2018-05-Ensembl/2...|        N|          N|              Y|                Y|               Y|acanthochromis_po...|         1|\n",
            "|Eurasian sparrowhawk|     Accipiter_nisus|EnsemblVertebrates|     211598|Accipiter_nisus_v...|   GCA_004320145.1|2019-07-Ensembl/2...|        N|          N|              Y|                Y|               Y|accipiter_nisus_c...|         1|\n",
            "|               Panda|Ailuropoda_melano...|EnsemblVertebrates|       9646|             ailMel1|   GCA_000004335.1|2010-01-Ensembl/2...|        N|          N|              Y|                Y|               Y|ailuropoda_melano...|         1|\n",
            "|Yellow-billed parrot|    Amazona_collaria|EnsemblVertebrates|     241587|         ASM394721v1|   GCA_003947215.1|2019-07-Ensembl/2...|        N|          N|              Y|                Y|               Y|amazona_collaria_...|         1|\n",
            "|       Midas cichlid|Amphilophus_citri...|EnsemblVertebrates|      61819|            Midas_v5|   GCA_000751415.1|2018-05-Ensembl/2...|        N|          N|              Y|                Y|               Y|amphilophus_citri...|         1|\n",
            "|   Clown anemonefish|Amphiprion_ocellaris|EnsemblVertebrates|      80972|           AmpOce1.0|   GCA_002776465.1|2018-05-Ensembl/2...|        N|          N|              Y|                Y|               Y|amphiprion_ocella...|         1|\n",
            "|    Orange clownfish|  Amphiprion_percula|EnsemblVertebrates|     161767|             Nemo_v1|   GCA_003047355.1|2018-05-Ensembl/2...|        N|          N|              Y|                Y|               Y|amphiprion_percul...|         1|\n",
            "|      Climbing perch|  Anabas_testudineus|EnsemblVertebrates|      64144|          fAnaTes1.1|   GCA_900324465.1|2018-05-Ensembl/2...|        N|          N|              Y|                Y|               Y|anabas_testudineu...|         1|\n",
            "|             Mallard|  Anas_platyrhynchos|EnsemblVertebrates|       8839|         ASM874695v1|   GCA_008746955.1|2019-11-Ensembl/2...|        N|          N|              Y|                Y|               Y|anas_platyrhyncho...|         1|\n",
            "|                Duck|Anas_platyrhyncho...|EnsemblVertebrates|       8840|         CAU_duck1.0|   GCA_002743455.1|2018-10-Ensembl/2...|        N|          N|              Y|                Y|               Y|anas_platyrhyncho...|         1|\n",
            "|Eastern spot-bill...|    Anas_zonorhyncha|EnsemblVertebrates|      75864|         ASM222487v1|   GCA_002224875.1|2019-11-Ensembl/2...|        N|          N|              Y|                Y|               Y|anas_zonorhyncha_...|         1|\n",
            "|        Anole lizard| Anolis_carolinensis|EnsemblVertebrates|      28377|           AnoCar2.0|   GCA_000090745.1|2010-09-Ensembl/2...|        N|          Y|              Y|                Y|               Y|anolis_carolinens...|         1|\n",
            "|   Pink-footed goose|Anser_brachyrhynchus|EnsemblVertebrates|     132585|         ASM259213v1|   GCA_002592135.1|2018-12-Ensembl/2...|        N|          N|              Y|                Y|               Y|anser_brachyrhync...|         1|\n",
            "|          Swan goose|     Anser_cygnoides|EnsemblVertebrates|       8845|           GooseV1.0|   GCA_002166845.1|2019-02-Ensembl/2...|        N|          N|              Y|                Y|               Y|anser_cygnoides_c...|         1|\n",
            "|   Ma's night monkey|     Aotus_nancymaae|EnsemblVertebrates|      37293|            Anan_2.0|   GCA_000952055.2|2017-08-Ensembl/2...|        N|          N|              Y|                Y|               Y|aotus_nancymaae_c...|         1|\n",
            "|  Great spotted kiwi|     Apteryx_haastii|EnsemblVertebrates|       8823|             aptHaa1|   GCA_003342985.1|2018-12-Ensembl/2...|        N|          N|              Y|                Y|               Y|apteryx_haastii_c...|         1|\n",
            "| Little spotted kiwi|      Apteryx_owenii|EnsemblVertebrates|       8824|             aptOwe1|   GCA_003342965.1|2018-10-Ensembl/2...|        N|          N|              Y|                Y|               Y|apteryx_owenii_co...|         1|\n",
            "|  Okarito brown kiwi|        Apteryx_rowi|EnsemblVertebrates|     308060|             aptRow1|   GCA_003343035.1|2018-10-Ensembl/2...|        N|          N|              Y|                Y|               Y|apteryx_rowi_core...|         1|\n",
            "|        Golden eagle|Aquila_chrysaetos...|EnsemblVertebrates|     223781|          bAquChr1.2|   GCA_900496995.2|2019-07-Ensembl/2...|        N|          N|              Y|                Y|               Y|aquila_chrysaetos...|         1|\n",
            "|       Eastern happy|Astatotilapia_cal...|EnsemblVertebrates|       8154|          fAstCal1.2|   GCA_900246225.3|2018-06-Ensembl/2...|        N|          N|              Y|                Y|               Y|astatotilapia_cal...|         1|\n",
            "+--------------------+--------------------+------------------+-----------+--------------------+------------------+--------------------+---------+-----------+---------------+-----------------+----------------+--------------------+----------+\n",
            "only showing top 20 rows\n",
            "\n"
          ],
          "output_type" : "stream"
        }
      ]
    },
    {
      "cell_type" : "markdown",
      "execution_count" : 15,
      "metadata" : {
        "language" : "text"
      },
      "language" : "text",
      "source" : [
        "#### Preparing to download genomes/transcriptomes/annotations from Ensembl\n",
        "\n",
        "\n"
      ],
      "outputs" : [
      ]
    },
    {
      "cell_type" : "code",
      "execution_count" : 16,
      "metadata" : {
        "cell.metadata.exec_info" : {
          "startTs" : 1606758077381,
          "endTs" : 1606758077868
        },
        "language" : "scala"
      },
      "language" : "scala",
      "source" : [
        "def prefix(prefix: String, sufix: String) =  udf[String, String]{ str=> prefix + str + sufix}\n",
        "\n",
        "def command(path: String, ftp: String) = udf[String, String]{ species => {    \n",
        "    val dir = path + \"/\" + species\n",
        "    val wget = \"wget -t 4 -m -nH --cut-dirs=100 -P \" + dir + \" \"\n",
        "    val and = \" && \"\n",
        "    \"mkdir -p \" + dir + and + wget + ftp + \"/gtf/\" + species.toLowerCase + \"/*\" + and + wget + ftp + \"/fasta/\" + species.toLowerCase + \"/*\" + and + \"gunzip -f \" + dir + \"/*.gz\" \n",
        "    \n",
        "}\n",
        "}\n",
        "val download = command(species_path_str, ensembl_ftp)\n"
      ],
      "outputs" : [
      ]
    },
    {
      "cell_type" : "code",
      "execution_count" : 17,
      "metadata" : {
        "cell.metadata.exec_info" : {
          "startTs" : 1606758077874,
          "endTs" : 1606758078085
        },
        "language" : "scala"
      },
      "language" : "scala",
      "source" : [
        "class Fixer{\n",
        "    //fixes some typical naming problems\n",
        "    import ammonite.ops._\n",
        "   def no_dot(assembly: String) = { assembly.lastIndexOf(\".\") match { case -1 => assembly ; case i => assembly.substring(0, i) } }\n",
        " \n",
        "    //def assembly2(prefix: String) = udf[String, String, String]{ (one, two) => prefix + one + \"/\" + two }\n",
        "    def fix(str: String, assembly: String) = {\n",
        "         if(exists! Path(str)) str else {\n",
        "             val str2 = str.replace(assembly, no_dot(assembly))\n",
        "             if(exists! Path(str2)) str2 else {\n",
        "                 if(str.contains(\" \"))\n",
        "                    str.replace(\" \", \"_\")\n",
        "                 else str\n",
        "             }\n",
        "         }\n",
        "    }\n",
        "}"
      ],
      "outputs" : [
      ]
    },
    {
      "cell_type" : "code",
      "execution_count" : 18,
      "metadata" : {
        "cell.metadata.exec_info" : {
          "startTs" : 1606758078090,
          "endTs" : 1606758078730
        },
        "language" : "scala"
      },
      "language" : "scala",
      "source" : [
        "\n",
        "def genome =  udf[String, String, String] { (species, assembly) => \n",
        "   val f = new Fixer(); import f._\n",
        "    \n",
        "    import ammonite.ops._    \n",
        "    val species_path = Path(species_path_str)\n",
        "    val head_tail_assembly = s\"${species.head.toUpper + species.tail}.${assembly}\"\n",
        "    val p = (species_path / species / s\"${head_tail_assembly}.dna.primary_assembly.fa\".replace(\" \", \"\")).toString\n",
        "     \n",
        "    //if(new java.io.File(p).exists) p else  if(exists! Path(fix(p, assembly))) fix(p, assembly) else {\n",
        "    \n",
        "    if(exists! Path(p)) p else  if(exists! Path(fix(p, assembly))) fix(p, assembly) else {\n",
        "    val str = (species_path / species /  s\"${head_tail_assembly}.dna.toplevel.fa\".replace(\" \", \"\")).toString \n",
        "    fix(str, assembly)\n",
        "    }\n",
        "}\n",
        "\n",
        "def cdna = udf[String, String, String] { (species, assembly) => \n",
        "    val f = new Fixer(); import f._\n",
        "    val species_path = Path(species_path_str)\n",
        "    val head_tail_assembly = s\"${species.head.toUpper + species.tail}.${assembly}\"    \n",
        "    val str = (species_path / species /  s\"${head_tail_assembly}.cdna.all.fa\".replace(\" \", \"\")).toString\n",
        "    fix(str, assembly)\n",
        "}\n",
        "\n",
        "def gtf = udf[String, String, String] { (species, assembly) => \n",
        "    val f = new Fixer(); import f._\n",
        "    val species_path = Path(species_path_str)\n",
        "    val head_tail_assembly = s\"${species.head.toUpper + species.tail}.${assembly}\"        \n",
        "    val str =  (species_path / species /  s\"${head_tail_assembly}.${release}.gtf\".replace(\" \", \"\")).toString\n",
        "    fix(str, assembly)\n",
        "}\n",
        "def pep =  udf[String, String, String] { (species, assembly) => \n",
        "val f = new Fixer(); import f._\n",
        "    val species_path = Path(species_path_str)\n",
        "    val head_tail_assembly = s\"${species.head.toUpper + species.tail}.${assembly}\"        \n",
        "    val str =  (species_path / species /   s\"${head_tail_assembly}.pep.all.fa\".replace(\" \", \"\")).toString \n",
        "    fix(str, assembly)\n",
        "}\n",
        "\n",
        "def check_file_simple = udf[Boolean, String] { str =>\n",
        "    new java.io.File(str).exists \n",
        "   // exists! ammonite.ops.Path(str)\n",
        "}    \n",
        "\n",
        "def new_index = udf[String, String] { \n",
        "    str => salmon_ensembl_dir_str +\"/\" + str.head.toUpper + str.tail }\n"
      ],
      "outputs" : [
      ]
    },
    {
      "cell_type" : "markdown",
      "execution_count" : 19,
      "metadata" : {
        "language" : "text"
      },
      "language" : "text",
      "source" : [
        "<div><b>Setting up Salmon index</b></div><div>---------------------------------<br></div>"
      ],
      "outputs" : [
      ]
    },
    {
      "cell_type" : "code",
      "execution_count" : 20,
      "metadata" : {
        "cell.metadata.exec_info" : {
          "startTs" : 1606758078734,
          "endTs" : 1606758078947
        },
        "language" : "scala"
      },
      "language" : "scala",
      "source" : [
        "def gentrome( species: String, \n",
        "    genome: String, \n",
        "    transcriptome: String,\n",
        "    version: String,\n",
        "    subversion: String) = \n",
        "     s\"\"\"\n",
        "     {\n",
        "      \"species\": \"${species}\",\n",
        "      \"genome\": \"${genome}\",\n",
        "      \"transcriptome\": \"${transcriptome}\",\n",
        "      \"version\": \"${version}\",\n",
        "      \"subversion\": \"${subversion}\"\n",
        "    }\"\"\"\n",
        "\n",
        "def salmonIndex(\n",
        "    species: String, \n",
        "    genome: String, \n",
        "    transcriptome: String,\n",
        "    version: String,\n",
        "    subversion: String,\n",
        "    folder: String = \"\"    \n",
        "    ) = s\"\"\"\n",
        "{\"\"\" +\n",
        "  (if(folder!=\"\") s\"\"\" \"quant_index.indexes_folder\": \"${folder}\", \"\"\" else \"\") +\n",
        "  s\"\"\" \"quant_index.references\": [\n",
        "    ${gentrome(species, genome, transcriptome, version, subversion)}\n",
        "  ]\n",
        "}\n",
        "\"\"\".replace(\"\\t\", \"  \")\n",
        "salmonIndex(\"Homo sapiens\", s\"/data/ensembl/${release}/species/Homo_sapiens/Homo_sapiens.GRCh38.dna.primary_assembly.fa\", \n",
        "s\"/data/ensembl/${release}/species/Homo_sapiens/Homo_sapiens.GRCh38.cdna.all.fa\", \"GRCh38\", \n",
        "s\"ensembl_${release}\",s\"/data/indexes/salmon/${salmon_version}/ensembl_${release}\"\n",
        ")"
      ],
      "outputs" : [
        {
          "execution_count" : 20,
          "data" : {
            "text/plain" : [
              "\n",
              "{ \"quant_index.indexes_folder\": \"/data/indexes/salmon/1.3.0/ensembl_101\",  \"quant_index.references\": [\n",
              "    \n",
              "     {\n",
              "      \"species\": \"Homo sapiens\",\n",
              "      \"genome\": \"/data/ensembl/101/species/Homo_sapiens/Homo_sapiens.GRCh38.dna.primary_assembly.fa\",\n",
              "   "
            ]
          },
          "metadata" : {
            "name" : "Out",
            "type" : "String"
          },
          "output_type" : "execute_result"
        }
      ]
    },
    {
      "cell_type" : "code",
      "execution_count" : 21,
      "metadata" : {
        "cell.metadata.exec_info" : {
          "startTs" : 1606758078952,
          "endTs" : 1606758079289
        },
        "language" : "scala"
      },
      "language" : "scala",
      "source" : [
        "def index_input =  udf[String, String, String, String, String, String, String] {   (folder: String, species: String, genome: String, transcriptome: String, version: String, subversion: String) =>\n",
        "  s\"\"\"\n",
        "{\n",
        "  \"quant_index.indexes_folder\": \"${folder}\",\n",
        "  \"quant_index.references\": [\n",
        "    {\n",
        "      \"species\": \"${species}\",\n",
        "      \"genome\": \"${genome}\",\n",
        "      \"transcriptome\": \"${transcriptome}\",\n",
        "      \"version\": \"${version}\",\n",
        "      \"subversion\": \"${subversion}\"\n",
        "    }\n",
        "  ]\n",
        "}\n",
        "\"\"\".replace(\"\\t\", \" \").replace(\"\\n\", \"  \")\n",
        "}"
      ],
      "outputs" : [
      ]
    },
    {
      "cell_type" : "markdown",
      "execution_count" : 22,
      "metadata" : {
        "language" : "text"
      },
      "language" : "text",
      "source" : [
        "**Preparing the main table**\n",
        "\n",
        "\n"
      ],
      "outputs" : [
      ]
    },
    {
      "cell_type" : "markdown",
      "execution_count" : 23,
      "metadata" : {
        "language" : "text"
      },
      "language" : "text",
      "source" : [
        "Computing genomes table\n",
        "\n",
        "\n"
      ],
      "outputs" : [
      ]
    },
    {
      "cell_type" : "code",
      "execution_count" : 24,
      "metadata" : {
        "cell.metadata.exec_info" : {
          "startTs" : 1606758079294,
          "endTs" : 1606758080758
        },
        "language" : "scala"
      },
      "language" : "scala",
      "source" : [
        "import org.apache.spark.sql.functions._\n",
        "val genomes = species\n",
        "  .withColumn(\"download\", download($\"species\"))\n",
        "  .withColumn(\"index\", new_index($\"species\"))  \n",
        "  .withColumn(\"genome\", genome($\"species\", $\"assembly\"))\n",
        "  .withColumn(\"cdna\", cdna($\"species\", $\"assembly\"))\n",
        "  .withColumn(\"index_input\", index_input(lit(s\"/data/indexes/salmon/${salmon_version}/ensembl_${release}\"), $\"species\", $\"genome\", $\"cdna\", $\"assembly\", lit(s\"ensembl_${release}\")))\n",
        "  .select(\"name\", \"species\", \"download\", \"assembly\", \"genome\", \"cdna\", \"index\", \"index_input\") \n",
        "  .withColumn(\"index_exists\", check_file_simple($\"index\"))\n",
        "  .withColumn(\"genome_exists\", check_file_simple($\"genome\"))\n",
        "  .withColumn(\"cdna_exists\", check_file_simple($\"cdna\"))\n",
        "  .withColumn(\"gtf\", gtf($\"species\", $\"assembly\"))\n",
        "  .withColumn(\"gtf_exists\", check_file_simple($\"gtf\"))\n",
        "  .withColumn(\"pep\", pep($\"species\", $\"assembly\"))\n",
        "  .withColumn(\"pep_exists\", check_file_simple($\"pep\"))\n",
        "  .select(\"name\", \"index\", \"index_exists\", \"species\", \"download\", \"assembly\", \"genome\", \"genome_exists\", \"cdna\", \"cdna_exists\", \"gtf\", \"gtf_exists\", \"pep\", \"pep_exists\")  \n",
        " genomes.show(100,1000)"
      ],
      "outputs" : [
        {
          "name" : "stdout",
          "text" : [
            "+------------------------------+-----------------------------------------------------------------------+------------+--------------------------------+--------------------------------------------------------------------------------------------------------------------------------------------------------------------------------------------------------------------------------------------------------------------------------------------------------------------------------------------------------------------------------------------------------------------------------------------------------------------------------------------------------------+------------------------------+--------------------------------------------------------------------------------------------------------------------------+-------------+----------------------------------------------------------------------------------------------------------------------+-----------+------------------------------------------------------------------------------------------------------------------+----------+---------------------------------------------------------------------------------------------------------------------+----------+\n",
            "|                          name|                                                                  index|index_exists|                         species|                                                                                                                                                                                                                                                                                                                                                                                                                                                                                                      download|                      assembly|                                                                                                                    genome|genome_exists|                                                                                                                  cdna|cdna_exists|                                                                                                               gtf|gtf_exists|                                                                                                                  pep|pep_exists|\n",
            "+------------------------------+-----------------------------------------------------------------------+------------+--------------------------------+--------------------------------------------------------------------------------------------------------------------------------------------------------------------------------------------------------------------------------------------------------------------------------------------------------------------------------------------------------------------------------------------------------------------------------------------------------------------------------------------------------------+------------------------------+--------------------------------------------------------------------------------------------------------------------------+-------------+----------------------------------------------------------------------------------------------------------------------+-----------+------------------------------------------------------------------------------------------------------------------+----------+---------------------------------------------------------------------------------------------------------------------+----------+\n",
            "|                 Spiny chromis|     /data/indexes/salmon/1.3.0/ensembl_101/Acanthochromis_polyacanthus|       false|     Acanthochromis_polyacanthus|                              mkdir -p /data/ensembl/101/species/Acanthochromis_polyacanthus && wget -t 4 -m -nH --cut-dirs=100 -P /data/ensembl/101/species/Acanthochromis_polyacanthus ftp://ftp.ensembl.org/pub/release-101/gtf/acanthochromis_polyacanthus/* && wget -t 4 -m -nH --cut-dirs=100 -P /data/ensembl/101/species/Acanthochromis_polyacanthus ftp://ftp.ensembl.org/pub/release-101/fasta/acanthochromis_polyacanthus/* && gunzip -f /data/ensembl/101/species/Acanthochromis_polyacanthus/*.gz|                   ASM210954v1|             /data/ensembl/101/species/Acanthochromis_polyacanthus/Acanthochromis_polyacanthus.ASM210954v1.dna.toplevel.fa|         true|             /data/ensembl/101/species/Acanthochromis_polyacanthus/Acanthochromis_polyacanthus.ASM210954v1.cdna.all.fa|       true|             /data/ensembl/101/species/Acanthochromis_polyacanthus/Acanthochromis_polyacanthus.ASM210954v1.101.gtf|      true|             /data/ensembl/101/species/Acanthochromis_polyacanthus/Acanthochromis_polyacanthus.ASM210954v1.pep.all.fa|      true|\n",
            "|          Eurasian sparrowhawk|                 /data/indexes/salmon/1.3.0/ensembl_101/Accipiter_nisus|       false|                 Accipiter_nisus|                                                                                                      mkdir -p /data/ensembl/101/species/Accipiter_nisus && wget -t 4 -m -nH --cut-dirs=100 -P /data/ensembl/101/species/Accipiter_nisus ftp://ftp.ensembl.org/pub/release-101/gtf/accipiter_nisus/* && wget -t 4 -m -nH --cut-dirs=100 -P /data/ensembl/101/species/Accipiter_nisus ftp://ftp.ensembl.org/pub/release-101/fasta/accipiter_nisus/* && gunzip -f /data/ensembl/101/species/Accipiter_nisus/*.gz|        Accipiter_nisus_ver1.0|                          /data/ensembl/101/species/Accipiter_nisus/Accipiter_nisus.Accipiter_nisus_ver1.0.dna.toplevel.fa|         true|                          /data/ensembl/101/species/Accipiter_nisus/Accipiter_nisus.Accipiter_nisus_ver1.0.cdna.all.fa|       true|                          /data/ensembl/101/species/Accipiter_nisus/Accipiter_nisus.Accipiter_nisus_ver1.0.101.gtf|      true|                          /data/ensembl/101/species/Accipiter_nisus/Accipiter_nisus.Accipiter_nisus_ver1.0.pep.all.fa|      true|\n",
            "|                         Panda|          /data/indexes/salmon/1.3.0/ensembl_101/Ailuropoda_melanoleuca|       false|          Ailuropoda_melanoleuca|                                                            mkdir -p /data/ensembl/101/species/Ailuropoda_melanoleuca && wget -t 4 -m -nH --cut-dirs=100 -P /data/ensembl/101/species/Ailuropoda_melanoleuca ftp://ftp.ensembl.org/pub/release-101/gtf/ailuropoda_melanoleuca/* && wget -t 4 -m -nH --cut-dirs=100 -P /data/ensembl/101/species/Ailuropoda_melanoleuca ftp://ftp.ensembl.org/pub/release-101/fasta/ailuropoda_melanoleuca/* && gunzip -f /data/ensembl/101/species/Ailuropoda_melanoleuca/*.gz|                       ailMel1|                           /data/ensembl/101/species/Ailuropoda_melanoleuca/Ailuropoda_melanoleuca.ailMel1.dna.toplevel.fa|         true|                           /data/ensembl/101/species/Ailuropoda_melanoleuca/Ailuropoda_melanoleuca.ailMel1.cdna.all.fa|       true|                           /data/ensembl/101/species/Ailuropoda_melanoleuca/Ailuropoda_melanoleuca.ailMel1.101.gtf|      true|                           /data/ensembl/101/species/Ailuropoda_melanoleuca/Ailuropoda_melanoleuca.ailMel1.pep.all.fa|      true|\n",
            "|          Yellow-billed parrot|                /data/indexes/salmon/1.3.0/ensembl_101/Amazona_collaria|       false|                Amazona_collaria|                                                                                                mkdir -p /data/ensembl/101/species/Amazona_collaria && wget -t 4 -m -nH --cut-dirs=100 -P /data/ensembl/101/species/Amazona_collaria ftp://ftp.ensembl.org/pub/release-101/gtf/amazona_collaria/* && wget -t 4 -m -nH --cut-dirs=100 -P /data/ensembl/101/species/Amazona_collaria ftp://ftp.ensembl.org/pub/release-101/fasta/amazona_collaria/* && gunzip -f /data/ensembl/101/species/Amazona_collaria/*.gz|                   ASM394721v1|                                   /data/ensembl/101/species/Amazona_collaria/Amazona_collaria.ASM394721v1.dna.toplevel.fa|         true|                                   /data/ensembl/101/species/Amazona_collaria/Amazona_collaria.ASM394721v1.cdna.all.fa|       true|                                   /data/ensembl/101/species/Amazona_collaria/Amazona_collaria.ASM394721v1.101.gtf|      true|                                   /data/ensembl/101/species/Amazona_collaria/Amazona_collaria.ASM394721v1.pep.all.fa|      true|\n",
            "|                 Midas cichlid|         /data/indexes/salmon/1.3.0/ensembl_101/Amphilophus_citrinellus|       false|         Amphilophus_citrinellus|                                                      mkdir -p /data/ensembl/101/species/Amphilophus_citrinellus && wget -t 4 -m -nH --cut-dirs=100 -P /data/ensembl/101/species/Amphilophus_citrinellus ftp://ftp.ensembl.org/pub/release-101/gtf/amphilophus_citrinellus/* && wget -t 4 -m -nH --cut-dirs=100 -P /data/ensembl/101/species/Amphilophus_citrinellus ftp://ftp.ensembl.org/pub/release-101/fasta/amphilophus_citrinellus/* && gunzip -f /data/ensembl/101/species/Amphilophus_citrinellus/*.gz|                      Midas_v5|                        /data/ensembl/101/species/Amphilophus_citrinellus/Amphilophus_citrinellus.Midas_v5.dna.toplevel.fa|         true|                        /data/ensembl/101/species/Amphilophus_citrinellus/Amphilophus_citrinellus.Midas_v5.cdna.all.fa|       true|                        /data/ensembl/101/species/Amphilophus_citrinellus/Amphilophus_citrinellus.Midas_v5.101.gtf|      true|                        /data/ensembl/101/species/Amphilophus_citrinellus/Amphilophus_citrinellus.Midas_v5.pep.all.fa|      true|\n",
            "|             Clown anemonefish|            /data/indexes/salmon/1.3.0/ensembl_101/Amphiprion_ocellaris|       false|            Amphiprion_ocellaris|                                                                        mkdir -p /data/ensembl/101/species/Amphiprion_ocellaris && wget -t 4 -m -nH --cut-dirs=100 -P /data/ensembl/101/species/Amphiprion_ocellaris ftp://ftp.ensembl.org/pub/release-101/gtf/amphiprion_ocellaris/* && wget -t 4 -m -nH --cut-dirs=100 -P /data/ensembl/101/species/Amphiprion_ocellaris ftp://ftp.ensembl.org/pub/release-101/fasta/amphiprion_ocellaris/* && gunzip -f /data/ensembl/101/species/Amphiprion_ocellaris/*.gz|                     AmpOce1.0|                             /data/ensembl/101/species/Amphiprion_ocellaris/Amphiprion_ocellaris.AmpOce1.0.dna.toplevel.fa|         true|                             /data/ensembl/101/species/Amphiprion_ocellaris/Amphiprion_ocellaris.AmpOce1.0.cdna.all.fa|       true|                             /data/ensembl/101/species/Amphiprion_ocellaris/Amphiprion_ocellaris.AmpOce1.0.101.gtf|      true|                             /data/ensembl/101/species/Amphiprion_ocellaris/Amphiprion_ocellaris.AmpOce1.0.pep.all.fa|      true|\n",
            "|              Orange clownfish|              /data/indexes/salmon/1.3.0/ensembl_101/Amphiprion_percula|       false|              Amphiprion_percula|                                                                                    mkdir -p /data/ensembl/101/species/Amphiprion_percula && wget -t 4 -m -nH --cut-dirs=100 -P /data/ensembl/101/species/Amphiprion_percula ftp://ftp.ensembl.org/pub/release-101/gtf/amphiprion_percula/* && wget -t 4 -m -nH --cut-dirs=100 -P /data/ensembl/101/species/Amphiprion_percula ftp://ftp.ensembl.org/pub/release-101/fasta/amphiprion_percula/* && gunzip -f /data/ensembl/101/species/Amphiprion_percula/*.gz|                       Nemo_v1|                                   /data/ensembl/101/species/Amphiprion_percula/Amphiprion_percula.Nemo_v1.dna.toplevel.fa|         true|                                   /data/ensembl/101/species/Amphiprion_percula/Amphiprion_percula.Nemo_v1.cdna.all.fa|       true|                                   /data/ensembl/101/species/Amphiprion_percula/Amphiprion_percula.Nemo_v1.101.gtf|      true|                                   /data/ensembl/101/species/Amphiprion_percula/Amphiprion_percula.Nemo_v1.pep.all.fa|      true|\n",
            "|                Climbing perch|              /data/indexes/salmon/1.3.0/ensembl_101/Anabas_testudineus|       false|              Anabas_testudineus|                                                                                    mkdir -p /data/ensembl/101/species/Anabas_testudineus && wget -t 4 -m -nH --cut-dirs=100 -P /data/ensembl/101/species/Anabas_testudineus ftp://ftp.ensembl.org/pub/release-101/gtf/anabas_testudineus/* && wget -t 4 -m -nH --cut-dirs=100 -P /data/ensembl/101/species/Anabas_testudineus ftp://ftp.ensembl.org/pub/release-101/fasta/anabas_testudineus/* && gunzip -f /data/ensembl/101/species/Anabas_testudineus/*.gz|                    fAnaTes1.1|                                /data/ensembl/101/species/Anabas_testudineus/Anabas_testudineus.fAnaTes1.1.dna.toplevel.fa|         true|                                /data/ensembl/101/species/Anabas_testudineus/Anabas_testudineus.fAnaTes1.1.cdna.all.fa|       true|                                /data/ensembl/101/species/Anabas_testudineus/Anabas_testudineus.fAnaTes1.1.101.gtf|      true|                                /data/ensembl/101/species/Anabas_testudineus/Anabas_testudineus.fAnaTes1.1.pep.all.fa|      true|\n",
            "|                       Mallard|              /data/indexes/salmon/1.3.0/ensembl_101/Anas_platyrhynchos|       false|              Anas_platyrhynchos|                                                                                    mkdir -p /data/ensembl/101/species/Anas_platyrhynchos && wget -t 4 -m -nH --cut-dirs=100 -P /data/ensembl/101/species/Anas_platyrhynchos ftp://ftp.ensembl.org/pub/release-101/gtf/anas_platyrhynchos/* && wget -t 4 -m -nH --cut-dirs=100 -P /data/ensembl/101/species/Anas_platyrhynchos ftp://ftp.ensembl.org/pub/release-101/fasta/anas_platyrhynchos/* && gunzip -f /data/ensembl/101/species/Anas_platyrhynchos/*.gz|                   ASM874695v1|                               /data/ensembl/101/species/Anas_platyrhynchos/Anas_platyrhynchos.ASM874695v1.dna.toplevel.fa|         true|                               /data/ensembl/101/species/Anas_platyrhynchos/Anas_platyrhynchos.ASM874695v1.cdna.all.fa|       true|                               /data/ensembl/101/species/Anas_platyrhynchos/Anas_platyrhynchos.ASM874695v1.101.gtf|      true|                               /data/ensembl/101/species/Anas_platyrhynchos/Anas_platyrhynchos.ASM874695v1.pep.all.fa|      true|\n",
            "|                          Duck|/data/indexes/salmon/1.3.0/ensembl_101/Anas_platyrhynchos_platyrhynchos|       false|Anas_platyrhynchos_platyrhynchos|mkdir -p /data/ensembl/101/species/Anas_platyrhynchos_platyrhynchos && wget -t 4 -m -nH --cut-dirs=100 -P /data/ensembl/101/species/Anas_platyrhynchos_platyrhynchos ftp://ftp.ensembl.org/pub/release-101/gtf/anas_platyrhynchos_platyrhynchos/* && wget -t 4 -m -nH --cut-dirs=100 -P /data/ensembl/101/species/Anas_platyrhynchos_platyrhynchos ftp://ftp.ensembl.org/pub/release-101/fasta/anas_platyrhynchos_platyrhynchos/* && gunzip -f /data/ensembl/101/species/Anas_platyrhynchos_platyrhynchos/*.gz|                   CAU_duck1.0|   /data/ensembl/101/species/Anas_platyrhynchos_platyrhynchos/Anas_platyrhynchos_platyrhynchos.CAU_duck1.0.dna.toplevel.fa|         true|   /data/ensembl/101/species/Anas_platyrhynchos_platyrhynchos/Anas_platyrhynchos_platyrhynchos.CAU_duck1.0.cdna.all.fa|       true|   /data/ensembl/101/species/Anas_platyrhynchos_platyrhynchos/Anas_platyrhynchos_platyrhynchos.CAU_duck1.0.101.gtf|      true|   /data/ensembl/101/species/Anas_platyrhynchos_platyrhynchos/Anas_platyrhynchos_platyrhynchos.CAU_duck1.0.pep.all.fa|      true|\n",
            "|      Eastern spot-billed duck|                /data/indexes/salmon/1.3.0/ensembl_101/Anas_zonorhyncha|       false|                Anas_zonorhyncha|                                                                                                mkdir -p /data/ensembl/101/species/Anas_zonorhyncha && wget -t 4 -m -nH --cut-dirs=100 -P /data/ensembl/101/species/Anas_zonorhyncha ftp://ftp.ensembl.org/pub/release-101/gtf/anas_zonorhyncha/* && wget -t 4 -m -nH --cut-dirs=100 -P /data/ensembl/101/species/Anas_zonorhyncha ftp://ftp.ensembl.org/pub/release-101/fasta/anas_zonorhyncha/* && gunzip -f /data/ensembl/101/species/Anas_zonorhyncha/*.gz|                   ASM222487v1|                                   /data/ensembl/101/species/Anas_zonorhyncha/Anas_zonorhyncha.ASM222487v1.dna.toplevel.fa|         true|                                   /data/ensembl/101/species/Anas_zonorhyncha/Anas_zonorhyncha.ASM222487v1.cdna.all.fa|       true|                                   /data/ensembl/101/species/Anas_zonorhyncha/Anas_zonorhyncha.ASM222487v1.101.gtf|      true|                                   /data/ensembl/101/species/Anas_zonorhyncha/Anas_zonorhyncha.ASM222487v1.pep.all.fa|      true|\n",
            "|                  Anole lizard|             /data/indexes/salmon/1.3.0/ensembl_101/Anolis_carolinensis|       false|             Anolis_carolinensis|                                                                              mkdir -p /data/ensembl/101/species/Anolis_carolinensis && wget -t 4 -m -nH --cut-dirs=100 -P /data/ensembl/101/species/Anolis_carolinensis ftp://ftp.ensembl.org/pub/release-101/gtf/anolis_carolinensis/* && wget -t 4 -m -nH --cut-dirs=100 -P /data/ensembl/101/species/Anolis_carolinensis ftp://ftp.ensembl.org/pub/release-101/fasta/anolis_carolinensis/* && gunzip -f /data/ensembl/101/species/Anolis_carolinensis/*.gz|                     AnoCar2.0|                               /data/ensembl/101/species/Anolis_carolinensis/Anolis_carolinensis.AnoCar2.0.dna.toplevel.fa|         true|                               /data/ensembl/101/species/Anolis_carolinensis/Anolis_carolinensis.AnoCar2.0.cdna.all.fa|       true|                               /data/ensembl/101/species/Anolis_carolinensis/Anolis_carolinensis.AnoCar2.0.101.gtf|      true|                               /data/ensembl/101/species/Anolis_carolinensis/Anolis_carolinensis.AnoCar2.0.pep.all.fa|      true|\n",
            "|             Pink-footed goose|            /data/indexes/salmon/1.3.0/ensembl_101/Anser_brachyrhynchus|       false|            Anser_brachyrhynchus|                                                                        mkdir -p /data/ensembl/101/species/Anser_brachyrhynchus && wget -t 4 -m -nH --cut-dirs=100 -P /data/ensembl/101/species/Anser_brachyrhynchus ftp://ftp.ensembl.org/pub/release-101/gtf/anser_brachyrhynchus/* && wget -t 4 -m -nH --cut-dirs=100 -P /data/ensembl/101/species/Anser_brachyrhynchus ftp://ftp.ensembl.org/pub/release-101/fasta/anser_brachyrhynchus/* && gunzip -f /data/ensembl/101/species/Anser_brachyrhynchus/*.gz|                   ASM259213v1|                           /data/ensembl/101/species/Anser_brachyrhynchus/Anser_brachyrhynchus.ASM259213v1.dna.toplevel.fa|         true|                           /data/ensembl/101/species/Anser_brachyrhynchus/Anser_brachyrhynchus.ASM259213v1.cdna.all.fa|       true|                           /data/ensembl/101/species/Anser_brachyrhynchus/Anser_brachyrhynchus.ASM259213v1.101.gtf|      true|                           /data/ensembl/101/species/Anser_brachyrhynchus/Anser_brachyrhynchus.ASM259213v1.pep.all.fa|      true|\n",
            "|                    Swan goose|                 /data/indexes/salmon/1.3.0/ensembl_101/Anser_cygnoides|       false|                 Anser_cygnoides|                                                                                                      mkdir -p /data/ensembl/101/species/Anser_cygnoides && wget -t 4 -m -nH --cut-dirs=100 -P /data/ensembl/101/species/Anser_cygnoides ftp://ftp.ensembl.org/pub/release-101/gtf/anser_cygnoides/* && wget -t 4 -m -nH --cut-dirs=100 -P /data/ensembl/101/species/Anser_cygnoides ftp://ftp.ensembl.org/pub/release-101/fasta/anser_cygnoides/* && gunzip -f /data/ensembl/101/species/Anser_cygnoides/*.gz|                     GooseV1.0|                                       /data/ensembl/101/species/Anser_cygnoides/Anser_cygnoides.GooseV1.0.dna.toplevel.fa|         true|                                       /data/ensembl/101/species/Anser_cygnoides/Anser_cygnoides.GooseV1.0.cdna.all.fa|       true|                                       /data/ensembl/101/species/Anser_cygnoides/Anser_cygnoides.GooseV1.0.101.gtf|      true|                                       /data/ensembl/101/species/Anser_cygnoides/Anser_cygnoides.GooseV1.0.pep.all.fa|      true|\n",
            "|             Ma's night monkey|                 /data/indexes/salmon/1.3.0/ensembl_101/Aotus_nancymaae|       false|                 Aotus_nancymaae|                                                                                                      mkdir -p /data/ensembl/101/species/Aotus_nancymaae && wget -t 4 -m -nH --cut-dirs=100 -P /data/ensembl/101/species/Aotus_nancymaae ftp://ftp.ensembl.org/pub/release-101/gtf/aotus_nancymaae/* && wget -t 4 -m -nH --cut-dirs=100 -P /data/ensembl/101/species/Aotus_nancymaae ftp://ftp.ensembl.org/pub/release-101/fasta/aotus_nancymaae/* && gunzip -f /data/ensembl/101/species/Aotus_nancymaae/*.gz|                      Anan_2.0|                                        /data/ensembl/101/species/Aotus_nancymaae/Aotus_nancymaae.Anan_2.0.dna.toplevel.fa|         true|                                        /data/ensembl/101/species/Aotus_nancymaae/Aotus_nancymaae.Anan_2.0.cdna.all.fa|       true|                                        /data/ensembl/101/species/Aotus_nancymaae/Aotus_nancymaae.Anan_2.0.101.gtf|      true|                                        /data/ensembl/101/species/Aotus_nancymaae/Aotus_nancymaae.Anan_2.0.pep.all.fa|      true|\n",
            "|            Great spotted kiwi|                 /data/indexes/salmon/1.3.0/ensembl_101/Apteryx_haastii|       false|                 Apteryx_haastii|                                                                                                      mkdir -p /data/ensembl/101/species/Apteryx_haastii && wget -t 4 -m -nH --cut-dirs=100 -P /data/ensembl/101/species/Apteryx_haastii ftp://ftp.ensembl.org/pub/release-101/gtf/apteryx_haastii/* && wget -t 4 -m -nH --cut-dirs=100 -P /data/ensembl/101/species/Apteryx_haastii ftp://ftp.ensembl.org/pub/release-101/fasta/apteryx_haastii/* && gunzip -f /data/ensembl/101/species/Apteryx_haastii/*.gz|                       aptHaa1|                                         /data/ensembl/101/species/Apteryx_haastii/Apteryx_haastii.aptHaa1.dna.toplevel.fa|         true|                                         /data/ensembl/101/species/Apteryx_haastii/Apteryx_haastii.aptHaa1.cdna.all.fa|       true|                                         /data/ensembl/101/species/Apteryx_haastii/Apteryx_haastii.aptHaa1.101.gtf|      true|                                         /data/ensembl/101/species/Apteryx_haastii/Apteryx_haastii.aptHaa1.pep.all.fa|      true|\n",
            "|           Little spotted kiwi|                  /data/indexes/salmon/1.3.0/ensembl_101/Apteryx_owenii|       false|                  Apteryx_owenii|                                                                                                            mkdir -p /data/ensembl/101/species/Apteryx_owenii && wget -t 4 -m -nH --cut-dirs=100 -P /data/ensembl/101/species/Apteryx_owenii ftp://ftp.ensembl.org/pub/release-101/gtf/apteryx_owenii/* && wget -t 4 -m -nH --cut-dirs=100 -P /data/ensembl/101/species/Apteryx_owenii ftp://ftp.ensembl.org/pub/release-101/fasta/apteryx_owenii/* && gunzip -f /data/ensembl/101/species/Apteryx_owenii/*.gz|                       aptOwe1|                                           /data/ensembl/101/species/Apteryx_owenii/Apteryx_owenii.aptOwe1.dna.toplevel.fa|         true|                                           /data/ensembl/101/species/Apteryx_owenii/Apteryx_owenii.aptOwe1.cdna.all.fa|       true|                                           /data/ensembl/101/species/Apteryx_owenii/Apteryx_owenii.aptOwe1.101.gtf|      true|                                           /data/ensembl/101/species/Apteryx_owenii/Apteryx_owenii.aptOwe1.pep.all.fa|      true|\n",
            "|            Okarito brown kiwi|                    /data/indexes/salmon/1.3.0/ensembl_101/Apteryx_rowi|       false|                    Apteryx_rowi|                                                                                                                        mkdir -p /data/ensembl/101/species/Apteryx_rowi && wget -t 4 -m -nH --cut-dirs=100 -P /data/ensembl/101/species/Apteryx_rowi ftp://ftp.ensembl.org/pub/release-101/gtf/apteryx_rowi/* && wget -t 4 -m -nH --cut-dirs=100 -P /data/ensembl/101/species/Apteryx_rowi ftp://ftp.ensembl.org/pub/release-101/fasta/apteryx_rowi/* && gunzip -f /data/ensembl/101/species/Apteryx_rowi/*.gz|                       aptRow1|                                               /data/ensembl/101/species/Apteryx_rowi/Apteryx_rowi.aptRow1.dna.toplevel.fa|         true|                                               /data/ensembl/101/species/Apteryx_rowi/Apteryx_rowi.aptRow1.cdna.all.fa|       true|                                               /data/ensembl/101/species/Apteryx_rowi/Apteryx_rowi.aptRow1.101.gtf|      true|                                               /data/ensembl/101/species/Apteryx_rowi/Apteryx_rowi.aptRow1.pep.all.fa|      true|\n",
            "|                  Golden eagle|    /data/indexes/salmon/1.3.0/ensembl_101/Aquila_chrysaetos_chrysaetos|       false|    Aquila_chrysaetos_chrysaetos|                        mkdir -p /data/ensembl/101/species/Aquila_chrysaetos_chrysaetos && wget -t 4 -m -nH --cut-dirs=100 -P /data/ensembl/101/species/Aquila_chrysaetos_chrysaetos ftp://ftp.ensembl.org/pub/release-101/gtf/aquila_chrysaetos_chrysaetos/* && wget -t 4 -m -nH --cut-dirs=100 -P /data/ensembl/101/species/Aquila_chrysaetos_chrysaetos ftp://ftp.ensembl.org/pub/release-101/fasta/aquila_chrysaetos_chrysaetos/* && gunzip -f /data/ensembl/101/species/Aquila_chrysaetos_chrysaetos/*.gz|                    bAquChr1.2|            /data/ensembl/101/species/Aquila_chrysaetos_chrysaetos/Aquila_chrysaetos_chrysaetos.bAquChr1.2.dna.toplevel.fa|         true|            /data/ensembl/101/species/Aquila_chrysaetos_chrysaetos/Aquila_chrysaetos_chrysaetos.bAquChr1.2.cdna.all.fa|       true|            /data/ensembl/101/species/Aquila_chrysaetos_chrysaetos/Aquila_chrysaetos_chrysaetos.bAquChr1.2.101.gtf|      true|            /data/ensembl/101/species/Aquila_chrysaetos_chrysaetos/Aquila_chrysaetos_chrysaetos.bAquChr1.2.pep.all.fa|      true|\n",
            "|                 Eastern happy|        /data/indexes/salmon/1.3.0/ensembl_101/Astatotilapia_calliptera|       false|        Astatotilapia_calliptera|                                                mkdir -p /data/ensembl/101/species/Astatotilapia_calliptera && wget -t 4 -m -nH --cut-dirs=100 -P /data/ensembl/101/species/Astatotilapia_calliptera ftp://ftp.ensembl.org/pub/release-101/gtf/astatotilapia_calliptera/* && wget -t 4 -m -nH --cut-dirs=100 -P /data/ensembl/101/species/Astatotilapia_calliptera ftp://ftp.ensembl.org/pub/release-101/fasta/astatotilapia_calliptera/* && gunzip -f /data/ensembl/101/species/Astatotilapia_calliptera/*.gz|                    fAstCal1.2|                    /data/ensembl/101/species/Astatotilapia_calliptera/Astatotilapia_calliptera.fAstCal1.2.dna.toplevel.fa|         true|                    /data/ensembl/101/species/Astatotilapia_calliptera/Astatotilapia_calliptera.fAstCal1.2.cdna.all.fa|       true|                    /data/ensembl/101/species/Astatotilapia_calliptera/Astatotilapia_calliptera.fAstCal1.2.101.gtf|      true|                    /data/ensembl/101/species/Astatotilapia_calliptera/Astatotilapia_calliptera.fAstCal1.2.pep.all.fa|      true|\n",
            "|                 Mexican tetra|              /data/indexes/salmon/1.3.0/ensembl_101/Astyanax_mexicanus|       false|              Astyanax_mexicanus|                                                                                    mkdir -p /data/ensembl/101/species/Astyanax_mexicanus && wget -t 4 -m -nH --cut-dirs=100 -P /data/ensembl/101/species/Astyanax_mexicanus ftp://ftp.ensembl.org/pub/release-101/gtf/astyanax_mexicanus/* && wget -t 4 -m -nH --cut-dirs=100 -P /data/ensembl/101/species/Astyanax_mexicanus ftp://ftp.ensembl.org/pub/release-101/fasta/astyanax_mexicanus/* && gunzip -f /data/ensembl/101/species/Astyanax_mexicanus/*.gz|        Astyanax_mexicanus-2.0|                    /data/ensembl/101/species/Astyanax_mexicanus/Astyanax_mexicanus.Astyanax_mexicanus-2.0.dna.toplevel.fa|         true|                    /data/ensembl/101/species/Astyanax_mexicanus/Astyanax_mexicanus.Astyanax_mexicanus-2.0.cdna.all.fa|       true|                    /data/ensembl/101/species/Astyanax_mexicanus/Astyanax_mexicanus.Astyanax_mexicanus-2.0.101.gtf|      true|                    /data/ensembl/101/species/Astyanax_mexicanus/Astyanax_mexicanus.Astyanax_mexicanus-2.0.pep.all.fa|      true|\n",
            "|               Pachon cavefish|       /data/indexes/salmon/1.3.0/ensembl_101/Astyanax_mexicanus_pachon|       false|       Astyanax_mexicanus_pachon|                                          mkdir -p /data/ensembl/101/species/Astyanax_mexicanus_pachon && wget -t 4 -m -nH --cut-dirs=100 -P /data/ensembl/101/species/Astyanax_mexicanus_pachon ftp://ftp.ensembl.org/pub/release-101/gtf/astyanax_mexicanus_pachon/* && wget -t 4 -m -nH --cut-dirs=100 -P /data/ensembl/101/species/Astyanax_mexicanus_pachon ftp://ftp.ensembl.org/pub/release-101/fasta/astyanax_mexicanus_pachon/* && gunzip -f /data/ensembl/101/species/Astyanax_mexicanus_pachon/*.gz|      Astyanax_mexicanus-1.0.2|    /data/ensembl/101/species/Astyanax_mexicanus_pachon/Astyanax_mexicanus_pachon.Astyanax_mexicanus-1.0.2.dna.toplevel.fa|         true|    /data/ensembl/101/species/Astyanax_mexicanus_pachon/Astyanax_mexicanus_pachon.Astyanax_mexicanus-1.0.2.cdna.all.fa|       true|    /data/ensembl/101/species/Astyanax_mexicanus_pachon/Astyanax_mexicanus_pachon.Astyanax_mexicanus-1.0.2.101.gtf|      true|    /data/ensembl/101/species/Astyanax_mexicanus_pachon/Astyanax_mexicanus_pachon.Astyanax_mexicanus-1.0.2.pep.all.fa|      true|\n",
            "|                 Burrowing owl|              /data/indexes/salmon/1.3.0/ensembl_101/Athene_cunicularia|       false|              Athene_cunicularia|                                                                                    mkdir -p /data/ensembl/101/species/Athene_cunicularia && wget -t 4 -m -nH --cut-dirs=100 -P /data/ensembl/101/species/Athene_cunicularia ftp://ftp.ensembl.org/pub/release-101/gtf/athene_cunicularia/* && wget -t 4 -m -nH --cut-dirs=100 -P /data/ensembl/101/species/Athene_cunicularia ftp://ftp.ensembl.org/pub/release-101/fasta/athene_cunicularia/* && gunzip -f /data/ensembl/101/species/Athene_cunicularia/*.gz|                       athCun1|                                   /data/ensembl/101/species/Athene_cunicularia/Athene_cunicularia.athCun1.dna.toplevel.fa|         true|                                   /data/ensembl/101/species/Athene_cunicularia/Athene_cunicularia.athCun1.cdna.all.fa|       true|                                   /data/ensembl/101/species/Athene_cunicularia/Athene_cunicularia.athCun1.101.gtf|      true|                                   /data/ensembl/101/species/Athene_cunicularia/Athene_cunicularia.athCun1.pep.all.fa|      true|\n",
            "|                    Blue whale|           /data/indexes/salmon/1.3.0/ensembl_101/Balaenoptera_musculus|       false|           Balaenoptera_musculus|                                                                  mkdir -p /data/ensembl/101/species/Balaenoptera_musculus && wget -t 4 -m -nH --cut-dirs=100 -P /data/ensembl/101/species/Balaenoptera_musculus ftp://ftp.ensembl.org/pub/release-101/gtf/balaenoptera_musculus/* && wget -t 4 -m -nH --cut-dirs=100 -P /data/ensembl/101/species/Balaenoptera_musculus ftp://ftp.ensembl.org/pub/release-101/fasta/balaenoptera_musculus/* && gunzip -f /data/ensembl/101/species/Balaenoptera_musculus/*.gz|                   mBalMus1.v2|                         /data/ensembl/101/species/Balaenoptera_musculus/Balaenoptera_musculus.mBalMus1.v2.dna.toplevel.fa|         true|                         /data/ensembl/101/species/Balaenoptera_musculus/Balaenoptera_musculus.mBalMus1.v2.cdna.all.fa|       true|                         /data/ensembl/101/species/Balaenoptera_musculus/Balaenoptera_musculus.mBalMus1.v2.101.gtf|      true|                         /data/ensembl/101/species/Balaenoptera_musculus/Balaenoptera_musculus.mBalMus1.v2.pep.all.fa|      true|\n",
            "|         Siamese fighting fish|                 /data/indexes/salmon/1.3.0/ensembl_101/Betta_splendens|       false|                 Betta_splendens|                                                                                                      mkdir -p /data/ensembl/101/species/Betta_splendens && wget -t 4 -m -nH --cut-dirs=100 -P /data/ensembl/101/species/Betta_splendens ftp://ftp.ensembl.org/pub/release-101/gtf/betta_splendens/* && wget -t 4 -m -nH --cut-dirs=100 -P /data/ensembl/101/species/Betta_splendens ftp://ftp.ensembl.org/pub/release-101/fasta/betta_splendens/* && gunzip -f /data/ensembl/101/species/Betta_splendens/*.gz|                    fBetSpl5.2|                                      /data/ensembl/101/species/Betta_splendens/Betta_splendens.fBetSpl5.2.dna.toplevel.fa|         true|                                      /data/ensembl/101/species/Betta_splendens/Betta_splendens.fBetSpl5.2.cdna.all.fa|       true|                                      /data/ensembl/101/species/Betta_splendens/Betta_splendens.fBetSpl5.2.101.gtf|      true|                                      /data/ensembl/101/species/Betta_splendens/Betta_splendens.fBetSpl5.2.pep.all.fa|      true|\n",
            "|                American bison|               /data/indexes/salmon/1.3.0/ensembl_101/Bison_bison_bison|       false|               Bison_bison_bison|                                                                                          mkdir -p /data/ensembl/101/species/Bison_bison_bison && wget -t 4 -m -nH --cut-dirs=100 -P /data/ensembl/101/species/Bison_bison_bison ftp://ftp.ensembl.org/pub/release-101/gtf/bison_bison_bison/* && wget -t 4 -m -nH --cut-dirs=100 -P /data/ensembl/101/species/Bison_bison_bison ftp://ftp.ensembl.org/pub/release-101/fasta/bison_bison_bison/* && gunzip -f /data/ensembl/101/species/Bison_bison_bison/*.gz|                  Bison_UMD1.0|                                /data/ensembl/101/species/Bison_bison_bison/Bison_bison_bison.Bison_UMD1.0.dna.toplevel.fa|         true|                                /data/ensembl/101/species/Bison_bison_bison/Bison_bison_bison.Bison_UMD1.0.cdna.all.fa|       true|                                /data/ensembl/101/species/Bison_bison_bison/Bison_bison_bison.Bison_UMD1.0.101.gtf|      true|                                /data/ensembl/101/species/Bison_bison_bison/Bison_bison_bison.Bison_UMD1.0.pep.all.fa|      true|\n",
            "|                  Domestic yak|                   /data/indexes/salmon/1.3.0/ensembl_101/Bos_grunniens|       false|                   Bos_grunniens|                                                                                                                  mkdir -p /data/ensembl/101/species/Bos_grunniens && wget -t 4 -m -nH --cut-dirs=100 -P /data/ensembl/101/species/Bos_grunniens ftp://ftp.ensembl.org/pub/release-101/gtf/bos_grunniens/* && wget -t 4 -m -nH --cut-dirs=100 -P /data/ensembl/101/species/Bos_grunniens ftp://ftp.ensembl.org/pub/release-101/fasta/bos_grunniens/* && gunzip -f /data/ensembl/101/species/Bos_grunniens/*.gz|                LU_Bosgru_v3.0|                                      /data/ensembl/101/species/Bos_grunniens/Bos_grunniens.LU_Bosgru_v3.0.dna.toplevel.fa|         true|                                      /data/ensembl/101/species/Bos_grunniens/Bos_grunniens.LU_Bosgru_v3.0.cdna.all.fa|       true|                                      /data/ensembl/101/species/Bos_grunniens/Bos_grunniens.LU_Bosgru_v3.0.101.gtf|      true|                                      /data/ensembl/101/species/Bos_grunniens/Bos_grunniens.LU_Bosgru_v3.0.pep.all.fa|      true|\n",
            "|          Hybrid - Bos Indicus|              /data/indexes/salmon/1.3.0/ensembl_101/Bos_indicus_hybrid|       false|              Bos_indicus_hybrid|                                                                                    mkdir -p /data/ensembl/101/species/Bos_indicus_hybrid && wget -t 4 -m -nH --cut-dirs=100 -P /data/ensembl/101/species/Bos_indicus_hybrid ftp://ftp.ensembl.org/pub/release-101/gtf/bos_indicus_hybrid/* && wget -t 4 -m -nH --cut-dirs=100 -P /data/ensembl/101/species/Bos_indicus_hybrid ftp://ftp.ensembl.org/pub/release-101/fasta/bos_indicus_hybrid/* && gunzip -f /data/ensembl/101/species/Bos_indicus_hybrid/*.gz|                 UOA_Brahman_1|                             /data/ensembl/101/species/Bos_indicus_hybrid/Bos_indicus_hybrid.UOA_Brahman_1.dna.toplevel.fa|         true|                             /data/ensembl/101/species/Bos_indicus_hybrid/Bos_indicus_hybrid.UOA_Brahman_1.cdna.all.fa|       true|                             /data/ensembl/101/species/Bos_indicus_hybrid/Bos_indicus_hybrid.UOA_Brahman_1.101.gtf|      true|                             /data/ensembl/101/species/Bos_indicus_hybrid/Bos_indicus_hybrid.UOA_Brahman_1.pep.all.fa|      true|\n",
            "|                      Wild yak|                       /data/indexes/salmon/1.3.0/ensembl_101/Bos_mutus|       false|                       Bos_mutus|                                                                                                                                          mkdir -p /data/ensembl/101/species/Bos_mutus && wget -t 4 -m -nH --cut-dirs=100 -P /data/ensembl/101/species/Bos_mutus ftp://ftp.ensembl.org/pub/release-101/gtf/bos_mutus/* && wget -t 4 -m -nH --cut-dirs=100 -P /data/ensembl/101/species/Bos_mutus ftp://ftp.ensembl.org/pub/release-101/fasta/bos_mutus/* && gunzip -f /data/ensembl/101/species/Bos_mutus/*.gz|                   BosGru_v2.0|                                                 /data/ensembl/101/species/Bos_mutus/Bos_mutus.BosGru_v2.0.dna.toplevel.fa|         true|                                                 /data/ensembl/101/species/Bos_mutus/Bos_mutus.BosGru_v2.0.cdna.all.fa|       true|                                                 /data/ensembl/101/species/Bos_mutus/Bos_mutus.BosGru_v2.0.101.gtf|      true|                                                 /data/ensembl/101/species/Bos_mutus/Bos_mutus.BosGru_v2.0.pep.all.fa|      true|\n",
            "|                           Cow|                      /data/indexes/salmon/1.3.0/ensembl_101/Bos_taurus|       false|                      Bos_taurus|                                                                                                                                    mkdir -p /data/ensembl/101/species/Bos_taurus && wget -t 4 -m -nH --cut-dirs=100 -P /data/ensembl/101/species/Bos_taurus ftp://ftp.ensembl.org/pub/release-101/gtf/bos_taurus/* && wget -t 4 -m -nH --cut-dirs=100 -P /data/ensembl/101/species/Bos_taurus ftp://ftp.ensembl.org/pub/release-101/fasta/bos_taurus/* && gunzip -f /data/ensembl/101/species/Bos_taurus/*.gz|                    ARS-UCD1.2|                                                /data/ensembl/101/species/Bos_taurus/Bos_taurus.ARS-UCD1.2.dna.toplevel.fa|         true|                                                /data/ensembl/101/species/Bos_taurus/Bos_taurus.ARS-UCD1.2.cdna.all.fa|       true|                                                /data/ensembl/101/species/Bos_taurus/Bos_taurus.ARS-UCD1.2.101.gtf|      true|                                                /data/ensembl/101/species/Bos_taurus/Bos_taurus.ARS-UCD1.2.pep.all.fa|      true|\n",
            "|           Hybrid - Bos Taurus|               /data/indexes/salmon/1.3.0/ensembl_101/Bos_taurus_hybrid|       false|               Bos_taurus_hybrid|                                                                                          mkdir -p /data/ensembl/101/species/Bos_taurus_hybrid && wget -t 4 -m -nH --cut-dirs=100 -P /data/ensembl/101/species/Bos_taurus_hybrid ftp://ftp.ensembl.org/pub/release-101/gtf/bos_taurus_hybrid/* && wget -t 4 -m -nH --cut-dirs=100 -P /data/ensembl/101/species/Bos_taurus_hybrid ftp://ftp.ensembl.org/pub/release-101/fasta/bos_taurus_hybrid/* && gunzip -f /data/ensembl/101/species/Bos_taurus_hybrid/*.gz|                   UOA_Angus_1|                                 /data/ensembl/101/species/Bos_taurus_hybrid/Bos_taurus_hybrid.UOA_Angus_1.dna.toplevel.fa|         true|                                 /data/ensembl/101/species/Bos_taurus_hybrid/Bos_taurus_hybrid.UOA_Angus_1.cdna.all.fa|       true|                                 /data/ensembl/101/species/Bos_taurus_hybrid/Bos_taurus_hybrid.UOA_Angus_1.101.gtf|      true|                                 /data/ensembl/101/species/Bos_taurus_hybrid/Bos_taurus_hybrid.UOA_Angus_1.pep.all.fa|      true|\n",
            "|            Eurasian eagle-owl|                       /data/indexes/salmon/1.3.0/ensembl_101/Bubo_bubo|       false|                       Bubo_bubo|                                                                                                                                          mkdir -p /data/ensembl/101/species/Bubo_bubo && wget -t 4 -m -nH --cut-dirs=100 -P /data/ensembl/101/species/Bubo_bubo ftp://ftp.ensembl.org/pub/release-101/gtf/bubo_bubo/* && wget -t 4 -m -nH --cut-dirs=100 -P /data/ensembl/101/species/Bubo_bubo ftp://ftp.ensembl.org/pub/release-101/fasta/bubo_bubo/* && gunzip -f /data/ensembl/101/species/Bubo_bubo/*.gz|                     BubBub1.0|                                                   /data/ensembl/101/species/Bubo_bubo/Bubo_bubo.BubBub1.0.dna.toplevel.fa|         true|                                                   /data/ensembl/101/species/Bubo_bubo/Bubo_bubo.BubBub1.0.cdna.all.fa|       true|                                                   /data/ensembl/101/species/Bubo_bubo/Bubo_bubo.BubBub1.0.101.gtf|      true|                                                   /data/ensembl/101/species/Bubo_bubo/Bubo_bubo.BubBub1.0.pep.all.fa|      true|\n",
            "|               Eastern buzzard|                 /data/indexes/salmon/1.3.0/ensembl_101/Buteo_japonicus|       false|                 Buteo_japonicus|                                                                                                      mkdir -p /data/ensembl/101/species/Buteo_japonicus && wget -t 4 -m -nH --cut-dirs=100 -P /data/ensembl/101/species/Buteo_japonicus ftp://ftp.ensembl.org/pub/release-101/gtf/buteo_japonicus/* && wget -t 4 -m -nH --cut-dirs=100 -P /data/ensembl/101/species/Buteo_japonicus ftp://ftp.ensembl.org/pub/release-101/fasta/buteo_japonicus/* && gunzip -f /data/ensembl/101/species/Buteo_japonicus/*.gz|                     ButJap1.0|                                       /data/ensembl/101/species/Buteo_japonicus/Buteo_japonicus.ButJap1.0.dna.toplevel.fa|         true|                                       /data/ensembl/101/species/Buteo_japonicus/Buteo_japonicus.ButJap1.0.cdna.all.fa|       true|                                       /data/ensembl/101/species/Buteo_japonicus/Buteo_japonicus.ButJap1.0.101.gtf|      true|                                       /data/ensembl/101/species/Buteo_japonicus/Buteo_japonicus.ButJap1.0.pep.all.fa|      true|\n",
            "|        Caenorhabditis elegans|          /data/indexes/salmon/1.3.0/ensembl_101/Caenorhabditis_elegans|       false|          Caenorhabditis_elegans|                                                            mkdir -p /data/ensembl/101/species/Caenorhabditis_elegans && wget -t 4 -m -nH --cut-dirs=100 -P /data/ensembl/101/species/Caenorhabditis_elegans ftp://ftp.ensembl.org/pub/release-101/gtf/caenorhabditis_elegans/* && wget -t 4 -m -nH --cut-dirs=100 -P /data/ensembl/101/species/Caenorhabditis_elegans ftp://ftp.ensembl.org/pub/release-101/fasta/caenorhabditis_elegans/* && gunzip -f /data/ensembl/101/species/Caenorhabditis_elegans/*.gz|                      WBcel235|                          /data/ensembl/101/species/Caenorhabditis_elegans/Caenorhabditis_elegans.WBcel235.dna.toplevel.fa|         true|                          /data/ensembl/101/species/Caenorhabditis_elegans/Caenorhabditis_elegans.WBcel235.cdna.all.fa|       true|                          /data/ensembl/101/species/Caenorhabditis_elegans/Caenorhabditis_elegans.WBcel235.101.gtf|      true|                          /data/ensembl/101/species/Caenorhabditis_elegans/Caenorhabditis_elegans.WBcel235.pep.all.fa|      true|\n",
            "|  Muscovy Duck (domestic type)|      /data/indexes/salmon/1.3.0/ensembl_101/Cairina_moschata_domestica|       false|      Cairina_moschata_domestica|                                    mkdir -p /data/ensembl/101/species/Cairina_moschata_domestica && wget -t 4 -m -nH --cut-dirs=100 -P /data/ensembl/101/species/Cairina_moschata_domestica ftp://ftp.ensembl.org/pub/release-101/gtf/cairina_moschata_domestica/* && wget -t 4 -m -nH --cut-dirs=100 -P /data/ensembl/101/species/Cairina_moschata_domestica ftp://ftp.ensembl.org/pub/release-101/fasta/cairina_moschata_domestica/* && gunzip -f /data/ensembl/101/species/Cairina_moschata_domestica/*.gz|                     CaiMos1.0|                 /data/ensembl/101/species/Cairina_moschata_domestica/Cairina_moschata_domestica.CaiMos1.0.dna.toplevel.fa|         true|                 /data/ensembl/101/species/Cairina_moschata_domestica/Cairina_moschata_domestica.CaiMos1.0.cdna.all.fa|       true|                 /data/ensembl/101/species/Cairina_moschata_domestica/Cairina_moschata_domestica.CaiMos1.0.101.gtf|      true|                 /data/ensembl/101/species/Cairina_moschata_domestica/Cairina_moschata_domestica.CaiMos1.0.pep.all.fa|      true|\n",
            "|                          Ruff|                 /data/indexes/salmon/1.3.0/ensembl_101/Calidris_pugnax|       false|                 Calidris_pugnax|                                                                                                      mkdir -p /data/ensembl/101/species/Calidris_pugnax && wget -t 4 -m -nH --cut-dirs=100 -P /data/ensembl/101/species/Calidris_pugnax ftp://ftp.ensembl.org/pub/release-101/gtf/calidris_pugnax/* && wget -t 4 -m -nH --cut-dirs=100 -P /data/ensembl/101/species/Calidris_pugnax ftp://ftp.ensembl.org/pub/release-101/fasta/calidris_pugnax/* && gunzip -f /data/ensembl/101/species/Calidris_pugnax/*.gz|                   ASM143184v1|                                     /data/ensembl/101/species/Calidris_pugnax/Calidris_pugnax.ASM143184v1.dna.toplevel.fa|         true|                                     /data/ensembl/101/species/Calidris_pugnax/Calidris_pugnax.ASM143184v1.cdna.all.fa|       true|                                     /data/ensembl/101/species/Calidris_pugnax/Calidris_pugnax.ASM143184v1.101.gtf|      true|                                     /data/ensembl/101/species/Calidris_pugnax/Calidris_pugnax.ASM143184v1.pep.all.fa|      true|\n",
            "|        Spoon-billed sandpiper|                /data/indexes/salmon/1.3.0/ensembl_101/Calidris_pygmaea|       false|                Calidris_pygmaea|                                                                                                mkdir -p /data/ensembl/101/species/Calidris_pygmaea && wget -t 4 -m -nH --cut-dirs=100 -P /data/ensembl/101/species/Calidris_pygmaea ftp://ftp.ensembl.org/pub/release-101/gtf/calidris_pygmaea/* && wget -t 4 -m -nH --cut-dirs=100 -P /data/ensembl/101/species/Calidris_pygmaea ftp://ftp.ensembl.org/pub/release-101/fasta/calidris_pygmaea/* && gunzip -f /data/ensembl/101/species/Calidris_pygmaea/*.gz|                   ASM369795v1|                                   /data/ensembl/101/species/Calidris_pygmaea/Calidris_pygmaea.ASM369795v1.dna.toplevel.fa|         true|                                   /data/ensembl/101/species/Calidris_pygmaea/Calidris_pygmaea.ASM369795v1.cdna.all.fa|       true|                                   /data/ensembl/101/species/Calidris_pygmaea/Calidris_pygmaea.ASM369795v1.101.gtf|      true|                                   /data/ensembl/101/species/Calidris_pygmaea/Calidris_pygmaea.ASM369795v1.pep.all.fa|      true|\n",
            "|                      Marmoset|              /data/indexes/salmon/1.3.0/ensembl_101/Callithrix_jacchus|       false|              Callithrix_jacchus|                                                                                    mkdir -p /data/ensembl/101/species/Callithrix_jacchus && wget -t 4 -m -nH --cut-dirs=100 -P /data/ensembl/101/species/Callithrix_jacchus ftp://ftp.ensembl.org/pub/release-101/gtf/callithrix_jacchus/* && wget -t 4 -m -nH --cut-dirs=100 -P /data/ensembl/101/species/Callithrix_jacchus ftp://ftp.ensembl.org/pub/release-101/fasta/callithrix_jacchus/* && gunzip -f /data/ensembl/101/species/Callithrix_jacchus/*.gz|                   ASM275486v1|                               /data/ensembl/101/species/Callithrix_jacchus/Callithrix_jacchus.ASM275486v1.dna.toplevel.fa|         true|                               /data/ensembl/101/species/Callithrix_jacchus/Callithrix_jacchus.ASM275486v1.cdna.all.fa|       true|                               /data/ensembl/101/species/Callithrix_jacchus/Callithrix_jacchus.ASM275486v1.101.gtf|      true|                               /data/ensembl/101/species/Callithrix_jacchus/Callithrix_jacchus.ASM275486v1.pep.all.fa|      true|\n",
            "|                Elephant shark|             /data/indexes/salmon/1.3.0/ensembl_101/Callorhinchus_milii|       false|             Callorhinchus_milii|                                                                              mkdir -p /data/ensembl/101/species/Callorhinchus_milii && wget -t 4 -m -nH --cut-dirs=100 -P /data/ensembl/101/species/Callorhinchus_milii ftp://ftp.ensembl.org/pub/release-101/gtf/callorhinchus_milii/* && wget -t 4 -m -nH --cut-dirs=100 -P /data/ensembl/101/species/Callorhinchus_milii ftp://ftp.ensembl.org/pub/release-101/fasta/callorhinchus_milii/* && gunzip -f /data/ensembl/101/species/Callorhinchus_milii/*.gz|     Callorhinchus_milii-6.1.3|               /data/ensembl/101/species/Callorhinchus_milii/Callorhinchus_milii.Callorhinchus_milii-6.1.3.dna.toplevel.fa|         true|               /data/ensembl/101/species/Callorhinchus_milii/Callorhinchus_milii.Callorhinchus_milii-6.1.3.cdna.all.fa|       true|               /data/ensembl/101/species/Callorhinchus_milii/Callorhinchus_milii.Callorhinchus_milii-6.1.3.101.gtf|      true|               /data/ensembl/101/species/Callorhinchus_milii/Callorhinchus_milii.Callorhinchus_milii-6.1.3.pep.all.fa|      true|\n",
            "|              Small tree finch|           /data/indexes/salmon/1.3.0/ensembl_101/Camarhynchus_parvulus|       false|           Camarhynchus_parvulus|                                                                  mkdir -p /data/ensembl/101/species/Camarhynchus_parvulus && wget -t 4 -m -nH --cut-dirs=100 -P /data/ensembl/101/species/Camarhynchus_parvulus ftp://ftp.ensembl.org/pub/release-101/gtf/camarhynchus_parvulus/* && wget -t 4 -m -nH --cut-dirs=100 -P /data/ensembl/101/species/Camarhynchus_parvulus ftp://ftp.ensembl.org/pub/release-101/fasta/camarhynchus_parvulus/* && gunzip -f /data/ensembl/101/species/Camarhynchus_parvulus/*.gz|                       STF_HiC|                             /data/ensembl/101/species/Camarhynchus_parvulus/Camarhynchus_parvulus.STF_HiC.dna.toplevel.fa|         true|                             /data/ensembl/101/species/Camarhynchus_parvulus/Camarhynchus_parvulus.STF_HiC.cdna.all.fa|       true|                             /data/ensembl/101/species/Camarhynchus_parvulus/Camarhynchus_parvulus.STF_HiC.101.gtf|      true|                             /data/ensembl/101/species/Camarhynchus_parvulus/Camarhynchus_parvulus.STF_HiC.pep.all.fa|      true|\n",
            "|                 Arabian camel|             /data/indexes/salmon/1.3.0/ensembl_101/Camelus_dromedarius|       false|             Camelus_dromedarius|                                                                              mkdir -p /data/ensembl/101/species/Camelus_dromedarius && wget -t 4 -m -nH --cut-dirs=100 -P /data/ensembl/101/species/Camelus_dromedarius ftp://ftp.ensembl.org/pub/release-101/gtf/camelus_dromedarius/* && wget -t 4 -m -nH --cut-dirs=100 -P /data/ensembl/101/species/Camelus_dromedarius ftp://ftp.ensembl.org/pub/release-101/fasta/camelus_dromedarius/* && gunzip -f /data/ensembl/101/species/Camelus_dromedarius/*.gz|                       CamDro2|                                 /data/ensembl/101/species/Camelus_dromedarius/Camelus_dromedarius.CamDro2.dna.toplevel.fa|         true|                                 /data/ensembl/101/species/Camelus_dromedarius/Camelus_dromedarius.CamDro2.cdna.all.fa|       true|                                 /data/ensembl/101/species/Camelus_dromedarius/Camelus_dromedarius.CamDro2.101.gtf|      true|                                 /data/ensembl/101/species/Camelus_dromedarius/Camelus_dromedarius.CamDro2.pep.all.fa|      true|\n",
            "|                         Dingo|               /data/indexes/salmon/1.3.0/ensembl_101/Canis_lupus_dingo|       false|               Canis_lupus_dingo|                                                                                          mkdir -p /data/ensembl/101/species/Canis_lupus_dingo && wget -t 4 -m -nH --cut-dirs=100 -P /data/ensembl/101/species/Canis_lupus_dingo ftp://ftp.ensembl.org/pub/release-101/gtf/canis_lupus_dingo/* && wget -t 4 -m -nH --cut-dirs=100 -P /data/ensembl/101/species/Canis_lupus_dingo ftp://ftp.ensembl.org/pub/release-101/fasta/canis_lupus_dingo/* && gunzip -f /data/ensembl/101/species/Canis_lupus_dingo/*.gz|                   ASM325472v1|                                 /data/ensembl/101/species/Canis_lupus_dingo/Canis_lupus_dingo.ASM325472v1.dna.toplevel.fa|         true|                                 /data/ensembl/101/species/Canis_lupus_dingo/Canis_lupus_dingo.ASM325472v1.cdna.all.fa|       true|                                 /data/ensembl/101/species/Canis_lupus_dingo/Canis_lupus_dingo.ASM325472v1.101.gtf|      true|                                 /data/ensembl/101/species/Canis_lupus_dingo/Canis_lupus_dingo.ASM325472v1.pep.all.fa|      true|\n",
            "|                           Dog|          /data/indexes/salmon/1.3.0/ensembl_101/Canis_lupus_familiaris|       false|          Canis_lupus_familiaris|                                                            mkdir -p /data/ensembl/101/species/Canis_lupus_familiaris && wget -t 4 -m -nH --cut-dirs=100 -P /data/ensembl/101/species/Canis_lupus_familiaris ftp://ftp.ensembl.org/pub/release-101/gtf/canis_lupus_familiaris/* && wget -t 4 -m -nH --cut-dirs=100 -P /data/ensembl/101/species/Canis_lupus_familiaris ftp://ftp.ensembl.org/pub/release-101/fasta/canis_lupus_familiaris/* && gunzip -f /data/ensembl/101/species/Canis_lupus_familiaris/*.gz|                     CanFam3.1|                         /data/ensembl/101/species/Canis_lupus_familiaris/Canis_lupus_familiaris.CanFam3.1.dna.toplevel.fa|         true|                         /data/ensembl/101/species/Canis_lupus_familiaris/Canis_lupus_familiaris.CanFam3.1.cdna.all.fa|       true|                         /data/ensembl/101/species/Canis_lupus_familiaris/Canis_lupus_familiaris.CanFam3.1.101.gtf|      true|                         /data/ensembl/101/species/Canis_lupus_familiaris/Canis_lupus_familiaris.CanFam3.1.pep.all.fa|      true|\n",
            "|                 Dog - Basenji|   /data/indexes/salmon/1.3.0/ensembl_101/Canis_lupus_familiarisbasenji|       false|   Canis_lupus_familiarisbasenji|                  mkdir -p /data/ensembl/101/species/Canis_lupus_familiarisbasenji && wget -t 4 -m -nH --cut-dirs=100 -P /data/ensembl/101/species/Canis_lupus_familiarisbasenji ftp://ftp.ensembl.org/pub/release-101/gtf/canis_lupus_familiarisbasenji/* && wget -t 4 -m -nH --cut-dirs=100 -P /data/ensembl/101/species/Canis_lupus_familiarisbasenji ftp://ftp.ensembl.org/pub/release-101/fasta/canis_lupus_familiarisbasenji/* && gunzip -f /data/ensembl/101/species/Canis_lupus_familiarisbasenji/*.gz|             Basenji_breed-1.1|   /data/ensembl/101/species/Canis_lupus_familiarisbasenji/Canis_lupus_familiarisbasenji.Basenji_breed-1.1.dna.toplevel.fa|         true|   /data/ensembl/101/species/Canis_lupus_familiarisbasenji/Canis_lupus_familiarisbasenji.Basenji_breed-1.1.cdna.all.fa|       true|   /data/ensembl/101/species/Canis_lupus_familiarisbasenji/Canis_lupus_familiarisbasenji.Basenji_breed-1.1.101.gtf|      true|   /data/ensembl/101/species/Canis_lupus_familiarisbasenji/Canis_lupus_familiarisbasenji.Basenji_breed-1.1.pep.all.fa|      true|\n",
            "|              Dog - Great Dane| /data/indexes/salmon/1.3.0/ensembl_101/Canis_lupus_familiarisgreatdane|       false| Canis_lupus_familiarisgreatdane|      mkdir -p /data/ensembl/101/species/Canis_lupus_familiarisgreatdane && wget -t 4 -m -nH --cut-dirs=100 -P /data/ensembl/101/species/Canis_lupus_familiarisgreatdane ftp://ftp.ensembl.org/pub/release-101/gtf/canis_lupus_familiarisgreatdane/* && wget -t 4 -m -nH --cut-dirs=100 -P /data/ensembl/101/species/Canis_lupus_familiarisgreatdane ftp://ftp.ensembl.org/pub/release-101/fasta/canis_lupus_familiarisgreatdane/* && gunzip -f /data/ensembl/101/species/Canis_lupus_familiarisgreatdane/*.gz|                UMICH_Zoey_3.1|  /data/ensembl/101/species/Canis_lupus_familiarisgreatdane/Canis_lupus_familiarisgreatdane.UMICH_Zoey_3.1.dna.toplevel.fa|         true|  /data/ensembl/101/species/Canis_lupus_familiarisgreatdane/Canis_lupus_familiarisgreatdane.UMICH_Zoey_3.1.cdna.all.fa|       true|  /data/ensembl/101/species/Canis_lupus_familiarisgreatdane/Canis_lupus_familiarisgreatdane.UMICH_Zoey_3.1.101.gtf|      true|  /data/ensembl/101/species/Canis_lupus_familiarisgreatdane/Canis_lupus_familiarisgreatdane.UMICH_Zoey_3.1.pep.all.fa|      true|\n",
            "|                          Goat|                    /data/indexes/salmon/1.3.0/ensembl_101/Capra_hircus|       false|                    Capra_hircus|                                                                                                                        mkdir -p /data/ensembl/101/species/Capra_hircus && wget -t 4 -m -nH --cut-dirs=100 -P /data/ensembl/101/species/Capra_hircus ftp://ftp.ensembl.org/pub/release-101/gtf/capra_hircus/* && wget -t 4 -m -nH --cut-dirs=100 -P /data/ensembl/101/species/Capra_hircus ftp://ftp.ensembl.org/pub/release-101/fasta/capra_hircus/* && gunzip -f /data/ensembl/101/species/Capra_hircus/*.gz|                          ARS1|                                                  /data/ensembl/101/species/Capra_hircus/Capra_hircus.ARS1.dna.toplevel.fa|         true|                                                  /data/ensembl/101/species/Capra_hircus/Capra_hircus.ARS1.cdna.all.fa|       true|                                                  /data/ensembl/101/species/Capra_hircus/Capra_hircus.ARS1.101.gtf|      true|                                                  /data/ensembl/101/species/Capra_hircus/Capra_hircus.ARS1.pep.all.fa|      true|\n",
            "|           Goat (black bengal)|        /data/indexes/salmon/1.3.0/ensembl_101/Capra_hircus_blackbengal|       false|        Capra_hircus_blackbengal|                                                mkdir -p /data/ensembl/101/species/Capra_hircus_blackbengal && wget -t 4 -m -nH --cut-dirs=100 -P /data/ensembl/101/species/Capra_hircus_blackbengal ftp://ftp.ensembl.org/pub/release-101/gtf/capra_hircus_blackbengal/* && wget -t 4 -m -nH --cut-dirs=100 -P /data/ensembl/101/species/Capra_hircus_blackbengal ftp://ftp.ensembl.org/pub/release-101/fasta/capra_hircus_blackbengal/* && gunzip -f /data/ensembl/101/species/Capra_hircus_blackbengal/*.gz|                 CVASU_BBG_1.0|                 /data/ensembl/101/species/Capra_hircus_blackbengal/Capra_hircus_blackbengal.CVASU_BBG_1.0.dna.toplevel.fa|         true|                 /data/ensembl/101/species/Capra_hircus_blackbengal/Capra_hircus_blackbengal.CVASU_BBG_1.0.cdna.all.fa|       true|                 /data/ensembl/101/species/Capra_hircus_blackbengal/Capra_hircus_blackbengal.CVASU_BBG_1.0.101.gtf|      true|                 /data/ensembl/101/species/Capra_hircus_blackbengal/Capra_hircus_blackbengal.CVASU_BBG_1.0.pep.all.fa|      true|\n",
            "|                      Goldfish|               /data/indexes/salmon/1.3.0/ensembl_101/Carassius_auratus|       false|               Carassius_auratus|                                                                                          mkdir -p /data/ensembl/101/species/Carassius_auratus && wget -t 4 -m -nH --cut-dirs=100 -P /data/ensembl/101/species/Carassius_auratus ftp://ftp.ensembl.org/pub/release-101/gtf/carassius_auratus/* && wget -t 4 -m -nH --cut-dirs=100 -P /data/ensembl/101/species/Carassius_auratus ftp://ftp.ensembl.org/pub/release-101/fasta/carassius_auratus/* && gunzip -f /data/ensembl/101/species/Carassius_auratus/*.gz|                   ASM336829v1|                                 /data/ensembl/101/species/Carassius_auratus/Carassius_auratus.ASM336829v1.dna.toplevel.fa|         true|                                 /data/ensembl/101/species/Carassius_auratus/Carassius_auratus.ASM336829v1.cdna.all.fa|       true|                                 /data/ensembl/101/species/Carassius_auratus/Carassius_auratus.ASM336829v1.101.gtf|      true|                                 /data/ensembl/101/species/Carassius_auratus/Carassius_auratus.ASM336829v1.pep.all.fa|      true|\n",
            "|                       Tarsier|                /data/indexes/salmon/1.3.0/ensembl_101/Carlito_syrichta|       false|                Carlito_syrichta|                                                                                                mkdir -p /data/ensembl/101/species/Carlito_syrichta && wget -t 4 -m -nH --cut-dirs=100 -P /data/ensembl/101/species/Carlito_syrichta ftp://ftp.ensembl.org/pub/release-101/gtf/carlito_syrichta/* && wget -t 4 -m -nH --cut-dirs=100 -P /data/ensembl/101/species/Carlito_syrichta ftp://ftp.ensembl.org/pub/release-101/fasta/carlito_syrichta/* && gunzip -f /data/ensembl/101/species/Carlito_syrichta/*.gz|        Tarsius_syrichta-2.0.1|                        /data/ensembl/101/species/Carlito_syrichta/Carlito_syrichta.Tarsius_syrichta-2.0.1.dna.toplevel.fa|         true|                        /data/ensembl/101/species/Carlito_syrichta/Carlito_syrichta.Tarsius_syrichta-2.0.1.cdna.all.fa|       true|                        /data/ensembl/101/species/Carlito_syrichta/Carlito_syrichta.Tarsius_syrichta-2.0.1.101.gtf|      true|                        /data/ensembl/101/species/Carlito_syrichta/Carlito_syrichta.Tarsius_syrichta-2.0.1.pep.all.fa|      true|\n",
            "|               American beaver|               /data/indexes/salmon/1.3.0/ensembl_101/Castor_canadensis|       false|               Castor_canadensis|                                                                                          mkdir -p /data/ensembl/101/species/Castor_canadensis && wget -t 4 -m -nH --cut-dirs=100 -P /data/ensembl/101/species/Castor_canadensis ftp://ftp.ensembl.org/pub/release-101/gtf/castor_canadensis/* && wget -t 4 -m -nH --cut-dirs=100 -P /data/ensembl/101/species/Castor_canadensis ftp://ftp.ensembl.org/pub/release-101/fasta/castor_canadensis/* && gunzip -f /data/ensembl/101/species/Castor_canadensis/*.gz|             C.can_genome_v1.0|                           /data/ensembl/101/species/Castor_canadensis/Castor_canadensis.C.can_genome_v1.0.dna.toplevel.fa|         true|                           /data/ensembl/101/species/Castor_canadensis/Castor_canadensis.C.can_genome_v1.0.cdna.all.fa|       true|                           /data/ensembl/101/species/Castor_canadensis/Castor_canadensis.C.can_genome_v1.0.101.gtf|      true|                           /data/ensembl/101/species/Castor_canadensis/Castor_canadensis.C.can_genome_v1.0.pep.all.fa|      true|\n",
            "|               Chacoan peccary|               /data/indexes/salmon/1.3.0/ensembl_101/Catagonus_wagneri|       false|               Catagonus_wagneri|                                                                                          mkdir -p /data/ensembl/101/species/Catagonus_wagneri && wget -t 4 -m -nH --cut-dirs=100 -P /data/ensembl/101/species/Catagonus_wagneri ftp://ftp.ensembl.org/pub/release-101/gtf/catagonus_wagneri/* && wget -t 4 -m -nH --cut-dirs=100 -P /data/ensembl/101/species/Catagonus_wagneri ftp://ftp.ensembl.org/pub/release-101/fasta/catagonus_wagneri/* && gunzip -f /data/ensembl/101/species/Catagonus_wagneri/*.gz|            CatWag_v2_BIUU_UCD|                          /data/ensembl/101/species/Catagonus_wagneri/Catagonus_wagneri.CatWag_v2_BIUU_UCD.dna.toplevel.fa|         true|                          /data/ensembl/101/species/Catagonus_wagneri/Catagonus_wagneri.CatWag_v2_BIUU_UCD.cdna.all.fa|       true|                          /data/ensembl/101/species/Catagonus_wagneri/Catagonus_wagneri.CatWag_v2_BIUU_UCD.101.gtf|      true|                          /data/ensembl/101/species/Catagonus_wagneri/Catagonus_wagneri.CatWag_v2_BIUU_UCD.pep.all.fa|      true|\n",
            "|             Swainson's thrush|              /data/indexes/salmon/1.3.0/ensembl_101/Catharus_ustulatus|       false|              Catharus_ustulatus|                                                                                    mkdir -p /data/ensembl/101/species/Catharus_ustulatus && wget -t 4 -m -nH --cut-dirs=100 -P /data/ensembl/101/species/Catharus_ustulatus ftp://ftp.ensembl.org/pub/release-101/gtf/catharus_ustulatus/* && wget -t 4 -m -nH --cut-dirs=100 -P /data/ensembl/101/species/Catharus_ustulatus ftp://ftp.ensembl.org/pub/release-101/fasta/catharus_ustulatus/* && gunzip -f /data/ensembl/101/species/Catharus_ustulatus/*.gz|                  bCatUst1.pri|                              /data/ensembl/101/species/Catharus_ustulatus/Catharus_ustulatus.bCatUst1.pri.dna.toplevel.fa|         true|                              /data/ensembl/101/species/Catharus_ustulatus/Catharus_ustulatus.bCatUst1.pri.cdna.all.fa|       true|                              /data/ensembl/101/species/Catharus_ustulatus/Catharus_ustulatus.bCatUst1.pri.101.gtf|      true|                              /data/ensembl/101/species/Catharus_ustulatus/Catharus_ustulatus.bCatUst1.pri.pep.all.fa|      true|\n",
            "|          Brazilian guinea pig|                    /data/indexes/salmon/1.3.0/ensembl_101/Cavia_aperea|       false|                    Cavia_aperea|                                                                                                                        mkdir -p /data/ensembl/101/species/Cavia_aperea && wget -t 4 -m -nH --cut-dirs=100 -P /data/ensembl/101/species/Cavia_aperea ftp://ftp.ensembl.org/pub/release-101/gtf/cavia_aperea/* && wget -t 4 -m -nH --cut-dirs=100 -P /data/ensembl/101/species/Cavia_aperea ftp://ftp.ensembl.org/pub/release-101/fasta/cavia_aperea/* && gunzip -f /data/ensembl/101/species/Cavia_aperea/*.gz|                      CavAp1.0|                                              /data/ensembl/101/species/Cavia_aperea/Cavia_aperea.CavAp1.0.dna.toplevel.fa|         true|                                              /data/ensembl/101/species/Cavia_aperea/Cavia_aperea.CavAp1.0.cdna.all.fa|       true|                                              /data/ensembl/101/species/Cavia_aperea/Cavia_aperea.CavAp1.0.101.gtf|      true|                                              /data/ensembl/101/species/Cavia_aperea/Cavia_aperea.CavAp1.0.pep.all.fa|      true|\n",
            "|                    Guinea Pig|                 /data/indexes/salmon/1.3.0/ensembl_101/Cavia_porcellus|       false|                 Cavia_porcellus|                                                                                                      mkdir -p /data/ensembl/101/species/Cavia_porcellus && wget -t 4 -m -nH --cut-dirs=100 -P /data/ensembl/101/species/Cavia_porcellus ftp://ftp.ensembl.org/pub/release-101/gtf/cavia_porcellus/* && wget -t 4 -m -nH --cut-dirs=100 -P /data/ensembl/101/species/Cavia_porcellus ftp://ftp.ensembl.org/pub/release-101/fasta/cavia_porcellus/* && gunzip -f /data/ensembl/101/species/Cavia_porcellus/*.gz|                     Cavpor3.0|                                       /data/ensembl/101/species/Cavia_porcellus/Cavia_porcellus.Cavpor3.0.dna.toplevel.fa|         true|                                       /data/ensembl/101/species/Cavia_porcellus/Cavia_porcellus.Cavpor3.0.cdna.all.fa|       true|                                       /data/ensembl/101/species/Cavia_porcellus/Cavia_porcellus.Cavpor3.0.101.gtf|      true|                                       /data/ensembl/101/species/Cavia_porcellus/Cavia_porcellus.Cavpor3.0.pep.all.fa|      true|\n",
            "|                      Capuchin|                 /data/indexes/salmon/1.3.0/ensembl_101/Cebus_capucinus|       false|                 Cebus_capucinus|                                                                                                      mkdir -p /data/ensembl/101/species/Cebus_capucinus && wget -t 4 -m -nH --cut-dirs=100 -P /data/ensembl/101/species/Cebus_capucinus ftp://ftp.ensembl.org/pub/release-101/gtf/cebus_capucinus/* && wget -t 4 -m -nH --cut-dirs=100 -P /data/ensembl/101/species/Cebus_capucinus ftp://ftp.ensembl.org/pub/release-101/fasta/cebus_capucinus/* && gunzip -f /data/ensembl/101/species/Cebus_capucinus/*.gz|            Cebus_imitator-1.0|                              /data/ensembl/101/species/Cebus_capucinus/Cebus_capucinus.Cebus_imitator-1.0.dna.toplevel.fa|         true|                              /data/ensembl/101/species/Cebus_capucinus/Cebus_capucinus.Cebus_imitator-1.0.cdna.all.fa|       true|                              /data/ensembl/101/species/Cebus_capucinus/Cebus_capucinus.Cebus_imitator-1.0.101.gtf|      true|                              /data/ensembl/101/species/Cebus_capucinus/Cebus_capucinus.Cebus_imitator-1.0.pep.all.fa|      true|\n",
            "|                Sooty mangabey|                 /data/indexes/salmon/1.3.0/ensembl_101/Cercocebus_atys|       false|                 Cercocebus_atys|                                                                                                      mkdir -p /data/ensembl/101/species/Cercocebus_atys && wget -t 4 -m -nH --cut-dirs=100 -P /data/ensembl/101/species/Cercocebus_atys ftp://ftp.ensembl.org/pub/release-101/gtf/cercocebus_atys/* && wget -t 4 -m -nH --cut-dirs=100 -P /data/ensembl/101/species/Cercocebus_atys ftp://ftp.ensembl.org/pub/release-101/fasta/cercocebus_atys/* && gunzip -f /data/ensembl/101/species/Cercocebus_atys/*.gz|                      Caty_1.0|                                        /data/ensembl/101/species/Cercocebus_atys/Cercocebus_atys.Caty_1.0.dna.toplevel.fa|         true|                                        /data/ensembl/101/species/Cercocebus_atys/Cercocebus_atys.Caty_1.0.cdna.all.fa|       true|                                        /data/ensembl/101/species/Cercocebus_atys/Cercocebus_atys.Caty_1.0.101.gtf|      true|                                        /data/ensembl/101/species/Cercocebus_atys/Cercocebus_atys.Caty_1.0.pep.all.fa|      true|\n",
            "|                  Yarkand deer|      /data/indexes/salmon/1.3.0/ensembl_101/Cervus_hanglu_yarkandensis|       false|      Cervus_hanglu_yarkandensis|                                    mkdir -p /data/ensembl/101/species/Cervus_hanglu_yarkandensis && wget -t 4 -m -nH --cut-dirs=100 -P /data/ensembl/101/species/Cervus_hanglu_yarkandensis ftp://ftp.ensembl.org/pub/release-101/gtf/cervus_hanglu_yarkandensis/* && wget -t 4 -m -nH --cut-dirs=100 -P /data/ensembl/101/species/Cervus_hanglu_yarkandensis ftp://ftp.ensembl.org/pub/release-101/fasta/cervus_hanglu_yarkandensis/* && gunzip -f /data/ensembl/101/species/Cervus_hanglu_yarkandensis/*.gz|                        CEY_v1|                    /data/ensembl/101/species/Cervus_hanglu_yarkandensis/Cervus_hanglu_yarkandensis.CEY_v1.dna.toplevel.fa|         true|                    /data/ensembl/101/species/Cervus_hanglu_yarkandensis/Cervus_hanglu_yarkandensis.CEY_v1.cdna.all.fa|       true|                    /data/ensembl/101/species/Cervus_hanglu_yarkandensis/Cervus_hanglu_yarkandensis.CEY_v1.101.gtf|      true|                    /data/ensembl/101/species/Cervus_hanglu_yarkandensis/Cervus_hanglu_yarkandensis.CEY_v1.pep.all.fa|      true|\n",
            "|Abingdon island giant tortoise|          /data/indexes/salmon/1.3.0/ensembl_101/Chelonoidis_abingdonii|       false|          Chelonoidis_abingdonii|                                                            mkdir -p /data/ensembl/101/species/Chelonoidis_abingdonii && wget -t 4 -m -nH --cut-dirs=100 -P /data/ensembl/101/species/Chelonoidis_abingdonii ftp://ftp.ensembl.org/pub/release-101/gtf/chelonoidis_abingdonii/* && wget -t 4 -m -nH --cut-dirs=100 -P /data/ensembl/101/species/Chelonoidis_abingdonii ftp://ftp.ensembl.org/pub/release-101/fasta/chelonoidis_abingdonii/* && gunzip -f /data/ensembl/101/species/Chelonoidis_abingdonii/*.gz|                   ASM359739v1|                       /data/ensembl/101/species/Chelonoidis_abingdonii/Chelonoidis_abingdonii.ASM359739v1.dna.toplevel.fa|         true|                       /data/ensembl/101/species/Chelonoidis_abingdonii/Chelonoidis_abingdonii.ASM359739v1.cdna.all.fa|       true|                       /data/ensembl/101/species/Chelonoidis_abingdonii/Chelonoidis_abingdonii.ASM359739v1.101.gtf|      true|                       /data/ensembl/101/species/Chelonoidis_abingdonii/Chelonoidis_abingdonii.ASM359739v1.pep.all.fa|      true|\n",
            "|        Common snapping turtle|             /data/indexes/salmon/1.3.0/ensembl_101/Chelydra_serpentina|       false|             Chelydra_serpentina|                                                                              mkdir -p /data/ensembl/101/species/Chelydra_serpentina && wget -t 4 -m -nH --cut-dirs=100 -P /data/ensembl/101/species/Chelydra_serpentina ftp://ftp.ensembl.org/pub/release-101/gtf/chelydra_serpentina/* && wget -t 4 -m -nH --cut-dirs=100 -P /data/ensembl/101/species/Chelydra_serpentina ftp://ftp.ensembl.org/pub/release-101/fasta/chelydra_serpentina/* && gunzip -f /data/ensembl/101/species/Chelydra_serpentina/*.gz|       Chelydra_serpentina-1.0|                 /data/ensembl/101/species/Chelydra_serpentina/Chelydra_serpentina.Chelydra_serpentina-1.0.dna.toplevel.fa|         true|                 /data/ensembl/101/species/Chelydra_serpentina/Chelydra_serpentina.Chelydra_serpentina-1.0.cdna.all.fa|       true|                 /data/ensembl/101/species/Chelydra_serpentina/Chelydra_serpentina.Chelydra_serpentina-1.0.101.gtf|      true|                 /data/ensembl/101/species/Chelydra_serpentina/Chelydra_serpentina.Chelydra_serpentina-1.0.pep.all.fa|      true|\n",
            "|        Long-tailed chinchilla|             /data/indexes/salmon/1.3.0/ensembl_101/Chinchilla_lanigera|       false|             Chinchilla_lanigera|                                                                              mkdir -p /data/ensembl/101/species/Chinchilla_lanigera && wget -t 4 -m -nH --cut-dirs=100 -P /data/ensembl/101/species/Chinchilla_lanigera ftp://ftp.ensembl.org/pub/release-101/gtf/chinchilla_lanigera/* && wget -t 4 -m -nH --cut-dirs=100 -P /data/ensembl/101/species/Chinchilla_lanigera ftp://ftp.ensembl.org/pub/release-101/fasta/chinchilla_lanigera/* && gunzip -f /data/ensembl/101/species/Chinchilla_lanigera/*.gz|                     ChiLan1.0|                               /data/ensembl/101/species/Chinchilla_lanigera/Chinchilla_lanigera.ChiLan1.0.dna.toplevel.fa|         true|                               /data/ensembl/101/species/Chinchilla_lanigera/Chinchilla_lanigera.ChiLan1.0.cdna.all.fa|       true|                               /data/ensembl/101/species/Chinchilla_lanigera/Chinchilla_lanigera.ChiLan1.0.101.gtf|      true|                               /data/ensembl/101/species/Chinchilla_lanigera/Chinchilla_lanigera.ChiLan1.0.pep.all.fa|      true|\n",
            "|                    Vervet-AGM|             /data/indexes/salmon/1.3.0/ensembl_101/Chlorocebus_sabaeus|       false|             Chlorocebus_sabaeus|                                                                              mkdir -p /data/ensembl/101/species/Chlorocebus_sabaeus && wget -t 4 -m -nH --cut-dirs=100 -P /data/ensembl/101/species/Chlorocebus_sabaeus ftp://ftp.ensembl.org/pub/release-101/gtf/chlorocebus_sabaeus/* && wget -t 4 -m -nH --cut-dirs=100 -P /data/ensembl/101/species/Chlorocebus_sabaeus ftp://ftp.ensembl.org/pub/release-101/fasta/chlorocebus_sabaeus/* && gunzip -f /data/ensembl/101/species/Chlorocebus_sabaeus/*.gz|                     ChlSab1.1|                               /data/ensembl/101/species/Chlorocebus_sabaeus/Chlorocebus_sabaeus.ChlSab1.1.dna.toplevel.fa|         true|                               /data/ensembl/101/species/Chlorocebus_sabaeus/Chlorocebus_sabaeus.ChlSab1.1.cdna.all.fa|       true|                               /data/ensembl/101/species/Chlorocebus_sabaeus/Chlorocebus_sabaeus.ChlSab1.1.101.gtf|      true|                               /data/ensembl/101/species/Chlorocebus_sabaeus/Chlorocebus_sabaeus.ChlSab1.1.pep.all.fa|      true|\n",
            "|                         Sloth|             /data/indexes/salmon/1.3.0/ensembl_101/Choloepus_hoffmanni|       false|             Choloepus_hoffmanni|                                                                              mkdir -p /data/ensembl/101/species/Choloepus_hoffmanni && wget -t 4 -m -nH --cut-dirs=100 -P /data/ensembl/101/species/Choloepus_hoffmanni ftp://ftp.ensembl.org/pub/release-101/gtf/choloepus_hoffmanni/* && wget -t 4 -m -nH --cut-dirs=100 -P /data/ensembl/101/species/Choloepus_hoffmanni ftp://ftp.ensembl.org/pub/release-101/fasta/choloepus_hoffmanni/* && gunzip -f /data/ensembl/101/species/Choloepus_hoffmanni/*.gz|                       choHof1|                                 /data/ensembl/101/species/Choloepus_hoffmanni/Choloepus_hoffmanni.choHof1.dna.toplevel.fa|         true|                                 /data/ensembl/101/species/Choloepus_hoffmanni/Choloepus_hoffmanni.choHof1.cdna.all.fa|       true|                                 /data/ensembl/101/species/Choloepus_hoffmanni/Choloepus_hoffmanni.choHof1.101.gtf|      true|                                 /data/ensembl/101/species/Choloepus_hoffmanni/Choloepus_hoffmanni.choHof1.pep.all.fa|      true|\n",
            "|                Painted turtle|          /data/indexes/salmon/1.3.0/ensembl_101/Chrysemys_picta_bellii|       false|          Chrysemys_picta_bellii|                                                            mkdir -p /data/ensembl/101/species/Chrysemys_picta_bellii && wget -t 4 -m -nH --cut-dirs=100 -P /data/ensembl/101/species/Chrysemys_picta_bellii ftp://ftp.ensembl.org/pub/release-101/gtf/chrysemys_picta_bellii/* && wget -t 4 -m -nH --cut-dirs=100 -P /data/ensembl/101/species/Chrysemys_picta_bellii ftp://ftp.ensembl.org/pub/release-101/fasta/chrysemys_picta_bellii/* && gunzip -f /data/ensembl/101/species/Chrysemys_picta_bellii/*.gz|  Chrysemys_picta_bellii-3.0.3|      /data/ensembl/101/species/Chrysemys_picta_bellii/Chrysemys_picta_bellii.Chrysemys_picta_bellii-3.0.3.dna.toplevel.fa|         true|      /data/ensembl/101/species/Chrysemys_picta_bellii/Chrysemys_picta_bellii.Chrysemys_picta_bellii-3.0.3.cdna.all.fa|       true|      /data/ensembl/101/species/Chrysemys_picta_bellii/Chrysemys_picta_bellii.Chrysemys_picta_bellii-3.0.3.101.gtf|      true|      /data/ensembl/101/species/Chrysemys_picta_bellii/Chrysemys_picta_bellii.Chrysemys_picta_bellii-3.0.3.pep.all.fa|      true|\n",
            "|               Golden pheasant|             /data/indexes/salmon/1.3.0/ensembl_101/Chrysolophus_pictus|       false|             Chrysolophus_pictus|                                                                              mkdir -p /data/ensembl/101/species/Chrysolophus_pictus && wget -t 4 -m -nH --cut-dirs=100 -P /data/ensembl/101/species/Chrysolophus_pictus ftp://ftp.ensembl.org/pub/release-101/gtf/chrysolophus_pictus/* && wget -t 4 -m -nH --cut-dirs=100 -P /data/ensembl/101/species/Chrysolophus_pictus ftp://ftp.ensembl.org/pub/release-101/fasta/chrysolophus_pictus/* && gunzip -f /data/ensembl/101/species/Chrysolophus_pictus/*.gz|Chrysolophus_pictus_GenomeV1.0|          /data/ensembl/101/species/Chrysolophus_pictus/Chrysolophus_pictus.Chrysolophus_pictus_GenomeV1.0.dna.toplevel.fa|         true|          /data/ensembl/101/species/Chrysolophus_pictus/Chrysolophus_pictus.Chrysolophus_pictus_GenomeV1.0.cdna.all.fa|       true|          /data/ensembl/101/species/Chrysolophus_pictus/Chrysolophus_pictus.Chrysolophus_pictus_GenomeV1.0.101.gtf|      true|          /data/ensembl/101/species/Chrysolophus_pictus/Chrysolophus_pictus.Chrysolophus_pictus_GenomeV1.0.pep.all.fa|      true|\n",
            "|                C.intestinalis|              /data/indexes/salmon/1.3.0/ensembl_101/Ciona_intestinalis|       false|              Ciona_intestinalis|                                                                                    mkdir -p /data/ensembl/101/species/Ciona_intestinalis && wget -t 4 -m -nH --cut-dirs=100 -P /data/ensembl/101/species/Ciona_intestinalis ftp://ftp.ensembl.org/pub/release-101/gtf/ciona_intestinalis/* && wget -t 4 -m -nH --cut-dirs=100 -P /data/ensembl/101/species/Ciona_intestinalis ftp://ftp.ensembl.org/pub/release-101/fasta/ciona_intestinalis/* && gunzip -f /data/ensembl/101/species/Ciona_intestinalis/*.gz|                            KH|                                        /data/ensembl/101/species/Ciona_intestinalis/Ciona_intestinalis.KH.dna.toplevel.fa|         true|                                        /data/ensembl/101/species/Ciona_intestinalis/Ciona_intestinalis.KH.cdna.all.fa|       true|                                        /data/ensembl/101/species/Ciona_intestinalis/Ciona_intestinalis.KH.101.gtf|      true|                                        /data/ensembl/101/species/Ciona_intestinalis/Ciona_intestinalis.KH.pep.all.fa|      true|\n",
            "|                    C.savignyi|                  /data/indexes/salmon/1.3.0/ensembl_101/Ciona_savignyi|       false|                  Ciona_savignyi|                                                                                                            mkdir -p /data/ensembl/101/species/Ciona_savignyi && wget -t 4 -m -nH --cut-dirs=100 -P /data/ensembl/101/species/Ciona_savignyi ftp://ftp.ensembl.org/pub/release-101/gtf/ciona_savignyi/* && wget -t 4 -m -nH --cut-dirs=100 -P /data/ensembl/101/species/Ciona_savignyi ftp://ftp.ensembl.org/pub/release-101/fasta/ciona_savignyi/* && gunzip -f /data/ensembl/101/species/Ciona_savignyi/*.gz|                      CSAV 2.0|                                           /data/ensembl/101/species/Ciona_savignyi/Ciona_savignyi.CSAV2.0.dna.toplevel.fa|         true|                                           /data/ensembl/101/species/Ciona_savignyi/Ciona_savignyi.CSAV2.0.cdna.all.fa|       true|                                           /data/ensembl/101/species/Ciona_savignyi/Ciona_savignyi.CSAV2.0.101.gtf|      true|                                           /data/ensembl/101/species/Ciona_savignyi/Ciona_savignyi.CSAV2.0.pep.all.fa|      true|\n",
            "|              Atlantic herring|                 /data/indexes/salmon/1.3.0/ensembl_101/Clupea_harengus|       false|                 Clupea_harengus|                                                                                                      mkdir -p /data/ensembl/101/species/Clupea_harengus && wget -t 4 -m -nH --cut-dirs=100 -P /data/ensembl/101/species/Clupea_harengus ftp://ftp.ensembl.org/pub/release-101/gtf/clupea_harengus/* && wget -t 4 -m -nH --cut-dirs=100 -P /data/ensembl/101/species/Clupea_harengus ftp://ftp.ensembl.org/pub/release-101/fasta/clupea_harengus/* && gunzip -f /data/ensembl/101/species/Clupea_harengus/*.gz|                     Ch_v2.0.2|                                       /data/ensembl/101/species/Clupea_harengus/Clupea_harengus.Ch_v2.0.2.dna.toplevel.fa|         true|                                       /data/ensembl/101/species/Clupea_harengus/Clupea_harengus.Ch_v2.0.2.cdna.all.fa|       true|                                       /data/ensembl/101/species/Clupea_harengus/Clupea_harengus.Ch_v2.0.2.101.gtf|      true|                                       /data/ensembl/101/species/Clupea_harengus/Clupea_harengus.Ch_v2.0.2.pep.all.fa|      true|\n",
            "|                Angola colobus|    /data/indexes/salmon/1.3.0/ensembl_101/Colobus_angolensis_palliatus|       false|    Colobus_angolensis_palliatus|                        mkdir -p /data/ensembl/101/species/Colobus_angolensis_palliatus && wget -t 4 -m -nH --cut-dirs=100 -P /data/ensembl/101/species/Colobus_angolensis_palliatus ftp://ftp.ensembl.org/pub/release-101/gtf/colobus_angolensis_palliatus/* && wget -t 4 -m -nH --cut-dirs=100 -P /data/ensembl/101/species/Colobus_angolensis_palliatus ftp://ftp.ensembl.org/pub/release-101/fasta/colobus_angolensis_palliatus/* && gunzip -f /data/ensembl/101/species/Colobus_angolensis_palliatus/*.gz|                   Cang.pa_1.0|           /data/ensembl/101/species/Colobus_angolensis_palliatus/Colobus_angolensis_palliatus.Cang.pa_1.0.dna.toplevel.fa|         true|           /data/ensembl/101/species/Colobus_angolensis_palliatus/Colobus_angolensis_palliatus.Cang.pa_1.0.cdna.all.fa|       true|           /data/ensembl/101/species/Colobus_angolensis_palliatus/Colobus_angolensis_palliatus.Cang.pa_1.0.101.gtf|      true|           /data/ensembl/101/species/Colobus_angolensis_palliatus/Colobus_angolensis_palliatus.Cang.pa_1.0.pep.all.fa|      true|\n",
            "|           New Caledonian crow|             /data/indexes/salmon/1.3.0/ensembl_101/Corvus_moneduloides|       false|             Corvus_moneduloides|                                                                              mkdir -p /data/ensembl/101/species/Corvus_moneduloides && wget -t 4 -m -nH --cut-dirs=100 -P /data/ensembl/101/species/Corvus_moneduloides ftp://ftp.ensembl.org/pub/release-101/gtf/corvus_moneduloides/* && wget -t 4 -m -nH --cut-dirs=100 -P /data/ensembl/101/species/Corvus_moneduloides ftp://ftp.ensembl.org/pub/release-101/fasta/corvus_moneduloides/* && gunzip -f /data/ensembl/101/species/Corvus_moneduloides/*.gz|                   UO_Cmon_1.0|                             /data/ensembl/101/species/Corvus_moneduloides/Corvus_moneduloides.UO_Cmon_1.0.dna.toplevel.fa|         true|                             /data/ensembl/101/species/Corvus_moneduloides/Corvus_moneduloides.UO_Cmon_1.0.cdna.all.fa|       true|                             /data/ensembl/101/species/Corvus_moneduloides/Corvus_moneduloides.UO_Cmon_1.0.101.gtf|      true|                             /data/ensembl/101/species/Corvus_moneduloides/Corvus_moneduloides.UO_Cmon_1.0.pep.all.fa|      true|\n",
            "|           Channel bull blenny|                /data/indexes/salmon/1.3.0/ensembl_101/Cottoperca_gobio|       false|                Cottoperca_gobio|                                                                                                mkdir -p /data/ensembl/101/species/Cottoperca_gobio && wget -t 4 -m -nH --cut-dirs=100 -P /data/ensembl/101/species/Cottoperca_gobio ftp://ftp.ensembl.org/pub/release-101/gtf/cottoperca_gobio/* && wget -t 4 -m -nH --cut-dirs=100 -P /data/ensembl/101/species/Cottoperca_gobio ftp://ftp.ensembl.org/pub/release-101/fasta/cottoperca_gobio/* && gunzip -f /data/ensembl/101/species/Cottoperca_gobio/*.gz|                    fCotGob3.1|                                    /data/ensembl/101/species/Cottoperca_gobio/Cottoperca_gobio.fCotGob3.1.dna.toplevel.fa|         true|                                    /data/ensembl/101/species/Cottoperca_gobio/Cottoperca_gobio.fCotGob3.1.cdna.all.fa|       true|                                    /data/ensembl/101/species/Cottoperca_gobio/Cottoperca_gobio.fCotGob3.1.101.gtf|      true|                                    /data/ensembl/101/species/Cottoperca_gobio/Cottoperca_gobio.fCotGob3.1.pep.all.fa|      true|\n",
            "|                Japanese quail|               /data/indexes/salmon/1.3.0/ensembl_101/Coturnix_japonica|       false|               Coturnix_japonica|                                                                                          mkdir -p /data/ensembl/101/species/Coturnix_japonica && wget -t 4 -m -nH --cut-dirs=100 -P /data/ensembl/101/species/Coturnix_japonica ftp://ftp.ensembl.org/pub/release-101/gtf/coturnix_japonica/* && wget -t 4 -m -nH --cut-dirs=100 -P /data/ensembl/101/species/Coturnix_japonica ftp://ftp.ensembl.org/pub/release-101/fasta/coturnix_japonica/* && gunzip -f /data/ensembl/101/species/Coturnix_japonica/*.gz|         Coturnix_japonica_2.0|                       /data/ensembl/101/species/Coturnix_japonica/Coturnix_japonica.Coturnix_japonica_2.0.dna.toplevel.fa|         true|                       /data/ensembl/101/species/Coturnix_japonica/Coturnix_japonica.Coturnix_japonica_2.0.cdna.all.fa|       true|                       /data/ensembl/101/species/Coturnix_japonica/Coturnix_japonica.Coturnix_japonica_2.0.101.gtf|      true|                       /data/ensembl/101/species/Coturnix_japonica/Coturnix_japonica.Coturnix_japonica_2.0.pep.all.fa|      true|\n",
            "|       Chinese hamster CHOK1GS|    /data/indexes/salmon/1.3.0/ensembl_101/Cricetulus_griseus_chok1gshd|       false|    Cricetulus_griseus_chok1gshd|                        mkdir -p /data/ensembl/101/species/Cricetulus_griseus_chok1gshd && wget -t 4 -m -nH --cut-dirs=100 -P /data/ensembl/101/species/Cricetulus_griseus_chok1gshd ftp://ftp.ensembl.org/pub/release-101/gtf/cricetulus_griseus_chok1gshd/* && wget -t 4 -m -nH --cut-dirs=100 -P /data/ensembl/101/species/Cricetulus_griseus_chok1gshd ftp://ftp.ensembl.org/pub/release-101/fasta/cricetulus_griseus_chok1gshd/* && gunzip -f /data/ensembl/101/species/Cricetulus_griseus_chok1gshd/*.gz|                  CHOK1GS_HDv1|          /data/ensembl/101/species/Cricetulus_griseus_chok1gshd/Cricetulus_griseus_chok1gshd.CHOK1GS_HDv1.dna.toplevel.fa|         true|          /data/ensembl/101/species/Cricetulus_griseus_chok1gshd/Cricetulus_griseus_chok1gshd.CHOK1GS_HDv1.cdna.all.fa|       true|          /data/ensembl/101/species/Cricetulus_griseus_chok1gshd/Cricetulus_griseus_chok1gshd.CHOK1GS_HDv1.101.gtf|      true|          /data/ensembl/101/species/Cricetulus_griseus_chok1gshd/Cricetulus_griseus_chok1gshd.CHOK1GS_HDv1.pep.all.fa|      true|\n",
            "|        Chinese hamster CriGri|       /data/indexes/salmon/1.3.0/ensembl_101/Cricetulus_griseus_crigri|       false|       Cricetulus_griseus_crigri|                                          mkdir -p /data/ensembl/101/species/Cricetulus_griseus_crigri && wget -t 4 -m -nH --cut-dirs=100 -P /data/ensembl/101/species/Cricetulus_griseus_crigri ftp://ftp.ensembl.org/pub/release-101/gtf/cricetulus_griseus_crigri/* && wget -t 4 -m -nH --cut-dirs=100 -P /data/ensembl/101/species/Cricetulus_griseus_crigri ftp://ftp.ensembl.org/pub/release-101/fasta/cricetulus_griseus_crigri/* && gunzip -f /data/ensembl/101/species/Cricetulus_griseus_crigri/*.gz|                    CriGri_1.0|                  /data/ensembl/101/species/Cricetulus_griseus_crigri/Cricetulus_griseus_crigri.CriGri_1.0.dna.toplevel.fa|         true|                  /data/ensembl/101/species/Cricetulus_griseus_crigri/Cricetulus_griseus_crigri.CriGri_1.0.cdna.all.fa|       true|                  /data/ensembl/101/species/Cricetulus_griseus_crigri/Cricetulus_griseus_crigri.CriGri_1.0.101.gtf|      true|                  /data/ensembl/101/species/Cricetulus_griseus_crigri/Cricetulus_griseus_crigri.CriGri_1.0.pep.all.fa|      true|\n",
            "|          Chinese hamster PICR|         /data/indexes/salmon/1.3.0/ensembl_101/Cricetulus_griseus_picr|       false|         Cricetulus_griseus_picr|                                                      mkdir -p /data/ensembl/101/species/Cricetulus_griseus_picr && wget -t 4 -m -nH --cut-dirs=100 -P /data/ensembl/101/species/Cricetulus_griseus_picr ftp://ftp.ensembl.org/pub/release-101/gtf/cricetulus_griseus_picr/* && wget -t 4 -m -nH --cut-dirs=100 -P /data/ensembl/101/species/Cricetulus_griseus_picr ftp://ftp.ensembl.org/pub/release-101/fasta/cricetulus_griseus_picr/* && gunzip -f /data/ensembl/101/species/Cricetulus_griseus_picr/*.gz|                   CriGri-PICR|                     /data/ensembl/101/species/Cricetulus_griseus_picr/Cricetulus_griseus_picr.CriGri-PICR.dna.toplevel.fa|         true|                     /data/ensembl/101/species/Cricetulus_griseus_picr/Cricetulus_griseus_picr.CriGri-PICR.cdna.all.fa|       true|                     /data/ensembl/101/species/Cricetulus_griseus_picr/Cricetulus_griseus_picr.CriGri-PICR.101.gtf|      true|                     /data/ensembl/101/species/Cricetulus_griseus_picr/Cricetulus_griseus_picr.CriGri-PICR.pep.all.fa|      true|\n",
            "|Australian saltwater crocodile|              /data/indexes/salmon/1.3.0/ensembl_101/Crocodylus_porosus|       false|              Crocodylus_porosus|                                                                                    mkdir -p /data/ensembl/101/species/Crocodylus_porosus && wget -t 4 -m -nH --cut-dirs=100 -P /data/ensembl/101/species/Crocodylus_porosus ftp://ftp.ensembl.org/pub/release-101/gtf/crocodylus_porosus/* && wget -t 4 -m -nH --cut-dirs=100 -P /data/ensembl/101/species/Crocodylus_porosus ftp://ftp.ensembl.org/pub/release-101/fasta/crocodylus_porosus/* && gunzip -f /data/ensembl/101/species/Crocodylus_porosus/*.gz|                  CroPor_comp1|                              /data/ensembl/101/species/Crocodylus_porosus/Crocodylus_porosus.CroPor_comp1.dna.toplevel.fa|         true|                              /data/ensembl/101/species/Crocodylus_porosus/Crocodylus_porosus.CroPor_comp1.cdna.all.fa|       true|                              /data/ensembl/101/species/Crocodylus_porosus/Crocodylus_porosus.CroPor_comp1.101.gtf|      true|                              /data/ensembl/101/species/Crocodylus_porosus/Crocodylus_porosus.CroPor_comp1.pep.all.fa|      true|\n",
            "|                      Blue tit|             /data/indexes/salmon/1.3.0/ensembl_101/Cyanistes_caeruleus|       false|             Cyanistes_caeruleus|                                                                              mkdir -p /data/ensembl/101/species/Cyanistes_caeruleus && wget -t 4 -m -nH --cut-dirs=100 -P /data/ensembl/101/species/Cyanistes_caeruleus ftp://ftp.ensembl.org/pub/release-101/gtf/cyanistes_caeruleus/* && wget -t 4 -m -nH --cut-dirs=100 -P /data/ensembl/101/species/Cyanistes_caeruleus ftp://ftp.ensembl.org/pub/release-101/fasta/cyanistes_caeruleus/* && gunzip -f /data/ensembl/101/species/Cyanistes_caeruleus/*.gz|                       cyaCae2|                                 /data/ensembl/101/species/Cyanistes_caeruleus/Cyanistes_caeruleus.cyaCae2.dna.toplevel.fa|         true|                                 /data/ensembl/101/species/Cyanistes_caeruleus/Cyanistes_caeruleus.cyaCae2.cdna.all.fa|       true|                                 /data/ensembl/101/species/Cyanistes_caeruleus/Cyanistes_caeruleus.cyaCae2.101.gtf|      true|                                 /data/ensembl/101/species/Cyanistes_caeruleus/Cyanistes_caeruleus.cyaCae2.pep.all.fa|      true|\n",
            "|                      Lumpfish|              /data/indexes/salmon/1.3.0/ensembl_101/Cyclopterus_lumpus|       false|              Cyclopterus_lumpus|                                                                                    mkdir -p /data/ensembl/101/species/Cyclopterus_lumpus && wget -t 4 -m -nH --cut-dirs=100 -P /data/ensembl/101/species/Cyclopterus_lumpus ftp://ftp.ensembl.org/pub/release-101/gtf/cyclopterus_lumpus/* && wget -t 4 -m -nH --cut-dirs=100 -P /data/ensembl/101/species/Cyclopterus_lumpus ftp://ftp.ensembl.org/pub/release-101/fasta/cyclopterus_lumpus/* && gunzip -f /data/ensembl/101/species/Cyclopterus_lumpus/*.gz|                  fCycLum1.pri|                              /data/ensembl/101/species/Cyclopterus_lumpus/Cyclopterus_lumpus.fCycLum1.pri.dna.toplevel.fa|         true|                              /data/ensembl/101/species/Cyclopterus_lumpus/Cyclopterus_lumpus.fCycLum1.pri.cdna.all.fa|       true|                              /data/ensembl/101/species/Cyclopterus_lumpus/Cyclopterus_lumpus.fCycLum1.pri.101.gtf|      true|                              /data/ensembl/101/species/Cyclopterus_lumpus/Cyclopterus_lumpus.fCycLum1.pri.pep.all.fa|      true|\n",
            "|                   Tongue sole|          /data/indexes/salmon/1.3.0/ensembl_101/Cynoglossus_semilaevis|       false|          Cynoglossus_semilaevis|                                                            mkdir -p /data/ensembl/101/species/Cynoglossus_semilaevis && wget -t 4 -m -nH --cut-dirs=100 -P /data/ensembl/101/species/Cynoglossus_semilaevis ftp://ftp.ensembl.org/pub/release-101/gtf/cynoglossus_semilaevis/* && wget -t 4 -m -nH --cut-dirs=100 -P /data/ensembl/101/species/Cynoglossus_semilaevis ftp://ftp.ensembl.org/pub/release-101/fasta/cynoglossus_semilaevis/* && gunzip -f /data/ensembl/101/species/Cynoglossus_semilaevis/*.gz|                      Cse_v1.0|                          /data/ensembl/101/species/Cynoglossus_semilaevis/Cynoglossus_semilaevis.Cse_v1.0.dna.toplevel.fa|         true|                          /data/ensembl/101/species/Cynoglossus_semilaevis/Cynoglossus_semilaevis.Cse_v1.0.cdna.all.fa|       true|                          /data/ensembl/101/species/Cynoglossus_semilaevis/Cynoglossus_semilaevis.Cse_v1.0.101.gtf|      true|                          /data/ensembl/101/species/Cynoglossus_semilaevis/Cynoglossus_semilaevis.Cse_v1.0.pep.all.fa|      true|\n",
            "|             Sheepshead minnow|           /data/indexes/salmon/1.3.0/ensembl_101/Cyprinodon_variegatus|       false|           Cyprinodon_variegatus|                                                                  mkdir -p /data/ensembl/101/species/Cyprinodon_variegatus && wget -t 4 -m -nH --cut-dirs=100 -P /data/ensembl/101/species/Cyprinodon_variegatus ftp://ftp.ensembl.org/pub/release-101/gtf/cyprinodon_variegatus/* && wget -t 4 -m -nH --cut-dirs=100 -P /data/ensembl/101/species/Cyprinodon_variegatus ftp://ftp.ensembl.org/pub/release-101/fasta/cyprinodon_variegatus/* && gunzip -f /data/ensembl/101/species/Cyprinodon_variegatus/*.gz|              C_variegatus-1.0|                    /data/ensembl/101/species/Cyprinodon_variegatus/Cyprinodon_variegatus.C_variegatus-1.0.dna.toplevel.fa|         true|                    /data/ensembl/101/species/Cyprinodon_variegatus/Cyprinodon_variegatus.C_variegatus-1.0.cdna.all.fa|       true|                    /data/ensembl/101/species/Cyprinodon_variegatus/Cyprinodon_variegatus.C_variegatus-1.0.101.gtf|      true|                    /data/ensembl/101/species/Cyprinodon_variegatus/Cyprinodon_variegatus.C_variegatus-1.0.pep.all.fa|      true|\n",
            "|                   Common carp|                 /data/indexes/salmon/1.3.0/ensembl_101/Cyprinus_carpio|       false|                 Cyprinus_carpio|                                                                                                      mkdir -p /data/ensembl/101/species/Cyprinus_carpio && wget -t 4 -m -nH --cut-dirs=100 -P /data/ensembl/101/species/Cyprinus_carpio ftp://ftp.ensembl.org/pub/release-101/gtf/cyprinus_carpio/* && wget -t 4 -m -nH --cut-dirs=100 -P /data/ensembl/101/species/Cyprinus_carpio ftp://ftp.ensembl.org/pub/release-101/fasta/cyprinus_carpio/* && gunzip -f /data/ensembl/101/species/Cyprinus_carpio/*.gz|            common_carp_genome|                              /data/ensembl/101/species/Cyprinus_carpio/Cyprinus_carpio.common_carp_genome.dna.toplevel.fa|         true|                              /data/ensembl/101/species/Cyprinus_carpio/Cyprinus_carpio.common_carp_genome.cdna.all.fa|       true|                              /data/ensembl/101/species/Cyprinus_carpio/Cyprinus_carpio.common_carp_genome.101.gtf|      true|                              /data/ensembl/101/species/Cyprinus_carpio/Cyprinus_carpio.common_carp_genome.pep.all.fa|      true|\n",
            "|     Common carp german mirror|    /data/indexes/salmon/1.3.0/ensembl_101/Cyprinus_carpio_germanmirror|       false|    Cyprinus_carpio_germanmirror|                        mkdir -p /data/ensembl/101/species/Cyprinus_carpio_germanmirror && wget -t 4 -m -nH --cut-dirs=100 -P /data/ensembl/101/species/Cyprinus_carpio_germanmirror ftp://ftp.ensembl.org/pub/release-101/gtf/cyprinus_carpio_germanmirror/* && wget -t 4 -m -nH --cut-dirs=100 -P /data/ensembl/101/species/Cyprinus_carpio_germanmirror ftp://ftp.ensembl.org/pub/release-101/fasta/cyprinus_carpio_germanmirror/* && gunzip -f /data/ensembl/101/species/Cyprinus_carpio_germanmirror/*.gz|        German_Mirror_carp_1.0|/data/ensembl/101/species/Cyprinus_carpio_germanmirror/Cyprinus_carpio_germanmirror.German_Mirror_carp_1.0.dna.toplevel.fa|         true|/data/ensembl/101/species/Cyprinus_carpio_germanmirror/Cyprinus_carpio_germanmirror.German_Mirror_carp_1.0.cdna.all.fa|       true|/data/ensembl/101/species/Cyprinus_carpio_germanmirror/Cyprinus_carpio_germanmirror.German_Mirror_carp_1.0.101.gtf|      true|/data/ensembl/101/species/Cyprinus_carpio_germanmirror/Cyprinus_carpio_germanmirror.German_Mirror_carp_1.0.pep.all.fa|      true|\n",
            "|         Common carp hebao red|        /data/indexes/salmon/1.3.0/ensembl_101/Cyprinus_carpio_hebaored|       false|        Cyprinus_carpio_hebaored|                                                mkdir -p /data/ensembl/101/species/Cyprinus_carpio_hebaored && wget -t 4 -m -nH --cut-dirs=100 -P /data/ensembl/101/species/Cyprinus_carpio_hebaored ftp://ftp.ensembl.org/pub/release-101/gtf/cyprinus_carpio_hebaored/* && wget -t 4 -m -nH --cut-dirs=100 -P /data/ensembl/101/species/Cyprinus_carpio_hebaored ftp://ftp.ensembl.org/pub/release-101/fasta/cyprinus_carpio_hebaored/* && gunzip -f /data/ensembl/101/species/Cyprinus_carpio_hebaored/*.gz|            Hebao_red_carp_1.0|            /data/ensembl/101/species/Cyprinus_carpio_hebaored/Cyprinus_carpio_hebaored.Hebao_red_carp_1.0.dna.toplevel.fa|         true|            /data/ensembl/101/species/Cyprinus_carpio_hebaored/Cyprinus_carpio_hebaored.Hebao_red_carp_1.0.cdna.all.fa|       true|            /data/ensembl/101/species/Cyprinus_carpio_hebaored/Cyprinus_carpio_hebaored.Hebao_red_carp_1.0.101.gtf|      true|            /data/ensembl/101/species/Cyprinus_carpio_hebaored/Cyprinus_carpio_hebaored.Hebao_red_carp_1.0.pep.all.fa|      true|\n",
            "|           Common carp huanghe|         /data/indexes/salmon/1.3.0/ensembl_101/Cyprinus_carpio_huanghe|       false|         Cyprinus_carpio_huanghe|                                                      mkdir -p /data/ensembl/101/species/Cyprinus_carpio_huanghe && wget -t 4 -m -nH --cut-dirs=100 -P /data/ensembl/101/species/Cyprinus_carpio_huanghe ftp://ftp.ensembl.org/pub/release-101/gtf/cyprinus_carpio_huanghe/* && wget -t 4 -m -nH --cut-dirs=100 -P /data/ensembl/101/species/Cyprinus_carpio_huanghe ftp://ftp.ensembl.org/pub/release-101/fasta/cyprinus_carpio_huanghe/* && gunzip -f /data/ensembl/101/species/Cyprinus_carpio_huanghe/*.gz|              Hunaghe_carp_2.0|                /data/ensembl/101/species/Cyprinus_carpio_huanghe/Cyprinus_carpio_huanghe.Hunaghe_carp_2.0.dna.toplevel.fa|         true|                /data/ensembl/101/species/Cyprinus_carpio_huanghe/Cyprinus_carpio_huanghe.Hunaghe_carp_2.0.cdna.all.fa|       true|                /data/ensembl/101/species/Cyprinus_carpio_huanghe/Cyprinus_carpio_huanghe.Hunaghe_carp_2.0.101.gtf|      true|                /data/ensembl/101/species/Cyprinus_carpio_huanghe/Cyprinus_carpio_huanghe.Hunaghe_carp_2.0.pep.all.fa|      true|\n",
            "|                     Zebrafish|                     /data/indexes/salmon/1.3.0/ensembl_101/Danio_rerio|       false|                     Danio_rerio|                                                                                                                              mkdir -p /data/ensembl/101/species/Danio_rerio && wget -t 4 -m -nH --cut-dirs=100 -P /data/ensembl/101/species/Danio_rerio ftp://ftp.ensembl.org/pub/release-101/gtf/danio_rerio/* && wget -t 4 -m -nH --cut-dirs=100 -P /data/ensembl/101/species/Danio_rerio ftp://ftp.ensembl.org/pub/release-101/fasta/danio_rerio/* && gunzip -f /data/ensembl/101/species/Danio_rerio/*.gz|                        GRCz11|                                          /data/ensembl/101/species/Danio_rerio/Danio_rerio.GRCz11.dna.primary_assembly.fa|         true|                                                  /data/ensembl/101/species/Danio_rerio/Danio_rerio.GRCz11.cdna.all.fa|       true|                                                  /data/ensembl/101/species/Danio_rerio/Danio_rerio.GRCz11.101.gtf|      true|                                                  /data/ensembl/101/species/Danio_rerio/Danio_rerio.GRCz11.pep.all.fa|      true|\n",
            "|                     Armadillo|            /data/indexes/salmon/1.3.0/ensembl_101/Dasypus_novemcinctus|       false|            Dasypus_novemcinctus|                                                                        mkdir -p /data/ensembl/101/species/Dasypus_novemcinctus && wget -t 4 -m -nH --cut-dirs=100 -P /data/ensembl/101/species/Dasypus_novemcinctus ftp://ftp.ensembl.org/pub/release-101/gtf/dasypus_novemcinctus/* && wget -t 4 -m -nH --cut-dirs=100 -P /data/ensembl/101/species/Dasypus_novemcinctus ftp://ftp.ensembl.org/pub/release-101/fasta/dasypus_novemcinctus/* && gunzip -f /data/ensembl/101/species/Dasypus_novemcinctus/*.gz|                     Dasnov3.0|                             /data/ensembl/101/species/Dasypus_novemcinctus/Dasypus_novemcinctus.Dasnov3.0.dna.toplevel.fa|         true|                             /data/ensembl/101/species/Dasypus_novemcinctus/Dasypus_novemcinctus.Dasnov3.0.cdna.all.fa|       true|                             /data/ensembl/101/species/Dasypus_novemcinctus/Dasypus_novemcinctus.Dasnov3.0.101.gtf|      true|                             /data/ensembl/101/species/Dasypus_novemcinctus/Dasypus_novemcinctus.Dasnov3.0.pep.all.fa|      true|\n",
            "|                  Beluga whale|           /data/indexes/salmon/1.3.0/ensembl_101/Delphinapterus_leucas|       false|           Delphinapterus_leucas|                                                                  mkdir -p /data/ensembl/101/species/Delphinapterus_leucas && wget -t 4 -m -nH --cut-dirs=100 -P /data/ensembl/101/species/Delphinapterus_leucas ftp://ftp.ensembl.org/pub/release-101/gtf/delphinapterus_leucas/* && wget -t 4 -m -nH --cut-dirs=100 -P /data/ensembl/101/species/Delphinapterus_leucas ftp://ftp.ensembl.org/pub/release-101/fasta/delphinapterus_leucas/* && gunzip -f /data/ensembl/101/species/Delphinapterus_leucas/*.gz|                   ASM228892v3|                         /data/ensembl/101/species/Delphinapterus_leucas/Delphinapterus_leucas.ASM228892v3.dna.toplevel.fa|         true|                         /data/ensembl/101/species/Delphinapterus_leucas/Delphinapterus_leucas.ASM228892v3.cdna.all.fa|       true|                         /data/ensembl/101/species/Delphinapterus_leucas/Delphinapterus_leucas.ASM228892v3.101.gtf|      true|                         /data/ensembl/101/species/Delphinapterus_leucas/Delphinapterus_leucas.ASM228892v3.pep.all.fa|      true|\n",
            "|              Denticle herring|            /data/indexes/salmon/1.3.0/ensembl_101/Denticeps_clupeoides|       false|            Denticeps_clupeoides|                                                                        mkdir -p /data/ensembl/101/species/Denticeps_clupeoides && wget -t 4 -m -nH --cut-dirs=100 -P /data/ensembl/101/species/Denticeps_clupeoides ftp://ftp.ensembl.org/pub/release-101/gtf/denticeps_clupeoides/* && wget -t 4 -m -nH --cut-dirs=100 -P /data/ensembl/101/species/Denticeps_clupeoides ftp://ftp.ensembl.org/pub/release-101/fasta/denticeps_clupeoides/* && gunzip -f /data/ensembl/101/species/Denticeps_clupeoides/*.gz|                    fDenClu1.1|                            /data/ensembl/101/species/Denticeps_clupeoides/Denticeps_clupeoides.fDenClu1.1.dna.toplevel.fa|         true|                            /data/ensembl/101/species/Denticeps_clupeoides/Denticeps_clupeoides.fDenClu1.1.cdna.all.fa|       true|                            /data/ensembl/101/species/Denticeps_clupeoides/Denticeps_clupeoides.fDenClu1.1.101.gtf|      true|                            /data/ensembl/101/species/Denticeps_clupeoides/Denticeps_clupeoides.fDenClu1.1.pep.all.fa|      true|\n",
            "|              European seabass|            /data/indexes/salmon/1.3.0/ensembl_101/Dicentrarchus_labrax|       false|            Dicentrarchus_labrax|                                                                        mkdir -p /data/ensembl/101/species/Dicentrarchus_labrax && wget -t 4 -m -nH --cut-dirs=100 -P /data/ensembl/101/species/Dicentrarchus_labrax ftp://ftp.ensembl.org/pub/release-101/gtf/dicentrarchus_labrax/* && wget -t 4 -m -nH --cut-dirs=100 -P /data/ensembl/101/species/Dicentrarchus_labrax ftp://ftp.ensembl.org/pub/release-101/fasta/dicentrarchus_labrax/* && gunzip -f /data/ensembl/101/species/Dicentrarchus_labrax/*.gz|                  seabass_V1.0|                          /data/ensembl/101/species/Dicentrarchus_labrax/Dicentrarchus_labrax.seabass_V1.0.dna.toplevel.fa|         true|                          /data/ensembl/101/species/Dicentrarchus_labrax/Dicentrarchus_labrax.seabass_V1.0.cdna.all.fa|       true|                          /data/ensembl/101/species/Dicentrarchus_labrax/Dicentrarchus_labrax.seabass_V1.0.101.gtf|      true|                          /data/ensembl/101/species/Dicentrarchus_labrax/Dicentrarchus_labrax.seabass_V1.0.pep.all.fa|      true|\n",
            "|                  Kangaroo rat|                 /data/indexes/salmon/1.3.0/ensembl_101/Dipodomys_ordii|       false|                 Dipodomys_ordii|                                                                                                      mkdir -p /data/ensembl/101/species/Dipodomys_ordii && wget -t 4 -m -nH --cut-dirs=100 -P /data/ensembl/101/species/Dipodomys_ordii ftp://ftp.ensembl.org/pub/release-101/gtf/dipodomys_ordii/* && wget -t 4 -m -nH --cut-dirs=100 -P /data/ensembl/101/species/Dipodomys_ordii ftp://ftp.ensembl.org/pub/release-101/fasta/dipodomys_ordii/* && gunzip -f /data/ensembl/101/species/Dipodomys_ordii/*.gz|                      Dord_2.0|                                        /data/ensembl/101/species/Dipodomys_ordii/Dipodomys_ordii.Dord_2.0.dna.toplevel.fa|         true|                                        /data/ensembl/101/species/Dipodomys_ordii/Dipodomys_ordii.Dord_2.0.cdna.all.fa|       true|                                        /data/ensembl/101/species/Dipodomys_ordii/Dipodomys_ordii.Dord_2.0.101.gtf|      true|                                        /data/ensembl/101/species/Dipodomys_ordii/Dipodomys_ordii.Dord_2.0.pep.all.fa|      true|\n",
            "|                           Emu|        /data/indexes/salmon/1.3.0/ensembl_101/Dromaius_novaehollandiae|       false|        Dromaius_novaehollandiae|                                                mkdir -p /data/ensembl/101/species/Dromaius_novaehollandiae && wget -t 4 -m -nH --cut-dirs=100 -P /data/ensembl/101/species/Dromaius_novaehollandiae ftp://ftp.ensembl.org/pub/release-101/gtf/dromaius_novaehollandiae/* && wget -t 4 -m -nH --cut-dirs=100 -P /data/ensembl/101/species/Dromaius_novaehollandiae ftp://ftp.ensembl.org/pub/release-101/fasta/dromaius_novaehollandiae/* && gunzip -f /data/ensembl/101/species/Dromaius_novaehollandiae/*.gz|                       droNov1|                       /data/ensembl/101/species/Dromaius_novaehollandiae/Dromaius_novaehollandiae.droNov1.dna.toplevel.fa|         true|                       /data/ensembl/101/species/Dromaius_novaehollandiae/Dromaius_novaehollandiae.droNov1.cdna.all.fa|       true|                       /data/ensembl/101/species/Dromaius_novaehollandiae/Dromaius_novaehollandiae.droNov1.101.gtf|      true|                       /data/ensembl/101/species/Dromaius_novaehollandiae/Dromaius_novaehollandiae.droNov1.pep.all.fa|      true|\n",
            "|       Drosophila melanogaster|         /data/indexes/salmon/1.3.0/ensembl_101/Drosophila_melanogaster|       false|         Drosophila_melanogaster|                                                      mkdir -p /data/ensembl/101/species/Drosophila_melanogaster && wget -t 4 -m -nH --cut-dirs=100 -P /data/ensembl/101/species/Drosophila_melanogaster ftp://ftp.ensembl.org/pub/release-101/gtf/drosophila_melanogaster/* && wget -t 4 -m -nH --cut-dirs=100 -P /data/ensembl/101/species/Drosophila_melanogaster ftp://ftp.ensembl.org/pub/release-101/fasta/drosophila_melanogaster/* && gunzip -f /data/ensembl/101/species/Drosophila_melanogaster/*.gz|                      BDGP6.28|                        /data/ensembl/101/species/Drosophila_melanogaster/Drosophila_melanogaster.BDGP6.28.dna.toplevel.fa|         true|                        /data/ensembl/101/species/Drosophila_melanogaster/Drosophila_melanogaster.BDGP6.28.cdna.all.fa|       true|                        /data/ensembl/101/species/Drosophila_melanogaster/Drosophila_melanogaster.BDGP6.28.101.gtf|      true|                        /data/ensembl/101/species/Drosophila_melanogaster/Drosophila_melanogaster.BDGP6.28.pep.all.fa|      true|\n",
            "|              Live sharksucker|              /data/indexes/salmon/1.3.0/ensembl_101/Echeneis_naucrates|       false|              Echeneis_naucrates|                                                                                    mkdir -p /data/ensembl/101/species/Echeneis_naucrates && wget -t 4 -m -nH --cut-dirs=100 -P /data/ensembl/101/species/Echeneis_naucrates ftp://ftp.ensembl.org/pub/release-101/gtf/echeneis_naucrates/* && wget -t 4 -m -nH --cut-dirs=100 -P /data/ensembl/101/species/Echeneis_naucrates ftp://ftp.ensembl.org/pub/release-101/fasta/echeneis_naucrates/* && gunzip -f /data/ensembl/101/species/Echeneis_naucrates/*.gz|                    fEcheNa1.1|                                /data/ensembl/101/species/Echeneis_naucrates/Echeneis_naucrates.fEcheNa1.1.dna.toplevel.fa|         true|                                /data/ensembl/101/species/Echeneis_naucrates/Echeneis_naucrates.fEcheNa1.1.cdna.all.fa|       true|                                /data/ensembl/101/species/Echeneis_naucrates/Echeneis_naucrates.fEcheNa1.1.101.gtf|      true|                                /data/ensembl/101/species/Echeneis_naucrates/Echeneis_naucrates.fEcheNa1.1.pep.all.fa|      true|\n",
            "|        Lesser hedgehog tenrec|               /data/indexes/salmon/1.3.0/ensembl_101/Echinops_telfairi|       false|               Echinops_telfairi|                                                                                          mkdir -p /data/ensembl/101/species/Echinops_telfairi && wget -t 4 -m -nH --cut-dirs=100 -P /data/ensembl/101/species/Echinops_telfairi ftp://ftp.ensembl.org/pub/release-101/gtf/echinops_telfairi/* && wget -t 4 -m -nH --cut-dirs=100 -P /data/ensembl/101/species/Echinops_telfairi ftp://ftp.ensembl.org/pub/release-101/fasta/echinops_telfairi/* && gunzip -f /data/ensembl/101/species/Echinops_telfairi/*.gz|                        TENREC|                                      /data/ensembl/101/species/Echinops_telfairi/Echinops_telfairi.TENREC.dna.toplevel.fa|         true|                                      /data/ensembl/101/species/Echinops_telfairi/Echinops_telfairi.TENREC.cdna.all.fa|       true|                                      /data/ensembl/101/species/Echinops_telfairi/Echinops_telfairi.TENREC.101.gtf|      true|                                      /data/ensembl/101/species/Echinops_telfairi/Echinops_telfairi.TENREC.pep.all.fa|      true|\n",
            "|                  Electric eel|        /data/indexes/salmon/1.3.0/ensembl_101/Electrophorus_electricus|       false|        Electrophorus_electricus|                                                mkdir -p /data/ensembl/101/species/Electrophorus_electricus && wget -t 4 -m -nH --cut-dirs=100 -P /data/ensembl/101/species/Electrophorus_electricus ftp://ftp.ensembl.org/pub/release-101/gtf/electrophorus_electricus/* && wget -t 4 -m -nH --cut-dirs=100 -P /data/ensembl/101/species/Electrophorus_electricus ftp://ftp.ensembl.org/pub/release-101/fasta/electrophorus_electricus/* && gunzip -f /data/ensembl/101/species/Electrophorus_electricus/*.gz|           Ee_SOAP_WITH_SSPACE|           /data/ensembl/101/species/Electrophorus_electricus/Electrophorus_electricus.Ee_SOAP_WITH_SSPACE.dna.toplevel.fa|         true|           /data/ensembl/101/species/Electrophorus_electricus/Electrophorus_electricus.Ee_SOAP_WITH_SSPACE.cdna.all.fa|       true|           /data/ensembl/101/species/Electrophorus_electricus/Electrophorus_electricus.Ee_SOAP_WITH_SSPACE.101.gtf|      true|           /data/ensembl/101/species/Electrophorus_electricus/Electrophorus_electricus.Ee_SOAP_WITH_SSPACE.pep.all.fa|      true|\n",
            "|                       Hagfish|              /data/indexes/salmon/1.3.0/ensembl_101/Eptatretus_burgeri|       false|              Eptatretus_burgeri|                                                                                    mkdir -p /data/ensembl/101/species/Eptatretus_burgeri && wget -t 4 -m -nH --cut-dirs=100 -P /data/ensembl/101/species/Eptatretus_burgeri ftp://ftp.ensembl.org/pub/release-101/gtf/eptatretus_burgeri/* && wget -t 4 -m -nH --cut-dirs=100 -P /data/ensembl/101/species/Eptatretus_burgeri ftp://ftp.ensembl.org/pub/release-101/fasta/eptatretus_burgeri/* && gunzip -f /data/ensembl/101/species/Eptatretus_burgeri/*.gz|                  Eburgeri_3.2|                              /data/ensembl/101/species/Eptatretus_burgeri/Eptatretus_burgeri.Eburgeri_3.2.dna.toplevel.fa|         true|                              /data/ensembl/101/species/Eptatretus_burgeri/Eptatretus_burgeri.Eburgeri_3.2.cdna.all.fa|       true|                              /data/ensembl/101/species/Eptatretus_burgeri/Eptatretus_burgeri.Eburgeri_3.2.101.gtf|      true|                              /data/ensembl/101/species/Eptatretus_burgeri/Eptatretus_burgeri.Eburgeri_3.2.pep.all.fa|      true|\n",
            "|                        Donkey|             /data/indexes/salmon/1.3.0/ensembl_101/Equus_asinus_asinus|       false|             Equus_asinus_asinus|                                                                              mkdir -p /data/ensembl/101/species/Equus_asinus_asinus && wget -t 4 -m -nH --cut-dirs=100 -P /data/ensembl/101/species/Equus_asinus_asinus ftp://ftp.ensembl.org/pub/release-101/gtf/equus_asinus_asinus/* && wget -t 4 -m -nH --cut-dirs=100 -P /data/ensembl/101/species/Equus_asinus_asinus ftp://ftp.ensembl.org/pub/release-101/fasta/equus_asinus_asinus/* && gunzip -f /data/ensembl/101/species/Equus_asinus_asinus/*.gz|                   ASM303372v1|                             /data/ensembl/101/species/Equus_asinus_asinus/Equus_asinus_asinus.ASM303372v1.dna.toplevel.fa|         true|                             /data/ensembl/101/species/Equus_asinus_asinus/Equus_asinus_asinus.ASM303372v1.cdna.all.fa|       true|                             /data/ensembl/101/species/Equus_asinus_asinus/Equus_asinus_asinus.ASM303372v1.101.gtf|      true|                             /data/ensembl/101/species/Equus_asinus_asinus/Equus_asinus_asinus.ASM303372v1.pep.all.fa|      true|\n",
            "|                         Horse|                  /data/indexes/salmon/1.3.0/ensembl_101/Equus_caballus|       false|                  Equus_caballus|                                                                                                            mkdir -p /data/ensembl/101/species/Equus_caballus && wget -t 4 -m -nH --cut-dirs=100 -P /data/ensembl/101/species/Equus_caballus ftp://ftp.ensembl.org/pub/release-101/gtf/equus_caballus/* && wget -t 4 -m -nH --cut-dirs=100 -P /data/ensembl/101/species/Equus_caballus ftp://ftp.ensembl.org/pub/release-101/fasta/equus_caballus/* && gunzip -f /data/ensembl/101/species/Equus_caballus/*.gz|                     EquCab3.0|                                         /data/ensembl/101/species/Equus_caballus/Equus_caballus.EquCab3.0.dna.toplevel.fa|         true|                                         /data/ensembl/101/species/Equus_caballus/Equus_caballus.EquCab3.0.cdna.all.fa|       true|                                         /data/ensembl/101/species/Equus_caballus/Equus_caballus.EquCab3.0.101.gtf|      true|                                         /data/ensembl/101/species/Equus_caballus/Equus_caballus.EquCab3.0.pep.all.fa|      true|\n",
            "|                      Hedgehog|             /data/indexes/salmon/1.3.0/ensembl_101/Erinaceus_europaeus|       false|             Erinaceus_europaeus|                                                                              mkdir -p /data/ensembl/101/species/Erinaceus_europaeus && wget -t 4 -m -nH --cut-dirs=100 -P /data/ensembl/101/species/Erinaceus_europaeus ftp://ftp.ensembl.org/pub/release-101/gtf/erinaceus_europaeus/* && wget -t 4 -m -nH --cut-dirs=100 -P /data/ensembl/101/species/Erinaceus_europaeus ftp://ftp.ensembl.org/pub/release-101/fasta/erinaceus_europaeus/* && gunzip -f /data/ensembl/101/species/Erinaceus_europaeus/*.gz|                       eriEur1|                                 /data/ensembl/101/species/Erinaceus_europaeus/Erinaceus_europaeus.eriEur1.dna.toplevel.fa|        false|                                 /data/ensembl/101/species/Erinaceus_europaeus/Erinaceus_europaeus.eriEur1.cdna.all.fa|      false|                                 /data/ensembl/101/species/Erinaceus_europaeus/Erinaceus_europaeus.eriEur1.101.gtf|     false|                                 /data/ensembl/101/species/Erinaceus_europaeus/Erinaceus_europaeus.eriEur1.pep.all.fa|     false|\n",
            "|                      Reedfish|       /data/indexes/salmon/1.3.0/ensembl_101/Erpetoichthys_calabaricus|       false|       Erpetoichthys_calabaricus|                                          mkdir -p /data/ensembl/101/species/Erpetoichthys_calabaricus && wget -t 4 -m -nH --cut-dirs=100 -P /data/ensembl/101/species/Erpetoichthys_calabaricus ftp://ftp.ensembl.org/pub/release-101/gtf/erpetoichthys_calabaricus/* && wget -t 4 -m -nH --cut-dirs=100 -P /data/ensembl/101/species/Erpetoichthys_calabaricus ftp://ftp.ensembl.org/pub/release-101/fasta/erpetoichthys_calabaricus/* && gunzip -f /data/ensembl/101/species/Erpetoichthys_calabaricus/*.gz|                    fErpCal1.1|                  /data/ensembl/101/species/Erpetoichthys_calabaricus/Erpetoichthys_calabaricus.fErpCal1.1.dna.toplevel.fa|         true|                  /data/ensembl/101/species/Erpetoichthys_calabaricus/Erpetoichthys_calabaricus.fErpCal1.1.cdna.all.fa|       true|                  /data/ensembl/101/species/Erpetoichthys_calabaricus/Erpetoichthys_calabaricus.fErpCal1.1.101.gtf|      true|                  /data/ensembl/101/species/Erpetoichthys_calabaricus/Erpetoichthys_calabaricus.fErpCal1.1.pep.all.fa|      true|\n",
            "|                Gouldian finch|              /data/indexes/salmon/1.3.0/ensembl_101/Erythrura_gouldiae|       false|              Erythrura_gouldiae|                                                                                    mkdir -p /data/ensembl/101/species/Erythrura_gouldiae && wget -t 4 -m -nH --cut-dirs=100 -P /data/ensembl/101/species/Erythrura_gouldiae ftp://ftp.ensembl.org/pub/release-101/gtf/erythrura_gouldiae/* && wget -t 4 -m -nH --cut-dirs=100 -P /data/ensembl/101/species/Erythrura_gouldiae ftp://ftp.ensembl.org/pub/release-101/fasta/erythrura_gouldiae/* && gunzip -f /data/ensembl/101/species/Erythrura_gouldiae/*.gz|                 GouldianFinch|                             /data/ensembl/101/species/Erythrura_gouldiae/Erythrura_gouldiae.GouldianFinch.dna.toplevel.fa|         true|                             /data/ensembl/101/species/Erythrura_gouldiae/Erythrura_gouldiae.GouldianFinch.cdna.all.fa|       true|                             /data/ensembl/101/species/Erythrura_gouldiae/Erythrura_gouldiae.GouldianFinch.101.gtf|      true|                             /data/ensembl/101/species/Erythrura_gouldiae/Erythrura_gouldiae.GouldianFinch.pep.all.fa|      true|\n",
            "+------------------------------+-----------------------------------------------------------------------+------------+--------------------------------+--------------------------------------------------------------------------------------------------------------------------------------------------------------------------------------------------------------------------------------------------------------------------------------------------------------------------------------------------------------------------------------------------------------------------------------------------------------------------------------------------------------+------------------------------+--------------------------------------------------------------------------------------------------------------------------+-------------+----------------------------------------------------------------------------------------------------------------------+-----------+------------------------------------------------------------------------------------------------------------------+----------+---------------------------------------------------------------------------------------------------------------------+----------+\n",
            "only showing top 100 rows\n",
            "\n"
          ],
          "output_type" : "stream"
        }
      ]
    },
    {
      "cell_type" : "code",
      "execution_count" : 25,
      "metadata" : {
        "cell.metadata.exec_info" : {
          "startTs" : 1606758080763,
          "endTs" : 1606758082375
        },
        "language" : "scala"
      },
      "language" : "scala",
      "source" : [
        "genomes.where($\"genome_exists\" === false).show(1000, 10000)"
      ],
      "outputs" : [
        {
          "name" : "stdout",
          "text" : [
            "+---------------+-------------------------------------------------------------+------------+----------------------+--------------------------------------------------------------------------------------------------------------------------------------------------------------------------------------------------------------------------------------------------------------------------------------------------------------------------------------------------------------------------------------------------------------------------------------------------+----------------------+----------------------------------------------------------------------------------------------------+-------------+------------------------------------------------------------------------------------------------+-----------+--------------------------------------------------------------------------------------------+----------+-----------------------------------------------------------------------------------------------+----------+\n",
            "|           name|                                                        index|index_exists|               species|                                                                                                                                                                                                                                                                                                                                                                                                                                          download|              assembly|                                                                                              genome|genome_exists|                                                                                            cdna|cdna_exists|                                                                                         gtf|gtf_exists|                                                                                            pep|pep_exists|\n",
            "+---------------+-------------------------------------------------------------+------------+----------------------+--------------------------------------------------------------------------------------------------------------------------------------------------------------------------------------------------------------------------------------------------------------------------------------------------------------------------------------------------------------------------------------------------------------------------------------------------+----------------------+----------------------------------------------------------------------------------------------------+-------------+------------------------------------------------------------------------------------------------+-----------+--------------------------------------------------------------------------------------------+----------+-----------------------------------------------------------------------------------------------+----------+\n",
            "|       Hedgehog|   /data/indexes/salmon/1.3.0/ensembl_101/Erinaceus_europaeus|       false|   Erinaceus_europaeus|                  mkdir -p /data/ensembl/101/species/Erinaceus_europaeus && wget -t 4 -m -nH --cut-dirs=100 -P /data/ensembl/101/species/Erinaceus_europaeus ftp://ftp.ensembl.org/pub/release-101/gtf/erinaceus_europaeus/* && wget -t 4 -m -nH --cut-dirs=100 -P /data/ensembl/101/species/Erinaceus_europaeus ftp://ftp.ensembl.org/pub/release-101/fasta/erinaceus_europaeus/* && gunzip -f /data/ensembl/101/species/Erinaceus_europaeus/*.gz|               eriEur1|           /data/ensembl/101/species/Erinaceus_europaeus/Erinaceus_europaeus.eriEur1.dna.toplevel.fa|        false|           /data/ensembl/101/species/Erinaceus_europaeus/Erinaceus_europaeus.eriEur1.cdna.all.fa|      false|           /data/ensembl/101/species/Erinaceus_europaeus/Erinaceus_europaeus.eriEur1.101.gtf|     false|           /data/ensembl/101/species/Erinaceus_europaeus/Erinaceus_europaeus.eriEur1.pep.all.fa|     false|\n",
            "|       Elephant|    /data/indexes/salmon/1.3.0/ensembl_101/Loxodonta_africana|       false|    Loxodonta_africana|                        mkdir -p /data/ensembl/101/species/Loxodonta_africana && wget -t 4 -m -nH --cut-dirs=100 -P /data/ensembl/101/species/Loxodonta_africana ftp://ftp.ensembl.org/pub/release-101/gtf/loxodonta_africana/* && wget -t 4 -m -nH --cut-dirs=100 -P /data/ensembl/101/species/Loxodonta_africana ftp://ftp.ensembl.org/pub/release-101/fasta/loxodonta_africana/* && gunzip -f /data/ensembl/101/species/Loxodonta_africana/*.gz|             Loxafr3.0|           /data/ensembl/101/species/Loxodonta_africana/Loxodonta_africana.Loxafr3.0.dna.toplevel.fa|        false|           /data/ensembl/101/species/Loxodonta_africana/Loxodonta_africana.Loxafr3.0.cdna.all.fa|      false|           /data/ensembl/101/species/Loxodonta_africana/Loxodonta_africana.Loxafr3.0.101.gtf|     false|           /data/ensembl/101/species/Loxodonta_africana/Loxodonta_africana.Loxafr3.0.pep.all.fa|     false|\n",
            "|   Amazon molly|      /data/indexes/salmon/1.3.0/ensembl_101/Poecilia_formosa|       false|      Poecilia_formosa|                                    mkdir -p /data/ensembl/101/species/Poecilia_formosa && wget -t 4 -m -nH --cut-dirs=100 -P /data/ensembl/101/species/Poecilia_formosa ftp://ftp.ensembl.org/pub/release-101/gtf/poecilia_formosa/* && wget -t 4 -m -nH --cut-dirs=100 -P /data/ensembl/101/species/Poecilia_formosa ftp://ftp.ensembl.org/pub/release-101/fasta/poecilia_formosa/* && gunzip -f /data/ensembl/101/species/Poecilia_formosa/*.gz|Poecilia_formosa-5.1.2|  /data/ensembl/101/species/Poecilia_formosa/Poecilia_formosa.Poecilia_formosa-5.1.2.dna.toplevel.fa|        false|  /data/ensembl/101/species/Poecilia_formosa/Poecilia_formosa.Poecilia_formosa-5.1.2.cdna.all.fa|      false|  /data/ensembl/101/species/Poecilia_formosa/Poecilia_formosa.Poecilia_formosa-5.1.2.101.gtf|     false|  /data/ensembl/101/species/Poecilia_formosa/Poecilia_formosa.Poecilia_formosa-5.1.2.pep.all.fa|     false|\n",
            "|Tasmanian devil|  /data/indexes/salmon/1.3.0/ensembl_101/Sarcophilus_harrisii|       false|  Sarcophilus_harrisii|            mkdir -p /data/ensembl/101/species/Sarcophilus_harrisii && wget -t 4 -m -nH --cut-dirs=100 -P /data/ensembl/101/species/Sarcophilus_harrisii ftp://ftp.ensembl.org/pub/release-101/gtf/sarcophilus_harrisii/* && wget -t 4 -m -nH --cut-dirs=100 -P /data/ensembl/101/species/Sarcophilus_harrisii ftp://ftp.ensembl.org/pub/release-101/fasta/sarcophilus_harrisii/* && gunzip -f /data/ensembl/101/species/Sarcophilus_harrisii/*.gz|        Devil_ref v7.0|   /data/ensembl/101/species/Sarcophilus_harrisii/Sarcophilus_harrisii.Devil_refv7.0.dna.toplevel.fa|        false|   /data/ensembl/101/species/Sarcophilus_harrisii/Sarcophilus_harrisii.Devil_refv7.0.cdna.all.fa|      false|   /data/ensembl/101/species/Sarcophilus_harrisii/Sarcophilus_harrisii.Devil_refv7.0.101.gtf|     false|   /data/ensembl/101/species/Sarcophilus_harrisii/Sarcophilus_harrisii.Devil_refv7.0.pep.all.fa|     false|\n",
            "|          Shrew|         /data/indexes/salmon/1.3.0/ensembl_101/Sorex_araneus|       false|         Sorex_araneus|                                                      mkdir -p /data/ensembl/101/species/Sorex_araneus && wget -t 4 -m -nH --cut-dirs=100 -P /data/ensembl/101/species/Sorex_araneus ftp://ftp.ensembl.org/pub/release-101/gtf/sorex_araneus/* && wget -t 4 -m -nH --cut-dirs=100 -P /data/ensembl/101/species/Sorex_araneus ftp://ftp.ensembl.org/pub/release-101/fasta/sorex_araneus/* && gunzip -f /data/ensembl/101/species/Sorex_araneus/*.gz|               sorAra1|                       /data/ensembl/101/species/Sorex_araneus/Sorex_araneus.sorAra1.dna.toplevel.fa|        false|                       /data/ensembl/101/species/Sorex_araneus/Sorex_araneus.sorAra1.cdna.all.fa|      false|                       /data/ensembl/101/species/Sorex_araneus/Sorex_araneus.sorAra1.101.gtf|     false|                       /data/ensembl/101/species/Sorex_araneus/Sorex_araneus.sorAra1.pep.all.fa|     false|\n",
            "|      Tetraodon|/data/indexes/salmon/1.3.0/ensembl_101/Tetraodon_nigroviridis|       false|Tetraodon_nigroviridis|mkdir -p /data/ensembl/101/species/Tetraodon_nigroviridis && wget -t 4 -m -nH --cut-dirs=100 -P /data/ensembl/101/species/Tetraodon_nigroviridis ftp://ftp.ensembl.org/pub/release-101/gtf/tetraodon_nigroviridis/* && wget -t 4 -m -nH --cut-dirs=100 -P /data/ensembl/101/species/Tetraodon_nigroviridis ftp://ftp.ensembl.org/pub/release-101/fasta/tetraodon_nigroviridis/* && gunzip -f /data/ensembl/101/species/Tetraodon_nigroviridis/*.gz|         TETRAODON 8.0|/data/ensembl/101/species/Tetraodon_nigroviridis/Tetraodon_nigroviridis.TETRAODON8.0.dna.toplevel.fa|        false|/data/ensembl/101/species/Tetraodon_nigroviridis/Tetraodon_nigroviridis.TETRAODON8.0.cdna.all.fa|      false|/data/ensembl/101/species/Tetraodon_nigroviridis/Tetraodon_nigroviridis.TETRAODON8.0.101.gtf|     false|/data/ensembl/101/species/Tetraodon_nigroviridis/Tetraodon_nigroviridis.TETRAODON8.0.pep.all.fa|     false|\n",
            "|     Tree Shrew|      /data/indexes/salmon/1.3.0/ensembl_101/Tupaia_belangeri|       false|      Tupaia_belangeri|                                    mkdir -p /data/ensembl/101/species/Tupaia_belangeri && wget -t 4 -m -nH --cut-dirs=100 -P /data/ensembl/101/species/Tupaia_belangeri ftp://ftp.ensembl.org/pub/release-101/gtf/tupaia_belangeri/* && wget -t 4 -m -nH --cut-dirs=100 -P /data/ensembl/101/species/Tupaia_belangeri ftp://ftp.ensembl.org/pub/release-101/fasta/tupaia_belangeri/* && gunzip -f /data/ensembl/101/species/Tupaia_belangeri/*.gz|               tupBel1|                 /data/ensembl/101/species/Tupaia_belangeri/Tupaia_belangeri.tupBel1.dna.toplevel.fa|        false|                 /data/ensembl/101/species/Tupaia_belangeri/Tupaia_belangeri.tupBel1.cdna.all.fa|      false|                 /data/ensembl/101/species/Tupaia_belangeri/Tupaia_belangeri.tupBel1.101.gtf|     false|                 /data/ensembl/101/species/Tupaia_belangeri/Tupaia_belangeri.tupBel1.pep.all.fa|     false|\n",
            "+---------------+-------------------------------------------------------------+------------+----------------------+--------------------------------------------------------------------------------------------------------------------------------------------------------------------------------------------------------------------------------------------------------------------------------------------------------------------------------------------------------------------------------------------------------------------------------------------------+----------------------+----------------------------------------------------------------------------------------------------+-------------+------------------------------------------------------------------------------------------------+-----------+--------------------------------------------------------------------------------------------+----------+-----------------------------------------------------------------------------------------------+----------+\n",
            "\n"
          ],
          "output_type" : "stream"
        }
      ]
    },
    {
      "cell_type" : "code",
      "execution_count" : 26,
      "metadata" : {
        "cell.metadata.exec_info" : {
          "startTs" : 1606758082378,
          "endTs" : 1606758082747
        },
        "language" : "scala"
      },
      "language" : "scala",
      "source" : [
        "genomes.select(\"index\", \"assembly\", \"index_exists\").withColumn(\"index2\", concat($\"index\" , lit(\"/\") , $\"assembly\")).where($\"index_exists\" === false).show(100,1000)"
      ],
      "outputs" : [
        {
          "name" : "stdout",
          "text" : [
            "+-----------------------------------------------------------------------+------------------------------+------------+------------------------------------------------------------------------------------------+\n",
            "|                                                                  index|                      assembly|index_exists|                                                                                    index2|\n",
            "+-----------------------------------------------------------------------+------------------------------+------------+------------------------------------------------------------------------------------------+\n",
            "|     /data/indexes/salmon/1.3.0/ensembl_101/Acanthochromis_polyacanthus|                   ASM210954v1|       false|            /data/indexes/salmon/1.3.0/ensembl_101/Acanthochromis_polyacanthus/ASM210954v1|\n",
            "|                 /data/indexes/salmon/1.3.0/ensembl_101/Accipiter_nisus|        Accipiter_nisus_ver1.0|       false|             /data/indexes/salmon/1.3.0/ensembl_101/Accipiter_nisus/Accipiter_nisus_ver1.0|\n",
            "|          /data/indexes/salmon/1.3.0/ensembl_101/Ailuropoda_melanoleuca|                       ailMel1|       false|                     /data/indexes/salmon/1.3.0/ensembl_101/Ailuropoda_melanoleuca/ailMel1|\n",
            "|                /data/indexes/salmon/1.3.0/ensembl_101/Amazona_collaria|                   ASM394721v1|       false|                       /data/indexes/salmon/1.3.0/ensembl_101/Amazona_collaria/ASM394721v1|\n",
            "|         /data/indexes/salmon/1.3.0/ensembl_101/Amphilophus_citrinellus|                      Midas_v5|       false|                   /data/indexes/salmon/1.3.0/ensembl_101/Amphilophus_citrinellus/Midas_v5|\n",
            "|            /data/indexes/salmon/1.3.0/ensembl_101/Amphiprion_ocellaris|                     AmpOce1.0|       false|                     /data/indexes/salmon/1.3.0/ensembl_101/Amphiprion_ocellaris/AmpOce1.0|\n",
            "|              /data/indexes/salmon/1.3.0/ensembl_101/Amphiprion_percula|                       Nemo_v1|       false|                         /data/indexes/salmon/1.3.0/ensembl_101/Amphiprion_percula/Nemo_v1|\n",
            "|              /data/indexes/salmon/1.3.0/ensembl_101/Anabas_testudineus|                    fAnaTes1.1|       false|                      /data/indexes/salmon/1.3.0/ensembl_101/Anabas_testudineus/fAnaTes1.1|\n",
            "|              /data/indexes/salmon/1.3.0/ensembl_101/Anas_platyrhynchos|                   ASM874695v1|       false|                     /data/indexes/salmon/1.3.0/ensembl_101/Anas_platyrhynchos/ASM874695v1|\n",
            "|/data/indexes/salmon/1.3.0/ensembl_101/Anas_platyrhynchos_platyrhynchos|                   CAU_duck1.0|       false|       /data/indexes/salmon/1.3.0/ensembl_101/Anas_platyrhynchos_platyrhynchos/CAU_duck1.0|\n",
            "|                /data/indexes/salmon/1.3.0/ensembl_101/Anas_zonorhyncha|                   ASM222487v1|       false|                       /data/indexes/salmon/1.3.0/ensembl_101/Anas_zonorhyncha/ASM222487v1|\n",
            "|             /data/indexes/salmon/1.3.0/ensembl_101/Anolis_carolinensis|                     AnoCar2.0|       false|                      /data/indexes/salmon/1.3.0/ensembl_101/Anolis_carolinensis/AnoCar2.0|\n",
            "|            /data/indexes/salmon/1.3.0/ensembl_101/Anser_brachyrhynchus|                   ASM259213v1|       false|                   /data/indexes/salmon/1.3.0/ensembl_101/Anser_brachyrhynchus/ASM259213v1|\n",
            "|                 /data/indexes/salmon/1.3.0/ensembl_101/Anser_cygnoides|                     GooseV1.0|       false|                          /data/indexes/salmon/1.3.0/ensembl_101/Anser_cygnoides/GooseV1.0|\n",
            "|                 /data/indexes/salmon/1.3.0/ensembl_101/Aotus_nancymaae|                      Anan_2.0|       false|                           /data/indexes/salmon/1.3.0/ensembl_101/Aotus_nancymaae/Anan_2.0|\n",
            "|                 /data/indexes/salmon/1.3.0/ensembl_101/Apteryx_haastii|                       aptHaa1|       false|                            /data/indexes/salmon/1.3.0/ensembl_101/Apteryx_haastii/aptHaa1|\n",
            "|                  /data/indexes/salmon/1.3.0/ensembl_101/Apteryx_owenii|                       aptOwe1|       false|                             /data/indexes/salmon/1.3.0/ensembl_101/Apteryx_owenii/aptOwe1|\n",
            "|                    /data/indexes/salmon/1.3.0/ensembl_101/Apteryx_rowi|                       aptRow1|       false|                               /data/indexes/salmon/1.3.0/ensembl_101/Apteryx_rowi/aptRow1|\n",
            "|    /data/indexes/salmon/1.3.0/ensembl_101/Aquila_chrysaetos_chrysaetos|                    bAquChr1.2|       false|            /data/indexes/salmon/1.3.0/ensembl_101/Aquila_chrysaetos_chrysaetos/bAquChr1.2|\n",
            "|        /data/indexes/salmon/1.3.0/ensembl_101/Astatotilapia_calliptera|                    fAstCal1.2|       false|                /data/indexes/salmon/1.3.0/ensembl_101/Astatotilapia_calliptera/fAstCal1.2|\n",
            "|              /data/indexes/salmon/1.3.0/ensembl_101/Astyanax_mexicanus|        Astyanax_mexicanus-2.0|       false|          /data/indexes/salmon/1.3.0/ensembl_101/Astyanax_mexicanus/Astyanax_mexicanus-2.0|\n",
            "|       /data/indexes/salmon/1.3.0/ensembl_101/Astyanax_mexicanus_pachon|      Astyanax_mexicanus-1.0.2|       false| /data/indexes/salmon/1.3.0/ensembl_101/Astyanax_mexicanus_pachon/Astyanax_mexicanus-1.0.2|\n",
            "|              /data/indexes/salmon/1.3.0/ensembl_101/Athene_cunicularia|                       athCun1|       false|                         /data/indexes/salmon/1.3.0/ensembl_101/Athene_cunicularia/athCun1|\n",
            "|           /data/indexes/salmon/1.3.0/ensembl_101/Balaenoptera_musculus|                   mBalMus1.v2|       false|                  /data/indexes/salmon/1.3.0/ensembl_101/Balaenoptera_musculus/mBalMus1.v2|\n",
            "|                 /data/indexes/salmon/1.3.0/ensembl_101/Betta_splendens|                    fBetSpl5.2|       false|                         /data/indexes/salmon/1.3.0/ensembl_101/Betta_splendens/fBetSpl5.2|\n",
            "|               /data/indexes/salmon/1.3.0/ensembl_101/Bison_bison_bison|                  Bison_UMD1.0|       false|                     /data/indexes/salmon/1.3.0/ensembl_101/Bison_bison_bison/Bison_UMD1.0|\n",
            "|                   /data/indexes/salmon/1.3.0/ensembl_101/Bos_grunniens|                LU_Bosgru_v3.0|       false|                       /data/indexes/salmon/1.3.0/ensembl_101/Bos_grunniens/LU_Bosgru_v3.0|\n",
            "|              /data/indexes/salmon/1.3.0/ensembl_101/Bos_indicus_hybrid|                 UOA_Brahman_1|       false|                   /data/indexes/salmon/1.3.0/ensembl_101/Bos_indicus_hybrid/UOA_Brahman_1|\n",
            "|                       /data/indexes/salmon/1.3.0/ensembl_101/Bos_mutus|                   BosGru_v2.0|       false|                              /data/indexes/salmon/1.3.0/ensembl_101/Bos_mutus/BosGru_v2.0|\n",
            "|                      /data/indexes/salmon/1.3.0/ensembl_101/Bos_taurus|                    ARS-UCD1.2|       false|                              /data/indexes/salmon/1.3.0/ensembl_101/Bos_taurus/ARS-UCD1.2|\n",
            "|               /data/indexes/salmon/1.3.0/ensembl_101/Bos_taurus_hybrid|                   UOA_Angus_1|       false|                      /data/indexes/salmon/1.3.0/ensembl_101/Bos_taurus_hybrid/UOA_Angus_1|\n",
            "|                       /data/indexes/salmon/1.3.0/ensembl_101/Bubo_bubo|                     BubBub1.0|       false|                                /data/indexes/salmon/1.3.0/ensembl_101/Bubo_bubo/BubBub1.0|\n",
            "|                 /data/indexes/salmon/1.3.0/ensembl_101/Buteo_japonicus|                     ButJap1.0|       false|                          /data/indexes/salmon/1.3.0/ensembl_101/Buteo_japonicus/ButJap1.0|\n",
            "|          /data/indexes/salmon/1.3.0/ensembl_101/Caenorhabditis_elegans|                      WBcel235|       false|                    /data/indexes/salmon/1.3.0/ensembl_101/Caenorhabditis_elegans/WBcel235|\n",
            "|      /data/indexes/salmon/1.3.0/ensembl_101/Cairina_moschata_domestica|                     CaiMos1.0|       false|               /data/indexes/salmon/1.3.0/ensembl_101/Cairina_moschata_domestica/CaiMos1.0|\n",
            "|                 /data/indexes/salmon/1.3.0/ensembl_101/Calidris_pugnax|                   ASM143184v1|       false|                        /data/indexes/salmon/1.3.0/ensembl_101/Calidris_pugnax/ASM143184v1|\n",
            "|                /data/indexes/salmon/1.3.0/ensembl_101/Calidris_pygmaea|                   ASM369795v1|       false|                       /data/indexes/salmon/1.3.0/ensembl_101/Calidris_pygmaea/ASM369795v1|\n",
            "|              /data/indexes/salmon/1.3.0/ensembl_101/Callithrix_jacchus|                   ASM275486v1|       false|                     /data/indexes/salmon/1.3.0/ensembl_101/Callithrix_jacchus/ASM275486v1|\n",
            "|             /data/indexes/salmon/1.3.0/ensembl_101/Callorhinchus_milii|     Callorhinchus_milii-6.1.3|       false|      /data/indexes/salmon/1.3.0/ensembl_101/Callorhinchus_milii/Callorhinchus_milii-6.1.3|\n",
            "|           /data/indexes/salmon/1.3.0/ensembl_101/Camarhynchus_parvulus|                       STF_HiC|       false|                      /data/indexes/salmon/1.3.0/ensembl_101/Camarhynchus_parvulus/STF_HiC|\n",
            "|             /data/indexes/salmon/1.3.0/ensembl_101/Camelus_dromedarius|                       CamDro2|       false|                        /data/indexes/salmon/1.3.0/ensembl_101/Camelus_dromedarius/CamDro2|\n",
            "|               /data/indexes/salmon/1.3.0/ensembl_101/Canis_lupus_dingo|                   ASM325472v1|       false|                      /data/indexes/salmon/1.3.0/ensembl_101/Canis_lupus_dingo/ASM325472v1|\n",
            "|          /data/indexes/salmon/1.3.0/ensembl_101/Canis_lupus_familiaris|                     CanFam3.1|       false|                   /data/indexes/salmon/1.3.0/ensembl_101/Canis_lupus_familiaris/CanFam3.1|\n",
            "|   /data/indexes/salmon/1.3.0/ensembl_101/Canis_lupus_familiarisbasenji|             Basenji_breed-1.1|       false|    /data/indexes/salmon/1.3.0/ensembl_101/Canis_lupus_familiarisbasenji/Basenji_breed-1.1|\n",
            "| /data/indexes/salmon/1.3.0/ensembl_101/Canis_lupus_familiarisgreatdane|                UMICH_Zoey_3.1|       false|     /data/indexes/salmon/1.3.0/ensembl_101/Canis_lupus_familiarisgreatdane/UMICH_Zoey_3.1|\n",
            "|                    /data/indexes/salmon/1.3.0/ensembl_101/Capra_hircus|                          ARS1|       false|                                  /data/indexes/salmon/1.3.0/ensembl_101/Capra_hircus/ARS1|\n",
            "|        /data/indexes/salmon/1.3.0/ensembl_101/Capra_hircus_blackbengal|                 CVASU_BBG_1.0|       false|             /data/indexes/salmon/1.3.0/ensembl_101/Capra_hircus_blackbengal/CVASU_BBG_1.0|\n",
            "|               /data/indexes/salmon/1.3.0/ensembl_101/Carassius_auratus|                   ASM336829v1|       false|                      /data/indexes/salmon/1.3.0/ensembl_101/Carassius_auratus/ASM336829v1|\n",
            "|                /data/indexes/salmon/1.3.0/ensembl_101/Carlito_syrichta|        Tarsius_syrichta-2.0.1|       false|            /data/indexes/salmon/1.3.0/ensembl_101/Carlito_syrichta/Tarsius_syrichta-2.0.1|\n",
            "|               /data/indexes/salmon/1.3.0/ensembl_101/Castor_canadensis|             C.can_genome_v1.0|       false|                /data/indexes/salmon/1.3.0/ensembl_101/Castor_canadensis/C.can_genome_v1.0|\n",
            "|               /data/indexes/salmon/1.3.0/ensembl_101/Catagonus_wagneri|            CatWag_v2_BIUU_UCD|       false|               /data/indexes/salmon/1.3.0/ensembl_101/Catagonus_wagneri/CatWag_v2_BIUU_UCD|\n",
            "|              /data/indexes/salmon/1.3.0/ensembl_101/Catharus_ustulatus|                  bCatUst1.pri|       false|                    /data/indexes/salmon/1.3.0/ensembl_101/Catharus_ustulatus/bCatUst1.pri|\n",
            "|                    /data/indexes/salmon/1.3.0/ensembl_101/Cavia_aperea|                      CavAp1.0|       false|                              /data/indexes/salmon/1.3.0/ensembl_101/Cavia_aperea/CavAp1.0|\n",
            "|                 /data/indexes/salmon/1.3.0/ensembl_101/Cavia_porcellus|                     Cavpor3.0|       false|                          /data/indexes/salmon/1.3.0/ensembl_101/Cavia_porcellus/Cavpor3.0|\n",
            "|                 /data/indexes/salmon/1.3.0/ensembl_101/Cebus_capucinus|            Cebus_imitator-1.0|       false|                 /data/indexes/salmon/1.3.0/ensembl_101/Cebus_capucinus/Cebus_imitator-1.0|\n",
            "|                 /data/indexes/salmon/1.3.0/ensembl_101/Cercocebus_atys|                      Caty_1.0|       false|                           /data/indexes/salmon/1.3.0/ensembl_101/Cercocebus_atys/Caty_1.0|\n",
            "|      /data/indexes/salmon/1.3.0/ensembl_101/Cervus_hanglu_yarkandensis|                        CEY_v1|       false|                  /data/indexes/salmon/1.3.0/ensembl_101/Cervus_hanglu_yarkandensis/CEY_v1|\n",
            "|          /data/indexes/salmon/1.3.0/ensembl_101/Chelonoidis_abingdonii|                   ASM359739v1|       false|                 /data/indexes/salmon/1.3.0/ensembl_101/Chelonoidis_abingdonii/ASM359739v1|\n",
            "|             /data/indexes/salmon/1.3.0/ensembl_101/Chelydra_serpentina|       Chelydra_serpentina-1.0|       false|        /data/indexes/salmon/1.3.0/ensembl_101/Chelydra_serpentina/Chelydra_serpentina-1.0|\n",
            "|             /data/indexes/salmon/1.3.0/ensembl_101/Chinchilla_lanigera|                     ChiLan1.0|       false|                      /data/indexes/salmon/1.3.0/ensembl_101/Chinchilla_lanigera/ChiLan1.0|\n",
            "|             /data/indexes/salmon/1.3.0/ensembl_101/Chlorocebus_sabaeus|                     ChlSab1.1|       false|                      /data/indexes/salmon/1.3.0/ensembl_101/Chlorocebus_sabaeus/ChlSab1.1|\n",
            "|             /data/indexes/salmon/1.3.0/ensembl_101/Choloepus_hoffmanni|                       choHof1|       false|                        /data/indexes/salmon/1.3.0/ensembl_101/Choloepus_hoffmanni/choHof1|\n",
            "|          /data/indexes/salmon/1.3.0/ensembl_101/Chrysemys_picta_bellii|  Chrysemys_picta_bellii-3.0.3|       false|/data/indexes/salmon/1.3.0/ensembl_101/Chrysemys_picta_bellii/Chrysemys_picta_bellii-3.0.3|\n",
            "|             /data/indexes/salmon/1.3.0/ensembl_101/Chrysolophus_pictus|Chrysolophus_pictus_GenomeV1.0|       false| /data/indexes/salmon/1.3.0/ensembl_101/Chrysolophus_pictus/Chrysolophus_pictus_GenomeV1.0|\n",
            "|              /data/indexes/salmon/1.3.0/ensembl_101/Ciona_intestinalis|                            KH|       false|                              /data/indexes/salmon/1.3.0/ensembl_101/Ciona_intestinalis/KH|\n",
            "|                  /data/indexes/salmon/1.3.0/ensembl_101/Ciona_savignyi|                      CSAV 2.0|       false|                            /data/indexes/salmon/1.3.0/ensembl_101/Ciona_savignyi/CSAV 2.0|\n",
            "|                 /data/indexes/salmon/1.3.0/ensembl_101/Clupea_harengus|                     Ch_v2.0.2|       false|                          /data/indexes/salmon/1.3.0/ensembl_101/Clupea_harengus/Ch_v2.0.2|\n",
            "|    /data/indexes/salmon/1.3.0/ensembl_101/Colobus_angolensis_palliatus|                   Cang.pa_1.0|       false|           /data/indexes/salmon/1.3.0/ensembl_101/Colobus_angolensis_palliatus/Cang.pa_1.0|\n",
            "|             /data/indexes/salmon/1.3.0/ensembl_101/Corvus_moneduloides|                   UO_Cmon_1.0|       false|                    /data/indexes/salmon/1.3.0/ensembl_101/Corvus_moneduloides/UO_Cmon_1.0|\n",
            "|                /data/indexes/salmon/1.3.0/ensembl_101/Cottoperca_gobio|                    fCotGob3.1|       false|                        /data/indexes/salmon/1.3.0/ensembl_101/Cottoperca_gobio/fCotGob3.1|\n",
            "|               /data/indexes/salmon/1.3.0/ensembl_101/Coturnix_japonica|         Coturnix_japonica_2.0|       false|            /data/indexes/salmon/1.3.0/ensembl_101/Coturnix_japonica/Coturnix_japonica_2.0|\n",
            "|    /data/indexes/salmon/1.3.0/ensembl_101/Cricetulus_griseus_chok1gshd|                  CHOK1GS_HDv1|       false|          /data/indexes/salmon/1.3.0/ensembl_101/Cricetulus_griseus_chok1gshd/CHOK1GS_HDv1|\n",
            "|       /data/indexes/salmon/1.3.0/ensembl_101/Cricetulus_griseus_crigri|                    CriGri_1.0|       false|               /data/indexes/salmon/1.3.0/ensembl_101/Cricetulus_griseus_crigri/CriGri_1.0|\n",
            "|         /data/indexes/salmon/1.3.0/ensembl_101/Cricetulus_griseus_picr|                   CriGri-PICR|       false|                /data/indexes/salmon/1.3.0/ensembl_101/Cricetulus_griseus_picr/CriGri-PICR|\n",
            "|              /data/indexes/salmon/1.3.0/ensembl_101/Crocodylus_porosus|                  CroPor_comp1|       false|                    /data/indexes/salmon/1.3.0/ensembl_101/Crocodylus_porosus/CroPor_comp1|\n",
            "|             /data/indexes/salmon/1.3.0/ensembl_101/Cyanistes_caeruleus|                       cyaCae2|       false|                        /data/indexes/salmon/1.3.0/ensembl_101/Cyanistes_caeruleus/cyaCae2|\n",
            "|              /data/indexes/salmon/1.3.0/ensembl_101/Cyclopterus_lumpus|                  fCycLum1.pri|       false|                    /data/indexes/salmon/1.3.0/ensembl_101/Cyclopterus_lumpus/fCycLum1.pri|\n",
            "|          /data/indexes/salmon/1.3.0/ensembl_101/Cynoglossus_semilaevis|                      Cse_v1.0|       false|                    /data/indexes/salmon/1.3.0/ensembl_101/Cynoglossus_semilaevis/Cse_v1.0|\n",
            "|           /data/indexes/salmon/1.3.0/ensembl_101/Cyprinodon_variegatus|              C_variegatus-1.0|       false|             /data/indexes/salmon/1.3.0/ensembl_101/Cyprinodon_variegatus/C_variegatus-1.0|\n",
            "|                 /data/indexes/salmon/1.3.0/ensembl_101/Cyprinus_carpio|            common_carp_genome|       false|                 /data/indexes/salmon/1.3.0/ensembl_101/Cyprinus_carpio/common_carp_genome|\n",
            "|    /data/indexes/salmon/1.3.0/ensembl_101/Cyprinus_carpio_germanmirror|        German_Mirror_carp_1.0|       false|/data/indexes/salmon/1.3.0/ensembl_101/Cyprinus_carpio_germanmirror/German_Mirror_carp_1.0|\n",
            "|        /data/indexes/salmon/1.3.0/ensembl_101/Cyprinus_carpio_hebaored|            Hebao_red_carp_1.0|       false|        /data/indexes/salmon/1.3.0/ensembl_101/Cyprinus_carpio_hebaored/Hebao_red_carp_1.0|\n",
            "|         /data/indexes/salmon/1.3.0/ensembl_101/Cyprinus_carpio_huanghe|              Hunaghe_carp_2.0|       false|           /data/indexes/salmon/1.3.0/ensembl_101/Cyprinus_carpio_huanghe/Hunaghe_carp_2.0|\n",
            "|                     /data/indexes/salmon/1.3.0/ensembl_101/Danio_rerio|                        GRCz11|       false|                                 /data/indexes/salmon/1.3.0/ensembl_101/Danio_rerio/GRCz11|\n",
            "|            /data/indexes/salmon/1.3.0/ensembl_101/Dasypus_novemcinctus|                     Dasnov3.0|       false|                     /data/indexes/salmon/1.3.0/ensembl_101/Dasypus_novemcinctus/Dasnov3.0|\n",
            "|           /data/indexes/salmon/1.3.0/ensembl_101/Delphinapterus_leucas|                   ASM228892v3|       false|                  /data/indexes/salmon/1.3.0/ensembl_101/Delphinapterus_leucas/ASM228892v3|\n",
            "|            /data/indexes/salmon/1.3.0/ensembl_101/Denticeps_clupeoides|                    fDenClu1.1|       false|                    /data/indexes/salmon/1.3.0/ensembl_101/Denticeps_clupeoides/fDenClu1.1|\n",
            "|            /data/indexes/salmon/1.3.0/ensembl_101/Dicentrarchus_labrax|                  seabass_V1.0|       false|                  /data/indexes/salmon/1.3.0/ensembl_101/Dicentrarchus_labrax/seabass_V1.0|\n",
            "|                 /data/indexes/salmon/1.3.0/ensembl_101/Dipodomys_ordii|                      Dord_2.0|       false|                           /data/indexes/salmon/1.3.0/ensembl_101/Dipodomys_ordii/Dord_2.0|\n",
            "|        /data/indexes/salmon/1.3.0/ensembl_101/Dromaius_novaehollandiae|                       droNov1|       false|                   /data/indexes/salmon/1.3.0/ensembl_101/Dromaius_novaehollandiae/droNov1|\n",
            "|         /data/indexes/salmon/1.3.0/ensembl_101/Drosophila_melanogaster|                      BDGP6.28|       false|                   /data/indexes/salmon/1.3.0/ensembl_101/Drosophila_melanogaster/BDGP6.28|\n",
            "|              /data/indexes/salmon/1.3.0/ensembl_101/Echeneis_naucrates|                    fEcheNa1.1|       false|                      /data/indexes/salmon/1.3.0/ensembl_101/Echeneis_naucrates/fEcheNa1.1|\n",
            "|               /data/indexes/salmon/1.3.0/ensembl_101/Echinops_telfairi|                        TENREC|       false|                           /data/indexes/salmon/1.3.0/ensembl_101/Echinops_telfairi/TENREC|\n",
            "|        /data/indexes/salmon/1.3.0/ensembl_101/Electrophorus_electricus|           Ee_SOAP_WITH_SSPACE|       false|       /data/indexes/salmon/1.3.0/ensembl_101/Electrophorus_electricus/Ee_SOAP_WITH_SSPACE|\n",
            "|              /data/indexes/salmon/1.3.0/ensembl_101/Eptatretus_burgeri|                  Eburgeri_3.2|       false|                    /data/indexes/salmon/1.3.0/ensembl_101/Eptatretus_burgeri/Eburgeri_3.2|\n",
            "|             /data/indexes/salmon/1.3.0/ensembl_101/Equus_asinus_asinus|                   ASM303372v1|       false|                    /data/indexes/salmon/1.3.0/ensembl_101/Equus_asinus_asinus/ASM303372v1|\n",
            "|                  /data/indexes/salmon/1.3.0/ensembl_101/Equus_caballus|                     EquCab3.0|       false|                           /data/indexes/salmon/1.3.0/ensembl_101/Equus_caballus/EquCab3.0|\n",
            "|             /data/indexes/salmon/1.3.0/ensembl_101/Erinaceus_europaeus|                       eriEur1|       false|                        /data/indexes/salmon/1.3.0/ensembl_101/Erinaceus_europaeus/eriEur1|\n",
            "|       /data/indexes/salmon/1.3.0/ensembl_101/Erpetoichthys_calabaricus|                    fErpCal1.1|       false|               /data/indexes/salmon/1.3.0/ensembl_101/Erpetoichthys_calabaricus/fErpCal1.1|\n",
            "|              /data/indexes/salmon/1.3.0/ensembl_101/Erythrura_gouldiae|                 GouldianFinch|       false|                   /data/indexes/salmon/1.3.0/ensembl_101/Erythrura_gouldiae/GouldianFinch|\n",
            "+-----------------------------------------------------------------------+------------------------------+------------+------------------------------------------------------------------------------------------+\n",
            "only showing top 100 rows\n",
            "\n"
          ],
          "output_type" : "stream"
        }
      ]
    },
    {
      "cell_type" : "markdown",
      "execution_count" : 27,
      "metadata" : {
        "language" : "text"
      },
      "language" : "text",
      "source" : [
        "**Computing table of files to download**\n",
        "\n",
        "\n"
      ],
      "outputs" : [
      ]
    },
    {
      "cell_type" : "code",
      "execution_count" : 28,
      "metadata" : {
        "cell.metadata.exec_info" : {
          "startTs" : 1606758082751,
          "endTs" : 1606758084275
        },
        "language" : "scala"
      },
      "language" : "scala",
      "source" : [
        "import ammonite.ops._\n",
        "val to_download = genomes.where($\"cdna_exists\" === false).select(\"download\").as[String] \n",
        "val already_downloaded = genomes.where($\"cdna_exists\" === true).select(\"download\").as[String] \n",
        "println(\"ALREADY DOWNLOADED: \"+already_downloaded.count)\n",
        "println(\"TO DOWNLOAD: \"+to_download.count)\n",
        "genomes.where($\"genome_exists\" === false).select(\"species\").sort($\"species\".asc).show(1000)"
      ],
      "outputs" : [
        {
          "name" : "stdout",
          "text" : [
            "ALREADY DOWNLOADED: 303\n",
            "TO DOWNLOAD: 7\n",
            "+--------------------+\n",
            "|             species|\n",
            "+--------------------+\n",
            "| Erinaceus_europaeus|\n",
            "|  Loxodonta_africana|\n",
            "|    Poecilia_formosa|\n",
            "|Sarcophilus_harrisii|\n",
            "|       Sorex_araneus|\n",
            "|Tetraodon_nigrovi...|\n",
            "|    Tupaia_belangeri|\n",
            "+--------------------+\n",
            "\n"
          ],
          "output_type" : "stream"
        }
      ]
    },
    {
      "cell_type" : "code",
      "execution_count" : 29,
      "metadata" : {
        "cell.metadata.exec_info" : {
          "startTs" : 1606357031304,
          "endTs" : 1606357031669
        },
        "language" : "scala"
      },
      "language" : "scala",
      "source" : [
        "//val to_download = genomes.where($\"species\" === \"Homo_sapiens\").select(\"download\").as[String] \n",
        "val str = to_download.as[String].collect.toList.mkString(\"\\n\")\n",
        "//str"
      ],
      "outputs" : [
      ]
    },
    {
      "cell_type" : "code",
      "execution_count" : 30,
      "metadata" : {
        "cell.metadata.exec_info" : {
          "startTs" : 1606351848981,
          "endTs" : 1606351849190
        },
        "language" : "scala"
      },
      "language" : "scala",
      "source" : [
        "write.over(Path( (ensembl_dir / \"selected_download.sh\").pathAsString), str, perms = default_ammonite_permissions)"
      ],
      "outputs" : [
      ]
    },
    {
      "cell_type" : "markdown",
      "execution_count" : 31,
      "metadata" : {
        "language" : "text"
      },
      "language" : "text",
      "source" : [
      ],
      "outputs" : [
      ]
    },
    {
      "cell_type" : "markdown",
      "execution_count" : 32,
      "metadata" : {
        "language" : "text"
      },
      "language" : "text",
      "source" : [
        "# NOTE: After this step we assume that the user started selected_download.sh script in bash and waited until download finished\n",
        "\n",
        "What youn can also do: once again check which species were downloaded and have indexes\n",
        "\n"
      ],
      "outputs" : [
      ]
    },
    {
      "cell_type" : "code",
      "execution_count" : 33,
      "metadata" : {
        "cell.metadata.exec_info" : {
          "startTs" : 1606357031673,
          "endTs" : 1606357031918
        },
        "language" : "scala"
      },
      "language" : "scala",
      "source" : [
        "genomes.select(\"index\", \"assembly\", \"index_exists\").withColumn(\"index2\", concat($\"index\" , lit(\"/\") , $\"assembly\")).where($\"index_exists\" === false).show(100,1000)"
      ],
      "outputs" : [
        {
          "name" : "stdout",
          "text" : [
            "+-----------------------------------------------------------------------+------------------------------+------------+------------------------------------------------------------------------------------------+\n",
            "|                                                                  index|                      assembly|index_exists|                                                                                    index2|\n",
            "+-----------------------------------------------------------------------+------------------------------+------------+------------------------------------------------------------------------------------------+\n",
            "|     /data/indexes/salmon/1.3.0/ensembl_101/Acanthochromis_polyacanthus|                   ASM210954v1|       false|            /data/indexes/salmon/1.3.0/ensembl_101/Acanthochromis_polyacanthus/ASM210954v1|\n",
            "|                 /data/indexes/salmon/1.3.0/ensembl_101/Accipiter_nisus|        Accipiter_nisus_ver1.0|       false|             /data/indexes/salmon/1.3.0/ensembl_101/Accipiter_nisus/Accipiter_nisus_ver1.0|\n",
            "|          /data/indexes/salmon/1.3.0/ensembl_101/Ailuropoda_melanoleuca|                       ailMel1|       false|                     /data/indexes/salmon/1.3.0/ensembl_101/Ailuropoda_melanoleuca/ailMel1|\n",
            "|                /data/indexes/salmon/1.3.0/ensembl_101/Amazona_collaria|                   ASM394721v1|       false|                       /data/indexes/salmon/1.3.0/ensembl_101/Amazona_collaria/ASM394721v1|\n",
            "|         /data/indexes/salmon/1.3.0/ensembl_101/Amphilophus_citrinellus|                      Midas_v5|       false|                   /data/indexes/salmon/1.3.0/ensembl_101/Amphilophus_citrinellus/Midas_v5|\n",
            "|            /data/indexes/salmon/1.3.0/ensembl_101/Amphiprion_ocellaris|                     AmpOce1.0|       false|                     /data/indexes/salmon/1.3.0/ensembl_101/Amphiprion_ocellaris/AmpOce1.0|\n",
            "|              /data/indexes/salmon/1.3.0/ensembl_101/Amphiprion_percula|                       Nemo_v1|       false|                         /data/indexes/salmon/1.3.0/ensembl_101/Amphiprion_percula/Nemo_v1|\n",
            "|              /data/indexes/salmon/1.3.0/ensembl_101/Anabas_testudineus|                    fAnaTes1.1|       false|                      /data/indexes/salmon/1.3.0/ensembl_101/Anabas_testudineus/fAnaTes1.1|\n",
            "|              /data/indexes/salmon/1.3.0/ensembl_101/Anas_platyrhynchos|                   ASM874695v1|       false|                     /data/indexes/salmon/1.3.0/ensembl_101/Anas_platyrhynchos/ASM874695v1|\n",
            "|/data/indexes/salmon/1.3.0/ensembl_101/Anas_platyrhynchos_platyrhynchos|                   CAU_duck1.0|       false|       /data/indexes/salmon/1.3.0/ensembl_101/Anas_platyrhynchos_platyrhynchos/CAU_duck1.0|\n",
            "|                /data/indexes/salmon/1.3.0/ensembl_101/Anas_zonorhyncha|                   ASM222487v1|       false|                       /data/indexes/salmon/1.3.0/ensembl_101/Anas_zonorhyncha/ASM222487v1|\n",
            "|             /data/indexes/salmon/1.3.0/ensembl_101/Anolis_carolinensis|                     AnoCar2.0|       false|                      /data/indexes/salmon/1.3.0/ensembl_101/Anolis_carolinensis/AnoCar2.0|\n",
            "|            /data/indexes/salmon/1.3.0/ensembl_101/Anser_brachyrhynchus|                   ASM259213v1|       false|                   /data/indexes/salmon/1.3.0/ensembl_101/Anser_brachyrhynchus/ASM259213v1|\n",
            "|                 /data/indexes/salmon/1.3.0/ensembl_101/Anser_cygnoides|                     GooseV1.0|       false|                          /data/indexes/salmon/1.3.0/ensembl_101/Anser_cygnoides/GooseV1.0|\n",
            "|                 /data/indexes/salmon/1.3.0/ensembl_101/Aotus_nancymaae|                      Anan_2.0|       false|                           /data/indexes/salmon/1.3.0/ensembl_101/Aotus_nancymaae/Anan_2.0|\n",
            "|                 /data/indexes/salmon/1.3.0/ensembl_101/Apteryx_haastii|                       aptHaa1|       false|                            /data/indexes/salmon/1.3.0/ensembl_101/Apteryx_haastii/aptHaa1|\n",
            "|                  /data/indexes/salmon/1.3.0/ensembl_101/Apteryx_owenii|                       aptOwe1|       false|                             /data/indexes/salmon/1.3.0/ensembl_101/Apteryx_owenii/aptOwe1|\n",
            "|                    /data/indexes/salmon/1.3.0/ensembl_101/Apteryx_rowi|                       aptRow1|       false|                               /data/indexes/salmon/1.3.0/ensembl_101/Apteryx_rowi/aptRow1|\n",
            "|    /data/indexes/salmon/1.3.0/ensembl_101/Aquila_chrysaetos_chrysaetos|                    bAquChr1.2|       false|            /data/indexes/salmon/1.3.0/ensembl_101/Aquila_chrysaetos_chrysaetos/bAquChr1.2|\n",
            "|        /data/indexes/salmon/1.3.0/ensembl_101/Astatotilapia_calliptera|                    fAstCal1.2|       false|                /data/indexes/salmon/1.3.0/ensembl_101/Astatotilapia_calliptera/fAstCal1.2|\n",
            "|              /data/indexes/salmon/1.3.0/ensembl_101/Astyanax_mexicanus|        Astyanax_mexicanus-2.0|       false|          /data/indexes/salmon/1.3.0/ensembl_101/Astyanax_mexicanus/Astyanax_mexicanus-2.0|\n",
            "|       /data/indexes/salmon/1.3.0/ensembl_101/Astyanax_mexicanus_pachon|      Astyanax_mexicanus-1.0.2|       false| /data/indexes/salmon/1.3.0/ensembl_101/Astyanax_mexicanus_pachon/Astyanax_mexicanus-1.0.2|\n",
            "|              /data/indexes/salmon/1.3.0/ensembl_101/Athene_cunicularia|                       athCun1|       false|                         /data/indexes/salmon/1.3.0/ensembl_101/Athene_cunicularia/athCun1|\n",
            "|           /data/indexes/salmon/1.3.0/ensembl_101/Balaenoptera_musculus|                   mBalMus1.v2|       false|                  /data/indexes/salmon/1.3.0/ensembl_101/Balaenoptera_musculus/mBalMus1.v2|\n",
            "|                 /data/indexes/salmon/1.3.0/ensembl_101/Betta_splendens|                    fBetSpl5.2|       false|                         /data/indexes/salmon/1.3.0/ensembl_101/Betta_splendens/fBetSpl5.2|\n",
            "|               /data/indexes/salmon/1.3.0/ensembl_101/Bison_bison_bison|                  Bison_UMD1.0|       false|                     /data/indexes/salmon/1.3.0/ensembl_101/Bison_bison_bison/Bison_UMD1.0|\n",
            "|                   /data/indexes/salmon/1.3.0/ensembl_101/Bos_grunniens|                LU_Bosgru_v3.0|       false|                       /data/indexes/salmon/1.3.0/ensembl_101/Bos_grunniens/LU_Bosgru_v3.0|\n",
            "|              /data/indexes/salmon/1.3.0/ensembl_101/Bos_indicus_hybrid|                 UOA_Brahman_1|       false|                   /data/indexes/salmon/1.3.0/ensembl_101/Bos_indicus_hybrid/UOA_Brahman_1|\n",
            "|                       /data/indexes/salmon/1.3.0/ensembl_101/Bos_mutus|                   BosGru_v2.0|       false|                              /data/indexes/salmon/1.3.0/ensembl_101/Bos_mutus/BosGru_v2.0|\n",
            "|                      /data/indexes/salmon/1.3.0/ensembl_101/Bos_taurus|                    ARS-UCD1.2|       false|                              /data/indexes/salmon/1.3.0/ensembl_101/Bos_taurus/ARS-UCD1.2|\n",
            "|               /data/indexes/salmon/1.3.0/ensembl_101/Bos_taurus_hybrid|                   UOA_Angus_1|       false|                      /data/indexes/salmon/1.3.0/ensembl_101/Bos_taurus_hybrid/UOA_Angus_1|\n",
            "|                       /data/indexes/salmon/1.3.0/ensembl_101/Bubo_bubo|                     BubBub1.0|       false|                                /data/indexes/salmon/1.3.0/ensembl_101/Bubo_bubo/BubBub1.0|\n",
            "|                 /data/indexes/salmon/1.3.0/ensembl_101/Buteo_japonicus|                     ButJap1.0|       false|                          /data/indexes/salmon/1.3.0/ensembl_101/Buteo_japonicus/ButJap1.0|\n",
            "|          /data/indexes/salmon/1.3.0/ensembl_101/Caenorhabditis_elegans|                      WBcel235|       false|                    /data/indexes/salmon/1.3.0/ensembl_101/Caenorhabditis_elegans/WBcel235|\n",
            "|      /data/indexes/salmon/1.3.0/ensembl_101/Cairina_moschata_domestica|                     CaiMos1.0|       false|               /data/indexes/salmon/1.3.0/ensembl_101/Cairina_moschata_domestica/CaiMos1.0|\n",
            "|                 /data/indexes/salmon/1.3.0/ensembl_101/Calidris_pugnax|                   ASM143184v1|       false|                        /data/indexes/salmon/1.3.0/ensembl_101/Calidris_pugnax/ASM143184v1|\n",
            "|                /data/indexes/salmon/1.3.0/ensembl_101/Calidris_pygmaea|                   ASM369795v1|       false|                       /data/indexes/salmon/1.3.0/ensembl_101/Calidris_pygmaea/ASM369795v1|\n",
            "|              /data/indexes/salmon/1.3.0/ensembl_101/Callithrix_jacchus|                   ASM275486v1|       false|                     /data/indexes/salmon/1.3.0/ensembl_101/Callithrix_jacchus/ASM275486v1|\n",
            "|             /data/indexes/salmon/1.3.0/ensembl_101/Callorhinchus_milii|     Callorhinchus_milii-6.1.3|       false|      /data/indexes/salmon/1.3.0/ensembl_101/Callorhinchus_milii/Callorhinchus_milii-6.1.3|\n",
            "|           /data/indexes/salmon/1.3.0/ensembl_101/Camarhynchus_parvulus|                       STF_HiC|       false|                      /data/indexes/salmon/1.3.0/ensembl_101/Camarhynchus_parvulus/STF_HiC|\n",
            "|             /data/indexes/salmon/1.3.0/ensembl_101/Camelus_dromedarius|                       CamDro2|       false|                        /data/indexes/salmon/1.3.0/ensembl_101/Camelus_dromedarius/CamDro2|\n",
            "|               /data/indexes/salmon/1.3.0/ensembl_101/Canis_lupus_dingo|                   ASM325472v1|       false|                      /data/indexes/salmon/1.3.0/ensembl_101/Canis_lupus_dingo/ASM325472v1|\n",
            "|          /data/indexes/salmon/1.3.0/ensembl_101/Canis_lupus_familiaris|                     CanFam3.1|       false|                   /data/indexes/salmon/1.3.0/ensembl_101/Canis_lupus_familiaris/CanFam3.1|\n",
            "|   /data/indexes/salmon/1.3.0/ensembl_101/Canis_lupus_familiarisbasenji|             Basenji_breed-1.1|       false|    /data/indexes/salmon/1.3.0/ensembl_101/Canis_lupus_familiarisbasenji/Basenji_breed-1.1|\n",
            "| /data/indexes/salmon/1.3.0/ensembl_101/Canis_lupus_familiarisgreatdane|                UMICH_Zoey_3.1|       false|     /data/indexes/salmon/1.3.0/ensembl_101/Canis_lupus_familiarisgreatdane/UMICH_Zoey_3.1|\n",
            "|                    /data/indexes/salmon/1.3.0/ensembl_101/Capra_hircus|                          ARS1|       false|                                  /data/indexes/salmon/1.3.0/ensembl_101/Capra_hircus/ARS1|\n",
            "|        /data/indexes/salmon/1.3.0/ensembl_101/Capra_hircus_blackbengal|                 CVASU_BBG_1.0|       false|             /data/indexes/salmon/1.3.0/ensembl_101/Capra_hircus_blackbengal/CVASU_BBG_1.0|\n",
            "|               /data/indexes/salmon/1.3.0/ensembl_101/Carassius_auratus|                   ASM336829v1|       false|                      /data/indexes/salmon/1.3.0/ensembl_101/Carassius_auratus/ASM336829v1|\n",
            "|                /data/indexes/salmon/1.3.0/ensembl_101/Carlito_syrichta|        Tarsius_syrichta-2.0.1|       false|            /data/indexes/salmon/1.3.0/ensembl_101/Carlito_syrichta/Tarsius_syrichta-2.0.1|\n",
            "|               /data/indexes/salmon/1.3.0/ensembl_101/Castor_canadensis|             C.can_genome_v1.0|       false|                /data/indexes/salmon/1.3.0/ensembl_101/Castor_canadensis/C.can_genome_v1.0|\n",
            "|               /data/indexes/salmon/1.3.0/ensembl_101/Catagonus_wagneri|            CatWag_v2_BIUU_UCD|       false|               /data/indexes/salmon/1.3.0/ensembl_101/Catagonus_wagneri/CatWag_v2_BIUU_UCD|\n",
            "|              /data/indexes/salmon/1.3.0/ensembl_101/Catharus_ustulatus|                  bCatUst1.pri|       false|                    /data/indexes/salmon/1.3.0/ensembl_101/Catharus_ustulatus/bCatUst1.pri|\n",
            "|                    /data/indexes/salmon/1.3.0/ensembl_101/Cavia_aperea|                      CavAp1.0|       false|                              /data/indexes/salmon/1.3.0/ensembl_101/Cavia_aperea/CavAp1.0|\n",
            "|                 /data/indexes/salmon/1.3.0/ensembl_101/Cavia_porcellus|                     Cavpor3.0|       false|                          /data/indexes/salmon/1.3.0/ensembl_101/Cavia_porcellus/Cavpor3.0|\n",
            "|                 /data/indexes/salmon/1.3.0/ensembl_101/Cebus_capucinus|            Cebus_imitator-1.0|       false|                 /data/indexes/salmon/1.3.0/ensembl_101/Cebus_capucinus/Cebus_imitator-1.0|\n",
            "|                 /data/indexes/salmon/1.3.0/ensembl_101/Cercocebus_atys|                      Caty_1.0|       false|                           /data/indexes/salmon/1.3.0/ensembl_101/Cercocebus_atys/Caty_1.0|\n",
            "|      /data/indexes/salmon/1.3.0/ensembl_101/Cervus_hanglu_yarkandensis|                        CEY_v1|       false|                  /data/indexes/salmon/1.3.0/ensembl_101/Cervus_hanglu_yarkandensis/CEY_v1|\n",
            "|          /data/indexes/salmon/1.3.0/ensembl_101/Chelonoidis_abingdonii|                   ASM359739v1|       false|                 /data/indexes/salmon/1.3.0/ensembl_101/Chelonoidis_abingdonii/ASM359739v1|\n",
            "|             /data/indexes/salmon/1.3.0/ensembl_101/Chelydra_serpentina|       Chelydra_serpentina-1.0|       false|        /data/indexes/salmon/1.3.0/ensembl_101/Chelydra_serpentina/Chelydra_serpentina-1.0|\n",
            "|             /data/indexes/salmon/1.3.0/ensembl_101/Chinchilla_lanigera|                     ChiLan1.0|       false|                      /data/indexes/salmon/1.3.0/ensembl_101/Chinchilla_lanigera/ChiLan1.0|\n",
            "|             /data/indexes/salmon/1.3.0/ensembl_101/Chlorocebus_sabaeus|                     ChlSab1.1|       false|                      /data/indexes/salmon/1.3.0/ensembl_101/Chlorocebus_sabaeus/ChlSab1.1|\n",
            "|             /data/indexes/salmon/1.3.0/ensembl_101/Choloepus_hoffmanni|                       choHof1|       false|                        /data/indexes/salmon/1.3.0/ensembl_101/Choloepus_hoffmanni/choHof1|\n",
            "|          /data/indexes/salmon/1.3.0/ensembl_101/Chrysemys_picta_bellii|  Chrysemys_picta_bellii-3.0.3|       false|/data/indexes/salmon/1.3.0/ensembl_101/Chrysemys_picta_bellii/Chrysemys_picta_bellii-3.0.3|\n",
            "|             /data/indexes/salmon/1.3.0/ensembl_101/Chrysolophus_pictus|Chrysolophus_pictus_GenomeV1.0|       false| /data/indexes/salmon/1.3.0/ensembl_101/Chrysolophus_pictus/Chrysolophus_pictus_GenomeV1.0|\n",
            "|              /data/indexes/salmon/1.3.0/ensembl_101/Ciona_intestinalis|                            KH|       false|                              /data/indexes/salmon/1.3.0/ensembl_101/Ciona_intestinalis/KH|\n",
            "|                  /data/indexes/salmon/1.3.0/ensembl_101/Ciona_savignyi|                      CSAV 2.0|       false|                            /data/indexes/salmon/1.3.0/ensembl_101/Ciona_savignyi/CSAV 2.0|\n",
            "|                 /data/indexes/salmon/1.3.0/ensembl_101/Clupea_harengus|                     Ch_v2.0.2|       false|                          /data/indexes/salmon/1.3.0/ensembl_101/Clupea_harengus/Ch_v2.0.2|\n",
            "|    /data/indexes/salmon/1.3.0/ensembl_101/Colobus_angolensis_palliatus|                   Cang.pa_1.0|       false|           /data/indexes/salmon/1.3.0/ensembl_101/Colobus_angolensis_palliatus/Cang.pa_1.0|\n",
            "|             /data/indexes/salmon/1.3.0/ensembl_101/Corvus_moneduloides|                   UO_Cmon_1.0|       false|                    /data/indexes/salmon/1.3.0/ensembl_101/Corvus_moneduloides/UO_Cmon_1.0|\n",
            "|                /data/indexes/salmon/1.3.0/ensembl_101/Cottoperca_gobio|                    fCotGob3.1|       false|                        /data/indexes/salmon/1.3.0/ensembl_101/Cottoperca_gobio/fCotGob3.1|\n",
            "|               /data/indexes/salmon/1.3.0/ensembl_101/Coturnix_japonica|         Coturnix_japonica_2.0|       false|            /data/indexes/salmon/1.3.0/ensembl_101/Coturnix_japonica/Coturnix_japonica_2.0|\n",
            "|    /data/indexes/salmon/1.3.0/ensembl_101/Cricetulus_griseus_chok1gshd|                  CHOK1GS_HDv1|       false|          /data/indexes/salmon/1.3.0/ensembl_101/Cricetulus_griseus_chok1gshd/CHOK1GS_HDv1|\n",
            "|       /data/indexes/salmon/1.3.0/ensembl_101/Cricetulus_griseus_crigri|                    CriGri_1.0|       false|               /data/indexes/salmon/1.3.0/ensembl_101/Cricetulus_griseus_crigri/CriGri_1.0|\n",
            "|         /data/indexes/salmon/1.3.0/ensembl_101/Cricetulus_griseus_picr|                   CriGri-PICR|       false|                /data/indexes/salmon/1.3.0/ensembl_101/Cricetulus_griseus_picr/CriGri-PICR|\n",
            "|              /data/indexes/salmon/1.3.0/ensembl_101/Crocodylus_porosus|                  CroPor_comp1|       false|                    /data/indexes/salmon/1.3.0/ensembl_101/Crocodylus_porosus/CroPor_comp1|\n",
            "|             /data/indexes/salmon/1.3.0/ensembl_101/Cyanistes_caeruleus|                       cyaCae2|       false|                        /data/indexes/salmon/1.3.0/ensembl_101/Cyanistes_caeruleus/cyaCae2|\n",
            "|              /data/indexes/salmon/1.3.0/ensembl_101/Cyclopterus_lumpus|                  fCycLum1.pri|       false|                    /data/indexes/salmon/1.3.0/ensembl_101/Cyclopterus_lumpus/fCycLum1.pri|\n",
            "|          /data/indexes/salmon/1.3.0/ensembl_101/Cynoglossus_semilaevis|                      Cse_v1.0|       false|                    /data/indexes/salmon/1.3.0/ensembl_101/Cynoglossus_semilaevis/Cse_v1.0|\n",
            "|           /data/indexes/salmon/1.3.0/ensembl_101/Cyprinodon_variegatus|              C_variegatus-1.0|       false|             /data/indexes/salmon/1.3.0/ensembl_101/Cyprinodon_variegatus/C_variegatus-1.0|\n",
            "|                 /data/indexes/salmon/1.3.0/ensembl_101/Cyprinus_carpio|            common_carp_genome|       false|                 /data/indexes/salmon/1.3.0/ensembl_101/Cyprinus_carpio/common_carp_genome|\n",
            "|    /data/indexes/salmon/1.3.0/ensembl_101/Cyprinus_carpio_germanmirror|        German_Mirror_carp_1.0|       false|/data/indexes/salmon/1.3.0/ensembl_101/Cyprinus_carpio_germanmirror/German_Mirror_carp_1.0|\n",
            "|        /data/indexes/salmon/1.3.0/ensembl_101/Cyprinus_carpio_hebaored|            Hebao_red_carp_1.0|       false|        /data/indexes/salmon/1.3.0/ensembl_101/Cyprinus_carpio_hebaored/Hebao_red_carp_1.0|\n",
            "|         /data/indexes/salmon/1.3.0/ensembl_101/Cyprinus_carpio_huanghe|              Hunaghe_carp_2.0|       false|           /data/indexes/salmon/1.3.0/ensembl_101/Cyprinus_carpio_huanghe/Hunaghe_carp_2.0|\n",
            "|                     /data/indexes/salmon/1.3.0/ensembl_101/Danio_rerio|                        GRCz11|       false|                                 /data/indexes/salmon/1.3.0/ensembl_101/Danio_rerio/GRCz11|\n",
            "|            /data/indexes/salmon/1.3.0/ensembl_101/Dasypus_novemcinctus|                     Dasnov3.0|       false|                     /data/indexes/salmon/1.3.0/ensembl_101/Dasypus_novemcinctus/Dasnov3.0|\n",
            "|           /data/indexes/salmon/1.3.0/ensembl_101/Delphinapterus_leucas|                   ASM228892v3|       false|                  /data/indexes/salmon/1.3.0/ensembl_101/Delphinapterus_leucas/ASM228892v3|\n",
            "|            /data/indexes/salmon/1.3.0/ensembl_101/Denticeps_clupeoides|                    fDenClu1.1|       false|                    /data/indexes/salmon/1.3.0/ensembl_101/Denticeps_clupeoides/fDenClu1.1|\n",
            "|            /data/indexes/salmon/1.3.0/ensembl_101/Dicentrarchus_labrax|                  seabass_V1.0|       false|                  /data/indexes/salmon/1.3.0/ensembl_101/Dicentrarchus_labrax/seabass_V1.0|\n",
            "|                 /data/indexes/salmon/1.3.0/ensembl_101/Dipodomys_ordii|                      Dord_2.0|       false|                           /data/indexes/salmon/1.3.0/ensembl_101/Dipodomys_ordii/Dord_2.0|\n",
            "|        /data/indexes/salmon/1.3.0/ensembl_101/Dromaius_novaehollandiae|                       droNov1|       false|                   /data/indexes/salmon/1.3.0/ensembl_101/Dromaius_novaehollandiae/droNov1|\n",
            "|         /data/indexes/salmon/1.3.0/ensembl_101/Drosophila_melanogaster|                      BDGP6.28|       false|                   /data/indexes/salmon/1.3.0/ensembl_101/Drosophila_melanogaster/BDGP6.28|\n",
            "|              /data/indexes/salmon/1.3.0/ensembl_101/Echeneis_naucrates|                    fEcheNa1.1|       false|                      /data/indexes/salmon/1.3.0/ensembl_101/Echeneis_naucrates/fEcheNa1.1|\n",
            "|               /data/indexes/salmon/1.3.0/ensembl_101/Echinops_telfairi|                        TENREC|       false|                           /data/indexes/salmon/1.3.0/ensembl_101/Echinops_telfairi/TENREC|\n",
            "|        /data/indexes/salmon/1.3.0/ensembl_101/Electrophorus_electricus|           Ee_SOAP_WITH_SSPACE|       false|       /data/indexes/salmon/1.3.0/ensembl_101/Electrophorus_electricus/Ee_SOAP_WITH_SSPACE|\n",
            "|              /data/indexes/salmon/1.3.0/ensembl_101/Eptatretus_burgeri|                  Eburgeri_3.2|       false|                    /data/indexes/salmon/1.3.0/ensembl_101/Eptatretus_burgeri/Eburgeri_3.2|\n",
            "|             /data/indexes/salmon/1.3.0/ensembl_101/Equus_asinus_asinus|                   ASM303372v1|       false|                    /data/indexes/salmon/1.3.0/ensembl_101/Equus_asinus_asinus/ASM303372v1|\n",
            "|                  /data/indexes/salmon/1.3.0/ensembl_101/Equus_caballus|                     EquCab3.0|       false|                           /data/indexes/salmon/1.3.0/ensembl_101/Equus_caballus/EquCab3.0|\n",
            "|             /data/indexes/salmon/1.3.0/ensembl_101/Erinaceus_europaeus|                       eriEur1|       false|                        /data/indexes/salmon/1.3.0/ensembl_101/Erinaceus_europaeus/eriEur1|\n",
            "|       /data/indexes/salmon/1.3.0/ensembl_101/Erpetoichthys_calabaricus|                    fErpCal1.1|       false|               /data/indexes/salmon/1.3.0/ensembl_101/Erpetoichthys_calabaricus/fErpCal1.1|\n",
            "|              /data/indexes/salmon/1.3.0/ensembl_101/Erythrura_gouldiae|                 GouldianFinch|       false|                   /data/indexes/salmon/1.3.0/ensembl_101/Erythrura_gouldiae/GouldianFinch|\n",
            "+-----------------------------------------------------------------------+------------------------------+------------+------------------------------------------------------------------------------------------+\n",
            "only showing top 100 rows\n",
            "\n"
          ],
          "output_type" : "stream"
        }
      ]
    },
    {
      "cell_type" : "code",
      "execution_count" : 34,
      "metadata" : {
        "cell.metadata.exec_info" : {
          "startTs" : 1606357031921,
          "endTs" : 1606357032622
        },
        "language" : "scala"
      },
      "language" : "scala",
      "source" : [
        "import ammonite.ops._\n",
        "val to_download = genomes.where($\"cdna_exists\" === false).select(\"download\").as[String] \n",
        "val already_downloaded = genomes.where($\"cdna_exists\" === true).select(\"download\").as[String] \n",
        "println(\"ALREADY DOWNLOADED: \"+already_downloaded.count)\n",
        "println(\"TO DOWNLOAD: \"+to_download.count)\n",
        "genomes.where($\"genome_exists\" === false).select(\"species\").sort($\"species\".asc).show(1000)"
      ],
      "outputs" : [
        {
          "name" : "stdout",
          "text" : [
            "ALREADY DOWNLOADED: 3\n",
            "TO DOWNLOAD: 307\n",
            "+--------------------+\n",
            "|             species|\n",
            "+--------------------+\n",
            "|Ailuropoda_melano...|\n",
            "|    Amazona_collaria|\n",
            "|Amphilophus_citri...|\n",
            "|Amphiprion_ocellaris|\n",
            "|  Amphiprion_percula|\n",
            "|  Anabas_testudineus|\n",
            "|  Anas_platyrhynchos|\n",
            "|Anas_platyrhyncho...|\n",
            "|    Anas_zonorhyncha|\n",
            "| Anolis_carolinensis|\n",
            "|Anser_brachyrhynchus|\n",
            "|     Anser_cygnoides|\n",
            "|     Aotus_nancymaae|\n",
            "|     Apteryx_haastii|\n",
            "|      Apteryx_owenii|\n",
            "|        Apteryx_rowi|\n",
            "|Aquila_chrysaetos...|\n",
            "|Astatotilapia_cal...|\n",
            "|  Astyanax_mexicanus|\n",
            "|Astyanax_mexicanu...|\n",
            "|  Athene_cunicularia|\n",
            "|Balaenoptera_musc...|\n",
            "|     Betta_splendens|\n",
            "|   Bison_bison_bison|\n",
            "|       Bos_grunniens|\n",
            "|  Bos_indicus_hybrid|\n",
            "|           Bos_mutus|\n",
            "|          Bos_taurus|\n",
            "|   Bos_taurus_hybrid|\n",
            "|           Bubo_bubo|\n",
            "|     Buteo_japonicus|\n",
            "|Caenorhabditis_el...|\n",
            "|Cairina_moschata_...|\n",
            "|     Calidris_pugnax|\n",
            "|    Calidris_pygmaea|\n",
            "|  Callithrix_jacchus|\n",
            "| Callorhinchus_milii|\n",
            "|Camarhynchus_parv...|\n",
            "| Camelus_dromedarius|\n",
            "|   Canis_lupus_dingo|\n",
            "|Canis_lupus_famil...|\n",
            "|Canis_lupus_famil...|\n",
            "|Canis_lupus_famil...|\n",
            "|        Capra_hircus|\n",
            "|Capra_hircus_blac...|\n",
            "|   Carassius_auratus|\n",
            "|    Carlito_syrichta|\n",
            "|   Castor_canadensis|\n",
            "|   Catagonus_wagneri|\n",
            "|  Catharus_ustulatus|\n",
            "|        Cavia_aperea|\n",
            "|     Cavia_porcellus|\n",
            "|     Cebus_capucinus|\n",
            "|     Cercocebus_atys|\n",
            "|Cervus_hanglu_yar...|\n",
            "|Chelonoidis_abing...|\n",
            "| Chelydra_serpentina|\n",
            "| Chinchilla_lanigera|\n",
            "| Chlorocebus_sabaeus|\n",
            "| Choloepus_hoffmanni|\n",
            "|Chrysemys_picta_b...|\n",
            "| Chrysolophus_pictus|\n",
            "|  Ciona_intestinalis|\n",
            "|      Ciona_savignyi|\n",
            "|     Clupea_harengus|\n",
            "|Colobus_angolensi...|\n",
            "| Corvus_moneduloides|\n",
            "|    Cottoperca_gobio|\n",
            "|   Coturnix_japonica|\n",
            "|Cricetulus_griseu...|\n",
            "|Cricetulus_griseu...|\n",
            "|Cricetulus_griseu...|\n",
            "|  Crocodylus_porosus|\n",
            "| Cyanistes_caeruleus|\n",
            "|  Cyclopterus_lumpus|\n",
            "|Cynoglossus_semil...|\n",
            "|Cyprinodon_varieg...|\n",
            "|     Cyprinus_carpio|\n",
            "|Cyprinus_carpio_g...|\n",
            "|Cyprinus_carpio_h...|\n",
            "|Cyprinus_carpio_h...|\n",
            "|         Danio_rerio|\n",
            "|Dasypus_novemcinctus|\n",
            "|Delphinapterus_le...|\n",
            "|Denticeps_clupeoides|\n",
            "|Dicentrarchus_labrax|\n",
            "|     Dipodomys_ordii|\n",
            "|Dromaius_novaehol...|\n",
            "|Drosophila_melano...|\n",
            "|  Echeneis_naucrates|\n",
            "|   Echinops_telfairi|\n",
            "|Electrophorus_ele...|\n",
            "|  Eptatretus_burgeri|\n",
            "| Equus_asinus_asinus|\n",
            "|      Equus_caballus|\n",
            "| Erinaceus_europaeus|\n",
            "|Erpetoichthys_cal...|\n",
            "|  Erythrura_gouldiae|\n",
            "|         Esox_lucius|\n",
            "|   Falco_tinnunculus|\n",
            "|         Felis_catus|\n",
            "| Ficedula_albicollis|\n",
            "|  Fukomys_damarensis|\n",
            "|Fundulus_heterocl...|\n",
            "|        Gadus_morhua|\n",
            "|       Gallus_gallus|\n",
            "|    Gambusia_affinis|\n",
            "|Gasterosteus_acul...|\n",
            "|     Geospiza_fortis|\n",
            "|  Gopherus_agassizii|\n",
            "|   Gopherus_evgoodei|\n",
            "|     Gorilla_gorilla|\n",
            "|  Gouania_willdenowi|\n",
            "|Haplochromis_burtoni|\n",
            "|Heterocephalus_gl...|\n",
            "|Heterocephalus_gl...|\n",
            "|   Hippocampus_comes|\n",
            "|         Hucho_hucho|\n",
            "| Ictalurus_punctatus|\n",
            "|Ictidomys_tridece...|\n",
            "|     Jaculus_jaculus|\n",
            "|      Junco_hyemalis|\n",
            "|Kryptolebias_marm...|\n",
            "|     Labrus_bergylta|\n",
            "| Larimichthys_crocea|\n",
            "|    Lates_calcarifer|\n",
            "|Laticauda_laticau...|\n",
            "| Latimeria_chalumnae|\n",
            "|Lepidothrix_coronata|\n",
            "|Lepisosteus_oculatus|\n",
            "|Leptobrachium_lei...|\n",
            "|Lonchura_striata_...|\n",
            "|  Loxodonta_africana|\n",
            "|     Lynx_canadensis|\n",
            "| Macaca_fascicularis|\n",
            "|      Macaca_mulatta|\n",
            "|   Macaca_nemestrina|\n",
            "|Malurus_cyaneus_s...|\n",
            "|  Manacus_vitellinus|\n",
            "|Mandrillus_leucop...|\n",
            "|Marmota_marmota_m...|\n",
            "|Mastacembelus_arm...|\n",
            "|     Maylandia_zebra|\n",
            "| Meleagris_gallopavo|\n",
            "|Melopsittacus_und...|\n",
            "|Meriones_unguicul...|\n",
            "|Mesocricetus_auratus|\n",
            "|  Microcebus_murinus|\n",
            "|Microtus_ochrogaster|\n",
            "|           Mola_mola|\n",
            "|Monodelphis_domes...|\n",
            "|   Monodon_monoceros|\n",
            "|    Monopterus_albus|\n",
            "| Moschus_moschiferus|\n",
            "|          Mus_caroli|\n",
            "|        Mus_musculus|\n",
            "|Mus_musculus_129s...|\n",
            "|     Mus_musculus_aj|\n",
            "|   Mus_musculus_akrj|\n",
            "| Mus_musculus_balbcj|\n",
            "| Mus_musculus_c3hhej|\n",
            "|Mus_musculus_c57b...|\n",
            "|Mus_musculus_casteij|\n",
            "|   Mus_musculus_cbaj|\n",
            "|  Mus_musculus_dba2j|\n",
            "|  Mus_musculus_fvbnj|\n",
            "|    Mus_musculus_lpj|\n",
            "|Mus_musculus_nods...|\n",
            "|Mus_musculus_nzoh...|\n",
            "| Mus_musculus_pwkphj|\n",
            "| Mus_musculus_wsbeij|\n",
            "|          Mus_pahari|\n",
            "|      Mus_spicilegus|\n",
            "|         Mus_spretus|\n",
            "|Mustela_putorius_...|\n",
            "|    Myotis_lucifugus|\n",
            "| Myripristis_murdjan|\n",
            "|           Naja_naja|\n",
            "|  Nannospalax_galili|\n",
            "|Neogobius_melanos...|\n",
            "|Neolamprologus_br...|\n",
            "|      Neovison_vison|\n",
            "| Nomascus_leucogenys|\n",
            "|Notamacropus_eugenii|\n",
            "|   Notechis_scutatus|\n",
            "|Nothobranchius_fu...|\n",
            "|Nothoprocta_perdi...|\n",
            "|    Numida_meleagris|\n",
            "|   Ochotona_princeps|\n",
            "|       Octodon_degus|\n",
            "|Oncorhynchus_kisutch|\n",
            "| Oncorhynchus_mykiss|\n",
            "|Oncorhynchus_tsha...|\n",
            "|  Oreochromis_aureus|\n",
            "|Oreochromis_nilot...|\n",
            "|Ornithorhynchus_a...|\n",
            "|Oryctolagus_cunic...|\n",
            "|   Oryzias_javanicus|\n",
            "|     Oryzias_latipes|\n",
            "| Oryzias_latipes_hni|\n",
            "|Oryzias_latipes_hsok|\n",
            "|  Oryzias_melastigma|\n",
            "|    Oryzias_sinensis|\n",
            "|  Otolemur_garnettii|\n",
            "|          Otus_sunia|\n",
            "|          Ovis_aries|\n",
            "|Ovis_aries_rambou...|\n",
            "|        Pan_paniscus|\n",
            "|     Pan_troglodytes|\n",
            "|        Panthera_leo|\n",
            "|     Panthera_pardus|\n",
            "|Panthera_tigris_a...|\n",
            "|        Papio_anubis|\n",
            "|   Parambassis_ranga|\n",
            "|Paramormyrops_kin...|\n",
            "|         Parus_major|\n",
            "|      Pavo_cristatus|\n",
            "| Pelodiscus_sinensis|\n",
            "|  Pelusios_castaneus|\n",
            "|Periophthalmus_ma...|\n",
            "|Peromyscus_manicu...|\n",
            "|  Petromyzon_marinus|\n",
            "|Phascolarctos_cin...|\n",
            "| Phasianus_colchicus|\n",
            "|      Phocoena_sinus|\n",
            "|    Physeter_catodon|\n",
            "|Piliocolobus_teph...|\n",
            "|    Podarcis_muralis|\n",
            "|    Poecilia_formosa|\n",
            "|  Poecilia_latipinna|\n",
            "|   Poecilia_mexicana|\n",
            "| Poecilia_reticulata|\n",
            "|    Pogona_vitticeps|\n",
            "|        Pongo_abelii|\n",
            "|   Procavia_capensis|\n",
            "|      Prolemur_simus|\n",
            "|Propithecus_coque...|\n",
            "| Pseudonaja_textilis|\n",
            "|   Pteropus_vampyrus|\n",
            "| Pundamilia_nyererei|\n",
            "|Pygocentrus_natte...|\n",
            "|   Rattus_norvegicus|\n",
            "|Rhinolophus_ferru...|\n",
            "| Rhinopithecus_bieti|\n",
            "|Rhinopithecus_rox...|\n",
            "|Saccharomyces_cer...|\n",
            "|Saimiri_boliviens...|\n",
            "|  Salarias_fasciatus|\n",
            "|         Salmo_salar|\n",
            "|        Salmo_trutta|\n",
            "|   Salvator_merianae|\n",
            "|   Sander_lucioperca|\n",
            "|Sarcophilus_harrisii|\n",
            "|    Sciurus_vulgaris|\n",
            "|Scleropages_formosus|\n",
            "|Scophthalmus_maximus|\n",
            "|     Serinus_canaria|\n",
            "|    Seriola_dumerili|\n",
            "|Seriola_lalandi_d...|\n",
            "|Sinocyclocheilus_...|\n",
            "|Sinocyclocheilus_...|\n",
            "|Sinocyclocheilus_...|\n",
            "|       Sorex_araneus|\n",
            "|       Sparus_aurata|\n",
            "|Spermophilus_daur...|\n",
            "|Sphaeramia_orbicu...|\n",
            "| Sphenodon_punctatus|\n",
            "|  Stachyris_ruficeps|\n",
            "|  Stegastes_partitus|\n",
            "| Strigops_habroptila|\n",
            "|Strix_occidentali...|\n",
            "|Struthio_camelus_...|\n",
            "|  Suricata_suricatta|\n",
            "|          Sus_scrofa|\n",
            "|    Sus_scrofa_bamei|\n",
            "|Sus_scrofa_berkshire|\n",
            "|Sus_scrofa_hampshire|\n",
            "|   Sus_scrofa_jinhua|\n",
            "| Sus_scrofa_landrace|\n",
            "|Sus_scrofa_largew...|\n",
            "|  Sus_scrofa_meishan|\n",
            "| Sus_scrofa_pietrain|\n",
            "|Sus_scrofa_rongchang|\n",
            "|  Sus_scrofa_tibetan|\n",
            "|   Sus_scrofa_usmarc|\n",
            "|Sus_scrofa_wuzhishan|\n",
            "| Taeniopygia_guttata|\n",
            "|   Takifugu_rubripes|\n",
            "|Terrapene_carolin...|\n",
            "|Tetraodon_nigrovi...|\n",
            "|Theropithecus_gelada|\n",
            "|    Tupaia_belangeri|\n",
            "|  Tursiops_truncatus|\n",
            "| Urocitellus_parryii|\n",
            "|    Ursus_americanus|\n",
            "|     Ursus_maritimus|\n",
            "|Ursus_thibetanus_...|\n",
            "| Varanus_komodoensis|\n",
            "|       Vicugna_pacos|\n",
            "|    Vombatus_ursinus|\n",
            "|       Vulpes_vulpes|\n",
            "|  Xenopus_tropicalis|\n",
            "|Xiphophorus_couch...|\n",
            "|Xiphophorus_macul...|\n",
            "|Zalophus_californ...|\n",
            "|Zonotrichia_albic...|\n",
            "|Zosterops_lateral...|\n",
            "+--------------------+\n",
            "\n"
          ],
          "output_type" : "stream"
        }
      ]
    },
    {
      "cell_type" : "markdown",
      "execution_count" : 35,
      "metadata" : {
        "language" : "text"
      },
      "language" : "text",
      "source" : [
        "### Writing json-s for salmon indexes\n",
        "\n",
        "----------------------------------------------------------------\n",
        "\n",
        "Starting from checking which indexes are already build and then preparing jsons to build the missing ones\n",
        "\n",
        "\n"
      ],
      "outputs" : [
      ]
    },
    {
      "cell_type" : "code",
      "execution_count" : 36,
      "metadata" : {
        "cell.metadata.exec_info" : {
          "startTs" : 1606357149792,
          "endTs" : 1606357150190
        },
        "language" : "scala"
      },
      "language" : "scala",
      "source" : [
        "val already_indexed = genomes.where($\"index_exists\" === true)\n",
        "val to_index = genomes.where($\"index_exists\" === false)\n",
        "println(\"ALREADY INDEXED: \"+already_indexed.count)\n",
        "println(\"TO INDEX: \"+to_index.count)\n"
      ],
      "outputs" : [
        {
          "name" : "stdout",
          "text" : [
            "ALREADY INDEXED: 0\n",
            "TO INDEX: 310\n"
          ],
          "output_type" : "stream"
        }
      ]
    },
    {
      "cell_type" : "code",
      "execution_count" : 37,
      "metadata" : {
        "cell.metadata.exec_info" : {
          "startTs" : 1606357152479,
          "endTs" : 1606357153224
        },
        "language" : "scala"
      },
      "language" : "scala",
      "source" : [
        "val download_data =  species\n",
        "  .withColumn(\"download\", download($\"species\"))\n",
        "  .withColumn(\"index\", new_index($\"species\"))\n",
        "  .withColumn(\"genome\", genome($\"species\", $\"assembly\"))\n",
        "  .withColumn(\"cdna\", cdna($\"species\", $\"assembly\"))\n",
        "  .withColumn(\"index\", concat($\"index\" , lit(\"/\") , $\"assembly\"))\n",
        "  .select(\"name\", \"species\", \"download\", \"assembly\", \"genome\", \"cdna\") \n",
        "  .as[(String, String, String, String, String , String)].collect.toList\n",
        "  download_data.head"
      ],
      "outputs" : [
        {
          "execution_count" : 37,
          "data" : {
            "text/plain" : [
              "(Spiny chromis,Acanthochromis_polyacanthus,mkdir -p /data/ensembl/101/species/Acanthochromis_polyacanthus && wget -t 4 -m -nH --cut-dirs=100 -P /data/ensembl/101/species/Acanthochromis_polyacanthus ftp://ftp.ensembl.org/pub/release-101/gtf/acanthochromis"
            ]
          },
          "metadata" : {
            "name" : "Out",
            "type" : "Tuple6[String, String, String, String, String, String]"
          },
          "output_type" : "execute_result"
        }
      ]
    },
    {
      "cell_type" : "markdown",
      "execution_count" : 38,
      "metadata" : {
        "language" : "text"
      },
      "language" : "text",
      "source" : [
        "Salmon indexes inputs\n",
        "-----------------------"
      ],
      "outputs" : [
      ]
    },
    {
      "cell_type" : "code",
      "execution_count" : 39,
      "metadata" : {
        "cell.metadata.exec_info" : {
          "startTs" : 1606357155589,
          "endTs" : 1606357156254
        },
        "language" : "scala"
      },
      "language" : "scala",
      "source" : [
        "val salmon_inputs_dir = ensembl_dir / \"inputs\" / \"salmon\" \n",
        "val by_name = download_data.map{ case (name, species, download, assembly, genome, cdna) => \n",
        "(salmon_inputs_dir / \"by_name\" / s\"${name.replace(\"/\",\"-\")}\" / s\"${species}_${assembly}.json\").pathAsString.replace(\" \", \"_\") ->  \n",
        "salmonIndex(species, genome, cdna, assembly, s\"ensembl_${release}\", salmon_ensembl_dir_str)  }.toMap\n",
        "by_name.head._2\n"
      ],
      "outputs" : [
        {
          "execution_count" : 39,
          "data" : {
            "text/plain" : [
              "\n",
              "{ \"quant_index.indexes_folder\": \"/data/indexes/salmon/1.3.0/ensembl_101\",  \"quant_index.references\": [\n",
              "    \n",
              "     {\n",
              "      \"species\": \"Taeniopygia_guttata\",\n",
              "      \"genome\": \"/data/ensembl/101/species/Taeniopygia_guttata/Taeniopygia_guttata.bTaeGut1_v1.p.d"
            ]
          },
          "metadata" : {
            "name" : "Out",
            "type" : "String"
          },
          "output_type" : "execute_result"
        }
      ]
    },
    {
      "cell_type" : "code",
      "execution_count" : 40,
      "metadata" : {
        "cell.metadata.exec_info" : {
          "startTs" : 1606357163812,
          "endTs" : 1606357164130
        },
        "language" : "scala"
      },
      "language" : "scala",
      "source" : [
        "val by_species = download_data.map{ \n",
        "    case (name, species, download, assembly, genome, cdna) => \n",
        "    (salmon_inputs_dir / \"by_species\" / s\"${species}_${assembly}.json\").pathAsString.replace(\" \", \"_\") ->  \n",
        "    salmonIndex(species, genome, cdna, assembly, s\"ensembl_${release}\", salmon_ensembl_dir_str) \n",
        "    }.toMap\n",
        "by_species.head"
      ],
      "outputs" : [
        {
          "execution_count" : 40,
          "data" : {
            "text/plain" : [
              "(/data/ensembl/101/inputs/salmon/by_species/Amphiprion_ocellaris_AmpOce1.0.json,\n",
              "{ \"quant_index.indexes_folder\": \"/data/indexes/salmon/1.3.0/ensembl_101\",  \"quant_index.references\": [\n",
              "    \n",
              "     {\n",
              "      \"species\": \"Amphiprion_ocellaris\",\n",
              "      \"genome\": \""
            ]
          },
          "metadata" : {
            "name" : "Out",
            "type" : "Tuple2[String, String]"
          },
          "output_type" : "execute_result"
        }
      ]
    },
    {
      "cell_type" : "code",
      "execution_count" : 41,
      "metadata" : {
        "cell.metadata.exec_info" : {
          "startTs" : 1606357166180,
          "endTs" : 1606357166628
        },
        "language" : "scala"
      },
      "language" : "scala",
      "source" : [
        "import os.{GlobSyntax, /}\n",
        "import ammonite.ops._\n",
        "for{(d, i) <- by_species } write.over(Path(d), i, createFolders = true, perms = default_ammonite_permissions)\n",
        "for{(d, i) <- by_name } write.over(Path(d), i, createFolders = true, perms = default_ammonite_permissions)\n"
      ],
      "outputs" : [
      ]
    },
    {
      "cell_type" : "markdown",
      "execution_count" : 42,
      "metadata" : {
        "language" : "text"
      },
      "language" : "text",
      "source" : [
        "<div><b>Salmon indexes batches</b></div><div>---------------------------------<br></div><div>Created indexes batches to build indexes for several species together</div>"
      ],
      "outputs" : [
      ]
    },
    {
      "cell_type" : "code",
      "execution_count" : 43,
      "metadata" : {
        "cell.metadata.exec_info" : {
          "startTs" : 1606357183728,
          "endTs" : 1606357183996
        },
        "language" : "scala"
      },
      "language" : "scala",
      "source" : [
        "val sl = 3\n",
        "val batches = download_data.map{ case (name, species, download, assembly, genome, cdna) => \n",
        "    gentrome(species, genome, cdna, assembly, s\"ensembl_${release}\") \n",
        "}.sliding(sl, sl).map{case b=>\n",
        "val str = b.mkString(\"[\", \",\", \"]\")\n",
        "\n",
        "s\"\"\"\n",
        "{\n",
        "  \"quant_index_batch.indexes_folder\": \"${salmon_indexes_dir_str}\",\n",
        "  \"quant_index_batch.threads_per_index\": ${32 / sl},\n",
        "  \"quant_index_batch.references\": ${str}\",\n",
        "  \"quant_index_batch.memory_per_index\": \"24G\"\n",
        "}\n",
        "\"\"\"\n",
        "}.toList\n",
        "batches.head\n"
      ],
      "outputs" : [
        {
          "execution_count" : 43,
          "data" : {
            "text/plain" : [
              "\n",
              "{\n",
              "  \"quant_index_batch.indexes_folder\": \"/data/indexes/salmon/1.3.0\",\n",
              "  \"quant_index_batch.threads_per_index\": 10,\n",
              "  \"quant_index_batch.references\": [\n",
              "     {\n",
              "      \"species\": \"Acanthochromis_polyacanthus\",\n",
              "      \"genome\": \"/data/ensembl/101/species/Acan"
            ]
          },
          "metadata" : {
            "name" : "Out",
            "type" : "String"
          },
          "output_type" : "execute_result"
        }
      ]
    },
    {
      "cell_type" : "markdown",
      "execution_count" : 44,
      "metadata" : {
        "cell.metadata.exec_info" : {
          "startTs" : 1580227261986,
          "endTs" : 1580227262088
        },
        "language" : "text"
      },
      "language" : "text",
      "source" : [
        "## Preparing default inputs\n",
        "\n",
        "Writes default input.json for the pipelines\n",
        "\n",
        "\n"
      ],
      "outputs" : [
      ]
    },
    {
      "cell_type" : "code",
      "execution_count" : 45,
      "metadata" : {
        "cell.metadata.exec_info" : {
          "startTs" : 1606357194952,
          "endTs" : 1606357195375
        },
        "language" : "scala"
      },
      "language" : "scala",
      "source" : [
        "val samples_dir = data / \"samples\"\n",
        "val samples_dir_str = samples_dir.pathAsString\n",
        "samples_dir_str"
      ],
      "outputs" : [
        {
          "execution_count" : 45,
          "data" : {
            "text/plain" : [
              "/data/samples"
            ]
          },
          "metadata" : {
            "name" : "Out",
            "type" : "String"
          },
          "output_type" : "execute_result"
        }
      ]
    },
    {
      "cell_type" : "code",
      "execution_count" : 46,
      "metadata" : {
        "cell.metadata.exec_info" : {
          "startTs" : 1606357195380,
          "endTs" : 1606357195821
        },
        "language" : "scala"
      },
      "language" : "scala",
      "source" : [
        "import spark.implicits._\n",
        "val gs = genomes.withColumn(\"index\", concat($\"index\", lit(\"/\"), $\"assembly\", lit(s\"_ensembl_${release}\"))).select(\"species\", \"index\", \"gtf\").as[(String, String, String)].collect().toList"
      ],
      "outputs" : [
      ]
    },
    {
      "cell_type" : "code",
      "execution_count" : 47,
      "metadata" : {
        "cell.metadata.exec_info" : {
          "startTs" : 1606357195909,
          "endTs" : 1606357196134
        },
        "language" : "scala"
      },
      "language" : "scala",
      "source" : [
        "val salmon_indexes_str = gs.collect{\n",
        "    case (sp, i, _) => \"\\\"\" + sp.head.toUpper + sp.tail.replace(\"_\", \" \") +  \"\\\"\" +\" : \" +  \"\\\"\" + i  + \"\\\"\"\n",
        "}.mkString(\",\\n\")\n",
        "val salmon_gtfs_str = gs.collect{\n",
        "    case (sp, _, gtf) => \"\\\"\" + sp.head.toUpper + sp.tail.replace(\"_\", \" \") +  \"\\\"\" +\" : \" +  \"\\\"\" + gtf  + \"\\\"\"\n",
        "}.mkString(\",\\n\")\n",
        "//salmon_gtfs_str"
      ],
      "outputs" : [
      ]
    },
    {
      "cell_type" : "code",
      "execution_count" : 48,
      "metadata" : {
        "cell.metadata.exec_info" : {
          "startTs" : 1606357196811,
          "endTs" : 1606357196968
        },
        "language" : "scala"
      },
      "language" : "scala",
      "source" : [
        "val key = \"0a1d74f32382b8a154acacc3a024bdce3709\""
      ],
      "outputs" : [
      ]
    },
    {
      "cell_type" : "code",
      "execution_count" : 49,
      "metadata" : {
        "cell.metadata.exec_info" : {
          "startTs" : 1606357247032,
          "endTs" : 1606357247279
        },
        "language" : "scala"
      },
      "language" : "scala",
      "source" : [
        "val quant_sample_default = s\"\"\"\n",
        "    {\n",
        "  \"quant_sample.key\": \"${key}\",\n",
        "  \"quant_sample.samples_folder\": \"${samples_dir_str}\",\n",
        "  \"quant_sample.salmon_indexes\" : {\n",
        "    ${salmon_indexes_str}   \n",
        "  },\n",
        "  \"quant_sample.transcripts2genes\" : {\n",
        "     ${salmon_gtfs_str}\n",
        "  }\n",
        "}\n",
        "\"\"\"\n",
        "write.over(Path((quant_sample_dir / \"quant_sample_default.json\").pathAsString), quant_sample_default, createFolders = true, perms = default_ammonite_permissions)"
      ],
      "outputs" : [
      ]
    },
    {
      "cell_type" : "code",
      "execution_count" : 50,
      "metadata" : {
        "cell.metadata.exec_info" : {
          "startTs" : 1606357247451,
          "endTs" : 1606357247666
        },
        "language" : "scala"
      },
      "language" : "scala",
      "source" : [
        "val quant_by_runs_default = s\"\"\"\n",
        "    {\n",
        "  \"quant_by_runs.key\": \"${key}\",\n",
        "  \"quant_by_runs.samples_folder\": \"${samples_dir_str}\",\n",
        "  \"quant_by_runs.salmon_indexes\" : {\n",
        "    ${salmon_indexes_str}   \n",
        "  },\n",
        "  \"quant_by_runs.transcripts2genes\" : {\n",
        "     ${salmon_gtfs_str}\n",
        "  }\n",
        "}\n",
        "\"\"\"\n",
        "write.over(Path((quant_by_runs_dir / \"quant_by_runs_default.json\").pathAsString), \n",
        "quant_by_runs_default, createFolders = true, perms = default_ammonite_permissions)"
      ],
      "outputs" : [
      ]
    },
    {
      "cell_type" : "code",
      "execution_count" : 51,
      "metadata" : {
        "cell.metadata.exec_info" : {
          "startTs" : 1606357250244,
          "endTs" : 1606357250479
        },
        "language" : "scala"
      },
      "language" : "scala",
      "source" : [
        "val quantification_def = s\"\"\"\n",
        "    {\n",
        "  \"quantification.key\": \"${key}\",\n",
        "  \"quantification.samples_folder\": \"${samples_dir_str}\",\n",
        "  \"quantification.salmon_indexes\" : {\n",
        "    ${salmon_indexes_str}   \n",
        "  },\n",
        "  \"quantification.transcripts2genes\" : {\n",
        "     ${salmon_gtfs_str}\n",
        "  }\n",
        "}\n",
        "\"\"\"\n",
        "write.over(Path((quantification_dir / \"quantification_default.json\").pathAsString), quantification_def,  perms = default_ammonite_permissions, createFolders = true)"
      ],
      "outputs" : [
      ]
    }
  ]
}