{
  "metadata" : {
    "config" : {
      "dependencies" : {
        "scala" : [
          "group.research.aging:spark-extensions_2.12:0.0.8",
          "group.aging-research:species-graph_2.12:0.0.2"
        ]
      },
      "exclusions" : [
      ],
      "repositories" : [
        {
          "maven" : {
            "base" : "https://mvnrepository.com/repos/central"
          }
        },
        {
          "maven" : {
            "base" : "http://oss.sonatype.org/content/repositories/snapshots"
          }
        },
        {
          "maven" : {
            "base" : "https://dl.bintray.com/comp-bio-aging/main/"
          }
        }
      ],
      "sparkConfig" : {
        "master" : "http://spark:7070[16]"
      },
      "env" : {
        
      }
    },
    "language_info" : {
      "name" : "scala"
    }
  },
  "nbformat" : 4,
  "nbformat_minor" : 0,
  "cells" : [
    {
      "cell_type" : "markdown",
      "execution_count" : 0,
      "metadata" : {
        "language" : "text"
      },
      "language" : "text",
      "source" : [
        "# write tables\n",
        "\n",
        "This is a text cell. Start editing!"
      ],
      "outputs" : [
      ]
    },
    {
      "cell_type" : "code",
      "execution_count" : 1,
      "metadata" : {
        "cell.metadata.exec_info" : {
          "startTs" : 1586279890105,
          "endTs" : 1586279890767
        },
        "language" : "scala"
      },
      "language" : "scala",
      "source" : [
        "import species.sparql._\n",
        "import pprint.pprintln\n",
        "import better.files._\n",
        "import File._\n",
        "import java.io.{File => JFile}\n"
      ],
      "outputs" : [
      ]
    },
    {
      "cell_type" : "code",
      "execution_count" : 2,
      "metadata" : {
        "cell.metadata.exec_info" : {
          "startTs" : 1586279890805,
          "endTs" : 1586279893455
        },
        "language" : "scala"
      },
      "language" : "scala",
      "source" : [
        "val g = Genes()\n",
        "val gs: Seq[String] = g.selectGenes()\n",
        "gs.toList"
      ],
      "outputs" : [
        {
          "execution_count" : 2,
          "data" : {
            "text/plain" : [
              "List(http://rdf.ebi.ac.uk/resource/ensembl/ENSG00000242265, http://rdf.ebi.ac.uk/resource/ensembl/ENSG00000139990, http://rdf.ebi.ac.uk/resource/ensembl/ENSG00000073921, http://rdf.ebi.ac.uk/resource/ensembl/ENSG00000139687, http://rdf.ebi.ac.uk/resource"
            ]
          },
          "metadata" : {
            "name" : "Out",
            "type" : "List[String]"
          },
          "output_type" : "execute_result"
        }
      ]
    },
    {
      "cell_type" : "code",
      "execution_count" : 3,
      "metadata" : {
        "cell.metadata.exec_info" : {
          "startTs" : 1586284606268,
          "endTs" : 1586284607405
        },
        "language" : "scala"
      },
      "language" : "scala",
      "source" : [
        "val samples = new Samples()\n",
        "val sps = samples.get_mammals_in_samples()//.filter(s=>s != \"http://aging-research.group/resource/Heterocephalus_glaber\")\n",
        "pprintln(sps) "
      ],
      "outputs" : [
        {
          "name" : "stdout",
          "text" : [
            "\u001b[33mVector\u001b[39m(\n",
            "  \u001b[32m\"http://aging-research.group/resource/Ailuropoda_melanoleuca\"\u001b[39m,\n",
            "  \u001b[32m\"http://aging-research.group/resource/Bos_grunniens\"\u001b[39m,\n",
            "  \u001b[32m\"http://aging-research.group/resource/Bos_taurus\"\u001b[39m,\n",
            "  \u001b[32m\"http://aging-research.group/resource/Callithrix_jacchus\"\u001b[39m,\n",
            "  \u001b[32m\"http://aging-research.group/resource/Capra_hircus\"\u001b[39m,\n",
            "  \u001b[32m\"http://aging-research.group/resource/Cavia_aperea\"\u001b[39m,\n",
            "  \u001b[32m\"http://aging-research.group/resource/Cavia_porcellus\"\u001b[39m,\n",
            "  \u001b[32m\"http://aging-research.group/resource/Equus_caballus\"\u001b[39m,\n",
            "  \u001b[32m\"http://aging-research.group/resource/Erinaceus_europaeus\"\u001b[39m,\n",
            "  \u001b[32m\"http://aging-research.group/resource/Felis_catus\"\u001b[39m,\n",
            "  \u001b[32m\"http://aging-research.group/resource/Heterocephalus_glaber\"\u001b[39m,\n",
            "  \u001b[32m\"http://aging-research.group/resource/Homo_sapiens\"\u001b[39m,\n",
            "  \u001b[32m\"http://aging-research.group/resource/Macaca_fascicularis\"\u001b[39m,\n",
            "  \u001b[32m\"http://aging-research.group/resource/Macaca_mulatta\"\u001b[39m,\n",
            "  \u001b[32m\"http://aging-research.group/resource/Macaca_nemestrina\"\u001b[39m,\n",
            "  \u001b[32m\"http://aging-research.group/resource/Meriones_unguiculatus\"\u001b[39m,\n",
            "  \u001b[32m\"http://aging-research.group/resource/Mesocricetus_auratus\"\u001b[39m,\n",
            "  \u001b[32m\"http://aging-research.group/resource/Microcebus_murinus\"\u001b[39m,\n",
            "  \u001b[32m\"http://aging-research.group/resource/Monodelphis_domestica\"\u001b[39m,\n",
            "  \u001b[32m\"http://aging-research.group/resource/Mus_caroli\"\u001b[39m,\n",
            "  \u001b[32m\"http://aging-research.group/resource/Mus_musculus\"\u001b[39m,\n",
            "  \u001b[32m\"http://aging-research.group/resource/Mus_spicilegus\"\u001b[39m,\n",
            "  \u001b[32m\"http://aging-research.group/resource/Ornithorhynchus_anatinus\"\u001b[39m,\n",
            "  \u001b[32m\"http://aging-research.group/resource/Oryctolagus_cuniculus\"\u001b[39m,\n",
            "  \u001b[32m\"http://aging-research.group/resource/Otolemur_garnettii\"\u001b[39m,\n",
            "  \u001b[32m\"http://aging-research.group/resource/Ovis_aries\"\u001b[39m,\n",
            "  \u001b[32m\"http://aging-research.group/resource/Pan_paniscus\"\u001b[39m,\n",
            "  \u001b[32m\"http://aging-research.group/resource/Pan_troglodytes\"\u001b[39m,\n",
            "  \u001b[32m\"http://aging-research.group/resource/Phascolarctos_cinereus\"\u001b[39m,\n",
            "  \u001b[32m\"http://aging-research.group/resource/Rattus_norvegicus\"\u001b[39m,\n",
            "  \u001b[32m\"http://aging-research.group/resource/Rhinolophus_ferrumequinum\"\u001b[39m,\n",
            "  \u001b[32m\"http://aging-research.group/resource/Rhinopithecus_bieti\"\u001b[39m,\n",
            "  \u001b[32m\"http://aging-research.group/resource/Sarcophilus_harrisii\"\u001b[39m,\n",
            "  \u001b[32m\"http://aging-research.group/resource/Suricata_suricatta\"\u001b[39m,\n",
            "  \u001b[32m\"http://aging-research.group/resource/Sus_scrofa\"\u001b[39m,\n",
            "  \u001b[32m\"http://aging-research.group/resource/Tupaia_belangeri\"\u001b[39m,\n",
            "  \u001b[32m\"http://aging-research.group/resource/Tursiops_truncatus\"\u001b[39m,\n",
            "  \u001b[32m\"http://aging-research.group/resource/Ursus_americanus\"\u001b[39m\n",
            ")\n"
          ],
          "output_type" : "stream"
        }
      ]
    },
    {
      "cell_type" : "code",
      "execution_count" : 4,
      "metadata" : {
        "cell.metadata.exec_info" : {
          "startTs" : 1586284620461,
          "endTs" : 1586284936968
        },
        "language" : "scala"
      },
      "language" : "scala",
      "source" : [
        "  val sl = 1000\n",
        "  val genes= gs.sliding(sl, sl).map(_.toVector).toVector\n",
        "  //pprintln(species)\n",
        "  for((slide, i) <- genes.zipWithIndex){\n",
        "    val res = g.get_orthologs_by_species(slide)\n",
        "    val p = OrthologyTable\n",
        "      .write_by_species(\"/data/species/mammals.tsv\",\n",
        "        sps,\n",
        "        res,headers = (i ==0)\n",
        "      )(OrthologyTable.agg_concat_ids())\n",
        "    println(\"slide_\"+i+\" :\" + p)\n",
        "  }\n",
        "  println(\"SUCCESSFULLY FINISHED!\")"
      ],
      "outputs" : [
        {
          "name" : "stdout",
          "text" : [
            "slide_0 :/data/species/mammals.tsv\n",
            "slide_1 :/data/species/mammals.tsv\n",
            "slide_2 :/data/species/mammals.tsv\n",
            "slide_3 :/data/species/mammals.tsv\n",
            "slide_4 :/data/species/mammals.tsv\n",
            "slide_5 :/data/species/mammals.tsv\n",
            "slide_6 :/data/species/mammals.tsv\n",
            "slide_7 :/data/species/mammals.tsv\n",
            "slide_8 :/data/species/mammals.tsv\n",
            "slide_9 :/data/species/mammals.tsv\n",
            "slide_10 :/data/species/mammals.tsv\n",
            "slide_11 :/data/species/mammals.tsv\n",
            "slide_12 :/data/species/mammals.tsv\n",
            "slide_13 :/data/species/mammals.tsv\n",
            "slide_14 :/data/species/mammals.tsv\n",
            "slide_15 :/data/species/mammals.tsv\n",
            "slide_16 :/data/species/mammals.tsv\n",
            "slide_17 :/data/species/mammals.tsv\n",
            "slide_18 :/data/species/mammals.tsv\n",
            "slide_19 :/data/species/mammals.tsv\n",
            "slide_20 :/data/species/mammals.tsv\n",
            "slide_21 :/data/species/mammals.tsv\n",
            "slide_22 :/data/species/mammals.tsv\n",
            "slide_23 :/data/species/mammals.tsv\n",
            "slide_24 :/data/species/mammals.tsv\n",
            "slide_25 :/data/species/mammals.tsv\n",
            "slide_26 :/data/species/mammals.tsv\n",
            "slide_27 :/data/species/mammals.tsv\n",
            "slide_28 :/data/species/mammals.tsv\n",
            "slide_29 :/data/species/mammals.tsv\n",
            "slide_30 :/data/species/mammals.tsv\n",
            "slide_31 :/data/species/mammals.tsv\n",
            "slide_32 :/data/species/mammals.tsv\n",
            "slide_33 :/data/species/mammals.tsv\n",
            "slide_34 :/data/species/mammals.tsv\n",
            "slide_35 :/data/species/mammals.tsv\n",
            "slide_36 :/data/species/mammals.tsv\n",
            "slide_37 :/data/species/mammals.tsv\n",
            "slide_38 :/data/species/mammals.tsv\n",
            "slide_39 :/data/species/mammals.tsv\n",
            "slide_40 :/data/species/mammals.tsv\n",
            "slide_41 :/data/species/mammals.tsv\n",
            "slide_42 :/data/species/mammals.tsv\n",
            "slide_43 :/data/species/mammals.tsv\n",
            "slide_44 :/data/species/mammals.tsv\n",
            "slide_45 :/data/species/mammals.tsv\n",
            "slide_46 :/data/species/mammals.tsv\n",
            "slide_47 :/data/species/mammals.tsv\n",
            "slide_48 :/data/species/mammals.tsv\n",
            "slide_49 :/data/species/mammals.tsv\n",
            "slide_50 :/data/species/mammals.tsv\n",
            "slide_51 :/data/species/mammals.tsv\n",
            "slide_52 :/data/species/mammals.tsv\n",
            "slide_53 :/data/species/mammals.tsv\n",
            "slide_54 :/data/species/mammals.tsv\n",
            "slide_55 :/data/species/mammals.tsv\n",
            "slide_56 :/data/species/mammals.tsv\n",
            "slide_57 :/data/species/mammals.tsv\n",
            "slide_58 :/data/species/mammals.tsv\n",
            "slide_59 :/data/species/mammals.tsv\n",
            "slide_60 :/data/species/mammals.tsv\n",
            "slide_61 :/data/species/mammals.tsv\n",
            "slide_62 :/data/species/mammals.tsv\n",
            "slide_63 :/data/species/mammals.tsv\n",
            "slide_64 :/data/species/mammals.tsv\n",
            "slide_65 :/data/species/mammals.tsv\n",
            "slide_66 :/data/species/mammals.tsv\n",
            "slide_67 :/data/species/mammals.tsv\n",
            "SUCCESSFULLY FINISHED!\n"
          ],
          "output_type" : "stream"
        }
      ]
    },
    {
      "cell_type" : "code",
      "execution_count" : 5,
      "metadata" : {
        "cell.metadata.exec_info" : {
          "startTs" : 1586284936975,
          "endTs" : 1586284937945
        },
        "language" : "scala"
      },
      "language" : "scala",
      "source" : [
        "val sps = samples.get_all_species_in_samples()\n",
        "pprint.pprintln(sps)"
      ],
      "outputs" : [
        {
          "name" : "stdout",
          "text" : [
            "\u001b[33mMap\u001b[39m(\n",
            "  \u001b[32m\"http://rdf.ebi.ac.uk/resource/ensembl/Aves\"\u001b[39m -> \u001b[33mVector\u001b[39m(\n",
            "    \u001b[32m\"http://aging-research.group/resource/Coturnix_japonica\"\u001b[39m,\n",
            "    \u001b[32m\"http://aging-research.group/resource/Cyanistes_caeruleus\"\u001b[39m,\n",
            "    \u001b[32m\"http://aging-research.group/resource/Gallus_gallus\"\u001b[39m,\n",
            "    \u001b[32m\"http://aging-research.group/resource/Meleagris_gallopavo\"\u001b[39m,\n",
            "    \u001b[32m\"http://aging-research.group/resource/Parus_major\"\u001b[39m,\n",
            "    \u001b[32m\"http://aging-research.group/resource/Strigops_habroptila\"\u001b[39m,\n",
            "    \u001b[32m\"http://aging-research.group/resource/Taeniopygia_guttata\"\u001b[39m,\n",
            "    \u001b[32m\"http://aging-research.group/resource/Zonotrichia_albicollis\"\u001b[39m\n",
            "  ),\n",
            "  \u001b[32m\"http://rdf.ebi.ac.uk/resource/ensembl/Mammalia\"\u001b[39m -> \u001b[33mVector\u001b[39m(\n",
            "    \u001b[32m\"http://aging-research.group/resource/Ailuropoda_melanoleuca\"\u001b[39m,\n",
            "    \u001b[32m\"http://aging-research.group/resource/Bos_grunniens\"\u001b[39m,\n",
            "    \u001b[32m\"http://aging-research.group/resource/Bos_taurus\"\u001b[39m,\n",
            "    \u001b[32m\"http://aging-research.group/resource/Callithrix_jacchus\"\u001b[39m,\n",
            "    \u001b[32m\"http://aging-research.group/resource/Capra_hircus\"\u001b[39m,\n",
            "    \u001b[32m\"http://aging-research.group/resource/Cavia_aperea\"\u001b[39m,\n",
            "    \u001b[32m\"http://aging-research.group/resource/Cavia_porcellus\"\u001b[39m,\n",
            "    \u001b[32m\"http://aging-research.group/resource/Equus_caballus\"\u001b[39m,\n",
            "    \u001b[32m\"http://aging-research.group/resource/Erinaceus_europaeus\"\u001b[39m,\n",
            "    \u001b[32m\"http://aging-research.group/resource/Felis_catus\"\u001b[39m,\n",
            "    \u001b[32m\"http://aging-research.group/resource/Heterocephalus_glaber\"\u001b[39m,\n",
            "    \u001b[32m\"http://aging-research.group/resource/Homo_sapiens\"\u001b[39m,\n",
            "    \u001b[32m\"http://aging-research.group/resource/Macaca_fascicularis\"\u001b[39m,\n",
            "    \u001b[32m\"http://aging-research.group/resource/Macaca_mulatta\"\u001b[39m,\n",
            "    \u001b[32m\"http://aging-research.group/resource/Macaca_nemestrina\"\u001b[39m,\n",
            "    \u001b[32m\"http://aging-research.group/resource/Meriones_unguiculatus\"\u001b[39m,\n",
            "    \u001b[32m\"http://aging-research.group/resource/Mesocricetus_auratus\"\u001b[39m,\n",
            "    \u001b[32m\"http://aging-research.group/resource/Microcebus_murinus\"\u001b[39m,\n",
            "    \u001b[32m\"http://aging-research.group/resource/Monodelphis_domestica\"\u001b[39m,\n",
            "    \u001b[32m\"http://aging-research.group/resource/Mus_caroli\"\u001b[39m,\n",
            "    \u001b[32m\"http://aging-research.group/resource/Mus_musculus\"\u001b[39m,\n",
            "    \u001b[32m\"http://aging-research.group/resource/Mus_spicilegus\"\u001b[39m,\n",
            "    \u001b[32m\"http://aging-research.group/resource/Ornithorhynchus_anatinus\"\u001b[39m,\n",
            "    \u001b[32m\"http://aging-research.group/resource/Oryctolagus_cuniculus\"\u001b[39m,\n",
            "    \u001b[32m\"http://aging-research.group/resource/Otolemur_garnettii\"\u001b[39m,\n",
            "    \u001b[32m\"http://aging-research.group/resource/Ovis_aries\"\u001b[39m,\n",
            "    \u001b[32m\"http://aging-research.group/resource/Pan_paniscus\"\u001b[39m,\n",
            "    \u001b[32m\"http://aging-research.group/resource/Pan_troglodytes\"\u001b[39m,\n",
            "    \u001b[32m\"http://aging-research.group/resource/Phascolarctos_cinereus\"\u001b[39m,\n",
            "    \u001b[32m\"http://aging-research.group/resource/Rattus_norvegicus\"\u001b[39m,\n",
            "    \u001b[32m\"http://aging-research.group/resource/Rhinolophus_ferrumequinum\"\u001b[39m,\n",
            "    \u001b[32m\"http://aging-research.group/resource/Rhinopithecus_bieti\"\u001b[39m,\n",
            "    \u001b[32m\"http://aging-research.group/resource/Sarcophilus_harrisii\"\u001b[39m,\n",
            "    \u001b[32m\"http://aging-research.group/resource/Suricata_suricatta\"\u001b[39m,\n",
            "    \u001b[32m\"http://aging-research.group/resource/Sus_scrofa\"\u001b[39m,\n",
            "    \u001b[32m\"http://aging-research.group/resource/Tupaia_belangeri\"\u001b[39m,\n",
            "    \u001b[32m\"http://aging-research.group/resource/Tursiops_truncatus\"\u001b[39m,\n",
            "    \u001b[32m\"http://aging-research.group/resource/Ursus_americanus\"\u001b[39m\n",
            "  ),\n",
            "  \u001b[32m\"http://rdf.ebi.ac.uk/resource/ensembl/Reptilia\"\u001b[39m -> \u001b[33mVector\u001b[39m(\n",
            "    \u001b[32m\"http://aging-research.group/resource/Anolis_carolinensis\"\u001b[39m,\n",
            "    \u001b[32m\"http://aging-research.group/resource/Gopherus_agassizii\"\u001b[39m,\n",
            "    \u001b[32m\"http://aging-research.group/resource/Pogona_vitticeps\"\u001b[39m\n",
            "  ),\n",
            "  \u001b[32m\"http://rdf.ebi.ac.uk/resource/ensembl/Chondrichthyes\"\u001b[39m -> \u001b[33mVector\u001b[39m(\n",
            "    \u001b[32m\"http://aging-research.group/resource/Callorhinchus_milii\"\u001b[39m\n",
            "  ),\n",
            "  \u001b[32m\"http://rdf.ebi.ac.uk/resource/ensembl/Coelacanthi\"\u001b[39m -> \u001b[33mVector\u001b[39m(\n",
            "    \u001b[32m\"http://aging-research.group/resource/Latimeria_chalumnae\"\u001b[39m\n",
            "  ),\n",
            "  \u001b[32m\"http://rdf.ebi.ac.uk/resource/ensembl/Teleostei\"\u001b[39m -> \u001b[33mVector\u001b[39m(\n",
            "    \u001b[32m\"http://aging-research.group/resource/Betta_splendens\"\u001b[39m,\n",
            "    \u001b[32m\"http://aging-research.group/resource/Clupea_harengus\"\u001b[39m,\n",
            "    \u001b[32m\"http://aging-research.group/resource/Electrophorus_electricus\"\u001b[39m,\n",
            "    \u001b[32m\"http://aging-research.group/resource/Esox_lucius\"\u001b[39m,\n",
            "    \u001b[32m\"http://aging-research.group/resource/Neogobius_melanostomus\"\u001b[39m,\n",
            "    \u001b[32m\"http://aging-research.group/resource/Scophthalmus_maximus\"\u001b[39m\n",
            "  )\n",
            ")\n"
          ],
          "output_type" : "stream"
        }
      ]
    },
    {
      "cell_type" : "code",
      "execution_count" : 6,
      "metadata" : {
        "cell.metadata.exec_info" : {
          "startTs" : 1586301278319,
          "endTs" : 1586301278471
        },
        "language" : "scala"
      },
      "language" : "scala",
      "source" : [
        "import org.apache.spark.rdd._\n",
        "import org.apache.spark.sql._\n",
        "import org.apache.spark.sql.types.StructType\n",
        "import org.apache.spark.sql.functions._\n",
        "import group.research.aging.spark.extensions._"
      ],
      "outputs" : [
      ]
    },
    {
      "cell_type" : "code",
      "execution_count" : 7,
      "metadata" : {
        "cell.metadata.exec_info" : {
          "startTs" : 1586301279894,
          "endTs" : 1586301290871
        },
        "language" : "scala"
      },
      "language" : "scala",
      "source" : [
        "val tissues = spark.readTSV(\"/data/species/tissues.tsv\", true)\n",
        "tissues.show(10,1000)"
      ],
      "outputs" : [
        {
          "name" : "stdout",
          "text" : [
            "+---------------------------------------------+-------+----------------------------------------------------+\n",
            "|                                         ?run|?tissue|                                         ?is_used_in|\n",
            "+---------------------------------------------+-------+----------------------------------------------------+\n",
            "|<https://www.ncbi.nlm.nih.gov/sra/SRR1287653>|  blood|<http://aging-research.group/resource/Cross-species>|\n",
            "|<https://www.ncbi.nlm.nih.gov/sra/SRR1287654>|  blood|<http://aging-research.group/resource/Cross-species>|\n",
            "|<https://www.ncbi.nlm.nih.gov/sra/SRR1287655>|  blood|<http://aging-research.group/resource/Cross-species>|\n",
            "|<https://www.ncbi.nlm.nih.gov/sra/SRR2308103>|  liver|<http://aging-research.group/resource/Cross-species>|\n",
            "| <https://www.ncbi.nlm.nih.gov/sra/SRR579557>| kidney|<http://aging-research.group/resource/Cross-species>|\n",
            "|<https://www.ncbi.nlm.nih.gov/sra/SRR5039741>|  liver|<http://aging-research.group/resource/Cross-species>|\n",
            "|<https://www.ncbi.nlm.nih.gov/sra/SRR5039773>|  liver|<http://aging-research.group/resource/Cross-species>|\n",
            "|<https://www.ncbi.nlm.nih.gov/sra/SRR1981979>|  brain|<http://aging-research.group/resource/Cross-species>|\n",
            "|<https://www.ncbi.nlm.nih.gov/sra/SRR1981981>|  liver|<http://aging-research.group/resource/Cross-species>|\n",
            "|<https://www.ncbi.nlm.nih.gov/sra/SRR1981987>|  heart|<http://aging-research.group/resource/Cross-species>|\n",
            "+---------------------------------------------+-------+----------------------------------------------------+\n",
            "only showing top 10 rows\n",
            "\n"
          ],
          "output_type" : "stream"
        }
      ]
    },
    {
      "cell_type" : "code",
      "execution_count" : 8,
      "metadata" : {
        "cell.metadata.exec_info" : {
          "startTs" : 1586301515153,
          "endTs" : 1586301515614
        },
        "language" : "scala"
      },
      "language" : "scala",
      "source" : [
        "val ts = tissues.filter($\"?tissue\" =!= \"\").filter($\"?is_used_in\" =!= \"\").as[(String, String, String)].collect.toList//.toDF(\"run\", \"tissue\", \"is_used_in\").collect\n",
        "ts.toList"
      ],
      "outputs" : [
        {
          "execution_count" : 8,
          "data" : {
            "text/plain" : [
              "List((<https://www.ncbi.nlm.nih.gov/sra/SRR1287653>,blood,<http://aging-research.group/resource/Cross-species>), (<https://www.ncbi.nlm.nih.gov/sra/SRR1287654>,blood,<http://aging-research.group/resource/Cross-species>), (<https://www.ncbi.nlm.nih.gov/sr"
            ]
          },
          "metadata" : {
            "name" : "Out",
            "type" : "List[Tuple3[String, String, String]]"
          },
          "output_type" : "execute_result"
        }
      ]
    },
    {
      "cell_type" : "code",
      "execution_count" : 9,
      "metadata" : {
        "cell.metadata.exec_info" : {
          "startTs" : 1586302620573,
          "endTs" : 1586302620728
        },
        "language" : "scala"
      },
      "language" : "scala",
      "source" : [
        "def tissues_to_quads(ls: List[Tuple3[String, String, String]]) = {\n",
        "    for{\n",
        "        (run, tissue, is_used_in) <- ls\n",
        "    }\n",
        "    yield \n",
        "    s\"\"\"${run} <http://aging-research.group/samples/of_tissue> <http://aging-research.group/resource/${tissue.head.toUpper}${tissue.tail.toLowerCase}> .\n",
        "${run} <http://aging-research.group/samples/used_in_project> ${is_used_in} .\"\"\"\n",
        "}"
      ],
      "outputs" : [
      ]
    },
    {
      "cell_type" : "code",
      "execution_count" : 10,
      "metadata" : {
        "cell.metadata.exec_info" : {
          "startTs" : 1586302621842,
          "endTs" : 1586302622207
        },
        "language" : "scala"
      },
      "language" : "scala",
      "source" : [
        "val str = s\"\"\"\n",
        "  INSERT DATA { \n",
        "    GRAPH <http://aging-research.group/samples/>\n",
        "      { \n",
        "        ${tissues_to_quads(ts).mkString(\"\\n\")}\n",
        "      }\n",
        "  } \n",
        "\"\"\"\n",
        "File(\"/data/species/insert_tissues.sparql\").createFileIfNotExists().write(str)"
      ],
      "outputs" : [
        {
          "execution_count" : 10,
          "data" : {
            "text/plain" : [
              "/data/species/insert_tissues.sparql"
            ]
          },
          "metadata" : {
            "name" : "Out",
            "type" : "qual$2.type"
          },
          "output_type" : "execute_result"
        }
      ]
    },
    {
      "cell_type" : "code",
      "execution_count" : 11,
      "metadata" : {
        "cell.metadata.exec_info" : {
          "startTs" : 1586302588663,
          "endTs" : 1586302588745
        },
        "language" : "scala"
      },
      "language" : "scala",
      "source" : [
      ],
      "outputs" : [
      ]
    },
    {
      "cell_type" : "code",
      "execution_count" : 12,
      "metadata" : {
        "language" : "scala"
      },
      "language" : "scala",
      "source" : [
      ],
      "outputs" : [
      ]
    }
  ]
}