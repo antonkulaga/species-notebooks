{
  "metadata" : {
    "config" : {
      "dependencies" : {
        "scala" : [
          "group.research.aging:spark-extensions_2.12:0.0.8",
          "group.aging-research:species-graph_2.12:0.0.2"
        ]
      },
      "exclusions" : [
      ],
      "repositories" : [
        {
          "maven" : {
            "base" : "http://central.maven.org/maven2/"
          }
        },
        {
          "maven" : {
            "base" : "http://oss.sonatype.org/content/repositories/snapshots"
          }
        },
        {
          "maven" : {
            "base" : "https://dl.bintray.com/comp-bio-aging/main/"
          }
        }
      ],
      "sparkConfig" : {
        "master" : "http://spark:7070[16]"
      },
      "env" : {
        
      }
    },
    "language_info" : {
      "name" : "scala"
    }
  },
  "nbformat" : 4,
  "nbformat_minor" : 0,
  "cells" : [
    {
      "cell_type" : "markdown",
      "execution_count" : 0,
      "metadata" : {
        "language" : "text"
      },
      "language" : "text",
      "source" : [
        "# write expression table\n",
        "\n",
        "This is a text cell. Start editing!"
      ],
      "outputs" : [
      ]
    },
    {
      "cell_type" : "code",
      "execution_count" : 1,
      "metadata" : {
        "cell.metadata.exec_info" : {
          "startTs" : 1586428620184,
          "endTs" : 1586428620857
        },
        "language" : "scala"
      },
      "language" : "scala",
      "source" : [
        "import org.apache.spark.rdd._\n",
        "import org.apache.spark.sql._\n",
        "import org.apache.spark.sql.types.StructType\n",
        "import org.apache.spark.sql.functions._\n",
        "import group.research.aging.spark.extensions._"
      ],
      "outputs" : [
      ]
    },
    {
      "cell_type" : "code",
      "execution_count" : 9,
      "metadata" : {
        "cell.metadata.exec_info" : {
          "startTs" : 1586428671023,
          "endTs" : 1586428671233
        },
        "language" : "scala"
      },
      "language" : "scala",
      "source" : [
        "import species.sparql._\n",
        "import pprint.pprintln\n",
        "import better.files._\n",
        "import File._\n",
        "import java.io.{File => JFile}"
      ],
      "outputs" : [
      ]
    },
    {
      "cell_type" : "markdown",
      "execution_count" : 6,
      "metadata" : {
        "language" : "text"
      },
      "language" : "text",
      "source" : [
        "<div><h2>Mammals</h2></div>"
      ],
      "outputs" : [
      ]
    },
    {
      "cell_type" : "code",
      "execution_count" : 2,
      "metadata" : {
        "cell.metadata.exec_info" : {
          "startTs" : 1586428811226,
          "endTs" : 1586428812183
        },
        "language" : "scala"
      },
      "language" : "scala",
      "source" : [
        "val mammals = spark.readTSV(\"/data/species/mammals.tsv\", true)\n",
        "println(mammals.columns.size)\n",
        "mammals.show(10,1000)"
      ],
      "outputs" : [
        {
          "name" : "stdout",
          "text" : [
            "38\n",
            "+-------------------+----------------------+----------------------+----------------------+----------------------+----------------------+----------------------+----------------------+----------------------+----------------------+----------------------+----------------------+----------------------+----------------------+----------------------+----------------------+----------------------+----------------------+----------------------+--------------------------+----------------------+----------------------+------------------------+----------------------+----------------------+----------------------+----------------------+----------------------+----------------------+----------------------+-------------------------+----------------------+----------------------+----------------------+----------------------+----------------------+----------------------+----------------------+\n",
            "|       Homo_sapiens|Ailuropoda_melanoleuca|         Bos_grunniens|            Bos_taurus|    Callithrix_jacchus|          Capra_hircus|          Cavia_aperea|       Cavia_porcellus|        Equus_caballus|   Erinaceus_europaeus|           Felis_catus| Heterocephalus_glaber|   Macaca_fascicularis|        Macaca_mulatta|     Macaca_nemestrina| Meriones_unguiculatus|  Mesocricetus_auratus|    Microcebus_murinus| Monodelphis_domestica|                Mus_caroli|          Mus_musculus|        Mus_spicilegus|Ornithorhynchus_anatinus| Oryctolagus_cuniculus|    Otolemur_garnettii|            Ovis_aries|          Pan_paniscus|       Pan_troglodytes|Phascolarctos_cinereus|     Rattus_norvegicus|Rhinolophus_ferrumequinum|   Rhinopithecus_bieti|  Sarcophilus_harrisii|    Suricata_suricatta|            Sus_scrofa|      Tupaia_belangeri|    Tursiops_truncatus|      Ursus_americanus|\n",
            "+-------------------+----------------------+----------------------+----------------------+----------------------+----------------------+----------------------+----------------------+----------------------+----------------------+----------------------+----------------------+----------------------+----------------------+----------------------+----------------------+----------------------+----------------------+----------------------+--------------------------+----------------------+----------------------+------------------------+----------------------+----------------------+----------------------+----------------------+----------------------+----------------------+----------------------+-------------------------+----------------------+----------------------+----------------------+----------------------+----------------------+----------------------+----------------------+\n",
            "|ens:ENSG00000005187|ens:ENSAMEG00000006222|ens:ENSBGRG00000026556|ens:ENSBTAG00000006447|ens:ENSCJAG00000035643|ens:ENSCHIG00000024519|                  null|ens:ENSCPOG00000008928|ens:ENSECAG00000006669|ens:ENSEEUG00000006889|ens:ENSFCAG00000015159|ens:ENSHGLG00100012363|ens:ENSMFAG00000029841|ens:ENSMMUG00000016745|ens:ENSMNEG00000031986|ens:ENSMUGG00000007207|ens:ENSMAUG00000014046|ens:ENSMICG00000030875|ens:ENSMODG00000007016|ens:MGP_CAROLIEiJ_G0030383|ens:ENSMUSG00000030935|ens:ENSMSIG00000001752|                    null|ens:ENSOCUG00000009900|ens:ENSOGAG00000011552|ens:ENSOARG00000013163|ens:ENSPPAG00000037343|ens:ENSPTRG00000007849|ens:ENSPCIG00000029240|ens:ENSRNOG00000032246|   ens:ENSRFEG00010020456|ens:ENSRBIG00000043460|ens:ENSSHAG00000004164|ens:ENSSSUG00005009674|ens:ENSSSCG00000007857|ens:ENSTBEG00000006365|ens:ENSTTRG00000016436|                  null|\n",
            "|ens:ENSG00000011295|ens:ENSAMEG00000004576|ens:ENSBGRG00000010803|ens:ENSBTAG00000013270|ens:ENSCJAG00000012193|ens:ENSCHIG00000022610|                  null|ens:ENSCPOG00000000846|ens:ENSECAG00000008225|ens:ENSEEUG00000002787|ens:ENSFCAG00000030206|ens:ENSHGLG00100003199|ens:ENSMFAG00000036185|ens:ENSMMUG00000008949|ens:ENSMNEG00000030246|ens:ENSMUGG00000017244|ens:ENSMAUG00000020275|ens:ENSMICG00000007108|                  null|ens:MGP_CAROLIEiJ_G0016490|ens:ENSMUSG00000042298|ens:ENSMSIG00000018495|  ens:ENSOANG00000012683|ens:ENSOCUG00000010451|ens:ENSOGAG00000009113|ens:ENSOARG00000017392|ens:ENSPPAG00000021467|ens:ENSPTRG00000008807|ens:ENSPCIG00000006942|ens:ENSRNOG00000002977|   ens:ENSRFEG00010010569|ens:ENSRBIG00000036704|                  null|ens:ENSSSUG00005021271|ens:ENSSSCG00000023747|ens:ENSTBEG00000014142|ens:ENSTTRG00000002021|ens:ENSUAMG00000019684|\n",
            "|ens:ENSG00000101049|ens:ENSAMEG00000003739|ens:ENSBGRG00000012136|                  null|ens:ENSCJAG00000017869|ens:ENSCHIG00000022211|ens:ENSCAPG00000006884|ens:ENSCPOG00000020415|                  null|                  null|ens:ENSFCAG00000001877|ens:ENSHGLG00100008029|ens:ENSMFAG00000032486|ens:ENSMMUG00000007925|ens:ENSMNEG00000035575|ens:ENSMUGG00000021047|                  null|ens:ENSMICG00000015157|                  null|ens:MGP_CAROLIEiJ_G0024608|ens:ENSMUSG00000017868|ens:ENSMSIG00000028516|                    null|                  null|ens:ENSOGAG00000007695|ens:ENSOARG00000003232|ens:ENSPPAG00000031264|ens:ENSPTRG00000013508|                  null|ens:ENSRNOG00000033573|   ens:ENSRFEG00010006923|ens:ENSRBIG00000041182|                  null|ens:ENSSSUG00005019897|ens:ENSSSCG00000024325|ens:ENSTBEG00000014653|ens:ENSTTRG00000004500|ens:ENSUAMG00000026358|\n",
            "|ens:ENSG00000013503|ens:ENSAMEG00000016022|ens:ENSBGRG00000016356|ens:ENSBTAG00000004781|ens:ENSCJAG00000014985|ens:ENSCHIG00000015728|ens:ENSCAPG00000007351|ens:ENSCPOG00000004891|ens:ENSECAG00000019086|ens:ENSEEUG00000013337|ens:ENSFCAG00000015617|ens:ENSHGLG00100004659|ens:ENSMFAG00000038425|ens:ENSMMUG00000005208|ens:ENSMNEG00000044393|                  null|ens:ENSMAUG00000010200|ens:ENSMICG00000008910|ens:ENSMODG00000001884|ens:MGP_CAROLIEiJ_G0015677|ens:ENSMUSG00000034453|ens:ENSMSIG00000029878|  ens:ENSOANG00000005536|ens:ENSOCUG00000000884|ens:ENSOGAG00000014775|ens:ENSOARG00000017461|ens:ENSPPAG00000035177|ens:ENSPTRG00000005390|ens:ENSPCIG00000009510|ens:ENSRNOG00000007432|   ens:ENSRFEG00010009356|ens:ENSRBIG00000031554|ens:ENSSHAG00000012005|ens:ENSSSUG00005006142|ens:ENSSSCG00000000169|ens:ENSTBEG00000017278|ens:ENSTTRG00000010682|ens:ENSUAMG00000024267|\n",
            "|ens:ENSG00000025796|ens:ENSAMEG00000008074|ens:ENSBGRG00000006724|ens:ENSBTAG00000016562|ens:ENSCJAG00000005998|ens:ENSCHIG00000021240|ens:ENSCAPG00000009467|ens:ENSCPOG00000002486|ens:ENSECAG00000006392|ens:ENSEEUG00000003109|ens:ENSFCAG00000002253|ens:ENSHGLG00100001847|ens:ENSMFAG00000034177|ens:ENSMMUG00000016598|ens:ENSMNEG00000037461|ens:ENSMUGG00000018725|ens:ENSMAUG00000021173|ens:ENSMICG00000014221|                  null|ens:MGP_CAROLIEiJ_G0015282|ens:ENSMUSG00000019802|ens:ENSMSIG00000030343|  ens:ENSOANG00000000777|ens:ENSOCUG00000016430|ens:ENSOGAG00000015346|ens:ENSOARG00000010911|ens:ENSPPAG00000011744|ens:ENSPTRG00000018470|ens:ENSPCIG00000009133|ens:ENSRNOG00000000314|   ens:ENSRFEG00010010840|ens:ENSRBIG00000029238|ens:ENSSHAG00000017510|ens:ENSSSUG00005018838|ens:ENSSSCG00000004382|ens:ENSTBEG00000013326|ens:ENSTTRG00000008813|ens:ENSUAMG00000017335|\n",
            "|ens:ENSG00000034971|ens:ENSAMEG00000016963|ens:ENSBGRG00000006423|ens:ENSBTAG00000020342|ens:ENSCJAG00000009689|ens:ENSCHIG00000014072|ens:ENSCAPG00000006844|ens:ENSCPOG00000030652|ens:ENSECAG00000010454|ens:ENSEEUG00000009764|ens:ENSFCAG00000013370|ens:ENSHGLG00100015927|ens:ENSMFAG00000041678|ens:ENSMMUG00000013649|ens:ENSMNEG00000027487|                  null|ens:ENSMAUG00000017072|ens:ENSMICG00000003947|ens:ENSMODG00000003796|ens:MGP_CAROLIEiJ_G0014773|ens:ENSMUSG00000026697|ens:ENSMSIG00000023398|  ens:ENSOANG00000000901|ens:ENSOCUG00000015957|ens:ENSOGAG00000011752|ens:ENSOARG00000013534|ens:ENSPPAG00000042159|ens:ENSPTRG00000001679|ens:ENSPCIG00000036170|ens:ENSRNOG00000003221|   ens:ENSRFEG00010011925|ens:ENSRBIG00000035857|ens:ENSSHAG00000017025|ens:ENSSSUG00005010801|ens:ENSSSCG00000035066|ens:ENSTBEG00000010571|ens:ENSTTRG00000005148|                  null|\n",
            "|ens:ENSG00000026508|ens:ENSAMEG00000007891|ens:ENSBGRG00000020517|ens:ENSBTAG00000011578|ens:ENSCJAG00000010912|ens:ENSCHIG00000021491|                  null|ens:ENSCPOG00000007792|ens:ENSECAG00000010267|ens:ENSEEUG00000002643|ens:ENSFCAG00000005887|ens:ENSHGLG00100007101|ens:ENSMFAG00000043892|ens:ENSMMUG00000004327|ens:ENSMNEG00000024975|                  null|ens:ENSMAUG00000004546|ens:ENSMICG00000003713|                  null|ens:MGP_CAROLIEiJ_G0024011|ens:ENSMUSG00000005087|ens:ENSMSIG00000005261|                    null|ens:ENSOCUG00000000715|ens:ENSOGAG00000016233|ens:ENSOARG00000018809|ens:ENSPPAG00000043653|ens:ENSPTRG00000003501|                  null|ens:ENSRNOG00000006094|   ens:ENSRFEG00010004816|ens:ENSRBIG00000035084|                  null|ens:ENSSSUG00005016272|ens:ENSSSCG00000013297|                  null|ens:ENSTTRG00000009009|                  null|\n",
            "|ens:ENSG00000117560|ens:ENSAMEG00000015538|ens:ENSBGRG00000007038|ens:ENSBTAG00000032808|ens:ENSCJAG00000063408|ens:ENSCHIG00000022754|                  null|                  null|ens:ENSECAG00000016549|ens:ENSEEUG00000006630|ens:ENSFCAG00000035145|ens:ENSHGLG00100006221|ens:ENSMFAG00000039338|ens:ENSMMUG00000065134|ens:ENSMNEG00000040462|ens:ENSMUGG00000016471|ens:ENSMAUG00000008049|ens:ENSMICG00000015725|                  null|ens:MGP_CAROLIEiJ_G0014766|ens:ENSMUSG00000000817|ens:ENSMSIG00000020712|  ens:ENSOANG00000000910|ens:ENSOCUG00000028219|ens:ENSOGAG00000011779|ens:ENSOARG00000014582|ens:ENSPPAG00000028524|ens:ENSPTRG00000001690|ens:ENSPCIG00000030038|ens:ENSRNOG00000002978|   ens:ENSRFEG00010012675|ens:ENSRBIG00000012010|ens:ENSSHAG00000018421|ens:ENSSSUG00005012170|ens:ENSSSCG00000022226|ens:ENSTBEG00000006297|                  null|                  null|\n",
            "|ens:ENSG00000009954|ens:ENSAMEG00000011177|ens:ENSBGRG00000011085|ens:ENSBTAG00000005197|ens:ENSCJAG00000016867|ens:ENSCHIG00000019115|ens:ENSCAPG00000011429|ens:ENSCPOG00000011829|ens:ENSECAG00000002889|ens:ENSEEUG00000001283|ens:ENSFCAG00000012672|ens:ENSHGLG00100003053|ens:ENSMFAG00000030535|ens:ENSMMUG00000014270|ens:ENSMNEG00000030954|ens:ENSMUGG00000023965|                  null|ens:ENSMICG00000037443|ens:ENSMODG00000013761|ens:MGP_CAROLIEiJ_G0027831|ens:ENSMUSG00000002748|ens:ENSMSIG00000011669|                    null|ens:ENSOCUG00000011202|ens:ENSOGAG00000002371|ens:ENSOARG00000012638|ens:ENSPPAG00000013451|ens:ENSPTRG00000019271|ens:ENSPCIG00000019188|ens:ENSRNOG00000001453|   ens:ENSRFEG00010009478|ens:ENSRBIG00000033638|ens:ENSSHAG00000015488|ens:ENSSSUG00005015827|ens:ENSSSCG00000027342|ens:ENSTBEG00000008952|ens:ENSTTRG00000002686|ens:ENSUAMG00000016595|\n",
            "|ens:ENSG00000004455|ens:ENSAMEG00000007410|ens:ENSBGRG00000016106|                  null|                  null|ens:ENSCHIG00000023918|ens:ENSCAPG00000016315|ens:ENSCPOG00000031301|ens:ENSECAG00000023800|ens:ENSEEUG00000005821|ens:ENSFCAG00000024237|                  null|                  null|ens:ENSMMUG00000006284|                  null|ens:ENSMUGG00000004252|                  null|ens:ENSMICG00000012452|ens:ENSMODG00000017363|ens:MGP_CAROLIEiJ_G0026507|ens:ENSMUSG00000028792|ens:ENSMSIG00000002827|  ens:ENSOANG00000005875|                  null|ens:ENSOGAG00000000818|ens:ENSOARG00000020868|ens:ENSPPAG00000038914|ens:ENSPTRG00000000499|                  null|ens:ENSRNOG00000000122|                     null|                  null|ens:ENSSHAG00000012990|ens:ENSSSUG00005007329|                  null|ens:ENSTBEG00000015493|ens:ENSTTRG00000008979|ens:ENSUAMG00000015195|\n",
            "+-------------------+----------------------+----------------------+----------------------+----------------------+----------------------+----------------------+----------------------+----------------------+----------------------+----------------------+----------------------+----------------------+----------------------+----------------------+----------------------+----------------------+----------------------+----------------------+--------------------------+----------------------+----------------------+------------------------+----------------------+----------------------+----------------------+----------------------+----------------------+----------------------+----------------------+-------------------------+----------------------+----------------------+----------------------+----------------------+----------------------+----------------------+----------------------+\n",
            "only showing top 10 rows\n",
            "\n"
          ],
          "output_type" : "stream"
        }
      ]
    },
    {
      "cell_type" : "markdown",
      "execution_count" : 5,
      "metadata" : {
        "language" : "text"
      },
      "language" : "text",
      "source" : [
        "## All Species\n",
        "\n"
      ],
      "outputs" : [
      ]
    },
    {
      "cell_type" : "code",
      "execution_count" : 3,
      "metadata" : {
        "cell.metadata.exec_info" : {
          "startTs" : 1586428827336,
          "endTs" : 1586428828370
        },
        "language" : "scala"
      },
      "language" : "scala",
      "source" : [
        "val sps = spark.readTSV(\"/data/species/species.tsv\", true)\n",
        "println(sps.columns.size)\n",
        "sps.show(10,1000)"
      ],
      "outputs" : [
        {
          "name" : "stdout",
          "text" : [
            "57\n",
            "+-------------------+----------------------+----------------------+----------------------+----------------------+----------------------+----------------------+----------------------+----------------------+----------------------+----------------------+----------------------+----------------------+----------------------+----------------------+----------------------+----------------------+----------------------+----------------------+----------------------+----------------------+----------------------+----------------------+----------------------+----------------------+----------------------+----------------------+--------------------------+----------------------+----------------------+------------------------+----------------------+----------------------+----------------------+----------------------+----------------------+----------------------+----------------------+-------------------------+----------------------+----------------------+----------------------+----------------------+----------------------+----------------------+----------------------+----------------------+----------------------+----------------------+-------------------+----------------------+----------------------+----------------------+------------------------+----------------------+----------------------+----------------------+\n",
            "|       Homo_sapiens|     Coturnix_japonica|   Cyanistes_caeruleus|         Gallus_gallus|   Meleagris_gallopavo|           Parus_major|   Strigops_habroptila|   Taeniopygia_guttata|Zonotrichia_albicollis|Ailuropoda_melanoleuca|         Bos_grunniens|            Bos_taurus|    Callithrix_jacchus|          Capra_hircus|          Cavia_aperea|       Cavia_porcellus|        Equus_caballus|   Erinaceus_europaeus|           Felis_catus| Heterocephalus_glaber|   Macaca_fascicularis|        Macaca_mulatta|     Macaca_nemestrina| Meriones_unguiculatus|  Mesocricetus_auratus|    Microcebus_murinus| Monodelphis_domestica|                Mus_caroli|          Mus_musculus|        Mus_spicilegus|Ornithorhynchus_anatinus| Oryctolagus_cuniculus|    Otolemur_garnettii|            Ovis_aries|          Pan_paniscus|       Pan_troglodytes|Phascolarctos_cinereus|     Rattus_norvegicus|Rhinolophus_ferrumequinum|   Rhinopithecus_bieti|  Sarcophilus_harrisii|    Suricata_suricatta|            Sus_scrofa|      Tupaia_belangeri|    Tursiops_truncatus|      Ursus_americanus|   Anolis_carolinensis|    Gopherus_agassizii|      Pogona_vitticeps|Callorhinchus_milii|   Latimeria_chalumnae|       Betta_splendens|       Clupea_harengus|Electrophorus_electricus|           Esox_lucius|Neogobius_melanostomus|  Scophthalmus_maximus|\n",
            "+-------------------+----------------------+----------------------+----------------------+----------------------+----------------------+----------------------+----------------------+----------------------+----------------------+----------------------+----------------------+----------------------+----------------------+----------------------+----------------------+----------------------+----------------------+----------------------+----------------------+----------------------+----------------------+----------------------+----------------------+----------------------+----------------------+----------------------+--------------------------+----------------------+----------------------+------------------------+----------------------+----------------------+----------------------+----------------------+----------------------+----------------------+----------------------+-------------------------+----------------------+----------------------+----------------------+----------------------+----------------------+----------------------+----------------------+----------------------+----------------------+----------------------+-------------------+----------------------+----------------------+----------------------+------------------------+----------------------+----------------------+----------------------+\n",
            "|ens:ENSG00000005187|ens:ENSCJPG00005018771|ens:ENSCCEG00000021414|ens:ENSGALG00000002200|ens:ENSMGAG00000010342|ens:ENSPMJG00000017134|                  null|ens:ENSTGUG00000019715|ens:ENSZALG00000000577|ens:ENSAMEG00000006222|ens:ENSBGRG00000026556|ens:ENSBTAG00000006447|ens:ENSCJAG00000035643|ens:ENSCHIG00000024519|                  null|ens:ENSCPOG00000008928|ens:ENSECAG00000006669|ens:ENSEEUG00000006889|ens:ENSFCAG00000015159|ens:ENSHGLG00100012363|ens:ENSMFAG00000029841|ens:ENSMMUG00000016745|ens:ENSMNEG00000031986|ens:ENSMUGG00000007207|ens:ENSMAUG00000014046|ens:ENSMICG00000030875|ens:ENSMODG00000007016|ens:MGP_CAROLIEiJ_G0030383|ens:ENSMUSG00000030935|ens:ENSMSIG00000001752|                    null|ens:ENSOCUG00000009900|ens:ENSOGAG00000011552|ens:ENSOARG00000013163|ens:ENSPPAG00000037343|ens:ENSPTRG00000007849|ens:ENSPCIG00000029240|ens:ENSRNOG00000032246|   ens:ENSRFEG00010020456|ens:ENSRBIG00000043460|ens:ENSSHAG00000004164|ens:ENSSSUG00005009674|ens:ENSSSCG00000007857|ens:ENSTBEG00000006365|ens:ENSTTRG00000016436|                  null|ens:ENSACAG00000009637|ens:ENSGAGG00000008232|ens:ENSPVIG00000008636|               null|ens:ENSLACG00000004631|                  null|ens:ENSCHAG00000014503|  ens:ENSEEEG00000013718|ens:ENSELUG00000000399|                  null|                  null|\n",
            "|ens:ENSG00000011295|ens:ENSCJPG00005014453|ens:ENSCCEG00000011183|ens:ENSGALG00000004416|ens:ENSMGAG00000006277|ens:ENSPMJG00000019681|ens:ENSSHBG00005015765|ens:ENSTGUG00000006675|ens:ENSZALG00000014443|ens:ENSAMEG00000004576|ens:ENSBGRG00000010803|ens:ENSBTAG00000013270|ens:ENSCJAG00000012193|ens:ENSCHIG00000022610|                  null|ens:ENSCPOG00000000846|ens:ENSECAG00000008225|ens:ENSEEUG00000002787|ens:ENSFCAG00000030206|ens:ENSHGLG00100003199|ens:ENSMFAG00000036185|ens:ENSMMUG00000008949|ens:ENSMNEG00000030246|ens:ENSMUGG00000017244|ens:ENSMAUG00000020275|ens:ENSMICG00000007108|                  null|ens:MGP_CAROLIEiJ_G0016490|ens:ENSMUSG00000042298|ens:ENSMSIG00000018495|  ens:ENSOANG00000012683|ens:ENSOCUG00000010451|ens:ENSOGAG00000009113|ens:ENSOARG00000017392|ens:ENSPPAG00000021467|ens:ENSPTRG00000008807|ens:ENSPCIG00000006942|ens:ENSRNOG00000002977|   ens:ENSRFEG00010010569|ens:ENSRBIG00000036704|                  null|ens:ENSSSUG00005021271|ens:ENSSSCG00000023747|ens:ENSTBEG00000014142|ens:ENSTTRG00000002021|ens:ENSUAMG00000019684|ens:ENSACAG00000014927|ens:ENSGAGG00000025578|ens:ENSPVIG00000008524|               null|ens:ENSLACG00000008943|ens:ENSBSLG00000022343|ens:ENSCHAG00000017081|  ens:ENSEEEG00000014865|ens:ENSELUG00000016887|                  null|                  null|\n",
            "|ens:ENSG00000101049|ens:ENSCJPG00005020840|ens:ENSCCEG00000006147|ens:ENSGALG00000003537|ens:ENSMGAG00000003077|ens:ENSPMJG00000002883|ens:ENSSHBG00005006563|ens:ENSTGUG00000004480|ens:ENSZALG00000013458|ens:ENSAMEG00000003739|ens:ENSBGRG00000012136|                  null|ens:ENSCJAG00000017869|ens:ENSCHIG00000022211|ens:ENSCAPG00000006884|ens:ENSCPOG00000020415|                  null|                  null|ens:ENSFCAG00000001877|ens:ENSHGLG00100008029|ens:ENSMFAG00000032486|ens:ENSMMUG00000007925|ens:ENSMNEG00000035575|ens:ENSMUGG00000021047|                  null|ens:ENSMICG00000015157|                  null|ens:MGP_CAROLIEiJ_G0024608|ens:ENSMUSG00000017868|ens:ENSMSIG00000028516|                    null|                  null|ens:ENSOGAG00000007695|ens:ENSOARG00000003232|ens:ENSPPAG00000031264|ens:ENSPTRG00000013508|                  null|ens:ENSRNOG00000033573|   ens:ENSRFEG00010006923|ens:ENSRBIG00000041182|                  null|ens:ENSSSUG00005019897|ens:ENSSSCG00000024325|ens:ENSTBEG00000014653|ens:ENSTTRG00000004500|ens:ENSUAMG00000026358|ens:ENSACAG00000002261|ens:ENSGAGG00000000577|ens:ENSPVIG00000022306|               null|ens:ENSLACG00000001395|ens:ENSBSLG00000003364|ens:ENSCHAG00000027097|  ens:ENSEEEG00000008927|ens:ENSELUG00000013281|ens:ENSNMLG00000020683|ens:ENSSMAG00000014701|\n",
            "|ens:ENSG00000013503|ens:ENSCJPG00005018285|ens:ENSCCEG00000007010|ens:ENSGALG00000012655|                  null|ens:ENSPMJG00000008714|ens:ENSSHBG00005000140|ens:ENSTGUG00000011035|ens:ENSZALG00000003371|ens:ENSAMEG00000016022|ens:ENSBGRG00000016356|ens:ENSBTAG00000004781|ens:ENSCJAG00000014985|ens:ENSCHIG00000015728|ens:ENSCAPG00000007351|ens:ENSCPOG00000004891|ens:ENSECAG00000019086|ens:ENSEEUG00000013337|ens:ENSFCAG00000015617|ens:ENSHGLG00100004659|ens:ENSMFAG00000038425|ens:ENSMMUG00000005208|ens:ENSMNEG00000044393|                  null|ens:ENSMAUG00000010200|ens:ENSMICG00000008910|ens:ENSMODG00000001884|ens:MGP_CAROLIEiJ_G0015677|ens:ENSMUSG00000034453|ens:ENSMSIG00000029878|  ens:ENSOANG00000005536|ens:ENSOCUG00000000884|ens:ENSOGAG00000014775|ens:ENSOARG00000017461|ens:ENSPPAG00000035177|ens:ENSPTRG00000005390|ens:ENSPCIG00000009510|ens:ENSRNOG00000007432|   ens:ENSRFEG00010009356|ens:ENSRBIG00000031554|ens:ENSSHAG00000012005|ens:ENSSSUG00005006142|ens:ENSSSCG00000000169|ens:ENSTBEG00000017278|ens:ENSTTRG00000010682|ens:ENSUAMG00000024267|ens:ENSACAG00000015400|ens:ENSGAGG00000014364|ens:ENSPVIG00000018790|               null|ens:ENSLACG00000017054|ens:ENSBSLG00000018625|ens:ENSCHAG00000006626|  ens:ENSEEEG00000004205|ens:ENSELUG00000023988|ens:ENSNMLG00000004586|ens:ENSSMAG00000006647|\n",
            "|ens:ENSG00000025796|ens:ENSCJPG00005009426|ens:ENSCCEG00000011140|ens:ENSGALG00000015308|ens:ENSMGAG00000013499|ens:ENSPMJG00000015322|ens:ENSSHBG00005006731|ens:ENSTGUG00000012155|ens:ENSZALG00000000397|ens:ENSAMEG00000008074|ens:ENSBGRG00000006724|ens:ENSBTAG00000016562|ens:ENSCJAG00000005998|ens:ENSCHIG00000021240|ens:ENSCAPG00000009467|ens:ENSCPOG00000002486|ens:ENSECAG00000006392|ens:ENSEEUG00000003109|ens:ENSFCAG00000002253|ens:ENSHGLG00100001847|ens:ENSMFAG00000034177|ens:ENSMMUG00000016598|ens:ENSMNEG00000037461|ens:ENSMUGG00000018725|ens:ENSMAUG00000021173|ens:ENSMICG00000014221|                  null|ens:MGP_CAROLIEiJ_G0015282|ens:ENSMUSG00000019802|ens:ENSMSIG00000030343|  ens:ENSOANG00000000777|ens:ENSOCUG00000016430|ens:ENSOGAG00000015346|ens:ENSOARG00000010911|ens:ENSPPAG00000011744|ens:ENSPTRG00000018470|ens:ENSPCIG00000009133|ens:ENSRNOG00000000314|   ens:ENSRFEG00010010840|ens:ENSRBIG00000029238|ens:ENSSHAG00000017510|ens:ENSSSUG00005018838|ens:ENSSSCG00000004382|ens:ENSTBEG00000013326|ens:ENSTTRG00000008813|ens:ENSUAMG00000017335|ens:ENSACAG00000005829|ens:ENSGAGG00000011162|ens:ENSPVIG00000002271|               null|ens:ENSLACG00000014494|ens:ENSBSLG00000023059|ens:ENSCHAG00000009562|  ens:ENSEEEG00000011637|ens:ENSELUG00000007214|ens:ENSNMLG00000018720|ens:ENSSMAG00000010393|\n",
            "|ens:ENSG00000034971|ens:ENSCJPG00005021460|                  null|ens:ENSGALG00000021074|ens:ENSMGAG00000004143|ens:ENSPMJG00000010492|ens:ENSSHBG00005009968|                  null|                  null|ens:ENSAMEG00000016963|ens:ENSBGRG00000006423|ens:ENSBTAG00000020342|ens:ENSCJAG00000009689|ens:ENSCHIG00000014072|ens:ENSCAPG00000006844|ens:ENSCPOG00000030652|ens:ENSECAG00000010454|ens:ENSEEUG00000009764|ens:ENSFCAG00000013370|ens:ENSHGLG00100015927|ens:ENSMFAG00000041678|ens:ENSMMUG00000013649|ens:ENSMNEG00000027487|                  null|ens:ENSMAUG00000017072|ens:ENSMICG00000003947|ens:ENSMODG00000003796|ens:MGP_CAROLIEiJ_G0014773|ens:ENSMUSG00000026697|ens:ENSMSIG00000023398|  ens:ENSOANG00000000901|ens:ENSOCUG00000015957|ens:ENSOGAG00000011752|ens:ENSOARG00000013534|ens:ENSPPAG00000042159|ens:ENSPTRG00000001679|ens:ENSPCIG00000036170|ens:ENSRNOG00000003221|   ens:ENSRFEG00010011925|ens:ENSRBIG00000035857|ens:ENSSHAG00000017025|ens:ENSSSUG00005010801|ens:ENSSSCG00000035066|ens:ENSTBEG00000010571|ens:ENSTTRG00000005148|                  null|                  null|ens:ENSGAGG00000023929|ens:ENSPVIG00000022439|               null|ens:ENSLACG00000009725|                  null|                  null|  ens:ENSEEEG00000011890|                  null|                  null|                  null|\n",
            "|ens:ENSG00000026508|ens:ENSCJPG00005015414|ens:ENSCCEG00000019620|ens:ENSGALG00000039080|                  null|ens:ENSPMJG00000009954|                  null|ens:ENSTGUG00000010085|                  null|ens:ENSAMEG00000007891|ens:ENSBGRG00000020517|ens:ENSBTAG00000011578|ens:ENSCJAG00000010912|ens:ENSCHIG00000021491|                  null|ens:ENSCPOG00000007792|ens:ENSECAG00000010267|ens:ENSEEUG00000002643|ens:ENSFCAG00000005887|ens:ENSHGLG00100007101|ens:ENSMFAG00000043892|ens:ENSMMUG00000004327|ens:ENSMNEG00000024975|                  null|ens:ENSMAUG00000004546|ens:ENSMICG00000003713|                  null|ens:MGP_CAROLIEiJ_G0024011|ens:ENSMUSG00000005087|ens:ENSMSIG00000005261|                    null|ens:ENSOCUG00000000715|ens:ENSOGAG00000016233|ens:ENSOARG00000018809|ens:ENSPPAG00000043653|ens:ENSPTRG00000003501|                  null|ens:ENSRNOG00000006094|   ens:ENSRFEG00010004816|ens:ENSRBIG00000035084|                  null|ens:ENSSSUG00005016272|ens:ENSSSCG00000013297|                  null|ens:ENSTTRG00000009009|                  null|                  null|                  null|                  null|               null|                  null|                  null|                  null|                    null|                  null|                  null|ens:ENSSMAG00000008404|\n",
            "|ens:ENSG00000117560|ens:ENSCJPG00005021470|ens:ENSCCEG00000021996|ens:ENSGALG00000003076|ens:ENSMGAG00000004375|ens:ENSPMJG00000010479|ens:ENSSHBG00005000862|ens:ENSTGUG00000017264|ens:ENSZALG00000008780|ens:ENSAMEG00000015538|ens:ENSBGRG00000007038|ens:ENSBTAG00000032808|ens:ENSCJAG00000063408|ens:ENSCHIG00000022754|                  null|                  null|ens:ENSECAG00000016549|ens:ENSEEUG00000006630|ens:ENSFCAG00000035145|ens:ENSHGLG00100006221|ens:ENSMFAG00000039338|ens:ENSMMUG00000065134|ens:ENSMNEG00000040462|ens:ENSMUGG00000016471|ens:ENSMAUG00000008049|ens:ENSMICG00000015725|                  null|ens:MGP_CAROLIEiJ_G0014766|ens:ENSMUSG00000000817|ens:ENSMSIG00000020712|  ens:ENSOANG00000000910|ens:ENSOCUG00000028219|ens:ENSOGAG00000011779|ens:ENSOARG00000014582|ens:ENSPPAG00000028524|ens:ENSPTRG00000001690|ens:ENSPCIG00000030038|ens:ENSRNOG00000002978|   ens:ENSRFEG00010012675|ens:ENSRBIG00000012010|ens:ENSSHAG00000018421|ens:ENSSSUG00005012170|ens:ENSSSCG00000022226|ens:ENSTBEG00000006297|                  null|                  null|ens:ENSACAG00000026155|ens:ENSGAGG00000022761|ens:ENSPVIG00000019002|               null|ens:ENSLACG00000015347|ens:ENSBSLG00000010777|                  null|  ens:ENSEEEG00000017479|ens:ENSELUG00000000265|                  null|ens:ENSSMAG00000017679|\n",
            "|ens:ENSG00000009954|ens:ENSCJPG00005004246|ens:ENSCCEG00000001617|ens:ENSGALG00000029408|ens:ENSMGAG00000001728|ens:ENSPMJG00000018839|ens:ENSSHBG00005011627|                  null|ens:ENSZALG00000004044|ens:ENSAMEG00000011177|ens:ENSBGRG00000011085|ens:ENSBTAG00000005197|ens:ENSCJAG00000016867|ens:ENSCHIG00000019115|ens:ENSCAPG00000011429|ens:ENSCPOG00000011829|ens:ENSECAG00000002889|ens:ENSEEUG00000001283|ens:ENSFCAG00000012672|ens:ENSHGLG00100003053|ens:ENSMFAG00000030535|ens:ENSMMUG00000014270|ens:ENSMNEG00000030954|ens:ENSMUGG00000023965|                  null|ens:ENSMICG00000037443|ens:ENSMODG00000013761|ens:MGP_CAROLIEiJ_G0027831|ens:ENSMUSG00000002748|ens:ENSMSIG00000011669|                    null|ens:ENSOCUG00000011202|ens:ENSOGAG00000002371|ens:ENSOARG00000012638|ens:ENSPPAG00000013451|ens:ENSPTRG00000019271|ens:ENSPCIG00000019188|ens:ENSRNOG00000001453|   ens:ENSRFEG00010009478|ens:ENSRBIG00000033638|ens:ENSSHAG00000015488|ens:ENSSSUG00005015827|ens:ENSSSCG00000027342|ens:ENSTBEG00000008952|ens:ENSTTRG00000002686|ens:ENSUAMG00000016595|                  null|ens:ENSGAGG00000015526|ens:ENSPVIG00000007623|               null|ens:ENSLACG00000018870|ens:ENSBSLG00000019669|ens:ENSCHAG00000011090|  ens:ENSEEEG00000022851|ens:ENSELUG00000018642|ens:ENSNMLG00000018847|ens:ENSSMAG00000020021|\n",
            "|ens:ENSG00000004455|ens:ENSCJPG00005001420|ens:ENSCCEG00000007286|ens:ENSGALG00000003597|ens:ENSMGAG00000005006|ens:ENSPMJG00000006027|ens:ENSSHBG00005006521|ens:ENSTGUG00000026076|ens:ENSZALG00000012258|ens:ENSAMEG00000007410|ens:ENSBGRG00000016106|                  null|                  null|ens:ENSCHIG00000023918|ens:ENSCAPG00000016315|ens:ENSCPOG00000031301|ens:ENSECAG00000023800|ens:ENSEEUG00000005821|ens:ENSFCAG00000024237|                  null|                  null|ens:ENSMMUG00000006284|                  null|ens:ENSMUGG00000004252|                  null|ens:ENSMICG00000012452|ens:ENSMODG00000017363|ens:MGP_CAROLIEiJ_G0026507|ens:ENSMUSG00000028792|ens:ENSMSIG00000002827|  ens:ENSOANG00000005875|                  null|ens:ENSOGAG00000000818|ens:ENSOARG00000020868|ens:ENSPPAG00000038914|ens:ENSPTRG00000000499|                  null|ens:ENSRNOG00000000122|                     null|                  null|ens:ENSSHAG00000012990|ens:ENSSSUG00005007329|                  null|ens:ENSTBEG00000015493|ens:ENSTTRG00000008979|ens:ENSUAMG00000015195|ens:ENSACAG00000003453|                  null|                  null|               null|ens:ENSLACG00000014380|ens:ENSBSLG00000020093|                  null|  ens:ENSEEEG00000014657|ens:ENSELUG00000023018|ens:ENSNMLG00000007758|ens:ENSSMAG00000018087|\n",
            "+-------------------+----------------------+----------------------+----------------------+----------------------+----------------------+----------------------+----------------------+----------------------+----------------------+----------------------+----------------------+----------------------+----------------------+----------------------+----------------------+----------------------+----------------------+----------------------+----------------------+----------------------+----------------------+----------------------+----------------------+----------------------+----------------------+----------------------+--------------------------+----------------------+----------------------+------------------------+----------------------+----------------------+----------------------+----------------------+----------------------+----------------------+----------------------+-------------------------+----------------------+----------------------+----------------------+----------------------+----------------------+----------------------+----------------------+----------------------+----------------------+----------------------+-------------------+----------------------+----------------------+----------------------+------------------------+----------------------+----------------------+----------------------+\n",
            "only showing top 10 rows\n",
            "\n"
          ],
          "output_type" : "stream"
        }
      ]
    },
    {
      "cell_type" : "code",
      "execution_count" : 8,
      "metadata" : {
        "cell.metadata.exec_info" : {
          "startTs" : 1586428834292,
          "endTs" : 1586428834942
        },
        "language" : "scala"
      },
      "language" : "scala",
      "source" : [
        "val columns = sps.columns.toList\n",
        "pprintln(columns)"
      ],
      "outputs" : [
        {
          "name" : "stdout",
          "text" : [
            "\u001b[33mList\u001b[39m(\n",
            "  \u001b[32m\"Homo_sapiens\"\u001b[39m,\n",
            "  \u001b[32m\"Coturnix_japonica\"\u001b[39m,\n",
            "  \u001b[32m\"Cyanistes_caeruleus\"\u001b[39m,\n",
            "  \u001b[32m\"Gallus_gallus\"\u001b[39m,\n",
            "  \u001b[32m\"Meleagris_gallopavo\"\u001b[39m,\n",
            "  \u001b[32m\"Parus_major\"\u001b[39m,\n",
            "  \u001b[32m\"Strigops_habroptila\"\u001b[39m,\n",
            "  \u001b[32m\"Taeniopygia_guttata\"\u001b[39m,\n",
            "  \u001b[32m\"Zonotrichia_albicollis\"\u001b[39m,\n",
            "  \u001b[32m\"Ailuropoda_melanoleuca\"\u001b[39m,\n",
            "  \u001b[32m\"Bos_grunniens\"\u001b[39m,\n",
            "  \u001b[32m\"Bos_taurus\"\u001b[39m,\n",
            "  \u001b[32m\"Callithrix_jacchus\"\u001b[39m,\n",
            "  \u001b[32m\"Capra_hircus\"\u001b[39m,\n",
            "  \u001b[32m\"Cavia_aperea\"\u001b[39m,\n",
            "  \u001b[32m\"Cavia_porcellus\"\u001b[39m,\n",
            "  \u001b[32m\"Equus_caballus\"\u001b[39m,\n",
            "  \u001b[32m\"Erinaceus_europaeus\"\u001b[39m,\n",
            "  \u001b[32m\"Felis_catus\"\u001b[39m,\n",
            "  \u001b[32m\"Heterocephalus_glaber\"\u001b[39m,\n",
            "  \u001b[32m\"Macaca_fascicularis\"\u001b[39m,\n",
            "  \u001b[32m\"Macaca_mulatta\"\u001b[39m,\n",
            "  \u001b[32m\"Macaca_nemestrina\"\u001b[39m,\n",
            "  \u001b[32m\"Meriones_unguiculatus\"\u001b[39m,\n",
            "  \u001b[32m\"Mesocricetus_auratus\"\u001b[39m,\n",
            "  \u001b[32m\"Microcebus_murinus\"\u001b[39m,\n",
            "  \u001b[32m\"Monodelphis_domestica\"\u001b[39m,\n",
            "  \u001b[32m\"Mus_caroli\"\u001b[39m,\n",
            "  \u001b[32m\"Mus_musculus\"\u001b[39m,\n",
            "  \u001b[32m\"Mus_spicilegus\"\u001b[39m,\n",
            "  \u001b[32m\"Ornithorhynchus_anatinus\"\u001b[39m,\n",
            "  \u001b[32m\"Oryctolagus_cuniculus\"\u001b[39m,\n",
            "  \u001b[32m\"Otolemur_garnettii\"\u001b[39m,\n",
            "  \u001b[32m\"Ovis_aries\"\u001b[39m,\n",
            "  \u001b[32m\"Pan_paniscus\"\u001b[39m,\n",
            "  \u001b[32m\"Pan_troglodytes\"\u001b[39m,\n",
            "  \u001b[32m\"Phascolarctos_cinereus\"\u001b[39m,\n",
            "  \u001b[32m\"Rattus_norvegicus\"\u001b[39m,\n",
            "  \u001b[32m\"Rhinolophus_ferrumequinum\"\u001b[39m,\n",
            "  \u001b[32m\"Rhinopithecus_bieti\"\u001b[39m,\n",
            "  \u001b[32m\"Sarcophilus_harrisii\"\u001b[39m,\n",
            "  \u001b[32m\"Suricata_suricatta\"\u001b[39m,\n",
            "  \u001b[32m\"Sus_scrofa\"\u001b[39m,\n",
            "  \u001b[32m\"Tupaia_belangeri\"\u001b[39m,\n",
            "  \u001b[32m\"Tursiops_truncatus\"\u001b[39m,\n",
            "  \u001b[32m\"Ursus_americanus\"\u001b[39m,\n",
            "  \u001b[32m\"Anolis_carolinensis\"\u001b[39m,\n",
            "  \u001b[32m\"Gopherus_agassizii\"\u001b[39m,\n",
            "  \u001b[32m\"Pogona_vitticeps\"\u001b[39m,\n",
            "  \u001b[32m\"Callorhinchus_milii\"\u001b[39m,\n",
            "  \u001b[32m\"Latimeria_chalumnae\"\u001b[39m,\n",
            "  \u001b[32m\"Betta_splendens\"\u001b[39m,\n",
            "  \u001b[32m\"Clupea_harengus\"\u001b[39m,\n",
            "  \u001b[32m\"Electrophorus_electricus\"\u001b[39m,\n",
            "  \u001b[32m\"Esox_lucius\"\u001b[39m,\n",
            "  \u001b[32m\"Neogobius_melanostomus\"\u001b[39m,\n",
            "  \u001b[32m\"Scophthalmus_maximus\"\u001b[39m\n",
            ")\n"
          ],
          "output_type" : "stream"
        }
      ]
    },
    {
      "cell_type" : "code",
      "execution_count" : 10,
      "metadata" : {
        "cell.metadata.exec_info" : {
          "startTs" : 1586433339640,
          "endTs" : 1586433340432
        },
        "language" : "scala"
      },
      "language" : "scala",
      "source" : [
        "def row_2_species(columns: Seq[String], rows: Seq[org.apache.spark.sql.Row]) = columns.map(c=>c->rows.map(row=>row.getAs[String](c)).toVector).toVector\n",
        "val species2genes: Seq[(String, Seq[String])] = row_2_species(sps.columns, sps.take(3)) \n",
        "pprintln(species2genes)"
      ],
      "outputs" : [
        {
          "name" : "stdout",
          "text" : [
            "\u001b[33mVector\u001b[39m(\n",
            "  (\u001b[32m\"Homo_sapiens\"\u001b[39m, \u001b[33mVector\u001b[39m(\u001b[32m\"ens:ENSG00000005187\"\u001b[39m, \u001b[32m\"ens:ENSG00000011295\"\u001b[39m, \u001b[32m\"ens:ENSG00000101049\"\u001b[39m)),\n",
            "  (\n",
            "    \u001b[32m\"Coturnix_japonica\"\u001b[39m,\n",
            "    \u001b[33mVector\u001b[39m(\u001b[32m\"ens:ENSCJPG00005018771\"\u001b[39m, \u001b[32m\"ens:ENSCJPG00005014453\"\u001b[39m, \u001b[32m\"ens:ENSCJPG00005020840\"\u001b[39m)\n",
            "  ),\n",
            "  (\n",
            "    \u001b[32m\"Cyanistes_caeruleus\"\u001b[39m,\n",
            "    \u001b[33mVector\u001b[39m(\u001b[32m\"ens:ENSCCEG00000021414\"\u001b[39m, \u001b[32m\"ens:ENSCCEG00000011183\"\u001b[39m, \u001b[32m\"ens:ENSCCEG00000006147\"\u001b[39m)\n",
            "  ),\n",
            "  (\n",
            "    \u001b[32m\"Gallus_gallus\"\u001b[39m,\n",
            "    \u001b[33mVector\u001b[39m(\u001b[32m\"ens:ENSGALG00000002200\"\u001b[39m, \u001b[32m\"ens:ENSGALG00000004416\"\u001b[39m, \u001b[32m\"ens:ENSGALG00000003537\"\u001b[39m)\n",
            "  ),\n",
            "  (\n",
            "    \u001b[32m\"Meleagris_gallopavo\"\u001b[39m,\n",
            "    \u001b[33mVector\u001b[39m(\u001b[32m\"ens:ENSMGAG00000010342\"\u001b[39m, \u001b[32m\"ens:ENSMGAG00000006277\"\u001b[39m, \u001b[32m\"ens:ENSMGAG00000003077\"\u001b[39m)\n",
            "  ),\n",
            "  (\n",
            "    \u001b[32m\"Parus_major\"\u001b[39m,\n",
            "    \u001b[33mVector\u001b[39m(\u001b[32m\"ens:ENSPMJG00000017134\"\u001b[39m, \u001b[32m\"ens:ENSPMJG00000019681\"\u001b[39m, \u001b[32m\"ens:ENSPMJG00000002883\"\u001b[39m)\n",
            "  ),\n",
            "  (\u001b[32m\"Strigops_habroptila\"\u001b[39m, \u001b[33mVector\u001b[39m(\u001b[32m\"null\"\u001b[39m, \u001b[32m\"ens:ENSSHBG00005015765\"\u001b[39m, \u001b[32m\"ens:ENSSHBG00005006563\"\u001b[39m)),\n",
            "  (\n",
            "    \u001b[32m\"Taeniopygia_guttata\"\u001b[39m,\n",
            "    \u001b[33mVector\u001b[39m(\u001b[32m\"ens:ENSTGUG00000019715\"\u001b[39m, \u001b[32m\"ens:ENSTGUG00000006675\"\u001b[39m, \u001b[32m\"ens:ENSTGUG00000004480\"\u001b[39m)\n",
            "  ),\n",
            "  (\n",
            "    \u001b[32m\"Zonotrichia_albicollis\"\u001b[39m,\n",
            "    \u001b[33mVector\u001b[39m(\u001b[32m\"ens:ENSZALG00000000577\"\u001b[39m, \u001b[32m\"ens:ENSZALG00000014443\"\u001b[39m, \u001b[32m\"ens:ENSZALG00000013458\"\u001b[39m)\n",
            "  ),\n",
            "  (\n",
            "    \u001b[32m\"Ailuropoda_melanoleuca\"\u001b[39m,\n",
            "    \u001b[33mVector\u001b[39m(\u001b[32m\"ens:ENSAMEG00000006222\"\u001b[39m, \u001b[32m\"ens:ENSAMEG00000004576\"\u001b[39m, \u001b[32m\"ens:ENSAMEG00000003739\"\u001b[39m)\n",
            "  ),\n",
            "  (\n",
            "    \u001b[32m\"Bos_grunniens\"\u001b[39m,\n",
            "    \u001b[33mVector\u001b[39m(\u001b[32m\"ens:ENSBGRG00000026556\"\u001b[39m, \u001b[32m\"ens:ENSBGRG00000010803\"\u001b[39m, \u001b[32m\"ens:ENSBGRG00000012136\"\u001b[39m)\n",
            "  ),\n",
            "  (\u001b[32m\"Bos_taurus\"\u001b[39m, \u001b[33mVector\u001b[39m(\u001b[32m\"ens:ENSBTAG00000006447\"\u001b[39m, \u001b[32m\"ens:ENSBTAG00000013270\"\u001b[39m, \u001b[32m\"null\"\u001b[39m)),\n",
            "  (\n",
            "    \u001b[32m\"Callithrix_jacchus\"\u001b[39m,\n",
            "    \u001b[33mVector\u001b[39m(\u001b[32m\"ens:ENSCJAG00000035643\"\u001b[39m, \u001b[32m\"ens:ENSCJAG00000012193\"\u001b[39m, \u001b[32m\"ens:ENSCJAG00000017869\"\u001b[39m)\n",
            "  ),\n",
            "  (\n",
            "    \u001b[32m\"Capra_hircus\"\u001b[39m,\n",
            "    \u001b[33mVector\u001b[39m(\u001b[32m\"ens:ENSCHIG00000024519\"\u001b[39m, \u001b[32m\"ens:ENSCHIG00000022610\"\u001b[39m, \u001b[32m\"ens:ENSCHIG00000022211\"\u001b[39m)\n",
            "  ),\n",
            "  (\u001b[32m\"Cavia_aperea\"\u001b[39m, \u001b[33mVector\u001b[39m(\u001b[32m\"null\"\u001b[39m, \u001b[32m\"null\"\u001b[39m, \u001b[32m\"ens:ENSCAPG00000006884\"\u001b[39m)),\n",
            "  (\n",
            "    \u001b[32m\"Cavia_porcellus\"\u001b[39m,\n",
            "    \u001b[33mVector\u001b[39m(\u001b[32m\"ens:ENSCPOG00000008928\"\u001b[39m, \u001b[32m\"ens:ENSCPOG00000000846\"\u001b[39m, \u001b[32m\"ens:ENSCPOG00000020415\"\u001b[39m)\n",
            "  ),\n",
            "  (\u001b[32m\"Equus_caballus\"\u001b[39m, \u001b[33mVector\u001b[39m(\u001b[32m\"ens:ENSECAG00000006669\"\u001b[39m, \u001b[32m\"ens:ENSECAG00000008225\"\u001b[39m, \u001b[32m\"null\"\u001b[39m)),\n",
            "  (\u001b[32m\"Erinaceus_europaeus\"\u001b[39m, \u001b[33mVector\u001b[39m(\u001b[32m\"ens:ENSEEUG00000006889\"\u001b[39m, \u001b[32m\"ens:ENSEEUG00000002787\"\u001b[39m, \u001b[32m\"null\"\u001b[39m)),\n",
            "  (\n",
            "    \u001b[32m\"Felis_catus\"\u001b[39m,\n",
            "    \u001b[33mVector\u001b[39m(\u001b[32m\"ens:ENSFCAG00000015159\"\u001b[39m, \u001b[32m\"ens:ENSFCAG00000030206\"\u001b[39m, \u001b[32m\"ens:ENSFCAG00000001877\"\u001b[39m)\n",
            "  ),\n",
            "  (\n",
            "    \u001b[32m\"Heterocephalus_glaber\"\u001b[39m,\n",
            "    \u001b[33mVector\u001b[39m(\u001b[32m\"ens:ENSHGLG00100012363\"\u001b[39m, \u001b[32m\"ens:ENSHGLG00100003199\"\u001b[39m, \u001b[32m\"ens:ENSHGLG00100008029\"\u001b[39m)\n",
            "  ),\n",
            "  (\n",
            "    \u001b[32m\"Macaca_fascicularis\"\u001b[39m,\n",
            "    \u001b[33mVector\u001b[39m(\u001b[32m\"ens:ENSMFAG00000029841\"\u001b[39m, \u001b[32m\"ens:ENSMFAG00000036185\"\u001b[39m, \u001b[32m\"ens:ENSMFAG00000032486\"\u001b[39m)\n",
            "  ),\n",
            "  (\n",
            "    \u001b[32m\"Macaca_mulatta\"\u001b[39m,\n",
            "    \u001b[33mVector\u001b[39m(\u001b[32m\"ens:ENSMMUG00000016745\"\u001b[39m, \u001b[32m\"ens:ENSMMUG00000008949\"\u001b[39m, \u001b[32m\"ens:ENSMMUG00000007925\"\u001b[39m)\n",
            "  ),\n",
            "  (\n",
            "    \u001b[32m\"Macaca_nemestrina\"\u001b[39m,\n",
            "    \u001b[33mVector\u001b[39m(\u001b[32m\"ens:ENSMNEG00000031986\"\u001b[39m, \u001b[32m\"ens:ENSMNEG00000030246\"\u001b[39m, \u001b[32m\"ens:ENSMNEG00000035575\"\u001b[39m)\n",
            "  ),\n",
            "  (\n",
            "    \u001b[32m\"Meriones_unguiculatus\"\u001b[39m,\n",
            "    \u001b[33mVector\u001b[39m(\u001b[32m\"ens:ENSMUGG00000007207\"\u001b[39m, \u001b[32m\"ens:ENSMUGG00000017244\"\u001b[39m, \u001b[32m\"ens:ENSMUGG00000021047\"\u001b[39m)\n",
            "  ),\n",
            "  (\u001b[32m\"Mesocricetus_auratus\"\u001b[39m, \u001b[33mVector\u001b[39m(\u001b[32m\"ens:ENSMAUG00000014046\"\u001b[39m, \u001b[32m\"ens:ENSMAUG00000020275\"\u001b[39m, \u001b[32m\"null\"\u001b[39m)),\n",
            "  (\n",
            "    \u001b[32m\"Microcebus_murinus\"\u001b[39m,\n",
            "    \u001b[33mVector\u001b[39m(\u001b[32m\"ens:ENSMICG00000030875\"\u001b[39m, \u001b[32m\"ens:ENSMICG00000007108\"\u001b[39m, \u001b[32m\"ens:ENSMICG00000015157\"\u001b[39m)\n",
            "  ),\n",
            "  (\u001b[32m\"Monodelphis_domestica\"\u001b[39m, \u001b[33mVector\u001b[39m(\u001b[32m\"ens:ENSMODG00000007016\"\u001b[39m, \u001b[32m\"null\"\u001b[39m, \u001b[32m\"null\"\u001b[39m)),\n",
            "  (\n",
            "    \u001b[32m\"Mus_caroli\"\u001b[39m,\n",
            "    \u001b[33mVector\u001b[39m(\u001b[32m\"ens:MGP_CAROLIEiJ_G0030383\"\u001b[39m, \u001b[32m\"ens:MGP_CAROLIEiJ_G0016490\"\u001b[39m, \u001b[32m\"ens:MGP_CAROLIEiJ_G0024608\"\u001b[39m)\n",
            "  ),\n",
            "  (\n",
            "    \u001b[32m\"Mus_musculus\"\u001b[39m,\n",
            "    \u001b[33mVector\u001b[39m(\u001b[32m\"ens:ENSMUSG00000030935\"\u001b[39m, \u001b[32m\"ens:ENSMUSG00000042298\"\u001b[39m, \u001b[32m\"ens:ENSMUSG00000017868\"\u001b[39m)\n",
            "  ),\n",
            "  (\n",
            "    \u001b[32m\"Mus_spicilegus\"\u001b[39m,\n",
            "    \u001b[33mVector\u001b[39m(\u001b[32m\"ens:ENSMSIG00000001752\"\u001b[39m, \u001b[32m\"ens:ENSMSIG00000018495\"\u001b[39m, \u001b[32m\"ens:ENSMSIG00000028516\"\u001b[39m)\n",
            "  ),\n",
            "  (\u001b[32m\"Ornithorhynchus_anatinus\"\u001b[39m, \u001b[33mVector\u001b[39m(\u001b[32m\"null\"\u001b[39m, \u001b[32m\"ens:ENSOANG00000012683\"\u001b[39m, \u001b[32m\"null\"\u001b[39m)),\n",
            "  (\u001b[32m\"Oryctolagus_cuniculus\"\u001b[39m, \u001b[33mVector\u001b[39m(\u001b[32m\"ens:ENSOCUG00000009900\"\u001b[39m, \u001b[32m\"ens:ENSOCUG00000010451\"\u001b[39m, \u001b[32m\"null\"\u001b[39m)),\n",
            "  (\n",
            "    \u001b[32m\"Otolemur_garnettii\"\u001b[39m,\n",
            "    \u001b[33mVector\u001b[39m(\u001b[32m\"ens:ENSOGAG00000011552\"\u001b[39m, \u001b[32m\"ens:ENSOGAG00000009113\"\u001b[39m, \u001b[32m\"ens:ENSOGAG00000007695\"\u001b[39m)\n",
            "  ),\n",
            "  (\n",
            "    \u001b[32m\"Ovis_aries\"\u001b[39m,\n",
            "    \u001b[33mVector\u001b[39m(\u001b[32m\"ens:ENSOARG00000013163\"\u001b[39m, \u001b[32m\"ens:ENSOARG00000017392\"\u001b[39m, \u001b[32m\"ens:ENSOARG00000003232\"\u001b[39m)\n",
            "  ),\n",
            "  (\n",
            "    \u001b[32m\"Pan_paniscus\"\u001b[39m,\n",
            "    \u001b[33mVector\u001b[39m(\u001b[32m\"ens:ENSPPAG00000037343\"\u001b[39m, \u001b[32m\"ens:ENSPPAG00000021467\"\u001b[39m, \u001b[32m\"ens:ENSPPAG00000031264\"\u001b[39m)\n",
            "  ),\n",
            "  (\n",
            "    \u001b[32m\"Pan_troglodytes\"\u001b[39m,\n",
            "    \u001b[33mVector\u001b[39m(\u001b[32m\"ens:ENSPTRG00000007849\"\u001b[39m, \u001b[32m\"ens:ENSPTRG00000008807\"\u001b[39m, \u001b[32m\"ens:ENSPTRG00000013508\"\u001b[39m)\n",
            "  ),\n",
            "  (\u001b[32m\"Phascolarctos_cinereus\"\u001b[39m, \u001b[33mVector\u001b[39m(\u001b[32m\"ens:ENSPCIG00000029240\"\u001b[39m, \u001b[32m\"ens:ENSPCIG00000006942\"\u001b[39m, \u001b[32m\"null\"\u001b[39m)),\n",
            "  (\n",
            "    \u001b[32m\"Rattus_norvegicus\"\u001b[39m,\n",
            "    \u001b[33mVector\u001b[39m(\u001b[32m\"ens:ENSRNOG00000032246\"\u001b[39m, \u001b[32m\"ens:ENSRNOG00000002977\"\u001b[39m, \u001b[32m\"ens:ENSRNOG00000033573\"\u001b[39m)\n",
            "  ),\n",
            "  (\n",
            "    \u001b[32m\"Rhinolophus_ferrumequinum\"\u001b[39m,\n",
            "    \u001b[33mVector\u001b[39m(\u001b[32m\"ens:ENSRFEG00010020456\"\u001b[39m, \u001b[32m\"ens:ENSRFEG00010010569\"\u001b[39m, \u001b[32m\"ens:ENSRFEG00010006923\"\u001b[39m)\n",
            "  ),\n",
            "  (\n",
            "    \u001b[32m\"Rhinopithecus_bieti\"\u001b[39m,\n",
            "    \u001b[33mVector\u001b[39m(\u001b[32m\"ens:ENSRBIG00000043460\"\u001b[39m, \u001b[32m\"ens:ENSRBIG00000036704\"\u001b[39m, \u001b[32m\"ens:ENSRBIG00000041182\"\u001b[39m)\n",
            "  ),\n",
            "  (\u001b[32m\"Sarcophilus_harrisii\"\u001b[39m, \u001b[33mVector\u001b[39m(\u001b[32m\"ens:ENSSHAG00000004164\"\u001b[39m, \u001b[32m\"null\"\u001b[39m, \u001b[32m\"null\"\u001b[39m)),\n",
            "  (\n",
            "    \u001b[32m\"Suricata_suricatta\"\u001b[39m,\n",
            "    \u001b[33mVector\u001b[39m(\u001b[32m\"ens:ENSSSUG00005009674\"\u001b[39m, \u001b[32m\"ens:ENSSSUG00005021271\"\u001b[39m, \u001b[32m\"ens:ENSSSUG00005019897\"\u001b[39m)\n",
            "  ),\n",
            "  (\n",
            "    \u001b[32m\"Sus_scrofa\"\u001b[39m,\n",
            "    \u001b[33mVector\u001b[39m(\u001b[32m\"ens:ENSSSCG00000007857\"\u001b[39m, \u001b[32m\"ens:ENSSSCG00000023747\"\u001b[39m, \u001b[32m\"ens:ENSSSCG00000024325\"\u001b[39m)\n",
            "  ),\n",
            "  (\n",
            "    \u001b[32m\"Tupaia_belangeri\"\u001b[39m,\n",
            "    \u001b[33mVector\u001b[39m(\u001b[32m\"ens:ENSTBEG00000006365\"\u001b[39m, \u001b[32m\"ens:ENSTBEG00000014142\"\u001b[39m, \u001b[32m\"ens:ENSTBEG00000014653\"\u001b[39m)\n",
            "  ),\n",
            "  (\n",
            "    \u001b[32m\"Tursiops_truncatus\"\u001b[39m,\n",
            "    \u001b[33mVector\u001b[39m(\u001b[32m\"ens:ENSTTRG00000016436\"\u001b[39m, \u001b[32m\"ens:ENSTTRG00000002021\"\u001b[39m, \u001b[32m\"ens:ENSTTRG00000004500\"\u001b[39m)\n",
            "  ),\n",
            "  (\u001b[32m\"Ursus_americanus\"\u001b[39m, \u001b[33mVector\u001b[39m(\u001b[32m\"null\"\u001b[39m, \u001b[32m\"ens:ENSUAMG00000019684\"\u001b[39m, \u001b[32m\"ens:ENSUAMG00000026358\"\u001b[39m)),\n",
            "  (\n",
            "    \u001b[32m\"Anolis_carolinensis\"\u001b[39m,\n",
            "    \u001b[33mVector\u001b[39m(\u001b[32m\"ens:ENSACAG00000009637\"\u001b[39m, \u001b[32m\"ens:ENSACAG00000014927\"\u001b[39m, \u001b[32m\"ens:ENSACAG00000002261\"\u001b[39m)\n",
            "  ),\n",
            "  (\n",
            "    \u001b[32m\"Gopherus_agassizii\"\u001b[39m,\n",
            "    \u001b[33mVector\u001b[39m(\u001b[32m\"ens:ENSGAGG00000008232\"\u001b[39m, \u001b[32m\"ens:ENSGAGG00000025578\"\u001b[39m, \u001b[32m\"ens:ENSGAGG00000000577\"\u001b[39m)\n",
            "  ),\n",
            "  (\n",
            "    \u001b[32m\"Pogona_vitticeps\"\u001b[39m,\n",
            "    \u001b[33mVector\u001b[39m(\u001b[32m\"ens:ENSPVIG00000008636\"\u001b[39m, \u001b[32m\"ens:ENSPVIG00000008524\"\u001b[39m, \u001b[32m\"ens:ENSPVIG00000022306\"\u001b[39m)\n",
            "  ),\n",
            "  (\u001b[32m\"Callorhinchus_milii\"\u001b[39m, \u001b[33mVector\u001b[39m(\u001b[32m\"null\"\u001b[39m, \u001b[32m\"null\"\u001b[39m, \u001b[32m\"null\"\u001b[39m)),\n",
            "  (\n",
            "    \u001b[32m\"Latimeria_chalumnae\"\u001b[39m,\n",
            "    \u001b[33mVector\u001b[39m(\u001b[32m\"ens:ENSLACG00000004631\"\u001b[39m, \u001b[32m\"ens:ENSLACG00000008943\"\u001b[39m, \u001b[32m\"ens:ENSLACG00000001395\"\u001b[39m)\n",
            "  ),\n",
            "  (\u001b[32m\"Betta_splendens\"\u001b[39m, \u001b[33mVector\u001b[39m(\u001b[32m\"null\"\u001b[39m, \u001b[32m\"ens:ENSBSLG00000022343\"\u001b[39m, \u001b[32m\"ens:ENSBSLG00000003364\"\u001b[39m)),\n",
            "  (\n",
            "    \u001b[32m\"Clupea_harengus\"\u001b[39m,\n",
            "    \u001b[33mVector\u001b[39m(\u001b[32m\"ens:ENSCHAG00000014503\"\u001b[39m, \u001b[32m\"ens:ENSCHAG00000017081\"\u001b[39m, \u001b[32m\"ens:ENSCHAG00000027097\"\u001b[39m)\n",
            "  ),\n",
            "  (\n",
            "    \u001b[32m\"Electrophorus_electricus\"\u001b[39m,\n",
            "    \u001b[33mVector\u001b[39m(\u001b[32m\"ens:ENSEEEG00000013718\"\u001b[39m, \u001b[32m\"ens:ENSEEEG00000014865\"\u001b[39m, \u001b[32m\"ens:ENSEEEG00000008927\"\u001b[39m)\n",
            "  ),\n",
            "  (\n",
            "    \u001b[32m\"Esox_lucius\"\u001b[39m,\n",
            "    \u001b[33mVector\u001b[39m(\u001b[32m\"ens:ENSELUG00000000399\"\u001b[39m, \u001b[32m\"ens:ENSELUG00000016887\"\u001b[39m, \u001b[32m\"ens:ENSELUG00000013281\"\u001b[39m)\n",
            "  ),\n",
            "  (\u001b[32m\"Neogobius_melanostomus\"\u001b[39m, \u001b[33mVector\u001b[39m(\u001b[32m\"null\"\u001b[39m, \u001b[32m\"null\"\u001b[39m, \u001b[32m\"ens:ENSNMLG00000020683\"\u001b[39m)),\n",
            "  (\u001b[32m\"Scophthalmus_maximus\"\u001b[39m, \u001b[33mVector\u001b[39m(\u001b[32m\"null\"\u001b[39m, \u001b[32m\"null\"\u001b[39m, \u001b[32m\"ens:ENSSMAG00000014701\"\u001b[39m))\n",
            ")\n"
          ],
          "output_type" : "stream"
        }
      ]
    },
    {
      "cell_type" : "code",
      "execution_count" : 11,
      "metadata" : {
        "language" : "scala"
      },
      "language" : "scala",
      "source" : [
      ],
      "outputs" : [
      ]
    }
  ]
}